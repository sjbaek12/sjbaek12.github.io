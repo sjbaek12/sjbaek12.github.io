{
  "nbformat": 4,
  "nbformat_minor": 0,
  "metadata": {
    "colab": {
      "name": "주택가격_앙상블",
      "provenance": [],
      "collapsed_sections": [],
      "authorship_tag": "ABX9TyNb5o8V1FsfRr3UhZzYZwIN",
      "include_colab_link": true
    },
    "kernelspec": {
      "name": "python3",
      "display_name": "Python 3"
    }
  },
  "cells": [
    {
      "cell_type": "markdown",
      "metadata": {
        "id": "view-in-github",
        "colab_type": "text"
      },
      "source": [
        "<a href=\"https://colab.research.google.com/github/sjbaek12/sjbaek12.github.io/blob/master/%EC%A3%BC%ED%83%9D%EA%B0%80%EA%B2%A9_%EC%95%99%EC%83%81%EB%B8%94.ipynb\" target=\"_parent\"><img src=\"https://colab.research.google.com/assets/colab-badge.svg\" alt=\"Open In Colab\"/></a>"
      ]
    },
    {
      "cell_type": "code",
      "metadata": {
        "id": "J7AG-vdJuyKN",
        "colab_type": "code",
        "colab": {
          "base_uri": "https://localhost:8080/",
          "height": 34
        },
        "outputId": "75589b62-c8f5-415c-b958-dd059b57d305"
      },
      "source": [
        "import keras"
      ],
      "execution_count": 1,
      "outputs": [
        {
          "output_type": "stream",
          "text": [
            "Using TensorFlow backend.\n"
          ],
          "name": "stderr"
        }
      ]
    },
    {
      "cell_type": "code",
      "metadata": {
        "id": "33i20PYev67v",
        "colab_type": "code",
        "colab": {}
      },
      "source": [
        "from keras.datasets import boston_housing\n",
        "\n",
        "(train_data, train_targets), (test_data, test_targets) =  boston_housing.load_data()"
      ],
      "execution_count": 2,
      "outputs": []
    },
    {
      "cell_type": "code",
      "metadata": {
        "id": "Fk7NIZ9Awczx",
        "colab_type": "code",
        "colab": {}
      },
      "source": [
        " from sklearn.model_selection import train_test_split"
      ],
      "execution_count": 3,
      "outputs": []
    },
    {
      "cell_type": "code",
      "metadata": {
        "id": "tfpGSoFtweaZ",
        "colab_type": "code",
        "colab": {}
      },
      "source": [
        "x_train, x_val, y_train, y_val = train_test_split(train_data, train_targets, test_size=0.2, random_state=42)"
      ],
      "execution_count": 4,
      "outputs": []
    },
    {
      "cell_type": "code",
      "metadata": {
        "id": "ET7gs6tVyGYH",
        "colab_type": "code",
        "colab": {
          "base_uri": "https://localhost:8080/",
          "height": 34
        },
        "outputId": "f2c3f03f-250d-40f3-88f5-a4b84213cc7f"
      },
      "source": [
        "print(x_train.shape, x_val.shape)"
      ],
      "execution_count": 5,
      "outputs": [
        {
          "output_type": "stream",
          "text": [
            "(323, 13) (81, 13)\n"
          ],
          "name": "stdout"
        }
      ]
    },
    {
      "cell_type": "code",
      "metadata": {
        "id": "RwNNd7Nclsj-",
        "colab_type": "code",
        "colab": {
          "base_uri": "https://localhost:8080/",
          "height": 34
        },
        "outputId": "36fc2323-fcea-439c-c15c-b4f14df4a912"
      },
      "source": [
        "print(test_data.shape, test_targets.shape)"
      ],
      "execution_count": 6,
      "outputs": [
        {
          "output_type": "stream",
          "text": [
            "(102, 13) (102,)\n"
          ],
          "name": "stdout"
        }
      ]
    },
    {
      "cell_type": "code",
      "metadata": {
        "id": "QbcIvqe6yRbn",
        "colab_type": "code",
        "colab": {
          "base_uri": "https://localhost:8080/",
          "height": 318
        },
        "outputId": "0d95d3a8-4766-41a7-dabb-16e0c45f1151"
      },
      "source": [
        "import matplotlib.pyplot as plt\n",
        "import seaborn as sns\n",
        "\n",
        "sns.distplot(y_train)"
      ],
      "execution_count": 7,
      "outputs": [
        {
          "output_type": "stream",
          "text": [
            "/usr/local/lib/python3.6/dist-packages/statsmodels/tools/_testing.py:19: FutureWarning: pandas.util.testing is deprecated. Use the functions in the public API at pandas.testing instead.\n",
            "  import pandas.util.testing as tm\n"
          ],
          "name": "stderr"
        },
        {
          "output_type": "execute_result",
          "data": {
            "text/plain": [
              "<matplotlib.axes._subplots.AxesSubplot at 0x7f79c7c56390>"
            ]
          },
          "metadata": {
            "tags": []
          },
          "execution_count": 7
        },
        {
          "output_type": "display_data",
          "data": {
            "image/png": "[encoded data removed]",
            "text/plain": [
              "<Figure size 432x288 with 1 Axes>"
            ]
          },
          "metadata": {
            "tags": [],
            "needs_background": "light"
          }
        }
      ]
    },
    {
      "cell_type": "markdown",
      "metadata": {
        "id": "xoe71UF8AXwE",
        "colab_type": "text"
      },
      "source": [
        "가격을 로그로 전환해서 예측해 본다. 이경우 원래 가격이 낮을 수록 오차에 대한 손실이 크게 나타난다."
      ]
    },
    {
      "cell_type": "code",
      "metadata": {
        "id": "zwVBQGEcAJv_",
        "colab_type": "code",
        "colab": {}
      },
      "source": [
        "import numpy as np\n",
        "\n",
        "y_train_log = np.log(y_train)\n",
        "y_val_log = np.log(y_val)"
      ],
      "execution_count": 8,
      "outputs": []
    },
    {
      "cell_type": "code",
      "metadata": {
        "id": "vOprwhza_7hE",
        "colab_type": "code",
        "colab": {
          "base_uri": "https://localhost:8080/",
          "height": 282
        },
        "outputId": "3de11273-de2a-4843-b16e-e2d4d789a80d"
      },
      "source": [
        "sns.distplot(y_train_log)\n",
        "print(y_train_log.shape)"
      ],
      "execution_count": 9,
      "outputs": [
        {
          "output_type": "stream",
          "text": [
            "(323,)\n"
          ],
          "name": "stdout"
        },
        {
          "output_type": "display_data",
          "data": {
            "image/png": "[encoded data removed]",
            "text/plain": [
              "<Figure size 432x288 with 1 Axes>"
            ]
          },
          "metadata": {
            "tags": [],
            "needs_background": "light"
          }
        }
      ]
    },
    {
      "cell_type": "code",
      "metadata": {
        "id": "5qu2iqrR_7ta",
        "colab_type": "code",
        "colab": {}
      },
      "source": [
        "mean = x_train.mean(axis=0)\n",
        "x_train -= mean\n",
        "std = x_train.std(axis=0)\n",
        "x_train /= std\n",
        "\n",
        "# Test data도 정규화를 해준다\n",
        "\n",
        "x_val -= mean\n",
        "x_val /= std\n",
        "\n",
        "test_data -= mean\n",
        "test_data /= std"
      ],
      "execution_count": 10,
      "outputs": []
    },
    {
      "cell_type": "code",
      "metadata": {
        "id": "WUrFmS76AsUc",
        "colab_type": "code",
        "colab": {}
      },
      "source": [
        "from keras.models import Model\n",
        "from keras import layers\n",
        "from keras.layers import Dropout # Drop0ut을 사용한다.\n",
        "from keras import Input\n",
        "from keras import regularizers # 규제를 사용한다.\n",
        "import tensorflow as tf"
      ],
      "execution_count": 11,
      "outputs": []
    },
    {
      "cell_type": "markdown",
      "metadata": {
        "id": "RlgvOggtoWVF",
        "colab_type": "text"
      },
      "source": [
        "모델의 기본구조이다"
      ]
    },
    {
      "cell_type": "code",
      "metadata": {
        "id": "JkmDC8O3AslL",
        "colab_type": "code",
        "colab": {
          "base_uri": "https://localhost:8080/",
          "height": 298
        },
        "outputId": "e7907518-1445-4964-9ad1-4f4f4167ad66"
      },
      "source": [
        "input_x = Input(shape=(13,)) # shape=(input_dim,)\n",
        "middle_x = layers.Dense(64, activation='relu', kernel_regularizer=regularizers.l2(0.0))(input_x)\n",
        "# middle_x = layers.Dropout(0.5)(middle_x)\n",
        "middle_x = layers.Dense(64, activation='relu', kernel_regularizer=regularizers.l2(0.0))(middle_x)\n",
        "output_y = layers.Dense(1, )(middle_x)\n",
        "model1 = Model(input_x, output_y)\n",
        "model1.summary()"
      ],
      "execution_count": 12,
      "outputs": [
        {
          "output_type": "stream",
          "text": [
            "Model: \"model_1\"\n",
            "_________________________________________________________________\n",
            "Layer (type)                 Output Shape              Param #   \n",
            "=================================================================\n",
            "input_1 (InputLayer)         (None, 13)                0         \n",
            "_________________________________________________________________\n",
            "dense_1 (Dense)              (None, 64)                896       \n",
            "_________________________________________________________________\n",
            "dense_2 (Dense)              (None, 64)                4160      \n",
            "_________________________________________________________________\n",
            "dense_3 (Dense)              (None, 1)                 65        \n",
            "=================================================================\n",
            "Total params: 5,121\n",
            "Trainable params: 5,121\n",
            "Non-trainable params: 0\n",
            "_________________________________________________________________\n"
          ],
          "name": "stdout"
        }
      ]
    },
    {
      "cell_type": "markdown",
      "metadata": {
        "id": "mU1WnUPUodnE",
        "colab_type": "text"
      },
      "source": [
        "model.prediction에서 log 적용과 비적용을 구분하기 위해서 로그를 활용할 경우 model1 = Model(input_x, output_y)로 구분해 준다"
      ]
    },
    {
      "cell_type": "code",
      "metadata": {
        "id": "IfA60dJMA1lT",
        "colab_type": "code",
        "colab": {}
      },
      "source": [
        "model1 = Model(input_x, output_y)\n",
        "\n",
        "epochs_num = 100\n",
        "model1.compile(optimizer=tf.keras.optimizers.RMSprop(0.001), loss='mse', metrics=['mae'])\n",
        "\n",
        "# y_train_log를 fitting에 사용하였다\n",
        "\n",
        "history1 = model1.fit(x_train, y_train_log, validation_data=(x_val, y_val_log), epochs=epochs_num, verbose=0)"
      ],
      "execution_count": 13,
      "outputs": []
    },
    {
      "cell_type": "code",
      "metadata": {
        "id": "0aJhfbhjBBWL",
        "colab_type": "code",
        "colab": {
          "base_uri": "https://localhost:8080/",
          "height": 34
        },
        "outputId": "02b2f501-7ba1-4e96-eb79-fd8787fa10e2"
      },
      "source": [
        "history1_dic = history1.history\n",
        "history1_dic.keys()"
      ],
      "execution_count": 14,
      "outputs": [
        {
          "output_type": "execute_result",
          "data": {
            "text/plain": [
              "dict_keys(['val_loss', 'val_mae', 'loss', 'mae'])"
            ]
          },
          "metadata": {
            "tags": []
          },
          "execution_count": 14
        }
      ]
    },
    {
      "cell_type": "code",
      "metadata": {
        "id": "O0AE4IWABLOj",
        "colab_type": "code",
        "colab": {
          "base_uri": "https://localhost:8080/",
          "height": 52
        },
        "outputId": "961f0c18-e797-416f-8bb9-e2a4376be4e8"
      },
      "source": [
        "print(\"예측오차 :\", history1.history['val_mae'][-1])\n",
        "print(\"손실 :\", history1.history['val_loss'][-1])\n",
        "\n",
        "# y_train을 사용하는 것보다 y_train_log를 사용하면 예측오차는 작아진다. 그러면 예측품질이 좋아 진 것인가?"
      ],
      "execution_count": 16,
      "outputs": [
        {
          "output_type": "stream",
          "text": [
            "예측오차 : 0.1609112173318863\n",
            "손실 : 0.044198612602036676\n"
          ],
          "name": "stdout"
        }
      ]
    },
    {
      "cell_type": "code",
      "metadata": {
        "id": "PvKW-3D7B_hU",
        "colab_type": "code",
        "colab": {}
      },
      "source": [
        "y_val_log_predicted = model1.predict(x_val)\n",
        "\n",
        "# 모델이 로그로 학습되었으므로 x_val을 넣으면 y_val이 아니라 y_val_log_predict로 값을 가지게 된다"
      ],
      "execution_count": 17,
      "outputs": []
    },
    {
      "cell_type": "code",
      "metadata": {
        "id": "0aJKU715B_sZ",
        "colab_type": "code",
        "colab": {}
      },
      "source": [
        "y_val_predicted_from_log = np.exp(y_val_log_predicted)"
      ],
      "execution_count": 18,
      "outputs": []
    },
    {
      "cell_type": "code",
      "metadata": {
        "id": "uwqotiT8EhxC",
        "colab_type": "code",
        "colab": {}
      },
      "source": [
        "import matplotlib.pyplot as plt"
      ],
      "execution_count": 19,
      "outputs": []
    },
    {
      "cell_type": "code",
      "metadata": {
        "id": "vnzyH-eYErkK",
        "colab_type": "code",
        "colab": {
          "base_uri": "https://localhost:8080/",
          "height": 265
        },
        "outputId": "1df09234-6329-4d73-ab93-d7e48dd0fe41"
      },
      "source": [
        "plt.rcParams[\"figure.figsize\"] = (20,4)\n",
        "\n",
        "plt.plot(y_val[:50], 'bo', label='val_value')\n",
        "plt.plot(y_val_predicted_from_log[:50], 'r', label='val_predicted_log')\n",
        "plt.legend()\n",
        "plt.show()"
      ],
      "execution_count": 20,
      "outputs": [
        {
          "output_type": "display_data",
          "data": {
            "image/png": "[encoded data removed]",
            "text/plain": [
              "<Figure size 1440x288 with 1 Axes>"
            ]
          },
          "metadata": {
            "tags": [],
            "needs_background": "light"
          }
        }
      ]
    },
    {
      "cell_type": "code",
      "metadata": {
        "id": "t0Hc817LGWlc",
        "colab_type": "code",
        "colab": {
          "base_uri": "https://localhost:8080/",
          "height": 34
        },
        "outputId": "882b84e7-d8fe-4fb6-bc32-2d2772ab550b"
      },
      "source": [
        " "
      ],
      "execution_count": 20,
      "outputs": [
        {
          "output_type": "execute_result",
          "data": {
            "text/plain": [
              "100.00000000000004"
            ]
          },
          "metadata": {
            "tags": []
          },
          "execution_count": 20
        }
      ]
    },
    {
      "cell_type": "markdown",
      "metadata": {
        "id": "m0sNY53AGd8x",
        "colab_type": "text"
      },
      "source": [
        "로그로 치환하지 않은 모델은 그냥 model2로 정의한다."
      ]
    },
    {
      "cell_type": "code",
      "metadata": {
        "id": "LwVnKITwErrU",
        "colab_type": "code",
        "colab": {}
      },
      "source": [
        "model2 = Model(input_x, output_y)\n",
        "\n",
        "epochs_num = 100\n",
        "model2.compile(optimizer=tf.keras.optimizers.RMSprop(0.001), loss='mse', metrics=['mae'])\n",
        "\n",
        "history2 = model2.fit(x_train, y_train, validation_data=(x_val, y_val), epochs=epochs_num, verbose=0)"
      ],
      "execution_count": 21,
      "outputs": []
    },
    {
      "cell_type": "code",
      "metadata": {
        "id": "vIp3X3agPtFD",
        "colab_type": "code",
        "colab": {
          "base_uri": "https://localhost:8080/",
          "height": 34
        },
        "outputId": "a66a64a8-2756-49c8-d1cc-05465609a232"
      },
      "source": [
        "history2.history.keys()"
      ],
      "execution_count": 22,
      "outputs": [
        {
          "output_type": "execute_result",
          "data": {
            "text/plain": [
              "dict_keys(['val_loss', 'val_mae', 'loss', 'mae'])"
            ]
          },
          "metadata": {
            "tags": []
          },
          "execution_count": 22
        }
      ]
    },
    {
      "cell_type": "code",
      "metadata": {
        "id": "OvLmrkoJG0JJ",
        "colab_type": "code",
        "colab": {
          "base_uri": "https://localhost:8080/",
          "height": 52
        },
        "outputId": "067a5803-87d3-4f26-e0b1-736974739f17"
      },
      "source": [
        "print(\"예측오차 :\", history2.history['val_mae'][-1])\n",
        "print(\"손실 :\", history2.history['val_loss'][-1])"
      ],
      "execution_count": 23,
      "outputs": [
        {
          "output_type": "stream",
          "text": [
            "예측오차 : 2.5484142303466797\n",
            "손실 : 11.78609009730963\n"
          ],
          "name": "stdout"
        }
      ]
    },
    {
      "cell_type": "code",
      "metadata": {
        "id": "qHUoMledGnIZ",
        "colab_type": "code",
        "colab": {}
      },
      "source": [
        "y_val_predicted = model2.predict(x_val)"
      ],
      "execution_count": 25,
      "outputs": []
    },
    {
      "cell_type": "code",
      "metadata": {
        "id": "ht2ZeIF3HG_A",
        "colab_type": "code",
        "colab": {
          "base_uri": "https://localhost:8080/",
          "height": 265
        },
        "outputId": "c830460f-58ca-42f3-f69c-f805e832e23f"
      },
      "source": [
        "plt.rcParams[\"figure.figsize\"] = (20,4)\n",
        "\n",
        "plt.plot(y_val[:50], 'bo', label='val_value')\n",
        "plt.plot(y_val_predicted_from_log[:50], 'r', label='val_predicted_f_log')\n",
        "plt.plot(y_val_predicted[:50], 'g', label='val_predicted')\n",
        "plt.legend()\n",
        "plt.show()"
      ],
      "execution_count": 26,
      "outputs": [
        {
          "output_type": "display_data",
          "data": {
            "image/png": "[encoded data removed]",
            "text/plain": [
              "<Figure size 1440x288 with 1 Axes>"
            ]
          },
          "metadata": {
            "tags": [],
            "needs_background": "light"
          }
        }
      ]
    },
    {
      "cell_type": "code",
      "metadata": {
        "id": "1_Ru-9DlI02r",
        "colab_type": "code",
        "colab": {
          "base_uri": "https://localhost:8080/",
          "height": 52
        },
        "outputId": "46e3acf3-1548-45c1-de8c-4b9fca1cf99c"
      },
      "source": [
        "print(np.mean(np.absolute(y_val.reshape(-1,1)- y_val_predicted)))\n",
        "print(np.mean(np.absolute(y_val.reshape(-1,1)- y_val_predicted_from_log)))\n",
        "\n",
        "# 전체적인 평가 결과는 log를 사용하지 않은 편이 좋다."
      ],
      "execution_count": 27,
      "outputs": [
        {
          "output_type": "stream",
          "text": [
            "2.548414187961155\n",
            "3.0611455787847075\n"
          ],
          "name": "stdout"
        }
      ]
    },
    {
      "cell_type": "code",
      "metadata": {
        "id": "wum9m94bK-px",
        "colab_type": "code",
        "colab": {
          "base_uri": "https://localhost:8080/",
          "height": 34
        },
        "outputId": "63be86cd-4701-4e0b-f937-9960314da197"
      },
      "source": [
        "y_val1 = y_val.reshape(-1,1)\n",
        "len(y_val1)"
      ],
      "execution_count": 28,
      "outputs": [
        {
          "output_type": "execute_result",
          "data": {
            "text/plain": [
              "81"
            ]
          },
          "metadata": {
            "tags": []
          },
          "execution_count": 28
        }
      ]
    },
    {
      "cell_type": "code",
      "metadata": {
        "id": "lLyO90hsRXde",
        "colab_type": "code",
        "colab": {
          "base_uri": "https://localhost:8080/",
          "height": 34
        },
        "outputId": "fff64d5d-435e-439f-c858-64c1d960f701"
      },
      "source": [
        "y_mean=np.mean(y_train)\n",
        "print(y_mean)"
      ],
      "execution_count": 29,
      "outputs": [
        {
          "output_type": "stream",
          "text": [
            "22.86594427244582\n"
          ],
          "name": "stdout"
        }
      ]
    },
    {
      "cell_type": "markdown",
      "metadata": {
        "id": "NGWFC0IVOmRI",
        "colab_type": "text"
      },
      "source": [
        "모델을 구분하여 사용하기 위해서 나누어 분석해 본다\n",
        "주택가격이 평균 이상과 이하로 나눌 경우, log를 사용하면 평균이하에서 평가결과가 우수하고, log를 사용하지 않은 경우에는 평균이상에서 평가결과가 좋다"
      ]
    },
    {
      "cell_type": "code",
      "metadata": {
        "id": "TgxOG-xwLHUG",
        "colab_type": "code",
        "colab": {
          "base_uri": "https://localhost:8080/",
          "height": 52
        },
        "outputId": "2e4115c5-5647-477a-abc8-374b56e72d9d"
      },
      "source": [
        "# 이것은 log를 사용하지 않은 모델이다.\n",
        "# 결과를 보면 y_val[i]가 평균보다 높을 경우에 손실이 작다\n",
        "\n",
        "sqe_H = 0\n",
        "sqe_L = 0\n",
        "cH = 0\n",
        "cL = 0\n",
        "\n",
        "for i in range(len(y_val1)):\n",
        "  if y_val1[i] >= y_mean:\n",
        "    sqe = np.square(y_val1[i] - y_val_predicted[i])\n",
        "    sqe_H += sqe\n",
        "    cH += 1\n",
        "  else:\n",
        "    sqe = np.square(y_val1[i] - y_val_predicted[i])\n",
        "    sqe_L += sqe\n",
        "    cL += 1\n",
        "\n",
        "print(\"mse_high :\", sqe_H/cH)\n",
        "print(\"mse_low :\", sqe_L/cL)\n"
      ],
      "execution_count": 30,
      "outputs": [
        {
          "output_type": "stream",
          "text": [
            "mse_high : [12.19821903]\n",
            "mse_low : [11.63241421]\n"
          ],
          "name": "stdout"
        }
      ]
    },
    {
      "cell_type": "code",
      "metadata": {
        "id": "0LJaG9l_N5OQ",
        "colab_type": "code",
        "colab": {
          "base_uri": "https://localhost:8080/",
          "height": 52
        },
        "outputId": "bb0382c2-82f3-4fab-a8a2-d097183bd45b"
      },
      "source": [
        "# 이것은 log를 사용한 모델이다.\n",
        "# 결과를 보면 y_val[i]가 평균보다 낮을 경우에 손실이 작다\n",
        "\n",
        "sqe_H = 0\n",
        "sqe_L = 0\n",
        "cH = 0\n",
        "cL = 0\n",
        "\n",
        "for i in range(len(y_val1)):\n",
        "  if y_val1[i] >= y_mean:\n",
        "    sqe = np.square(y_val1[i] - y_val_predicted_from_log[i])\n",
        "    sqe_H += sqe\n",
        "    cH += 1\n",
        "  else:\n",
        "    sqe = np.square(y_val1[i] - y_val_predicted_from_log[i])\n",
        "    sqe_L += sqe\n",
        "    cL += 1\n",
        "\n",
        "print(\"mse_high_log :\", sqe_H/cH)\n",
        "print(\"mse_low_log :\", sqe_L/cL)"
      ],
      "execution_count": 31,
      "outputs": [
        {
          "output_type": "stream",
          "text": [
            "mse_high_log : [28.20423387]\n",
            "mse_low_log : [11.80765463]\n"
          ],
          "name": "stdout"
        }
      ]
    },
    {
      "cell_type": "code",
      "metadata": {
        "id": "5VL2v8nqSMJ2",
        "colab_type": "code",
        "colab": {}
      },
      "source": [
        "from keras import backend as K\n",
        "\n",
        "# 메모리 해제\n",
        "K.clear_session()"
      ],
      "execution_count": 64,
      "outputs": []
    },
    {
      "cell_type": "markdown",
      "metadata": {
        "id": "KTXIzJcEVvQu",
        "colab_type": "text"
      },
      "source": [
        "두개의 모델을 운영하는 방안이다. 앙상블이라고 보기는 어려운 평균치보다 높을 경우는 비 log 모델을 평균치 보다 낮을 경우 log 모델을 사용하는 방법이다."
      ]
    },
    {
      "cell_type": "code",
      "metadata": {
        "id": "89i-dfGrWtsk",
        "colab_type": "code",
        "colab": {}
      },
      "source": [
        "y_ps = []\n",
        "price=0\n",
        "mean_y_train = np.mean(y_train)\n",
        "for input, output in zip(x_val, y_val):\n",
        "  if output >= mean_y_train:\n",
        "    price = model1.predict(input.reshape(1,13))[0][0]\n",
        "  if output < mean_y_train:\n",
        "    price = model2.predict(input.reshape(1,13))[0][0]\n",
        "  y_ps.append(price)"
      ],
      "execution_count": 58,
      "outputs": []
    },
    {
      "cell_type": "code",
      "metadata": {
        "id": "edeCMyvgkgRh",
        "colab_type": "code",
        "colab": {
          "base_uri": "https://localhost:8080/",
          "height": 34
        },
        "outputId": "ae60bc62-e579-4a53-a022-06473fc9f755"
      },
      "source": [
        "np.sum(np.absolute(y_ps - y_val))/81"
      ],
      "execution_count": 59,
      "outputs": [
        {
          "output_type": "execute_result",
          "data": {
            "text/plain": [
              "2.5484140761104634"
            ]
          },
          "metadata": {
            "tags": []
          },
          "execution_count": 59
        }
      ]
    },
    {
      "cell_type": "markdown",
      "metadata": {
        "id": "hDXf2l7TmjCW",
        "colab_type": "text"
      },
      "source": [
        "Test_data에 적용한 값이다."
      ]
    },
    {
      "cell_type": "code",
      "metadata": {
        "id": "hyI2V7FUl6sl",
        "colab_type": "code",
        "colab": {}
      },
      "source": [
        "y_ps = []\n",
        "price=0\n",
        "mean_y_train = np.mean(y_train)\n",
        "for input, output in zip(test_data, test_targets):\n",
        "  if output >= mean_y_train:\n",
        "    price = model1.predict(input.reshape(1,13))[0][0]\n",
        "  if output < mean_y_train:\n",
        "    price = model2.predict(input.reshape(1,13))[0][0]\n",
        "  y_ps.append(price)"
      ],
      "execution_count": 42,
      "outputs": []
    },
    {
      "cell_type": "code",
      "metadata": {
        "id": "Ohy_wh3wmUIu",
        "colab_type": "code",
        "colab": {
          "base_uri": "https://localhost:8080/",
          "height": 34
        },
        "outputId": "3e7139d7-9e34-47fd-9b29-a871b5b39bf1"
      },
      "source": [
        "np.sum(np.absolute(y_ps - test_targets))/102"
      ],
      "execution_count": 43,
      "outputs": [
        {
          "output_type": "execute_result",
          "data": {
            "text/plain": [
              "2.817184663286396"
            ]
          },
          "metadata": {
            "tags": []
          },
          "execution_count": 43
        }
      ]
    },
    {
      "cell_type": "code",
      "metadata": {
        "id": "zCYtjI8wetUz",
        "colab_type": "code",
        "colab": {
          "base_uri": "https://localhost:8080/",
          "height": 34
        },
        "outputId": "014dc4d7-7ff8-4d32-bb16-946d32667234"
      },
      "source": [
        "y_val[1]"
      ],
      "execution_count": null,
      "outputs": [
        {
          "output_type": "execute_result",
          "data": {
            "text/plain": [
              "23.3"
            ]
          },
          "metadata": {
            "tags": []
          },
          "execution_count": 230
        }
      ]
    },
    {
      "cell_type": "code",
      "metadata": {
        "id": "y2m_D4pIWt40",
        "colab_type": "code",
        "colab": {
          "base_uri": "https://localhost:8080/",
          "height": 34
        },
        "outputId": "26889fe5-787e-4580-d7a2-21f4872656a3"
      },
      "source": [
        "model1.predict(x_val[1].reshape(1,13))[0]"
      ],
      "execution_count": 66,
      "outputs": [
        {
          "output_type": "execute_result",
          "data": {
            "text/plain": [
              "array([27.593628], dtype=float32)"
            ]
          },
          "metadata": {
            "tags": []
          },
          "execution_count": 66
        }
      ]
    },
    {
      "cell_type": "code",
      "metadata": {
        "id": "NHJoApXRc45_",
        "colab_type": "code",
        "colab": {
          "base_uri": "https://localhost:8080/",
          "height": 34
        },
        "outputId": "33360db8-079d-45f6-f919-ca8aa85da95b"
      },
      "source": [
        "y_val[2]"
      ],
      "execution_count": null,
      "outputs": [
        {
          "output_type": "execute_result",
          "data": {
            "text/plain": [
              "17.5"
            ]
          },
          "metadata": {
            "tags": []
          },
          "execution_count": 201
        }
      ]
    },
    {
      "cell_type": "code",
      "metadata": {
        "id": "MiK37hyHYN5v",
        "colab_type": "code",
        "colab": {
          "base_uri": "https://localhost:8080/",
          "height": 34
        },
        "outputId": "076e8732-0bd1-44af-e03c-3ee247b6b69a"
      },
      "source": [
        "np.mean(y_val)"
      ],
      "execution_count": null,
      "outputs": [
        {
          "output_type": "execute_result",
          "data": {
            "text/plain": [
              "20.517283950617283"
            ]
          },
          "metadata": {
            "tags": []
          },
          "execution_count": 163
        }
      ]
    },
    {
      "cell_type": "markdown",
      "metadata": {
        "id": "cOLBdgzJyryH",
        "colab_type": "text"
      },
      "source": [
        "1) Per capita crime rate_범죄율 2) Proportion of residential land zoned for lots over 25,000 square feet_주거지역 비율. 3) Proportion of non-retail business acres per town_비상업지구. 4) Charles River dummy variable (= 1 if tract bounds river; 0 otherwise)_강에 근접여부  5) Nitric oxides concentration (parts per 10 million)_대기오염 6) Average number of rooms per dwelling_방개수 7) Proportion of owner-occupied units built prior to 1940_노후화 8) Weighted distances to five Boston employment centres_직장거리 9) Index of accessibility to radial highways_도로근접성 10) Full-value property-tax rate per $10,000_재산세율 11) Pupil-teacher ratio by town_교육편의성 12) 1000 * (Bk - 0.63) ** 2 where Bk is the proportion of Black people by town_흑인비율 13) % lower status of the population_하위계층비율"
      ]
    },
    {
      "cell_type": "code",
      "metadata": {
        "id": "OgEOstU-yxM2",
        "colab_type": "code",
        "colab": {
          "base_uri": "https://localhost:8080/",
          "height": 228
        },
        "outputId": "4447463c-f787-4c8c-b629-9872a1260022"
      },
      "source": [
        "df_x.loc[0:5,[0,1,2,3,4,5]].values   # DF의 특정 부분을 선택해서 numpy로 전환하는 방법"
      ],
      "execution_count": null,
      "outputs": [
        {
          "output_type": "execute_result",
          "data": {
            "text/plain": [
              "array([[1.23247e+00, 0.00000e+00, 8.14000e+00, 0.00000e+00, 5.38000e-01,\n",
              "        6.14200e+00],\n",
              "       [2.17700e-02, 8.25000e+01, 2.03000e+00, 0.00000e+00, 4.15000e-01,\n",
              "        7.61000e+00],\n",
              "       [4.89822e+00, 0.00000e+00, 1.81000e+01, 0.00000e+00, 6.31000e-01,\n",
              "        4.97000e+00],\n",
              "       [3.96100e-02, 0.00000e+00, 5.19000e+00, 0.00000e+00, 5.15000e-01,\n",
              "        6.03700e+00],\n",
              "       [3.69311e+00, 0.00000e+00, 1.81000e+01, 0.00000e+00, 7.13000e-01,\n",
              "        6.37600e+00],\n",
              "       [2.83920e-01, 0.00000e+00, 7.38000e+00, 0.00000e+00, 4.93000e-01,\n",
              "        5.70800e+00]])"
            ]
          },
          "metadata": {
            "tags": []
          },
          "execution_count": 30
        }
      ]
    },
    {
      "cell_type": "code",
      "metadata": {
        "id": "ACSdRWIR277I",
        "colab_type": "code",
        "colab": {
          "base_uri": "https://localhost:8080/",
          "height": 225
        },
        "outputId": "a6bcd752-fdc2-4f5e-c1dc-bdf701066a02"
      },
      "source": [
        "df_x.loc[0:5]"
      ],
      "execution_count": null,
      "outputs": [
        {
          "output_type": "execute_result",
          "data": {
            "text/html": [
              "<div>\n",
              "<style scoped>\n",
              "    .dataframe tbody tr th:only-of-type {\n",
              "        vertical-align: middle;\n",
              "    }\n",
              "\n",
              "    .dataframe tbody tr th {\n",
              "        vertical-align: top;\n",
              "    }\n",
              "\n",
              "    .dataframe thead th {\n",
              "        text-align: right;\n",
              "    }\n",
              "</style>\n",
              "<table border=\"1\" class=\"dataframe\">\n",
              "  <thead>\n",
              "    <tr style=\"text-align: right;\">\n",
              "      <th></th>\n",
              "      <th>0</th>\n",
              "      <th>1</th>\n",
              "      <th>2</th>\n",
              "      <th>3</th>\n",
              "      <th>4</th>\n",
              "      <th>5</th>\n",
              "      <th>6</th>\n",
              "      <th>7</th>\n",
              "      <th>8</th>\n",
              "      <th>9</th>\n",
              "      <th>10</th>\n",
              "      <th>11</th>\n",
              "      <th>12</th>\n",
              "    </tr>\n",
              "  </thead>\n",
              "  <tbody>\n",
              "    <tr>\n",
              "      <th>0</th>\n",
              "      <td>1.23247</td>\n",
              "      <td>0.0</td>\n",
              "      <td>8.14</td>\n",
              "      <td>0.0</td>\n",
              "      <td>0.538</td>\n",
              "      <td>6.142</td>\n",
              "      <td>91.7</td>\n",
              "      <td>3.9769</td>\n",
              "      <td>4.0</td>\n",
              "      <td>307.0</td>\n",
              "      <td>21.0</td>\n",
              "      <td>396.90</td>\n",
              "      <td>18.72</td>\n",
              "    </tr>\n",
              "    <tr>\n",
              "      <th>1</th>\n",
              "      <td>0.02177</td>\n",
              "      <td>82.5</td>\n",
              "      <td>2.03</td>\n",
              "      <td>0.0</td>\n",
              "      <td>0.415</td>\n",
              "      <td>7.610</td>\n",
              "      <td>15.7</td>\n",
              "      <td>6.2700</td>\n",
              "      <td>2.0</td>\n",
              "      <td>348.0</td>\n",
              "      <td>14.7</td>\n",
              "      <td>395.38</td>\n",
              "      <td>3.11</td>\n",
              "    </tr>\n",
              "    <tr>\n",
              "      <th>2</th>\n",
              "      <td>4.89822</td>\n",
              "      <td>0.0</td>\n",
              "      <td>18.10</td>\n",
              "      <td>0.0</td>\n",
              "      <td>0.631</td>\n",
              "      <td>4.970</td>\n",
              "      <td>100.0</td>\n",
              "      <td>1.3325</td>\n",
              "      <td>24.0</td>\n",
              "      <td>666.0</td>\n",
              "      <td>20.2</td>\n",
              "      <td>375.52</td>\n",
              "      <td>3.26</td>\n",
              "    </tr>\n",
              "    <tr>\n",
              "      <th>3</th>\n",
              "      <td>0.03961</td>\n",
              "      <td>0.0</td>\n",
              "      <td>5.19</td>\n",
              "      <td>0.0</td>\n",
              "      <td>0.515</td>\n",
              "      <td>6.037</td>\n",
              "      <td>34.5</td>\n",
              "      <td>5.9853</td>\n",
              "      <td>5.0</td>\n",
              "      <td>224.0</td>\n",
              "      <td>20.2</td>\n",
              "      <td>396.90</td>\n",
              "      <td>8.01</td>\n",
              "    </tr>\n",
              "    <tr>\n",
              "      <th>4</th>\n",
              "      <td>3.69311</td>\n",
              "      <td>0.0</td>\n",
              "      <td>18.10</td>\n",
              "      <td>0.0</td>\n",
              "      <td>0.713</td>\n",
              "      <td>6.376</td>\n",
              "      <td>88.4</td>\n",
              "      <td>2.5671</td>\n",
              "      <td>24.0</td>\n",
              "      <td>666.0</td>\n",
              "      <td>20.2</td>\n",
              "      <td>391.43</td>\n",
              "      <td>14.65</td>\n",
              "    </tr>\n",
              "    <tr>\n",
              "      <th>5</th>\n",
              "      <td>0.28392</td>\n",
              "      <td>0.0</td>\n",
              "      <td>7.38</td>\n",
              "      <td>0.0</td>\n",
              "      <td>0.493</td>\n",
              "      <td>5.708</td>\n",
              "      <td>74.3</td>\n",
              "      <td>4.7211</td>\n",
              "      <td>5.0</td>\n",
              "      <td>287.0</td>\n",
              "      <td>19.6</td>\n",
              "      <td>391.13</td>\n",
              "      <td>11.74</td>\n",
              "    </tr>\n",
              "  </tbody>\n",
              "</table>\n",
              "</div>"
            ],
            "text/plain": [
              "        0     1      2    3      4   ...    8      9     10      11     12\n",
              "0  1.23247   0.0   8.14  0.0  0.538  ...   4.0  307.0  21.0  396.90  18.72\n",
              "1  0.02177  82.5   2.03  0.0  0.415  ...   2.0  348.0  14.7  395.38   3.11\n",
              "2  4.89822   0.0  18.10  0.0  0.631  ...  24.0  666.0  20.2  375.52   3.26\n",
              "3  0.03961   0.0   5.19  0.0  0.515  ...   5.0  224.0  20.2  396.90   8.01\n",
              "4  3.69311   0.0  18.10  0.0  0.713  ...  24.0  666.0  20.2  391.43  14.65\n",
              "5  0.28392   0.0   7.38  0.0  0.493  ...   5.0  287.0  19.6  391.13  11.74\n",
              "\n",
              "[6 rows x 13 columns]"
            ]
          },
          "metadata": {
            "tags": []
          },
          "execution_count": 34
        }
      ]
    },
    {
      "cell_type": "code",
      "metadata": {
        "id": "aHjc2wox03xv",
        "colab_type": "code",
        "colab": {
          "base_uri": "https://localhost:8080/",
          "height": 282
        },
        "outputId": "5be34c0a-bfc8-474a-a974-c30c8b339ee3"
      },
      "source": [
        "sns.distplot(df_x.loc[:,[0]])"
      ],
      "execution_count": null,
      "outputs": [
        {
          "output_type": "execute_result",
          "data": {
            "text/plain": [
              "<matplotlib.axes._subplots.AxesSubplot at 0x7f7f6eff4a58>"
            ]
          },
          "metadata": {
            "tags": []
          },
          "execution_count": 37
        },
        {
          "output_type": "display_data",
          "data": {
            "image/png": "[encoded data removed]",
            "text/plain": [
              "<Figure size 432x288 with 1 Axes>"
            ]
          },
          "metadata": {
            "tags": [],
            "needs_background": "light"
          }
        }
      ]
    },
    {
      "cell_type": "code",
      "metadata": {
        "id": "MdvhWxlM-AJN",
        "colab_type": "code",
        "colab": {}
      },
      "source": [
        "import numpy as np"
      ],
      "execution_count": null,
      "outputs": []
    },
    {
      "cell_type": "code",
      "metadata": {
        "id": "CUkv2aaj-Fz7",
        "colab_type": "code",
        "colab": {
          "base_uri": "https://localhost:8080/",
          "height": 140
        },
        "outputId": "88942d8e-aad0-4435-bb98-9c5f1f784f13"
      },
      "source": [
        "print(np.log(100) - np.log(80))\n",
        "print(np.log(80) - np.log(60))\n",
        "print(np.log(60) - np.log(40))\n",
        "print(np.log(40) - np.log(20))\n",
        "print(np.log(20) - np.log(0))"
      ],
      "execution_count": null,
      "outputs": [
        {
          "output_type": "stream",
          "text": [
            "0.2231435513142106\n",
            "0.2876820724517808\n",
            "0.40546510810816416\n",
            "0.6931471805599454\n",
            "inf\n"
          ],
          "name": "stdout"
        },
        {
          "output_type": "stream",
          "text": [
            "/usr/local/lib/python3.6/dist-packages/ipykernel_launcher.py:5: RuntimeWarning: divide by zero encountered in log\n",
            "  \"\"\"\n"
          ],
          "name": "stderr"
        }
      ]
    }
  ]
}