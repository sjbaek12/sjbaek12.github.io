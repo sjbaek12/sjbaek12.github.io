{
  "nbformat": 4,
  "nbformat_minor": 0,
  "metadata": {
    "colab": {
      "name": "테스트 강화학습_ver0.2",
      "provenance": [],
      "collapsed_sections": [],
      "authorship_tag": "ABX9TyP7GyKdeS2K0Z0iv4zPnShC",
      "include_colab_link": true
    },
    "kernelspec": {
      "name": "python3",
      "display_name": "Python 3"
    }
  },
  "cells": [
    {
      "cell_type": "markdown",
      "metadata": {
        "id": "view-in-github",
        "colab_type": "text"
      },
      "source": [
        "<a href=\"https://colab.research.google.com/github/sjbaek12/sjbaek12.github.io/blob/master/%ED%85%8C%EC%8A%A4%ED%8A%B8_%EA%B0%95%ED%99%94%ED%95%99%EC%8A%B5_ver0_2.ipynb\" target=\"_parent\"><img src=\"https://colab.research.google.com/assets/colab-badge.svg\" alt=\"Open In Colab\"/></a>"
      ]
    },
    {
      "cell_type": "markdown",
      "metadata": {
        "id": "PbNzyGr1xgti",
        "colab_type": "text"
      },
      "source": [
        "어떤 상태에서 특정한 액션을 취하면 리워드가 발생한다.\n",
        "정책신경망에서 어떤 상태일때 액선이 산출되고 그 산출로 인한 리워드가 최대가 되도록 정책신경망의 가중치를 조정한다. 그러면 리워드가 최대가 되는 액션을 산출하는 정책신경망이 될 것이다. \n",
        "\n",
        "loss함수는 리워드가 최대가 되는 액션을 산출했을 때, 마이너스 무한대가 되도록 조정하면 된다. "
      ]
    },
    {
      "cell_type": "code",
      "metadata": {
        "id": "uoNYrqyWxhgZ",
        "colab_type": "code",
        "colab": {}
      },
      "source": [
        "import numpy as np\n",
        "import matplotlib.pyplot as plt"
      ],
      "execution_count": 1,
      "outputs": []
    },
    {
      "cell_type": "code",
      "metadata": {
        "id": "rDPyv4nbyYRY",
        "colab_type": "code",
        "colab": {
          "base_uri": "https://localhost:8080/",
          "height": 265
        },
        "outputId": "4af2fb97-893b-4bcf-f5f0-0756b349a4cb"
      },
      "source": [
        "# 환경 모듈\n",
        "\n",
        "def env():\n",
        "  start_price = 3\n",
        "  pricej=[]\n",
        "  for i in range(100):\n",
        "    change = np.random.rand(1)*1.2\n",
        "    direction = np.random.choice(2, p=[0.5, 0.5])\n",
        "    if direction == 1:\n",
        "      if start_price - change[0] <= 0:\n",
        "         p = 1.0\n",
        "      else:\n",
        "         p = start_price - change[0]     \n",
        "    else: \n",
        "      p = start_price + change[0] \n",
        "    start_price = p\n",
        "    pricej.append(p)\n",
        "#  p_mean = np.mean(price)\n",
        "#  p_std = np.std(price)\n",
        "#  price = (price - p_mean)/p_std\n",
        "  \n",
        "  p_serise= []\n",
        "  for i in range(96):\n",
        "    serise = [pricej[i],pricej[i+1], pricej[i+2], pricej[i+3], pricej[i+4]]\n",
        "    serise = np.array(serise)\n",
        "    p_serise.append(serise)\n",
        "  p_serise= p_serise[0:100]\n",
        "  p_serise = np.array(p_serise)\n",
        "  p_serise_lstm = p_serise.reshape(96, 5, 1)  # p_serise의 길이는 46이다. LSTM을 사용할 때 데이터 input 형태\n",
        "  price_lstm = pricej[4:]\n",
        "  price_lstm = np.array(price_lstm)\n",
        "  return p_serise, p_serise_lstm, price_lstm \n",
        "\n",
        "p_serise, p_serise_lstm, price_lstm = env()\n",
        "plt.plot(price_lstm)\n",
        "plt.show()"
      ],
      "execution_count": 7,
      "outputs": [
        {
          "output_type": "display_data",
          "data": {
            "image/png": "[encoded data removed]",
            "text/plain": [
              "<Figure size 432x288 with 1 Axes>"
            ]
          },
          "metadata": {
            "tags": [],
            "needs_background": "light"
          }
        }
      ]
    },
    {
      "cell_type": "code",
      "metadata": {
        "id": "GxlziTCzn5mc",
        "colab_type": "code",
        "colab": {
          "base_uri": "https://localhost:8080/",
          "height": 34
        },
        "outputId": "7c1c6568-d64d-4082-fede-11a2322c9a1b"
      },
      "source": [
        "p_serise_lstm.shape"
      ],
      "execution_count": null,
      "outputs": [
        {
          "output_type": "execute_result",
          "data": {
            "text/plain": [
              "(46, 5, 1)"
            ]
          },
          "metadata": {
            "tags": []
          },
          "execution_count": 3
        }
      ]
    },
    {
      "cell_type": "code",
      "metadata": {
        "id": "1nwZBjdPg_zg",
        "colab_type": "code",
        "colab": {
          "base_uri": "https://localhost:8080/",
          "height": 34
        },
        "outputId": "f2bf3977-322a-4619-c5e5-0bc6ccc9e0c4"
      },
      "source": [
        "price_data = [p_serise_lstm[j] for j in range(5)] \n",
        "price_data = np.array(price_data)\n",
        "price_data.shape"
      ],
      "execution_count": null,
      "outputs": [
        {
          "output_type": "execute_result",
          "data": {
            "text/plain": [
              "(5, 5, 1)"
            ]
          },
          "metadata": {
            "tags": []
          },
          "execution_count": 4
        }
      ]
    },
    {
      "cell_type": "code",
      "metadata": {
        "id": "2WyzYpCB2j4F",
        "colab_type": "code",
        "colab": {
          "base_uri": "https://localhost:8080/",
          "height": 34
        },
        "outputId": "23fa2031-9c1f-4132-ffa7-21d412ca91e0"
      },
      "source": [
        "price_lstm[-1]"
      ],
      "execution_count": null,
      "outputs": [
        {
          "output_type": "execute_result",
          "data": {
            "text/plain": [
              "4.026364234027149"
            ]
          },
          "metadata": {
            "tags": []
          },
          "execution_count": 5
        }
      ]
    },
    {
      "cell_type": "markdown",
      "metadata": {
        "id": "FcJsmEuZ9v0M",
        "colab_type": "text"
      },
      "source": [
        "여기부터 정책신경망 이다."
      ]
    },
    {
      "cell_type": "code",
      "metadata": {
        "id": "BD4QALBQyNEe",
        "colab_type": "code",
        "colab": {}
      },
      "source": [
        "from tensorflow.keras.utils import to_categorical\n",
        "from tensorflow import keras\n",
        "import keras.layers as layers\n",
        "from keras.layers import LSTM, Dense, Dropout\n",
        "from keras.models import Model, Sequential\n",
        "from keras.optimizers import Adam, RMSprop\n",
        "from keras.initializers import glorot_uniform\n",
        "from keras.callbacks import ModelCheckpoint, EarlyStopping\n",
        "import keras.backend as K  # 케라스의 backend를 K. 형식으로 호출하는 것이고 여기서는 tensorflow이다.\n",
        "import tensorflow as tf"
      ],
      "execution_count": 3,
      "outputs": []
    },
    {
      "cell_type": "markdown",
      "metadata": {
        "id": "MsUS4UsPI4Hk",
        "colab_type": "text"
      },
      "source": [
        "y_true, y_pred는 매트릭스이다. 즉 [y1_true, y2_ture],  [y1_pred, y2_pred]가 한쌍의 샘플이 되고 이러한 샘플이 m개로 구성된 메트릭스로 이해하면된다.\n"
      ]
    },
    {
      "cell_type": "code",
      "metadata": {
        "id": "2PmlLEc0QoTa",
        "colab_type": "code",
        "colab": {}
      },
      "source": [
        "  # 이것은 예제의 오리지널 custom_loss 함수이다.\n",
        "\n",
        "  def custom_loss(y_true, y_pred):\n",
        "    log_lik = K.log(y_pred + 1e-10)*y_true\n",
        "    return K.mean(tf.tensordot(log_lik, adv, 0), keepdims=True)\n"
      ],
      "execution_count": null,
      "outputs": []
    },
    {
      "cell_type": "code",
      "metadata": {
        "id": "BjNDs3rMEM_I",
        "colab_type": "code",
        "colab": {
          "base_uri": "https://localhost:8080/",
          "height": 70
        },
        "outputId": "a58b1610-4dc6-4441-bb8a-1f9c4b0bfb60"
      },
      "source": [
        " def custom_loss_test(y_true, y_pred):\n",
        "   log_lik = K.log(y_pred + 1e-10)*y_true\n",
        "   return log_lik \n",
        "\n",
        "y_pred = np.array([[0.5, 0.5],[0.1,0.1]])\n",
        "y_true = np.array([[1.0,0.0],[0.0, 1.0]])\n",
        "\n",
        "custom_loss_test(y_true, y_pred)"
      ],
      "execution_count": 4,
      "outputs": [
        {
          "output_type": "execute_result",
          "data": {
            "text/plain": [
              "<tf.Tensor: shape=(2, 2), dtype=float64, numpy=\n",
              "array([[-0.69314718, -0.        ],\n",
              "       [-0.        , -2.30258509]])>"
            ]
          },
          "metadata": {
            "tags": []
          },
          "execution_count": 4
        }
      ]
    },
    {
      "cell_type": "code",
      "metadata": {
        "id": "jfECDCOkEa6M",
        "colab_type": "code",
        "colab": {
          "base_uri": "https://localhost:8080/",
          "height": 34
        },
        "outputId": "e0ee61c0-32ef-44cb-ddc2-ba7e361ad863"
      },
      "source": [
        " # 가장 적합한 손실함수의 하나이다\n",
        " \n",
        " def custom_loss_test1(y_true, y_pred):\n",
        "   log_lik = K.sum(K.log(y_pred + 1e-10)*y_true, axis=1)*m\n",
        "   return log_lik # 모든 샘플의 크로스엔트로피의 평균인데, n의 배수로 나누어준 값이 된다.\n",
        "\n",
        "\n",
        "y_pred = np.array([[0.5, 0.5],[0.1,0.1]])\n",
        "y_true = np.array([[1.0,0.0],[0.0, 1.0]])\n",
        "m = np.array([-1.0]) \n",
        "\n",
        "custom_loss_test1(y_true, y_pred)"
      ],
      "execution_count": 6,
      "outputs": [
        {
          "output_type": "execute_result",
          "data": {
            "text/plain": [
              "<tf.Tensor: shape=(2,), dtype=float64, numpy=array([0.69314718, 2.30258509])>"
            ]
          },
          "metadata": {
            "tags": []
          },
          "execution_count": 6
        }
      ]
    },
    {
      "cell_type": "code",
      "metadata": {
        "id": "Bg1ahWsQQBue",
        "colab_type": "code",
        "colab": {
          "base_uri": "https://localhost:8080/",
          "height": 34
        },
        "outputId": "5b891d64-8d3e-487e-9afe-ff3e8df304a7"
      },
      "source": [
        "# 가장 적합한 형태는 custom_loss_test1 or 2인 것 같다. \n",
        "\n",
        "def custom_loss_test2(y_true, y_pred):\n",
        "  log_lik = K.log(y_pred + 1e-10)*y_true\n",
        "  return K.mean(K.sum(log_lik*m, axis=1)) # 모든 샘플의 크로스엔트로피의 평균인데, n의 배수로 나누어준 값이 된다.\n",
        "\n",
        "\n",
        "y_pred = np.array([[0.5, 0.5],[0.1,0.1]])\n",
        "y_true = np.array([[1.0,0.0],[0.0, 1.0]])\n",
        "m = np.array([-1.0]) \n",
        "\n",
        "custom_loss_test2(y_true, y_pred)"
      ],
      "execution_count": null,
      "outputs": [
        {
          "output_type": "execute_result",
          "data": {
            "text/plain": [
              "<tf.Tensor: shape=(), dtype=float64, numpy=1.4978661361769956>"
            ]
          },
          "metadata": {
            "tags": []
          },
          "execution_count": 11
        }
      ]
    },
    {
      "cell_type": "markdown",
      "metadata": {
        "id": "UFGant1R5EBK",
        "colab_type": "text"
      },
      "source": [
        "custom loss함수는 위에서 끝나고 여기부터는 정책신경망에 대한 디자인이다."
      ]
    },
    {
      "cell_type": "code",
      "metadata": {
        "id": "sqfrHL4syNWQ",
        "colab_type": "code",
        "colab": {}
      },
      "source": [
        "# loss 함수가 test1, test2 모두 미분가능한 loss 함수로 적용가능하고 어떤 것이 좋은 것인지는 분석을 해야 한다.\n",
        "\n",
        "def get_policy_model(lr):\n",
        "  \n",
        "  adv = layers.Input(shape=[1])\n",
        "  inp_L = layers.Input(shape=(7,1))  # 타입스텝수 7개, 특성개수 1개\n",
        "  dense1 = LSTM(10)(inp_L)\n",
        "  dense1 = Dense(64)(dense1) \n",
        "  dense1 = Dropout(0.5)(dense1)\n",
        "  dense1 = Dense(64)(dense1)\n",
        "  output_s = layers.Dense(2, activation=\"sigmoid\",kernel_initializer=glorot_uniform(seed=42), use_bias=False, kernel_regularizer=keras.regularizers.l2(0.001), name=\"out\")(dense1)\n",
        "\n",
        "\n",
        "\n",
        "  model_train = Model(inputs=[inp_L, adv], outputs = output_s)\n",
        "  model_train.compile(loss=custom_loss_test1, optimizer=Adam(lr), metrics = ['mae'])\n",
        "  model_predict = Model(inputs=[inp_L], outputs=output_s)   # model_train.predict와 model_predict.predict의 결과는 완전히 일치한다. 다만 입력의 편의를 위해서 분리한다.\n",
        "  return model_train, model_predict "
      ],
      "execution_count": 8,
      "outputs": []
    },
    {
      "cell_type": "markdown",
      "metadata": {
        "id": "qpG6mlulP4I2",
        "colab_type": "text"
      },
      "source": [
        "여기까지가 custom_loss 함수에 대한 test를 진행한 부분이다."
      ]
    },
    {
      "cell_type": "code",
      "metadata": {
        "id": "sdiXiLhjyTSI",
        "colab_type": "code",
        "colab": {}
      },
      "source": [
        "model_train, model_predict = get_policy_model(0.01)"
      ],
      "execution_count": 10,
      "outputs": []
    },
    {
      "cell_type": "code",
      "metadata": {
        "id": "D_441GjMyNl1",
        "colab_type": "code",
        "colab": {
          "base_uri": "https://localhost:8080/",
          "height": 404
        },
        "outputId": "e33a86c1-6c98-4f0b-a260-4747e204a287"
      },
      "source": [
        "model_train.summary()"
      ],
      "execution_count": 11,
      "outputs": [
        {
          "output_type": "stream",
          "text": [
            "Model: \"functional_1\"\n",
            "__________________________________________________________________________________________________\n",
            "Layer (type)                    Output Shape         Param #     Connected to                     \n",
            "==================================================================================================\n",
            "input_2 (InputLayer)            [(None, 7, 1)]       0                                            \n",
            "__________________________________________________________________________________________________\n",
            "lstm (LSTM)                     (None, 10)           480         input_2[0][0]                    \n",
            "__________________________________________________________________________________________________\n",
            "dense (Dense)                   (None, 64)           704         lstm[0][0]                       \n",
            "__________________________________________________________________________________________________\n",
            "dropout (Dropout)               (None, 64)           0           dense[0][0]                      \n",
            "__________________________________________________________________________________________________\n",
            "dense_1 (Dense)                 (None, 64)           4160        dropout[0][0]                    \n",
            "__________________________________________________________________________________________________\n",
            "input_1 (InputLayer)            [(None, 1)]          0                                            \n",
            "__________________________________________________________________________________________________\n",
            "out (Dense)                     (None, 2)            128         dense_1[0][0]                    \n",
            "==================================================================================================\n",
            "Total params: 5,472\n",
            "Trainable params: 5,472\n",
            "Non-trainable params: 0\n",
            "__________________________________________________________________________________________________\n"
          ],
          "name": "stdout"
        }
      ]
    },
    {
      "cell_type": "code",
      "metadata": {
        "id": "_y5jPMkeiOhu",
        "colab_type": "code",
        "colab": {
          "base_uri": "https://localhost:8080/",
          "height": 369
        },
        "outputId": "d2432960-fbfc-42e9-b60e-356a1923fb18"
      },
      "source": [
        "model_predict.summary()"
      ],
      "execution_count": 12,
      "outputs": [
        {
          "output_type": "stream",
          "text": [
            "Model: \"functional_3\"\n",
            "_________________________________________________________________\n",
            "Layer (type)                 Output Shape              Param #   \n",
            "=================================================================\n",
            "input_2 (InputLayer)         [(None, 7, 1)]            0         \n",
            "_________________________________________________________________\n",
            "lstm (LSTM)                  (None, 10)                480       \n",
            "_________________________________________________________________\n",
            "dense (Dense)                (None, 64)                704       \n",
            "_________________________________________________________________\n",
            "dropout (Dropout)            (None, 64)                0         \n",
            "_________________________________________________________________\n",
            "dense_1 (Dense)              (None, 64)                4160      \n",
            "_________________________________________________________________\n",
            "out (Dense)                  (None, 2)                 128       \n",
            "=================================================================\n",
            "Total params: 5,472\n",
            "Trainable params: 5,472\n",
            "Non-trainable params: 0\n",
            "_________________________________________________________________\n"
          ],
          "name": "stdout"
        }
      ]
    },
    {
      "cell_type": "code",
      "metadata": {
        "id": "4Dg0NdtSsQhu",
        "colab_type": "code",
        "colab": {}
      },
      "source": [
        "#정책망이 예측한 대로 action을 선택한다.\n",
        "\n",
        "def action_choice(p_serise_lstm):\n",
        "  act = model_predict.predict(p_serise_lstm)\n",
        "  #act = np.argmax(act)\n",
        "  return act"
      ],
      "execution_count": 13,
      "outputs": []
    },
    {
      "cell_type": "code",
      "metadata": {
        "id": "bnKwo9vgVKMI",
        "colab_type": "code",
        "colab": {}
      },
      "source": [
        "# action_choice가 선택한 행동을 balance에 대비해서 가능한 행동인지 점검하고 틀린 경우 가능한 액션을 제시한다.\n",
        "# 당초 0 매수, 1 매도를 --> 0 매수, 1 hold, 2 매도로 전환 \n",
        "# 그리고 현재의 밸러스는 before 밸런스로 기록을 남긴다.\n",
        "\n",
        "def action_validate(act, price, balance):\n",
        "  if act == 0:\n",
        "    if balance[0] - price < 0:\n",
        "      act_v = 1\n",
        "    else:\n",
        "      act_v = 0\n",
        "        \n",
        "  if act == 1:\n",
        "    if balance[2] > 0 :\n",
        "      act_v = 2\n",
        "    else:\n",
        "      act_v = 1\n",
        "\n",
        "  before_act_balance = [balance[0], balance[1], balance[2]] \n",
        "\n",
        "  return act_v, before_act_balance"
      ],
      "execution_count": 14,
      "outputs": []
    },
    {
      "cell_type": "code",
      "metadata": {
        "id": "Tk6ddnSXxN2r",
        "colab_type": "code",
        "colab": {}
      },
      "source": [
        "# 검증이 완료된 행동으로 현재 밸런스를 갱신하고, 현재 가치를 구한다.\n",
        "\n",
        "def balance_update(balance, price, act_v):\n",
        "  if act_v == 0:\n",
        "    balance[0] = balance[0] - price\n",
        "    balance[1] = price\n",
        "    balance[2] = balance[2] + 1\n",
        "  if act_v == 1:\n",
        "    balance[1] = price\n",
        "  if act_v == 2:\n",
        "    balance[0] = balance[0] + price\n",
        "    balance[1] = price\n",
        "    balance[2] = balance[2] -1\n",
        "  balance_updated = [balance[0], balance[1], balance[2]] \n",
        "  present_value = balance[0] + balance[1] * balance[2]\n",
        "  return balance_updated, present_value"
      ],
      "execution_count": 15,
      "outputs": []
    },
    {
      "cell_type": "code",
      "metadata": {
        "id": "9BqjV5MRGBy0",
        "colab_type": "code",
        "colab": {}
      },
      "source": [
        "# 이전의 밸런스와 현재 밸런스와의 비율을 구한다. 이것은 포트폴리오 가치비율이라고 한다\n",
        "\n",
        "def pv_ratio_cal(before_act_balance, balance_updated):\n",
        "  pv_ratio = (balance_updated[0] + balance_updated[1] * balance_updated[2])/(before_act_balance[0] + before_act_balance[1] * before_act_balance[2])\n",
        "  return pv_ratio"
      ],
      "execution_count": 16,
      "outputs": []
    },
    {
      "cell_type": "code",
      "metadata": {
        "id": "42wl3rwdwdco",
        "colab_type": "code",
        "colab": {}
      },
      "source": [
        "# 주식보유 비율을 구한다.\n",
        "\n",
        "def hold_ratio_cal(balance_updated, price):\n",
        "  hold_ratio = balance_updated[2] / (present_value / price)\n",
        "\n",
        "  return hold_ratio\n"
      ],
      "execution_count": 17,
      "outputs": []
    },
    {
      "cell_type": "code",
      "metadata": {
        "id": "ij5NYQ8QHfE7",
        "colab_type": "code",
        "colab": {}
      },
      "source": [
        "# delayed reward를 구하기 위해서 기준 포트폴리오와 현재 밸런스의 비율을 구하고, 타겟 비율을 넘는지 확인한다.\n",
        "# 만약 target을 넘으면 base_pv를 present_value를 변경한다.\n",
        "\n",
        "def base_to_cur (base_pv, present_value, target_ratio):\n",
        "  delay_ratio = (present_value - base_pv) / base_pv\n",
        "  if delay_ratio > target_ratio:\n",
        "    target = 1.0\n",
        "    base_pv = present_value\n",
        "\n",
        "  elif (-1 * delay_ratio) > target_ratio:\n",
        "    target = -1.0\n",
        "    base_pv = present_value\n",
        "    \n",
        "  else:\n",
        "    target = 0\n",
        "    base_pv = base_pv\n",
        "    \n",
        "  return delay_ratio, target, base_pv"
      ],
      "execution_count": 18,
      "outputs": []
    },
    {
      "cell_type": "code",
      "metadata": {
        "id": "ZG19QI3YAYcW",
        "colab_type": "code",
        "colab": {}
      },
      "source": [
        "# 거래와 관련된 모든 것을 기록한다.\n",
        "\n",
        "def record(i, price, act, act_v, balance_updated, present_value, pv_ratio, hold_ratio, delay_ratio, target, base_pv):\n",
        "\n",
        "  transaction_history.append([i, price, act, act_v, balance_updated, present_value, pv_ratio, hold_ratio, delay_ratio, target, base_pv])\n",
        "  return transaction_history"
      ],
      "execution_count": 19,
      "outputs": []
    },
    {
      "cell_type": "code",
      "metadata": {
        "id": "fSqTmJ2bGAL8",
        "colab_type": "code",
        "colab": {}
      },
      "source": [
        "# 학습을 위한 배치 데이터를 만든다.\n",
        "\n",
        "\n",
        "def discount_rewards(r, gamma=0.5):\n",
        "    \"\"\"Takes 1d float array of rewards and computes discounted reward\n",
        "    e.g. f([1, 1, 1], 0.99) -> [1, 1.99, 2.9701]\n",
        "    \"\"\"\n",
        "    prior = 0\n",
        "    out = []\n",
        "    r = r[::-1]\n",
        "    for val in r:\n",
        "        new_val = val + prior * gamma\n",
        "        out.append(new_val)\n",
        "        prior = new_val\n",
        "    return np.array(out)\n",
        "\n",
        "\n",
        "\n",
        "\n",
        "def get_batch(transaction_history, target):\n",
        "\n",
        "  for i in range(len(transaction_history)):\n",
        "\n",
        "    y = np.full((len(transaction_history), 2), 0.0) \n",
        "    for j in range(i+1):\n",
        "      k = transaction_history[j][2] # k는 당초 신경망이 추천한 값으로 0구매, 1는 매도 이다. \n",
        "      #y[j,k] = (target + 1.0) / 2 \n",
        "      y[j,k] = np.abs(target)\n",
        "      \n",
        "    price_data = [p_serise_lstm[j] for j in range(i+1)]\n",
        "    delay_ratios = [transaction_history[j][8] for j in range(i+1)]\n",
        "    hold_ratios = [transaction_history[j][7] for j in range(i+1)]\n",
        "      \n",
        "    train_input =[]\n",
        "    for pd, dr, hr in zip(price_data, delay_ratios, hold_ratios):\n",
        "      pd = np.append(pd, dr)\n",
        "      pd = np.append(pd, hr)\n",
        "      train_input.append(pd)\n",
        "    train_input = np.array(train_input)\n",
        "    train_input = train_input.reshape(-1,7,1)\n",
        "\n",
        "  adv = np.full((len(transaction_history), 1), 1.0*target) # 긍정학습, 부정학습을 구분하기 위한 것이다.\n",
        "  adv = discount_rewards(adv)\n",
        "\n",
        "  return y, train_input, adv\n"
      ],
      "execution_count": 20,
      "outputs": []
    },
    {
      "cell_type": "markdown",
      "metadata": {
        "id": "IZHalhPGCE4J",
        "colab_type": "text"
      },
      "source": [
        "여기부터는 학습의 영역이다."
      ]
    },
    {
      "cell_type": "code",
      "metadata": {
        "id": "8m2KF-e-wFu1",
        "colab_type": "code",
        "colab": {
          "base_uri": "https://localhost:8080/",
          "height": 52
        },
        "outputId": "51b46dea-438e-41bf-ffa9-c28c5d5218ff"
      },
      "source": [
        "# random action과 신경망의 선택 action을 조정해야 한다.\n",
        "\n",
        "\n",
        "num_episode = 0.0\n",
        "num_episodes = 100.0\n",
        "\n",
        "target_ratio = 0.05\n",
        "max_batch_size = 46\n",
        "epsilon = 0.8\n",
        "\n",
        "\n",
        "while num_episode < num_episodes:\n",
        "\n",
        "  balance = [20, 0, 0]\n",
        "  base_pv = 20\n",
        "  \n",
        "  history_record = []\n",
        "  transaction_history=[]\n",
        "\n",
        "  for i in range(len(p_serise_lstm)):\n",
        "   \n",
        "    price = p_serise_lstm[i][4]\n",
        "\n",
        "    if np.random.rand() < epsilon :\n",
        "      act = np.random.choice(2, p=[0.5, 0.5])\n",
        "    else:\n",
        "      act =  np.argmax(action_choice(p_serise_lstm)[i])\n",
        "   \n",
        "    act_v, before_act_balance = action_validate(act, price, balance)\n",
        "    \n",
        "    balance_updated, present_value = balance_update(balance, price, act_v)\n",
        "    pv_ratio = pv_ratio_cal(before_act_balance, balance_updated)\n",
        "    hold_ratio = hold_ratio_cal(balance_updated, price)\n",
        "   \n",
        "    delay_ratio, target, base_pv = base_to_cur(base_pv, present_value, target_ratio)\n",
        "  \n",
        "    transaction_history = record(i, price, act, act_v, balance_updated, present_value, pv_ratio, hold_ratio, delay_ratio, target, base_pv)\n",
        "\n",
        "\n",
        "\n",
        "    if (target == 1 or target == -1):\n",
        "      y, train_input, adv = get_batch(transaction_history, target)\n",
        "#      print(train_input.shape)\n",
        "#      print(input(\"check?\"))\n",
        "\n",
        "      y = np.array(y)\n",
        "      loss = model_train.train_on_batch([train_input, adv], y)\n",
        "      \n",
        "\n",
        "      history_record.append(transaction_history)\n",
        "      transaction_history=[]\n",
        "      continue\n",
        "\n",
        "    if i == (len(p_serise_lstm)-1):\n",
        "\n",
        "      history_record.append(transaction_history)\n",
        "      transaction_history=[]      \n",
        "\n",
        "    \n",
        "  if present_value > 50.0:\n",
        "    break\n",
        "  if (num_episode+1) % 2 == 0:\n",
        "    print(\"num_episode: \",num_episode+1, \"loss: \", loss[0], \"mse :\", loss[1], \"wealth:\", present_value)\n",
        "\n",
        "  num_episode += 1.0\n",
        "  epsilon = epsilon * ( 1 - num_episode/num_episodes)\n",
        "\n",
        "\n",
        "\n",
        "\n",
        "\n",
        "\n",
        "\n",
        "\n",
        "    "
      ],
      "execution_count": 21,
      "outputs": [
        {
          "output_type": "stream",
          "text": [
            "WARNING:tensorflow:Model was constructed with shape (None, 7, 1) for input Tensor(\"input_2:0\", shape=(None, 7, 1), dtype=float32), but it was called on an input with incompatible shape (32, 5, 1).\n",
            "num_episode:  2.0 loss:  0.003937434405088425 mse : 0.5 wealth: [44.67656798]\n"
          ],
          "name": "stdout"
        }
      ]
    },
    {
      "cell_type": "code",
      "metadata": {
        "id": "hY8tGzcHXU3-",
        "colab_type": "code",
        "colab": {
          "base_uri": "https://localhost:8080/",
          "height": 34
        },
        "outputId": "ebb7b210-bbe0-42b3-d097-07e0f7784b00"
      },
      "source": [
        "transaction_history"
      ],
      "execution_count": null,
      "outputs": [
        {
          "output_type": "execute_result",
          "data": {
            "text/plain": [
              "[]"
            ]
          },
          "metadata": {
            "tags": []
          },
          "execution_count": 31
        }
      ]
    },
    {
      "cell_type": "code",
      "metadata": {
        "id": "5J-rx_enEPrI",
        "colab_type": "code",
        "colab": {
          "base_uri": "https://localhost:8080/",
          "height": 1000
        },
        "outputId": "3f4be33c-dcfc-48a1-bb9c-f3bcd9807ea1"
      },
      "source": [
        "history_record"
      ],
      "execution_count": 22,
      "outputs": [
        {
          "output_type": "execute_result",
          "data": {
            "text/plain": [
              "[[[0,\n",
              "   array([3.67605401]),\n",
              "   1,\n",
              "   1,\n",
              "   [20, array([3.67605401]), 0],\n",
              "   array([20.]),\n",
              "   array([1.]),\n",
              "   array([0.]),\n",
              "   array([0.]),\n",
              "   0,\n",
              "   20],\n",
              "  [1,\n",
              "   array([3.85126705]),\n",
              "   0,\n",
              "   0,\n",
              "   [array([16.14873295]), array([3.85126705]), 1],\n",
              "   array([20.]),\n",
              "   array([1.]),\n",
              "   array([0.19256335]),\n",
              "   array([0.]),\n",
              "   0,\n",
              "   20],\n",
              "  [2,\n",
              "   array([3.00708514]),\n",
              "   1,\n",
              "   2,\n",
              "   [array([19.15581808]), array([3.00708514]), 0],\n",
              "   array([19.15581808]),\n",
              "   array([0.9577909]),\n",
              "   array([0.]),\n",
              "   array([-0.0422091]),\n",
              "   0,\n",
              "   20],\n",
              "  [3,\n",
              "   array([2.50685955]),\n",
              "   0,\n",
              "   0,\n",
              "   [array([16.64895853]), array([2.50685955]), 1],\n",
              "   array([19.15581808]),\n",
              "   array([1.]),\n",
              "   array([0.13086674]),\n",
              "   array([-0.0422091]),\n",
              "   0,\n",
              "   20],\n",
              "  [4,\n",
              "   array([3.0537632]),\n",
              "   1,\n",
              "   2,\n",
              "   [array([19.70272173]), array([3.0537632]), 0],\n",
              "   array([19.70272173]),\n",
              "   array([1.02855026]),\n",
              "   array([0.]),\n",
              "   array([-0.01486391]),\n",
              "   0,\n",
              "   20],\n",
              "  [5,\n",
              "   array([2.92631831]),\n",
              "   1,\n",
              "   1,\n",
              "   [array([19.70272173]), array([2.92631831]), 0],\n",
              "   array([19.70272173]),\n",
              "   array([1.]),\n",
              "   array([0.]),\n",
              "   array([-0.01486391]),\n",
              "   0,\n",
              "   20],\n",
              "  [6,\n",
              "   array([2.75929944]),\n",
              "   0,\n",
              "   0,\n",
              "   [array([16.94342229]), array([2.75929944]), 1],\n",
              "   array([19.70272173]),\n",
              "   array([1.]),\n",
              "   array([0.14004661]),\n",
              "   array([-0.01486391]),\n",
              "   0,\n",
              "   20],\n",
              "  [7,\n",
              "   array([1.8800066]),\n",
              "   0,\n",
              "   0,\n",
              "   [array([15.06341568]), array([1.8800066]), 2],\n",
              "   array([18.82342889]),\n",
              "   array([0.95537201]),\n",
              "   array([0.19975177]),\n",
              "   array([-0.05882856]),\n",
              "   -1.0,\n",
              "   array([18.82342889])]],\n",
              " [[8,\n",
              "   array([1.89681582]),\n",
              "   1,\n",
              "   2,\n",
              "   [array([16.96023151]), array([1.89681582]), 1],\n",
              "   array([18.85704733]),\n",
              "   array([1.00178599]),\n",
              "   array([0.10058923]),\n",
              "   array([0.00178599]),\n",
              "   0,\n",
              "   array([18.82342889])],\n",
              "  [9,\n",
              "   array([2.43005158]),\n",
              "   0,\n",
              "   0,\n",
              "   [array([14.53017992]), array([2.43005158]), 2],\n",
              "   array([19.39028309]),\n",
              "   array([1.0282778]),\n",
              "   array([0.25064632]),\n",
              "   array([0.03011429]),\n",
              "   0,\n",
              "   array([18.82342889])],\n",
              "  [10,\n",
              "   array([2.29423548]),\n",
              "   1,\n",
              "   2,\n",
              "   [array([16.82441541]), array([2.29423548]), 1],\n",
              "   array([19.11865089]),\n",
              "   array([0.98599132]),\n",
              "   array([0.11999986]),\n",
              "   array([0.01568375]),\n",
              "   0,\n",
              "   array([18.82342889])],\n",
              "  [11,\n",
              "   array([1.21670232]),\n",
              "   0,\n",
              "   0,\n",
              "   [array([15.60771309]), array([1.21670232]), 2],\n",
              "   array([18.04111773]),\n",
              "   array([0.94363969]),\n",
              "   array([0.13488104]),\n",
              "   array([-0.0415605]),\n",
              "   0,\n",
              "   array([18.82342889])],\n",
              "  [12,\n",
              "   array([1.388623]),\n",
              "   1,\n",
              "   2,\n",
              "   [array([16.99633609]), array([1.388623]), 1],\n",
              "   array([18.3849591]),\n",
              "   array([1.01905876]),\n",
              "   array([0.07553038]),\n",
              "   array([-0.02329383]),\n",
              "   0,\n",
              "   array([18.82342889])],\n",
              "  [13,\n",
              "   array([2.3673296]),\n",
              "   1,\n",
              "   2,\n",
              "   [array([19.36366569]), array([2.3673296]), 0],\n",
              "   array([19.36366569]),\n",
              "   array([1.05323409]),\n",
              "   array([0.]),\n",
              "   array([0.02870023]),\n",
              "   0,\n",
              "   array([18.82342889])],\n",
              "  [14,\n",
              "   array([1.25061002]),\n",
              "   1,\n",
              "   1,\n",
              "   [array([19.36366569]), array([1.25061002]), 0],\n",
              "   array([19.36366569]),\n",
              "   array([1.]),\n",
              "   array([0.]),\n",
              "   array([0.02870023]),\n",
              "   0,\n",
              "   array([18.82342889])],\n",
              "  [15,\n",
              "   array([0.97369506]),\n",
              "   0,\n",
              "   0,\n",
              "   [array([18.38997064]), array([0.97369506]), 1],\n",
              "   array([19.36366569]),\n",
              "   array([1.]),\n",
              "   array([0.05028465]),\n",
              "   array([0.02870023]),\n",
              "   0,\n",
              "   array([18.82342889])],\n",
              "  [16,\n",
              "   array([0.75992022]),\n",
              "   1,\n",
              "   2,\n",
              "   [array([19.14989086]), array([0.75992022]), 0],\n",
              "   array([19.14989086]),\n",
              "   array([0.98896]),\n",
              "   array([0.]),\n",
              "   array([0.01734338]),\n",
              "   0,\n",
              "   array([18.82342889])],\n",
              "  [17,\n",
              "   array([0.70494357]),\n",
              "   0,\n",
              "   0,\n",
              "   [array([18.44494728]), array([0.70494357]), 1],\n",
              "   array([19.14989086]),\n",
              "   array([1.]),\n",
              "   array([0.03681188]),\n",
              "   array([0.01734338]),\n",
              "   0,\n",
              "   array([18.82342889])],\n",
              "  [18,\n",
              "   array([1.]),\n",
              "   0,\n",
              "   0,\n",
              "   [array([17.44494728]), array([1.]), 2],\n",
              "   array([19.44494728]),\n",
              "   array([1.01540773]),\n",
              "   array([0.10285448]),\n",
              "   array([0.03301834]),\n",
              "   0,\n",
              "   array([18.82342889])],\n",
              "  [19,\n",
              "   array([1.54587275]),\n",
              "   0,\n",
              "   0,\n",
              "   [array([15.89907454]), array([1.54587275]), 3],\n",
              "   array([20.53669278]),\n",
              "   array([1.05614546]),\n",
              "   array([0.22582108]),\n",
              "   array([0.09101763]),\n",
              "   1.0,\n",
              "   array([20.53669278])]],\n",
              " [[20,\n",
              "   array([1.09676256]),\n",
              "   0,\n",
              "   0,\n",
              "   [array([14.80231198]), array([1.09676256]), 4],\n",
              "   array([19.1893622]),\n",
              "   array([0.93439399]),\n",
              "   array([0.22861887]),\n",
              "   array([-0.06560601]),\n",
              "   -1.0,\n",
              "   array([19.1893622])]],\n",
              " [[21,\n",
              "   array([1.03243083]),\n",
              "   1,\n",
              "   2,\n",
              "   [array([15.83474281]), array([1.03243083]), 3],\n",
              "   array([18.9320353]),\n",
              "   array([0.98659013]),\n",
              "   array([0.16360061]),\n",
              "   array([-0.01340987]),\n",
              "   0,\n",
              "   array([19.1893622])],\n",
              "  [22,\n",
              "   array([2.0524607]),\n",
              "   1,\n",
              "   2,\n",
              "   [array([17.88720352]), array([2.0524607]), 2],\n",
              "   array([21.99212493]),\n",
              "   array([1.16163553]),\n",
              "   array([0.18665415]),\n",
              "   array([0.14605815]),\n",
              "   1.0,\n",
              "   array([21.99212493])]],\n",
              " [[23,\n",
              "   array([1.85716217]),\n",
              "   0,\n",
              "   0,\n",
              "   [array([16.03004135]), array([1.85716217]), 3],\n",
              "   array([21.60152785]),\n",
              "   array([0.98223923]),\n",
              "   array([0.25792095]),\n",
              "   array([-0.01776077]),\n",
              "   0,\n",
              "   array([21.99212493])],\n",
              "  [24,\n",
              "   array([1.58995838]),\n",
              "   0,\n",
              "   0,\n",
              "   [array([14.44008297]), array([1.58995838]), 4],\n",
              "   array([20.79991649]),\n",
              "   array([0.96289099]),\n",
              "   array([0.30576245]),\n",
              "   array([-0.0542107]),\n",
              "   -1.0,\n",
              "   array([20.79991649])]],\n",
              " [[25,\n",
              "   array([1.25882775]),\n",
              "   0,\n",
              "   0,\n",
              "   [array([13.18125522]), array([1.25882775]), 5],\n",
              "   array([19.47539397]),\n",
              "   array([0.93632078]),\n",
              "   array([0.32318415]),\n",
              "   array([-0.06367922]),\n",
              "   -1.0,\n",
              "   array([19.47539397])]],\n",
              " [[26,\n",
              "   array([0.68326909]),\n",
              "   0,\n",
              "   0,\n",
              "   [array([12.49798613]), array([0.68326909]), 6],\n",
              "   array([16.59760069]),\n",
              "   array([0.8522344]),\n",
              "   array([0.24700043]),\n",
              "   array([-0.1477656]),\n",
              "   -1.0,\n",
              "   array([16.59760069])]],\n",
              " [[27,\n",
              "   array([1.36301408]),\n",
              "   0,\n",
              "   0,\n",
              "   [array([11.13497205]), array([1.36301408]), 7],\n",
              "   array([20.67607062]),\n",
              "   array([1.24572648]),\n",
              "   array([0.46145608]),\n",
              "   array([0.24572648]),\n",
              "   1.0,\n",
              "   array([20.67607062])]],\n",
              " [[28,\n",
              "   array([0.65348743]),\n",
              "   0,\n",
              "   0,\n",
              "   [array([10.48148462]), array([0.65348743]), 8],\n",
              "   array([15.70938406]),\n",
              "   array([0.75978576]),\n",
              "   array([0.33278831]),\n",
              "   array([-0.24021424]),\n",
              "   -1.0,\n",
              "   array([15.70938406])]],\n",
              " [[29,\n",
              "   array([1.10398329]),\n",
              "   0,\n",
              "   0,\n",
              "   [array([9.37750132]), array([1.10398329]), 9],\n",
              "   array([19.31335098]),\n",
              "   array([1.22941491]),\n",
              "   array([0.51445498]),\n",
              "   array([0.22941491]),\n",
              "   1.0,\n",
              "   array([19.31335098])]],\n",
              " [[30,\n",
              "   array([1.53408258]),\n",
              "   1,\n",
              "   2,\n",
              "   [array([10.91158391]), array([1.53408258]), 8],\n",
              "   array([23.18424457]),\n",
              "   array([1.20042579]),\n",
              "   array([0.52935349]),\n",
              "   array([0.20042579]),\n",
              "   1.0,\n",
              "   array([23.18424457])]],\n",
              " [[31,\n",
              "   array([0.99525863]),\n",
              "   0,\n",
              "   0,\n",
              "   [array([9.91632528]), array([0.99525863]), 9],\n",
              "   array([18.87365295]),\n",
              "   array([0.81407237]),\n",
              "   array([0.47459428]),\n",
              "   array([-0.18592763]),\n",
              "   -1.0,\n",
              "   array([18.87365295])]],\n",
              " [[32,\n",
              "   array([1.54345823]),\n",
              "   1,\n",
              "   2,\n",
              "   [array([11.45978351]), array([1.54345823]), 8],\n",
              "   array([23.80744939]),\n",
              "   array([1.26141185]),\n",
              "   array([0.51864715]),\n",
              "   array([0.26141185]),\n",
              "   1.0,\n",
              "   array([23.80744939])]],\n",
              " [[33,\n",
              "   array([1.43905041]),\n",
              "   0,\n",
              "   0,\n",
              "   [array([10.0207331]), array([1.43905041]), 9],\n",
              "   array([22.97218679]),\n",
              "   array([0.96491591]),\n",
              "   array([0.56378845]),\n",
              "   array([-0.03508409]),\n",
              "   0,\n",
              "   array([23.80744939])],\n",
              "  [34,\n",
              "   array([0.85673465]),\n",
              "   1,\n",
              "   2,\n",
              "   [array([10.87746775]), array([0.85673465]), 8],\n",
              "   array([17.73134496]),\n",
              "   array([0.77186143]),\n",
              "   array([0.38654018]),\n",
              "   array([-0.25521862]),\n",
              "   -1.0,\n",
              "   array([17.73134496])]],\n",
              " [[35,\n",
              "   array([0.1574772]),\n",
              "   0,\n",
              "   0,\n",
              "   [array([10.71999056]), array([0.1574772]), 9],\n",
              "   array([12.13728532]),\n",
              "   array([0.68451013]),\n",
              "   array([0.11677197]),\n",
              "   array([-0.31548987]),\n",
              "   -1.0,\n",
              "   array([12.13728532])]],\n",
              " [[36,\n",
              "   array([1.]),\n",
              "   1,\n",
              "   2,\n",
              "   [array([11.71999056]), array([1.]), 8],\n",
              "   array([19.71999056]),\n",
              "   array([1.62474475]),\n",
              "   array([0.40567971]),\n",
              "   array([0.62474475]),\n",
              "   1.0,\n",
              "   array([19.71999056])]],\n",
              " [[37,\n",
              "   array([1.57255504]),\n",
              "   0,\n",
              "   0,\n",
              "   [array([10.14743552]), array([1.57255504]), 9],\n",
              "   array([24.30043084]),\n",
              "   array([1.23227396]),\n",
              "   array([0.58241746]),\n",
              "   array([0.23227396]),\n",
              "   1.0,\n",
              "   array([24.30043084])]],\n",
              " [[38,\n",
              "   array([0.91698632]),\n",
              "   0,\n",
              "   0,\n",
              "   [array([9.2304492]), array([0.91698632]), 10],\n",
              "   array([18.40031239]),\n",
              "   array([0.75720108]),\n",
              "   array([0.49835367]),\n",
              "   array([-0.24279892]),\n",
              "   -1.0,\n",
              "   array([18.40031239])]],\n",
              " [[39,\n",
              "   array([0.81905389]),\n",
              "   0,\n",
              "   0,\n",
              "   [array([8.41139531]), array([0.81905389]), 11],\n",
              "   array([17.42098811]),\n",
              "   array([0.94677676]),\n",
              "   array([0.51716887]),\n",
              "   array([-0.05322324]),\n",
              "   -1.0,\n",
              "   array([17.42098811])]],\n",
              " [[40,\n",
              "   array([1.57968579]),\n",
              "   0,\n",
              "   0,\n",
              "   [array([6.83170952]), array([1.57968579]), 12],\n",
              "   array([25.78793899]),\n",
              "   array([1.48027993]),\n",
              "   array([0.73508121]),\n",
              "   array([0.48027993]),\n",
              "   1.0,\n",
              "   array([25.78793899])]],\n",
              " [[41,\n",
              "   array([0.49630391]),\n",
              "   0,\n",
              "   0,\n",
              "   [array([6.33540562]), array([0.49630391]), 13],\n",
              "   array([12.78735639]),\n",
              "   array([0.49586578]),\n",
              "   array([0.50455705]),\n",
              "   array([-0.50413422]),\n",
              "   -1.0,\n",
              "   array([12.78735639])]],\n",
              " [[42,\n",
              "   array([1.63739541]),\n",
              "   0,\n",
              "   0,\n",
              "   [array([4.6980102]), array([1.63739541]), 14],\n",
              "   array([27.62154599]),\n",
              "   array([2.16006696]),\n",
              "   array([0.82991502]),\n",
              "   array([1.16006696]),\n",
              "   1.0,\n",
              "   array([27.62154599])]],\n",
              " [[43,\n",
              "   array([1.23802346]),\n",
              "   0,\n",
              "   0,\n",
              "   [array([3.45998674]), array([1.23802346]), 15],\n",
              "   array([22.03033869]),\n",
              "   array([0.79757805]),\n",
              "   array([0.84294446]),\n",
              "   array([-0.20242195]),\n",
              "   -1.0,\n",
              "   array([22.03033869])]],\n",
              " [[44,\n",
              "   array([1.38829497]),\n",
              "   0,\n",
              "   0,\n",
              "   [array([2.07169177]), array([1.38829497]), 16],\n",
              "   array([24.28441125]),\n",
              "   array([1.10231675]),\n",
              "   array([0.91469047]),\n",
              "   array([0.10231675]),\n",
              "   1.0,\n",
              "   array([24.28441125])]],\n",
              " [[45,\n",
              "   array([1.3862416]),\n",
              "   0,\n",
              "   0,\n",
              "   [array([0.68545017]), array([1.3862416]), 17],\n",
              "   array([24.25155745]),\n",
              "   array([0.99864712]),\n",
              "   array([0.97173583]),\n",
              "   array([-0.00135288]),\n",
              "   0,\n",
              "   array([24.28441125])],\n",
              "  [46,\n",
              "   array([2.50678065]),\n",
              "   0,\n",
              "   1,\n",
              "   [array([0.68545017]), array([2.50678065]), 17],\n",
              "   array([43.30072114]),\n",
              "   array([1.78548208]),\n",
              "   array([0.98417001]),\n",
              "   array([0.78306654]),\n",
              "   1.0,\n",
              "   array([43.30072114])]],\n",
              " [[47,\n",
              "   array([2.04748909]),\n",
              "   0,\n",
              "   1,\n",
              "   [array([0.68545017]), array([2.04748909]), 17],\n",
              "   array([35.49276472]),\n",
              "   array([0.81968068]),\n",
              "   array([0.98068761]),\n",
              "   array([-0.18031932]),\n",
              "   -1.0,\n",
              "   array([35.49276472])]],\n",
              " [[48,\n",
              "   array([2.59718938]),\n",
              "   0,\n",
              "   1,\n",
              "   [array([0.68545017]), array([2.59718938]), 17],\n",
              "   array([44.83766971]),\n",
              "   array([1.26329042]),\n",
              "   array([0.98471263]),\n",
              "   array([0.26329042]),\n",
              "   1.0,\n",
              "   array([44.83766971])]],\n",
              " [[49,\n",
              "   array([2.00015538]),\n",
              "   1,\n",
              "   2,\n",
              "   [array([2.68560554]), array([2.00015538]), 16],\n",
              "   array([34.68809155]),\n",
              "   array([0.77363725]),\n",
              "   array([0.92257846]),\n",
              "   array([-0.22636275]),\n",
              "   -1.0,\n",
              "   array([34.68809155])]],\n",
              " [[50,\n",
              "   array([2.38045395]),\n",
              "   1,\n",
              "   2,\n",
              "   [array([5.06605949]), array([2.38045395]), 15],\n",
              "   array([40.77286875]),\n",
              "   array([1.17541401]),\n",
              "   array([0.87574925]),\n",
              "   array([0.17541401]),\n",
              "   1.0,\n",
              "   array([40.77286875])]],\n",
              " [[51,\n",
              "   array([2.98399177]),\n",
              "   1,\n",
              "   2,\n",
              "   [array([8.05005126]), array([2.98399177]), 14],\n",
              "   array([49.82593598]),\n",
              "   array([1.22203655]),\n",
              "   array([0.83843653]),\n",
              "   array([0.22203655]),\n",
              "   1.0,\n",
              "   array([49.82593598])]],\n",
              " [[52,\n",
              "   array([2.98021053]),\n",
              "   0,\n",
              "   0,\n",
              "   [array([5.06984073]), array([2.98021053]), 15],\n",
              "   array([49.77299871]),\n",
              "   array([0.99893756]),\n",
              "   array([0.89814074]),\n",
              "   array([-0.00106244]),\n",
              "   0,\n",
              "   array([49.82593598])],\n",
              "  [53,\n",
              "   array([2.69547675]),\n",
              "   1,\n",
              "   2,\n",
              "   [array([7.76531747]), array([2.69547675]), 14],\n",
              "   array([45.50199193]),\n",
              "   array([0.91419029]),\n",
              "   array([0.82934115]),\n",
              "   array([-0.08678099]),\n",
              "   -1.0,\n",
              "   array([45.50199193])]],\n",
              " [[54,\n",
              "   array([3.77790637]),\n",
              "   0,\n",
              "   0,\n",
              "   [array([3.9874111]), array([3.77790637]), 15],\n",
              "   array([60.65600664]),\n",
              "   array([1.33304069]),\n",
              "   array([0.93426189]),\n",
              "   array([0.33304069]),\n",
              "   1.0,\n",
              "   array([60.65600664])]],\n",
              " [[55,\n",
              "   array([4.04911034]),\n",
              "   0,\n",
              "   1,\n",
              "   [array([3.9874111]), array([4.04911034]), 15],\n",
              "   array([64.72406616]),\n",
              "   array([1.06706771]),\n",
              "   array([0.93839369]),\n",
              "   array([0.06706771]),\n",
              "   1.0,\n",
              "   array([64.72406616])]],\n",
              " [[56,\n",
              "   array([3.64617512]),\n",
              "   0,\n",
              "   0,\n",
              "   [array([0.34123599]), array([3.64617512]), 16],\n",
              "   array([58.68003784]),\n",
              "   array([0.90661853]),\n",
              "   array([0.9941848]),\n",
              "   array([-0.09338147]),\n",
              "   -1.0,\n",
              "   array([58.68003784])]],\n",
              " [[57,\n",
              "   array([4.42712879]),\n",
              "   1,\n",
              "   2,\n",
              "   [array([4.76836477]), array([4.42712879]), 15],\n",
              "   array([71.17529656]),\n",
              "   array([1.21293883]),\n",
              "   array([0.93300534]),\n",
              "   array([0.21293883]),\n",
              "   1.0,\n",
              "   array([71.17529656])]],\n",
              " [[58,\n",
              "   array([4.85651285]),\n",
              "   0,\n",
              "   1,\n",
              "   [array([4.76836477]), array([4.85651285]), 15],\n",
              "   array([77.61605756]),\n",
              "   array([1.09049152]),\n",
              "   array([0.93856471]),\n",
              "   array([0.09049152]),\n",
              "   1.0,\n",
              "   array([77.61605756])]],\n",
              " [[59,\n",
              "   array([3.72843603]),\n",
              "   0,\n",
              "   0,\n",
              "   [array([1.03992874]), array([3.72843603]), 16],\n",
              "   array([60.6949053]),\n",
              "   array([0.78198903]),\n",
              "   array([0.98286629]),\n",
              "   array([-0.21801097]),\n",
              "   -1.0,\n",
              "   array([60.6949053])]],\n",
              " [[60,\n",
              "   array([4.707393]),\n",
              "   0,\n",
              "   1,\n",
              "   [array([1.03992874]), array([4.707393]), 16],\n",
              "   array([76.35821667]),\n",
              "   array([1.25806633]),\n",
              "   array([0.98638092]),\n",
              "   array([0.25806633]),\n",
              "   1.0,\n",
              "   array([76.35821667])]],\n",
              " [[61,\n",
              "   array([4.56068467]),\n",
              "   0,\n",
              "   1,\n",
              "   [array([1.03992874]), array([4.56068467]), 16],\n",
              "   array([74.0108834]),\n",
              "   array([0.96925893]),\n",
              "   array([0.98594898]),\n",
              "   array([-0.03074107]),\n",
              "   0,\n",
              "   array([76.35821667])],\n",
              "  [62,\n",
              "   array([5.72413011]),\n",
              "   0,\n",
              "   1,\n",
              "   [array([1.03992874]), array([5.72413011]), 16],\n",
              "   array([92.62601056]),\n",
              "   array([1.25151878]),\n",
              "   array([0.98877282]),\n",
              "   array([0.21304575]),\n",
              "   1.0,\n",
              "   array([92.62601056])]],\n",
              " [[63,\n",
              "   array([6.58311382]),\n",
              "   0,\n",
              "   1,\n",
              "   [array([1.03992874]), array([6.58311382]), 16],\n",
              "   array([106.3697498]),\n",
              "   array([1.14837883]),\n",
              "   array([0.99022345]),\n",
              "   array([0.14837883]),\n",
              "   1.0,\n",
              "   array([106.3697498])]],\n",
              " [[64,\n",
              "   array([6.45952398]),\n",
              "   0,\n",
              "   1,\n",
              "   [array([1.03992874]), array([6.45952398]), 16],\n",
              "   array([104.39231236]),\n",
              "   array([0.98140978]),\n",
              "   array([0.99003826]),\n",
              "   array([-0.01859022]),\n",
              "   0,\n",
              "   array([106.3697498])],\n",
              "  [65,\n",
              "   array([5.44480158]),\n",
              "   1,\n",
              "   2,\n",
              "   [array([6.48473032]), array([5.44480158]), 15],\n",
              "   array([88.15675398]),\n",
              "   array([0.84447554]),\n",
              "   array([0.92644091]),\n",
              "   array([-0.17122345]),\n",
              "   -1.0,\n",
              "   array([88.15675398])]],\n",
              " [[66,\n",
              "   array([5.87508561]),\n",
              "   0,\n",
              "   0,\n",
              "   [array([0.60964471]), array([5.87508561]), 16],\n",
              "   array([94.61101445]),\n",
              "   array([1.07321345]),\n",
              "   array([0.9935563]),\n",
              "   array([0.07321345]),\n",
              "   1.0,\n",
              "   array([94.61101445])]],\n",
              " [[67,\n",
              "   array([5.44454623]),\n",
              "   1,\n",
              "   2,\n",
              "   [array([6.05419094]), array([5.44454623]), 15],\n",
              "   array([87.72238442]),\n",
              "   array([0.92718998]),\n",
              "   array([0.93098465]),\n",
              "   array([-0.07281002]),\n",
              "   -1.0,\n",
              "   array([87.72238442])]],\n",
              " [[68,\n",
              "   array([6.410686]),\n",
              "   0,\n",
              "   1,\n",
              "   [array([6.05419094]), array([6.410686]), 15],\n",
              "   array([102.21448088]),\n",
              "   array([1.16520409]),\n",
              "   array([0.94076973]),\n",
              "   array([0.16520409]),\n",
              "   1.0,\n",
              "   array([102.21448088])]],\n",
              " [[69,\n",
              "   array([5.44614529]),\n",
              "   0,\n",
              "   0,\n",
              "   [array([0.60804565]), array([5.44614529]), 16],\n",
              "   array([87.74637031]),\n",
              "   array([0.85845342]),\n",
              "   array([0.99307042]),\n",
              "   array([-0.14154658]),\n",
              "   -1.0,\n",
              "   array([87.74637031])]],\n",
              " [[70,\n",
              "   array([5.65648458]),\n",
              "   1,\n",
              "   2,\n",
              "   [array([6.26453023]), array([5.65648458]), 15],\n",
              "   array([91.11179892]),\n",
              "   array([1.03835405]),\n",
              "   array([0.93124348]),\n",
              "   array([0.03835405]),\n",
              "   0,\n",
              "   array([87.74637031])],\n",
              "  [71,\n",
              "   array([5.42321396]),\n",
              "   1,\n",
              "   2,\n",
              "   [array([11.68774419]), array([5.42321396]), 14],\n",
              "   array([87.61273961]),\n",
              "   array([0.96159598]),\n",
              "   array([0.86659766]),\n",
              "   array([-0.00152292]),\n",
              "   0,\n",
              "   array([87.74637031])],\n",
              "  [72,\n",
              "   array([5.36574346]),\n",
              "   0,\n",
              "   0,\n",
              "   [array([6.32200073]), array([5.36574346]), 15],\n",
              "   array([86.80815262]),\n",
              "   array([0.99081655]),\n",
              "   array([0.92717273]),\n",
              "   array([-0.01069238]),\n",
              "   0,\n",
              "   array([87.74637031])],\n",
              "  [73,\n",
              "   array([4.51683018]),\n",
              "   1,\n",
              "   2,\n",
              "   [array([10.83883091]), array([4.51683018]), 14],\n",
              "   array([74.07445345]),\n",
              "   array([0.85331217]),\n",
              "   array([0.85367653]),\n",
              "   array([-0.15581177]),\n",
              "   -1.0,\n",
              "   array([74.07445345])]],\n",
              " [[74,\n",
              "   array([3.73878849]),\n",
              "   1,\n",
              "   2,\n",
              "   [array([14.5776194]), array([3.73878849]), 13],\n",
              "   array([63.18186984]),\n",
              "   array([0.85295087]),\n",
              "   array([0.76927528]),\n",
              "   array([-0.14704913]),\n",
              "   -1.0,\n",
              "   array([63.18186984])]],\n",
              " [[75,\n",
              "   array([2.65999647]),\n",
              "   0,\n",
              "   0,\n",
              "   [array([11.91762293]), array([2.65999647]), 14],\n",
              "   array([49.15757353]),\n",
              "   array([0.7780329]),\n",
              "   array([0.75756283]),\n",
              "   array([-0.2219671]),\n",
              "   -1.0,\n",
              "   array([49.15757353])]],\n",
              " [[76,\n",
              "   array([3.12880394]),\n",
              "   0,\n",
              "   0,\n",
              "   [array([8.78881899]), array([3.12880394]), 15],\n",
              "   array([55.72087813]),\n",
              "   array([1.13351563]),\n",
              "   array([0.84227063]),\n",
              "   array([0.13351563]),\n",
              "   1.0,\n",
              "   array([55.72087813])]],\n",
              " [[77,\n",
              "   array([3.77706104]),\n",
              "   1,\n",
              "   2,\n",
              "   [array([12.56588003]), array([3.77706104]), 14],\n",
              "   array([65.44473452]),\n",
              "   array([1.17451011]),\n",
              "   array([0.8079925]),\n",
              "   array([0.17451011]),\n",
              "   1.0,\n",
              "   array([65.44473452])]],\n",
              " [[78,\n",
              "   array([4.12752257]),\n",
              "   1,\n",
              "   2,\n",
              "   [array([16.6934026]), array([4.12752257]), 13],\n",
              "   array([70.35119607]),\n",
              "   array([1.07497107]),\n",
              "   array([0.76271331]),\n",
              "   array([0.07497107]),\n",
              "   1.0,\n",
              "   array([70.35119607])]],\n",
              " [[79,\n",
              "   array([5.05709735]),\n",
              "   0,\n",
              "   0,\n",
              "   [array([11.63630525]), array([5.05709735]), 14],\n",
              "   array([82.43566813]),\n",
              "   array([1.17177351]),\n",
              "   array([0.8588438]),\n",
              "   array([0.17177351]),\n",
              "   1.0,\n",
              "   array([82.43566813])]],\n",
              " [[80,\n",
              "   array([4.6186509]),\n",
              "   1,\n",
              "   2,\n",
              "   [array([16.25495615]), array([4.6186509]), 13],\n",
              "   array([76.29741786]),\n",
              "   array([0.9255389]),\n",
              "   array([0.78695274]),\n",
              "   array([-0.0744611]),\n",
              "   -1.0,\n",
              "   array([76.29741786])]],\n",
              " [[81,\n",
              "   array([4.32856153]),\n",
              "   1,\n",
              "   2,\n",
              "   [array([20.58351769]), array([4.32856153]), 12],\n",
              "   array([72.52625607]),\n",
              "   array([0.95057288]),\n",
              "   array([0.71619219]),\n",
              "   array([-0.04942712]),\n",
              "   0,\n",
              "   array([76.29741786])],\n",
              "  [82,\n",
              "   array([4.63309717]),\n",
              "   0,\n",
              "   0,\n",
              "   [array([15.95042052]), array([4.63309717]), 13],\n",
              "   array([76.18068369]),\n",
              "   array([1.05038765]),\n",
              "   array([0.79062382]),\n",
              "   array([-0.00152999]),\n",
              "   0,\n",
              "   array([76.29741786])],\n",
              "  [83,\n",
              "   array([5.72145071]),\n",
              "   0,\n",
              "   0,\n",
              "   [array([10.22896981]), array([5.72145071]), 14],\n",
              "   array([90.32927969]),\n",
              "   array([1.18572419]),\n",
              "   array([0.88675909]),\n",
              "   array([0.18391005]),\n",
              "   1.0,\n",
              "   array([90.32927969])]],\n",
              " [[84,\n",
              "   array([5.86789156]),\n",
              "   0,\n",
              "   0,\n",
              "   [array([4.36107825]), array([5.86789156]), 15],\n",
              "   array([92.3794517]),\n",
              "   array([1.02269665]),\n",
              "   array([0.95279169]),\n",
              "   array([0.02269665]),\n",
              "   0,\n",
              "   array([90.32927969])],\n",
              "  [85,\n",
              "   array([6.33920675]),\n",
              "   0,\n",
              "   1,\n",
              "   [array([4.36107825]), array([6.33920675]), 15],\n",
              "   array([99.44917951]),\n",
              "   array([1.07652922]),\n",
              "   array([0.95614767]),\n",
              "   array([0.10096283]),\n",
              "   1.0,\n",
              "   array([99.44917951])]],\n",
              " [[86,\n",
              "   array([7.30148911]),\n",
              "   0,\n",
              "   1,\n",
              "   [array([4.36107825]), array([7.30148911]), 15],\n",
              "   array([113.88341495]),\n",
              "   array([1.14514183]),\n",
              "   array([0.96170577]),\n",
              "   array([0.14514183]),\n",
              "   1.0,\n",
              "   array([113.88341495])]],\n",
              " [[87,\n",
              "   array([6.91189306]),\n",
              "   0,\n",
              "   1,\n",
              "   [array([4.36107825]), array([6.91189306]), 15],\n",
              "   array([108.0394742]),\n",
              "   array([0.94868488]),\n",
              "   array([0.9596344]),\n",
              "   array([-0.05131512]),\n",
              "   -1.0,\n",
              "   array([108.0394742])]],\n",
              " [[88,\n",
              "   array([5.91867082]),\n",
              "   1,\n",
              "   2,\n",
              "   [array([10.27974907]), array([5.91867082]), 14],\n",
              "   array([93.14114052]),\n",
              "   array([0.86210287]),\n",
              "   array([0.88963256]),\n",
              "   array([-0.13789713]),\n",
              "   -1.0,\n",
              "   array([93.14114052])]],\n",
              " [[89,\n",
              "   array([5.68630737]),\n",
              "   0,\n",
              "   0,\n",
              "   [array([4.5934417]), array([5.68630737]), 15],\n",
              "   array([89.8880522]),\n",
              "   array([0.96507356]),\n",
              "   array([0.9488982]),\n",
              "   array([-0.03492644]),\n",
              "   0,\n",
              "   array([93.14114052])],\n",
              "  [90,\n",
              "   array([5.69191541]),\n",
              "   0,\n",
              "   1,\n",
              "   [array([4.5934417]), array([5.69191541]), 15],\n",
              "   array([89.97217286]),\n",
              "   array([1.00093584]),\n",
              "   array([0.94894597]),\n",
              "   array([-0.03402329]),\n",
              "   0,\n",
              "   array([93.14114052])],\n",
              "  [91,\n",
              "   array([6.2769012]),\n",
              "   1,\n",
              "   2,\n",
              "   [array([10.8703429]), array([6.2769012]), 14],\n",
              "   array([98.74695973]),\n",
              "   array([1.09752779]),\n",
              "   array([0.88991719]),\n",
              "   array([0.06018628]),\n",
              "   1.0,\n",
              "   array([98.74695973])]],\n",
              " [[92,\n",
              "   array([5.53253732]),\n",
              "   0,\n",
              "   0,\n",
              "   [array([5.33780558]), array([5.53253732]), 15],\n",
              "   array([88.32586542]),\n",
              "   array([0.89446668]),\n",
              "   array([0.9395669]),\n",
              "   array([-0.10553332]),\n",
              "   -1.0,\n",
              "   array([88.32586542])]],\n",
              " [[93,\n",
              "   array([5.98417297]),\n",
              "   1,\n",
              "   2,\n",
              "   [array([11.32197855]), array([5.98417297]), 14],\n",
              "   array([95.10040009]),\n",
              "   array([1.07669933]),\n",
              "   array([0.8809471]),\n",
              "   array([0.07669933]),\n",
              "   1.0,\n",
              "   array([95.10040009])]],\n",
              " [[94,\n",
              "   array([5.35237281]),\n",
              "   0,\n",
              "   0,\n",
              "   [array([5.96960573]), array([5.35237281]), 15],\n",
              "   array([86.25519793]),\n",
              "   array([0.9069909]),\n",
              "   array([0.93079135]),\n",
              "   array([-0.0930091]),\n",
              "   -1.0,\n",
              "   array([86.25519793])]],\n",
              " [[95,\n",
              "   array([4.67826311]),\n",
              "   0,\n",
              "   0,\n",
              "   [array([1.29134263]), array([4.67826311]), 16],\n",
              "   array([76.14355235]),\n",
              "   array([0.88277059]),\n",
              "   array([0.98304068]),\n",
              "   array([-0.11722941]),\n",
              "   -1.0,\n",
              "   array([76.14355235])]]]"
            ]
          },
          "metadata": {
            "tags": []
          },
          "execution_count": 22
        }
      ]
    },
    {
      "cell_type": "code",
      "metadata": {
        "id": "Tiw8inRifyZK",
        "colab_type": "code",
        "colab": {}
      },
      "source": [
        ""
      ],
      "execution_count": null,
      "outputs": []
    },
    {
      "cell_type": "code",
      "metadata": {
        "id": "I9xyQaVFvOHH",
        "colab_type": "code",
        "colab": {
          "base_uri": "https://localhost:8080/",
          "height": 761
        },
        "outputId": "d3b07f6c-43b6-42f6-de03-12bbe24500c9"
      },
      "source": [
        "fk = np.array(history_record)\n",
        "fkn = []\n",
        "for i in range(len(fk)):\n",
        "  for j in range(len(fk[i])):\n",
        "    fkn.append(fk[i][j]) \n",
        "\n",
        "wealth = []\n",
        "for i in range(len(fkn)):\n",
        "  wealth.append(fkn[i][5])\n",
        "\n",
        "stock = []\n",
        "for i in range(len(fkn)):\n",
        "  stock.append(fkn[i][4][2])\n",
        "\n",
        "plt.plot(wealth)\n",
        "plt.show()\n",
        "\n",
        "plt.plot(stock)\n",
        "plt.show()\n",
        "\n",
        "plt.plot(price_lstm)\n",
        "plt.show()"
      ],
      "execution_count": 23,
      "outputs": [
        {
          "output_type": "display_data",
          "data": {
            "image/png": "[encoded data removed]",
            "text/plain": [
              "<Figure size 432x288 with 1 Axes>"
            ]
          },
          "metadata": {
            "tags": [],
            "needs_background": "light"
          }
        },
        {
          "output_type": "display_data",
          "data": {
            "image/png": "[encoded data removed]",
            "text/plain": [
              "<Figure size 432x288 with 1 Axes>"
            ]
          },
          "metadata": {
            "tags": [],
            "needs_background": "light"
          }
        },
        {
          "output_type": "display_data",
          "data": {
            "image/png": "[encoded data removed]",
            "text/plain": [
              "<Figure size 432x288 with 1 Axes>"
            ]
          },
          "metadata": {
            "tags": [],
            "needs_background": "light"
          }
        }
      ]
    },
    {
      "cell_type": "code",
      "metadata": {
        "id": "1pgFjC-RxGGF",
        "colab_type": "code",
        "colab": {}
      },
      "source": [
        ""
      ],
      "execution_count": null,
      "outputs": []
    },
    {
      "cell_type": "markdown",
      "metadata": {
        "id": "ge_mWVAy229o",
        "colab_type": "text"
      },
      "source": [
        "결전 테스트 테스트 테스트"
      ]
    },
    {
      "cell_type": "code",
      "metadata": {
        "id": "L8GCRL3_F4F5",
        "colab_type": "code",
        "colab": {
          "base_uri": "https://localhost:8080/",
          "height": 105
        },
        "outputId": "1373db65-a2ae-4f36-f127-404a9ca83e7e"
      },
      "source": [
        "y = np.full((5, 2), 0.5)\n",
        "y"
      ],
      "execution_count": null,
      "outputs": [
        {
          "output_type": "execute_result",
          "data": {
            "text/plain": [
              "array([[0.5, 0.5],\n",
              "       [0.5, 0.5],\n",
              "       [0.5, 0.5],\n",
              "       [0.5, 0.5],\n",
              "       [0.5, 0.5]])"
            ]
          },
          "metadata": {
            "tags": []
          },
          "execution_count": 46
        }
      ]
    },
    {
      "cell_type": "code",
      "metadata": {
        "id": "GKGMXsYQV2x1",
        "colab_type": "code",
        "colab": {
          "base_uri": "https://localhost:8080/",
          "height": 105
        },
        "outputId": "f4a0eb78-e01e-4c31-ff36-4638be5d83e1"
      },
      "source": [
        "kk = [1,0,1,0,1]\n",
        "for i, k in enumerate(kk):\n",
        "  y[i,k] = 1.0\n",
        "\n",
        "y"
      ],
      "execution_count": null,
      "outputs": [
        {
          "output_type": "execute_result",
          "data": {
            "text/plain": [
              "array([[0.5, 1. ],\n",
              "       [1. , 0.5],\n",
              "       [0.5, 1. ],\n",
              "       [1. , 0.5],\n",
              "       [0.5, 1. ]])"
            ]
          },
          "metadata": {
            "tags": []
          },
          "execution_count": 48
        }
      ]
    },
    {
      "cell_type": "code",
      "metadata": {
        "id": "DFjvfVDfXxfo",
        "colab_type": "code",
        "colab": {
          "base_uri": "https://localhost:8080/",
          "height": 105
        },
        "outputId": "935866a1-d925-488c-d73e-ec095613baac"
      },
      "source": [
        "x = [np.array([5.0, 7.0]), np.array([6.0, 3.0]), np.array([2.0, 9.0]), np.array([5.0, 2.0]), np.array([3.0, 5.0])]\n",
        "x = np.array(x)\n",
        "x"
      ],
      "execution_count": null,
      "outputs": [
        {
          "output_type": "execute_result",
          "data": {
            "text/plain": [
              "array([[5., 7.],\n",
              "       [6., 3.],\n",
              "       [2., 9.],\n",
              "       [5., 2.],\n",
              "       [3., 5.]])"
            ]
          },
          "metadata": {
            "tags": []
          },
          "execution_count": 71
        }
      ]
    },
    {
      "cell_type": "code",
      "metadata": {
        "id": "k7dmfp4JZPwe",
        "colab_type": "code",
        "colab": {}
      },
      "source": [
        ""
      ],
      "execution_count": null,
      "outputs": []
    },
    {
      "cell_type": "code",
      "metadata": {
        "id": "iBDkiEfdWly6",
        "colab_type": "code",
        "colab": {}
      },
      "source": [
        "from tensorflow import keras\n",
        "import keras.layers as layers\n",
        "from keras.layers import LSTM, Dense, Dropout\n",
        "from keras.models import Model, Sequential\n",
        "from keras.optimizers import Adam, RMSprop"
      ],
      "execution_count": null,
      "outputs": []
    },
    {
      "cell_type": "code",
      "metadata": {
        "id": "IFpQnb7rWmGg",
        "colab_type": "code",
        "colab": {}
      },
      "source": [
        "def get_policy_model(lr):\n",
        "  \n",
        "  inp_L = layers.Input(shape=(5,1))  # 타입스텝수 7개, 특성개수 1개\n",
        "  dense1 = LSTM(10)(inp_L)\n",
        "  dense1 = Dense(64)(dense1) \n",
        "  dense1 = Dropout(0.5)(dense1)\n",
        "  dense1 = Dense(64)(dense1)\n",
        "  output_s = layers.Dense(1)(dense1)\n",
        "\n",
        "  model_train = Model(inputs=inp_L, outputs = output_s)\n",
        "  model_train.compile(loss='mse', optimizer=Adam(lr), metrics = ['mae'])\n",
        "  model_predict = Model(inputs=inp_L, outputs=output_s)\n",
        "  return model_train, model_predict"
      ],
      "execution_count": null,
      "outputs": []
    },
    {
      "cell_type": "code",
      "metadata": {
        "id": "y09ZuzLYSnvH",
        "colab_type": "code",
        "colab": {}
      },
      "source": [
        ""
      ],
      "execution_count": null,
      "outputs": []
    },
    {
      "cell_type": "code",
      "metadata": {
        "id": "YO3z5VbSn4Rs",
        "colab_type": "code",
        "colab": {}
      },
      "source": [
        "model_train, model_predict = get_policy_model(0.01)"
      ],
      "execution_count": null,
      "outputs": []
    },
    {
      "cell_type": "code",
      "metadata": {
        "id": "nDPgJZbPn4iH",
        "colab_type": "code",
        "colab": {
          "base_uri": "https://localhost:8080/",
          "height": 369
        },
        "outputId": "a5db15b0-bc24-4f04-8a0d-4260e17e4958"
      },
      "source": [
        "model_train.summary()"
      ],
      "execution_count": null,
      "outputs": [
        {
          "output_type": "stream",
          "text": [
            "Model: \"functional_13\"\n",
            "_________________________________________________________________\n",
            "Layer (type)                 Output Shape              Param #   \n",
            "=================================================================\n",
            "input_6 (InputLayer)         [(None, 5, 1)]            0         \n",
            "_________________________________________________________________\n",
            "lstm_5 (LSTM)                (None, 10)                480       \n",
            "_________________________________________________________________\n",
            "dense_9 (Dense)              (None, 64)                704       \n",
            "_________________________________________________________________\n",
            "dropout_4 (Dropout)          (None, 64)                0         \n",
            "_________________________________________________________________\n",
            "dense_10 (Dense)             (None, 64)                4160      \n",
            "_________________________________________________________________\n",
            "dense_11 (Dense)             (None, 1)                 65        \n",
            "=================================================================\n",
            "Total params: 5,409\n",
            "Trainable params: 5,409\n",
            "Non-trainable params: 0\n",
            "_________________________________________________________________\n"
          ],
          "name": "stdout"
        }
      ]
    },
    {
      "cell_type": "code",
      "metadata": {
        "id": "tPRQGQwzn4cJ",
        "colab_type": "code",
        "colab": {
          "base_uri": "https://localhost:8080/",
          "height": 369
        },
        "outputId": "2aa78f12-e352-47db-dac8-df55d49929c4"
      },
      "source": [
        "history = model_train.fit(p_serise_lstm, price_lstm, epochs=10)"
      ],
      "execution_count": null,
      "outputs": [
        {
          "output_type": "stream",
          "text": [
            "Epoch 1/10\n",
            "3/3 [==============================] - 0s 3ms/step - loss: 12.0193 - mae: 2.7826\n",
            "Epoch 2/10\n",
            "3/3 [==============================] - 0s 3ms/step - loss: 4.1420 - mae: 1.7935\n",
            "Epoch 3/10\n",
            "3/3 [==============================] - 0s 3ms/step - loss: 3.0824 - mae: 1.4788\n",
            "Epoch 4/10\n",
            "3/3 [==============================] - 0s 6ms/step - loss: 2.8924 - mae: 1.2820\n",
            "Epoch 5/10\n",
            "3/3 [==============================] - 0s 3ms/step - loss: 1.5044 - mae: 0.9103\n",
            "Epoch 6/10\n",
            "3/3 [==============================] - 0s 3ms/step - loss: 1.5784 - mae: 0.9893\n",
            "Epoch 7/10\n",
            "3/3 [==============================] - 0s 3ms/step - loss: 0.9732 - mae: 0.8175\n",
            "Epoch 8/10\n",
            "3/3 [==============================] - 0s 3ms/step - loss: 1.3706 - mae: 0.9635\n",
            "Epoch 9/10\n",
            "3/3 [==============================] - 0s 3ms/step - loss: 0.7576 - mae: 0.6973\n",
            "Epoch 10/10\n",
            "3/3 [==============================] - 0s 3ms/step - loss: 1.3460 - mae: 0.8538\n"
          ],
          "name": "stdout"
        }
      ]
    },
    {
      "cell_type": "code",
      "metadata": {
        "id": "Pnr6ybbzRcFm",
        "colab_type": "code",
        "colab": {}
      },
      "source": [
        "model_train.predict(p_serise_lstm) == model_predict.predict(p_serise_lstm)"
      ],
      "execution_count": null,
      "outputs": []
    },
    {
      "cell_type": "markdown",
      "metadata": {
        "id": "kxMksbeaKDJM",
        "colab_type": "text"
      },
      "source": [
        "여기가 끝이다."
      ]
    },
    {
      "cell_type": "code",
      "metadata": {
        "id": "SI8QKecFCOu1",
        "colab_type": "code",
        "colab": {}
      },
      "source": [
        ""
      ],
      "execution_count": null,
      "outputs": []
    },
    {
      "cell_type": "code",
      "metadata": {
        "id": "SBRPDtROrMhB",
        "colab_type": "code",
        "colab": {
          "base_uri": "https://localhost:8080/",
          "height": 52
        },
        "outputId": "02f2b544-480b-4a58-fb18-311c9f932f14"
      },
      "source": [
        "aj = np.array([[0.5, 0.5], [0.5,0.7]])\n",
        "\n",
        "aj[0,0] = 1.0\n",
        "\n",
        "aj"
      ],
      "execution_count": null,
      "outputs": [
        {
          "output_type": "execute_result",
          "data": {
            "text/plain": [
              "array([[1. , 0.5],\n",
              "       [0.5, 0.7]])"
            ]
          },
          "metadata": {
            "tags": []
          },
          "execution_count": 49
        }
      ]
    },
    {
      "cell_type": "code",
      "metadata": {
        "id": "BuAebEm_COof",
        "colab_type": "code",
        "colab": {}
      },
      "source": [
        "from tensorflow import keras\n",
        "from tensorflow.keras.utils import to_categorical\n",
        "y_encoded = keras.utils.to_categorical(action, 2) # 분류 갯수를 정하기 위한 인수(2)가 필요하다."
      ],
      "execution_count": null,
      "outputs": []
    },
    {
      "cell_type": "code",
      "metadata": {
        "id": "Ul2K9MCnCOlJ",
        "colab_type": "code",
        "colab": {}
      },
      "source": [
        "def balance_update(predict, p_serise):\n",
        "\n",
        "  acts = []\n",
        "  balance = [100, 0, 0]  #[자본금, 종가, 보유주식수] 이다.\n",
        "  blist = [[100.0, 0.0, 0.0]]\n",
        "  for i in range(len(predict)):\n",
        "    action = np.random.choice(3,p=predict[i]) # 대안 중에서 하나를 선택한다. \n",
        "    \n",
        "    if action == 0 and (balance[0] - p_serise[i][4]) < 0:\n",
        "      ps = predict[i][1] + predict[i][2]\n",
        "      pn = [predict[i][1],predict[i][2]]/ps\n",
        "      action = 1+ np.random.choice(2,p=pn) \n",
        "\n",
        "    if action == 2 and balance[2] <= 0:\n",
        "      ps = predict[i][0] + predict[i][1]\n",
        "      pn = [predict[i][0],predict[i][1]]/ps\n",
        "      action = np.random.choice(2,p=pn)  \n",
        "\n",
        "    if action == 1:  # hold\n",
        "      balance[1] = p_serise[i][4]\n",
        "\n",
        "    if action  == 0:  # buy\n",
        "      balance[0] = balance[0] - p_serise[i][4]\n",
        "      balance[1] = p_serise[i][4]\n",
        "      balance[2] = balance[2] + 1\n",
        "\n",
        "    if action  == 2:\n",
        "      balance[0] = balance[0] + p_serise[i][4]\n",
        "      balance[1] = p_serise[i][4]\n",
        "      balance[2] = balance[2] - 1 \n",
        "     \n",
        "    blist.append([balance[0], balance[1], balance[2]])\n",
        "    acts.append(action)\n",
        "  return blist, acts"
      ],
      "execution_count": null,
      "outputs": []
    },
    {
      "cell_type": "code",
      "metadata": {
        "id": "CW6izHkVNTWr",
        "colab_type": "code",
        "colab": {}
      },
      "source": [
        "def reward_portfolio (blist):   \n",
        "\n",
        "  reward_sum_list=[]\n",
        "  reward_list=[]\n",
        "   \n",
        "\n",
        "  for a in blist:\n",
        "    reward_sum = a[0] + a[1] * a[2]\n",
        "    reward_sum_list.append(reward_sum)\n",
        "\n",
        "  for i in range(len(reward_sum_list)-1):\n",
        "    reward = np.abs(reward_sum_list[i+1] - reward_sum_list[i]) # 가중치를 일괄적으로 양 수로 만들어서 손실함수 계산의 방향을 일관되게 만든다.\n",
        "    reward_list.append(reward)      \n",
        "  return reward_sum_list, reward_list\n",
        "\n"
      ],
      "execution_count": null,
      "outputs": []
    },
    {
      "cell_type": "code",
      "metadata": {
        "id": "E__9jrhId8jq",
        "colab_type": "code",
        "colab": {
          "base_uri": "https://localhost:8080/",
          "height": 34
        },
        "outputId": "7d36365c-0b2f-45c0-8026-aa9cec51ac4f"
      },
      "source": [
        "r = [1.0, 1.0, 1.0, 1.0]\n",
        "\n",
        "discount_rewards(r)"
      ],
      "execution_count": null,
      "outputs": [
        {
          "output_type": "execute_result",
          "data": {
            "text/plain": [
              "array([1.   , 1.5  , 1.75 , 1.875])"
            ]
          },
          "metadata": {
            "tags": []
          },
          "execution_count": 24
        }
      ]
    },
    {
      "cell_type": "code",
      "metadata": {
        "id": "52938aqWnN-c",
        "colab_type": "code",
        "colab": {
          "base_uri": "https://localhost:8080/",
          "height": 34
        },
        "outputId": "210ebf42-2bb5-4c93-9498-e944c3f3ecde"
      },
      "source": [
        "from tensorflow.keras.utils import to_categorical\n",
        "from tensorflow import keras\n",
        "import keras.layers as layers\n",
        "from keras.layers import LSTM, Dense\n",
        "from keras.models import Model, Sequential\n",
        "from keras.optimizers import Adam, RMSprop\n",
        "from keras.initializers import glorot_uniform\n",
        "from keras.callbacks import ModelCheckpoint, EarlyStopping\n",
        "import keras.backend as K  # 케라스의 backend를 K. 형식으로 호출하는 것이고 여기서는 tensorflow이다."
      ],
      "execution_count": null,
      "outputs": [
        {
          "output_type": "stream",
          "text": [
            "Using TensorFlow backend.\n"
          ],
          "name": "stderr"
        }
      ]
    },
    {
      "cell_type": "code",
      "metadata": {
        "id": "KCPbLji1nrUn",
        "colab_type": "code",
        "colab": {}
      },
      "source": [
        "def get_policy_model(lr):\n",
        "  inp_L = layers.Input(shape=(5,),name=\"input_L\")\n",
        "  multip = layers.Input(shape=[1], name=\"advantages\")\n",
        "  dense_L = Dense(64)(inp_L)\n",
        "  output_s = layers.Dense(3, activation=\"softmax\",kernel_initializer=glorot_uniform(seed=42), use_bias=False, kernel_regularizer=keras.regularizers.l2(0.001), name=\"out\")(dense_L)\n",
        "\n",
        "  model_train = Model(inputs=[inp_L, multip], outputs = output_s)\n",
        "\n",
        "  # loss 함수를 actual과 predict가 같을때 -무한대가 되도록 만든다. 완전히 틀리면 0 이므로 loss 함수의 값의 범위는 -무한대 ~ 0 이다.\n",
        "  def custom_loss(y_true, y_pred):\n",
        "    # actual: 0 predict: 0 -> log(0 * (0 - 0) + (1 - 0) * (0 + 0)) = -inf   log(0) = - inf\n",
        "    # actual: 1 predict: 1 -> log(1 * (1 - 1) + (1 - 1) * (1 + 1)) = -inf   \n",
        "    # actual: 1 predict: 0 -> log(1 * (1 - 0) + (1 - 1) * (1 + 0)) = 0      log(1) = 0\n",
        "    # actual: 0 predict: 1 -> log(0 * (0 - 1) + (1 - 0) * (0 + 1)) = 0\n",
        "    a = y_true * (y_true - y_pred) + (1 - y_true) * (y_true + y_pred)\n",
        "    log_lik = K.log(a)\n",
        "    return K.mean(log_lik * multip, keepdims=True)\n",
        "\n",
        "  model_train.compile(loss=custom_loss, optimizer=Adam(lr), metrics = ['mae'])\n",
        "  model_predict = Model(inputs=[inp_L], outputs = output_s)\n",
        "  return model_train, model_predict"
      ],
      "execution_count": null,
      "outputs": []
    },
    {
      "cell_type": "code",
      "metadata": {
        "id": "Tf2pQzw7oOcE",
        "colab_type": "code",
        "colab": {}
      },
      "source": [
        "model_train, model_predict = get_policy_model(0.00001)"
      ],
      "execution_count": null,
      "outputs": []
    },
    {
      "cell_type": "code",
      "metadata": {
        "id": "BdCAk3uqoOf4",
        "colab_type": "code",
        "colab": {
          "base_uri": "https://localhost:8080/",
          "height": 263
        },
        "outputId": "87b33d10-6db3-4a14-a684-09a81d87c9c2"
      },
      "source": [
        "model_train.summary()"
      ],
      "execution_count": null,
      "outputs": [
        {
          "output_type": "stream",
          "text": [
            "Model: \"model_1\"\n",
            "_________________________________________________________________\n",
            "Layer (type)                 Output Shape              Param #   \n",
            "=================================================================\n",
            "input_L (InputLayer)         (None, 5)                 0         \n",
            "_________________________________________________________________\n",
            "dense_1 (Dense)              (None, 64)                384       \n",
            "_________________________________________________________________\n",
            "out (Dense)                  (None, 3)                 192       \n",
            "=================================================================\n",
            "Total params: 576\n",
            "Trainable params: 576\n",
            "Non-trainable params: 0\n",
            "_________________________________________________________________\n"
          ],
          "name": "stdout"
        }
      ]
    },
    {
      "cell_type": "code",
      "metadata": {
        "id": "cnaVguhh0ykz",
        "colab_type": "code",
        "colab": {}
      },
      "source": [
        ""
      ],
      "execution_count": null,
      "outputs": []
    },
    {
      "cell_type": "code",
      "metadata": {
        "id": "ee-kc84l2EFX",
        "colab_type": "code",
        "colab": {}
      },
      "source": [
        ""
      ],
      "execution_count": null,
      "outputs": []
    },
    {
      "cell_type": "code",
      "metadata": {
        "id": "IazXuUZw56iI",
        "colab_type": "code",
        "colab": {}
      },
      "source": [
        ""
      ],
      "execution_count": null,
      "outputs": []
    }
  ]
}