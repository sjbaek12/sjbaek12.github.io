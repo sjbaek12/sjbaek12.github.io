{
  "nbformat": 4,
  "nbformat_minor": 0,
  "metadata": {
    "colab": {
      "name": "주택가격_앙상블",
      "provenance": [],
      "collapsed_sections": [],
      "authorship_tag": "ABX9TyMp1LAmfSeDKlUfTjQfvKZv",
      "include_colab_link": true
    },
    "kernelspec": {
      "name": "python3",
      "display_name": "Python 3"
    }
  },
  "cells": [
    {
      "cell_type": "markdown",
      "metadata": {
        "id": "view-in-github",
        "colab_type": "text"
      },
      "source": [
        "<a href=\"https://colab.research.google.com/github/sjbaek12/sjbaek12.github.io/blob/master/%EC%A3%BC%ED%83%9D%EA%B0%80%EA%B2%A9_%EC%95%99%EC%83%81%EB%B8%94.ipynb\" target=\"_parent\"><img src=\"https://colab.research.google.com/assets/colab-badge.svg\" alt=\"Open In Colab\"/></a>"
      ]
    },
    {
      "cell_type": "code",
      "metadata": {
        "id": "J7AG-vdJuyKN",
        "colab_type": "code",
        "colab": {
          "base_uri": "https://localhost:8080/",
          "height": 34
        },
        "outputId": "754569f7-5621-4273-f2d5-fc7811543d91"
      },
      "source": [
        "import keras"
      ],
      "execution_count": 2,
      "outputs": [
        {
          "output_type": "stream",
          "text": [
            "Using TensorFlow backend.\n"
          ],
          "name": "stderr"
        }
      ]
    },
    {
      "cell_type": "code",
      "metadata": {
        "id": "33i20PYev67v",
        "colab_type": "code",
        "colab": {
          "base_uri": "https://localhost:8080/",
          "height": 52
        },
        "outputId": "1c02c2d6-e51a-425b-9e3f-05593c82e3ea"
      },
      "source": [
        "from keras.datasets import boston_housing\n",
        "\n",
        "(train_data, train_targets), (test_data, test_targets) =  boston_housing.load_data()"
      ],
      "execution_count": 3,
      "outputs": [
        {
          "output_type": "stream",
          "text": [
            "Downloading data from https://s3.amazonaws.com/keras-datasets/boston_housing.npz\n",
            "57344/57026 [==============================] - 0s 2us/step\n"
          ],
          "name": "stdout"
        }
      ]
    },
    {
      "cell_type": "code",
      "metadata": {
        "id": "Fk7NIZ9Awczx",
        "colab_type": "code",
        "colab": {}
      },
      "source": [
        " from sklearn.model_selection import train_test_split"
      ],
      "execution_count": 4,
      "outputs": []
    },
    {
      "cell_type": "code",
      "metadata": {
        "id": "tfpGSoFtweaZ",
        "colab_type": "code",
        "colab": {}
      },
      "source": [
        "x_train, x_val, y_train, y_val = train_test_split(train_data, train_targets, test_size=0.2, random_state=42)"
      ],
      "execution_count": 5,
      "outputs": []
    },
    {
      "cell_type": "code",
      "metadata": {
        "id": "ET7gs6tVyGYH",
        "colab_type": "code",
        "colab": {
          "base_uri": "https://localhost:8080/",
          "height": 34
        },
        "outputId": "ab5855c2-2de3-4021-bc0a-d997ab551d56"
      },
      "source": [
        "print(x_train.shape, x_val.shape)"
      ],
      "execution_count": 6,
      "outputs": [
        {
          "output_type": "stream",
          "text": [
            "(323, 13) (81, 13)\n"
          ],
          "name": "stdout"
        }
      ]
    },
    {
      "cell_type": "code",
      "metadata": {
        "id": "RwNNd7Nclsj-",
        "colab_type": "code",
        "colab": {
          "base_uri": "https://localhost:8080/",
          "height": 34
        },
        "outputId": "8c5c1f09-4594-475a-a5e9-b0a581c7bc8b"
      },
      "source": [
        "print(test_data.shape, test_targets.shape)"
      ],
      "execution_count": 7,
      "outputs": [
        {
          "output_type": "stream",
          "text": [
            "(102, 13) (102,)\n"
          ],
          "name": "stdout"
        }
      ]
    },
    {
      "cell_type": "code",
      "metadata": {
        "id": "QbcIvqe6yRbn",
        "colab_type": "code",
        "colab": {
          "base_uri": "https://localhost:8080/",
          "height": 318
        },
        "outputId": "7917396f-3514-497b-c151-4604dcab4e25"
      },
      "source": [
        "import matplotlib.pyplot as plt\n",
        "import seaborn as sns\n",
        "\n",
        "sns.distplot(y_train)"
      ],
      "execution_count": 8,
      "outputs": [
        {
          "output_type": "stream",
          "text": [
            "/usr/local/lib/python3.6/dist-packages/statsmodels/tools/_testing.py:19: FutureWarning: pandas.util.testing is deprecated. Use the functions in the public API at pandas.testing instead.\n",
            "  import pandas.util.testing as tm\n"
          ],
          "name": "stderr"
        },
        {
          "output_type": "execute_result",
          "data": {
            "text/plain": [
              "<matplotlib.axes._subplots.AxesSubplot at 0x7fb635440a90>"
            ]
          },
          "metadata": {
            "tags": []
          },
          "execution_count": 8
        },
        {
          "output_type": "display_data",
          "data": {
            "image/png": "[encoded data removed]",
            "text/plain": [
              "<Figure size 432x288 with 1 Axes>"
            ]
          },
          "metadata": {
            "tags": [],
            "needs_background": "light"
          }
        }
      ]
    },
    {
      "cell_type": "markdown",
      "metadata": {
        "id": "xoe71UF8AXwE",
        "colab_type": "text"
      },
      "source": [
        "가격을 로그로 전환해서 예측해 본다. 이경우 원래 가격이 낮을 수록 오차에 대한 손실이 크게 나타난다."
      ]
    },
    {
      "cell_type": "code",
      "metadata": {
        "id": "zwVBQGEcAJv_",
        "colab_type": "code",
        "colab": {}
      },
      "source": [
        "import numpy as np\n",
        "\n",
        "y_train_log = np.log(y_train)\n",
        "y_val_log = np.log(y_val)"
      ],
      "execution_count": 9,
      "outputs": []
    },
    {
      "cell_type": "code",
      "metadata": {
        "id": "vOprwhza_7hE",
        "colab_type": "code",
        "colab": {
          "base_uri": "https://localhost:8080/",
          "height": 282
        },
        "outputId": "9d0b1f0e-a463-41b3-8a31-7463e3e71971"
      },
      "source": [
        "sns.distplot(y_train_log)\n",
        "print(y_train_log.shape)"
      ],
      "execution_count": 10,
      "outputs": [
        {
          "output_type": "stream",
          "text": [
            "(323,)\n"
          ],
          "name": "stdout"
        },
        {
          "output_type": "display_data",
          "data": {
            "image/png": "[encoded data removed]",
            "text/plain": [
              "<Figure size 432x288 with 1 Axes>"
            ]
          },
          "metadata": {
            "tags": [],
            "needs_background": "light"
          }
        }
      ]
    },
    {
      "cell_type": "code",
      "metadata": {
        "id": "5qu2iqrR_7ta",
        "colab_type": "code",
        "colab": {}
      },
      "source": [
        "mean = x_train.mean(axis=0)\n",
        "x_train -= mean\n",
        "std = x_train.std(axis=0)\n",
        "x_train /= std\n",
        "\n",
        "# Test data도 정규화를 해준다\n",
        "\n",
        "x_val -= mean\n",
        "x_val /= std\n",
        "\n",
        "test_data -= mean\n",
        "test_data /= std"
      ],
      "execution_count": 11,
      "outputs": []
    },
    {
      "cell_type": "code",
      "metadata": {
        "id": "WUrFmS76AsUc",
        "colab_type": "code",
        "colab": {}
      },
      "source": [
        "from keras.models import Model\n",
        "from keras import layers\n",
        "from keras.layers import Dropout # Drop0ut을 사용한다.\n",
        "from keras import Input\n",
        "from keras import regularizers # 규제를 사용한다.\n",
        "import tensorflow as tf"
      ],
      "execution_count": 12,
      "outputs": []
    },
    {
      "cell_type": "code",
      "metadata": {
        "id": "Gy_rpLF21JQF",
        "colab_type": "code",
        "colab": {}
      },
      "source": [
        "input_x = Input(shape=(13,)) # shape=(input_dim,)\n",
        "middle_x = layers.Dense(64, activation='relu', kernel_regularizer=regularizers.l2(0.0))(input_x)\n",
        "# middle_x = layers.Dropout(0.5)(middle_x)\n",
        "middle_x = layers.Dense(64, activation='relu', kernel_regularizer=regularizers.l2(0.0))(middle_x)\n",
        "output_y = layers.Dense(1, )(middle_x)\n",
        "\n",
        "class Tensem():\n",
        "  def model(input_x, output_y):\n",
        "    model = Model(input_x, output_y)\n",
        "    return model\n"
      ],
      "execution_count": 13,
      "outputs": []
    },
    {
      "cell_type": "code",
      "metadata": {
        "id": "6Ckd2vid5roo",
        "colab_type": "code",
        "colab": {}
      },
      "source": [
        "modelx = Tensem.model(input_x, output_y)"
      ],
      "execution_count": 27,
      "outputs": []
    },
    {
      "cell_type": "code",
      "metadata": {
        "id": "UYZL5kWK6Gd7",
        "colab_type": "code",
        "colab": {}
      },
      "source": [
        "model1 = Tensem.model(input_x, output_y)"
      ],
      "execution_count": 14,
      "outputs": []
    },
    {
      "cell_type": "code",
      "metadata": {
        "id": "ujR5lDzJ6Lg-",
        "colab_type": "code",
        "colab": {
          "base_uri": "https://localhost:8080/",
          "height": 34
        },
        "outputId": "8bd02466-668f-42d6-e599-e564492fdda5"
      },
      "source": [
        "type(model1)"
      ],
      "execution_count": 29,
      "outputs": [
        {
          "output_type": "execute_result",
          "data": {
            "text/plain": [
              "keras.engine.training.Model"
            ]
          },
          "metadata": {
            "tags": []
          },
          "execution_count": 29
        }
      ]
    },
    {
      "cell_type": "code",
      "metadata": {
        "id": "RUywOfzc50Rb",
        "colab_type": "code",
        "colab": {
          "base_uri": "https://localhost:8080/",
          "height": 34
        },
        "outputId": "a7a42715-da8b-4cb3-a49d-ef00e45ed3d3"
      },
      "source": [
        "type(modelx)"
      ],
      "execution_count": 25,
      "outputs": [
        {
          "output_type": "execute_result",
          "data": {
            "text/plain": [
              "keras.engine.training.Model"
            ]
          },
          "metadata": {
            "tags": []
          },
          "execution_count": 25
        }
      ]
    },
    {
      "cell_type": "code",
      "metadata": {
        "id": "pM49Xmvm6PAJ",
        "colab_type": "code",
        "colab": {
          "base_uri": "https://localhost:8080/",
          "height": 34
        },
        "outputId": "eff10bb9-8f46-4d69-a319-ea510e49e518"
      },
      "source": [
        "model1 == modelx"
      ],
      "execution_count": 30,
      "outputs": [
        {
          "output_type": "execute_result",
          "data": {
            "text/plain": [
              "False"
            ]
          },
          "metadata": {
            "tags": []
          },
          "execution_count": 30
        }
      ]
    },
    {
      "cell_type": "code",
      "metadata": {
        "id": "nEIVwLpe552v",
        "colab_type": "code",
        "colab": {
          "base_uri": "https://localhost:8080/",
          "height": 298
        },
        "outputId": "9b94fd33-3386-41cd-9a97-fb6fe7e2125c"
      },
      "source": [
        "modelx.summary()"
      ],
      "execution_count": 26,
      "outputs": [
        {
          "output_type": "stream",
          "text": [
            "Model: \"model_2\"\n",
            "_________________________________________________________________\n",
            "Layer (type)                 Output Shape              Param #   \n",
            "=================================================================\n",
            "input_3 (InputLayer)         (None, 13)                0         \n",
            "_________________________________________________________________\n",
            "dense_7 (Dense)              (None, 64)                896       \n",
            "_________________________________________________________________\n",
            "dense_8 (Dense)              (None, 64)                4160      \n",
            "_________________________________________________________________\n",
            "dense_9 (Dense)              (None, 1)                 65        \n",
            "=================================================================\n",
            "Total params: 5,121\n",
            "Trainable params: 5,121\n",
            "Non-trainable params: 0\n",
            "_________________________________________________________________\n"
          ],
          "name": "stdout"
        }
      ]
    },
    {
      "cell_type": "markdown",
      "metadata": {
        "id": "RlgvOggtoWVF",
        "colab_type": "text"
      },
      "source": [
        "모델의 기본구조이다"
      ]
    },
    {
      "cell_type": "code",
      "metadata": {
        "id": "JkmDC8O3AslL",
        "colab_type": "code",
        "colab": {}
      },
      "source": [
        "input_x = Input(shape=(13,)) # shape=(input_dim,)\n",
        "middle_x = layers.Dense(64, activation='relu', kernel_regularizer=regularizers.l2(0.0))(input_x)\n",
        "# middle_x = layers.Dropout(0.5)(middle_x)\n",
        "middle_x = layers.Dense(64, activation='relu', kernel_regularizer=regularizers.l2(0.0))(middle_x)\n",
        "output_y = layers.Dense(1, )(middle_x)\n",
        "model = Model(input_x, output_y)\n"
      ],
      "execution_count": 19,
      "outputs": []
    },
    {
      "cell_type": "code",
      "metadata": {
        "id": "qhrBxkYf4qmR",
        "colab_type": "code",
        "colab": {
          "base_uri": "https://localhost:8080/",
          "height": 34
        },
        "outputId": "5e3e04df-495c-4ec2-fe05-829fd4ef67e7"
      },
      "source": [
        "type(model)"
      ],
      "execution_count": 20,
      "outputs": [
        {
          "output_type": "execute_result",
          "data": {
            "text/plain": [
              "keras.engine.training.Model"
            ]
          },
          "metadata": {
            "tags": []
          },
          "execution_count": 20
        }
      ]
    },
    {
      "cell_type": "markdown",
      "metadata": {
        "id": "mU1WnUPUodnE",
        "colab_type": "text"
      },
      "source": [
        "model.prediction에서 log 적용과 비적용을 구분하기 위해서 로그를 활용할 경우 model1 = Model(input_x, output_y)로 구분해 준다"
      ]
    },
    {
      "cell_type": "code",
      "metadata": {
        "id": "IfA60dJMA1lT",
        "colab_type": "code",
        "colab": {
          "base_uri": "https://localhost:8080/",
          "height": 34
        },
        "outputId": "8081bcb7-1a3f-43c0-ffd4-37d69242a48b"
      },
      "source": [
        "#model1 = Model(input_x, output_y)\n",
        "\n",
        "epochs_num = 100\n",
        "model1.compile(optimizer=tf.keras.optimizers.RMSprop(0.001), loss='mse', metrics=['mae'])\n",
        "\n",
        "# y_train_log를 fitting에 사용하였다\n",
        "\n",
        "history1 = model1.fit(x_train, y_train_log, validation_data=(x_val, y_val_log), epochs=epochs_num, verbose=0)\n",
        "model1.predict(x_val[1].reshape(1,13))[0]"
      ],
      "execution_count": 18,
      "outputs": [
        {
          "output_type": "execute_result",
          "data": {
            "text/plain": [
              "array([3.2320755], dtype=float32)"
            ]
          },
          "metadata": {
            "tags": []
          },
          "execution_count": 18
        }
      ]
    },
    {
      "cell_type": "code",
      "metadata": {
        "id": "0aJhfbhjBBWL",
        "colab_type": "code",
        "colab": {
          "base_uri": "https://localhost:8080/",
          "height": 34
        },
        "outputId": "c64631e1-5f5e-406f-80b0-4dc1f845f381"
      },
      "source": [
        "history1_dic = history1.history\n",
        "history1_dic.keys()"
      ],
      "execution_count": 19,
      "outputs": [
        {
          "output_type": "execute_result",
          "data": {
            "text/plain": [
              "dict_keys(['val_loss', 'val_mae', 'loss', 'mae'])"
            ]
          },
          "metadata": {
            "tags": []
          },
          "execution_count": 19
        }
      ]
    },
    {
      "cell_type": "code",
      "metadata": {
        "id": "O0AE4IWABLOj",
        "colab_type": "code",
        "colab": {
          "base_uri": "https://localhost:8080/",
          "height": 52
        },
        "outputId": "fcd1083e-746a-4854-f965-7405379da4b6"
      },
      "source": [
        "print(\"예측오차 :\", history1.history['val_mae'][-1])\n",
        "print(\"손실 :\", history1.history['val_loss'][-1])\n",
        "\n",
        "# y_train을 사용하는 것보다 y_train_log를 사용하면 예측오차는 작아진다. 그러면 예측품질이 좋아 진 것인가?"
      ],
      "execution_count": 20,
      "outputs": [
        {
          "output_type": "stream",
          "text": [
            "예측오차 : 0.1960679292678833\n",
            "손실 : 0.06339404860764374\n"
          ],
          "name": "stdout"
        }
      ]
    },
    {
      "cell_type": "code",
      "metadata": {
        "id": "PvKW-3D7B_hU",
        "colab_type": "code",
        "colab": {}
      },
      "source": [
        "y_val_log_predicted = model1.predict(x_val)\n",
        "\n",
        "# 모델이 로그로 학습되었으므로 x_val을 넣으면 y_val이 아니라 y_val_log_predict로 값을 가지게 된다"
      ],
      "execution_count": 21,
      "outputs": []
    },
    {
      "cell_type": "code",
      "metadata": {
        "id": "0aJKU715B_sZ",
        "colab_type": "code",
        "colab": {}
      },
      "source": [
        "y_val_predicted_from_log = np.exp(y_val_log_predicted)"
      ],
      "execution_count": 24,
      "outputs": []
    },
    {
      "cell_type": "code",
      "metadata": {
        "id": "uwqotiT8EhxC",
        "colab_type": "code",
        "colab": {}
      },
      "source": [
        "import matplotlib.pyplot as plt"
      ],
      "execution_count": 22,
      "outputs": []
    },
    {
      "cell_type": "code",
      "metadata": {
        "id": "vnzyH-eYErkK",
        "colab_type": "code",
        "colab": {
          "base_uri": "https://localhost:8080/",
          "height": 265
        },
        "outputId": "fb0cda9d-32f7-468a-f77e-c2fdb4f85f14"
      },
      "source": [
        "plt.rcParams[\"figure.figsize\"] = (20,4)\n",
        "\n",
        "plt.plot(y_val[:50], 'bo', label='val_value')\n",
        "plt.plot(y_val_predicted_from_log[:50], 'r', label='val_predicted_log')\n",
        "plt.legend()\n",
        "plt.show()"
      ],
      "execution_count": 25,
      "outputs": [
        {
          "output_type": "display_data",
          "data": {
            "image/png": "[encoded data removed]",
            "text/plain": [
              "<Figure size 1440x288 with 1 Axes>"
            ]
          },
          "metadata": {
            "tags": [],
            "needs_background": "light"
          }
        }
      ]
    },
    {
      "cell_type": "code",
      "metadata": {
        "id": "t0Hc817LGWlc",
        "colab_type": "code",
        "colab": {
          "base_uri": "https://localhost:8080/",
          "height": 34
        },
        "outputId": "882b84e7-d8fe-4fb6-bc32-2d2772ab550b"
      },
      "source": [
        " "
      ],
      "execution_count": null,
      "outputs": [
        {
          "output_type": "execute_result",
          "data": {
            "text/plain": [
              "100.00000000000004"
            ]
          },
          "metadata": {
            "tags": []
          },
          "execution_count": 20
        }
      ]
    },
    {
      "cell_type": "markdown",
      "metadata": {
        "id": "m0sNY53AGd8x",
        "colab_type": "text"
      },
      "source": [
        "로그로 치환하지 않은 모델은 그냥 model2로 정의한다."
      ]
    },
    {
      "cell_type": "code",
      "metadata": {
        "id": "LwVnKITwErrU",
        "colab_type": "code",
        "colab": {
          "base_uri": "https://localhost:8080/",
          "height": 34
        },
        "outputId": "136b683c-ba67-4ddd-9354-2afd138c3ec8"
      },
      "source": [
        "#model2 = Model(input_x, output_y)\n",
        "\n",
        "model2 = Tensem.model(input_x, output_y)\n",
        "\n",
        "epochs_num = 100\n",
        "model2.compile(optimizer=tf.keras.optimizers.RMSprop(0.001), loss='mse', metrics=['mae'])\n",
        "\n",
        "history2 = model2.fit(x_train, y_train, validation_data=(x_val, y_val), epochs=epochs_num, verbose=0)\n",
        "model2.predict(x_val[1].reshape(1,13))[0]"
      ],
      "execution_count": 26,
      "outputs": [
        {
          "output_type": "execute_result",
          "data": {
            "text/plain": [
              "array([27.866686], dtype=float32)"
            ]
          },
          "metadata": {
            "tags": []
          },
          "execution_count": 26
        }
      ]
    },
    {
      "cell_type": "code",
      "metadata": {
        "id": "vIp3X3agPtFD",
        "colab_type": "code",
        "colab": {
          "base_uri": "https://localhost:8080/",
          "height": 34
        },
        "outputId": "9e2ccfe8-5ff2-4df2-acaa-d992ca302c37"
      },
      "source": [
        "history2.history.keys()"
      ],
      "execution_count": 27,
      "outputs": [
        {
          "output_type": "execute_result",
          "data": {
            "text/plain": [
              "dict_keys(['val_loss', 'val_mae', 'loss', 'mae'])"
            ]
          },
          "metadata": {
            "tags": []
          },
          "execution_count": 27
        }
      ]
    },
    {
      "cell_type": "code",
      "metadata": {
        "id": "OvLmrkoJG0JJ",
        "colab_type": "code",
        "colab": {
          "base_uri": "https://localhost:8080/",
          "height": 52
        },
        "outputId": "f128a619-460e-42d5-a9c6-dd201a9c33bc"
      },
      "source": [
        "print(\"예측오차 :\", history2.history['val_mae'][-1])\n",
        "print(\"손실 :\", history2.history['val_loss'][-1])"
      ],
      "execution_count": 28,
      "outputs": [
        {
          "output_type": "stream",
          "text": [
            "예측오차 : 2.549008846282959\n",
            "손실 : 14.041771759221584\n"
          ],
          "name": "stdout"
        }
      ]
    },
    {
      "cell_type": "code",
      "metadata": {
        "id": "qHUoMledGnIZ",
        "colab_type": "code",
        "colab": {}
      },
      "source": [
        "y_val_predicted = model2.predict(x_val)"
      ],
      "execution_count": 29,
      "outputs": []
    },
    {
      "cell_type": "code",
      "metadata": {
        "id": "ht2ZeIF3HG_A",
        "colab_type": "code",
        "colab": {
          "base_uri": "https://localhost:8080/",
          "height": 265
        },
        "outputId": "b87a856e-d191-4dcf-8759-771a7c23afb9"
      },
      "source": [
        "plt.rcParams[\"figure.figsize\"] = (20,4)\n",
        "\n",
        "plt.plot(y_val[:50], 'bo', label='val_value')\n",
        "plt.plot(y_val_predicted_from_log[:50], 'r', label='val_predicted_f_log')\n",
        "plt.plot(y_val_predicted[:50], 'g', label='val_predicted')\n",
        "plt.legend()\n",
        "plt.show()"
      ],
      "execution_count": 30,
      "outputs": [
        {
          "output_type": "display_data",
          "data": {
            "image/png": "[encoded data removed]",
            "text/plain": [
              "<Figure size 1440x288 with 1 Axes>"
            ]
          },
          "metadata": {
            "tags": [],
            "needs_background": "light"
          }
        }
      ]
    },
    {
      "cell_type": "code",
      "metadata": {
        "id": "1_Ru-9DlI02r",
        "colab_type": "code",
        "colab": {
          "base_uri": "https://localhost:8080/",
          "height": 52
        },
        "outputId": "0b96cee6-b93b-439e-cc28-4fe9bbd4a170"
      },
      "source": [
        "print(np.mean(np.absolute(y_val.reshape(-1,1)- y_val_predicted)))\n",
        "print(np.mean(np.absolute(y_val.reshape(-1,1)- y_val_predicted_from_log)))\n",
        "\n",
        "# 전체적인 평가 결과는 log를 사용하지 않은 편이 좋다."
      ],
      "execution_count": 31,
      "outputs": [
        {
          "output_type": "stream",
          "text": [
            "2.5490086826277367\n",
            "4.777184804280599\n"
          ],
          "name": "stdout"
        }
      ]
    },
    {
      "cell_type": "code",
      "metadata": {
        "id": "wum9m94bK-px",
        "colab_type": "code",
        "colab": {
          "base_uri": "https://localhost:8080/",
          "height": 34
        },
        "outputId": "a40b9f81-c89a-401d-d5dc-fc8db31e9851"
      },
      "source": [
        "y_val1 = y_val.reshape(-1,1)\n",
        "len(y_val1)"
      ],
      "execution_count": 32,
      "outputs": [
        {
          "output_type": "execute_result",
          "data": {
            "text/plain": [
              "81"
            ]
          },
          "metadata": {
            "tags": []
          },
          "execution_count": 32
        }
      ]
    },
    {
      "cell_type": "code",
      "metadata": {
        "id": "lLyO90hsRXde",
        "colab_type": "code",
        "colab": {
          "base_uri": "https://localhost:8080/",
          "height": 34
        },
        "outputId": "1a634414-7dde-489b-e987-53aa811d90ea"
      },
      "source": [
        "y_mean=np.mean(y_train)\n",
        "print(y_mean)"
      ],
      "execution_count": 33,
      "outputs": [
        {
          "output_type": "stream",
          "text": [
            "22.86594427244582\n"
          ],
          "name": "stdout"
        }
      ]
    },
    {
      "cell_type": "markdown",
      "metadata": {
        "id": "NGWFC0IVOmRI",
        "colab_type": "text"
      },
      "source": [
        "모델을 구분하여 사용하기 위해서 나누어 분석해 본다\n",
        "주택가격이 평균 이상과 이하로 나눌 경우, log를 사용하면 평균이하에서 평가결과가 우수하고, log를 사용하지 않은 경우에는 평균이상에서 평가결과가 좋다"
      ]
    },
    {
      "cell_type": "code",
      "metadata": {
        "id": "TgxOG-xwLHUG",
        "colab_type": "code",
        "colab": {
          "base_uri": "https://localhost:8080/",
          "height": 52
        },
        "outputId": "5185337a-dd9e-4d60-9ea1-ca873748890c"
      },
      "source": [
        "# 이것은 log를 사용하지 않은 모델이다.\n",
        "# 결과를 보면 y_val[i]가 평균보다 높을 경우에 손실이 작다\n",
        "\n",
        "sqe_H = 0\n",
        "sqe_L = 0\n",
        "cH = 0\n",
        "cL = 0\n",
        "\n",
        "for i in range(len(y_val1)):\n",
        "  if y_val1[i] >= y_mean:\n",
        "    sqe = np.square(y_val1[i] - y_val_predicted[i])\n",
        "    sqe_H += sqe\n",
        "    cH += 1\n",
        "  else:\n",
        "    sqe = np.square(y_val1[i] - y_val_predicted[i])\n",
        "    sqe_L += sqe\n",
        "    cL += 1\n",
        "\n",
        "print(\"mse_high :\", sqe_H/cH)\n",
        "print(\"mse_low :\", sqe_L/cL)\n"
      ],
      "execution_count": 34,
      "outputs": [
        {
          "output_type": "stream",
          "text": [
            "mse_high : [14.70800605]\n",
            "mse_low : [13.79334543]\n"
          ],
          "name": "stdout"
        }
      ]
    },
    {
      "cell_type": "code",
      "metadata": {
        "id": "0LJaG9l_N5OQ",
        "colab_type": "code",
        "colab": {
          "base_uri": "https://localhost:8080/",
          "height": 52
        },
        "outputId": "97ec1f59-fe78-4509-f6be-5fc5ecf3d222"
      },
      "source": [
        "# 이것은 log를 사용한 모델이다.\n",
        "# 결과를 보면 y_val[i]가 평균보다 낮을 경우에 손실이 작다\n",
        "\n",
        "sqe_H = 0\n",
        "sqe_L = 0\n",
        "cH = 0\n",
        "cL = 0\n",
        "\n",
        "for i in range(len(y_val1)):\n",
        "  if y_val1[i] >= y_mean:\n",
        "    sqe = np.square(y_val1[i] - y_val_predicted_from_log[i])\n",
        "    sqe_H += sqe\n",
        "    cH += 1\n",
        "  else:\n",
        "    sqe = np.square(y_val1[i] - y_val_predicted_from_log[i])\n",
        "    sqe_L += sqe\n",
        "    cL += 1\n",
        "\n",
        "print(\"mse_high_log :\", sqe_H/cH)\n",
        "print(\"mse_low_log :\", sqe_L/cL)"
      ],
      "execution_count": 35,
      "outputs": [
        {
          "output_type": "stream",
          "text": [
            "mse_high_log : [147.2420168]\n",
            "mse_low_log : [19.72519344]\n"
          ],
          "name": "stdout"
        }
      ]
    },
    {
      "cell_type": "code",
      "metadata": {
        "id": "5VL2v8nqSMJ2",
        "colab_type": "code",
        "colab": {}
      },
      "source": [
        "from keras import backend as K\n",
        "\n",
        "# 메모리 해제\n",
        "K.clear_session()"
      ],
      "execution_count": 46,
      "outputs": []
    },
    {
      "cell_type": "markdown",
      "metadata": {
        "id": "KTXIzJcEVvQu",
        "colab_type": "text"
      },
      "source": [
        "두개의 모델을 운영하는 방안이다. 앙상블이라고 보기는 어려운 평균치보다 높을 경우는 비 log 모델을 평균치 보다 낮을 경우 log 모델을 사용하는 방법이다."
      ]
    },
    {
      "cell_type": "code",
      "metadata": {
        "id": "89i-dfGrWtsk",
        "colab_type": "code",
        "colab": {
          "base_uri": "https://localhost:8080/",
          "height": 1000
        },
        "outputId": "3e45bd1e-1b5a-4f82-9bd1-8b5898656ba8"
      },
      "source": [
        "y_ps = []\n",
        "price=0\n",
        "mean_y_train = np.mean(y_train)\n",
        "for input, output in zip(x_val, y_val):\n",
        "  if output >= mean_y_train:\n",
        "    history1 = model1.fit(x_train, y_train_log, validation_data=(x_val, y_val_log), epochs=epochs_num, verbose=0)\n",
        "    price = model1.predict(input.reshape(1,13))[0][0]\n",
        "    price = np.exp(price)\n",
        "    print(price)\n",
        "  if output < mean_y_train:\n",
        "    history2 = model2.fit(x_train, y_train, validation_data=(x_val, y_val), epochs=epochs_num, verbose=0)\n",
        "    price = model2.predict(input.reshape(1,13))[0][0]\n",
        "    print(price)\n",
        "  #y_ps.append(price)"
      ],
      "execution_count": 61,
      "outputs": [
        {
          "output_type": "stream",
          "text": [
            "21.184996\n",
            "284.05884\n",
            "19.069393\n",
            "55.022434\n",
            "20.713045\n",
            "15.424173\n",
            "10.015689\n",
            "20.581438\n",
            "17.410143\n",
            "17.395248\n",
            "22.546331\n",
            "16.54678\n",
            "19.970192\n",
            "16.407404\n",
            "21.964136\n",
            "16.05239\n",
            "31.76168\n",
            "21.291342\n",
            "14.529778\n",
            "12.15486\n",
            "20.573835\n",
            "18.626926\n",
            "9.873445\n",
            "118.7581\n",
            "19.485079\n",
            "14.72778\n",
            "26.448702\n",
            "18.623968\n",
            "24.318485\n",
            "8.575354\n",
            "110.5727\n",
            "9.880133\n",
            "15.500164\n",
            "21.443172\n",
            "12.045857\n",
            "17.737751\n",
            "16.160818\n",
            "22.152473\n",
            "16.760862\n"
          ],
          "name": "stdout"
        },
        {
          "output_type": "error",
          "ename": "KeyboardInterrupt",
          "evalue": "ignored",
          "traceback": [
            "\u001b[0;31m---------------------------------------------------------------------------\u001b[0m",
            "\u001b[0;31mKeyboardInterrupt\u001b[0m                         Traceback (most recent call last)",
            "\u001b[0;32m<ipython-input-61-5f3625c05076>\u001b[0m in \u001b[0;36m<module>\u001b[0;34m()\u001b[0m\n\u001b[1;32m      9\u001b[0m     \u001b[0mprint\u001b[0m\u001b[0;34m(\u001b[0m\u001b[0mprice\u001b[0m\u001b[0;34m)\u001b[0m\u001b[0;34m\u001b[0m\u001b[0;34m\u001b[0m\u001b[0m\n\u001b[1;32m     10\u001b[0m   \u001b[0;32mif\u001b[0m \u001b[0moutput\u001b[0m \u001b[0;34m<\u001b[0m \u001b[0mmean_y_train\u001b[0m\u001b[0;34m:\u001b[0m\u001b[0;34m\u001b[0m\u001b[0;34m\u001b[0m\u001b[0m\n\u001b[0;32m---> 11\u001b[0;31m     \u001b[0mhistory2\u001b[0m \u001b[0;34m=\u001b[0m \u001b[0mmodel2\u001b[0m\u001b[0;34m.\u001b[0m\u001b[0mfit\u001b[0m\u001b[0;34m(\u001b[0m\u001b[0mx_train\u001b[0m\u001b[0;34m,\u001b[0m \u001b[0my_train\u001b[0m\u001b[0;34m,\u001b[0m \u001b[0mvalidation_data\u001b[0m\u001b[0;34m=\u001b[0m\u001b[0;34m(\u001b[0m\u001b[0mx_val\u001b[0m\u001b[0;34m,\u001b[0m \u001b[0my_val\u001b[0m\u001b[0;34m)\u001b[0m\u001b[0;34m,\u001b[0m \u001b[0mepochs\u001b[0m\u001b[0;34m=\u001b[0m\u001b[0mepochs_num\u001b[0m\u001b[0;34m,\u001b[0m \u001b[0mverbose\u001b[0m\u001b[0;34m=\u001b[0m\u001b[0;36m0\u001b[0m\u001b[0;34m)\u001b[0m\u001b[0;34m\u001b[0m\u001b[0;34m\u001b[0m\u001b[0m\n\u001b[0m\u001b[1;32m     12\u001b[0m     \u001b[0mprice\u001b[0m \u001b[0;34m=\u001b[0m \u001b[0mmodel2\u001b[0m\u001b[0;34m.\u001b[0m\u001b[0mpredict\u001b[0m\u001b[0;34m(\u001b[0m\u001b[0minput\u001b[0m\u001b[0;34m.\u001b[0m\u001b[0mreshape\u001b[0m\u001b[0;34m(\u001b[0m\u001b[0;36m1\u001b[0m\u001b[0;34m,\u001b[0m\u001b[0;36m13\u001b[0m\u001b[0;34m)\u001b[0m\u001b[0;34m)\u001b[0m\u001b[0;34m[\u001b[0m\u001b[0;36m0\u001b[0m\u001b[0;34m]\u001b[0m\u001b[0;34m[\u001b[0m\u001b[0;36m0\u001b[0m\u001b[0;34m]\u001b[0m\u001b[0;34m\u001b[0m\u001b[0;34m\u001b[0m\u001b[0m\n\u001b[1;32m     13\u001b[0m     \u001b[0mprint\u001b[0m\u001b[0;34m(\u001b[0m\u001b[0mprice\u001b[0m\u001b[0;34m)\u001b[0m\u001b[0;34m\u001b[0m\u001b[0;34m\u001b[0m\u001b[0m\n",
            "\u001b[0;32m/usr/local/lib/python3.6/dist-packages/keras/engine/training.py\u001b[0m in \u001b[0;36mfit\u001b[0;34m(self, x, y, batch_size, epochs, verbose, callbacks, validation_split, validation_data, shuffle, class_weight, sample_weight, initial_epoch, steps_per_epoch, validation_steps, validation_freq, max_queue_size, workers, use_multiprocessing, **kwargs)\u001b[0m\n\u001b[1;32m   1237\u001b[0m                                         \u001b[0msteps_per_epoch\u001b[0m\u001b[0;34m=\u001b[0m\u001b[0msteps_per_epoch\u001b[0m\u001b[0;34m,\u001b[0m\u001b[0;34m\u001b[0m\u001b[0;34m\u001b[0m\u001b[0m\n\u001b[1;32m   1238\u001b[0m                                         \u001b[0mvalidation_steps\u001b[0m\u001b[0;34m=\u001b[0m\u001b[0mvalidation_steps\u001b[0m\u001b[0;34m,\u001b[0m\u001b[0;34m\u001b[0m\u001b[0;34m\u001b[0m\u001b[0m\n\u001b[0;32m-> 1239\u001b[0;31m                                         validation_freq=validation_freq)\n\u001b[0m\u001b[1;32m   1240\u001b[0m \u001b[0;34m\u001b[0m\u001b[0m\n\u001b[1;32m   1241\u001b[0m     def evaluate(self,\n",
            "\u001b[0;32m/usr/local/lib/python3.6/dist-packages/keras/engine/training_arrays.py\u001b[0m in \u001b[0;36mfit_loop\u001b[0;34m(model, fit_function, fit_inputs, out_labels, batch_size, epochs, verbose, callbacks, val_function, val_inputs, shuffle, initial_epoch, steps_per_epoch, validation_steps, validation_freq)\u001b[0m\n\u001b[1;32m    194\u001b[0m                     \u001b[0mins_batch\u001b[0m\u001b[0;34m[\u001b[0m\u001b[0mi\u001b[0m\u001b[0;34m]\u001b[0m \u001b[0;34m=\u001b[0m \u001b[0mins_batch\u001b[0m\u001b[0;34m[\u001b[0m\u001b[0mi\u001b[0m\u001b[0;34m]\u001b[0m\u001b[0;34m.\u001b[0m\u001b[0mtoarray\u001b[0m\u001b[0;34m(\u001b[0m\u001b[0;34m)\u001b[0m\u001b[0;34m\u001b[0m\u001b[0;34m\u001b[0m\u001b[0m\n\u001b[1;32m    195\u001b[0m \u001b[0;34m\u001b[0m\u001b[0m\n\u001b[0;32m--> 196\u001b[0;31m                 \u001b[0mouts\u001b[0m \u001b[0;34m=\u001b[0m \u001b[0mfit_function\u001b[0m\u001b[0;34m(\u001b[0m\u001b[0mins_batch\u001b[0m\u001b[0;34m)\u001b[0m\u001b[0;34m\u001b[0m\u001b[0;34m\u001b[0m\u001b[0m\n\u001b[0m\u001b[1;32m    197\u001b[0m                 \u001b[0mouts\u001b[0m \u001b[0;34m=\u001b[0m \u001b[0mto_list\u001b[0m\u001b[0;34m(\u001b[0m\u001b[0mouts\u001b[0m\u001b[0;34m)\u001b[0m\u001b[0;34m\u001b[0m\u001b[0;34m\u001b[0m\u001b[0m\n\u001b[1;32m    198\u001b[0m                 \u001b[0;32mfor\u001b[0m \u001b[0ml\u001b[0m\u001b[0;34m,\u001b[0m \u001b[0mo\u001b[0m \u001b[0;32min\u001b[0m \u001b[0mzip\u001b[0m\u001b[0;34m(\u001b[0m\u001b[0mout_labels\u001b[0m\u001b[0;34m,\u001b[0m \u001b[0mouts\u001b[0m\u001b[0;34m)\u001b[0m\u001b[0;34m:\u001b[0m\u001b[0;34m\u001b[0m\u001b[0;34m\u001b[0m\u001b[0m\n",
            "\u001b[0;32m/usr/local/lib/python3.6/dist-packages/tensorflow/python/keras/backend.py\u001b[0m in \u001b[0;36m__call__\u001b[0;34m(self, inputs)\u001b[0m\n\u001b[1;32m   3799\u001b[0m         \u001b[0mself\u001b[0m\u001b[0;34m.\u001b[0m\u001b[0m_outputs_structure\u001b[0m\u001b[0;34m,\u001b[0m\u001b[0;34m\u001b[0m\u001b[0;34m\u001b[0m\u001b[0m\n\u001b[1;32m   3800\u001b[0m         \u001b[0;34m[\u001b[0m\u001b[0mx\u001b[0m\u001b[0;34m.\u001b[0m\u001b[0m_numpy\u001b[0m\u001b[0;34m(\u001b[0m\u001b[0;34m)\u001b[0m \u001b[0;32mfor\u001b[0m \u001b[0mx\u001b[0m \u001b[0;32min\u001b[0m \u001b[0moutputs\u001b[0m\u001b[0;34m]\u001b[0m\u001b[0;34m,\u001b[0m  \u001b[0;31m# pylint: disable=protected-access\u001b[0m\u001b[0;34m\u001b[0m\u001b[0;34m\u001b[0m\u001b[0m\n\u001b[0;32m-> 3801\u001b[0;31m         expand_composites=True)\n\u001b[0m\u001b[1;32m   3802\u001b[0m \u001b[0;34m\u001b[0m\u001b[0m\n\u001b[1;32m   3803\u001b[0m \u001b[0;34m\u001b[0m\u001b[0m\n",
            "\u001b[0;32m/usr/local/lib/python3.6/dist-packages/tensorflow/python/util/nest.py\u001b[0m in \u001b[0;36mpack_sequence_as\u001b[0;34m(structure, flat_sequence, expand_composites)\u001b[0m\n\u001b[1;32m    550\u001b[0m     \u001b[0mTypeError\u001b[0m\u001b[0;34m:\u001b[0m\u001b[0;31m \u001b[0m\u001b[0;31m`\u001b[0m\u001b[0mstructure\u001b[0m\u001b[0;31m`\u001b[0m \u001b[0;32mis\u001b[0m \u001b[0;32mor\u001b[0m \u001b[0mcontains\u001b[0m \u001b[0ma\u001b[0m \u001b[0mdict\u001b[0m \u001b[0;32mwith\u001b[0m \u001b[0mnon\u001b[0m\u001b[0;34m-\u001b[0m\u001b[0msortable\u001b[0m \u001b[0mkeys\u001b[0m\u001b[0;34m.\u001b[0m\u001b[0;34m\u001b[0m\u001b[0;34m\u001b[0m\u001b[0m\n\u001b[1;32m    551\u001b[0m   \"\"\"\n\u001b[0;32m--> 552\u001b[0;31m   \u001b[0;32mreturn\u001b[0m \u001b[0m_pack_sequence_as\u001b[0m\u001b[0;34m(\u001b[0m\u001b[0mstructure\u001b[0m\u001b[0;34m,\u001b[0m \u001b[0mflat_sequence\u001b[0m\u001b[0;34m,\u001b[0m \u001b[0mexpand_composites\u001b[0m\u001b[0;34m)\u001b[0m\u001b[0;34m\u001b[0m\u001b[0;34m\u001b[0m\u001b[0m\n\u001b[0m\u001b[1;32m    553\u001b[0m \u001b[0;34m\u001b[0m\u001b[0m\n\u001b[1;32m    554\u001b[0m \u001b[0;34m\u001b[0m\u001b[0m\n",
            "\u001b[0;32m/usr/local/lib/python3.6/dist-packages/tensorflow/python/util/nest.py\u001b[0m in \u001b[0;36m_pack_sequence_as\u001b[0;34m(structure, flat_sequence, expand_composites, sequence_fn)\u001b[0m\n\u001b[1;32m    486\u001b[0m     \u001b[0;32mreturn\u001b[0m \u001b[0mvalue_str\u001b[0m\u001b[0;34m[\u001b[0m\u001b[0;34m:\u001b[0m\u001b[0mlength\u001b[0m\u001b[0;34m]\u001b[0m \u001b[0;34m+\u001b[0m \u001b[0;34m(\u001b[0m\u001b[0mvalue_str\u001b[0m\u001b[0;34m[\u001b[0m\u001b[0mlength\u001b[0m\u001b[0;34m:\u001b[0m\u001b[0;34m]\u001b[0m \u001b[0;32mand\u001b[0m \u001b[0;34m\"...\"\u001b[0m\u001b[0;34m)\u001b[0m\u001b[0;34m\u001b[0m\u001b[0;34m\u001b[0m\u001b[0m\n\u001b[1;32m    487\u001b[0m \u001b[0;34m\u001b[0m\u001b[0m\n\u001b[0;32m--> 488\u001b[0;31m   \u001b[0;32mif\u001b[0m \u001b[0;32mnot\u001b[0m \u001b[0mis_seq\u001b[0m\u001b[0;34m(\u001b[0m\u001b[0mflat_sequence\u001b[0m\u001b[0;34m)\u001b[0m\u001b[0;34m:\u001b[0m\u001b[0;34m\u001b[0m\u001b[0;34m\u001b[0m\u001b[0m\n\u001b[0m\u001b[1;32m    489\u001b[0m     raise TypeError(\n\u001b[1;32m    490\u001b[0m         \u001b[0;34m\"Attempted to pack value:\\n  {}\\ninto a sequence, but found \"\u001b[0m\u001b[0;34m\u001b[0m\u001b[0;34m\u001b[0m\u001b[0m\n",
            "\u001b[0;31mKeyboardInterrupt\u001b[0m: "
          ]
        }
      ]
    },
    {
      "cell_type": "code",
      "metadata": {
        "id": "edeCMyvgkgRh",
        "colab_type": "code",
        "colab": {
          "base_uri": "https://localhost:8080/",
          "height": 34
        },
        "outputId": "ae60bc62-e579-4a53-a022-06473fc9f755"
      },
      "source": [
        "np.sum(np.absolute(y_ps - y_val))/81"
      ],
      "execution_count": null,
      "outputs": [
        {
          "output_type": "execute_result",
          "data": {
            "text/plain": [
              "2.5484140761104634"
            ]
          },
          "metadata": {
            "tags": []
          },
          "execution_count": 59
        }
      ]
    },
    {
      "cell_type": "markdown",
      "metadata": {
        "id": "hDXf2l7TmjCW",
        "colab_type": "text"
      },
      "source": [
        "Test_data에 적용한 값이다."
      ]
    },
    {
      "cell_type": "code",
      "metadata": {
        "id": "hyI2V7FUl6sl",
        "colab_type": "code",
        "colab": {}
      },
      "source": [
        "y_ps = []\n",
        "price=0\n",
        "mean_y_train = np.mean(y_train)\n",
        "for input, output in zip(test_data, test_targets):\n",
        "  if output >= mean_y_train:\n",
        "    history1 = model1.fit(x_train, y_train_log, validation_data=(x_val, y_val_log), epochs=epochs_num, verbose=0)\n",
        "    price = model1.predict(input.reshape(1,13))[0][0]\n",
        "    price = np.exp(price)\n",
        "  if output < mean_y_train:\n",
        "    history2 = model2.fit(x_train, y_train, validation_data=(x_val, y_val), epochs=epochs_num, verbose=0)\n",
        "    price = model2.predict(input.reshape(1,13))[0][0]\n",
        "  y_ps.append(price)"
      ],
      "execution_count": 41,
      "outputs": []
    },
    {
      "cell_type": "code",
      "metadata": {
        "id": "Ohy_wh3wmUIu",
        "colab_type": "code",
        "colab": {
          "base_uri": "https://localhost:8080/",
          "height": 34
        },
        "outputId": "614b923c-33f7-4ce6-dbb5-3fa651c2954a"
      },
      "source": [
        "np.sum(np.absolute(y_ps - test_targets))/102"
      ],
      "execution_count": 42,
      "outputs": [
        {
          "output_type": "execute_result",
          "data": {
            "text/plain": [
              "70.57168146939401"
            ]
          },
          "metadata": {
            "tags": []
          },
          "execution_count": 42
        }
      ]
    },
    {
      "cell_type": "code",
      "metadata": {
        "id": "zCYtjI8wetUz",
        "colab_type": "code",
        "colab": {
          "base_uri": "https://localhost:8080/",
          "height": 34
        },
        "outputId": "a2277257-d5b0-4245-b943-229a468e07b1"
      },
      "source": [
        "y_val[1]"
      ],
      "execution_count": 50,
      "outputs": [
        {
          "output_type": "execute_result",
          "data": {
            "text/plain": [
              "23.3"
            ]
          },
          "metadata": {
            "tags": []
          },
          "execution_count": 50
        }
      ]
    },
    {
      "cell_type": "code",
      "metadata": {
        "id": "y2m_D4pIWt40",
        "colab_type": "code",
        "colab": {
          "base_uri": "https://localhost:8080/",
          "height": 34
        },
        "outputId": "7a286598-9a97-434e-9a09-d749579a59fa"
      },
      "source": [
        "history1 = model1.fit(x_train, y_train_log, validation_data=(x_val, y_val_log), epochs=epochs_num, verbose=0)\n",
        "a = model1.predict(x_val[1].reshape(1,13))[0]\n",
        "a = np.exp(a)\n",
        "print(a)"
      ],
      "execution_count": 60,
      "outputs": [
        {
          "output_type": "stream",
          "text": [
            "[30.28405]\n"
          ],
          "name": "stdout"
        }
      ]
    },
    {
      "cell_type": "code",
      "metadata": {
        "id": "j2Lon2x5oFkm",
        "colab_type": "code",
        "colab": {
          "base_uri": "https://localhost:8080/",
          "height": 34
        },
        "outputId": "6dd60c70-c130-4c02-be1f-a7cdb7ad7463"
      },
      "source": [
        "history2 = model2.fit(x_train, y_train, validation_data=(x_val, y_val), epochs=epochs_num, verbose=0)\n",
        "model2.predict(x_val[1].reshape(1,13))[0]"
      ],
      "execution_count": 48,
      "outputs": [
        {
          "output_type": "execute_result",
          "data": {
            "text/plain": [
              "array([32.601715], dtype=float32)"
            ]
          },
          "metadata": {
            "tags": []
          },
          "execution_count": 48
        }
      ]
    },
    {
      "cell_type": "code",
      "metadata": {
        "id": "NHJoApXRc45_",
        "colab_type": "code",
        "colab": {
          "base_uri": "https://localhost:8080/",
          "height": 34
        },
        "outputId": "33360db8-079d-45f6-f919-ca8aa85da95b"
      },
      "source": [
        "y_val[2]"
      ],
      "execution_count": null,
      "outputs": [
        {
          "output_type": "execute_result",
          "data": {
            "text/plain": [
              "17.5"
            ]
          },
          "metadata": {
            "tags": []
          },
          "execution_count": 201
        }
      ]
    },
    {
      "cell_type": "code",
      "metadata": {
        "id": "MiK37hyHYN5v",
        "colab_type": "code",
        "colab": {
          "base_uri": "https://localhost:8080/",
          "height": 34
        },
        "outputId": "076e8732-0bd1-44af-e03c-3ee247b6b69a"
      },
      "source": [
        "np.mean(y_val)"
      ],
      "execution_count": null,
      "outputs": [
        {
          "output_type": "execute_result",
          "data": {
            "text/plain": [
              "20.517283950617283"
            ]
          },
          "metadata": {
            "tags": []
          },
          "execution_count": 163
        }
      ]
    },
    {
      "cell_type": "markdown",
      "metadata": {
        "id": "cOLBdgzJyryH",
        "colab_type": "text"
      },
      "source": [
        "1) Per capita crime rate_범죄율 2) Proportion of residential land zoned for lots over 25,000 square feet_주거지역 비율. 3) Proportion of non-retail business acres per town_비상업지구. 4) Charles River dummy variable (= 1 if tract bounds river; 0 otherwise)_강에 근접여부  5) Nitric oxides concentration (parts per 10 million)_대기오염 6) Average number of rooms per dwelling_방개수 7) Proportion of owner-occupied units built prior to 1940_노후화 8) Weighted distances to five Boston employment centres_직장거리 9) Index of accessibility to radial highways_도로근접성 10) Full-value property-tax rate per $10,000_재산세율 11) Pupil-teacher ratio by town_교육편의성 12) 1000 * (Bk - 0.63) ** 2 where Bk is the proportion of Black people by town_흑인비율 13) % lower status of the population_하위계층비율"
      ]
    },
    {
      "cell_type": "code",
      "metadata": {
        "id": "OgEOstU-yxM2",
        "colab_type": "code",
        "colab": {
          "base_uri": "https://localhost:8080/",
          "height": 228
        },
        "outputId": "4447463c-f787-4c8c-b629-9872a1260022"
      },
      "source": [
        "df_x.loc[0:5,[0,1,2,3,4,5]].values   # DF의 특정 부분을 선택해서 numpy로 전환하는 방법"
      ],
      "execution_count": null,
      "outputs": [
        {
          "output_type": "execute_result",
          "data": {
            "text/plain": [
              "array([[1.23247e+00, 0.00000e+00, 8.14000e+00, 0.00000e+00, 5.38000e-01,\n",
              "        6.14200e+00],\n",
              "       [2.17700e-02, 8.25000e+01, 2.03000e+00, 0.00000e+00, 4.15000e-01,\n",
              "        7.61000e+00],\n",
              "       [4.89822e+00, 0.00000e+00, 1.81000e+01, 0.00000e+00, 6.31000e-01,\n",
              "        4.97000e+00],\n",
              "       [3.96100e-02, 0.00000e+00, 5.19000e+00, 0.00000e+00, 5.15000e-01,\n",
              "        6.03700e+00],\n",
              "       [3.69311e+00, 0.00000e+00, 1.81000e+01, 0.00000e+00, 7.13000e-01,\n",
              "        6.37600e+00],\n",
              "       [2.83920e-01, 0.00000e+00, 7.38000e+00, 0.00000e+00, 4.93000e-01,\n",
              "        5.70800e+00]])"
            ]
          },
          "metadata": {
            "tags": []
          },
          "execution_count": 30
        }
      ]
    },
    {
      "cell_type": "code",
      "metadata": {
        "id": "ACSdRWIR277I",
        "colab_type": "code",
        "colab": {
          "base_uri": "https://localhost:8080/",
          "height": 225
        },
        "outputId": "a6bcd752-fdc2-4f5e-c1dc-bdf701066a02"
      },
      "source": [
        "df_x.loc[0:5]"
      ],
      "execution_count": null,
      "outputs": [
        {
          "output_type": "execute_result",
          "data": {
            "text/html": [
              "<div>\n",
              "<style scoped>\n",
              "    .dataframe tbody tr th:only-of-type {\n",
              "        vertical-align: middle;\n",
              "    }\n",
              "\n",
              "    .dataframe tbody tr th {\n",
              "        vertical-align: top;\n",
              "    }\n",
              "\n",
              "    .dataframe thead th {\n",
              "        text-align: right;\n",
              "    }\n",
              "</style>\n",
              "<table border=\"1\" class=\"dataframe\">\n",
              "  <thead>\n",
              "    <tr style=\"text-align: right;\">\n",
              "      <th></th>\n",
              "      <th>0</th>\n",
              "      <th>1</th>\n",
              "      <th>2</th>\n",
              "      <th>3</th>\n",
              "      <th>4</th>\n",
              "      <th>5</th>\n",
              "      <th>6</th>\n",
              "      <th>7</th>\n",
              "      <th>8</th>\n",
              "      <th>9</th>\n",
              "      <th>10</th>\n",
              "      <th>11</th>\n",
              "      <th>12</th>\n",
              "    </tr>\n",
              "  </thead>\n",
              "  <tbody>\n",
              "    <tr>\n",
              "      <th>0</th>\n",
              "      <td>1.23247</td>\n",
              "      <td>0.0</td>\n",
              "      <td>8.14</td>\n",
              "      <td>0.0</td>\n",
              "      <td>0.538</td>\n",
              "      <td>6.142</td>\n",
              "      <td>91.7</td>\n",
              "      <td>3.9769</td>\n",
              "      <td>4.0</td>\n",
              "      <td>307.0</td>\n",
              "      <td>21.0</td>\n",
              "      <td>396.90</td>\n",
              "      <td>18.72</td>\n",
              "    </tr>\n",
              "    <tr>\n",
              "      <th>1</th>\n",
              "      <td>0.02177</td>\n",
              "      <td>82.5</td>\n",
              "      <td>2.03</td>\n",
              "      <td>0.0</td>\n",
              "      <td>0.415</td>\n",
              "      <td>7.610</td>\n",
              "      <td>15.7</td>\n",
              "      <td>6.2700</td>\n",
              "      <td>2.0</td>\n",
              "      <td>348.0</td>\n",
              "      <td>14.7</td>\n",
              "      <td>395.38</td>\n",
              "      <td>3.11</td>\n",
              "    </tr>\n",
              "    <tr>\n",
              "      <th>2</th>\n",
              "      <td>4.89822</td>\n",
              "      <td>0.0</td>\n",
              "      <td>18.10</td>\n",
              "      <td>0.0</td>\n",
              "      <td>0.631</td>\n",
              "      <td>4.970</td>\n",
              "      <td>100.0</td>\n",
              "      <td>1.3325</td>\n",
              "      <td>24.0</td>\n",
              "      <td>666.0</td>\n",
              "      <td>20.2</td>\n",
              "      <td>375.52</td>\n",
              "      <td>3.26</td>\n",
              "    </tr>\n",
              "    <tr>\n",
              "      <th>3</th>\n",
              "      <td>0.03961</td>\n",
              "      <td>0.0</td>\n",
              "      <td>5.19</td>\n",
              "      <td>0.0</td>\n",
              "      <td>0.515</td>\n",
              "      <td>6.037</td>\n",
              "      <td>34.5</td>\n",
              "      <td>5.9853</td>\n",
              "      <td>5.0</td>\n",
              "      <td>224.0</td>\n",
              "      <td>20.2</td>\n",
              "      <td>396.90</td>\n",
              "      <td>8.01</td>\n",
              "    </tr>\n",
              "    <tr>\n",
              "      <th>4</th>\n",
              "      <td>3.69311</td>\n",
              "      <td>0.0</td>\n",
              "      <td>18.10</td>\n",
              "      <td>0.0</td>\n",
              "      <td>0.713</td>\n",
              "      <td>6.376</td>\n",
              "      <td>88.4</td>\n",
              "      <td>2.5671</td>\n",
              "      <td>24.0</td>\n",
              "      <td>666.0</td>\n",
              "      <td>20.2</td>\n",
              "      <td>391.43</td>\n",
              "      <td>14.65</td>\n",
              "    </tr>\n",
              "    <tr>\n",
              "      <th>5</th>\n",
              "      <td>0.28392</td>\n",
              "      <td>0.0</td>\n",
              "      <td>7.38</td>\n",
              "      <td>0.0</td>\n",
              "      <td>0.493</td>\n",
              "      <td>5.708</td>\n",
              "      <td>74.3</td>\n",
              "      <td>4.7211</td>\n",
              "      <td>5.0</td>\n",
              "      <td>287.0</td>\n",
              "      <td>19.6</td>\n",
              "      <td>391.13</td>\n",
              "      <td>11.74</td>\n",
              "    </tr>\n",
              "  </tbody>\n",
              "</table>\n",
              "</div>"
            ],
            "text/plain": [
              "        0     1      2    3      4   ...    8      9     10      11     12\n",
              "0  1.23247   0.0   8.14  0.0  0.538  ...   4.0  307.0  21.0  396.90  18.72\n",
              "1  0.02177  82.5   2.03  0.0  0.415  ...   2.0  348.0  14.7  395.38   3.11\n",
              "2  4.89822   0.0  18.10  0.0  0.631  ...  24.0  666.0  20.2  375.52   3.26\n",
              "3  0.03961   0.0   5.19  0.0  0.515  ...   5.0  224.0  20.2  396.90   8.01\n",
              "4  3.69311   0.0  18.10  0.0  0.713  ...  24.0  666.0  20.2  391.43  14.65\n",
              "5  0.28392   0.0   7.38  0.0  0.493  ...   5.0  287.0  19.6  391.13  11.74\n",
              "\n",
              "[6 rows x 13 columns]"
            ]
          },
          "metadata": {
            "tags": []
          },
          "execution_count": 34
        }
      ]
    },
    {
      "cell_type": "code",
      "metadata": {
        "id": "aHjc2wox03xv",
        "colab_type": "code",
        "colab": {
          "base_uri": "https://localhost:8080/",
          "height": 282
        },
        "outputId": "5be34c0a-bfc8-474a-a974-c30c8b339ee3"
      },
      "source": [
        "sns.distplot(df_x.loc[:,[0]])"
      ],
      "execution_count": null,
      "outputs": [
        {
          "output_type": "execute_result",
          "data": {
            "text/plain": [
              "<matplotlib.axes._subplots.AxesSubplot at 0x7f7f6eff4a58>"
            ]
          },
          "metadata": {
            "tags": []
          },
          "execution_count": 37
        },
        {
          "output_type": "display_data",
          "data": {
            "image/png": "[encoded data removed]",
            "text/plain": [
              "<Figure size 432x288 with 1 Axes>"
            ]
          },
          "metadata": {
            "tags": [],
            "needs_background": "light"
          }
        }
      ]
    },
    {
      "cell_type": "code",
      "metadata": {
        "id": "MdvhWxlM-AJN",
        "colab_type": "code",
        "colab": {}
      },
      "source": [
        "import numpy as np"
      ],
      "execution_count": null,
      "outputs": []
    },
    {
      "cell_type": "code",
      "metadata": {
        "id": "qUNVOprup3a_",
        "colab_type": "code",
        "colab": {}
      },
      "source": [
        ""
      ],
      "execution_count": null,
      "outputs": []
    },
    {
      "cell_type": "code",
      "metadata": {
        "id": "CUkv2aaj-Fz7",
        "colab_type": "code",
        "colab": {
          "base_uri": "https://localhost:8080/",
          "height": 140
        },
        "outputId": "88942d8e-aad0-4435-bb98-9c5f1f784f13"
      },
      "source": [
        "print(np.log(100) - np.log(80))\n",
        "print(np.log(80) - np.log(60))\n",
        "print(np.log(60) - np.log(40))\n",
        "print(np.log(40) - np.log(20))\n",
        "print(np.log(20) - np.log(0))"
      ],
      "execution_count": null,
      "outputs": [
        {
          "output_type": "stream",
          "text": [
            "0.2231435513142106\n",
            "0.2876820724517808\n",
            "0.40546510810816416\n",
            "0.6931471805599454\n",
            "inf\n"
          ],
          "name": "stdout"
        },
        {
          "output_type": "stream",
          "text": [
            "/usr/local/lib/python3.6/dist-packages/ipykernel_launcher.py:5: RuntimeWarning: divide by zero encountered in log\n",
            "  \"\"\"\n"
          ],
          "name": "stderr"
        }
      ]
    },
    {
      "cell_type": "code",
      "metadata": {
        "id": "8trrs7mcp4YP",
        "colab_type": "code",
        "colab": {}
      },
      "source": [
        "def abc():\n",
        "  x = \"high\"\n",
        "  return x"
      ],
      "execution_count": null,
      "outputs": []
    },
    {
      "cell_type": "code",
      "metadata": {
        "id": "na9YpY1ZqIgz",
        "colab_type": "code",
        "colab": {}
      },
      "source": [
        "g = abc()"
      ],
      "execution_count": null,
      "outputs": []
    },
    {
      "cell_type": "code",
      "metadata": {
        "id": "Mr6D81OPqMs2",
        "colab_type": "code",
        "colab": {
          "base_uri": "https://localhost:8080/",
          "height": 34
        },
        "outputId": "7ffc5667-8e2d-4b93-a779-4f5684c6746c"
      },
      "source": [
        "print(g)"
      ],
      "execution_count": null,
      "outputs": [
        {
          "output_type": "stream",
          "text": [
            "high\n"
          ],
          "name": "stdout"
        }
      ]
    },
    {
      "cell_type": "code",
      "metadata": {
        "id": "w3aSgEqGqR1-",
        "colab_type": "code",
        "colab": {
          "base_uri": "https://localhost:8080/",
          "height": 34
        },
        "outputId": "34c3a2c6-db25-451f-d7ee-22e0a77705ed"
      },
      "source": [
        "z = abc()\n",
        "print(z)"
      ],
      "execution_count": null,
      "outputs": [
        {
          "output_type": "stream",
          "text": [
            "high\n"
          ],
          "name": "stdout"
        }
      ]
    },
    {
      "cell_type": "code",
      "metadata": {
        "id": "5smtMm6Yqqnl",
        "colab_type": "code",
        "colab": {
          "base_uri": "https://localhost:8080/",
          "height": 34
        },
        "outputId": "a32a0016-61e2-40ae-cbeb-c62352cc99ea"
      },
      "source": [
        "g == z"
      ],
      "execution_count": null,
      "outputs": [
        {
          "output_type": "execute_result",
          "data": {
            "text/plain": [
              "True"
            ]
          },
          "metadata": {
            "tags": []
          },
          "execution_count": 46
        }
      ]
    }
  ]
}