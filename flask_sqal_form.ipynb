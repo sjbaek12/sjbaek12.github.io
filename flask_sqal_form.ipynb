{
 "cells": [
  {
   "cell_type": "code",
   "execution_count": 1,
   "metadata": {},
   "outputs": [
    {
     "name": "stdout",
     "output_type": "stream",
     "text": [
      "Overwriting app.py\n"
     ]
    }
   ],
   "source": [
    "%%writefile app.py\n",
    "\n",
    "from flask import Flask, render_template, request, g, url_for, redirect, session, flash\n",
    "from sqlalchemy import create_engine\n",
    "from sqlalchemy.ext.declarative import declarative_base\n",
    "from sqlalchemy import Column, Integer, String, Text, ForeignKey\n",
    "from sqlalchemy.orm import sessionmaker, relationship, backref\n",
    "\n",
    "app = Flask(__name__)\n",
    "app.secret_key = 'any random string'\n",
    "\n",
    "engine = create_engine('sqlite:///test1.db', connect_args={'check_same_thread':False})\n",
    "Base = declarative_base()\n",
    "\n",
    "class User(Base):\n",
    "    __tablename__ = 'users'\n",
    "    \n",
    "    id = Column(Integer, primary_key=True)\n",
    "    name = Column(String)\n",
    "    fullname = Column(String)\n",
    "    password = Column(String)\n",
    "    \n",
    "    def __init__(self, name, fullname, password):\n",
    "        self.name = name\n",
    "        self.fullname = fullname\n",
    "        self.password = password\n",
    "        \n",
    "    def __repr__(self):\n",
    "        return \"<User('%s', '%s', '%s')>\" %(self.name, self.fullname, self.password)\n",
    "    \n",
    "Base.metadata.create_all(engine)\n",
    "\n",
    "class Post(Base):\n",
    "    __tablename__='posts'\n",
    "    \n",
    "    id = Column(Integer, primary_key=True)\n",
    "    title = Column(String)\n",
    "    content = Column(String)\n",
    "    user_id = Column(Integer, ForeignKey('users.id'))\n",
    "    \n",
    "    user = relationship('User', backref=backref('posts', order_by = id))\n",
    "    \n",
    "    def __init__(self, title, content):\n",
    "        self.title = title\n",
    "        self.content = content\n",
    "               \n",
    "    def __repr__(self):\n",
    "        return \"<User('%s', '%s')>\" %(self.title, self.content)\n",
    "    \n",
    "\n",
    "Base.metadata.create_all(engine)\n",
    "db_Session = sessionmaker(bind=engine)\n",
    "db_session = db_Session()\n",
    "\n",
    "\n",
    "def connect_db():\n",
    "    db_session = db_Session()\n",
    "    return db_session\n",
    "\n",
    "\n",
    "@app.before_request\n",
    "def before_request():\n",
    "    g.db = connect_db()\n",
    "    g.user = None\n",
    "    if 'user_name' in session:\n",
    "        print(session['user_name'], \"before_request\")\n",
    "        g.user = db_session.query(User).filter_by(name=session['user_name']).first()\n",
    "        \n",
    "\n",
    "@app.teardown_request\n",
    "def teardown_request(exception):\n",
    "    if hasattr(g, 'db'):\n",
    "        g.db.close()\n",
    "        print(\"g.db.session closed\")\n",
    "\n",
    "def records(a):\n",
    "    db_session.add(a)\n",
    "    db_session.commit()\n",
    "    return \"\"\n",
    "\n",
    "\n",
    "def membership(a):\n",
    "    memberlist = []\n",
    "    instance = db_session.query(User).all()\n",
    "    for i in range(0,len(instance)):\n",
    "        memberlist.append(instance[i].name)\n",
    "    return a in memberlist\n",
    "\n",
    "\n",
    "@app.route('/')\n",
    "@app.route('/index')\n",
    "def index():\n",
    "    return render_template('layout.html')\n",
    "\n",
    "@app.route('/signin', methods=['GET', 'POST'])\n",
    "def signin():\n",
    "    if request.method == 'POST':\n",
    "        name = request.form['name']\n",
    "        email = request.form['email']  \n",
    "        password = request.form['password']\n",
    "        if membership(name) == True:\n",
    "            flash(\"이미 등록된 사용자 입니다.\")\n",
    "            return render_template('layout.html')\n",
    "        else:\n",
    "            user = User(name, email, password)\n",
    "            records(user)\n",
    "            print(name, email, password)\n",
    "            flash(\"서비스 가입을 축하합니다. 성공적으로 등록 되었습니다.\")\n",
    "        return render_template('layout.html')\n",
    "    return render_template('signin.html')\n",
    "\n",
    "\n",
    "\n",
    "@app.route('/login', methods=['GET', 'POST'])\n",
    "def login():\n",
    "    if g.user:\n",
    "        flash('이미 로그인 되었습니다')\n",
    "        return render_template('layout.html')\n",
    "    if request.method == 'POST':\n",
    "        name = request.form['name']\n",
    "        if membership(name) == True:\n",
    "            session['user_name'] = name\n",
    "            print(session['user_name'], \"login\")\n",
    "            flash(\"성공적으로 로그인 되었습니다\")\n",
    "            return render_template('layout.html')\n",
    "        else:\n",
    "            return \"등록된 이용자가 아닙니다\" + \"<br><a href='/signin'>사용자 등록을 위해서 여기를 클릭하세요</a>\"\n",
    "    return render_template('login.html')\n",
    "\n",
    "\n",
    "@app.route('/writeart', methods=['GET', 'POST'])\n",
    "def writeart():\n",
    "    if not g.user:\n",
    "        print(\"not g user in writeart\")\n",
    "        flash(\"글을 쓰시려면 먼저 로그인을 하셔야 합니다\")\n",
    "        return render_template('layout.html')\n",
    "    else:\n",
    "        username = session['user_name']\n",
    "        print(session['user_name'], 'write article')\n",
    "        if request.method == 'POST':\n",
    "            title = request.form['title']\n",
    "            articles = request.form['articles']\n",
    "            g.user.posts.append(Post(title=title, content=articles))\n",
    "            db_session.commit()            \n",
    "        return render_template('article.html', name=username)\n",
    "\n",
    "\n",
    "@app.route('/timeline')\n",
    "def timeline():\n",
    "    if not g.user:\n",
    "        print(\"not g user\")\n",
    "        flash(\"글목록을 보시려면 로그인을 먼저 하십시요\")\n",
    "        return render_template('layout.html')\n",
    "    else:\n",
    "        username = session['user_name']\n",
    "        print(session['user_name'], 'timeline')\n",
    "        mylist = []\n",
    "        for i in range(0, len(g.user.posts)):\n",
    "            mylist.append((g.user.posts[i].title, g.user.posts[i].content))\n",
    "        return render_template('timeline.html', name=username, mylist=mylist)\n",
    "\n",
    "@app.route('/logout')\n",
    "def logout():\n",
    "    session.pop('user_name', None)\n",
    "    flash(\"로그아웃 되었습니다\")\n",
    "    return render_template('layout.html')\n",
    "    \n",
    "\n",
    "if __name__=='__main__':\n",
    "    app.run()"
   ]
  },
  {
   "cell_type": "code",
   "execution_count": null,
   "metadata": {},
   "outputs": [
    {
     "name": "stdout",
     "output_type": "stream",
     "text": [
      " * Serving Flask app \"app\" (lazy loading)\n",
      " * Environment: production\n",
      "   WARNING: Do not use the development server in a production environment.\n",
      "   Use a production WSGI server instead.\n",
      " * Debug mode: off\n"
     ]
    },
    {
     "name": "stderr",
     "output_type": "stream",
     "text": [
      " * Running on http://127.0.0.1:5000/ (Press CTRL+C to quit)\n",
      "127.0.0.1 - - [01/Nov/2019 11:22:30] \"\u001b[37mGET / HTTP/1.1\u001b[0m\" 200 -\n"
     ]
    },
    {
     "name": "stdout",
     "output_type": "stream",
     "text": [
      "sjbaek before_request\n",
      "g.db.session closed\n"
     ]
    },
    {
     "name": "stderr",
     "output_type": "stream",
     "text": [
      "127.0.0.1 - - [01/Nov/2019 11:22:32] \"\u001b[37mGET /login HTTP/1.1\u001b[0m\" 200 -\n"
     ]
    },
    {
     "name": "stdout",
     "output_type": "stream",
     "text": [
      "sjbaek before_request\n",
      "g.db.session closed\n"
     ]
    },
    {
     "name": "stderr",
     "output_type": "stream",
     "text": [
      "127.0.0.1 - - [01/Nov/2019 11:22:34] \"\u001b[37mGET /logout HTTP/1.1\u001b[0m\" 200 -\n"
     ]
    },
    {
     "name": "stdout",
     "output_type": "stream",
     "text": [
      "sjbaek before_request\n",
      "g.db.session closed\n"
     ]
    },
    {
     "name": "stderr",
     "output_type": "stream",
     "text": [
      "127.0.0.1 - - [01/Nov/2019 11:22:35] \"\u001b[37mGET /login HTTP/1.1\u001b[0m\" 200 -\n"
     ]
    },
    {
     "name": "stdout",
     "output_type": "stream",
     "text": [
      "g.db.session closed\n"
     ]
    },
    {
     "name": "stderr",
     "output_type": "stream",
     "text": [
      "127.0.0.1 - - [01/Nov/2019 11:22:38] \"\u001b[37mPOST /login HTTP/1.1\u001b[0m\" 200 -\n"
     ]
    },
    {
     "name": "stdout",
     "output_type": "stream",
     "text": [
      "sjbaek login\n",
      "g.db.session closed\n"
     ]
    },
    {
     "name": "stderr",
     "output_type": "stream",
     "text": [
      "127.0.0.1 - - [01/Nov/2019 11:22:40] \"\u001b[37mGET /timeline HTTP/1.1\u001b[0m\" 200 -\n"
     ]
    },
    {
     "name": "stdout",
     "output_type": "stream",
     "text": [
      "sjbaek before_request\n",
      "sjbaek timeline\n",
      "g.db.session closed\n"
     ]
    },
    {
     "name": "stderr",
     "output_type": "stream",
     "text": [
      "127.0.0.1 - - [01/Nov/2019 11:22:46] \"\u001b[37mGET /writeart HTTP/1.1\u001b[0m\" 200 -\n"
     ]
    },
    {
     "name": "stdout",
     "output_type": "stream",
     "text": [
      "sjbaek before_request\n",
      "sjbaek write article\n",
      "g.db.session closed\n"
     ]
    },
    {
     "name": "stderr",
     "output_type": "stream",
     "text": [
      "127.0.0.1 - - [01/Nov/2019 11:23:05] \"\u001b[37mPOST /writeart HTTP/1.1\u001b[0m\" 200 -\n"
     ]
    },
    {
     "name": "stdout",
     "output_type": "stream",
     "text": [
      "sjbaek before_request\n",
      "sjbaek write article\n",
      "g.db.session closed\n"
     ]
    },
    {
     "name": "stderr",
     "output_type": "stream",
     "text": [
      "127.0.0.1 - - [01/Nov/2019 11:23:09] \"\u001b[37mGET /timeline HTTP/1.1\u001b[0m\" 200 -\n"
     ]
    },
    {
     "name": "stdout",
     "output_type": "stream",
     "text": [
      "sjbaek before_request\n",
      "sjbaek timeline\n",
      "g.db.session closed\n"
     ]
    }
   ],
   "source": [
    "%run app.py"
   ]
  },
  {
   "cell_type": "code",
   "execution_count": null,
   "metadata": {},
   "outputs": [],
   "source": []
  },
  {
   "cell_type": "code",
   "execution_count": null,
   "metadata": {},
   "outputs": [],
   "source": []
  },
  {
   "cell_type": "markdown",
   "metadata": {},
   "source": [
    "여기는 Test를 위한 코드"
   ]
  },
  {
   "cell_type": "code",
   "execution_count": 1,
   "metadata": {},
   "outputs": [],
   "source": [
    "from sqlalchemy import create_engine\n",
    "from sqlalchemy.ext.declarative import declarative_base\n",
    "from sqlalchemy import Column, Integer, String, Text, ForeignKey\n",
    "from sqlalchemy.orm import sessionmaker, relationship, backref\n",
    "\n",
    "engine = create_engine('sqlite:///test1.db')\n",
    "Base = declarative_base()\n",
    "\n",
    "class User(Base):\n",
    "    __tablename__ = 'users'\n",
    "    \n",
    "    id = Column(Integer, primary_key=True)\n",
    "    name = Column(String)\n",
    "    fullname = Column(String)\n",
    "    password = Column(String)\n",
    "    \n",
    "    def __init__(self, name, fullname, password):\n",
    "        self.name = name\n",
    "        self.fullname = fullname\n",
    "        self.password = password\n",
    "        \n",
    "    def __repr__(self):\n",
    "        return \"<User('%s', '%s', '%s')>\" %(self.name, self.fullname, self.password)\n",
    "    \n",
    "Base.metadata.create_all(engine)\n",
    "\n",
    "class Post(Base):\n",
    "    __tablename__='posts'\n",
    "    \n",
    "    id = Column(Integer, primary_key=True)\n",
    "    title = Column(String)\n",
    "    content = Column(String)\n",
    "    user_id = Column(Integer, ForeignKey('users.id'))\n",
    "    \n",
    "    user = relationship('User', backref=backref('posts', order_by = id))\n",
    "    \n",
    "    def __init__(self, title, content):\n",
    "        self.title = title\n",
    "        self.content = content\n",
    "               \n",
    "    def __repr__(self):\n",
    "        return \"<User('%s', '%s')>\" %(self.title, self.content)\n",
    "    \n",
    "\n",
    "Base.metadata.create_all(engine)\n",
    "Session = sessionmaker(bind=engine)\n",
    "session = Session()"
   ]
  },
  {
   "cell_type": "code",
   "execution_count": 2,
   "metadata": {},
   "outputs": [],
   "source": [
    "instance = session.query(User).filter_by(name='sjbaek').first()"
   ]
  },
  {
   "cell_type": "code",
   "execution_count": 5,
   "metadata": {},
   "outputs": [
    {
     "data": {
      "text/plain": [
       "'sjbaek'"
      ]
     },
     "execution_count": 5,
     "metadata": {},
     "output_type": "execute_result"
    }
   ],
   "source": [
    "instance.name"
   ]
  },
  {
   "cell_type": "code",
   "execution_count": 3,
   "metadata": {},
   "outputs": [],
   "source": [
    "p = session.query(User).get(instance.id)"
   ]
  },
  {
   "cell_type": "code",
   "execution_count": 4,
   "metadata": {},
   "outputs": [
    {
     "data": {
      "text/plain": [
       "<User('first', 'happy new year')>"
      ]
     },
     "execution_count": 4,
     "metadata": {},
     "output_type": "execute_result"
    }
   ],
   "source": [
    "p.posts[0]"
   ]
  },
  {
   "cell_type": "code",
   "execution_count": 4,
   "metadata": {},
   "outputs": [],
   "source": [
    "jack = User('sjbaek', 'seungjae baek', 'ttt')"
   ]
  },
  {
   "cell_type": "code",
   "execution_count": 5,
   "metadata": {},
   "outputs": [],
   "source": [
    "session.add(jack)"
   ]
  },
  {
   "cell_type": "code",
   "execution_count": 6,
   "metadata": {},
   "outputs": [],
   "source": [
    "session.commit()"
   ]
  },
  {
   "cell_type": "code",
   "execution_count": 7,
   "metadata": {},
   "outputs": [
    {
     "data": {
      "text/plain": [
       "<User('sjbaek', 'seungjae baek', 'ttt')>"
      ]
     },
     "execution_count": 7,
     "metadata": {},
     "output_type": "execute_result"
    }
   ],
   "source": [
    "jack"
   ]
  },
  {
   "cell_type": "code",
   "execution_count": 9,
   "metadata": {},
   "outputs": [],
   "source": [
    "instance = session.query(User).filter_by(name = 'sjbaek').first()"
   ]
  },
  {
   "cell_type": "code",
   "execution_count": 10,
   "metadata": {},
   "outputs": [
    {
     "data": {
      "text/plain": [
       "<User('sjbaek', 'seungjae baek', 'ttt')>"
      ]
     },
     "execution_count": 10,
     "metadata": {},
     "output_type": "execute_result"
    }
   ],
   "source": [
    "instance"
   ]
  },
  {
   "cell_type": "code",
   "execution_count": 11,
   "metadata": {},
   "outputs": [
    {
     "data": {
      "text/plain": [
       "1"
      ]
     },
     "execution_count": 11,
     "metadata": {},
     "output_type": "execute_result"
    }
   ],
   "source": [
    "instance.id"
   ]
  },
  {
   "cell_type": "code",
   "execution_count": 6,
   "metadata": {},
   "outputs": [],
   "source": [
    "p = session.query(User).get(1)"
   ]
  },
  {
   "cell_type": "code",
   "execution_count": 8,
   "metadata": {},
   "outputs": [
    {
     "data": {
      "text/plain": [
       "'sjbaek'"
      ]
     },
     "execution_count": 8,
     "metadata": {},
     "output_type": "execute_result"
    }
   ],
   "source": [
    "p.name"
   ]
  },
  {
   "cell_type": "code",
   "execution_count": 14,
   "metadata": {},
   "outputs": [],
   "source": [
    "p.posts.append(Post(title='first', content='happy new year'))"
   ]
  },
  {
   "cell_type": "code",
   "execution_count": 16,
   "metadata": {},
   "outputs": [
    {
     "data": {
      "text/plain": [
       "'first'"
      ]
     },
     "execution_count": 16,
     "metadata": {},
     "output_type": "execute_result"
    }
   ],
   "source": [
    "p.posts[0].title"
   ]
  },
  {
   "cell_type": "code",
   "execution_count": null,
   "metadata": {},
   "outputs": [],
   "source": []
  },
  {
   "cell_type": "code",
   "execution_count": null,
   "metadata": {},
   "outputs": [],
   "source": []
  },
  {
   "cell_type": "code",
   "execution_count": null,
   "metadata": {},
   "outputs": [],
   "source": []
  },
  {
   "cell_type": "code",
   "execution_count": null,
   "metadata": {},
   "outputs": [],
   "source": [
    "@app.route('/timeline', methods=['GET', 'POST'])\n",
    "def timeline():\n",
    "    if request.method =='POST':\n",
    "        name=request.form['name']\n",
    "        instance = db_session.query(User).filter_by(name=name).first()\n",
    "        user_id = instance.id\n",
    "        p = db_session.query(User).get(user_id)\n",
    "        mylist = []\n",
    "        for i in range(0, len(p.posts)):\n",
    "            mylist.append((p.posts[i].title, p.posts[i].content))\n",
    "        \n",
    "        db_session.commit()\n",
    "        db_session.close()\n",
    "        return render_template('timeline.html', name=name, mylist=mylist)\n",
    "    return render_template('timeline.html')"
   ]
  }
 ],
 "metadata": {
  "kernelspec": {
   "display_name": "Python 3",
   "language": "python",
   "name": "python3"
  },
  "language_info": {
   "codemirror_mode": {
    "name": "ipython",
    "version": 3
   },
   "file_extension": ".py",
   "mimetype": "text/x-python",
   "name": "python",
   "nbconvert_exporter": "python",
   "pygments_lexer": "ipython3",
   "version": "3.6.7"
  }
 },
 "nbformat": 4,
 "nbformat_minor": 2
}
