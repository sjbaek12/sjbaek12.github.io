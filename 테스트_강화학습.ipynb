{
  "nbformat": 4,
  "nbformat_minor": 0,
  "metadata": {
    "colab": {
      "name": "테스트 강화학습",
      "provenance": [],
      "collapsed_sections": [],
      "authorship_tag": "ABX9TyMYFAfo2qH1gGUaynqv1pIy",
      "include_colab_link": true
    },
    "kernelspec": {
      "name": "python3",
      "display_name": "Python 3"
    }
  },
  "cells": [
    {
      "cell_type": "markdown",
      "metadata": {
        "id": "view-in-github",
        "colab_type": "text"
      },
      "source": [
        "<a href=\"https://colab.research.google.com/github/sjbaek12/sjbaek12.github.io/blob/master/%ED%85%8C%EC%8A%A4%ED%8A%B8_%EA%B0%95%ED%99%94%ED%95%99%EC%8A%B5.ipynb\" target=\"_parent\"><img src=\"https://colab.research.google.com/assets/colab-badge.svg\" alt=\"Open In Colab\"/></a>"
      ]
    },
    {
      "cell_type": "markdown",
      "metadata": {
        "id": "PbNzyGr1xgti",
        "colab_type": "text"
      },
      "source": [
        "어떤 상태에서 특정한 액션을 취하면 리워드가 발생한다.\n",
        "정책신경망에서 어떤 상태일때 액선이 산출되고 그 산출로 인한 리워드가 최대가 되도록 정책신경망의 가중치를 조정한다. 그러면 리워드가 최대가 되는 액션을 산출하는 정책신경망이 될 것이다. \n",
        "\n",
        "loss함수는 리워드가 최대가 되는 액션을 산출했을 때, 마이너스 무한대가 되도록 조정하면 된다. "
      ]
    },
    {
      "cell_type": "markdown",
      "metadata": {
        "id": "n5zyxmm_KOAe",
        "colab_type": "text"
      },
      "source": [
        "먼저 LSTM과 일반적 deep learning 모델을 비교해본 결과 fit 능력에서 차이는 없었다."
      ]
    },
    {
      "cell_type": "code",
      "metadata": {
        "id": "uoNYrqyWxhgZ",
        "colab_type": "code",
        "colab": {}
      },
      "source": [
        "import numpy as np\n",
        "import matplotlib.pyplot as plt"
      ],
      "execution_count": 3,
      "outputs": []
    },
    {
      "cell_type": "code",
      "metadata": {
        "id": "rDPyv4nbyYRY",
        "colab_type": "code",
        "colab": {
          "base_uri": "https://localhost:8080/",
          "height": 265
        },
        "outputId": "3578eff1-b1fe-4d0b-fb9e-cb042c15f059"
      },
      "source": [
        "# 환경 모듈\n",
        "\n",
        "def env():\n",
        "  start_price = 3\n",
        "  pricej=[]\n",
        "  for i in range(50):\n",
        "    change = np.random.rand(1)*1.2\n",
        "    direction = np.random.choice(2, p=[0.5, 0.5])\n",
        "    if direction == 1:\n",
        "      if start_price - change[0] <= 0:\n",
        "         p = 1.0\n",
        "      else:\n",
        "         p = start_price - change[0]     \n",
        "    else: \n",
        "      p = start_price + change[0] \n",
        "    start_price = p\n",
        "    pricej.append(p)\n",
        "#  p_mean = np.mean(price)\n",
        "#  p_std = np.std(price)\n",
        "#  price = (price - p_mean)/p_std\n",
        "  \n",
        "  p_serise= []\n",
        "  for i in range(46):\n",
        "    serise = [pricej[i],pricej[i+1], pricej[i+2], pricej[i+3], pricej[i+4]]\n",
        "    serise = np.array(serise)\n",
        "    p_serise.append(serise)\n",
        "  p_serise= p_serise[0:50]\n",
        "  p_serise = np.array(p_serise)\n",
        "  #p_serise = p_serise.reshape(25, 5, 1)  # LSTM을 사용할 때 데이터 input 형태\n",
        "  price_lstm = pricej[5:]\n",
        "  price_lstm = np.array(price_lstm)\n",
        "  return pricej, p_serise, price_lstm\n",
        "\n",
        "pricej, p_serise, price_lstm = env()\n",
        "plt.plot(price_lstm)\n",
        "plt.show()"
      ],
      "execution_count": 4,
      "outputs": [
        {
          "output_type": "display_data",
          "data": {
            "image/png": "[encoded data removed]",
            "text/plain": [
              "<Figure size 432x288 with 1 Axes>"
            ]
          },
          "metadata": {
            "tags": [],
            "needs_background": "light"
          }
        }
      ]
    },
    {
      "cell_type": "code",
      "metadata": {
        "id": "GxlziTCzn5mc",
        "colab_type": "code",
        "colab": {
          "base_uri": "https://localhost:8080/",
          "height": 826
        },
        "outputId": "af94dbb7-2e8e-4456-a0b9-cd2efe8866ab"
      },
      "source": [
        "p_serise"
      ],
      "execution_count": 5,
      "outputs": [
        {
          "output_type": "execute_result",
          "data": {
            "text/plain": [
              "array([[3.34012403, 4.30339293, 3.35378361, 2.85722178, 3.67033404],\n",
              "       [4.30339293, 3.35378361, 2.85722178, 3.67033404, 3.01387973],\n",
              "       [3.35378361, 2.85722178, 3.67033404, 3.01387973, 2.18277497],\n",
              "       [2.85722178, 3.67033404, 3.01387973, 2.18277497, 1.95240516],\n",
              "       [3.67033404, 3.01387973, 2.18277497, 1.95240516, 1.07833327],\n",
              "       [3.01387973, 2.18277497, 1.95240516, 1.07833327, 0.44670836],\n",
              "       [2.18277497, 1.95240516, 1.07833327, 0.44670836, 0.99120699],\n",
              "       [1.95240516, 1.07833327, 0.44670836, 0.99120699, 0.41346093],\n",
              "       [1.07833327, 0.44670836, 0.99120699, 0.41346093, 0.65066162],\n",
              "       [0.44670836, 0.99120699, 0.41346093, 0.65066162, 0.03405643],\n",
              "       [0.99120699, 0.41346093, 0.65066162, 0.03405643, 1.13825431],\n",
              "       [0.41346093, 0.65066162, 0.03405643, 1.13825431, 0.80136072],\n",
              "       [0.65066162, 0.03405643, 1.13825431, 0.80136072, 1.72061981],\n",
              "       [0.03405643, 1.13825431, 0.80136072, 1.72061981, 0.7000481 ],\n",
              "       [1.13825431, 0.80136072, 1.72061981, 0.7000481 , 1.        ],\n",
              "       [0.80136072, 1.72061981, 0.7000481 , 1.        , 1.85071445],\n",
              "       [1.72061981, 0.7000481 , 1.        , 1.85071445, 1.06682131],\n",
              "       [0.7000481 , 1.        , 1.85071445, 1.06682131, 2.07183885],\n",
              "       [1.        , 1.85071445, 1.06682131, 2.07183885, 2.66163448],\n",
              "       [1.85071445, 1.06682131, 2.07183885, 2.66163448, 1.47510793],\n",
              "       [1.06682131, 2.07183885, 2.66163448, 1.47510793, 2.52643657],\n",
              "       [2.07183885, 2.66163448, 1.47510793, 2.52643657, 3.69178416],\n",
              "       [2.66163448, 1.47510793, 2.52643657, 3.69178416, 3.49583013],\n",
              "       [1.47510793, 2.52643657, 3.69178416, 3.49583013, 3.77543736],\n",
              "       [2.52643657, 3.69178416, 3.49583013, 3.77543736, 3.9988365 ],\n",
              "       [3.69178416, 3.49583013, 3.77543736, 3.9988365 , 4.84744226],\n",
              "       [3.49583013, 3.77543736, 3.9988365 , 4.84744226, 3.80087184],\n",
              "       [3.77543736, 3.9988365 , 4.84744226, 3.80087184, 3.91840199],\n",
              "       [3.9988365 , 4.84744226, 3.80087184, 3.91840199, 3.56268566],\n",
              "       [4.84744226, 3.80087184, 3.91840199, 3.56268566, 4.54350856],\n",
              "       [3.80087184, 3.91840199, 3.56268566, 4.54350856, 5.45291693],\n",
              "       [3.91840199, 3.56268566, 4.54350856, 5.45291693, 4.39751253],\n",
              "       [3.56268566, 4.54350856, 5.45291693, 4.39751253, 3.24705783],\n",
              "       [4.54350856, 5.45291693, 4.39751253, 3.24705783, 2.81260589],\n",
              "       [5.45291693, 4.39751253, 3.24705783, 2.81260589, 3.33397383],\n",
              "       [4.39751253, 3.24705783, 2.81260589, 3.33397383, 3.74177157],\n",
              "       [3.24705783, 2.81260589, 3.33397383, 3.74177157, 4.2388296 ],\n",
              "       [2.81260589, 3.33397383, 3.74177157, 4.2388296 , 4.65557091],\n",
              "       [3.33397383, 3.74177157, 4.2388296 , 4.65557091, 5.65237045],\n",
              "       [3.74177157, 4.2388296 , 4.65557091, 5.65237045, 4.70763871],\n",
              "       [4.2388296 , 4.65557091, 5.65237045, 4.70763871, 5.17816552],\n",
              "       [4.65557091, 5.65237045, 4.70763871, 5.17816552, 4.8083949 ],\n",
              "       [5.65237045, 4.70763871, 5.17816552, 4.8083949 , 5.36436254],\n",
              "       [4.70763871, 5.17816552, 4.8083949 , 5.36436254, 5.4067908 ],\n",
              "       [5.17816552, 4.8083949 , 5.36436254, 5.4067908 , 4.38926172],\n",
              "       [4.8083949 , 5.36436254, 5.4067908 , 4.38926172, 3.21088224]])"
            ]
          },
          "metadata": {
            "tags": []
          },
          "execution_count": 5
        }
      ]
    },
    {
      "cell_type": "code",
      "metadata": {
        "id": "2WyzYpCB2j4F",
        "colab_type": "code",
        "colab": {
          "base_uri": "https://localhost:8080/",
          "height": 34
        },
        "outputId": "e49b9a96-effc-4d5a-a218-4b4814b40e70"
      },
      "source": [
        "len(p_serise)"
      ],
      "execution_count": null,
      "outputs": [
        {
          "output_type": "execute_result",
          "data": {
            "text/plain": [
              "46"
            ]
          },
          "metadata": {
            "tags": []
          },
          "execution_count": 61
        }
      ]
    },
    {
      "cell_type": "markdown",
      "metadata": {
        "id": "OF674qQ2GKZa",
        "colab_type": "text"
      },
      "source": [
        "여기서부터 정책경사"
      ]
    },
    {
      "cell_type": "markdown",
      "metadata": {
        "id": "87QBKemz9z2Q",
        "colab_type": "text"
      },
      "source": [
        "여기부터가 에이전트에 해당하는 부분이다."
      ]
    },
    {
      "cell_type": "code",
      "metadata": {
        "id": "4Dg0NdtSsQhu",
        "colab_type": "code",
        "colab": {}
      },
      "source": [
        "#정책망이 예측한 대로 action을 선택한다.\n",
        "\n",
        "def action_choice(p_serise):\n",
        "  act = model_predict.predict(p_serise)\n",
        "  #act = np.argmax(act)\n",
        "  return act"
      ],
      "execution_count": 6,
      "outputs": []
    },
    {
      "cell_type": "code",
      "metadata": {
        "id": "bnKwo9vgVKMI",
        "colab_type": "code",
        "colab": {}
      },
      "source": [
        "# action_choice가 선택한 행동을 balance에 대비해서 가능한 행동인지 점검하고 틀린 경우 가능한 액션을 제시한다.\n",
        "# 당초 0 매수, 1 매도를 --> 0 매수, 1 hold, 2 매도로 전환 \n",
        "# 그리고 현재의 밸러스는 before 밸런스로 기록을 남긴다.\n",
        "\n",
        "def action_validate(act, price, balance):\n",
        "  if act == 0:\n",
        "    if balance[0] - price < 0:\n",
        "      act_v = 1\n",
        "    else:\n",
        "      act_v = 0\n",
        "        \n",
        "  if act == 1:\n",
        "    if balance[2] > 0 :\n",
        "      act_v = 2\n",
        "    else:\n",
        "      act_v = 1\n",
        "\n",
        "  before_act_balance = [balance[0], balance[1], balance[2]] \n",
        "\n",
        "  return act_v, before_act_balance"
      ],
      "execution_count": 17,
      "outputs": []
    },
    {
      "cell_type": "code",
      "metadata": {
        "id": "Tk6ddnSXxN2r",
        "colab_type": "code",
        "colab": {}
      },
      "source": [
        "# 검증이 완료된 행동으로 현재 밸런스를 갱신하고, 현재 가치를 구한다.\n",
        "\n",
        "def balance_update(balance, price, act_v):\n",
        "  if act_v == 0:\n",
        "    balance[0] = balance[0] - price\n",
        "    balance[1] = price\n",
        "    balance[2] = balance[2] + 1\n",
        "  if act_v == 1:\n",
        "    balance[1] = price\n",
        "  if act_v == 2:\n",
        "    balance[0] = balance[0] + price\n",
        "    balance[1] = price\n",
        "    balance[2] = balance[2] -1\n",
        "  balance_updated = [balance[0], balance[1], balance[2]] \n",
        "  present_value = balance[0] + balance[1] * balance[2]\n",
        "  return balance_updated, present_value"
      ],
      "execution_count": 7,
      "outputs": []
    },
    {
      "cell_type": "code",
      "metadata": {
        "id": "9BqjV5MRGBy0",
        "colab_type": "code",
        "colab": {}
      },
      "source": [
        "# 이전의 밸런스와 현재 밸런스와의 비율을 구한다.\n",
        "\n",
        "def pv_ratio_cal(before_act_balance, balance_updated):\n",
        "  pv_ratio = (balance_updated[0] + balance_updated[1] * balance_updated[2])/(before_act_balance[0] + before_act_balance[1] * before_act_balance[2])\n",
        "  return pv_ratio"
      ],
      "execution_count": 8,
      "outputs": []
    },
    {
      "cell_type": "code",
      "metadata": {
        "id": "ij5NYQ8QHfE7",
        "colab_type": "code",
        "colab": {}
      },
      "source": [
        "# delayed reward를 구하기 위해서 기준 포트폴리오와 현재 밸런스의 비율을 구하고, 타겟 비율을 넘는지 확인한다.\n",
        "# 만약 target을 넘으면 base_pv를 present_value를 변경한다.\n",
        "\n",
        "def base_to_cur (base_pv, present_value, target_ratio):\n",
        "  delay_ratio = (present_value - base_pv) / base_pv\n",
        "  if delay_ratio > target_ratio:\n",
        "    target = 1\n",
        "    base_pv = present_value\n",
        "  elif (-1 * delay_ratio) > target_ratio:\n",
        "    target = -1\n",
        "    base_pv = present_value\n",
        "  else:\n",
        "    target = 0\n",
        "    base_pv = base_pv\n",
        "  return delay_ratio, target, base_pv"
      ],
      "execution_count": 9,
      "outputs": []
    },
    {
      "cell_type": "markdown",
      "metadata": {
        "id": "1T8GyzQga6Dd",
        "colab_type": "text"
      },
      "source": [
        ""
      ]
    },
    {
      "cell_type": "code",
      "metadata": {
        "id": "ZG19QI3YAYcW",
        "colab_type": "code",
        "colab": {}
      },
      "source": [
        "# 거래와 관련된 모든 것을 기록한다.\n",
        "\n",
        "def record(i, price, act_v, balance_updated, present_value, pv_ratio, delay_ratio, target, base_pv):\n",
        "\n",
        "  transaction_history.append([i, price, act_v, balance_updated, present_value, pv_ratio,delay_ratio, target, base_pv])\n",
        "  return transaction_history"
      ],
      "execution_count": 10,
      "outputs": []
    },
    {
      "cell_type": "code",
      "metadata": {
        "id": "fSqTmJ2bGAL8",
        "colab_type": "code",
        "colab": {}
      },
      "source": [
        "# 학습을 위한 배치 데이터를 만든다.\n",
        "\n",
        "def get_batch(transaction_history):\n",
        "\n",
        "  for i in range(len(transaction_history)):\n",
        "    if transaction_history[i][7] == 1:\n",
        "      y = []\n",
        "      for j in range(i+1):\n",
        "        if transaction_history[j][2] == 0:\n",
        "          y.append([1.0, 0.0])\n",
        "        if transaction_history[j][2] == 2:\n",
        "          y.append([0.0, 1.0])\n",
        "        if transaction_history[j][2] == 1:   # 궁색하다.\n",
        "          y.append([1.0, 0.0])\n",
        "      price_data = [p_serise[j] for j in range(i+1)] \n",
        "\n",
        "      # 학습의 방향을 정해야 하는데 여기 문제가 있다. 구매는 0, 홀드는 1, 매도는 1이다.\n",
        "      # 이를 다시 정책신경망의 y 값으로 제공하기 위해서는 매수, 매도 각각 y값으로 만들어야 함으로\n",
        "      # 0은 매수 y는 [1,0, 0.0] 1은 [1.0, 0.0] 또는 [0.0, 1.0], 2는 [0.0, 1.0]으로 재가공\n",
        "\n",
        "\n",
        "    elif transaction_history[i][7] == -1:\n",
        "      y = []\n",
        "      for j in range(i+1):\n",
        "        if transaction_history[j][2] == 0:\n",
        "          y.append([0.0, 1.0])\n",
        "        if transaction_history[j][2] == 2:\n",
        "          y.append([1.0, 0.0])\n",
        "        if transaction_history[j][2] == 1:   # 궁색하다.\n",
        "          y.append([1.0, 0.0])\n",
        "      price_data = [p_serise[j] for j in range(i+1)] \n",
        "\n",
        "    else:\n",
        "      a  = np.random.choice(2, p=[0.5, 0.5])\n",
        "      if a == 1:\n",
        "        rand_choice = [1.0, 0.0]\n",
        "      else:\n",
        "        rand_choice = [0.0, 1.0]\n",
        "      y = [rand_choice for j in range(i+1)]   \n",
        "      price_data = [p_serise[j] for j in range(i+1)]    \n",
        "\n",
        "  return y, price_data"
      ],
      "execution_count": 11,
      "outputs": []
    },
    {
      "cell_type": "code",
      "metadata": {
        "id": "8H2uo6DtiBFK",
        "colab_type": "code",
        "colab": {}
      },
      "source": [
        ""
      ],
      "execution_count": null,
      "outputs": []
    },
    {
      "cell_type": "markdown",
      "metadata": {
        "id": "FOo8LTuXyI5E",
        "colab_type": "text"
      },
      "source": [
        "여기부터는 정책신경망 이다."
      ]
    },
    {
      "cell_type": "code",
      "metadata": {
        "id": "BD4QALBQyNEe",
        "colab_type": "code",
        "colab": {}
      },
      "source": [
        "from tensorflow.keras.utils import to_categorical\n",
        "from tensorflow import keras\n",
        "import keras.layers as layers\n",
        "from keras.layers import LSTM, Dense\n",
        "from keras.models import Model, Sequential\n",
        "from keras.optimizers import Adam, RMSprop\n",
        "from keras.initializers import glorot_uniform\n",
        "from keras.callbacks import ModelCheckpoint, EarlyStopping\n",
        "import keras.backend as K  # 케라스의 backend를 K. 형식으로 호출하는 것이고 여기서는 tensorflow이다."
      ],
      "execution_count": 12,
      "outputs": []
    },
    {
      "cell_type": "code",
      "metadata": {
        "id": "sqfrHL4syNWQ",
        "colab_type": "code",
        "colab": {}
      },
      "source": [
        "def get_policy_model(lr):\n",
        "  inp_L = layers.Input(shape=(5,),name=\"input_L\")\n",
        "  dense_L = Dense(64)(inp_L)\n",
        "  output_s = layers.Dense(2, activation=\"sigmoid\",kernel_initializer=glorot_uniform(seed=42), use_bias=False, kernel_regularizer=keras.regularizers.l2(0.001), name=\"out\")(dense_L)\n",
        "\n",
        "  model_train = Model(inputs=inp_L, outputs = output_s)\n",
        "\n",
        "  model_train.compile(loss='mse', optimizer=Adam(lr), metrics = ['mae'])\n",
        "  model_predict = Model(inputs=inp_L, outputs = output_s)\n",
        "  return model_train, model_predict"
      ],
      "execution_count": 13,
      "outputs": []
    },
    {
      "cell_type": "code",
      "metadata": {
        "id": "sdiXiLhjyTSI",
        "colab_type": "code",
        "colab": {}
      },
      "source": [
        "model_train, model_predict = get_policy_model(0.001)"
      ],
      "execution_count": 14,
      "outputs": []
    },
    {
      "cell_type": "code",
      "metadata": {
        "id": "D_441GjMyNl1",
        "colab_type": "code",
        "colab": {
          "base_uri": "https://localhost:8080/",
          "height": 263
        },
        "outputId": "5eeb3f7e-1f14-41d9-8c60-ae9fe3ccc1a9"
      },
      "source": [
        "model_train.summary()"
      ],
      "execution_count": 15,
      "outputs": [
        {
          "output_type": "stream",
          "text": [
            "Model: \"functional_1\"\n",
            "_________________________________________________________________\n",
            "Layer (type)                 Output Shape              Param #   \n",
            "=================================================================\n",
            "input_L (InputLayer)         [(None, 5)]               0         \n",
            "_________________________________________________________________\n",
            "dense (Dense)                (None, 64)                384       \n",
            "_________________________________________________________________\n",
            "out (Dense)                  (None, 2)                 128       \n",
            "=================================================================\n",
            "Total params: 512\n",
            "Trainable params: 512\n",
            "Non-trainable params: 0\n",
            "_________________________________________________________________\n"
          ],
          "name": "stdout"
        }
      ]
    },
    {
      "cell_type": "code",
      "metadata": {
        "id": "NUIxfHNQ6Z5v",
        "colab_type": "code",
        "colab": {}
      },
      "source": [
        ""
      ],
      "execution_count": null,
      "outputs": []
    },
    {
      "cell_type": "code",
      "metadata": {
        "id": "iPLlpOH56Zz4",
        "colab_type": "code",
        "colab": {}
      },
      "source": [
        ""
      ],
      "execution_count": null,
      "outputs": []
    },
    {
      "cell_type": "markdown",
      "metadata": {
        "id": "IZHalhPGCE4J",
        "colab_type": "text"
      },
      "source": [
        "여기부터는 학습의 영역이다."
      ]
    },
    {
      "cell_type": "code",
      "metadata": {
        "id": "8m2KF-e-wFu1",
        "colab_type": "code",
        "colab": {
          "base_uri": "https://localhost:8080/",
          "height": 1000
        },
        "outputId": "f5e58128-4bcd-477f-c5bc-077886474ce9"
      },
      "source": [
        "# random action과 신경망의 선택 action을 조정해야 한다.\n",
        "\n",
        "\n",
        "num_episode = 0\n",
        "num_episodes = 500\n",
        "transaction_history=[]\n",
        "target_ratio = 0.03\n",
        "\n",
        "history_record = []\n",
        "\n",
        "epsilon = 0.5\n",
        "\n",
        "while num_episode < num_episodes:\n",
        "\n",
        "  balance = [20, 0, 0]\n",
        "  base_pv = 20\n",
        "  \n",
        "  history_record = []\n",
        "  transaction_history=[]\n",
        "\n",
        "  for i in range(len(p_serise)):\n",
        "   \n",
        "    price = p_serise[i][4]\n",
        "\n",
        "    if np.random.rand() < epsilon :\n",
        "      act = np.random.choice(2, p=[0.5, 0.5])\n",
        "    else:\n",
        "      act = model_train.predict(p_serise) # check\n",
        "      act =  np.argmax(action_choice(p_serise)[i])\n",
        "   \n",
        "    act_v, before_act_balance = action_validate(act, price, balance)\n",
        "\n",
        "    balance_updated, present_value = balance_update(balance, price, act_v)\n",
        "    pv_ratio = pv_ratio_cal(before_act_balance, balance_updated)\n",
        "   \n",
        "    delay_ratio, target, base_pv = base_to_cur(base_pv, present_value, target_ratio)\n",
        "  \n",
        "    transaction_history = record(i, price, act_v, balance_updated, present_value, pv_ratio, delay_ratio, target, base_pv)\n",
        "\n",
        "\n",
        "#     if (target == 1 or target == -1):\n",
        "    if target == 1:   # 긍정학습만 시킨다.\n",
        "      y, price_data = get_batch(transaction_history)\n",
        "\n",
        "      price_data = np.array(price_data)\n",
        "      y = np.array(y)\n",
        "      loss = model_train.train_on_batch(price_data, y)\n",
        "\n",
        "      history_record.append(transaction_history)\n",
        "      transaction_history=[]\n",
        "      continue\n",
        "    \n",
        "#    else:\n",
        "#      history_record.append(transaction_history) # check\n",
        "#      transaction_history=[] # check\n",
        "#      continue\n",
        "\n",
        "  \n",
        "  if (num_episode+1) % 2 == 0:\n",
        "\n",
        "    print(\"num_episode: \",num_episode+1, \"loss: \", loss[0], \"mse :\", loss[1])\n",
        "\n",
        "  num_episode += 1\n",
        "  epsilon = epsilon / num_episode\n",
        "\n",
        "\n",
        "\n",
        "\n",
        "\n",
        "\n",
        "\n",
        "\n",
        "    "
      ],
      "execution_count": 23,
      "outputs": [
        {
          "output_type": "stream",
          "text": [
            "num_episode:  2 loss:  0.24217171967029572 mse : 0.4881221055984497\n",
            "num_episode:  4 loss:  0.23446215689182281 mse : 0.47457191348075867\n",
            "num_episode:  6 loss:  0.16472308337688446 mse : 0.4014700651168823\n",
            "num_episode:  8 loss:  0.17032848298549652 mse : 0.40840065479278564\n",
            "num_episode:  10 loss:  0.17284542322158813 mse : 0.41147273778915405\n",
            "num_episode:  12 loss:  0.17276465892791748 mse : 0.4113790690898895\n",
            "num_episode:  14 loss:  0.17353938519954681 mse : 0.4123227596282959\n",
            "num_episode:  16 loss:  0.2489459216594696 mse : 0.48861631751060486\n",
            "num_episode:  18 loss:  0.2558194100856781 mse : 0.49525636434555054\n",
            "num_episode:  20 loss:  0.2510523200035095 mse : 0.4902321994304657\n",
            "num_episode:  22 loss:  0.24905887246131897 mse : 0.48794493079185486\n",
            "num_episode:  24 loss:  0.2476271688938141 mse : 0.4862147867679596\n",
            "num_episode:  26 loss:  0.2458731085062027 mse : 0.4841506779193878\n",
            "num_episode:  28 loss:  0.24421380460262299 mse : 0.4821746051311493\n",
            "num_episode:  30 loss:  0.24263477325439453 mse : 0.4802728593349457\n",
            "num_episode:  32 loss:  0.24109496176242828 mse : 0.47840461134910583\n",
            "num_episode:  34 loss:  0.2396019995212555 mse : 0.47657838463783264\n",
            "num_episode:  36 loss:  0.1410275548696518 mse : 0.3707388639450073\n",
            "num_episode:  38 loss:  0.24786002933979034 mse : 0.48462221026420593\n",
            "num_episode:  40 loss:  0.14453135430812836 mse : 0.3754298686981201\n",
            "num_episode:  42 loss:  0.1341722160577774 mse : 0.3613649606704712\n",
            "num_episode:  44 loss:  0.12921284139156342 mse : 0.3544321358203888\n",
            "num_episode:  46 loss:  0.1311228722333908 mse : 0.35711103677749634\n",
            "num_episode:  48 loss:  0.1312028169631958 mse : 0.3572176694869995\n",
            "num_episode:  50 loss:  0.13077646493911743 mse : 0.3566150367259979\n",
            "num_episode:  52 loss:  0.1306706815958023 mse : 0.35646122694015503\n",
            "num_episode:  54 loss:  0.13057513535022736 mse : 0.35632163286209106\n",
            "num_episode:  56 loss:  0.13044473528862 mse : 0.35613298416137695\n",
            "num_episode:  58 loss:  0.13032503426074982 mse : 0.3559592068195343\n",
            "num_episode:  60 loss:  0.13021314144134521 mse : 0.35579627752304077\n",
            "num_episode:  62 loss:  0.1301037073135376 mse : 0.3556366562843323\n",
            "num_episode:  64 loss:  0.12999798357486725 mse : 0.3554821312427521\n",
            "num_episode:  66 loss:  0.12989617884159088 mse : 0.35533300042152405\n",
            "num_episode:  68 loss:  0.12979784607887268 mse : 0.35518863797187805\n",
            "num_episode:  70 loss:  0.12970292568206787 mse : 0.3550489842891693\n",
            "num_episode:  72 loss:  0.12961117923259735 mse : 0.35491374135017395\n",
            "num_episode:  74 loss:  0.1295226365327835 mse : 0.35478290915489197\n",
            "num_episode:  76 loss:  0.12943711876869202 mse : 0.35465624928474426\n",
            "num_episode:  78 loss:  0.12935452163219452 mse : 0.3545336127281189\n",
            "num_episode:  80 loss:  0.1292746514081955 mse : 0.35441482067108154\n",
            "num_episode:  82 loss:  0.12919747829437256 mse : 0.35429972410202026\n",
            "num_episode:  84 loss:  0.1291230022907257 mse : 0.3541884124279022\n",
            "num_episode:  86 loss:  0.1290508508682251 mse : 0.35408031940460205\n",
            "num_episode:  88 loss:  0.1289810836315155 mse : 0.3539755642414093\n",
            "num_episode:  90 loss:  0.12891370058059692 mse : 0.3538740873336792\n",
            "num_episode:  92 loss:  0.1288483738899231 mse : 0.3537755310535431\n",
            "num_episode:  94 loss:  0.12878531217575073 mse : 0.3536801338195801\n",
            "num_episode:  96 loss:  0.12872420251369476 mse : 0.35358744859695435\n",
            "num_episode:  98 loss:  0.12866513431072235 mse : 0.3534976541996002\n",
            "num_episode:  100 loss:  0.1286078244447708 mse : 0.3534103333950043\n",
            "num_episode:  102 loss:  0.12855246663093567 mse : 0.3533257246017456\n",
            "num_episode:  104 loss:  0.12849879264831543 mse : 0.35324352979660034\n",
            "num_episode:  106 loss:  0.1284468173980713 mse : 0.3531637191772461\n",
            "num_episode:  108 loss:  0.12839648127555847 mse : 0.3530862331390381\n",
            "num_episode:  110 loss:  0.12834766507148743 mse : 0.3530108630657196\n",
            "num_episode:  112 loss:  0.12830044329166412 mse : 0.352937787771225\n",
            "num_episode:  114 loss:  0.12825463712215424 mse : 0.3528667092323303\n",
            "num_episode:  116 loss:  0.128210186958313 mse : 0.35279756784439087\n",
            "num_episode:  118 loss:  0.128167062997818 mse : 0.35273033380508423\n",
            "num_episode:  120 loss:  0.12812530994415283 mse : 0.3526650369167328\n",
            "num_episode:  122 loss:  0.1280846893787384 mse : 0.35260137915611267\n",
            "num_episode:  124 loss:  0.12804536521434784 mse : 0.3525395691394806\n",
            "num_episode:  126 loss:  0.12800709903240204 mse : 0.3524792790412903\n",
            "num_episode:  128 loss:  0.12797005474567413 mse : 0.35242074728012085\n",
            "num_episode:  130 loss:  0.1279340237379074 mse : 0.3523637056350708\n",
            "num_episode:  132 loss:  0.12789909541606903 mse : 0.3523082137107849\n",
            "num_episode:  134 loss:  0.12786506116390228 mse : 0.35225406289100647\n",
            "num_episode:  136 loss:  0.12783204019069672 mse : 0.352201372385025\n",
            "num_episode:  138 loss:  0.1277998983860016 mse : 0.35214996337890625\n",
            "num_episode:  140 loss:  0.12776874005794525 mse : 0.3521000146865845\n",
            "num_episode:  142 loss:  0.1277383714914322 mse : 0.3520511984825134\n",
            "num_episode:  144 loss:  0.1277088224887848 mse : 0.3520036041736603\n",
            "num_episode:  146 loss:  0.12768015265464783 mse : 0.3519572913646698\n",
            "num_episode:  148 loss:  0.127652108669281 mse : 0.35191190242767334\n",
            "num_episode:  150 loss:  0.12762491405010223 mse : 0.35186779499053955\n",
            "num_episode:  152 loss:  0.1275983452796936 mse : 0.3518246114253998\n",
            "num_episode:  154 loss:  0.1275724470615387 mse : 0.3517824411392212\n",
            "num_episode:  156 loss:  0.12754732370376587 mse : 0.35174140334129333\n",
            "num_episode:  158 loss:  0.12752284109592438 mse : 0.3517013490200043\n",
            "num_episode:  160 loss:  0.1274988353252411 mse : 0.3516620397567749\n",
            "num_episode:  162 loss:  0.1274755597114563 mse : 0.3516237735748291\n",
            "num_episode:  164 loss:  0.12745285034179688 mse : 0.35158640146255493\n",
            "num_episode:  166 loss:  0.12743060290813446 mse : 0.35154974460601807\n",
            "num_episode:  168 loss:  0.1274089217185974 mse : 0.35151398181915283\n",
            "num_episode:  170 loss:  0.12738776206970215 mse : 0.3514789640903473\n",
            "num_episode:  172 loss:  0.1273670643568039 mse : 0.35144472122192383\n",
            "num_episode:  174 loss:  0.1273469626903534 mse : 0.3514113426208496\n",
            "num_episode:  176 loss:  0.12732723355293274 mse : 0.35137856006622314\n",
            "num_episode:  178 loss:  0.1273079514503479 mse : 0.351346492767334\n",
            "num_episode:  180 loss:  0.1272890716791153 mse : 0.35131508111953735\n",
            "num_episode:  182 loss:  0.1272706240415573 mse : 0.35128432512283325\n",
            "num_episode:  184 loss:  0.12725254893302917 mse : 0.3512541651725769\n",
            "num_episode:  186 loss:  0.12723492085933685 mse : 0.35122472047805786\n",
            "num_episode:  188 loss:  0.1272176057100296 mse : 0.3511958122253418\n",
            "num_episode:  190 loss:  0.12720072269439697 mse : 0.3511675298213959\n",
            "num_episode:  192 loss:  0.1271841824054718 mse : 0.3511398434638977\n",
            "num_episode:  194 loss:  0.12716779112815857 mse : 0.351112425327301\n",
            "num_episode:  196 loss:  0.1271519511938095 mse : 0.3510858714580536\n",
            "num_episode:  198 loss:  0.12713634967803955 mse : 0.3510597348213196\n",
            "num_episode:  200 loss:  0.1271209865808487 mse : 0.3510339856147766\n",
            "num_episode:  202 loss:  0.1271059364080429 mse : 0.3510087728500366\n",
            "num_episode:  204 loss:  0.12709130346775055 mse : 0.35098421573638916\n",
            "num_episode:  206 loss:  0.12707681953907013 mse : 0.3509599566459656\n",
            "num_episode:  208 loss:  0.1270625740289688 mse : 0.3509361147880554\n",
            "num_episode:  210 loss:  0.12704861164093018 mse : 0.3509127199649811\n",
            "num_episode:  212 loss:  0.12703491747379303 mse : 0.35088980197906494\n",
            "num_episode:  214 loss:  0.1270214319229126 mse : 0.35086724162101746\n",
            "num_episode:  216 loss:  0.12700815498828888 mse : 0.3508450984954834\n",
            "num_episode:  218 loss:  0.12699520587921143 mse : 0.35082343220710754\n",
            "num_episode:  220 loss:  0.12698237597942352 mse : 0.3508020341396332\n",
            "num_episode:  222 loss:  0.12696979939937592 mse : 0.35078108310699463\n",
            "num_episode:  224 loss:  0.12695740163326263 mse : 0.35076043009757996\n",
            "num_episode:  226 loss:  0.12694518268108368 mse : 0.35074013471603394\n",
            "num_episode:  228 loss:  0.12693315744400024 mse : 0.35072019696235657\n",
            "num_episode:  230 loss:  0.1269213706254959 mse : 0.35070064663887024\n",
            "num_episode:  232 loss:  0.1269097626209259 mse : 0.3506814241409302\n",
            "num_episode:  234 loss:  0.12689830362796783 mse : 0.3506625294685364\n",
            "num_episode:  236 loss:  0.12688690423965454 mse : 0.35064375400543213\n",
            "num_episode:  238 loss:  0.12687578797340393 mse : 0.3506254553794861\n",
            "num_episode:  240 loss:  0.12686479091644287 mse : 0.35060742497444153\n",
            "num_episode:  242 loss:  0.12685398757457733 mse : 0.35058972239494324\n",
            "num_episode:  244 loss:  0.12684324383735657 mse : 0.3505721986293793\n",
            "num_episode:  246 loss:  0.1268327683210373 mse : 0.3505551218986511\n",
            "num_episode:  248 loss:  0.12682238221168518 mse : 0.3505382537841797\n",
            "num_episode:  250 loss:  0.1268121302127838 mse : 0.35052162408828735\n",
            "num_episode:  252 loss:  0.12680189311504364 mse : 0.35050511360168457\n",
            "num_episode:  254 loss:  0.12679196894168854 mse : 0.3504891097545624\n",
            "num_episode:  256 loss:  0.12678204476833344 mse : 0.35047319531440735\n",
            "num_episode:  258 loss:  0.12677231431007385 mse : 0.3504576086997986\n",
            "num_episode:  260 loss:  0.12676264345645905 mse : 0.35044220089912415\n",
            "num_episode:  262 loss:  0.12675319612026215 mse : 0.35042718052864075\n",
            "num_episode:  264 loss:  0.12674379348754883 mse : 0.3504122793674469\n",
            "num_episode:  266 loss:  0.12673452496528625 mse : 0.35039764642715454\n",
            "num_episode:  268 loss:  0.12672528624534607 mse : 0.35038313269615173\n",
            "num_episode:  270 loss:  0.1267162412405014 mse : 0.3503689467906952\n",
            "num_episode:  272 loss:  0.12670724093914032 mse : 0.3503549098968506\n",
            "num_episode:  274 loss:  0.12831290066242218 mse : 0.35231417417526245\n",
            "num_episode:  276 loss:  0.19557614624500275 mse : 0.4054486155509949\n",
            "num_episode:  278 loss:  0.19239066541194916 mse : 0.40128281712532043\n",
            "num_episode:  280 loss:  0.19037827849388123 mse : 0.39841428399086\n",
            "num_episode:  282 loss:  0.12858068943023682 mse : 0.3522654175758362\n",
            "num_episode:  284 loss:  0.1265048086643219 mse : 0.3493315577507019\n",
            "num_episode:  286 loss:  0.12513072788715363 mse : 0.3473905324935913\n",
            "num_episode:  288 loss:  0.12547533214092255 mse : 0.34791019558906555\n",
            "num_episode:  290 loss:  0.1252911388874054 mse : 0.3476683497428894\n",
            "num_episode:  292 loss:  0.12509092688560486 mse : 0.34740087389945984\n",
            "num_episode:  294 loss:  0.12495657801628113 mse : 0.3472258448600769\n",
            "num_episode:  296 loss:  0.12481452524662018 mse : 0.3470378518104553\n",
            "num_episode:  298 loss:  0.12467631697654724 mse : 0.3468536138534546\n",
            "num_episode:  300 loss:  0.12454521656036377 mse : 0.34667813777923584\n",
            "num_episode:  302 loss:  0.12441875785589218 mse : 0.3465080261230469\n",
            "num_episode:  304 loss:  0.18633846938610077 mse : 0.39159318804740906\n",
            "num_episode:  306 loss:  0.18552939593791962 mse : 0.3901485800743103\n",
            "num_episode:  308 loss:  0.11547821015119553 mse : 0.3331710994243622\n",
            "num_episode:  310 loss:  0.11356943100690842 mse : 0.33031266927719116\n",
            "num_episode:  312 loss:  0.11329080909490585 mse : 0.3299099802970886\n",
            "num_episode:  314 loss:  0.12602625787258148 mse : 0.3486193120479584\n",
            "num_episode:  316 loss:  0.250326544046402 mse : 0.43164849281311035\n",
            "num_episode:  318 loss:  0.24895426630973816 mse : 0.4312511384487152\n",
            "num_episode:  320 loss:  0.13243664801120758 mse : 0.31618547439575195\n",
            "num_episode:  322 loss:  0.13282911479473114 mse : 0.3169405460357666\n",
            "num_episode:  324 loss:  0.13300280272960663 mse : 0.3178071975708008\n",
            "num_episode:  326 loss:  0.1332043707370758 mse : 0.31862929463386536\n",
            "num_episode:  328 loss:  0.13341011106967926 mse : 0.3194279074668884\n",
            "num_episode:  330 loss:  0.1336096227169037 mse : 0.320213258266449\n",
            "num_episode:  332 loss:  0.1338081955909729 mse : 0.3209817111492157\n",
            "num_episode:  334 loss:  0.13400520384311676 mse : 0.3217344284057617\n",
            "num_episode:  336 loss:  0.13420046865940094 mse : 0.3224721848964691\n",
            "num_episode:  338 loss:  0.13439415395259857 mse : 0.32319527864456177\n",
            "num_episode:  340 loss:  0.13458627462387085 mse : 0.3239041268825531\n",
            "num_episode:  342 loss:  0.13477687537670135 mse : 0.3245992064476013\n",
            "num_episode:  344 loss:  0.1349658966064453 mse : 0.3252808153629303\n",
            "num_episode:  346 loss:  0.13515335321426392 mse : 0.32594913244247437\n",
            "num_episode:  348 loss:  0.13533924520015717 mse : 0.32660454511642456\n",
            "num_episode:  350 loss:  0.13552355766296387 mse : 0.3272473216056824\n",
            "num_episode:  352 loss:  0.13570626080036163 mse : 0.32787761092185974\n",
            "num_episode:  354 loss:  0.13588730990886688 mse : 0.32849568128585815\n",
            "num_episode:  356 loss:  0.13606670498847961 mse : 0.32910171151161194\n",
            "num_episode:  358 loss:  0.13624440133571625 mse : 0.3296958804130554\n",
            "num_episode:  360 loss:  0.1315670758485794 mse : 0.3566665053367615\n",
            "num_episode:  362 loss:  0.11934324353933334 mse : 0.33889514207839966\n",
            "num_episode:  364 loss:  0.12045011669397354 mse : 0.3401126265525818\n",
            "num_episode:  366 loss:  0.12521851062774658 mse : 0.3466193974018097\n",
            "num_episode:  368 loss:  0.13619984686374664 mse : 0.36188045144081116\n",
            "num_episode:  370 loss:  0.1351463347673416 mse : 0.3603319525718689\n",
            "num_episode:  372 loss:  0.13511164486408234 mse : 0.3601902425289154\n",
            "num_episode:  374 loss:  0.13558484613895416 mse : 0.3607509136199951\n",
            "num_episode:  376 loss:  0.13584673404693604 mse : 0.36102280020713806\n",
            "num_episode:  378 loss:  0.13611526787281036 mse : 0.36130642890930176\n",
            "num_episode:  380 loss:  0.1363822966814041 mse : 0.3615906238555908\n",
            "num_episode:  382 loss:  0.1366361826658249 mse : 0.3618595600128174\n",
            "num_episode:  384 loss:  0.13688112795352936 mse : 0.36211901903152466\n",
            "num_episode:  386 loss:  0.13711735606193542 mse : 0.3623693585395813\n",
            "num_episode:  388 loss:  0.13734500110149384 mse : 0.36261069774627686\n",
            "num_episode:  390 loss:  0.137564554810524 mse : 0.36284372210502625\n",
            "num_episode:  392 loss:  0.1377764344215393 mse : 0.36306893825531006\n",
            "num_episode:  394 loss:  0.1379808783531189 mse : 0.3632866442203522\n",
            "num_episode:  396 loss:  0.13817837834358215 mse : 0.36349737644195557\n",
            "num_episode:  398 loss:  0.1383691132068634 mse : 0.36370140314102173\n",
            "num_episode:  400 loss:  0.13855351507663727 mse : 0.36389923095703125\n",
            "num_episode:  402 loss:  0.1387316882610321 mse : 0.36409085988998413\n",
            "num_episode:  404 loss:  0.13890407979488373 mse : 0.36427685618400574\n",
            "num_episode:  406 loss:  0.13657763600349426 mse : 0.3609951436519623\n",
            "num_episode:  408 loss:  0.1438838541507721 mse : 0.3704673945903778\n",
            "num_episode:  410 loss:  0.14060506224632263 mse : 0.3659795820713043\n",
            "num_episode:  412 loss:  0.13954675197601318 mse : 0.36453691124916077\n",
            "num_episode:  414 loss:  0.1401733160018921 mse : 0.3653796911239624\n",
            "num_episode:  416 loss:  0.15431639552116394 mse : 0.3644292652606964\n",
            "num_episode:  418 loss:  0.1441240757703781 mse : 0.37039417028427124\n",
            "num_episode:  420 loss:  0.15590298175811768 mse : 0.3857569694519043\n",
            "num_episode:  422 loss:  0.18701563775539398 mse : 0.3855316638946533\n",
            "num_episode:  424 loss:  0.14709089696407318 mse : 0.3742440342903137\n",
            "num_episode:  426 loss:  0.18301747739315033 mse : 0.3805128335952759\n",
            "num_episode:  428 loss:  0.18238849937915802 mse : 0.379774808883667\n",
            "num_episode:  430 loss:  0.18381378054618835 mse : 0.3816801905632019\n",
            "num_episode:  432 loss:  0.18361102044582367 mse : 0.38160261511802673\n",
            "num_episode:  434 loss:  0.18367770314216614 mse : 0.38184866309165955\n",
            "num_episode:  436 loss:  0.16497427225112915 mse : 0.3967145085334778\n",
            "num_episode:  438 loss:  0.1792294681072235 mse : 0.3766883909702301\n",
            "num_episode:  440 loss:  0.18341875076293945 mse : 0.38198012113571167\n",
            "num_episode:  442 loss:  0.17516255378723145 mse : 0.3719128370285034\n",
            "num_episode:  444 loss:  0.18409013748168945 mse : 0.38306519389152527\n",
            "num_episode:  446 loss:  0.17550936341285706 mse : 0.37262362241744995\n",
            "num_episode:  448 loss:  0.17445681989192963 mse : 0.371420294046402\n",
            "num_episode:  450 loss:  0.17540791630744934 mse : 0.37272363901138306\n",
            "num_episode:  452 loss:  0.1753232777118683 mse : 0.3727297782897949\n",
            "num_episode:  454 loss:  0.17532387375831604 mse : 0.37284138798713684\n",
            "num_episode:  456 loss:  0.1753907948732376 mse : 0.37303465604782104\n",
            "num_episode:  458 loss:  0.17543813586235046 mse : 0.37320226430892944\n",
            "num_episode:  460 loss:  0.17548702657222748 mse : 0.37337034940719604\n",
            "num_episode:  462 loss:  0.17553909122943878 mse : 0.37354081869125366\n",
            "num_episode:  464 loss:  0.17559193074703217 mse : 0.37371060252189636\n",
            "num_episode:  466 loss:  0.17564570903778076 mse : 0.3738797605037689\n",
            "num_episode:  468 loss:  0.1757003664970398 mse : 0.37404823303222656\n",
            "num_episode:  470 loss:  0.17575566470623016 mse : 0.37421557307243347\n",
            "num_episode:  472 loss:  0.1758114993572235 mse : 0.3743816018104553\n",
            "num_episode:  474 loss:  0.1758676916360855 mse : 0.374546080827713\n",
            "num_episode:  476 loss:  0.1759241372346878 mse : 0.3747088313102722\n",
            "num_episode:  478 loss:  0.17598065733909607 mse : 0.37486958503723145\n",
            "num_episode:  480 loss:  0.17603729665279388 mse : 0.3750283718109131\n",
            "num_episode:  482 loss:  0.17609383165836334 mse : 0.3751849830150604\n",
            "num_episode:  484 loss:  0.15296922624111176 mse : 0.36368805170059204\n",
            "num_episode:  486 loss:  0.1525334119796753 mse : 0.36272841691970825\n",
            "num_episode:  488 loss:  0.1513587385416031 mse : 0.3604593276977539\n",
            "num_episode:  490 loss:  0.17518049478530884 mse : 0.3708661198616028\n",
            "num_episode:  492 loss:  0.17306821048259735 mse : 0.36843225359916687\n",
            "num_episode:  494 loss:  0.17408692836761475 mse : 0.36995092034339905\n",
            "num_episode:  496 loss:  0.17423319816589355 mse : 0.3703703284263611\n",
            "num_episode:  498 loss:  0.1743251532316208 mse : 0.37070927023887634\n",
            "num_episode:  500 loss:  0.1744907796382904 mse : 0.3711274564266205\n"
          ],
          "name": "stdout"
        }
      ]
    },
    {
      "cell_type": "code",
      "metadata": {
        "id": "5J-rx_enEPrI",
        "colab_type": "code",
        "colab": {
          "base_uri": "https://localhost:8080/",
          "height": 1000
        },
        "outputId": "ea8b3e14-5406-487c-8c06-5ef88576f57d"
      },
      "source": [
        "history_record"
      ],
      "execution_count": 24,
      "outputs": [
        {
          "output_type": "execute_result",
          "data": {
            "text/plain": [
              "[[[0,\n",
              "   3.6703340389559234,\n",
              "   1,\n",
              "   [20, 3.6703340389559234, 0],\n",
              "   20.0,\n",
              "   1.0,\n",
              "   0.0,\n",
              "   0,\n",
              "   20],\n",
              "  [1, 3.013879725616618, 1, [20, 3.013879725616618, 0], 20.0, 1.0, 0.0, 0, 20],\n",
              "  [2,\n",
              "   2.1827749725353036,\n",
              "   0,\n",
              "   [17.817225027464698, 2.1827749725353036, 1],\n",
              "   20.0,\n",
              "   1.0,\n",
              "   0.0,\n",
              "   0,\n",
              "   20],\n",
              "  [3,\n",
              "   1.9524051631024602,\n",
              "   0,\n",
              "   [15.864819864362238, 1.9524051631024602, 2],\n",
              "   19.769630190567156,\n",
              "   0.9884815095283578,\n",
              "   -0.011518490471642195,\n",
              "   0,\n",
              "   20],\n",
              "  [4,\n",
              "   1.0783332692039713,\n",
              "   0,\n",
              "   [14.786486595158266, 1.0783332692039713, 3],\n",
              "   18.02148640277018,\n",
              "   0.9115742797945162,\n",
              "   -0.09892567986149103,\n",
              "   -1,\n",
              "   18.02148640277018],\n",
              "  [5,\n",
              "   0.44670836288574767,\n",
              "   0,\n",
              "   [14.339778232272518, 0.44670836288574767, 4],\n",
              "   16.126611683815508,\n",
              "   0.8948546930810657,\n",
              "   -0.10514530691893428,\n",
              "   -1,\n",
              "   16.126611683815508],\n",
              "  [6,\n",
              "   0.9912069852417005,\n",
              "   0,\n",
              "   [13.348571247030819, 0.9912069852417005, 5],\n",
              "   18.30460617323932,\n",
              "   1.1350559269440106,\n",
              "   0.1350559269440105,\n",
              "   1,\n",
              "   18.30460617323932]],\n",
              " [[7,\n",
              "   0.4134609314939911,\n",
              "   0,\n",
              "   [12.935110315536827, 0.4134609314939911, 6],\n",
              "   15.415875904500773,\n",
              "   0.8421856093816557,\n",
              "   -0.1578143906183444,\n",
              "   -1,\n",
              "   15.415875904500773],\n",
              "  [8,\n",
              "   0.6506616233128624,\n",
              "   0,\n",
              "   [12.284448692223965, 0.6506616233128624, 7],\n",
              "   16.839080055414,\n",
              "   1.0923206802993084,\n",
              "   0.09232068029930847,\n",
              "   1,\n",
              "   16.839080055414]],\n",
              " [[9,\n",
              "   0.03405643286918525,\n",
              "   0,\n",
              "   [12.25039225935478, 0.03405643286918525, 8],\n",
              "   12.522843722308261,\n",
              "   0.743677426622958,\n",
              "   -0.256322573377042,\n",
              "   -1,\n",
              "   12.522843722308261],\n",
              "  [10,\n",
              "   1.1382543093612252,\n",
              "   0,\n",
              "   [11.112137949993555, 1.1382543093612252, 9],\n",
              "   21.35642673424458,\n",
              "   1.7053975285342038,\n",
              "   0.7053975285342039,\n",
              "   1,\n",
              "   21.35642673424458]],\n",
              " [[11,\n",
              "   0.801360716072332,\n",
              "   2,\n",
              "   [11.913498666065887, 0.801360716072332, 8],\n",
              "   18.324384394644543,\n",
              "   0.8580267018761982,\n",
              "   -0.14197329812380177,\n",
              "   -1,\n",
              "   18.324384394644543],\n",
              "  [12,\n",
              "   1.7206198053779245,\n",
              "   2,\n",
              "   [13.634118471443813, 1.7206198053779245, 7],\n",
              "   25.678457109089283,\n",
              "   1.4013271363481128,\n",
              "   0.40132713634811273,\n",
              "   1,\n",
              "   25.678457109089283]],\n",
              " [[13,\n",
              "   0.7000481034226183,\n",
              "   2,\n",
              "   [14.334166574866432, 0.7000481034226183, 6],\n",
              "   18.534455195402142,\n",
              "   0.7217900638135142,\n",
              "   -0.27820993618648576,\n",
              "   -1,\n",
              "   18.534455195402142],\n",
              "  [14,\n",
              "   1.0,\n",
              "   0,\n",
              "   [13.334166574866432, 1.0, 7],\n",
              "   20.33416657486643,\n",
              "   1.097100851386813,\n",
              "   0.09710085138681301,\n",
              "   1,\n",
              "   20.33416657486643]],\n",
              " [[15,\n",
              "   1.8507144481991282,\n",
              "   2,\n",
              "   [15.184881023065559, 1.8507144481991282, 6],\n",
              "   26.28916771226033,\n",
              "   1.2928569073863316,\n",
              "   0.2928569073863317,\n",
              "   1,\n",
              "   26.28916771226033]],\n",
              " [[16,\n",
              "   1.0668213064507084,\n",
              "   0,\n",
              "   [14.118059716614852, 1.0668213064507084, 7],\n",
              "   21.58580886176981,\n",
              "   0.8210913748974623,\n",
              "   -0.17890862510253763,\n",
              "   -1,\n",
              "   21.58580886176981],\n",
              "  [17,\n",
              "   2.071838845830937,\n",
              "   2,\n",
              "   [16.189898562445787, 2.071838845830937, 6],\n",
              "   28.620931637431408,\n",
              "   1.325914253235206,\n",
              "   0.32591425323520595,\n",
              "   1,\n",
              "   28.620931637431408]],\n",
              " [[18,\n",
              "   2.6616344845259876,\n",
              "   2,\n",
              "   [18.851533046971774, 2.6616344845259876, 5],\n",
              "   32.15970546960171,\n",
              "   1.12364285960357,\n",
              "   0.1236428596035699,\n",
              "   1,\n",
              "   32.15970546960171]],\n",
              " [[19,\n",
              "   1.4751079310830306,\n",
              "   0,\n",
              "   [17.376425115888743, 1.4751079310830306, 6],\n",
              "   26.227072702386927,\n",
              "   0.8155258986179932,\n",
              "   -0.1844741013820068,\n",
              "   -1,\n",
              "   26.227072702386927],\n",
              "  [20,\n",
              "   2.5264365733491707,\n",
              "   2,\n",
              "   [19.902861689237913, 2.5264365733491707, 5],\n",
              "   32.53504455598377,\n",
              "   1.240513759395754,\n",
              "   0.2405137593957541,\n",
              "   1,\n",
              "   32.53504455598377]],\n",
              " [[21,\n",
              "   3.6917841573608445,\n",
              "   2,\n",
              "   [23.59464584659876, 3.6917841573608445, 4],\n",
              "   38.36178247604214,\n",
              "   1.1790911307968912,\n",
              "   0.17909113079689115,\n",
              "   1,\n",
              "   38.36178247604214]],\n",
              " [[22,\n",
              "   3.4958301329245103,\n",
              "   2,\n",
              "   [27.09047597952327, 3.4958301329245103, 3],\n",
              "   37.5779663782968,\n",
              "   0.9795677873353552,\n",
              "   -0.020432212664644796,\n",
              "   0,\n",
              "   38.36178247604214],\n",
              "  [23,\n",
              "   3.7754373596835853,\n",
              "   2,\n",
              "   [30.865913339206855, 3.7754373596835853, 2],\n",
              "   38.41678805857403,\n",
              "   1.0223221680447745,\n",
              "   0.0014338640955029402,\n",
              "   0,\n",
              "   38.36178247604214],\n",
              "  [24,\n",
              "   3.9988365029750716,\n",
              "   2,\n",
              "   [34.86474984218193, 3.9988365029750716, 1],\n",
              "   38.863586345157,\n",
              "   1.011630287412413,\n",
              "   0.013080827759457079,\n",
              "   0,\n",
              "   38.36178247604214],\n",
              "  [25,\n",
              "   4.84744225690299,\n",
              "   2,\n",
              "   [39.712192099084916, 4.84744225690299, 0],\n",
              "   39.712192099084916,\n",
              "   1.0218354977945483,\n",
              "   0.03520195193969786,\n",
              "   1,\n",
              "   39.712192099084916]],\n",
              " [[26,\n",
              "   3.800871836288837,\n",
              "   1,\n",
              "   [39.712192099084916, 3.800871836288837, 0],\n",
              "   39.712192099084916,\n",
              "   1.0,\n",
              "   0.0,\n",
              "   0,\n",
              "   39.712192099084916],\n",
              "  [27,\n",
              "   3.918401994741474,\n",
              "   1,\n",
              "   [39.712192099084916, 3.918401994741474, 0],\n",
              "   39.712192099084916,\n",
              "   1.0,\n",
              "   0.0,\n",
              "   0,\n",
              "   39.712192099084916],\n",
              "  [28,\n",
              "   3.5626856570955914,\n",
              "   1,\n",
              "   [39.712192099084916, 3.5626856570955914, 0],\n",
              "   39.712192099084916,\n",
              "   1.0,\n",
              "   0.0,\n",
              "   0,\n",
              "   39.712192099084916],\n",
              "  [29,\n",
              "   4.543508556144859,\n",
              "   1,\n",
              "   [39.712192099084916, 4.543508556144859, 0],\n",
              "   39.712192099084916,\n",
              "   1.0,\n",
              "   0.0,\n",
              "   0,\n",
              "   39.712192099084916],\n",
              "  [30,\n",
              "   5.452916929014281,\n",
              "   1,\n",
              "   [39.712192099084916, 5.452916929014281, 0],\n",
              "   39.712192099084916,\n",
              "   1.0,\n",
              "   0.0,\n",
              "   0,\n",
              "   39.712192099084916],\n",
              "  [31,\n",
              "   4.397512530378729,\n",
              "   1,\n",
              "   [39.712192099084916, 4.397512530378729, 0],\n",
              "   39.712192099084916,\n",
              "   1.0,\n",
              "   0.0,\n",
              "   0,\n",
              "   39.712192099084916],\n",
              "  [32,\n",
              "   3.2470578330317905,\n",
              "   1,\n",
              "   [39.712192099084916, 3.2470578330317905, 0],\n",
              "   39.712192099084916,\n",
              "   1.0,\n",
              "   0.0,\n",
              "   0,\n",
              "   39.712192099084916],\n",
              "  [33,\n",
              "   2.8126058946339,\n",
              "   0,\n",
              "   [36.89958620445102, 2.8126058946339, 1],\n",
              "   39.712192099084916,\n",
              "   1.0,\n",
              "   0.0,\n",
              "   0,\n",
              "   39.712192099084916],\n",
              "  [34,\n",
              "   3.333973829497305,\n",
              "   0,\n",
              "   [33.565612374953716, 3.333973829497305, 2],\n",
              "   40.23356003394832,\n",
              "   1.0131286616856243,\n",
              "   0.013128661685624243,\n",
              "   0,\n",
              "   39.712192099084916],\n",
              "  [35,\n",
              "   3.741771567150139,\n",
              "   2,\n",
              "   [37.307383942103854, 3.741771567150139, 1],\n",
              "   41.04915550925399,\n",
              "   1.0202715214516809,\n",
              "   0.03366632108429703,\n",
              "   1,\n",
              "   41.04915550925399]]]"
            ]
          },
          "metadata": {
            "tags": []
          },
          "execution_count": 24
        }
      ]
    },
    {
      "cell_type": "code",
      "metadata": {
        "id": "Tiw8inRifyZK",
        "colab_type": "code",
        "colab": {}
      },
      "source": [
        "fk = np.array(history_record)"
      ],
      "execution_count": 25,
      "outputs": []
    },
    {
      "cell_type": "code",
      "metadata": {
        "id": "I9xyQaVFvOHH",
        "colab_type": "code",
        "colab": {}
      },
      "source": [
        "fkn = []\n",
        "for i in range(len(fk)):\n",
        "  for j in range(len(fk[i])):\n",
        "    fkn.append(fk[i][j]) "
      ],
      "execution_count": 30,
      "outputs": []
    },
    {
      "cell_type": "code",
      "metadata": {
        "id": "UCatOY3AuvmT",
        "colab_type": "code",
        "colab": {}
      },
      "source": [
        "wealth = []\n",
        "for i in range(len(fkn)):\n",
        "  wealth.append(fkn[i][4])\n"
      ],
      "execution_count": 34,
      "outputs": []
    },
    {
      "cell_type": "code",
      "metadata": {
        "id": "PUIn7JR9vMo6",
        "colab_type": "code",
        "colab": {
          "base_uri": "https://localhost:8080/",
          "height": 265
        },
        "outputId": "98df85d3-4ba8-4a58-d086-ceb7494dbd69"
      },
      "source": [
        "plt.plot(wealth)\n",
        "plt.show()"
      ],
      "execution_count": 35,
      "outputs": [
        {
          "output_type": "display_data",
          "data": {
            "image/png": "[encoded data removed]",
            "text/plain": [
              "<Figure size 432x288 with 1 Axes>"
            ]
          },
          "metadata": {
            "tags": [],
            "needs_background": "light"
          }
        }
      ]
    },
    {
      "cell_type": "code",
      "metadata": {
        "id": "CNZKkOLcvtRP",
        "colab_type": "code",
        "colab": {}
      },
      "source": [
        "actions = []\n",
        "for i in range(len(fkn)):\n",
        "  actions.append(fkn[i][2])"
      ],
      "execution_count": 36,
      "outputs": []
    },
    {
      "cell_type": "code",
      "metadata": {
        "id": "R3iWk4Y2v5VB",
        "colab_type": "code",
        "colab": {
          "base_uri": "https://localhost:8080/",
          "height": 265
        },
        "outputId": "7237241d-e4ce-4b2c-9a16-8861c2ffe256"
      },
      "source": [
        "plt.plot(actions)\n",
        "plt.show()"
      ],
      "execution_count": 37,
      "outputs": [
        {
          "output_type": "display_data",
          "data": {
            "image/png": "[encoded data removed]",
            "text/plain": [
              "<Figure size 432x288 with 1 Axes>"
            ]
          },
          "metadata": {
            "tags": [],
            "needs_background": "light"
          }
        }
      ]
    },
    {
      "cell_type": "markdown",
      "metadata": {
        "id": "ge_mWVAy229o",
        "colab_type": "text"
      },
      "source": [
        "여기부터는 학습결과 복귀"
      ]
    },
    {
      "cell_type": "code",
      "metadata": {
        "id": "G520BUb-FeBt",
        "colab_type": "code",
        "colab": {
          "base_uri": "https://localhost:8080/",
          "height": 34
        },
        "outputId": "5bc7cc83-5f3b-4832-a9b9-b0cb41192d76"
      },
      "source": [
        "len(history_record)"
      ],
      "execution_count": null,
      "outputs": [
        {
          "output_type": "execute_result",
          "data": {
            "text/plain": [
              "46"
            ]
          },
          "metadata": {
            "tags": []
          },
          "execution_count": 20
        }
      ]
    },
    {
      "cell_type": "code",
      "metadata": {
        "id": "L8GCRL3_F4F5",
        "colab_type": "code",
        "colab": {}
      },
      "source": [
        ""
      ],
      "execution_count": null,
      "outputs": []
    },
    {
      "cell_type": "code",
      "metadata": {
        "id": "QXZY4yzzCO0A",
        "colab_type": "code",
        "colab": {
          "base_uri": "https://localhost:8080/",
          "height": 826
        },
        "outputId": "e04b7a20-f648-41ea-a473-d6a78459b953"
      },
      "source": [
        "model_train.predict(p_serise)"
      ],
      "execution_count": null,
      "outputs": [
        {
          "output_type": "execute_result",
          "data": {
            "text/plain": [
              "array([[9.9905193e-01, 9.4810128e-04],\n",
              "       [9.9945450e-01, 5.4544210e-04],\n",
              "       [9.9976969e-01, 2.3034215e-04],\n",
              "       [9.9987411e-01, 1.2591481e-04],\n",
              "       [9.9990654e-01, 9.3454924e-05],\n",
              "       [9.9986935e-01, 1.3071299e-04],\n",
              "       [9.9989635e-01, 1.0367727e-04],\n",
              "       [9.9986696e-01, 1.3300776e-04],\n",
              "       [9.9984992e-01, 1.5011430e-04],\n",
              "       [9.9986088e-01, 1.3905764e-04],\n",
              "       [9.9986875e-01, 1.3118982e-04],\n",
              "       [9.9988234e-01, 1.1761738e-04],\n",
              "       [9.9986857e-01, 1.3139844e-04],\n",
              "       [9.9973965e-01, 2.6029348e-04],\n",
              "       [9.9957269e-01, 4.2730570e-04],\n",
              "       [9.9936664e-01, 6.3341856e-04],\n",
              "       [9.9862361e-01, 1.3763309e-03],\n",
              "       [9.9852204e-01, 1.4778972e-03],\n",
              "       [9.9888760e-01, 1.1123717e-03],\n",
              "       [9.9946451e-01, 5.3542852e-04],\n",
              "       [9.9973571e-01, 2.6434660e-04],\n",
              "       [9.9984729e-01, 1.5267730e-04],\n",
              "       [9.9988979e-01, 1.1021052e-04],\n",
              "       [9.9988776e-01, 1.1225719e-04],\n",
              "       [9.9983728e-01, 1.6260147e-04],\n",
              "       [9.9987143e-01, 1.2856722e-04],\n",
              "       [9.9989402e-01, 1.0599449e-04],\n",
              "       [9.9987400e-01, 1.2597442e-04],\n",
              "       [9.9992526e-01, 7.4725234e-05],\n",
              "       [9.9993443e-01, 6.5552143e-05],\n",
              "       [9.9991333e-01, 8.6655506e-05],\n",
              "       [9.9993432e-01, 6.5601926e-05],\n",
              "       [9.9996173e-01, 3.8320261e-05],\n",
              "       [9.9995655e-01, 4.3403415e-05],\n",
              "       [9.9995434e-01, 4.5635774e-05],\n",
              "       [9.9993324e-01, 6.6749933e-05],\n",
              "       [9.9991167e-01, 8.8321496e-05],\n",
              "       [9.9981880e-01, 1.8122792e-04],\n",
              "       [9.9973845e-01, 2.6157498e-04],\n",
              "       [9.9970818e-01, 2.9182434e-04],\n",
              "       [9.9982440e-01, 1.7568469e-04],\n",
              "       [9.9984348e-01, 1.5658140e-04],\n",
              "       [9.9992526e-01, 7.4795389e-05],\n",
              "       [9.9996990e-01, 3.0126721e-05],\n",
              "       [9.9999118e-01, 8.7928638e-06],\n",
              "       [9.9999726e-01, 2.7224296e-06]], dtype=float32)"
            ]
          },
          "metadata": {
            "tags": []
          },
          "execution_count": 21
        }
      ]
    },
    {
      "cell_type": "code",
      "metadata": {
        "id": "_QnJnNQ3COxW",
        "colab_type": "code",
        "colab": {
          "base_uri": "https://localhost:8080/",
          "height": 52
        },
        "outputId": "c97156a5-88a9-42d5-a2c6-97640cee2748"
      },
      "source": [
        "for i in range(11):\n",
        "  if i == 5:\n",
        "    print(i)\n",
        "    continue\n",
        "  if i ==10:\n",
        "    print(i)"
      ],
      "execution_count": null,
      "outputs": [
        {
          "output_type": "stream",
          "text": [
            "5\n",
            "10\n"
          ],
          "name": "stdout"
        }
      ]
    },
    {
      "cell_type": "code",
      "metadata": {
        "id": "YO3z5VbSn4Rs",
        "colab_type": "code",
        "colab": {}
      },
      "source": [
        ""
      ],
      "execution_count": null,
      "outputs": []
    },
    {
      "cell_type": "code",
      "metadata": {
        "id": "nDPgJZbPn4iH",
        "colab_type": "code",
        "colab": {}
      },
      "source": [
        ""
      ],
      "execution_count": null,
      "outputs": []
    },
    {
      "cell_type": "code",
      "metadata": {
        "id": "tPRQGQwzn4cJ",
        "colab_type": "code",
        "colab": {}
      },
      "source": [
        ""
      ],
      "execution_count": null,
      "outputs": []
    },
    {
      "cell_type": "markdown",
      "metadata": {
        "id": "kxMksbeaKDJM",
        "colab_type": "text"
      },
      "source": [
        "여기가 끝이다."
      ]
    },
    {
      "cell_type": "code",
      "metadata": {
        "id": "SI8QKecFCOu1",
        "colab_type": "code",
        "colab": {}
      },
      "source": [
        ""
      ],
      "execution_count": null,
      "outputs": []
    },
    {
      "cell_type": "code",
      "metadata": {
        "id": "BuAebEm_COof",
        "colab_type": "code",
        "colab": {}
      },
      "source": [
        "from tensorflow import keras\n",
        "from tensorflow.keras.utils import to_categorical\n",
        "y_encoded = keras.utils.to_categorical(action, 2) # 분류 갯수를 정하기 위한 인수(2)가 필요하다."
      ],
      "execution_count": null,
      "outputs": []
    },
    {
      "cell_type": "code",
      "metadata": {
        "id": "Ul2K9MCnCOlJ",
        "colab_type": "code",
        "colab": {}
      },
      "source": [
        "def balance_update(predict, p_serise):\n",
        "\n",
        "  acts = []\n",
        "  balance = [100, 0, 0]  #[자본금, 종가, 보유주식수] 이다.\n",
        "  blist = [[100.0, 0.0, 0.0]]\n",
        "  for i in range(len(predict)):\n",
        "    action = np.random.choice(3,p=predict[i]) # 대안 중에서 하나를 선택한다. \n",
        "    \n",
        "    if action == 0 and (balance[0] - p_serise[i][4]) < 0:\n",
        "      ps = predict[i][1] + predict[i][2]\n",
        "      pn = [predict[i][1],predict[i][2]]/ps\n",
        "      action = 1+ np.random.choice(2,p=pn) \n",
        "\n",
        "    if action == 2 and balance[2] <= 0:\n",
        "      ps = predict[i][0] + predict[i][1]\n",
        "      pn = [predict[i][0],predict[i][1]]/ps\n",
        "      action = np.random.choice(2,p=pn)  \n",
        "\n",
        "    if action == 1:  # hold\n",
        "      balance[1] = p_serise[i][4]\n",
        "\n",
        "    if action  == 0:  # buy\n",
        "      balance[0] = balance[0] - p_serise[i][4]\n",
        "      balance[1] = p_serise[i][4]\n",
        "      balance[2] = balance[2] + 1\n",
        "\n",
        "    if action  == 2:\n",
        "      balance[0] = balance[0] + p_serise[i][4]\n",
        "      balance[1] = p_serise[i][4]\n",
        "      balance[2] = balance[2] - 1 \n",
        "     \n",
        "    blist.append([balance[0], balance[1], balance[2]])\n",
        "    acts.append(action)\n",
        "  return blist, acts"
      ],
      "execution_count": null,
      "outputs": []
    },
    {
      "cell_type": "code",
      "metadata": {
        "id": "CW6izHkVNTWr",
        "colab_type": "code",
        "colab": {}
      },
      "source": [
        "def reward_portfolio (blist):   \n",
        "\n",
        "  reward_sum_list=[]\n",
        "  reward_list=[]\n",
        "   \n",
        "\n",
        "  for a in blist:\n",
        "    reward_sum = a[0] + a[1] * a[2]\n",
        "    reward_sum_list.append(reward_sum)\n",
        "\n",
        "  for i in range(len(reward_sum_list)-1):\n",
        "    reward = np.abs(reward_sum_list[i+1] - reward_sum_list[i]) # 가중치를 일괄적으로 양 수로 만들어서 손실함수 계산의 방향을 일관되게 만든다.\n",
        "    reward_list.append(reward)      \n",
        "  return reward_sum_list, reward_list\n",
        "\n"
      ],
      "execution_count": null,
      "outputs": []
    },
    {
      "cell_type": "code",
      "metadata": {
        "id": "1QJO6PsGdru9",
        "colab_type": "code",
        "colab": {}
      },
      "source": [
        "def discount_rewards(r, gamma=0.5):\n",
        "    \"\"\"Takes 1d float array of rewards and computes discounted reward\n",
        "    e.g. f([1, 1, 1], 0.99) -> [2.9701, 1.99, 1]\n",
        "    \"\"\"\n",
        "    prior = 0\n",
        "    out = []\n",
        "    r = r[::-1]\n",
        "    for val in r:\n",
        "        new_val = val + prior * gamma\n",
        "        out.append(new_val)\n",
        "        prior = new_val\n",
        "    return np.array(out[::-1])"
      ],
      "execution_count": null,
      "outputs": []
    },
    {
      "cell_type": "code",
      "metadata": {
        "id": "E__9jrhId8jq",
        "colab_type": "code",
        "colab": {}
      },
      "source": [
        ""
      ],
      "execution_count": null,
      "outputs": []
    },
    {
      "cell_type": "code",
      "metadata": {
        "id": "52938aqWnN-c",
        "colab_type": "code",
        "colab": {
          "base_uri": "https://localhost:8080/",
          "height": 34
        },
        "outputId": "210ebf42-2bb5-4c93-9498-e944c3f3ecde"
      },
      "source": [
        "from tensorflow.keras.utils import to_categorical\n",
        "from tensorflow import keras\n",
        "import keras.layers as layers\n",
        "from keras.layers import LSTM, Dense\n",
        "from keras.models import Model, Sequential\n",
        "from keras.optimizers import Adam, RMSprop\n",
        "from keras.initializers import glorot_uniform\n",
        "from keras.callbacks import ModelCheckpoint, EarlyStopping\n",
        "import keras.backend as K  # 케라스의 backend를 K. 형식으로 호출하는 것이고 여기서는 tensorflow이다."
      ],
      "execution_count": null,
      "outputs": [
        {
          "output_type": "stream",
          "text": [
            "Using TensorFlow backend.\n"
          ],
          "name": "stderr"
        }
      ]
    },
    {
      "cell_type": "code",
      "metadata": {
        "id": "KCPbLji1nrUn",
        "colab_type": "code",
        "colab": {}
      },
      "source": [
        "def get_policy_model(lr):\n",
        "  inp_L = layers.Input(shape=(5,),name=\"input_L\")\n",
        "  multip = layers.Input(shape=[1], name=\"advantages\")\n",
        "  dense_L = Dense(64)(inp_L)\n",
        "  output_s = layers.Dense(3, activation=\"softmax\",kernel_initializer=glorot_uniform(seed=42), use_bias=False, kernel_regularizer=keras.regularizers.l2(0.001), name=\"out\")(dense_L)\n",
        "\n",
        "  model_train = Model(inputs=[inp_L, multip], outputs = output_s)\n",
        "\n",
        "  # loss 함수를 actual과 predict가 같을때 -무한대가 되도록 만든다. 완전히 틀리면 0 이므로 loss 함수의 값의 범위는 -무한대 ~ 0 이다.\n",
        "  def custom_loss(y_true, y_pred):\n",
        "    # actual: 0 predict: 0 -> log(0 * (0 - 0) + (1 - 0) * (0 + 0)) = -inf   log(0) = - inf\n",
        "    # actual: 1 predict: 1 -> log(1 * (1 - 1) + (1 - 1) * (1 + 1)) = -inf   \n",
        "    # actual: 1 predict: 0 -> log(1 * (1 - 0) + (1 - 1) * (1 + 0)) = 0      log(1) = 0\n",
        "    # actual: 0 predict: 1 -> log(0 * (0 - 1) + (1 - 0) * (0 + 1)) = 0\n",
        "    a = y_true * (y_true - y_pred) + (1 - y_true) * (y_true + y_pred)\n",
        "    log_lik = K.log(a)\n",
        "    return K.mean(log_lik * multip, keepdims=True)\n",
        "\n",
        "  model_train.compile(loss=custom_loss, optimizer=Adam(lr), metrics = ['mae'])\n",
        "  model_predict = Model(inputs=[inp_L], outputs = output_s)\n",
        "  return model_train, model_predict"
      ],
      "execution_count": null,
      "outputs": []
    },
    {
      "cell_type": "code",
      "metadata": {
        "id": "Tf2pQzw7oOcE",
        "colab_type": "code",
        "colab": {}
      },
      "source": [
        "model_train, model_predict = get_policy_model(0.00001)"
      ],
      "execution_count": null,
      "outputs": []
    },
    {
      "cell_type": "code",
      "metadata": {
        "id": "BdCAk3uqoOf4",
        "colab_type": "code",
        "colab": {
          "base_uri": "https://localhost:8080/",
          "height": 263
        },
        "outputId": "87b33d10-6db3-4a14-a684-09a81d87c9c2"
      },
      "source": [
        "model_train.summary()"
      ],
      "execution_count": null,
      "outputs": [
        {
          "output_type": "stream",
          "text": [
            "Model: \"model_1\"\n",
            "_________________________________________________________________\n",
            "Layer (type)                 Output Shape              Param #   \n",
            "=================================================================\n",
            "input_L (InputLayer)         (None, 5)                 0         \n",
            "_________________________________________________________________\n",
            "dense_1 (Dense)              (None, 64)                384       \n",
            "_________________________________________________________________\n",
            "out (Dense)                  (None, 3)                 192       \n",
            "=================================================================\n",
            "Total params: 576\n",
            "Trainable params: 576\n",
            "Non-trainable params: 0\n",
            "_________________________________________________________________\n"
          ],
          "name": "stdout"
        }
      ]
    },
    {
      "cell_type": "code",
      "metadata": {
        "id": "cnaVguhh0ykz",
        "colab_type": "code",
        "colab": {}
      },
      "source": [
        ""
      ],
      "execution_count": null,
      "outputs": []
    },
    {
      "cell_type": "code",
      "metadata": {
        "id": "ee-kc84l2EFX",
        "colab_type": "code",
        "colab": {}
      },
      "source": [
        ""
      ],
      "execution_count": null,
      "outputs": []
    },
    {
      "cell_type": "code",
      "metadata": {
        "id": "l5VxtpM8oOjg",
        "colab_type": "code",
        "colab": {
          "base_uri": "https://localhost:8080/",
          "height": 1000
        },
        "outputId": "3f41dab9-4f97-48c7-dc91-448644782edc"
      },
      "source": [
        "# Setting up our environment\n",
        "\n",
        "num_actions = 3\n",
        "num_episode = 0\n",
        "num_episodes = 10000\n",
        "\n",
        "balance=[100.0, 0.0, 0.0]   \n",
        "\n",
        "action_list = []\n",
        "reward_list = []\n",
        "reward_sum_list = []\n",
        "\n",
        "price, p_serise, price_lstm = env()\n",
        "\n",
        "while num_episode < num_episodes:\n",
        "\n",
        "    losses = []\n",
        "     \n",
        "    p_serise = p_serise.astype(float) # nan 발생을 막기 위한 시도이다.\n",
        "\n",
        "    predict = model_predict.predict(p_serise)  # 한개의 state를 input해서 신경망을 통해 action을 만들어낸다.\n",
        "      \n",
        "    blist, acts = balance_update(predict, p_serise)\n",
        "\n",
        "    reward_sum_list, reward_list = reward_portfolio(blist)\n",
        "\n",
        "   \n",
        "    if reward_sum_list[-1] > 120.0:\n",
        "      break\n",
        "    else:\n",
        "      y_encoded = keras.utils.to_categorical(acts, 3)\n",
        "      dis_re = discount_rewards(reward_list)\n",
        "      loss = model_train.train_on_batch([p_serise, dis_re/100], y_encoded)\n",
        "\n",
        "    losses.append(loss)\n",
        "\n",
        "    if (num_episode+1) % 100 == 0:\n",
        "      print(\"num_episode: \",num_episode+1, \"loss: \", losses[-1][0], \"model_reward: \", reward_sum_list[-1])\n",
        "          \n",
        "    num_episode += 1\n",
        "    price, p_serise, price_lstm = env()\n"
      ],
      "execution_count": null,
      "outputs": [
        {
          "output_type": "stream",
          "text": [
            "num_episode:  100 loss:  -0.0015004296 model_reward:  98.43091745899021\n",
            "num_episode:  200 loss:  0.005515466 model_reward:  100.0\n",
            "num_episode:  300 loss:  0.00019470043 model_reward:  98.40993966995285\n",
            "num_episode:  400 loss:  0.0054811565 model_reward:  100.0\n",
            "num_episode:  500 loss:  0.0054636374 model_reward:  100.0\n",
            "num_episode:  600 loss:  0.0054448424 model_reward:  100.0\n",
            "num_episode:  700 loss:  0.005426042 model_reward:  100.0\n",
            "num_episode:  800 loss:  0.0024502221 model_reward:  99.17197107528669\n",
            "num_episode:  900 loss:  0.005381563 model_reward:  100.0\n",
            "num_episode:  1000 loss:  -0.0010551126 model_reward:  98.56116042059348\n",
            "num_episode:  1100 loss:  0.005335754 model_reward:  100.0\n",
            "num_episode:  1200 loss:  0.0053128023 model_reward:  100.0\n",
            "num_episode:  1300 loss:  0.0052875252 model_reward:  100.0\n",
            "num_episode:  1400 loss:  0.005262426 model_reward:  100.0\n",
            "num_episode:  1500 loss:  0.00523735 model_reward:  100.0\n",
            "num_episode:  1600 loss:  0.0052127033 model_reward:  100.0\n",
            "num_episode:  1700 loss:  0.005186327 model_reward:  100.0\n",
            "num_episode:  1800 loss:  0.005159652 model_reward:  100.0\n",
            "num_episode:  1900 loss:  0.0051343893 model_reward:  100.0\n",
            "num_episode:  2000 loss:  0.005107552 model_reward:  100.0\n",
            "num_episode:  2100 loss:  0.005079513 model_reward:  100.0\n",
            "num_episode:  2200 loss:  0.005052191 model_reward:  100.0\n",
            "num_episode:  2300 loss:  0.0050252248 model_reward:  100.0\n",
            "num_episode:  2400 loss:  0.004996138 model_reward:  100.0\n",
            "num_episode:  2500 loss:  0.0049682437 model_reward:  100.0\n",
            "num_episode:  2600 loss:  0.004939787 model_reward:  100.0\n",
            "num_episode:  2700 loss:  0.0049096253 model_reward:  100.0\n",
            "num_episode:  2800 loss:  0.004879964 model_reward:  100.0\n",
            "num_episode:  2900 loss:  0.0048501315 model_reward:  100.0\n",
            "num_episode:  3000 loss:  0.0048204977 model_reward:  100.0\n",
            "num_episode:  3100 loss:  0.004791667 model_reward:  100.0\n",
            "num_episode:  3200 loss:  0.0004956466 model_reward:  99.13302251361006\n",
            "num_episode:  3300 loss:  0.0047322037 model_reward:  100.0\n",
            "num_episode:  3400 loss:  0.004704902 model_reward:  100.0\n",
            "num_episode:  3500 loss:  0.0046762717 model_reward:  100.0\n",
            "num_episode:  3600 loss:  0.004646018 model_reward:  100.0\n",
            "num_episode:  3700 loss:  0.004615604 model_reward:  100.0\n",
            "num_episode:  3800 loss:  0.004584374 model_reward:  100.0\n",
            "num_episode:  3900 loss:  0.0045554684 model_reward:  100.0\n",
            "num_episode:  4000 loss:  0.004523432 model_reward:  100.0\n",
            "num_episode:  4100 loss:  0.0044917106 model_reward:  100.0\n",
            "num_episode:  4200 loss:  0.004459348 model_reward:  100.0\n",
            "num_episode:  4300 loss:  0.0044271033 model_reward:  100.0\n",
            "num_episode:  4400 loss:  0.0043949625 model_reward:  100.0\n",
            "num_episode:  4500 loss:  0.0043635955 model_reward:  100.0\n",
            "num_episode:  4600 loss:  0.004331963 model_reward:  100.0\n",
            "num_episode:  4700 loss:  0.0043012677 model_reward:  100.0\n",
            "num_episode:  4800 loss:  0.0042683217 model_reward:  100.0\n",
            "num_episode:  4900 loss:  0.0042358804 model_reward:  100.0\n",
            "num_episode:  5000 loss:  0.0042049102 model_reward:  100.0\n",
            "num_episode:  5100 loss:  0.004173663 model_reward:  100.0\n",
            "num_episode:  5200 loss:  0.0041421745 model_reward:  100.0\n",
            "num_episode:  5300 loss:  0.0041092634 model_reward:  100.0\n",
            "num_episode:  5400 loss:  0.004076972 model_reward:  100.0\n",
            "num_episode:  5500 loss:  0.004044666 model_reward:  100.0\n",
            "num_episode:  5600 loss:  0.0040126666 model_reward:  100.0\n",
            "num_episode:  5700 loss:  0.00398225 model_reward:  100.0\n",
            "num_episode:  5800 loss:  0.0039505544 model_reward:  100.0\n",
            "num_episode:  5900 loss:  0.0039183726 model_reward:  100.0\n",
            "num_episode:  6000 loss:  0.0038872757 model_reward:  100.0\n",
            "num_episode:  6100 loss:  0.0038557088 model_reward:  100.0\n",
            "num_episode:  6200 loss:  0.0038233157 model_reward:  100.0\n",
            "num_episode:  6300 loss:  0.003791911 model_reward:  100.0\n",
            "num_episode:  6400 loss:  0.0037601101 model_reward:  100.0\n",
            "num_episode:  6500 loss:  0.003728481 model_reward:  100.0\n",
            "num_episode:  6600 loss:  0.0036973585 model_reward:  100.0\n",
            "num_episode:  6700 loss:  0.0036655453 model_reward:  100.0\n",
            "num_episode:  6800 loss:  0.0036345802 model_reward:  100.0\n",
            "num_episode:  6900 loss:  0.0036039327 model_reward:  100.0\n",
            "num_episode:  7000 loss:  0.0035742228 model_reward:  100.0\n",
            "num_episode:  7100 loss:  0.0035451467 model_reward:  100.0\n",
            "num_episode:  7200 loss:  0.0035161164 model_reward:  100.0\n",
            "num_episode:  7300 loss:  0.0034875472 model_reward:  100.0\n",
            "num_episode:  7400 loss:  0.0034590708 model_reward:  100.0\n",
            "num_episode:  7500 loss:  0.003431081 model_reward:  100.0\n",
            "num_episode:  7600 loss:  0.0034021214 model_reward:  100.0\n",
            "num_episode:  7700 loss:  0.0033739756 model_reward:  100.0\n",
            "num_episode:  7800 loss:  0.0033459766 model_reward:  100.0\n",
            "num_episode:  7900 loss:  0.0033169857 model_reward:  100.0\n",
            "num_episode:  8000 loss:  0.0032883373 model_reward:  100.0\n",
            "num_episode:  8100 loss:  0.0032606097 model_reward:  100.0\n",
            "num_episode:  8200 loss:  0.003233885 model_reward:  100.0\n",
            "num_episode:  8300 loss:  0.0032061834 model_reward:  100.0\n",
            "num_episode:  8400 loss:  0.0031791173 model_reward:  100.0\n",
            "num_episode:  8500 loss:  0.003153976 model_reward:  100.0\n",
            "num_episode:  8600 loss:  0.003127616 model_reward:  100.0\n",
            "num_episode:  8700 loss:  0.003101291 model_reward:  100.0\n",
            "num_episode:  8800 loss:  0.0030740476 model_reward:  100.0\n",
            "num_episode:  8900 loss:  0.0030476109 model_reward:  100.0\n",
            "num_episode:  9000 loss:  0.003020967 model_reward:  100.0\n",
            "num_episode:  9100 loss:  0.0029943183 model_reward:  100.0\n",
            "num_episode:  9200 loss:  0.00296714 model_reward:  100.0\n",
            "num_episode:  9300 loss:  0.0029394755 model_reward:  100.0\n",
            "num_episode:  9400 loss:  0.00291161 model_reward:  100.0\n",
            "num_episode:  9500 loss:  0.002885084 model_reward:  100.0\n",
            "num_episode:  9600 loss:  0.0028581868 model_reward:  100.0\n",
            "num_episode:  9700 loss:  0.0028315305 model_reward:  100.0\n",
            "num_episode:  9800 loss:  0.0028050705 model_reward:  100.0\n",
            "num_episode:  9900 loss:  0.0027779161 model_reward:  100.0\n",
            "num_episode:  10000 loss:  0.0027523604 model_reward:  100.0\n"
          ],
          "name": "stdout"
        }
      ]
    },
    {
      "cell_type": "code",
      "metadata": {
        "id": "SFXJa7ULfIm1",
        "colab_type": "code",
        "colab": {}
      },
      "source": [
        ""
      ],
      "execution_count": null,
      "outputs": []
    },
    {
      "cell_type": "code",
      "metadata": {
        "id": "Fr2T_DCMdsFa",
        "colab_type": "code",
        "colab": {}
      },
      "source": [
        "predict = model_predict.predict(p_serise)"
      ],
      "execution_count": null,
      "outputs": []
    },
    {
      "cell_type": "code",
      "metadata": {
        "id": "gNb7YB9bbfUd",
        "colab_type": "code",
        "colab": {
          "base_uri": "https://localhost:8080/",
          "height": 457
        },
        "outputId": "718d039b-da85-4802-e84c-89591108a966"
      },
      "source": [
        "predict"
      ],
      "execution_count": null,
      "outputs": [
        {
          "output_type": "execute_result",
          "data": {
            "text/plain": [
              "array([[3.6138725e-03, 9.9543518e-01, 9.5101329e-04],\n",
              "       [2.5309306e-03, 9.9687552e-01, 5.9350801e-04],\n",
              "       [1.6649085e-03, 9.9793869e-01, 3.9637886e-04],\n",
              "       [1.1331739e-03, 9.9862301e-01, 2.4384700e-04],\n",
              "       [8.9347886e-04, 9.9892789e-01, 1.7856655e-04],\n",
              "       [6.7802204e-04, 9.9918562e-01, 1.3640364e-04],\n",
              "       [5.1899574e-04, 9.9938595e-01, 9.5118827e-05],\n",
              "       [4.0926790e-04, 9.9951863e-01, 7.2090930e-05],\n",
              "       [3.4076688e-04, 9.9960107e-01, 5.8188223e-05],\n",
              "       [2.9136828e-04, 9.9965870e-01, 4.9990009e-05],\n",
              "       [2.4987900e-04, 9.9970716e-01, 4.2903313e-05],\n",
              "       [2.4483568e-04, 9.9971491e-01, 4.0296556e-05],\n",
              "       [2.2691984e-04, 9.9973422e-01, 3.8798502e-05],\n",
              "       [2.2932976e-04, 9.9973351e-01, 3.7164038e-05],\n",
              "       [2.3295525e-04, 9.9972624e-01, 4.0761293e-05],\n",
              "       [2.3052981e-04, 9.9972850e-01, 4.1016719e-05],\n",
              "       [2.7433300e-04, 9.9967790e-01, 4.7780799e-05],\n",
              "       [2.9424176e-04, 9.9964762e-01, 5.8202586e-05],\n",
              "       [3.4178881e-04, 9.9959475e-01, 6.3547915e-05],\n",
              "       [4.1455880e-04, 9.9950135e-01, 8.4088300e-05],\n",
              "       [5.0070317e-04, 9.9938917e-01, 1.1013113e-04],\n",
              "       [6.5733481e-04, 9.9919075e-01, 1.5192527e-04],\n",
              "       [8.6150935e-04, 9.9891627e-01, 2.2219443e-04],\n",
              "       [1.2839217e-03, 9.9837518e-01, 3.4081523e-04],\n",
              "       [1.7692746e-03, 9.9769068e-01, 5.4007728e-04]], dtype=float32)"
            ]
          },
          "metadata": {
            "tags": []
          },
          "execution_count": 18
        }
      ]
    },
    {
      "cell_type": "code",
      "metadata": {
        "id": "z9pqtsUJ5kDz",
        "colab_type": "code",
        "colab": {}
      },
      "source": [
        "blist, acts = balance_update(predict, p_serise)\n",
        "\n",
        "    "
      ],
      "execution_count": null,
      "outputs": []
    },
    {
      "cell_type": "code",
      "metadata": {
        "id": "ypq5iFSD5kHH",
        "colab_type": "code",
        "colab": {
          "base_uri": "https://localhost:8080/",
          "height": 34
        },
        "outputId": "55ca1613-d2dc-4d1a-bfc4-4c01299a3e50"
      },
      "source": [
        "acts"
      ],
      "execution_count": null,
      "outputs": [
        {
          "output_type": "execute_result",
          "data": {
            "text/plain": [
              "[1, 1, 1, 1, 1, 1, 1, 1, 1, 1, 1, 1, 1, 1, 1, 1, 1, 1, 1, 1, 1, 1, 1, 1, 1]"
            ]
          },
          "metadata": {
            "tags": []
          },
          "execution_count": 20
        }
      ]
    },
    {
      "cell_type": "code",
      "metadata": {
        "id": "i85zgyZO5wRc",
        "colab_type": "code",
        "colab": {
          "base_uri": "https://localhost:8080/",
          "height": 474
        },
        "outputId": "1de4d0d3-96a6-4268-bc8a-11b3e62bebe9"
      },
      "source": [
        "blist"
      ],
      "execution_count": null,
      "outputs": [
        {
          "output_type": "execute_result",
          "data": {
            "text/plain": [
              "[[100.0, 0.0, 0.0],\n",
              " [100, 3.9877771384524716, 0],\n",
              " [100, 4.0765769672822, 0],\n",
              " [100, 4.210458646072498, 0],\n",
              " [100, 4.483095742634497, 0],\n",
              " [100, 4.565387372085023, 0],\n",
              " [100, 4.71244661397334, 0],\n",
              " [100, 4.885086273380034, 0],\n",
              " [100, 5.016812548642121, 0],\n",
              " [100, 5.048064792342275, 0],\n",
              " [100, 5.014176983045866, 0],\n",
              " [100, 5.112904769029705, 0],\n",
              " [100, 5.082847672344554, 0],\n",
              " [100, 5.16510696197368, 0],\n",
              " [100, 5.092284003497985, 0],\n",
              " [100, 4.948211285146682, 0],\n",
              " [100, 5.0063037357539795, 0],\n",
              " [100, 4.784278366930281, 0],\n",
              " [100, 4.760625085739134, 0],\n",
              " [100, 4.690961475596859, 0],\n",
              " [100, 4.460830067774835, 0],\n",
              " [100, 4.2789269692796275, 0],\n",
              " [100, 4.008987712574459, 0],\n",
              " [100, 3.874456053114483, 0],\n",
              " [100, 3.574380409350225, 0],\n",
              " [100, 3.3768865232630247, 0]]"
            ]
          },
          "metadata": {
            "tags": []
          },
          "execution_count": 21
        }
      ]
    },
    {
      "cell_type": "code",
      "metadata": {
        "id": "W_PI5G4_5wUk",
        "colab_type": "code",
        "colab": {
          "base_uri": "https://localhost:8080/",
          "height": 52
        },
        "outputId": "7c18d7dc-9352-4ba4-a76e-591f2f0a3037"
      },
      "source": [
        "dis_re"
      ],
      "execution_count": null,
      "outputs": [
        {
          "output_type": "execute_result",
          "data": {
            "text/plain": [
              "array([0., 0., 0., 0., 0., 0., 0., 0., 0., 0., 0., 0., 0., 0., 0., 0., 0.,\n",
              "       0., 0., 0., 0., 0., 0., 0., 0.])"
            ]
          },
          "metadata": {
            "tags": []
          },
          "execution_count": 24
        }
      ]
    },
    {
      "cell_type": "code",
      "metadata": {
        "id": "vcsTPURy5wYG",
        "colab_type": "code",
        "colab": {
          "base_uri": "https://localhost:8080/",
          "height": 457
        },
        "outputId": "a2b3c094-07df-44c3-f396-a25b4e992382"
      },
      "source": [
        "reward_list"
      ],
      "execution_count": null,
      "outputs": [
        {
          "output_type": "execute_result",
          "data": {
            "text/plain": [
              "[0,\n",
              " 0.0,\n",
              " 0.0,\n",
              " 0.0,\n",
              " 0.0,\n",
              " 0.10798032990297202,\n",
              " 0.0,\n",
              " 0.09972510880207608,\n",
              " 0.0,\n",
              " 0.05702562077745199,\n",
              " 0.0,\n",
              " 0.0,\n",
              " 0.0,\n",
              " 0.0,\n",
              " 0.008023248219004131,\n",
              " 0.0,\n",
              " 0.0,\n",
              " -0.21939723052554427,\n",
              " -0.2704698111146513,\n",
              " -0.21527481970460371,\n",
              " 0.0,\n",
              " -0.380158586348756,\n",
              " 0.0,\n",
              " 0.0,\n",
              " 0.0]"
            ]
          },
          "metadata": {
            "tags": []
          },
          "execution_count": 27
        }
      ]
    },
    {
      "cell_type": "code",
      "metadata": {
        "id": "3ORWnRdVkzht",
        "colab_type": "code",
        "colab": {
          "base_uri": "https://localhost:8080/",
          "height": 34
        },
        "outputId": "2b184e6c-1d8e-49d7-e747-4b2ceecfd41d"
      },
      "source": [
        "test = [0.1, 0.2, 0.7]\n",
        "print(test[0:2])"
      ],
      "execution_count": null,
      "outputs": [
        {
          "output_type": "stream",
          "text": [
            "[0.1, 0.2]\n"
          ],
          "name": "stdout"
        }
      ]
    },
    {
      "cell_type": "code",
      "metadata": {
        "id": "l0mUFfN8kzli",
        "colab_type": "code",
        "colab": {
          "base_uri": "https://localhost:8080/",
          "height": 222
        },
        "outputId": "35a69047-3286-48fb-e2af-d7bca0a8e12e"
      },
      "source": [
        "aa = np.random.choice(2,p=test[0:2])\n",
        "print(aa)"
      ],
      "execution_count": null,
      "outputs": [
        {
          "output_type": "error",
          "ename": "ValueError",
          "evalue": "ignored",
          "traceback": [
            "\u001b[0;31m---------------------------------------------------------------------------\u001b[0m",
            "\u001b[0;31mValueError\u001b[0m                                Traceback (most recent call last)",
            "\u001b[0;32m<ipython-input-32-ce2ffd32b02c>\u001b[0m in \u001b[0;36m<module>\u001b[0;34m()\u001b[0m\n\u001b[0;32m----> 1\u001b[0;31m \u001b[0maa\u001b[0m \u001b[0;34m=\u001b[0m \u001b[0mnp\u001b[0m\u001b[0;34m.\u001b[0m\u001b[0mrandom\u001b[0m\u001b[0;34m.\u001b[0m\u001b[0mchoice\u001b[0m\u001b[0;34m(\u001b[0m\u001b[0;36m2\u001b[0m\u001b[0;34m,\u001b[0m\u001b[0mp\u001b[0m\u001b[0;34m=\u001b[0m\u001b[0mtest\u001b[0m\u001b[0;34m[\u001b[0m\u001b[0;36m0\u001b[0m\u001b[0;34m:\u001b[0m\u001b[0;36m2\u001b[0m\u001b[0;34m]\u001b[0m\u001b[0;34m)\u001b[0m\u001b[0;34m\u001b[0m\u001b[0;34m\u001b[0m\u001b[0m\n\u001b[0m\u001b[1;32m      2\u001b[0m \u001b[0mprint\u001b[0m\u001b[0;34m(\u001b[0m\u001b[0maa\u001b[0m\u001b[0;34m)\u001b[0m\u001b[0;34m\u001b[0m\u001b[0;34m\u001b[0m\u001b[0m\n",
            "\u001b[0;32mmtrand.pyx\u001b[0m in \u001b[0;36mnumpy.random.mtrand.RandomState.choice\u001b[0;34m()\u001b[0m\n",
            "\u001b[0;31mValueError\u001b[0m: probabilities do not sum to 1"
          ]
        }
      ]
    },
    {
      "cell_type": "code",
      "metadata": {
        "id": "gfAE5835kzxB",
        "colab_type": "code",
        "colab": {}
      },
      "source": [
        ""
      ],
      "execution_count": null,
      "outputs": []
    },
    {
      "cell_type": "code",
      "metadata": {
        "id": "_DCWmX1jgNsL",
        "colab_type": "code",
        "colab": {}
      },
      "source": [
        "def reward_lstm (p_serise, action):\n",
        "  rewards =[0]\n",
        "  \n",
        "  for i in range(len(p_serise)-1):\n",
        "    price_gap = p_serise[i+1][4] - p_serise[i][0]\n",
        "    if price_gap >= 0 and action[i] == 1 :\n",
        "       reward = 1\n",
        "       rewards.append(reward)\n",
        "    if price_gap >= 0 and action[i] == 0 :\n",
        "       reward = 0\n",
        "       rewards.append(reward)\n",
        "    if price_gap >= 0 and action[i] == 2 :\n",
        "       reward = -1\n",
        "       rewards.append(reward)\n",
        "    if price_gap <= 0 and action[i] == 1 :\n",
        "       reward = -1\n",
        "       rewards.append(reward)\n",
        "    if price_gap <= 0 and action[i] == 0 :\n",
        "       reward = 0\n",
        "       rewards.append(reward)\n",
        "    if price_gap <= 0 and action[i] == 2 :\n",
        "       reward = 1\n",
        "       rewards.append(reward)\n",
        "\n",
        "  return rewards\n"
      ],
      "execution_count": null,
      "outputs": []
    },
    {
      "cell_type": "code",
      "metadata": {
        "id": "BQwD-t8Li5hJ",
        "colab_type": "code",
        "colab": {
          "base_uri": "https://localhost:8080/",
          "height": 34
        },
        "outputId": "ecf4d445-fc17-44ec-9cca-e67b4ff2321f"
      },
      "source": [
        "len(reward_lstm (p_serise, price_lstm_y))"
      ],
      "execution_count": null,
      "outputs": [
        {
          "output_type": "execute_result",
          "data": {
            "text/plain": [
              "25"
            ]
          },
          "metadata": {
            "tags": []
          },
          "execution_count": 149
        }
      ]
    },
    {
      "cell_type": "code",
      "metadata": {
        "id": "nRfbsAW_nN2t",
        "colab_type": "code",
        "colab": {}
      },
      "source": [
        " def act_selection(act):\n",
        "   acts = []\n",
        "   for i in range(0, len(act)):\n",
        "     action = np.random.choice(3,p=act[i])\n",
        "     acts.append(action)\n",
        "   return acts"
      ],
      "execution_count": null,
      "outputs": []
    },
    {
      "cell_type": "code",
      "metadata": {
        "id": "fMEoQVVt0eT3",
        "colab_type": "code",
        "colab": {
          "base_uri": "https://localhost:8080/",
          "height": 34
        },
        "outputId": "6a67b824-cfd0-4507-dad1-fe97377a6d05"
      },
      "source": [
        "multip = np.array([1,1,1,1,1,1,1,1,1,1,1,1,1,1,1,1,1,1,1,1,1,1,1,1,1])\n",
        "len(multip)"
      ],
      "execution_count": null,
      "outputs": [
        {
          "output_type": "execute_result",
          "data": {
            "text/plain": [
              "25"
            ]
          },
          "metadata": {
            "tags": []
          },
          "execution_count": 150
        }
      ]
    },
    {
      "cell_type": "code",
      "metadata": {
        "id": "GYqwu-HRoOmz",
        "colab_type": "code",
        "colab": {}
      },
      "source": [
        "predict = model_predict.predict(p_serise)"
      ],
      "execution_count": null,
      "outputs": []
    },
    {
      "cell_type": "code",
      "metadata": {
        "id": "OldzEZfWnrcs",
        "colab_type": "code",
        "colab": {}
      },
      "source": [
        "action_c=[]\n",
        "\n",
        "for i in range(len(predict)):\n",
        "  a = np.argmax(predict[i])\n",
        "  action_c.append(a)"
      ],
      "execution_count": null,
      "outputs": []
    },
    {
      "cell_type": "code",
      "metadata": {
        "id": "sIS-EhC9vSef",
        "colab_type": "code",
        "colab": {
          "base_uri": "https://localhost:8080/",
          "height": 34
        },
        "outputId": "1c2f78f5-51a8-49c6-c5ef-08c9c2e1057a"
      },
      "source": [
        "np.sum(reward_lstm(p_serise, action_c))"
      ],
      "execution_count": null,
      "outputs": [
        {
          "output_type": "execute_result",
          "data": {
            "text/plain": [
              "3"
            ]
          },
          "metadata": {
            "tags": []
          },
          "execution_count": 55
        }
      ]
    },
    {
      "cell_type": "code",
      "metadata": {
        "id": "8X4_950456td",
        "colab_type": "code",
        "colab": {
          "base_uri": "https://localhost:8080/",
          "height": 34
        },
        "outputId": "366a37e5-cafb-434e-92db-752cf0357516"
      },
      "source": [
        "action_c"
      ],
      "execution_count": null,
      "outputs": [
        {
          "output_type": "execute_result",
          "data": {
            "text/plain": [
              "[1, 1, 1, 1, 1, 0, 0, 0, 0, 0, 0, 0, 0, 0, 0, 0, 0, 0, 0, 0, 0, 0, 1, 1, 1]"
            ]
          },
          "metadata": {
            "tags": []
          },
          "execution_count": 56
        }
      ]
    },
    {
      "cell_type": "code",
      "metadata": {
        "id": "LeDZBnO656oR",
        "colab_type": "code",
        "colab": {}
      },
      "source": [
        ""
      ],
      "execution_count": null,
      "outputs": []
    },
    {
      "cell_type": "code",
      "metadata": {
        "id": "eBil12gR56mh",
        "colab_type": "code",
        "colab": {}
      },
      "source": [
        ""
      ],
      "execution_count": null,
      "outputs": []
    },
    {
      "cell_type": "code",
      "metadata": {
        "id": "0hx-wlyJ56kY",
        "colab_type": "code",
        "colab": {}
      },
      "source": [
        ""
      ],
      "execution_count": null,
      "outputs": []
    },
    {
      "cell_type": "code",
      "metadata": {
        "id": "IazXuUZw56iI",
        "colab_type": "code",
        "colab": {}
      },
      "source": [
        ""
      ],
      "execution_count": null,
      "outputs": []
    },
    {
      "cell_type": "code",
      "metadata": {
        "id": "NP0ycHrO56fn",
        "colab_type": "code",
        "colab": {}
      },
      "source": [
        ""
      ],
      "execution_count": null,
      "outputs": []
    },
    {
      "cell_type": "code",
      "metadata": {
        "id": "K5bMrbNO5SeR",
        "colab_type": "code",
        "colab": {
          "base_uri": "https://localhost:8080/",
          "height": 34
        },
        "outputId": "0a145254-b935-4f9c-9201-4e8e9942786d"
      },
      "source": [
        "from tensorflow.keras.utils import to_categorical\n",
        "from tensorflow import keras\n",
        "import tensorflow as tf\n",
        "import keras.layers as layers\n",
        "from keras.layers import LSTM, Dense\n",
        "from keras.models import Model, Sequential\n",
        "from keras.optimizers import Adam, RMSprop\n",
        "from keras.initializers import glorot_uniform\n",
        "from keras.callbacks import ModelCheckpoint, EarlyStopping\n",
        "import keras.backend as K  # 케라스의 backend를 K. 형식으로 호출하는 것이고 여기서는 tensorflow이다."
      ],
      "execution_count": null,
      "outputs": [
        {
          "output_type": "stream",
          "text": [
            "Using TensorFlow backend.\n"
          ],
          "name": "stderr"
        }
      ]
    },
    {
      "cell_type": "code",
      "metadata": {
        "id": "2gWNXKuA8QVH",
        "colab_type": "code",
        "colab": {}
      },
      "source": [
        "#inp_L = layers.Input(shape=(5,1),name=\"input_L\")  # LSTM 용\n",
        "#dense_L = LSTM(5, return_sequences=False)(inp_L)  # LSTM 용\n",
        "inp_L = layers.Input(shape=(5,),name=\"input_L\")\n",
        "#dense_L = Dense(64)(dense_L)\n",
        "dense_L = Dense(64)(inp_L)\n",
        "#output_L = Dense(1)(dense_L)\n",
        "output_s = layers.Dense(3, activation=\"softmax\",kernel_initializer=glorot_uniform(seed=42), use_bias=False, kernel_regularizer=keras.regularizers.l2(0.001), name=\"out\")(dense_L)\n",
        "\n",
        "model_lstm = Model(inputs=inp_L, outputs = output_s)"
      ],
      "execution_count": null,
      "outputs": []
    },
    {
      "cell_type": "code",
      "metadata": {
        "id": "nq9u7FVL8QMN",
        "colab_type": "code",
        "colab": {}
      },
      "source": [
        "optimizer = tf.keras.optimizers.Adam(lr=0.001)\n",
        "model_lstm.compile(loss='categorical_crossentropy', optimizer=optimizer, metrics=['mae'])"
      ],
      "execution_count": null,
      "outputs": []
    },
    {
      "cell_type": "code",
      "metadata": {
        "id": "HzEFHZQ--JZt",
        "colab_type": "code",
        "colab": {}
      },
      "source": [
        "history_lstm = model_lstm.fit(p_serise, y_encoded, epochs=150, verbose=0)"
      ],
      "execution_count": null,
      "outputs": []
    },
    {
      "cell_type": "code",
      "metadata": {
        "id": "HkHpoNBRDZ3u",
        "colab_type": "code",
        "colab": {
          "base_uri": "https://localhost:8080/",
          "height": 265
        },
        "outputId": "8d7151c3-47cc-43c7-c8dd-2e55846641ef"
      },
      "source": [
        "plt.plot(history_lstm.history['loss'])\n",
        "plt.show()"
      ],
      "execution_count": null,
      "outputs": [
        {
          "output_type": "display_data",
          "data": {
            "image/png": "[encoded data removed]",
            "text/plain": [
              "<Figure size 432x288 with 1 Axes>"
            ]
          },
          "metadata": {
            "tags": [],
            "needs_background": "light"
          }
        }
      ]
    },
    {
      "cell_type": "code",
      "metadata": {
        "id": "dUOFL8eADyES",
        "colab_type": "code",
        "colab": {
          "base_uri": "https://localhost:8080/",
          "height": 265
        },
        "outputId": "eda1d22e-cccb-4229-a3e2-cc8503dd7f79"
      },
      "source": [
        "plt.plot(action(model_lstm.predict(p_serise)), 'b')\n",
        "# plt.plot(price_lstm_y, 'r')\n",
        "plt.show()"
      ],
      "execution_count": null,
      "outputs": [
        {
          "output_type": "display_data",
          "data": {
            "image/png": "[encoded data removed]",
            "text/plain": [
              "<Figure size 432x288 with 1 Axes>"
            ]
          },
          "metadata": {
            "tags": [],
            "needs_background": "light"
          }
        }
      ]
    },
    {
      "cell_type": "code",
      "metadata": {
        "id": "rcnD7iot56Zc",
        "colab_type": "code",
        "colab": {}
      },
      "source": [
        ""
      ],
      "execution_count": null,
      "outputs": []
    },
    {
      "cell_type": "code",
      "metadata": {
        "id": "Ykgd940f56Ws",
        "colab_type": "code",
        "colab": {}
      },
      "source": [
        ""
      ],
      "execution_count": null,
      "outputs": []
    },
    {
      "cell_type": "code",
      "metadata": {
        "id": "vgKgY08H56S9",
        "colab_type": "code",
        "colab": {}
      },
      "source": [
        ""
      ],
      "execution_count": null,
      "outputs": []
    },
    {
      "cell_type": "code",
      "metadata": {
        "id": "oOk67j_P_1ui",
        "colab_type": "code",
        "colab": {
          "base_uri": "https://localhost:8080/",
          "height": 34
        },
        "outputId": "9b115394-bee0-4705-abeb-96322edb2ba6"
      },
      "source": [
        ""
      ],
      "execution_count": null,
      "outputs": [
        {
          "output_type": "stream",
          "text": [
            "[1, 1, 1, 1, 1, 1, 1, 1, 1, 1, 1, 0, 0, 0, 0, 0, 0, 0, 0, 0, 0, 0, 0, 0, 0]\n"
          ],
          "name": "stdout"
        }
      ]
    },
    {
      "cell_type": "markdown",
      "metadata": {
        "id": "ZqnDeQDebd7L",
        "colab_type": "text"
      },
      "source": [
        "만약 정책함수에서 softmax가 행동대안을 산출하면 각 행동대안이 갖는 확률을 기반으로 하여 새로운 행동을 산출한다. 만약 각 행동대안의 확율이 높아 질 수록 산출할 행동 대안의 모습은 수렴해 갈 것이다."
      ]
    },
    {
      "cell_type": "code",
      "metadata": {
        "id": "bUP7ErWSq7Q-",
        "colab_type": "code",
        "colab": {}
      },
      "source": [
        ""
      ],
      "execution_count": null,
      "outputs": []
    },
    {
      "cell_type": "markdown",
      "metadata": {
        "id": "hZ94IMpkGo4Q",
        "colab_type": "text"
      },
      "source": [
        "custom loss 함수를 테스트 해본다."
      ]
    },
    {
      "cell_type": "code",
      "metadata": {
        "id": "oeNsD1JMGuKf",
        "colab_type": "code",
        "colab": {
          "base_uri": "https://localhost:8080/",
          "height": 34
        },
        "outputId": "f5900976-abc9-41c8-bd69-e30e707a5430"
      },
      "source": [
        ""
      ],
      "execution_count": null,
      "outputs": [
        {
          "output_type": "stream",
          "text": [
            "Using TensorFlow backend.\n"
          ],
          "name": "stderr"
        }
      ]
    },
    {
      "cell_type": "code",
      "metadata": {
        "id": "Whc8OKjFG7q9",
        "colab_type": "code",
        "colab": {}
      },
      "source": [
        "def my_loss(y_true, y_pred):\n",
        "  y_true = y_true **2\n",
        "  y_pred = y_pred **2\n",
        "  loss = K.mean(K.abs(y_true - y_pred) + K.square(y_true - y_pred))\n",
        "  return loss * multip\n",
        "\n",
        "\n",
        "# metric는 중요하지 않다.\n",
        "\n",
        "def my_metric(y_true, y_pred):\n",
        "  return K.mean(K.abs(y_true - y_pred)) * 1000"
      ],
      "execution_count": null,
      "outputs": []
    },
    {
      "cell_type": "code",
      "metadata": {
        "id": "uA6-PGbtd48V",
        "colab_type": "code",
        "colab": {}
      },
      "source": [
        ""
      ],
      "execution_count": null,
      "outputs": []
    },
    {
      "cell_type": "code",
      "metadata": {
        "id": "bHBAqZNpGJiT",
        "colab_type": "code",
        "colab": {}
      },
      "source": [
        "# 하나의 에피소드 내에서 지연된 보상을 하기 위한 방법이다. \n",
        "\n",
        "def discount_rewards(r, gamma=0.99):\n",
        "    \"\"\"Takes 1d float array of rewards and computes discounted reward\n",
        "    e.g. f([1, 1, 1], 0.99) -> [2.9701, 1.99, 1]\n",
        "    \"\"\"\n",
        "    prior = 0\n",
        "    out = []\n",
        "    r = r[::-1]\n",
        "    for val in r:\n",
        "        new_val = val + prior * gamma\n",
        "        out.append(new_val)\n",
        "        prior = new_val\n",
        "    return np.array(out)"
      ],
      "execution_count": null,
      "outputs": []
    },
    {
      "cell_type": "code",
      "metadata": {
        "id": "9mnjJQyQLm9P",
        "colab_type": "code",
        "colab": {}
      },
      "source": [
        "# test_set에 적용하는 함수\n",
        "\n",
        "def score_model(model_predict, num_tests):\n",
        "    scores = []    \n",
        "    for num_test in range(num_tests):\n",
        "        observation = env()\n",
        "        forcasts = model_predict.predict(observation)\n",
        "        rw = reward(observation, np.argmax(forcasts, axis=1))\n",
        "        scores.append(rw)\n",
        "    return np.mean(scores)"
      ],
      "execution_count": null,
      "outputs": []
    },
    {
      "cell_type": "code",
      "metadata": {
        "id": "pekZ5hube7jg",
        "colab_type": "code",
        "colab": {}
      },
      "source": [
        ""
      ],
      "execution_count": null,
      "outputs": []
    },
    {
      "cell_type": "code",
      "metadata": {
        "id": "Zb1yTMimS19n",
        "colab_type": "code",
        "colab": {}
      },
      "source": [
        ""
      ],
      "execution_count": null,
      "outputs": []
    },
    {
      "cell_type": "code",
      "metadata": {
        "id": "HtPlFP_N91Sn",
        "colab_type": "code",
        "colab": {}
      },
      "source": [
        ""
      ],
      "execution_count": null,
      "outputs": []
    },
    {
      "cell_type": "code",
      "metadata": {
        "id": "5jzHURCR91WX",
        "colab_type": "code",
        "colab": {}
      },
      "source": [
        ""
      ],
      "execution_count": null,
      "outputs": []
    }
  ]
}