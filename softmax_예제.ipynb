{
  "nbformat": 4,
  "nbformat_minor": 0,
  "metadata": {
    "colab": {
      "name": "softmax 예제",
      "provenance": [],
      "collapsed_sections": [],
      "authorship_tag": "ABX9TyPOwg7s00d3aMvIMKIiAdiI",
      "include_colab_link": true
    },
    "kernelspec": {
      "name": "python3",
      "display_name": "Python 3"
    }
  },
  "cells": [
    {
      "cell_type": "markdown",
      "metadata": {
        "id": "view-in-github",
        "colab_type": "text"
      },
      "source": [
        "<a href=\"https://colab.research.google.com/github/sjbaek12/sjbaek12.github.io/blob/master/softmax_%EC%98%88%EC%A0%9C.ipynb\" target=\"_parent\"><img src=\"https://colab.research.google.com/assets/colab-badge.svg\" alt=\"Open In Colab\"/></a>"
      ]
    },
    {
      "cell_type": "code",
      "metadata": {
        "id": "IjM8ha0V-AQi",
        "colab_type": "code",
        "colab": {}
      },
      "source": [
        "import numpy as np\n",
        "import matplotlib.pyplot as plt"
      ],
      "execution_count": 1,
      "outputs": []
    },
    {
      "cell_type": "code",
      "metadata": {
        "id": "AHDbPOgh-OsF",
        "colab_type": "code",
        "colab": {}
      },
      "source": [
        "def env():\n",
        "  price=[]\n",
        "  for i in range(10):\n",
        "    bias = np.random.rand(1)\n",
        "    p = -0.01*(i-50)**2 + bias*10\n",
        "    bias2 = np.random.rand(1)\n",
        "    q = 0.2 *(i-30)**2 + bias2*10\n",
        "    price.append([p[0], q[0]])\n",
        "  return price"
      ],
      "execution_count": 22,
      "outputs": []
    },
    {
      "cell_type": "code",
      "metadata": {
        "id": "1phKhku1B14w",
        "colab_type": "code",
        "colab": {}
      },
      "source": [
        "price = env()"
      ],
      "execution_count": 23,
      "outputs": []
    },
    {
      "cell_type": "code",
      "metadata": {
        "id": "9_9Jv9snBRpg",
        "colab_type": "code",
        "colab": {
          "base_uri": "https://localhost:8080/",
          "height": 193
        },
        "outputId": "2469a20c-9bf0-47f4-fbfc-7e8358e6268f"
      },
      "source": [
        "price"
      ],
      "execution_count": 24,
      "outputs": [
        {
          "output_type": "execute_result",
          "data": {
            "text/plain": [
              "[[-17.493713301591775, 186.83884869290307],\n",
              " [-21.5756864761095, 177.33158115914068],\n",
              " [-16.54063593379091, 164.4290709980567],\n",
              " [-22.058894264451347, 151.8360591696722],\n",
              " [-15.642744218076135, 144.7913296137183],\n",
              " [-18.089252328118153, 125.39616179270853],\n",
              " [-17.29586255562368, 122.7899403825947],\n",
              " [-13.922362996299928, 109.71239299871867],\n",
              " [-16.616915151964946, 101.61470633369667],\n",
              " [-7.39432857662973, 96.71401508571083]]"
            ]
          },
          "metadata": {
            "tags": []
          },
          "execution_count": 24
        }
      ]
    },
    {
      "cell_type": "code",
      "metadata": {
        "id": "cUZ0H5GG-WK9",
        "colab_type": "code",
        "colab": {}
      },
      "source": [
        "def act():\n",
        "  actions = []\n",
        "  for i in range(10):\n",
        "    if np.random.rand() > 0.5:\n",
        "      act = 1\n",
        "    else:\n",
        "      act = 0\n",
        "    actions.append(act)\n",
        "  return actions"
      ],
      "execution_count": 5,
      "outputs": []
    },
    {
      "cell_type": "code",
      "metadata": {
        "id": "1N5swCAc-fq4",
        "colab_type": "code",
        "colab": {
          "base_uri": "https://localhost:8080/",
          "height": 34
        },
        "outputId": "1cd8259b-ac0a-4429-bf21-47fa47d50d78"
      },
      "source": [
        "y = act()\n",
        "print(y)"
      ],
      "execution_count": 6,
      "outputs": [
        {
          "output_type": "stream",
          "text": [
            "[1, 1, 0, 0, 1, 0, 0, 1, 1, 1]\n"
          ],
          "name": "stdout"
        }
      ]
    },
    {
      "cell_type": "code",
      "metadata": {
        "id": "vj4Hbg5kCrYZ",
        "colab_type": "code",
        "colab": {}
      },
      "source": [
        "import tensorflow as tf\n",
        "y_encoded = tf.keras.utils.to_categorical(y)"
      ],
      "execution_count": 30,
      "outputs": []
    },
    {
      "cell_type": "code",
      "metadata": {
        "id": "Lv0I5DXcDB5O",
        "colab_type": "code",
        "colab": {
          "base_uri": "https://localhost:8080/",
          "height": 193
        },
        "outputId": "809a62b0-e720-4eed-f461-d2fe513aa41d"
      },
      "source": [
        "y_encoded"
      ],
      "execution_count": 31,
      "outputs": [
        {
          "output_type": "execute_result",
          "data": {
            "text/plain": [
              "array([[0., 1.],\n",
              "       [0., 1.],\n",
              "       [1., 0.],\n",
              "       [1., 0.],\n",
              "       [0., 1.],\n",
              "       [1., 0.],\n",
              "       [1., 0.],\n",
              "       [0., 1.],\n",
              "       [0., 1.],\n",
              "       [0., 1.]], dtype=float32)"
            ]
          },
          "metadata": {
            "tags": []
          },
          "execution_count": 31
        }
      ]
    },
    {
      "cell_type": "code",
      "metadata": {
        "id": "2pd7zq6E-hcx",
        "colab_type": "code",
        "colab": {
          "base_uri": "https://localhost:8080/",
          "height": 34
        },
        "outputId": "8d0c439e-910e-49fe-b7c3-98cf8e3686b3"
      },
      "source": [
        "\n",
        "import keras.layers as layers\n",
        "from keras.layers import LSTM, Dense\n",
        "from keras.models import Model, Sequential\n",
        "from keras.optimizers import Adam\n",
        "import keras.backend as K"
      ],
      "execution_count": 7,
      "outputs": [
        {
          "output_type": "stream",
          "text": [
            "Using TensorFlow backend.\n"
          ],
          "name": "stderr"
        }
      ]
    },
    {
      "cell_type": "code",
      "metadata": {
        "id": "vVBQxXPL-l68",
        "colab_type": "code",
        "colab": {
          "base_uri": "https://localhost:8080/",
          "height": 263
        },
        "outputId": "d54d9d4c-67d5-4550-a51a-1633f40dc92b"
      },
      "source": [
        "\n",
        "inp = layers.Input(shape=(2,),name=\"input_x\")\n",
        "x = layers.Dense(4, activation=\"relu\", name=\"dense_1\")(inp)\n",
        "output = layers.Dense(2, activation=\"softmax\", name=\"out\")(x)\n",
        "\n",
        "model = Model(inputs=inp, outputs = output)\n",
        "model.summary()"
      ],
      "execution_count": 25,
      "outputs": [
        {
          "output_type": "stream",
          "text": [
            "Model: \"model_2\"\n",
            "_________________________________________________________________\n",
            "Layer (type)                 Output Shape              Param #   \n",
            "=================================================================\n",
            "input_x (InputLayer)         (None, 2)                 0         \n",
            "_________________________________________________________________\n",
            "dense_1 (Dense)              (None, 4)                 12        \n",
            "_________________________________________________________________\n",
            "out (Dense)                  (None, 2)                 10        \n",
            "=================================================================\n",
            "Total params: 22\n",
            "Trainable params: 22\n",
            "Non-trainable params: 0\n",
            "_________________________________________________________________\n"
          ],
          "name": "stdout"
        }
      ]
    },
    {
      "cell_type": "code",
      "metadata": {
        "id": "DNJamGxd-xK6",
        "colab_type": "code",
        "colab": {}
      },
      "source": [
        "model.compile(optimizer='adam', loss= 'categorical_crossentropy', metrics=['accuracy'])"
      ],
      "execution_count": 26,
      "outputs": []
    },
    {
      "cell_type": "code",
      "metadata": {
        "id": "-uozoCoe_I91",
        "colab_type": "code",
        "colab": {
          "base_uri": "https://localhost:8080/",
          "height": 193
        },
        "outputId": "4bdf1661-87d7-49b0-8c45-b69bfac1665e"
      },
      "source": [
        "p_mean = np.mean(price)\n",
        "p_std = np.std(price)\n",
        "\n",
        "price = (price - p_mean)/p_std\n",
        "\n",
        "print(price)"
      ],
      "execution_count": 27,
      "outputs": [
        {
          "output_type": "stream",
          "text": [
            "[[-0.97388932  1.56969804]\n",
            " [-1.02470283  1.45134899]\n",
            " [-0.96202515  1.29073503]\n",
            " [-1.03071794  1.13397379]\n",
            " [-0.95084795  1.04627908]\n",
            " [-0.98130275  0.80484275]\n",
            " [-0.97142642  0.77239979]\n",
            " [-0.92943218  0.60960692]\n",
            " [-0.9629747   0.50880472]\n",
            " [-0.84816943  0.44779958]]\n"
          ],
          "name": "stdout"
        }
      ]
    },
    {
      "cell_type": "code",
      "metadata": {
        "id": "eGnAhgfA_P-l",
        "colab_type": "code",
        "colab": {
          "base_uri": "https://localhost:8080/",
          "height": 369
        },
        "outputId": "4d9f8841-756b-4582-cebe-0b3e2a4e9b65"
      },
      "source": [
        "history = model.fit(price, y_encoded, epochs=10)"
      ],
      "execution_count": 32,
      "outputs": [
        {
          "output_type": "stream",
          "text": [
            "Epoch 1/10\n",
            "10/10 [==============================] - 0s 25ms/step - loss: 0.6829 - accuracy: 0.6000\n",
            "Epoch 2/10\n",
            "10/10 [==============================] - 0s 362us/step - loss: 0.6822 - accuracy: 0.6000\n",
            "Epoch 3/10\n",
            "10/10 [==============================] - 0s 362us/step - loss: 0.6815 - accuracy: 0.6000\n",
            "Epoch 4/10\n",
            "10/10 [==============================] - 0s 125us/step - loss: 0.6808 - accuracy: 0.6000\n",
            "Epoch 5/10\n",
            "10/10 [==============================] - 0s 202us/step - loss: 0.6802 - accuracy: 0.6000\n",
            "Epoch 6/10\n",
            "10/10 [==============================] - 0s 137us/step - loss: 0.6797 - accuracy: 0.6000\n",
            "Epoch 7/10\n",
            "10/10 [==============================] - 0s 228us/step - loss: 0.6793 - accuracy: 0.6000\n",
            "Epoch 8/10\n",
            "10/10 [==============================] - 0s 201us/step - loss: 0.6791 - accuracy: 0.6000\n",
            "Epoch 9/10\n",
            "10/10 [==============================] - 0s 277us/step - loss: 0.6789 - accuracy: 0.6000\n",
            "Epoch 10/10\n",
            "10/10 [==============================] - 0s 146us/step - loss: 0.6788 - accuracy: 0.6000\n"
          ],
          "name": "stdout"
        }
      ]
    }
  ]
}