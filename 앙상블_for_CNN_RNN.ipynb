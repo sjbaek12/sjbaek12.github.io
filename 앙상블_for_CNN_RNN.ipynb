{
  "nbformat": 4,
  "nbformat_minor": 0,
  "metadata": {
    "colab": {
      "name": "앙상블 for CNN RNN",
      "provenance": [],
      "collapsed_sections": [],
      "authorship_tag": "ABX9TyPHu3j+RjY6fqMaJdrKCt6p",
      "include_colab_link": true
    },
    "kernelspec": {
      "name": "python3",
      "display_name": "Python 3"
    }
  },
  "cells": [
    {
      "cell_type": "markdown",
      "metadata": {
        "id": "view-in-github",
        "colab_type": "text"
      },
      "source": [
        "<a href=\"https://colab.research.google.com/github/sjbaek12/sjbaek12.github.io/blob/master/%EC%95%99%EC%83%81%EB%B8%94_for_CNN_RNN.ipynb\" target=\"_parent\"><img src=\"https://colab.research.google.com/assets/colab-badge.svg\" alt=\"Open In Colab\"/></a>"
      ]
    },
    {
      "cell_type": "markdown",
      "metadata": {
        "id": "kC4IclpOFR-i",
        "colab_type": "text"
      },
      "source": [
        "순환신경망과 합성곱 신경망의 앙상블 테스트"
      ]
    },
    {
      "cell_type": "code",
      "metadata": {
        "id": "K9KMUKawFXPq",
        "colab_type": "code",
        "colab": {}
      },
      "source": [
        "import numpy as np\n",
        "import tensorflow as tf\n",
        "from tensorflow.keras.datasets import imdb"
      ],
      "execution_count": 7,
      "outputs": []
    },
    {
      "cell_type": "code",
      "metadata": {
        "id": "lRftmwkBFj5q",
        "colab_type": "code",
        "colab": {
          "base_uri": "https://localhost:8080/",
          "height": 34
        },
        "outputId": "7a774952-89ee-41bc-8293-fc96de1ee292"
      },
      "source": [
        "(x_train_all, y_train_all), (x_test, y_test) = imdb.load_data(skip_top=20, num_words=100)\n",
        "\n",
        "from tensorflow.keras.preprocessing import sequence\n",
        "\n",
        "max_features = 1000\n",
        "max_len=100\n",
        "x_train_seq = sequence.pad_sequences(x_train_all, maxlen=max_len)\n",
        "\n",
        "print(x_train_seq.shape)"
      ],
      "execution_count": 8,
      "outputs": [
        {
          "output_type": "stream",
          "text": [
            "(25000, 100)\n"
          ],
          "name": "stdout"
        }
      ]
    },
    {
      "cell_type": "code",
      "metadata": {
        "id": "q_eCz8PsFtGQ",
        "colab_type": "code",
        "colab": {}
      },
      "source": [
        "from keras.models import Model\n",
        "from keras import layers\n",
        "from keras import Input\n",
        "from keras.layers import Embedding, Conv1D, MaxPooling1D, GlobalMaxPooling1D, Dense, SimpleRNN, Average "
      ],
      "execution_count": 30,
      "outputs": []
    },
    {
      "cell_type": "markdown",
      "metadata": {
        "id": "rkvFrlN6flpe",
        "colab_type": "text"
      },
      "source": [
        "테스트를 위해서 Embedding층으로만 구성된 모델을 만들고 실행시켜본 예이다.\n",
        "먼저 embedding 층을 모델링한다."
      ]
    },
    {
      "cell_type": "code",
      "metadata": {
        "id": "70hpj5rSZNhR",
        "colab_type": "code",
        "colab": {
          "base_uri": "https://localhost:8080/",
          "height": 228
        },
        "outputId": "67f59d32-d8c4-45f2-e37f-f1b7e5498a1e"
      },
      "source": [
        "input_tensor = Input(shape=(100,)) # shape=(input_dim,)\n",
        "output_tensor = Embedding(500, 128)(input_tensor)  # 500개 단어를 크기 128개의 벡터로 표현하면 64000개의 파라미터가 나온다\n",
        "\n",
        "model_emb = Model(input_tensor, output_tensor)\n",
        "model_emb.summary()"
      ],
      "execution_count": 13,
      "outputs": [
        {
          "output_type": "stream",
          "text": [
            "Model: \"model_2\"\n",
            "_________________________________________________________________\n",
            "Layer (type)                 Output Shape              Param #   \n",
            "=================================================================\n",
            "input_5 (InputLayer)         (None, 100)               0         \n",
            "_________________________________________________________________\n",
            "embedding_5 (Embedding)      (None, 100, 128)          64000     \n",
            "=================================================================\n",
            "Total params: 64,000\n",
            "Trainable params: 64,000\n",
            "Non-trainable params: 0\n",
            "_________________________________________________________________\n"
          ],
          "name": "stdout"
        }
      ]
    },
    {
      "cell_type": "markdown",
      "metadata": {
        "id": "rQeyhhPHgBRE",
        "colab_type": "text"
      },
      "source": [
        "다음으로 Embedding 모델을 컴파일 한다"
      ]
    },
    {
      "cell_type": "code",
      "metadata": {
        "id": "eXPjaGdJbQlM",
        "colab_type": "code",
        "colab": {}
      },
      "source": [
        "model_emb.compile(optimizer=tf.keras.optimizers.RMSprop(lr=0.001), loss='binary_crossentropy', metrics=['acc'])"
      ],
      "execution_count": 17,
      "outputs": []
    },
    {
      "cell_type": "code",
      "metadata": {
        "id": "-chxC5KVfFQt",
        "colab_type": "code",
        "colab": {
          "base_uri": "https://localhost:8080/",
          "height": 34
        },
        "outputId": "027c4e68-a50a-4ebf-9156-01444fcf9185"
      },
      "source": [
        "x_train_seq.shape"
      ],
      "execution_count": 21,
      "outputs": [
        {
          "output_type": "execute_result",
          "data": {
            "text/plain": [
              "(25000, 100)"
            ]
          },
          "metadata": {
            "tags": []
          },
          "execution_count": 21
        }
      ]
    },
    {
      "cell_type": "markdown",
      "metadata": {
        "id": "vtUDYBPZgHFc",
        "colab_type": "text"
      },
      "source": [
        "실제 데이터를 넣어서 embedding된 벡터들이 어떻게 구성되었는지 본 예이다. 여기서는 model.predict를 사용하면 된다. x_train_seq 전체가 하나의 데이터이기 때문에 전체를 예측하고, 그 다음 샘플[0]가 어떻게 구성되는지 본다"
      ]
    },
    {
      "cell_type": "code",
      "metadata": {
        "id": "gMoHkN6iekE5",
        "colab_type": "code",
        "colab": {
          "base_uri": "https://localhost:8080/",
          "height": 34
        },
        "outputId": "ebcf82a4-faa1-4603-c4af-3c7ea3b799cc"
      },
      "source": [
        "model_emb.predict(x_train_seq)[0].shape"
      ],
      "execution_count": 25,
      "outputs": [
        {
          "output_type": "execute_result",
          "data": {
            "text/plain": [
              "(100, 128)"
            ]
          },
          "metadata": {
            "tags": []
          },
          "execution_count": 25
        }
      ]
    },
    {
      "cell_type": "markdown",
      "metadata": {
        "id": "s-fct8mSgt7x",
        "colab_type": "text"
      },
      "source": [
        "다음은 CNN을 함수형으로 모델링 한 것이다. Conv1D를 사용해서 문장의 극성을 평가하는 모델이다."
      ]
    },
    {
      "cell_type": "code",
      "metadata": {
        "id": "nnAHxrwUFyCJ",
        "colab_type": "code",
        "colab": {
          "base_uri": "https://localhost:8080/",
          "height": 404
        },
        "outputId": "af19db06-2694-4e0d-8ad8-69cc4f1aa9d2"
      },
      "source": [
        "input_tensor = Input(shape=(100,)) # shape=(input_dim,)\n",
        "\n",
        "def conv_pool_cnn(model_input):\n",
        "  x = Embedding(500, 128)(model_input)\n",
        "  x = Conv1D(32, 7, activation = 'relu')(x)\n",
        "  x = MaxPooling1D(5)(x)\n",
        "  x = Conv1D(32, 6, activation='relu')(x)\n",
        "  x = GlobalMaxPooling1D()(x)\n",
        "  x = Dense(1, activation = 'sigmoid')(x)\n",
        "\n",
        "  model = Model(model_input, x, name='conv_pool_cnn')\n",
        "\n",
        "  return model\n",
        "\n",
        "\n",
        "\n",
        "model = conv_pool_cnn(input_tensor)\n",
        "model.summary()"
      ],
      "execution_count": 26,
      "outputs": [
        {
          "output_type": "stream",
          "text": [
            "Model: \"conv_pool_cnn\"\n",
            "_________________________________________________________________\n",
            "Layer (type)                 Output Shape              Param #   \n",
            "=================================================================\n",
            "input_6 (InputLayer)         (None, 100)               0         \n",
            "_________________________________________________________________\n",
            "embedding_6 (Embedding)      (None, 100, 128)          64000     \n",
            "_________________________________________________________________\n",
            "conv1d_1 (Conv1D)            (None, 94, 32)            28704     \n",
            "_________________________________________________________________\n",
            "max_pooling1d_1 (MaxPooling1 (None, 18, 32)            0         \n",
            "_________________________________________________________________\n",
            "conv1d_2 (Conv1D)            (None, 13, 32)            6176      \n",
            "_________________________________________________________________\n",
            "global_max_pooling1d_1 (Glob (None, 32)                0         \n",
            "_________________________________________________________________\n",
            "dense_1 (Dense)              (None, 1)                 33        \n",
            "=================================================================\n",
            "Total params: 98,913\n",
            "Trainable params: 98,913\n",
            "Non-trainable params: 0\n",
            "_________________________________________________________________\n"
          ],
          "name": "stdout"
        }
      ]
    },
    {
      "cell_type": "code",
      "metadata": {
        "id": "TmUWjrVqFy4w",
        "colab_type": "code",
        "colab": {
          "base_uri": "https://localhost:8080/",
          "height": 369
        },
        "outputId": "2d3affde-4ee1-4b61-b541-d81e4dac47e5"
      },
      "source": [
        "model.compile(optimizer=tf.keras.optimizers.RMSprop(lr=0.001), loss='binary_crossentropy', metrics=['acc'])\n",
        "history = model.fit(x_train_seq, y_train_all, epochs=10, batch_size=128)"
      ],
      "execution_count": 32,
      "outputs": [
        {
          "output_type": "stream",
          "text": [
            "Epoch 1/10\n",
            "25000/25000 [==============================] - 19s 767us/step - loss: 0.6437 - acc: 0.6119\n",
            "Epoch 2/10\n",
            "25000/25000 [==============================] - 19s 752us/step - loss: 0.6033 - acc: 0.6670\n",
            "Epoch 3/10\n",
            "25000/25000 [==============================] - 19s 754us/step - loss: 0.5909 - acc: 0.6792\n",
            "Epoch 4/10\n",
            "25000/25000 [==============================] - 19s 754us/step - loss: 0.5794 - acc: 0.6903\n",
            "Epoch 5/10\n",
            "25000/25000 [==============================] - 19s 754us/step - loss: 0.5695 - acc: 0.6980\n",
            "Epoch 6/10\n",
            "25000/25000 [==============================] - 21s 841us/step - loss: 0.5579 - acc: 0.7086\n",
            "Epoch 7/10\n",
            "25000/25000 [==============================] - 19s 761us/step - loss: 0.5468 - acc: 0.7168\n",
            "Epoch 8/10\n",
            "25000/25000 [==============================] - 19s 757us/step - loss: 0.5344 - acc: 0.7286\n",
            "Epoch 9/10\n",
            "25000/25000 [==============================] - 19s 755us/step - loss: 0.5215 - acc: 0.7368\n",
            "Epoch 10/10\n",
            "25000/25000 [==============================] - 19s 756us/step - loss: 0.5089 - acc: 0.7494\n"
          ],
          "name": "stdout"
        }
      ]
    },
    {
      "cell_type": "markdown",
      "metadata": {
        "id": "4sfLvnvXOJWR",
        "colab_type": "text"
      },
      "source": [
        "다음은 RNN을 함수형으로 모델링한 것이다. 다음은 전형적인 SimpleRNN을 이용하여 문장의 극성을 분류하는 모델이다."
      ]
    },
    {
      "cell_type": "code",
      "metadata": {
        "id": "6r7Ap0KhONb5",
        "colab_type": "code",
        "colab": {}
      },
      "source": [
        "def rnn_pool_cnn(model_input):\n",
        "  x = Embedding(500, 128)(model_input)\n",
        "  x = SimpleRNN(20)(x)\n",
        "  x = Dense(1, activation='sigmoid')(x)\n",
        "  \n",
        "  model = Model(model_input, x, name='rnn_pool_cnn')\n",
        "\n",
        "  return model"
      ],
      "execution_count": 36,
      "outputs": []
    },
    {
      "cell_type": "code",
      "metadata": {
        "id": "CEb5iGMEQTEK",
        "colab_type": "code",
        "colab": {
          "base_uri": "https://localhost:8080/",
          "height": 298
        },
        "outputId": "3a80dfd0-0873-4cb4-d1cc-719f161eacf3"
      },
      "source": [
        "model1 = rnn_pool_cnn(input_tensor)\n",
        "model1.summary()"
      ],
      "execution_count": 37,
      "outputs": [
        {
          "output_type": "stream",
          "text": [
            "Model: \"rnn_pool_cnn\"\n",
            "_________________________________________________________________\n",
            "Layer (type)                 Output Shape              Param #   \n",
            "=================================================================\n",
            "input_6 (InputLayer)         (None, 100)               0         \n",
            "_________________________________________________________________\n",
            "embedding_8 (Embedding)      (None, 100, 128)          64000     \n",
            "_________________________________________________________________\n",
            "simple_rnn_2 (SimpleRNN)     (None, 20)                2980      \n",
            "_________________________________________________________________\n",
            "dense_3 (Dense)              (None, 1)                 21        \n",
            "=================================================================\n",
            "Total params: 67,001\n",
            "Trainable params: 67,001\n",
            "Non-trainable params: 0\n",
            "_________________________________________________________________\n"
          ],
          "name": "stdout"
        }
      ]
    },
    {
      "cell_type": "code",
      "metadata": {
        "id": "UONd4vKYQTPZ",
        "colab_type": "code",
        "colab": {
          "base_uri": "https://localhost:8080/",
          "height": 369
        },
        "outputId": "17be478a-c175-4cd4-cab9-a68fec65ca41"
      },
      "source": [
        "model1.compile(optimizer=tf.keras.optimizers.Adam(0.001), loss='binary_crossentropy', metrics=['acc'])\n",
        "history1 = model1.fit(x_train_seq, y_train_all, epochs=10, batch_size=128)"
      ],
      "execution_count": 38,
      "outputs": [
        {
          "output_type": "stream",
          "text": [
            "Epoch 1/10\n",
            "25000/25000 [==============================] - 8s 324us/step - loss: 0.6884 - acc: 0.5352\n",
            "Epoch 2/10\n",
            "25000/25000 [==============================] - 8s 315us/step - loss: 0.6700 - acc: 0.5858\n",
            "Epoch 3/10\n",
            "25000/25000 [==============================] - 8s 320us/step - loss: 0.6707 - acc: 0.5784\n",
            "Epoch 4/10\n",
            "25000/25000 [==============================] - 8s 325us/step - loss: 0.6681 - acc: 0.5883\n",
            "Epoch 5/10\n",
            "25000/25000 [==============================] - 8s 317us/step - loss: 0.6538 - acc: 0.6108\n",
            "Epoch 6/10\n",
            "25000/25000 [==============================] - 8s 319us/step - loss: 0.6498 - acc: 0.6246\n",
            "Epoch 7/10\n",
            "25000/25000 [==============================] - 8s 319us/step - loss: 0.6500 - acc: 0.6328\n",
            "Epoch 8/10\n",
            "25000/25000 [==============================] - 8s 320us/step - loss: 0.6213 - acc: 0.6628\n",
            "Epoch 9/10\n",
            "25000/25000 [==============================] - 8s 319us/step - loss: 0.6181 - acc: 0.6598\n",
            "Epoch 10/10\n",
            "25000/25000 [==============================] - 8s 317us/step - loss: 0.6063 - acc: 0.6763\n"
          ],
          "name": "stdout"
        }
      ]
    },
    {
      "cell_type": "markdown",
      "metadata": {
        "id": "aRC1UInyjbiX",
        "colab_type": "text"
      },
      "source": [
        "함수로 정의한 각자의 모델을 앙상블 모델로 결합하는 단계이다."
      ]
    },
    {
      "cell_type": "code",
      "metadata": {
        "id": "1tJ0MiUPQTTY",
        "colab_type": "code",
        "colab": {}
      },
      "source": [
        "model = conv_pool_cnn(input_tensor)\n",
        "model1 = rnn_pool_cnn(input_tensor)\n",
        "\n",
        "#conv_pool_cnn_model.load_weights('weights/conv_pool_cnn.29-0.10.hdf5')\n",
        "##all_cnn_model.load_weights('weights/all_cnn.30-0.08.hdf5')\n",
        "#nin_cnn_model.load_weights('weights/nin_cnn.30-0.93.hdf5')\n",
        "\n",
        "models = [model, model1]"
      ],
      "execution_count": 51,
      "outputs": []
    },
    {
      "cell_type": "code",
      "metadata": {
        "id": "O8NFCNpxQUEx",
        "colab_type": "code",
        "colab": {}
      },
      "source": [
        "def ensemble(models, model_input):\n",
        "    \n",
        "    outputs = [model.outputs[0] for model in models] # 각 모델의 output을 다음 Average() 층의 Input data로 투입한다.\n",
        "    y = Average()(outputs)\n",
        "    model = Model(model_input, y, name='ensemble') # 여기서 앙상블 Average()층의 output은 y이다.\n",
        "    \n",
        "    return model\n",
        "\n",
        "ensemble_model = ensemble(models, input_tensor)"
      ],
      "execution_count": 40,
      "outputs": []
    },
    {
      "cell_type": "code",
      "metadata": {
        "id": "cwvUk0BoVknx",
        "colab_type": "code",
        "colab": {
          "base_uri": "https://localhost:8080/",
          "height": 562
        },
        "outputId": "a85516a0-4046-41f3-d741-438f79d1304f"
      },
      "source": [
        "ensemble_model.summary()"
      ],
      "execution_count": 41,
      "outputs": [
        {
          "output_type": "stream",
          "text": [
            "Model: \"ensemble\"\n",
            "__________________________________________________________________________________________________\n",
            "Layer (type)                    Output Shape         Param #     Connected to                     \n",
            "==================================================================================================\n",
            "input_6 (InputLayer)            (None, 100)          0                                            \n",
            "__________________________________________________________________________________________________\n",
            "embedding_9 (Embedding)         (None, 100, 128)     64000       input_6[0][0]                    \n",
            "__________________________________________________________________________________________________\n",
            "conv1d_3 (Conv1D)               (None, 94, 32)       28704       embedding_9[0][0]                \n",
            "__________________________________________________________________________________________________\n",
            "max_pooling1d_2 (MaxPooling1D)  (None, 18, 32)       0           conv1d_3[0][0]                   \n",
            "__________________________________________________________________________________________________\n",
            "conv1d_4 (Conv1D)               (None, 13, 32)       6176        max_pooling1d_2[0][0]            \n",
            "__________________________________________________________________________________________________\n",
            "embedding_10 (Embedding)        (None, 100, 128)     64000       input_6[0][0]                    \n",
            "__________________________________________________________________________________________________\n",
            "global_max_pooling1d_2 (GlobalM (None, 32)           0           conv1d_4[0][0]                   \n",
            "__________________________________________________________________________________________________\n",
            "simple_rnn_3 (SimpleRNN)        (None, 20)           2980        embedding_10[0][0]               \n",
            "__________________________________________________________________________________________________\n",
            "dense_4 (Dense)                 (None, 1)            33          global_max_pooling1d_2[0][0]     \n",
            "__________________________________________________________________________________________________\n",
            "dense_5 (Dense)                 (None, 1)            21          simple_rnn_3[0][0]               \n",
            "__________________________________________________________________________________________________\n",
            "average_1 (Average)             (None, 1)            0           dense_4[0][0]                    \n",
            "                                                                 dense_5[0][0]                    \n",
            "==================================================================================================\n",
            "Total params: 165,914\n",
            "Trainable params: 165,914\n",
            "Non-trainable params: 0\n",
            "__________________________________________________________________________________________________\n"
          ],
          "name": "stdout"
        }
      ]
    },
    {
      "cell_type": "code",
      "metadata": {
        "id": "BpKWFVGBVuAK",
        "colab_type": "code",
        "colab": {}
      },
      "source": [
        "ensemble_model.compile(optimizer=tf.keras.optimizers.Adam(0.001), loss='binary_crossentropy', metrics=['acc'])"
      ],
      "execution_count": 42,
      "outputs": []
    },
    {
      "cell_type": "code",
      "metadata": {
        "id": "egF0m8FcWDoR",
        "colab_type": "code",
        "colab": {
          "base_uri": "https://localhost:8080/",
          "height": 369
        },
        "outputId": "ab6f0718-22d5-4fbd-fd67-4282dcb713e8"
      },
      "source": [
        "history = ensemble_model.fit(x_train_seq, y_train_all, epochs=10, batch_size=128)"
      ],
      "execution_count": 43,
      "outputs": [
        {
          "output_type": "stream",
          "text": [
            "Epoch 1/10\n",
            "25000/25000 [==============================] - 26s 1ms/step - loss: 0.6607 - acc: 0.5938\n",
            "Epoch 2/10\n",
            "25000/25000 [==============================] - 25s 1ms/step - loss: 0.6013 - acc: 0.6778\n",
            "Epoch 3/10\n",
            "25000/25000 [==============================] - 25s 1ms/step - loss: 0.5817 - acc: 0.6963\n",
            "Epoch 4/10\n",
            "25000/25000 [==============================] - 25s 1ms/step - loss: 0.5682 - acc: 0.7081\n",
            "Epoch 5/10\n",
            "25000/25000 [==============================] - 25s 1ms/step - loss: 0.5569 - acc: 0.7167\n",
            "Epoch 6/10\n",
            "25000/25000 [==============================] - 25s 1ms/step - loss: 0.5459 - acc: 0.7255\n",
            "Epoch 7/10\n",
            "25000/25000 [==============================] - 25s 1ms/step - loss: 0.5358 - acc: 0.7336\n",
            "Epoch 8/10\n",
            "25000/25000 [==============================] - 25s 1ms/step - loss: 0.5249 - acc: 0.7430\n",
            "Epoch 9/10\n",
            "25000/25000 [==============================] - 25s 1ms/step - loss: 0.5147 - acc: 0.7521\n",
            "Epoch 10/10\n",
            "25000/25000 [==============================] - 26s 1ms/step - loss: 0.5029 - acc: 0.7587\n"
          ],
          "name": "stdout"
        }
      ]
    },
    {
      "cell_type": "code",
      "metadata": {
        "id": "k-IdL8NuXSPL",
        "colab_type": "code",
        "colab": {
          "base_uri": "https://localhost:8080/",
          "height": 34
        },
        "outputId": "cdd8ae78-05f9-401f-de56-85b0d77309a9"
      },
      "source": [
        "print(history.history['acc'])"
      ],
      "execution_count": 44,
      "outputs": [
        {
          "output_type": "stream",
          "text": [
            "[0.59376, 0.67776, 0.69632, 0.70808, 0.71668, 0.72548, 0.73364, 0.74304, 0.75208, 0.75872]\n"
          ],
          "name": "stdout"
        }
      ]
    },
    {
      "cell_type": "code",
      "metadata": {
        "id": "HJVhhC2plSRU",
        "colab_type": "code",
        "colab": {
          "base_uri": "https://localhost:8080/",
          "height": 175
        },
        "outputId": "ad25850e-536e-4690-aea0-571e34425208"
      },
      "source": [
        "ensemble_model.predict(x_train_seq)[0:9] # 훈련 데이터의 첫번째 예측치이다."
      ],
      "execution_count": 47,
      "outputs": [
        {
          "output_type": "execute_result",
          "data": {
            "text/plain": [
              "array([[0.36376274],\n",
              "       [0.2082777 ],\n",
              "       [0.13261694],\n",
              "       [0.3404683 ],\n",
              "       [0.24681291],\n",
              "       [0.60040665],\n",
              "       [0.75392747],\n",
              "       [0.43278816],\n",
              "       [0.79250693]], dtype=float32)"
            ]
          },
          "metadata": {
            "tags": []
          },
          "execution_count": 47
        }
      ]
    },
    {
      "cell_type": "code",
      "metadata": {
        "id": "_DMhx1TQlyzY",
        "colab_type": "code",
        "colab": {
          "base_uri": "https://localhost:8080/",
          "height": 34
        },
        "outputId": "3249d4ed-24c9-4e01-fdc0-502438661e6f"
      },
      "source": [
        "y_train_all[0:9]"
      ],
      "execution_count": 48,
      "outputs": [
        {
          "output_type": "execute_result",
          "data": {
            "text/plain": [
              "array([1, 0, 0, 1, 0, 0, 1, 0, 1])"
            ]
          },
          "metadata": {
            "tags": []
          },
          "execution_count": 48
        }
      ]
    },
    {
      "cell_type": "markdown",
      "metadata": {
        "id": "Hp9qm9UnmTWg",
        "colab_type": "text"
      },
      "source": [
        "이제 앙상블 모델을 다른 형태로 만들어 본다."
      ]
    },
    {
      "cell_type": "code",
      "metadata": {
        "id": "1ehHYdnctZB6",
        "colab_type": "code",
        "colab": {
          "base_uri": "https://localhost:8080/",
          "height": 34
        },
        "outputId": "c5252005-dcfa-44ea-844d-64a3f0845118"
      },
      "source": [
        "(x_train_all, y_train_all), (x_test, y_test) = imdb.load_data(skip_top=20, num_words=100)\n",
        "\n",
        "from tensorflow.keras.preprocessing import sequence\n",
        "\n",
        "max_features = 1000\n",
        "max_len=100\n",
        "x_train_seq1 = sequence.pad_sequences(x_train_all, maxlen=max_len)\n",
        "x_train_seq2 = sequence.pad_sequences(x_train_all, maxlen=max_len)\n",
        "\n",
        "\n",
        "print(x_train_seq1.shape)"
      ],
      "execution_count": 101,
      "outputs": [
        {
          "output_type": "stream",
          "text": [
            "(25000, 100)\n"
          ],
          "name": "stdout"
        }
      ]
    },
    {
      "cell_type": "code",
      "metadata": {
        "id": "9dUZu0Uim4y3",
        "colab_type": "code",
        "colab": {}
      },
      "source": [
        "from keras.layers.merge import concatenate"
      ],
      "execution_count": 52,
      "outputs": []
    },
    {
      "cell_type": "code",
      "metadata": {
        "id": "nd8T9POSnCZJ",
        "colab_type": "code",
        "colab": {}
      },
      "source": [
        "input_tensor1 = Input(shape=(100,)) # shape=(input_dim,)\n",
        "h_conv = Embedding(500, 128)(input_tensor1)\n",
        "h_conv = Conv1D(32, 7, activation = 'relu')(h_conv)\n",
        "h_conv = MaxPooling1D(5)(h_conv)\n",
        "h_conv = Conv1D(32, 6, activation='relu')(h_conv)\n",
        "h_conv = GlobalMaxPooling1D()(h_conv)\n",
        "o_conv = Dense(1, activation = 'sigmoid')(h_conv)\n",
        "\n",
        "input_tensor2 = Input(shape=(100,)) # shape=(input_dim,)\n",
        "h_rnn = Embedding(500, 128)(input_tensor2)\n",
        "h_rnn = SimpleRNN(20)(h_rnn)\n",
        "o_rnn = Dense(1, activation='sigmoid')(h_rnn)\n",
        "\n",
        "merged_model = concatenate([o_conv, o_rnn]) # concatenate는 이어붙이기를 의미한다.\n",
        "\n",
        "output = Dense(1,activation='sigmoid')(merged_model)\n",
        "\n",
        "model_ensem_con = Model(inputs=[input_tensor1, input_tensor2], outputs=output)"
      ],
      "execution_count": 81,
      "outputs": []
    },
    {
      "cell_type": "code",
      "metadata": {
        "id": "GI1GIKVZqxk9",
        "colab_type": "code",
        "colab": {
          "base_uri": "https://localhost:8080/",
          "height": 633
        },
        "outputId": "793ef0be-c814-4be5-9715-c15d326d1bdf"
      },
      "source": [
        "model_ensem_con.summary()"
      ],
      "execution_count": 82,
      "outputs": [
        {
          "output_type": "stream",
          "text": [
            "Model: \"model_7\"\n",
            "__________________________________________________________________________________________________\n",
            "Layer (type)                    Output Shape         Param #     Connected to                     \n",
            "==================================================================================================\n",
            "input_16 (InputLayer)           (None, 100)          0                                            \n",
            "__________________________________________________________________________________________________\n",
            "embedding_23 (Embedding)        (None, 100, 128)     64000       input_16[0][0]                   \n",
            "__________________________________________________________________________________________________\n",
            "conv1d_17 (Conv1D)              (None, 94, 32)       28704       embedding_23[0][0]               \n",
            "__________________________________________________________________________________________________\n",
            "max_pooling1d_9 (MaxPooling1D)  (None, 18, 32)       0           conv1d_17[0][0]                  \n",
            "__________________________________________________________________________________________________\n",
            "input_17 (InputLayer)           (None, 100)          0                                            \n",
            "__________________________________________________________________________________________________\n",
            "conv1d_18 (Conv1D)              (None, 13, 32)       6176        max_pooling1d_9[0][0]            \n",
            "__________________________________________________________________________________________________\n",
            "embedding_24 (Embedding)        (None, 100, 128)     64000       input_17[0][0]                   \n",
            "__________________________________________________________________________________________________\n",
            "global_max_pooling1d_9 (GlobalM (None, 32)           0           conv1d_18[0][0]                  \n",
            "__________________________________________________________________________________________________\n",
            "simple_rnn_10 (SimpleRNN)       (None, 20)           2980        embedding_24[0][0]               \n",
            "__________________________________________________________________________________________________\n",
            "dense_23 (Dense)                (None, 1)            33          global_max_pooling1d_9[0][0]     \n",
            "__________________________________________________________________________________________________\n",
            "dense_24 (Dense)                (None, 1)            21          simple_rnn_10[0][0]              \n",
            "__________________________________________________________________________________________________\n",
            "concatenate_9 (Concatenate)     (None, 2)            0           dense_23[0][0]                   \n",
            "                                                                 dense_24[0][0]                   \n",
            "__________________________________________________________________________________________________\n",
            "dense_25 (Dense)                (None, 1)            3           concatenate_9[0][0]              \n",
            "==================================================================================================\n",
            "Total params: 165,917\n",
            "Trainable params: 165,917\n",
            "Non-trainable params: 0\n",
            "__________________________________________________________________________________________________\n"
          ],
          "name": "stdout"
        }
      ]
    },
    {
      "cell_type": "code",
      "metadata": {
        "id": "dxWgpmphq9Z6",
        "colab_type": "code",
        "colab": {}
      },
      "source": [
        "model_ensem_con.compile(optimizer=tf.keras.optimizers.Adam(0.001), loss='binary_crossentropy', metrics=['acc'])"
      ],
      "execution_count": 99,
      "outputs": []
    },
    {
      "cell_type": "code",
      "metadata": {
        "id": "lVewhGR4rDsL",
        "colab_type": "code",
        "colab": {
          "base_uri": "https://localhost:8080/",
          "height": 386
        },
        "outputId": "18cae4db-ee37-46c2-a335-95ffbfadf70c"
      },
      "source": [
        "model_ensem_con.fit([x_train_seq1, x_train_seq2], y_train_all, epochs=10, batch_size=128)"
      ],
      "execution_count": 102,
      "outputs": [
        {
          "output_type": "stream",
          "text": [
            "Epoch 1/10\n",
            "25000/25000 [==============================] - 29s 1ms/step - loss: 0.6723 - acc: 0.5984\n",
            "Epoch 2/10\n",
            "25000/25000 [==============================] - 29s 1ms/step - loss: 0.6681 - acc: 0.6046\n",
            "Epoch 3/10\n",
            "25000/25000 [==============================] - 29s 1ms/step - loss: 0.6633 - acc: 0.6155\n",
            "Epoch 4/10\n",
            "25000/25000 [==============================] - 29s 1ms/step - loss: 0.6655 - acc: 0.6134\n",
            "Epoch 5/10\n",
            "25000/25000 [==============================] - 29s 1ms/step - loss: 0.6623 - acc: 0.6198\n",
            "Epoch 6/10\n",
            "25000/25000 [==============================] - 29s 1ms/step - loss: 0.6631 - acc: 0.6161\n",
            "Epoch 7/10\n",
            "25000/25000 [==============================] - 30s 1ms/step - loss: 0.6617 - acc: 0.6190\n",
            "Epoch 8/10\n",
            "25000/25000 [==============================] - 29s 1ms/step - loss: 0.6605 - acc: 0.6232\n",
            "Epoch 9/10\n",
            "25000/25000 [==============================] - 29s 1ms/step - loss: 0.6617 - acc: 0.6197\n",
            "Epoch 10/10\n",
            "25000/25000 [==============================] - 29s 1ms/step - loss: 0.6596 - acc: 0.6221\n"
          ],
          "name": "stdout"
        },
        {
          "output_type": "execute_result",
          "data": {
            "text/plain": [
              "<keras.callbacks.callbacks.History at 0x7f6a049a7e80>"
            ]
          },
          "metadata": {
            "tags": []
          },
          "execution_count": 102
        }
      ]
    },
    {
      "cell_type": "code",
      "metadata": {
        "id": "ciQ8sDlq912B",
        "colab_type": "code",
        "colab": {
          "base_uri": "https://localhost:8080/",
          "height": 34
        },
        "outputId": "098d5d21-9cb2-43b8-fcbf-8a038688e101"
      },
      "source": [
        "model_ensem_con.predict([x_train_seq1, x_train_seq2])[0][0]"
      ],
      "execution_count": 119,
      "outputs": [
        {
          "output_type": "execute_result",
          "data": {
            "text/plain": [
              "0.42216823"
            ]
          },
          "metadata": {
            "tags": []
          },
          "execution_count": 119
        }
      ]
    },
    {
      "cell_type": "code",
      "metadata": {
        "id": "eXQk8S8ACQaY",
        "colab_type": "code",
        "colab": {
          "base_uri": "https://localhost:8080/",
          "height": 34
        },
        "outputId": "d7d5e6f1-73b2-4b85-f30f-b6035c346365"
      },
      "source": [
        "y_train_all[0]"
      ],
      "execution_count": 121,
      "outputs": [
        {
          "output_type": "execute_result",
          "data": {
            "text/plain": [
              "1"
            ]
          },
          "metadata": {
            "tags": []
          },
          "execution_count": 121
        }
      ]
    },
    {
      "cell_type": "code",
      "metadata": {
        "id": "7aZc0zIa-Cn3",
        "colab_type": "code",
        "colab": {
          "base_uri": "https://localhost:8080/",
          "height": 545
        },
        "outputId": "1a5eec4c-505a-413d-e9be-f194f9b1b930"
      },
      "source": [
        "con = 0\n",
        "\n",
        "for i in range(30):\n",
        "  a = model_ensem_con.predict([x_train_seq1, x_train_seq2])[i]\n",
        "  if a >= 0.5:\n",
        "    a = 1\n",
        "  else:\n",
        "    a = 0\n",
        "  if a == y_train_all[i]:\n",
        "    con = con + 1\n",
        "  print(con/30)\n",
        "\n"
      ],
      "execution_count": 124,
      "outputs": [
        {
          "output_type": "stream",
          "text": [
            "0.0\n",
            "0.03333333333333333\n",
            "0.06666666666666667\n",
            "0.06666666666666667\n",
            "0.1\n",
            "0.1\n",
            "0.13333333333333333\n",
            "0.16666666666666666\n",
            "0.16666666666666666\n",
            "0.2\n",
            "0.23333333333333334\n",
            "0.23333333333333334\n",
            "0.26666666666666666\n",
            "0.26666666666666666\n",
            "0.26666666666666666\n",
            "0.3\n",
            "0.3333333333333333\n",
            "0.3333333333333333\n",
            "0.36666666666666664\n",
            "0.36666666666666664\n",
            "0.4\n",
            "0.43333333333333335\n",
            "0.4666666666666667\n",
            "0.4666666666666667\n",
            "0.5\n",
            "0.5\n",
            "0.5\n",
            "0.5333333333333333\n",
            "0.5666666666666667\n",
            "0.6\n"
          ],
          "name": "stdout"
        }
      ]
    },
    {
      "cell_type": "code",
      "metadata": {
        "id": "XiB0B3kP-Frf",
        "colab_type": "code",
        "colab": {}
      },
      "source": [
        ""
      ],
      "execution_count": null,
      "outputs": []
    }
  ]
}