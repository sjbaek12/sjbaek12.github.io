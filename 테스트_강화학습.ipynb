{
  "nbformat": 4,
  "nbformat_minor": 0,
  "metadata": {
    "colab": {
      "name": "테스트 강화학습",
      "provenance": [],
      "collapsed_sections": [],
      "authorship_tag": "ABX9TyM75C8U7tH/+N4kMPN3oWtI",
      "include_colab_link": true
    },
    "kernelspec": {
      "name": "python3",
      "display_name": "Python 3"
    }
  },
  "cells": [
    {
      "cell_type": "markdown",
      "metadata": {
        "id": "view-in-github",
        "colab_type": "text"
      },
      "source": [
        "<a href=\"https://colab.research.google.com/github/sjbaek12/sjbaek12.github.io/blob/master/%ED%85%8C%EC%8A%A4%ED%8A%B8_%EA%B0%95%ED%99%94%ED%95%99%EC%8A%B5.ipynb\" target=\"_parent\"><img src=\"https://colab.research.google.com/assets/colab-badge.svg\" alt=\"Open In Colab\"/></a>"
      ]
    },
    {
      "cell_type": "markdown",
      "metadata": {
        "id": "PbNzyGr1xgti",
        "colab_type": "text"
      },
      "source": [
        "어떤 상태에서 특정한 액션을 취하면 리워드가 발생한다.\n",
        "정책신경망에서 어떤 상태일때 액선이 산출되고 그 산출로 인한 리워드가 최대가 되도록 정책신경망의 가중치를 조정한다. 그러면 리워드가 최대가 되는 액션을 산출하는 정책신경망이 될 것이다. \n",
        "\n",
        "loss함수는 리워드가 최대가 되는 액션을 산출했을 때, 마이너스 무한대가 되도록 조정하면 된다. "
      ]
    },
    {
      "cell_type": "markdown",
      "metadata": {
        "id": "n5zyxmm_KOAe",
        "colab_type": "text"
      },
      "source": [
        "먼저 LSTM과 일반적 deep learning 모델을 비교해본 결과 fit 능력에서 차이는 없었다."
      ]
    },
    {
      "cell_type": "code",
      "metadata": {
        "id": "uoNYrqyWxhgZ",
        "colab_type": "code",
        "colab": {}
      },
      "source": [
        "import numpy as np\n",
        "import matplotlib.pyplot as plt"
      ],
      "execution_count": 1,
      "outputs": []
    },
    {
      "cell_type": "code",
      "metadata": {
        "id": "rDPyv4nbyYRY",
        "colab_type": "code",
        "colab": {
          "base_uri": "https://localhost:8080/",
          "height": 265
        },
        "outputId": "8b8495a7-ea37-4356-c163-361c93ef0b05"
      },
      "source": [
        "# 환경 모듈\n",
        "\n",
        "def env():\n",
        "  start_price = 3\n",
        "  pricej=[]\n",
        "  for i in range(50):\n",
        "    change = np.random.rand(1)*1.2\n",
        "    direction = np.random.choice(2, p=[0.5, 0.5])\n",
        "    if direction == 1:\n",
        "      if start_price - change[0] <= 0:\n",
        "         p = 1.0\n",
        "      else:\n",
        "         p = start_price - change[0]     \n",
        "    else: \n",
        "      p = start_price + change[0] \n",
        "    start_price = p\n",
        "    pricej.append(p)\n",
        "#  p_mean = np.mean(price)\n",
        "#  p_std = np.std(price)\n",
        "#  price = (price - p_mean)/p_std\n",
        "  \n",
        "  p_serise= []\n",
        "  for i in range(46):\n",
        "    serise = [pricej[i],pricej[i+1], pricej[i+2], pricej[i+3], pricej[i+4]]\n",
        "    serise = np.array(serise)\n",
        "    p_serise.append(serise)\n",
        "  p_serise= p_serise[0:50]\n",
        "  p_serise = np.array(p_serise)\n",
        "  #p_serise = p_serise.reshape(25, 5, 1)  # LSTM을 사용할 때 데이터 input 형태\n",
        "  price_lstm = pricej[5:]\n",
        "  price_lstm = np.array(price_lstm)\n",
        "  return pricej, p_serise, price_lstm\n",
        "\n",
        "pricej, p_serise, price_lstm = env()\n",
        "plt.plot(price_lstm)\n",
        "plt.show()"
      ],
      "execution_count": 2,
      "outputs": [
        {
          "output_type": "display_data",
          "data": {
            "image/png": "[encoded data removed]",
            "text/plain": [
              "<Figure size 432x288 with 1 Axes>"
            ]
          },
          "metadata": {
            "tags": [],
            "needs_background": "light"
          }
        }
      ]
    },
    {
      "cell_type": "code",
      "metadata": {
        "id": "GxlziTCzn5mc",
        "colab_type": "code",
        "colab": {
          "base_uri": "https://localhost:8080/",
          "height": 826
        },
        "outputId": "7613c38d-7071-4f45-d3fe-00e3ebea7c69"
      },
      "source": [
        "p_serise"
      ],
      "execution_count": 3,
      "outputs": [
        {
          "output_type": "execute_result",
          "data": {
            "text/plain": [
              "array([[3.35927623, 2.40476142, 2.92242428, 1.8410657 , 0.92937611],\n",
              "       [2.40476142, 2.92242428, 1.8410657 , 0.92937611, 0.54346255],\n",
              "       [2.92242428, 1.8410657 , 0.92937611, 0.54346255, 0.23605621],\n",
              "       [1.8410657 , 0.92937611, 0.54346255, 0.23605621, 1.41145595],\n",
              "       [0.92937611, 0.54346255, 0.23605621, 1.41145595, 1.23450267],\n",
              "       [0.54346255, 0.23605621, 1.41145595, 1.23450267, 0.48761952],\n",
              "       [0.23605621, 1.41145595, 1.23450267, 0.48761952, 0.17167691],\n",
              "       [1.41145595, 1.23450267, 0.48761952, 0.17167691, 1.        ],\n",
              "       [1.23450267, 0.48761952, 0.17167691, 1.        , 0.47825232],\n",
              "       [0.48761952, 0.17167691, 1.        , 0.47825232, 0.50940625],\n",
              "       [0.17167691, 1.        , 0.47825232, 0.50940625, 0.95238286],\n",
              "       [1.        , 0.47825232, 0.50940625, 0.95238286, 1.84695148],\n",
              "       [0.47825232, 0.50940625, 0.95238286, 1.84695148, 1.03346688],\n",
              "       [0.50940625, 0.95238286, 1.84695148, 1.03346688, 1.35783699],\n",
              "       [0.95238286, 1.84695148, 1.03346688, 1.35783699, 0.19204684],\n",
              "       [1.84695148, 1.03346688, 1.35783699, 0.19204684, 0.54636413],\n",
              "       [1.03346688, 1.35783699, 0.19204684, 0.54636413, 0.72993214],\n",
              "       [1.35783699, 0.19204684, 0.54636413, 0.72993214, 1.        ],\n",
              "       [0.19204684, 0.54636413, 0.72993214, 1.        , 1.07636778],\n",
              "       [0.54636413, 0.72993214, 1.        , 1.07636778, 0.99164854],\n",
              "       [0.72993214, 1.        , 1.07636778, 0.99164854, 1.10006895],\n",
              "       [1.        , 1.07636778, 0.99164854, 1.10006895, 0.84741512],\n",
              "       [1.07636778, 0.99164854, 1.10006895, 0.84741512, 1.21922389],\n",
              "       [0.99164854, 1.10006895, 0.84741512, 1.21922389, 2.13627031],\n",
              "       [1.10006895, 0.84741512, 1.21922389, 2.13627031, 1.59902185],\n",
              "       [0.84741512, 1.21922389, 2.13627031, 1.59902185, 2.38661942],\n",
              "       [1.21922389, 2.13627031, 1.59902185, 2.38661942, 1.68876925],\n",
              "       [2.13627031, 1.59902185, 2.38661942, 1.68876925, 2.50871236],\n",
              "       [1.59902185, 2.38661942, 1.68876925, 2.50871236, 2.40155882],\n",
              "       [2.38661942, 1.68876925, 2.50871236, 2.40155882, 2.82200948],\n",
              "       [1.68876925, 2.50871236, 2.40155882, 2.82200948, 3.00181159],\n",
              "       [2.50871236, 2.40155882, 2.82200948, 3.00181159, 2.03801113],\n",
              "       [2.40155882, 2.82200948, 3.00181159, 2.03801113, 2.01269666],\n",
              "       [2.82200948, 3.00181159, 2.03801113, 2.01269666, 2.48593635],\n",
              "       [3.00181159, 2.03801113, 2.01269666, 2.48593635, 3.5023701 ],\n",
              "       [2.03801113, 2.01269666, 2.48593635, 3.5023701 , 3.65819214],\n",
              "       [2.01269666, 2.48593635, 3.5023701 , 3.65819214, 3.54618331],\n",
              "       [2.48593635, 3.5023701 , 3.65819214, 3.54618331, 2.44677629],\n",
              "       [3.5023701 , 3.65819214, 3.54618331, 2.44677629, 3.48820114],\n",
              "       [3.65819214, 3.54618331, 2.44677629, 3.48820114, 4.30356984],\n",
              "       [3.54618331, 2.44677629, 3.48820114, 4.30356984, 3.86047857],\n",
              "       [2.44677629, 3.48820114, 4.30356984, 3.86047857, 3.24318022],\n",
              "       [3.48820114, 4.30356984, 3.86047857, 3.24318022, 3.92937259],\n",
              "       [4.30356984, 3.86047857, 3.24318022, 3.92937259, 4.01749698],\n",
              "       [3.86047857, 3.24318022, 3.92937259, 4.01749698, 4.82489531],\n",
              "       [3.24318022, 3.92937259, 4.01749698, 4.82489531, 5.54006301]])"
            ]
          },
          "metadata": {
            "tags": []
          },
          "execution_count": 3
        }
      ]
    },
    {
      "cell_type": "code",
      "metadata": {
        "id": "2WyzYpCB2j4F",
        "colab_type": "code",
        "colab": {
          "base_uri": "https://localhost:8080/",
          "height": 34
        },
        "outputId": "e49b9a96-effc-4d5a-a218-4b4814b40e70"
      },
      "source": [
        "len(p_serise)"
      ],
      "execution_count": null,
      "outputs": [
        {
          "output_type": "execute_result",
          "data": {
            "text/plain": [
              "46"
            ]
          },
          "metadata": {
            "tags": []
          },
          "execution_count": 61
        }
      ]
    },
    {
      "cell_type": "markdown",
      "metadata": {
        "id": "OF674qQ2GKZa",
        "colab_type": "text"
      },
      "source": [
        "여기서부터 정책경사"
      ]
    },
    {
      "cell_type": "markdown",
      "metadata": {
        "id": "87QBKemz9z2Q",
        "colab_type": "text"
      },
      "source": [
        "여기부터가 에이전트에 해당하는 부분이다."
      ]
    },
    {
      "cell_type": "code",
      "metadata": {
        "id": "4Dg0NdtSsQhu",
        "colab_type": "code",
        "colab": {}
      },
      "source": [
        "#정책망이 예측한 대로 action을 선택한다.\n",
        "\n",
        "def action_choice(p_serise):\n",
        "  act = model_predict.predict(p_serise)\n",
        "  #act = np.argmax(act)\n",
        "  return act"
      ],
      "execution_count": 4,
      "outputs": []
    },
    {
      "cell_type": "code",
      "metadata": {
        "id": "bnKwo9vgVKMI",
        "colab_type": "code",
        "colab": {}
      },
      "source": [
        "# action_choice가 선택한 행동을 balance에 대비해서 가능한 행동인지 점검하고 틀린 경우 가능한 액션을 제시한다.\n",
        "# 당초 0 매수, 1 매도를 --> 0 매수, 1 hold, 2 매도로 전환 \n",
        "# 그리고 현재의 밸러스는 before 밸런스로 기록을 남긴다.\n",
        "\n",
        "def action_validate(act, price, balance):\n",
        "  if act == 0:\n",
        "    if balance[0] - price < 0:\n",
        "      act_v = 1\n",
        "    else:\n",
        "      act_v = 0\n",
        "        \n",
        "  if act == 1:\n",
        "    if balance[2] > 0 :\n",
        "      act_v = 2\n",
        "    else:\n",
        "      act_v = 1\n",
        "\n",
        "  before_act_balance = [balance[0], balance[1], balance[2]] \n",
        "\n",
        "  return act_v, before_act_balance"
      ],
      "execution_count": 5,
      "outputs": []
    },
    {
      "cell_type": "code",
      "metadata": {
        "id": "Tk6ddnSXxN2r",
        "colab_type": "code",
        "colab": {}
      },
      "source": [
        "# 검증이 완료된 행동으로 현재 밸런스를 갱신하고, 현재 가치를 구한다.\n",
        "\n",
        "def balance_update(balance, price, act_v):\n",
        "  if act_v == 0:\n",
        "    balance[0] = balance[0] - price\n",
        "    balance[1] = price\n",
        "    balance[2] = balance[2] + 1\n",
        "  if act_v == 1:\n",
        "    balance[1] = price\n",
        "  if act_v == 2:\n",
        "    balance[0] = balance[0] + price\n",
        "    balance[1] = price\n",
        "    balance[2] = balance[2] -1\n",
        "  balance_updated = [balance[0], balance[1], balance[2]] \n",
        "  present_value = balance[0] + balance[1] * balance[2]\n",
        "  return balance_updated, present_value"
      ],
      "execution_count": 6,
      "outputs": []
    },
    {
      "cell_type": "code",
      "metadata": {
        "id": "9BqjV5MRGBy0",
        "colab_type": "code",
        "colab": {}
      },
      "source": [
        "# 이전의 밸런스와 현재 밸런스와의 비율을 구한다.\n",
        "\n",
        "def pv_ratio_cal(before_act_balance, balance_updated):\n",
        "  pv_ratio = (balance_updated[0] + balance_updated[1] * balance_updated[2])/(before_act_balance[0] + before_act_balance[1] * before_act_balance[2])\n",
        "  return pv_ratio"
      ],
      "execution_count": 7,
      "outputs": []
    },
    {
      "cell_type": "code",
      "metadata": {
        "id": "ij5NYQ8QHfE7",
        "colab_type": "code",
        "colab": {}
      },
      "source": [
        "# delayed reward를 구하기 위해서 기준 포트폴리오와 현재 밸런스의 비율을 구하고, 타겟 비율을 넘는지 확인한다.\n",
        "# 만약 target을 넘으면 base_pv를 present_value를 변경한다.\n",
        "\n",
        "def base_to_cur (base_pv, present_value, target_ratio):\n",
        "  delay_ratio = (present_value - base_pv) / base_pv\n",
        "  if delay_ratio > target_ratio:\n",
        "    target = 1\n",
        "    base_pv = present_value\n",
        "  elif (-1 * delay_ratio) > target_ratio:\n",
        "    target = -1\n",
        "    base_pv = present_value\n",
        "  else:\n",
        "    target = 0\n",
        "    base_pv = base_pv\n",
        "  return delay_ratio, target, base_pv"
      ],
      "execution_count": 8,
      "outputs": []
    },
    {
      "cell_type": "markdown",
      "metadata": {
        "id": "1T8GyzQga6Dd",
        "colab_type": "text"
      },
      "source": [
        ""
      ]
    },
    {
      "cell_type": "code",
      "metadata": {
        "id": "ZG19QI3YAYcW",
        "colab_type": "code",
        "colab": {}
      },
      "source": [
        "# 거래와 관련된 모든 것을 기록한다.\n",
        "\n",
        "def record(i, price, act_v, balance_updated, present_value, pv_ratio, delay_ratio, target, base_pv):\n",
        "\n",
        "  transaction_history.append([i, price, act_v, balance_updated, present_value, pv_ratio,delay_ratio, target, base_pv])\n",
        "  return transaction_history"
      ],
      "execution_count": 10,
      "outputs": []
    },
    {
      "cell_type": "code",
      "metadata": {
        "id": "fSqTmJ2bGAL8",
        "colab_type": "code",
        "colab": {}
      },
      "source": [
        "# 학습을 위한 배치 데이터를 만든다.\n",
        "\n",
        "def get_batch(transaction_history):\n",
        "\n",
        "  for i in range(len(transaction_history)):\n",
        "    if transaction_history[i][7] == 1:\n",
        "      y = []\n",
        "      for j in range(i+1):\n",
        "        if transaction_history[j][2] == 0:\n",
        "          y.append([1.0, 0.0])\n",
        "        if transaction_history[j][2] == 2:\n",
        "          y.append([0.0, 1.0])\n",
        "        if transaction_history[j][2] == 1:   # 궁색하다.\n",
        "          y.append([1.0, 0.0])\n",
        "      price_data = [p_serise[j] for j in range(i+1)] \n",
        "\n",
        "      # 학습의 방향을 정해야 하는데 여기 문제가 있다. 구매는 0, 홀드는 1, 매도는 1이다.\n",
        "      # 이를 다시 정책신경망의 y 값으로 제공하기 위해서는 매수, 매도 각각 y값으로 만들어야 함으로\n",
        "      # 0은 매수 y는 [1,0, 0.0] 1은 [1.0, 0.0] 또는 [0.0, 1.0], 2는 [0.0, 1.0]으로 재가공\n",
        "\n",
        "\n",
        "    elif transaction_history[i][7] == -1:\n",
        "      y = []\n",
        "      for j in range(i+1):\n",
        "        if transaction_history[j][2] == 0:\n",
        "          y.append([0.0, 1.0])\n",
        "        if transaction_history[j][2] == 2:\n",
        "          y.append([1.0, 0.0])\n",
        "        if transaction_history[j][2] == 1:   # 궁색하다.\n",
        "          y.append([1.0, 0.0])\n",
        "      price_data = [p_serise[j] for j in range(i+1)] \n",
        "\n",
        "    else:\n",
        "      a  = np.random.choice(2, p=[0.5, 0.5])\n",
        "      if a == 1:\n",
        "        rand_choice = [1.0, 0.0]\n",
        "      else:\n",
        "        rand_choice = [0.0, 1.0]\n",
        "      y = [rand_choice for j in range(i+1)]   \n",
        "      price_data = [p_serise[j] for j in range(i+1)]    \n",
        "\n",
        "  return y, price_data"
      ],
      "execution_count": 11,
      "outputs": []
    },
    {
      "cell_type": "code",
      "metadata": {
        "id": "8H2uo6DtiBFK",
        "colab_type": "code",
        "colab": {}
      },
      "source": [
        ""
      ],
      "execution_count": null,
      "outputs": []
    },
    {
      "cell_type": "markdown",
      "metadata": {
        "id": "FOo8LTuXyI5E",
        "colab_type": "text"
      },
      "source": [
        "여기부터는 정책신경망 이다."
      ]
    },
    {
      "cell_type": "code",
      "metadata": {
        "id": "BD4QALBQyNEe",
        "colab_type": "code",
        "colab": {
          "base_uri": "https://localhost:8080/",
          "height": 34
        },
        "outputId": "a0e717bc-d940-434e-a032-8e6551261e46"
      },
      "source": [
        "from tensorflow.keras.utils import to_categorical\n",
        "from tensorflow import keras\n",
        "import keras.layers as layers\n",
        "from keras.layers import LSTM, Dense\n",
        "from keras.models import Model, Sequential\n",
        "from keras.optimizers import Adam, RMSprop\n",
        "from keras.initializers import glorot_uniform\n",
        "from keras.callbacks import ModelCheckpoint, EarlyStopping\n",
        "import keras.backend as K  # 케라스의 backend를 K. 형식으로 호출하는 것이고 여기서는 tensorflow이다."
      ],
      "execution_count": 12,
      "outputs": [
        {
          "output_type": "stream",
          "text": [
            "Using TensorFlow backend.\n"
          ],
          "name": "stderr"
        }
      ]
    },
    {
      "cell_type": "code",
      "metadata": {
        "id": "sqfrHL4syNWQ",
        "colab_type": "code",
        "colab": {}
      },
      "source": [
        "def get_policy_model(lr):\n",
        "  inp_L = layers.Input(shape=(5,),name=\"input_L\")\n",
        "  dense_L = Dense(64)(inp_L)\n",
        "  output_s = layers.Dense(2, activation=\"sigmoid\",kernel_initializer=glorot_uniform(seed=42), use_bias=False, kernel_regularizer=keras.regularizers.l2(0.001), name=\"out\")(dense_L)\n",
        "\n",
        "  model_train = Model(inputs=inp_L, outputs = output_s)\n",
        "\n",
        "  model_train.compile(loss='mse', optimizer=Adam(lr), metrics = ['mae'])\n",
        "  model_predict = Model(inputs=inp_L, outputs = output_s)\n",
        "  return model_train, model_predict"
      ],
      "execution_count": 13,
      "outputs": []
    },
    {
      "cell_type": "code",
      "metadata": {
        "id": "sdiXiLhjyTSI",
        "colab_type": "code",
        "colab": {}
      },
      "source": [
        "model_train, model_predict = get_policy_model(0.001)"
      ],
      "execution_count": 14,
      "outputs": []
    },
    {
      "cell_type": "code",
      "metadata": {
        "id": "D_441GjMyNl1",
        "colab_type": "code",
        "colab": {
          "base_uri": "https://localhost:8080/",
          "height": 263
        },
        "outputId": "d2ad1a0e-d514-4c05-cf5e-8ceff3527c72"
      },
      "source": [
        "model_train.summary()"
      ],
      "execution_count": 15,
      "outputs": [
        {
          "output_type": "stream",
          "text": [
            "Model: \"model_1\"\n",
            "_________________________________________________________________\n",
            "Layer (type)                 Output Shape              Param #   \n",
            "=================================================================\n",
            "input_L (InputLayer)         (None, 5)                 0         \n",
            "_________________________________________________________________\n",
            "dense_1 (Dense)              (None, 64)                384       \n",
            "_________________________________________________________________\n",
            "out (Dense)                  (None, 2)                 128       \n",
            "=================================================================\n",
            "Total params: 512\n",
            "Trainable params: 512\n",
            "Non-trainable params: 0\n",
            "_________________________________________________________________\n"
          ],
          "name": "stdout"
        }
      ]
    },
    {
      "cell_type": "code",
      "metadata": {
        "id": "NUIxfHNQ6Z5v",
        "colab_type": "code",
        "colab": {}
      },
      "source": [
        ""
      ],
      "execution_count": null,
      "outputs": []
    },
    {
      "cell_type": "code",
      "metadata": {
        "id": "iPLlpOH56Zz4",
        "colab_type": "code",
        "colab": {}
      },
      "source": [
        ""
      ],
      "execution_count": null,
      "outputs": []
    },
    {
      "cell_type": "markdown",
      "metadata": {
        "id": "IZHalhPGCE4J",
        "colab_type": "text"
      },
      "source": [
        "여기부터는 학습의 영역이다."
      ]
    },
    {
      "cell_type": "code",
      "metadata": {
        "id": "8m2KF-e-wFu1",
        "colab_type": "code",
        "colab": {
          "base_uri": "https://localhost:8080/",
          "height": 193
        },
        "outputId": "45c9076f-85f3-41ea-84d5-d23ed80a86e6"
      },
      "source": [
        "# random action과 신경망의 선택 action을 조정해야 한다.\n",
        "\n",
        "\n",
        "num_episode = 0\n",
        "num_episodes = 500\n",
        "transaction_history=[]\n",
        "target_ratio = 0.03\n",
        "\n",
        "history_record = []\n",
        "\n",
        "epsilon = 0.8\n",
        "\n",
        "while num_episode < num_episodes:\n",
        "\n",
        "  balance = [20, 0, 0]\n",
        "  base_pv = 20\n",
        "  \n",
        "\n",
        "  transaction_history=[]\n",
        "\n",
        "  for i in range(len(p_serise)):\n",
        "   \n",
        "    price = p_serise[i][4]\n",
        "\n",
        "    if np.random.rand() < epsilon :\n",
        "      act = np.random.choice(2, p=[0.5, 0.5])\n",
        "    else:\n",
        "      act = model_predict.predict(p_serise)\n",
        "      act =  np.argmax(action_choice(p_serise)[i])\n",
        "   \n",
        "    act_v, before_act_balance = action_validate(act, price, balance)\n",
        "\n",
        "    balance_updated, present_value = balance_update(balance, price, act_v)\n",
        "    pv_ratio = pv_ratio_cal(before_act_balance, balance_updated)\n",
        "   \n",
        "    delay_ratio, target, base_pv = base_to_cur(base_pv, present_value, target_ratio)\n",
        "  \n",
        "    transaction_history = record(i, price, act_v, balance_updated, present_value, pv_ratio, delay_ratio, target, base_pv)\n",
        "\n",
        "    if (target == 1 or target == -1):\n",
        "      y, price_data = get_batch(transaction_history)\n",
        "\n",
        "      price_data = np.array(price_data)\n",
        "      y = np.array(y)\n",
        "      loss = model_train.train_on_batch(price_data, y)\n",
        "\n",
        "      history_record.append(transaction_history)\n",
        "      transaction_history=[]\n",
        "    \n",
        "    else:\n",
        "      continue\n",
        "\n",
        "#      break\n",
        " \n",
        "\n",
        "  \n",
        "# 학습을 위한 batch를 가져온다\n",
        "\n",
        "#  y, price_data = get_batch(transaction_history)\n",
        "\n",
        "#  price_data = np.array(price_data)\n",
        "#  y = np.array(y)\n",
        "\n",
        "#  loss = model_train.train_on_batch(price_data, y)\n",
        "  \n",
        "  if (num_episode+1) % 50 == 0:\n",
        "\n",
        "    print(\"num_episode: \",num_episode+1, \"loss: \", loss[0], \"mse :\", loss[1])\n",
        "\n",
        "  num_episode += 1\n",
        "  epsilon = epsilon / num_episode\n",
        "\n",
        "\n",
        "\n",
        "\n",
        "\n",
        "\n",
        "\n",
        "\n",
        "    "
      ],
      "execution_count": 16,
      "outputs": [
        {
          "output_type": "stream",
          "text": [
            "num_episode:  50 loss:  0.30582666 mse : 0.5353911\n",
            "num_episode:  100 loss:  0.30582666 mse : 0.5353911\n",
            "num_episode:  150 loss:  0.30582666 mse : 0.5353911\n",
            "num_episode:  200 loss:  0.30582666 mse : 0.5353911\n",
            "num_episode:  250 loss:  0.30582666 mse : 0.5353911\n",
            "num_episode:  300 loss:  0.30582666 mse : 0.5353911\n",
            "num_episode:  350 loss:  0.30582666 mse : 0.5353911\n",
            "num_episode:  400 loss:  0.30582666 mse : 0.5353911\n",
            "num_episode:  450 loss:  0.30582666 mse : 0.5353911\n",
            "num_episode:  500 loss:  0.30582666 mse : 0.5353911\n"
          ],
          "name": "stdout"
        }
      ]
    },
    {
      "cell_type": "code",
      "metadata": {
        "id": "5J-rx_enEPrI",
        "colab_type": "code",
        "colab": {
          "base_uri": "https://localhost:8080/",
          "height": 1000
        },
        "outputId": "e70c8740-1abc-4468-8a62-03fee0b196f2"
      },
      "source": [
        "history_record"
      ],
      "execution_count": 17,
      "outputs": [
        {
          "output_type": "execute_result",
          "data": {
            "text/plain": [
              "[[[0,\n",
              "   0.9293761065457646,\n",
              "   0,\n",
              "   [19.070623893454236, 0.9293761065457646, 1],\n",
              "   20.0,\n",
              "   1.0,\n",
              "   0.0,\n",
              "   0,\n",
              "   20],\n",
              "  [1,\n",
              "   0.5434625545235494,\n",
              "   2,\n",
              "   [19.614086447977787, 0.5434625545235494, 0],\n",
              "   19.614086447977787,\n",
              "   0.9807043223988894,\n",
              "   -0.019295677601110662,\n",
              "   0,\n",
              "   20],\n",
              "  [2,\n",
              "   0.236056206786792,\n",
              "   0,\n",
              "   [19.378030241190995, 0.236056206786792, 1],\n",
              "   19.614086447977787,\n",
              "   1.0,\n",
              "   -0.019295677601110662,\n",
              "   0,\n",
              "   20],\n",
              "  [3,\n",
              "   1.4114559516225194,\n",
              "   0,\n",
              "   [17.966574289568477, 1.4114559516225194, 2],\n",
              "   20.789486192813516,\n",
              "   1.059926305920657,\n",
              "   0.03947430964067582,\n",
              "   1,\n",
              "   20.789486192813516]],\n",
              " [[4,\n",
              "   1.2345026714728198,\n",
              "   0,\n",
              "   [16.732071618095656, 1.2345026714728198, 3],\n",
              "   20.435579632514116,\n",
              "   0.9829766567092102,\n",
              "   -0.017023343290789843,\n",
              "   0,\n",
              "   20.789486192813516],\n",
              "  [5,\n",
              "   0.4876195245256648,\n",
              "   0,\n",
              "   [16.24445209356999, 0.4876195245256648, 4],\n",
              "   18.19493019167265,\n",
              "   0.8903554740734405,\n",
              "   -0.12480135281254565,\n",
              "   -1,\n",
              "   18.19493019167265]],\n",
              " [[6,\n",
              "   0.17167691158241932,\n",
              "   2,\n",
              "   [16.41612900515241, 0.17167691158241932, 3],\n",
              "   16.93115973989967,\n",
              "   0.930542715005778,\n",
              "   -0.06945728499422196,\n",
              "   -1,\n",
              "   16.93115973989967]],\n",
              " [[7,\n",
              "   1.0,\n",
              "   0,\n",
              "   [15.41612900515241, 1.0, 4],\n",
              "   19.41612900515241,\n",
              "   1.14676899299442,\n",
              "   0.14676899299441998,\n",
              "   1,\n",
              "   19.41612900515241]],\n",
              " [[8,\n",
              "   0.47825232463416245,\n",
              "   2,\n",
              "   [15.894381329786572, 0.47825232463416245, 3],\n",
              "   17.32913830368906,\n",
              "   0.8925125239480264,\n",
              "   -0.1074874760519736,\n",
              "   -1,\n",
              "   17.32913830368906]],\n",
              " [[9,\n",
              "   0.5094062543063556,\n",
              "   2,\n",
              "   [16.403787584092928, 0.5094062543063556, 2],\n",
              "   17.42260009270564,\n",
              "   1.0053933315886043,\n",
              "   0.00539333158860434,\n",
              "   0,\n",
              "   17.32913830368906],\n",
              "  [10,\n",
              "   0.9523828561388437,\n",
              "   2,\n",
              "   [17.35617044023177, 0.9523828561388437, 1],\n",
              "   18.308553296370615,\n",
              "   1.0508508029198178,\n",
              "   0.056518389750115576,\n",
              "   1,\n",
              "   18.308553296370615]],\n",
              " [[11,\n",
              "   1.84695147852505,\n",
              "   0,\n",
              "   [15.509218961706722, 1.84695147852505, 2],\n",
              "   19.20312191875682,\n",
              "   1.0488606941195917,\n",
              "   0.04886069411959166,\n",
              "   1,\n",
              "   19.20312191875682]],\n",
              " [[12,\n",
              "   1.0334668795128663,\n",
              "   2,\n",
              "   [16.542685841219587, 1.0334668795128663, 1],\n",
              "   17.576152720732452,\n",
              "   0.9152757970861387,\n",
              "   -0.08472420291386124,\n",
              "   -1,\n",
              "   17.576152720732452]],\n",
              " [[13,\n",
              "   1.3578369872797642,\n",
              "   0,\n",
              "   [15.184848853939823, 1.3578369872797642, 2],\n",
              "   17.90052282849935,\n",
              "   1.0184551256990546,\n",
              "   0.01845512569905469,\n",
              "   0,\n",
              "   17.576152720732452],\n",
              "  [14,\n",
              "   0.1920468427637605,\n",
              "   0,\n",
              "   [14.992802011176062, 0.1920468427637605, 3],\n",
              "   15.568942539467344,\n",
              "   0.8697479223724176,\n",
              "   -0.11420077039370774,\n",
              "   -1,\n",
              "   15.568942539467344]],\n",
              " [[15,\n",
              "   0.5463641313327725,\n",
              "   2,\n",
              "   [15.539166142508835, 0.5463641313327725, 2],\n",
              "   16.63189440517438,\n",
              "   1.0682738640092253,\n",
              "   0.06827386400922522,\n",
              "   1,\n",
              "   16.63189440517438]],\n",
              " [[16,\n",
              "   0.7299321446114417,\n",
              "   0,\n",
              "   [14.809233997897394, 0.7299321446114417, 3],\n",
              "   16.99903043173172,\n",
              "   1.0220742158177194,\n",
              "   0.022074215817719445,\n",
              "   0,\n",
              "   16.63189440517438],\n",
              "  [17,\n",
              "   1.0,\n",
              "   0,\n",
              "   [13.809233997897394, 1.0, 4],\n",
              "   17.809233997897394,\n",
              "   1.0476617516169209,\n",
              "   0.07078806322608272,\n",
              "   1,\n",
              "   17.809233997897394]],\n",
              " [[18,\n",
              "   1.0763677787662034,\n",
              "   0,\n",
              "   [12.732866219131191, 1.0763677787662034, 5],\n",
              "   18.114705112962206,\n",
              "   1.0171524005524817,\n",
              "   0.017152400552481732,\n",
              "   0,\n",
              "   17.809233997897394],\n",
              "  [19,\n",
              "   0.9916485428783667,\n",
              "   0,\n",
              "   [11.741217676252825, 0.9916485428783667, 6],\n",
              "   17.691108933523026,\n",
              "   0.9766158942804942,\n",
              "   -0.006632798714886572,\n",
              "   0,\n",
              "   17.809233997897394],\n",
              "  [20,\n",
              "   1.1000689469137088,\n",
              "   0,\n",
              "   [10.641148729339116, 1.1000689469137088, 7],\n",
              "   18.34163135773508,\n",
              "   1.0367711502233403,\n",
              "   0.029894455870507448,\n",
              "   0,\n",
              "   17.809233997897394],\n",
              "  [21,\n",
              "   0.8474151200555419,\n",
              "   2,\n",
              "   [11.488563849394659, 0.8474151200555419, 6],\n",
              "   16.57305456972791,\n",
              "   0.9035758186655888,\n",
              "   -0.06941227389765513,\n",
              "   -1,\n",
              "   16.57305456972791]],\n",
              " [[22,\n",
              "   1.219223888798397,\n",
              "   2,\n",
              "   [12.707787738193055, 1.219223888798397, 5],\n",
              "   18.80390718218504,\n",
              "   1.1346072085306453,\n",
              "   0.13460720853064545,\n",
              "   1,\n",
              "   18.80390718218504]],\n",
              " [[23,\n",
              "   2.1362703125992972,\n",
              "   0,\n",
              "   [10.571517425593758, 2.1362703125992972, 6],\n",
              "   23.38913930118954,\n",
              "   1.243844647528817,\n",
              "   0.24384464752881702,\n",
              "   1,\n",
              "   23.38913930118954]],\n",
              " [[24,\n",
              "   1.5990218512591166,\n",
              "   2,\n",
              "   [12.170539276852875, 1.5990218512591166, 5],\n",
              "   20.165648533148456,\n",
              "   0.8621800175486944,\n",
              "   -0.1378199824513056,\n",
              "   -1,\n",
              "   20.165648533148456]],\n",
              " [[25,\n",
              "   2.3866194213316168,\n",
              "   0,\n",
              "   [9.783919855521258, 2.3866194213316168, 6],\n",
              "   24.10363638351096,\n",
              "   1.1952819838097053,\n",
              "   0.19528198380970527,\n",
              "   1,\n",
              "   24.10363638351096]],\n",
              " [[26,\n",
              "   1.6887692491116058,\n",
              "   2,\n",
              "   [11.472689104632863, 1.6887692491116058, 5],\n",
              "   19.91653535019089,\n",
              "   0.8262875789072051,\n",
              "   -0.17371242109279494,\n",
              "   -1,\n",
              "   19.91653535019089]],\n",
              " [[27,\n",
              "   2.5087123574585473,\n",
              "   0,\n",
              "   [8.963976747174316, 2.5087123574585473, 6],\n",
              "   24.0162508919256,\n",
              "   1.20584481535818,\n",
              "   0.20584481535818008,\n",
              "   1,\n",
              "   24.0162508919256]],\n",
              " [[28,\n",
              "   2.401558819307279,\n",
              "   0,\n",
              "   [6.5624179278670365, 2.401558819307279, 7],\n",
              "   23.37332966301799,\n",
              "   0.9732297421524787,\n",
              "   -0.026770257847521246,\n",
              "   0,\n",
              "   24.0162508919256],\n",
              "  [29,\n",
              "   2.822009476072229,\n",
              "   0,\n",
              "   [3.7404084517948073, 2.822009476072229, 8],\n",
              "   26.31648426037264,\n",
              "   1.1259193550849282,\n",
              "   0.0957782036337899,\n",
              "   1,\n",
              "   26.31648426037264]],\n",
              " [[30,\n",
              "   3.001811591542238,\n",
              "   2,\n",
              "   [6.742220043337046, 3.001811591542238, 7],\n",
              "   27.75490118413271,\n",
              "   1.0546584000175905,\n",
              "   0.054658400017590404,\n",
              "   1,\n",
              "   27.75490118413271]],\n",
              " [[31,\n",
              "   2.0380111294337175,\n",
              "   0,\n",
              "   [4.704208913903328, 2.0380111294337175, 8],\n",
              "   21.008297949373066,\n",
              "   0.7569220949481661,\n",
              "   -0.2430779050518339,\n",
              "   -1,\n",
              "   21.008297949373066]],\n",
              " [[32,\n",
              "   2.012696657843394,\n",
              "   2,\n",
              "   [6.716905571746722, 2.012696657843394, 7],\n",
              "   20.80578217665048,\n",
              "   0.9903602008496539,\n",
              "   -0.009639799150346118,\n",
              "   0,\n",
              "   21.008297949373066],\n",
              "  [33,\n",
              "   2.485936347269665,\n",
              "   0,\n",
              "   [4.2309692244770565, 2.485936347269665, 8],\n",
              "   24.11846000263438,\n",
              "   1.1592190958195068,\n",
              "   0.1480444565645608,\n",
              "   1,\n",
              "   24.11846000263438]],\n",
              " [[34,\n",
              "   3.5023700988731217,\n",
              "   0,\n",
              "   [0.7285991256039348, 3.5023700988731217, 9],\n",
              "   32.24993001546203,\n",
              "   1.3371471483643431,\n",
              "   0.3371471483643431,\n",
              "   1,\n",
              "   32.24993001546203]],\n",
              " [[35,\n",
              "   3.658192135191749,\n",
              "   1,\n",
              "   [0.7285991256039348, 3.658192135191749, 9],\n",
              "   33.652328342329675,\n",
              "   1.0434853138036355,\n",
              "   0.04348531380363543,\n",
              "   1,\n",
              "   33.652328342329675]],\n",
              " [[36,\n",
              "   3.5461833061597208,\n",
              "   1,\n",
              "   [0.7285991256039348, 3.5461833061597208, 9],\n",
              "   32.64424888104142,\n",
              "   0.9700442878414377,\n",
              "   -0.029955712158562256,\n",
              "   0,\n",
              "   33.652328342329675],\n",
              "  [37,\n",
              "   2.4467762851700186,\n",
              "   1,\n",
              "   [0.7285991256039348, 2.4467762851700186, 9],\n",
              "   22.7495856921341,\n",
              "   0.6968941382304625,\n",
              "   -0.32398182197935854,\n",
              "   -1,\n",
              "   22.7495856921341]],\n",
              " [[38,\n",
              "   3.4882011368303942,\n",
              "   2,\n",
              "   [4.2168002624343295, 3.4882011368303942, 8],\n",
              "   32.12240935707749,\n",
              "   1.4119997520739085,\n",
              "   0.41199975207390854,\n",
              "   1,\n",
              "   32.12240935707749]],\n",
              " [[39,\n",
              "   4.3035698422832045,\n",
              "   1,\n",
              "   [4.2168002624343295, 4.3035698422832045, 8],\n",
              "   38.64535900069997,\n",
              "   1.2030653918612517,\n",
              "   0.20306539186125183,\n",
              "   1,\n",
              "   38.64535900069997]],\n",
              " [[40,\n",
              "   3.8604785684355662,\n",
              "   0,\n",
              "   [0.35632169399876323, 3.8604785684355662, 9],\n",
              "   35.10062880991886,\n",
              "   0.9082753975524744,\n",
              "   -0.09172460244752559,\n",
              "   -1,\n",
              "   35.10062880991886]],\n",
              " [[41,\n",
              "   3.243180224609957,\n",
              "   2,\n",
              "   [3.5995019186087203, 3.243180224609957, 8],\n",
              "   29.544943715488376,\n",
              "   0.8417212089129145,\n",
              "   -0.15827879108708554,\n",
              "   -1,\n",
              "   29.544943715488376]],\n",
              " [[42,\n",
              "   3.9293725860192676,\n",
              "   2,\n",
              "   [7.5288745046279875, 3.9293725860192676, 7],\n",
              "   35.03448260676286,\n",
              "   1.1858029903234066,\n",
              "   0.18580299032340666,\n",
              "   1,\n",
              "   35.03448260676286]],\n",
              " [[43,\n",
              "   4.017496975605067,\n",
              "   2,\n",
              "   [11.546371480233056, 4.017496975605067, 6],\n",
              "   35.65135333386346,\n",
              "   1.0176075306726957,\n",
              "   0.01760753067269579,\n",
              "   0,\n",
              "   35.03448260676286],\n",
              "  [44,\n",
              "   4.824895308674625,\n",
              "   2,\n",
              "   [16.371266788907683, 4.824895308674625, 5],\n",
              "   40.49574333228081,\n",
              "   1.1358823591646352,\n",
              "   0.15588244264420054,\n",
              "   1,\n",
              "   40.49574333228081]],\n",
              " [[45,\n",
              "   5.540063014264075,\n",
              "   2,\n",
              "   [21.911329803171757, 5.540063014264075, 4],\n",
              "   44.07158186022806,\n",
              "   1.0883015900858104,\n",
              "   0.08830159008581034,\n",
              "   1,\n",
              "   44.07158186022806]],\n",
              " [[0,\n",
              "   0.9293761065457646,\n",
              "   0,\n",
              "   [19.070623893454236, 0.9293761065457646, 1],\n",
              "   20.0,\n",
              "   1.0,\n",
              "   0.0,\n",
              "   0,\n",
              "   20],\n",
              "  [1,\n",
              "   0.5434625545235494,\n",
              "   2,\n",
              "   [19.614086447977787, 0.5434625545235494, 0],\n",
              "   19.614086447977787,\n",
              "   0.9807043223988894,\n",
              "   -0.019295677601110662,\n",
              "   0,\n",
              "   20],\n",
              "  [2,\n",
              "   0.236056206786792,\n",
              "   0,\n",
              "   [19.378030241190995, 0.236056206786792, 1],\n",
              "   19.614086447977787,\n",
              "   1.0,\n",
              "   -0.019295677601110662,\n",
              "   0,\n",
              "   20],\n",
              "  [3,\n",
              "   1.4114559516225194,\n",
              "   0,\n",
              "   [17.966574289568477, 1.4114559516225194, 2],\n",
              "   20.789486192813516,\n",
              "   1.059926305920657,\n",
              "   0.03947430964067582,\n",
              "   1,\n",
              "   20.789486192813516]],\n",
              " [[4,\n",
              "   1.2345026714728198,\n",
              "   0,\n",
              "   [16.732071618095656, 1.2345026714728198, 3],\n",
              "   20.435579632514116,\n",
              "   0.9829766567092102,\n",
              "   -0.017023343290789843,\n",
              "   0,\n",
              "   20.789486192813516],\n",
              "  [5,\n",
              "   0.4876195245256648,\n",
              "   0,\n",
              "   [16.24445209356999, 0.4876195245256648, 4],\n",
              "   18.19493019167265,\n",
              "   0.8903554740734405,\n",
              "   -0.12480135281254565,\n",
              "   -1,\n",
              "   18.19493019167265]],\n",
              " [[6,\n",
              "   0.17167691158241932,\n",
              "   0,\n",
              "   [16.07277518198757, 0.17167691158241932, 5],\n",
              "   16.931159739899666,\n",
              "   0.9305427150057779,\n",
              "   -0.06945728499422216,\n",
              "   -1,\n",
              "   16.931159739899666]],\n",
              " [[7,\n",
              "   1.0,\n",
              "   2,\n",
              "   [17.07277518198757, 1.0, 4],\n",
              "   21.07277518198757,\n",
              "   1.2446149883240336,\n",
              "   0.24461498832403356,\n",
              "   1,\n",
              "   21.07277518198757]],\n",
              " [[8,\n",
              "   0.47825232463416245,\n",
              "   2,\n",
              "   [17.551027506621732, 0.47825232463416245, 3],\n",
              "   18.98578448052422,\n",
              "   0.9009627026606704,\n",
              "   -0.09903729733932966,\n",
              "   -1,\n",
              "   18.98578448052422]],\n",
              " [[9,\n",
              "   0.5094062543063556,\n",
              "   0,\n",
              "   [17.041621252315377, 0.5094062543063556, 4],\n",
              "   19.0792462695408,\n",
              "   1.0049227246370807,\n",
              "   0.004922724637080629,\n",
              "   0,\n",
              "   18.98578448052422],\n",
              "  [10,\n",
              "   0.9523828561388437,\n",
              "   2,\n",
              "   [17.99400410845422, 0.9523828561388437, 3],\n",
              "   20.85115267687075,\n",
              "   1.0928708808669618,\n",
              "   0.09825078327735369,\n",
              "   1,\n",
              "   20.85115267687075]],\n",
              " [[11,\n",
              "   1.84695147852505,\n",
              "   2,\n",
              "   [19.84095558697927, 1.84695147852505, 2],\n",
              "   23.53485854402937,\n",
              "   1.1287077941803925,\n",
              "   0.12870779418039238,\n",
              "   1,\n",
              "   23.53485854402937]],\n",
              " [[12,\n",
              "   1.0334668795128663,\n",
              "   2,\n",
              "   [20.874422466492135, 1.0334668795128663, 1],\n",
              "   21.907889346005,\n",
              "   0.9308698119013288,\n",
              "   -0.06913018809867119,\n",
              "   -1,\n",
              "   21.907889346005]],\n",
              " [[13,\n",
              "   1.3578369872797642,\n",
              "   2,\n",
              "   [22.2322594537719, 1.3578369872797642, 0],\n",
              "   22.2322594537719,\n",
              "   1.0148060866404756,\n",
              "   0.014806086640475467,\n",
              "   0,\n",
              "   21.907889346005],\n",
              "  [14,\n",
              "   0.1920468427637605,\n",
              "   1,\n",
              "   [22.2322594537719, 0.1920468427637605, 0],\n",
              "   22.2322594537719,\n",
              "   1.0,\n",
              "   0.014806086640475467,\n",
              "   0,\n",
              "   21.907889346005],\n",
              "  [15,\n",
              "   0.5463641313327725,\n",
              "   0,\n",
              "   [21.685895322439126, 0.5463641313327725, 1],\n",
              "   22.2322594537719,\n",
              "   1.0,\n",
              "   0.014806086640475467,\n",
              "   0,\n",
              "   21.907889346005],\n",
              "  [16,\n",
              "   0.7299321446114417,\n",
              "   2,\n",
              "   [22.41582746705057, 0.7299321446114417, 0],\n",
              "   22.41582746705057,\n",
              "   1.0082568311898468,\n",
              "   0.023185169188294906,\n",
              "   0,\n",
              "   21.907889346005],\n",
              "  [17,\n",
              "   1.0,\n",
              "   1,\n",
              "   [22.41582746705057, 1.0, 0],\n",
              "   22.41582746705057,\n",
              "   1.0,\n",
              "   0.023185169188294906,\n",
              "   0,\n",
              "   21.907889346005],\n",
              "  [18,\n",
              "   1.0763677787662034,\n",
              "   0,\n",
              "   [21.339459688284364, 1.0763677787662034, 1],\n",
              "   22.41582746705057,\n",
              "   1.0,\n",
              "   0.023185169188294906,\n",
              "   0,\n",
              "   21.907889346005],\n",
              "  [19,\n",
              "   0.9916485428783667,\n",
              "   0,\n",
              "   [20.347811145406, 0.9916485428783667, 2],\n",
              "   22.33110823116273,\n",
              "   0.9962205617431537,\n",
              "   0.01931810401602683,\n",
              "   0,\n",
              "   21.907889346005],\n",
              "  [20,\n",
              "   1.1000689469137088,\n",
              "   2,\n",
              "   [21.447880092319707, 1.1000689469137088, 1],\n",
              "   22.547949039233416,\n",
              "   1.009710257360541,\n",
              "   0.02921594513828114,\n",
              "   0,\n",
              "   21.907889346005],\n",
              "  [21,\n",
              "   0.8474151200555419,\n",
              "   0,\n",
              "   [20.600464972264167, 0.8474151200555419, 2],\n",
              "   22.29529521237525,\n",
              "   0.988794820033585,\n",
              "   0.017683395248702792,\n",
              "   0,\n",
              "   21.907889346005],\n",
              "  [22,\n",
              "   1.219223888798397,\n",
              "   0,\n",
              "   [19.38124108346577, 1.219223888798397, 3],\n",
              "   23.038912749860962,\n",
              "   1.0333531146550128,\n",
              "   0.05162630621293556,\n",
              "   1,\n",
              "   23.038912749860962]],\n",
              " [[23,\n",
              "   2.1362703125992972,\n",
              "   2,\n",
              "   [21.517511396065068, 2.1362703125992972, 2],\n",
              "   25.790052021263662,\n",
              "   1.1194127214800664,\n",
              "   0.11941272148006649,\n",
              "   1,\n",
              "   25.790052021263662]],\n",
              " [[24,\n",
              "   1.5990218512591166,\n",
              "   0,\n",
              "   [19.91848954480595, 1.5990218512591166, 3],\n",
              "   24.7155550985833,\n",
              "   0.9583367679214277,\n",
              "   -0.041663232078572296,\n",
              "   -1,\n",
              "   24.7155550985833]],\n",
              " [[25,\n",
              "   2.3866194213316168,\n",
              "   2,\n",
              "   [22.305108966137567, 2.3866194213316168, 2],\n",
              "   27.0783478088008,\n",
              "   1.0955994191023828,\n",
              "   0.09559941910238275,\n",
              "   1,\n",
              "   27.0783478088008]],\n",
              " [[26,\n",
              "   1.6887692491116058,\n",
              "   0,\n",
              "   [20.616339717025962, 1.6887692491116058, 3],\n",
              "   25.68264746436078,\n",
              "   0.9484569607313191,\n",
              "   -0.05154303926868091,\n",
              "   -1,\n",
              "   25.68264746436078]],\n",
              " [[27,\n",
              "   2.5087123574585473,\n",
              "   0,\n",
              "   [18.107627359567417, 2.5087123574585473, 4],\n",
              "   28.142476789401606,\n",
              "   1.0957778721393219,\n",
              "   0.09577787213932186,\n",
              "   1,\n",
              "   28.142476789401606]],\n",
              " [[28,\n",
              "   2.401558819307279,\n",
              "   0,\n",
              "   [15.706068540260137, 2.401558819307279, 5],\n",
              "   27.713862636796534,\n",
              "   0.984769849654225,\n",
              "   -0.015230150345775054,\n",
              "   0,\n",
              "   28.142476789401606],\n",
              "  [29,\n",
              "   2.822009476072229,\n",
              "   2,\n",
              "   [18.528078016332366, 2.822009476072229, 4],\n",
              "   29.816115920621282,\n",
              "   1.0758556579202179,\n",
              "   0.05947021449974031,\n",
              "   1,\n",
              "   29.816115920621282]],\n",
              " [[30,\n",
              "   3.001811591542238,\n",
              "   2,\n",
              "   [21.529889607874605, 3.001811591542238, 3],\n",
              "   30.53532438250132,\n",
              "   1.0241214671889112,\n",
              "   0.024121467188911113,\n",
              "   0,\n",
              "   29.816115920621282],\n",
              "  [31,\n",
              "   2.0380111294337175,\n",
              "   2,\n",
              "   [23.56790073730832, 2.0380111294337175, 2],\n",
              "   27.643922996175757,\n",
              "   0.9053096227141272,\n",
              "   -0.07285298092576852,\n",
              "   -1,\n",
              "   27.643922996175757]],\n",
              " [[32,\n",
              "   2.012696657843394,\n",
              "   2,\n",
              "   [25.580597395151713, 2.012696657843394, 1],\n",
              "   27.593294052995105,\n",
              "   0.998168532621522,\n",
              "   -0.0018314673784779192,\n",
              "   0,\n",
              "   27.643922996175757],\n",
              "  [33,\n",
              "   2.485936347269665,\n",
              "   0,\n",
              "   [23.09466104788205, 2.485936347269665, 2],\n",
              "   28.066533742421377,\n",
              "   1.0171505326082988,\n",
              "   0.015287654588825337,\n",
              "   0,\n",
              "   27.643922996175757],\n",
              "  [34,\n",
              "   3.5023700988731217,\n",
              "   2,\n",
              "   [26.59703114675517, 3.5023700988731217, 1],\n",
              "   30.099401245628293,\n",
              "   1.072430301577794,\n",
              "   0.08882524559890524,\n",
              "   1,\n",
              "   30.099401245628293]],\n",
              " [[35,\n",
              "   3.658192135191749,\n",
              "   2,\n",
              "   [30.25522328194692, 3.658192135191749, 0],\n",
              "   30.25522328194692,\n",
              "   1.005176914817907,\n",
              "   0.00517691481790712,\n",
              "   0,\n",
              "   30.099401245628293],\n",
              "  [36,\n",
              "   3.5461833061597208,\n",
              "   1,\n",
              "   [30.25522328194692, 3.5461833061597208, 0],\n",
              "   30.25522328194692,\n",
              "   1.0,\n",
              "   0.00517691481790712,\n",
              "   0,\n",
              "   30.099401245628293],\n",
              "  [37,\n",
              "   2.4467762851700186,\n",
              "   1,\n",
              "   [30.25522328194692, 2.4467762851700186, 0],\n",
              "   30.25522328194692,\n",
              "   1.0,\n",
              "   0.00517691481790712,\n",
              "   0,\n",
              "   30.099401245628293],\n",
              "  [38,\n",
              "   3.4882011368303942,\n",
              "   0,\n",
              "   [26.767022145116524, 3.4882011368303942, 1],\n",
              "   30.25522328194692,\n",
              "   1.0,\n",
              "   0.00517691481790712,\n",
              "   0,\n",
              "   30.099401245628293],\n",
              "  [39,\n",
              "   4.3035698422832045,\n",
              "   2,\n",
              "   [31.07059198739973, 4.3035698422832045, 0],\n",
              "   31.07059198739973,\n",
              "   1.0269496839555416,\n",
              "   0.03226611499165603,\n",
              "   1,\n",
              "   31.07059198739973]],\n",
              " [[0,\n",
              "   0.9293761065457646,\n",
              "   0,\n",
              "   [19.070623893454236, 0.9293761065457646, 1],\n",
              "   20.0,\n",
              "   1.0,\n",
              "   0.0,\n",
              "   0,\n",
              "   20],\n",
              "  [1,\n",
              "   0.5434625545235494,\n",
              "   2,\n",
              "   [19.614086447977787, 0.5434625545235494, 0],\n",
              "   19.614086447977787,\n",
              "   0.9807043223988894,\n",
              "   -0.019295677601110662,\n",
              "   0,\n",
              "   20],\n",
              "  [2,\n",
              "   0.236056206786792,\n",
              "   1,\n",
              "   [19.614086447977787, 0.236056206786792, 0],\n",
              "   19.614086447977787,\n",
              "   1.0,\n",
              "   -0.019295677601110662,\n",
              "   0,\n",
              "   20],\n",
              "  [3,\n",
              "   1.4114559516225194,\n",
              "   0,\n",
              "   [18.20263049635527, 1.4114559516225194, 1],\n",
              "   19.614086447977787,\n",
              "   1.0,\n",
              "   -0.019295677601110662,\n",
              "   0,\n",
              "   20],\n",
              "  [4,\n",
              "   1.2345026714728198,\n",
              "   2,\n",
              "   [19.43713316782809, 1.2345026714728198, 0],\n",
              "   19.43713316782809,\n",
              "   0.9909782553156872,\n",
              "   -0.028143341608595485,\n",
              "   0,\n",
              "   20],\n",
              "  [5,\n",
              "   0.4876195245256648,\n",
              "   0,\n",
              "   [18.949513643302424, 0.4876195245256648, 1],\n",
              "   19.43713316782809,\n",
              "   1.0,\n",
              "   -0.028143341608595485,\n",
              "   0,\n",
              "   20],\n",
              "  [6,\n",
              "   0.17167691158241932,\n",
              "   2,\n",
              "   [19.121190554884844, 0.17167691158241932, 0],\n",
              "   19.121190554884844,\n",
              "   0.9837454108990626,\n",
              "   -0.04394047225575779,\n",
              "   -1,\n",
              "   19.121190554884844]],\n",
              " [[7,\n",
              "   1.0,\n",
              "   0,\n",
              "   [18.121190554884844, 1.0, 1],\n",
              "   19.121190554884844,\n",
              "   1.0,\n",
              "   0.0,\n",
              "   0,\n",
              "   19.121190554884844],\n",
              "  [8,\n",
              "   0.47825232463416245,\n",
              "   2,\n",
              "   [18.599442879519007, 0.47825232463416245, 0],\n",
              "   18.599442879519007,\n",
              "   0.9727136407187497,\n",
              "   -0.02728635928125029,\n",
              "   0,\n",
              "   19.121190554884844],\n",
              "  [9,\n",
              "   0.5094062543063556,\n",
              "   0,\n",
              "   [18.09003662521265, 0.5094062543063556, 1],\n",
              "   18.599442879519007,\n",
              "   1.0,\n",
              "   -0.02728635928125029,\n",
              "   0,\n",
              "   19.121190554884844],\n",
              "  [10,\n",
              "   0.9523828561388437,\n",
              "   2,\n",
              "   [19.042419481351494, 0.9523828561388437, 0],\n",
              "   19.042419481351494,\n",
              "   1.0238166597086775,\n",
              "   -0.004119569506263109,\n",
              "   0,\n",
              "   19.121190554884844],\n",
              "  [11,\n",
              "   1.84695147852505,\n",
              "   1,\n",
              "   [19.042419481351494, 1.84695147852505, 0],\n",
              "   19.042419481351494,\n",
              "   1.0,\n",
              "   -0.004119569506263109,\n",
              "   0,\n",
              "   19.121190554884844],\n",
              "  [12,\n",
              "   1.0334668795128663,\n",
              "   1,\n",
              "   [19.042419481351494, 1.0334668795128663, 0],\n",
              "   19.042419481351494,\n",
              "   1.0,\n",
              "   -0.004119569506263109,\n",
              "   0,\n",
              "   19.121190554884844],\n",
              "  [13,\n",
              "   1.3578369872797642,\n",
              "   1,\n",
              "   [19.042419481351494, 1.3578369872797642, 0],\n",
              "   19.042419481351494,\n",
              "   1.0,\n",
              "   -0.004119569506263109,\n",
              "   0,\n",
              "   19.121190554884844],\n",
              "  [14,\n",
              "   0.1920468427637605,\n",
              "   1,\n",
              "   [19.042419481351494, 0.1920468427637605, 0],\n",
              "   19.042419481351494,\n",
              "   1.0,\n",
              "   -0.004119569506263109,\n",
              "   0,\n",
              "   19.121190554884844],\n",
              "  [15,\n",
              "   0.5463641313327725,\n",
              "   0,\n",
              "   [18.49605535001872, 0.5463641313327725, 1],\n",
              "   19.042419481351494,\n",
              "   1.0,\n",
              "   -0.004119569506263109,\n",
              "   0,\n",
              "   19.121190554884844],\n",
              "  [16,\n",
              "   0.7299321446114417,\n",
              "   2,\n",
              "   [19.225987494630164, 0.7299321446114417, 0],\n",
              "   19.225987494630164,\n",
              "   1.0096399521845656,\n",
              "   0.005480670225241174,\n",
              "   0,\n",
              "   19.121190554884844],\n",
              "  [17,\n",
              "   1.0,\n",
              "   0,\n",
              "   [18.225987494630164, 1.0, 1],\n",
              "   19.225987494630164,\n",
              "   1.0,\n",
              "   0.005480670225241174,\n",
              "   0,\n",
              "   19.121190554884844],\n",
              "  [18,\n",
              "   1.0763677787662034,\n",
              "   2,\n",
              "   [19.30235527339637, 1.0763677787662034, 0],\n",
              "   19.30235527339637,\n",
              "   1.003972112162641,\n",
              "   0.009474552224743303,\n",
              "   0,\n",
              "   19.121190554884844],\n",
              "  [19,\n",
              "   0.9916485428783667,\n",
              "   1,\n",
              "   [19.30235527339637, 0.9916485428783667, 0],\n",
              "   19.30235527339637,\n",
              "   1.0,\n",
              "   0.009474552224743303,\n",
              "   0,\n",
              "   19.121190554884844],\n",
              "  [20,\n",
              "   1.1000689469137088,\n",
              "   0,\n",
              "   [18.20228632648266, 1.1000689469137088, 1],\n",
              "   19.30235527339637,\n",
              "   1.0,\n",
              "   0.009474552224743303,\n",
              "   0,\n",
              "   19.121190554884844],\n",
              "  [21,\n",
              "   0.8474151200555419,\n",
              "   0,\n",
              "   [17.35487120642712, 0.8474151200555419, 2],\n",
              "   19.049701446538204,\n",
              "   0.9869107254902522,\n",
              "   -0.0037387372999311825,\n",
              "   0,\n",
              "   19.121190554884844],\n",
              "  [22,\n",
              "   1.219223888798397,\n",
              "   2,\n",
              "   [18.574095095225516, 1.219223888798397, 1],\n",
              "   19.793318984023912,\n",
              "   1.039035653108403,\n",
              "   0.03515097175616824,\n",
              "   1,\n",
              "   19.793318984023912]],\n",
              " [[23,\n",
              "   2.1362703125992972,\n",
              "   2,\n",
              "   [20.710365407824813, 2.1362703125992972, 0],\n",
              "   20.710365407824813,\n",
              "   1.0463311092263552,\n",
              "   0.04633110922635516,\n",
              "   1,\n",
              "   20.710365407824813]],\n",
              " [[24,\n",
              "   1.5990218512591166,\n",
              "   1,\n",
              "   [20.710365407824813, 1.5990218512591166, 0],\n",
              "   20.710365407824813,\n",
              "   1.0,\n",
              "   0.0,\n",
              "   0,\n",
              "   20.710365407824813],\n",
              "  [25,\n",
              "   2.3866194213316168,\n",
              "   1,\n",
              "   [20.710365407824813, 2.3866194213316168, 0],\n",
              "   20.710365407824813,\n",
              "   1.0,\n",
              "   0.0,\n",
              "   0,\n",
              "   20.710365407824813],\n",
              "  [26,\n",
              "   1.6887692491116058,\n",
              "   1,\n",
              "   [20.710365407824813, 1.6887692491116058, 0],\n",
              "   20.710365407824813,\n",
              "   1.0,\n",
              "   0.0,\n",
              "   0,\n",
              "   20.710365407824813],\n",
              "  [27,\n",
              "   2.5087123574585473,\n",
              "   1,\n",
              "   [20.710365407824813, 2.5087123574585473, 0],\n",
              "   20.710365407824813,\n",
              "   1.0,\n",
              "   0.0,\n",
              "   0,\n",
              "   20.710365407824813],\n",
              "  [28,\n",
              "   2.401558819307279,\n",
              "   1,\n",
              "   [20.710365407824813, 2.401558819307279, 0],\n",
              "   20.710365407824813,\n",
              "   1.0,\n",
              "   0.0,\n",
              "   0,\n",
              "   20.710365407824813],\n",
              "  [29,\n",
              "   2.822009476072229,\n",
              "   0,\n",
              "   [17.888355931752585, 2.822009476072229, 1],\n",
              "   20.710365407824813,\n",
              "   1.0,\n",
              "   0.0,\n",
              "   0,\n",
              "   20.710365407824813],\n",
              "  [30,\n",
              "   3.001811591542238,\n",
              "   2,\n",
              "   [20.890167523294824, 3.001811591542238, 0],\n",
              "   20.890167523294824,\n",
              "   1.0086817452000185,\n",
              "   0.008681745200018435,\n",
              "   0,\n",
              "   20.710365407824813],\n",
              "  [31,\n",
              "   2.0380111294337175,\n",
              "   1,\n",
              "   [20.890167523294824, 2.0380111294337175, 0],\n",
              "   20.890167523294824,\n",
              "   1.0,\n",
              "   0.008681745200018435,\n",
              "   0,\n",
              "   20.710365407824813],\n",
              "  [32,\n",
              "   2.012696657843394,\n",
              "   1,\n",
              "   [20.890167523294824, 2.012696657843394, 0],\n",
              "   20.890167523294824,\n",
              "   1.0,\n",
              "   0.008681745200018435,\n",
              "   0,\n",
              "   20.710365407824813],\n",
              "  [33,\n",
              "   2.485936347269665,\n",
              "   1,\n",
              "   [20.890167523294824, 2.485936347269665, 0],\n",
              "   20.890167523294824,\n",
              "   1.0,\n",
              "   0.008681745200018435,\n",
              "   0,\n",
              "   20.710365407824813],\n",
              "  [34,\n",
              "   3.5023700988731217,\n",
              "   1,\n",
              "   [20.890167523294824, 3.5023700988731217, 0],\n",
              "   20.890167523294824,\n",
              "   1.0,\n",
              "   0.008681745200018435,\n",
              "   0,\n",
              "   20.710365407824813],\n",
              "  [35,\n",
              "   3.658192135191749,\n",
              "   0,\n",
              "   [17.231975388103073, 3.658192135191749, 1],\n",
              "   20.89016752329482,\n",
              "   0.9999999999999998,\n",
              "   0.008681745200018263,\n",
              "   0,\n",
              "   20.710365407824813],\n",
              "  [36,\n",
              "   3.5461833061597208,\n",
              "   2,\n",
              "   [20.778158694262792, 3.5461833061597208, 0],\n",
              "   20.778158694262792,\n",
              "   0.9946382034080327,\n",
              "   0.0032733988562251718,\n",
              "   0,\n",
              "   20.710365407824813],\n",
              "  [37,\n",
              "   2.4467762851700186,\n",
              "   0,\n",
              "   [18.331382409092775, 2.4467762851700186, 1],\n",
              "   20.778158694262792,\n",
              "   1.0,\n",
              "   0.0032733988562251718,\n",
              "   0,\n",
              "   20.710365407824813],\n",
              "  [38,\n",
              "   3.4882011368303942,\n",
              "   2,\n",
              "   [21.81958354592317, 3.4882011368303942, 0],\n",
              "   21.81958354592317,\n",
              "   1.0501211328195281,\n",
              "   0.05355859813459738,\n",
              "   1,\n",
              "   21.81958354592317]],\n",
              " [[0,\n",
              "   0.9293761065457646,\n",
              "   1,\n",
              "   [20, 0.9293761065457646, 0],\n",
              "   20.0,\n",
              "   1.0,\n",
              "   0.0,\n",
              "   0,\n",
              "   20],\n",
              "  [1,\n",
              "   0.5434625545235494,\n",
              "   1,\n",
              "   [20, 0.5434625545235494, 0],\n",
              "   20.0,\n",
              "   1.0,\n",
              "   0.0,\n",
              "   0,\n",
              "   20],\n",
              "  [2, 0.236056206786792, 1, [20, 0.236056206786792, 0], 20.0, 1.0, 0.0, 0, 20],\n",
              "  [3,\n",
              "   1.4114559516225194,\n",
              "   1,\n",
              "   [20, 1.4114559516225194, 0],\n",
              "   20.0,\n",
              "   1.0,\n",
              "   0.0,\n",
              "   0,\n",
              "   20],\n",
              "  [4,\n",
              "   1.2345026714728198,\n",
              "   1,\n",
              "   [20, 1.2345026714728198, 0],\n",
              "   20.0,\n",
              "   1.0,\n",
              "   0.0,\n",
              "   0,\n",
              "   20],\n",
              "  [5,\n",
              "   0.4876195245256648,\n",
              "   1,\n",
              "   [20, 0.4876195245256648, 0],\n",
              "   20.0,\n",
              "   1.0,\n",
              "   0.0,\n",
              "   0,\n",
              "   20],\n",
              "  [6,\n",
              "   0.17167691158241932,\n",
              "   1,\n",
              "   [20, 0.17167691158241932, 0],\n",
              "   20.0,\n",
              "   1.0,\n",
              "   0.0,\n",
              "   0,\n",
              "   20],\n",
              "  [7, 1.0, 1, [20, 1.0, 0], 20.0, 1.0, 0.0, 0, 20],\n",
              "  [8,\n",
              "   0.47825232463416245,\n",
              "   1,\n",
              "   [20, 0.47825232463416245, 0],\n",
              "   20.0,\n",
              "   1.0,\n",
              "   0.0,\n",
              "   0,\n",
              "   20],\n",
              "  [9,\n",
              "   0.5094062543063556,\n",
              "   0,\n",
              "   [19.490593745693644, 0.5094062543063556, 1],\n",
              "   20.0,\n",
              "   1.0,\n",
              "   0.0,\n",
              "   0,\n",
              "   20],\n",
              "  [10,\n",
              "   0.9523828561388437,\n",
              "   2,\n",
              "   [20.442976601832488, 0.9523828561388437, 0],\n",
              "   20.442976601832488,\n",
              "   1.0221488300916244,\n",
              "   0.022148830091624383,\n",
              "   0,\n",
              "   20],\n",
              "  [11,\n",
              "   1.84695147852505,\n",
              "   1,\n",
              "   [20.442976601832488, 1.84695147852505, 0],\n",
              "   20.442976601832488,\n",
              "   1.0,\n",
              "   0.022148830091624383,\n",
              "   0,\n",
              "   20],\n",
              "  [12,\n",
              "   1.0334668795128663,\n",
              "   1,\n",
              "   [20.442976601832488, 1.0334668795128663, 0],\n",
              "   20.442976601832488,\n",
              "   1.0,\n",
              "   0.022148830091624383,\n",
              "   0,\n",
              "   20],\n",
              "  [13,\n",
              "   1.3578369872797642,\n",
              "   1,\n",
              "   [20.442976601832488, 1.3578369872797642, 0],\n",
              "   20.442976601832488,\n",
              "   1.0,\n",
              "   0.022148830091624383,\n",
              "   0,\n",
              "   20],\n",
              "  [14,\n",
              "   0.1920468427637605,\n",
              "   1,\n",
              "   [20.442976601832488, 0.1920468427637605, 0],\n",
              "   20.442976601832488,\n",
              "   1.0,\n",
              "   0.022148830091624383,\n",
              "   0,\n",
              "   20],\n",
              "  [15,\n",
              "   0.5463641313327725,\n",
              "   0,\n",
              "   [19.896612470499715, 0.5463641313327725, 1],\n",
              "   20.442976601832488,\n",
              "   1.0,\n",
              "   0.022148830091624383,\n",
              "   0,\n",
              "   20],\n",
              "  [16,\n",
              "   0.7299321446114417,\n",
              "   2,\n",
              "   [20.626544615111158, 0.7299321446114417, 0],\n",
              "   20.626544615111158,\n",
              "   1.0089795149138026,\n",
              "   0.03132723075555788,\n",
              "   1,\n",
              "   20.626544615111158]],\n",
              " [[0,\n",
              "   0.9293761065457646,\n",
              "   1,\n",
              "   [20, 0.9293761065457646, 0],\n",
              "   20.0,\n",
              "   1.0,\n",
              "   0.0,\n",
              "   0,\n",
              "   20],\n",
              "  [1,\n",
              "   0.5434625545235494,\n",
              "   1,\n",
              "   [20, 0.5434625545235494, 0],\n",
              "   20.0,\n",
              "   1.0,\n",
              "   0.0,\n",
              "   0,\n",
              "   20],\n",
              "  [2, 0.236056206786792, 1, [20, 0.236056206786792, 0], 20.0, 1.0, 0.0, 0, 20],\n",
              "  [3,\n",
              "   1.4114559516225194,\n",
              "   1,\n",
              "   [20, 1.4114559516225194, 0],\n",
              "   20.0,\n",
              "   1.0,\n",
              "   0.0,\n",
              "   0,\n",
              "   20],\n",
              "  [4,\n",
              "   1.2345026714728198,\n",
              "   1,\n",
              "   [20, 1.2345026714728198, 0],\n",
              "   20.0,\n",
              "   1.0,\n",
              "   0.0,\n",
              "   0,\n",
              "   20],\n",
              "  [5,\n",
              "   0.4876195245256648,\n",
              "   1,\n",
              "   [20, 0.4876195245256648, 0],\n",
              "   20.0,\n",
              "   1.0,\n",
              "   0.0,\n",
              "   0,\n",
              "   20],\n",
              "  [6,\n",
              "   0.17167691158241932,\n",
              "   1,\n",
              "   [20, 0.17167691158241932, 0],\n",
              "   20.0,\n",
              "   1.0,\n",
              "   0.0,\n",
              "   0,\n",
              "   20],\n",
              "  [7, 1.0, 1, [20, 1.0, 0], 20.0, 1.0, 0.0, 0, 20],\n",
              "  [8,\n",
              "   0.47825232463416245,\n",
              "   1,\n",
              "   [20, 0.47825232463416245, 0],\n",
              "   20.0,\n",
              "   1.0,\n",
              "   0.0,\n",
              "   0,\n",
              "   20],\n",
              "  [9,\n",
              "   0.5094062543063556,\n",
              "   0,\n",
              "   [19.490593745693644, 0.5094062543063556, 1],\n",
              "   20.0,\n",
              "   1.0,\n",
              "   0.0,\n",
              "   0,\n",
              "   20],\n",
              "  [10,\n",
              "   0.9523828561388437,\n",
              "   2,\n",
              "   [20.442976601832488, 0.9523828561388437, 0],\n",
              "   20.442976601832488,\n",
              "   1.0221488300916244,\n",
              "   0.022148830091624383,\n",
              "   0,\n",
              "   20],\n",
              "  [11,\n",
              "   1.84695147852505,\n",
              "   1,\n",
              "   [20.442976601832488, 1.84695147852505, 0],\n",
              "   20.442976601832488,\n",
              "   1.0,\n",
              "   0.022148830091624383,\n",
              "   0,\n",
              "   20],\n",
              "  [12,\n",
              "   1.0334668795128663,\n",
              "   1,\n",
              "   [20.442976601832488, 1.0334668795128663, 0],\n",
              "   20.442976601832488,\n",
              "   1.0,\n",
              "   0.022148830091624383,\n",
              "   0,\n",
              "   20],\n",
              "  [13,\n",
              "   1.3578369872797642,\n",
              "   1,\n",
              "   [20.442976601832488, 1.3578369872797642, 0],\n",
              "   20.442976601832488,\n",
              "   1.0,\n",
              "   0.022148830091624383,\n",
              "   0,\n",
              "   20],\n",
              "  [14,\n",
              "   0.1920468427637605,\n",
              "   1,\n",
              "   [20.442976601832488, 0.1920468427637605, 0],\n",
              "   20.442976601832488,\n",
              "   1.0,\n",
              "   0.022148830091624383,\n",
              "   0,\n",
              "   20],\n",
              "  [15,\n",
              "   0.5463641313327725,\n",
              "   0,\n",
              "   [19.896612470499715, 0.5463641313327725, 1],\n",
              "   20.442976601832488,\n",
              "   1.0,\n",
              "   0.022148830091624383,\n",
              "   0,\n",
              "   20],\n",
              "  [16,\n",
              "   0.7299321446114417,\n",
              "   2,\n",
              "   [20.626544615111158, 0.7299321446114417, 0],\n",
              "   20.626544615111158,\n",
              "   1.0089795149138026,\n",
              "   0.03132723075555788,\n",
              "   1,\n",
              "   20.626544615111158]],\n",
              " [[0,\n",
              "   0.9293761065457646,\n",
              "   1,\n",
              "   [20, 0.9293761065457646, 0],\n",
              "   20.0,\n",
              "   1.0,\n",
              "   0.0,\n",
              "   0,\n",
              "   20],\n",
              "  [1,\n",
              "   0.5434625545235494,\n",
              "   1,\n",
              "   [20, 0.5434625545235494, 0],\n",
              "   20.0,\n",
              "   1.0,\n",
              "   0.0,\n",
              "   0,\n",
              "   20],\n",
              "  [2, 0.236056206786792, 1, [20, 0.236056206786792, 0], 20.0, 1.0, 0.0, 0, 20],\n",
              "  [3,\n",
              "   1.4114559516225194,\n",
              "   1,\n",
              "   [20, 1.4114559516225194, 0],\n",
              "   20.0,\n",
              "   1.0,\n",
              "   0.0,\n",
              "   0,\n",
              "   20],\n",
              "  [4,\n",
              "   1.2345026714728198,\n",
              "   1,\n",
              "   [20, 1.2345026714728198, 0],\n",
              "   20.0,\n",
              "   1.0,\n",
              "   0.0,\n",
              "   0,\n",
              "   20],\n",
              "  [5,\n",
              "   0.4876195245256648,\n",
              "   1,\n",
              "   [20, 0.4876195245256648, 0],\n",
              "   20.0,\n",
              "   1.0,\n",
              "   0.0,\n",
              "   0,\n",
              "   20],\n",
              "  [6,\n",
              "   0.17167691158241932,\n",
              "   1,\n",
              "   [20, 0.17167691158241932, 0],\n",
              "   20.0,\n",
              "   1.0,\n",
              "   0.0,\n",
              "   0,\n",
              "   20],\n",
              "  [7, 1.0, 1, [20, 1.0, 0], 20.0, 1.0, 0.0, 0, 20],\n",
              "  [8,\n",
              "   0.47825232463416245,\n",
              "   1,\n",
              "   [20, 0.47825232463416245, 0],\n",
              "   20.0,\n",
              "   1.0,\n",
              "   0.0,\n",
              "   0,\n",
              "   20],\n",
              "  [9,\n",
              "   0.5094062543063556,\n",
              "   0,\n",
              "   [19.490593745693644, 0.5094062543063556, 1],\n",
              "   20.0,\n",
              "   1.0,\n",
              "   0.0,\n",
              "   0,\n",
              "   20],\n",
              "  [10,\n",
              "   0.9523828561388437,\n",
              "   2,\n",
              "   [20.442976601832488, 0.9523828561388437, 0],\n",
              "   20.442976601832488,\n",
              "   1.0221488300916244,\n",
              "   0.022148830091624383,\n",
              "   0,\n",
              "   20],\n",
              "  [11,\n",
              "   1.84695147852505,\n",
              "   1,\n",
              "   [20.442976601832488, 1.84695147852505, 0],\n",
              "   20.442976601832488,\n",
              "   1.0,\n",
              "   0.022148830091624383,\n",
              "   0,\n",
              "   20],\n",
              "  [12,\n",
              "   1.0334668795128663,\n",
              "   1,\n",
              "   [20.442976601832488, 1.0334668795128663, 0],\n",
              "   20.442976601832488,\n",
              "   1.0,\n",
              "   0.022148830091624383,\n",
              "   0,\n",
              "   20],\n",
              "  [13,\n",
              "   1.3578369872797642,\n",
              "   1,\n",
              "   [20.442976601832488, 1.3578369872797642, 0],\n",
              "   20.442976601832488,\n",
              "   1.0,\n",
              "   0.022148830091624383,\n",
              "   0,\n",
              "   20],\n",
              "  [14,\n",
              "   0.1920468427637605,\n",
              "   1,\n",
              "   [20.442976601832488, 0.1920468427637605, 0],\n",
              "   20.442976601832488,\n",
              "   1.0,\n",
              "   0.022148830091624383,\n",
              "   0,\n",
              "   20],\n",
              "  [15,\n",
              "   0.5463641313327725,\n",
              "   0,\n",
              "   [19.896612470499715, 0.5463641313327725, 1],\n",
              "   20.442976601832488,\n",
              "   1.0,\n",
              "   0.022148830091624383,\n",
              "   0,\n",
              "   20],\n",
              "  [16,\n",
              "   0.7299321446114417,\n",
              "   2,\n",
              "   [20.626544615111158, 0.7299321446114417, 0],\n",
              "   20.626544615111158,\n",
              "   1.0089795149138026,\n",
              "   0.03132723075555788,\n",
              "   1,\n",
              "   20.626544615111158]],\n",
              " [[0,\n",
              "   0.9293761065457646,\n",
              "   1,\n",
              "   [20, 0.9293761065457646, 0],\n",
              "   20.0,\n",
              "   1.0,\n",
              "   0.0,\n",
              "   0,\n",
              "   20],\n",
              "  [1,\n",
              "   0.5434625545235494,\n",
              "   1,\n",
              "   [20, 0.5434625545235494, 0],\n",
              "   20.0,\n",
              "   1.0,\n",
              "   0.0,\n",
              "   0,\n",
              "   20],\n",
              "  [2, 0.236056206786792, 1, [20, 0.236056206786792, 0], 20.0, 1.0, 0.0, 0, 20],\n",
              "  [3,\n",
              "   1.4114559516225194,\n",
              "   1,\n",
              "   [20, 1.4114559516225194, 0],\n",
              "   20.0,\n",
              "   1.0,\n",
              "   0.0,\n",
              "   0,\n",
              "   20],\n",
              "  [4,\n",
              "   1.2345026714728198,\n",
              "   1,\n",
              "   [20, 1.2345026714728198, 0],\n",
              "   20.0,\n",
              "   1.0,\n",
              "   0.0,\n",
              "   0,\n",
              "   20],\n",
              "  [5,\n",
              "   0.4876195245256648,\n",
              "   1,\n",
              "   [20, 0.4876195245256648, 0],\n",
              "   20.0,\n",
              "   1.0,\n",
              "   0.0,\n",
              "   0,\n",
              "   20],\n",
              "  [6,\n",
              "   0.17167691158241932,\n",
              "   1,\n",
              "   [20, 0.17167691158241932, 0],\n",
              "   20.0,\n",
              "   1.0,\n",
              "   0.0,\n",
              "   0,\n",
              "   20],\n",
              "  [7, 1.0, 1, [20, 1.0, 0], 20.0, 1.0, 0.0, 0, 20],\n",
              "  [8,\n",
              "   0.47825232463416245,\n",
              "   1,\n",
              "   [20, 0.47825232463416245, 0],\n",
              "   20.0,\n",
              "   1.0,\n",
              "   0.0,\n",
              "   0,\n",
              "   20],\n",
              "  [9,\n",
              "   0.5094062543063556,\n",
              "   0,\n",
              "   [19.490593745693644, 0.5094062543063556, 1],\n",
              "   20.0,\n",
              "   1.0,\n",
              "   0.0,\n",
              "   0,\n",
              "   20],\n",
              "  [10,\n",
              "   0.9523828561388437,\n",
              "   2,\n",
              "   [20.442976601832488, 0.9523828561388437, 0],\n",
              "   20.442976601832488,\n",
              "   1.0221488300916244,\n",
              "   0.022148830091624383,\n",
              "   0,\n",
              "   20],\n",
              "  [11,\n",
              "   1.84695147852505,\n",
              "   1,\n",
              "   [20.442976601832488, 1.84695147852505, 0],\n",
              "   20.442976601832488,\n",
              "   1.0,\n",
              "   0.022148830091624383,\n",
              "   0,\n",
              "   20],\n",
              "  [12,\n",
              "   1.0334668795128663,\n",
              "   1,\n",
              "   [20.442976601832488, 1.0334668795128663, 0],\n",
              "   20.442976601832488,\n",
              "   1.0,\n",
              "   0.022148830091624383,\n",
              "   0,\n",
              "   20],\n",
              "  [13,\n",
              "   1.3578369872797642,\n",
              "   1,\n",
              "   [20.442976601832488, 1.3578369872797642, 0],\n",
              "   20.442976601832488,\n",
              "   1.0,\n",
              "   0.022148830091624383,\n",
              "   0,\n",
              "   20],\n",
              "  [14,\n",
              "   0.1920468427637605,\n",
              "   1,\n",
              "   [20.442976601832488, 0.1920468427637605, 0],\n",
              "   20.442976601832488,\n",
              "   1.0,\n",
              "   0.022148830091624383,\n",
              "   0,\n",
              "   20],\n",
              "  [15,\n",
              "   0.5463641313327725,\n",
              "   0,\n",
              "   [19.896612470499715, 0.5463641313327725, 1],\n",
              "   20.442976601832488,\n",
              "   1.0,\n",
              "   0.022148830091624383,\n",
              "   0,\n",
              "   20],\n",
              "  [16,\n",
              "   0.7299321446114417,\n",
              "   2,\n",
              "   [20.626544615111158, 0.7299321446114417, 0],\n",
              "   20.626544615111158,\n",
              "   1.0089795149138026,\n",
              "   0.03132723075555788,\n",
              "   1,\n",
              "   20.626544615111158]],\n",
              " [[0,\n",
              "   0.9293761065457646,\n",
              "   1,\n",
              "   [20, 0.9293761065457646, 0],\n",
              "   20.0,\n",
              "   1.0,\n",
              "   0.0,\n",
              "   0,\n",
              "   20],\n",
              "  [1,\n",
              "   0.5434625545235494,\n",
              "   1,\n",
              "   [20, 0.5434625545235494, 0],\n",
              "   20.0,\n",
              "   1.0,\n",
              "   0.0,\n",
              "   0,\n",
              "   20],\n",
              "  [2, 0.236056206786792, 1, [20, 0.236056206786792, 0], 20.0, 1.0, 0.0, 0, 20],\n",
              "  [3,\n",
              "   1.4114559516225194,\n",
              "   1,\n",
              "   [20, 1.4114559516225194, 0],\n",
              "   20.0,\n",
              "   1.0,\n",
              "   0.0,\n",
              "   0,\n",
              "   20],\n",
              "  [4,\n",
              "   1.2345026714728198,\n",
              "   1,\n",
              "   [20, 1.2345026714728198, 0],\n",
              "   20.0,\n",
              "   1.0,\n",
              "   0.0,\n",
              "   0,\n",
              "   20],\n",
              "  [5,\n",
              "   0.4876195245256648,\n",
              "   1,\n",
              "   [20, 0.4876195245256648, 0],\n",
              "   20.0,\n",
              "   1.0,\n",
              "   0.0,\n",
              "   0,\n",
              "   20],\n",
              "  [6,\n",
              "   0.17167691158241932,\n",
              "   1,\n",
              "   [20, 0.17167691158241932, 0],\n",
              "   20.0,\n",
              "   1.0,\n",
              "   0.0,\n",
              "   0,\n",
              "   20],\n",
              "  [7, 1.0, 1, [20, 1.0, 0], 20.0, 1.0, 0.0, 0, 20],\n",
              "  [8,\n",
              "   0.47825232463416245,\n",
              "   1,\n",
              "   [20, 0.47825232463416245, 0],\n",
              "   20.0,\n",
              "   1.0,\n",
              "   0.0,\n",
              "   0,\n",
              "   20],\n",
              "  [9,\n",
              "   0.5094062543063556,\n",
              "   0,\n",
              "   [19.490593745693644, 0.5094062543063556, 1],\n",
              "   20.0,\n",
              "   1.0,\n",
              "   0.0,\n",
              "   0,\n",
              "   20],\n",
              "  [10,\n",
              "   0.9523828561388437,\n",
              "   2,\n",
              "   [20.442976601832488, 0.9523828561388437, 0],\n",
              "   20.442976601832488,\n",
              "   1.0221488300916244,\n",
              "   0.022148830091624383,\n",
              "   0,\n",
              "   20],\n",
              "  [11,\n",
              "   1.84695147852505,\n",
              "   1,\n",
              "   [20.442976601832488, 1.84695147852505, 0],\n",
              "   20.442976601832488,\n",
              "   1.0,\n",
              "   0.022148830091624383,\n",
              "   0,\n",
              "   20],\n",
              "  [12,\n",
              "   1.0334668795128663,\n",
              "   1,\n",
              "   [20.442976601832488, 1.0334668795128663, 0],\n",
              "   20.442976601832488,\n",
              "   1.0,\n",
              "   0.022148830091624383,\n",
              "   0,\n",
              "   20],\n",
              "  [13,\n",
              "   1.3578369872797642,\n",
              "   1,\n",
              "   [20.442976601832488, 1.3578369872797642, 0],\n",
              "   20.442976601832488,\n",
              "   1.0,\n",
              "   0.022148830091624383,\n",
              "   0,\n",
              "   20],\n",
              "  [14,\n",
              "   0.1920468427637605,\n",
              "   1,\n",
              "   [20.442976601832488, 0.1920468427637605, 0],\n",
              "   20.442976601832488,\n",
              "   1.0,\n",
              "   0.022148830091624383,\n",
              "   0,\n",
              "   20],\n",
              "  [15,\n",
              "   0.5463641313327725,\n",
              "   0,\n",
              "   [19.896612470499715, 0.5463641313327725, 1],\n",
              "   20.442976601832488,\n",
              "   1.0,\n",
              "   0.022148830091624383,\n",
              "   0,\n",
              "   20],\n",
              "  [16,\n",
              "   0.7299321446114417,\n",
              "   2,\n",
              "   [20.626544615111158, 0.7299321446114417, 0],\n",
              "   20.626544615111158,\n",
              "   1.0089795149138026,\n",
              "   0.03132723075555788,\n",
              "   1,\n",
              "   20.626544615111158]],\n",
              " [[0,\n",
              "   0.9293761065457646,\n",
              "   1,\n",
              "   [20, 0.9293761065457646, 0],\n",
              "   20.0,\n",
              "   1.0,\n",
              "   0.0,\n",
              "   0,\n",
              "   20],\n",
              "  [1,\n",
              "   0.5434625545235494,\n",
              "   1,\n",
              "   [20, 0.5434625545235494, 0],\n",
              "   20.0,\n",
              "   1.0,\n",
              "   0.0,\n",
              "   0,\n",
              "   20],\n",
              "  [2, 0.236056206786792, 1, [20, 0.236056206786792, 0], 20.0, 1.0, 0.0, 0, 20],\n",
              "  [3,\n",
              "   1.4114559516225194,\n",
              "   1,\n",
              "   [20, 1.4114559516225194, 0],\n",
              "   20.0,\n",
              "   1.0,\n",
              "   0.0,\n",
              "   0,\n",
              "   20],\n",
              "  [4,\n",
              "   1.2345026714728198,\n",
              "   1,\n",
              "   [20, 1.2345026714728198, 0],\n",
              "   20.0,\n",
              "   1.0,\n",
              "   0.0,\n",
              "   0,\n",
              "   20],\n",
              "  [5,\n",
              "   0.4876195245256648,\n",
              "   1,\n",
              "   [20, 0.4876195245256648, 0],\n",
              "   20.0,\n",
              "   1.0,\n",
              "   0.0,\n",
              "   0,\n",
              "   20],\n",
              "  [6,\n",
              "   0.17167691158241932,\n",
              "   1,\n",
              "   [20, 0.17167691158241932, 0],\n",
              "   20.0,\n",
              "   1.0,\n",
              "   0.0,\n",
              "   0,\n",
              "   20],\n",
              "  [7, 1.0, 1, [20, 1.0, 0], 20.0, 1.0, 0.0, 0, 20],\n",
              "  [8,\n",
              "   0.47825232463416245,\n",
              "   1,\n",
              "   [20, 0.47825232463416245, 0],\n",
              "   20.0,\n",
              "   1.0,\n",
              "   0.0,\n",
              "   0,\n",
              "   20],\n",
              "  [9,\n",
              "   0.5094062543063556,\n",
              "   0,\n",
              "   [19.490593745693644, 0.5094062543063556, 1],\n",
              "   20.0,\n",
              "   1.0,\n",
              "   0.0,\n",
              "   0,\n",
              "   20],\n",
              "  [10,\n",
              "   0.9523828561388437,\n",
              "   2,\n",
              "   [20.442976601832488, 0.9523828561388437, 0],\n",
              "   20.442976601832488,\n",
              "   1.0221488300916244,\n",
              "   0.022148830091624383,\n",
              "   0,\n",
              "   20],\n",
              "  [11,\n",
              "   1.84695147852505,\n",
              "   1,\n",
              "   [20.442976601832488, 1.84695147852505, 0],\n",
              "   20.442976601832488,\n",
              "   1.0,\n",
              "   0.022148830091624383,\n",
              "   0,\n",
              "   20],\n",
              "  [12,\n",
              "   1.0334668795128663,\n",
              "   1,\n",
              "   [20.442976601832488, 1.0334668795128663, 0],\n",
              "   20.442976601832488,\n",
              "   1.0,\n",
              "   0.022148830091624383,\n",
              "   0,\n",
              "   20],\n",
              "  [13,\n",
              "   1.3578369872797642,\n",
              "   1,\n",
              "   [20.442976601832488, 1.3578369872797642, 0],\n",
              "   20.442976601832488,\n",
              "   1.0,\n",
              "   0.022148830091624383,\n",
              "   0,\n",
              "   20],\n",
              "  [14,\n",
              "   0.1920468427637605,\n",
              "   1,\n",
              "   [20.442976601832488, 0.1920468427637605, 0],\n",
              "   20.442976601832488,\n",
              "   1.0,\n",
              "   0.022148830091624383,\n",
              "   0,\n",
              "   20],\n",
              "  [15,\n",
              "   0.5463641313327725,\n",
              "   0,\n",
              "   [19.896612470499715, 0.5463641313327725, 1],\n",
              "   20.442976601832488,\n",
              "   1.0,\n",
              "   0.022148830091624383,\n",
              "   0,\n",
              "   20],\n",
              "  [16,\n",
              "   0.7299321446114417,\n",
              "   2,\n",
              "   [20.626544615111158, 0.7299321446114417, 0],\n",
              "   20.626544615111158,\n",
              "   1.0089795149138026,\n",
              "   0.03132723075555788,\n",
              "   1,\n",
              "   20.626544615111158]]]"
            ]
          },
          "metadata": {
            "tags": []
          },
          "execution_count": 17
        }
      ]
    },
    {
      "cell_type": "code",
      "metadata": {
        "id": "Tiw8inRifyZK",
        "colab_type": "code",
        "colab": {
          "base_uri": "https://localhost:8080/",
          "height": 34
        },
        "outputId": "fa958cd0-ee78-4b82-d8e4-d1837b48aed4"
      },
      "source": [
        "transaction_history"
      ],
      "execution_count": null,
      "outputs": [
        {
          "output_type": "execute_result",
          "data": {
            "text/plain": [
              "[]"
            ]
          },
          "metadata": {
            "tags": []
          },
          "execution_count": 49
        }
      ]
    },
    {
      "cell_type": "code",
      "metadata": {
        "id": "I9xyQaVFvOHH",
        "colab_type": "code",
        "colab": {
          "base_uri": "https://localhost:8080/",
          "height": 34
        },
        "outputId": "e0a59649-9e9b-4f2c-ea19-3e55331c10ad"
      },
      "source": [
        "len(act_f)"
      ],
      "execution_count": null,
      "outputs": [
        {
          "output_type": "execute_result",
          "data": {
            "text/plain": [
              "46"
            ]
          },
          "metadata": {
            "tags": []
          },
          "execution_count": 60
        }
      ]
    },
    {
      "cell_type": "markdown",
      "metadata": {
        "id": "ge_mWVAy229o",
        "colab_type": "text"
      },
      "source": [
        "여기부터는 검증 셋"
      ]
    },
    {
      "cell_type": "code",
      "metadata": {
        "id": "cdK7dZFJA81b",
        "colab_type": "code",
        "colab": {}
      },
      "source": [
        "balance_t = [20, 0, 0]\n",
        "base_pv_t = 20\n",
        "pvt_list = []\n",
        "act_v_t_list =[]\n",
        "\n",
        "for i in range(len(p_serise)):\n",
        "  \n",
        "  price = p_serise[i][4]\n",
        "  act_f = model_predict.predict(p_serise)[i]\n",
        "  act_f = np.argmax(act_f)\n",
        "  act_v_t, before_act_balance_t = action_validate(act_f, price, balance_t)\n",
        "  act_v_t_list.append(act_v_t)\n",
        "\n",
        "  balance_updated_t, present_value_t = balance_update(balance, price, act_v_t)\n",
        "  pvt_list.append(present_value_t)\n",
        "\n",
        "balance_updated_t = [20, 0, 0]\n",
        "present_value_t = 20\n",
        "\n",
        "\n",
        "  "
      ],
      "execution_count": 23,
      "outputs": []
    },
    {
      "cell_type": "code",
      "metadata": {
        "id": "I6wNe9LjkBHp",
        "colab_type": "code",
        "colab": {
          "base_uri": "https://localhost:8080/",
          "height": 265
        },
        "outputId": "47d9c08c-ad09-4a83-c707-e06fe9c17505"
      },
      "source": [
        "plt.plot(pvt_list)\n",
        "plt.show()"
      ],
      "execution_count": 24,
      "outputs": [
        {
          "output_type": "display_data",
          "data": {
            "image/png": "[encoded data removed]",
            "text/plain": [
              "<Figure size 432x288 with 1 Axes>"
            ]
          },
          "metadata": {
            "tags": [],
            "needs_background": "light"
          }
        }
      ]
    },
    {
      "cell_type": "code",
      "metadata": {
        "id": "c4_7UpWb4t5b",
        "colab_type": "code",
        "colab": {
          "base_uri": "https://localhost:8080/",
          "height": 826
        },
        "outputId": "5383a31a-3a23-4a15-be47-3a62335b10e3"
      },
      "source": [
        "act_v_t_list"
      ],
      "execution_count": 20,
      "outputs": [
        {
          "output_type": "execute_result",
          "data": {
            "text/plain": [
              "[1,\n",
              " 1,\n",
              " 1,\n",
              " 1,\n",
              " 1,\n",
              " 0,\n",
              " 1,\n",
              " 1,\n",
              " 1,\n",
              " 0,\n",
              " 1,\n",
              " 1,\n",
              " 1,\n",
              " 1,\n",
              " 1,\n",
              " 0,\n",
              " 1,\n",
              " 0,\n",
              " 1,\n",
              " 1,\n",
              " 1,\n",
              " 1,\n",
              " 1,\n",
              " 1,\n",
              " 1,\n",
              " 1,\n",
              " 1,\n",
              " 1,\n",
              " 1,\n",
              " 1,\n",
              " 1,\n",
              " 1,\n",
              " 1,\n",
              " 1,\n",
              " 1,\n",
              " 1,\n",
              " 1,\n",
              " 1,\n",
              " 1,\n",
              " 1,\n",
              " 1,\n",
              " 1,\n",
              " 1,\n",
              " 1,\n",
              " 1,\n",
              " 1]"
            ]
          },
          "metadata": {
            "tags": []
          },
          "execution_count": 20
        }
      ]
    },
    {
      "cell_type": "code",
      "metadata": {
        "id": "QXZY4yzzCO0A",
        "colab_type": "code",
        "colab": {
          "base_uri": "https://localhost:8080/",
          "height": 826
        },
        "outputId": "bb256385-417a-472e-fe36-3c3e9f38c55c"
      },
      "source": [
        "model_predict.predict(p_serise)"
      ],
      "execution_count": 37,
      "outputs": [
        {
          "output_type": "execute_result",
          "data": {
            "text/plain": [
              "array([[0.43809104, 0.5532676 ],\n",
              "       [0.17132473, 0.8131696 ],\n",
              "       [0.10741076, 0.887551  ],\n",
              "       [0.19450396, 0.7952615 ],\n",
              "       [0.09078774, 0.90492797],\n",
              "       [0.14325789, 0.8529537 ],\n",
              "       [0.16682854, 0.8252994 ],\n",
              "       [0.20783877, 0.7839641 ],\n",
              "       [0.2929499 , 0.69760156],\n",
              "       [0.1751906 , 0.8175409 ],\n",
              "       [0.1453959 , 0.85240704],\n",
              "       [0.15538421, 0.8428644 ],\n",
              "       [0.13363343, 0.8656073 ],\n",
              "       [0.29395628, 0.7131426 ],\n",
              "       [0.3211311 , 0.6764327 ],\n",
              "       [0.4208239 , 0.57978475],\n",
              "       [0.60605145, 0.38466907],\n",
              "       [0.4626227 , 0.5263104 ],\n",
              "       [0.4469903 , 0.54378045],\n",
              "       [0.28005993, 0.7041136 ],\n",
              "       [0.24327117, 0.7393004 ],\n",
              "       [0.2850849 , 0.69241595],\n",
              "       [0.23564479, 0.7483871 ],\n",
              "       [0.1013608 , 0.8859261 ],\n",
              "       [0.08838475, 0.9013871 ],\n",
              "       [0.13522345, 0.8470934 ],\n",
              "       [0.08048123, 0.90925527],\n",
              "       [0.07003579, 0.9216449 ],\n",
              "       [0.0467568 , 0.94605875],\n",
              "       [0.07541275, 0.913558  ],\n",
              "       [0.0969215 , 0.88593185],\n",
              "       [0.07035273, 0.9184941 ],\n",
              "       [0.05416551, 0.93630373],\n",
              "       [0.02699694, 0.9670671 ],\n",
              "       [0.05324203, 0.9358625 ],\n",
              "       [0.04744804, 0.9405458 ],\n",
              "       [0.02926695, 0.9642925 ],\n",
              "       [0.01959792, 0.9752439 ],\n",
              "       [0.01417238, 0.98206866],\n",
              "       [0.02301735, 0.969923  ],\n",
              "       [0.02729404, 0.96430254],\n",
              "       [0.01816049, 0.975018  ],\n",
              "       [0.00782788, 0.9891112 ],\n",
              "       [0.00563514, 0.99227685],\n",
              "       [0.00202348, 0.99726164],\n",
              "       [0.00107189, 0.9985807 ]], dtype=float32)"
            ]
          },
          "metadata": {
            "tags": []
          },
          "execution_count": 37
        }
      ]
    },
    {
      "cell_type": "code",
      "metadata": {
        "id": "_QnJnNQ3COxW",
        "colab_type": "code",
        "colab": {
          "base_uri": "https://localhost:8080/",
          "height": 52
        },
        "outputId": "c97156a5-88a9-42d5-a2c6-97640cee2748"
      },
      "source": [
        "for i in range(11):\n",
        "  if i == 5:\n",
        "    print(i)\n",
        "    continue\n",
        "  if i ==10:\n",
        "    print(i)"
      ],
      "execution_count": null,
      "outputs": [
        {
          "output_type": "stream",
          "text": [
            "5\n",
            "10\n"
          ],
          "name": "stdout"
        }
      ]
    },
    {
      "cell_type": "code",
      "metadata": {
        "id": "YO3z5VbSn4Rs",
        "colab_type": "code",
        "colab": {}
      },
      "source": [
        ""
      ],
      "execution_count": null,
      "outputs": []
    },
    {
      "cell_type": "code",
      "metadata": {
        "id": "nDPgJZbPn4iH",
        "colab_type": "code",
        "colab": {}
      },
      "source": [
        ""
      ],
      "execution_count": null,
      "outputs": []
    },
    {
      "cell_type": "code",
      "metadata": {
        "id": "tPRQGQwzn4cJ",
        "colab_type": "code",
        "colab": {}
      },
      "source": [
        ""
      ],
      "execution_count": null,
      "outputs": []
    },
    {
      "cell_type": "markdown",
      "metadata": {
        "id": "kxMksbeaKDJM",
        "colab_type": "text"
      },
      "source": [
        "여기가 끝이다."
      ]
    },
    {
      "cell_type": "code",
      "metadata": {
        "id": "SI8QKecFCOu1",
        "colab_type": "code",
        "colab": {}
      },
      "source": [
        ""
      ],
      "execution_count": null,
      "outputs": []
    },
    {
      "cell_type": "code",
      "metadata": {
        "id": "BuAebEm_COof",
        "colab_type": "code",
        "colab": {}
      },
      "source": [
        "from tensorflow import keras\n",
        "from tensorflow.keras.utils import to_categorical\n",
        "y_encoded = keras.utils.to_categorical(action, 2) # 분류 갯수를 정하기 위한 인수(2)가 필요하다."
      ],
      "execution_count": null,
      "outputs": []
    },
    {
      "cell_type": "code",
      "metadata": {
        "id": "Ul2K9MCnCOlJ",
        "colab_type": "code",
        "colab": {}
      },
      "source": [
        "def balance_update(predict, p_serise):\n",
        "\n",
        "  acts = []\n",
        "  balance = [100, 0, 0]  #[자본금, 종가, 보유주식수] 이다.\n",
        "  blist = [[100.0, 0.0, 0.0]]\n",
        "  for i in range(len(predict)):\n",
        "    action = np.random.choice(3,p=predict[i]) # 대안 중에서 하나를 선택한다. \n",
        "    \n",
        "    if action == 0 and (balance[0] - p_serise[i][4]) < 0:\n",
        "      ps = predict[i][1] + predict[i][2]\n",
        "      pn = [predict[i][1],predict[i][2]]/ps\n",
        "      action = 1+ np.random.choice(2,p=pn) \n",
        "\n",
        "    if action == 2 and balance[2] <= 0:\n",
        "      ps = predict[i][0] + predict[i][1]\n",
        "      pn = [predict[i][0],predict[i][1]]/ps\n",
        "      action = np.random.choice(2,p=pn)  \n",
        "\n",
        "    if action == 1:  # hold\n",
        "      balance[1] = p_serise[i][4]\n",
        "\n",
        "    if action  == 0:  # buy\n",
        "      balance[0] = balance[0] - p_serise[i][4]\n",
        "      balance[1] = p_serise[i][4]\n",
        "      balance[2] = balance[2] + 1\n",
        "\n",
        "    if action  == 2:\n",
        "      balance[0] = balance[0] + p_serise[i][4]\n",
        "      balance[1] = p_serise[i][4]\n",
        "      balance[2] = balance[2] - 1 \n",
        "     \n",
        "    blist.append([balance[0], balance[1], balance[2]])\n",
        "    acts.append(action)\n",
        "  return blist, acts"
      ],
      "execution_count": null,
      "outputs": []
    },
    {
      "cell_type": "code",
      "metadata": {
        "id": "CW6izHkVNTWr",
        "colab_type": "code",
        "colab": {}
      },
      "source": [
        "def reward_portfolio (blist):   \n",
        "\n",
        "  reward_sum_list=[]\n",
        "  reward_list=[]\n",
        "   \n",
        "\n",
        "  for a in blist:\n",
        "    reward_sum = a[0] + a[1] * a[2]\n",
        "    reward_sum_list.append(reward_sum)\n",
        "\n",
        "  for i in range(len(reward_sum_list)-1):\n",
        "    reward = np.abs(reward_sum_list[i+1] - reward_sum_list[i]) # 가중치를 일괄적으로 양 수로 만들어서 손실함수 계산의 방향을 일관되게 만든다.\n",
        "    reward_list.append(reward)      \n",
        "  return reward_sum_list, reward_list\n",
        "\n"
      ],
      "execution_count": null,
      "outputs": []
    },
    {
      "cell_type": "code",
      "metadata": {
        "id": "1QJO6PsGdru9",
        "colab_type": "code",
        "colab": {}
      },
      "source": [
        "def discount_rewards(r, gamma=0.5):\n",
        "    \"\"\"Takes 1d float array of rewards and computes discounted reward\n",
        "    e.g. f([1, 1, 1], 0.99) -> [2.9701, 1.99, 1]\n",
        "    \"\"\"\n",
        "    prior = 0\n",
        "    out = []\n",
        "    r = r[::-1]\n",
        "    for val in r:\n",
        "        new_val = val + prior * gamma\n",
        "        out.append(new_val)\n",
        "        prior = new_val\n",
        "    return np.array(out[::-1])"
      ],
      "execution_count": null,
      "outputs": []
    },
    {
      "cell_type": "code",
      "metadata": {
        "id": "E__9jrhId8jq",
        "colab_type": "code",
        "colab": {}
      },
      "source": [
        ""
      ],
      "execution_count": null,
      "outputs": []
    },
    {
      "cell_type": "code",
      "metadata": {
        "id": "52938aqWnN-c",
        "colab_type": "code",
        "colab": {
          "base_uri": "https://localhost:8080/",
          "height": 34
        },
        "outputId": "210ebf42-2bb5-4c93-9498-e944c3f3ecde"
      },
      "source": [
        "from tensorflow.keras.utils import to_categorical\n",
        "from tensorflow import keras\n",
        "import keras.layers as layers\n",
        "from keras.layers import LSTM, Dense\n",
        "from keras.models import Model, Sequential\n",
        "from keras.optimizers import Adam, RMSprop\n",
        "from keras.initializers import glorot_uniform\n",
        "from keras.callbacks import ModelCheckpoint, EarlyStopping\n",
        "import keras.backend as K  # 케라스의 backend를 K. 형식으로 호출하는 것이고 여기서는 tensorflow이다."
      ],
      "execution_count": null,
      "outputs": [
        {
          "output_type": "stream",
          "text": [
            "Using TensorFlow backend.\n"
          ],
          "name": "stderr"
        }
      ]
    },
    {
      "cell_type": "code",
      "metadata": {
        "id": "KCPbLji1nrUn",
        "colab_type": "code",
        "colab": {}
      },
      "source": [
        "def get_policy_model(lr):\n",
        "  inp_L = layers.Input(shape=(5,),name=\"input_L\")\n",
        "  multip = layers.Input(shape=[1], name=\"advantages\")\n",
        "  dense_L = Dense(64)(inp_L)\n",
        "  output_s = layers.Dense(3, activation=\"softmax\",kernel_initializer=glorot_uniform(seed=42), use_bias=False, kernel_regularizer=keras.regularizers.l2(0.001), name=\"out\")(dense_L)\n",
        "\n",
        "  model_train = Model(inputs=[inp_L, multip], outputs = output_s)\n",
        "\n",
        "  # loss 함수를 actual과 predict가 같을때 -무한대가 되도록 만든다. 완전히 틀리면 0 이므로 loss 함수의 값의 범위는 -무한대 ~ 0 이다.\n",
        "  def custom_loss(y_true, y_pred):\n",
        "    # actual: 0 predict: 0 -> log(0 * (0 - 0) + (1 - 0) * (0 + 0)) = -inf   log(0) = - inf\n",
        "    # actual: 1 predict: 1 -> log(1 * (1 - 1) + (1 - 1) * (1 + 1)) = -inf   \n",
        "    # actual: 1 predict: 0 -> log(1 * (1 - 0) + (1 - 1) * (1 + 0)) = 0      log(1) = 0\n",
        "    # actual: 0 predict: 1 -> log(0 * (0 - 1) + (1 - 0) * (0 + 1)) = 0\n",
        "    a = y_true * (y_true - y_pred) + (1 - y_true) * (y_true + y_pred)\n",
        "    log_lik = K.log(a)\n",
        "    return K.mean(log_lik * multip, keepdims=True)\n",
        "\n",
        "  model_train.compile(loss=custom_loss, optimizer=Adam(lr), metrics = ['mae'])\n",
        "  model_predict = Model(inputs=[inp_L], outputs = output_s)\n",
        "  return model_train, model_predict"
      ],
      "execution_count": null,
      "outputs": []
    },
    {
      "cell_type": "code",
      "metadata": {
        "id": "Tf2pQzw7oOcE",
        "colab_type": "code",
        "colab": {}
      },
      "source": [
        "model_train, model_predict = get_policy_model(0.00001)"
      ],
      "execution_count": null,
      "outputs": []
    },
    {
      "cell_type": "code",
      "metadata": {
        "id": "BdCAk3uqoOf4",
        "colab_type": "code",
        "colab": {
          "base_uri": "https://localhost:8080/",
          "height": 263
        },
        "outputId": "87b33d10-6db3-4a14-a684-09a81d87c9c2"
      },
      "source": [
        "model_train.summary()"
      ],
      "execution_count": null,
      "outputs": [
        {
          "output_type": "stream",
          "text": [
            "Model: \"model_1\"\n",
            "_________________________________________________________________\n",
            "Layer (type)                 Output Shape              Param #   \n",
            "=================================================================\n",
            "input_L (InputLayer)         (None, 5)                 0         \n",
            "_________________________________________________________________\n",
            "dense_1 (Dense)              (None, 64)                384       \n",
            "_________________________________________________________________\n",
            "out (Dense)                  (None, 3)                 192       \n",
            "=================================================================\n",
            "Total params: 576\n",
            "Trainable params: 576\n",
            "Non-trainable params: 0\n",
            "_________________________________________________________________\n"
          ],
          "name": "stdout"
        }
      ]
    },
    {
      "cell_type": "code",
      "metadata": {
        "id": "cnaVguhh0ykz",
        "colab_type": "code",
        "colab": {}
      },
      "source": [
        ""
      ],
      "execution_count": null,
      "outputs": []
    },
    {
      "cell_type": "code",
      "metadata": {
        "id": "ee-kc84l2EFX",
        "colab_type": "code",
        "colab": {}
      },
      "source": [
        ""
      ],
      "execution_count": null,
      "outputs": []
    },
    {
      "cell_type": "code",
      "metadata": {
        "id": "l5VxtpM8oOjg",
        "colab_type": "code",
        "colab": {
          "base_uri": "https://localhost:8080/",
          "height": 1000
        },
        "outputId": "3f41dab9-4f97-48c7-dc91-448644782edc"
      },
      "source": [
        "# Setting up our environment\n",
        "\n",
        "num_actions = 3\n",
        "num_episode = 0\n",
        "num_episodes = 10000\n",
        "\n",
        "balance=[100.0, 0.0, 0.0]   \n",
        "\n",
        "action_list = []\n",
        "reward_list = []\n",
        "reward_sum_list = []\n",
        "\n",
        "price, p_serise, price_lstm = env()\n",
        "\n",
        "while num_episode < num_episodes:\n",
        "\n",
        "    losses = []\n",
        "     \n",
        "    p_serise = p_serise.astype(float) # nan 발생을 막기 위한 시도이다.\n",
        "\n",
        "    predict = model_predict.predict(p_serise)  # 한개의 state를 input해서 신경망을 통해 action을 만들어낸다.\n",
        "      \n",
        "    blist, acts = balance_update(predict, p_serise)\n",
        "\n",
        "    reward_sum_list, reward_list = reward_portfolio(blist)\n",
        "\n",
        "   \n",
        "    if reward_sum_list[-1] > 120.0:\n",
        "      break\n",
        "    else:\n",
        "      y_encoded = keras.utils.to_categorical(acts, 3)\n",
        "      dis_re = discount_rewards(reward_list)\n",
        "      loss = model_train.train_on_batch([p_serise, dis_re/100], y_encoded)\n",
        "\n",
        "    losses.append(loss)\n",
        "\n",
        "    if (num_episode+1) % 100 == 0:\n",
        "      print(\"num_episode: \",num_episode+1, \"loss: \", losses[-1][0], \"model_reward: \", reward_sum_list[-1])\n",
        "          \n",
        "    num_episode += 1\n",
        "    price, p_serise, price_lstm = env()\n"
      ],
      "execution_count": null,
      "outputs": [
        {
          "output_type": "stream",
          "text": [
            "num_episode:  100 loss:  -0.0015004296 model_reward:  98.43091745899021\n",
            "num_episode:  200 loss:  0.005515466 model_reward:  100.0\n",
            "num_episode:  300 loss:  0.00019470043 model_reward:  98.40993966995285\n",
            "num_episode:  400 loss:  0.0054811565 model_reward:  100.0\n",
            "num_episode:  500 loss:  0.0054636374 model_reward:  100.0\n",
            "num_episode:  600 loss:  0.0054448424 model_reward:  100.0\n",
            "num_episode:  700 loss:  0.005426042 model_reward:  100.0\n",
            "num_episode:  800 loss:  0.0024502221 model_reward:  99.17197107528669\n",
            "num_episode:  900 loss:  0.005381563 model_reward:  100.0\n",
            "num_episode:  1000 loss:  -0.0010551126 model_reward:  98.56116042059348\n",
            "num_episode:  1100 loss:  0.005335754 model_reward:  100.0\n",
            "num_episode:  1200 loss:  0.0053128023 model_reward:  100.0\n",
            "num_episode:  1300 loss:  0.0052875252 model_reward:  100.0\n",
            "num_episode:  1400 loss:  0.005262426 model_reward:  100.0\n",
            "num_episode:  1500 loss:  0.00523735 model_reward:  100.0\n",
            "num_episode:  1600 loss:  0.0052127033 model_reward:  100.0\n",
            "num_episode:  1700 loss:  0.005186327 model_reward:  100.0\n",
            "num_episode:  1800 loss:  0.005159652 model_reward:  100.0\n",
            "num_episode:  1900 loss:  0.0051343893 model_reward:  100.0\n",
            "num_episode:  2000 loss:  0.005107552 model_reward:  100.0\n",
            "num_episode:  2100 loss:  0.005079513 model_reward:  100.0\n",
            "num_episode:  2200 loss:  0.005052191 model_reward:  100.0\n",
            "num_episode:  2300 loss:  0.0050252248 model_reward:  100.0\n",
            "num_episode:  2400 loss:  0.004996138 model_reward:  100.0\n",
            "num_episode:  2500 loss:  0.0049682437 model_reward:  100.0\n",
            "num_episode:  2600 loss:  0.004939787 model_reward:  100.0\n",
            "num_episode:  2700 loss:  0.0049096253 model_reward:  100.0\n",
            "num_episode:  2800 loss:  0.004879964 model_reward:  100.0\n",
            "num_episode:  2900 loss:  0.0048501315 model_reward:  100.0\n",
            "num_episode:  3000 loss:  0.0048204977 model_reward:  100.0\n",
            "num_episode:  3100 loss:  0.004791667 model_reward:  100.0\n",
            "num_episode:  3200 loss:  0.0004956466 model_reward:  99.13302251361006\n",
            "num_episode:  3300 loss:  0.0047322037 model_reward:  100.0\n",
            "num_episode:  3400 loss:  0.004704902 model_reward:  100.0\n",
            "num_episode:  3500 loss:  0.0046762717 model_reward:  100.0\n",
            "num_episode:  3600 loss:  0.004646018 model_reward:  100.0\n",
            "num_episode:  3700 loss:  0.004615604 model_reward:  100.0\n",
            "num_episode:  3800 loss:  0.004584374 model_reward:  100.0\n",
            "num_episode:  3900 loss:  0.0045554684 model_reward:  100.0\n",
            "num_episode:  4000 loss:  0.004523432 model_reward:  100.0\n",
            "num_episode:  4100 loss:  0.0044917106 model_reward:  100.0\n",
            "num_episode:  4200 loss:  0.004459348 model_reward:  100.0\n",
            "num_episode:  4300 loss:  0.0044271033 model_reward:  100.0\n",
            "num_episode:  4400 loss:  0.0043949625 model_reward:  100.0\n",
            "num_episode:  4500 loss:  0.0043635955 model_reward:  100.0\n",
            "num_episode:  4600 loss:  0.004331963 model_reward:  100.0\n",
            "num_episode:  4700 loss:  0.0043012677 model_reward:  100.0\n",
            "num_episode:  4800 loss:  0.0042683217 model_reward:  100.0\n",
            "num_episode:  4900 loss:  0.0042358804 model_reward:  100.0\n",
            "num_episode:  5000 loss:  0.0042049102 model_reward:  100.0\n",
            "num_episode:  5100 loss:  0.004173663 model_reward:  100.0\n",
            "num_episode:  5200 loss:  0.0041421745 model_reward:  100.0\n",
            "num_episode:  5300 loss:  0.0041092634 model_reward:  100.0\n",
            "num_episode:  5400 loss:  0.004076972 model_reward:  100.0\n",
            "num_episode:  5500 loss:  0.004044666 model_reward:  100.0\n",
            "num_episode:  5600 loss:  0.0040126666 model_reward:  100.0\n",
            "num_episode:  5700 loss:  0.00398225 model_reward:  100.0\n",
            "num_episode:  5800 loss:  0.0039505544 model_reward:  100.0\n",
            "num_episode:  5900 loss:  0.0039183726 model_reward:  100.0\n",
            "num_episode:  6000 loss:  0.0038872757 model_reward:  100.0\n",
            "num_episode:  6100 loss:  0.0038557088 model_reward:  100.0\n",
            "num_episode:  6200 loss:  0.0038233157 model_reward:  100.0\n",
            "num_episode:  6300 loss:  0.003791911 model_reward:  100.0\n",
            "num_episode:  6400 loss:  0.0037601101 model_reward:  100.0\n",
            "num_episode:  6500 loss:  0.003728481 model_reward:  100.0\n",
            "num_episode:  6600 loss:  0.0036973585 model_reward:  100.0\n",
            "num_episode:  6700 loss:  0.0036655453 model_reward:  100.0\n",
            "num_episode:  6800 loss:  0.0036345802 model_reward:  100.0\n",
            "num_episode:  6900 loss:  0.0036039327 model_reward:  100.0\n",
            "num_episode:  7000 loss:  0.0035742228 model_reward:  100.0\n",
            "num_episode:  7100 loss:  0.0035451467 model_reward:  100.0\n",
            "num_episode:  7200 loss:  0.0035161164 model_reward:  100.0\n",
            "num_episode:  7300 loss:  0.0034875472 model_reward:  100.0\n",
            "num_episode:  7400 loss:  0.0034590708 model_reward:  100.0\n",
            "num_episode:  7500 loss:  0.003431081 model_reward:  100.0\n",
            "num_episode:  7600 loss:  0.0034021214 model_reward:  100.0\n",
            "num_episode:  7700 loss:  0.0033739756 model_reward:  100.0\n",
            "num_episode:  7800 loss:  0.0033459766 model_reward:  100.0\n",
            "num_episode:  7900 loss:  0.0033169857 model_reward:  100.0\n",
            "num_episode:  8000 loss:  0.0032883373 model_reward:  100.0\n",
            "num_episode:  8100 loss:  0.0032606097 model_reward:  100.0\n",
            "num_episode:  8200 loss:  0.003233885 model_reward:  100.0\n",
            "num_episode:  8300 loss:  0.0032061834 model_reward:  100.0\n",
            "num_episode:  8400 loss:  0.0031791173 model_reward:  100.0\n",
            "num_episode:  8500 loss:  0.003153976 model_reward:  100.0\n",
            "num_episode:  8600 loss:  0.003127616 model_reward:  100.0\n",
            "num_episode:  8700 loss:  0.003101291 model_reward:  100.0\n",
            "num_episode:  8800 loss:  0.0030740476 model_reward:  100.0\n",
            "num_episode:  8900 loss:  0.0030476109 model_reward:  100.0\n",
            "num_episode:  9000 loss:  0.003020967 model_reward:  100.0\n",
            "num_episode:  9100 loss:  0.0029943183 model_reward:  100.0\n",
            "num_episode:  9200 loss:  0.00296714 model_reward:  100.0\n",
            "num_episode:  9300 loss:  0.0029394755 model_reward:  100.0\n",
            "num_episode:  9400 loss:  0.00291161 model_reward:  100.0\n",
            "num_episode:  9500 loss:  0.002885084 model_reward:  100.0\n",
            "num_episode:  9600 loss:  0.0028581868 model_reward:  100.0\n",
            "num_episode:  9700 loss:  0.0028315305 model_reward:  100.0\n",
            "num_episode:  9800 loss:  0.0028050705 model_reward:  100.0\n",
            "num_episode:  9900 loss:  0.0027779161 model_reward:  100.0\n",
            "num_episode:  10000 loss:  0.0027523604 model_reward:  100.0\n"
          ],
          "name": "stdout"
        }
      ]
    },
    {
      "cell_type": "code",
      "metadata": {
        "id": "SFXJa7ULfIm1",
        "colab_type": "code",
        "colab": {}
      },
      "source": [
        ""
      ],
      "execution_count": null,
      "outputs": []
    },
    {
      "cell_type": "code",
      "metadata": {
        "id": "Fr2T_DCMdsFa",
        "colab_type": "code",
        "colab": {}
      },
      "source": [
        "predict = model_predict.predict(p_serise)"
      ],
      "execution_count": null,
      "outputs": []
    },
    {
      "cell_type": "code",
      "metadata": {
        "id": "gNb7YB9bbfUd",
        "colab_type": "code",
        "colab": {
          "base_uri": "https://localhost:8080/",
          "height": 457
        },
        "outputId": "718d039b-da85-4802-e84c-89591108a966"
      },
      "source": [
        "predict"
      ],
      "execution_count": null,
      "outputs": [
        {
          "output_type": "execute_result",
          "data": {
            "text/plain": [
              "array([[3.6138725e-03, 9.9543518e-01, 9.5101329e-04],\n",
              "       [2.5309306e-03, 9.9687552e-01, 5.9350801e-04],\n",
              "       [1.6649085e-03, 9.9793869e-01, 3.9637886e-04],\n",
              "       [1.1331739e-03, 9.9862301e-01, 2.4384700e-04],\n",
              "       [8.9347886e-04, 9.9892789e-01, 1.7856655e-04],\n",
              "       [6.7802204e-04, 9.9918562e-01, 1.3640364e-04],\n",
              "       [5.1899574e-04, 9.9938595e-01, 9.5118827e-05],\n",
              "       [4.0926790e-04, 9.9951863e-01, 7.2090930e-05],\n",
              "       [3.4076688e-04, 9.9960107e-01, 5.8188223e-05],\n",
              "       [2.9136828e-04, 9.9965870e-01, 4.9990009e-05],\n",
              "       [2.4987900e-04, 9.9970716e-01, 4.2903313e-05],\n",
              "       [2.4483568e-04, 9.9971491e-01, 4.0296556e-05],\n",
              "       [2.2691984e-04, 9.9973422e-01, 3.8798502e-05],\n",
              "       [2.2932976e-04, 9.9973351e-01, 3.7164038e-05],\n",
              "       [2.3295525e-04, 9.9972624e-01, 4.0761293e-05],\n",
              "       [2.3052981e-04, 9.9972850e-01, 4.1016719e-05],\n",
              "       [2.7433300e-04, 9.9967790e-01, 4.7780799e-05],\n",
              "       [2.9424176e-04, 9.9964762e-01, 5.8202586e-05],\n",
              "       [3.4178881e-04, 9.9959475e-01, 6.3547915e-05],\n",
              "       [4.1455880e-04, 9.9950135e-01, 8.4088300e-05],\n",
              "       [5.0070317e-04, 9.9938917e-01, 1.1013113e-04],\n",
              "       [6.5733481e-04, 9.9919075e-01, 1.5192527e-04],\n",
              "       [8.6150935e-04, 9.9891627e-01, 2.2219443e-04],\n",
              "       [1.2839217e-03, 9.9837518e-01, 3.4081523e-04],\n",
              "       [1.7692746e-03, 9.9769068e-01, 5.4007728e-04]], dtype=float32)"
            ]
          },
          "metadata": {
            "tags": []
          },
          "execution_count": 18
        }
      ]
    },
    {
      "cell_type": "code",
      "metadata": {
        "id": "z9pqtsUJ5kDz",
        "colab_type": "code",
        "colab": {}
      },
      "source": [
        "blist, acts = balance_update(predict, p_serise)\n",
        "\n",
        "    "
      ],
      "execution_count": null,
      "outputs": []
    },
    {
      "cell_type": "code",
      "metadata": {
        "id": "ypq5iFSD5kHH",
        "colab_type": "code",
        "colab": {
          "base_uri": "https://localhost:8080/",
          "height": 34
        },
        "outputId": "55ca1613-d2dc-4d1a-bfc4-4c01299a3e50"
      },
      "source": [
        "acts"
      ],
      "execution_count": null,
      "outputs": [
        {
          "output_type": "execute_result",
          "data": {
            "text/plain": [
              "[1, 1, 1, 1, 1, 1, 1, 1, 1, 1, 1, 1, 1, 1, 1, 1, 1, 1, 1, 1, 1, 1, 1, 1, 1]"
            ]
          },
          "metadata": {
            "tags": []
          },
          "execution_count": 20
        }
      ]
    },
    {
      "cell_type": "code",
      "metadata": {
        "id": "i85zgyZO5wRc",
        "colab_type": "code",
        "colab": {
          "base_uri": "https://localhost:8080/",
          "height": 474
        },
        "outputId": "1de4d0d3-96a6-4268-bc8a-11b3e62bebe9"
      },
      "source": [
        "blist"
      ],
      "execution_count": null,
      "outputs": [
        {
          "output_type": "execute_result",
          "data": {
            "text/plain": [
              "[[100.0, 0.0, 0.0],\n",
              " [100, 3.9877771384524716, 0],\n",
              " [100, 4.0765769672822, 0],\n",
              " [100, 4.210458646072498, 0],\n",
              " [100, 4.483095742634497, 0],\n",
              " [100, 4.565387372085023, 0],\n",
              " [100, 4.71244661397334, 0],\n",
              " [100, 4.885086273380034, 0],\n",
              " [100, 5.016812548642121, 0],\n",
              " [100, 5.048064792342275, 0],\n",
              " [100, 5.014176983045866, 0],\n",
              " [100, 5.112904769029705, 0],\n",
              " [100, 5.082847672344554, 0],\n",
              " [100, 5.16510696197368, 0],\n",
              " [100, 5.092284003497985, 0],\n",
              " [100, 4.948211285146682, 0],\n",
              " [100, 5.0063037357539795, 0],\n",
              " [100, 4.784278366930281, 0],\n",
              " [100, 4.760625085739134, 0],\n",
              " [100, 4.690961475596859, 0],\n",
              " [100, 4.460830067774835, 0],\n",
              " [100, 4.2789269692796275, 0],\n",
              " [100, 4.008987712574459, 0],\n",
              " [100, 3.874456053114483, 0],\n",
              " [100, 3.574380409350225, 0],\n",
              " [100, 3.3768865232630247, 0]]"
            ]
          },
          "metadata": {
            "tags": []
          },
          "execution_count": 21
        }
      ]
    },
    {
      "cell_type": "code",
      "metadata": {
        "id": "W_PI5G4_5wUk",
        "colab_type": "code",
        "colab": {
          "base_uri": "https://localhost:8080/",
          "height": 52
        },
        "outputId": "7c18d7dc-9352-4ba4-a76e-591f2f0a3037"
      },
      "source": [
        "dis_re"
      ],
      "execution_count": null,
      "outputs": [
        {
          "output_type": "execute_result",
          "data": {
            "text/plain": [
              "array([0., 0., 0., 0., 0., 0., 0., 0., 0., 0., 0., 0., 0., 0., 0., 0., 0.,\n",
              "       0., 0., 0., 0., 0., 0., 0., 0.])"
            ]
          },
          "metadata": {
            "tags": []
          },
          "execution_count": 24
        }
      ]
    },
    {
      "cell_type": "code",
      "metadata": {
        "id": "vcsTPURy5wYG",
        "colab_type": "code",
        "colab": {
          "base_uri": "https://localhost:8080/",
          "height": 457
        },
        "outputId": "a2b3c094-07df-44c3-f396-a25b4e992382"
      },
      "source": [
        "reward_list"
      ],
      "execution_count": null,
      "outputs": [
        {
          "output_type": "execute_result",
          "data": {
            "text/plain": [
              "[0,\n",
              " 0.0,\n",
              " 0.0,\n",
              " 0.0,\n",
              " 0.0,\n",
              " 0.10798032990297202,\n",
              " 0.0,\n",
              " 0.09972510880207608,\n",
              " 0.0,\n",
              " 0.05702562077745199,\n",
              " 0.0,\n",
              " 0.0,\n",
              " 0.0,\n",
              " 0.0,\n",
              " 0.008023248219004131,\n",
              " 0.0,\n",
              " 0.0,\n",
              " -0.21939723052554427,\n",
              " -0.2704698111146513,\n",
              " -0.21527481970460371,\n",
              " 0.0,\n",
              " -0.380158586348756,\n",
              " 0.0,\n",
              " 0.0,\n",
              " 0.0]"
            ]
          },
          "metadata": {
            "tags": []
          },
          "execution_count": 27
        }
      ]
    },
    {
      "cell_type": "code",
      "metadata": {
        "id": "3ORWnRdVkzht",
        "colab_type": "code",
        "colab": {
          "base_uri": "https://localhost:8080/",
          "height": 34
        },
        "outputId": "2b184e6c-1d8e-49d7-e747-4b2ceecfd41d"
      },
      "source": [
        "test = [0.1, 0.2, 0.7]\n",
        "print(test[0:2])"
      ],
      "execution_count": null,
      "outputs": [
        {
          "output_type": "stream",
          "text": [
            "[0.1, 0.2]\n"
          ],
          "name": "stdout"
        }
      ]
    },
    {
      "cell_type": "code",
      "metadata": {
        "id": "l0mUFfN8kzli",
        "colab_type": "code",
        "colab": {
          "base_uri": "https://localhost:8080/",
          "height": 222
        },
        "outputId": "35a69047-3286-48fb-e2af-d7bca0a8e12e"
      },
      "source": [
        "aa = np.random.choice(2,p=test[0:2])\n",
        "print(aa)"
      ],
      "execution_count": null,
      "outputs": [
        {
          "output_type": "error",
          "ename": "ValueError",
          "evalue": "ignored",
          "traceback": [
            "\u001b[0;31m---------------------------------------------------------------------------\u001b[0m",
            "\u001b[0;31mValueError\u001b[0m                                Traceback (most recent call last)",
            "\u001b[0;32m<ipython-input-32-ce2ffd32b02c>\u001b[0m in \u001b[0;36m<module>\u001b[0;34m()\u001b[0m\n\u001b[0;32m----> 1\u001b[0;31m \u001b[0maa\u001b[0m \u001b[0;34m=\u001b[0m \u001b[0mnp\u001b[0m\u001b[0;34m.\u001b[0m\u001b[0mrandom\u001b[0m\u001b[0;34m.\u001b[0m\u001b[0mchoice\u001b[0m\u001b[0;34m(\u001b[0m\u001b[0;36m2\u001b[0m\u001b[0;34m,\u001b[0m\u001b[0mp\u001b[0m\u001b[0;34m=\u001b[0m\u001b[0mtest\u001b[0m\u001b[0;34m[\u001b[0m\u001b[0;36m0\u001b[0m\u001b[0;34m:\u001b[0m\u001b[0;36m2\u001b[0m\u001b[0;34m]\u001b[0m\u001b[0;34m)\u001b[0m\u001b[0;34m\u001b[0m\u001b[0;34m\u001b[0m\u001b[0m\n\u001b[0m\u001b[1;32m      2\u001b[0m \u001b[0mprint\u001b[0m\u001b[0;34m(\u001b[0m\u001b[0maa\u001b[0m\u001b[0;34m)\u001b[0m\u001b[0;34m\u001b[0m\u001b[0;34m\u001b[0m\u001b[0m\n",
            "\u001b[0;32mmtrand.pyx\u001b[0m in \u001b[0;36mnumpy.random.mtrand.RandomState.choice\u001b[0;34m()\u001b[0m\n",
            "\u001b[0;31mValueError\u001b[0m: probabilities do not sum to 1"
          ]
        }
      ]
    },
    {
      "cell_type": "code",
      "metadata": {
        "id": "gfAE5835kzxB",
        "colab_type": "code",
        "colab": {}
      },
      "source": [
        ""
      ],
      "execution_count": null,
      "outputs": []
    },
    {
      "cell_type": "code",
      "metadata": {
        "id": "_DCWmX1jgNsL",
        "colab_type": "code",
        "colab": {}
      },
      "source": [
        "def reward_lstm (p_serise, action):\n",
        "  rewards =[0]\n",
        "  \n",
        "  for i in range(len(p_serise)-1):\n",
        "    price_gap = p_serise[i+1][4] - p_serise[i][0]\n",
        "    if price_gap >= 0 and action[i] == 1 :\n",
        "       reward = 1\n",
        "       rewards.append(reward)\n",
        "    if price_gap >= 0 and action[i] == 0 :\n",
        "       reward = 0\n",
        "       rewards.append(reward)\n",
        "    if price_gap >= 0 and action[i] == 2 :\n",
        "       reward = -1\n",
        "       rewards.append(reward)\n",
        "    if price_gap <= 0 and action[i] == 1 :\n",
        "       reward = -1\n",
        "       rewards.append(reward)\n",
        "    if price_gap <= 0 and action[i] == 0 :\n",
        "       reward = 0\n",
        "       rewards.append(reward)\n",
        "    if price_gap <= 0 and action[i] == 2 :\n",
        "       reward = 1\n",
        "       rewards.append(reward)\n",
        "\n",
        "  return rewards\n"
      ],
      "execution_count": null,
      "outputs": []
    },
    {
      "cell_type": "code",
      "metadata": {
        "id": "BQwD-t8Li5hJ",
        "colab_type": "code",
        "colab": {
          "base_uri": "https://localhost:8080/",
          "height": 34
        },
        "outputId": "ecf4d445-fc17-44ec-9cca-e67b4ff2321f"
      },
      "source": [
        "len(reward_lstm (p_serise, price_lstm_y))"
      ],
      "execution_count": null,
      "outputs": [
        {
          "output_type": "execute_result",
          "data": {
            "text/plain": [
              "25"
            ]
          },
          "metadata": {
            "tags": []
          },
          "execution_count": 149
        }
      ]
    },
    {
      "cell_type": "code",
      "metadata": {
        "id": "nRfbsAW_nN2t",
        "colab_type": "code",
        "colab": {}
      },
      "source": [
        " def act_selection(act):\n",
        "   acts = []\n",
        "   for i in range(0, len(act)):\n",
        "     action = np.random.choice(3,p=act[i])\n",
        "     acts.append(action)\n",
        "   return acts"
      ],
      "execution_count": null,
      "outputs": []
    },
    {
      "cell_type": "code",
      "metadata": {
        "id": "fMEoQVVt0eT3",
        "colab_type": "code",
        "colab": {
          "base_uri": "https://localhost:8080/",
          "height": 34
        },
        "outputId": "6a67b824-cfd0-4507-dad1-fe97377a6d05"
      },
      "source": [
        "multip = np.array([1,1,1,1,1,1,1,1,1,1,1,1,1,1,1,1,1,1,1,1,1,1,1,1,1])\n",
        "len(multip)"
      ],
      "execution_count": null,
      "outputs": [
        {
          "output_type": "execute_result",
          "data": {
            "text/plain": [
              "25"
            ]
          },
          "metadata": {
            "tags": []
          },
          "execution_count": 150
        }
      ]
    },
    {
      "cell_type": "code",
      "metadata": {
        "id": "GYqwu-HRoOmz",
        "colab_type": "code",
        "colab": {}
      },
      "source": [
        "predict = model_predict.predict(p_serise)"
      ],
      "execution_count": null,
      "outputs": []
    },
    {
      "cell_type": "code",
      "metadata": {
        "id": "OldzEZfWnrcs",
        "colab_type": "code",
        "colab": {}
      },
      "source": [
        "action_c=[]\n",
        "\n",
        "for i in range(len(predict)):\n",
        "  a = np.argmax(predict[i])\n",
        "  action_c.append(a)"
      ],
      "execution_count": null,
      "outputs": []
    },
    {
      "cell_type": "code",
      "metadata": {
        "id": "sIS-EhC9vSef",
        "colab_type": "code",
        "colab": {
          "base_uri": "https://localhost:8080/",
          "height": 34
        },
        "outputId": "1c2f78f5-51a8-49c6-c5ef-08c9c2e1057a"
      },
      "source": [
        "np.sum(reward_lstm(p_serise, action_c))"
      ],
      "execution_count": null,
      "outputs": [
        {
          "output_type": "execute_result",
          "data": {
            "text/plain": [
              "3"
            ]
          },
          "metadata": {
            "tags": []
          },
          "execution_count": 55
        }
      ]
    },
    {
      "cell_type": "code",
      "metadata": {
        "id": "8X4_950456td",
        "colab_type": "code",
        "colab": {
          "base_uri": "https://localhost:8080/",
          "height": 34
        },
        "outputId": "366a37e5-cafb-434e-92db-752cf0357516"
      },
      "source": [
        "action_c"
      ],
      "execution_count": null,
      "outputs": [
        {
          "output_type": "execute_result",
          "data": {
            "text/plain": [
              "[1, 1, 1, 1, 1, 0, 0, 0, 0, 0, 0, 0, 0, 0, 0, 0, 0, 0, 0, 0, 0, 0, 1, 1, 1]"
            ]
          },
          "metadata": {
            "tags": []
          },
          "execution_count": 56
        }
      ]
    },
    {
      "cell_type": "code",
      "metadata": {
        "id": "LeDZBnO656oR",
        "colab_type": "code",
        "colab": {}
      },
      "source": [
        ""
      ],
      "execution_count": null,
      "outputs": []
    },
    {
      "cell_type": "code",
      "metadata": {
        "id": "eBil12gR56mh",
        "colab_type": "code",
        "colab": {}
      },
      "source": [
        ""
      ],
      "execution_count": null,
      "outputs": []
    },
    {
      "cell_type": "code",
      "metadata": {
        "id": "0hx-wlyJ56kY",
        "colab_type": "code",
        "colab": {}
      },
      "source": [
        ""
      ],
      "execution_count": null,
      "outputs": []
    },
    {
      "cell_type": "code",
      "metadata": {
        "id": "IazXuUZw56iI",
        "colab_type": "code",
        "colab": {}
      },
      "source": [
        ""
      ],
      "execution_count": null,
      "outputs": []
    },
    {
      "cell_type": "code",
      "metadata": {
        "id": "NP0ycHrO56fn",
        "colab_type": "code",
        "colab": {}
      },
      "source": [
        ""
      ],
      "execution_count": null,
      "outputs": []
    },
    {
      "cell_type": "code",
      "metadata": {
        "id": "K5bMrbNO5SeR",
        "colab_type": "code",
        "colab": {
          "base_uri": "https://localhost:8080/",
          "height": 34
        },
        "outputId": "0a145254-b935-4f9c-9201-4e8e9942786d"
      },
      "source": [
        "from tensorflow.keras.utils import to_categorical\n",
        "from tensorflow import keras\n",
        "import tensorflow as tf\n",
        "import keras.layers as layers\n",
        "from keras.layers import LSTM, Dense\n",
        "from keras.models import Model, Sequential\n",
        "from keras.optimizers import Adam, RMSprop\n",
        "from keras.initializers import glorot_uniform\n",
        "from keras.callbacks import ModelCheckpoint, EarlyStopping\n",
        "import keras.backend as K  # 케라스의 backend를 K. 형식으로 호출하는 것이고 여기서는 tensorflow이다."
      ],
      "execution_count": null,
      "outputs": [
        {
          "output_type": "stream",
          "text": [
            "Using TensorFlow backend.\n"
          ],
          "name": "stderr"
        }
      ]
    },
    {
      "cell_type": "code",
      "metadata": {
        "id": "2gWNXKuA8QVH",
        "colab_type": "code",
        "colab": {}
      },
      "source": [
        "#inp_L = layers.Input(shape=(5,1),name=\"input_L\")  # LSTM 용\n",
        "#dense_L = LSTM(5, return_sequences=False)(inp_L)  # LSTM 용\n",
        "inp_L = layers.Input(shape=(5,),name=\"input_L\")\n",
        "#dense_L = Dense(64)(dense_L)\n",
        "dense_L = Dense(64)(inp_L)\n",
        "#output_L = Dense(1)(dense_L)\n",
        "output_s = layers.Dense(3, activation=\"softmax\",kernel_initializer=glorot_uniform(seed=42), use_bias=False, kernel_regularizer=keras.regularizers.l2(0.001), name=\"out\")(dense_L)\n",
        "\n",
        "model_lstm = Model(inputs=inp_L, outputs = output_s)"
      ],
      "execution_count": null,
      "outputs": []
    },
    {
      "cell_type": "code",
      "metadata": {
        "id": "nq9u7FVL8QMN",
        "colab_type": "code",
        "colab": {}
      },
      "source": [
        "optimizer = tf.keras.optimizers.Adam(lr=0.001)\n",
        "model_lstm.compile(loss='categorical_crossentropy', optimizer=optimizer, metrics=['mae'])"
      ],
      "execution_count": null,
      "outputs": []
    },
    {
      "cell_type": "code",
      "metadata": {
        "id": "HzEFHZQ--JZt",
        "colab_type": "code",
        "colab": {}
      },
      "source": [
        "history_lstm = model_lstm.fit(p_serise, y_encoded, epochs=150, verbose=0)"
      ],
      "execution_count": null,
      "outputs": []
    },
    {
      "cell_type": "code",
      "metadata": {
        "id": "HkHpoNBRDZ3u",
        "colab_type": "code",
        "colab": {
          "base_uri": "https://localhost:8080/",
          "height": 265
        },
        "outputId": "8d7151c3-47cc-43c7-c8dd-2e55846641ef"
      },
      "source": [
        "plt.plot(history_lstm.history['loss'])\n",
        "plt.show()"
      ],
      "execution_count": null,
      "outputs": [
        {
          "output_type": "display_data",
          "data": {
            "image/png": "[encoded data removed]",
            "text/plain": [
              "<Figure size 432x288 with 1 Axes>"
            ]
          },
          "metadata": {
            "tags": [],
            "needs_background": "light"
          }
        }
      ]
    },
    {
      "cell_type": "code",
      "metadata": {
        "id": "dUOFL8eADyES",
        "colab_type": "code",
        "colab": {
          "base_uri": "https://localhost:8080/",
          "height": 265
        },
        "outputId": "eda1d22e-cccb-4229-a3e2-cc8503dd7f79"
      },
      "source": [
        "plt.plot(action(model_lstm.predict(p_serise)), 'b')\n",
        "# plt.plot(price_lstm_y, 'r')\n",
        "plt.show()"
      ],
      "execution_count": null,
      "outputs": [
        {
          "output_type": "display_data",
          "data": {
            "image/png": "[encoded data removed]",
            "text/plain": [
              "<Figure size 432x288 with 1 Axes>"
            ]
          },
          "metadata": {
            "tags": [],
            "needs_background": "light"
          }
        }
      ]
    },
    {
      "cell_type": "code",
      "metadata": {
        "id": "rcnD7iot56Zc",
        "colab_type": "code",
        "colab": {}
      },
      "source": [
        ""
      ],
      "execution_count": null,
      "outputs": []
    },
    {
      "cell_type": "code",
      "metadata": {
        "id": "Ykgd940f56Ws",
        "colab_type": "code",
        "colab": {}
      },
      "source": [
        ""
      ],
      "execution_count": null,
      "outputs": []
    },
    {
      "cell_type": "code",
      "metadata": {
        "id": "vgKgY08H56S9",
        "colab_type": "code",
        "colab": {}
      },
      "source": [
        ""
      ],
      "execution_count": null,
      "outputs": []
    },
    {
      "cell_type": "code",
      "metadata": {
        "id": "oOk67j_P_1ui",
        "colab_type": "code",
        "colab": {
          "base_uri": "https://localhost:8080/",
          "height": 34
        },
        "outputId": "9b115394-bee0-4705-abeb-96322edb2ba6"
      },
      "source": [
        ""
      ],
      "execution_count": null,
      "outputs": [
        {
          "output_type": "stream",
          "text": [
            "[1, 1, 1, 1, 1, 1, 1, 1, 1, 1, 1, 0, 0, 0, 0, 0, 0, 0, 0, 0, 0, 0, 0, 0, 0]\n"
          ],
          "name": "stdout"
        }
      ]
    },
    {
      "cell_type": "markdown",
      "metadata": {
        "id": "ZqnDeQDebd7L",
        "colab_type": "text"
      },
      "source": [
        "만약 정책함수에서 softmax가 행동대안을 산출하면 각 행동대안이 갖는 확률을 기반으로 하여 새로운 행동을 산출한다. 만약 각 행동대안의 확율이 높아 질 수록 산출할 행동 대안의 모습은 수렴해 갈 것이다."
      ]
    },
    {
      "cell_type": "code",
      "metadata": {
        "id": "bUP7ErWSq7Q-",
        "colab_type": "code",
        "colab": {}
      },
      "source": [
        ""
      ],
      "execution_count": null,
      "outputs": []
    },
    {
      "cell_type": "markdown",
      "metadata": {
        "id": "hZ94IMpkGo4Q",
        "colab_type": "text"
      },
      "source": [
        "custom loss 함수를 테스트 해본다."
      ]
    },
    {
      "cell_type": "code",
      "metadata": {
        "id": "oeNsD1JMGuKf",
        "colab_type": "code",
        "colab": {
          "base_uri": "https://localhost:8080/",
          "height": 34
        },
        "outputId": "f5900976-abc9-41c8-bd69-e30e707a5430"
      },
      "source": [
        ""
      ],
      "execution_count": null,
      "outputs": [
        {
          "output_type": "stream",
          "text": [
            "Using TensorFlow backend.\n"
          ],
          "name": "stderr"
        }
      ]
    },
    {
      "cell_type": "code",
      "metadata": {
        "id": "Whc8OKjFG7q9",
        "colab_type": "code",
        "colab": {}
      },
      "source": [
        "def my_loss(y_true, y_pred):\n",
        "  y_true = y_true **2\n",
        "  y_pred = y_pred **2\n",
        "  loss = K.mean(K.abs(y_true - y_pred) + K.square(y_true - y_pred))\n",
        "  return loss * multip\n",
        "\n",
        "\n",
        "# metric는 중요하지 않다.\n",
        "\n",
        "def my_metric(y_true, y_pred):\n",
        "  return K.mean(K.abs(y_true - y_pred)) * 1000"
      ],
      "execution_count": null,
      "outputs": []
    },
    {
      "cell_type": "code",
      "metadata": {
        "id": "uA6-PGbtd48V",
        "colab_type": "code",
        "colab": {}
      },
      "source": [
        ""
      ],
      "execution_count": null,
      "outputs": []
    },
    {
      "cell_type": "code",
      "metadata": {
        "id": "bHBAqZNpGJiT",
        "colab_type": "code",
        "colab": {}
      },
      "source": [
        "# 하나의 에피소드 내에서 지연된 보상을 하기 위한 방법이다. \n",
        "\n",
        "def discount_rewards(r, gamma=0.99):\n",
        "    \"\"\"Takes 1d float array of rewards and computes discounted reward\n",
        "    e.g. f([1, 1, 1], 0.99) -> [2.9701, 1.99, 1]\n",
        "    \"\"\"\n",
        "    prior = 0\n",
        "    out = []\n",
        "    r = r[::-1]\n",
        "    for val in r:\n",
        "        new_val = val + prior * gamma\n",
        "        out.append(new_val)\n",
        "        prior = new_val\n",
        "    return np.array(out)"
      ],
      "execution_count": null,
      "outputs": []
    },
    {
      "cell_type": "code",
      "metadata": {
        "id": "9mnjJQyQLm9P",
        "colab_type": "code",
        "colab": {}
      },
      "source": [
        "# test_set에 적용하는 함수\n",
        "\n",
        "def score_model(model_predict, num_tests):\n",
        "    scores = []    \n",
        "    for num_test in range(num_tests):\n",
        "        observation = env()\n",
        "        forcasts = model_predict.predict(observation)\n",
        "        rw = reward(observation, np.argmax(forcasts, axis=1))\n",
        "        scores.append(rw)\n",
        "    return np.mean(scores)"
      ],
      "execution_count": null,
      "outputs": []
    },
    {
      "cell_type": "code",
      "metadata": {
        "id": "pekZ5hube7jg",
        "colab_type": "code",
        "colab": {}
      },
      "source": [
        ""
      ],
      "execution_count": null,
      "outputs": []
    },
    {
      "cell_type": "code",
      "metadata": {
        "id": "Zb1yTMimS19n",
        "colab_type": "code",
        "colab": {}
      },
      "source": [
        ""
      ],
      "execution_count": null,
      "outputs": []
    },
    {
      "cell_type": "code",
      "metadata": {
        "id": "HtPlFP_N91Sn",
        "colab_type": "code",
        "colab": {}
      },
      "source": [
        ""
      ],
      "execution_count": null,
      "outputs": []
    },
    {
      "cell_type": "code",
      "metadata": {
        "id": "5jzHURCR91WX",
        "colab_type": "code",
        "colab": {}
      },
      "source": [
        ""
      ],
      "execution_count": null,
      "outputs": []
    }
  ]
}