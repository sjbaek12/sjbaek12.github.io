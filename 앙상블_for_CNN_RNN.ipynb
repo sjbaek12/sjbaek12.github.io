{
  "nbformat": 4,
  "nbformat_minor": 0,
  "metadata": {
    "colab": {
      "name": "앙상블 for CNN RNN",
      "provenance": [],
      "collapsed_sections": [],
      "authorship_tag": "ABX9TyNpqj4Jg4ScbDNhCxN3vbrW",
      "include_colab_link": true
    },
    "kernelspec": {
      "name": "python3",
      "display_name": "Python 3"
    }
  },
  "cells": [
    {
      "cell_type": "markdown",
      "metadata": {
        "id": "view-in-github",
        "colab_type": "text"
      },
      "source": [
        "<a href=\"https://colab.research.google.com/github/sjbaek12/sjbaek12.github.io/blob/master/%EC%95%99%EC%83%81%EB%B8%94_for_CNN_RNN.ipynb\" target=\"_parent\"><img src=\"https://colab.research.google.com/assets/colab-badge.svg\" alt=\"Open In Colab\"/></a>"
      ]
    },
    {
      "cell_type": "markdown",
      "metadata": {
        "id": "kC4IclpOFR-i",
        "colab_type": "text"
      },
      "source": [
        "순환신경망과 합성곱 신경망의 앙상블 테스트"
      ]
    },
    {
      "cell_type": "code",
      "metadata": {
        "id": "K9KMUKawFXPq",
        "colab_type": "code",
        "colab": {}
      },
      "source": [
        "import numpy as np\n",
        "import tensorflow as tf\n",
        "from tensorflow.keras.datasets import imdb"
      ],
      "execution_count": null,
      "outputs": []
    },
    {
      "cell_type": "code",
      "metadata": {
        "id": "lRftmwkBFj5q",
        "colab_type": "code",
        "colab": {
          "base_uri": "https://localhost:8080/",
          "height": 34
        },
        "outputId": "fb3b2479-292c-45f0-9b35-70b818237d72"
      },
      "source": [
        "(x_train_all, y_train_all), (x_test, y_test) = imdb.load_data(skip_top=20, num_words=100)\n",
        "\n",
        "from tensorflow.keras.preprocessing import sequence\n",
        "\n",
        "max_features = 1000\n",
        "max_len=100\n",
        "x_train_seq = sequence.pad_sequences(x_train_all, maxlen=max_len)\n",
        "\n",
        "print(x_train_seq.shape)"
      ],
      "execution_count": null,
      "outputs": [
        {
          "output_type": "stream",
          "text": [
            "(25000, 100)\n"
          ],
          "name": "stdout"
        }
      ]
    },
    {
      "cell_type": "code",
      "metadata": {
        "id": "q_eCz8PsFtGQ",
        "colab_type": "code",
        "colab": {}
      },
      "source": [
        "from keras.models import Model\n",
        "from keras import layers\n",
        "from keras import Input\n",
        "from keras.layers import Embedding, Conv1D, MaxPooling1D, GlobalMaxPooling1D, Dense, SimpleRNN, Average  "
      ],
      "execution_count": null,
      "outputs": []
    },
    {
      "cell_type": "code",
      "metadata": {
        "id": "nnAHxrwUFyCJ",
        "colab_type": "code",
        "colab": {
          "base_uri": "https://localhost:8080/",
          "height": 401
        },
        "outputId": "acf7ef9e-e128-431d-9dd5-1f2d1fafe005"
      },
      "source": [
        "input_tensor = Input(shape=(100,)) # shape=(input_dim,)\n",
        "\n",
        "def conv_pool_cnn(model_input):\n",
        "  x = Embedding(500, 128)(model_input)\n",
        "  x = Conv1D(32, 7, activation = 'relu')(x)\n",
        "  x = MaxPooling1D(5)(x)\n",
        "  x = Conv1D(32, 6, activation='relu')(x)\n",
        "  x = GlobalMaxPooling1D()(x)\n",
        "  x = Dense(1, activation = 'sigmoid')(x)\n",
        "\n",
        "  model = Model(model_input, x, name='conv_pool_cnn')\n",
        "\n",
        "  return model\n",
        "\n",
        "\n",
        "\n",
        "model = conv_pool_cnn(input_tensor)\n",
        "model.summary()"
      ],
      "execution_count": null,
      "outputs": [
        {
          "output_type": "stream",
          "text": [
            "Model: \"conv_pool_cnn\"\n",
            "_________________________________________________________________\n",
            "Layer (type)                 Output Shape              Param #   \n",
            "=================================================================\n",
            "input_7 (InputLayer)         (None, 100)               0         \n",
            "_________________________________________________________________\n",
            "embedding_5 (Embedding)      (None, 100, 128)          64000     \n",
            "_________________________________________________________________\n",
            "conv1d_6 (Conv1D)            (None, 94, 32)            28704     \n",
            "_________________________________________________________________\n",
            "max_pooling1d_3 (MaxPooling1 (None, 18, 32)            0         \n",
            "_________________________________________________________________\n",
            "conv1d_7 (Conv1D)            (None, 13, 32)            6176      \n",
            "_________________________________________________________________\n",
            "global_max_pooling1d_3 (Glob (None, 32)                0         \n",
            "_________________________________________________________________\n",
            "dense_2 (Dense)              (None, 1)                 33        \n",
            "=================================================================\n",
            "Total params: 98,913\n",
            "Trainable params: 98,913\n",
            "Non-trainable params: 0\n",
            "_________________________________________________________________\n"
          ],
          "name": "stdout"
        }
      ]
    },
    {
      "cell_type": "code",
      "metadata": {
        "id": "TmUWjrVqFy4w",
        "colab_type": "code",
        "colab": {
          "base_uri": "https://localhost:8080/",
          "height": 421
        },
        "outputId": "22c4aa20-46fc-4991-fad2-ccc9c2797e1d"
      },
      "source": [
        "model.compile(optimizer=RMSprop(lr=0.001), loss='binary_crossentropy', metrics=['acc'])\n",
        "history = model.fit(x_train_seq, y_train_all, epochs=10, batch_size=128)"
      ],
      "execution_count": null,
      "outputs": [
        {
          "output_type": "stream",
          "text": [
            "/usr/local/lib/python3.6/dist-packages/tensorflow/python/framework/indexed_slices.py:434: UserWarning: Converting sparse IndexedSlices to a dense Tensor of unknown shape. This may consume a large amount of memory.\n",
            "  \"Converting sparse IndexedSlices to a dense Tensor of unknown shape. \"\n"
          ],
          "name": "stderr"
        },
        {
          "output_type": "stream",
          "text": [
            "Epoch 1/10\n",
            "25000/25000 [==============================] - 16s 659us/step - loss: 0.6458 - acc: 0.6154\n",
            "Epoch 2/10\n",
            "25000/25000 [==============================] - 16s 655us/step - loss: 0.6039 - acc: 0.6652\n",
            "Epoch 3/10\n",
            "25000/25000 [==============================] - 16s 655us/step - loss: 0.5913 - acc: 0.6794\n",
            "Epoch 4/10\n",
            "25000/25000 [==============================] - 16s 655us/step - loss: 0.5799 - acc: 0.6861\n",
            "Epoch 5/10\n",
            "25000/25000 [==============================] - 16s 653us/step - loss: 0.5689 - acc: 0.6991\n",
            "Epoch 6/10\n",
            "25000/25000 [==============================] - 16s 654us/step - loss: 0.5580 - acc: 0.7087\n",
            "Epoch 7/10\n",
            "25000/25000 [==============================] - 16s 656us/step - loss: 0.5455 - acc: 0.7165\n",
            "Epoch 8/10\n",
            "25000/25000 [==============================] - 16s 655us/step - loss: 0.5326 - acc: 0.7292\n",
            "Epoch 9/10\n",
            "25000/25000 [==============================] - 16s 656us/step - loss: 0.5189 - acc: 0.7380\n",
            "Epoch 10/10\n",
            "25000/25000 [==============================] - 16s 655us/step - loss: 0.5069 - acc: 0.7479\n"
          ],
          "name": "stdout"
        }
      ]
    },
    {
      "cell_type": "markdown",
      "metadata": {
        "id": "4sfLvnvXOJWR",
        "colab_type": "text"
      },
      "source": [
        "RNN 모듈"
      ]
    },
    {
      "cell_type": "code",
      "metadata": {
        "id": "6r7Ap0KhONb5",
        "colab_type": "code",
        "colab": {}
      },
      "source": [
        "def rnn_pool_cnn(model_input):\n",
        "  x = Embedding(500, 128)(model_input)\n",
        "  x = SimpleRNN(8)(x)\n",
        "  x = Dense(1, activation='sigmoid')(x)\n",
        "  \n",
        "  model = Model(model_input, x, name='rnn_pool_cnn')\n",
        "\n",
        "  return model"
      ],
      "execution_count": null,
      "outputs": []
    },
    {
      "cell_type": "code",
      "metadata": {
        "id": "CEb5iGMEQTEK",
        "colab_type": "code",
        "colab": {
          "base_uri": "https://localhost:8080/",
          "height": 296
        },
        "outputId": "13d8e515-1209-43ff-f3c5-f3f7e85ca449"
      },
      "source": [
        "model1 = rnn_pool_cnn(input_tensor)\n",
        "model1.summary()"
      ],
      "execution_count": null,
      "outputs": [
        {
          "output_type": "stream",
          "text": [
            "Model: \"rnn_pool_cnn\"\n",
            "_________________________________________________________________\n",
            "Layer (type)                 Output Shape              Param #   \n",
            "=================================================================\n",
            "input_7 (InputLayer)         (None, 100)               0         \n",
            "_________________________________________________________________\n",
            "embedding_8 (Embedding)      (None, 100, 128)          64000     \n",
            "_________________________________________________________________\n",
            "simple_rnn_1 (SimpleRNN)     (None, 8)                 1096      \n",
            "_________________________________________________________________\n",
            "dense_4 (Dense)              (None, 1)                 9         \n",
            "=================================================================\n",
            "Total params: 65,105\n",
            "Trainable params: 65,105\n",
            "Non-trainable params: 0\n",
            "_________________________________________________________________\n"
          ],
          "name": "stdout"
        }
      ]
    },
    {
      "cell_type": "code",
      "metadata": {
        "id": "UONd4vKYQTPZ",
        "colab_type": "code",
        "colab": {
          "base_uri": "https://localhost:8080/",
          "height": 366
        },
        "outputId": "300b2ec7-fe0e-4fcf-eb4e-e95f4e2c09e6"
      },
      "source": [
        "model1.compile(optimizer=tf.keras.optimizers.Adam(0.001), loss='binary_crossentropy', metrics=['acc'])\n",
        "history1 = model1.fit(x_train_seq, y_train_all, epochs=10, batch_size=128)"
      ],
      "execution_count": null,
      "outputs": [
        {
          "output_type": "stream",
          "text": [
            "Epoch 1/10\n",
            "25000/25000 [==============================] - 7s 275us/step - loss: 0.6901 - acc: 0.5239\n",
            "Epoch 2/10\n",
            "25000/25000 [==============================] - 7s 264us/step - loss: 0.6851 - acc: 0.5434\n",
            "Epoch 3/10\n",
            "25000/25000 [==============================] - 7s 262us/step - loss: 0.6757 - acc: 0.5623\n",
            "Epoch 4/10\n",
            "25000/25000 [==============================] - 7s 265us/step - loss: 0.6584 - acc: 0.6153\n",
            "Epoch 5/10\n",
            "25000/25000 [==============================] - 7s 263us/step - loss: 0.6493 - acc: 0.6312\n",
            "Epoch 6/10\n",
            "25000/25000 [==============================] - 7s 265us/step - loss: 0.6494 - acc: 0.6308\n",
            "Epoch 7/10\n",
            "25000/25000 [==============================] - 7s 262us/step - loss: 0.6449 - acc: 0.6366\n",
            "Epoch 8/10\n",
            "25000/25000 [==============================] - 7s 264us/step - loss: 0.6460 - acc: 0.6305\n",
            "Epoch 9/10\n",
            "25000/25000 [==============================] - 7s 267us/step - loss: 0.6526 - acc: 0.6329\n",
            "Epoch 10/10\n",
            "25000/25000 [==============================] - 7s 263us/step - loss: 0.6510 - acc: 0.6292\n"
          ],
          "name": "stdout"
        }
      ]
    },
    {
      "cell_type": "code",
      "metadata": {
        "id": "1tJ0MiUPQTTY",
        "colab_type": "code",
        "colab": {}
      },
      "source": [
        "model = conv_pool_cnn(input_tensor)\n",
        "model1 = rnn_pool_cnn(input_tensor)\n",
        "\n",
        "#conv_pool_cnn_model.load_weights('weights/conv_pool_cnn.29-0.10.hdf5')\n",
        "##all_cnn_model.load_weights('weights/all_cnn.30-0.08.hdf5')\n",
        "#nin_cnn_model.load_weights('weights/nin_cnn.30-0.93.hdf5')\n",
        "\n",
        "models = [model, model1]"
      ],
      "execution_count": null,
      "outputs": []
    },
    {
      "cell_type": "code",
      "metadata": {
        "id": "O8NFCNpxQUEx",
        "colab_type": "code",
        "colab": {}
      },
      "source": [
        "def ensemble(models, model_input):\n",
        "    \n",
        "    outputs = [model.outputs[0] for model in models]\n",
        "    y = Average()(outputs)\n",
        "    model = Model(model_input, y, name='ensemble')\n",
        "    \n",
        "    return model\n",
        "\n",
        "ensemble_model = ensemble(models, input_tensor)"
      ],
      "execution_count": null,
      "outputs": []
    },
    {
      "cell_type": "code",
      "metadata": {
        "id": "cwvUk0BoVknx",
        "colab_type": "code",
        "colab": {
          "base_uri": "https://localhost:8080/",
          "height": 558
        },
        "outputId": "d7cd54d7-29fe-4928-bc1f-38bd825e3948"
      },
      "source": [
        "ensemble_model.summary()"
      ],
      "execution_count": null,
      "outputs": [
        {
          "output_type": "stream",
          "text": [
            "Model: \"ensemble\"\n",
            "__________________________________________________________________________________________________\n",
            "Layer (type)                    Output Shape         Param #     Connected to                     \n",
            "==================================================================================================\n",
            "input_7 (InputLayer)            (None, 100)          0                                            \n",
            "__________________________________________________________________________________________________\n",
            "embedding_11 (Embedding)        (None, 100, 128)     64000       input_7[0][0]                    \n",
            "__________________________________________________________________________________________________\n",
            "conv1d_12 (Conv1D)              (None, 94, 32)       28704       embedding_11[0][0]               \n",
            "__________________________________________________________________________________________________\n",
            "max_pooling1d_6 (MaxPooling1D)  (None, 18, 32)       0           conv1d_12[0][0]                  \n",
            "__________________________________________________________________________________________________\n",
            "conv1d_13 (Conv1D)              (None, 13, 32)       6176        max_pooling1d_6[0][0]            \n",
            "__________________________________________________________________________________________________\n",
            "embedding_12 (Embedding)        (None, 100, 128)     64000       input_7[0][0]                    \n",
            "__________________________________________________________________________________________________\n",
            "global_max_pooling1d_6 (GlobalM (None, 32)           0           conv1d_13[0][0]                  \n",
            "__________________________________________________________________________________________________\n",
            "simple_rnn_3 (SimpleRNN)        (None, 8)            1096        embedding_12[0][0]               \n",
            "__________________________________________________________________________________________________\n",
            "dense_7 (Dense)                 (None, 1)            33          global_max_pooling1d_6[0][0]     \n",
            "__________________________________________________________________________________________________\n",
            "dense_8 (Dense)                 (None, 1)            9           simple_rnn_3[0][0]               \n",
            "__________________________________________________________________________________________________\n",
            "average_1 (Average)             (None, 1)            0           dense_7[0][0]                    \n",
            "                                                                 dense_8[0][0]                    \n",
            "==================================================================================================\n",
            "Total params: 164,018\n",
            "Trainable params: 164,018\n",
            "Non-trainable params: 0\n",
            "__________________________________________________________________________________________________\n"
          ],
          "name": "stdout"
        }
      ]
    },
    {
      "cell_type": "code",
      "metadata": {
        "id": "BpKWFVGBVuAK",
        "colab_type": "code",
        "colab": {}
      },
      "source": [
        "ensemble_model.compile(optimizer=tf.keras.optimizers.Adam(0.001), loss='binary_crossentropy', metrics=['acc'])"
      ],
      "execution_count": null,
      "outputs": []
    },
    {
      "cell_type": "code",
      "metadata": {
        "id": "egF0m8FcWDoR",
        "colab_type": "code",
        "colab": {
          "base_uri": "https://localhost:8080/",
          "height": 366
        },
        "outputId": "d9c6f5b4-35e2-4266-b720-d6052f4e1d27"
      },
      "source": [
        "history = ensemble_model.fit(x_train_seq, y_train_all, epochs=10, batch_size=128)"
      ],
      "execution_count": null,
      "outputs": [
        {
          "output_type": "stream",
          "text": [
            "Epoch 1/10\n",
            "25000/25000 [==============================] - 22s 874us/step - loss: 0.6617 - acc: 0.5988\n",
            "Epoch 2/10\n",
            "25000/25000 [==============================] - 22s 869us/step - loss: 0.5982 - acc: 0.6770\n",
            "Epoch 3/10\n",
            "25000/25000 [==============================] - 22s 877us/step - loss: 0.5787 - acc: 0.6973\n",
            "Epoch 4/10\n",
            "25000/25000 [==============================] - 22s 872us/step - loss: 0.5691 - acc: 0.7054\n",
            "Epoch 5/10\n",
            "25000/25000 [==============================] - 27s 1ms/step - loss: 0.5585 - acc: 0.7152\n",
            "Epoch 6/10\n",
            "25000/25000 [==============================] - 22s 871us/step - loss: 0.5480 - acc: 0.7246\n",
            "Epoch 7/10\n",
            "25000/25000 [==============================] - 22s 873us/step - loss: 0.5368 - acc: 0.7336\n",
            "Epoch 8/10\n",
            "25000/25000 [==============================] - 22s 873us/step - loss: 0.5290 - acc: 0.7414\n",
            "Epoch 9/10\n",
            "25000/25000 [==============================] - 22s 865us/step - loss: 0.5176 - acc: 0.7501\n",
            "Epoch 10/10\n",
            "25000/25000 [==============================] - 22s 872us/step - loss: 0.5031 - acc: 0.7626\n"
          ],
          "name": "stdout"
        }
      ]
    },
    {
      "cell_type": "code",
      "metadata": {
        "id": "k-IdL8NuXSPL",
        "colab_type": "code",
        "colab": {
          "base_uri": "https://localhost:8080/",
          "height": 34
        },
        "outputId": "0f59794f-9967-41aa-86aa-c375b6597327"
      },
      "source": [
        "print(history.history['acc'])"
      ],
      "execution_count": null,
      "outputs": [
        {
          "output_type": "stream",
          "text": [
            "[0.59884, 0.67704, 0.69732, 0.7054, 0.71524, 0.72464, 0.73364, 0.7414, 0.75012, 0.76256]\n"
          ],
          "name": "stdout"
        }
      ]
    },
    {
      "cell_type": "code",
      "metadata": {
        "id": "LdZ5-tMGVZQ6",
        "colab_type": "code",
        "colab": {}
      },
      "source": [
        "def evaluate_error(model):\n",
        "    pred = model.predict(x_test, batch_size = 32)\n",
        "    pred = np.argmax(pred, axis=1)\n",
        "    pred = np.expand_dims(pred, axis=1) # make same shape as y_test\n",
        "    error = np.sum(np.not_equal(pred, y_test)) / y_test.shape[0]    \n",
        "    return error\n",
        "\n"
      ],
      "execution_count": null,
      "outputs": []
    },
    {
      "cell_type": "code",
      "metadata": {
        "id": "KjP6oVnhQW-Q",
        "colab_type": "code",
        "colab": {
          "base_uri": "https://localhost:8080/",
          "height": 314
        },
        "outputId": "0929eec3-9187-465d-f8d3-e010ff3d9c4f"
      },
      "source": [
        "evaluate_error(ensemble_model)"
      ],
      "execution_count": null,
      "outputs": [
        {
          "output_type": "error",
          "ename": "ValueError",
          "evalue": "ignored",
          "traceback": [
            "\u001b[0;31m---------------------------------------------------------------------------\u001b[0m",
            "\u001b[0;31mValueError\u001b[0m                                Traceback (most recent call last)",
            "\u001b[0;32m<ipython-input-46-ee6b145581cb>\u001b[0m in \u001b[0;36m<module>\u001b[0;34m()\u001b[0m\n\u001b[0;32m----> 1\u001b[0;31m \u001b[0mevaluate_error\u001b[0m\u001b[0;34m(\u001b[0m\u001b[0mensemble_model\u001b[0m\u001b[0;34m)\u001b[0m\u001b[0;34m\u001b[0m\u001b[0;34m\u001b[0m\u001b[0m\n\u001b[0m",
            "\u001b[0;32m<ipython-input-45-72dbaf982b9c>\u001b[0m in \u001b[0;36mevaluate_error\u001b[0;34m(model)\u001b[0m\n\u001b[1;32m      1\u001b[0m \u001b[0;32mdef\u001b[0m \u001b[0mevaluate_error\u001b[0m\u001b[0;34m(\u001b[0m\u001b[0mmodel\u001b[0m\u001b[0;34m)\u001b[0m\u001b[0;34m:\u001b[0m\u001b[0;34m\u001b[0m\u001b[0;34m\u001b[0m\u001b[0m\n\u001b[0;32m----> 2\u001b[0;31m     \u001b[0mpred\u001b[0m \u001b[0;34m=\u001b[0m \u001b[0mmodel\u001b[0m\u001b[0;34m.\u001b[0m\u001b[0mpredict\u001b[0m\u001b[0;34m(\u001b[0m\u001b[0mx_test\u001b[0m\u001b[0;34m,\u001b[0m \u001b[0mbatch_size\u001b[0m \u001b[0;34m=\u001b[0m \u001b[0;36m32\u001b[0m\u001b[0;34m)\u001b[0m\u001b[0;34m\u001b[0m\u001b[0;34m\u001b[0m\u001b[0m\n\u001b[0m\u001b[1;32m      3\u001b[0m     \u001b[0mpred\u001b[0m \u001b[0;34m=\u001b[0m \u001b[0mnp\u001b[0m\u001b[0;34m.\u001b[0m\u001b[0margmax\u001b[0m\u001b[0;34m(\u001b[0m\u001b[0mpred\u001b[0m\u001b[0;34m,\u001b[0m \u001b[0maxis\u001b[0m\u001b[0;34m=\u001b[0m\u001b[0;36m1\u001b[0m\u001b[0;34m)\u001b[0m\u001b[0;34m\u001b[0m\u001b[0;34m\u001b[0m\u001b[0m\n\u001b[1;32m      4\u001b[0m     \u001b[0mpred\u001b[0m \u001b[0;34m=\u001b[0m \u001b[0mnp\u001b[0m\u001b[0;34m.\u001b[0m\u001b[0mexpand_dims\u001b[0m\u001b[0;34m(\u001b[0m\u001b[0mpred\u001b[0m\u001b[0;34m,\u001b[0m \u001b[0maxis\u001b[0m\u001b[0;34m=\u001b[0m\u001b[0;36m1\u001b[0m\u001b[0;34m)\u001b[0m \u001b[0;31m# make same shape as y_test\u001b[0m\u001b[0;34m\u001b[0m\u001b[0;34m\u001b[0m\u001b[0m\n\u001b[1;32m      5\u001b[0m     \u001b[0merror\u001b[0m \u001b[0;34m=\u001b[0m \u001b[0mnp\u001b[0m\u001b[0;34m.\u001b[0m\u001b[0msum\u001b[0m\u001b[0;34m(\u001b[0m\u001b[0mnp\u001b[0m\u001b[0;34m.\u001b[0m\u001b[0mnot_equal\u001b[0m\u001b[0;34m(\u001b[0m\u001b[0mpred\u001b[0m\u001b[0;34m,\u001b[0m \u001b[0my_test\u001b[0m\u001b[0;34m)\u001b[0m\u001b[0;34m)\u001b[0m \u001b[0;34m/\u001b[0m \u001b[0my_test\u001b[0m\u001b[0;34m.\u001b[0m\u001b[0mshape\u001b[0m\u001b[0;34m[\u001b[0m\u001b[0;36m0\u001b[0m\u001b[0;34m]\u001b[0m\u001b[0;34m\u001b[0m\u001b[0;34m\u001b[0m\u001b[0m\n",
            "\u001b[0;32m/usr/local/lib/python3.6/dist-packages/keras/engine/training.py\u001b[0m in \u001b[0;36mpredict\u001b[0;34m(self, x, batch_size, verbose, steps, callbacks, max_queue_size, workers, use_multiprocessing)\u001b[0m\n\u001b[1;32m   1439\u001b[0m \u001b[0;34m\u001b[0m\u001b[0m\n\u001b[1;32m   1440\u001b[0m         \u001b[0;31m# Case 2: Symbolic tensors or Numpy array-like.\u001b[0m\u001b[0;34m\u001b[0m\u001b[0;34m\u001b[0m\u001b[0;34m\u001b[0m\u001b[0m\n\u001b[0;32m-> 1441\u001b[0;31m         \u001b[0mx\u001b[0m\u001b[0;34m,\u001b[0m \u001b[0m_\u001b[0m\u001b[0;34m,\u001b[0m \u001b[0m_\u001b[0m \u001b[0;34m=\u001b[0m \u001b[0mself\u001b[0m\u001b[0;34m.\u001b[0m\u001b[0m_standardize_user_data\u001b[0m\u001b[0;34m(\u001b[0m\u001b[0mx\u001b[0m\u001b[0;34m)\u001b[0m\u001b[0;34m\u001b[0m\u001b[0;34m\u001b[0m\u001b[0m\n\u001b[0m\u001b[1;32m   1442\u001b[0m         \u001b[0;32mif\u001b[0m \u001b[0mself\u001b[0m\u001b[0;34m.\u001b[0m\u001b[0mstateful\u001b[0m\u001b[0;34m:\u001b[0m\u001b[0;34m\u001b[0m\u001b[0;34m\u001b[0m\u001b[0m\n\u001b[1;32m   1443\u001b[0m             \u001b[0;32mif\u001b[0m \u001b[0mx\u001b[0m\u001b[0;34m[\u001b[0m\u001b[0;36m0\u001b[0m\u001b[0;34m]\u001b[0m\u001b[0;34m.\u001b[0m\u001b[0mshape\u001b[0m\u001b[0;34m[\u001b[0m\u001b[0;36m0\u001b[0m\u001b[0;34m]\u001b[0m \u001b[0;34m>\u001b[0m \u001b[0mbatch_size\u001b[0m \u001b[0;32mand\u001b[0m \u001b[0mx\u001b[0m\u001b[0;34m[\u001b[0m\u001b[0;36m0\u001b[0m\u001b[0;34m]\u001b[0m\u001b[0;34m.\u001b[0m\u001b[0mshape\u001b[0m\u001b[0;34m[\u001b[0m\u001b[0;36m0\u001b[0m\u001b[0;34m]\u001b[0m \u001b[0;34m%\u001b[0m \u001b[0mbatch_size\u001b[0m \u001b[0;34m!=\u001b[0m \u001b[0;36m0\u001b[0m\u001b[0;34m:\u001b[0m\u001b[0;34m\u001b[0m\u001b[0;34m\u001b[0m\u001b[0m\n",
            "\u001b[0;32m/usr/local/lib/python3.6/dist-packages/keras/engine/training.py\u001b[0m in \u001b[0;36m_standardize_user_data\u001b[0;34m(self, x, y, sample_weight, class_weight, check_array_lengths, batch_size)\u001b[0m\n\u001b[1;32m    577\u001b[0m             \u001b[0mfeed_input_shapes\u001b[0m\u001b[0;34m,\u001b[0m\u001b[0;34m\u001b[0m\u001b[0;34m\u001b[0m\u001b[0m\n\u001b[1;32m    578\u001b[0m             \u001b[0mcheck_batch_axis\u001b[0m\u001b[0;34m=\u001b[0m\u001b[0;32mFalse\u001b[0m\u001b[0;34m,\u001b[0m  \u001b[0;31m# Don't enforce the batch size.\u001b[0m\u001b[0;34m\u001b[0m\u001b[0;34m\u001b[0m\u001b[0m\n\u001b[0;32m--> 579\u001b[0;31m             exception_prefix='input')\n\u001b[0m\u001b[1;32m    580\u001b[0m \u001b[0;34m\u001b[0m\u001b[0m\n\u001b[1;32m    581\u001b[0m         \u001b[0;32mif\u001b[0m \u001b[0my\u001b[0m \u001b[0;32mis\u001b[0m \u001b[0;32mnot\u001b[0m \u001b[0;32mNone\u001b[0m\u001b[0;34m:\u001b[0m\u001b[0;34m\u001b[0m\u001b[0;34m\u001b[0m\u001b[0m\n",
            "\u001b[0;32m/usr/local/lib/python3.6/dist-packages/keras/engine/training_utils.py\u001b[0m in \u001b[0;36mstandardize_input_data\u001b[0;34m(data, names, shapes, check_batch_axis, exception_prefix)\u001b[0m\n\u001b[1;32m    143\u001b[0m                             \u001b[0;34m': expected '\u001b[0m \u001b[0;34m+\u001b[0m \u001b[0mnames\u001b[0m\u001b[0;34m[\u001b[0m\u001b[0mi\u001b[0m\u001b[0;34m]\u001b[0m \u001b[0;34m+\u001b[0m \u001b[0;34m' to have shape '\u001b[0m \u001b[0;34m+\u001b[0m\u001b[0;34m\u001b[0m\u001b[0;34m\u001b[0m\u001b[0m\n\u001b[1;32m    144\u001b[0m                             \u001b[0mstr\u001b[0m\u001b[0;34m(\u001b[0m\u001b[0mshape\u001b[0m\u001b[0;34m)\u001b[0m \u001b[0;34m+\u001b[0m \u001b[0;34m' but got array with shape '\u001b[0m \u001b[0;34m+\u001b[0m\u001b[0;34m\u001b[0m\u001b[0;34m\u001b[0m\u001b[0m\n\u001b[0;32m--> 145\u001b[0;31m                             str(data_shape))\n\u001b[0m\u001b[1;32m    146\u001b[0m     \u001b[0;32mreturn\u001b[0m \u001b[0mdata\u001b[0m\u001b[0;34m\u001b[0m\u001b[0;34m\u001b[0m\u001b[0m\n\u001b[1;32m    147\u001b[0m \u001b[0;34m\u001b[0m\u001b[0m\n",
            "\u001b[0;31mValueError\u001b[0m: Error when checking input: expected input_7 to have shape (100,) but got array with shape (1,)"
          ]
        }
      ]
    }
  ]
}