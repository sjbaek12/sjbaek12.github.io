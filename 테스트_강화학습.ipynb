{
  "nbformat": 4,
  "nbformat_minor": 0,
  "metadata": {
    "colab": {
      "name": "테스트 강화학습",
      "provenance": [],
      "collapsed_sections": [],
      "authorship_tag": "ABX9TyM9BHdKHD5y6Eb9udA3MFnI",
      "include_colab_link": true
    },
    "kernelspec": {
      "name": "python3",
      "display_name": "Python 3"
    }
  },
  "cells": [
    {
      "cell_type": "markdown",
      "metadata": {
        "id": "view-in-github",
        "colab_type": "text"
      },
      "source": [
        "<a href=\"https://colab.research.google.com/github/sjbaek12/sjbaek12.github.io/blob/master/%ED%85%8C%EC%8A%A4%ED%8A%B8_%EA%B0%95%ED%99%94%ED%95%99%EC%8A%B5.ipynb\" target=\"_parent\"><img src=\"https://colab.research.google.com/assets/colab-badge.svg\" alt=\"Open In Colab\"/></a>"
      ]
    },
    {
      "cell_type": "markdown",
      "metadata": {
        "id": "PbNzyGr1xgti",
        "colab_type": "text"
      },
      "source": [
        "어떤 상태에서 특정한 액션을 취하면 리워드가 발생한다.\n",
        "정책신경망에서 어떤 상태일때 액선이 산출되고 그 산출로 인한 리워드가 최대가 되도록 정책신경망의 가중치를 조정한다. 그러면 리워드가 최대가 되는 액션을 산출하는 정책신경망이 될 것이다. \n",
        "\n",
        "loss함수는 리워드가 최대가 되는 액션을 산출했을 때, 마이너스 무한대가 되도록 조정하면 된다. "
      ]
    },
    {
      "cell_type": "markdown",
      "metadata": {
        "id": "n5zyxmm_KOAe",
        "colab_type": "text"
      },
      "source": [
        "먼저 LSTM과 일반적 deep learning 모델을 비교해본 결과 fit 능력에서 차이는 없었다."
      ]
    },
    {
      "cell_type": "code",
      "metadata": {
        "id": "uoNYrqyWxhgZ",
        "colab_type": "code",
        "colab": {}
      },
      "source": [
        "import numpy as np\n",
        "import matplotlib.pyplot as plt"
      ],
      "execution_count": 44,
      "outputs": []
    },
    {
      "cell_type": "code",
      "metadata": {
        "id": "rDPyv4nbyYRY",
        "colab_type": "code",
        "colab": {
          "base_uri": "https://localhost:8080/",
          "height": 265
        },
        "outputId": "003d09de-0f07-4b2c-972c-ae4e81e02e0a"
      },
      "source": [
        "def env():\n",
        "  price=[]\n",
        "  for i in range(30):\n",
        "    bias = np.random.rand(1)\n",
        "    p = -0.01*(i-15)**2 + bias * 0.5\n",
        "    price.append(p[0])\n",
        "  p_mean = np.mean(price)\n",
        "  p_std = np.std(price)\n",
        "  price = (price - p_mean)/p_std\n",
        "  \n",
        "  p_serise= []\n",
        "  for i in range(26):\n",
        "    serise = [np.array(price[i]),np.array(price[i+1]), np.array(price[i+2]), np.array(price[i+3]), np.array(price[i+4])]\n",
        "    serise = np.array(serise)\n",
        "    p_serise.append(serise)\n",
        "  p_serise= p_serise[0:25]\n",
        "  p_serise = np.array(p_serise)\n",
        "  #p_serise = p_serise.reshape(25, 5, 1)  # LSTM을 사용할 때 데이터 input 형태\n",
        "  price_lstm = price[5:]\n",
        "  price_lstm = np.array(price_lstm)\n",
        "  return price, p_serise, price_lstm\n",
        "\n",
        "price, p_serise, price_lstm = env()\n",
        "plt.plot(price)\n",
        "plt.show()"
      ],
      "execution_count": 45,
      "outputs": [
        {
          "output_type": "display_data",
          "data": {
            "image/png": "[encoded data removed]",
            "text/plain": [
              "<Figure size 432x288 with 1 Axes>"
            ]
          },
          "metadata": {
            "tags": [],
            "needs_background": "light"
          }
        }
      ]
    },
    {
      "cell_type": "code",
      "metadata": {
        "id": "iDXfVgTVhStq",
        "colab_type": "code",
        "colab": {
          "base_uri": "https://localhost:8080/",
          "height": 34
        },
        "outputId": "397b0dd6-4523-402a-c3a1-3dd75793e241"
      },
      "source": [
        "p_serise[0][4]"
      ],
      "execution_count": null,
      "outputs": [
        {
          "output_type": "execute_result",
          "data": {
            "text/plain": [
              "-0.9429274328283418"
            ]
          },
          "metadata": {
            "tags": []
          },
          "execution_count": 14
        }
      ]
    },
    {
      "cell_type": "code",
      "metadata": {
        "id": "Ez53Ovrb_Pks",
        "colab_type": "code",
        "colab": {
          "base_uri": "https://localhost:8080/",
          "height": 34
        },
        "outputId": "dc3e5967-fc7a-4608-a4ae-9642d1bcb9df"
      },
      "source": [
        "p_serise[1][4] - p_serise[0][0]"
      ],
      "execution_count": null,
      "outputs": [
        {
          "output_type": "execute_result",
          "data": {
            "text/plain": [
              "1.7276799128803768"
            ]
          },
          "metadata": {
            "tags": []
          },
          "execution_count": 98
        }
      ]
    },
    {
      "cell_type": "code",
      "metadata": {
        "id": "Chk2vmDL8NT0",
        "colab_type": "code",
        "colab": {
          "base_uri": "https://localhost:8080/",
          "height": 105
        },
        "outputId": "2cb7bc14-9c81-4048-f00e-1ab2323d21c5"
      },
      "source": [
        "price_lstm"
      ],
      "execution_count": null,
      "outputs": [
        {
          "output_type": "execute_result",
          "data": {
            "text/plain": [
              "array([-0.26394863, -0.20099924,  0.01970195,  0.16678404,  0.32968015,\n",
              "        0.84090406,  0.91281789,  0.71375709,  0.74797535,  1.3361712 ,\n",
              "        1.1516485 ,  1.26868038,  1.2221345 ,  1.13824994,  0.88221452,\n",
              "        1.03131344,  0.60012732,  0.293646  , -0.09904511, -0.15610572,\n",
              "       -0.40339424, -0.56212655, -1.35607255, -1.62205066, -1.77331761])"
            ]
          },
          "metadata": {
            "tags": []
          },
          "execution_count": 92
        }
      ]
    },
    {
      "cell_type": "markdown",
      "metadata": {
        "id": "RYccy5y7aDqW",
        "colab_type": "text"
      },
      "source": [
        "1은 구매, 2는 홀딩, 3은 매각이다."
      ]
    },
    {
      "cell_type": "code",
      "metadata": {
        "id": "8-ks6BOE8XOi",
        "colab_type": "code",
        "colab": {}
      },
      "source": [
        "price_lstm_y = np.array([1.0, 1.0,  1.0,  1.0, 1.0, 1.0,  1.0,  1.0,  1.0,  1.0, 0.0 ,  0.0,  0.0,  0.0,  2.0, 2.0,  2.0,  2.0,  2.0, 2.0, 2.0, 2.0, 2.0, 2.0, 2.0])"
      ],
      "execution_count": null,
      "outputs": []
    },
    {
      "cell_type": "code",
      "metadata": {
        "id": "EJHarUbV9V-M",
        "colab_type": "code",
        "colab": {
          "base_uri": "https://localhost:8080/",
          "height": 34
        },
        "outputId": "f13b3bd9-7566-4d86-aff1-ecf3346ad265"
      },
      "source": [
        "len(price_lstm_y)"
      ],
      "execution_count": null,
      "outputs": [
        {
          "output_type": "execute_result",
          "data": {
            "text/plain": [
              "25"
            ]
          },
          "metadata": {
            "tags": []
          },
          "execution_count": 13
        }
      ]
    },
    {
      "cell_type": "code",
      "metadata": {
        "id": "FzQYKROB-X98",
        "colab_type": "code",
        "colab": {}
      },
      "source": [
        "from tensorflow.keras.utils import to_categorical\n",
        "y_encoded = keras.utils.to_categorical(price_lstm_y, 3) # 분류 갯수를 정하기 위한 인수(3)가 필요하다."
      ],
      "execution_count": null,
      "outputs": []
    },
    {
      "cell_type": "code",
      "metadata": {
        "id": "50XoWOT1-bKS",
        "colab_type": "code",
        "colab": {
          "base_uri": "https://localhost:8080/",
          "height": 34
        },
        "outputId": "4894d6c1-ef4a-4a14-8960-6299a6305f70"
      },
      "source": [
        "y_encoded[0]"
      ],
      "execution_count": null,
      "outputs": [
        {
          "output_type": "execute_result",
          "data": {
            "text/plain": [
              "array([0., 1., 0.], dtype=float32)"
            ]
          },
          "metadata": {
            "tags": []
          },
          "execution_count": 110
        }
      ]
    },
    {
      "cell_type": "code",
      "metadata": {
        "id": "Lu9BcJlZAUjB",
        "colab_type": "code",
        "colab": {}
      },
      "source": [
        "def action(y_encoded):\n",
        "  acts=[]\n",
        "  for i in range(len(y_encoded)):\n",
        "    act = np.argmax(y_encoded[i])\n",
        "    acts.append(act)\n",
        "  return acts"
      ],
      "execution_count": null,
      "outputs": []
    },
    {
      "cell_type": "code",
      "metadata": {
        "id": "8pKwnN28BGGF",
        "colab_type": "code",
        "colab": {
          "base_uri": "https://localhost:8080/",
          "height": 34
        },
        "outputId": "91261adf-185c-4e83-9143-55c65d3fcd4d"
      },
      "source": [
        "print(action(y_encoded))"
      ],
      "execution_count": null,
      "outputs": [
        {
          "output_type": "stream",
          "text": [
            "[1, 1, 1, 1, 1, 1, 1, 1, 1, 1, 0, 0, 0, 0, 2, 2, 2, 2, 2, 2, 2, 2, 2, 2, 2]\n"
          ],
          "name": "stdout"
        }
      ]
    },
    {
      "cell_type": "code",
      "metadata": {
        "id": "K5bMrbNO5SeR",
        "colab_type": "code",
        "colab": {
          "base_uri": "https://localhost:8080/",
          "height": 34
        },
        "outputId": "0a145254-b935-4f9c-9201-4e8e9942786d"
      },
      "source": [
        "from tensorflow.keras.utils import to_categorical\n",
        "from tensorflow import keras\n",
        "import tensorflow as tf\n",
        "import keras.layers as layers\n",
        "from keras.layers import LSTM, Dense\n",
        "from keras.models import Model, Sequential\n",
        "from keras.optimizers import Adam, RMSprop\n",
        "from keras.initializers import glorot_uniform\n",
        "from keras.callbacks import ModelCheckpoint, EarlyStopping\n",
        "import keras.backend as K  # 케라스의 backend를 K. 형식으로 호출하는 것이고 여기서는 tensorflow이다."
      ],
      "execution_count": null,
      "outputs": [
        {
          "output_type": "stream",
          "text": [
            "Using TensorFlow backend.\n"
          ],
          "name": "stderr"
        }
      ]
    },
    {
      "cell_type": "code",
      "metadata": {
        "id": "2gWNXKuA8QVH",
        "colab_type": "code",
        "colab": {}
      },
      "source": [
        "#inp_L = layers.Input(shape=(5,1),name=\"input_L\")  # LSTM 용\n",
        "#dense_L = LSTM(5, return_sequences=False)(inp_L)  # LSTM 용\n",
        "inp_L = layers.Input(shape=(5,),name=\"input_L\")\n",
        "#dense_L = Dense(64)(dense_L)\n",
        "dense_L = Dense(64)(inp_L)\n",
        "#output_L = Dense(1)(dense_L)\n",
        "output_s = layers.Dense(3, activation=\"softmax\",kernel_initializer=glorot_uniform(seed=42), use_bias=False, kernel_regularizer=keras.regularizers.l2(0.001), name=\"out\")(dense_L)\n",
        "\n",
        "model_lstm = Model(inputs=inp_L, outputs = output_s)"
      ],
      "execution_count": null,
      "outputs": []
    },
    {
      "cell_type": "code",
      "metadata": {
        "id": "yTxrQaaZ8QQ_",
        "colab_type": "code",
        "colab": {
          "base_uri": "https://localhost:8080/",
          "height": 263
        },
        "outputId": "9359aacd-76b5-4eb5-82e9-2090cdec0eaa"
      },
      "source": [
        "model_lstm.summary()"
      ],
      "execution_count": null,
      "outputs": [
        {
          "output_type": "stream",
          "text": [
            "Model: \"model_1\"\n",
            "_________________________________________________________________\n",
            "Layer (type)                 Output Shape              Param #   \n",
            "=================================================================\n",
            "input_L (InputLayer)         (None, 5)                 0         \n",
            "_________________________________________________________________\n",
            "dense_1 (Dense)              (None, 64)                384       \n",
            "_________________________________________________________________\n",
            "out (Dense)                  (None, 3)                 192       \n",
            "=================================================================\n",
            "Total params: 576\n",
            "Trainable params: 576\n",
            "Non-trainable params: 0\n",
            "_________________________________________________________________\n"
          ],
          "name": "stdout"
        }
      ]
    },
    {
      "cell_type": "code",
      "metadata": {
        "id": "nq9u7FVL8QMN",
        "colab_type": "code",
        "colab": {}
      },
      "source": [
        "optimizer = tf.keras.optimizers.Adam(lr=0.001)\n",
        "model_lstm.compile(loss='categorical_crossentropy', optimizer=optimizer, metrics=['mae'])"
      ],
      "execution_count": null,
      "outputs": []
    },
    {
      "cell_type": "code",
      "metadata": {
        "id": "HzEFHZQ--JZt",
        "colab_type": "code",
        "colab": {}
      },
      "source": [
        "history_lstm = model_lstm.fit(p_serise, y_encoded, epochs=150, verbose=0)"
      ],
      "execution_count": null,
      "outputs": []
    },
    {
      "cell_type": "code",
      "metadata": {
        "id": "HkHpoNBRDZ3u",
        "colab_type": "code",
        "colab": {
          "base_uri": "https://localhost:8080/",
          "height": 265
        },
        "outputId": "8d7151c3-47cc-43c7-c8dd-2e55846641ef"
      },
      "source": [
        "plt.plot(history_lstm.history['loss'])\n",
        "plt.show()"
      ],
      "execution_count": null,
      "outputs": [
        {
          "output_type": "display_data",
          "data": {
            "image/png": "[encoded data removed]",
            "text/plain": [
              "<Figure size 432x288 with 1 Axes>"
            ]
          },
          "metadata": {
            "tags": [],
            "needs_background": "light"
          }
        }
      ]
    },
    {
      "cell_type": "code",
      "metadata": {
        "id": "dUOFL8eADyES",
        "colab_type": "code",
        "colab": {
          "base_uri": "https://localhost:8080/",
          "height": 265
        },
        "outputId": "eda1d22e-cccb-4229-a3e2-cc8503dd7f79"
      },
      "source": [
        "plt.plot(action(model_lstm.predict(p_serise)), 'b')\n",
        "# plt.plot(price_lstm_y, 'r')\n",
        "plt.show()"
      ],
      "execution_count": null,
      "outputs": [
        {
          "output_type": "display_data",
          "data": {
            "image/png": "[encoded data removed]",
            "text/plain": [
              "<Figure size 432x288 with 1 Axes>"
            ]
          },
          "metadata": {
            "tags": [],
            "needs_background": "light"
          }
        }
      ]
    },
    {
      "cell_type": "code",
      "metadata": {
        "id": "p8zBWdJ35tnM",
        "colab_type": "code",
        "colab": {
          "base_uri": "https://localhost:8080/",
          "height": 34
        },
        "outputId": "3ed10016-77e0-486f-eaac-681b98c36905"
      },
      "source": [
        "test = np.array([[-4.19567895, -2.90260542, -1.19901328, -0.66878054, -0.18498446],\n",
        "[-0.19567895, -0.90260542, -1.19901328, -0.66878054, -0.18498446],\n",
        "[-0.19567895, -0.90260542, -1.19901328, -2.66878054, -10.18498446],\n",
        "])\n",
        "a = model_lstm.predict(test)\n",
        "print(action(a))"
      ],
      "execution_count": null,
      "outputs": [
        {
          "output_type": "stream",
          "text": [
            "[1, 1, 2]\n"
          ],
          "name": "stdout"
        }
      ]
    },
    {
      "cell_type": "code",
      "metadata": {
        "id": "nzDJYcmXu5I1",
        "colab_type": "code",
        "colab": {}
      },
      "source": [
        "# 랜덤하게 행동들을 만들어낸다. 사실 이건 필요하지 않다.\n",
        "\n",
        "def act():\n",
        "  actions = []\n",
        "  for i in range(30):\n",
        "    if np.random.rand() > 0.5:\n",
        "      act = 1\n",
        "    else:\n",
        "      act = 0\n",
        "    actions.append(act)\n",
        "  return actions"
      ],
      "execution_count": null,
      "outputs": []
    },
    {
      "cell_type": "code",
      "metadata": {
        "id": "5sickMncbPkq",
        "colab_type": "code",
        "colab": {}
      },
      "source": [
        "y = act()"
      ],
      "execution_count": null,
      "outputs": []
    },
    {
      "cell_type": "code",
      "metadata": {
        "id": "WHj67ld7vbFm",
        "colab_type": "code",
        "colab": {
          "base_uri": "https://localhost:8080/",
          "height": 34
        },
        "outputId": "33ed8f96-4655-407a-b2ca-87bdd24e42e9"
      },
      "source": [
        "print(reward(price, y))"
      ],
      "execution_count": null,
      "outputs": [
        {
          "output_type": "stream",
          "text": [
            "[0, -1, -2, -3, -2, -3, -2, -3, -2, -1, -2, -1, 0, 1, 0, -1, -1, -1, 0, -1, -1, -1, -1, -1, -2, -2, -2, -2, -2, -3]\n"
          ],
          "name": "stdout"
        }
      ]
    },
    {
      "cell_type": "markdown",
      "metadata": {
        "id": "OF674qQ2GKZa",
        "colab_type": "text"
      },
      "source": [
        "여기서부터 정책경사"
      ]
    },
    {
      "cell_type": "code",
      "metadata": {
        "id": "_DCWmX1jgNsL",
        "colab_type": "code",
        "colab": {}
      },
      "source": [
        "def reward_lstm (p_serise, action):\n",
        "  rewards =[0]\n",
        "  \n",
        "  for i in range(len(p_serise)-1):\n",
        "    price_gap = p_serise[i+1][4] - p_serise[i][0]\n",
        "    if price_gap >= 0 and action[i] == 1 :\n",
        "       reward = 1\n",
        "       rewards.append(reward)\n",
        "    if price_gap >= 0 and action[i] == 0 :\n",
        "       reward = 0\n",
        "       rewards.append(reward)\n",
        "    if price_gap >= 0 and action[i] == 2 :\n",
        "       reward = -1\n",
        "       rewards.append(reward)\n",
        "    if price_gap <= 0 and action[i] == 1 :\n",
        "       reward = -1\n",
        "       rewards.append(reward)\n",
        "    if price_gap <= 0 and action[i] == 0 :\n",
        "       reward = 0\n",
        "       rewards.append(reward)\n",
        "    if price_gap <= 0 and action[i] == 2 :\n",
        "       reward = 1\n",
        "       rewards.append(reward)\n",
        "\n",
        "  return rewards\n"
      ],
      "execution_count": 46,
      "outputs": []
    },
    {
      "cell_type": "code",
      "metadata": {
        "id": "BQwD-t8Li5hJ",
        "colab_type": "code",
        "colab": {
          "base_uri": "https://localhost:8080/",
          "height": 34
        },
        "outputId": "ecf4d445-fc17-44ec-9cca-e67b4ff2321f"
      },
      "source": [
        "len(reward_lstm (p_serise, price_lstm_y))"
      ],
      "execution_count": null,
      "outputs": [
        {
          "output_type": "execute_result",
          "data": {
            "text/plain": [
              "25"
            ]
          },
          "metadata": {
            "tags": []
          },
          "execution_count": 149
        }
      ]
    },
    {
      "cell_type": "code",
      "metadata": {
        "id": "nRfbsAW_nN2t",
        "colab_type": "code",
        "colab": {}
      },
      "source": [
        " def act_selection(act):\n",
        "   acts = []\n",
        "   for i in range(0, len(act)):\n",
        "     action = np.random.choice(3,p=act[i])\n",
        "     acts.append(action)\n",
        "   return acts"
      ],
      "execution_count": 47,
      "outputs": []
    },
    {
      "cell_type": "code",
      "metadata": {
        "id": "52938aqWnN-c",
        "colab_type": "code",
        "colab": {}
      },
      "source": [
        "from tensorflow.keras.utils import to_categorical\n",
        "from tensorflow import keras\n",
        "import keras.layers as layers\n",
        "from keras.layers import LSTM, Dense\n",
        "from keras.models import Model, Sequential\n",
        "from keras.optimizers import Adam, RMSprop\n",
        "from keras.initializers import glorot_uniform\n",
        "from keras.callbacks import ModelCheckpoint, EarlyStopping\n",
        "import keras.backend as K  # 케라스의 backend를 K. 형식으로 호출하는 것이고 여기서는 tensorflow이다."
      ],
      "execution_count": 48,
      "outputs": []
    },
    {
      "cell_type": "code",
      "metadata": {
        "id": "fMEoQVVt0eT3",
        "colab_type": "code",
        "colab": {
          "base_uri": "https://localhost:8080/",
          "height": 34
        },
        "outputId": "6a67b824-cfd0-4507-dad1-fe97377a6d05"
      },
      "source": [
        "multip = np.array([1,1,1,1,1,1,1,1,1,1,1,1,1,1,1,1,1,1,1,1,1,1,1,1,1])\n",
        "len(multip)"
      ],
      "execution_count": null,
      "outputs": [
        {
          "output_type": "execute_result",
          "data": {
            "text/plain": [
              "25"
            ]
          },
          "metadata": {
            "tags": []
          },
          "execution_count": 150
        }
      ]
    },
    {
      "cell_type": "code",
      "metadata": {
        "id": "KCPbLji1nrUn",
        "colab_type": "code",
        "colab": {}
      },
      "source": [
        "def get_policy_model(lr):\n",
        "  inp_L = layers.Input(shape=(5,),name=\"input_L\")\n",
        "  multip = layers.Input(shape=[1], name=\"advantages\")\n",
        "  dense_L = Dense(64)(inp_L)\n",
        "  output_s = layers.Dense(3, activation=\"softmax\",kernel_initializer=glorot_uniform(seed=42), use_bias=False, kernel_regularizer=keras.regularizers.l2(0.001), name=\"out\")(dense_L)\n",
        "\n",
        "  model_train = Model(inputs=[inp_L, multip], outputs = output_s)\n",
        "\n",
        "  # loss 함수를 actual과 predict가 같을때 -무한대가 되도록 만든다. 완전히 틀리면 0 이므로 loss 함수의 값의 범위는 -무한대 ~ 0 이다.\n",
        "  def custom_loss(y_true, y_pred):\n",
        "    # actual: 0 predict: 0 -> log(0 * (0 - 0) + (1 - 0) * (0 + 0)) = -inf   log(0) = - inf\n",
        "    # actual: 1 predict: 1 -> log(1 * (1 - 1) + (1 - 1) * (1 + 1)) = -inf   \n",
        "    # actual: 1 predict: 0 -> log(1 * (1 - 0) + (1 - 1) * (1 + 0)) = 0      log(1) = 0\n",
        "    # actual: 0 predict: 1 -> log(0 * (0 - 1) + (1 - 0) * (0 + 1)) = 0\n",
        "    a = y_true * (y_true - y_pred) + (1 - y_true) * (y_true + y_pred)\n",
        "    log_lik = K.log(a)\n",
        "    return K.mean(log_lik * multip, keepdims=True)\n",
        "\n",
        "  model_train.compile(loss=custom_loss, optimizer=Adam(lr), metrics = ['mae'])\n",
        "  model_predict = Model(inputs=[inp_L], outputs = output_s)\n",
        "  return model_train, model_predict"
      ],
      "execution_count": 49,
      "outputs": []
    },
    {
      "cell_type": "code",
      "metadata": {
        "id": "Tf2pQzw7oOcE",
        "colab_type": "code",
        "colab": {}
      },
      "source": [
        "model_train, model_predict = get_policy_model(0.0001)"
      ],
      "execution_count": 50,
      "outputs": []
    },
    {
      "cell_type": "code",
      "metadata": {
        "id": "BdCAk3uqoOf4",
        "colab_type": "code",
        "colab": {
          "base_uri": "https://localhost:8080/",
          "height": 263
        },
        "outputId": "3cc179ff-1014-424c-9be7-b148aeae54d2"
      },
      "source": [
        "model_train.summary()"
      ],
      "execution_count": 51,
      "outputs": [
        {
          "output_type": "stream",
          "text": [
            "Model: \"model_5\"\n",
            "_________________________________________________________________\n",
            "Layer (type)                 Output Shape              Param #   \n",
            "=================================================================\n",
            "input_L (InputLayer)         (None, 5)                 0         \n",
            "_________________________________________________________________\n",
            "dense_3 (Dense)              (None, 64)                384       \n",
            "_________________________________________________________________\n",
            "out (Dense)                  (None, 3)                 192       \n",
            "=================================================================\n",
            "Total params: 576\n",
            "Trainable params: 576\n",
            "Non-trainable params: 0\n",
            "_________________________________________________________________\n"
          ],
          "name": "stdout"
        }
      ]
    },
    {
      "cell_type": "code",
      "metadata": {
        "id": "l5VxtpM8oOjg",
        "colab_type": "code",
        "colab": {
          "base_uri": "https://localhost:8080/",
          "height": 193
        },
        "outputId": "7a01e47e-bdb6-496b-84e5-2a389487867a"
      },
      "source": [
        "# Setting up our environment\n",
        "\n",
        "num_actions = 3\n",
        "num_episode = 0\n",
        "num_episodes = 1000\n",
        "dimen = 25\n",
        "\n",
        "action_list = []\n",
        "reward_list = []\n",
        "reward_sum_list = []\n",
        "\n",
        "price, p_serise, price_lstm = env()\n",
        "\n",
        "while num_episode < num_episodes:\n",
        "\n",
        "    losses = []\n",
        "     \n",
        "    p_serise = p_serise.astype(float) # nan 발생을 막기 위한 시도이다.\n",
        "\n",
        "    for i in range(50):\n",
        "      predict = model_predict.predict(p_serise)  # 한개의 state를 input해서 신경망을 통해 action을 만들어낸다.\n",
        "      \n",
        "      acts = []\n",
        "      for i in range(0, len(predict)):\n",
        "        action = np.random.choice(range(num_actions),p=predict[i]) # 대안 중에서 하나를 선택한다. p=[0.4, 0.6] 대안이 선택될 확율이다. action은 0 또는 1 이된다.\n",
        "        acts.append(action)\n",
        "\n",
        "      action_list.append(acts)\n",
        "\n",
        "      e_r = reward_lstm(p_serise, acts)\n",
        "\n",
        "      reward_sum_list.append(np.sum(e_r))\n",
        "      reward_list.append(e_r)\n",
        "\n",
        "    index = np.argmax(reward_sum_list)\n",
        "    e_r = reward_list[index]\n",
        "    acts = action_list[index]\n",
        "      \n",
        "\n",
        "      # 여기서 최고의 e_r을 보였던 acts을 찾아내고 그 것으로 훈련을 시켜야 하다.\n",
        "\n",
        "\n",
        "    e_r = np.array(e_r)\n",
        "\n",
        "    if np.sum(e_r) > 15.0:\n",
        "      break\n",
        "    else:\n",
        "      y_encoded = keras.utils.to_categorical(acts, 3)\n",
        "      loss = model_train.train_on_batch([p_serise, e_r/100], y_encoded)\n",
        "\n",
        "    action_list = []\n",
        "    reward_list = []\n",
        "    reward_sum_list = []\n",
        "        \n",
        "\n",
        "    losses.append(loss)\n",
        "\n",
        "    if (num_episode+1) % 100 == 0:\n",
        "      print(\"num_episode: \",num_episode+1, \"loss: \", losses[-1][0], \"model_reward: \", np.sum(e_r))\n",
        "\n",
        "    num_episode += 1\n",
        "    price, p_serise, price_lstm = env()"
      ],
      "execution_count": 52,
      "outputs": [
        {
          "output_type": "stream",
          "text": [
            "num_episode:  100 loss:  0.0015838286 model_reward:  8\n",
            "num_episode:  200 loss:  0.000733044 model_reward:  7\n",
            "num_episode:  300 loss:  -0.0019277083 model_reward:  9\n",
            "num_episode:  400 loss:  -0.00011221692 model_reward:  6\n",
            "num_episode:  500 loss:  -0.0023620059 model_reward:  6\n",
            "num_episode:  600 loss:  -0.0027669552 model_reward:  8\n",
            "num_episode:  700 loss:  -0.004986869 model_reward:  8\n",
            "num_episode:  800 loss:  -0.006285314 model_reward:  9\n",
            "num_episode:  900 loss:  -0.006942893 model_reward:  7\n",
            "num_episode:  1000 loss:  -0.0068660774 model_reward:  6\n"
          ],
          "name": "stdout"
        }
      ]
    },
    {
      "cell_type": "code",
      "metadata": {
        "id": "GYqwu-HRoOmz",
        "colab_type": "code",
        "colab": {}
      },
      "source": [
        "predict = model_predict.predict(p_serise)"
      ],
      "execution_count": 53,
      "outputs": []
    },
    {
      "cell_type": "code",
      "metadata": {
        "id": "OldzEZfWnrcs",
        "colab_type": "code",
        "colab": {}
      },
      "source": [
        "action_c=[]\n",
        "\n",
        "for i in range(len(predict)):\n",
        "  a = np.argmax(predict[i])\n",
        "  action_c.append(a)"
      ],
      "execution_count": 54,
      "outputs": []
    },
    {
      "cell_type": "code",
      "metadata": {
        "id": "sIS-EhC9vSef",
        "colab_type": "code",
        "colab": {
          "base_uri": "https://localhost:8080/",
          "height": 34
        },
        "outputId": "1c2f78f5-51a8-49c6-c5ef-08c9c2e1057a"
      },
      "source": [
        "np.sum(reward_lstm(p_serise, action_c))"
      ],
      "execution_count": 55,
      "outputs": [
        {
          "output_type": "execute_result",
          "data": {
            "text/plain": [
              "3"
            ]
          },
          "metadata": {
            "tags": []
          },
          "execution_count": 55
        }
      ]
    },
    {
      "cell_type": "code",
      "metadata": {
        "id": "8X4_950456td",
        "colab_type": "code",
        "colab": {
          "base_uri": "https://localhost:8080/",
          "height": 34
        },
        "outputId": "366a37e5-cafb-434e-92db-752cf0357516"
      },
      "source": [
        "action_c"
      ],
      "execution_count": 56,
      "outputs": [
        {
          "output_type": "execute_result",
          "data": {
            "text/plain": [
              "[1, 1, 1, 1, 1, 0, 0, 0, 0, 0, 0, 0, 0, 0, 0, 0, 0, 0, 0, 0, 0, 0, 1, 1, 1]"
            ]
          },
          "metadata": {
            "tags": []
          },
          "execution_count": 56
        }
      ]
    },
    {
      "cell_type": "code",
      "metadata": {
        "id": "LeDZBnO656oR",
        "colab_type": "code",
        "colab": {}
      },
      "source": [
        ""
      ],
      "execution_count": null,
      "outputs": []
    },
    {
      "cell_type": "code",
      "metadata": {
        "id": "eBil12gR56mh",
        "colab_type": "code",
        "colab": {}
      },
      "source": [
        ""
      ],
      "execution_count": null,
      "outputs": []
    },
    {
      "cell_type": "code",
      "metadata": {
        "id": "0hx-wlyJ56kY",
        "colab_type": "code",
        "colab": {}
      },
      "source": [
        ""
      ],
      "execution_count": null,
      "outputs": []
    },
    {
      "cell_type": "code",
      "metadata": {
        "id": "IazXuUZw56iI",
        "colab_type": "code",
        "colab": {}
      },
      "source": [
        ""
      ],
      "execution_count": null,
      "outputs": []
    },
    {
      "cell_type": "code",
      "metadata": {
        "id": "NP0ycHrO56fn",
        "colab_type": "code",
        "colab": {}
      },
      "source": [
        ""
      ],
      "execution_count": null,
      "outputs": []
    },
    {
      "cell_type": "code",
      "metadata": {
        "id": "rcnD7iot56Zc",
        "colab_type": "code",
        "colab": {}
      },
      "source": [
        ""
      ],
      "execution_count": null,
      "outputs": []
    },
    {
      "cell_type": "code",
      "metadata": {
        "id": "Ykgd940f56Ws",
        "colab_type": "code",
        "colab": {}
      },
      "source": [
        ""
      ],
      "execution_count": null,
      "outputs": []
    },
    {
      "cell_type": "code",
      "metadata": {
        "id": "vgKgY08H56S9",
        "colab_type": "code",
        "colab": {}
      },
      "source": [
        ""
      ],
      "execution_count": null,
      "outputs": []
    },
    {
      "cell_type": "code",
      "metadata": {
        "id": "oOk67j_P_1ui",
        "colab_type": "code",
        "colab": {
          "base_uri": "https://localhost:8080/",
          "height": 34
        },
        "outputId": "9b115394-bee0-4705-abeb-96322edb2ba6"
      },
      "source": [
        ""
      ],
      "execution_count": null,
      "outputs": [
        {
          "output_type": "stream",
          "text": [
            "[1, 1, 1, 1, 1, 1, 1, 1, 1, 1, 1, 0, 0, 0, 0, 0, 0, 0, 0, 0, 0, 0, 0, 0, 0]\n"
          ],
          "name": "stdout"
        }
      ]
    },
    {
      "cell_type": "markdown",
      "metadata": {
        "id": "ZqnDeQDebd7L",
        "colab_type": "text"
      },
      "source": [
        "만약 정책함수에서 softmax가 행동대안을 산출하면 각 행동대안이 갖는 확률을 기반으로 하여 새로운 행동을 산출한다. 만약 각 행동대안의 확율이 높아 질 수록 산출할 행동 대안의 모습은 수렴해 갈 것이다."
      ]
    },
    {
      "cell_type": "code",
      "metadata": {
        "id": "bUP7ErWSq7Q-",
        "colab_type": "code",
        "colab": {}
      },
      "source": [
        ""
      ],
      "execution_count": null,
      "outputs": []
    },
    {
      "cell_type": "markdown",
      "metadata": {
        "id": "hZ94IMpkGo4Q",
        "colab_type": "text"
      },
      "source": [
        "custom loss 함수를 테스트 해본다."
      ]
    },
    {
      "cell_type": "code",
      "metadata": {
        "id": "oeNsD1JMGuKf",
        "colab_type": "code",
        "colab": {
          "base_uri": "https://localhost:8080/",
          "height": 34
        },
        "outputId": "f5900976-abc9-41c8-bd69-e30e707a5430"
      },
      "source": [
        ""
      ],
      "execution_count": null,
      "outputs": [
        {
          "output_type": "stream",
          "text": [
            "Using TensorFlow backend.\n"
          ],
          "name": "stderr"
        }
      ]
    },
    {
      "cell_type": "code",
      "metadata": {
        "id": "Whc8OKjFG7q9",
        "colab_type": "code",
        "colab": {}
      },
      "source": [
        "def my_loss(y_true, y_pred):\n",
        "  y_true = y_true **2\n",
        "  y_pred = y_pred **2\n",
        "  loss = K.mean(K.abs(y_true - y_pred) + K.square(y_true - y_pred))\n",
        "  return loss * multip\n",
        "\n",
        "\n",
        "# metric는 중요하지 않다.\n",
        "\n",
        "def my_metric(y_true, y_pred):\n",
        "  return K.mean(K.abs(y_true - y_pred)) * 1000"
      ],
      "execution_count": null,
      "outputs": []
    },
    {
      "cell_type": "code",
      "metadata": {
        "id": "uA6-PGbtd48V",
        "colab_type": "code",
        "colab": {}
      },
      "source": [
        ""
      ],
      "execution_count": null,
      "outputs": []
    },
    {
      "cell_type": "code",
      "metadata": {
        "id": "bHBAqZNpGJiT",
        "colab_type": "code",
        "colab": {}
      },
      "source": [
        "# 하나의 에피소드 내에서 지연된 보상을 하기 위한 방법이다. \n",
        "\n",
        "def discount_rewards(r, gamma=0.99):\n",
        "    \"\"\"Takes 1d float array of rewards and computes discounted reward\n",
        "    e.g. f([1, 1, 1], 0.99) -> [2.9701, 1.99, 1]\n",
        "    \"\"\"\n",
        "    prior = 0\n",
        "    out = []\n",
        "    r = r[::-1]\n",
        "    for val in r:\n",
        "        new_val = val + prior * gamma\n",
        "        out.append(new_val)\n",
        "        prior = new_val\n",
        "    return np.array(out)"
      ],
      "execution_count": null,
      "outputs": []
    },
    {
      "cell_type": "code",
      "metadata": {
        "id": "9mnjJQyQLm9P",
        "colab_type": "code",
        "colab": {}
      },
      "source": [
        "# test_set에 적용하는 함수\n",
        "\n",
        "def score_model(model_predict, num_tests):\n",
        "    scores = []    \n",
        "    for num_test in range(num_tests):\n",
        "        observation = env()\n",
        "        forcasts = model_predict.predict(observation)\n",
        "        rw = reward(observation, np.argmax(forcasts, axis=1))\n",
        "        scores.append(rw)\n",
        "    return np.mean(scores)"
      ],
      "execution_count": null,
      "outputs": []
    },
    {
      "cell_type": "code",
      "metadata": {
        "id": "pekZ5hube7jg",
        "colab_type": "code",
        "colab": {}
      },
      "source": [
        ""
      ],
      "execution_count": null,
      "outputs": []
    },
    {
      "cell_type": "code",
      "metadata": {
        "id": "Zb1yTMimS19n",
        "colab_type": "code",
        "colab": {}
      },
      "source": [
        ""
      ],
      "execution_count": null,
      "outputs": []
    },
    {
      "cell_type": "code",
      "metadata": {
        "id": "HtPlFP_N91Sn",
        "colab_type": "code",
        "colab": {}
      },
      "source": [
        ""
      ],
      "execution_count": null,
      "outputs": []
    },
    {
      "cell_type": "code",
      "metadata": {
        "id": "5jzHURCR91WX",
        "colab_type": "code",
        "colab": {}
      },
      "source": [
        ""
      ],
      "execution_count": null,
      "outputs": []
    }
  ]
}