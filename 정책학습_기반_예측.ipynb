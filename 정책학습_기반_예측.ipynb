{
  "nbformat": 4,
  "nbformat_minor": 0,
  "metadata": {
    "colab": {
      "name": "정책학습 기반 예측",
      "provenance": [],
      "collapsed_sections": [],
      "authorship_tag": "ABX9TyOjhMCLBoLdZzMDrBaLmJp1",
      "include_colab_link": true
    },
    "kernelspec": {
      "name": "python3",
      "display_name": "Python 3"
    }
  },
  "cells": [
    {
      "cell_type": "markdown",
      "metadata": {
        "id": "view-in-github",
        "colab_type": "text"
      },
      "source": [
        "<a href=\"https://colab.research.google.com/github/sjbaek12/sjbaek12.github.io/blob/master/%EC%A0%95%EC%B1%85%ED%95%99%EC%8A%B5_%EA%B8%B0%EB%B0%98_%EC%98%88%EC%B8%A1.ipynb\" target=\"_parent\"><img src=\"https://colab.research.google.com/assets/colab-badge.svg\" alt=\"Open In Colab\"/></a>"
      ]
    },
    {
      "cell_type": "markdown",
      "metadata": {
        "id": "PbNzyGr1xgti",
        "colab_type": "text"
      },
      "source": [
        "어떤 상태에서 특정한 액션을 취하면 리워드가 발생한다.\n",
        "정책신경망에서 어떤 상태일때 액선이 산출되고 그 산출로 인한 리워드가 최대가 되도록 정책신경망의 가중치를 조정한다. 그러면 리워드가 최대가 되는 액션을 산출하는 정책신경망이 될 것이다. \n",
        "\n",
        "loss함수는 리워드가 최대가 되는 액션을 산출했을 때, 마이너스 무한대가 되도록 조정하면 된다. "
      ]
    },
    {
      "cell_type": "code",
      "metadata": {
        "id": "uoNYrqyWxhgZ",
        "colab_type": "code",
        "colab": {}
      },
      "source": [
        "import numpy as np\n",
        "import matplotlib.pyplot as plt"
      ],
      "execution_count": null,
      "outputs": []
    },
    {
      "cell_type": "code",
      "metadata": {
        "id": "rDPyv4nbyYRY",
        "colab_type": "code",
        "colab": {
          "base_uri": "https://localhost:8080/",
          "height": 265
        },
        "outputId": "0020774f-2918-48ec-b39e-e2256990f8b1"
      },
      "source": [
        "# 환경 모듈\n",
        "\n",
        "def env():\n",
        "  start_price = 3\n",
        "  pricej=[]\n",
        "  for i in range(50):\n",
        "    change = np.random.rand(1)*1.2\n",
        "    direction = np.random.choice(2, p=[0.5, 0.5])\n",
        "    if direction == 1:\n",
        "      if start_price - change[0] <= 0:\n",
        "         p = 1.0\n",
        "      else:\n",
        "         p = start_price - change[0]     \n",
        "    else: \n",
        "      p = start_price + change[0] \n",
        "    start_price = p\n",
        "    pricej.append(p)\n",
        "#  p_mean = np.mean(price)\n",
        "#  p_std = np.std(price)\n",
        "#  price = (price - p_mean)/p_std\n",
        "  \n",
        "  p_serise= []\n",
        "  for i in range(46):\n",
        "    serise = [pricej[i],pricej[i+1], pricej[i+2], pricej[i+3], pricej[i+4]]\n",
        "    serise = np.array(serise)\n",
        "    p_serise.append(serise)\n",
        "  p_serise= p_serise[0:50]\n",
        "  p_serise = np.array(p_serise)\n",
        "  p_serise_lstm = p_serise.reshape(46, 5, 1)  # p_serise의 길이는 46이다. LSTM을 사용할 때 데이터 input 형태\n",
        "  price_lstm = pricej[4:]\n",
        "  price_lstm = np.array(price_lstm)\n",
        "  return p_serise, p_serise_lstm, price_lstm \n",
        "\n",
        "p_serise, p_serise_lstm, price_lstm = env()\n",
        "plt.plot(price_lstm)\n",
        "plt.show()"
      ],
      "execution_count": null,
      "outputs": [
        {
          "output_type": "display_data",
          "data": {
            "image/png": "[encoded data removed]",
            "text/plain": [
              "<Figure size 432x288 with 1 Axes>"
            ]
          },
          "metadata": {
            "tags": [],
            "needs_background": "light"
          }
        }
      ]
    },
    {
      "cell_type": "code",
      "metadata": {
        "id": "1nwZBjdPg_zg",
        "colab_type": "code",
        "colab": {
          "base_uri": "https://localhost:8080/",
          "height": 34
        },
        "outputId": "9d956b64-b54a-44de-d79a-3049361550a0"
      },
      "source": [
        "price_data = [p_serise_lstm[j] for j in range(5)] \n",
        "price_data = np.array(price_data)\n",
        "price_data.shape"
      ],
      "execution_count": null,
      "outputs": [
        {
          "output_type": "execute_result",
          "data": {
            "text/plain": [
              "(5, 5, 1)"
            ]
          },
          "metadata": {
            "tags": []
          },
          "execution_count": 128
        }
      ]
    },
    {
      "cell_type": "code",
      "metadata": {
        "id": "2WyzYpCB2j4F",
        "colab_type": "code",
        "colab": {
          "base_uri": "https://localhost:8080/",
          "height": 107
        },
        "outputId": "d59bba78-8999-4a6c-863f-71441d18ce32"
      },
      "source": [
        "p_serise_lstm[0]"
      ],
      "execution_count": null,
      "outputs": [
        {
          "output_type": "execute_result",
          "data": {
            "text/plain": [
              "array([[3.70549417],\n",
              "       [2.80407724],\n",
              "       [2.45759833],\n",
              "       [2.27523064],\n",
              "       [3.10865426]])"
            ]
          },
          "metadata": {
            "tags": []
          },
          "execution_count": 19
        }
      ]
    },
    {
      "cell_type": "markdown",
      "metadata": {
        "id": "ojsIN6Y5d7qh",
        "colab_type": "text"
      },
      "source": [
        "이것은 Test이다. LSTM을 적용한 모델로 price 변동을 학습하는지 체크한다.\n",
        "예측을 하는 것은 아니지만 주어진 데이터를 완벽하게 학습하고 재현한다."
      ]
    },
    {
      "cell_type": "code",
      "metadata": {
        "id": "Am41I8nZeBH_",
        "colab_type": "code",
        "colab": {
          "base_uri": "https://localhost:8080/",
          "height": 70
        },
        "outputId": "2a26597d-3ae6-4670-d650-97c981c1b316"
      },
      "source": [
        "import tensorflow as tf\n",
        "tf.config.experimental_run_functions_eagerly(True)\n",
        "\n",
        "\n",
        "import tensorflow as tf\n",
        "\n",
        "import numpy as np\n",
        "\n",
        "from tensorflow import keras\n",
        "import keras.layers as layers\n",
        "from keras.layers import Dense, LSTM,Input\n",
        "from keras.models import Model\n",
        "from keras.optimizers import Adam, RMSprop, SGD\n",
        "import keras.backend as K \n",
        "from tensorflow.keras.utils import to_categorical\n",
        "from keras.initializers import glorot_uniform\n",
        "\n"
      ],
      "execution_count": null,
      "outputs": [
        {
          "output_type": "stream",
          "text": [
            "WARNING:tensorflow:From <ipython-input-3-5bdce352bf84>:2: experimental_run_functions_eagerly (from tensorflow.python.eager.def_function) is deprecated and will be removed in a future version.\n",
            "Instructions for updating:\n",
            "Use `tf.config.run_functions_eagerly` instead of the experimental version.\n"
          ],
          "name": "stdout"
        }
      ]
    },
    {
      "cell_type": "code",
      "metadata": {
        "id": "yPXsj82IeBSt",
        "colab_type": "code",
        "colab": {}
      },
      "source": [
        "def policy_model_lstm (lr):\n",
        "  inp_L = layers.Input(shape=(5,1))  # 타입스텝수 5개, 특성개수 1개\n",
        "  dense_L = LSTM(5)(inp_L)\n",
        "  dense_L = Dense(64)(dense_L) \n",
        "  output_s = layers.Dense(1)(dense_L)\n",
        "\n",
        "  model_train = Model(inputs=inp_L, outputs = output_s)\n",
        "  model_train.compile(loss='mse', optimizer=Adam(lr), metrics = ['mae'])\n",
        "  return model_train "
      ],
      "execution_count": null,
      "outputs": []
    },
    {
      "cell_type": "code",
      "metadata": {
        "id": "uv3t1PN0gFdb",
        "colab_type": "code",
        "colab": {}
      },
      "source": [
        "model_train_test = policy_model_lstm(0.01)"
      ],
      "execution_count": null,
      "outputs": []
    },
    {
      "cell_type": "code",
      "metadata": {
        "id": "lhTSK84teBWI",
        "colab_type": "code",
        "colab": {
          "base_uri": "https://localhost:8080/",
          "height": 298
        },
        "outputId": "245ea765-5fa8-4059-d325-1050135cdb4d"
      },
      "source": [
        "model_train_test.summary()"
      ],
      "execution_count": null,
      "outputs": [
        {
          "output_type": "stream",
          "text": [
            "Model: \"functional_1\"\n",
            "_________________________________________________________________\n",
            "Layer (type)                 Output Shape              Param #   \n",
            "=================================================================\n",
            "input_1 (InputLayer)         [(None, 5, 1)]            0         \n",
            "_________________________________________________________________\n",
            "lstm (LSTM)                  (None, 5)                 140       \n",
            "_________________________________________________________________\n",
            "dense (Dense)                (None, 64)                384       \n",
            "_________________________________________________________________\n",
            "dense_1 (Dense)              (None, 1)                 65        \n",
            "=================================================================\n",
            "Total params: 589\n",
            "Trainable params: 589\n",
            "Non-trainable params: 0\n",
            "_________________________________________________________________\n"
          ],
          "name": "stdout"
        }
      ]
    },
    {
      "cell_type": "code",
      "metadata": {
        "id": "I6PZLdaIeBZF",
        "colab_type": "code",
        "colab": {
          "base_uri": "https://localhost:8080/",
          "height": 72
        },
        "outputId": "90b666e4-1f6c-484f-e2a9-ba4a7d336f54"
      },
      "source": [
        "history_test = model_train_test.fit(p_serise_lstm, price_lstm, epochs=100, verbose=0)"
      ],
      "execution_count": null,
      "outputs": [
        {
          "output_type": "stream",
          "text": [
            "/usr/local/lib/python3.6/dist-packages/tensorflow/python/data/ops/dataset_ops.py:3350: UserWarning: Even though the tf.config.experimental_run_functions_eagerly option is set, this option does not apply to tf.data functions. tf.data functions are still traced and executed as graphs.\n",
            "  \"Even though the tf.config.experimental_run_functions_eagerly \"\n"
          ],
          "name": "stderr"
        }
      ]
    },
    {
      "cell_type": "code",
      "metadata": {
        "id": "hdMxOLBOhO-u",
        "colab_type": "code",
        "colab": {
          "base_uri": "https://localhost:8080/",
          "height": 72
        },
        "outputId": "6352d354-eac9-46a9-f79e-830f9c24b995"
      },
      "source": [
        "p_f = model_train_test.predict(p_serise_lstm)"
      ],
      "execution_count": null,
      "outputs": [
        {
          "output_type": "stream",
          "text": [
            "/usr/local/lib/python3.6/dist-packages/tensorflow/python/data/ops/dataset_ops.py:3350: UserWarning: Even though the tf.config.experimental_run_functions_eagerly option is set, this option does not apply to tf.data functions. tf.data functions are still traced and executed as graphs.\n",
            "  \"Even though the tf.config.experimental_run_functions_eagerly \"\n"
          ],
          "name": "stderr"
        }
      ]
    },
    {
      "cell_type": "code",
      "metadata": {
        "id": "JXVqMs4Ghcdu",
        "colab_type": "code",
        "colab": {
          "base_uri": "https://localhost:8080/",
          "height": 265
        },
        "outputId": "59c7657d-ff5e-4b13-e362-ffc83ba488ed"
      },
      "source": [
        "plt.plot(p_f,\"b\")\n",
        "plt.plot(price_lstm, 'ro')\n",
        "plt.show()"
      ],
      "execution_count": null,
      "outputs": [
        {
          "output_type": "display_data",
          "data": {
            "image/png": "[encoded data removed]",
            "text/plain": [
              "<Figure size 432x288 with 1 Axes>"
            ]
          },
          "metadata": {
            "tags": [],
            "needs_background": "light"
          }
        }
      ]
    },
    {
      "cell_type": "markdown",
      "metadata": {
        "id": "FcJsmEuZ9v0M",
        "colab_type": "text"
      },
      "source": [
        "여기부터 정책신경망 이다."
      ]
    },
    {
      "cell_type": "code",
      "metadata": {
        "id": "BD4QALBQyNEe",
        "colab_type": "code",
        "colab": {}
      },
      "source": [
        "class Agent(object):\n",
        "  def __init__(self, ALPHA=0.01, GAMMA=0.99, n_actions=2, layer1_size=10, layer2_size=64, layer3_size=64, input_dims=4, fname='reinforce.h5'):\n",
        "    self.gamma = GAMMA\n",
        "    self.lr = ALPHA\n",
        "    self.G = 0\n",
        "    self.input_dims = input_dims\n",
        "    self.fc1_dims = layer1_size\n",
        "    self.fc2_dims = layer2_size\n",
        "    self.fc3_dims = layer3_size\n",
        "    self.n_actions = n_actions\n",
        "    self.balance = [20, 0, 0]\n",
        "    self.base_pv = 20\n",
        "    self.target_ratio = 0.1\n",
        "    self.state_memory = []\n",
        "    self.action_memory = []\n",
        "    self.reward_memory = []\n",
        "\n",
        "    self.policy, self.predict = self.build_policy_network()\n",
        "    self.action_space = [i for i in range(n_actions)]\n",
        "    self.model_file = fname\n",
        "     \n",
        "  def build_policy_network(self):\n",
        "    input=Input(shape=(5,1))\n",
        "    advantages = Input(shape=[1])\n",
        "    dense1 = LSTM(self.fc1_dims)(input)\n",
        "    dense2 = Dense(self.fc2_dims)(dense1)\n",
        "    dense3 = Dense(self.fc3_dims)(dense2)\n",
        "    probs = Dense(self.n_actions, activation='softmax')(dense3)\n",
        "\n",
        "    def custom_loss(y_true, y_pred):\n",
        "      out = K.clip(y_pred, 1e-8, 1-1e-8)\n",
        "      log_lik = K.sum(y_true*K.log(out), axis=1)*advantages\n",
        "      return - log_lik\n",
        "   \n",
        "    policy = Model(inputs = [input, advantages], outputs = probs) # input = , output= 를 생략한 상태이다.\n",
        "    policy.compile(optimizer = Adam(lr=self.lr), loss=custom_loss)\n",
        "    predict = Model(inputs = input, outputs = probs) #input = , output= 를 생략한 상태이다.\n",
        "\n",
        "    return policy, predict\n",
        "\n",
        "  def choose_action(self, observation):\n",
        "    state = observation[np.newaxis, :] # [1.0, 1.0]을 [[1.0, 1.0]]와 같이 한축을 추가한다.\n",
        "    probabilities = self.predict.predict(state)[0]\n",
        "    action = np.random.choice(self.action_space, p=probabilities)\n",
        "    return action\n",
        "\n",
        "  def validate_action(self, action, observation):\n",
        "    price = observation[4]\n",
        "    if action == 0:  # 0은 매수, 1은 보류, 2는 매도\n",
        "      if self.balance[0] - price < 0:\n",
        "        action_validated = 1\n",
        "      else:\n",
        "        action_validated = 0        \n",
        "    if action == 1:\n",
        "      if self.balance[2] > 0 :\n",
        "        action_validated = 2\n",
        "      else:\n",
        "        action_validated = 1\n",
        "    before_act_balance = [self.balance[0], self.balance[1], self.balance[2]] \n",
        "\n",
        "    return action_validated, before_act_balance  \n",
        "\n",
        "  def balance_update(self, observation, action_validated):\n",
        "    price = observation[4]\n",
        "    if action_validated == 0:\n",
        "      self.balance[0] = self.balance[0] - price\n",
        "      self.balance[1] = price\n",
        "      self.balance[2] = self.balance[2] + 1\n",
        "    if action_validated == 1:\n",
        "      self.balance[1] = price\n",
        "    if action_validated == 2:\n",
        "      self.balance[0] = self.balance[0] + price\n",
        "      self.balance[1] = price\n",
        "      self.balance[2] = self.balance[2] -1\n",
        "    balance_updated = [self.balance[0], self.balance[1], self.balance[2]]\n",
        "    present_value = self.balance[0] + self.balance[1] * self.balance[2]\n",
        "    return balance_updated, present_value\n",
        "\n",
        "  def pv_ratio(self, before_act_balance, balance_updated):\n",
        "    pv_ratio = (balance_updated[0] + balance_updated[1] * balance_updated[2])/(before_act_balance[0] + before_act_balance[1] * before_act_balance[2])\n",
        "    return pv_ratio\n",
        "\n",
        "  def hold_ratio(self, balance_updated, observation, present_value):  # 주식보유 비율\n",
        "    price = observation[4] \n",
        "    hold_ratio = balance_updated[2] / (present_value / price)\n",
        "    return hold_ratio\n",
        "\n",
        "  def base_pv_change (self, present_value):\n",
        "    delay_ratio = (present_value - self.base_pv) / self.base_pv\n",
        "    if delay_ratio > self.target_ratio:\n",
        "      reward = 1\n",
        "      self.base_pv = present_value\n",
        "    elif (-1 * delay_ratio) > self.target_ratio:  #손실규모가 타켓을 상회할 때\n",
        "      reward = -1\n",
        "      self.base_pv = present_value\n",
        "    else:\n",
        "      reward = 0\n",
        "      self.base_pv = self.base_pv\n",
        "    return delay_ratio, reward \n",
        "\n",
        "  def store_transition(self, observation, action, reward):\n",
        "    self.action_memory.append(action)\n",
        "    self.state_memory.append(observation)\n",
        "    self.reward_memory.append(reward)  \n",
        "\n",
        "\n",
        "  def learn(self):\n",
        "    state_memory = np.array(self.state_memory)\n",
        "    action_memory = np.array(self.action_memory)\n",
        "    reward_memory = np.array(self.reward_memory)\n",
        "\n",
        "    y = np.zeros([len(action_memory), self.n_actions])\n",
        "    y[np.arange(len(action_memory)), action_memory] = 1 # action memory 길이만큼 zero 리스트를 만들고, 각 리스트에 선택한 행동에 1을 넣어준다\n",
        "\n",
        "    G= np.zeros_like(reward_memory)\n",
        "    for t in range(len(reward_memory)):\n",
        "      G_sum = 0\n",
        "      discout = 1\n",
        "      for k in range(t, len(reward_memory)):\n",
        "        G_sum += reward_memory[k]*discout\n",
        "        discout *= self.gamma\n",
        "\n",
        "      G[t] = G_sum\n",
        "    mean = np.mean(G)\n",
        "    std = np.std(G) if np.std(G) > 0 else 1\n",
        "    self.G = (G-mean)/std\n",
        "\n",
        "    self.G = np.reshape(self.G, (len(reward_memory),1))\n",
        "\n",
        "    history = self.policy.train_on_batch([state_memory, self.G], y)\n",
        "     \n",
        "\n",
        "  def reset_memory(self):\n",
        "    self.state_memory= []\n",
        "    self.action_memory = []\n",
        "    self.reward_memory = []\n",
        "\n",
        "  def reset_balance(self):\n",
        "    self.balance = [20,0,0]\n",
        "    self.base_pv = 20\n",
        "\n"
      ],
      "execution_count": null,
      "outputs": []
    },
    {
      "cell_type": "code",
      "metadata": {
        "id": "82Phaa6Kbnel",
        "colab_type": "code",
        "colab": {}
      },
      "source": [
        "agent = Agent()"
      ],
      "execution_count": null,
      "outputs": []
    },
    {
      "cell_type": "code",
      "metadata": {
        "id": "qagQXaBEd9ce",
        "colab_type": "code",
        "colab": {
          "base_uri": "https://localhost:8080/",
          "height": 108
        },
        "outputId": "e3b49c31-cc86-4ea3-eb6d-6407d92dadc8"
      },
      "source": [
        "observation = p_serise_lstm[0]\n",
        "\n",
        "action = agent.choose_action(observation)\n",
        "action_validated, before_act_balance = agent.validate_action(action, observation) \n",
        "balance_updated, present_value = agent.balance_update(observation, action_validated)\n",
        "pv_ratio = agent.pv_ratio(before_act_balance, balance_updated)\n",
        "hold_ratio = agent.hold_ratio(balance_updated, observation, present_value)\n",
        "delay_ratio, reward = agent.base_pv_change(present_value)\n",
        "agent.store_transition(observation, action, reward)\n",
        "agent.learn()\n",
        "\n",
        "print(action, action_validated, before_act_balance, balance_updated, present_value, pv_ratio, hold_ratio, delay_ratio, reward)"
      ],
      "execution_count": null,
      "outputs": [
        {
          "output_type": "stream",
          "text": [
            "/usr/local/lib/python3.6/dist-packages/tensorflow/python/data/ops/dataset_ops.py:3350: UserWarning: Even though the tf.config.experimental_run_functions_eagerly option is set, this option does not apply to tf.data functions. tf.data functions are still traced and executed as graphs.\n",
            "  \"Even though the tf.config.experimental_run_functions_eagerly \"\n"
          ],
          "name": "stderr"
        },
        {
          "output_type": "stream",
          "text": [
            "[[1. 0.]]\n",
            "0 0 [20, 0, 0] [array([15.56140324]), array([4.43859676]), 1] [20.] [1.] [0.22192984] [0.] 0\n"
          ],
          "name": "stdout"
        }
      ]
    },
    {
      "cell_type": "code",
      "metadata": {
        "id": "xEEmaKXtfUmP",
        "colab_type": "code",
        "colab": {}
      },
      "source": [
        ""
      ],
      "execution_count": null,
      "outputs": []
    },
    {
      "cell_type": "markdown",
      "metadata": {
        "id": "IZHalhPGCE4J",
        "colab_type": "text"
      },
      "source": [
        "여기부터는 학습의 영역이다."
      ]
    },
    {
      "cell_type": "code",
      "metadata": {
        "id": "8m2KF-e-wFu1",
        "colab_type": "code",
        "colab": {
          "base_uri": "https://localhost:8080/",
          "height": 160
        },
        "outputId": "13265f26-49f7-4550-9078-15b49cab3a62"
      },
      "source": [
        "# random action과 신경망의 선택 action을 조정해야 한다.\n",
        "\n",
        "\n",
        "num_episode = 0.0\n",
        "num_episodes = 100.0\n",
        "\n",
        "agent = Agent()\n",
        "\n",
        "while num_episode < num_episodes:\n",
        "\n",
        "  action_history = []\n",
        "  wealth_history = []\n",
        "  agent.reset_balance()\n",
        "\n",
        "  for i in range(len(p_serise_lstm)):\n",
        "   \n",
        "    observation = p_serise_lstm[i]\n",
        "\n",
        "    action = agent.choose_action(observation)\n",
        "    action_validated, before_act_balance = agent.validate_action(action, observation) \n",
        "    balance_updated, present_value = agent.balance_update(observation, action_validated)\n",
        "    pv_ratio = agent.pv_ratio(before_act_balance, balance_updated)\n",
        "    hold_ratio = agent.hold_ratio(balance_updated, observation, present_value)\n",
        "    delay_ratio, reward = agent.base_pv_change(present_value)\n",
        "    agent.store_transition(observation, action, reward)\n",
        "    action_history.append(action)\n",
        "    wealth_history.append(present_value)\n",
        "\n",
        "\n",
        "    if (reward == 1): # reward == -1\n",
        "      agent.learn()\n",
        "      agent.reset_memory()\n",
        "      continue\n",
        "\n",
        "#  agent.learn()\n",
        "#  agent.reset_memory()\n",
        "  \n",
        "  if (num_episode+1) % 20 == 0:\n",
        "    print(wealth_history[-1])\n",
        "\n",
        "  num_episode += 1.0\n",
        "   "
      ],
      "execution_count": null,
      "outputs": [
        {
          "output_type": "stream",
          "text": [
            "/usr/local/lib/python3.6/dist-packages/tensorflow/python/data/ops/dataset_ops.py:3350: UserWarning: Even though the tf.config.experimental_run_functions_eagerly option is set, this option does not apply to tf.data functions. tf.data functions are still traced and executed as graphs.\n",
            "  \"Even though the tf.config.experimental_run_functions_eagerly \"\n"
          ],
          "name": "stderr"
        },
        {
          "output_type": "stream",
          "text": [
            "[26.67713744]\n",
            "[20.07132881]\n",
            "[62.75294271]\n",
            "[69.32728265]\n",
            "[18.8516224]\n"
          ],
          "name": "stdout"
        }
      ]
    },
    {
      "cell_type": "code",
      "metadata": {
        "id": "sYjC25x2zPOn",
        "colab_type": "code",
        "colab": {}
      },
      "source": [
        ""
      ],
      "execution_count": null,
      "outputs": []
    },
    {
      "cell_type": "code",
      "metadata": {
        "id": "8H2uo6DtiBFK",
        "colab_type": "code",
        "colab": {
          "base_uri": "https://localhost:8080/",
          "height": 34
        },
        "outputId": "655c46e2-db15-4961-cac4-82f04be611ee"
      },
      "source": [
        "[30.136815]\n",
        "[15.7594771]\n",
        "[20.81602087]\n",
        "[20.554815]\n",
        "[20.2495043]"
      ],
      "execution_count": null,
      "outputs": [
        {
          "output_type": "execute_result",
          "data": {
            "text/plain": [
              "[20.2495043]"
            ]
          },
          "metadata": {
            "tags": []
          },
          "execution_count": 6
        }
      ]
    },
    {
      "cell_type": "code",
      "metadata": {
        "id": "Tiw8inRifyZK",
        "colab_type": "code",
        "colab": {
          "base_uri": "https://localhost:8080/",
          "height": 265
        },
        "outputId": "57aab228-c1d1-49bd-dad2-109cc4e01c9d"
      },
      "source": [
        "plt.plot(wealth_history)\n",
        "plt.show()"
      ],
      "execution_count": null,
      "outputs": [
        {
          "output_type": "display_data",
          "data": {
            "image/png": "[encoded data removed]",
            "text/plain": [
              "<Figure size 432x288 with 1 Axes>"
            ]
          },
          "metadata": {
            "tags": [],
            "needs_background": "light"
          }
        }
      ]
    },
    {
      "cell_type": "code",
      "metadata": {
        "id": "hIBEQds4hxKr",
        "colab_type": "code",
        "colab": {
          "base_uri": "https://localhost:8080/",
          "height": 265
        },
        "outputId": "e7550db7-1a68-4803-b7f1-c517c4a743d3"
      },
      "source": [
        "plt.plot(p_f,\"b\")\n",
        "plt.plot(price_lstm, 'ro')\n",
        "plt.show()"
      ],
      "execution_count": null,
      "outputs": [
        {
          "output_type": "display_data",
          "data": {
            "image/png": "[encoded data removed]",
            "text/plain": [
              "<Figure size 432x288 with 1 Axes>"
            ]
          },
          "metadata": {
            "tags": [],
            "needs_background": "light"
          }
        }
      ]
    },
    {
      "cell_type": "code",
      "metadata": {
        "id": "3_UO5xJA3Or7",
        "colab_type": "code",
        "colab": {
          "base_uri": "https://localhost:8080/",
          "height": 265
        },
        "outputId": "c73a9a7c-ee85-491a-c989-87fbcc0a3af2"
      },
      "source": [
        "plt.plot(action_history, 'b')\n",
        "plt.show()"
      ],
      "execution_count": null,
      "outputs": [
        {
          "output_type": "display_data",
          "data": {
            "image/png": "[encoded data removed]",
            "text/plain": [
              "<Figure size 432x288 with 1 Axes>"
            ]
          },
          "metadata": {
            "tags": [],
            "needs_background": "light"
          }
        }
      ]
    },
    {
      "cell_type": "code",
      "metadata": {
        "id": "Ow_S585G3PVx",
        "colab_type": "code",
        "colab": {}
      },
      "source": [
        ""
      ],
      "execution_count": null,
      "outputs": []
    },
    {
      "cell_type": "code",
      "metadata": {
        "id": "fSqTmJ2bGAL8",
        "colab_type": "code",
        "colab": {}
      },
      "source": [
        "# 학습을 위한 배치 데이터를 만든다.\n",
        "\n",
        "def get_batch(transaction_history):\n",
        "\n",
        "\n",
        "  for i in range(len(transaction_history)):\n",
        "\n",
        "    if transaction_history[i][9] == 1:\n",
        "\n",
        "      y = np.full((len(transaction_history), 2), 0.0) \n",
        "      for j in range(i+1):\n",
        "        k = transaction_history[j][2] # k는 당초 신경망이 추천한 값으로 0구매, 1는 매도 이다. \n",
        "        y[j,k] = 1.0 # 신경망이 추천해 준 값을 1로 놓아, 0.0보다 높게 만든다. 이것은 각 행동에 대한 reword이자 action에 대한 추천확율이다.\n",
        "      \n",
        "      price_data = [p_serise_lstm[j] for j in range(i+1)]\n",
        "      pv_ratios = [transaction_history[j][6] for j in range(i+1)]\n",
        "      hold_ratios = [transaction_history[j][7] for j in range(i+1)]\n",
        "      \n",
        "      train_input =[]\n",
        "      for pd, pr, hr in zip(price_data, pv_ratios, hold_ratios):\n",
        "        pd = np.append(pd, pr)\n",
        "        pd = np.append(pd, hr)\n",
        "        train_input.append(pd)\n",
        "      train_input = np.array(train_input)\n",
        "      train_input = train_input.reshape(-1,7,1)\n",
        "\n",
        "    elif transaction_history[i][9] == -1:\n",
        "      \n",
        "      y = np.full((len(transaction_history), 2), 1.0) \n",
        "      \n",
        "      for j in range(i+1):\n",
        "        k = transaction_history[j][2] # k는 당초 신경망이 추천한 값으로 0구매, 1는 매도 이다. \n",
        "        y[j,k] = 0.0 # 신경망이 추천해 준 값을 0로 놓아, 0.5보다 낮게 만든다. 반대 행동에 1.0의 보상을 주는 것과 같다.\n",
        "      \n",
        "      price_data = [p_serise_lstm[j] for j in range(i+1)]\n",
        "      pv_ratios = [transaction_history[j][6] for j in range(i+1)]\n",
        "      hold_ratios = [transaction_history[j][7] for j in range(i+1)]\n",
        "      \n",
        "      train_input =[]\n",
        "      for pd, pr, hr in zip(price_data, pv_ratios, hold_ratios):\n",
        "        pd = np.append(pd, pr)\n",
        "        pd = np.append(pd, hr)\n",
        "        train_input.append(pd)\n",
        "      train_input = np.array(train_input)\n",
        "      train_input = train_input.reshape(-1,7,1)\n",
        "\n",
        "  return y, train_input\n",
        "\n",
        "\n",
        "\n",
        "\n"
      ],
      "execution_count": null,
      "outputs": []
    },
    {
      "cell_type": "code",
      "metadata": {
        "id": "PUIn7JR9vMo6",
        "colab_type": "code",
        "colab": {
          "base_uri": "https://localhost:8080/",
          "height": 266
        },
        "outputId": "e1ac75b8-4bb1-43f2-b5d8-476d6307dfa6"
      },
      "source": [
        "plt.plot(wealth)\n",
        "plt.show()"
      ],
      "execution_count": null,
      "outputs": [
        {
          "output_type": "display_data",
          "data": {
            "image/png": "[encoded data removed]",
            "text/plain": [
              "<Figure size 432x288 with 1 Axes>"
            ]
          },
          "metadata": {
            "tags": [],
            "needs_background": "light"
          }
        }
      ]
    },
    {
      "cell_type": "code",
      "metadata": {
        "id": "ZG19QI3YAYcW",
        "colab_type": "code",
        "colab": {}
      },
      "source": [
        "# 거래와 관련된 모든 것을 기록한다.\n",
        "\n",
        "def record(i, price, act, act_v, balance_updated, present_value, pv_ratio, hold_ratio, delay_ratio, target, base_pv):\n",
        "\n",
        "  transaction_history.append([i, price, act, act_v, balance_updated, present_value, pv_ratio, hold_ratio, delay_ratio, target, base_pv])\n",
        "  return transaction_history"
      ],
      "execution_count": null,
      "outputs": []
    },
    {
      "cell_type": "code",
      "metadata": {
        "id": "CNZKkOLcvtRP",
        "colab_type": "code",
        "colab": {}
      },
      "source": [
        "actions = []\n",
        "for i in range(len(fkn)):\n",
        "  actions.append(fkn[i][2])"
      ],
      "execution_count": null,
      "outputs": []
    },
    {
      "cell_type": "code",
      "metadata": {
        "id": "R3iWk4Y2v5VB",
        "colab_type": "code",
        "colab": {
          "base_uri": "https://localhost:8080/",
          "height": 265
        },
        "outputId": "7528fd72-8ce5-46f6-a7ea-066530858e80"
      },
      "source": [
        "plt.plot(actions)\n",
        "plt.show()"
      ],
      "execution_count": null,
      "outputs": [
        {
          "output_type": "display_data",
          "data": {
            "image/png": "[encoded data removed]",
            "text/plain": [
              "<Figure size 432x288 with 1 Axes>"
            ]
          },
          "metadata": {
            "tags": [],
            "needs_background": "light"
          }
        }
      ]
    }
  ]
}