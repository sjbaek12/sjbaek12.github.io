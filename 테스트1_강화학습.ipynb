{
  "nbformat": 4,
  "nbformat_minor": 0,
  "metadata": {
    "colab": {
      "name": "테스트 강화학습",
      "provenance": [],
      "collapsed_sections": [],
      "authorship_tag": "ABX9TyOzkMTShCVvCp0mvBvsEqsS",
      "include_colab_link": true
    },
    "kernelspec": {
      "name": "python3",
      "display_name": "Python 3"
    }
  },
  "cells": [
    {
      "cell_type": "markdown",
      "metadata": {
        "id": "view-in-github",
        "colab_type": "text"
      },
      "source": [
        "<a href=\"https://colab.research.google.com/github/sjbaek12/sjbaek12.github.io/blob/master/%ED%85%8C%EC%8A%A4%ED%8A%B81_%EA%B0%95%ED%99%94%ED%95%99%EC%8A%B5.ipynb\" target=\"_parent\"><img src=\"https://colab.research.google.com/assets/colab-badge.svg\" alt=\"Open In Colab\"/></a>"
      ]
    },
    {
      "cell_type": "markdown",
      "metadata": {
        "id": "PbNzyGr1xgti",
        "colab_type": "text"
      },
      "source": [
        "어떤 상태에서 특정한 액션을 취하면 리워드가 발생한다.\n",
        "정책신경망에서 어떤 상태일때 액선이 산출되고 그 산출로 인한 리워드가 최대가 되도록 정책신경망의 가중치를 조정한다. 그러면 리워드가 최대가 되는 액션을 산출하는 정책신경망이 될 것이다. \n",
        "\n",
        "loss함수는 리워드가 최대가 되는 액션을 산출했을 때, 마이너스 무한대가 되도록 조정하면 된다. "
      ]
    },
    {
      "cell_type": "markdown",
      "metadata": {
        "id": "n5zyxmm_KOAe",
        "colab_type": "text"
      },
      "source": [
        "먼저 LSTM과 일반적 deep learning 모델을 비교해본 결과 fit 능력에서 차이는 없었다."
      ]
    },
    {
      "cell_type": "code",
      "metadata": {
        "id": "uoNYrqyWxhgZ",
        "colab_type": "code",
        "colab": {}
      },
      "source": [
        "import numpy as np\n",
        "import matplotlib.pyplot as plt"
      ],
      "execution_count": 1,
      "outputs": []
    },
    {
      "cell_type": "code",
      "metadata": {
        "id": "rDPyv4nbyYRY",
        "colab_type": "code",
        "colab": {
          "base_uri": "https://localhost:8080/",
          "height": 265
        },
        "outputId": "73937239-fcca-4537-ebd9-067d9ff1a7c6"
      },
      "source": [
        "# 환경 모듈\n",
        "\n",
        "def env():\n",
        "  start_price = 3\n",
        "  pricej=[]\n",
        "  for i in range(50):\n",
        "    change = np.random.rand(1)*1.2\n",
        "    direction = np.random.choice(2, p=[0.5, 0.5])\n",
        "    if direction == 1:\n",
        "      if start_price - change[0] <= 0:\n",
        "         p = 1.0\n",
        "      else:\n",
        "         p = start_price - change[0]     \n",
        "    else: \n",
        "      p = start_price + change[0] \n",
        "    start_price = p\n",
        "    pricej.append(p)\n",
        "#  p_mean = np.mean(price)\n",
        "#  p_std = np.std(price)\n",
        "#  price = (price - p_mean)/p_std\n",
        "  \n",
        "  p_serise= []\n",
        "  for i in range(46):\n",
        "    serise = [pricej[i],pricej[i+1], pricej[i+2], pricej[i+3], pricej[i+4]]\n",
        "    serise = np.array(serise)\n",
        "    p_serise.append(serise)\n",
        "  p_serise= p_serise[0:50]\n",
        "  p_serise = np.array(p_serise)\n",
        "  #p_serise = p_serise.reshape(25, 5, 1)  # LSTM을 사용할 때 데이터 input 형태\n",
        "  price_lstm = pricej[5:]\n",
        "  price_lstm = np.array(price_lstm)\n",
        "  return pricej, p_serise, price_lstm\n",
        "\n",
        "pricej, p_serise, price_lstm = env()\n",
        "plt.plot(price_lstm)\n",
        "plt.show()"
      ],
      "execution_count": 2,
      "outputs": [
        {
          "output_type": "display_data",
          "data": {
            "image/png": "[encoded data removed]",
            "text/plain": [
              "<Figure size 432x288 with 1 Axes>"
            ]
          },
          "metadata": {
            "tags": [],
            "needs_background": "light"
          }
        }
      ]
    },
    {
      "cell_type": "code",
      "metadata": {
        "id": "GxlziTCzn5mc",
        "colab_type": "code",
        "colab": {
          "base_uri": "https://localhost:8080/",
          "height": 826
        },
        "outputId": "31b55df4-0de8-40c4-e985-2a4db71bbc3d"
      },
      "source": [
        "p_serise"
      ],
      "execution_count": 3,
      "outputs": [
        {
          "output_type": "execute_result",
          "data": {
            "text/plain": [
              "array([[2.28276489, 2.47187064, 2.43834303, 2.33403277, 2.00607607],\n",
              "       [2.47187064, 2.43834303, 2.33403277, 2.00607607, 1.11143286],\n",
              "       [2.43834303, 2.33403277, 2.00607607, 1.11143286, 0.67793483],\n",
              "       [2.33403277, 2.00607607, 1.11143286, 0.67793483, 1.        ],\n",
              "       [2.00607607, 1.11143286, 0.67793483, 1.        , 1.02874903],\n",
              "       [1.11143286, 0.67793483, 1.        , 1.02874903, 2.20115826],\n",
              "       [0.67793483, 1.        , 1.02874903, 2.20115826, 2.84884694],\n",
              "       [1.        , 1.02874903, 2.20115826, 2.84884694, 3.23582495],\n",
              "       [1.02874903, 2.20115826, 2.84884694, 3.23582495, 2.6808904 ],\n",
              "       [2.20115826, 2.84884694, 3.23582495, 2.6808904 , 2.91618321],\n",
              "       [2.84884694, 3.23582495, 2.6808904 , 2.91618321, 3.98006938],\n",
              "       [3.23582495, 2.6808904 , 2.91618321, 3.98006938, 2.92252393],\n",
              "       [2.6808904 , 2.91618321, 3.98006938, 2.92252393, 2.69385111],\n",
              "       [2.91618321, 3.98006938, 2.92252393, 2.69385111, 2.591986  ],\n",
              "       [3.98006938, 2.92252393, 2.69385111, 2.591986  , 3.73385093],\n",
              "       [2.92252393, 2.69385111, 2.591986  , 3.73385093, 3.14282309],\n",
              "       [2.69385111, 2.591986  , 3.73385093, 3.14282309, 2.61907737],\n",
              "       [2.591986  , 3.73385093, 3.14282309, 2.61907737, 3.35442875],\n",
              "       [3.73385093, 3.14282309, 2.61907737, 3.35442875, 4.0360406 ],\n",
              "       [3.14282309, 2.61907737, 3.35442875, 4.0360406 , 5.2277294 ],\n",
              "       [2.61907737, 3.35442875, 4.0360406 , 5.2277294 , 5.06986332],\n",
              "       [3.35442875, 4.0360406 , 5.2277294 , 5.06986332, 4.2699557 ],\n",
              "       [4.0360406 , 5.2277294 , 5.06986332, 4.2699557 , 4.65950278],\n",
              "       [5.2277294 , 5.06986332, 4.2699557 , 4.65950278, 3.68603728],\n",
              "       [5.06986332, 4.2699557 , 4.65950278, 3.68603728, 4.13283212],\n",
              "       [4.2699557 , 4.65950278, 3.68603728, 4.13283212, 3.70462793],\n",
              "       [4.65950278, 3.68603728, 4.13283212, 3.70462793, 4.8006651 ],\n",
              "       [3.68603728, 4.13283212, 3.70462793, 4.8006651 , 4.22204094],\n",
              "       [4.13283212, 3.70462793, 4.8006651 , 4.22204094, 4.82341273],\n",
              "       [3.70462793, 4.8006651 , 4.22204094, 4.82341273, 5.3413688 ],\n",
              "       [4.8006651 , 4.22204094, 4.82341273, 5.3413688 , 6.2653943 ],\n",
              "       [4.22204094, 4.82341273, 5.3413688 , 6.2653943 , 6.8572953 ],\n",
              "       [4.82341273, 5.3413688 , 6.2653943 , 6.8572953 , 5.74238022],\n",
              "       [5.3413688 , 6.2653943 , 6.8572953 , 5.74238022, 6.33093733],\n",
              "       [6.2653943 , 6.8572953 , 5.74238022, 6.33093733, 5.39849733],\n",
              "       [6.8572953 , 5.74238022, 6.33093733, 5.39849733, 6.2585397 ],\n",
              "       [5.74238022, 6.33093733, 5.39849733, 6.2585397 , 5.56674276],\n",
              "       [6.33093733, 5.39849733, 6.2585397 , 5.56674276, 4.49733761],\n",
              "       [5.39849733, 6.2585397 , 5.56674276, 4.49733761, 5.40360453],\n",
              "       [6.2585397 , 5.56674276, 4.49733761, 5.40360453, 4.74410129],\n",
              "       [5.56674276, 4.49733761, 5.40360453, 4.74410129, 4.02684682],\n",
              "       [4.49733761, 5.40360453, 4.74410129, 4.02684682, 3.45953962],\n",
              "       [5.40360453, 4.74410129, 4.02684682, 3.45953962, 4.60563237],\n",
              "       [4.74410129, 4.02684682, 3.45953962, 4.60563237, 5.50698286],\n",
              "       [4.02684682, 3.45953962, 4.60563237, 5.50698286, 4.93937751],\n",
              "       [3.45953962, 4.60563237, 5.50698286, 4.93937751, 4.01989946]])"
            ]
          },
          "metadata": {
            "tags": []
          },
          "execution_count": 3
        }
      ]
    },
    {
      "cell_type": "code",
      "metadata": {
        "id": "2WyzYpCB2j4F",
        "colab_type": "code",
        "colab": {
          "base_uri": "https://localhost:8080/",
          "height": 34
        },
        "outputId": "e997dc08-a1f5-440f-b4ab-e3baee5b2f99"
      },
      "source": [
        "len(p_serise)"
      ],
      "execution_count": null,
      "outputs": [
        {
          "output_type": "execute_result",
          "data": {
            "text/plain": [
              "46"
            ]
          },
          "metadata": {
            "tags": []
          },
          "execution_count": 5
        }
      ]
    },
    {
      "cell_type": "markdown",
      "metadata": {
        "id": "OF674qQ2GKZa",
        "colab_type": "text"
      },
      "source": [
        "여기서부터 정책경사"
      ]
    },
    {
      "cell_type": "markdown",
      "metadata": {
        "id": "87QBKemz9z2Q",
        "colab_type": "text"
      },
      "source": [
        "여기부터가 에이전트에 해당하는 부분이다."
      ]
    },
    {
      "cell_type": "code",
      "metadata": {
        "id": "4Dg0NdtSsQhu",
        "colab_type": "code",
        "colab": {}
      },
      "source": [
        "#정책망이 예측한 대로 action을 선택한다.\n",
        "\n",
        "def action_choice(p_serise):\n",
        "  act = model_train.predict(p_serise)\n",
        "  #act = np.argmax(act)\n",
        "  return act"
      ],
      "execution_count": 4,
      "outputs": []
    },
    {
      "cell_type": "code",
      "metadata": {
        "id": "bnKwo9vgVKMI",
        "colab_type": "code",
        "colab": {}
      },
      "source": [
        "# action_choice가 선택한 행동을 balance에 대비해서 가능한 행동인지 점검하고 틀린 경우 가능한 액션을 제시한다.\n",
        "# 당초 0 매수, 1 매도를 --> 0 매수, 1 hold, 2 매도로 전환 \n",
        "# 그리고 현재의 밸러스는 before 밸런스로 기록을 남긴다.\n",
        "\n",
        "def action_validate(act, price, balance):\n",
        "  if act == 0:\n",
        "    if balance[0] - price < 0:\n",
        "      act_v = 1\n",
        "    else:\n",
        "      act_v = 0\n",
        "        \n",
        "  if act == 1:\n",
        "    if balance[2] > 0 :\n",
        "      act_v = 2\n",
        "    else:\n",
        "      act_v = 1\n",
        "\n",
        "  before_act_balance = [balance[0], balance[1], balance[2]] \n",
        "\n",
        "  return act_v, before_act_balance"
      ],
      "execution_count": 5,
      "outputs": []
    },
    {
      "cell_type": "code",
      "metadata": {
        "id": "Tk6ddnSXxN2r",
        "colab_type": "code",
        "colab": {}
      },
      "source": [
        "# 검증이 완료된 행동으로 현재 밸런스를 갱신하고, 현재 가치를 구한다.\n",
        "\n",
        "def balance_update(balance, price, act_v):\n",
        "  if act_v == 0:\n",
        "    balance[0] = balance[0] - price\n",
        "    balance[1] = price\n",
        "    balance[2] = balance[2] + 1\n",
        "  if act_v == 1:\n",
        "    balance[1] = price\n",
        "  if act_v == 2:\n",
        "    balance[0] = balance[0] + price\n",
        "    balance[1] = price\n",
        "    balance[2] = balance[2] -1\n",
        "  balance_updated = [balance[0], balance[1], balance[2]] \n",
        "  present_value = balance[0] + balance[1] * balance[2]\n",
        "  return balance_updated, present_value"
      ],
      "execution_count": 6,
      "outputs": []
    },
    {
      "cell_type": "code",
      "metadata": {
        "id": "9BqjV5MRGBy0",
        "colab_type": "code",
        "colab": {}
      },
      "source": [
        "# 이전의 밸런스와 현재 밸런스와의 비율을 구한다.\n",
        "\n",
        "def pv_ratio_cal(before_act_balance, balance_updated):\n",
        "  pv_ratio = (balance_updated[0] + balance_updated[1] * balance_updated[2])/(before_act_balance[0] + before_act_balance[1] * before_act_balance[2])\n",
        "  return pv_ratio"
      ],
      "execution_count": 7,
      "outputs": []
    },
    {
      "cell_type": "code",
      "metadata": {
        "id": "ij5NYQ8QHfE7",
        "colab_type": "code",
        "colab": {}
      },
      "source": [
        "# delayed reward를 구하기 위해서 기준 포트폴리오와 현재 밸런스의 비율을 구하고, 타겟 비율을 넘는지 확인한다.\n",
        "# 만약 target을 넘으면 base_pv를 present_value를 변경한다.\n",
        "\n",
        "def base_to_cur (base_pv, present_value, target_ratio):\n",
        "  delay_ratio = (present_value - base_pv) / base_pv\n",
        "  if delay_ratio > target_ratio:\n",
        "    target = 1\n",
        "    base_pv = present_value\n",
        "  elif (-1 * delay_ratio) > target_ratio:\n",
        "    target = -1\n",
        "    base_pv = present_value\n",
        "  else:\n",
        "    target = 0\n",
        "    base_pv = base_pv\n",
        "  return delay_ratio, target, base_pv"
      ],
      "execution_count": 8,
      "outputs": []
    },
    {
      "cell_type": "markdown",
      "metadata": {
        "id": "1T8GyzQga6Dd",
        "colab_type": "text"
      },
      "source": [
        ""
      ]
    },
    {
      "cell_type": "code",
      "metadata": {
        "id": "ZG19QI3YAYcW",
        "colab_type": "code",
        "colab": {}
      },
      "source": [
        "# 거래와 관련된 모든 것을 기록한다.\n",
        "\n",
        "def record(i, price, act, act_v, balance_updated, present_value, pv_ratio, delay_ratio, target, base_pv):\n",
        "\n",
        "  transaction_history.append([i, price, act, act_v, balance_updated, present_value, pv_ratio, delay_ratio, target, base_pv])\n",
        "  return transaction_history"
      ],
      "execution_count": 9,
      "outputs": []
    },
    {
      "cell_type": "code",
      "metadata": {
        "id": "fSqTmJ2bGAL8",
        "colab_type": "code",
        "colab": {
          "base_uri": "https://localhost:8080/",
          "height": 125
        },
        "outputId": "012fbd79-21c9-4936-a968-c77ea91d9413"
      },
      "source": [
        "# 학습을 위한 배치 데이터를 만든다.\n",
        "\n",
        "def get_batch(transaction_history):\n",
        "\n",
        "  for i in range(len(transaction_history)):\n",
        "        \n",
        "    if transaction_history[i][8] == 1:\n",
        "      y = []\n",
        "      for j in range(i+1):\n",
        "        if transaction_history[j][3] == 0:\n",
        "          y.append([1.0, 0.0])\n",
        "        if transaction_history[j][3] == 2:\n",
        "          y.append([0.0, 1.0])\n",
        "        if transaction_history[j][3] == 1:   # 궁색하다.\n",
        "          y.append([1.0, 0.0])\n",
        "      price_data = [p_serise[j] for j in range(i+1)] \n",
        "\n",
        "    if transaction_history[i][8] == -1:\n",
        "      y = []\n",
        "      for j in range(i+1):\n",
        "        if transaction_history[j][3] == 0:\n",
        "          y.append([0.0, 1.0])\n",
        "        if transaction_history[j][3] == 2:\n",
        "          y.append([1.0, 0.0])\n",
        "        if transaction_history[j][3] == 1:   # 궁색하다.\n",
        "          y.append([0.5, 0.5])\n",
        "      price_data = [p_serise[j] for j in range(i+1)] \n",
        "  \n",
        "\n",
        "  return y, price_data\n",
        "\n",
        "\"\"\"\n",
        "    elif transaction_history[i][8] == -1:\n",
        "      y = np.full((len(transaction_history), 2), 0.5) \n",
        "      for j in range(i+1):\n",
        "        k = transaction_history[j][2] # k는 당초 신경망이 추천한 값으로 0구매, 1는 매도 이다. \n",
        "        y[j,k] = 0.0 # 신경망이 추천해 준 값을 0로 놓아, 0.5보다 낮게 만든다. \n",
        "      price_data = [p_serise[j] for j in range(i+1)] \n",
        "\n",
        "    else: # 이경우 delay_ratio가 아니라, pv_ratio가 1보다 크면 신경망이 추천한 대로, 1보다 작으면 반대로 y값을 갱신하다.\n",
        "     \n",
        "      if transaction_history[i][6] >= 1.0 :\n",
        "         y = np.full((len(transaction_history), 2), 0.5) \n",
        "         for j in range(i+1):\n",
        "           k = transaction_history[j][2] # k는 당초 신경망이 추천한 값으로 0구매, 1는 매도 이다. \n",
        "           y[j,k] = 1.0  # 신경망이 추천해 준 값으로 y을 갱신한다. \n",
        "         price_data = [p_serise[j] for j in range(i+1)] \n",
        "      elif transaction_history[i][6] < 1.0 :\n",
        "        y = np.full((len(transaction_history), 2), 0.5) \n",
        "        for j in range(i+1):\n",
        "          k = transaction_history[j][2] # k는 당초 신경망이 추천한 값으로 0구매, 1는 매도 이다. \n",
        "          y[j,k] = 0.0 # 신경망이 추천해 준 값을 0로 놓아, 0.5보다 낮게 만든다. \n",
        "        price_data = [p_serise[j] for j in range(i+1)] \n",
        "\"\"\"\n"
      ],
      "execution_count": 10,
      "outputs": [
        {
          "output_type": "execute_result",
          "data": {
            "application/vnd.google.colaboratory.intrinsic+json": {
              "type": "string"
            },
            "text/plain": [
              "'\\n    elif transaction_history[i][8] == -1:\\n      y = np.full((len(transaction_history), 2), 0.5) \\n      for j in range(i+1):\\n        k = transaction_history[j][2] # k는 당초 신경망이 추천한 값으로 0구매, 1는 매도 이다. \\n        y[j,k] = 0.0 # 신경망이 추천해 준 값을 0로 놓아, 0.5보다 낮게 만든다. \\n      price_data = [p_serise[j] for j in range(i+1)] \\n\\n    else: # 이경우 delay_ratio가 아니라, pv_ratio가 1보다 크면 신경망이 추천한 대로, 1보다 작으면 반대로 y값을 갱신하다.\\n     \\n      if transaction_history[i][6] >= 1.0 :\\n         y = np.full((len(transaction_history), 2), 0.5) \\n         for j in range(i+1):\\n           k = transaction_history[j][2] # k는 당초 신경망이 추천한 값으로 0구매, 1는 매도 이다. \\n           y[j,k] = 1.0  # 신경망이 추천해 준 값으로 y을 갱신한다. \\n         price_data = [p_serise[j] for j in range(i+1)] \\n      elif transaction_history[i][6] < 1.0 :\\n        y = np.full((len(transaction_history), 2), 0.5) \\n        for j in range(i+1):\\n          k = transaction_history[j][2] # k는 당초 신경망이 추천한 값으로 0구매, 1는 매도 이다. \\n          y[j,k] = 0.0 # 신경망이 추천해 준 값을 0로 놓아, 0.5보다 낮게 만든다. \\n        price_data = [p_serise[j] for j in range(i+1)] \\n'"
            ]
          },
          "metadata": {
            "tags": []
          },
          "execution_count": 10
        }
      ]
    },
    {
      "cell_type": "code",
      "metadata": {
        "id": "8H2uo6DtiBFK",
        "colab_type": "code",
        "colab": {}
      },
      "source": [
        ""
      ],
      "execution_count": null,
      "outputs": []
    },
    {
      "cell_type": "markdown",
      "metadata": {
        "id": "FOo8LTuXyI5E",
        "colab_type": "text"
      },
      "source": [
        "여기부터는 정책신경망 이다."
      ]
    },
    {
      "cell_type": "code",
      "metadata": {
        "id": "BD4QALBQyNEe",
        "colab_type": "code",
        "colab": {}
      },
      "source": [
        "from tensorflow.keras.utils import to_categorical\n",
        "from tensorflow import keras\n",
        "import keras.layers as layers\n",
        "from keras.layers import LSTM, Dense\n",
        "from keras.models import Model, Sequential\n",
        "from keras.optimizers import Adam, RMSprop\n",
        "from keras.initializers import glorot_uniform\n",
        "from keras.callbacks import ModelCheckpoint, EarlyStopping\n",
        "import keras.backend as K  # 케라스의 backend를 K. 형식으로 호출하는 것이고 여기서는 tensorflow이다."
      ],
      "execution_count": 11,
      "outputs": []
    },
    {
      "cell_type": "code",
      "metadata": {
        "id": "sqfrHL4syNWQ",
        "colab_type": "code",
        "colab": {}
      },
      "source": [
        "def get_policy_model(lr):\n",
        "  inp_L = layers.Input(shape=(5,),name=\"input_L\")\n",
        "  dense_L = Dense(64)(inp_L)\n",
        "  output_s = layers.Dense(2, activation=\"sigmoid\",kernel_initializer=glorot_uniform(seed=42), use_bias=False, kernel_regularizer=keras.regularizers.l2(0.001), name=\"out\")(dense_L)\n",
        "\n",
        "  model_train = Model(inputs=inp_L, outputs = output_s)\n",
        "\n",
        "  model_train.compile(loss='mse', optimizer=Adam(lr), metrics = ['mae'])\n",
        "  model_predict = Model(inputs=inp_L, outputs = output_s)\n",
        "  return model_train, model_predict"
      ],
      "execution_count": 12,
      "outputs": []
    },
    {
      "cell_type": "code",
      "metadata": {
        "id": "sdiXiLhjyTSI",
        "colab_type": "code",
        "colab": {}
      },
      "source": [
        "model_train, model_predict = get_policy_model(0.001)"
      ],
      "execution_count": 13,
      "outputs": []
    },
    {
      "cell_type": "code",
      "metadata": {
        "id": "D_441GjMyNl1",
        "colab_type": "code",
        "colab": {
          "base_uri": "https://localhost:8080/",
          "height": 263
        },
        "outputId": "21deaa14-5d94-4b0c-a467-3b7c8ddd8542"
      },
      "source": [
        "model_train.summary()"
      ],
      "execution_count": 14,
      "outputs": [
        {
          "output_type": "stream",
          "text": [
            "Model: \"functional_1\"\n",
            "_________________________________________________________________\n",
            "Layer (type)                 Output Shape              Param #   \n",
            "=================================================================\n",
            "input_L (InputLayer)         [(None, 5)]               0         \n",
            "_________________________________________________________________\n",
            "dense (Dense)                (None, 64)                384       \n",
            "_________________________________________________________________\n",
            "out (Dense)                  (None, 2)                 128       \n",
            "=================================================================\n",
            "Total params: 512\n",
            "Trainable params: 512\n",
            "Non-trainable params: 0\n",
            "_________________________________________________________________\n"
          ],
          "name": "stdout"
        }
      ]
    },
    {
      "cell_type": "code",
      "metadata": {
        "id": "NUIxfHNQ6Z5v",
        "colab_type": "code",
        "colab": {}
      },
      "source": [
        ""
      ],
      "execution_count": null,
      "outputs": []
    },
    {
      "cell_type": "code",
      "metadata": {
        "id": "iPLlpOH56Zz4",
        "colab_type": "code",
        "colab": {}
      },
      "source": [
        ""
      ],
      "execution_count": null,
      "outputs": []
    },
    {
      "cell_type": "markdown",
      "metadata": {
        "id": "IZHalhPGCE4J",
        "colab_type": "text"
      },
      "source": [
        "여기부터는 학습의 영역이다."
      ]
    },
    {
      "cell_type": "code",
      "metadata": {
        "id": "8m2KF-e-wFu1",
        "colab_type": "code",
        "colab": {
          "base_uri": "https://localhost:8080/",
          "height": 193
        },
        "outputId": "0a63d866-7a02-41f4-9b0a-fe75d086461c"
      },
      "source": [
        "# random action과 신경망의 선택 action을 조정해야 한다.\n",
        "\n",
        "\n",
        "num_episode = 0.0\n",
        "num_episodes = 100.0\n",
        "\n",
        "target_ratio = 0.03\n",
        "max_batch_size = 46\n",
        "epsilon = 0.8\n",
        "\n",
        "\n",
        "while num_episode < num_episodes:\n",
        "\n",
        "  balance = [20, 0, 0]\n",
        "  base_pv = 20\n",
        "  \n",
        "  history_record = []\n",
        "  transaction_history=[]\n",
        "\n",
        "  for i in range(len(p_serise)):\n",
        "   \n",
        "    price = p_serise[i][4]\n",
        "\n",
        "    if np.random.rand() < epsilon :\n",
        "      act = np.random.choice(2, p=[0.9, 0.1])\n",
        "    else:\n",
        "      act =  np.argmax(action_choice(p_serise)[i])\n",
        "   \n",
        "    act_v, before_act_balance = action_validate(act, price, balance)\n",
        "    \n",
        "    balance_updated, present_value = balance_update(balance, price, act_v)\n",
        "    pv_ratio = pv_ratio_cal(before_act_balance, balance_updated)\n",
        "   \n",
        "    delay_ratio, target, base_pv = base_to_cur(base_pv, present_value, target_ratio)\n",
        "  \n",
        "    transaction_history = record(i, price, act, act_v, balance_updated, present_value, pv_ratio, delay_ratio, target, base_pv)\n",
        "\n",
        "#    if (target == 0 and len(transaction_history) == max_batch_size):\n",
        "#      y, price_data = get_batch(transaction_history)\n",
        "#      print(y)\n",
        "#      print(input(\"check?\"))\n",
        "#      price_data = np.array(price_data)\n",
        "#      y = np.array(y)\n",
        "#      loss = model_train.train_on_batch(price_data, y)\n",
        "\n",
        "#      history_record.append(transaction_history)\n",
        "#      transaction_history=[]\n",
        "#      continue\n",
        "\n",
        "#    if (target == 1 or target == -1):\n",
        "    if target == 1: \n",
        "      y, price_data = get_batch(transaction_history)\n",
        "#      print(y)\n",
        "#      print(input(\"check?\"))\n",
        "      price_data = np.array(price_data)\n",
        "      y = np.array(y)\n",
        "      loss = model_train.train_on_batch(price_data, y)\n",
        "\n",
        "      history_record.append(transaction_history)\n",
        "      transaction_history=[]\n",
        "      continue\n",
        "\n",
        "    if i == (len(p_serise)-1):\n",
        "#      y, price_data = get_batch(transaction_history)\n",
        "#      print(y)\n",
        "#      print(input(\"check?\"))\n",
        "#      price_data = np.array(price_data)\n",
        "#      y = np.array(y)\n",
        "#      loss = model_train.train_on_batch(price_data, y)\n",
        "      history_record.append(transaction_history)\n",
        "      transaction_history=[]      \n",
        "\n",
        "    \n",
        "  \n",
        "  if (num_episode+1) % 10 == 0:\n",
        "    print(\"num_episode: \",num_episode+1, \"loss: \", loss[0], \"mse :\", loss[1], \"wealth:\", present_value)\n",
        "\n",
        "  num_episode += 1.0\n",
        "  epsilon = epsilon / num_episode\n",
        "\n",
        "\n",
        "\n",
        "\n",
        "\n",
        "\n",
        "\n",
        "\n",
        "    "
      ],
      "execution_count": 15,
      "outputs": [
        {
          "output_type": "stream",
          "text": [
            "num_episode:  10.0 loss:  0.004107386339455843 mse : 0.01662890613079071 wealth: 40.491898086489186\n",
            "num_episode:  20.0 loss:  0.003472629701718688 mse : 0.00960986316204071 wealth: 40.491898086489186\n",
            "num_episode:  30.0 loss:  0.0029162548016756773 mse : 0.007852479815483093 wealth: 40.491898086489186\n",
            "num_episode:  40.0 loss:  0.0024217532481998205 mse : 0.007227092981338501 wealth: 40.491898086489186\n",
            "num_episode:  50.0 loss:  0.0020070665050297976 mse : 0.006932273507118225 wealth: 40.491898086489186\n",
            "num_episode:  60.0 loss:  0.0016686094459146261 mse : 0.0067097097635269165 wealth: 40.491898086489186\n",
            "num_episode:  70.0 loss:  0.0013941400684416294 mse : 0.006479173898696899 wealth: 40.491898086489186\n",
            "num_episode:  80.0 loss:  0.0011707036755979061 mse : 0.006226584315299988 wealth: 40.491898086489186\n",
            "num_episode:  90.0 loss:  0.0009875629330053926 mse : 0.005957156419754028 wealth: 40.491898086489186\n",
            "num_episode:  100.0 loss:  0.0008365522371605039 mse : 0.005678534507751465 wealth: 40.491898086489186\n"
          ],
          "name": "stdout"
        }
      ]
    },
    {
      "cell_type": "code",
      "metadata": {
        "id": "hY8tGzcHXU3-",
        "colab_type": "code",
        "colab": {
          "base_uri": "https://localhost:8080/",
          "height": 34
        },
        "outputId": "d94084ff-3ffd-4785-e1cc-c6df34378bd8"
      },
      "source": [
        "transaction_history"
      ],
      "execution_count": 16,
      "outputs": [
        {
          "output_type": "execute_result",
          "data": {
            "text/plain": [
              "[]"
            ]
          },
          "metadata": {
            "tags": []
          },
          "execution_count": 16
        }
      ]
    },
    {
      "cell_type": "code",
      "metadata": {
        "id": "5J-rx_enEPrI",
        "colab_type": "code",
        "colab": {
          "base_uri": "https://localhost:8080/",
          "height": 1000
        },
        "outputId": "6a5c3fbd-1e58-4693-e348-4523c383a4b3"
      },
      "source": [
        "history_record"
      ],
      "execution_count": 17,
      "outputs": [
        {
          "output_type": "execute_result",
          "data": {
            "text/plain": [
              "[[[0,\n",
              "   2.00607607256349,\n",
              "   0,\n",
              "   0,\n",
              "   [17.99392392743651, 2.00607607256349, 1],\n",
              "   20.0,\n",
              "   1.0,\n",
              "   0.0,\n",
              "   0,\n",
              "   20],\n",
              "  [1,\n",
              "   1.1114328580397823,\n",
              "   0,\n",
              "   0,\n",
              "   [16.882491069396725, 1.1114328580397823, 2],\n",
              "   19.10535678547629,\n",
              "   0.9552678392738144,\n",
              "   -0.044732160726185556,\n",
              "   -1,\n",
              "   19.10535678547629],\n",
              "  [2,\n",
              "   0.6779348293723106,\n",
              "   0,\n",
              "   0,\n",
              "   [16.204556240024413, 0.6779348293723106, 3],\n",
              "   18.238360728141345,\n",
              "   0.9546202634648505,\n",
              "   -0.04537973653514947,\n",
              "   -1,\n",
              "   18.238360728141345],\n",
              "  [3,\n",
              "   1.0,\n",
              "   0,\n",
              "   0,\n",
              "   [15.204556240024413, 1.0, 4],\n",
              "   19.204556240024413,\n",
              "   1.0529760062477682,\n",
              "   0.052976006247768326,\n",
              "   1,\n",
              "   19.204556240024413]],\n",
              " [[4,\n",
              "   1.0287490304831388,\n",
              "   0,\n",
              "   0,\n",
              "   [14.175807209541274, 1.0287490304831388, 5],\n",
              "   19.31955236195697,\n",
              "   1.0059879603826978,\n",
              "   0.005987960382697703,\n",
              "   0,\n",
              "   19.204556240024413],\n",
              "  [5,\n",
              "   2.201158258322618,\n",
              "   0,\n",
              "   0,\n",
              "   [11.974648951218656, 2.201158258322618, 6],\n",
              "   25.18159850115436,\n",
              "   1.303425567496099,\n",
              "   0.3112304281560609,\n",
              "   1,\n",
              "   25.18159850115436]],\n",
              " [[6,\n",
              "   2.8488469413506436,\n",
              "   0,\n",
              "   0,\n",
              "   [9.125802009868012, 2.8488469413506436, 7],\n",
              "   29.067730599322516,\n",
              "   1.1543242815975328,\n",
              "   0.15432428159753275,\n",
              "   1,\n",
              "   29.067730599322516]],\n",
              " [[7,\n",
              "   3.235824945274675,\n",
              "   0,\n",
              "   0,\n",
              "   [5.889977064593337, 3.235824945274675, 8],\n",
              "   31.776576626790735,\n",
              "   1.0931908329827218,\n",
              "   0.09319083298272189,\n",
              "   1,\n",
              "   31.776576626790735]],\n",
              " [[8,\n",
              "   2.6808904029247316,\n",
              "   0,\n",
              "   0,\n",
              "   [3.2090866616686053, 2.6808904029247316, 9],\n",
              "   27.33710028799119,\n",
              "   0.8602909183408814,\n",
              "   -0.13970908165911852,\n",
              "   -1,\n",
              "   27.33710028799119],\n",
              "  [9,\n",
              "   2.916183205603454,\n",
              "   0,\n",
              "   0,\n",
              "   [0.29290345606515134, 2.916183205603454, 10],\n",
              "   29.454735512099692,\n",
              "   1.0774637837151568,\n",
              "   0.0774637837151568,\n",
              "   1,\n",
              "   29.454735512099692]],\n",
              " [[10,\n",
              "   3.980069384450294,\n",
              "   0,\n",
              "   1,\n",
              "   [0.29290345606515134, 3.980069384450294, 10],\n",
              "   40.0935973005681,\n",
              "   1.3611935942897222,\n",
              "   0.36119359428972214,\n",
              "   1,\n",
              "   40.0935973005681]],\n",
              " [[11,\n",
              "   2.9225239320855083,\n",
              "   0,\n",
              "   1,\n",
              "   [0.29290345606515134, 2.9225239320855083, 10],\n",
              "   29.518142776920232,\n",
              "   0.7362308389449999,\n",
              "   -0.26376916105500015,\n",
              "   -1,\n",
              "   29.518142776920232],\n",
              "  [12,\n",
              "   2.6938511061328683,\n",
              "   0,\n",
              "   1,\n",
              "   [0.29290345606515134, 2.6938511061328683, 10],\n",
              "   27.231414517393834,\n",
              "   0.9225314317093705,\n",
              "   -0.07746856829062956,\n",
              "   -1,\n",
              "   27.231414517393834],\n",
              "  [13,\n",
              "   2.5919859995212047,\n",
              "   0,\n",
              "   1,\n",
              "   [0.29290345606515134, 2.5919859995212047, 10],\n",
              "   26.212763451277198,\n",
              "   0.9625927964386138,\n",
              "   -0.037407203561386104,\n",
              "   -1,\n",
              "   26.212763451277198],\n",
              "  [14,\n",
              "   3.7338509288425854,\n",
              "   0,\n",
              "   1,\n",
              "   [0.29290345606515134, 3.7338509288425854, 10],\n",
              "   37.63141274449101,\n",
              "   1.43561409747729,\n",
              "   0.43561409747729,\n",
              "   1,\n",
              "   37.63141274449101]],\n",
              " [[15,\n",
              "   3.1428230921341838,\n",
              "   0,\n",
              "   1,\n",
              "   [0.29290345606515134, 3.1428230921341838, 10],\n",
              "   31.721134377406987,\n",
              "   0.8429429581287976,\n",
              "   -0.15705704187120234,\n",
              "   -1,\n",
              "   31.721134377406987],\n",
              "  [16,\n",
              "   2.619077370859851,\n",
              "   0,\n",
              "   1,\n",
              "   [0.29290345606515134, 2.619077370859851, 10],\n",
              "   26.483677164663664,\n",
              "   0.8348906079325574,\n",
              "   -0.16510939206744263,\n",
              "   -1,\n",
              "   26.483677164663664],\n",
              "  [17,\n",
              "   3.354428746355923,\n",
              "   0,\n",
              "   1,\n",
              "   [0.29290345606515134, 3.354428746355923, 10],\n",
              "   33.83719091962438,\n",
              "   1.277662112751181,\n",
              "   0.27766211275118097,\n",
              "   1,\n",
              "   33.83719091962438]],\n",
              " [[18,\n",
              "   4.036040601220973,\n",
              "   0,\n",
              "   1,\n",
              "   [0.29290345606515134, 4.036040601220973, 10],\n",
              "   40.65330946827489,\n",
              "   1.2014386644813768,\n",
              "   0.20143866448137684,\n",
              "   1,\n",
              "   40.65330946827489]],\n",
              " [[19,\n",
              "   5.227729397850974,\n",
              "   0,\n",
              "   1,\n",
              "   [0.29290345606515134, 5.227729397850974, 10],\n",
              "   52.57019743457489,\n",
              "   1.2931345103797691,\n",
              "   0.2931345103797692,\n",
              "   1,\n",
              "   52.57019743457489]],\n",
              " [[20,\n",
              "   5.06986331858627,\n",
              "   0,\n",
              "   1,\n",
              "   [0.29290345606515134, 5.06986331858627, 10],\n",
              "   50.99153664192786,\n",
              "   0.9699704229832555,\n",
              "   -0.03002957701674445,\n",
              "   -1,\n",
              "   50.99153664192786],\n",
              "  [21,\n",
              "   4.269955699787371,\n",
              "   0,\n",
              "   1,\n",
              "   [0.29290345606515134, 4.269955699787371, 10],\n",
              "   42.99246045393886,\n",
              "   0.8431293364591067,\n",
              "   -0.1568706635408933,\n",
              "   -1,\n",
              "   42.99246045393886],\n",
              "  [22,\n",
              "   4.659502777909699,\n",
              "   0,\n",
              "   1,\n",
              "   [0.29290345606515134, 4.659502777909699, 10],\n",
              "   46.88793123516215,\n",
              "   1.0906082308407727,\n",
              "   0.09060823084077281,\n",
              "   1,\n",
              "   46.88793123516215]],\n",
              " [[23,\n",
              "   3.686037279422416,\n",
              "   0,\n",
              "   1,\n",
              "   [0.29290345606515134, 3.686037279422416, 10],\n",
              "   37.153276250289316,\n",
              "   0.7923846344158466,\n",
              "   -0.20761536558415336,\n",
              "   -1,\n",
              "   37.153276250289316],\n",
              "  [24,\n",
              "   4.1328321175974905,\n",
              "   0,\n",
              "   1,\n",
              "   [0.29290345606515134, 4.1328321175974905, 10],\n",
              "   41.62122463204006,\n",
              "   1.1202571840946585,\n",
              "   0.12025718409465846,\n",
              "   1,\n",
              "   41.62122463204006]],\n",
              " [[25,\n",
              "   3.7046279318255446,\n",
              "   0,\n",
              "   1,\n",
              "   [0.29290345606515134, 3.7046279318255446, 10],\n",
              "   37.3391827743206,\n",
              "   0.8971187922610249,\n",
              "   -0.10288120773897515,\n",
              "   -1,\n",
              "   37.3391827743206],\n",
              "  [26,\n",
              "   4.800665104997029,\n",
              "   0,\n",
              "   1,\n",
              "   [0.29290345606515134, 4.800665104997029, 10],\n",
              "   48.29955450603545,\n",
              "   1.2935353941182843,\n",
              "   0.29353539411828433,\n",
              "   1,\n",
              "   48.29955450603545]],\n",
              " [[27,\n",
              "   4.222040935407745,\n",
              "   0,\n",
              "   1,\n",
              "   [0.29290345606515134, 4.222040935407745, 10],\n",
              "   42.5133128101426,\n",
              "   0.8802009303176946,\n",
              "   -0.11979906968230539,\n",
              "   -1,\n",
              "   42.5133128101426],\n",
              "  [28,\n",
              "   4.823412732116219,\n",
              "   0,\n",
              "   1,\n",
              "   [0.29290345606515134, 4.823412732116219, 10],\n",
              "   48.52703077722734,\n",
              "   1.1414549365734212,\n",
              "   0.14145493657342123,\n",
              "   1,\n",
              "   48.52703077722734]],\n",
              " [[29,\n",
              "   5.34136879506724,\n",
              "   0,\n",
              "   1,\n",
              "   [0.29290345606515134, 5.34136879506724, 10],\n",
              "   53.70659140673755,\n",
              "   1.1067355769877614,\n",
              "   0.10673557698776136,\n",
              "   1,\n",
              "   53.70659140673755]],\n",
              " [[30,\n",
              "   6.265394299713543,\n",
              "   0,\n",
              "   1,\n",
              "   [0.29290345606515134, 6.265394299713543, 10],\n",
              "   62.94684645320058,\n",
              "   1.172050670214454,\n",
              "   0.17205067021445392,\n",
              "   1,\n",
              "   62.94684645320058]],\n",
              " [[31,\n",
              "   6.8572953018556175,\n",
              "   0,\n",
              "   1,\n",
              "   [0.29290345606515134, 6.8572953018556175, 10],\n",
              "   68.86585647462132,\n",
              "   1.094031875382691,\n",
              "   0.09403187538269107,\n",
              "   1,\n",
              "   68.86585647462132]],\n",
              " [[32,\n",
              "   5.742380220401145,\n",
              "   0,\n",
              "   1,\n",
              "   [0.29290345606515134, 5.742380220401145, 10],\n",
              "   57.716705660076606,\n",
              "   0.8381033594107199,\n",
              "   -0.16189664058928013,\n",
              "   -1,\n",
              "   57.716705660076606],\n",
              "  [33,\n",
              "   6.330937329995845,\n",
              "   0,\n",
              "   1,\n",
              "   [0.29290345606515134, 6.330937329995845, 10],\n",
              "   63.602276756023606,\n",
              "   1.1019734412876951,\n",
              "   0.10197344128769509,\n",
              "   1,\n",
              "   63.602276756023606]],\n",
              " [[34,\n",
              "   5.398497325185903,\n",
              "   0,\n",
              "   1,\n",
              "   [0.29290345606515134, 5.398497325185903, 10],\n",
              "   54.277876707924186,\n",
              "   0.8533951845172535,\n",
              "   -0.14660481548274654,\n",
              "   -1,\n",
              "   54.277876707924186],\n",
              "  [35,\n",
              "   6.258539699234646,\n",
              "   0,\n",
              "   1,\n",
              "   [0.29290345606515134, 6.258539699234646, 10],\n",
              "   62.878300448411615,\n",
              "   1.1584517350737087,\n",
              "   0.15845173507370872,\n",
              "   1,\n",
              "   62.878300448411615]],\n",
              " [[36,\n",
              "   5.566742762334693,\n",
              "   0,\n",
              "   1,\n",
              "   [0.29290345606515134, 5.566742762334693, 10],\n",
              "   55.96033107941208,\n",
              "   0.8899784294476062,\n",
              "   -0.11002157055239385,\n",
              "   -1,\n",
              "   55.96033107941208],\n",
              "  [37,\n",
              "   4.4973376119286685,\n",
              "   0,\n",
              "   1,\n",
              "   [0.29290345606515134, 4.4973376119286685, 10],\n",
              "   45.26627957535184,\n",
              "   0.8088994239708027,\n",
              "   -0.1911005760291973,\n",
              "   -1,\n",
              "   45.26627957535184],\n",
              "  [38,\n",
              "   5.403604527586083,\n",
              "   0,\n",
              "   1,\n",
              "   [0.29290345606515134, 5.403604527586083, 10],\n",
              "   54.32894873192598,\n",
              "   1.2002079526215117,\n",
              "   0.20020795262151173,\n",
              "   1,\n",
              "   54.32894873192598]],\n",
              " [[39,\n",
              "   4.744101292862991,\n",
              "   0,\n",
              "   1,\n",
              "   [0.29290345606515134, 4.744101292862991, 10],\n",
              "   47.73391638469507,\n",
              "   0.8786092405400182,\n",
              "   -0.12139075945998183,\n",
              "   -1,\n",
              "   47.73391638469507],\n",
              "  [40,\n",
              "   4.026846822438713,\n",
              "   0,\n",
              "   1,\n",
              "   [0.29290345606515134, 4.026846822438713, 10],\n",
              "   40.56137168045228,\n",
              "   0.8497390273524147,\n",
              "   -0.15026097264758528,\n",
              "   -1,\n",
              "   40.56137168045228],\n",
              "  [41,\n",
              "   3.4595396231868576,\n",
              "   0,\n",
              "   1,\n",
              "   [0.29290345606515134, 3.4595396231868576, 10],\n",
              "   34.88829968793373,\n",
              "   0.8601360911260165,\n",
              "   -0.13986390887398345,\n",
              "   -1,\n",
              "   34.88829968793373],\n",
              "  [42,\n",
              "   4.605632369020757,\n",
              "   0,\n",
              "   1,\n",
              "   [0.29290345606515134, 4.605632369020757, 10],\n",
              "   46.349227146272725,\n",
              "   1.3285034685225088,\n",
              "   0.32850346852250883,\n",
              "   1,\n",
              "   46.349227146272725]],\n",
              " [[43,\n",
              "   5.506982856766125,\n",
              "   0,\n",
              "   1,\n",
              "   [0.29290345606515134, 5.506982856766125, 10],\n",
              "   55.36273202372641,\n",
              "   1.1944693672886524,\n",
              "   0.1944693672886523,\n",
              "   1,\n",
              "   55.36273202372641]],\n",
              " [[44,\n",
              "   4.939377508517074,\n",
              "   0,\n",
              "   1,\n",
              "   [0.29290345606515134, 4.939377508517074, 10],\n",
              "   49.6866785412359,\n",
              "   0.89747519179404,\n",
              "   -0.10252480820596,\n",
              "   -1,\n",
              "   49.6866785412359],\n",
              "  [45,\n",
              "   4.019899463042403,\n",
              "   0,\n",
              "   1,\n",
              "   [0.29290345606515134, 4.019899463042403, 10],\n",
              "   40.491898086489186,\n",
              "   0.8149447553207688,\n",
              "   -0.18505524467923115,\n",
              "   -1,\n",
              "   40.491898086489186]]]"
            ]
          },
          "metadata": {
            "tags": []
          },
          "execution_count": 17
        }
      ]
    },
    {
      "cell_type": "code",
      "metadata": {
        "id": "Tiw8inRifyZK",
        "colab_type": "code",
        "colab": {}
      },
      "source": [
        "fk = np.array(history_record)"
      ],
      "execution_count": 18,
      "outputs": []
    },
    {
      "cell_type": "code",
      "metadata": {
        "id": "I9xyQaVFvOHH",
        "colab_type": "code",
        "colab": {}
      },
      "source": [
        "fkn = []\n",
        "for i in range(len(fk)):\n",
        "  for j in range(len(fk[i])):\n",
        "    fkn.append(fk[i][j]) "
      ],
      "execution_count": 19,
      "outputs": []
    },
    {
      "cell_type": "code",
      "metadata": {
        "id": "UCatOY3AuvmT",
        "colab_type": "code",
        "colab": {}
      },
      "source": [
        "wealth = []\n",
        "for i in range(len(fkn)):\n",
        "  wealth.append(fkn[i][5])\n"
      ],
      "execution_count": 24,
      "outputs": []
    },
    {
      "cell_type": "code",
      "metadata": {
        "id": "PUIn7JR9vMo6",
        "colab_type": "code",
        "colab": {
          "base_uri": "https://localhost:8080/",
          "height": 265
        },
        "outputId": "ef3bba7d-33c8-42ad-ad86-33706488884c"
      },
      "source": [
        "plt.plot(wealth)\n",
        "plt.show()"
      ],
      "execution_count": 25,
      "outputs": [
        {
          "output_type": "display_data",
          "data": {
            "image/png": "[encoded data removed]",
            "text/plain": [
              "<Figure size 432x288 with 1 Axes>"
            ]
          },
          "metadata": {
            "tags": [],
            "needs_background": "light"
          }
        }
      ]
    },
    {
      "cell_type": "code",
      "metadata": {
        "id": "CNZKkOLcvtRP",
        "colab_type": "code",
        "colab": {}
      },
      "source": [
        "actions = []\n",
        "for i in range(len(fkn)):\n",
        "  actions.append(fkn[i][2])"
      ],
      "execution_count": 26,
      "outputs": []
    },
    {
      "cell_type": "code",
      "metadata": {
        "id": "R3iWk4Y2v5VB",
        "colab_type": "code",
        "colab": {
          "base_uri": "https://localhost:8080/",
          "height": 265
        },
        "outputId": "f0570eab-c704-4378-f6fd-f8271f6f104c"
      },
      "source": [
        "plt.plot(actions)\n",
        "plt.show()"
      ],
      "execution_count": 27,
      "outputs": [
        {
          "output_type": "display_data",
          "data": {
            "image/png": "[encoded data removed]",
            "text/plain": [
              "<Figure size 432x288 with 1 Axes>"
            ]
          },
          "metadata": {
            "tags": [],
            "needs_background": "light"
          }
        }
      ]
    },
    {
      "cell_type": "markdown",
      "metadata": {
        "id": "ge_mWVAy229o",
        "colab_type": "text"
      },
      "source": [
        "결전 테스트 테스트 테스트"
      ]
    },
    {
      "cell_type": "code",
      "metadata": {
        "id": "L8GCRL3_F4F5",
        "colab_type": "code",
        "colab": {
          "base_uri": "https://localhost:8080/",
          "height": 105
        },
        "outputId": "1373db65-a2ae-4f36-f127-404a9ca83e7e"
      },
      "source": [
        "y = np.full((5, 2), 0.5)\n",
        "y"
      ],
      "execution_count": null,
      "outputs": [
        {
          "output_type": "execute_result",
          "data": {
            "text/plain": [
              "array([[0.5, 0.5],\n",
              "       [0.5, 0.5],\n",
              "       [0.5, 0.5],\n",
              "       [0.5, 0.5],\n",
              "       [0.5, 0.5]])"
            ]
          },
          "metadata": {
            "tags": []
          },
          "execution_count": 46
        }
      ]
    },
    {
      "cell_type": "code",
      "metadata": {
        "id": "GKGMXsYQV2x1",
        "colab_type": "code",
        "colab": {
          "base_uri": "https://localhost:8080/",
          "height": 105
        },
        "outputId": "f4a0eb78-e01e-4c31-ff36-4638be5d83e1"
      },
      "source": [
        "kk = [1,0,1,0,1]\n",
        "for i, k in enumerate(kk):\n",
        "  y[i,k] = 1.0\n",
        "\n",
        "y"
      ],
      "execution_count": null,
      "outputs": [
        {
          "output_type": "execute_result",
          "data": {
            "text/plain": [
              "array([[0.5, 1. ],\n",
              "       [1. , 0.5],\n",
              "       [0.5, 1. ],\n",
              "       [1. , 0.5],\n",
              "       [0.5, 1. ]])"
            ]
          },
          "metadata": {
            "tags": []
          },
          "execution_count": 48
        }
      ]
    },
    {
      "cell_type": "code",
      "metadata": {
        "id": "DFjvfVDfXxfo",
        "colab_type": "code",
        "colab": {
          "base_uri": "https://localhost:8080/",
          "height": 105
        },
        "outputId": "935866a1-d925-488c-d73e-ec095613baac"
      },
      "source": [
        "x = [np.array([5.0, 7.0]), np.array([6.0, 3.0]), np.array([2.0, 9.0]), np.array([5.0, 2.0]), np.array([3.0, 5.0])]\n",
        "x = np.array(x)\n",
        "x"
      ],
      "execution_count": null,
      "outputs": [
        {
          "output_type": "execute_result",
          "data": {
            "text/plain": [
              "array([[5., 7.],\n",
              "       [6., 3.],\n",
              "       [2., 9.],\n",
              "       [5., 2.],\n",
              "       [3., 5.]])"
            ]
          },
          "metadata": {
            "tags": []
          },
          "execution_count": 71
        }
      ]
    },
    {
      "cell_type": "code",
      "metadata": {
        "id": "k7dmfp4JZPwe",
        "colab_type": "code",
        "colab": {}
      },
      "source": [
        ""
      ],
      "execution_count": null,
      "outputs": []
    },
    {
      "cell_type": "code",
      "metadata": {
        "id": "iBDkiEfdWly6",
        "colab_type": "code",
        "colab": {}
      },
      "source": [
        "from tensorflow import keras\n",
        "import keras.layers as layers\n",
        "from keras.layers import LSTM, Dense\n",
        "from keras.models import Model, Sequential\n",
        "from keras.optimizers import Adam, RMSprop"
      ],
      "execution_count": null,
      "outputs": []
    },
    {
      "cell_type": "code",
      "metadata": {
        "id": "IFpQnb7rWmGg",
        "colab_type": "code",
        "colab": {
          "base_uri": "https://localhost:8080/",
          "height": 263
        },
        "outputId": "8a46e0b1-0f16-4cc3-c391-a322a79a8bfe"
      },
      "source": [
        "inp = layers.Input(shape=(2,))\n",
        "dense = Dense(3)(inp)\n",
        "outs = layers.Dense(2, activation=\"sigmoid\")(dense)\n",
        "\n",
        "model_x = Model(inputs=inp, outputs = outs)\n",
        "model_x.compile(loss='mse', optimizer=Adam(0.01), metrics = ['mae'])\n",
        "model_x.summary()"
      ],
      "execution_count": null,
      "outputs": [
        {
          "output_type": "stream",
          "text": [
            "Model: \"functional_3\"\n",
            "_________________________________________________________________\n",
            "Layer (type)                 Output Shape              Param #   \n",
            "=================================================================\n",
            "input_2 (InputLayer)         [(None, 2)]               0         \n",
            "_________________________________________________________________\n",
            "dense_2 (Dense)              (None, 3)                 9         \n",
            "_________________________________________________________________\n",
            "dense_3 (Dense)              (None, 2)                 8         \n",
            "=================================================================\n",
            "Total params: 17\n",
            "Trainable params: 17\n",
            "Non-trainable params: 0\n",
            "_________________________________________________________________\n"
          ],
          "name": "stdout"
        }
      ]
    },
    {
      "cell_type": "code",
      "metadata": {
        "id": "YO3z5VbSn4Rs",
        "colab_type": "code",
        "colab": {}
      },
      "source": [
        "model_x.fit(x, y, epochs=30)"
      ],
      "execution_count": null,
      "outputs": []
    },
    {
      "cell_type": "code",
      "metadata": {
        "id": "nDPgJZbPn4iH",
        "colab_type": "code",
        "colab": {
          "base_uri": "https://localhost:8080/",
          "height": 105
        },
        "outputId": "d0860177-4b59-4abc-f5bc-d51284d6e015"
      },
      "source": [
        "model_x.predict(x)"
      ],
      "execution_count": null,
      "outputs": [
        {
          "output_type": "execute_result",
          "data": {
            "text/plain": [
              "array([[0.78012174, 0.9855293 ],\n",
              "       [0.79271334, 0.25399655],\n",
              "       [0.6218713 , 0.9998754 ],\n",
              "       [0.7299584 , 0.2071917 ],\n",
              "       [0.6393355 , 0.9756839 ]], dtype=float32)"
            ]
          },
          "metadata": {
            "tags": []
          },
          "execution_count": 73
        }
      ]
    },
    {
      "cell_type": "code",
      "metadata": {
        "id": "tPRQGQwzn4cJ",
        "colab_type": "code",
        "colab": {}
      },
      "source": [
        ""
      ],
      "execution_count": null,
      "outputs": []
    },
    {
      "cell_type": "markdown",
      "metadata": {
        "id": "kxMksbeaKDJM",
        "colab_type": "text"
      },
      "source": [
        "여기가 끝이다."
      ]
    },
    {
      "cell_type": "code",
      "metadata": {
        "id": "SI8QKecFCOu1",
        "colab_type": "code",
        "colab": {}
      },
      "source": [
        ""
      ],
      "execution_count": null,
      "outputs": []
    },
    {
      "cell_type": "code",
      "metadata": {
        "id": "SBRPDtROrMhB",
        "colab_type": "code",
        "colab": {
          "base_uri": "https://localhost:8080/",
          "height": 52
        },
        "outputId": "02f2b544-480b-4a58-fb18-311c9f932f14"
      },
      "source": [
        "aj = np.array([[0.5, 0.5], [0.5,0.7]])\n",
        "\n",
        "aj[0,0] = 1.0\n",
        "\n",
        "aj"
      ],
      "execution_count": null,
      "outputs": [
        {
          "output_type": "execute_result",
          "data": {
            "text/plain": [
              "array([[1. , 0.5],\n",
              "       [0.5, 0.7]])"
            ]
          },
          "metadata": {
            "tags": []
          },
          "execution_count": 49
        }
      ]
    },
    {
      "cell_type": "code",
      "metadata": {
        "id": "BuAebEm_COof",
        "colab_type": "code",
        "colab": {}
      },
      "source": [
        "from tensorflow import keras\n",
        "from tensorflow.keras.utils import to_categorical\n",
        "y_encoded = keras.utils.to_categorical(action, 2) # 분류 갯수를 정하기 위한 인수(2)가 필요하다."
      ],
      "execution_count": null,
      "outputs": []
    },
    {
      "cell_type": "code",
      "metadata": {
        "id": "Ul2K9MCnCOlJ",
        "colab_type": "code",
        "colab": {}
      },
      "source": [
        "def balance_update(predict, p_serise):\n",
        "\n",
        "  acts = []\n",
        "  balance = [100, 0, 0]  #[자본금, 종가, 보유주식수] 이다.\n",
        "  blist = [[100.0, 0.0, 0.0]]\n",
        "  for i in range(len(predict)):\n",
        "    action = np.random.choice(3,p=predict[i]) # 대안 중에서 하나를 선택한다. \n",
        "    \n",
        "    if action == 0 and (balance[0] - p_serise[i][4]) < 0:\n",
        "      ps = predict[i][1] + predict[i][2]\n",
        "      pn = [predict[i][1],predict[i][2]]/ps\n",
        "      action = 1+ np.random.choice(2,p=pn) \n",
        "\n",
        "    if action == 2 and balance[2] <= 0:\n",
        "      ps = predict[i][0] + predict[i][1]\n",
        "      pn = [predict[i][0],predict[i][1]]/ps\n",
        "      action = np.random.choice(2,p=pn)  \n",
        "\n",
        "    if action == 1:  # hold\n",
        "      balance[1] = p_serise[i][4]\n",
        "\n",
        "    if action  == 0:  # buy\n",
        "      balance[0] = balance[0] - p_serise[i][4]\n",
        "      balance[1] = p_serise[i][4]\n",
        "      balance[2] = balance[2] + 1\n",
        "\n",
        "    if action  == 2:\n",
        "      balance[0] = balance[0] + p_serise[i][4]\n",
        "      balance[1] = p_serise[i][4]\n",
        "      balance[2] = balance[2] - 1 \n",
        "     \n",
        "    blist.append([balance[0], balance[1], balance[2]])\n",
        "    acts.append(action)\n",
        "  return blist, acts"
      ],
      "execution_count": null,
      "outputs": []
    },
    {
      "cell_type": "code",
      "metadata": {
        "id": "CW6izHkVNTWr",
        "colab_type": "code",
        "colab": {}
      },
      "source": [
        "def reward_portfolio (blist):   \n",
        "\n",
        "  reward_sum_list=[]\n",
        "  reward_list=[]\n",
        "   \n",
        "\n",
        "  for a in blist:\n",
        "    reward_sum = a[0] + a[1] * a[2]\n",
        "    reward_sum_list.append(reward_sum)\n",
        "\n",
        "  for i in range(len(reward_sum_list)-1):\n",
        "    reward = np.abs(reward_sum_list[i+1] - reward_sum_list[i]) # 가중치를 일괄적으로 양 수로 만들어서 손실함수 계산의 방향을 일관되게 만든다.\n",
        "    reward_list.append(reward)      \n",
        "  return reward_sum_list, reward_list\n",
        "\n"
      ],
      "execution_count": null,
      "outputs": []
    },
    {
      "cell_type": "code",
      "metadata": {
        "id": "1QJO6PsGdru9",
        "colab_type": "code",
        "colab": {}
      },
      "source": [
        "def discount_rewards(r, gamma=0.5):\n",
        "    \"\"\"Takes 1d float array of rewards and computes discounted reward\n",
        "    e.g. f([1, 1, 1], 0.99) -> [2.9701, 1.99, 1]\n",
        "    \"\"\"\n",
        "    prior = 0\n",
        "    out = []\n",
        "    r = r[::-1]\n",
        "    for val in r:\n",
        "        new_val = val + prior * gamma\n",
        "        out.append(new_val)\n",
        "        prior = new_val\n",
        "    return np.array(out[::-1])"
      ],
      "execution_count": null,
      "outputs": []
    },
    {
      "cell_type": "code",
      "metadata": {
        "id": "E__9jrhId8jq",
        "colab_type": "code",
        "colab": {}
      },
      "source": [
        ""
      ],
      "execution_count": null,
      "outputs": []
    },
    {
      "cell_type": "code",
      "metadata": {
        "id": "52938aqWnN-c",
        "colab_type": "code",
        "colab": {
          "base_uri": "https://localhost:8080/",
          "height": 34
        },
        "outputId": "210ebf42-2bb5-4c93-9498-e944c3f3ecde"
      },
      "source": [
        "from tensorflow.keras.utils import to_categorical\n",
        "from tensorflow import keras\n",
        "import keras.layers as layers\n",
        "from keras.layers import LSTM, Dense\n",
        "from keras.models import Model, Sequential\n",
        "from keras.optimizers import Adam, RMSprop\n",
        "from keras.initializers import glorot_uniform\n",
        "from keras.callbacks import ModelCheckpoint, EarlyStopping\n",
        "import keras.backend as K  # 케라스의 backend를 K. 형식으로 호출하는 것이고 여기서는 tensorflow이다."
      ],
      "execution_count": null,
      "outputs": [
        {
          "output_type": "stream",
          "text": [
            "Using TensorFlow backend.\n"
          ],
          "name": "stderr"
        }
      ]
    },
    {
      "cell_type": "code",
      "metadata": {
        "id": "KCPbLji1nrUn",
        "colab_type": "code",
        "colab": {}
      },
      "source": [
        "def get_policy_model(lr):\n",
        "  inp_L = layers.Input(shape=(5,),name=\"input_L\")\n",
        "  multip = layers.Input(shape=[1], name=\"advantages\")\n",
        "  dense_L = Dense(64)(inp_L)\n",
        "  output_s = layers.Dense(3, activation=\"softmax\",kernel_initializer=glorot_uniform(seed=42), use_bias=False, kernel_regularizer=keras.regularizers.l2(0.001), name=\"out\")(dense_L)\n",
        "\n",
        "  model_train = Model(inputs=[inp_L, multip], outputs = output_s)\n",
        "\n",
        "  # loss 함수를 actual과 predict가 같을때 -무한대가 되도록 만든다. 완전히 틀리면 0 이므로 loss 함수의 값의 범위는 -무한대 ~ 0 이다.\n",
        "  def custom_loss(y_true, y_pred):\n",
        "    # actual: 0 predict: 0 -> log(0 * (0 - 0) + (1 - 0) * (0 + 0)) = -inf   log(0) = - inf\n",
        "    # actual: 1 predict: 1 -> log(1 * (1 - 1) + (1 - 1) * (1 + 1)) = -inf   \n",
        "    # actual: 1 predict: 0 -> log(1 * (1 - 0) + (1 - 1) * (1 + 0)) = 0      log(1) = 0\n",
        "    # actual: 0 predict: 1 -> log(0 * (0 - 1) + (1 - 0) * (0 + 1)) = 0\n",
        "    a = y_true * (y_true - y_pred) + (1 - y_true) * (y_true + y_pred)\n",
        "    log_lik = K.log(a)\n",
        "    return K.mean(log_lik * multip, keepdims=True)\n",
        "\n",
        "  model_train.compile(loss=custom_loss, optimizer=Adam(lr), metrics = ['mae'])\n",
        "  model_predict = Model(inputs=[inp_L], outputs = output_s)\n",
        "  return model_train, model_predict"
      ],
      "execution_count": null,
      "outputs": []
    },
    {
      "cell_type": "code",
      "metadata": {
        "id": "Tf2pQzw7oOcE",
        "colab_type": "code",
        "colab": {}
      },
      "source": [
        "model_train, model_predict = get_policy_model(0.00001)"
      ],
      "execution_count": null,
      "outputs": []
    },
    {
      "cell_type": "code",
      "metadata": {
        "id": "BdCAk3uqoOf4",
        "colab_type": "code",
        "colab": {
          "base_uri": "https://localhost:8080/",
          "height": 263
        },
        "outputId": "87b33d10-6db3-4a14-a684-09a81d87c9c2"
      },
      "source": [
        "model_train.summary()"
      ],
      "execution_count": null,
      "outputs": [
        {
          "output_type": "stream",
          "text": [
            "Model: \"model_1\"\n",
            "_________________________________________________________________\n",
            "Layer (type)                 Output Shape              Param #   \n",
            "=================================================================\n",
            "input_L (InputLayer)         (None, 5)                 0         \n",
            "_________________________________________________________________\n",
            "dense_1 (Dense)              (None, 64)                384       \n",
            "_________________________________________________________________\n",
            "out (Dense)                  (None, 3)                 192       \n",
            "=================================================================\n",
            "Total params: 576\n",
            "Trainable params: 576\n",
            "Non-trainable params: 0\n",
            "_________________________________________________________________\n"
          ],
          "name": "stdout"
        }
      ]
    },
    {
      "cell_type": "code",
      "metadata": {
        "id": "cnaVguhh0ykz",
        "colab_type": "code",
        "colab": {}
      },
      "source": [
        ""
      ],
      "execution_count": null,
      "outputs": []
    },
    {
      "cell_type": "code",
      "metadata": {
        "id": "ee-kc84l2EFX",
        "colab_type": "code",
        "colab": {}
      },
      "source": [
        ""
      ],
      "execution_count": null,
      "outputs": []
    },
    {
      "cell_type": "code",
      "metadata": {
        "id": "l5VxtpM8oOjg",
        "colab_type": "code",
        "colab": {
          "base_uri": "https://localhost:8080/",
          "height": 1000
        },
        "outputId": "3f41dab9-4f97-48c7-dc91-448644782edc"
      },
      "source": [
        "# Setting up our environment\n",
        "\n",
        "num_actions = 3\n",
        "num_episode = 0\n",
        "num_episodes = 10000\n",
        "\n",
        "balance=[100.0, 0.0, 0.0]   \n",
        "\n",
        "action_list = []\n",
        "reward_list = []\n",
        "reward_sum_list = []\n",
        "\n",
        "price, p_serise, price_lstm = env()\n",
        "\n",
        "while num_episode < num_episodes:\n",
        "\n",
        "    losses = []\n",
        "     \n",
        "    p_serise = p_serise.astype(float) # nan 발생을 막기 위한 시도이다.\n",
        "\n",
        "    predict = model_predict.predict(p_serise)  # 한개의 state를 input해서 신경망을 통해 action을 만들어낸다.\n",
        "      \n",
        "    blist, acts = balance_update(predict, p_serise)\n",
        "\n",
        "    reward_sum_list, reward_list = reward_portfolio(blist)\n",
        "\n",
        "   \n",
        "    if reward_sum_list[-1] > 120.0:\n",
        "      break\n",
        "    else:\n",
        "      y_encoded = keras.utils.to_categorical(acts, 3)\n",
        "      dis_re = discount_rewards(reward_list)\n",
        "      loss = model_train.train_on_batch([p_serise, dis_re/100], y_encoded)\n",
        "\n",
        "    losses.append(loss)\n",
        "\n",
        "    if (num_episode+1) % 100 == 0:\n",
        "      print(\"num_episode: \",num_episode+1, \"loss: \", losses[-1][0], \"model_reward: \", reward_sum_list[-1])\n",
        "          \n",
        "    num_episode += 1\n",
        "    price, p_serise, price_lstm = env()\n"
      ],
      "execution_count": null,
      "outputs": [
        {
          "output_type": "stream",
          "text": [
            "num_episode:  100 loss:  -0.0015004296 model_reward:  98.43091745899021\n",
            "num_episode:  200 loss:  0.005515466 model_reward:  100.0\n",
            "num_episode:  300 loss:  0.00019470043 model_reward:  98.40993966995285\n",
            "num_episode:  400 loss:  0.0054811565 model_reward:  100.0\n",
            "num_episode:  500 loss:  0.0054636374 model_reward:  100.0\n",
            "num_episode:  600 loss:  0.0054448424 model_reward:  100.0\n",
            "num_episode:  700 loss:  0.005426042 model_reward:  100.0\n",
            "num_episode:  800 loss:  0.0024502221 model_reward:  99.17197107528669\n",
            "num_episode:  900 loss:  0.005381563 model_reward:  100.0\n",
            "num_episode:  1000 loss:  -0.0010551126 model_reward:  98.56116042059348\n",
            "num_episode:  1100 loss:  0.005335754 model_reward:  100.0\n",
            "num_episode:  1200 loss:  0.0053128023 model_reward:  100.0\n",
            "num_episode:  1300 loss:  0.0052875252 model_reward:  100.0\n",
            "num_episode:  1400 loss:  0.005262426 model_reward:  100.0\n",
            "num_episode:  1500 loss:  0.00523735 model_reward:  100.0\n",
            "num_episode:  1600 loss:  0.0052127033 model_reward:  100.0\n",
            "num_episode:  1700 loss:  0.005186327 model_reward:  100.0\n",
            "num_episode:  1800 loss:  0.005159652 model_reward:  100.0\n",
            "num_episode:  1900 loss:  0.0051343893 model_reward:  100.0\n",
            "num_episode:  2000 loss:  0.005107552 model_reward:  100.0\n",
            "num_episode:  2100 loss:  0.005079513 model_reward:  100.0\n",
            "num_episode:  2200 loss:  0.005052191 model_reward:  100.0\n",
            "num_episode:  2300 loss:  0.0050252248 model_reward:  100.0\n",
            "num_episode:  2400 loss:  0.004996138 model_reward:  100.0\n",
            "num_episode:  2500 loss:  0.0049682437 model_reward:  100.0\n",
            "num_episode:  2600 loss:  0.004939787 model_reward:  100.0\n",
            "num_episode:  2700 loss:  0.0049096253 model_reward:  100.0\n",
            "num_episode:  2800 loss:  0.004879964 model_reward:  100.0\n",
            "num_episode:  2900 loss:  0.0048501315 model_reward:  100.0\n",
            "num_episode:  3000 loss:  0.0048204977 model_reward:  100.0\n",
            "num_episode:  3100 loss:  0.004791667 model_reward:  100.0\n",
            "num_episode:  3200 loss:  0.0004956466 model_reward:  99.13302251361006\n",
            "num_episode:  3300 loss:  0.0047322037 model_reward:  100.0\n",
            "num_episode:  3400 loss:  0.004704902 model_reward:  100.0\n",
            "num_episode:  3500 loss:  0.0046762717 model_reward:  100.0\n",
            "num_episode:  3600 loss:  0.004646018 model_reward:  100.0\n",
            "num_episode:  3700 loss:  0.004615604 model_reward:  100.0\n",
            "num_episode:  3800 loss:  0.004584374 model_reward:  100.0\n",
            "num_episode:  3900 loss:  0.0045554684 model_reward:  100.0\n",
            "num_episode:  4000 loss:  0.004523432 model_reward:  100.0\n",
            "num_episode:  4100 loss:  0.0044917106 model_reward:  100.0\n",
            "num_episode:  4200 loss:  0.004459348 model_reward:  100.0\n",
            "num_episode:  4300 loss:  0.0044271033 model_reward:  100.0\n",
            "num_episode:  4400 loss:  0.0043949625 model_reward:  100.0\n",
            "num_episode:  4500 loss:  0.0043635955 model_reward:  100.0\n",
            "num_episode:  4600 loss:  0.004331963 model_reward:  100.0\n",
            "num_episode:  4700 loss:  0.0043012677 model_reward:  100.0\n",
            "num_episode:  4800 loss:  0.0042683217 model_reward:  100.0\n",
            "num_episode:  4900 loss:  0.0042358804 model_reward:  100.0\n",
            "num_episode:  5000 loss:  0.0042049102 model_reward:  100.0\n",
            "num_episode:  5100 loss:  0.004173663 model_reward:  100.0\n",
            "num_episode:  5200 loss:  0.0041421745 model_reward:  100.0\n",
            "num_episode:  5300 loss:  0.0041092634 model_reward:  100.0\n",
            "num_episode:  5400 loss:  0.004076972 model_reward:  100.0\n",
            "num_episode:  5500 loss:  0.004044666 model_reward:  100.0\n",
            "num_episode:  5600 loss:  0.0040126666 model_reward:  100.0\n",
            "num_episode:  5700 loss:  0.00398225 model_reward:  100.0\n",
            "num_episode:  5800 loss:  0.0039505544 model_reward:  100.0\n",
            "num_episode:  5900 loss:  0.0039183726 model_reward:  100.0\n",
            "num_episode:  6000 loss:  0.0038872757 model_reward:  100.0\n",
            "num_episode:  6100 loss:  0.0038557088 model_reward:  100.0\n",
            "num_episode:  6200 loss:  0.0038233157 model_reward:  100.0\n",
            "num_episode:  6300 loss:  0.003791911 model_reward:  100.0\n",
            "num_episode:  6400 loss:  0.0037601101 model_reward:  100.0\n",
            "num_episode:  6500 loss:  0.003728481 model_reward:  100.0\n",
            "num_episode:  6600 loss:  0.0036973585 model_reward:  100.0\n",
            "num_episode:  6700 loss:  0.0036655453 model_reward:  100.0\n",
            "num_episode:  6800 loss:  0.0036345802 model_reward:  100.0\n",
            "num_episode:  6900 loss:  0.0036039327 model_reward:  100.0\n",
            "num_episode:  7000 loss:  0.0035742228 model_reward:  100.0\n",
            "num_episode:  7100 loss:  0.0035451467 model_reward:  100.0\n",
            "num_episode:  7200 loss:  0.0035161164 model_reward:  100.0\n",
            "num_episode:  7300 loss:  0.0034875472 model_reward:  100.0\n",
            "num_episode:  7400 loss:  0.0034590708 model_reward:  100.0\n",
            "num_episode:  7500 loss:  0.003431081 model_reward:  100.0\n",
            "num_episode:  7600 loss:  0.0034021214 model_reward:  100.0\n",
            "num_episode:  7700 loss:  0.0033739756 model_reward:  100.0\n",
            "num_episode:  7800 loss:  0.0033459766 model_reward:  100.0\n",
            "num_episode:  7900 loss:  0.0033169857 model_reward:  100.0\n",
            "num_episode:  8000 loss:  0.0032883373 model_reward:  100.0\n",
            "num_episode:  8100 loss:  0.0032606097 model_reward:  100.0\n",
            "num_episode:  8200 loss:  0.003233885 model_reward:  100.0\n",
            "num_episode:  8300 loss:  0.0032061834 model_reward:  100.0\n",
            "num_episode:  8400 loss:  0.0031791173 model_reward:  100.0\n",
            "num_episode:  8500 loss:  0.003153976 model_reward:  100.0\n",
            "num_episode:  8600 loss:  0.003127616 model_reward:  100.0\n",
            "num_episode:  8700 loss:  0.003101291 model_reward:  100.0\n",
            "num_episode:  8800 loss:  0.0030740476 model_reward:  100.0\n",
            "num_episode:  8900 loss:  0.0030476109 model_reward:  100.0\n",
            "num_episode:  9000 loss:  0.003020967 model_reward:  100.0\n",
            "num_episode:  9100 loss:  0.0029943183 model_reward:  100.0\n",
            "num_episode:  9200 loss:  0.00296714 model_reward:  100.0\n",
            "num_episode:  9300 loss:  0.0029394755 model_reward:  100.0\n",
            "num_episode:  9400 loss:  0.00291161 model_reward:  100.0\n",
            "num_episode:  9500 loss:  0.002885084 model_reward:  100.0\n",
            "num_episode:  9600 loss:  0.0028581868 model_reward:  100.0\n",
            "num_episode:  9700 loss:  0.0028315305 model_reward:  100.0\n",
            "num_episode:  9800 loss:  0.0028050705 model_reward:  100.0\n",
            "num_episode:  9900 loss:  0.0027779161 model_reward:  100.0\n",
            "num_episode:  10000 loss:  0.0027523604 model_reward:  100.0\n"
          ],
          "name": "stdout"
        }
      ]
    },
    {
      "cell_type": "code",
      "metadata": {
        "id": "SFXJa7ULfIm1",
        "colab_type": "code",
        "colab": {}
      },
      "source": [
        ""
      ],
      "execution_count": null,
      "outputs": []
    },
    {
      "cell_type": "code",
      "metadata": {
        "id": "Fr2T_DCMdsFa",
        "colab_type": "code",
        "colab": {}
      },
      "source": [
        "predict = model_predict.predict(p_serise)"
      ],
      "execution_count": null,
      "outputs": []
    },
    {
      "cell_type": "code",
      "metadata": {
        "id": "gNb7YB9bbfUd",
        "colab_type": "code",
        "colab": {
          "base_uri": "https://localhost:8080/",
          "height": 457
        },
        "outputId": "718d039b-da85-4802-e84c-89591108a966"
      },
      "source": [
        "predict"
      ],
      "execution_count": null,
      "outputs": [
        {
          "output_type": "execute_result",
          "data": {
            "text/plain": [
              "array([[3.6138725e-03, 9.9543518e-01, 9.5101329e-04],\n",
              "       [2.5309306e-03, 9.9687552e-01, 5.9350801e-04],\n",
              "       [1.6649085e-03, 9.9793869e-01, 3.9637886e-04],\n",
              "       [1.1331739e-03, 9.9862301e-01, 2.4384700e-04],\n",
              "       [8.9347886e-04, 9.9892789e-01, 1.7856655e-04],\n",
              "       [6.7802204e-04, 9.9918562e-01, 1.3640364e-04],\n",
              "       [5.1899574e-04, 9.9938595e-01, 9.5118827e-05],\n",
              "       [4.0926790e-04, 9.9951863e-01, 7.2090930e-05],\n",
              "       [3.4076688e-04, 9.9960107e-01, 5.8188223e-05],\n",
              "       [2.9136828e-04, 9.9965870e-01, 4.9990009e-05],\n",
              "       [2.4987900e-04, 9.9970716e-01, 4.2903313e-05],\n",
              "       [2.4483568e-04, 9.9971491e-01, 4.0296556e-05],\n",
              "       [2.2691984e-04, 9.9973422e-01, 3.8798502e-05],\n",
              "       [2.2932976e-04, 9.9973351e-01, 3.7164038e-05],\n",
              "       [2.3295525e-04, 9.9972624e-01, 4.0761293e-05],\n",
              "       [2.3052981e-04, 9.9972850e-01, 4.1016719e-05],\n",
              "       [2.7433300e-04, 9.9967790e-01, 4.7780799e-05],\n",
              "       [2.9424176e-04, 9.9964762e-01, 5.8202586e-05],\n",
              "       [3.4178881e-04, 9.9959475e-01, 6.3547915e-05],\n",
              "       [4.1455880e-04, 9.9950135e-01, 8.4088300e-05],\n",
              "       [5.0070317e-04, 9.9938917e-01, 1.1013113e-04],\n",
              "       [6.5733481e-04, 9.9919075e-01, 1.5192527e-04],\n",
              "       [8.6150935e-04, 9.9891627e-01, 2.2219443e-04],\n",
              "       [1.2839217e-03, 9.9837518e-01, 3.4081523e-04],\n",
              "       [1.7692746e-03, 9.9769068e-01, 5.4007728e-04]], dtype=float32)"
            ]
          },
          "metadata": {
            "tags": []
          },
          "execution_count": 18
        }
      ]
    },
    {
      "cell_type": "code",
      "metadata": {
        "id": "z9pqtsUJ5kDz",
        "colab_type": "code",
        "colab": {}
      },
      "source": [
        "blist, acts = balance_update(predict, p_serise)\n",
        "\n",
        "    "
      ],
      "execution_count": null,
      "outputs": []
    },
    {
      "cell_type": "code",
      "metadata": {
        "id": "ypq5iFSD5kHH",
        "colab_type": "code",
        "colab": {
          "base_uri": "https://localhost:8080/",
          "height": 34
        },
        "outputId": "55ca1613-d2dc-4d1a-bfc4-4c01299a3e50"
      },
      "source": [
        "acts"
      ],
      "execution_count": null,
      "outputs": [
        {
          "output_type": "execute_result",
          "data": {
            "text/plain": [
              "[1, 1, 1, 1, 1, 1, 1, 1, 1, 1, 1, 1, 1, 1, 1, 1, 1, 1, 1, 1, 1, 1, 1, 1, 1]"
            ]
          },
          "metadata": {
            "tags": []
          },
          "execution_count": 20
        }
      ]
    },
    {
      "cell_type": "code",
      "metadata": {
        "id": "i85zgyZO5wRc",
        "colab_type": "code",
        "colab": {
          "base_uri": "https://localhost:8080/",
          "height": 474
        },
        "outputId": "1de4d0d3-96a6-4268-bc8a-11b3e62bebe9"
      },
      "source": [
        "blist"
      ],
      "execution_count": null,
      "outputs": [
        {
          "output_type": "execute_result",
          "data": {
            "text/plain": [
              "[[100.0, 0.0, 0.0],\n",
              " [100, 3.9877771384524716, 0],\n",
              " [100, 4.0765769672822, 0],\n",
              " [100, 4.210458646072498, 0],\n",
              " [100, 4.483095742634497, 0],\n",
              " [100, 4.565387372085023, 0],\n",
              " [100, 4.71244661397334, 0],\n",
              " [100, 4.885086273380034, 0],\n",
              " [100, 5.016812548642121, 0],\n",
              " [100, 5.048064792342275, 0],\n",
              " [100, 5.014176983045866, 0],\n",
              " [100, 5.112904769029705, 0],\n",
              " [100, 5.082847672344554, 0],\n",
              " [100, 5.16510696197368, 0],\n",
              " [100, 5.092284003497985, 0],\n",
              " [100, 4.948211285146682, 0],\n",
              " [100, 5.0063037357539795, 0],\n",
              " [100, 4.784278366930281, 0],\n",
              " [100, 4.760625085739134, 0],\n",
              " [100, 4.690961475596859, 0],\n",
              " [100, 4.460830067774835, 0],\n",
              " [100, 4.2789269692796275, 0],\n",
              " [100, 4.008987712574459, 0],\n",
              " [100, 3.874456053114483, 0],\n",
              " [100, 3.574380409350225, 0],\n",
              " [100, 3.3768865232630247, 0]]"
            ]
          },
          "metadata": {
            "tags": []
          },
          "execution_count": 21
        }
      ]
    },
    {
      "cell_type": "code",
      "metadata": {
        "id": "W_PI5G4_5wUk",
        "colab_type": "code",
        "colab": {
          "base_uri": "https://localhost:8080/",
          "height": 52
        },
        "outputId": "7c18d7dc-9352-4ba4-a76e-591f2f0a3037"
      },
      "source": [
        "dis_re"
      ],
      "execution_count": null,
      "outputs": [
        {
          "output_type": "execute_result",
          "data": {
            "text/plain": [
              "array([0., 0., 0., 0., 0., 0., 0., 0., 0., 0., 0., 0., 0., 0., 0., 0., 0.,\n",
              "       0., 0., 0., 0., 0., 0., 0., 0.])"
            ]
          },
          "metadata": {
            "tags": []
          },
          "execution_count": 24
        }
      ]
    },
    {
      "cell_type": "code",
      "metadata": {
        "id": "vcsTPURy5wYG",
        "colab_type": "code",
        "colab": {
          "base_uri": "https://localhost:8080/",
          "height": 457
        },
        "outputId": "a2b3c094-07df-44c3-f396-a25b4e992382"
      },
      "source": [
        "reward_list"
      ],
      "execution_count": null,
      "outputs": [
        {
          "output_type": "execute_result",
          "data": {
            "text/plain": [
              "[0,\n",
              " 0.0,\n",
              " 0.0,\n",
              " 0.0,\n",
              " 0.0,\n",
              " 0.10798032990297202,\n",
              " 0.0,\n",
              " 0.09972510880207608,\n",
              " 0.0,\n",
              " 0.05702562077745199,\n",
              " 0.0,\n",
              " 0.0,\n",
              " 0.0,\n",
              " 0.0,\n",
              " 0.008023248219004131,\n",
              " 0.0,\n",
              " 0.0,\n",
              " -0.21939723052554427,\n",
              " -0.2704698111146513,\n",
              " -0.21527481970460371,\n",
              " 0.0,\n",
              " -0.380158586348756,\n",
              " 0.0,\n",
              " 0.0,\n",
              " 0.0]"
            ]
          },
          "metadata": {
            "tags": []
          },
          "execution_count": 27
        }
      ]
    },
    {
      "cell_type": "code",
      "metadata": {
        "id": "3ORWnRdVkzht",
        "colab_type": "code",
        "colab": {
          "base_uri": "https://localhost:8080/",
          "height": 34
        },
        "outputId": "2b184e6c-1d8e-49d7-e747-4b2ceecfd41d"
      },
      "source": [
        "test = [0.1, 0.2, 0.7]\n",
        "print(test[0:2])"
      ],
      "execution_count": null,
      "outputs": [
        {
          "output_type": "stream",
          "text": [
            "[0.1, 0.2]\n"
          ],
          "name": "stdout"
        }
      ]
    },
    {
      "cell_type": "code",
      "metadata": {
        "id": "l0mUFfN8kzli",
        "colab_type": "code",
        "colab": {
          "base_uri": "https://localhost:8080/",
          "height": 222
        },
        "outputId": "35a69047-3286-48fb-e2af-d7bca0a8e12e"
      },
      "source": [
        "aa = np.random.choice(2,p=test[0:2])\n",
        "print(aa)"
      ],
      "execution_count": null,
      "outputs": [
        {
          "output_type": "error",
          "ename": "ValueError",
          "evalue": "ignored",
          "traceback": [
            "\u001b[0;31m---------------------------------------------------------------------------\u001b[0m",
            "\u001b[0;31mValueError\u001b[0m                                Traceback (most recent call last)",
            "\u001b[0;32m<ipython-input-32-ce2ffd32b02c>\u001b[0m in \u001b[0;36m<module>\u001b[0;34m()\u001b[0m\n\u001b[0;32m----> 1\u001b[0;31m \u001b[0maa\u001b[0m \u001b[0;34m=\u001b[0m \u001b[0mnp\u001b[0m\u001b[0;34m.\u001b[0m\u001b[0mrandom\u001b[0m\u001b[0;34m.\u001b[0m\u001b[0mchoice\u001b[0m\u001b[0;34m(\u001b[0m\u001b[0;36m2\u001b[0m\u001b[0;34m,\u001b[0m\u001b[0mp\u001b[0m\u001b[0;34m=\u001b[0m\u001b[0mtest\u001b[0m\u001b[0;34m[\u001b[0m\u001b[0;36m0\u001b[0m\u001b[0;34m:\u001b[0m\u001b[0;36m2\u001b[0m\u001b[0;34m]\u001b[0m\u001b[0;34m)\u001b[0m\u001b[0;34m\u001b[0m\u001b[0;34m\u001b[0m\u001b[0m\n\u001b[0m\u001b[1;32m      2\u001b[0m \u001b[0mprint\u001b[0m\u001b[0;34m(\u001b[0m\u001b[0maa\u001b[0m\u001b[0;34m)\u001b[0m\u001b[0;34m\u001b[0m\u001b[0;34m\u001b[0m\u001b[0m\n",
            "\u001b[0;32mmtrand.pyx\u001b[0m in \u001b[0;36mnumpy.random.mtrand.RandomState.choice\u001b[0;34m()\u001b[0m\n",
            "\u001b[0;31mValueError\u001b[0m: probabilities do not sum to 1"
          ]
        }
      ]
    },
    {
      "cell_type": "code",
      "metadata": {
        "id": "gfAE5835kzxB",
        "colab_type": "code",
        "colab": {}
      },
      "source": [
        ""
      ],
      "execution_count": null,
      "outputs": []
    },
    {
      "cell_type": "code",
      "metadata": {
        "id": "_DCWmX1jgNsL",
        "colab_type": "code",
        "colab": {}
      },
      "source": [
        "def reward_lstm (p_serise, action):\n",
        "  rewards =[0]\n",
        "  \n",
        "  for i in range(len(p_serise)-1):\n",
        "    price_gap = p_serise[i+1][4] - p_serise[i][0]\n",
        "    if price_gap >= 0 and action[i] == 1 :\n",
        "       reward = 1\n",
        "       rewards.append(reward)\n",
        "    if price_gap >= 0 and action[i] == 0 :\n",
        "       reward = 0\n",
        "       rewards.append(reward)\n",
        "    if price_gap >= 0 and action[i] == 2 :\n",
        "       reward = -1\n",
        "       rewards.append(reward)\n",
        "    if price_gap <= 0 and action[i] == 1 :\n",
        "       reward = -1\n",
        "       rewards.append(reward)\n",
        "    if price_gap <= 0 and action[i] == 0 :\n",
        "       reward = 0\n",
        "       rewards.append(reward)\n",
        "    if price_gap <= 0 and action[i] == 2 :\n",
        "       reward = 1\n",
        "       rewards.append(reward)\n",
        "\n",
        "  return rewards\n"
      ],
      "execution_count": null,
      "outputs": []
    },
    {
      "cell_type": "code",
      "metadata": {
        "id": "BQwD-t8Li5hJ",
        "colab_type": "code",
        "colab": {
          "base_uri": "https://localhost:8080/",
          "height": 34
        },
        "outputId": "ecf4d445-fc17-44ec-9cca-e67b4ff2321f"
      },
      "source": [
        "len(reward_lstm (p_serise, price_lstm_y))"
      ],
      "execution_count": null,
      "outputs": [
        {
          "output_type": "execute_result",
          "data": {
            "text/plain": [
              "25"
            ]
          },
          "metadata": {
            "tags": []
          },
          "execution_count": 149
        }
      ]
    },
    {
      "cell_type": "code",
      "metadata": {
        "id": "nRfbsAW_nN2t",
        "colab_type": "code",
        "colab": {}
      },
      "source": [
        " def act_selection(act):\n",
        "   acts = []\n",
        "   for i in range(0, len(act)):\n",
        "     action = np.random.choice(3,p=act[i])\n",
        "     acts.append(action)\n",
        "   return acts"
      ],
      "execution_count": null,
      "outputs": []
    },
    {
      "cell_type": "code",
      "metadata": {
        "id": "fMEoQVVt0eT3",
        "colab_type": "code",
        "colab": {
          "base_uri": "https://localhost:8080/",
          "height": 34
        },
        "outputId": "6a67b824-cfd0-4507-dad1-fe97377a6d05"
      },
      "source": [
        "multip = np.array([1,1,1,1,1,1,1,1,1,1,1,1,1,1,1,1,1,1,1,1,1,1,1,1,1])\n",
        "len(multip)"
      ],
      "execution_count": null,
      "outputs": [
        {
          "output_type": "execute_result",
          "data": {
            "text/plain": [
              "25"
            ]
          },
          "metadata": {
            "tags": []
          },
          "execution_count": 150
        }
      ]
    },
    {
      "cell_type": "code",
      "metadata": {
        "id": "GYqwu-HRoOmz",
        "colab_type": "code",
        "colab": {}
      },
      "source": [
        "predict = model_predict.predict(p_serise)"
      ],
      "execution_count": null,
      "outputs": []
    },
    {
      "cell_type": "code",
      "metadata": {
        "id": "OldzEZfWnrcs",
        "colab_type": "code",
        "colab": {}
      },
      "source": [
        "action_c=[]\n",
        "\n",
        "for i in range(len(predict)):\n",
        "  a = np.argmax(predict[i])\n",
        "  action_c.append(a)"
      ],
      "execution_count": null,
      "outputs": []
    },
    {
      "cell_type": "code",
      "metadata": {
        "id": "sIS-EhC9vSef",
        "colab_type": "code",
        "colab": {
          "base_uri": "https://localhost:8080/",
          "height": 34
        },
        "outputId": "1c2f78f5-51a8-49c6-c5ef-08c9c2e1057a"
      },
      "source": [
        "np.sum(reward_lstm(p_serise, action_c))"
      ],
      "execution_count": null,
      "outputs": [
        {
          "output_type": "execute_result",
          "data": {
            "text/plain": [
              "3"
            ]
          },
          "metadata": {
            "tags": []
          },
          "execution_count": 55
        }
      ]
    },
    {
      "cell_type": "code",
      "metadata": {
        "id": "8X4_950456td",
        "colab_type": "code",
        "colab": {
          "base_uri": "https://localhost:8080/",
          "height": 34
        },
        "outputId": "366a37e5-cafb-434e-92db-752cf0357516"
      },
      "source": [
        "action_c"
      ],
      "execution_count": null,
      "outputs": [
        {
          "output_type": "execute_result",
          "data": {
            "text/plain": [
              "[1, 1, 1, 1, 1, 0, 0, 0, 0, 0, 0, 0, 0, 0, 0, 0, 0, 0, 0, 0, 0, 0, 1, 1, 1]"
            ]
          },
          "metadata": {
            "tags": []
          },
          "execution_count": 56
        }
      ]
    },
    {
      "cell_type": "code",
      "metadata": {
        "id": "LeDZBnO656oR",
        "colab_type": "code",
        "colab": {}
      },
      "source": [
        ""
      ],
      "execution_count": null,
      "outputs": []
    },
    {
      "cell_type": "code",
      "metadata": {
        "id": "eBil12gR56mh",
        "colab_type": "code",
        "colab": {}
      },
      "source": [
        ""
      ],
      "execution_count": null,
      "outputs": []
    },
    {
      "cell_type": "code",
      "metadata": {
        "id": "0hx-wlyJ56kY",
        "colab_type": "code",
        "colab": {}
      },
      "source": [
        ""
      ],
      "execution_count": null,
      "outputs": []
    },
    {
      "cell_type": "code",
      "metadata": {
        "id": "IazXuUZw56iI",
        "colab_type": "code",
        "colab": {}
      },
      "source": [
        ""
      ],
      "execution_count": null,
      "outputs": []
    },
    {
      "cell_type": "code",
      "metadata": {
        "id": "NP0ycHrO56fn",
        "colab_type": "code",
        "colab": {}
      },
      "source": [
        ""
      ],
      "execution_count": null,
      "outputs": []
    },
    {
      "cell_type": "code",
      "metadata": {
        "id": "K5bMrbNO5SeR",
        "colab_type": "code",
        "colab": {
          "base_uri": "https://localhost:8080/",
          "height": 34
        },
        "outputId": "0a145254-b935-4f9c-9201-4e8e9942786d"
      },
      "source": [
        "from tensorflow.keras.utils import to_categorical\n",
        "from tensorflow import keras\n",
        "import tensorflow as tf\n",
        "import keras.layers as layers\n",
        "from keras.layers import LSTM, Dense\n",
        "from keras.models import Model, Sequential\n",
        "from keras.optimizers import Adam, RMSprop\n",
        "from keras.initializers import glorot_uniform\n",
        "from keras.callbacks import ModelCheckpoint, EarlyStopping\n",
        "import keras.backend as K  # 케라스의 backend를 K. 형식으로 호출하는 것이고 여기서는 tensorflow이다."
      ],
      "execution_count": null,
      "outputs": [
        {
          "output_type": "stream",
          "text": [
            "Using TensorFlow backend.\n"
          ],
          "name": "stderr"
        }
      ]
    },
    {
      "cell_type": "code",
      "metadata": {
        "id": "2gWNXKuA8QVH",
        "colab_type": "code",
        "colab": {}
      },
      "source": [
        "#inp_L = layers.Input(shape=(5,1),name=\"input_L\")  # LSTM 용\n",
        "#dense_L = LSTM(5, return_sequences=False)(inp_L)  # LSTM 용\n",
        "inp_L = layers.Input(shape=(5,),name=\"input_L\")\n",
        "#dense_L = Dense(64)(dense_L)\n",
        "dense_L = Dense(64)(inp_L)\n",
        "#output_L = Dense(1)(dense_L)\n",
        "output_s = layers.Dense(3, activation=\"softmax\",kernel_initializer=glorot_uniform(seed=42), use_bias=False, kernel_regularizer=keras.regularizers.l2(0.001), name=\"out\")(dense_L)\n",
        "\n",
        "model_lstm = Model(inputs=inp_L, outputs = output_s)"
      ],
      "execution_count": null,
      "outputs": []
    },
    {
      "cell_type": "code",
      "metadata": {
        "id": "nq9u7FVL8QMN",
        "colab_type": "code",
        "colab": {}
      },
      "source": [
        "optimizer = tf.keras.optimizers.Adam(lr=0.001)\n",
        "model_lstm.compile(loss='categorical_crossentropy', optimizer=optimizer, metrics=['mae'])"
      ],
      "execution_count": null,
      "outputs": []
    },
    {
      "cell_type": "code",
      "metadata": {
        "id": "HzEFHZQ--JZt",
        "colab_type": "code",
        "colab": {}
      },
      "source": [
        "history_lstm = model_lstm.fit(p_serise, y_encoded, epochs=150, verbose=0)"
      ],
      "execution_count": null,
      "outputs": []
    },
    {
      "cell_type": "code",
      "metadata": {
        "id": "HkHpoNBRDZ3u",
        "colab_type": "code",
        "colab": {
          "base_uri": "https://localhost:8080/",
          "height": 265
        },
        "outputId": "8d7151c3-47cc-43c7-c8dd-2e55846641ef"
      },
      "source": [
        "plt.plot(history_lstm.history['loss'])\n",
        "plt.show()"
      ],
      "execution_count": null,
      "outputs": [
        {
          "output_type": "display_data",
          "data": {
            "image/png": "[encoded data removed]",
            "text/plain": [
              "<Figure size 432x288 with 1 Axes>"
            ]
          },
          "metadata": {
            "tags": [],
            "needs_background": "light"
          }
        }
      ]
    },
    {
      "cell_type": "code",
      "metadata": {
        "id": "dUOFL8eADyES",
        "colab_type": "code",
        "colab": {
          "base_uri": "https://localhost:8080/",
          "height": 265
        },
        "outputId": "eda1d22e-cccb-4229-a3e2-cc8503dd7f79"
      },
      "source": [
        "plt.plot(action(model_lstm.predict(p_serise)), 'b')\n",
        "# plt.plot(price_lstm_y, 'r')\n",
        "plt.show()"
      ],
      "execution_count": null,
      "outputs": [
        {
          "output_type": "display_data",
          "data": {
            "image/png": "[encoded data removed]",
            "text/plain": [
              "<Figure size 432x288 with 1 Axes>"
            ]
          },
          "metadata": {
            "tags": [],
            "needs_background": "light"
          }
        }
      ]
    },
    {
      "cell_type": "code",
      "metadata": {
        "id": "rcnD7iot56Zc",
        "colab_type": "code",
        "colab": {}
      },
      "source": [
        ""
      ],
      "execution_count": null,
      "outputs": []
    },
    {
      "cell_type": "code",
      "metadata": {
        "id": "Ykgd940f56Ws",
        "colab_type": "code",
        "colab": {}
      },
      "source": [
        ""
      ],
      "execution_count": null,
      "outputs": []
    },
    {
      "cell_type": "code",
      "metadata": {
        "id": "vgKgY08H56S9",
        "colab_type": "code",
        "colab": {}
      },
      "source": [
        ""
      ],
      "execution_count": null,
      "outputs": []
    },
    {
      "cell_type": "code",
      "metadata": {
        "id": "oOk67j_P_1ui",
        "colab_type": "code",
        "colab": {
          "base_uri": "https://localhost:8080/",
          "height": 34
        },
        "outputId": "9b115394-bee0-4705-abeb-96322edb2ba6"
      },
      "source": [
        ""
      ],
      "execution_count": null,
      "outputs": [
        {
          "output_type": "stream",
          "text": [
            "[1, 1, 1, 1, 1, 1, 1, 1, 1, 1, 1, 0, 0, 0, 0, 0, 0, 0, 0, 0, 0, 0, 0, 0, 0]\n"
          ],
          "name": "stdout"
        }
      ]
    },
    {
      "cell_type": "markdown",
      "metadata": {
        "id": "ZqnDeQDebd7L",
        "colab_type": "text"
      },
      "source": [
        "만약 정책함수에서 softmax가 행동대안을 산출하면 각 행동대안이 갖는 확률을 기반으로 하여 새로운 행동을 산출한다. 만약 각 행동대안의 확율이 높아 질 수록 산출할 행동 대안의 모습은 수렴해 갈 것이다."
      ]
    },
    {
      "cell_type": "code",
      "metadata": {
        "id": "bUP7ErWSq7Q-",
        "colab_type": "code",
        "colab": {}
      },
      "source": [
        ""
      ],
      "execution_count": null,
      "outputs": []
    },
    {
      "cell_type": "markdown",
      "metadata": {
        "id": "hZ94IMpkGo4Q",
        "colab_type": "text"
      },
      "source": [
        "custom loss 함수를 테스트 해본다."
      ]
    },
    {
      "cell_type": "code",
      "metadata": {
        "id": "oeNsD1JMGuKf",
        "colab_type": "code",
        "colab": {
          "base_uri": "https://localhost:8080/",
          "height": 34
        },
        "outputId": "f5900976-abc9-41c8-bd69-e30e707a5430"
      },
      "source": [
        ""
      ],
      "execution_count": null,
      "outputs": [
        {
          "output_type": "stream",
          "text": [
            "Using TensorFlow backend.\n"
          ],
          "name": "stderr"
        }
      ]
    },
    {
      "cell_type": "code",
      "metadata": {
        "id": "Whc8OKjFG7q9",
        "colab_type": "code",
        "colab": {}
      },
      "source": [
        "def my_loss(y_true, y_pred):\n",
        "  y_true = y_true **2\n",
        "  y_pred = y_pred **2\n",
        "  loss = K.mean(K.abs(y_true - y_pred) + K.square(y_true - y_pred))\n",
        "  return loss * multip\n",
        "\n",
        "\n",
        "# metric는 중요하지 않다.\n",
        "\n",
        "def my_metric(y_true, y_pred):\n",
        "  return K.mean(K.abs(y_true - y_pred)) * 1000"
      ],
      "execution_count": null,
      "outputs": []
    },
    {
      "cell_type": "code",
      "metadata": {
        "id": "uA6-PGbtd48V",
        "colab_type": "code",
        "colab": {}
      },
      "source": [
        ""
      ],
      "execution_count": null,
      "outputs": []
    },
    {
      "cell_type": "code",
      "metadata": {
        "id": "bHBAqZNpGJiT",
        "colab_type": "code",
        "colab": {}
      },
      "source": [
        "# 하나의 에피소드 내에서 지연된 보상을 하기 위한 방법이다. \n",
        "\n",
        "def discount_rewards(r, gamma=0.99):\n",
        "    \"\"\"Takes 1d float array of rewards and computes discounted reward\n",
        "    e.g. f([1, 1, 1], 0.99) -> [2.9701, 1.99, 1]\n",
        "    \"\"\"\n",
        "    prior = 0\n",
        "    out = []\n",
        "    r = r[::-1]\n",
        "    for val in r:\n",
        "        new_val = val + prior * gamma\n",
        "        out.append(new_val)\n",
        "        prior = new_val\n",
        "    return np.array(out)"
      ],
      "execution_count": null,
      "outputs": []
    },
    {
      "cell_type": "code",
      "metadata": {
        "id": "9mnjJQyQLm9P",
        "colab_type": "code",
        "colab": {}
      },
      "source": [
        "# test_set에 적용하는 함수\n",
        "\n",
        "def score_model(model_predict, num_tests):\n",
        "    scores = []    \n",
        "    for num_test in range(num_tests):\n",
        "        observation = env()\n",
        "        forcasts = model_predict.predict(observation)\n",
        "        rw = reward(observation, np.argmax(forcasts, axis=1))\n",
        "        scores.append(rw)\n",
        "    return np.mean(scores)"
      ],
      "execution_count": null,
      "outputs": []
    },
    {
      "cell_type": "code",
      "metadata": {
        "id": "pekZ5hube7jg",
        "colab_type": "code",
        "colab": {}
      },
      "source": [
        ""
      ],
      "execution_count": null,
      "outputs": []
    },
    {
      "cell_type": "code",
      "metadata": {
        "id": "Zb1yTMimS19n",
        "colab_type": "code",
        "colab": {}
      },
      "source": [
        ""
      ],
      "execution_count": null,
      "outputs": []
    },
    {
      "cell_type": "code",
      "metadata": {
        "id": "HtPlFP_N91Sn",
        "colab_type": "code",
        "colab": {}
      },
      "source": [
        ""
      ],
      "execution_count": null,
      "outputs": []
    },
    {
      "cell_type": "code",
      "metadata": {
        "id": "5jzHURCR91WX",
        "colab_type": "code",
        "colab": {}
      },
      "source": [
        ""
      ],
      "execution_count": null,
      "outputs": []
    }
  ]
}