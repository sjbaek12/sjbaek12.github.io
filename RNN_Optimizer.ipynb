{
  "nbformat": 4,
  "nbformat_minor": 0,
  "metadata": {
    "colab": {
      "name": "RNN Optimizer",
      "provenance": [],
      "collapsed_sections": [],
      "authorship_tag": "ABX9TyNfIYbbCmLi6AyO0J9zRiU5",
      "include_colab_link": true
    },
    "kernelspec": {
      "name": "python3",
      "display_name": "Python 3"
    }
  },
  "cells": [
    {
      "cell_type": "markdown",
      "metadata": {
        "id": "view-in-github",
        "colab_type": "text"
      },
      "source": [
        "<a href=\"https://colab.research.google.com/github/sjbaek12/sjbaek12.github.io/blob/master/RNN_Optimizer.ipynb\" target=\"_parent\"><img src=\"https://colab.research.google.com/assets/colab-badge.svg\" alt=\"Open In Colab\"/></a>"
      ]
    },
    {
      "cell_type": "markdown",
      "metadata": {
        "id": "AzuoKLmuL__b",
        "colab_type": "text"
      },
      "source": [
        "**순환신경망**\n",
        "\n",
        "순환신경망에서는 뉴런을 셀이라고 부른다. 아래의 예는 한개의 순환층으로 구성된 RNN이다. 이번 예는 저수준의 API로 실행한 사례이다."
      ]
    },
    {
      "cell_type": "code",
      "metadata": {
        "id": "fNYhPo0tL-n3",
        "colab_type": "code",
        "colab": {}
      },
      "source": [
        "import numpy as np\n",
        "import tensorflow as tf\n",
        "from tensorflow.keras.datasets import imdb"
      ],
      "execution_count": 17,
      "outputs": []
    },
    {
      "cell_type": "markdown",
      "metadata": {
        "id": "e4YF2z8KOHwN",
        "colab_type": "text"
      },
      "source": [
        "빈출 단어 중 top 20개를 제외하고 분석에 사용될 전체 단어수를 100개로 한정"
      ]
    },
    {
      "cell_type": "code",
      "metadata": {
        "id": "NAOo-TxkL9Mw",
        "colab_type": "code",
        "colab": {}
      },
      "source": [
        "(x_train_all, y_train_all), (x_test, y_test) = imdb.load_data(skip_top=20, num_words=100)"
      ],
      "execution_count": 18,
      "outputs": []
    },
    {
      "cell_type": "code",
      "metadata": {
        "id": "7aSVBWdqOc57",
        "colab_type": "code",
        "colab": {
          "base_uri": "https://localhost:8080/",
          "height": 54
        },
        "outputId": "12708f80-d086-4a27-dc71-f96183adb1a7"
      },
      "source": [
        "print(x_train_all[0])"
      ],
      "execution_count": null,
      "outputs": [
        {
          "output_type": "stream",
          "text": [
            "[2, 2, 22, 2, 43, 2, 2, 2, 2, 65, 2, 2, 66, 2, 2, 2, 36, 2, 2, 25, 2, 43, 2, 2, 50, 2, 2, 2, 35, 2, 2, 2, 2, 2, 2, 2, 2, 2, 2, 2, 39, 2, 2, 2, 2, 2, 2, 38, 2, 2, 2, 2, 50, 2, 2, 2, 2, 2, 2, 22, 2, 2, 2, 2, 2, 22, 71, 87, 2, 2, 43, 2, 38, 76, 2, 2, 2, 2, 22, 2, 2, 2, 2, 2, 2, 2, 2, 2, 62, 2, 2, 2, 2, 2, 2, 2, 2, 2, 2, 2, 2, 66, 2, 33, 2, 2, 2, 2, 38, 2, 2, 25, 2, 51, 36, 2, 48, 25, 2, 33, 2, 22, 2, 2, 28, 77, 52, 2, 2, 2, 2, 82, 2, 2, 2, 2, 2, 2, 2, 2, 2, 2, 2, 2, 2, 2, 36, 71, 43, 2, 2, 26, 2, 2, 46, 2, 2, 2, 2, 2, 2, 88, 2, 2, 2, 2, 98, 32, 2, 56, 26, 2, 2, 2, 2, 2, 2, 2, 22, 21, 2, 2, 26, 2, 2, 2, 30, 2, 2, 51, 36, 28, 2, 92, 25, 2, 2, 2, 65, 2, 38, 2, 88, 2, 2, 2, 2, 2, 2, 2, 2, 32, 2, 2, 2, 2, 2, 32]\n"
          ],
          "name": "stdout"
        }
      ]
    },
    {
      "cell_type": "code",
      "metadata": {
        "id": "hSiCem-XO0-T",
        "colab_type": "code",
        "colab": {
          "base_uri": "https://localhost:8080/",
          "height": 54
        },
        "outputId": "57c84f2d-c937-4818-ccd7-d97ae9f21f8b"
      },
      "source": [
        "for i in range(len(x_train_all)):\n",
        "    x_train_all[i] = [w for w in x_train_all[i] if w > 2]\n",
        "\n",
        "print(x_train_all[0])"
      ],
      "execution_count": 19,
      "outputs": [
        {
          "output_type": "stream",
          "text": [
            "[22, 43, 65, 66, 36, 25, 43, 50, 35, 39, 38, 50, 22, 22, 71, 87, 43, 38, 76, 22, 62, 66, 33, 38, 25, 51, 36, 48, 25, 33, 22, 28, 77, 52, 82, 36, 71, 43, 26, 46, 88, 98, 32, 56, 26, 22, 21, 26, 30, 51, 36, 28, 92, 25, 65, 38, 88, 32, 32]\n"
          ],
          "name": "stdout"
        }
      ]
    },
    {
      "cell_type": "code",
      "metadata": {
        "id": "uqwk1xmqPD0q",
        "colab_type": "code",
        "colab": {
          "base_uri": "https://localhost:8080/",
          "height": 34
        },
        "outputId": "ca2ccaae-c3d1-4734-cb5b-fc4fc2015578"
      },
      "source": [
        "word_to_index = imdb.get_word_index()\n",
        "\n",
        "word_to_index['movie']"
      ],
      "execution_count": 20,
      "outputs": [
        {
          "output_type": "execute_result",
          "data": {
            "text/plain": [
              "17"
            ]
          },
          "metadata": {
            "tags": []
          },
          "execution_count": 20
        }
      ]
    },
    {
      "cell_type": "code",
      "metadata": {
        "id": "WuvTVjOjPTJp",
        "colab_type": "code",
        "colab": {
          "base_uri": "https://localhost:8080/",
          "height": 54
        },
        "outputId": "f2613d12-91f0-41cd-ddd9-ebb9dfe384aa"
      },
      "source": [
        "index_to_word = {word_to_index[k]: k for k in word_to_index}\n",
        "\n",
        "for w in x_train_all[0]:\n",
        "    print(index_to_word[w-3], end=' ') # 3 이상 부터 영어단어 이다"
      ],
      "execution_count": 21,
      "outputs": [
        {
          "output_type": "stream",
          "text": [
            "film just story really they you just there an from so there film film were great just so much film would really at so you what they if you at film have been good also they were just are out because them all up are film but are be what they have don't you story so because all all "
          ],
          "name": "stdout"
        }
      ]
    },
    {
      "cell_type": "code",
      "metadata": {
        "id": "FhoQKyBgZdfH",
        "colab_type": "code",
        "colab": {
          "base_uri": "https://localhost:8080/",
          "height": 34
        },
        "outputId": "ca99abe7-dfd6-433f-8add-a9bc9577b05e"
      },
      "source": [
        "print(x_train_all.shape, y_train_all.shape)"
      ],
      "execution_count": null,
      "outputs": [
        {
          "output_type": "stream",
          "text": [
            "(25000,) (25000,)\n"
          ],
          "name": "stdout"
        }
      ]
    },
    {
      "cell_type": "code",
      "metadata": {
        "id": "rBxNeQP6Ziw2",
        "colab_type": "code",
        "colab": {
          "base_uri": "https://localhost:8080/",
          "height": 34
        },
        "outputId": "55c6cc97-c25f-449a-83a4-5bc51bd626c5"
      },
      "source": [
        "print(len(x_train_all[0]), len(x_train_all[1]))"
      ],
      "execution_count": null,
      "outputs": [
        {
          "output_type": "stream",
          "text": [
            "59 32\n"
          ],
          "name": "stdout"
        }
      ]
    },
    {
      "cell_type": "code",
      "metadata": {
        "id": "RgZCt1CLZmhF",
        "colab_type": "code",
        "colab": {
          "base_uri": "https://localhost:8080/",
          "height": 34
        },
        "outputId": "f0bfb876-f136-413a-d013-e6a2ed9f89b8"
      },
      "source": [
        "print(y_train_all[:10])"
      ],
      "execution_count": null,
      "outputs": [
        {
          "output_type": "stream",
          "text": [
            "[1 0 0 1 0 0 1 0 1 0]\n"
          ],
          "name": "stdout"
        }
      ]
    },
    {
      "cell_type": "code",
      "metadata": {
        "id": "oa6JiibEZtz2",
        "colab_type": "code",
        "colab": {}
      },
      "source": [
        "np.random.seed(42)\n",
        "random_index = np.random.permutation(25000)\n",
        "\n",
        "x_train = x_train_all[random_index[:20000]]\n",
        "y_train = y_train_all[random_index[:20000]]\n",
        "x_val = x_train_all[random_index[20000:]]\n",
        "y_val = y_train_all[random_index[20000:]]"
      ],
      "execution_count": 22,
      "outputs": []
    },
    {
      "cell_type": "markdown",
      "metadata": {
        "id": "yNE7pXE9aMoL",
        "colab_type": "text"
      },
      "source": [
        "샘플만다 문장의 길이가 다르므로 최대 100개 단어만 포함되도록 전처리 한다"
      ]
    },
    {
      "cell_type": "code",
      "metadata": {
        "id": "kunOiQpIaF92",
        "colab_type": "code",
        "colab": {}
      },
      "source": [
        "from tensorflow.keras.preprocessing import sequence\n",
        "\n",
        "maxlen=100\n",
        "x_train_seq = sequence.pad_sequences(x_train, maxlen=maxlen)\n",
        "x_val_seq = sequence.pad_sequences(x_val, maxlen=maxlen)"
      ],
      "execution_count": 23,
      "outputs": []
    },
    {
      "cell_type": "code",
      "metadata": {
        "id": "qCYGHWTnaKJ9",
        "colab_type": "code",
        "colab": {
          "base_uri": "https://localhost:8080/",
          "height": 34
        },
        "outputId": "422b9bc1-3768-49f8-e543-9dc43e6a4be5"
      },
      "source": [
        "print(x_train_seq.shape, x_val_seq.shape)"
      ],
      "execution_count": null,
      "outputs": [
        {
          "output_type": "stream",
          "text": [
            "(20000, 100) (5000, 100)\n"
          ],
          "name": "stdout"
        }
      ]
    },
    {
      "cell_type": "code",
      "metadata": {
        "id": "jDuPUbe6k9M9",
        "colab_type": "code",
        "colab": {
          "base_uri": "https://localhost:8080/",
          "height": 34
        },
        "outputId": "94c9abfb-c3ac-4014-bdaa-68e0353001ad"
      },
      "source": [
        ""
      ],
      "execution_count": null,
      "outputs": [
        {
          "output_type": "stream",
          "text": [
            "(100, 20000)\n"
          ],
          "name": "stdout"
        }
      ]
    },
    {
      "cell_type": "markdown",
      "metadata": {
        "id": "1a1jt_Osavs-",
        "colab_type": "text"
      },
      "source": [
        "sequence.pad_sequence 함수는 단어수가 100개가 않될 때, 앞쪽부터 0으로 채워준다. **0번은 무슨 문자를 의미할까?**"
      ]
    },
    {
      "cell_type": "code",
      "metadata": {
        "id": "km0x_9rZatgl",
        "colab_type": "code",
        "colab": {
          "base_uri": "https://localhost:8080/",
          "height": 105
        },
        "outputId": "369174af-0a3a-4dc7-82ce-67b9b52ac979"
      },
      "source": [
        "print(x_train_seq[1])"
      ],
      "execution_count": null,
      "outputs": [
        {
          "output_type": "stream",
          "text": [
            "[ 0  0  0  0  0  0  0  0  0  0  0  0  0  0  0  0  0  0  0  0  0  0  0  0\n",
            "  0  0  0  0  0  0  0  0  0  0  0 54 39 27 35 35 56 27 29 80 27 27 46 23\n",
            " 35 64 86 65 35 22 63 73 29 22 82 34 50 26 21 47 30 97 83 76 69 86 31 61\n",
            " 49 99 85 85 26 73 81 87 53 26 53 74 26 53 62 28 21 50 44 93 22 39 34 21\n",
            " 45 87 20 32]\n"
          ],
          "name": "stdout"
        }
      ]
    },
    {
      "cell_type": "code",
      "metadata": {
        "id": "q7n6cKsgoXBu",
        "colab_type": "code",
        "colab": {}
      },
      "source": [
        "from tensorflow.keras.utils import to_categorical\n",
        "\n",
        "x_train_onehot = to_categorical(x_train_seq)\n",
        "x_val_onehot = to_categorical(x_val_seq)"
      ],
      "execution_count": 24,
      "outputs": []
    },
    {
      "cell_type": "markdown",
      "metadata": {
        "id": "ZkDzKxtZOv1d",
        "colab_type": "text"
      },
      "source": [
        "하나의 샘플은 최대길이가 100 단어이고, 이를 onehot으로 바꾸면 (20000,100) 메트릭스 구조는 (20000, 100, 100)로 전환되고 마지막 100은 0 또는 1로만 구성되고 두번째 100은 마지막 100개의 0,1로 구성된 리스트가 100개 모여있는 구조이다.  "
      ]
    },
    {
      "cell_type": "markdown",
      "metadata": {
        "id": "zWMxb7g7OkqH",
        "colab_type": "text"
      },
      "source": [
        "순환신경망에서는 타임스텝으로 전체 샘플이 하나의 타임스템 set를 구성해서 동시에 순환층의 셀로 입력된다. 이를 위해서 입력데이터의 변경이 필요하고 numpy에서는 np.swapaxes(x, 0, 1)을 사용한다. 이렇게 하면 0,1이 100개로 구성된 20000개의 샘플이 만들어 지고 (20000,100) 이후 100개의 타입스텝을 구성하는 매트릭스가 만들어 진다. (100,(20000,100)) --> (100, 20000, 100)\n",
        " "
      ]
    },
    {
      "cell_type": "code",
      "metadata": {
        "id": "kYSSv2xEqpPO",
        "colab_type": "code",
        "colab": {
          "base_uri": "https://localhost:8080/",
          "height": 122
        },
        "outputId": "80db61b7-3451-4cae-d39c-c577787d43f6"
      },
      "source": [
        "x_train_onehot_seq_test = np.swapaxes(x_train_onehot, 0, 1)\n",
        "print(x_train_onehot_seq_test.shape)\n",
        "print(x_train_onehot_seq_test[0][1999]) # 1999번째 샘플의 0번 타입스텝 자료 이다."
      ],
      "execution_count": null,
      "outputs": [
        {
          "output_type": "stream",
          "text": [
            "(100, 20000, 100)\n",
            "[0. 0. 0. 0. 0. 0. 0. 0. 0. 0. 0. 0. 0. 0. 0. 0. 0. 0. 0. 0. 0. 0. 0. 0.\n",
            " 0. 0. 0. 0. 0. 0. 0. 0. 0. 0. 0. 0. 0. 0. 0. 0. 0. 0. 0. 0. 0. 0. 0. 0.\n",
            " 0. 0. 0. 0. 0. 0. 0. 0. 0. 0. 0. 0. 0. 0. 0. 0. 0. 0. 0. 0. 0. 0. 0. 0.\n",
            " 0. 0. 0. 0. 0. 0. 0. 0. 0. 0. 0. 0. 0. 0. 0. 0. 1. 0. 0. 0. 0. 0. 0. 0.\n",
            " 0. 0. 0. 0.]\n"
          ],
          "name": "stdout"
        }
      ]
    },
    {
      "cell_type": "markdown",
      "metadata": {
        "id": "eSKgQxt3NvMu",
        "colab_type": "text"
      },
      "source": [
        "**tf.transpose(x, [1,0,2])와 np.swapaxes(x, 0,1)은 같은 기능을 한다**\n",
        "아래 데이터를 보면 1999번째 샘플의 첫번째 단어가 윗 칸의 결과와 동일하다는 것을 알수 있다"
      ]
    },
    {
      "cell_type": "code",
      "metadata": {
        "id": "idpBa7GCNtlo",
        "colab_type": "code",
        "colab": {
          "base_uri": "https://localhost:8080/",
          "height": 140
        },
        "outputId": "74b12815-39ab-4698-ec65-35b9cdefb1de"
      },
      "source": [
        "x_train_onehot_seq_transpose = tf.transpose(x_train_onehot, [1, 0, 2])\n",
        "print(x_train_onehot_seq_transpose.shape)\n",
        "print(x_train_onehot_seq_transpose[0][1999])"
      ],
      "execution_count": null,
      "outputs": [
        {
          "output_type": "stream",
          "text": [
            "(100, 20000, 100)\n",
            "tf.Tensor(\n",
            "[0. 0. 0. 0. 0. 0. 0. 0. 0. 0. 0. 0. 0. 0. 0. 0. 0. 0. 0. 0. 0. 0. 0. 0.\n",
            " 0. 0. 0. 0. 0. 0. 0. 0. 0. 0. 0. 0. 0. 0. 0. 0. 0. 0. 0. 0. 0. 0. 0. 0.\n",
            " 0. 0. 0. 0. 0. 0. 0. 0. 0. 0. 0. 0. 0. 0. 0. 0. 0. 0. 0. 0. 0. 0. 0. 0.\n",
            " 0. 0. 0. 0. 0. 0. 0. 0. 0. 0. 0. 0. 0. 0. 0. 0. 1. 0. 0. 0. 0. 0. 0. 0.\n",
            " 0. 0. 0. 0.], shape=(100,), dtype=float32)\n"
          ],
          "name": "stdout"
        }
      ]
    },
    {
      "cell_type": "code",
      "metadata": {
        "id": "7b7AUS5saTIF",
        "colab_type": "code",
        "colab": {
          "base_uri": "https://localhost:8080/",
          "height": 122
        },
        "outputId": "c78f1ebb-6cc1-42cc-b1d0-cad8abd3d391"
      },
      "source": [
        "h_test = None\n",
        "h_test = [tf.Variable(np.zeros((3,4)))]\n",
        "print(h_test)\n",
        "h_test.append([9,10])\n",
        "print(h_test[-1])\n",
        "h_test.append([11,20])\n",
        "print(h_test[-1])"
      ],
      "execution_count": null,
      "outputs": [
        {
          "output_type": "stream",
          "text": [
            "[<tf.Variable 'Variable:0' shape=(3, 4) dtype=float64, numpy=\n",
            "array([[0., 0., 0., 0.],\n",
            "       [0., 0., 0., 0.],\n",
            "       [0., 0., 0., 0.]])>]\n",
            "[9, 10]\n",
            "[11, 20]\n"
          ],
          "name": "stdout"
        }
      ]
    },
    {
      "cell_type": "code",
      "metadata": {
        "id": "Ouc7f7mR3YxI",
        "colab_type": "code",
        "colab": {
          "base_uri": "https://localhost:8080/",
          "height": 34
        },
        "outputId": "673b74f5-4adf-4c19-987d-f8f412c8d780"
      },
      "source": [
        "y_train1 = y_train.reshape(-1,1)\n",
        "print(y_train1.shape[1])"
      ],
      "execution_count": null,
      "outputs": [
        {
          "output_type": "stream",
          "text": [
            "1\n"
          ],
          "name": "stdout"
        }
      ]
    },
    {
      "cell_type": "markdown",
      "metadata": {
        "id": "uR_Ld9qxzjhd",
        "colab_type": "text"
      },
      "source": [
        "**아래는 저수준의 API를 이용하여 RNN을 수행하기 위한 핵심부분이다.**"
      ]
    },
    {
      "cell_type": "code",
      "metadata": {
        "id": "dYnFbxbv25PF",
        "colab_type": "code",
        "colab": {
          "base_uri": "https://localhost:8080/",
          "height": 897
        },
        "outputId": "f561e70d-65d6-4e0e-f6f3-64ffd5229a4a"
      },
      "source": [
        "def gen_batch1(x, y, batch_size = 32):\n",
        "    length = len(x)\n",
        "    bins = length // batch_size # 미니배치 횟수\n",
        "    if length % batch_size:\n",
        "      bins += 1                    # 나누어 떨어지지 않을 때\n",
        "    indexes = np.random.permutation(np.arange(len(x))) # 인덱스를 섞습니다.\n",
        "    x = x[indexes]\n",
        "    y = y[indexes]\n",
        "    for i in range(bins):\n",
        "      start = batch_size * i\n",
        "      end = batch_size * (i + 1)\n",
        "      yield x[start:end], y[start:end]   # batch_size만큼 슬라이싱하여 반환합니다.\n",
        "\n",
        "orth = tf.initializers.Orthogonal()\n",
        "g = tf.initializers.GlorotUniform()\n",
        "\n",
        "n_cells = 10\n",
        "n_classes = 1\n",
        "n_features = 100\n",
        "\n",
        "w1h = tf.Variable(orth((n_cells, n_cells))) # (셀 개수, 셀 개수)\n",
        "w1x = tf.Variable(g((n_features, n_cells))) # (특성 개수, 셀 개수)\n",
        "b1 = tf.Variable(np.zeros(n_cells), dtype=float)                # 은닉층의 크기\n",
        "w2 = tf.Variable(g((n_cells, n_classes)))   # (셀 개수, 클래스 개수), 클래스는 최종 출력층의 클래스를 의미한다. 1,0으로 구분되면 1이다.\n",
        "b2 = tf.Variable(np.zeros(n_classes), dtype=float)\n",
        "\n",
        "\n",
        "for x_batch, y_batch in gen_batch1(x_train_onehot, y_train):\n",
        "  seq = tf.transpose(x_batch, [1, 0, 2])\n",
        "  h = [tf.zeros((32, n_cells))] ## np.zeros와 tf.zeros는 동일한 역할을 한다. 순환층의 순환 입력인 h.shape는 (샘플수, 셀수)이며 여기서 샘플은 배치로 들어오는 샘플 수 이다. \n",
        "  # h[-1].shape는 (32,10)이다.\n",
        "  # seq.shape는 (타입스텝수, 배치샘플수, 피처의 수)이고 이를 for문으로 돌리면 모든 배치의 피처로 구성된 매트릭스를 모든 타입스템이 종료될때 까지 종료한다.\n",
        "  # 요약하면 아래는 100번의 타입스템을 반복하는 form 문이다. \n",
        "  for x in seq: # x.shape=(32,100), tf.matmul(x, w1x)의 shape는 (32,10) 즉 (배치의 샘플 수, 셀수)\n",
        "    z1 = tf.matmul(x, w1x) + tf.matmul(h[-1], w1h) + b1\n",
        "    h1 = tf.math.tanh(z1)\n",
        "    h.append(h1)\n",
        "    z2 = tf.matmul(h, w2) + b2\n",
        "  print(z2)\n",
        "  break\n",
        "\n",
        "\n"
      ],
      "execution_count": null,
      "outputs": [
        {
          "output_type": "stream",
          "text": [
            "tf.Tensor(\n",
            "[[[ 0.        ]\n",
            "  [ 0.        ]\n",
            "  [ 0.        ]\n",
            "  ...\n",
            "  [ 0.        ]\n",
            "  [ 0.        ]\n",
            "  [ 0.        ]]\n",
            "\n",
            " [[-0.1134952 ]\n",
            "  [-0.1134952 ]\n",
            "  [-0.1134952 ]\n",
            "  ...\n",
            "  [ 0.10696866]\n",
            "  [-0.1134952 ]\n",
            "  [-0.1134952 ]]\n",
            "\n",
            " [[-0.37890983]\n",
            "  [-0.37890983]\n",
            "  [-0.37890983]\n",
            "  ...\n",
            "  [-0.19381759]\n",
            "  [-0.37890983]\n",
            "  [-0.37890983]]\n",
            "\n",
            " ...\n",
            "\n",
            " [[ 0.20559448]\n",
            "  [-0.80267304]\n",
            "  [-0.83811986]\n",
            "  ...\n",
            "  [ 0.48204535]\n",
            "  [ 0.20198806]\n",
            "  [-0.23623969]]\n",
            "\n",
            " [[ 0.2635964 ]\n",
            "  [-0.96342784]\n",
            "  [-0.77399445]\n",
            "  ...\n",
            "  [-0.19330658]\n",
            "  [ 0.39716306]\n",
            "  [ 0.08583396]]\n",
            "\n",
            " [[ 0.05638719]\n",
            "  [-0.21821207]\n",
            "  [ 0.38992298]\n",
            "  ...\n",
            "  [-0.7803012 ]\n",
            "  [-0.01133937]\n",
            "  [-0.09685934]]], shape=(101, 32, 1), dtype=float32)\n"
          ],
          "name": "stdout"
        }
      ]
    },
    {
      "cell_type": "code",
      "metadata": {
        "id": "mlZH0aapoknU",
        "colab_type": "code",
        "colab": {}
      },
      "source": [
        "import tensorflow as tf"
      ],
      "execution_count": null,
      "outputs": []
    },
    {
      "cell_type": "code",
      "metadata": {
        "id": "K_75qG6yovfs",
        "colab_type": "code",
        "colab": {}
      },
      "source": [
        "class RecurrentNetwork():\n",
        "    \n",
        "    def __init__(self, n_cells=10, batch_size=32, learning_rate=0.1):\n",
        "        self.n_cells = n_cells     # 셀 개수\n",
        "        self.batch_size = batch_size     # 배치 크기\n",
        "        self.w1h = None            # 은닉 상태에 대한 가중치\n",
        "        self.w1x = None            # 입력에 대한 가중치\n",
        "        self.b1 = None             # 순환층의 절편\n",
        "        self.w2 = None             # 출력층의 가중치\n",
        "        self.b2 = None             # 출력층의 절편\n",
        "        self.h = None              # 순환층의 활성화 출력\n",
        "        self.losses = []           # 훈련 손실\n",
        "        self.val_losses = []       # 검증 손실\n",
        "        self.lr = learning_rate    # 학습률\n",
        "\n",
        "    def forpass(self, x):\n",
        "        self.h = [tf.zeros((x.shape[0], self.n_cells))]   # 은닉 상태를 초기화합니다. 여기가 중요하다\n",
        "        \n",
        "        # self.h = [np.zeros((x.shape[0], self.n_cells))]   # 은닉 상태를 초기화합니다.\n",
        "        # h값은 순환층의 하나의 셀의 출렬값이다. h의 shape는 (샘플수, 셀수)로 초기화 된다.\n",
        "        # 왜냐하면 타입스텝별로 전체의 샘플이 은닉층의 셀로 입력되기 때문이다. 메트릭스의 표현으로는 (100, 20000) * (20000, 셀수)\n",
        "        # 배치 차원과 타임 스텝 차원을 바꿉니다.\n",
        "        seq = tf.transpose(x, [1, 0, 2])\n",
        "        # seq = np.swapaxes(x, 0, 1)\n",
        "        # 순환 층의 선형 식을 계산합니다. \n",
        "        # seq.shape = (100, batch_size, 100) 형식이다. 즉 전체 샘플 중에서 batch로 선택된 데이터를 (타입스텝, 배치, 피쳐)로 뽑은 것이고, x는 타입스텝을 제외한(배치, 피처)이다.\n",
        "        # 즉 선택된 배치의 (배치, 피쳐)를 모든 타입스템에 걸처서 for문을 돌리는 구조이다\n",
        "        # 첫번째 타입스텝 input은 h로 기록되고 다음 타입스텝에 입력으로 다시 들어간다.\n",
        "        # 최종적으로 마지막 타입스텝까지 처리된 후 한개의 출력증으로 들어간다. 즉 여러개의 타입스텝 자료가 순환층을 거쳐서 한개의 출력층으로 들어가는 다대일 구조이다.\n",
        "        for x in seq:                       \n",
        "            z1 = tf.matmul(x, self.w1x) + tf.matmul(self.h[-1], self.w1h) + self.b1\n",
        "            h = tf.math.tanh(z1)                    # 활성화 함수를 적용합니다.\n",
        "            self.h.append(h)                   # 역전파를 위해 은닉 상태 저장합니다.\n",
        "            z2 = tf.matmul(h, self.w2) + self.b2  # 출력층의 선형 식을 계산합니다.\n",
        "        return z2\n",
        "\n",
        "\n",
        "    \n",
        "    def sigmoid(self, z):\n",
        "        #z = np.clip(z, -100, None)            # 안전한 np.exp() 계산을 위해\n",
        "        a = 1 / (1 + tf.math.exp(-z))              # 시그모이드 계산\n",
        "        return a\n",
        "    \n",
        "    def init_weights(self, n_features, n_classes):\n",
        "        orth_init = tf.initializers.Orthogonal()\n",
        "        glorot_init = tf.initializers.GlorotUniform()\n",
        "\n",
        "        self.w1h = tf.Variable(orth_init((self.n_cells, self.n_cells))) # (셀 개수, 셀 개수)\n",
        "        self.w1x = tf.Variable(glorot_init((n_features, self.n_cells))) # (특성 개수, 셀 개수)\n",
        "        self.b1 = tf.Variable(np.zeros(self.n_cells), dtype=float)                # 은닉층의 크기\n",
        "        self.w2 = tf.Variable(glorot_init((self.n_cells, n_classes)))   # (셀 개수, 클래스 개수)\n",
        "        self.b2 = tf.Variable(np.zeros(n_classes), dtype=float)\n",
        "        \n",
        "        \n",
        "        \n",
        "    def fit(self, x, y, epochs=100, x_val=None, y_val=None):\n",
        "        y = y.reshape(-1, 1)\n",
        "        y_val = y_val.reshape(-1, 1)\n",
        "        np.random.seed(42)\n",
        "        self.init_weights(x.shape[2], y.shape[1])    # 은닉층과 출력층의 가중치를 초기화합니다.\n",
        "        self.optimizer = tf.keras.optimizers.Adam(learning_rate=0.001)\n",
        "        # epochs만큼 반복합니다.\n",
        "        for i in range(epochs):\n",
        "            print('에포크', i, end=' ')\n",
        "            # 제너레이터 함수에서 반환한 미니배치를 순환합니다.\n",
        "            batch_losses = []\n",
        "            for x_batch, y_batch in self.gen_batch(x, y):\n",
        "                print('.', end='')  # 반복 횟수만큼 점을 찍는다.\n",
        "                self.training(x_batch, y_batch)\n",
        "                # 배치 손실을 기록합니다.\n",
        "                batch_losses.append(self.get_loss(x_batch, y_batch))\n",
        "            print()\n",
        "            self.losses.append(np.mean(batch_losses))\n",
        "            # 검증 세트에 대한 손실을 계산합니다.\n",
        "            self.update_val_loss(x_val, y_val)\n",
        "\n",
        "\n",
        "    def get_loss(self, x, y):\n",
        "        z = self.forpass(x) \n",
        "        a = self.sigmoid(z)                 # 정방향 계산을 수행합니다.\n",
        "        # 손실을 계산하여 저장합니다.\n",
        "        loss = tf.reduce_sum(-(y*tf.math.log(a) + (1-y)*tf.math.log(1-a)))\n",
        "        return loss.numpy()\n",
        "\n",
        "\n",
        "    # 미니배치 제너레이터 함수\n",
        "    def gen_batch(self, x, y):\n",
        "        length = len(x)\n",
        "        bins = length // self.batch_size # 미니배치 횟수\n",
        "        if length % self.batch_size:\n",
        "            bins += 1                    # 나누어 떨어지지 않을 때\n",
        "        indexes = np.random.permutation(np.arange(len(x))) # 인덱스를 섞습니다.\n",
        "        x = x[indexes]\n",
        "        y = y[indexes]\n",
        "        for i in range(bins):\n",
        "            start = self.batch_size * i\n",
        "            end = self.batch_size * (i + 1)\n",
        "            yield x[start:end], y[start:end]   # batch_size만큼 슬라이싱하여 반환합니다.\n",
        "            \n",
        " \n",
        "    def training(self, x, y):\n",
        "       m = len(x) # 샘플 개수를 저장합니다.\n",
        "       with tf.GradientTape() as tape:\n",
        "         z = self.forpass(x)       # 정방향 계산을 수행합니다.\n",
        "         a = self.sigmoid(z)       # 활성화 함수를 적용합니다.\n",
        "            # 손실을 계산합니다.\n",
        "         loss = tf.reduce_sum(-(y*tf.math.log(a) + (1-y)*tf.math.log(1-a)))\n",
        "\n",
        "       weights_list = [self.w1h, self.w1x, self.b1, self.w2, self.b2]\n",
        "        # 가중치에 대한 그래디언트를 계산합니다. loss를 특정 weights_list에서 미분한 미분값을 grads로 저정한다.\n",
        "       grads = tape.gradient(loss, weights_list)\n",
        "        # 가중치를 업데이트합니다.\n",
        "       self.optimizer.apply_gradients(zip(grads, weights_list))\n",
        "       \n",
        " \n",
        "\n",
        "   \n",
        "    def predict(self, x):\n",
        "        z = self.forpass(x)          # 정방향 계산을 수행합니다.\n",
        "        return z > 0                 # 스텝 함수를 적용합니다.\n",
        "    \n",
        "    def score(self, x, y):\n",
        "        # 예측과 타깃 열 벡터를 비교하여 True의 비율을 반환합니다.\n",
        "        return np.mean(self.predict(x) == y.reshape(-1, 1))\n",
        "\n",
        "    def update_val_loss(self, x_val, y_val):\n",
        "        z = self.forpass(x_val)            # 정방향 계산을 수행합니다.\n",
        "        a = self.sigmoid(z)                # 활성화 함수를 적용합니다.\n",
        "        #a = np.clip(a, 1e-10, 1-1e-10)     # 출력 값을 클리핑합니다.\n",
        "        val_loss = tf.reduce_mean(-(y_val*tf.math.log(a) + (1-y_val)*tf.math.log(1-a)))\n",
        "        self.val_losses.append(val_loss)"
      ],
      "execution_count": 9,
      "outputs": []
    },
    {
      "cell_type": "code",
      "metadata": {
        "id": "gxpS5Oqw-bJq",
        "colab_type": "code",
        "colab": {}
      },
      "source": [
        ""
      ],
      "execution_count": null,
      "outputs": []
    },
    {
      "cell_type": "code",
      "metadata": {
        "id": "qfB8OSpAo27U",
        "colab_type": "code",
        "colab": {
          "base_uri": "https://localhost:8080/",
          "height": 213
        },
        "outputId": "c69b757c-b803-4c25-87e7-883677b6674c"
      },
      "source": [
        "rn = RecurrentNetwork(n_cells=32, batch_size=32, learning_rate=0.01)\n",
        "\n",
        "rn.fit(x_train_onehot, y_train, epochs=10, x_val=x_val_onehot, y_val=y_val)"
      ],
      "execution_count": 10,
      "outputs": [
        {
          "output_type": "stream",
          "text": [
            "에포크 0 .................................................................................................................................................................................................................................................................................................................................................................................................................................................................................................................................................................................................................................................\n",
            "에포크 1 .................................................................................................................................................................................................................................................................................................................................................................................................................................................................................................................................................................................................................................................\n",
            "에포크 2 .................................................................................................................................................................................................................................................................................................................................................................................................................................................................................................................................................................................................................................................\n",
            "에포크 3 .................................................................................................................................................................................................................................................................................................................................................................................................................................................................................................................................................................................................................................................\n",
            "에포크 4 .................................................................................................................................................................................................................................................................................................................................................................................................................................................................................................................................................................................................................................................\n",
            "에포크 5 .................................................................................................................................................................................................................................................................................................................................................................................................................................................................................................................................................................................................................................................\n",
            "에포크 6 .................................................................................................................................................................................................................................................................................................................................................................................................................................................................................................................................................................................................................................................\n",
            "에포크 7 .................................................................................................................................................................................................................................................................................................................................................................................................................................................................................................................................................................................................................................................\n",
            "에포크 8 .................................................................................................................................................................................................................................................................................................................................................................................................................................................................................................................................................................................................................................................\n",
            "에포크 9 .................................................................................................................................................................................................................................................................................................................................................................................................................................................................................................................................................................................................................................................\n"
          ],
          "name": "stdout"
        }
      ]
    },
    {
      "cell_type": "code",
      "metadata": {
        "id": "xJRAy8aYpXZE",
        "colab_type": "code",
        "colab": {}
      },
      "source": [
        "import matplotlib.pyplot as plt"
      ],
      "execution_count": 11,
      "outputs": []
    },
    {
      "cell_type": "code",
      "metadata": {
        "id": "BQvL8tUopbzs",
        "colab_type": "code",
        "colab": {
          "base_uri": "https://localhost:8080/",
          "height": 265
        },
        "outputId": "71e65708-62cb-4f8c-f4e9-2b78ee7c91c3"
      },
      "source": [
        "plt.plot(rn.losses)\n",
        "plt.plot(rn.val_losses)\n",
        "plt.show()"
      ],
      "execution_count": 12,
      "outputs": [
        {
          "output_type": "display_data",
          "data": {
            "image/png": "[encoded data removed]",
            "text/plain": [
              "<Figure size 432x288 with 1 Axes>"
            ]
          },
          "metadata": {
            "tags": [],
            "needs_background": "light"
          }
        }
      ]
    },
    {
      "cell_type": "code",
      "metadata": {
        "id": "HJDygbEfpfMG",
        "colab_type": "code",
        "colab": {
          "base_uri": "https://localhost:8080/",
          "height": 34
        },
        "outputId": "fd9a4cc7-8cc3-4f10-b0d2-7a80dc78fd87"
      },
      "source": [
        "rn.score(x_val_onehot, y_val)"
      ],
      "execution_count": 13,
      "outputs": [
        {
          "output_type": "execute_result",
          "data": {
            "text/plain": [
              "0.7024"
            ]
          },
          "metadata": {
            "tags": []
          },
          "execution_count": 13
        }
      ]
    },
    {
      "cell_type": "code",
      "metadata": {
        "id": "qxozg8X7p1tV",
        "colab_type": "code",
        "colab": {}
      },
      "source": [
        ""
      ],
      "execution_count": null,
      "outputs": []
    },
    {
      "cell_type": "code",
      "metadata": {
        "id": "OBjsPi6tp1xP",
        "colab_type": "code",
        "colab": {}
      },
      "source": [
        ""
      ],
      "execution_count": null,
      "outputs": []
    },
    {
      "cell_type": "markdown",
      "metadata": {
        "id": "r1tPRllMp2QN",
        "colab_type": "text"
      },
      "source": [
        "**Sequential model로 RNN을 구현**"
      ]
    },
    {
      "cell_type": "code",
      "metadata": {
        "id": "0Q3LZKffp757",
        "colab_type": "code",
        "colab": {}
      },
      "source": [
        "from tensorflow.keras.models import Sequential\n",
        "from tensorflow.keras.layers import Dense, SimpleRNN"
      ],
      "execution_count": 15,
      "outputs": []
    },
    {
      "cell_type": "markdown",
      "metadata": {
        "id": "tFBMDDgF9ppm",
        "colab_type": "text"
      },
      "source": [
        "아래는 32개 셀로 구성되고 100개로 원핫코딩된 자료를 다룬다.\n",
        "\n",
        "순환망의 투입되는 x는 (타입탭수, 배치샘플 수, 특성개수)이며 타입스텝수 만큼 반복되어 w1x와 matmul을 반복하여 h을 산출한다. 그러나 SimpleRNN에서는 당초 원핫코딩 자료로 투입된다. 따라서 (샘플수, 각 샘플의 최대 단어수, 각 샘플의 최대 단어수)이다.\n",
        "w1x는 (특성 개수, 셀 개수) = (100, 32) = 3200\n",
        "b1은 셀수 = 32 \n",
        "w1h는 (셀개수, 셀 개수) = (32, 32) = 1024\n",
        "w2는 (셀개수, 클래스수=1) = (32, 1)\n",
        "b2는 클래스 수 = 1\n",
        "\n",
        "순환층의 총 파라미터는 = 3200 + 32 + 1024 = 4256\n",
        "덴스층은 32 + 1 = 33"
      ]
    },
    {
      "cell_type": "code",
      "metadata": {
        "id": "DFnRUwGxp_0j",
        "colab_type": "code",
        "colab": {
          "base_uri": "https://localhost:8080/",
          "height": 228
        },
        "outputId": "0d366e4e-dbe3-4cff-d56d-0e9599a769a9"
      },
      "source": [
        "model = Sequential()\n",
        "\n",
        "model.add(SimpleRNN(32, input_shape=(100, 100))) # 맨앞의 32는 셀의 개수이다. 타입스템의 크기가 100, one_hotcoding의 크기(피처의 크기)가 100이다.\n",
        "model.add(Dense(1, activation='sigmoid'))\n",
        "\n",
        "model.summary()"
      ],
      "execution_count": 16,
      "outputs": [
        {
          "output_type": "stream",
          "text": [
            "Model: \"sequential\"\n",
            "_________________________________________________________________\n",
            "Layer (type)                 Output Shape              Param #   \n",
            "=================================================================\n",
            "simple_rnn (SimpleRNN)       (None, 32)                4256      \n",
            "_________________________________________________________________\n",
            "dense (Dense)                (None, 1)                 33        \n",
            "=================================================================\n",
            "Total params: 4,289\n",
            "Trainable params: 4,289\n",
            "Non-trainable params: 0\n",
            "_________________________________________________________________\n"
          ],
          "name": "stdout"
        }
      ]
    },
    {
      "cell_type": "code",
      "metadata": {
        "id": "W1M-QnFOqFtZ",
        "colab_type": "code",
        "colab": {
          "base_uri": "https://localhost:8080/",
          "height": 721
        },
        "outputId": "3e5860af-58a2-42bd-99fe-3a307d951092"
      },
      "source": [
        "model.compile(optimizer='sgd', loss='binary_crossentropy', metrics=['accuracy'])\n",
        "\n",
        "history = model.fit(x_train_onehot, y_train, epochs=20, batch_size=32, \n",
        "                    validation_data=(x_val_onehot, y_val))"
      ],
      "execution_count": 25,
      "outputs": [
        {
          "output_type": "stream",
          "text": [
            "Epoch 1/20\n",
            "625/625 [==============================] - 11s 17ms/step - loss: 0.7010 - accuracy: 0.5210 - val_loss: 0.6940 - val_accuracy: 0.5344\n",
            "Epoch 2/20\n",
            "625/625 [==============================] - 11s 18ms/step - loss: 0.6770 - accuracy: 0.5758 - val_loss: 0.6908 - val_accuracy: 0.5626\n",
            "Epoch 3/20\n",
            "625/625 [==============================] - 11s 17ms/step - loss: 0.6525 - accuracy: 0.6226 - val_loss: 0.6242 - val_accuracy: 0.6622\n",
            "Epoch 4/20\n",
            "625/625 [==============================] - 11s 17ms/step - loss: 0.6310 - accuracy: 0.6464 - val_loss: 0.6020 - val_accuracy: 0.6872\n",
            "Epoch 5/20\n",
            "625/625 [==============================] - 11s 17ms/step - loss: 0.6153 - accuracy: 0.6679 - val_loss: 0.6727 - val_accuracy: 0.6270\n",
            "Epoch 6/20\n",
            "625/625 [==============================] - 11s 17ms/step - loss: 0.6055 - accuracy: 0.6795 - val_loss: 0.6036 - val_accuracy: 0.6822\n",
            "Epoch 7/20\n",
            "625/625 [==============================] - 11s 17ms/step - loss: 0.5963 - accuracy: 0.6834 - val_loss: 0.6070 - val_accuracy: 0.6770\n",
            "Epoch 8/20\n",
            "625/625 [==============================] - 11s 17ms/step - loss: 0.5874 - accuracy: 0.6923 - val_loss: 0.5932 - val_accuracy: 0.6890\n",
            "Epoch 9/20\n",
            "625/625 [==============================] - 11s 17ms/step - loss: 0.5863 - accuracy: 0.6884 - val_loss: 0.6032 - val_accuracy: 0.6786\n",
            "Epoch 10/20\n",
            "625/625 [==============================] - 11s 17ms/step - loss: 0.5830 - accuracy: 0.6939 - val_loss: 0.5840 - val_accuracy: 0.6920\n",
            "Epoch 11/20\n",
            "625/625 [==============================] - 11s 18ms/step - loss: 0.5779 - accuracy: 0.6993 - val_loss: 0.5802 - val_accuracy: 0.6992\n",
            "Epoch 12/20\n",
            "625/625 [==============================] - 11s 17ms/step - loss: 0.5754 - accuracy: 0.7030 - val_loss: 0.6228 - val_accuracy: 0.6642\n",
            "Epoch 13/20\n",
            "625/625 [==============================] - 11s 17ms/step - loss: 0.5741 - accuracy: 0.7043 - val_loss: 0.5796 - val_accuracy: 0.6936\n",
            "Epoch 14/20\n",
            "625/625 [==============================] - 11s 17ms/step - loss: 0.5729 - accuracy: 0.7019 - val_loss: 0.5758 - val_accuracy: 0.6990\n",
            "Epoch 15/20\n",
            "625/625 [==============================] - 11s 17ms/step - loss: 0.5695 - accuracy: 0.7062 - val_loss: 0.5766 - val_accuracy: 0.7002\n",
            "Epoch 16/20\n",
            "625/625 [==============================] - 11s 18ms/step - loss: 0.5684 - accuracy: 0.7099 - val_loss: 0.5726 - val_accuracy: 0.7016\n",
            "Epoch 17/20\n",
            "625/625 [==============================] - 11s 17ms/step - loss: 0.5678 - accuracy: 0.7100 - val_loss: 0.5817 - val_accuracy: 0.6906\n",
            "Epoch 18/20\n",
            "625/625 [==============================] - 11s 17ms/step - loss: 0.5658 - accuracy: 0.7090 - val_loss: 0.5779 - val_accuracy: 0.6952\n",
            "Epoch 19/20\n",
            "625/625 [==============================] - 11s 18ms/step - loss: 0.5645 - accuracy: 0.7125 - val_loss: 0.5683 - val_accuracy: 0.7030\n",
            "Epoch 20/20\n",
            "625/625 [==============================] - 11s 17ms/step - loss: 0.5629 - accuracy: 0.7097 - val_loss: 0.7039 - val_accuracy: 0.6530\n"
          ],
          "name": "stdout"
        }
      ]
    },
    {
      "cell_type": "code",
      "metadata": {
        "id": "Xelyd7QG6TS4",
        "colab_type": "code",
        "colab": {
          "base_uri": "https://localhost:8080/",
          "height": 265
        },
        "outputId": "fdb2da14-4f87-4b33-d198-84173222e7e2"
      },
      "source": [
        "plt.plot(history.history['loss'])\n",
        "plt.plot(history.history['val_loss'])\n",
        "plt.show()"
      ],
      "execution_count": 26,
      "outputs": [
        {
          "output_type": "display_data",
          "data": {
            "image/png": "[encoded data removed]",
            "text/plain": [
              "<Figure size 432x288 with 1 Axes>"
            ]
          },
          "metadata": {
            "tags": [],
            "needs_background": "light"
          }
        }
      ]
    },
    {
      "cell_type": "code",
      "metadata": {
        "id": "H646MxXh6XyW",
        "colab_type": "code",
        "colab": {
          "base_uri": "https://localhost:8080/",
          "height": 265
        },
        "outputId": "a49ec6ec-7de5-4f0a-b591-347e4b2e1989"
      },
      "source": [
        "plt.plot(history.history['accuracy'])\n",
        "plt.plot(history.history['val_accuracy'])\n",
        "plt.show()"
      ],
      "execution_count": 27,
      "outputs": [
        {
          "output_type": "display_data",
          "data": {
            "image/png": "[encoded data removed]",
            "text/plain": [
              "<Figure size 432x288 with 1 Axes>"
            ]
          },
          "metadata": {
            "tags": [],
            "needs_background": "light"
          }
        }
      ]
    },
    {
      "cell_type": "code",
      "metadata": {
        "id": "4V9wFsGC6bhg",
        "colab_type": "code",
        "colab": {
          "base_uri": "https://localhost:8080/",
          "height": 34
        },
        "outputId": "76f22af9-b35e-4f34-a567-277dbc915747"
      },
      "source": [
        "loss, accuracy = model.evaluate(x_val_onehot, y_val, verbose=0)\n",
        "print(accuracy)"
      ],
      "execution_count": 28,
      "outputs": [
        {
          "output_type": "stream",
          "text": [
            "0.652999997138977\n"
          ],
          "name": "stdout"
        }
      ]
    }
  ]
}