{
  "nbformat": 4,
  "nbformat_minor": 0,
  "metadata": {
    "colab": {
      "name": "주가예측 LSTM",
      "provenance": [],
      "collapsed_sections": [],
      "authorship_tag": "ABX9TyPVSDvi3ZXzhq4e5fIhtXuQ",
      "include_colab_link": true
    },
    "kernelspec": {
      "name": "python3",
      "display_name": "Python 3"
    }
  },
  "cells": [
    {
      "cell_type": "markdown",
      "metadata": {
        "id": "view-in-github",
        "colab_type": "text"
      },
      "source": [
        "<a href=\"https://colab.research.google.com/github/sjbaek12/sjbaek12.github.io/blob/master/%EC%A3%BC%EA%B0%80%EC%98%88%EC%B8%A1_LSTM.ipynb\" target=\"_parent\"><img src=\"https://colab.research.google.com/assets/colab-badge.svg\" alt=\"Open In Colab\"/></a>"
      ]
    },
    {
      "cell_type": "code",
      "metadata": {
        "id": "MJo32gMONKAw",
        "colab_type": "code",
        "colab": {}
      },
      "source": [
        "import pandas as pd"
      ],
      "execution_count": 28,
      "outputs": []
    },
    {
      "cell_type": "code",
      "metadata": {
        "id": "o6fpOuPlXIHU",
        "colab_type": "code",
        "colab": {
          "resources": {
            "http://localhost:8080/nbextensions/google.colab/files.js": {
              "data": "Ly8gQ29weXJpZ2h0IDIwMTcgR29vZ2xlIExMQwovLwovLyBMaWNlbnNlZCB1bmRlciB0aGUgQXBhY2hlIExpY2Vuc2UsIFZlcnNpb24gMi4wICh0aGUgIkxpY2Vuc2UiKTsKLy8geW91IG1heSBub3QgdXNlIHRoaXMgZmlsZSBleGNlcHQgaW4gY29tcGxpYW5jZSB3aXRoIHRoZSBMaWNlbnNlLgovLyBZb3UgbWF5IG9idGFpbiBhIGNvcHkgb2YgdGhlIExpY2Vuc2UgYXQKLy8KLy8gICAgICBodHRwOi8vd3d3LmFwYWNoZS5vcmcvbGljZW5zZXMvTElDRU5TRS0yLjAKLy8KLy8gVW5sZXNzIHJlcXVpcmVkIGJ5IGFwcGxpY2FibGUgbGF3IG9yIGFncmVlZCB0byBpbiB3cml0aW5nLCBzb2Z0d2FyZQovLyBkaXN0cmlidXRlZCB1bmRlciB0aGUgTGljZW5zZSBpcyBkaXN0cmlidXRlZCBvbiBhbiAiQVMgSVMiIEJBU0lTLAovLyBXSVRIT1VUIFdBUlJBTlRJRVMgT1IgQ09ORElUSU9OUyBPRiBBTlkgS0lORCwgZWl0aGVyIGV4cHJlc3Mgb3IgaW1wbGllZC4KLy8gU2VlIHRoZSBMaWNlbnNlIGZvciB0aGUgc3BlY2lmaWMgbGFuZ3VhZ2UgZ292ZXJuaW5nIHBlcm1pc3Npb25zIGFuZAovLyBsaW1pdGF0aW9ucyB1bmRlciB0aGUgTGljZW5zZS4KCi8qKgogKiBAZmlsZW92ZXJ2aWV3IEhlbHBlcnMgZm9yIGdvb2dsZS5jb2xhYiBQeXRob24gbW9kdWxlLgogKi8KKGZ1bmN0aW9uKHNjb3BlKSB7CmZ1bmN0aW9uIHNwYW4odGV4dCwgc3R5bGVBdHRyaWJ1dGVzID0ge30pIHsKICBjb25zdCBlbGVtZW50ID0gZG9jdW1lbnQuY3JlYXRlRWxlbWVudCgnc3BhbicpOwogIGVsZW1lbnQudGV4dENvbnRlbnQgPSB0ZXh0OwogIGZvciAoY29uc3Qga2V5IG9mIE9iamVjdC5rZXlzKHN0eWxlQXR0cmlidXRlcykpIHsKICAgIGVsZW1lbnQuc3R5bGVba2V5XSA9IHN0eWxlQXR0cmlidXRlc1trZXldOwogIH0KICByZXR1cm4gZWxlbWVudDsKfQoKLy8gTWF4IG51bWJlciBvZiBieXRlcyB3aGljaCB3aWxsIGJlIHVwbG9hZGVkIGF0IGEgdGltZS4KY29uc3QgTUFYX1BBWUxPQURfU0laRSA9IDEwMCAqIDEwMjQ7CgpmdW5jdGlvbiBfdXBsb2FkRmlsZXMoaW5wdXRJZCwgb3V0cHV0SWQpIHsKICBjb25zdCBzdGVwcyA9IHVwbG9hZEZpbGVzU3RlcChpbnB1dElkLCBvdXRwdXRJZCk7CiAgY29uc3Qgb3V0cHV0RWxlbWVudCA9IGRvY3VtZW50LmdldEVsZW1lbnRCeUlkKG91dHB1dElkKTsKICAvLyBDYWNoZSBzdGVwcyBvbiB0aGUgb3V0cHV0RWxlbWVudCB0byBtYWtlIGl0IGF2YWlsYWJsZSBmb3IgdGhlIG5leHQgY2FsbAogIC8vIHRvIHVwbG9hZEZpbGVzQ29udGludWUgZnJvbSBQeXRob24uCiAgb3V0cHV0RWxlbWVudC5zdGVwcyA9IHN0ZXBzOwoKICByZXR1cm4gX3VwbG9hZEZpbGVzQ29udGludWUob3V0cHV0SWQpOwp9CgovLyBUaGlzIGlzIHJvdWdobHkgYW4gYXN5bmMgZ2VuZXJhdG9yIChub3Qgc3VwcG9ydGVkIGluIHRoZSBicm93c2VyIHlldCksCi8vIHdoZXJlIHRoZXJlIGFyZSBtdWx0aXBsZSBhc3luY2hyb25vdXMgc3RlcHMgYW5kIHRoZSBQeXRob24gc2lkZSBpcyBnb2luZwovLyB0byBwb2xsIGZvciBjb21wbGV0aW9uIG9mIGVhY2ggc3RlcC4KLy8gVGhpcyB1c2VzIGEgUHJvbWlzZSB0byBibG9jayB0aGUgcHl0aG9uIHNpZGUgb24gY29tcGxldGlvbiBvZiBlYWNoIHN0ZXAsCi8vIHRoZW4gcGFzc2VzIHRoZSByZXN1bHQgb2YgdGhlIHByZXZpb3VzIHN0ZXAgYXMgdGhlIGlucHV0IHRvIHRoZSBuZXh0IHN0ZXAuCmZ1bmN0aW9uIF91cGxvYWRGaWxlc0NvbnRpbnVlKG91dHB1dElkKSB7CiAgY29uc3Qgb3V0cHV0RWxlbWVudCA9IGRvY3VtZW50LmdldEVsZW1lbnRCeUlkKG91dHB1dElkKTsKICBjb25zdCBzdGVwcyA9IG91dHB1dEVsZW1lbnQuc3RlcHM7CgogIGNvbnN0IG5leHQgPSBzdGVwcy5uZXh0KG91dHB1dEVsZW1lbnQubGFzdFByb21pc2VWYWx1ZSk7CiAgcmV0dXJuIFByb21pc2UucmVzb2x2ZShuZXh0LnZhbHVlLnByb21pc2UpLnRoZW4oKHZhbHVlKSA9PiB7CiAgICAvLyBDYWNoZSB0aGUgbGFzdCBwcm9taXNlIHZhbHVlIHRvIG1ha2UgaXQgYXZhaWxhYmxlIHRvIHRoZSBuZXh0CiAgICAvLyBzdGVwIG9mIHRoZSBnZW5lcmF0b3IuCiAgICBvdXRwdXRFbGVtZW50Lmxhc3RQcm9taXNlVmFsdWUgPSB2YWx1ZTsKICAgIHJldHVybiBuZXh0LnZhbHVlLnJlc3BvbnNlOwogIH0pOwp9CgovKioKICogR2VuZXJhdG9yIGZ1bmN0aW9uIHdoaWNoIGlzIGNhbGxlZCBiZXR3ZWVuIGVhY2ggYXN5bmMgc3RlcCBvZiB0aGUgdXBsb2FkCiAqIHByb2Nlc3MuCiAqIEBwYXJhbSB7c3RyaW5nfSBpbnB1dElkIEVsZW1lbnQgSUQgb2YgdGhlIGlucHV0IGZpbGUgcGlja2VyIGVsZW1lbnQuCiAqIEBwYXJhbSB7c3RyaW5nfSBvdXRwdXRJZCBFbGVtZW50IElEIG9mIHRoZSBvdXRwdXQgZGlzcGxheS4KICogQHJldHVybiB7IUl0ZXJhYmxlPCFPYmplY3Q+fSBJdGVyYWJsZSBvZiBuZXh0IHN0ZXBzLgogKi8KZnVuY3Rpb24qIHVwbG9hZEZpbGVzU3RlcChpbnB1dElkLCBvdXRwdXRJZCkgewogIGNvbnN0IGlucHV0RWxlbWVudCA9IGRvY3VtZW50LmdldEVsZW1lbnRCeUlkKGlucHV0SWQpOwogIGlucHV0RWxlbWVudC5kaXNhYmxlZCA9IGZhbHNlOwoKICBjb25zdCBvdXRwdXRFbGVtZW50ID0gZG9jdW1lbnQuZ2V0RWxlbWVudEJ5SWQob3V0cHV0SWQpOwogIG91dHB1dEVsZW1lbnQuaW5uZXJIVE1MID0gJyc7CgogIGNvbnN0IHBpY2tlZFByb21pc2UgPSBuZXcgUHJvbWlzZSgocmVzb2x2ZSkgPT4gewogICAgaW5wdXRFbGVtZW50LmFkZEV2ZW50TGlzdGVuZXIoJ2NoYW5nZScsIChlKSA9PiB7CiAgICAgIHJlc29sdmUoZS50YXJnZXQuZmlsZXMpOwogICAgfSk7CiAgfSk7CgogIGNvbnN0IGNhbmNlbCA9IGRvY3VtZW50LmNyZWF0ZUVsZW1lbnQoJ2J1dHRvbicpOwogIGlucHV0RWxlbWVudC5wYXJlbnRFbGVtZW50LmFwcGVuZENoaWxkKGNhbmNlbCk7CiAgY2FuY2VsLnRleHRDb250ZW50ID0gJ0NhbmNlbCB1cGxvYWQnOwogIGNvbnN0IGNhbmNlbFByb21pc2UgPSBuZXcgUHJvbWlzZSgocmVzb2x2ZSkgPT4gewogICAgY2FuY2VsLm9uY2xpY2sgPSAoKSA9PiB7CiAgICAgIHJlc29sdmUobnVsbCk7CiAgICB9OwogIH0pOwoKICAvLyBXYWl0IGZvciB0aGUgdXNlciB0byBwaWNrIHRoZSBmaWxlcy4KICBjb25zdCBmaWxlcyA9IHlpZWxkIHsKICAgIHByb21pc2U6IFByb21pc2UucmFjZShbcGlja2VkUHJvbWlzZSwgY2FuY2VsUHJvbWlzZV0pLAogICAgcmVzcG9uc2U6IHsKICAgICAgYWN0aW9uOiAnc3RhcnRpbmcnLAogICAgfQogIH07CgogIGNhbmNlbC5yZW1vdmUoKTsKCiAgLy8gRGlzYWJsZSB0aGUgaW5wdXQgZWxlbWVudCBzaW5jZSBmdXJ0aGVyIHBpY2tzIGFyZSBub3QgYWxsb3dlZC4KICBpbnB1dEVsZW1lbnQuZGlzYWJsZWQgPSB0cnVlOwoKICBpZiAoIWZpbGVzKSB7CiAgICByZXR1cm4gewogICAgICByZXNwb25zZTogewogICAgICAgIGFjdGlvbjogJ2NvbXBsZXRlJywKICAgICAgfQogICAgfTsKICB9CgogIGZvciAoY29uc3QgZmlsZSBvZiBmaWxlcykgewogICAgY29uc3QgbGkgPSBkb2N1bWVudC5jcmVhdGVFbGVtZW50KCdsaScpOwogICAgbGkuYXBwZW5kKHNwYW4oZmlsZS5uYW1lLCB7Zm9udFdlaWdodDogJ2JvbGQnfSkpOwogICAgbGkuYXBwZW5kKHNwYW4oCiAgICAgICAgYCgke2ZpbGUudHlwZSB8fCAnbi9hJ30pIC0gJHtmaWxlLnNpemV9IGJ5dGVzLCBgICsKICAgICAgICBgbGFzdCBtb2RpZmllZDogJHsKICAgICAgICAgICAgZmlsZS5sYXN0TW9kaWZpZWREYXRlID8gZmlsZS5sYXN0TW9kaWZpZWREYXRlLnRvTG9jYWxlRGF0ZVN0cmluZygpIDoKICAgICAgICAgICAgICAgICAgICAgICAgICAgICAgICAgICAgJ24vYSd9IC0gYCkpOwogICAgY29uc3QgcGVyY2VudCA9IHNwYW4oJzAlIGRvbmUnKTsKICAgIGxpLmFwcGVuZENoaWxkKHBlcmNlbnQpOwoKICAgIG91dHB1dEVsZW1lbnQuYXBwZW5kQ2hpbGQobGkpOwoKICAgIGNvbnN0IGZpbGVEYXRhUHJvbWlzZSA9IG5ldyBQcm9taXNlKChyZXNvbHZlKSA9PiB7CiAgICAgIGNvbnN0IHJlYWRlciA9IG5ldyBGaWxlUmVhZGVyKCk7CiAgICAgIHJlYWRlci5vbmxvYWQgPSAoZSkgPT4gewogICAgICAgIHJlc29sdmUoZS50YXJnZXQucmVzdWx0KTsKICAgICAgfTsKICAgICAgcmVhZGVyLnJlYWRBc0FycmF5QnVmZmVyKGZpbGUpOwogICAgfSk7CiAgICAvLyBXYWl0IGZvciB0aGUgZGF0YSB0byBiZSByZWFkeS4KICAgIGxldCBmaWxlRGF0YSA9IHlpZWxkIHsKICAgICAgcHJvbWlzZTogZmlsZURhdGFQcm9taXNlLAogICAgICByZXNwb25zZTogewogICAgICAgIGFjdGlvbjogJ2NvbnRpbnVlJywKICAgICAgfQogICAgfTsKCiAgICAvLyBVc2UgYSBjaHVua2VkIHNlbmRpbmcgdG8gYXZvaWQgbWVzc2FnZSBzaXplIGxpbWl0cy4gU2VlIGIvNjIxMTU2NjAuCiAgICBsZXQgcG9zaXRpb24gPSAwOwogICAgd2hpbGUgKHBvc2l0aW9uIDwgZmlsZURhdGEuYnl0ZUxlbmd0aCkgewogICAgICBjb25zdCBsZW5ndGggPSBNYXRoLm1pbihmaWxlRGF0YS5ieXRlTGVuZ3RoIC0gcG9zaXRpb24sIE1BWF9QQVlMT0FEX1NJWkUpOwogICAgICBjb25zdCBjaHVuayA9IG5ldyBVaW50OEFycmF5KGZpbGVEYXRhLCBwb3NpdGlvbiwgbGVuZ3RoKTsKICAgICAgcG9zaXRpb24gKz0gbGVuZ3RoOwoKICAgICAgY29uc3QgYmFzZTY0ID0gYnRvYShTdHJpbmcuZnJvbUNoYXJDb2RlLmFwcGx5KG51bGwsIGNodW5rKSk7CiAgICAgIHlpZWxkIHsKICAgICAgICByZXNwb25zZTogewogICAgICAgICAgYWN0aW9uOiAnYXBwZW5kJywKICAgICAgICAgIGZpbGU6IGZpbGUubmFtZSwKICAgICAgICAgIGRhdGE6IGJhc2U2NCwKICAgICAgICB9LAogICAgICB9OwogICAgICBwZXJjZW50LnRleHRDb250ZW50ID0KICAgICAgICAgIGAke01hdGgucm91bmQoKHBvc2l0aW9uIC8gZmlsZURhdGEuYnl0ZUxlbmd0aCkgKiAxMDApfSUgZG9uZWA7CiAgICB9CiAgfQoKICAvLyBBbGwgZG9uZS4KICB5aWVsZCB7CiAgICByZXNwb25zZTogewogICAgICBhY3Rpb246ICdjb21wbGV0ZScsCiAgICB9CiAgfTsKfQoKc2NvcGUuZ29vZ2xlID0gc2NvcGUuZ29vZ2xlIHx8IHt9OwpzY29wZS5nb29nbGUuY29sYWIgPSBzY29wZS5nb29nbGUuY29sYWIgfHwge307CnNjb3BlLmdvb2dsZS5jb2xhYi5fZmlsZXMgPSB7CiAgX3VwbG9hZEZpbGVzLAogIF91cGxvYWRGaWxlc0NvbnRpbnVlLAp9Owp9KShzZWxmKTsK",
              "ok": true,
              "headers": [
                [
                  "content-type",
                  "application/javascript"
                ]
              ],
              "status": 200,
              "status_text": "OK"
            }
          },
          "base_uri": "https://localhost:8080/",
          "height": 76
        },
        "outputId": "48d700ff-193d-4453-d7cd-8d48144a75bc"
      },
      "source": [
        "from google.colab import files\n",
        "uploaded = files.upload()"
      ],
      "execution_count": 29,
      "outputs": [
        {
          "output_type": "display_data",
          "data": {
            "text/html": [
              "\n",
              "     <input type=\"file\" id=\"files-4be51e10-bed4-4165-8402-7ef537a29e58\" name=\"files[]\" multiple disabled\n",
              "        style=\"border:none\" />\n",
              "     <output id=\"result-4be51e10-bed4-4165-8402-7ef537a29e58\">\n",
              "      Upload widget is only available when the cell has been executed in the\n",
              "      current browser session. Please rerun this cell to enable.\n",
              "      </output>\n",
              "      <script src=\"/nbextensions/google.colab/files.js\"></script> "
            ],
            "text/plain": [
              "<IPython.core.display.HTML object>"
            ]
          },
          "metadata": {
            "tags": []
          }
        },
        {
          "output_type": "stream",
          "text": [
            "Saving data.xls to data (1).xls\n"
          ],
          "name": "stdout"
        }
      ]
    },
    {
      "cell_type": "code",
      "metadata": {
        "id": "seNx9ZonVz-J",
        "colab_type": "code",
        "colab": {}
      },
      "source": [
        "xlsx = pd.read_excel(r'data.xls')"
      ],
      "execution_count": 96,
      "outputs": []
    },
    {
      "cell_type": "code",
      "metadata": {
        "id": "O5ZOZ7LynDh4",
        "colab_type": "code",
        "colab": {
          "base_uri": "https://localhost:8080/",
          "height": 34
        },
        "outputId": "03980af7-9038-4eda-908c-76f9eef36990"
      },
      "source": [
        "type(xlsx)\n",
        "print(len(xlsx))"
      ],
      "execution_count": 50,
      "outputs": [
        {
          "output_type": "stream",
          "text": [
            "856\n"
          ],
          "name": "stdout"
        }
      ]
    },
    {
      "cell_type": "code",
      "metadata": {
        "id": "X6USRI_8tDBC",
        "colab_type": "code",
        "colab": {
          "base_uri": "https://localhost:8080/",
          "height": 195
        },
        "outputId": "c16203d0-ea18-4dc4-d5f9-03a0b81132f9"
      },
      "source": [
        "xlsx.tail()"
      ],
      "execution_count": 97,
      "outputs": [
        {
          "output_type": "execute_result",
          "data": {
            "text/html": [
              "<div>\n",
              "<style scoped>\n",
              "    .dataframe tbody tr th:only-of-type {\n",
              "        vertical-align: middle;\n",
              "    }\n",
              "\n",
              "    .dataframe tbody tr th {\n",
              "        vertical-align: top;\n",
              "    }\n",
              "\n",
              "    .dataframe thead th {\n",
              "        text-align: right;\n",
              "    }\n",
              "</style>\n",
              "<table border=\"1\" class=\"dataframe\">\n",
              "  <thead>\n",
              "    <tr style=\"text-align: right;\">\n",
              "      <th></th>\n",
              "      <th>년/월/일</th>\n",
              "      <th>종가</th>\n",
              "      <th>대비</th>\n",
              "      <th>거래량(주)</th>\n",
              "      <th>거래대금(원)</th>\n",
              "      <th>시가</th>\n",
              "      <th>고가</th>\n",
              "      <th>저가</th>\n",
              "      <th>시가총액(백만)</th>\n",
              "      <th>상장주식수(주)</th>\n",
              "    </tr>\n",
              "  </thead>\n",
              "  <tbody>\n",
              "    <tr>\n",
              "      <th>851</th>\n",
              "      <td>2017/01/06</td>\n",
              "      <td>1,810,000</td>\n",
              "      <td>32,000</td>\n",
              "      <td>177,619</td>\n",
              "      <td>321,737,489,344</td>\n",
              "      <td>1,809,000</td>\n",
              "      <td>1,822,000</td>\n",
              "      <td>1,802,000</td>\n",
              "      <td>254,629,600</td>\n",
              "      <td>140,679,337</td>\n",
              "    </tr>\n",
              "    <tr>\n",
              "      <th>852</th>\n",
              "      <td>2017/01/05</td>\n",
              "      <td>1,778,000</td>\n",
              "      <td>-30,000</td>\n",
              "      <td>219,349</td>\n",
              "      <td>392,320,929,368</td>\n",
              "      <td>1,803,000</td>\n",
              "      <td>1,803,000</td>\n",
              "      <td>1,777,000</td>\n",
              "      <td>250,127,861</td>\n",
              "      <td>140,679,337</td>\n",
              "    </tr>\n",
              "    <tr>\n",
              "      <th>853</th>\n",
              "      <td>2017/01/04</td>\n",
              "      <td>1,808,000</td>\n",
              "      <td>-16,000</td>\n",
              "      <td>159,435</td>\n",
              "      <td>289,084,849,500</td>\n",
              "      <td>1,825,000</td>\n",
              "      <td>1,826,000</td>\n",
              "      <td>1,805,000</td>\n",
              "      <td>254,348,241</td>\n",
              "      <td>140,679,337</td>\n",
              "    </tr>\n",
              "    <tr>\n",
              "      <th>854</th>\n",
              "      <td>2017/01/03</td>\n",
              "      <td>1,824,000</td>\n",
              "      <td>19,000</td>\n",
              "      <td>147,153</td>\n",
              "      <td>267,688,372,000</td>\n",
              "      <td>1,814,000</td>\n",
              "      <td>1,831,000</td>\n",
              "      <td>1,801,000</td>\n",
              "      <td>256,599,111</td>\n",
              "      <td>140,679,337</td>\n",
              "    </tr>\n",
              "    <tr>\n",
              "      <th>855</th>\n",
              "      <td>2017/01/02</td>\n",
              "      <td>1,805,000</td>\n",
              "      <td>3,000</td>\n",
              "      <td>93,012</td>\n",
              "      <td>167,931,825,000</td>\n",
              "      <td>1,799,000</td>\n",
              "      <td>1,812,000</td>\n",
              "      <td>1,794,000</td>\n",
              "      <td>253,926,203</td>\n",
              "      <td>140,679,337</td>\n",
              "    </tr>\n",
              "  </tbody>\n",
              "</table>\n",
              "</div>"
            ],
            "text/plain": [
              "          년/월/일         종가       대비  ...         저가     시가총액(백만)     상장주식수(주)\n",
              "851  2017/01/06  1,810,000   32,000  ...  1,802,000  254,629,600  140,679,337\n",
              "852  2017/01/05  1,778,000  -30,000  ...  1,777,000  250,127,861  140,679,337\n",
              "853  2017/01/04  1,808,000  -16,000  ...  1,805,000  254,348,241  140,679,337\n",
              "854  2017/01/03  1,824,000   19,000  ...  1,801,000  256,599,111  140,679,337\n",
              "855  2017/01/02  1,805,000    3,000  ...  1,794,000  253,926,203  140,679,337\n",
              "\n",
              "[5 rows x 10 columns]"
            ]
          },
          "metadata": {
            "tags": []
          },
          "execution_count": 97
        }
      ]
    },
    {
      "cell_type": "code",
      "metadata": {
        "id": "ZTfPjjizYQcJ",
        "colab_type": "code",
        "colab": {
          "base_uri": "https://localhost:8080/",
          "height": 195
        },
        "outputId": "3f71e10b-12cd-4e3b-c306-6b5d3e6bd5aa"
      },
      "source": [
        "xlsx.head()"
      ],
      "execution_count": 98,
      "outputs": [
        {
          "output_type": "execute_result",
          "data": {
            "text/html": [
              "<div>\n",
              "<style scoped>\n",
              "    .dataframe tbody tr th:only-of-type {\n",
              "        vertical-align: middle;\n",
              "    }\n",
              "\n",
              "    .dataframe tbody tr th {\n",
              "        vertical-align: top;\n",
              "    }\n",
              "\n",
              "    .dataframe thead th {\n",
              "        text-align: right;\n",
              "    }\n",
              "</style>\n",
              "<table border=\"1\" class=\"dataframe\">\n",
              "  <thead>\n",
              "    <tr style=\"text-align: right;\">\n",
              "      <th></th>\n",
              "      <th>년/월/일</th>\n",
              "      <th>종가</th>\n",
              "      <th>대비</th>\n",
              "      <th>거래량(주)</th>\n",
              "      <th>거래대금(원)</th>\n",
              "      <th>시가</th>\n",
              "      <th>고가</th>\n",
              "      <th>저가</th>\n",
              "      <th>시가총액(백만)</th>\n",
              "      <th>상장주식수(주)</th>\n",
              "    </tr>\n",
              "  </thead>\n",
              "  <tbody>\n",
              "    <tr>\n",
              "      <th>0</th>\n",
              "      <td>2020/06/30</td>\n",
              "      <td>52,800</td>\n",
              "      <td>400</td>\n",
              "      <td>21,157,172</td>\n",
              "      <td>1,129,431,038,800</td>\n",
              "      <td>53,900</td>\n",
              "      <td>53,900</td>\n",
              "      <td>52,800</td>\n",
              "      <td>315,204,519</td>\n",
              "      <td>5,969,782,550</td>\n",
              "    </tr>\n",
              "    <tr>\n",
              "      <th>1</th>\n",
              "      <td>2020/06/29</td>\n",
              "      <td>52,400</td>\n",
              "      <td>-900</td>\n",
              "      <td>17,776,925</td>\n",
              "      <td>934,880,364,880</td>\n",
              "      <td>52,500</td>\n",
              "      <td>53,200</td>\n",
              "      <td>52,000</td>\n",
              "      <td>312,816,606</td>\n",
              "      <td>5,969,782,550</td>\n",
              "    </tr>\n",
              "    <tr>\n",
              "      <th>2</th>\n",
              "      <td>2020/06/26</td>\n",
              "      <td>53,300</td>\n",
              "      <td>1,400</td>\n",
              "      <td>21,575,360</td>\n",
              "      <td>1,146,335,751,523</td>\n",
              "      <td>52,800</td>\n",
              "      <td>53,900</td>\n",
              "      <td>52,200</td>\n",
              "      <td>318,189,410</td>\n",
              "      <td>5,969,782,550</td>\n",
              "    </tr>\n",
              "    <tr>\n",
              "      <th>3</th>\n",
              "      <td>2020/06/25</td>\n",
              "      <td>51,900</td>\n",
              "      <td>-1,000</td>\n",
              "      <td>18,541,624</td>\n",
              "      <td>970,494,909,540</td>\n",
              "      <td>52,100</td>\n",
              "      <td>53,000</td>\n",
              "      <td>51,900</td>\n",
              "      <td>309,831,714</td>\n",
              "      <td>5,969,782,550</td>\n",
              "    </tr>\n",
              "    <tr>\n",
              "      <th>4</th>\n",
              "      <td>2020/06/24</td>\n",
              "      <td>52,900</td>\n",
              "      <td>1,500</td>\n",
              "      <td>24,519,552</td>\n",
              "      <td>1,301,305,533,100</td>\n",
              "      <td>51,900</td>\n",
              "      <td>53,900</td>\n",
              "      <td>51,600</td>\n",
              "      <td>315,801,497</td>\n",
              "      <td>5,969,782,550</td>\n",
              "    </tr>\n",
              "  </tbody>\n",
              "</table>\n",
              "</div>"
            ],
            "text/plain": [
              "        년/월/일      종가      대비  ...      저가     시가총액(백만)       상장주식수(주)\n",
              "0  2020/06/30  52,800     400  ...  52,800  315,204,519  5,969,782,550\n",
              "1  2020/06/29  52,400    -900  ...  52,000  312,816,606  5,969,782,550\n",
              "2  2020/06/26  53,300   1,400  ...  52,200  318,189,410  5,969,782,550\n",
              "3  2020/06/25  51,900  -1,000  ...  51,900  309,831,714  5,969,782,550\n",
              "4  2020/06/24  52,900   1,500  ...  51,600  315,801,497  5,969,782,550\n",
              "\n",
              "[5 rows x 10 columns]"
            ]
          },
          "metadata": {
            "tags": []
          },
          "execution_count": 98
        }
      ]
    },
    {
      "cell_type": "code",
      "metadata": {
        "id": "QqY99epznbAU",
        "colab_type": "code",
        "colab": {}
      },
      "source": [
        "xlsx = xlsx.rename(columns={\"년/월/일\" : \"day\", \"종가\":\"close\", \"대비\":\"dif\", \"거래량(주)\":\"volume\", \"시가\":\"start\", \"고가\":\"high\", \"저가\":\"low\"})"
      ],
      "execution_count": 99,
      "outputs": []
    },
    {
      "cell_type": "code",
      "metadata": {
        "id": "7Qyk0QV4oe8W",
        "colab_type": "code",
        "colab": {}
      },
      "source": [
        "del xlsx[\"거래대금(원)\"]\n",
        "del xlsx[\"시가총액(백만)\"]\n",
        "del xlsx[\"상장주식수(주)\"]"
      ],
      "execution_count": 100,
      "outputs": []
    },
    {
      "cell_type": "code",
      "metadata": {
        "id": "NlJIwSI8ooL1",
        "colab_type": "code",
        "colab": {}
      },
      "source": [
        "from datetime import datetime"
      ],
      "execution_count": 88,
      "outputs": []
    },
    {
      "cell_type": "code",
      "metadata": {
        "id": "UzikkwlDo0Q1",
        "colab_type": "code",
        "colab": {
          "base_uri": "https://localhost:8080/",
          "height": 35
        },
        "outputId": "cdd9aa7f-9aef-4dd1-f648-0490dd1dc33f"
      },
      "source": [
        "xlsx.loc[0, \"day\"]"
      ],
      "execution_count": 56,
      "outputs": [
        {
          "output_type": "execute_result",
          "data": {
            "application/vnd.google.colaboratory.intrinsic": {
              "type": "string"
            },
            "text/plain": [
              "'2020/06/30'"
            ]
          },
          "metadata": {
            "tags": []
          },
          "execution_count": 56
        }
      ]
    },
    {
      "cell_type": "code",
      "metadata": {
        "id": "UDY_kQYArd1j",
        "colab_type": "code",
        "colab": {}
      },
      "source": [
        "strpDateTime = datetime.strptime(\"2020/06/30\", \"%Y/%m/%d\")\n"
      ],
      "execution_count": 57,
      "outputs": []
    },
    {
      "cell_type": "code",
      "metadata": {
        "id": "ksrc3b08sMaS",
        "colab_type": "code",
        "colab": {
          "base_uri": "https://localhost:8080/",
          "height": 34
        },
        "outputId": "df8fb522-4974-4ae9-f1e1-b06ed7cc8465"
      },
      "source": [
        "type(strpDateTime)"
      ],
      "execution_count": 42,
      "outputs": [
        {
          "output_type": "execute_result",
          "data": {
            "text/plain": [
              "datetime.datetime"
            ]
          },
          "metadata": {
            "tags": []
          },
          "execution_count": 42
        }
      ]
    },
    {
      "cell_type": "code",
      "metadata": {
        "id": "_5_lj3TWso-R",
        "colab_type": "code",
        "colab": {
          "base_uri": "https://localhost:8080/",
          "height": 34
        },
        "outputId": "25031271-1aff-406f-c6d6-e5e640e42a25"
      },
      "source": [
        "print(strpDateTime)"
      ],
      "execution_count": 60,
      "outputs": [
        {
          "output_type": "stream",
          "text": [
            "2020-06-30 00:00:00\n"
          ],
          "name": "stdout"
        }
      ]
    },
    {
      "cell_type": "code",
      "metadata": {
        "id": "0hJ_dwKls6Ij",
        "colab_type": "code",
        "colab": {}
      },
      "source": [
        "for i in range(0, len(xlsx)):\n",
        "  xlsx.loc[i, 'day'] = datetime.strptime(xlsx.loc[i,'day'], \"%Y/%m/%d\")\n"
      ],
      "execution_count": 101,
      "outputs": []
    },
    {
      "cell_type": "code",
      "metadata": {
        "id": "m7XhPasws6Lg",
        "colab_type": "code",
        "colab": {
          "base_uri": "https://localhost:8080/",
          "height": 402
        },
        "outputId": "d6114a12-5587-4095-8a09-19747ed684a0"
      },
      "source": [
        "xlsx"
      ],
      "execution_count": 102,
      "outputs": [
        {
          "output_type": "execute_result",
          "data": {
            "text/html": [
              "<div>\n",
              "<style scoped>\n",
              "    .dataframe tbody tr th:only-of-type {\n",
              "        vertical-align: middle;\n",
              "    }\n",
              "\n",
              "    .dataframe tbody tr th {\n",
              "        vertical-align: top;\n",
              "    }\n",
              "\n",
              "    .dataframe thead th {\n",
              "        text-align: right;\n",
              "    }\n",
              "</style>\n",
              "<table border=\"1\" class=\"dataframe\">\n",
              "  <thead>\n",
              "    <tr style=\"text-align: right;\">\n",
              "      <th></th>\n",
              "      <th>day</th>\n",
              "      <th>close</th>\n",
              "      <th>dif</th>\n",
              "      <th>volume</th>\n",
              "      <th>start</th>\n",
              "      <th>high</th>\n",
              "      <th>low</th>\n",
              "    </tr>\n",
              "  </thead>\n",
              "  <tbody>\n",
              "    <tr>\n",
              "      <th>0</th>\n",
              "      <td>2020-06-30 00:00:00</td>\n",
              "      <td>52,800</td>\n",
              "      <td>400</td>\n",
              "      <td>21,157,172</td>\n",
              "      <td>53,900</td>\n",
              "      <td>53,900</td>\n",
              "      <td>52,800</td>\n",
              "    </tr>\n",
              "    <tr>\n",
              "      <th>1</th>\n",
              "      <td>2020-06-29 00:00:00</td>\n",
              "      <td>52,400</td>\n",
              "      <td>-900</td>\n",
              "      <td>17,776,925</td>\n",
              "      <td>52,500</td>\n",
              "      <td>53,200</td>\n",
              "      <td>52,000</td>\n",
              "    </tr>\n",
              "    <tr>\n",
              "      <th>2</th>\n",
              "      <td>2020-06-26 00:00:00</td>\n",
              "      <td>53,300</td>\n",
              "      <td>1,400</td>\n",
              "      <td>21,575,360</td>\n",
              "      <td>52,800</td>\n",
              "      <td>53,900</td>\n",
              "      <td>52,200</td>\n",
              "    </tr>\n",
              "    <tr>\n",
              "      <th>3</th>\n",
              "      <td>2020-06-25 00:00:00</td>\n",
              "      <td>51,900</td>\n",
              "      <td>-1,000</td>\n",
              "      <td>18,541,624</td>\n",
              "      <td>52,100</td>\n",
              "      <td>53,000</td>\n",
              "      <td>51,900</td>\n",
              "    </tr>\n",
              "    <tr>\n",
              "      <th>4</th>\n",
              "      <td>2020-06-24 00:00:00</td>\n",
              "      <td>52,900</td>\n",
              "      <td>1,500</td>\n",
              "      <td>24,519,552</td>\n",
              "      <td>51,900</td>\n",
              "      <td>53,900</td>\n",
              "      <td>51,600</td>\n",
              "    </tr>\n",
              "    <tr>\n",
              "      <th>...</th>\n",
              "      <td>...</td>\n",
              "      <td>...</td>\n",
              "      <td>...</td>\n",
              "      <td>...</td>\n",
              "      <td>...</td>\n",
              "      <td>...</td>\n",
              "      <td>...</td>\n",
              "    </tr>\n",
              "    <tr>\n",
              "      <th>851</th>\n",
              "      <td>2017-01-06 00:00:00</td>\n",
              "      <td>1,810,000</td>\n",
              "      <td>32,000</td>\n",
              "      <td>177,619</td>\n",
              "      <td>1,809,000</td>\n",
              "      <td>1,822,000</td>\n",
              "      <td>1,802,000</td>\n",
              "    </tr>\n",
              "    <tr>\n",
              "      <th>852</th>\n",
              "      <td>2017-01-05 00:00:00</td>\n",
              "      <td>1,778,000</td>\n",
              "      <td>-30,000</td>\n",
              "      <td>219,349</td>\n",
              "      <td>1,803,000</td>\n",
              "      <td>1,803,000</td>\n",
              "      <td>1,777,000</td>\n",
              "    </tr>\n",
              "    <tr>\n",
              "      <th>853</th>\n",
              "      <td>2017-01-04 00:00:00</td>\n",
              "      <td>1,808,000</td>\n",
              "      <td>-16,000</td>\n",
              "      <td>159,435</td>\n",
              "      <td>1,825,000</td>\n",
              "      <td>1,826,000</td>\n",
              "      <td>1,805,000</td>\n",
              "    </tr>\n",
              "    <tr>\n",
              "      <th>854</th>\n",
              "      <td>2017-01-03 00:00:00</td>\n",
              "      <td>1,824,000</td>\n",
              "      <td>19,000</td>\n",
              "      <td>147,153</td>\n",
              "      <td>1,814,000</td>\n",
              "      <td>1,831,000</td>\n",
              "      <td>1,801,000</td>\n",
              "    </tr>\n",
              "    <tr>\n",
              "      <th>855</th>\n",
              "      <td>2017-01-02 00:00:00</td>\n",
              "      <td>1,805,000</td>\n",
              "      <td>3,000</td>\n",
              "      <td>93,012</td>\n",
              "      <td>1,799,000</td>\n",
              "      <td>1,812,000</td>\n",
              "      <td>1,794,000</td>\n",
              "    </tr>\n",
              "  </tbody>\n",
              "</table>\n",
              "<p>856 rows × 7 columns</p>\n",
              "</div>"
            ],
            "text/plain": [
              "                     day      close      dif  ...      start       high        low\n",
              "0    2020-06-30 00:00:00     52,800      400  ...     53,900     53,900     52,800\n",
              "1    2020-06-29 00:00:00     52,400     -900  ...     52,500     53,200     52,000\n",
              "2    2020-06-26 00:00:00     53,300    1,400  ...     52,800     53,900     52,200\n",
              "3    2020-06-25 00:00:00     51,900   -1,000  ...     52,100     53,000     51,900\n",
              "4    2020-06-24 00:00:00     52,900    1,500  ...     51,900     53,900     51,600\n",
              "..                   ...        ...      ...  ...        ...        ...        ...\n",
              "851  2017-01-06 00:00:00  1,810,000   32,000  ...  1,809,000  1,822,000  1,802,000\n",
              "852  2017-01-05 00:00:00  1,778,000  -30,000  ...  1,803,000  1,803,000  1,777,000\n",
              "853  2017-01-04 00:00:00  1,808,000  -16,000  ...  1,825,000  1,826,000  1,805,000\n",
              "854  2017-01-03 00:00:00  1,824,000   19,000  ...  1,814,000  1,831,000  1,801,000\n",
              "855  2017-01-02 00:00:00  1,805,000    3,000  ...  1,799,000  1,812,000  1,794,000\n",
              "\n",
              "[856 rows x 7 columns]"
            ]
          },
          "metadata": {
            "tags": []
          },
          "execution_count": 102
        }
      ]
    },
    {
      "cell_type": "code",
      "metadata": {
        "id": "3LsvaAoJZX2-",
        "colab_type": "code",
        "colab": {}
      },
      "source": [
        "sprice = xlsx[:511] # 2018년 6월1일부터 시작된 데이터만 사용"
      ],
      "execution_count": 103,
      "outputs": []
    },
    {
      "cell_type": "code",
      "metadata": {
        "id": "r0XRuC6mbIY2",
        "colab_type": "code",
        "colab": {}
      },
      "source": [
        "sprice_s = sprice[::-1] #데이터를 시간순서로 정렬"
      ],
      "execution_count": 104,
      "outputs": []
    },
    {
      "cell_type": "code",
      "metadata": {
        "id": "LTV5ijC4bVuY",
        "colab_type": "code",
        "colab": {
          "base_uri": "https://localhost:8080/",
          "height": 195
        },
        "outputId": "f5f77bfa-2308-478a-9fb5-8527dcc8d5aa"
      },
      "source": [
        "sprice_s.head()"
      ],
      "execution_count": 93,
      "outputs": [
        {
          "output_type": "execute_result",
          "data": {
            "text/html": [
              "<div>\n",
              "<style scoped>\n",
              "    .dataframe tbody tr th:only-of-type {\n",
              "        vertical-align: middle;\n",
              "    }\n",
              "\n",
              "    .dataframe tbody tr th {\n",
              "        vertical-align: top;\n",
              "    }\n",
              "\n",
              "    .dataframe thead th {\n",
              "        text-align: right;\n",
              "    }\n",
              "</style>\n",
              "<table border=\"1\" class=\"dataframe\">\n",
              "  <thead>\n",
              "    <tr style=\"text-align: right;\">\n",
              "      <th></th>\n",
              "      <th>day</th>\n",
              "      <th>close</th>\n",
              "      <th>dif</th>\n",
              "      <th>volume</th>\n",
              "      <th>start</th>\n",
              "      <th>high</th>\n",
              "      <th>low</th>\n",
              "    </tr>\n",
              "  </thead>\n",
              "  <tbody>\n",
              "    <tr>\n",
              "      <th>510</th>\n",
              "      <td>2018-06-01 00:00:00</td>\n",
              "      <td>51,300</td>\n",
              "      <td>600</td>\n",
              "      <td>13,038,499</td>\n",
              "      <td>50,500</td>\n",
              "      <td>51,700</td>\n",
              "      <td>49,950</td>\n",
              "    </tr>\n",
              "    <tr>\n",
              "      <th>509</th>\n",
              "      <td>2018-06-04 00:00:00</td>\n",
              "      <td>51,100</td>\n",
              "      <td>-200</td>\n",
              "      <td>9,767,171</td>\n",
              "      <td>50,800</td>\n",
              "      <td>51,200</td>\n",
              "      <td>50,700</td>\n",
              "    </tr>\n",
              "    <tr>\n",
              "      <th>508</th>\n",
              "      <td>2018-06-05 00:00:00</td>\n",
              "      <td>51,300</td>\n",
              "      <td>200</td>\n",
              "      <td>9,144,100</td>\n",
              "      <td>51,100</td>\n",
              "      <td>51,400</td>\n",
              "      <td>50,400</td>\n",
              "    </tr>\n",
              "    <tr>\n",
              "      <th>507</th>\n",
              "      <td>2018-06-07 00:00:00</td>\n",
              "      <td>50,600</td>\n",
              "      <td>-700</td>\n",
              "      <td>13,590,016</td>\n",
              "      <td>51,800</td>\n",
              "      <td>51,800</td>\n",
              "      <td>50,500</td>\n",
              "    </tr>\n",
              "    <tr>\n",
              "      <th>506</th>\n",
              "      <td>2018-06-08 00:00:00</td>\n",
              "      <td>49,650</td>\n",
              "      <td>-950</td>\n",
              "      <td>16,951,706</td>\n",
              "      <td>50,200</td>\n",
              "      <td>50,400</td>\n",
              "      <td>49,600</td>\n",
              "    </tr>\n",
              "  </tbody>\n",
              "</table>\n",
              "</div>"
            ],
            "text/plain": [
              "                     day   close   dif      volume   start    high     low\n",
              "510  2018-06-01 00:00:00  51,300   600  13,038,499  50,500  51,700  49,950\n",
              "509  2018-06-04 00:00:00  51,100  -200   9,767,171  50,800  51,200  50,700\n",
              "508  2018-06-05 00:00:00  51,300   200   9,144,100  51,100  51,400  50,400\n",
              "507  2018-06-07 00:00:00  50,600  -700  13,590,016  51,800  51,800  50,500\n",
              "506  2018-06-08 00:00:00  49,650  -950  16,951,706  50,200  50,400  49,600"
            ]
          },
          "metadata": {
            "tags": []
          },
          "execution_count": 93
        }
      ]
    },
    {
      "cell_type": "code",
      "metadata": {
        "id": "On6kWi9jmM_I",
        "colab_type": "code",
        "colab": {}
      },
      "source": [
        "import numpy as np"
      ],
      "execution_count": 94,
      "outputs": []
    },
    {
      "cell_type": "code",
      "metadata": {
        "id": "SF2nPvYHwzXV",
        "colab_type": "code",
        "colab": {
          "base_uri": "https://localhost:8080/",
          "height": 34
        },
        "outputId": "1e9baf95-192c-4cbc-ba79-0ca9bb8f3530"
      },
      "source": [
        "float(sprice_s.loc[0, 'close'].replace(\",\", ''))"
      ],
      "execution_count": 105,
      "outputs": [
        {
          "output_type": "execute_result",
          "data": {
            "text/plain": [
              "52800.0"
            ]
          },
          "metadata": {
            "tags": []
          },
          "execution_count": 105
        }
      ]
    },
    {
      "cell_type": "code",
      "metadata": {
        "id": "NAlMWg55mSfI",
        "colab_type": "code",
        "colab": {}
      },
      "source": [
        "for i in range(0, len(sprice_s)):\n",
        "  sprice_s.loc[i, 'close'] = float(sprice_s.loc[i, 'close'].replace(\",\", ''))\n",
        "  sprice_s.loc[i, 'dif'] = float(sprice_s.loc[i, 'dif'].replace(\",\", ''))\n",
        "  sprice_s.loc[i, 'volume'] = float(sprice_s.loc[i, 'volume'].replace(\",\", ''))\n",
        "  sprice_s.loc[i, 'start'] = float(sprice_s.loc[i, 'start'].replace(\",\", ''))\n",
        "  sprice_s.loc[i, 'high'] = float(sprice_s.loc[i, 'high'].replace(\",\", ''))\n",
        "  sprice_s.loc[i, 'low'] = float(sprice_s.loc[i, 'low'].replace(\",\", ''))\n",
        " "
      ],
      "execution_count": 106,
      "outputs": []
    },
    {
      "cell_type": "code",
      "metadata": {
        "id": "BgjZWsSljO_s",
        "colab_type": "code",
        "colab": {
          "base_uri": "https://localhost:8080/",
          "height": 402
        },
        "outputId": "24f67236-50f3-4736-e913-1cb78d25d359"
      },
      "source": [
        "sprice_s"
      ],
      "execution_count": 107,
      "outputs": [
        {
          "output_type": "execute_result",
          "data": {
            "text/html": [
              "<div>\n",
              "<style scoped>\n",
              "    .dataframe tbody tr th:only-of-type {\n",
              "        vertical-align: middle;\n",
              "    }\n",
              "\n",
              "    .dataframe tbody tr th {\n",
              "        vertical-align: top;\n",
              "    }\n",
              "\n",
              "    .dataframe thead th {\n",
              "        text-align: right;\n",
              "    }\n",
              "</style>\n",
              "<table border=\"1\" class=\"dataframe\">\n",
              "  <thead>\n",
              "    <tr style=\"text-align: right;\">\n",
              "      <th></th>\n",
              "      <th>day</th>\n",
              "      <th>close</th>\n",
              "      <th>dif</th>\n",
              "      <th>volume</th>\n",
              "      <th>start</th>\n",
              "      <th>high</th>\n",
              "      <th>low</th>\n",
              "    </tr>\n",
              "  </thead>\n",
              "  <tbody>\n",
              "    <tr>\n",
              "      <th>510</th>\n",
              "      <td>2018-06-01 00:00:00</td>\n",
              "      <td>51300</td>\n",
              "      <td>600</td>\n",
              "      <td>1.30385e+07</td>\n",
              "      <td>50500</td>\n",
              "      <td>51700</td>\n",
              "      <td>49950</td>\n",
              "    </tr>\n",
              "    <tr>\n",
              "      <th>509</th>\n",
              "      <td>2018-06-04 00:00:00</td>\n",
              "      <td>51100</td>\n",
              "      <td>-200</td>\n",
              "      <td>9.76717e+06</td>\n",
              "      <td>50800</td>\n",
              "      <td>51200</td>\n",
              "      <td>50700</td>\n",
              "    </tr>\n",
              "    <tr>\n",
              "      <th>508</th>\n",
              "      <td>2018-06-05 00:00:00</td>\n",
              "      <td>51300</td>\n",
              "      <td>200</td>\n",
              "      <td>9.1441e+06</td>\n",
              "      <td>51100</td>\n",
              "      <td>51400</td>\n",
              "      <td>50400</td>\n",
              "    </tr>\n",
              "    <tr>\n",
              "      <th>507</th>\n",
              "      <td>2018-06-07 00:00:00</td>\n",
              "      <td>50600</td>\n",
              "      <td>-700</td>\n",
              "      <td>1.359e+07</td>\n",
              "      <td>51800</td>\n",
              "      <td>51800</td>\n",
              "      <td>50500</td>\n",
              "    </tr>\n",
              "    <tr>\n",
              "      <th>506</th>\n",
              "      <td>2018-06-08 00:00:00</td>\n",
              "      <td>49650</td>\n",
              "      <td>-950</td>\n",
              "      <td>1.69517e+07</td>\n",
              "      <td>50200</td>\n",
              "      <td>50400</td>\n",
              "      <td>49600</td>\n",
              "    </tr>\n",
              "    <tr>\n",
              "      <th>...</th>\n",
              "      <td>...</td>\n",
              "      <td>...</td>\n",
              "      <td>...</td>\n",
              "      <td>...</td>\n",
              "      <td>...</td>\n",
              "      <td>...</td>\n",
              "      <td>...</td>\n",
              "    </tr>\n",
              "    <tr>\n",
              "      <th>4</th>\n",
              "      <td>2020-06-24 00:00:00</td>\n",
              "      <td>52900</td>\n",
              "      <td>1500</td>\n",
              "      <td>2.45196e+07</td>\n",
              "      <td>51900</td>\n",
              "      <td>53900</td>\n",
              "      <td>51600</td>\n",
              "    </tr>\n",
              "    <tr>\n",
              "      <th>3</th>\n",
              "      <td>2020-06-25 00:00:00</td>\n",
              "      <td>51900</td>\n",
              "      <td>-1000</td>\n",
              "      <td>1.85416e+07</td>\n",
              "      <td>52100</td>\n",
              "      <td>53000</td>\n",
              "      <td>51900</td>\n",
              "    </tr>\n",
              "    <tr>\n",
              "      <th>2</th>\n",
              "      <td>2020-06-26 00:00:00</td>\n",
              "      <td>53300</td>\n",
              "      <td>1400</td>\n",
              "      <td>2.15754e+07</td>\n",
              "      <td>52800</td>\n",
              "      <td>53900</td>\n",
              "      <td>52200</td>\n",
              "    </tr>\n",
              "    <tr>\n",
              "      <th>1</th>\n",
              "      <td>2020-06-29 00:00:00</td>\n",
              "      <td>52400</td>\n",
              "      <td>-900</td>\n",
              "      <td>1.77769e+07</td>\n",
              "      <td>52500</td>\n",
              "      <td>53200</td>\n",
              "      <td>52000</td>\n",
              "    </tr>\n",
              "    <tr>\n",
              "      <th>0</th>\n",
              "      <td>2020-06-30 00:00:00</td>\n",
              "      <td>52800</td>\n",
              "      <td>400</td>\n",
              "      <td>2.11572e+07</td>\n",
              "      <td>53900</td>\n",
              "      <td>53900</td>\n",
              "      <td>52800</td>\n",
              "    </tr>\n",
              "  </tbody>\n",
              "</table>\n",
              "<p>511 rows × 7 columns</p>\n",
              "</div>"
            ],
            "text/plain": [
              "                     day  close   dif       volume  start   high    low\n",
              "510  2018-06-01 00:00:00  51300   600  1.30385e+07  50500  51700  49950\n",
              "509  2018-06-04 00:00:00  51100  -200  9.76717e+06  50800  51200  50700\n",
              "508  2018-06-05 00:00:00  51300   200   9.1441e+06  51100  51400  50400\n",
              "507  2018-06-07 00:00:00  50600  -700    1.359e+07  51800  51800  50500\n",
              "506  2018-06-08 00:00:00  49650  -950  1.69517e+07  50200  50400  49600\n",
              "..                   ...    ...   ...          ...    ...    ...    ...\n",
              "4    2020-06-24 00:00:00  52900  1500  2.45196e+07  51900  53900  51600\n",
              "3    2020-06-25 00:00:00  51900 -1000  1.85416e+07  52100  53000  51900\n",
              "2    2020-06-26 00:00:00  53300  1400  2.15754e+07  52800  53900  52200\n",
              "1    2020-06-29 00:00:00  52400  -900  1.77769e+07  52500  53200  52000\n",
              "0    2020-06-30 00:00:00  52800   400  2.11572e+07  53900  53900  52800\n",
              "\n",
              "[511 rows x 7 columns]"
            ]
          },
          "metadata": {
            "tags": []
          },
          "execution_count": 107
        }
      ]
    },
    {
      "cell_type": "code",
      "metadata": {
        "id": "pBRb2Sak0Hkz",
        "colab_type": "code",
        "colab": {
          "base_uri": "https://localhost:8080/",
          "height": 17
        },
        "outputId": "984c9397-b6ee-4d84-d195-233fbd5a7014"
      },
      "source": [
        "sprice_s.to_csv('new_file.txt')\n",
        "files.download('new_file.txt')"
      ],
      "execution_count": 109,
      "outputs": [
        {
          "output_type": "display_data",
          "data": {
            "application/javascript": [
              "\n",
              "    async function download(id, filename, size) {\n",
              "      if (!google.colab.kernel.accessAllowed) {\n",
              "        return;\n",
              "      }\n",
              "      const div = document.createElement('div');\n",
              "      const label = document.createElement('label');\n",
              "      label.textContent = `Downloading \"${filename}\": `;\n",
              "      div.appendChild(label);\n",
              "      const progress = document.createElement('progress');\n",
              "      progress.max = size;\n",
              "      div.appendChild(progress);\n",
              "      document.body.appendChild(div);\n",
              "\n",
              "      const buffers = [];\n",
              "      let downloaded = 0;\n",
              "\n",
              "      const channel = await google.colab.kernel.comms.open(id);\n",
              "      // Send a message to notify the kernel that we're ready.\n",
              "      channel.send({})\n",
              "\n",
              "      for await (const message of channel.messages) {\n",
              "        // Send a message to notify the kernel that we're ready.\n",
              "        channel.send({})\n",
              "        if (message.buffers) {\n",
              "          for (const buffer of message.buffers) {\n",
              "            buffers.push(buffer);\n",
              "            downloaded += buffer.byteLength;\n",
              "            progress.value = downloaded;\n",
              "          }\n",
              "        }\n",
              "      }\n",
              "      const blob = new Blob(buffers, {type: 'application/binary'});\n",
              "      const a = document.createElement('a');\n",
              "      a.href = window.URL.createObjectURL(blob);\n",
              "      a.download = filename;\n",
              "      div.appendChild(a);\n",
              "      a.click();\n",
              "      div.remove();\n",
              "    }\n",
              "  "
            ],
            "text/plain": [
              "<IPython.core.display.Javascript object>"
            ]
          },
          "metadata": {
            "tags": []
          }
        },
        {
          "output_type": "display_data",
          "data": {
            "application/javascript": [
              "download(\"download_9e438563-d2e6-4a84-9cf0-4f05e5d9e4c5\", \"new_file.txt\", 37307)"
            ],
            "text/plain": [
              "<IPython.core.display.Javascript object>"
            ]
          },
          "metadata": {
            "tags": []
          }
        }
      ]
    },
    {
      "cell_type": "code",
      "metadata": {
        "id": "Fb11UOhQ1SwD",
        "colab_type": "code",
        "colab": {
          "resources": {
            "http://localhost:8080/nbextensions/google.colab/files.js": {
              "data": "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",
              "ok": true,
              "headers": [
                [
                  "content-type",
                  "application/javascript"
                ]
              ],
              "status": 200,
              "status_text": "OK"
            }
          },
          "base_uri": "https://localhost:8080/",
          "height": 76
        },
        "outputId": "b966542c-7ed7-43ff-f257-c98f1385d942"
      },
      "source": [
        "uploaded = files.upload()"
      ],
      "execution_count": 111,
      "outputs": [
        {
          "output_type": "display_data",
          "data": {
            "text/html": [
              "\n",
              "     <input type=\"file\" id=\"files-d6789c35-e23a-4a6c-a772-122fa8e78d87\" name=\"files[]\" multiple disabled\n",
              "        style=\"border:none\" />\n",
              "     <output id=\"result-d6789c35-e23a-4a6c-a772-122fa8e78d87\">\n",
              "      Upload widget is only available when the cell has been executed in the\n",
              "      current browser session. Please rerun this cell to enable.\n",
              "      </output>\n",
              "      <script src=\"/nbextensions/google.colab/files.js\"></script> "
            ],
            "text/plain": [
              "<IPython.core.display.HTML object>"
            ]
          },
          "metadata": {
            "tags": []
          }
        },
        {
          "output_type": "stream",
          "text": [
            "Saving new_file.txt to new_file (1).txt\n"
          ],
          "name": "stdout"
        }
      ]
    },
    {
      "cell_type": "code",
      "metadata": {
        "id": "_Oa5iglkCfyZ",
        "colab_type": "code",
        "colab": {}
      },
      "source": [
        "data = pd.read_csv('new_file.txt')"
      ],
      "execution_count": 112,
      "outputs": []
    },
    {
      "cell_type": "code",
      "metadata": {
        "id": "MsM3WaP6CnfH",
        "colab_type": "code",
        "colab": {
          "base_uri": "https://localhost:8080/",
          "height": 402
        },
        "outputId": "ea7972f8-112c-47f1-da18-58313de34074"
      },
      "source": [
        "data"
      ],
      "execution_count": 113,
      "outputs": [
        {
          "output_type": "execute_result",
          "data": {
            "text/html": [
              "<div>\n",
              "<style scoped>\n",
              "    .dataframe tbody tr th:only-of-type {\n",
              "        vertical-align: middle;\n",
              "    }\n",
              "\n",
              "    .dataframe tbody tr th {\n",
              "        vertical-align: top;\n",
              "    }\n",
              "\n",
              "    .dataframe thead th {\n",
              "        text-align: right;\n",
              "    }\n",
              "</style>\n",
              "<table border=\"1\" class=\"dataframe\">\n",
              "  <thead>\n",
              "    <tr style=\"text-align: right;\">\n",
              "      <th></th>\n",
              "      <th>Unnamed: 0</th>\n",
              "      <th>day</th>\n",
              "      <th>close</th>\n",
              "      <th>dif</th>\n",
              "      <th>volume</th>\n",
              "      <th>start</th>\n",
              "      <th>high</th>\n",
              "      <th>low</th>\n",
              "    </tr>\n",
              "  </thead>\n",
              "  <tbody>\n",
              "    <tr>\n",
              "      <th>0</th>\n",
              "      <td>510</td>\n",
              "      <td>2018-06-01 00:00:00</td>\n",
              "      <td>51300.0</td>\n",
              "      <td>600.0</td>\n",
              "      <td>13038499.0</td>\n",
              "      <td>50500.0</td>\n",
              "      <td>51700.0</td>\n",
              "      <td>49950.0</td>\n",
              "    </tr>\n",
              "    <tr>\n",
              "      <th>1</th>\n",
              "      <td>509</td>\n",
              "      <td>2018-06-04 00:00:00</td>\n",
              "      <td>51100.0</td>\n",
              "      <td>-200.0</td>\n",
              "      <td>9767171.0</td>\n",
              "      <td>50800.0</td>\n",
              "      <td>51200.0</td>\n",
              "      <td>50700.0</td>\n",
              "    </tr>\n",
              "    <tr>\n",
              "      <th>2</th>\n",
              "      <td>508</td>\n",
              "      <td>2018-06-05 00:00:00</td>\n",
              "      <td>51300.0</td>\n",
              "      <td>200.0</td>\n",
              "      <td>9144100.0</td>\n",
              "      <td>51100.0</td>\n",
              "      <td>51400.0</td>\n",
              "      <td>50400.0</td>\n",
              "    </tr>\n",
              "    <tr>\n",
              "      <th>3</th>\n",
              "      <td>507</td>\n",
              "      <td>2018-06-07 00:00:00</td>\n",
              "      <td>50600.0</td>\n",
              "      <td>-700.0</td>\n",
              "      <td>13590016.0</td>\n",
              "      <td>51800.0</td>\n",
              "      <td>51800.0</td>\n",
              "      <td>50500.0</td>\n",
              "    </tr>\n",
              "    <tr>\n",
              "      <th>4</th>\n",
              "      <td>506</td>\n",
              "      <td>2018-06-08 00:00:00</td>\n",
              "      <td>49650.0</td>\n",
              "      <td>-950.0</td>\n",
              "      <td>16951706.0</td>\n",
              "      <td>50200.0</td>\n",
              "      <td>50400.0</td>\n",
              "      <td>49600.0</td>\n",
              "    </tr>\n",
              "    <tr>\n",
              "      <th>...</th>\n",
              "      <td>...</td>\n",
              "      <td>...</td>\n",
              "      <td>...</td>\n",
              "      <td>...</td>\n",
              "      <td>...</td>\n",
              "      <td>...</td>\n",
              "      <td>...</td>\n",
              "      <td>...</td>\n",
              "    </tr>\n",
              "    <tr>\n",
              "      <th>506</th>\n",
              "      <td>4</td>\n",
              "      <td>2020-06-24 00:00:00</td>\n",
              "      <td>52900.0</td>\n",
              "      <td>1500.0</td>\n",
              "      <td>24519552.0</td>\n",
              "      <td>51900.0</td>\n",
              "      <td>53900.0</td>\n",
              "      <td>51600.0</td>\n",
              "    </tr>\n",
              "    <tr>\n",
              "      <th>507</th>\n",
              "      <td>3</td>\n",
              "      <td>2020-06-25 00:00:00</td>\n",
              "      <td>51900.0</td>\n",
              "      <td>-1000.0</td>\n",
              "      <td>18541624.0</td>\n",
              "      <td>52100.0</td>\n",
              "      <td>53000.0</td>\n",
              "      <td>51900.0</td>\n",
              "    </tr>\n",
              "    <tr>\n",
              "      <th>508</th>\n",
              "      <td>2</td>\n",
              "      <td>2020-06-26 00:00:00</td>\n",
              "      <td>53300.0</td>\n",
              "      <td>1400.0</td>\n",
              "      <td>21575360.0</td>\n",
              "      <td>52800.0</td>\n",
              "      <td>53900.0</td>\n",
              "      <td>52200.0</td>\n",
              "    </tr>\n",
              "    <tr>\n",
              "      <th>509</th>\n",
              "      <td>1</td>\n",
              "      <td>2020-06-29 00:00:00</td>\n",
              "      <td>52400.0</td>\n",
              "      <td>-900.0</td>\n",
              "      <td>17776925.0</td>\n",
              "      <td>52500.0</td>\n",
              "      <td>53200.0</td>\n",
              "      <td>52000.0</td>\n",
              "    </tr>\n",
              "    <tr>\n",
              "      <th>510</th>\n",
              "      <td>0</td>\n",
              "      <td>2020-06-30 00:00:00</td>\n",
              "      <td>52800.0</td>\n",
              "      <td>400.0</td>\n",
              "      <td>21157172.0</td>\n",
              "      <td>53900.0</td>\n",
              "      <td>53900.0</td>\n",
              "      <td>52800.0</td>\n",
              "    </tr>\n",
              "  </tbody>\n",
              "</table>\n",
              "<p>511 rows × 8 columns</p>\n",
              "</div>"
            ],
            "text/plain": [
              "     Unnamed: 0                  day    close  ...    start     high      low\n",
              "0           510  2018-06-01 00:00:00  51300.0  ...  50500.0  51700.0  49950.0\n",
              "1           509  2018-06-04 00:00:00  51100.0  ...  50800.0  51200.0  50700.0\n",
              "2           508  2018-06-05 00:00:00  51300.0  ...  51100.0  51400.0  50400.0\n",
              "3           507  2018-06-07 00:00:00  50600.0  ...  51800.0  51800.0  50500.0\n",
              "4           506  2018-06-08 00:00:00  49650.0  ...  50200.0  50400.0  49600.0\n",
              "..          ...                  ...      ...  ...      ...      ...      ...\n",
              "506           4  2020-06-24 00:00:00  52900.0  ...  51900.0  53900.0  51600.0\n",
              "507           3  2020-06-25 00:00:00  51900.0  ...  52100.0  53000.0  51900.0\n",
              "508           2  2020-06-26 00:00:00  53300.0  ...  52800.0  53900.0  52200.0\n",
              "509           1  2020-06-29 00:00:00  52400.0  ...  52500.0  53200.0  52000.0\n",
              "510           0  2020-06-30 00:00:00  52800.0  ...  53900.0  53900.0  52800.0\n",
              "\n",
              "[511 rows x 8 columns]"
            ]
          },
          "metadata": {
            "tags": []
          },
          "execution_count": 113
        }
      ]
    },
    {
      "cell_type": "code",
      "metadata": {
        "id": "-iiTWB72X4Uf",
        "colab_type": "code",
        "colab": {
          "base_uri": "https://localhost:8080/",
          "height": 265
        },
        "outputId": "c1a42654-06b4-497c-bad9-95c2e52f0025"
      },
      "source": [
        "import matplotlib.pyplot as plt\n",
        "\n",
        "plt.rcParams[\"figure.figsize\"] = (14,4)\n",
        "plt.plot(data['dif'])\n",
        "plt.show()"
      ],
      "execution_count": 126,
      "outputs": [
        {
          "output_type": "display_data",
          "data": {
            "image/png": "[encoded data removed]",
            "text/plain": [
              "<Figure size 1008x288 with 1 Axes>"
            ]
          },
          "metadata": {
            "tags": [],
            "needs_background": "light"
          }
        }
      ]
    },
    {
      "cell_type": "code",
      "metadata": {
        "id": "m_rvdiexDB7g",
        "colab_type": "code",
        "colab": {}
      },
      "source": [
        "y_data = data.loc[1:501, 'dif']  # y는 종가의 차이로 전날에 영향을 받는다고 가정한다"
      ],
      "execution_count": 123,
      "outputs": []
    },
    {
      "cell_type": "code",
      "metadata": {
        "id": "TZyymEDpNVUS",
        "colab_type": "code",
        "colab": {
          "base_uri": "https://localhost:8080/",
          "height": 175
        },
        "outputId": "163067fe-2d8e-4b9e-e0bc-0c6f6f4e41ed"
      },
      "source": [
        "data.loc[401,:] # y_data의 validation 기준일은 20년 1월 21이고 종가는 61400원이고 전날 대비 1000원 하락했다."
      ],
      "execution_count": 155,
      "outputs": [
        {
          "output_type": "execute_result",
          "data": {
            "text/plain": [
              "Unnamed: 0                    109\n",
              "day           2020-01-21 00:00:00\n",
              "close                       61400\n",
              "dif                         -1000\n",
              "volume                1.11427e+07\n",
              "start                       62000\n",
              "high                        62400\n",
              "low                         61200\n",
              "Name: 401, dtype: object"
            ]
          },
          "metadata": {
            "tags": []
          },
          "execution_count": 155
        }
      ]
    },
    {
      "cell_type": "code",
      "metadata": {
        "id": "F5q6hoaKEDMZ",
        "colab_type": "code",
        "colab": {}
      },
      "source": [
        "x_data = data.loc[0:500, ['close', 'volume', 'start', 'high', 'low']]"
      ],
      "execution_count": 124,
      "outputs": []
    },
    {
      "cell_type": "code",
      "metadata": {
        "id": "bwmAeyrHG88i",
        "colab_type": "code",
        "colab": {}
      },
      "source": [
        "x_data  = np.asarray(x_data, dtype=float)"
      ],
      "execution_count": 128,
      "outputs": []
    },
    {
      "cell_type": "code",
      "metadata": {
        "id": "OrmQFWNBHSzQ",
        "colab_type": "code",
        "colab": {}
      },
      "source": [
        "y_data  = np.asarray(y_data, dtype=float)"
      ],
      "execution_count": 129,
      "outputs": []
    },
    {
      "cell_type": "code",
      "metadata": {
        "id": "WtZobQvhET3R",
        "colab_type": "code",
        "colab": {
          "base_uri": "https://localhost:8080/",
          "height": 34
        },
        "outputId": "fb7d7159-59bf-4dad-9cd2-bc5fe8231c07"
      },
      "source": [
        "print(x_data.shape, y_data.shape)"
      ],
      "execution_count": 130,
      "outputs": [
        {
          "output_type": "stream",
          "text": [
            "(501, 5) (501,)\n"
          ],
          "name": "stdout"
        }
      ]
    },
    {
      "cell_type": "code",
      "metadata": {
        "id": "fMrEGocVEutQ",
        "colab_type": "code",
        "colab": {
          "base_uri": "https://localhost:8080/",
          "height": 34
        },
        "outputId": "4f9d55c3-b758-449c-db34-1b2bbaf9a4af"
      },
      "source": [
        "x_train = x_data[0:400]\n",
        "x_val = x_data[400:500]\n",
        "print(x_train.shape, x_val.shape)"
      ],
      "execution_count": 131,
      "outputs": [
        {
          "output_type": "stream",
          "text": [
            "(400, 5) (100, 5)\n"
          ],
          "name": "stdout"
        }
      ]
    },
    {
      "cell_type": "code",
      "metadata": {
        "id": "k01MIhjFGUDA",
        "colab_type": "code",
        "colab": {}
      },
      "source": [
        "y_train = y_data[0:400]\n",
        "y_val = y_data[400:500]"
      ],
      "execution_count": 134,
      "outputs": []
    },
    {
      "cell_type": "code",
      "metadata": {
        "id": "QCAss94TOIen",
        "colab_type": "code",
        "colab": {
          "base_uri": "https://localhost:8080/",
          "height": 34
        },
        "outputId": "bcfd11ca-6a8e-4cc3-c9c9-7be85ec4a57c"
      },
      "source": [
        "y_val[0]"
      ],
      "execution_count": 156,
      "outputs": [
        {
          "output_type": "execute_result",
          "data": {
            "text/plain": [
              "-1000.0"
            ]
          },
          "metadata": {
            "tags": []
          },
          "execution_count": 156
        }
      ]
    },
    {
      "cell_type": "code",
      "metadata": {
        "id": "xmhzghykH3ba",
        "colab_type": "code",
        "colab": {}
      },
      "source": [
        "mean = np.mean(x_train, axis=0)\n",
        "std = np.std(x_train, axis=0)\n",
        "\n",
        "x_train = (x_train-mean)/std\n",
        "\n",
        "x_val = (x_val-mean)/std"
      ],
      "execution_count": 139,
      "outputs": []
    },
    {
      "cell_type": "code",
      "metadata": {
        "id": "aNlIkAiYJQVp",
        "colab_type": "code",
        "colab": {
          "base_uri": "https://localhost:8080/",
          "height": 105
        },
        "outputId": "0b263bd5-99a0-4827-c863-ddaf23ea7830"
      },
      "source": [
        "x_train[0:5]"
      ],
      "execution_count": 141,
      "outputs": [
        {
          "output_type": "execute_result",
          "data": {
            "text/plain": [
              "array([[ 1.2268386 ,  0.49281082,  1.03245529,  1.21973112,  1.01758591],\n",
              "       [ 1.17788744, -0.31375125,  1.10571587,  1.09754112,  1.20267445],\n",
              "       [ 1.2268386 , -0.46737248,  1.17897645,  1.14641712,  1.12863903],\n",
              "       [ 1.05550952,  0.62879006,  1.34991781,  1.24416912,  1.1533175 ],\n",
              "       [ 0.82299148,  1.45763133,  0.95919471,  0.90203712,  0.93121126]])"
            ]
          },
          "metadata": {
            "tags": []
          },
          "execution_count": 141
        }
      ]
    },
    {
      "cell_type": "code",
      "metadata": {
        "id": "92flMAWC9Rp3",
        "colab_type": "code",
        "colab": {}
      },
      "source": [
        "x_train = x_train.reshape(-1,1,5) \n",
        "x_val = x_val.reshape(-1,1,5) # LSTM으로 들어가기 위해서 자료의 형태를 맞추어 준다. (샘플수, 타입스텝 수, 각 타입스텝의 특성수 )"
      ],
      "execution_count": 142,
      "outputs": []
    },
    {
      "cell_type": "code",
      "metadata": {
        "id": "P3mJufRoJcfR",
        "colab_type": "code",
        "colab": {
          "base_uri": "https://localhost:8080/",
          "height": 263
        },
        "outputId": "52ffd7dd-f368-4a80-aa0f-6a1cb6521eec"
      },
      "source": [
        "x_train[0:5]"
      ],
      "execution_count": 143,
      "outputs": [
        {
          "output_type": "execute_result",
          "data": {
            "text/plain": [
              "array([[[ 1.2268386 ,  0.49281082,  1.03245529,  1.21973112,\n",
              "          1.01758591]],\n",
              "\n",
              "       [[ 1.17788744, -0.31375125,  1.10571587,  1.09754112,\n",
              "          1.20267445]],\n",
              "\n",
              "       [[ 1.2268386 , -0.46737248,  1.17897645,  1.14641712,\n",
              "          1.12863903]],\n",
              "\n",
              "       [[ 1.05550952,  0.62879006,  1.34991781,  1.24416912,\n",
              "          1.1533175 ]],\n",
              "\n",
              "       [[ 0.82299148,  1.45763133,  0.95919471,  0.90203712,\n",
              "          0.93121126]]])"
            ]
          },
          "metadata": {
            "tags": []
          },
          "execution_count": 143
        }
      ]
    },
    {
      "cell_type": "code",
      "metadata": {
        "id": "xRv-BVd2OBXm",
        "colab_type": "code",
        "colab": {
          "base_uri": "https://localhost:8080/",
          "height": 34
        },
        "outputId": "f16b298b-3f50-4c7d-cde3-6728bb7b3548"
      },
      "source": [
        "print(x_train.shape)"
      ],
      "execution_count": 144,
      "outputs": [
        {
          "output_type": "stream",
          "text": [
            "(400, 1, 5)\n"
          ],
          "name": "stdout"
        }
      ]
    },
    {
      "cell_type": "code",
      "metadata": {
        "id": "Sw5Qs4QXvv-W",
        "colab_type": "code",
        "colab": {
          "base_uri": "https://localhost:8080/",
          "height": 34
        },
        "outputId": "52b824c2-4195-4845-a05b-35b52fb3c61b"
      },
      "source": [
        "from keras.layers import LSTM, Dense, Input\n",
        "from keras.models import Model\n",
        "from keras.models import Sequential\n",
        "from keras import layers\n",
        "from keras import Input"
      ],
      "execution_count": 145,
      "outputs": [
        {
          "output_type": "stream",
          "text": [
            "Using TensorFlow backend.\n"
          ],
          "name": "stderr"
        }
      ]
    },
    {
      "cell_type": "code",
      "metadata": {
        "id": "Udm0x98VwXg9",
        "colab_type": "code",
        "colab": {
          "base_uri": "https://localhost:8080/",
          "height": 298
        },
        "outputId": "eb4e0e39-5403-4562-b760-92ea42a06f2d"
      },
      "source": [
        "input1 = Input(shape=(1,5))\n",
        "dense1 = LSTM(120)(input1)\n",
        "dense1 = LSTM(30)(input1)\n",
        "dense1 = Dense(20)(dense1)\n",
        "#model.add(LSTM(60, input_shape=(1,5)))  # input_shape는 타임스텝수, 특성의 수\n",
        "#model.add(LSTM(20))\n",
        "output = Dense(1)(dense1)\n",
        "\n",
        "model = Model(inputs= input1, outputs=output)\n",
        "model.summary()"
      ],
      "execution_count": 224,
      "outputs": [
        {
          "output_type": "stream",
          "text": [
            "Model: \"model_3\"\n",
            "_________________________________________________________________\n",
            "Layer (type)                 Output Shape              Param #   \n",
            "=================================================================\n",
            "input_4 (InputLayer)         (None, 1, 5)              0         \n",
            "_________________________________________________________________\n",
            "lstm_9 (LSTM)                (None, 30)                4320      \n",
            "_________________________________________________________________\n",
            "dense_7 (Dense)              (None, 20)                620       \n",
            "_________________________________________________________________\n",
            "dense_8 (Dense)              (None, 1)                 21        \n",
            "=================================================================\n",
            "Total params: 4,961\n",
            "Trainable params: 4,961\n",
            "Non-trainable params: 0\n",
            "_________________________________________________________________\n"
          ],
          "name": "stdout"
        }
      ]
    },
    {
      "cell_type": "code",
      "metadata": {
        "id": "MguGKMOv3ghK",
        "colab_type": "code",
        "colab": {}
      },
      "source": [
        "model.compile(loss='mse', optimizer='adam', metrics=['mae'])\n",
        "history = model.fit(x_train, y_train, validation_data = (x_val, y_val), epochs=500, verbose=0)"
      ],
      "execution_count": 233,
      "outputs": []
    },
    {
      "cell_type": "code",
      "metadata": {
        "id": "47kFCJOcwc1e",
        "colab_type": "code",
        "colab": {
          "base_uri": "https://localhost:8080/",
          "height": 266
        },
        "outputId": "5f5ddf2b-b000-4b2d-9333-219ce6c670d0"
      },
      "source": [
        "plt.plot(history.history['loss'], 'b') \n",
        "#plt.plot(history.history['val_loss'], 'r')\n",
        "plt.show()"
      ],
      "execution_count": 234,
      "outputs": [
        {
          "output_type": "display_data",
          "data": {
            "image/png": "[encoded data removed]",
            "text/plain": [
              "<Figure size 1008x288 with 1 Axes>"
            ]
          },
          "metadata": {
            "tags": [],
            "needs_background": "light"
          }
        }
      ]
    },
    {
      "cell_type": "code",
      "metadata": {
        "id": "RAkxiDiB-iwj",
        "colab_type": "code",
        "colab": {
          "base_uri": "https://localhost:8080/",
          "height": 265
        },
        "outputId": "7d568922-0d08-4eba-a54d-58cb2cc40240"
      },
      "source": [
        "plt.plot(history.history['mae'], 'b') \n",
        "#plt.plot(history.history['val_mae'], 'r')\n",
        "plt.show()"
      ],
      "execution_count": 235,
      "outputs": [
        {
          "output_type": "display_data",
          "data": {
            "image/png": "[encoded data removed]",
            "text/plain": [
              "<Figure size 1008x288 with 1 Axes>"
            ]
          },
          "metadata": {
            "tags": [],
            "needs_background": "light"
          }
        }
      ]
    },
    {
      "cell_type": "code",
      "metadata": {
        "id": "wm_XGo-LO9RW",
        "colab_type": "code",
        "colab": {}
      },
      "source": [
        "y_hat = model.predict(x_val)"
      ],
      "execution_count": 228,
      "outputs": []
    },
    {
      "cell_type": "code",
      "metadata": {
        "id": "_CIwWWAjcBTU",
        "colab_type": "code",
        "colab": {
          "base_uri": "https://localhost:8080/",
          "height": 265
        },
        "outputId": "a0adc3a4-1b0d-456d-8f5f-bcdf723b43c0"
      },
      "source": [
        "plt.plot(y_hat, 'b') \n",
        "plt.plot(y_val, 'r')\n",
        "plt.show()"
      ],
      "execution_count": 229,
      "outputs": [
        {
          "output_type": "display_data",
          "data": {
            "image/png": "[encoded data removed]",
            "text/plain": [
              "<Figure size 1008x288 with 1 Axes>"
            ]
          },
          "metadata": {
            "tags": [],
            "needs_background": "light"
          }
        }
      ]
    },
    {
      "cell_type": "code",
      "metadata": {
        "id": "INGNzBi_cBW1",
        "colab_type": "code",
        "colab": {
          "base_uri": "https://localhost:8080/",
          "height": 193
        },
        "outputId": "3aad32c8-6af5-4daf-ca3b-18dc84639f42"
      },
      "source": [
        "data.loc[400,:] #20년 1월20일 종가는 62400원이었다"
      ],
      "execution_count": 208,
      "outputs": [
        {
          "output_type": "execute_result",
          "data": {
            "text/plain": [
              "Unnamed: 0                      400\n",
              "Unnamed: 0.1                    110\n",
              "day             2020-01-20 00:00:00\n",
              "close                         62400\n",
              "dif                            1100\n",
              "volume                  1.25289e+07\n",
              "start                         62000\n",
              "high                          62800\n",
              "low                           61700\n",
              "Name: 400, dtype: object"
            ]
          },
          "metadata": {
            "tags": []
          },
          "execution_count": 208
        }
      ]
    },
    {
      "cell_type": "code",
      "metadata": {
        "id": "5iQ3DpgacBZm",
        "colab_type": "code",
        "colab": {}
      },
      "source": [
        "price_hats = []\n",
        "price_start = 62400.0\n",
        "\n",
        "for i in range(0, len(y_hat)):\n",
        "  price_start = price_start + y_hat[i]\n",
        "  price_hats.append(price_start)\n"
      ],
      "execution_count": 209,
      "outputs": []
    },
    {
      "cell_type": "code",
      "metadata": {
        "id": "seycvzOnRh3v",
        "colab_type": "code",
        "colab": {
          "base_uri": "https://localhost:8080/",
          "height": 265
        },
        "outputId": "8308a057-f8bf-4511-ff5e-44f298b276d0"
      },
      "source": [
        "plt.plot(price_hats, 'ro')\n",
        "plt.show()"
      ],
      "execution_count": 210,
      "outputs": [
        {
          "output_type": "display_data",
          "data": {
            "image/png": "[encoded data removed]",
            "text/plain": [
              "<Figure size 1008x288 with 1 Axes>"
            ]
          },
          "metadata": {
            "tags": [],
            "needs_background": "light"
          }
        }
      ]
    },
    {
      "cell_type": "code",
      "metadata": {
        "id": "3HGM6UlgRxwV",
        "colab_type": "code",
        "colab": {
          "base_uri": "https://localhost:8080/",
          "height": 402
        },
        "outputId": "6c82dc87-e311-4a81-f121-8162b7323de7"
      },
      "source": [
        " data.loc[401:500,['day','close']] # 20년 1월21일 부터 시작하여 100일간 종가 필요"
      ],
      "execution_count": 211,
      "outputs": [
        {
          "output_type": "execute_result",
          "data": {
            "text/html": [
              "<div>\n",
              "<style scoped>\n",
              "    .dataframe tbody tr th:only-of-type {\n",
              "        vertical-align: middle;\n",
              "    }\n",
              "\n",
              "    .dataframe tbody tr th {\n",
              "        vertical-align: top;\n",
              "    }\n",
              "\n",
              "    .dataframe thead th {\n",
              "        text-align: right;\n",
              "    }\n",
              "</style>\n",
              "<table border=\"1\" class=\"dataframe\">\n",
              "  <thead>\n",
              "    <tr style=\"text-align: right;\">\n",
              "      <th></th>\n",
              "      <th>day</th>\n",
              "      <th>close</th>\n",
              "    </tr>\n",
              "  </thead>\n",
              "  <tbody>\n",
              "    <tr>\n",
              "      <th>401</th>\n",
              "      <td>2020-01-21 00:00:00</td>\n",
              "      <td>61400.0</td>\n",
              "    </tr>\n",
              "    <tr>\n",
              "      <th>402</th>\n",
              "      <td>2020-01-22 00:00:00</td>\n",
              "      <td>62300.0</td>\n",
              "    </tr>\n",
              "    <tr>\n",
              "      <th>403</th>\n",
              "      <td>2020-01-23 00:00:00</td>\n",
              "      <td>60800.0</td>\n",
              "    </tr>\n",
              "    <tr>\n",
              "      <th>404</th>\n",
              "      <td>2020-01-28 00:00:00</td>\n",
              "      <td>58800.0</td>\n",
              "    </tr>\n",
              "    <tr>\n",
              "      <th>405</th>\n",
              "      <td>2020-01-29 00:00:00</td>\n",
              "      <td>59100.0</td>\n",
              "    </tr>\n",
              "    <tr>\n",
              "      <th>...</th>\n",
              "      <td>...</td>\n",
              "      <td>...</td>\n",
              "    </tr>\n",
              "    <tr>\n",
              "      <th>496</th>\n",
              "      <td>2020-06-10 00:00:00</td>\n",
              "      <td>55400.0</td>\n",
              "    </tr>\n",
              "    <tr>\n",
              "      <th>497</th>\n",
              "      <td>2020-06-11 00:00:00</td>\n",
              "      <td>54300.0</td>\n",
              "    </tr>\n",
              "    <tr>\n",
              "      <th>498</th>\n",
              "      <td>2020-06-12 00:00:00</td>\n",
              "      <td>52300.0</td>\n",
              "    </tr>\n",
              "    <tr>\n",
              "      <th>499</th>\n",
              "      <td>2020-06-15 00:00:00</td>\n",
              "      <td>49900.0</td>\n",
              "    </tr>\n",
              "    <tr>\n",
              "      <th>500</th>\n",
              "      <td>2020-06-16 00:00:00</td>\n",
              "      <td>52100.0</td>\n",
              "    </tr>\n",
              "  </tbody>\n",
              "</table>\n",
              "<p>100 rows × 2 columns</p>\n",
              "</div>"
            ],
            "text/plain": [
              "                     day    close\n",
              "401  2020-01-21 00:00:00  61400.0\n",
              "402  2020-01-22 00:00:00  62300.0\n",
              "403  2020-01-23 00:00:00  60800.0\n",
              "404  2020-01-28 00:00:00  58800.0\n",
              "405  2020-01-29 00:00:00  59100.0\n",
              "..                   ...      ...\n",
              "496  2020-06-10 00:00:00  55400.0\n",
              "497  2020-06-11 00:00:00  54300.0\n",
              "498  2020-06-12 00:00:00  52300.0\n",
              "499  2020-06-15 00:00:00  49900.0\n",
              "500  2020-06-16 00:00:00  52100.0\n",
              "\n",
              "[100 rows x 2 columns]"
            ]
          },
          "metadata": {
            "tags": []
          },
          "execution_count": 211
        }
      ]
    },
    {
      "cell_type": "code",
      "metadata": {
        "id": "5oLiYC5QVi4H",
        "colab_type": "code",
        "colab": {}
      },
      "source": [
        "price_real = data.loc[401:500, 'close']\n",
        "price_real = np.asarray(price_real, dtype=float)"
      ],
      "execution_count": 212,
      "outputs": []
    },
    {
      "cell_type": "code",
      "metadata": {
        "id": "Q2gak5LKV0Hc",
        "colab_type": "code",
        "colab": {
          "base_uri": "https://localhost:8080/",
          "height": 265
        },
        "outputId": "bb7cc860-8708-42de-f0cf-c405a20bdd25"
      },
      "source": [
        "plt.plot(price_real, 'ro')\n",
        "plt.plot(price_hats, 'bo')\n",
        "plt.show()"
      ],
      "execution_count": 213,
      "outputs": [
        {
          "output_type": "display_data",
          "data": {
            "image/png": "[encoded data removed]",
            "text/plain": [
              "<Figure size 1008x288 with 1 Axes>"
            ]
          },
          "metadata": {
            "tags": [],
            "needs_background": "light"
          }
        }
      ]
    },
    {
      "cell_type": "code",
      "metadata": {
        "id": "IPgOXCN1cwPT",
        "colab_type": "code",
        "colab": {}
      },
      "source": [
        ""
      ],
      "execution_count": null,
      "outputs": []
    },
    {
      "cell_type": "markdown",
      "metadata": {
        "id": "AkY3AN8gcwuL",
        "colab_type": "text"
      },
      "source": [
        "아래는 Colab 구글 드라이브에 Data를 저장하고 다운로드 하는 방법이다."
      ]
    },
    {
      "cell_type": "code",
      "metadata": {
        "id": "AYAZxixnZyD-",
        "colab_type": "code",
        "colab": {
          "base_uri": "https://localhost:8080/",
          "height": 125
        },
        "outputId": "9a19ad85-ef46-4829-b266-c24307cbbf61"
      },
      "source": [
        "from google.colab import drive\n",
        "drive.mount('/gdrive')"
      ],
      "execution_count": 186,
      "outputs": [
        {
          "output_type": "stream",
          "text": [
            "Go to this URL in a browser: https://accounts.google.com/o/oauth2/auth?client_id=947318989803-6bn6qk8qdgf4n4g3pfee6491hc0brc4i.apps.googleusercontent.com&redirect_uri=urn%3aietf%3awg%3aoauth%3a2.0%3aoob&response_type=code&scope=email%20https%3a%2f%2fwww.googleapis.com%2fauth%2fdocs.test%20https%3a%2f%2fwww.googleapis.com%2fauth%2fdrive%20https%3a%2f%2fwww.googleapis.com%2fauth%2fdrive.photos.readonly%20https%3a%2f%2fwww.googleapis.com%2fauth%2fpeopleapi.readonly\n",
            "\n",
            "Enter your authorization code:\n",
            "··········\n",
            "Mounted at /gdrive\n"
          ],
          "name": "stdout"
        }
      ]
    },
    {
      "cell_type": "code",
      "metadata": {
        "id": "qYW2rSHAaoqN",
        "colab_type": "code",
        "colab": {
          "base_uri": "https://localhost:8080/",
          "height": 34
        },
        "outputId": "f57165c5-cdd6-4928-f324-9ed56dc6540e"
      },
      "source": [
        "!ls /gdrive"
      ],
      "execution_count": 193,
      "outputs": [
        {
          "output_type": "stream",
          "text": [
            "'My Drive'\n"
          ],
          "name": "stdout"
        }
      ]
    },
    {
      "cell_type": "code",
      "metadata": {
        "id": "7JcfXAVUa7gb",
        "colab_type": "code",
        "colab": {}
      },
      "source": [
        "data.to_csv('/gdrive/My Drive/data.txt')"
      ],
      "execution_count": 192,
      "outputs": []
    },
    {
      "cell_type": "code",
      "metadata": {
        "id": "H0Q0MMZmcV7e",
        "colab_type": "code",
        "colab": {
          "base_uri": "https://localhost:8080/",
          "height": 34
        },
        "outputId": "11e57e44-cbbb-4137-e80a-90d3e38dd3b6"
      },
      "source": [
        "!ls /gdrive/My\\ Drive/data.txt"
      ],
      "execution_count": 194,
      "outputs": [
        {
          "output_type": "stream",
          "text": [
            "'/gdrive/My Drive/data.txt'\n"
          ],
          "name": "stdout"
        }
      ]
    },
    {
      "cell_type": "code",
      "metadata": {
        "id": "4WnDuC9ncjd-",
        "colab_type": "code",
        "colab": {}
      },
      "source": [
        "data = pd.read_csv('/gdrive/My Drive/data.txt')"
      ],
      "execution_count": 195,
      "outputs": []
    },
    {
      "cell_type": "code",
      "metadata": {
        "id": "ylsPODHXctHc",
        "colab_type": "code",
        "colab": {
          "base_uri": "https://localhost:8080/",
          "height": 402
        },
        "outputId": "a4d96692-1b76-4114-8237-08872727b7a2"
      },
      "source": [
        "data"
      ],
      "execution_count": 196,
      "outputs": [
        {
          "output_type": "execute_result",
          "data": {
            "text/html": [
              "<div>\n",
              "<style scoped>\n",
              "    .dataframe tbody tr th:only-of-type {\n",
              "        vertical-align: middle;\n",
              "    }\n",
              "\n",
              "    .dataframe tbody tr th {\n",
              "        vertical-align: top;\n",
              "    }\n",
              "\n",
              "    .dataframe thead th {\n",
              "        text-align: right;\n",
              "    }\n",
              "</style>\n",
              "<table border=\"1\" class=\"dataframe\">\n",
              "  <thead>\n",
              "    <tr style=\"text-align: right;\">\n",
              "      <th></th>\n",
              "      <th>Unnamed: 0</th>\n",
              "      <th>Unnamed: 0.1</th>\n",
              "      <th>day</th>\n",
              "      <th>close</th>\n",
              "      <th>dif</th>\n",
              "      <th>volume</th>\n",
              "      <th>start</th>\n",
              "      <th>high</th>\n",
              "      <th>low</th>\n",
              "    </tr>\n",
              "  </thead>\n",
              "  <tbody>\n",
              "    <tr>\n",
              "      <th>0</th>\n",
              "      <td>0</td>\n",
              "      <td>510</td>\n",
              "      <td>2018-06-01 00:00:00</td>\n",
              "      <td>51300.0</td>\n",
              "      <td>600.0</td>\n",
              "      <td>13038499.0</td>\n",
              "      <td>50500.0</td>\n",
              "      <td>51700.0</td>\n",
              "      <td>49950.0</td>\n",
              "    </tr>\n",
              "    <tr>\n",
              "      <th>1</th>\n",
              "      <td>1</td>\n",
              "      <td>509</td>\n",
              "      <td>2018-06-04 00:00:00</td>\n",
              "      <td>51100.0</td>\n",
              "      <td>-200.0</td>\n",
              "      <td>9767171.0</td>\n",
              "      <td>50800.0</td>\n",
              "      <td>51200.0</td>\n",
              "      <td>50700.0</td>\n",
              "    </tr>\n",
              "    <tr>\n",
              "      <th>2</th>\n",
              "      <td>2</td>\n",
              "      <td>508</td>\n",
              "      <td>2018-06-05 00:00:00</td>\n",
              "      <td>51300.0</td>\n",
              "      <td>200.0</td>\n",
              "      <td>9144100.0</td>\n",
              "      <td>51100.0</td>\n",
              "      <td>51400.0</td>\n",
              "      <td>50400.0</td>\n",
              "    </tr>\n",
              "    <tr>\n",
              "      <th>3</th>\n",
              "      <td>3</td>\n",
              "      <td>507</td>\n",
              "      <td>2018-06-07 00:00:00</td>\n",
              "      <td>50600.0</td>\n",
              "      <td>-700.0</td>\n",
              "      <td>13590016.0</td>\n",
              "      <td>51800.0</td>\n",
              "      <td>51800.0</td>\n",
              "      <td>50500.0</td>\n",
              "    </tr>\n",
              "    <tr>\n",
              "      <th>4</th>\n",
              "      <td>4</td>\n",
              "      <td>506</td>\n",
              "      <td>2018-06-08 00:00:00</td>\n",
              "      <td>49650.0</td>\n",
              "      <td>-950.0</td>\n",
              "      <td>16951706.0</td>\n",
              "      <td>50200.0</td>\n",
              "      <td>50400.0</td>\n",
              "      <td>49600.0</td>\n",
              "    </tr>\n",
              "    <tr>\n",
              "      <th>...</th>\n",
              "      <td>...</td>\n",
              "      <td>...</td>\n",
              "      <td>...</td>\n",
              "      <td>...</td>\n",
              "      <td>...</td>\n",
              "      <td>...</td>\n",
              "      <td>...</td>\n",
              "      <td>...</td>\n",
              "      <td>...</td>\n",
              "    </tr>\n",
              "    <tr>\n",
              "      <th>506</th>\n",
              "      <td>506</td>\n",
              "      <td>4</td>\n",
              "      <td>2020-06-24 00:00:00</td>\n",
              "      <td>52900.0</td>\n",
              "      <td>1500.0</td>\n",
              "      <td>24519552.0</td>\n",
              "      <td>51900.0</td>\n",
              "      <td>53900.0</td>\n",
              "      <td>51600.0</td>\n",
              "    </tr>\n",
              "    <tr>\n",
              "      <th>507</th>\n",
              "      <td>507</td>\n",
              "      <td>3</td>\n",
              "      <td>2020-06-25 00:00:00</td>\n",
              "      <td>51900.0</td>\n",
              "      <td>-1000.0</td>\n",
              "      <td>18541624.0</td>\n",
              "      <td>52100.0</td>\n",
              "      <td>53000.0</td>\n",
              "      <td>51900.0</td>\n",
              "    </tr>\n",
              "    <tr>\n",
              "      <th>508</th>\n",
              "      <td>508</td>\n",
              "      <td>2</td>\n",
              "      <td>2020-06-26 00:00:00</td>\n",
              "      <td>53300.0</td>\n",
              "      <td>1400.0</td>\n",
              "      <td>21575360.0</td>\n",
              "      <td>52800.0</td>\n",
              "      <td>53900.0</td>\n",
              "      <td>52200.0</td>\n",
              "    </tr>\n",
              "    <tr>\n",
              "      <th>509</th>\n",
              "      <td>509</td>\n",
              "      <td>1</td>\n",
              "      <td>2020-06-29 00:00:00</td>\n",
              "      <td>52400.0</td>\n",
              "      <td>-900.0</td>\n",
              "      <td>17776925.0</td>\n",
              "      <td>52500.0</td>\n",
              "      <td>53200.0</td>\n",
              "      <td>52000.0</td>\n",
              "    </tr>\n",
              "    <tr>\n",
              "      <th>510</th>\n",
              "      <td>510</td>\n",
              "      <td>0</td>\n",
              "      <td>2020-06-30 00:00:00</td>\n",
              "      <td>52800.0</td>\n",
              "      <td>400.0</td>\n",
              "      <td>21157172.0</td>\n",
              "      <td>53900.0</td>\n",
              "      <td>53900.0</td>\n",
              "      <td>52800.0</td>\n",
              "    </tr>\n",
              "  </tbody>\n",
              "</table>\n",
              "<p>511 rows × 9 columns</p>\n",
              "</div>"
            ],
            "text/plain": [
              "     Unnamed: 0  Unnamed: 0.1                  day  ...    start     high      low\n",
              "0             0           510  2018-06-01 00:00:00  ...  50500.0  51700.0  49950.0\n",
              "1             1           509  2018-06-04 00:00:00  ...  50800.0  51200.0  50700.0\n",
              "2             2           508  2018-06-05 00:00:00  ...  51100.0  51400.0  50400.0\n",
              "3             3           507  2018-06-07 00:00:00  ...  51800.0  51800.0  50500.0\n",
              "4             4           506  2018-06-08 00:00:00  ...  50200.0  50400.0  49600.0\n",
              "..          ...           ...                  ...  ...      ...      ...      ...\n",
              "506         506             4  2020-06-24 00:00:00  ...  51900.0  53900.0  51600.0\n",
              "507         507             3  2020-06-25 00:00:00  ...  52100.0  53000.0  51900.0\n",
              "508         508             2  2020-06-26 00:00:00  ...  52800.0  53900.0  52200.0\n",
              "509         509             1  2020-06-29 00:00:00  ...  52500.0  53200.0  52000.0\n",
              "510         510             0  2020-06-30 00:00:00  ...  53900.0  53900.0  52800.0\n",
              "\n",
              "[511 rows x 9 columns]"
            ]
          },
          "metadata": {
            "tags": []
          },
          "execution_count": 196
        }
      ]
    }
  ]
}