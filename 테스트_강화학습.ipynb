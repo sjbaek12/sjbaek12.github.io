{
  "nbformat": 4,
  "nbformat_minor": 0,
  "metadata": {
    "colab": {
      "name": "테스트 강화학습",
      "provenance": [],
      "collapsed_sections": [],
      "authorship_tag": "ABX9TyPOwEmCBLdG/20VuJOlcHMU",
      "include_colab_link": true
    },
    "kernelspec": {
      "name": "python3",
      "display_name": "Python 3"
    }
  },
  "cells": [
    {
      "cell_type": "markdown",
      "metadata": {
        "id": "view-in-github",
        "colab_type": "text"
      },
      "source": [
        "<a href=\"https://colab.research.google.com/github/sjbaek12/sjbaek12.github.io/blob/master/%ED%85%8C%EC%8A%A4%ED%8A%B8_%EA%B0%95%ED%99%94%ED%95%99%EC%8A%B5.ipynb\" target=\"_parent\"><img src=\"https://colab.research.google.com/assets/colab-badge.svg\" alt=\"Open In Colab\"/></a>"
      ]
    },
    {
      "cell_type": "markdown",
      "metadata": {
        "id": "PbNzyGr1xgti",
        "colab_type": "text"
      },
      "source": [
        "어떤 상태에서 특정한 액션을 취하면 리워드가 발생한다.\n",
        "정책신경망에서 어떤 상태일때 액선이 산출되고 그 산출로 인한 리워드가 최대가 되도록 정책신경망의 가중치를 조정한다. 그러면 리워드가 최대가 되는 액션을 산출하는 정책신경망이 될 것이다. \n",
        "\n",
        "loss함수는 리워드가 최대가 되는 액션을 산출했을 때, 마이너스 무한대가 되도록 조정하면 된다. "
      ]
    },
    {
      "cell_type": "markdown",
      "metadata": {
        "id": "n5zyxmm_KOAe",
        "colab_type": "text"
      },
      "source": [
        "먼저 LSTM과 일반적 deep learning 모델을 비교해본 결과 fit 능력에서 차이는 없었다.\n",
        "ㅇᆞ"
      ]
    },
    {
      "cell_type": "code",
      "metadata": {
        "id": "uoNYrqyWxhgZ",
        "colab_type": "code",
        "colab": {}
      },
      "source": [
        "import numpy as np\n",
        "import matplotlib.pyplot as plt"
      ],
      "execution_count": 1,
      "outputs": []
    },
    {
      "cell_type": "code",
      "metadata": {
        "id": "rDPyv4nbyYRY",
        "colab_type": "code",
        "colab": {
          "base_uri": "https://localhost:8080/",
          "height": 269
        },
        "outputId": "638dea4b-7f6f-43b0-f762-d6f7f2b4c0b8"
      },
      "source": [
        "def env():\n",
        "  price=[]\n",
        "  for i in range(30):\n",
        "    bias = np.random.rand(1)\n",
        "    p = -0.01*(i-15)**2 + bias * 0.5\n",
        "    price.append(p[0])\n",
        "  p_mean = np.mean(price)\n",
        "  p_std = np.std(price)\n",
        "  price = (price - p_mean)/p_std\n",
        "  \n",
        "  p_serise= []\n",
        "  for i in range(26):\n",
        "    serise = [np.array(price[i]),np.array(price[i+1]), np.array(price[i+2]), np.array(price[i+3]), np.array(price[i+4])]\n",
        "    serise = np.array(serise)\n",
        "    p_serise.append(serise)\n",
        "  p_serise= p_serise[0:25]\n",
        "  p_serise = np.array(p_serise)\n",
        "  #p_serise = p_serise.reshape(25, 5, 1)\n",
        "  price_lstm = price[5:]\n",
        "  price_lstm = np.array(price_lstm)\n",
        "  return price, p_serise, price_lstm\n",
        "\n",
        "price, p_serise, price_lstm = env()\n",
        "plt.plot(price)\n",
        "plt.show()"
      ],
      "execution_count": 2,
      "outputs": [
        {
          "output_type": "display_data",
          "data": {
            "image/png": "[encoded data removed]",
            "text/plain": [
              "<Figure size 432x288 with 1 Axes>"
            ]
          },
          "metadata": {
            "tags": [],
            "needs_background": "light"
          }
        }
      ]
    },
    {
      "cell_type": "code",
      "metadata": {
        "id": "Ez53Ovrb_Pks",
        "colab_type": "code",
        "colab": {
          "base_uri": "https://localhost:8080/",
          "height": 34
        },
        "outputId": "41d43dd9-fd9c-46ce-aeeb-b5cee8283bae"
      },
      "source": [
        "p_serise[0] "
      ],
      "execution_count": 15,
      "outputs": [
        {
          "output_type": "execute_result",
          "data": {
            "text/plain": [
              "array([-2.19567895, -1.90260542, -1.19901328, -0.66878054, -0.68498446])"
            ]
          },
          "metadata": {
            "tags": []
          },
          "execution_count": 15
        }
      ]
    },
    {
      "cell_type": "code",
      "metadata": {
        "id": "K5bMrbNO5SeR",
        "colab_type": "code",
        "colab": {
          "base_uri": "https://localhost:8080/",
          "height": 34
        },
        "outputId": "02d30c3e-b3d4-4109-dd8d-552ceebaebe2"
      },
      "source": [
        "from tensorflow import keras\n",
        "import tensorflow as tf\n",
        "import keras.layers as layers\n",
        "from keras.layers import LSTM, Dense\n",
        "from keras.models import Model, Sequential\n",
        "from keras.optimizers import Adam, RMSprop\n",
        "from keras.initializers import glorot_uniform\n",
        "from keras.callbacks import ModelCheckpoint, EarlyStopping\n",
        "import keras.backend as K  # 케라스의 backend를 K. 형식으로 호출하는 것이고 여기서는 tensorflow이다."
      ],
      "execution_count": 4,
      "outputs": [
        {
          "output_type": "stream",
          "text": [
            "Using TensorFlow backend.\n"
          ],
          "name": "stderr"
        }
      ]
    },
    {
      "cell_type": "code",
      "metadata": {
        "id": "2gWNXKuA8QVH",
        "colab_type": "code",
        "colab": {}
      },
      "source": [
        "#inp_L = layers.Input(shape=(5,1),name=\"input_L\")\n",
        "#dense_L = LSTM(5, return_sequences=False)(inp_L)\n",
        "inp_L = layers.Input(shape=(5,),name=\"input_L\")\n",
        "#dense_L = Dense(64)(dense_L)\n",
        "dense_L = Dense(64)(inp_L)\n",
        "output_L = Dense(1)(dense_L)\n",
        "\n",
        "model_lstm = Model(inputs=inp_L, outputs = output_L)"
      ],
      "execution_count": 5,
      "outputs": []
    },
    {
      "cell_type": "code",
      "metadata": {
        "id": "yTxrQaaZ8QQ_",
        "colab_type": "code",
        "colab": {
          "base_uri": "https://localhost:8080/",
          "height": 263
        },
        "outputId": "e236d53e-bba0-44fd-aee6-c0c02291f426"
      },
      "source": [
        "model_lstm.summary()"
      ],
      "execution_count": 6,
      "outputs": [
        {
          "output_type": "stream",
          "text": [
            "Model: \"model_1\"\n",
            "_________________________________________________________________\n",
            "Layer (type)                 Output Shape              Param #   \n",
            "=================================================================\n",
            "input_L (InputLayer)         (None, 5)                 0         \n",
            "_________________________________________________________________\n",
            "dense_1 (Dense)              (None, 64)                384       \n",
            "_________________________________________________________________\n",
            "dense_2 (Dense)              (None, 1)                 65        \n",
            "=================================================================\n",
            "Total params: 449\n",
            "Trainable params: 449\n",
            "Non-trainable params: 0\n",
            "_________________________________________________________________\n"
          ],
          "name": "stdout"
        }
      ]
    },
    {
      "cell_type": "code",
      "metadata": {
        "id": "nq9u7FVL8QMN",
        "colab_type": "code",
        "colab": {}
      },
      "source": [
        "optimizer = tf.keras.optimizers.Adam(lr=0.001)\n",
        "model_lstm.compile(loss='mse', optimizer=optimizer, metrics=['mae'])"
      ],
      "execution_count": 7,
      "outputs": []
    },
    {
      "cell_type": "code",
      "metadata": {
        "id": "HzEFHZQ--JZt",
        "colab_type": "code",
        "colab": {}
      },
      "source": [
        "history_lstm = model_lstm.fit(p_serise, price_lstm, epochs=150, verbose=0)"
      ],
      "execution_count": 8,
      "outputs": []
    },
    {
      "cell_type": "code",
      "metadata": {
        "id": "HkHpoNBRDZ3u",
        "colab_type": "code",
        "colab": {
          "base_uri": "https://localhost:8080/",
          "height": 265
        },
        "outputId": "7afadd4e-a43e-4b58-883d-011c86440ad9"
      },
      "source": [
        "plt.plot(history_lstm.history['loss'])\n",
        "plt.show()"
      ],
      "execution_count": 9,
      "outputs": [
        {
          "output_type": "display_data",
          "data": {
            "image/png": "[encoded data removed]",
            "text/plain": [
              "<Figure size 432x288 with 1 Axes>"
            ]
          },
          "metadata": {
            "tags": [],
            "needs_background": "light"
          }
        }
      ]
    },
    {
      "cell_type": "code",
      "metadata": {
        "id": "dUOFL8eADyES",
        "colab_type": "code",
        "colab": {
          "base_uri": "https://localhost:8080/",
          "height": 265
        },
        "outputId": "93a3cd87-0172-4ac4-dff5-96440c46df22"
      },
      "source": [
        "plt.plot(model_lstm.predict(p_serise), 'b')\n",
        "plt.plot(price_lstm, 'r')\n",
        "plt.show()"
      ],
      "execution_count": 10,
      "outputs": [
        {
          "output_type": "display_data",
          "data": {
            "image/png": "[encoded data removed]",
            "text/plain": [
              "<Figure size 432x288 with 1 Axes>"
            ]
          },
          "metadata": {
            "tags": [],
            "needs_background": "light"
          }
        }
      ]
    },
    {
      "cell_type": "code",
      "metadata": {
        "id": "p8zBWdJ35tnM",
        "colab_type": "code",
        "colab": {
          "base_uri": "https://localhost:8080/",
          "height": 70
        },
        "outputId": "e327647f-cdde-4dcf-aba0-ca4328d7adcc"
      },
      "source": [
        "test = np.array([[-4.19567895, -2.90260542, -1.19901328, -0.66878054, -0.18498446],\n",
        "[-0.19567895, -0.90260542, -1.19901328, -0.66878054, -0.18498446],\n",
        "[-0.19567895, -0.90260542, -1.19901328, -2.66878054, -10.18498446],\n",
        "])\n",
        "a = model_lstm.predict(test)\n",
        "print(a)"
      ],
      "execution_count": 17,
      "outputs": [
        {
          "output_type": "stream",
          "text": [
            "[[ 0.7587365]\n",
            " [-0.4001713]\n",
            " [-8.705329 ]]\n"
          ],
          "name": "stdout"
        }
      ]
    },
    {
      "cell_type": "code",
      "metadata": {
        "id": "nzDJYcmXu5I1",
        "colab_type": "code",
        "colab": {}
      },
      "source": [
        "# 랜덤하게 행동들을 만들어낸다. 사실 이건 필요하지 않다.\n",
        "\n",
        "def act():\n",
        "  actions = []\n",
        "  for i in range(30):\n",
        "    if np.random.rand() > 0.5:\n",
        "      act = 1\n",
        "    else:\n",
        "      act = 0\n",
        "    actions.append(act)\n",
        "  return actions"
      ],
      "execution_count": null,
      "outputs": []
    },
    {
      "cell_type": "code",
      "metadata": {
        "id": "5sickMncbPkq",
        "colab_type": "code",
        "colab": {}
      },
      "source": [
        "y = act()"
      ],
      "execution_count": null,
      "outputs": []
    },
    {
      "cell_type": "code",
      "metadata": {
        "id": "0YdLsJ9evaNw",
        "colab_type": "code",
        "colab": {
          "base_uri": "https://localhost:8080/",
          "height": 545
        },
        "outputId": "211dc72d-15a5-4998-e9c9-ded54ecb0573"
      },
      "source": [
        "y"
      ],
      "execution_count": null,
      "outputs": [
        {
          "output_type": "execute_result",
          "data": {
            "text/plain": [
              "[0,\n",
              " 0,\n",
              " 0,\n",
              " 1,\n",
              " 0,\n",
              " 1,\n",
              " 0,\n",
              " 1,\n",
              " 1,\n",
              " 0,\n",
              " 1,\n",
              " 1,\n",
              " 1,\n",
              " 0,\n",
              " 1,\n",
              " 0,\n",
              " 0,\n",
              " 1,\n",
              " 1,\n",
              " 0,\n",
              " 0,\n",
              " 0,\n",
              " 0,\n",
              " 1,\n",
              " 0,\n",
              " 0,\n",
              " 0,\n",
              " 0,\n",
              " 1,\n",
              " 1]"
            ]
          },
          "metadata": {
            "tags": []
          },
          "execution_count": 8
        }
      ]
    },
    {
      "cell_type": "code",
      "metadata": {
        "id": "WHj67ld7vbFm",
        "colab_type": "code",
        "colab": {
          "base_uri": "https://localhost:8080/",
          "height": 34
        },
        "outputId": "33ed8f96-4655-407a-b2ca-87bdd24e42e9"
      },
      "source": [
        "print(reward(price, y))"
      ],
      "execution_count": null,
      "outputs": [
        {
          "output_type": "stream",
          "text": [
            "[0, -1, -2, -3, -2, -3, -2, -3, -2, -1, -2, -1, 0, 1, 0, -1, -1, -1, 0, -1, -1, -1, -1, -1, -2, -2, -2, -2, -2, -3]\n"
          ],
          "name": "stdout"
        }
      ]
    },
    {
      "cell_type": "code",
      "metadata": {
        "id": "fD-VnWccwEUw",
        "colab_type": "code",
        "colab": {}
      },
      "source": [
        "def reward (price, action):\n",
        "  reward =[0]\n",
        "  \n",
        "  for i in range(0, len(price)-1):\n",
        "    reward_sum = 0\n",
        "    price_gap = price[i+1]- price[i]\n",
        "    if price_gap > 0 and action[i] == 1 :\n",
        "       reward_sum = reward[i] + 1\n",
        "       reward.append(reward_sum)\n",
        "    if price_gap > 0 and action[i] == 0 :\n",
        "       reward_sum = reward[i] -1\n",
        "       reward.append(reward_sum)\n",
        "    if price_gap < 0 and action[i] == 1 :\n",
        "       reward_sum = reward[i] -1\n",
        "       reward.append(reward_sum)\n",
        "    if price_gap < 0 and action[i] == 0 :\n",
        "       reward_sum = reward[i] \n",
        "       reward.append(reward_sum)\n",
        "  return reward"
      ],
      "execution_count": null,
      "outputs": []
    },
    {
      "cell_type": "code",
      "metadata": {
        "id": "ClU1eJNLD8RY",
        "colab_type": "code",
        "colab": {}
      },
      "source": [
        "import tensorflow as tf\n",
        "y_encoded = tf.keras.utils.to_categorical(y) # softmax를 사용하려면 출력 unit이 여러개이기 때문에 그것에 맞추어 y값을 변경하여야 한다."
      ],
      "execution_count": null,
      "outputs": []
    },
    {
      "cell_type": "code",
      "metadata": {
        "id": "OVhuW5FBEM8A",
        "colab_type": "code",
        "colab": {
          "base_uri": "https://localhost:8080/",
          "height": 545
        },
        "outputId": "0190ae6c-17ae-4b65-cf5b-99057f8dd532"
      },
      "source": [
        "y_encoded"
      ],
      "execution_count": null,
      "outputs": [
        {
          "output_type": "execute_result",
          "data": {
            "text/plain": [
              "array([[1., 0.],\n",
              "       [1., 0.],\n",
              "       [0., 1.],\n",
              "       [0., 1.],\n",
              "       [1., 0.],\n",
              "       [0., 1.],\n",
              "       [1., 0.],\n",
              "       [1., 0.],\n",
              "       [1., 0.],\n",
              "       [0., 1.],\n",
              "       [0., 1.],\n",
              "       [0., 1.],\n",
              "       [0., 1.],\n",
              "       [0., 1.],\n",
              "       [1., 0.],\n",
              "       [0., 1.],\n",
              "       [0., 1.],\n",
              "       [1., 0.],\n",
              "       [1., 0.],\n",
              "       [0., 1.],\n",
              "       [1., 0.],\n",
              "       [0., 1.],\n",
              "       [0., 1.],\n",
              "       [0., 1.],\n",
              "       [0., 1.],\n",
              "       [0., 1.],\n",
              "       [1., 0.],\n",
              "       [0., 1.],\n",
              "       [0., 1.],\n",
              "       [0., 1.]], dtype=float32)"
            ]
          },
          "metadata": {
            "tags": []
          },
          "execution_count": 10
        }
      ]
    },
    {
      "cell_type": "markdown",
      "metadata": {
        "id": "ZqnDeQDebd7L",
        "colab_type": "text"
      },
      "source": [
        "만약 정책함수에서 softmax가 행동대안을 산출하면 각 행동대안이 갖는 확률을 기반으로 하여 새로운 행동을 산출한다. 만약 각 행동대안의 확율이 높아 질 수록 산출할 행동 대안의 모습은 수렴해 갈 것이다."
      ]
    },
    {
      "cell_type": "code",
      "metadata": {
        "id": "bUP7ErWSq7Q-",
        "colab_type": "code",
        "colab": {}
      },
      "source": [
        " def act_selection(act):\n",
        "   acts = []\n",
        "   for i in range(0, len(act)):\n",
        "     action = np.random.choice(2,p=act[i])\n",
        "     acts.append(action)\n",
        "   return acts"
      ],
      "execution_count": null,
      "outputs": []
    },
    {
      "cell_type": "markdown",
      "metadata": {
        "id": "hZ94IMpkGo4Q",
        "colab_type": "text"
      },
      "source": [
        "custom loss 함수를 테스트 해본다."
      ]
    },
    {
      "cell_type": "code",
      "metadata": {
        "id": "oeNsD1JMGuKf",
        "colab_type": "code",
        "colab": {
          "base_uri": "https://localhost:8080/",
          "height": 34
        },
        "outputId": "f5900976-abc9-41c8-bd69-e30e707a5430"
      },
      "source": [
        "from tensorflow import keras\n",
        "import keras.layers as layers\n",
        "from keras.layers import LSTM, Dense\n",
        "from keras.models import Model, Sequential\n",
        "from keras.optimizers import Adam, RMSprop\n",
        "from keras.initializers import glorot_uniform\n",
        "from keras.callbacks import ModelCheckpoint, EarlyStopping\n",
        "import keras.backend as K  # 케라스의 backend를 K. 형식으로 호출하는 것이고 여기서는 tensorflow이다."
      ],
      "execution_count": null,
      "outputs": [
        {
          "output_type": "stream",
          "text": [
            "Using TensorFlow backend.\n"
          ],
          "name": "stderr"
        }
      ]
    },
    {
      "cell_type": "code",
      "metadata": {
        "id": "Whc8OKjFG7q9",
        "colab_type": "code",
        "colab": {}
      },
      "source": [
        "def my_loss(y_true, y_pred):\n",
        "  y_true = y_true **2\n",
        "  y_pred = y_pred **2\n",
        "  loss = K.mean(K.abs(y_true - y_pred) + K.square(y_true - y_pred))\n",
        "  return loss * multip\n",
        "\n",
        "\n",
        "# metric는 중요하지 않다.\n",
        "\n",
        "def my_metric(y_true, y_pred):\n",
        "  return K.mean(K.abs(y_true - y_pred)) * 1000"
      ],
      "execution_count": null,
      "outputs": []
    },
    {
      "cell_type": "code",
      "metadata": {
        "id": "wGgNDmfXH4BN",
        "colab_type": "code",
        "colab": {}
      },
      "source": [
        "def get_policy_model(lr):\n",
        "  inp = layers.Input(shape=(1,),name=\"input_x\")\n",
        "  multip = layers.Input(shape=[1], name=\"advantages\") # [1]의 대안 (1,) 이다\n",
        "  x = layers.Dense(4, activation=\"relu\", kernel_initializer=glorot_uniform(seed=42), use_bias=False, kernel_regularizer=keras.regularizers.l2(0.001), name=\"dense_1\")(inp)\n",
        "  output = layers.Dense(2, activation=\"softmax\",kernel_initializer=glorot_uniform(seed=42), use_bias=False, kernel_regularizer=keras.regularizers.l2(0.001), name=\"out\")(x)\n",
        "  model_train = Model(inputs=[inp, multip], outputs = output)\n",
        "\n",
        "  # loss 함수를 actual과 predict가 같을때 -무한대가 되도록 만든다. 완전히 틀리면 0 이므로 loss 함수의 값의 범위는 -무한대 ~ 0 이다.\n",
        "  def custom_loss(y_true, y_pred):\n",
        "    # actual: 0 predict: 0 -> log(0 * (0 - 0) + (1 - 0) * (0 + 0)) = -inf   log(0) = - inf\n",
        "    # actual: 1 predict: 1 -> log(1 * (1 - 1) + (1 - 1) * (1 + 1)) = -inf   \n",
        "    # actual: 1 predict: 0 -> log(1 * (1 - 0) + (1 - 1) * (1 + 0)) = 0      log(1) = 0\n",
        "    # actual: 0 predict: 1 -> log(0 * (0 - 1) + (1 - 0) * (0 + 1)) = 0\n",
        "    a = y_true * (y_true - y_pred) + (1 - y_true) * (y_true + y_pred)\n",
        "#    a = 0.00000000000000000000000001 + a  # 0가 입력되면 - inf가 되어 NaN 나온다. 이를 방지하기 위해서 아주 작은 수를 더해 준다.\n",
        "    log_lik = K.log(a)\n",
        " #   log_lik = K.log(y_true * (y_true - y_pred) + (1 - y_true) * (y_true + y_pred))\n",
        "    return K.mean(log_lik * multip, keepdims=True)\n",
        "\n",
        "# 핵심은 loss 함수에 어떤 가중치를 곱해 준다는 것이다. 여기서는 10개의 state가 입력되어서 10개의 행동대안을 산출하는데,\n",
        "# 이것이 한개의 에피소드를 구성하게 된다. 그리고 \n",
        "# 10개의 입력에 대한 10개의 오류가 계산되고 각 오류에 각각의 multiple을 곱해주고 이를 다시 평균로 구한 것이 \n",
        "# 각 epochs의 loss값이 된다. \n",
        "\n",
        "\n",
        "  model_train.compile(loss=custom_loss, optimizer=Adam(lr), metrics = [my_metric])\n",
        "  model_predict = Model(inputs=[inp], outputs = output)\n",
        "  return model_train, model_predict"
      ],
      "execution_count": null,
      "outputs": []
    },
    {
      "cell_type": "code",
      "metadata": {
        "id": "ru7MwGfjMig3",
        "colab_type": "code",
        "colab": {}
      },
      "source": [
        "model_train, model_predict = get_policy_model(0.01)"
      ],
      "execution_count": null,
      "outputs": []
    },
    {
      "cell_type": "code",
      "metadata": {
        "id": "yE7h6QbuMq45",
        "colab_type": "code",
        "colab": {
          "base_uri": "https://localhost:8080/",
          "height": 263
        },
        "outputId": "b0a3166f-7aa5-4d66-a784-23a6d8847308"
      },
      "source": [
        "model_train.summary()"
      ],
      "execution_count": null,
      "outputs": [
        {
          "output_type": "stream",
          "text": [
            "Model: \"model_1\"\n",
            "_________________________________________________________________\n",
            "Layer (type)                 Output Shape              Param #   \n",
            "=================================================================\n",
            "input_x (InputLayer)         (None, 1)                 0         \n",
            "_________________________________________________________________\n",
            "dense_1 (Dense)              (None, 4)                 4         \n",
            "_________________________________________________________________\n",
            "out (Dense)                  (None, 2)                 8         \n",
            "=================================================================\n",
            "Total params: 12\n",
            "Trainable params: 12\n",
            "Non-trainable params: 0\n",
            "_________________________________________________________________\n"
          ],
          "name": "stdout"
        }
      ]
    },
    {
      "cell_type": "code",
      "metadata": {
        "id": "uA6-PGbtd48V",
        "colab_type": "code",
        "colab": {}
      },
      "source": [
        ""
      ],
      "execution_count": null,
      "outputs": []
    },
    {
      "cell_type": "code",
      "metadata": {
        "id": "bHBAqZNpGJiT",
        "colab_type": "code",
        "colab": {}
      },
      "source": [
        "# 하나의 에피소드 내에서 지연된 보상을 하기 위한 방법이다. \n",
        "\n",
        "def discount_rewards(r, gamma=0.99):\n",
        "    \"\"\"Takes 1d float array of rewards and computes discounted reward\n",
        "    e.g. f([1, 1, 1], 0.99) -> [2.9701, 1.99, 1]\n",
        "    \"\"\"\n",
        "    prior = 0\n",
        "    out = []\n",
        "    r = r[::-1]\n",
        "    for val in r:\n",
        "        new_val = val + prior * gamma\n",
        "        out.append(new_val)\n",
        "        prior = new_val\n",
        "    return np.array(out)"
      ],
      "execution_count": null,
      "outputs": []
    },
    {
      "cell_type": "code",
      "metadata": {
        "id": "9mnjJQyQLm9P",
        "colab_type": "code",
        "colab": {}
      },
      "source": [
        "# test_set에 적용하는 함수\n",
        "\n",
        "def score_model(model_predict, num_tests):\n",
        "    scores = []    \n",
        "    for num_test in range(num_tests):\n",
        "        observation = env()\n",
        "        forcasts = model_predict.predict(observation)\n",
        "        rw = reward(observation, np.argmax(forcasts, axis=1))\n",
        "        scores.append(rw)\n",
        "    return np.mean(scores)"
      ],
      "execution_count": null,
      "outputs": []
    },
    {
      "cell_type": "code",
      "metadata": {
        "id": "pekZ5hube7jg",
        "colab_type": "code",
        "colab": {}
      },
      "source": [
        ""
      ],
      "execution_count": null,
      "outputs": []
    },
    {
      "cell_type": "code",
      "metadata": {
        "id": "Obotln2Le7e0",
        "colab_type": "code",
        "colab": {
          "base_uri": "https://localhost:8080/",
          "height": 873
        },
        "outputId": "73b3256d-bf95-4d76-f69f-196d51218fcc"
      },
      "source": [
        "\n",
        "# Setting up our environment\n",
        "\n",
        "num_actions = 2\n",
        "num_episode = 0\n",
        "num_episodes = 100\n",
        "\n",
        "small_num = 0.000001\n",
        "\n",
        "while num_episode < num_episodes:\n",
        "\n",
        "    losses = []\n",
        "    state = env() # 한개의 state를 발생시킨다.\n",
        "    state = state.astype(float) # nan 발생을 막기 위한 시도이다.\n",
        "\n",
        "    for i in range(500):\n",
        "      predict = model_predict.predict(state)  # 한개의 state를 input해서 신경망을 통해 action을 만들어낸다.\n",
        "      \n",
        "      for i in range(0, len(predict)):     # 예측값이 극단으로 나와서 무한대가 나오지 않도록 조정한다. 시그모이드는 극단값에 오류가 날 가능성이 많다.  nan 발생을 막기 위한 시도이다\n",
        "        if predict[i][0] > 0.99999:\n",
        "          predict[i][0] = predict[i][0] - small_num\n",
        "        if predict[i][0] < 0.00001:\n",
        "          predict[i][0] = predict[i][0] + small_num\n",
        "        if predict[i][1] > 0.99999:\n",
        "          predict[i][1] = predict[i][1] - small_num\n",
        "        if predict[i][1] < 0.00001:\n",
        "          predict[i][1] = predict[i][1] + small_num\n",
        "        pre_sum = predict[i][0] + predict[i][1]\n",
        "        predict[i][0] = predict[i][0] / pre_sum\n",
        "        predict[i][1] = predict[i][1] / pre_sum\n",
        "  \n",
        "      \n",
        "      \n",
        "\n",
        "\n",
        "      acts = []\n",
        "      for i in range(0, len(predict)):\n",
        "        if np.isnan(predict[i][0]) or np.isnan(predict[i][1]):\n",
        "          action = np.random.choice(range(num_actions),p=[0.5, 0.5])\n",
        "          acts.append(action)\n",
        "        else:\n",
        "          action = np.random.choice(range(num_actions),p=predict[i]) # 대안 중에서 하나를 선택한다. p=[0.4, 0.6] 대안이 선택될 확율이다. action은 0 또는 1 이된다.\n",
        "          acts.append(action)\n",
        "\n",
        "      e_r = reward(state, acts)\n",
        "\n",
        "      if e_r[-1] > 20.0:\n",
        "        break\n",
        "      else:\n",
        "        discounted_reward = discount_rewards(e_r)\n",
        "        discounted_reward -= np.mean(discounted_reward)/np.std(discounted_reward)\n",
        "        y_encoded = tf.keras.utils.to_categorical(acts)\n",
        "        loss = model_train.train_on_batch([state, discounted_reward], y_encoded)\n",
        "        \n",
        "\n",
        "    losses.append(loss)\n",
        "    hit = score_model(model_predict, 10)\n",
        "    \n",
        "    print(\"num_episode: \",num_episode, \"loss: \", losses[-1][0], \"model_reward: \", hit)\n",
        "\n",
        "    num_episode += 1\n"
      ],
      "execution_count": null,
      "outputs": [
        {
          "output_type": "stream",
          "text": [
            "num_episode:  0 loss:  29.628794 model_reward:  -4.34\n",
            "num_episode:  1 loss:  51.812412 model_reward:  7.68\n",
            "num_episode:  2 loss:  21.766575 model_reward:  7.18\n",
            "num_episode:  3 loss:  49.013206 model_reward:  7.2\n",
            "num_episode:  4 loss:  1.2301313 model_reward:  7.506666666666667\n",
            "num_episode:  5 loss:  23.718702 model_reward:  7.28\n",
            "num_episode:  6 loss:  57.959553 model_reward:  6.953333333333333\n",
            "num_episode:  7 loss:  47.23328 model_reward:  7.3533333333333335\n",
            "num_episode:  8 loss:  40.5295 model_reward:  7.433333333333334\n",
            "num_episode:  9 loss:  107.24373 model_reward:  7.48\n",
            "num_episode:  10 loss:  40.82107 model_reward:  7.846666666666667\n",
            "num_episode:  11 loss:  35.067852 model_reward:  7.35\n",
            "num_episode:  12 loss:  33.600254 model_reward:  1.42\n",
            "num_episode:  13 loss:  -13.031285 model_reward:  -3.8066666666666666\n",
            "num_episode:  14 loss:  12.904467 model_reward:  7.02\n",
            "num_episode:  15 loss:  17.590446 model_reward:  6.72\n",
            "num_episode:  16 loss:  -10.471379 model_reward:  7.42\n",
            "num_episode:  17 loss:  14.392699 model_reward:  -4.366666666666666\n",
            "num_episode:  18 loss:  -0.21690942 model_reward:  -4.1866666666666665\n",
            "num_episode:  19 loss:  -6.359866 model_reward:  5.846666666666667\n",
            "num_episode:  20 loss:  39.61254 model_reward:  7.46\n",
            "num_episode:  21 loss:  44.95037 model_reward:  7.053333333333334\n",
            "num_episode:  22 loss:  67.37268 model_reward:  7.426666666666667\n",
            "num_episode:  23 loss:  87.05838 model_reward:  7.36\n",
            "num_episode:  24 loss:  37.051003 model_reward:  7.526666666666666\n",
            "num_episode:  25 loss:  -34.065002 model_reward:  7.38\n",
            "num_episode:  26 loss:  22.964535 model_reward:  7.62\n",
            "num_episode:  27 loss:  53.686928 model_reward:  7.233333333333333\n",
            "num_episode:  28 loss:  93.541145 model_reward:  7.68\n",
            "num_episode:  29 loss:  nan model_reward:  -10.933333333333334\n",
            "num_episode:  30 loss:  nan model_reward:  -10.85\n",
            "num_episode:  31 loss:  nan model_reward:  -10.933333333333334\n",
            "num_episode:  32 loss:  nan model_reward:  -10.93\n",
            "num_episode:  33 loss:  nan model_reward:  -11.08\n",
            "num_episode:  34 loss:  nan model_reward:  -10.936666666666667\n",
            "num_episode:  35 loss:  nan model_reward:  -10.996666666666666\n"
          ],
          "name": "stdout"
        },
        {
          "output_type": "error",
          "ename": "KeyboardInterrupt",
          "evalue": "ignored",
          "traceback": [
            "\u001b[0;31m---------------------------------------------------------------------------\u001b[0m",
            "\u001b[0;31mKeyboardInterrupt\u001b[0m                         Traceback (most recent call last)",
            "\u001b[0;32m<ipython-input-23-a606b2e600e2>\u001b[0m in \u001b[0;36m<module>\u001b[0;34m()\u001b[0m\n\u001b[1;32m     35\u001b[0m \u001b[0;34m\u001b[0m\u001b[0m\n\u001b[1;32m     36\u001b[0m       \u001b[0macts\u001b[0m \u001b[0;34m=\u001b[0m \u001b[0;34m[\u001b[0m\u001b[0;34m]\u001b[0m\u001b[0;34m\u001b[0m\u001b[0;34m\u001b[0m\u001b[0m\n\u001b[0;32m---> 37\u001b[0;31m       \u001b[0;32mfor\u001b[0m \u001b[0mi\u001b[0m \u001b[0;32min\u001b[0m \u001b[0mrange\u001b[0m\u001b[0;34m(\u001b[0m\u001b[0;36m0\u001b[0m\u001b[0;34m,\u001b[0m \u001b[0mlen\u001b[0m\u001b[0;34m(\u001b[0m\u001b[0mpredict\u001b[0m\u001b[0;34m)\u001b[0m\u001b[0;34m)\u001b[0m\u001b[0;34m:\u001b[0m\u001b[0;34m\u001b[0m\u001b[0;34m\u001b[0m\u001b[0m\n\u001b[0m\u001b[1;32m     38\u001b[0m         \u001b[0;32mif\u001b[0m \u001b[0mnp\u001b[0m\u001b[0;34m.\u001b[0m\u001b[0misnan\u001b[0m\u001b[0;34m(\u001b[0m\u001b[0mpredict\u001b[0m\u001b[0;34m[\u001b[0m\u001b[0mi\u001b[0m\u001b[0;34m]\u001b[0m\u001b[0;34m[\u001b[0m\u001b[0;36m0\u001b[0m\u001b[0;34m]\u001b[0m\u001b[0;34m)\u001b[0m \u001b[0;32mor\u001b[0m \u001b[0mnp\u001b[0m\u001b[0;34m.\u001b[0m\u001b[0misnan\u001b[0m\u001b[0;34m(\u001b[0m\u001b[0mpredict\u001b[0m\u001b[0;34m[\u001b[0m\u001b[0mi\u001b[0m\u001b[0;34m]\u001b[0m\u001b[0;34m[\u001b[0m\u001b[0;36m1\u001b[0m\u001b[0;34m]\u001b[0m\u001b[0;34m)\u001b[0m\u001b[0;34m:\u001b[0m\u001b[0;34m\u001b[0m\u001b[0;34m\u001b[0m\u001b[0m\n\u001b[1;32m     39\u001b[0m           \u001b[0maction\u001b[0m \u001b[0;34m=\u001b[0m \u001b[0mnp\u001b[0m\u001b[0;34m.\u001b[0m\u001b[0mrandom\u001b[0m\u001b[0;34m.\u001b[0m\u001b[0mchoice\u001b[0m\u001b[0;34m(\u001b[0m\u001b[0mrange\u001b[0m\u001b[0;34m(\u001b[0m\u001b[0mnum_actions\u001b[0m\u001b[0;34m)\u001b[0m\u001b[0;34m,\u001b[0m\u001b[0mp\u001b[0m\u001b[0;34m=\u001b[0m\u001b[0;34m[\u001b[0m\u001b[0;36m0.5\u001b[0m\u001b[0;34m,\u001b[0m \u001b[0;36m0.5\u001b[0m\u001b[0;34m]\u001b[0m\u001b[0;34m)\u001b[0m\u001b[0;34m\u001b[0m\u001b[0;34m\u001b[0m\u001b[0m\n",
            "\u001b[0;31mKeyboardInterrupt\u001b[0m: "
          ]
        }
      ]
    },
    {
      "cell_type": "code",
      "metadata": {
        "id": "ElTAbmUkaHWj",
        "colab_type": "code",
        "colab": {}
      },
      "source": [
        "predict = model_predict.predict(state)"
      ],
      "execution_count": null,
      "outputs": []
    },
    {
      "cell_type": "code",
      "metadata": {
        "id": "VHefhUgGe7U9",
        "colab_type": "code",
        "colab": {
          "base_uri": "https://localhost:8080/",
          "height": 545
        },
        "outputId": "453a11ea-197c-436b-962a-e0390348205d"
      },
      "source": [
        "for i in range(len(predict)):\n",
        "  print(np.argmax(predict[i]))"
      ],
      "execution_count": null,
      "outputs": [
        {
          "output_type": "stream",
          "text": [
            "0\n",
            "0\n",
            "0\n",
            "0\n",
            "0\n",
            "0\n",
            "0\n",
            "0\n",
            "0\n",
            "0\n",
            "0\n",
            "0\n",
            "0\n",
            "0\n",
            "0\n",
            "0\n",
            "0\n",
            "0\n",
            "0\n",
            "0\n",
            "0\n",
            "0\n",
            "0\n",
            "0\n",
            "0\n",
            "0\n",
            "0\n",
            "0\n",
            "0\n",
            "0\n"
          ],
          "name": "stdout"
        }
      ]
    },
    {
      "cell_type": "code",
      "metadata": {
        "id": "xEWVw9NO5TBV",
        "colab_type": "code",
        "colab": {
          "base_uri": "https://localhost:8080/",
          "height": 34
        },
        "outputId": "33f0c0bd-1dfa-45e6-ef61-a5e710d7d2e2"
      },
      "source": [
        "np.log(0.0000000000000000000000000000000000000000000000000000000001)"
      ],
      "execution_count": null,
      "outputs": [
        {
          "output_type": "execute_result",
          "data": {
            "text/plain": [
              "-133.54993539365464"
            ]
          },
          "metadata": {
            "tags": []
          },
          "execution_count": 25
        }
      ]
    },
    {
      "cell_type": "code",
      "metadata": {
        "id": "nvqc_ZZ0lr2A",
        "colab_type": "code",
        "colab": {
          "base_uri": "https://localhost:8080/",
          "height": 688
        },
        "outputId": "a970f52f-6996-47dd-ccc2-47483b916925"
      },
      "source": [
        "## 여기부터 재작성\n",
        "\n",
        "reward_sum = 0\n",
        "num_actions = 2\n",
        "dimen = 10\n",
        "batch_size = 5\n",
        "\n",
        "# Placeholders for our observations, outputs and rewards\n",
        "states = np.empty(0).reshape(0,dimen)\n",
        "actions = np.empty(0).reshape(0,dimen)\n",
        "rewards = np.empty(0).reshape(0,dimen)\n",
        "discounted_rewards = np.empty(0).reshape(0,dimen)\n",
        "\n",
        "# Setting up our environment\n",
        "state = env() # 한개의 state를 발생시킨다.\n",
        "\n",
        "num_episode = 0\n",
        "num_episodes = 500\n",
        "\n",
        "losses = []\n",
        "\n",
        "while num_episode < num_episodes:\n",
        "    \n",
        "    predict = model_predict.predict(state)  # 한개의 state를 input해서 신경망을 통해 action을 만들어낸다.\n",
        "    \n",
        "    #print(predict)\n",
        "\n",
        "    acts = []\n",
        "    for i in range(0, len(predict)):\n",
        "      action = np.random.choice(range(num_actions),p=predict[i]) # 대안 중에서 하나를 선택한다. p=[0.4, 0.6] 대안이 선택될 확율이다. action은 0 또는 1 이된다.\n",
        "      acts.append(action)\n",
        "\n",
        "    #print(acts)\n",
        "\n",
        "    e_r = reward(state, acts)\n",
        "\n",
        "\n",
        "\n",
        "    # Append the observations and outputs for learning\n",
        "    states = np.vstack([states, state]) # 미리 만들어 놓은 placeholder인 states에 while문 밖에서 만들어낸 state를 append 시키다.\n",
        "    actions = np.vstack([actions, acts]) # 동일하게 state가 입력이 되어서 신경망이 산출한 행동을 확율적으로 선택한 행동을 actions에 append한다.\n",
        "\n",
        "    #print(actions)\n",
        "\n",
        "    rewards = np.vstack([rewards, e_r])\n",
        "\n",
        "    #print(rewards)\n",
        "\n",
        "    if np.sum(e_r) > 8 or len(states) >= 20:\n",
        "      # Determine standardized rewards\n",
        "      for i in range(0, len(rewards)-1):\n",
        "        discounted_rewards_episode = discount_rewards(rewards[i], gamma=0.99)\n",
        "        discounted_rewards = np.vstack([discounted_rewards, discounted_rewards_episode])\n",
        "\n",
        "      \n",
        "\n",
        "      for i in range(0, len(discounted_rewards)-1):  \n",
        "        discounted_rewards[i] -= discounted_rewards[i].mean()\n",
        "        discounted_rewards[i] /= discounted_rewards[i].std()\n",
        "        discounted_rewards = discounted_rewards.squeeze()\n",
        "\n",
        "            \n",
        "      actions = actions.squeeze().astype(int)  # squeeze 함수는 배열에서 차원이 1인 것을 찾아서 없애버린다. 예) (2,2,1) --> (2,2)\n",
        "   \n",
        "\n",
        "      y_target = []\n",
        "      for i in range(0, len(actions)-1):\n",
        "        actions_train = np.zeros([len(actions[i]), num_actions])\n",
        "        actions_train[np.arange(len(actions[i])), actions[i]] = 1\n",
        "        y_target.append(actions_train)\n",
        "\n",
        "\n",
        "\n",
        "      for i in range(0, len(states)-1):\n",
        "        loss = model_train.train_on_batch([states[i], discounted_rewards[i]], y_target[i])\n",
        "        losses.append(loss)\n",
        "        hit = score_model(model_predict, 100)\n",
        "\n",
        "      print(losses, \"score is:\", hit)\n",
        "\n",
        "      #hit = score_model(model_predict, 100)\n",
        "      #print(hit)\n",
        "\n",
        "            \n",
        "      states = np.empty(0).reshape(0,dimen)\n",
        "      actions = np.empty(0).reshape(0,dimen)\n",
        "      rewards = np.empty(0).reshape(0,dimen)\n",
        "      discounted_rewards = np.empty(0).reshape(0,dimen)\n",
        "\n",
        "    num_episode += 1\n"
      ],
      "execution_count": null,
      "outputs": [
        {
          "output_type": "stream",
          "text": [
            "[[-0.17134354, 424.02673], [-0.17666495, 402.87653], [-0.17286736, 473.20026], [-0.20000513, 425.26587], [-0.4921371, 447.9498]] score is: 3.54\n",
            "[[-0.17134354, 424.02673], [-0.17666495, 402.87653], [-0.17286736, 473.20026], [-0.20000513, 425.26587], [-0.4921371, 447.9498], [-0.08437457, 480.33896], [-0.012353575, 484.61636], [0.006205964, 560.36475], [-0.19773993, 422.5599], [0.005452824, 413.22583], [-0.10748787, 452.38953], [-0.10706987, 464.27267], [-0.22374515, 433.20386], [-0.123715356, 413.9975], [-0.03620839, 423.74664], [-0.15655065, 474.16736], [-0.09205987, 481.48737], [-0.2051022, 389.10062], [-0.11515021, 530.37274], [-0.22005029, 420.79654], [-0.21384712, 409.01703], [-0.15261897, 465.4117], [-0.19413432, 406.67566], [-0.35986453, 434.7005]] score is: 3.82\n",
            "[[-0.17134354, 424.02673], [-0.17666495, 402.87653], [-0.17286736, 473.20026], [-0.20000513, 425.26587], [-0.4921371, 447.9498], [-0.08437457, 480.33896], [-0.012353575, 484.61636], [0.006205964, 560.36475], [-0.19773993, 422.5599], [0.005452824, 413.22583], [-0.10748787, 452.38953], [-0.10706987, 464.27267], [-0.22374515, 433.20386], [-0.123715356, 413.9975], [-0.03620839, 423.74664], [-0.15655065, 474.16736], [-0.09205987, 481.48737], [-0.2051022, 389.10062], [-0.11515021, 530.37274], [-0.22005029, 420.79654], [-0.21384712, 409.01703], [-0.15261897, 465.4117], [-0.19413432, 406.67566], [-0.35986453, 434.7005], [-0.2775639, 409.49612], [-0.26782522, 398.765], [0.022266686, 503.47525], [-0.19146079, 391.65918], [-0.19954382, 415.65466], [-0.25304982, 429.21017], [-0.23677674, 417.47076], [-0.2706761, 414.44183], [-0.22163495, 476.4154], [-0.105203986, 459.16], [-0.17023973, 395.858], [-0.21221836, 478.3134], [-0.25059658, 430.84097], [0.045693636, 447.5269], [-0.18785687, 379.95187], [-0.26848468, 397.43707], [-0.23716465, 426.8257], [-0.09566405, 486.3457], [2.272774, 445.34073]] score is: 3.68\n",
            "[[-0.17134354, 424.02673], [-0.17666495, 402.87653], [-0.17286736, 473.20026], [-0.20000513, 425.26587], [-0.4921371, 447.9498], [-0.08437457, 480.33896], [-0.012353575, 484.61636], [0.006205964, 560.36475], [-0.19773993, 422.5599], [0.005452824, 413.22583], [-0.10748787, 452.38953], [-0.10706987, 464.27267], [-0.22374515, 433.20386], [-0.123715356, 413.9975], [-0.03620839, 423.74664], [-0.15655065, 474.16736], [-0.09205987, 481.48737], [-0.2051022, 389.10062], [-0.11515021, 530.37274], [-0.22005029, 420.79654], [-0.21384712, 409.01703], [-0.15261897, 465.4117], [-0.19413432, 406.67566], [-0.35986453, 434.7005], [-0.2775639, 409.49612], [-0.26782522, 398.765], [0.022266686, 503.47525], [-0.19146079, 391.65918], [-0.19954382, 415.65466], [-0.25304982, 429.21017], [-0.23677674, 417.47076], [-0.2706761, 414.44183], [-0.22163495, 476.4154], [-0.105203986, 459.16], [-0.17023973, 395.858], [-0.21221836, 478.3134], [-0.25059658, 430.84097], [0.045693636, 447.5269], [-0.18785687, 379.95187], [-0.26848468, 397.43707], [-0.23716465, 426.8257], [-0.09566405, 486.3457], [2.272774, 445.34073], [-0.30530775, 410.79968], [-0.12847798, 440.0509], [0.020439614, 499.36777], [-0.11105341, 499.17285], [-0.3000098, 387.37006], [0.061595954, 466.91806], [-0.23719063, 414.51215], [-0.06616771, 452.67438], [-0.16841355, 470.72864], [-0.1601814, 462.03098], [-0.18913922, 390.0574], [-0.08433649, 394.05154], [-0.1675537, 462.21512], [-0.07943915, 467.7267], [-0.11154671, 477.79657], [0.036438275, 432.06396], [-0.20958324, 375.2994], [-0.325405, 395.78558], [-2.900809, 410.94595]] score is: 3.82\n",
            "[[-0.17134354, 424.02673], [-0.17666495, 402.87653], [-0.17286736, 473.20026], [-0.20000513, 425.26587], [-0.4921371, 447.9498], [-0.08437457, 480.33896], [-0.012353575, 484.61636], [0.006205964, 560.36475], [-0.19773993, 422.5599], [0.005452824, 413.22583], [-0.10748787, 452.38953], [-0.10706987, 464.27267], [-0.22374515, 433.20386], [-0.123715356, 413.9975], [-0.03620839, 423.74664], [-0.15655065, 474.16736], [-0.09205987, 481.48737], [-0.2051022, 389.10062], [-0.11515021, 530.37274], [-0.22005029, 420.79654], [-0.21384712, 409.01703], [-0.15261897, 465.4117], [-0.19413432, 406.67566], [-0.35986453, 434.7005], [-0.2775639, 409.49612], [-0.26782522, 398.765], [0.022266686, 503.47525], [-0.19146079, 391.65918], [-0.19954382, 415.65466], [-0.25304982, 429.21017], [-0.23677674, 417.47076], [-0.2706761, 414.44183], [-0.22163495, 476.4154], [-0.105203986, 459.16], [-0.17023973, 395.858], [-0.21221836, 478.3134], [-0.25059658, 430.84097], [0.045693636, 447.5269], [-0.18785687, 379.95187], [-0.26848468, 397.43707], [-0.23716465, 426.8257], [-0.09566405, 486.3457], [2.272774, 445.34073], [-0.30530775, 410.79968], [-0.12847798, 440.0509], [0.020439614, 499.36777], [-0.11105341, 499.17285], [-0.3000098, 387.37006], [0.061595954, 466.91806], [-0.23719063, 414.51215], [-0.06616771, 452.67438], [-0.16841355, 470.72864], [-0.1601814, 462.03098], [-0.18913922, 390.0574], [-0.08433649, 394.05154], [-0.1675537, 462.21512], [-0.07943915, 467.7267], [-0.11154671, 477.79657], [0.036438275, 432.06396], [-0.20958324, 375.2994], [-0.325405, 395.78558], [-2.900809, 410.94595], [-0.2908901, 426.87073], [-0.12763244, 434.58945], [-0.27153498, 423.97357], [-0.021596765, 383.26532], [-0.06877551, 463.65298], [-0.3461563, 390.002], [-0.12865025, 558.7576], [-0.34994698, 389.0116], [-0.32734996, 378.3855], [-0.25272018, 381.06183], [0.07778634, 460.17438], [-0.3042574, 413.4821], [-0.19543636, 482.21524], [-0.27633917, 402.23068], [-0.09121019, 396.0839], [0.04289166, 503.01016], [-0.2804152, 412.91028], [-0.29216844, 419.7483], [-2.727404, 416.68405]] score is: 3.6\n",
            "[[-0.17134354, 424.02673], [-0.17666495, 402.87653], [-0.17286736, 473.20026], [-0.20000513, 425.26587], [-0.4921371, 447.9498], [-0.08437457, 480.33896], [-0.012353575, 484.61636], [0.006205964, 560.36475], [-0.19773993, 422.5599], [0.005452824, 413.22583], [-0.10748787, 452.38953], [-0.10706987, 464.27267], [-0.22374515, 433.20386], [-0.123715356, 413.9975], [-0.03620839, 423.74664], [-0.15655065, 474.16736], [-0.09205987, 481.48737], [-0.2051022, 389.10062], [-0.11515021, 530.37274], [-0.22005029, 420.79654], [-0.21384712, 409.01703], [-0.15261897, 465.4117], [-0.19413432, 406.67566], [-0.35986453, 434.7005], [-0.2775639, 409.49612], [-0.26782522, 398.765], [0.022266686, 503.47525], [-0.19146079, 391.65918], [-0.19954382, 415.65466], [-0.25304982, 429.21017], [-0.23677674, 417.47076], [-0.2706761, 414.44183], [-0.22163495, 476.4154], [-0.105203986, 459.16], [-0.17023973, 395.858], [-0.21221836, 478.3134], [-0.25059658, 430.84097], [0.045693636, 447.5269], [-0.18785687, 379.95187], [-0.26848468, 397.43707], [-0.23716465, 426.8257], [-0.09566405, 486.3457], [2.272774, 445.34073], [-0.30530775, 410.79968], [-0.12847798, 440.0509], [0.020439614, 499.36777], [-0.11105341, 499.17285], [-0.3000098, 387.37006], [0.061595954, 466.91806], [-0.23719063, 414.51215], [-0.06616771, 452.67438], [-0.16841355, 470.72864], [-0.1601814, 462.03098], [-0.18913922, 390.0574], [-0.08433649, 394.05154], [-0.1675537, 462.21512], [-0.07943915, 467.7267], [-0.11154671, 477.79657], [0.036438275, 432.06396], [-0.20958324, 375.2994], [-0.325405, 395.78558], [-2.900809, 410.94595], [-0.2908901, 426.87073], [-0.12763244, 434.58945], [-0.27153498, 423.97357], [-0.021596765, 383.26532], [-0.06877551, 463.65298], [-0.3461563, 390.002], [-0.12865025, 558.7576], [-0.34994698, 389.0116], [-0.32734996, 378.3855], [-0.25272018, 381.06183], [0.07778634, 460.17438], [-0.3042574, 413.4821], [-0.19543636, 482.21524], [-0.27633917, 402.23068], [-0.09121019, 396.0839], [0.04289166, 503.01016], [-0.2804152, 412.91028], [-0.29216844, 419.7483], [-2.727404, 416.68405], [-0.2849423, 414.16104], [-0.36805025, 389.05646], [-0.1295777, 448.13785], [-0.09857764, 470.07355], [-0.16744271, 487.63235], [-0.2502622, 466.05826], [-0.22051218, 453.0561], [-0.3317804, 417.58746], [-0.14742121, 484.7773], [-0.04413135, 466.80756], [0.17074895, 447.35138], [-0.08361383, 476.94284], [-0.33550143, 406.1348], [-0.28766543, 385.45316], [-0.18890211, 442.77972], [-0.22205527, 464.91553], [-0.3346556, 368.14713], [-0.3580824, 362.37958], [0.4198977, 420.878]] score is: 3.36\n",
            "[[-0.17134354, 424.02673], [-0.17666495, 402.87653], [-0.17286736, 473.20026], [-0.20000513, 425.26587], [-0.4921371, 447.9498], [-0.08437457, 480.33896], [-0.012353575, 484.61636], [0.006205964, 560.36475], [-0.19773993, 422.5599], [0.005452824, 413.22583], [-0.10748787, 452.38953], [-0.10706987, 464.27267], [-0.22374515, 433.20386], [-0.123715356, 413.9975], [-0.03620839, 423.74664], [-0.15655065, 474.16736], [-0.09205987, 481.48737], [-0.2051022, 389.10062], [-0.11515021, 530.37274], [-0.22005029, 420.79654], [-0.21384712, 409.01703], [-0.15261897, 465.4117], [-0.19413432, 406.67566], [-0.35986453, 434.7005], [-0.2775639, 409.49612], [-0.26782522, 398.765], [0.022266686, 503.47525], [-0.19146079, 391.65918], [-0.19954382, 415.65466], [-0.25304982, 429.21017], [-0.23677674, 417.47076], [-0.2706761, 414.44183], [-0.22163495, 476.4154], [-0.105203986, 459.16], [-0.17023973, 395.858], [-0.21221836, 478.3134], [-0.25059658, 430.84097], [0.045693636, 447.5269], [-0.18785687, 379.95187], [-0.26848468, 397.43707], [-0.23716465, 426.8257], [-0.09566405, 486.3457], [2.272774, 445.34073], [-0.30530775, 410.79968], [-0.12847798, 440.0509], [0.020439614, 499.36777], [-0.11105341, 499.17285], [-0.3000098, 387.37006], [0.061595954, 466.91806], [-0.23719063, 414.51215], [-0.06616771, 452.67438], [-0.16841355, 470.72864], [-0.1601814, 462.03098], [-0.18913922, 390.0574], [-0.08433649, 394.05154], [-0.1675537, 462.21512], [-0.07943915, 467.7267], [-0.11154671, 477.79657], [0.036438275, 432.06396], [-0.20958324, 375.2994], [-0.325405, 395.78558], [-2.900809, 410.94595], [-0.2908901, 426.87073], [-0.12763244, 434.58945], [-0.27153498, 423.97357], [-0.021596765, 383.26532], [-0.06877551, 463.65298], [-0.3461563, 390.002], [-0.12865025, 558.7576], [-0.34994698, 389.0116], [-0.32734996, 378.3855], [-0.25272018, 381.06183], [0.07778634, 460.17438], [-0.3042574, 413.4821], [-0.19543636, 482.21524], [-0.27633917, 402.23068], [-0.09121019, 396.0839], [0.04289166, 503.01016], [-0.2804152, 412.91028], [-0.29216844, 419.7483], [-2.727404, 416.68405], [-0.2849423, 414.16104], [-0.36805025, 389.05646], [-0.1295777, 448.13785], [-0.09857764, 470.07355], [-0.16744271, 487.63235], [-0.2502622, 466.05826], [-0.22051218, 453.0561], [-0.3317804, 417.58746], [-0.14742121, 484.7773], [-0.04413135, 466.80756], [0.17074895, 447.35138], [-0.08361383, 476.94284], [-0.33550143, 406.1348], [-0.28766543, 385.45316], [-0.18890211, 442.77972], [-0.22205527, 464.91553], [-0.3346556, 368.14713], [-0.3580824, 362.37958], [0.4198977, 420.878], [0.042623937, 493.00735], [-0.40474254, 384.59735], [-0.3788819, 366.44525], [-0.33574805, 419.43073], [0.13332433, 453.35278], [-0.4236993, 375.61554], [-0.2794486, 358.62033], [-0.20638983, 484.11685], [-0.15301572, 561.6896], [-0.22032905, 408.50616], [-0.40277165, 368.01056], [-0.3085938, 366.65656], [-0.0336339, 459.69553], [-0.34598112, 379.08072], [-0.44968358, 375.9695], [-0.45170268, 375.5967], [-0.11581308, 431.65674], [-0.34633374, 383.78177], [-1.9322125, 371.01166]] score is: 3.4\n",
            "[[-0.17134354, 424.02673], [-0.17666495, 402.87653], [-0.17286736, 473.20026], [-0.20000513, 425.26587], [-0.4921371, 447.9498], [-0.08437457, 480.33896], [-0.012353575, 484.61636], [0.006205964, 560.36475], [-0.19773993, 422.5599], [0.005452824, 413.22583], [-0.10748787, 452.38953], [-0.10706987, 464.27267], [-0.22374515, 433.20386], [-0.123715356, 413.9975], [-0.03620839, 423.74664], [-0.15655065, 474.16736], [-0.09205987, 481.48737], [-0.2051022, 389.10062], [-0.11515021, 530.37274], [-0.22005029, 420.79654], [-0.21384712, 409.01703], [-0.15261897, 465.4117], [-0.19413432, 406.67566], [-0.35986453, 434.7005], [-0.2775639, 409.49612], [-0.26782522, 398.765], [0.022266686, 503.47525], [-0.19146079, 391.65918], [-0.19954382, 415.65466], [-0.25304982, 429.21017], [-0.23677674, 417.47076], [-0.2706761, 414.44183], [-0.22163495, 476.4154], [-0.105203986, 459.16], [-0.17023973, 395.858], [-0.21221836, 478.3134], [-0.25059658, 430.84097], [0.045693636, 447.5269], [-0.18785687, 379.95187], [-0.26848468, 397.43707], [-0.23716465, 426.8257], [-0.09566405, 486.3457], [2.272774, 445.34073], [-0.30530775, 410.79968], [-0.12847798, 440.0509], [0.020439614, 499.36777], [-0.11105341, 499.17285], [-0.3000098, 387.37006], [0.061595954, 466.91806], [-0.23719063, 414.51215], [-0.06616771, 452.67438], [-0.16841355, 470.72864], [-0.1601814, 462.03098], [-0.18913922, 390.0574], [-0.08433649, 394.05154], [-0.1675537, 462.21512], [-0.07943915, 467.7267], [-0.11154671, 477.79657], [0.036438275, 432.06396], [-0.20958324, 375.2994], [-0.325405, 395.78558], [-2.900809, 410.94595], [-0.2908901, 426.87073], [-0.12763244, 434.58945], [-0.27153498, 423.97357], [-0.021596765, 383.26532], [-0.06877551, 463.65298], [-0.3461563, 390.002], [-0.12865025, 558.7576], [-0.34994698, 389.0116], [-0.32734996, 378.3855], [-0.25272018, 381.06183], [0.07778634, 460.17438], [-0.3042574, 413.4821], [-0.19543636, 482.21524], [-0.27633917, 402.23068], [-0.09121019, 396.0839], [0.04289166, 503.01016], [-0.2804152, 412.91028], [-0.29216844, 419.7483], [-2.727404, 416.68405], [-0.2849423, 414.16104], [-0.36805025, 389.05646], [-0.1295777, 448.13785], [-0.09857764, 470.07355], [-0.16744271, 487.63235], [-0.2502622, 466.05826], [-0.22051218, 453.0561], [-0.3317804, 417.58746], [-0.14742121, 484.7773], [-0.04413135, 466.80756], [0.17074895, 447.35138], [-0.08361383, 476.94284], [-0.33550143, 406.1348], [-0.28766543, 385.45316], [-0.18890211, 442.77972], [-0.22205527, 464.91553], [-0.3346556, 368.14713], [-0.3580824, 362.37958], [0.4198977, 420.878], [0.042623937, 493.00735], [-0.40474254, 384.59735], [-0.3788819, 366.44525], [-0.33574805, 419.43073], [0.13332433, 453.35278], [-0.4236993, 375.61554], [-0.2794486, 358.62033], [-0.20638983, 484.11685], [-0.15301572, 561.6896], [-0.22032905, 408.50616], [-0.40277165, 368.01056], [-0.3085938, 366.65656], [-0.0336339, 459.69553], [-0.34598112, 379.08072], [-0.44968358, 375.9695], [-0.45170268, 375.5967], [-0.11581308, 431.65674], [-0.34633374, 383.78177], [-1.9322125, 371.01166], [-0.075940445, 504.80652], [-0.41278285, 360.35876], [-0.4608949, 377.53778], [-0.29802138, 410.50833], [-0.350527, 373.97058], [-0.44241682, 361.0886], [-0.4195435, 350.05658], [0.0894099, 426.6986], [-0.22518885, 483.2626], [-0.31195575, 375.5822], [-0.068348065, 448.32666], [-2.399778, 351.59845]] score is: 2.7\n",
            "[[-0.17134354, 424.02673], [-0.17666495, 402.87653], [-0.17286736, 473.20026], [-0.20000513, 425.26587], [-0.4921371, 447.9498], [-0.08437457, 480.33896], [-0.012353575, 484.61636], [0.006205964, 560.36475], [-0.19773993, 422.5599], [0.005452824, 413.22583], [-0.10748787, 452.38953], [-0.10706987, 464.27267], [-0.22374515, 433.20386], [-0.123715356, 413.9975], [-0.03620839, 423.74664], [-0.15655065, 474.16736], [-0.09205987, 481.48737], [-0.2051022, 389.10062], [-0.11515021, 530.37274], [-0.22005029, 420.79654], [-0.21384712, 409.01703], [-0.15261897, 465.4117], [-0.19413432, 406.67566], [-0.35986453, 434.7005], [-0.2775639, 409.49612], [-0.26782522, 398.765], [0.022266686, 503.47525], [-0.19146079, 391.65918], [-0.19954382, 415.65466], [-0.25304982, 429.21017], [-0.23677674, 417.47076], [-0.2706761, 414.44183], [-0.22163495, 476.4154], [-0.105203986, 459.16], [-0.17023973, 395.858], [-0.21221836, 478.3134], [-0.25059658, 430.84097], [0.045693636, 447.5269], [-0.18785687, 379.95187], [-0.26848468, 397.43707], [-0.23716465, 426.8257], [-0.09566405, 486.3457], [2.272774, 445.34073], [-0.30530775, 410.79968], [-0.12847798, 440.0509], [0.020439614, 499.36777], [-0.11105341, 499.17285], [-0.3000098, 387.37006], [0.061595954, 466.91806], [-0.23719063, 414.51215], [-0.06616771, 452.67438], [-0.16841355, 470.72864], [-0.1601814, 462.03098], [-0.18913922, 390.0574], [-0.08433649, 394.05154], [-0.1675537, 462.21512], [-0.07943915, 467.7267], [-0.11154671, 477.79657], [0.036438275, 432.06396], [-0.20958324, 375.2994], [-0.325405, 395.78558], [-2.900809, 410.94595], [-0.2908901, 426.87073], [-0.12763244, 434.58945], [-0.27153498, 423.97357], [-0.021596765, 383.26532], [-0.06877551, 463.65298], [-0.3461563, 390.002], [-0.12865025, 558.7576], [-0.34994698, 389.0116], [-0.32734996, 378.3855], [-0.25272018, 381.06183], [0.07778634, 460.17438], [-0.3042574, 413.4821], [-0.19543636, 482.21524], [-0.27633917, 402.23068], [-0.09121019, 396.0839], [0.04289166, 503.01016], [-0.2804152, 412.91028], [-0.29216844, 419.7483], [-2.727404, 416.68405], [-0.2849423, 414.16104], [-0.36805025, 389.05646], [-0.1295777, 448.13785], [-0.09857764, 470.07355], [-0.16744271, 487.63235], [-0.2502622, 466.05826], [-0.22051218, 453.0561], [-0.3317804, 417.58746], [-0.14742121, 484.7773], [-0.04413135, 466.80756], [0.17074895, 447.35138], [-0.08361383, 476.94284], [-0.33550143, 406.1348], [-0.28766543, 385.45316], [-0.18890211, 442.77972], [-0.22205527, 464.91553], [-0.3346556, 368.14713], [-0.3580824, 362.37958], [0.4198977, 420.878], [0.042623937, 493.00735], [-0.40474254, 384.59735], [-0.3788819, 366.44525], [-0.33574805, 419.43073], [0.13332433, 453.35278], [-0.4236993, 375.61554], [-0.2794486, 358.62033], [-0.20638983, 484.11685], [-0.15301572, 561.6896], [-0.22032905, 408.50616], [-0.40277165, 368.01056], [-0.3085938, 366.65656], [-0.0336339, 459.69553], [-0.34598112, 379.08072], [-0.44968358, 375.9695], [-0.45170268, 375.5967], [-0.11581308, 431.65674], [-0.34633374, 383.78177], [-1.9322125, 371.01166], [-0.075940445, 504.80652], [-0.41278285, 360.35876], [-0.4608949, 377.53778], [-0.29802138, 410.50833], [-0.350527, 373.97058], [-0.44241682, 361.0886], [-0.4195435, 350.05658], [0.0894099, 426.6986], [-0.22518885, 483.2626], [-0.31195575, 375.5822], [-0.068348065, 448.32666], [-2.399778, 351.59845], [-0.43631476, 357.0124], [-0.16152105, 486.1961], [-0.3840387, 384.03796], [-0.4889554, 384.73718], [0.1216407, 421.1238], [-0.48645264, 360.11862], [-0.4639842, 356.04218], [-0.45265475, 352.32196], [-0.3332952, 429.90485], [0.21787822, 416.43588], [-0.45354232, 346.68295], [-0.49006495, 356.46432], [-0.17168526, 468.69946], [-0.4860642, 353.72614], [-0.47880784, 359.23062], [-0.48893157, 372.29996], [-0.51819026, 364.11426], [-0.48826918, 351.2103], [2.7308965, 417.03613]] score is: 2.5\n",
            "[[-0.17134354, 424.02673], [-0.17666495, 402.87653], [-0.17286736, 473.20026], [-0.20000513, 425.26587], [-0.4921371, 447.9498], [-0.08437457, 480.33896], [-0.012353575, 484.61636], [0.006205964, 560.36475], [-0.19773993, 422.5599], [0.005452824, 413.22583], [-0.10748787, 452.38953], [-0.10706987, 464.27267], [-0.22374515, 433.20386], [-0.123715356, 413.9975], [-0.03620839, 423.74664], [-0.15655065, 474.16736], [-0.09205987, 481.48737], [-0.2051022, 389.10062], [-0.11515021, 530.37274], [-0.22005029, 420.79654], [-0.21384712, 409.01703], [-0.15261897, 465.4117], [-0.19413432, 406.67566], [-0.35986453, 434.7005], [-0.2775639, 409.49612], [-0.26782522, 398.765], [0.022266686, 503.47525], [-0.19146079, 391.65918], [-0.19954382, 415.65466], [-0.25304982, 429.21017], [-0.23677674, 417.47076], [-0.2706761, 414.44183], [-0.22163495, 476.4154], [-0.105203986, 459.16], [-0.17023973, 395.858], [-0.21221836, 478.3134], [-0.25059658, 430.84097], [0.045693636, 447.5269], [-0.18785687, 379.95187], [-0.26848468, 397.43707], [-0.23716465, 426.8257], [-0.09566405, 486.3457], [2.272774, 445.34073], [-0.30530775, 410.79968], [-0.12847798, 440.0509], [0.020439614, 499.36777], [-0.11105341, 499.17285], [-0.3000098, 387.37006], [0.061595954, 466.91806], [-0.23719063, 414.51215], [-0.06616771, 452.67438], [-0.16841355, 470.72864], [-0.1601814, 462.03098], [-0.18913922, 390.0574], [-0.08433649, 394.05154], [-0.1675537, 462.21512], [-0.07943915, 467.7267], [-0.11154671, 477.79657], [0.036438275, 432.06396], [-0.20958324, 375.2994], [-0.325405, 395.78558], [-2.900809, 410.94595], [-0.2908901, 426.87073], [-0.12763244, 434.58945], [-0.27153498, 423.97357], [-0.021596765, 383.26532], [-0.06877551, 463.65298], [-0.3461563, 390.002], [-0.12865025, 558.7576], [-0.34994698, 389.0116], [-0.32734996, 378.3855], [-0.25272018, 381.06183], [0.07778634, 460.17438], [-0.3042574, 413.4821], [-0.19543636, 482.21524], [-0.27633917, 402.23068], [-0.09121019, 396.0839], [0.04289166, 503.01016], [-0.2804152, 412.91028], [-0.29216844, 419.7483], [-2.727404, 416.68405], [-0.2849423, 414.16104], [-0.36805025, 389.05646], [-0.1295777, 448.13785], [-0.09857764, 470.07355], [-0.16744271, 487.63235], [-0.2502622, 466.05826], [-0.22051218, 453.0561], [-0.3317804, 417.58746], [-0.14742121, 484.7773], [-0.04413135, 466.80756], [0.17074895, 447.35138], [-0.08361383, 476.94284], [-0.33550143, 406.1348], [-0.28766543, 385.45316], [-0.18890211, 442.77972], [-0.22205527, 464.91553], [-0.3346556, 368.14713], [-0.3580824, 362.37958], [0.4198977, 420.878], [0.042623937, 493.00735], [-0.40474254, 384.59735], [-0.3788819, 366.44525], [-0.33574805, 419.43073], [0.13332433, 453.35278], [-0.4236993, 375.61554], [-0.2794486, 358.62033], [-0.20638983, 484.11685], [-0.15301572, 561.6896], [-0.22032905, 408.50616], [-0.40277165, 368.01056], [-0.3085938, 366.65656], [-0.0336339, 459.69553], [-0.34598112, 379.08072], [-0.44968358, 375.9695], [-0.45170268, 375.5967], [-0.11581308, 431.65674], [-0.34633374, 383.78177], [-1.9322125, 371.01166], [-0.075940445, 504.80652], [-0.41278285, 360.35876], [-0.4608949, 377.53778], [-0.29802138, 410.50833], [-0.350527, 373.97058], [-0.44241682, 361.0886], [-0.4195435, 350.05658], [0.0894099, 426.6986], [-0.22518885, 483.2626], [-0.31195575, 375.5822], [-0.068348065, 448.32666], [-2.399778, 351.59845], [-0.43631476, 357.0124], [-0.16152105, 486.1961], [-0.3840387, 384.03796], [-0.4889554, 384.73718], [0.1216407, 421.1238], [-0.48645264, 360.11862], [-0.4639842, 356.04218], [-0.45265475, 352.32196], [-0.3332952, 429.90485], [0.21787822, 416.43588], [-0.45354232, 346.68295], [-0.49006495, 356.46432], [-0.17168526, 468.69946], [-0.4860642, 353.72614], [-0.47880784, 359.23062], [-0.48893157, 372.29996], [-0.51819026, 364.11426], [-0.48826918, 351.2103], [2.7308965, 417.03613], [-0.2968101, 367.49768], [-0.51775444, 359.0938], [-0.40005437, 366.31378], [-0.44251052, 398.2318], [-0.37960932, 349.85672], [-0.5221508, 353.91122], [-0.29741883, 407.78088], [-0.45076448, 398.34604], [0.15671122, 441.11615], [-0.48523813, 341.95413], [-0.41544396, 382.80786], [-0.24520202, 467.2202], [-0.07725972, 450.9731], [-0.44662553, 392.65204], [-0.54859275, 361.8819], [-0.2900392, 415.86716], [-0.49935633, 339.47308], [-0.3628301, 414.35202], [0.37502506, 412.97397]] score is: 2.08\n",
            "[[-0.17134354, 424.02673], [-0.17666495, 402.87653], [-0.17286736, 473.20026], [-0.20000513, 425.26587], [-0.4921371, 447.9498], [-0.08437457, 480.33896], [-0.012353575, 484.61636], [0.006205964, 560.36475], [-0.19773993, 422.5599], [0.005452824, 413.22583], [-0.10748787, 452.38953], [-0.10706987, 464.27267], [-0.22374515, 433.20386], [-0.123715356, 413.9975], [-0.03620839, 423.74664], [-0.15655065, 474.16736], [-0.09205987, 481.48737], [-0.2051022, 389.10062], [-0.11515021, 530.37274], [-0.22005029, 420.79654], [-0.21384712, 409.01703], [-0.15261897, 465.4117], [-0.19413432, 406.67566], [-0.35986453, 434.7005], [-0.2775639, 409.49612], [-0.26782522, 398.765], [0.022266686, 503.47525], [-0.19146079, 391.65918], [-0.19954382, 415.65466], [-0.25304982, 429.21017], [-0.23677674, 417.47076], [-0.2706761, 414.44183], [-0.22163495, 476.4154], [-0.105203986, 459.16], [-0.17023973, 395.858], [-0.21221836, 478.3134], [-0.25059658, 430.84097], [0.045693636, 447.5269], [-0.18785687, 379.95187], [-0.26848468, 397.43707], [-0.23716465, 426.8257], [-0.09566405, 486.3457], [2.272774, 445.34073], [-0.30530775, 410.79968], [-0.12847798, 440.0509], [0.020439614, 499.36777], [-0.11105341, 499.17285], [-0.3000098, 387.37006], [0.061595954, 466.91806], [-0.23719063, 414.51215], [-0.06616771, 452.67438], [-0.16841355, 470.72864], [-0.1601814, 462.03098], [-0.18913922, 390.0574], [-0.08433649, 394.05154], [-0.1675537, 462.21512], [-0.07943915, 467.7267], [-0.11154671, 477.79657], [0.036438275, 432.06396], [-0.20958324, 375.2994], [-0.325405, 395.78558], [-2.900809, 410.94595], [-0.2908901, 426.87073], [-0.12763244, 434.58945], [-0.27153498, 423.97357], [-0.021596765, 383.26532], [-0.06877551, 463.65298], [-0.3461563, 390.002], [-0.12865025, 558.7576], [-0.34994698, 389.0116], [-0.32734996, 378.3855], [-0.25272018, 381.06183], [0.07778634, 460.17438], [-0.3042574, 413.4821], [-0.19543636, 482.21524], [-0.27633917, 402.23068], [-0.09121019, 396.0839], [0.04289166, 503.01016], [-0.2804152, 412.91028], [-0.29216844, 419.7483], [-2.727404, 416.68405], [-0.2849423, 414.16104], [-0.36805025, 389.05646], [-0.1295777, 448.13785], [-0.09857764, 470.07355], [-0.16744271, 487.63235], [-0.2502622, 466.05826], [-0.22051218, 453.0561], [-0.3317804, 417.58746], [-0.14742121, 484.7773], [-0.04413135, 466.80756], [0.17074895, 447.35138], [-0.08361383, 476.94284], [-0.33550143, 406.1348], [-0.28766543, 385.45316], [-0.18890211, 442.77972], [-0.22205527, 464.91553], [-0.3346556, 368.14713], [-0.3580824, 362.37958], [0.4198977, 420.878], [0.042623937, 493.00735], [-0.40474254, 384.59735], [-0.3788819, 366.44525], [-0.33574805, 419.43073], [0.13332433, 453.35278], [-0.4236993, 375.61554], [-0.2794486, 358.62033], [-0.20638983, 484.11685], [-0.15301572, 561.6896], [-0.22032905, 408.50616], [-0.40277165, 368.01056], [-0.3085938, 366.65656], [-0.0336339, 459.69553], [-0.34598112, 379.08072], [-0.44968358, 375.9695], [-0.45170268, 375.5967], [-0.11581308, 431.65674], [-0.34633374, 383.78177], [-1.9322125, 371.01166], [-0.075940445, 504.80652], [-0.41278285, 360.35876], [-0.4608949, 377.53778], [-0.29802138, 410.50833], [-0.350527, 373.97058], [-0.44241682, 361.0886], [-0.4195435, 350.05658], [0.0894099, 426.6986], [-0.22518885, 483.2626], [-0.31195575, 375.5822], [-0.068348065, 448.32666], [-2.399778, 351.59845], [-0.43631476, 357.0124], [-0.16152105, 486.1961], [-0.3840387, 384.03796], [-0.4889554, 384.73718], [0.1216407, 421.1238], [-0.48645264, 360.11862], [-0.4639842, 356.04218], [-0.45265475, 352.32196], [-0.3332952, 429.90485], [0.21787822, 416.43588], [-0.45354232, 346.68295], [-0.49006495, 356.46432], [-0.17168526, 468.69946], [-0.4860642, 353.72614], [-0.47880784, 359.23062], [-0.48893157, 372.29996], [-0.51819026, 364.11426], [-0.48826918, 351.2103], [2.7308965, 417.03613], [-0.2968101, 367.49768], [-0.51775444, 359.0938], [-0.40005437, 366.31378], [-0.44251052, 398.2318], [-0.37960932, 349.85672], [-0.5221508, 353.91122], [-0.29741883, 407.78088], [-0.45076448, 398.34604], [0.15671122, 441.11615], [-0.48523813, 341.95413], [-0.41544396, 382.80786], [-0.24520202, 467.2202], [-0.07725972, 450.9731], [-0.44662553, 392.65204], [-0.54859275, 361.8819], [-0.2900392, 415.86716], [-0.49935633, 339.47308], [-0.3628301, 414.35202], [0.37502506, 412.97397], [0.09646994, 438.1873], [-0.5717739, 357.0996], [-0.5735977, 356.8464], [-0.25755566, 472.0725], [-0.2880282, 428.60904], [-0.25292456, 416.5601], [-0.5780854, 359.51123], [-0.53515583, 329.6322], [-0.5130016, 423.17], [-0.36640254, 509.88614], [-0.5187025, 373.58267], [-0.4806293, 407.30167], [-0.5951672, 354.0997], [-0.42208213, 341.98776], [-0.42461124, 347.68265], [-0.4887147, 385.87323], [-0.52617896, 325.10403], [-0.61806697, 368.5337], [-1.3296101, 370.54163]] score is: 1.34\n",
            "[[-0.17134354, 424.02673], [-0.17666495, 402.87653], [-0.17286736, 473.20026], [-0.20000513, 425.26587], [-0.4921371, 447.9498], [-0.08437457, 480.33896], [-0.012353575, 484.61636], [0.006205964, 560.36475], [-0.19773993, 422.5599], [0.005452824, 413.22583], [-0.10748787, 452.38953], [-0.10706987, 464.27267], [-0.22374515, 433.20386], [-0.123715356, 413.9975], [-0.03620839, 423.74664], [-0.15655065, 474.16736], [-0.09205987, 481.48737], [-0.2051022, 389.10062], [-0.11515021, 530.37274], [-0.22005029, 420.79654], [-0.21384712, 409.01703], [-0.15261897, 465.4117], [-0.19413432, 406.67566], [-0.35986453, 434.7005], [-0.2775639, 409.49612], [-0.26782522, 398.765], [0.022266686, 503.47525], [-0.19146079, 391.65918], [-0.19954382, 415.65466], [-0.25304982, 429.21017], [-0.23677674, 417.47076], [-0.2706761, 414.44183], [-0.22163495, 476.4154], [-0.105203986, 459.16], [-0.17023973, 395.858], [-0.21221836, 478.3134], [-0.25059658, 430.84097], [0.045693636, 447.5269], [-0.18785687, 379.95187], [-0.26848468, 397.43707], [-0.23716465, 426.8257], [-0.09566405, 486.3457], [2.272774, 445.34073], [-0.30530775, 410.79968], [-0.12847798, 440.0509], [0.020439614, 499.36777], [-0.11105341, 499.17285], [-0.3000098, 387.37006], [0.061595954, 466.91806], [-0.23719063, 414.51215], [-0.06616771, 452.67438], [-0.16841355, 470.72864], [-0.1601814, 462.03098], [-0.18913922, 390.0574], [-0.08433649, 394.05154], [-0.1675537, 462.21512], [-0.07943915, 467.7267], [-0.11154671, 477.79657], [0.036438275, 432.06396], [-0.20958324, 375.2994], [-0.325405, 395.78558], [-2.900809, 410.94595], [-0.2908901, 426.87073], [-0.12763244, 434.58945], [-0.27153498, 423.97357], [-0.021596765, 383.26532], [-0.06877551, 463.65298], [-0.3461563, 390.002], [-0.12865025, 558.7576], [-0.34994698, 389.0116], [-0.32734996, 378.3855], [-0.25272018, 381.06183], [0.07778634, 460.17438], [-0.3042574, 413.4821], [-0.19543636, 482.21524], [-0.27633917, 402.23068], [-0.09121019, 396.0839], [0.04289166, 503.01016], [-0.2804152, 412.91028], [-0.29216844, 419.7483], [-2.727404, 416.68405], [-0.2849423, 414.16104], [-0.36805025, 389.05646], [-0.1295777, 448.13785], [-0.09857764, 470.07355], [-0.16744271, 487.63235], [-0.2502622, 466.05826], [-0.22051218, 453.0561], [-0.3317804, 417.58746], [-0.14742121, 484.7773], [-0.04413135, 466.80756], [0.17074895, 447.35138], [-0.08361383, 476.94284], [-0.33550143, 406.1348], [-0.28766543, 385.45316], [-0.18890211, 442.77972], [-0.22205527, 464.91553], [-0.3346556, 368.14713], [-0.3580824, 362.37958], [0.4198977, 420.878], [0.042623937, 493.00735], [-0.40474254, 384.59735], [-0.3788819, 366.44525], [-0.33574805, 419.43073], [0.13332433, 453.35278], [-0.4236993, 375.61554], [-0.2794486, 358.62033], [-0.20638983, 484.11685], [-0.15301572, 561.6896], [-0.22032905, 408.50616], [-0.40277165, 368.01056], [-0.3085938, 366.65656], [-0.0336339, 459.69553], [-0.34598112, 379.08072], [-0.44968358, 375.9695], [-0.45170268, 375.5967], [-0.11581308, 431.65674], [-0.34633374, 383.78177], [-1.9322125, 371.01166], [-0.075940445, 504.80652], [-0.41278285, 360.35876], [-0.4608949, 377.53778], [-0.29802138, 410.50833], [-0.350527, 373.97058], [-0.44241682, 361.0886], [-0.4195435, 350.05658], [0.0894099, 426.6986], [-0.22518885, 483.2626], [-0.31195575, 375.5822], [-0.068348065, 448.32666], [-2.399778, 351.59845], [-0.43631476, 357.0124], [-0.16152105, 486.1961], [-0.3840387, 384.03796], [-0.4889554, 384.73718], [0.1216407, 421.1238], [-0.48645264, 360.11862], [-0.4639842, 356.04218], [-0.45265475, 352.32196], [-0.3332952, 429.90485], [0.21787822, 416.43588], [-0.45354232, 346.68295], [-0.49006495, 356.46432], [-0.17168526, 468.69946], [-0.4860642, 353.72614], [-0.47880784, 359.23062], [-0.48893157, 372.29996], [-0.51819026, 364.11426], [-0.48826918, 351.2103], [2.7308965, 417.03613], [-0.2968101, 367.49768], [-0.51775444, 359.0938], [-0.40005437, 366.31378], [-0.44251052, 398.2318], [-0.37960932, 349.85672], [-0.5221508, 353.91122], [-0.29741883, 407.78088], [-0.45076448, 398.34604], [0.15671122, 441.11615], [-0.48523813, 341.95413], [-0.41544396, 382.80786], [-0.24520202, 467.2202], [-0.07725972, 450.9731], [-0.44662553, 392.65204], [-0.54859275, 361.8819], [-0.2900392, 415.86716], [-0.49935633, 339.47308], [-0.3628301, 414.35202], [0.37502506, 412.97397], [0.09646994, 438.1873], [-0.5717739, 357.0996], [-0.5735977, 356.8464], [-0.25755566, 472.0725], [-0.2880282, 428.60904], [-0.25292456, 416.5601], [-0.5780854, 359.51123], [-0.53515583, 329.6322], [-0.5130016, 423.17], [-0.36640254, 509.88614], [-0.5187025, 373.58267], [-0.4806293, 407.30167], [-0.5951672, 354.0997], [-0.42208213, 341.98776], [-0.42461124, 347.68265], [-0.4887147, 385.87323], [-0.52617896, 325.10403], [-0.61806697, 368.5337], [-1.3296101, 370.54163], [-0.5722678, 347.67352], [-0.57160723, 337.43225], [-0.44574004, 389.02124], [-0.64604014, 379.25403], [-0.5430934, 320.95117], [-0.4400932, 459.35608], [-0.40742177, 456.721], [-0.33353457, 408.5644], [-0.47641402, 379.64774], [-0.4834496, 399.69946], [0.07619884, 403.06454], [-0.5507414, 327.28296], [-0.17163555, 388.84387], [-0.56502646, 410.76846], [-0.599723, 313.55222], [-0.6211255, 337.2065], [-0.30691782, 434.49316], [-0.50909436, 387.76593], [-7.65907, 330.0062]] score is: 1.44\n",
            "[[-0.17134354, 424.02673], [-0.17666495, 402.87653], [-0.17286736, 473.20026], [-0.20000513, 425.26587], [-0.4921371, 447.9498], [-0.08437457, 480.33896], [-0.012353575, 484.61636], [0.006205964, 560.36475], [-0.19773993, 422.5599], [0.005452824, 413.22583], [-0.10748787, 452.38953], [-0.10706987, 464.27267], [-0.22374515, 433.20386], [-0.123715356, 413.9975], [-0.03620839, 423.74664], [-0.15655065, 474.16736], [-0.09205987, 481.48737], [-0.2051022, 389.10062], [-0.11515021, 530.37274], [-0.22005029, 420.79654], [-0.21384712, 409.01703], [-0.15261897, 465.4117], [-0.19413432, 406.67566], [-0.35986453, 434.7005], [-0.2775639, 409.49612], [-0.26782522, 398.765], [0.022266686, 503.47525], [-0.19146079, 391.65918], [-0.19954382, 415.65466], [-0.25304982, 429.21017], [-0.23677674, 417.47076], [-0.2706761, 414.44183], [-0.22163495, 476.4154], [-0.105203986, 459.16], [-0.17023973, 395.858], [-0.21221836, 478.3134], [-0.25059658, 430.84097], [0.045693636, 447.5269], [-0.18785687, 379.95187], [-0.26848468, 397.43707], [-0.23716465, 426.8257], [-0.09566405, 486.3457], [2.272774, 445.34073], [-0.30530775, 410.79968], [-0.12847798, 440.0509], [0.020439614, 499.36777], [-0.11105341, 499.17285], [-0.3000098, 387.37006], [0.061595954, 466.91806], [-0.23719063, 414.51215], [-0.06616771, 452.67438], [-0.16841355, 470.72864], [-0.1601814, 462.03098], [-0.18913922, 390.0574], [-0.08433649, 394.05154], [-0.1675537, 462.21512], [-0.07943915, 467.7267], [-0.11154671, 477.79657], [0.036438275, 432.06396], [-0.20958324, 375.2994], [-0.325405, 395.78558], [-2.900809, 410.94595], [-0.2908901, 426.87073], [-0.12763244, 434.58945], [-0.27153498, 423.97357], [-0.021596765, 383.26532], [-0.06877551, 463.65298], [-0.3461563, 390.002], [-0.12865025, 558.7576], [-0.34994698, 389.0116], [-0.32734996, 378.3855], [-0.25272018, 381.06183], [0.07778634, 460.17438], [-0.3042574, 413.4821], [-0.19543636, 482.21524], [-0.27633917, 402.23068], [-0.09121019, 396.0839], [0.04289166, 503.01016], [-0.2804152, 412.91028], [-0.29216844, 419.7483], [-2.727404, 416.68405], [-0.2849423, 414.16104], [-0.36805025, 389.05646], [-0.1295777, 448.13785], [-0.09857764, 470.07355], [-0.16744271, 487.63235], [-0.2502622, 466.05826], [-0.22051218, 453.0561], [-0.3317804, 417.58746], [-0.14742121, 484.7773], [-0.04413135, 466.80756], [0.17074895, 447.35138], [-0.08361383, 476.94284], [-0.33550143, 406.1348], [-0.28766543, 385.45316], [-0.18890211, 442.77972], [-0.22205527, 464.91553], [-0.3346556, 368.14713], [-0.3580824, 362.37958], [0.4198977, 420.878], [0.042623937, 493.00735], [-0.40474254, 384.59735], [-0.3788819, 366.44525], [-0.33574805, 419.43073], [0.13332433, 453.35278], [-0.4236993, 375.61554], [-0.2794486, 358.62033], [-0.20638983, 484.11685], [-0.15301572, 561.6896], [-0.22032905, 408.50616], [-0.40277165, 368.01056], [-0.3085938, 366.65656], [-0.0336339, 459.69553], [-0.34598112, 379.08072], [-0.44968358, 375.9695], [-0.45170268, 375.5967], [-0.11581308, 431.65674], [-0.34633374, 383.78177], [-1.9322125, 371.01166], [-0.075940445, 504.80652], [-0.41278285, 360.35876], [-0.4608949, 377.53778], [-0.29802138, 410.50833], [-0.350527, 373.97058], [-0.44241682, 361.0886], [-0.4195435, 350.05658], [0.0894099, 426.6986], [-0.22518885, 483.2626], [-0.31195575, 375.5822], [-0.068348065, 448.32666], [-2.399778, 351.59845], [-0.43631476, 357.0124], [-0.16152105, 486.1961], [-0.3840387, 384.03796], [-0.4889554, 384.73718], [0.1216407, 421.1238], [-0.48645264, 360.11862], [-0.4639842, 356.04218], [-0.45265475, 352.32196], [-0.3332952, 429.90485], [0.21787822, 416.43588], [-0.45354232, 346.68295], [-0.49006495, 356.46432], [-0.17168526, 468.69946], [-0.4860642, 353.72614], [-0.47880784, 359.23062], [-0.48893157, 372.29996], [-0.51819026, 364.11426], [-0.48826918, 351.2103], [2.7308965, 417.03613], [-0.2968101, 367.49768], [-0.51775444, 359.0938], [-0.40005437, 366.31378], [-0.44251052, 398.2318], [-0.37960932, 349.85672], [-0.5221508, 353.91122], [-0.29741883, 407.78088], [-0.45076448, 398.34604], [0.15671122, 441.11615], [-0.48523813, 341.95413], [-0.41544396, 382.80786], [-0.24520202, 467.2202], [-0.07725972, 450.9731], [-0.44662553, 392.65204], [-0.54859275, 361.8819], [-0.2900392, 415.86716], [-0.49935633, 339.47308], [-0.3628301, 414.35202], [0.37502506, 412.97397], [0.09646994, 438.1873], [-0.5717739, 357.0996], [-0.5735977, 356.8464], [-0.25755566, 472.0725], [-0.2880282, 428.60904], [-0.25292456, 416.5601], [-0.5780854, 359.51123], [-0.53515583, 329.6322], [-0.5130016, 423.17], [-0.36640254, 509.88614], [-0.5187025, 373.58267], [-0.4806293, 407.30167], [-0.5951672, 354.0997], [-0.42208213, 341.98776], [-0.42461124, 347.68265], [-0.4887147, 385.87323], [-0.52617896, 325.10403], [-0.61806697, 368.5337], [-1.3296101, 370.54163], [-0.5722678, 347.67352], [-0.57160723, 337.43225], [-0.44574004, 389.02124], [-0.64604014, 379.25403], [-0.5430934, 320.95117], [-0.4400932, 459.35608], [-0.40742177, 456.721], [-0.33353457, 408.5644], [-0.47641402, 379.64774], [-0.4834496, 399.69946], [0.07619884, 403.06454], [-0.5507414, 327.28296], [-0.17163555, 388.84387], [-0.56502646, 410.76846], [-0.599723, 313.55222], [-0.6211255, 337.2065], [-0.30691782, 434.49316], [-0.50909436, 387.76593], [-7.65907, 330.0062], [-0.50472164, 398.90115], [-0.51605606, 363.80072], [-0.5378858, 383.54343], [-0.05444386, 354.27246], [-0.5561453, 406.65198], [-0.44055825, 413.97232], [-0.66913855, 341.1051], [-0.6956935, 350.52872], [-0.66103375, 333.1926], [-0.7070591, 358.49304], [-0.5901493, 392.08627], [-0.46353197, 410.7213], [-0.63388395, 367.9706], [-0.061381985, 459.7558], [-0.6008558, 391.74142], [-0.6456616, 308.85928], [-0.002004254, 365.27435], [-0.55437696, 358.65158], [-0.48102203, 359.61215]] score is: 1.66\n",
            "[[-0.17134354, 424.02673], [-0.17666495, 402.87653], [-0.17286736, 473.20026], [-0.20000513, 425.26587], [-0.4921371, 447.9498], [-0.08437457, 480.33896], [-0.012353575, 484.61636], [0.006205964, 560.36475], [-0.19773993, 422.5599], [0.005452824, 413.22583], [-0.10748787, 452.38953], [-0.10706987, 464.27267], [-0.22374515, 433.20386], [-0.123715356, 413.9975], [-0.03620839, 423.74664], [-0.15655065, 474.16736], [-0.09205987, 481.48737], [-0.2051022, 389.10062], [-0.11515021, 530.37274], [-0.22005029, 420.79654], [-0.21384712, 409.01703], [-0.15261897, 465.4117], [-0.19413432, 406.67566], [-0.35986453, 434.7005], [-0.2775639, 409.49612], [-0.26782522, 398.765], [0.022266686, 503.47525], [-0.19146079, 391.65918], [-0.19954382, 415.65466], [-0.25304982, 429.21017], [-0.23677674, 417.47076], [-0.2706761, 414.44183], [-0.22163495, 476.4154], [-0.105203986, 459.16], [-0.17023973, 395.858], [-0.21221836, 478.3134], [-0.25059658, 430.84097], [0.045693636, 447.5269], [-0.18785687, 379.95187], [-0.26848468, 397.43707], [-0.23716465, 426.8257], [-0.09566405, 486.3457], [2.272774, 445.34073], [-0.30530775, 410.79968], [-0.12847798, 440.0509], [0.020439614, 499.36777], [-0.11105341, 499.17285], [-0.3000098, 387.37006], [0.061595954, 466.91806], [-0.23719063, 414.51215], [-0.06616771, 452.67438], [-0.16841355, 470.72864], [-0.1601814, 462.03098], [-0.18913922, 390.0574], [-0.08433649, 394.05154], [-0.1675537, 462.21512], [-0.07943915, 467.7267], [-0.11154671, 477.79657], [0.036438275, 432.06396], [-0.20958324, 375.2994], [-0.325405, 395.78558], [-2.900809, 410.94595], [-0.2908901, 426.87073], [-0.12763244, 434.58945], [-0.27153498, 423.97357], [-0.021596765, 383.26532], [-0.06877551, 463.65298], [-0.3461563, 390.002], [-0.12865025, 558.7576], [-0.34994698, 389.0116], [-0.32734996, 378.3855], [-0.25272018, 381.06183], [0.07778634, 460.17438], [-0.3042574, 413.4821], [-0.19543636, 482.21524], [-0.27633917, 402.23068], [-0.09121019, 396.0839], [0.04289166, 503.01016], [-0.2804152, 412.91028], [-0.29216844, 419.7483], [-2.727404, 416.68405], [-0.2849423, 414.16104], [-0.36805025, 389.05646], [-0.1295777, 448.13785], [-0.09857764, 470.07355], [-0.16744271, 487.63235], [-0.2502622, 466.05826], [-0.22051218, 453.0561], [-0.3317804, 417.58746], [-0.14742121, 484.7773], [-0.04413135, 466.80756], [0.17074895, 447.35138], [-0.08361383, 476.94284], [-0.33550143, 406.1348], [-0.28766543, 385.45316], [-0.18890211, 442.77972], [-0.22205527, 464.91553], [-0.3346556, 368.14713], [-0.3580824, 362.37958], [0.4198977, 420.878], [0.042623937, 493.00735], [-0.40474254, 384.59735], [-0.3788819, 366.44525], [-0.33574805, 419.43073], [0.13332433, 453.35278], [-0.4236993, 375.61554], [-0.2794486, 358.62033], [-0.20638983, 484.11685], [-0.15301572, 561.6896], [-0.22032905, 408.50616], [-0.40277165, 368.01056], [-0.3085938, 366.65656], [-0.0336339, 459.69553], [-0.34598112, 379.08072], [-0.44968358, 375.9695], [-0.45170268, 375.5967], [-0.11581308, 431.65674], [-0.34633374, 383.78177], [-1.9322125, 371.01166], [-0.075940445, 504.80652], [-0.41278285, 360.35876], [-0.4608949, 377.53778], [-0.29802138, 410.50833], [-0.350527, 373.97058], [-0.44241682, 361.0886], [-0.4195435, 350.05658], [0.0894099, 426.6986], [-0.22518885, 483.2626], [-0.31195575, 375.5822], [-0.068348065, 448.32666], [-2.399778, 351.59845], [-0.43631476, 357.0124], [-0.16152105, 486.1961], [-0.3840387, 384.03796], [-0.4889554, 384.73718], [0.1216407, 421.1238], [-0.48645264, 360.11862], [-0.4639842, 356.04218], [-0.45265475, 352.32196], [-0.3332952, 429.90485], [0.21787822, 416.43588], [-0.45354232, 346.68295], [-0.49006495, 356.46432], [-0.17168526, 468.69946], [-0.4860642, 353.72614], [-0.47880784, 359.23062], [-0.48893157, 372.29996], [-0.51819026, 364.11426], [-0.48826918, 351.2103], [2.7308965, 417.03613], [-0.2968101, 367.49768], [-0.51775444, 359.0938], [-0.40005437, 366.31378], [-0.44251052, 398.2318], [-0.37960932, 349.85672], [-0.5221508, 353.91122], [-0.29741883, 407.78088], [-0.45076448, 398.34604], [0.15671122, 441.11615], [-0.48523813, 341.95413], [-0.41544396, 382.80786], [-0.24520202, 467.2202], [-0.07725972, 450.9731], [-0.44662553, 392.65204], [-0.54859275, 361.8819], [-0.2900392, 415.86716], [-0.49935633, 339.47308], [-0.3628301, 414.35202], [0.37502506, 412.97397], [0.09646994, 438.1873], [-0.5717739, 357.0996], [-0.5735977, 356.8464], [-0.25755566, 472.0725], [-0.2880282, 428.60904], [-0.25292456, 416.5601], [-0.5780854, 359.51123], [-0.53515583, 329.6322], [-0.5130016, 423.17], [-0.36640254, 509.88614], [-0.5187025, 373.58267], [-0.4806293, 407.30167], [-0.5951672, 354.0997], [-0.42208213, 341.98776], [-0.42461124, 347.68265], [-0.4887147, 385.87323], [-0.52617896, 325.10403], [-0.61806697, 368.5337], [-1.3296101, 370.54163], [-0.5722678, 347.67352], [-0.57160723, 337.43225], [-0.44574004, 389.02124], [-0.64604014, 379.25403], [-0.5430934, 320.95117], [-0.4400932, 459.35608], [-0.40742177, 456.721], [-0.33353457, 408.5644], [-0.47641402, 379.64774], [-0.4834496, 399.69946], [0.07619884, 403.06454], [-0.5507414, 327.28296], [-0.17163555, 388.84387], [-0.56502646, 410.76846], [-0.599723, 313.55222], [-0.6211255, 337.2065], [-0.30691782, 434.49316], [-0.50909436, 387.76593], [-7.65907, 330.0062], [-0.50472164, 398.90115], [-0.51605606, 363.80072], [-0.5378858, 383.54343], [-0.05444386, 354.27246], [-0.5561453, 406.65198], [-0.44055825, 413.97232], [-0.66913855, 341.1051], [-0.6956935, 350.52872], [-0.66103375, 333.1926], [-0.7070591, 358.49304], [-0.5901493, 392.08627], [-0.46353197, 410.7213], [-0.63388395, 367.9706], [-0.061381985, 459.7558], [-0.6008558, 391.74142], [-0.6456616, 308.85928], [-0.002004254, 365.27435], [-0.55437696, 358.65158], [-0.48102203, 359.61215], [-0.28794873, 409.7931], [-0.6679616, 317.40994], [-0.58935696, 383.29346], [-0.54937273, 372.4737], [-3.2751534, 320.19788]] score is: 1.72\n",
            "[[-0.17134354, 424.02673], [-0.17666495, 402.87653], [-0.17286736, 473.20026], [-0.20000513, 425.26587], [-0.4921371, 447.9498], [-0.08437457, 480.33896], [-0.012353575, 484.61636], [0.006205964, 560.36475], [-0.19773993, 422.5599], [0.005452824, 413.22583], [-0.10748787, 452.38953], [-0.10706987, 464.27267], [-0.22374515, 433.20386], [-0.123715356, 413.9975], [-0.03620839, 423.74664], [-0.15655065, 474.16736], [-0.09205987, 481.48737], [-0.2051022, 389.10062], [-0.11515021, 530.37274], [-0.22005029, 420.79654], [-0.21384712, 409.01703], [-0.15261897, 465.4117], [-0.19413432, 406.67566], [-0.35986453, 434.7005], [-0.2775639, 409.49612], [-0.26782522, 398.765], [0.022266686, 503.47525], [-0.19146079, 391.65918], [-0.19954382, 415.65466], [-0.25304982, 429.21017], [-0.23677674, 417.47076], [-0.2706761, 414.44183], [-0.22163495, 476.4154], [-0.105203986, 459.16], [-0.17023973, 395.858], [-0.21221836, 478.3134], [-0.25059658, 430.84097], [0.045693636, 447.5269], [-0.18785687, 379.95187], [-0.26848468, 397.43707], [-0.23716465, 426.8257], [-0.09566405, 486.3457], [2.272774, 445.34073], [-0.30530775, 410.79968], [-0.12847798, 440.0509], [0.020439614, 499.36777], [-0.11105341, 499.17285], [-0.3000098, 387.37006], [0.061595954, 466.91806], [-0.23719063, 414.51215], [-0.06616771, 452.67438], [-0.16841355, 470.72864], [-0.1601814, 462.03098], [-0.18913922, 390.0574], [-0.08433649, 394.05154], [-0.1675537, 462.21512], [-0.07943915, 467.7267], [-0.11154671, 477.79657], [0.036438275, 432.06396], [-0.20958324, 375.2994], [-0.325405, 395.78558], [-2.900809, 410.94595], [-0.2908901, 426.87073], [-0.12763244, 434.58945], [-0.27153498, 423.97357], [-0.021596765, 383.26532], [-0.06877551, 463.65298], [-0.3461563, 390.002], [-0.12865025, 558.7576], [-0.34994698, 389.0116], [-0.32734996, 378.3855], [-0.25272018, 381.06183], [0.07778634, 460.17438], [-0.3042574, 413.4821], [-0.19543636, 482.21524], [-0.27633917, 402.23068], [-0.09121019, 396.0839], [0.04289166, 503.01016], [-0.2804152, 412.91028], [-0.29216844, 419.7483], [-2.727404, 416.68405], [-0.2849423, 414.16104], [-0.36805025, 389.05646], [-0.1295777, 448.13785], [-0.09857764, 470.07355], [-0.16744271, 487.63235], [-0.2502622, 466.05826], [-0.22051218, 453.0561], [-0.3317804, 417.58746], [-0.14742121, 484.7773], [-0.04413135, 466.80756], [0.17074895, 447.35138], [-0.08361383, 476.94284], [-0.33550143, 406.1348], [-0.28766543, 385.45316], [-0.18890211, 442.77972], [-0.22205527, 464.91553], [-0.3346556, 368.14713], [-0.3580824, 362.37958], [0.4198977, 420.878], [0.042623937, 493.00735], [-0.40474254, 384.59735], [-0.3788819, 366.44525], [-0.33574805, 419.43073], [0.13332433, 453.35278], [-0.4236993, 375.61554], [-0.2794486, 358.62033], [-0.20638983, 484.11685], [-0.15301572, 561.6896], [-0.22032905, 408.50616], [-0.40277165, 368.01056], [-0.3085938, 366.65656], [-0.0336339, 459.69553], [-0.34598112, 379.08072], [-0.44968358, 375.9695], [-0.45170268, 375.5967], [-0.11581308, 431.65674], [-0.34633374, 383.78177], [-1.9322125, 371.01166], [-0.075940445, 504.80652], [-0.41278285, 360.35876], [-0.4608949, 377.53778], [-0.29802138, 410.50833], [-0.350527, 373.97058], [-0.44241682, 361.0886], [-0.4195435, 350.05658], [0.0894099, 426.6986], [-0.22518885, 483.2626], [-0.31195575, 375.5822], [-0.068348065, 448.32666], [-2.399778, 351.59845], [-0.43631476, 357.0124], [-0.16152105, 486.1961], [-0.3840387, 384.03796], [-0.4889554, 384.73718], [0.1216407, 421.1238], [-0.48645264, 360.11862], [-0.4639842, 356.04218], [-0.45265475, 352.32196], [-0.3332952, 429.90485], [0.21787822, 416.43588], [-0.45354232, 346.68295], [-0.49006495, 356.46432], [-0.17168526, 468.69946], [-0.4860642, 353.72614], [-0.47880784, 359.23062], [-0.48893157, 372.29996], [-0.51819026, 364.11426], [-0.48826918, 351.2103], [2.7308965, 417.03613], [-0.2968101, 367.49768], [-0.51775444, 359.0938], [-0.40005437, 366.31378], [-0.44251052, 398.2318], [-0.37960932, 349.85672], [-0.5221508, 353.91122], [-0.29741883, 407.78088], [-0.45076448, 398.34604], [0.15671122, 441.11615], [-0.48523813, 341.95413], [-0.41544396, 382.80786], [-0.24520202, 467.2202], [-0.07725972, 450.9731], [-0.44662553, 392.65204], [-0.54859275, 361.8819], [-0.2900392, 415.86716], [-0.49935633, 339.47308], [-0.3628301, 414.35202], [0.37502506, 412.97397], [0.09646994, 438.1873], [-0.5717739, 357.0996], [-0.5735977, 356.8464], [-0.25755566, 472.0725], [-0.2880282, 428.60904], [-0.25292456, 416.5601], [-0.5780854, 359.51123], [-0.53515583, 329.6322], [-0.5130016, 423.17], [-0.36640254, 509.88614], [-0.5187025, 373.58267], [-0.4806293, 407.30167], [-0.5951672, 354.0997], [-0.42208213, 341.98776], [-0.42461124, 347.68265], [-0.4887147, 385.87323], [-0.52617896, 325.10403], [-0.61806697, 368.5337], [-1.3296101, 370.54163], [-0.5722678, 347.67352], [-0.57160723, 337.43225], [-0.44574004, 389.02124], [-0.64604014, 379.25403], [-0.5430934, 320.95117], [-0.4400932, 459.35608], [-0.40742177, 456.721], [-0.33353457, 408.5644], [-0.47641402, 379.64774], [-0.4834496, 399.69946], [0.07619884, 403.06454], [-0.5507414, 327.28296], [-0.17163555, 388.84387], [-0.56502646, 410.76846], [-0.599723, 313.55222], [-0.6211255, 337.2065], [-0.30691782, 434.49316], [-0.50909436, 387.76593], [-7.65907, 330.0062], [-0.50472164, 398.90115], [-0.51605606, 363.80072], [-0.5378858, 383.54343], [-0.05444386, 354.27246], [-0.5561453, 406.65198], [-0.44055825, 413.97232], [-0.66913855, 341.1051], [-0.6956935, 350.52872], [-0.66103375, 333.1926], [-0.7070591, 358.49304], [-0.5901493, 392.08627], [-0.46353197, 410.7213], [-0.63388395, 367.9706], [-0.061381985, 459.7558], [-0.6008558, 391.74142], [-0.6456616, 308.85928], [-0.002004254, 365.27435], [-0.55437696, 358.65158], [-0.48102203, 359.61215], [-0.28794873, 409.7931], [-0.6679616, 317.40994], [-0.58935696, 383.29346], [-0.54937273, 372.4737], [-3.2751534, 320.19788], [-0.6323508, 396.98206], [-0.7407018, 332.9672], [-0.6221221, 412.5053], [-0.53741777, 330.68985], [-0.5415708, 381.04135], [-0.5988832, 361.9606], [-0.36740312, 421.89484], [-0.54763186, 372.88], [-0.7325173, 329.64468], [-0.7316872, 309.89233], [-0.36161256, 417.51355], [-0.7129313, 294.73773], [-0.55392253, 386.58673], [-0.26935846, 332.52502], [-0.62663394, 378.57144], [-0.6926204, 317.68704], [-0.6513255, 284.1974], [-0.7720116, 332.409], [-6.3587255, 384.4238]] score is: 1.6\n",
            "[[-0.17134354, 424.02673], [-0.17666495, 402.87653], [-0.17286736, 473.20026], [-0.20000513, 425.26587], [-0.4921371, 447.9498], [-0.08437457, 480.33896], [-0.012353575, 484.61636], [0.006205964, 560.36475], [-0.19773993, 422.5599], [0.005452824, 413.22583], [-0.10748787, 452.38953], [-0.10706987, 464.27267], [-0.22374515, 433.20386], [-0.123715356, 413.9975], [-0.03620839, 423.74664], [-0.15655065, 474.16736], [-0.09205987, 481.48737], [-0.2051022, 389.10062], [-0.11515021, 530.37274], [-0.22005029, 420.79654], [-0.21384712, 409.01703], [-0.15261897, 465.4117], [-0.19413432, 406.67566], [-0.35986453, 434.7005], [-0.2775639, 409.49612], [-0.26782522, 398.765], [0.022266686, 503.47525], [-0.19146079, 391.65918], [-0.19954382, 415.65466], [-0.25304982, 429.21017], [-0.23677674, 417.47076], [-0.2706761, 414.44183], [-0.22163495, 476.4154], [-0.105203986, 459.16], [-0.17023973, 395.858], [-0.21221836, 478.3134], [-0.25059658, 430.84097], [0.045693636, 447.5269], [-0.18785687, 379.95187], [-0.26848468, 397.43707], [-0.23716465, 426.8257], [-0.09566405, 486.3457], [2.272774, 445.34073], [-0.30530775, 410.79968], [-0.12847798, 440.0509], [0.020439614, 499.36777], [-0.11105341, 499.17285], [-0.3000098, 387.37006], [0.061595954, 466.91806], [-0.23719063, 414.51215], [-0.06616771, 452.67438], [-0.16841355, 470.72864], [-0.1601814, 462.03098], [-0.18913922, 390.0574], [-0.08433649, 394.05154], [-0.1675537, 462.21512], [-0.07943915, 467.7267], [-0.11154671, 477.79657], [0.036438275, 432.06396], [-0.20958324, 375.2994], [-0.325405, 395.78558], [-2.900809, 410.94595], [-0.2908901, 426.87073], [-0.12763244, 434.58945], [-0.27153498, 423.97357], [-0.021596765, 383.26532], [-0.06877551, 463.65298], [-0.3461563, 390.002], [-0.12865025, 558.7576], [-0.34994698, 389.0116], [-0.32734996, 378.3855], [-0.25272018, 381.06183], [0.07778634, 460.17438], [-0.3042574, 413.4821], [-0.19543636, 482.21524], [-0.27633917, 402.23068], [-0.09121019, 396.0839], [0.04289166, 503.01016], [-0.2804152, 412.91028], [-0.29216844, 419.7483], [-2.727404, 416.68405], [-0.2849423, 414.16104], [-0.36805025, 389.05646], [-0.1295777, 448.13785], [-0.09857764, 470.07355], [-0.16744271, 487.63235], [-0.2502622, 466.05826], [-0.22051218, 453.0561], [-0.3317804, 417.58746], [-0.14742121, 484.7773], [-0.04413135, 466.80756], [0.17074895, 447.35138], [-0.08361383, 476.94284], [-0.33550143, 406.1348], [-0.28766543, 385.45316], [-0.18890211, 442.77972], [-0.22205527, 464.91553], [-0.3346556, 368.14713], [-0.3580824, 362.37958], [0.4198977, 420.878], [0.042623937, 493.00735], [-0.40474254, 384.59735], [-0.3788819, 366.44525], [-0.33574805, 419.43073], [0.13332433, 453.35278], [-0.4236993, 375.61554], [-0.2794486, 358.62033], [-0.20638983, 484.11685], [-0.15301572, 561.6896], [-0.22032905, 408.50616], [-0.40277165, 368.01056], [-0.3085938, 366.65656], [-0.0336339, 459.69553], [-0.34598112, 379.08072], [-0.44968358, 375.9695], [-0.45170268, 375.5967], [-0.11581308, 431.65674], [-0.34633374, 383.78177], [-1.9322125, 371.01166], [-0.075940445, 504.80652], [-0.41278285, 360.35876], [-0.4608949, 377.53778], [-0.29802138, 410.50833], [-0.350527, 373.97058], [-0.44241682, 361.0886], [-0.4195435, 350.05658], [0.0894099, 426.6986], [-0.22518885, 483.2626], [-0.31195575, 375.5822], [-0.068348065, 448.32666], [-2.399778, 351.59845], [-0.43631476, 357.0124], [-0.16152105, 486.1961], [-0.3840387, 384.03796], [-0.4889554, 384.73718], [0.1216407, 421.1238], [-0.48645264, 360.11862], [-0.4639842, 356.04218], [-0.45265475, 352.32196], [-0.3332952, 429.90485], [0.21787822, 416.43588], [-0.45354232, 346.68295], [-0.49006495, 356.46432], [-0.17168526, 468.69946], [-0.4860642, 353.72614], [-0.47880784, 359.23062], [-0.48893157, 372.29996], [-0.51819026, 364.11426], [-0.48826918, 351.2103], [2.7308965, 417.03613], [-0.2968101, 367.49768], [-0.51775444, 359.0938], [-0.40005437, 366.31378], [-0.44251052, 398.2318], [-0.37960932, 349.85672], [-0.5221508, 353.91122], [-0.29741883, 407.78088], [-0.45076448, 398.34604], [0.15671122, 441.11615], [-0.48523813, 341.95413], [-0.41544396, 382.80786], [-0.24520202, 467.2202], [-0.07725972, 450.9731], [-0.44662553, 392.65204], [-0.54859275, 361.8819], [-0.2900392, 415.86716], [-0.49935633, 339.47308], [-0.3628301, 414.35202], [0.37502506, 412.97397], [0.09646994, 438.1873], [-0.5717739, 357.0996], [-0.5735977, 356.8464], [-0.25755566, 472.0725], [-0.2880282, 428.60904], [-0.25292456, 416.5601], [-0.5780854, 359.51123], [-0.53515583, 329.6322], [-0.5130016, 423.17], [-0.36640254, 509.88614], [-0.5187025, 373.58267], [-0.4806293, 407.30167], [-0.5951672, 354.0997], [-0.42208213, 341.98776], [-0.42461124, 347.68265], [-0.4887147, 385.87323], [-0.52617896, 325.10403], [-0.61806697, 368.5337], [-1.3296101, 370.54163], [-0.5722678, 347.67352], [-0.57160723, 337.43225], [-0.44574004, 389.02124], [-0.64604014, 379.25403], [-0.5430934, 320.95117], [-0.4400932, 459.35608], [-0.40742177, 456.721], [-0.33353457, 408.5644], [-0.47641402, 379.64774], [-0.4834496, 399.69946], [0.07619884, 403.06454], [-0.5507414, 327.28296], [-0.17163555, 388.84387], [-0.56502646, 410.76846], [-0.599723, 313.55222], [-0.6211255, 337.2065], [-0.30691782, 434.49316], [-0.50909436, 387.76593], [-7.65907, 330.0062], [-0.50472164, 398.90115], [-0.51605606, 363.80072], [-0.5378858, 383.54343], [-0.05444386, 354.27246], [-0.5561453, 406.65198], [-0.44055825, 413.97232], [-0.66913855, 341.1051], [-0.6956935, 350.52872], [-0.66103375, 333.1926], [-0.7070591, 358.49304], [-0.5901493, 392.08627], [-0.46353197, 410.7213], [-0.63388395, 367.9706], [-0.061381985, 459.7558], [-0.6008558, 391.74142], [-0.6456616, 308.85928], [-0.002004254, 365.27435], [-0.55437696, 358.65158], [-0.48102203, 359.61215], [-0.28794873, 409.7931], [-0.6679616, 317.40994], [-0.58935696, 383.29346], [-0.54937273, 372.4737], [-3.2751534, 320.19788], [-0.6323508, 396.98206], [-0.7407018, 332.9672], [-0.6221221, 412.5053], [-0.53741777, 330.68985], [-0.5415708, 381.04135], [-0.5988832, 361.9606], [-0.36740312, 421.89484], [-0.54763186, 372.88], [-0.7325173, 329.64468], [-0.7316872, 309.89233], [-0.36161256, 417.51355], [-0.7129313, 294.73773], [-0.55392253, 386.58673], [-0.26935846, 332.52502], [-0.62663394, 378.57144], [-0.6926204, 317.68704], [-0.6513255, 284.1974], [-0.7720116, 332.409], [-6.3587255, 384.4238], [-0.56345445, 317.8855], [-0.6965659, 380.0646], [0.19750997, 414.6448], [-0.59995866, 301.5719], [-0.52434033, 391.4287], [-0.71964616, 314.70508], [-0.14747214, 399.3864], [-0.7820944, 317.3892], [-0.58297455, 315.3598], [-0.6451895, 368.18097], [0.40209752, 426.30893], [-0.76822954, 285.92682], [-0.60882133, 338.85104], [-0.73342425, 436.0799], [-0.73748934, 311.167], [-0.7884078, 312.40854], [0.41797954, 401.19162], [-0.854088, 336.83743], [4.647848, 352.28412]] score is: 1.56\n"
          ],
          "name": "stdout"
        },
        {
          "output_type": "error",
          "ename": "KeyboardInterrupt",
          "evalue": "ignored",
          "traceback": [
            "\u001b[0;31m---------------------------------------------------------------------------\u001b[0m",
            "\u001b[0;31mKeyboardInterrupt\u001b[0m                         Traceback (most recent call last)",
            "\u001b[0;32m<ipython-input-17-5ba0f138c5d9>\u001b[0m in \u001b[0;36m<module>\u001b[0;34m()\u001b[0m\n\u001b[1;32m     75\u001b[0m         \u001b[0mloss\u001b[0m \u001b[0;34m=\u001b[0m \u001b[0mmodel_train\u001b[0m\u001b[0;34m.\u001b[0m\u001b[0mtrain_on_batch\u001b[0m\u001b[0;34m(\u001b[0m\u001b[0;34m[\u001b[0m\u001b[0mstates\u001b[0m\u001b[0;34m[\u001b[0m\u001b[0mi\u001b[0m\u001b[0;34m]\u001b[0m\u001b[0;34m,\u001b[0m \u001b[0mdiscounted_rewards\u001b[0m\u001b[0;34m[\u001b[0m\u001b[0mi\u001b[0m\u001b[0;34m]\u001b[0m\u001b[0;34m]\u001b[0m\u001b[0;34m,\u001b[0m \u001b[0my_target\u001b[0m\u001b[0;34m[\u001b[0m\u001b[0mi\u001b[0m\u001b[0;34m]\u001b[0m\u001b[0;34m)\u001b[0m\u001b[0;34m\u001b[0m\u001b[0;34m\u001b[0m\u001b[0m\n\u001b[1;32m     76\u001b[0m         \u001b[0mlosses\u001b[0m\u001b[0;34m.\u001b[0m\u001b[0mappend\u001b[0m\u001b[0;34m(\u001b[0m\u001b[0mloss\u001b[0m\u001b[0;34m)\u001b[0m\u001b[0;34m\u001b[0m\u001b[0;34m\u001b[0m\u001b[0m\n\u001b[0;32m---> 77\u001b[0;31m         \u001b[0mhit\u001b[0m \u001b[0;34m=\u001b[0m \u001b[0mscore_model\u001b[0m\u001b[0;34m(\u001b[0m\u001b[0mmodel_predict\u001b[0m\u001b[0;34m,\u001b[0m \u001b[0;36m100\u001b[0m\u001b[0;34m)\u001b[0m\u001b[0;34m\u001b[0m\u001b[0;34m\u001b[0m\u001b[0m\n\u001b[0m\u001b[1;32m     78\u001b[0m \u001b[0;34m\u001b[0m\u001b[0m\n\u001b[1;32m     79\u001b[0m       \u001b[0mprint\u001b[0m\u001b[0;34m(\u001b[0m\u001b[0mlosses\u001b[0m\u001b[0;34m,\u001b[0m \u001b[0;34m\"score is:\"\u001b[0m\u001b[0;34m,\u001b[0m \u001b[0mhit\u001b[0m\u001b[0;34m)\u001b[0m\u001b[0;34m\u001b[0m\u001b[0;34m\u001b[0m\u001b[0m\n",
            "\u001b[0;32m<ipython-input-16-e4cc879f3461>\u001b[0m in \u001b[0;36mscore_model\u001b[0;34m(model_predict, num_tests)\u001b[0m\n\u001b[1;32m      5\u001b[0m     \u001b[0;32mfor\u001b[0m \u001b[0mnum_test\u001b[0m \u001b[0;32min\u001b[0m \u001b[0mrange\u001b[0m\u001b[0;34m(\u001b[0m\u001b[0mnum_tests\u001b[0m\u001b[0;34m)\u001b[0m\u001b[0;34m:\u001b[0m\u001b[0;34m\u001b[0m\u001b[0;34m\u001b[0m\u001b[0m\n\u001b[1;32m      6\u001b[0m         \u001b[0mobservation\u001b[0m \u001b[0;34m=\u001b[0m \u001b[0menv\u001b[0m\u001b[0;34m(\u001b[0m\u001b[0;34m)\u001b[0m\u001b[0;34m\u001b[0m\u001b[0;34m\u001b[0m\u001b[0m\n\u001b[0;32m----> 7\u001b[0;31m         \u001b[0mforcasts\u001b[0m \u001b[0;34m=\u001b[0m \u001b[0mmodel_predict\u001b[0m\u001b[0;34m.\u001b[0m\u001b[0mpredict\u001b[0m\u001b[0;34m(\u001b[0m\u001b[0mobservation\u001b[0m\u001b[0;34m)\u001b[0m\u001b[0;34m\u001b[0m\u001b[0;34m\u001b[0m\u001b[0m\n\u001b[0m\u001b[1;32m      8\u001b[0m         \u001b[0mrw\u001b[0m \u001b[0;34m=\u001b[0m \u001b[0mreward\u001b[0m\u001b[0;34m(\u001b[0m\u001b[0mobservation\u001b[0m\u001b[0;34m,\u001b[0m \u001b[0mnp\u001b[0m\u001b[0;34m.\u001b[0m\u001b[0margmax\u001b[0m\u001b[0;34m(\u001b[0m\u001b[0mforcasts\u001b[0m\u001b[0;34m,\u001b[0m \u001b[0maxis\u001b[0m\u001b[0;34m=\u001b[0m\u001b[0;36m1\u001b[0m\u001b[0;34m)\u001b[0m\u001b[0;34m)\u001b[0m\u001b[0;34m\u001b[0m\u001b[0;34m\u001b[0m\u001b[0m\n\u001b[1;32m      9\u001b[0m         \u001b[0mreward_sum\u001b[0m \u001b[0;34m=\u001b[0m \u001b[0mnp\u001b[0m\u001b[0;34m.\u001b[0m\u001b[0msum\u001b[0m\u001b[0;34m(\u001b[0m\u001b[0mrw\u001b[0m\u001b[0;34m)\u001b[0m\u001b[0;34m\u001b[0m\u001b[0;34m\u001b[0m\u001b[0m\n",
            "\u001b[0;32m/usr/local/lib/python3.6/dist-packages/keras/engine/training.py\u001b[0m in \u001b[0;36mpredict\u001b[0;34m(self, x, batch_size, verbose, steps, callbacks, max_queue_size, workers, use_multiprocessing)\u001b[0m\n\u001b[1;32m   1460\u001b[0m                                             \u001b[0mverbose\u001b[0m\u001b[0;34m=\u001b[0m\u001b[0mverbose\u001b[0m\u001b[0;34m,\u001b[0m\u001b[0;34m\u001b[0m\u001b[0;34m\u001b[0m\u001b[0m\n\u001b[1;32m   1461\u001b[0m                                             \u001b[0msteps\u001b[0m\u001b[0;34m=\u001b[0m\u001b[0msteps\u001b[0m\u001b[0;34m,\u001b[0m\u001b[0;34m\u001b[0m\u001b[0;34m\u001b[0m\u001b[0m\n\u001b[0;32m-> 1462\u001b[0;31m                                             callbacks=callbacks)\n\u001b[0m\u001b[1;32m   1463\u001b[0m \u001b[0;34m\u001b[0m\u001b[0m\n\u001b[1;32m   1464\u001b[0m     def train_on_batch(self, x, y,\n",
            "\u001b[0;32m/usr/local/lib/python3.6/dist-packages/keras/engine/training_arrays.py\u001b[0m in \u001b[0;36mpredict_loop\u001b[0;34m(model, f, ins, batch_size, verbose, steps, callbacks)\u001b[0m\n\u001b[1;32m    322\u001b[0m             \u001b[0mbatch_logs\u001b[0m \u001b[0;34m=\u001b[0m \u001b[0;34m{\u001b[0m\u001b[0;34m'batch'\u001b[0m\u001b[0;34m:\u001b[0m \u001b[0mbatch_index\u001b[0m\u001b[0;34m,\u001b[0m \u001b[0;34m'size'\u001b[0m\u001b[0;34m:\u001b[0m \u001b[0mlen\u001b[0m\u001b[0;34m(\u001b[0m\u001b[0mbatch_ids\u001b[0m\u001b[0;34m)\u001b[0m\u001b[0;34m}\u001b[0m\u001b[0;34m\u001b[0m\u001b[0;34m\u001b[0m\u001b[0m\n\u001b[1;32m    323\u001b[0m             \u001b[0mcallbacks\u001b[0m\u001b[0;34m.\u001b[0m\u001b[0m_call_batch_hook\u001b[0m\u001b[0;34m(\u001b[0m\u001b[0;34m'predict'\u001b[0m\u001b[0;34m,\u001b[0m \u001b[0;34m'begin'\u001b[0m\u001b[0;34m,\u001b[0m \u001b[0mbatch_index\u001b[0m\u001b[0;34m,\u001b[0m \u001b[0mbatch_logs\u001b[0m\u001b[0;34m)\u001b[0m\u001b[0;34m\u001b[0m\u001b[0;34m\u001b[0m\u001b[0m\n\u001b[0;32m--> 324\u001b[0;31m             \u001b[0mbatch_outs\u001b[0m \u001b[0;34m=\u001b[0m \u001b[0mf\u001b[0m\u001b[0;34m(\u001b[0m\u001b[0mins_batch\u001b[0m\u001b[0;34m)\u001b[0m\u001b[0;34m\u001b[0m\u001b[0;34m\u001b[0m\u001b[0m\n\u001b[0m\u001b[1;32m    325\u001b[0m             \u001b[0mbatch_outs\u001b[0m \u001b[0;34m=\u001b[0m \u001b[0mto_list\u001b[0m\u001b[0;34m(\u001b[0m\u001b[0mbatch_outs\u001b[0m\u001b[0;34m)\u001b[0m\u001b[0;34m\u001b[0m\u001b[0;34m\u001b[0m\u001b[0m\n\u001b[1;32m    326\u001b[0m             \u001b[0;32mif\u001b[0m \u001b[0mbatch_index\u001b[0m \u001b[0;34m==\u001b[0m \u001b[0;36m0\u001b[0m\u001b[0;34m:\u001b[0m\u001b[0;34m\u001b[0m\u001b[0;34m\u001b[0m\u001b[0m\n",
            "\u001b[0;32m/usr/local/lib/python3.6/dist-packages/tensorflow/python/keras/backend.py\u001b[0m in \u001b[0;36m__call__\u001b[0;34m(self, inputs)\u001b[0m\n\u001b[1;32m   3799\u001b[0m         \u001b[0mself\u001b[0m\u001b[0;34m.\u001b[0m\u001b[0m_outputs_structure\u001b[0m\u001b[0;34m,\u001b[0m\u001b[0;34m\u001b[0m\u001b[0;34m\u001b[0m\u001b[0m\n\u001b[1;32m   3800\u001b[0m         \u001b[0;34m[\u001b[0m\u001b[0mx\u001b[0m\u001b[0;34m.\u001b[0m\u001b[0m_numpy\u001b[0m\u001b[0;34m(\u001b[0m\u001b[0;34m)\u001b[0m \u001b[0;32mfor\u001b[0m \u001b[0mx\u001b[0m \u001b[0;32min\u001b[0m \u001b[0moutputs\u001b[0m\u001b[0;34m]\u001b[0m\u001b[0;34m,\u001b[0m  \u001b[0;31m# pylint: disable=protected-access\u001b[0m\u001b[0;34m\u001b[0m\u001b[0;34m\u001b[0m\u001b[0m\n\u001b[0;32m-> 3801\u001b[0;31m         expand_composites=True)\n\u001b[0m\u001b[1;32m   3802\u001b[0m \u001b[0;34m\u001b[0m\u001b[0m\n\u001b[1;32m   3803\u001b[0m \u001b[0;34m\u001b[0m\u001b[0m\n",
            "\u001b[0;32m/usr/local/lib/python3.6/dist-packages/tensorflow/python/util/nest.py\u001b[0m in \u001b[0;36mpack_sequence_as\u001b[0;34m(structure, flat_sequence, expand_composites)\u001b[0m\n\u001b[1;32m    550\u001b[0m     \u001b[0mTypeError\u001b[0m\u001b[0;34m:\u001b[0m\u001b[0;31m \u001b[0m\u001b[0;31m`\u001b[0m\u001b[0mstructure\u001b[0m\u001b[0;31m`\u001b[0m \u001b[0;32mis\u001b[0m \u001b[0;32mor\u001b[0m \u001b[0mcontains\u001b[0m \u001b[0ma\u001b[0m \u001b[0mdict\u001b[0m \u001b[0;32mwith\u001b[0m \u001b[0mnon\u001b[0m\u001b[0;34m-\u001b[0m\u001b[0msortable\u001b[0m \u001b[0mkeys\u001b[0m\u001b[0;34m.\u001b[0m\u001b[0;34m\u001b[0m\u001b[0;34m\u001b[0m\u001b[0m\n\u001b[1;32m    551\u001b[0m   \"\"\"\n\u001b[0;32m--> 552\u001b[0;31m   \u001b[0;32mreturn\u001b[0m \u001b[0m_pack_sequence_as\u001b[0m\u001b[0;34m(\u001b[0m\u001b[0mstructure\u001b[0m\u001b[0;34m,\u001b[0m \u001b[0mflat_sequence\u001b[0m\u001b[0;34m,\u001b[0m \u001b[0mexpand_composites\u001b[0m\u001b[0;34m)\u001b[0m\u001b[0;34m\u001b[0m\u001b[0;34m\u001b[0m\u001b[0m\n\u001b[0m\u001b[1;32m    553\u001b[0m \u001b[0;34m\u001b[0m\u001b[0m\n\u001b[1;32m    554\u001b[0m \u001b[0;34m\u001b[0m\u001b[0m\n",
            "\u001b[0;32m/usr/local/lib/python3.6/dist-packages/tensorflow/python/util/nest.py\u001b[0m in \u001b[0;36m_pack_sequence_as\u001b[0;34m(structure, flat_sequence, expand_composites, sequence_fn)\u001b[0m\n\u001b[1;32m    486\u001b[0m     \u001b[0;32mreturn\u001b[0m \u001b[0mvalue_str\u001b[0m\u001b[0;34m[\u001b[0m\u001b[0;34m:\u001b[0m\u001b[0mlength\u001b[0m\u001b[0;34m]\u001b[0m \u001b[0;34m+\u001b[0m \u001b[0;34m(\u001b[0m\u001b[0mvalue_str\u001b[0m\u001b[0;34m[\u001b[0m\u001b[0mlength\u001b[0m\u001b[0;34m:\u001b[0m\u001b[0;34m]\u001b[0m \u001b[0;32mand\u001b[0m \u001b[0;34m\"...\"\u001b[0m\u001b[0;34m)\u001b[0m\u001b[0;34m\u001b[0m\u001b[0;34m\u001b[0m\u001b[0m\n\u001b[1;32m    487\u001b[0m \u001b[0;34m\u001b[0m\u001b[0m\n\u001b[0;32m--> 488\u001b[0;31m   \u001b[0;32mif\u001b[0m \u001b[0;32mnot\u001b[0m \u001b[0mis_seq\u001b[0m\u001b[0;34m(\u001b[0m\u001b[0mflat_sequence\u001b[0m\u001b[0;34m)\u001b[0m\u001b[0;34m:\u001b[0m\u001b[0;34m\u001b[0m\u001b[0;34m\u001b[0m\u001b[0m\n\u001b[0m\u001b[1;32m    489\u001b[0m     raise TypeError(\n\u001b[1;32m    490\u001b[0m         \u001b[0;34m\"Attempted to pack value:\\n  {}\\ninto a sequence, but found \"\u001b[0m\u001b[0;34m\u001b[0m\u001b[0;34m\u001b[0m\u001b[0m\n",
            "\u001b[0;31mKeyboardInterrupt\u001b[0m: "
          ]
        }
      ]
    },
    {
      "cell_type": "code",
      "metadata": {
        "id": "z3HdUiqfGLGF",
        "colab_type": "code",
        "colab": {}
      },
      "source": [
        "\n",
        "\n",
        "        # Print periodically\n",
        "        if (num_episode + 1) % print_every == 0:\n",
        "            # Print status\n",
        "            score = score_model(model_predict,10)\n",
        "            print(\"Average reward for training episode {}: {:0.2f} Test Score: {:0.2f} Loss: {:0.6f} \".format(\n",
        "                (num_episode + 1), reward_sum/print_every, \n",
        "                score,\n",
        "                np.mean(losses[-print_every:])))\n",
        "            \n",
        "            if score >= goal:\n",
        "                print(\"Solved in {} episodes!\".format(num_episode))\n",
        "                break\n",
        "            reward_sum = 0\n",
        "                \n",
        "        num_episode += 1\n",
        "        observation = env.reset()"
      ],
      "execution_count": null,
      "outputs": []
    },
    {
      "cell_type": "code",
      "metadata": {
        "id": "8ubj9ACiEzav",
        "colab_type": "code",
        "colab": {
          "base_uri": "https://localhost:8080/",
          "height": 169
        },
        "outputId": "9218e670-3b3d-47cb-c8fe-5ff62b5c89ab"
      },
      "source": [
        "[1,2,3].mean()"
      ],
      "execution_count": null,
      "outputs": [
        {
          "output_type": "error",
          "ename": "AttributeError",
          "evalue": "ignored",
          "traceback": [
            "\u001b[0;31m---------------------------------------------------------------------------\u001b[0m",
            "\u001b[0;31mAttributeError\u001b[0m                            Traceback (most recent call last)",
            "\u001b[0;32m<ipython-input-1-f0d594712af5>\u001b[0m in \u001b[0;36m<module>\u001b[0;34m()\u001b[0m\n\u001b[0;32m----> 1\u001b[0;31m \u001b[0;34m[\u001b[0m\u001b[0;36m1\u001b[0m\u001b[0;34m,\u001b[0m\u001b[0;36m2\u001b[0m\u001b[0;34m,\u001b[0m\u001b[0;36m3\u001b[0m\u001b[0;34m]\u001b[0m\u001b[0;34m.\u001b[0m\u001b[0mmean\u001b[0m\u001b[0;34m(\u001b[0m\u001b[0;34m)\u001b[0m\u001b[0;34m\u001b[0m\u001b[0;34m\u001b[0m\u001b[0m\n\u001b[0m",
            "\u001b[0;31mAttributeError\u001b[0m: 'list' object has no attribute 'mean'"
          ]
        }
      ]
    },
    {
      "cell_type": "code",
      "metadata": {
        "id": "EzPI_btblsEl",
        "colab_type": "code",
        "colab": {
          "base_uri": "https://localhost:8080/",
          "height": 52
        },
        "outputId": "d287280c-c54c-4612-db43-31b4d2f254b8"
      },
      "source": [
        "states = np.empty(0).reshape(0,10)\n",
        "observation = env()\n",
        "state = observation\n",
        "states = np.vstack([states, state])\n",
        "print(states)"
      ],
      "execution_count": null,
      "outputs": [
        {
          "output_type": "stream",
          "text": [
            "[[-2.14444758 -0.44786527  0.27428755 -1.35549211  0.21041568  0.58894521\n",
            "   0.73969842  0.03003539  1.31171488  0.79270784]]\n"
          ],
          "name": "stdout"
        }
      ]
    },
    {
      "cell_type": "code",
      "metadata": {
        "id": "WpvAblU7B4G6",
        "colab_type": "code",
        "colab": {
          "base_uri": "https://localhost:8080/",
          "height": 52
        },
        "outputId": "b3413535-88f1-48e9-cc6e-19d4a2175ce6"
      },
      "source": [
        "states"
      ],
      "execution_count": null,
      "outputs": [
        {
          "output_type": "execute_result",
          "data": {
            "text/plain": [
              "array([[-2.14444758, -0.44786527,  0.27428755, -1.35549211,  0.21041568,\n",
              "         0.58894521,  0.73969842,  0.03003539,  1.31171488,  0.79270784]])"
            ]
          },
          "metadata": {
            "tags": []
          },
          "execution_count": 141
        }
      ]
    },
    {
      "cell_type": "code",
      "metadata": {
        "id": "9Pv5pxyb7JEA",
        "colab_type": "code",
        "colab": {}
      },
      "source": [
        "acts=[]\n",
        "for i in range(0, len(f)):\n",
        "  action = np.random.choice(range(2),p=f[i]) # 대안 중에서 하나를 선택한다. p=[0.4, 0.6] 대안이 선택될 확율이다. action은 0 또는 1 이된다.\n",
        "  acts.append(action) "
      ],
      "execution_count": null,
      "outputs": []
    },
    {
      "cell_type": "code",
      "metadata": {
        "id": "KHhMmumd840D",
        "colab_type": "code",
        "colab": {
          "base_uri": "https://localhost:8080/",
          "height": 34
        },
        "outputId": "df03e84a-8873-46cb-8698-015753bfd28b"
      },
      "source": [
        "acts"
      ],
      "execution_count": null,
      "outputs": [
        {
          "output_type": "execute_result",
          "data": {
            "text/plain": [
              "[0, 1, 0, 0, 1, 1, 1, 0, 1, 0]"
            ]
          },
          "metadata": {
            "tags": []
          },
          "execution_count": 166
        }
      ]
    },
    {
      "cell_type": "code",
      "metadata": {
        "id": "F0IgmaBM9L2C",
        "colab_type": "code",
        "colab": {}
      },
      "source": [
        "actions = np.empty(0).reshape(0,dimen)"
      ],
      "execution_count": null,
      "outputs": []
    },
    {
      "cell_type": "code",
      "metadata": {
        "id": "HBjIisngSiJJ",
        "colab_type": "code",
        "colab": {}
      },
      "source": [
        ""
      ],
      "execution_count": null,
      "outputs": []
    },
    {
      "cell_type": "code",
      "metadata": {
        "id": "cAvltA8C9QJ_",
        "colab_type": "code",
        "colab": {}
      },
      "source": [
        "actions = np.vstack([actions, acts])"
      ],
      "execution_count": null,
      "outputs": []
    },
    {
      "cell_type": "code",
      "metadata": {
        "id": "kV892v-y9lkv",
        "colab_type": "code",
        "colab": {
          "base_uri": "https://localhost:8080/",
          "height": 34
        },
        "outputId": "7808729b-6874-4223-c26b-f02ec0b8ea82"
      },
      "source": [
        "actions"
      ],
      "execution_count": null,
      "outputs": [
        {
          "output_type": "execute_result",
          "data": {
            "text/plain": [
              "array([[0., 1., 0., 0., 1., 1., 1., 0., 1., 0.]])"
            ]
          },
          "metadata": {
            "tags": []
          },
          "execution_count": 169
        }
      ]
    },
    {
      "cell_type": "code",
      "metadata": {
        "id": "1w_kqPMFUIES",
        "colab_type": "code",
        "colab": {}
      },
      "source": [
        "actions = actions.squeeze().astype(int)"
      ],
      "execution_count": null,
      "outputs": []
    },
    {
      "cell_type": "code",
      "metadata": {
        "id": "FJyhyQY7UcTL",
        "colab_type": "code",
        "colab": {
          "base_uri": "https://localhost:8080/",
          "height": 34
        },
        "outputId": "88f7b84a-35a9-494f-c62f-a005d47ff734"
      },
      "source": [
        "actions"
      ],
      "execution_count": null,
      "outputs": [
        {
          "output_type": "execute_result",
          "data": {
            "text/plain": [
              "array([0, 1, 0, 0, 1, 1, 1, 0, 1, 0])"
            ]
          },
          "metadata": {
            "tags": []
          },
          "execution_count": 171
        }
      ]
    },
    {
      "cell_type": "code",
      "metadata": {
        "id": "QD1fTJ9SSmfM",
        "colab_type": "code",
        "colab": {}
      },
      "source": [
        "actions_train = np.zeros([len(actions), 2])\n"
      ],
      "execution_count": null,
      "outputs": []
    },
    {
      "cell_type": "code",
      "metadata": {
        "id": "1Yvcy2hkSvN1",
        "colab_type": "code",
        "colab": {
          "base_uri": "https://localhost:8080/",
          "height": 193
        },
        "outputId": "e3dad6a0-d22e-49c9-cabb-0a2cb60046da"
      },
      "source": [
        "actions_train"
      ],
      "execution_count": null,
      "outputs": [
        {
          "output_type": "execute_result",
          "data": {
            "text/plain": [
              "array([[0., 0.],\n",
              "       [0., 0.],\n",
              "       [0., 0.],\n",
              "       [0., 0.],\n",
              "       [0., 0.],\n",
              "       [0., 0.],\n",
              "       [0., 0.],\n",
              "       [0., 0.],\n",
              "       [0., 0.],\n",
              "       [0., 0.]])"
            ]
          },
          "metadata": {
            "tags": []
          },
          "execution_count": 173
        }
      ]
    },
    {
      "cell_type": "code",
      "metadata": {
        "id": "zAqAXJrATFnt",
        "colab_type": "code",
        "colab": {}
      },
      "source": [
        "actions_train[np.arange(len(actions)), actions] = 1"
      ],
      "execution_count": null,
      "outputs": []
    },
    {
      "cell_type": "code",
      "metadata": {
        "id": "RHG0XgebU2YC",
        "colab_type": "code",
        "colab": {
          "base_uri": "https://localhost:8080/",
          "height": 193
        },
        "outputId": "6eab33a9-38cb-4d48-861f-621173b9ef02"
      },
      "source": [
        "actions_train"
      ],
      "execution_count": null,
      "outputs": [
        {
          "output_type": "execute_result",
          "data": {
            "text/plain": [
              "array([[1., 0.],\n",
              "       [0., 1.],\n",
              "       [1., 0.],\n",
              "       [1., 0.],\n",
              "       [0., 1.],\n",
              "       [0., 1.],\n",
              "       [0., 1.],\n",
              "       [1., 0.],\n",
              "       [0., 1.],\n",
              "       [1., 0.]])"
            ]
          },
          "metadata": {
            "tags": []
          },
          "execution_count": 176
        }
      ]
    },
    {
      "cell_type": "code",
      "metadata": {
        "id": "mxtbvuyu__Kn",
        "colab_type": "code",
        "colab": {
          "base_uri": "https://localhost:8080/",
          "height": 34
        },
        "outputId": "6221e8f2-4d58-4cc8-f1b1-e27b54b1c1d0"
      },
      "source": [
        "for i in range(len(states)):\n",
        "  print(reward(states[i], actions[i]))"
      ],
      "execution_count": null,
      "outputs": [
        {
          "output_type": "stream",
          "text": [
            "[-1, 1, -1, 1, 1, 1, 1, -1, -1]\n"
          ],
          "name": "stdout"
        }
      ]
    },
    {
      "cell_type": "code",
      "metadata": {
        "id": "OlLRibqX_uLw",
        "colab_type": "code",
        "colab": {
          "base_uri": "https://localhost:8080/",
          "height": 34
        },
        "outputId": "1b648fb1-0518-4bac-bcca-c26d28932de3"
      },
      "source": [
        "len(actions)"
      ],
      "execution_count": null,
      "outputs": [
        {
          "output_type": "execute_result",
          "data": {
            "text/plain": [
              "1"
            ]
          },
          "metadata": {
            "tags": []
          },
          "execution_count": 129
        }
      ]
    },
    {
      "cell_type": "code",
      "metadata": {
        "id": "Di8snwQYJop6",
        "colab_type": "code",
        "colab": {}
      },
      "source": [
        "action = np.argmax(forcasts, axis=1)"
      ],
      "execution_count": null,
      "outputs": []
    },
    {
      "cell_type": "code",
      "metadata": {
        "id": "A105WybkkA0b",
        "colab_type": "code",
        "colab": {
          "base_uri": "https://localhost:8080/",
          "height": 34
        },
        "outputId": "33242956-3989-4ef4-8566-5b3c3814579c"
      },
      "source": [
        "action"
      ],
      "execution_count": null,
      "outputs": [
        {
          "output_type": "execute_result",
          "data": {
            "text/plain": [
              "array([0, 0, 0, 0, 0, 0, 0, 0, 0, 0])"
            ]
          },
          "metadata": {
            "tags": []
          },
          "execution_count": 64
        }
      ]
    },
    {
      "cell_type": "code",
      "metadata": {
        "id": "bjnwxHJHHzcc",
        "colab_type": "code",
        "colab": {
          "base_uri": "https://localhost:8080/",
          "height": 52
        },
        "outputId": "310f60eb-2178-45f7-c282-b061e37d6825"
      },
      "source": [
        "price"
      ],
      "execution_count": null,
      "outputs": [
        {
          "output_type": "execute_result",
          "data": {
            "text/plain": [
              "array([-1.33860938, -0.87349678, -1.77357356, -0.08613236,  0.42536386,\n",
              "        0.59313445,  0.52425265, -0.10512848,  1.36200137,  1.27218823])"
            ]
          },
          "metadata": {
            "tags": []
          },
          "execution_count": 53
        }
      ]
    },
    {
      "cell_type": "code",
      "metadata": {
        "id": "hnnvLYw_H0BZ",
        "colab_type": "code",
        "colab": {
          "base_uri": "https://localhost:8080/",
          "height": 175
        },
        "outputId": "6a5e02a6-7675-4f9b-ba49-1f086d298fff"
      },
      "source": [
        "for i in range(0, len(price)-1):\n",
        "  print(price[i], action[i])"
      ],
      "execution_count": null,
      "outputs": [
        {
          "output_type": "stream",
          "text": [
            "-1.338609382765694 0\n",
            "-0.873496776229333 0\n",
            "-1.7735735604440708 0\n",
            "-0.0861323574778538 0\n",
            "0.4253638642884277 0\n",
            "0.5931344497708159 0\n",
            "0.5242526478853675 0\n",
            "-0.10512848167939567 0\n",
            "1.36200137023465 0\n"
          ],
          "name": "stdout"
        }
      ]
    },
    {
      "cell_type": "code",
      "metadata": {
        "id": "KDDqq2C4-oK6",
        "colab_type": "code",
        "colab": {}
      },
      "source": [
        ""
      ],
      "execution_count": null,
      "outputs": []
    },
    {
      "cell_type": "code",
      "metadata": {
        "id": "etkzKb1f_CLr",
        "colab_type": "code",
        "colab": {
          "base_uri": "https://localhost:8080/",
          "height": 34
        },
        "outputId": "549701f8-f046-4cfe-93df-bae2e355584c"
      },
      "source": [
        "multip.shape"
      ],
      "execution_count": null,
      "outputs": [
        {
          "output_type": "execute_result",
          "data": {
            "text/plain": [
              "(10,)"
            ]
          },
          "metadata": {
            "tags": []
          },
          "execution_count": 15
        }
      ]
    },
    {
      "cell_type": "markdown",
      "metadata": {
        "id": "EJqj_0PcL3rz",
        "colab_type": "text"
      },
      "source": [
        "여기까지가 커스텀 손실함수 이다."
      ]
    },
    {
      "cell_type": "markdown",
      "metadata": {
        "id": "2MxKXPdxM8K_",
        "colab_type": "text"
      },
      "source": [
        "10일씩 발생한 상황을 기준으로 액션결과를 바탕으로 스코어링을 한다고 가정하자."
      ]
    },
    {
      "cell_type": "code",
      "metadata": {
        "id": "Zb1yTMimS19n",
        "colab_type": "code",
        "colab": {}
      },
      "source": [
        ""
      ],
      "execution_count": null,
      "outputs": []
    },
    {
      "cell_type": "code",
      "metadata": {
        "id": "_5keicaGxHWK",
        "colab_type": "code",
        "colab": {}
      },
      "source": [
        "  best_score = np.argmax(reward_set)\n",
        "  best_action = action_set[best_score]"
      ],
      "execution_count": null,
      "outputs": []
    },
    {
      "cell_type": "markdown",
      "metadata": {
        "id": "B8d2lr-yxa_u",
        "colab_type": "text"
      },
      "source": [
        ""
      ]
    },
    {
      "cell_type": "markdown",
      "metadata": {
        "id": "bnoDx1UNxdVi",
        "colab_type": "text"
      },
      "source": [
        ""
      ]
    },
    {
      "cell_type": "code",
      "metadata": {
        "id": "XyKIYCdw6_u6",
        "colab_type": "code",
        "colab": {
          "base_uri": "https://localhost:8080/",
          "height": 34
        },
        "outputId": "8f00ff65-8e99-4154-9f7c-8981e01394e8"
      },
      "source": [
        "best_score"
      ],
      "execution_count": null,
      "outputs": [
        {
          "output_type": "execute_result",
          "data": {
            "text/plain": [
              "88083"
            ]
          },
          "metadata": {
            "tags": []
          },
          "execution_count": 16
        }
      ]
    },
    {
      "cell_type": "code",
      "metadata": {
        "id": "w0vrYRMOB2_j",
        "colab_type": "code",
        "colab": {
          "base_uri": "https://localhost:8080/",
          "height": 34
        },
        "outputId": "83373595-5b57-4f34-a2e3-07610d287748"
      },
      "source": [
        "best_action[0]"
      ],
      "execution_count": null,
      "outputs": [
        {
          "output_type": "execute_result",
          "data": {
            "text/plain": [
              "1"
            ]
          },
          "metadata": {
            "tags": []
          },
          "execution_count": 23
        }
      ]
    },
    {
      "cell_type": "code",
      "metadata": {
        "id": "HtPlFP_N91Sn",
        "colab_type": "code",
        "colab": {}
      },
      "source": [
        ""
      ],
      "execution_count": null,
      "outputs": []
    },
    {
      "cell_type": "code",
      "metadata": {
        "id": "5jzHURCR91WX",
        "colab_type": "code",
        "colab": {}
      },
      "source": [
        ""
      ],
      "execution_count": null,
      "outputs": []
    },
    {
      "cell_type": "code",
      "metadata": {
        "id": "9jU_Ua56_FyY",
        "colab_type": "code",
        "colab": {
          "base_uri": "https://localhost:8080/",
          "height": 34
        },
        "outputId": "68de956a-029b-4b0f-e547-98008d9da058"
      },
      "source": [
        "np.mean(test_score)"
      ],
      "execution_count": null,
      "outputs": [
        {
          "output_type": "execute_result",
          "data": {
            "text/plain": [
              "6.606158632153271"
            ]
          },
          "metadata": {
            "tags": []
          },
          "execution_count": 27
        }
      ]
    }
  ]
}