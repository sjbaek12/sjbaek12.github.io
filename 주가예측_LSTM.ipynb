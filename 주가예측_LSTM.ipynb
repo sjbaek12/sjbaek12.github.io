{
  "nbformat": 4,
  "nbformat_minor": 0,
  "metadata": {
    "colab": {
      "name": "주가예측 LSTM",
      "provenance": [],
      "collapsed_sections": [],
      "authorship_tag": "ABX9TyO9wj5tDTdrwUJehTuDaWiY",
      "include_colab_link": true
    },
    "kernelspec": {
      "name": "python3",
      "display_name": "Python 3"
    }
  },
  "cells": [
    {
      "cell_type": "markdown",
      "metadata": {
        "id": "view-in-github",
        "colab_type": "text"
      },
      "source": [
        "<a href=\"https://colab.research.google.com/github/sjbaek12/sjbaek12.github.io/blob/master/%EC%A3%BC%EA%B0%80%EC%98%88%EC%B8%A1_LSTM.ipynb\" target=\"_parent\"><img src=\"https://colab.research.google.com/assets/colab-badge.svg\" alt=\"Open In Colab\"/></a>"
      ]
    },
    {
      "cell_type": "code",
      "metadata": {
        "id": "iXyYuuI4DkrX",
        "colab_type": "code",
        "colab": {}
      },
      "source": [
        "import pandas as pd"
      ],
      "execution_count": 1,
      "outputs": []
    },
    {
      "cell_type": "code",
      "metadata": {
        "id": "o6fpOuPlXIHU",
        "colab_type": "code",
        "colab": {
          "resources": {
            "http://localhost:8080/nbextensions/google.colab/files.js": {
              "data": "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",
              "ok": true,
              "headers": [
                [
                  "content-type",
                  "application/javascript"
                ]
              ],
              "status": 200,
              "status_text": ""
            }
          },
          "base_uri": "https://localhost:8080/",
          "height": 76
        },
        "outputId": "60710cb3-1420-40d7-9ca0-c1ea445e5093"
      },
      "source": [
        "from google.colab import files\n",
        "uploaded = files.upload()"
      ],
      "execution_count": 2,
      "outputs": [
        {
          "output_type": "display_data",
          "data": {
            "text/html": [
              "\n",
              "     <input type=\"file\" id=\"files-c0ca8093-3187-4b1a-9969-bd9d686ed239\" name=\"files[]\" multiple disabled\n",
              "        style=\"border:none\" />\n",
              "     <output id=\"result-c0ca8093-3187-4b1a-9969-bd9d686ed239\">\n",
              "      Upload widget is only available when the cell has been executed in the\n",
              "      current browser session. Please rerun this cell to enable.\n",
              "      </output>\n",
              "      <script src=\"/nbextensions/google.colab/files.js\"></script> "
            ],
            "text/plain": [
              "<IPython.core.display.HTML object>"
            ]
          },
          "metadata": {
            "tags": []
          }
        },
        {
          "output_type": "stream",
          "text": [
            "Saving data.xls to data.xls\n"
          ],
          "name": "stdout"
        }
      ]
    },
    {
      "cell_type": "code",
      "metadata": {
        "id": "seNx9ZonVz-J",
        "colab_type": "code",
        "colab": {}
      },
      "source": [
        "xlsx = pd.read_excel(r'data.xls')"
      ],
      "execution_count": 3,
      "outputs": []
    },
    {
      "cell_type": "code",
      "metadata": {
        "id": "O5ZOZ7LynDh4",
        "colab_type": "code",
        "colab": {
          "base_uri": "https://localhost:8080/",
          "height": 34
        },
        "outputId": "9f82e08d-79e6-48c8-e567-cacdac339522"
      },
      "source": [
        "type(xlsx)\n",
        "print(len(xlsx))"
      ],
      "execution_count": null,
      "outputs": [
        {
          "output_type": "stream",
          "text": [
            "86\n"
          ],
          "name": "stdout"
        }
      ]
    },
    {
      "cell_type": "code",
      "metadata": {
        "id": "X6USRI_8tDBC",
        "colab_type": "code",
        "colab": {
          "base_uri": "https://localhost:8080/",
          "height": 195
        },
        "outputId": "76cba904-f428-44ca-8d6c-73abc153bbe7"
      },
      "source": [
        "xlsx.tail()"
      ],
      "execution_count": 4,
      "outputs": [
        {
          "output_type": "execute_result",
          "data": {
            "text/html": [
              "<div>\n",
              "<style scoped>\n",
              "    .dataframe tbody tr th:only-of-type {\n",
              "        vertical-align: middle;\n",
              "    }\n",
              "\n",
              "    .dataframe tbody tr th {\n",
              "        vertical-align: top;\n",
              "    }\n",
              "\n",
              "    .dataframe thead th {\n",
              "        text-align: right;\n",
              "    }\n",
              "</style>\n",
              "<table border=\"1\" class=\"dataframe\">\n",
              "  <thead>\n",
              "    <tr style=\"text-align: right;\">\n",
              "      <th></th>\n",
              "      <th>년/월/일</th>\n",
              "      <th>종가</th>\n",
              "      <th>대비</th>\n",
              "      <th>거래량(주)</th>\n",
              "      <th>거래대금(원)</th>\n",
              "      <th>시가</th>\n",
              "      <th>고가</th>\n",
              "      <th>저가</th>\n",
              "      <th>시가총액(백만)</th>\n",
              "      <th>상장주식수(주)</th>\n",
              "    </tr>\n",
              "  </thead>\n",
              "  <tbody>\n",
              "    <tr>\n",
              "      <th>81</th>\n",
              "      <td>2020/05/11</td>\n",
              "      <td>48,400</td>\n",
              "      <td>-400</td>\n",
              "      <td>16,357,743</td>\n",
              "      <td>797,523,862,042</td>\n",
              "      <td>48,900</td>\n",
              "      <td>49,250</td>\n",
              "      <td>48,300</td>\n",
              "      <td>288,937,475</td>\n",
              "      <td>5,969,782,550</td>\n",
              "    </tr>\n",
              "    <tr>\n",
              "      <th>82</th>\n",
              "      <td>2020/05/08</td>\n",
              "      <td>48,800</td>\n",
              "      <td>0</td>\n",
              "      <td>15,319,700</td>\n",
              "      <td>752,271,196,120</td>\n",
              "      <td>49,100</td>\n",
              "      <td>49,350</td>\n",
              "      <td>48,800</td>\n",
              "      <td>291,325,388</td>\n",
              "      <td>5,969,782,550</td>\n",
              "    </tr>\n",
              "    <tr>\n",
              "      <th>83</th>\n",
              "      <td>2020/05/07</td>\n",
              "      <td>48,800</td>\n",
              "      <td>-400</td>\n",
              "      <td>13,884,411</td>\n",
              "      <td>679,668,516,460</td>\n",
              "      <td>49,200</td>\n",
              "      <td>49,300</td>\n",
              "      <td>48,700</td>\n",
              "      <td>291,325,388</td>\n",
              "      <td>5,969,782,550</td>\n",
              "    </tr>\n",
              "    <tr>\n",
              "      <th>84</th>\n",
              "      <td>2020/05/06</td>\n",
              "      <td>49,200</td>\n",
              "      <td>700</td>\n",
              "      <td>18,070,225</td>\n",
              "      <td>882,453,648,920</td>\n",
              "      <td>49,000</td>\n",
              "      <td>49,200</td>\n",
              "      <td>48,500</td>\n",
              "      <td>293,713,301</td>\n",
              "      <td>5,969,782,550</td>\n",
              "    </tr>\n",
              "    <tr>\n",
              "      <th>85</th>\n",
              "      <td>2020/05/04</td>\n",
              "      <td>48,500</td>\n",
              "      <td>-1,500</td>\n",
              "      <td>26,083,749</td>\n",
              "      <td>1,270,816,552,521</td>\n",
              "      <td>48,900</td>\n",
              "      <td>49,100</td>\n",
              "      <td>48,500</td>\n",
              "      <td>289,534,454</td>\n",
              "      <td>5,969,782,550</td>\n",
              "    </tr>\n",
              "  </tbody>\n",
              "</table>\n",
              "</div>"
            ],
            "text/plain": [
              "         년/월/일      종가      대비  ...      저가     시가총액(백만)       상장주식수(주)\n",
              "81  2020/05/11  48,400    -400  ...  48,300  288,937,475  5,969,782,550\n",
              "82  2020/05/08  48,800       0  ...  48,800  291,325,388  5,969,782,550\n",
              "83  2020/05/07  48,800    -400  ...  48,700  291,325,388  5,969,782,550\n",
              "84  2020/05/06  49,200     700  ...  48,500  293,713,301  5,969,782,550\n",
              "85  2020/05/04  48,500  -1,500  ...  48,500  289,534,454  5,969,782,550\n",
              "\n",
              "[5 rows x 10 columns]"
            ]
          },
          "metadata": {
            "tags": []
          },
          "execution_count": 4
        }
      ]
    },
    {
      "cell_type": "code",
      "metadata": {
        "id": "ZTfPjjizYQcJ",
        "colab_type": "code",
        "colab": {
          "base_uri": "https://localhost:8080/",
          "height": 195
        },
        "outputId": "77a437cf-4b6e-4e37-cfc2-3fb76ae7a7cf"
      },
      "source": [
        "xlsx.head()"
      ],
      "execution_count": null,
      "outputs": [
        {
          "output_type": "execute_result",
          "data": {
            "text/html": [
              "<div>\n",
              "<style scoped>\n",
              "    .dataframe tbody tr th:only-of-type {\n",
              "        vertical-align: middle;\n",
              "    }\n",
              "\n",
              "    .dataframe tbody tr th {\n",
              "        vertical-align: top;\n",
              "    }\n",
              "\n",
              "    .dataframe thead th {\n",
              "        text-align: right;\n",
              "    }\n",
              "</style>\n",
              "<table border=\"1\" class=\"dataframe\">\n",
              "  <thead>\n",
              "    <tr style=\"text-align: right;\">\n",
              "      <th></th>\n",
              "      <th>년/월/일</th>\n",
              "      <th>종가</th>\n",
              "      <th>대비</th>\n",
              "      <th>거래량(주)</th>\n",
              "      <th>거래대금(원)</th>\n",
              "      <th>시가</th>\n",
              "      <th>고가</th>\n",
              "      <th>저가</th>\n",
              "      <th>시가총액(백만)</th>\n",
              "      <th>상장주식수(주)</th>\n",
              "    </tr>\n",
              "  </thead>\n",
              "  <tbody>\n",
              "    <tr>\n",
              "      <th>0</th>\n",
              "      <td>2020/09/02</td>\n",
              "      <td>54,400</td>\n",
              "      <td>200</td>\n",
              "      <td>16,905,723</td>\n",
              "      <td>922,056,312,614</td>\n",
              "      <td>54,600</td>\n",
              "      <td>55,100</td>\n",
              "      <td>54,100</td>\n",
              "      <td>324,756,171</td>\n",
              "      <td>5,969,782,550</td>\n",
              "    </tr>\n",
              "    <tr>\n",
              "      <th>1</th>\n",
              "      <td>2020/09/01</td>\n",
              "      <td>54,200</td>\n",
              "      <td>200</td>\n",
              "      <td>19,363,117</td>\n",
              "      <td>1,052,420,037,800</td>\n",
              "      <td>54,100</td>\n",
              "      <td>54,800</td>\n",
              "      <td>54,100</td>\n",
              "      <td>323,562,214</td>\n",
              "      <td>5,969,782,550</td>\n",
              "    </tr>\n",
              "    <tr>\n",
              "      <th>2</th>\n",
              "      <td>2020/08/31</td>\n",
              "      <td>54,000</td>\n",
              "      <td>-1,400</td>\n",
              "      <td>32,671,367</td>\n",
              "      <td>1,786,245,513,500</td>\n",
              "      <td>56,000</td>\n",
              "      <td>56,100</td>\n",
              "      <td>54,000</td>\n",
              "      <td>322,368,258</td>\n",
              "      <td>5,969,782,550</td>\n",
              "    </tr>\n",
              "    <tr>\n",
              "      <th>3</th>\n",
              "      <td>2020/08/28</td>\n",
              "      <td>55,400</td>\n",
              "      <td>-200</td>\n",
              "      <td>14,619,888</td>\n",
              "      <td>815,588,008,400</td>\n",
              "      <td>56,100</td>\n",
              "      <td>56,300</td>\n",
              "      <td>55,400</td>\n",
              "      <td>330,725,953</td>\n",
              "      <td>5,969,782,550</td>\n",
              "    </tr>\n",
              "    <tr>\n",
              "      <th>4</th>\n",
              "      <td>2020/08/27</td>\n",
              "      <td>55,600</td>\n",
              "      <td>-800</td>\n",
              "      <td>16,196,568</td>\n",
              "      <td>903,860,902,050</td>\n",
              "      <td>56,300</td>\n",
              "      <td>56,300</td>\n",
              "      <td>55,600</td>\n",
              "      <td>331,919,910</td>\n",
              "      <td>5,969,782,550</td>\n",
              "    </tr>\n",
              "  </tbody>\n",
              "</table>\n",
              "</div>"
            ],
            "text/plain": [
              "        년/월/일      종가      대비  ...      저가     시가총액(백만)       상장주식수(주)\n",
              "0  2020/09/02  54,400     200  ...  54,100  324,756,171  5,969,782,550\n",
              "1  2020/09/01  54,200     200  ...  54,100  323,562,214  5,969,782,550\n",
              "2  2020/08/31  54,000  -1,400  ...  54,000  322,368,258  5,969,782,550\n",
              "3  2020/08/28  55,400    -200  ...  55,400  330,725,953  5,969,782,550\n",
              "4  2020/08/27  55,600    -800  ...  55,600  331,919,910  5,969,782,550\n",
              "\n",
              "[5 rows x 10 columns]"
            ]
          },
          "metadata": {
            "tags": []
          },
          "execution_count": 8
        }
      ]
    },
    {
      "cell_type": "code",
      "metadata": {
        "id": "QqY99epznbAU",
        "colab_type": "code",
        "colab": {}
      },
      "source": [
        "xlsx = xlsx.rename(columns={\"년/월/일\" : \"day\", \"종가\":\"close\", \"대비\":\"dif\", \"거래량(주)\":\"volume\", \"시가\":\"start\", \"고가\":\"high\", \"저가\":\"low\"})"
      ],
      "execution_count": 5,
      "outputs": []
    },
    {
      "cell_type": "code",
      "metadata": {
        "id": "7Qyk0QV4oe8W",
        "colab_type": "code",
        "colab": {}
      },
      "source": [
        "del xlsx[\"거래대금(원)\"]\n",
        "del xlsx[\"시가총액(백만)\"]\n",
        "del xlsx[\"상장주식수(주)\"]"
      ],
      "execution_count": 6,
      "outputs": []
    },
    {
      "cell_type": "code",
      "metadata": {
        "id": "m7XhPasws6Lg",
        "colab_type": "code",
        "colab": {
          "base_uri": "https://localhost:8080/",
          "height": 402
        },
        "outputId": "74c0b4e9-5c9a-46ee-f8c7-8ea850cd484f"
      },
      "source": [
        "xlsx"
      ],
      "execution_count": 7,
      "outputs": [
        {
          "output_type": "execute_result",
          "data": {
            "text/html": [
              "<div>\n",
              "<style scoped>\n",
              "    .dataframe tbody tr th:only-of-type {\n",
              "        vertical-align: middle;\n",
              "    }\n",
              "\n",
              "    .dataframe tbody tr th {\n",
              "        vertical-align: top;\n",
              "    }\n",
              "\n",
              "    .dataframe thead th {\n",
              "        text-align: right;\n",
              "    }\n",
              "</style>\n",
              "<table border=\"1\" class=\"dataframe\">\n",
              "  <thead>\n",
              "    <tr style=\"text-align: right;\">\n",
              "      <th></th>\n",
              "      <th>day</th>\n",
              "      <th>close</th>\n",
              "      <th>dif</th>\n",
              "      <th>volume</th>\n",
              "      <th>start</th>\n",
              "      <th>high</th>\n",
              "      <th>low</th>\n",
              "    </tr>\n",
              "  </thead>\n",
              "  <tbody>\n",
              "    <tr>\n",
              "      <th>0</th>\n",
              "      <td>2020/09/02</td>\n",
              "      <td>54,400</td>\n",
              "      <td>200</td>\n",
              "      <td>16,905,723</td>\n",
              "      <td>54,600</td>\n",
              "      <td>55,100</td>\n",
              "      <td>54,100</td>\n",
              "    </tr>\n",
              "    <tr>\n",
              "      <th>1</th>\n",
              "      <td>2020/09/01</td>\n",
              "      <td>54,200</td>\n",
              "      <td>200</td>\n",
              "      <td>19,363,117</td>\n",
              "      <td>54,100</td>\n",
              "      <td>54,800</td>\n",
              "      <td>54,100</td>\n",
              "    </tr>\n",
              "    <tr>\n",
              "      <th>2</th>\n",
              "      <td>2020/08/31</td>\n",
              "      <td>54,000</td>\n",
              "      <td>-1,400</td>\n",
              "      <td>32,671,367</td>\n",
              "      <td>56,000</td>\n",
              "      <td>56,100</td>\n",
              "      <td>54,000</td>\n",
              "    </tr>\n",
              "    <tr>\n",
              "      <th>3</th>\n",
              "      <td>2020/08/28</td>\n",
              "      <td>55,400</td>\n",
              "      <td>-200</td>\n",
              "      <td>14,619,888</td>\n",
              "      <td>56,100</td>\n",
              "      <td>56,300</td>\n",
              "      <td>55,400</td>\n",
              "    </tr>\n",
              "    <tr>\n",
              "      <th>4</th>\n",
              "      <td>2020/08/27</td>\n",
              "      <td>55,600</td>\n",
              "      <td>-800</td>\n",
              "      <td>16,196,568</td>\n",
              "      <td>56,300</td>\n",
              "      <td>56,300</td>\n",
              "      <td>55,600</td>\n",
              "    </tr>\n",
              "    <tr>\n",
              "      <th>...</th>\n",
              "      <td>...</td>\n",
              "      <td>...</td>\n",
              "      <td>...</td>\n",
              "      <td>...</td>\n",
              "      <td>...</td>\n",
              "      <td>...</td>\n",
              "      <td>...</td>\n",
              "    </tr>\n",
              "    <tr>\n",
              "      <th>81</th>\n",
              "      <td>2020/05/11</td>\n",
              "      <td>48,400</td>\n",
              "      <td>-400</td>\n",
              "      <td>16,357,743</td>\n",
              "      <td>48,900</td>\n",
              "      <td>49,250</td>\n",
              "      <td>48,300</td>\n",
              "    </tr>\n",
              "    <tr>\n",
              "      <th>82</th>\n",
              "      <td>2020/05/08</td>\n",
              "      <td>48,800</td>\n",
              "      <td>0</td>\n",
              "      <td>15,319,700</td>\n",
              "      <td>49,100</td>\n",
              "      <td>49,350</td>\n",
              "      <td>48,800</td>\n",
              "    </tr>\n",
              "    <tr>\n",
              "      <th>83</th>\n",
              "      <td>2020/05/07</td>\n",
              "      <td>48,800</td>\n",
              "      <td>-400</td>\n",
              "      <td>13,884,411</td>\n",
              "      <td>49,200</td>\n",
              "      <td>49,300</td>\n",
              "      <td>48,700</td>\n",
              "    </tr>\n",
              "    <tr>\n",
              "      <th>84</th>\n",
              "      <td>2020/05/06</td>\n",
              "      <td>49,200</td>\n",
              "      <td>700</td>\n",
              "      <td>18,070,225</td>\n",
              "      <td>49,000</td>\n",
              "      <td>49,200</td>\n",
              "      <td>48,500</td>\n",
              "    </tr>\n",
              "    <tr>\n",
              "      <th>85</th>\n",
              "      <td>2020/05/04</td>\n",
              "      <td>48,500</td>\n",
              "      <td>-1,500</td>\n",
              "      <td>26,083,749</td>\n",
              "      <td>48,900</td>\n",
              "      <td>49,100</td>\n",
              "      <td>48,500</td>\n",
              "    </tr>\n",
              "  </tbody>\n",
              "</table>\n",
              "<p>86 rows × 7 columns</p>\n",
              "</div>"
            ],
            "text/plain": [
              "           day   close     dif      volume   start    high     low\n",
              "0   2020/09/02  54,400     200  16,905,723  54,600  55,100  54,100\n",
              "1   2020/09/01  54,200     200  19,363,117  54,100  54,800  54,100\n",
              "2   2020/08/31  54,000  -1,400  32,671,367  56,000  56,100  54,000\n",
              "3   2020/08/28  55,400    -200  14,619,888  56,100  56,300  55,400\n",
              "4   2020/08/27  55,600    -800  16,196,568  56,300  56,300  55,600\n",
              "..         ...     ...     ...         ...     ...     ...     ...\n",
              "81  2020/05/11  48,400    -400  16,357,743  48,900  49,250  48,300\n",
              "82  2020/05/08  48,800       0  15,319,700  49,100  49,350  48,800\n",
              "83  2020/05/07  48,800    -400  13,884,411  49,200  49,300  48,700\n",
              "84  2020/05/06  49,200     700  18,070,225  49,000  49,200  48,500\n",
              "85  2020/05/04  48,500  -1,500  26,083,749  48,900  49,100  48,500\n",
              "\n",
              "[86 rows x 7 columns]"
            ]
          },
          "metadata": {
            "tags": []
          },
          "execution_count": 7
        }
      ]
    },
    {
      "cell_type": "code",
      "metadata": {
        "id": "r0XRuC6mbIY2",
        "colab_type": "code",
        "colab": {}
      },
      "source": [
        "sprice_s = xlsx[::-1] #데이터를 시간순서로 정렬"
      ],
      "execution_count": 8,
      "outputs": []
    },
    {
      "cell_type": "code",
      "metadata": {
        "id": "LTV5ijC4bVuY",
        "colab_type": "code",
        "colab": {
          "base_uri": "https://localhost:8080/",
          "height": 195
        },
        "outputId": "457e7a92-5d45-4b8c-8746-b78f53dce394"
      },
      "source": [
        "sprice_s.head()"
      ],
      "execution_count": 9,
      "outputs": [
        {
          "output_type": "execute_result",
          "data": {
            "text/html": [
              "<div>\n",
              "<style scoped>\n",
              "    .dataframe tbody tr th:only-of-type {\n",
              "        vertical-align: middle;\n",
              "    }\n",
              "\n",
              "    .dataframe tbody tr th {\n",
              "        vertical-align: top;\n",
              "    }\n",
              "\n",
              "    .dataframe thead th {\n",
              "        text-align: right;\n",
              "    }\n",
              "</style>\n",
              "<table border=\"1\" class=\"dataframe\">\n",
              "  <thead>\n",
              "    <tr style=\"text-align: right;\">\n",
              "      <th></th>\n",
              "      <th>day</th>\n",
              "      <th>close</th>\n",
              "      <th>dif</th>\n",
              "      <th>volume</th>\n",
              "      <th>start</th>\n",
              "      <th>high</th>\n",
              "      <th>low</th>\n",
              "    </tr>\n",
              "  </thead>\n",
              "  <tbody>\n",
              "    <tr>\n",
              "      <th>85</th>\n",
              "      <td>2020/05/04</td>\n",
              "      <td>48,500</td>\n",
              "      <td>-1,500</td>\n",
              "      <td>26,083,749</td>\n",
              "      <td>48,900</td>\n",
              "      <td>49,100</td>\n",
              "      <td>48,500</td>\n",
              "    </tr>\n",
              "    <tr>\n",
              "      <th>84</th>\n",
              "      <td>2020/05/06</td>\n",
              "      <td>49,200</td>\n",
              "      <td>700</td>\n",
              "      <td>18,070,225</td>\n",
              "      <td>49,000</td>\n",
              "      <td>49,200</td>\n",
              "      <td>48,500</td>\n",
              "    </tr>\n",
              "    <tr>\n",
              "      <th>83</th>\n",
              "      <td>2020/05/07</td>\n",
              "      <td>48,800</td>\n",
              "      <td>-400</td>\n",
              "      <td>13,884,411</td>\n",
              "      <td>49,200</td>\n",
              "      <td>49,300</td>\n",
              "      <td>48,700</td>\n",
              "    </tr>\n",
              "    <tr>\n",
              "      <th>82</th>\n",
              "      <td>2020/05/08</td>\n",
              "      <td>48,800</td>\n",
              "      <td>0</td>\n",
              "      <td>15,319,700</td>\n",
              "      <td>49,100</td>\n",
              "      <td>49,350</td>\n",
              "      <td>48,800</td>\n",
              "    </tr>\n",
              "    <tr>\n",
              "      <th>81</th>\n",
              "      <td>2020/05/11</td>\n",
              "      <td>48,400</td>\n",
              "      <td>-400</td>\n",
              "      <td>16,357,743</td>\n",
              "      <td>48,900</td>\n",
              "      <td>49,250</td>\n",
              "      <td>48,300</td>\n",
              "    </tr>\n",
              "  </tbody>\n",
              "</table>\n",
              "</div>"
            ],
            "text/plain": [
              "           day   close     dif      volume   start    high     low\n",
              "85  2020/05/04  48,500  -1,500  26,083,749  48,900  49,100  48,500\n",
              "84  2020/05/06  49,200     700  18,070,225  49,000  49,200  48,500\n",
              "83  2020/05/07  48,800    -400  13,884,411  49,200  49,300  48,700\n",
              "82  2020/05/08  48,800       0  15,319,700  49,100  49,350  48,800\n",
              "81  2020/05/11  48,400    -400  16,357,743  48,900  49,250  48,300"
            ]
          },
          "metadata": {
            "tags": []
          },
          "execution_count": 9
        }
      ]
    },
    {
      "cell_type": "code",
      "metadata": {
        "id": "On6kWi9jmM_I",
        "colab_type": "code",
        "colab": {}
      },
      "source": [
        "import numpy as np"
      ],
      "execution_count": 10,
      "outputs": []
    },
    {
      "cell_type": "code",
      "metadata": {
        "id": "NAlMWg55mSfI",
        "colab_type": "code",
        "colab": {}
      },
      "source": [
        "for i in range(0, len(sprice_s)):\n",
        "  sprice_s.loc[i, 'close'] = float(sprice_s.loc[i, 'close'].replace(\",\", ''))\n",
        "  sprice_s.loc[i, 'dif'] = float(sprice_s.loc[i, 'dif'].replace(\",\", ''))\n",
        "  sprice_s.loc[i, 'volume'] = float(sprice_s.loc[i, 'volume'].replace(\",\", ''))\n",
        "  sprice_s.loc[i, 'start'] = float(sprice_s.loc[i, 'start'].replace(\",\", ''))\n",
        "  sprice_s.loc[i, 'high'] = float(sprice_s.loc[i, 'high'].replace(\",\", ''))\n",
        "  sprice_s.loc[i, 'low'] = float(sprice_s.loc[i, 'low'].replace(\",\", ''))\n",
        " "
      ],
      "execution_count": 11,
      "outputs": []
    },
    {
      "cell_type": "code",
      "metadata": {
        "id": "BgjZWsSljO_s",
        "colab_type": "code",
        "colab": {
          "base_uri": "https://localhost:8080/",
          "height": 402
        },
        "outputId": "1e09c241-84ed-4bd0-dfbe-4e296167ffc8"
      },
      "source": [
        "sprice_s"
      ],
      "execution_count": 12,
      "outputs": [
        {
          "output_type": "execute_result",
          "data": {
            "text/html": [
              "<div>\n",
              "<style scoped>\n",
              "    .dataframe tbody tr th:only-of-type {\n",
              "        vertical-align: middle;\n",
              "    }\n",
              "\n",
              "    .dataframe tbody tr th {\n",
              "        vertical-align: top;\n",
              "    }\n",
              "\n",
              "    .dataframe thead th {\n",
              "        text-align: right;\n",
              "    }\n",
              "</style>\n",
              "<table border=\"1\" class=\"dataframe\">\n",
              "  <thead>\n",
              "    <tr style=\"text-align: right;\">\n",
              "      <th></th>\n",
              "      <th>day</th>\n",
              "      <th>close</th>\n",
              "      <th>dif</th>\n",
              "      <th>volume</th>\n",
              "      <th>start</th>\n",
              "      <th>high</th>\n",
              "      <th>low</th>\n",
              "    </tr>\n",
              "  </thead>\n",
              "  <tbody>\n",
              "    <tr>\n",
              "      <th>85</th>\n",
              "      <td>2020/05/04</td>\n",
              "      <td>48500</td>\n",
              "      <td>-1500</td>\n",
              "      <td>2.60837e+07</td>\n",
              "      <td>48900</td>\n",
              "      <td>49100</td>\n",
              "      <td>48500</td>\n",
              "    </tr>\n",
              "    <tr>\n",
              "      <th>84</th>\n",
              "      <td>2020/05/06</td>\n",
              "      <td>49200</td>\n",
              "      <td>700</td>\n",
              "      <td>1.80702e+07</td>\n",
              "      <td>49000</td>\n",
              "      <td>49200</td>\n",
              "      <td>48500</td>\n",
              "    </tr>\n",
              "    <tr>\n",
              "      <th>83</th>\n",
              "      <td>2020/05/07</td>\n",
              "      <td>48800</td>\n",
              "      <td>-400</td>\n",
              "      <td>1.38844e+07</td>\n",
              "      <td>49200</td>\n",
              "      <td>49300</td>\n",
              "      <td>48700</td>\n",
              "    </tr>\n",
              "    <tr>\n",
              "      <th>82</th>\n",
              "      <td>2020/05/08</td>\n",
              "      <td>48800</td>\n",
              "      <td>0</td>\n",
              "      <td>1.53197e+07</td>\n",
              "      <td>49100</td>\n",
              "      <td>49350</td>\n",
              "      <td>48800</td>\n",
              "    </tr>\n",
              "    <tr>\n",
              "      <th>81</th>\n",
              "      <td>2020/05/11</td>\n",
              "      <td>48400</td>\n",
              "      <td>-400</td>\n",
              "      <td>1.63577e+07</td>\n",
              "      <td>48900</td>\n",
              "      <td>49250</td>\n",
              "      <td>48300</td>\n",
              "    </tr>\n",
              "    <tr>\n",
              "      <th>...</th>\n",
              "      <td>...</td>\n",
              "      <td>...</td>\n",
              "      <td>...</td>\n",
              "      <td>...</td>\n",
              "      <td>...</td>\n",
              "      <td>...</td>\n",
              "      <td>...</td>\n",
              "    </tr>\n",
              "    <tr>\n",
              "      <th>4</th>\n",
              "      <td>2020/08/27</td>\n",
              "      <td>55600</td>\n",
              "      <td>-800</td>\n",
              "      <td>1.61966e+07</td>\n",
              "      <td>56300</td>\n",
              "      <td>56300</td>\n",
              "      <td>55600</td>\n",
              "    </tr>\n",
              "    <tr>\n",
              "      <th>3</th>\n",
              "      <td>2020/08/28</td>\n",
              "      <td>55400</td>\n",
              "      <td>-200</td>\n",
              "      <td>1.46199e+07</td>\n",
              "      <td>56100</td>\n",
              "      <td>56300</td>\n",
              "      <td>55400</td>\n",
              "    </tr>\n",
              "    <tr>\n",
              "      <th>2</th>\n",
              "      <td>2020/08/31</td>\n",
              "      <td>54000</td>\n",
              "      <td>-1400</td>\n",
              "      <td>3.26714e+07</td>\n",
              "      <td>56000</td>\n",
              "      <td>56100</td>\n",
              "      <td>54000</td>\n",
              "    </tr>\n",
              "    <tr>\n",
              "      <th>1</th>\n",
              "      <td>2020/09/01</td>\n",
              "      <td>54200</td>\n",
              "      <td>200</td>\n",
              "      <td>1.93631e+07</td>\n",
              "      <td>54100</td>\n",
              "      <td>54800</td>\n",
              "      <td>54100</td>\n",
              "    </tr>\n",
              "    <tr>\n",
              "      <th>0</th>\n",
              "      <td>2020/09/02</td>\n",
              "      <td>54400</td>\n",
              "      <td>200</td>\n",
              "      <td>1.69057e+07</td>\n",
              "      <td>54600</td>\n",
              "      <td>55100</td>\n",
              "      <td>54100</td>\n",
              "    </tr>\n",
              "  </tbody>\n",
              "</table>\n",
              "<p>86 rows × 7 columns</p>\n",
              "</div>"
            ],
            "text/plain": [
              "           day  close   dif       volume  start   high    low\n",
              "85  2020/05/04  48500 -1500  2.60837e+07  48900  49100  48500\n",
              "84  2020/05/06  49200   700  1.80702e+07  49000  49200  48500\n",
              "83  2020/05/07  48800  -400  1.38844e+07  49200  49300  48700\n",
              "82  2020/05/08  48800     0  1.53197e+07  49100  49350  48800\n",
              "81  2020/05/11  48400  -400  1.63577e+07  48900  49250  48300\n",
              "..         ...    ...   ...          ...    ...    ...    ...\n",
              "4   2020/08/27  55600  -800  1.61966e+07  56300  56300  55600\n",
              "3   2020/08/28  55400  -200  1.46199e+07  56100  56300  55400\n",
              "2   2020/08/31  54000 -1400  3.26714e+07  56000  56100  54000\n",
              "1   2020/09/01  54200   200  1.93631e+07  54100  54800  54100\n",
              "0   2020/09/02  54400   200  1.69057e+07  54600  55100  54100\n",
              "\n",
              "[86 rows x 7 columns]"
            ]
          },
          "metadata": {
            "tags": []
          },
          "execution_count": 12
        }
      ]
    },
    {
      "cell_type": "markdown",
      "metadata": {
        "id": "9FGgmmX3FhVy",
        "colab_type": "text"
      },
      "source": [
        "Scaling 작업이다. 이것이 없으면 LSTM은 작동하지 않는다."
      ]
    },
    {
      "cell_type": "code",
      "metadata": {
        "id": "1VWBoIiPAlgZ",
        "colab_type": "code",
        "colab": {}
      },
      "source": [
        "from sklearn.preprocessing import MinMaxScaler"
      ],
      "execution_count": 13,
      "outputs": []
    },
    {
      "cell_type": "code",
      "metadata": {
        "id": "ssjnwyaQAziv",
        "colab_type": "code",
        "colab": {}
      },
      "source": [
        "scaler = MinMaxScaler()\n",
        "scale_cols = ['close', 'dif', 'volume', 'start', 'high', 'low']\n",
        "sprice_s = scaler.fit_transform(sprice_s[scale_cols])"
      ],
      "execution_count": 14,
      "outputs": []
    },
    {
      "cell_type": "code",
      "metadata": {
        "id": "4yrCWV7hBcVj",
        "colab_type": "code",
        "colab": {}
      },
      "source": [
        "sprice_s = pd.DataFrame(sprice_s) "
      ],
      "execution_count": 15,
      "outputs": []
    },
    {
      "cell_type": "code",
      "metadata": {
        "id": "1u-msjE2B9HM",
        "colab_type": "code",
        "colab": {}
      },
      "source": [
        "sprice_s.columns = scale_cols"
      ],
      "execution_count": 16,
      "outputs": []
    },
    {
      "cell_type": "code",
      "metadata": {
        "id": "LmUa60V_CEvJ",
        "colab_type": "code",
        "colab": {
          "base_uri": "https://localhost:8080/",
          "height": 77
        },
        "outputId": "9e687897-2250-4dc3-ef98-95b803672caf"
      },
      "source": [
        "sprice_s[0:1]"
      ],
      "execution_count": 17,
      "outputs": [
        {
          "output_type": "execute_result",
          "data": {
            "text/html": [
              "<div>\n",
              "<style scoped>\n",
              "    .dataframe tbody tr th:only-of-type {\n",
              "        vertical-align: middle;\n",
              "    }\n",
              "\n",
              "    .dataframe tbody tr th {\n",
              "        vertical-align: top;\n",
              "    }\n",
              "\n",
              "    .dataframe thead th {\n",
              "        text-align: right;\n",
              "    }\n",
              "</style>\n",
              "<table border=\"1\" class=\"dataframe\">\n",
              "  <thead>\n",
              "    <tr style=\"text-align: right;\">\n",
              "      <th></th>\n",
              "      <th>close</th>\n",
              "      <th>dif</th>\n",
              "      <th>volume</th>\n",
              "      <th>start</th>\n",
              "      <th>high</th>\n",
              "      <th>low</th>\n",
              "    </tr>\n",
              "  </thead>\n",
              "  <tbody>\n",
              "    <tr>\n",
              "      <th>0</th>\n",
              "      <td>0.058296</td>\n",
              "      <td>0.163636</td>\n",
              "      <td>0.408246</td>\n",
              "      <td>0.126437</td>\n",
              "      <td>0.081301</td>\n",
              "      <td>0.110169</td>\n",
              "    </tr>\n",
              "  </tbody>\n",
              "</table>\n",
              "</div>"
            ],
            "text/plain": [
              "      close       dif    volume     start      high       low\n",
              "0  0.058296  0.163636  0.408246  0.126437  0.081301  0.110169"
            ]
          },
          "metadata": {
            "tags": []
          },
          "execution_count": 17
        }
      ]
    },
    {
      "cell_type": "code",
      "metadata": {
        "id": "2MXtKZv0JZYE",
        "colab_type": "code",
        "colab": {
          "base_uri": "https://localhost:8080/",
          "height": 52
        },
        "outputId": "9b9b24d9-e012-41af-d838-be7785ae1101"
      },
      "source": [
        "print(scaler.inverse_transform(sprice_s[0:1])) # scale값을 역으로 변환한다."
      ],
      "execution_count": null,
      "outputs": [
        {
          "output_type": "stream",
          "text": [
            "[[ 4.8500000e+04 -1.5000000e+03  2.6083749e+07  4.8900000e+04\n",
            "   4.9100000e+04  4.8500000e+04]]\n"
          ],
          "name": "stdout"
        }
      ]
    },
    {
      "cell_type": "code",
      "metadata": {
        "id": "zmUVAQ3pK9FG",
        "colab_type": "code",
        "colab": {
          "base_uri": "https://localhost:8080/",
          "height": 34
        },
        "outputId": "4c56cdff-fd9a-445b-b09a-55976cdffe34"
      },
      "source": [
        "print(\"{0:.2f}\".format(4.8500000e+04),\"{0:.2f}\".format(-1.5000000e+03),\"{0:.2f}\".format(2.6083749e+07),\"{0:.2f}\".format(4.8900000e+04) )"
      ],
      "execution_count": null,
      "outputs": [
        {
          "output_type": "stream",
          "text": [
            "48500.00 -1500.00 26083749.00 48900.00\n"
          ],
          "name": "stdout"
        }
      ]
    },
    {
      "cell_type": "markdown",
      "metadata": {
        "id": "-hNyino-klUq",
        "colab_type": "text"
      },
      "source": [
        "로컬 PC에 데이터를 저장하는 방법이다."
      ]
    },
    {
      "cell_type": "code",
      "metadata": {
        "id": "pBRb2Sak0Hkz",
        "colab_type": "code",
        "colab": {
          "base_uri": "https://localhost:8080/",
          "height": 17
        },
        "outputId": "e5865f87-18e1-469f-98b2-ef287007bfd2"
      },
      "source": [
        "sprice_s.to_csv('new_file.txt')\n",
        "files.download('new_file.txt')"
      ],
      "execution_count": 18,
      "outputs": [
        {
          "output_type": "display_data",
          "data": {
            "application/javascript": [
              "\n",
              "    async function download(id, filename, size) {\n",
              "      if (!google.colab.kernel.accessAllowed) {\n",
              "        return;\n",
              "      }\n",
              "      const div = document.createElement('div');\n",
              "      const label = document.createElement('label');\n",
              "      label.textContent = `Downloading \"${filename}\": `;\n",
              "      div.appendChild(label);\n",
              "      const progress = document.createElement('progress');\n",
              "      progress.max = size;\n",
              "      div.appendChild(progress);\n",
              "      document.body.appendChild(div);\n",
              "\n",
              "      const buffers = [];\n",
              "      let downloaded = 0;\n",
              "\n",
              "      const channel = await google.colab.kernel.comms.open(id);\n",
              "      // Send a message to notify the kernel that we're ready.\n",
              "      channel.send({})\n",
              "\n",
              "      for await (const message of channel.messages) {\n",
              "        // Send a message to notify the kernel that we're ready.\n",
              "        channel.send({})\n",
              "        if (message.buffers) {\n",
              "          for (const buffer of message.buffers) {\n",
              "            buffers.push(buffer);\n",
              "            downloaded += buffer.byteLength;\n",
              "            progress.value = downloaded;\n",
              "          }\n",
              "        }\n",
              "      }\n",
              "      const blob = new Blob(buffers, {type: 'application/binary'});\n",
              "      const a = document.createElement('a');\n",
              "      a.href = window.URL.createObjectURL(blob);\n",
              "      a.download = filename;\n",
              "      div.appendChild(a);\n",
              "      a.click();\n",
              "      div.remove();\n",
              "    }\n",
              "  "
            ],
            "text/plain": [
              "<IPython.core.display.Javascript object>"
            ]
          },
          "metadata": {
            "tags": []
          }
        },
        {
          "output_type": "display_data",
          "data": {
            "application/javascript": [
              "download(\"download_c48949ca-60a1-4a64-be5e-0f28fb03f62b\", \"new_file.txt\", 10022)"
            ],
            "text/plain": [
              "<IPython.core.display.Javascript object>"
            ]
          },
          "metadata": {
            "tags": []
          }
        }
      ]
    },
    {
      "cell_type": "code",
      "metadata": {
        "id": "Fb11UOhQ1SwD",
        "colab_type": "code",
        "colab": {
          "resources": {
            "http://localhost:8080/nbextensions/google.colab/files.js": {
              "data": "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",
              "ok": true,
              "headers": [
                [
                  "content-type",
                  "application/javascript"
                ]
              ],
              "status": 200,
              "status_text": ""
            }
          },
          "base_uri": "https://localhost:8080/",
          "height": 76
        },
        "outputId": "ff6f853c-2f82-4dc3-a498-629013b7318b"
      },
      "source": [
        "uploaded = files.upload()"
      ],
      "execution_count": 19,
      "outputs": [
        {
          "output_type": "display_data",
          "data": {
            "text/html": [
              "\n",
              "     <input type=\"file\" id=\"files-e6a485ec-db99-41ec-8475-7264294f6ea4\" name=\"files[]\" multiple disabled\n",
              "        style=\"border:none\" />\n",
              "     <output id=\"result-e6a485ec-db99-41ec-8475-7264294f6ea4\">\n",
              "      Upload widget is only available when the cell has been executed in the\n",
              "      current browser session. Please rerun this cell to enable.\n",
              "      </output>\n",
              "      <script src=\"/nbextensions/google.colab/files.js\"></script> "
            ],
            "text/plain": [
              "<IPython.core.display.HTML object>"
            ]
          },
          "metadata": {
            "tags": []
          }
        },
        {
          "output_type": "stream",
          "text": [
            "Saving new_file (7).txt to new_file (7).txt\n"
          ],
          "name": "stdout"
        }
      ]
    },
    {
      "cell_type": "code",
      "metadata": {
        "id": "_Oa5iglkCfyZ",
        "colab_type": "code",
        "colab": {}
      },
      "source": [
        "data = pd.read_csv('new_file.txt')"
      ],
      "execution_count": 20,
      "outputs": []
    },
    {
      "cell_type": "code",
      "metadata": {
        "id": "MsM3WaP6CnfH",
        "colab_type": "code",
        "colab": {
          "base_uri": "https://localhost:8080/",
          "height": 402
        },
        "outputId": "156f4448-4b82-4ed6-f0a7-f59eb9a9a642"
      },
      "source": [
        "data"
      ],
      "execution_count": 21,
      "outputs": [
        {
          "output_type": "execute_result",
          "data": {
            "text/html": [
              "<div>\n",
              "<style scoped>\n",
              "    .dataframe tbody tr th:only-of-type {\n",
              "        vertical-align: middle;\n",
              "    }\n",
              "\n",
              "    .dataframe tbody tr th {\n",
              "        vertical-align: top;\n",
              "    }\n",
              "\n",
              "    .dataframe thead th {\n",
              "        text-align: right;\n",
              "    }\n",
              "</style>\n",
              "<table border=\"1\" class=\"dataframe\">\n",
              "  <thead>\n",
              "    <tr style=\"text-align: right;\">\n",
              "      <th></th>\n",
              "      <th>Unnamed: 0</th>\n",
              "      <th>close</th>\n",
              "      <th>dif</th>\n",
              "      <th>volume</th>\n",
              "      <th>start</th>\n",
              "      <th>high</th>\n",
              "      <th>low</th>\n",
              "    </tr>\n",
              "  </thead>\n",
              "  <tbody>\n",
              "    <tr>\n",
              "      <th>0</th>\n",
              "      <td>0</td>\n",
              "      <td>0.058296</td>\n",
              "      <td>0.163636</td>\n",
              "      <td>0.408246</td>\n",
              "      <td>0.126437</td>\n",
              "      <td>0.081301</td>\n",
              "      <td>0.110169</td>\n",
              "    </tr>\n",
              "    <tr>\n",
              "      <th>1</th>\n",
              "      <td>1</td>\n",
              "      <td>0.121076</td>\n",
              "      <td>0.563636</td>\n",
              "      <td>0.203619</td>\n",
              "      <td>0.134100</td>\n",
              "      <td>0.089431</td>\n",
              "      <td>0.110169</td>\n",
              "    </tr>\n",
              "    <tr>\n",
              "      <th>2</th>\n",
              "      <td>2</td>\n",
              "      <td>0.085202</td>\n",
              "      <td>0.363636</td>\n",
              "      <td>0.096733</td>\n",
              "      <td>0.149425</td>\n",
              "      <td>0.097561</td>\n",
              "      <td>0.127119</td>\n",
              "    </tr>\n",
              "    <tr>\n",
              "      <th>3</th>\n",
              "      <td>3</td>\n",
              "      <td>0.085202</td>\n",
              "      <td>0.436364</td>\n",
              "      <td>0.133384</td>\n",
              "      <td>0.141762</td>\n",
              "      <td>0.101626</td>\n",
              "      <td>0.135593</td>\n",
              "    </tr>\n",
              "    <tr>\n",
              "      <th>4</th>\n",
              "      <td>4</td>\n",
              "      <td>0.049327</td>\n",
              "      <td>0.363636</td>\n",
              "      <td>0.159890</td>\n",
              "      <td>0.126437</td>\n",
              "      <td>0.093496</td>\n",
              "      <td>0.093220</td>\n",
              "    </tr>\n",
              "    <tr>\n",
              "      <th>...</th>\n",
              "      <td>...</td>\n",
              "      <td>...</td>\n",
              "      <td>...</td>\n",
              "      <td>...</td>\n",
              "      <td>...</td>\n",
              "      <td>...</td>\n",
              "      <td>...</td>\n",
              "    </tr>\n",
              "    <tr>\n",
              "      <th>81</th>\n",
              "      <td>81</td>\n",
              "      <td>0.695067</td>\n",
              "      <td>0.290909</td>\n",
              "      <td>0.155775</td>\n",
              "      <td>0.693487</td>\n",
              "      <td>0.666667</td>\n",
              "      <td>0.711864</td>\n",
              "    </tr>\n",
              "    <tr>\n",
              "      <th>82</th>\n",
              "      <td>82</td>\n",
              "      <td>0.677130</td>\n",
              "      <td>0.400000</td>\n",
              "      <td>0.115514</td>\n",
              "      <td>0.678161</td>\n",
              "      <td>0.666667</td>\n",
              "      <td>0.694915</td>\n",
              "    </tr>\n",
              "    <tr>\n",
              "      <th>83</th>\n",
              "      <td>83</td>\n",
              "      <td>0.551570</td>\n",
              "      <td>0.181818</td>\n",
              "      <td>0.576462</td>\n",
              "      <td>0.670498</td>\n",
              "      <td>0.650407</td>\n",
              "      <td>0.576271</td>\n",
              "    </tr>\n",
              "    <tr>\n",
              "      <th>84</th>\n",
              "      <td>84</td>\n",
              "      <td>0.569507</td>\n",
              "      <td>0.472727</td>\n",
              "      <td>0.236633</td>\n",
              "      <td>0.524904</td>\n",
              "      <td>0.544715</td>\n",
              "      <td>0.584746</td>\n",
              "    </tr>\n",
              "    <tr>\n",
              "      <th>85</th>\n",
              "      <td>85</td>\n",
              "      <td>0.587444</td>\n",
              "      <td>0.472727</td>\n",
              "      <td>0.173883</td>\n",
              "      <td>0.563218</td>\n",
              "      <td>0.569106</td>\n",
              "      <td>0.584746</td>\n",
              "    </tr>\n",
              "  </tbody>\n",
              "</table>\n",
              "<p>86 rows × 7 columns</p>\n",
              "</div>"
            ],
            "text/plain": [
              "    Unnamed: 0     close       dif    volume     start      high       low\n",
              "0            0  0.058296  0.163636  0.408246  0.126437  0.081301  0.110169\n",
              "1            1  0.121076  0.563636  0.203619  0.134100  0.089431  0.110169\n",
              "2            2  0.085202  0.363636  0.096733  0.149425  0.097561  0.127119\n",
              "3            3  0.085202  0.436364  0.133384  0.141762  0.101626  0.135593\n",
              "4            4  0.049327  0.363636  0.159890  0.126437  0.093496  0.093220\n",
              "..         ...       ...       ...       ...       ...       ...       ...\n",
              "81          81  0.695067  0.290909  0.155775  0.693487  0.666667  0.711864\n",
              "82          82  0.677130  0.400000  0.115514  0.678161  0.666667  0.694915\n",
              "83          83  0.551570  0.181818  0.576462  0.670498  0.650407  0.576271\n",
              "84          84  0.569507  0.472727  0.236633  0.524904  0.544715  0.584746\n",
              "85          85  0.587444  0.472727  0.173883  0.563218  0.569106  0.584746\n",
              "\n",
              "[86 rows x 7 columns]"
            ]
          },
          "metadata": {
            "tags": []
          },
          "execution_count": 21
        }
      ]
    },
    {
      "cell_type": "code",
      "metadata": {
        "id": "-iiTWB72X4Uf",
        "colab_type": "code",
        "colab": {
          "base_uri": "https://localhost:8080/",
          "height": 265
        },
        "outputId": "91a998fd-561d-4f7e-fdec-cf677dde7be0"
      },
      "source": [
        "import matplotlib.pyplot as plt\n",
        "\n",
        "plt.rcParams[\"figure.figsize\"] = (14,4)\n",
        "plt.plot(data['close'])\n",
        "plt.show()"
      ],
      "execution_count": 22,
      "outputs": [
        {
          "output_type": "display_data",
          "data": {
            "image/png": "[encoded data removed]",
            "text/plain": [
              "<Figure size 1008x288 with 1 Axes>"
            ]
          },
          "metadata": {
            "tags": [],
            "needs_background": "light"
          }
        }
      ]
    },
    {
      "cell_type": "code",
      "metadata": {
        "id": "KQGSN65WyN2B",
        "colab_type": "code",
        "colab": {
          "base_uri": "https://localhost:8080/",
          "height": 35
        },
        "outputId": "41759347-26c7-4619-e9d8-a380fe9262da"
      },
      "source": [
        "data.loc[0,'day']"
      ],
      "execution_count": null,
      "outputs": [
        {
          "output_type": "execute_result",
          "data": {
            "application/vnd.google.colaboratory.intrinsic+json": {
              "type": "string"
            },
            "text/plain": [
              "'2020/05/04'"
            ]
          },
          "metadata": {
            "tags": []
          },
          "execution_count": 25
        }
      ]
    },
    {
      "cell_type": "code",
      "metadata": {
        "id": "m_rvdiexDB7g",
        "colab_type": "code",
        "colab": {}
      },
      "source": [
        "y_data = data.loc[0:85, 'close']  # y는 종가의 차이로 전날에 영향을 받는다고 가정한다"
      ],
      "execution_count": 23,
      "outputs": []
    },
    {
      "cell_type": "code",
      "metadata": {
        "id": "oL7kEniY-FSh",
        "colab_type": "code",
        "colab": {}
      },
      "source": [
        "y_data = np.array(y_data)"
      ],
      "execution_count": 24,
      "outputs": []
    },
    {
      "cell_type": "code",
      "metadata": {
        "id": "p9zJbBEY-wyM",
        "colab_type": "code",
        "colab": {
          "base_uri": "https://localhost:8080/",
          "height": 334
        },
        "outputId": "6a9f5240-d3d1-409d-9e74-9c02858bbf83"
      },
      "source": [
        "y_data "
      ],
      "execution_count": 25,
      "outputs": [
        {
          "output_type": "execute_result",
          "data": {
            "text/plain": [
              "array([0.05829596, 0.12107623, 0.08520179, 0.08520179, 0.04932735,\n",
              "       0.0044843 , 0.06278027, 0.01345291, 0.        , 0.08520179,\n",
              "       0.21973094, 0.19282511, 0.18834081, 0.08071749, 0.0896861 ,\n",
              "       0.12556054, 0.1838565 , 0.22869955, 0.25560538, 0.30044843,\n",
              "       0.31838565, 0.59641256, 0.60538117, 0.68609865, 0.632287  ,\n",
              "       0.68609865, 0.67713004, 0.57847534, 0.39910314, 0.1838565 ,\n",
              "       0.38116592, 0.39013453, 0.39910314, 0.4529148 , 0.37219731,\n",
              "       0.31838565, 0.4529148 , 0.3632287 , 0.48878924, 0.40807175,\n",
              "       0.44394619, 0.42600897, 0.4529148 , 0.51569507, 0.64125561,\n",
              "       0.49775785, 0.46188341, 0.44394619, 0.43497758, 0.49775785,\n",
              "       0.53363229, 0.61434978, 0.53363229, 0.58744395, 0.56950673,\n",
              "       0.66816143, 0.61434978, 0.56053812, 0.56950673, 0.69506726,\n",
              "       0.96412556, 1.        , 1.        , 0.90134529, 0.80269058,\n",
              "       0.84753363, 0.81165919, 0.9103139 , 0.86547085, 0.89237668,\n",
              "       0.92825112, 1.        , 0.97309417, 0.9103139 , 0.94618834,\n",
              "       0.89237668, 0.67713004, 0.72197309, 0.73991031, 0.76681614,\n",
              "       0.76681614, 0.69506726, 0.67713004, 0.55156951, 0.56950673,\n",
              "       0.58744395])"
            ]
          },
          "metadata": {
            "tags": []
          },
          "execution_count": 25
        }
      ]
    },
    {
      "cell_type": "code",
      "metadata": {
        "id": "NTQNB-3U_Rc8",
        "colab_type": "code",
        "colab": {}
      },
      "source": [
        "price_serise=[]\n",
        "for i in range(len(y_data)-4):\n",
        "  price = [y_data[i], y_data[i+1], y_data[i+2], y_data[i+3], y_data[i+4]]\n",
        "  price_serise.append(price)"
      ],
      "execution_count": 26,
      "outputs": []
    },
    {
      "cell_type": "code",
      "metadata": {
        "id": "ENGX866FAAT3",
        "colab_type": "code",
        "colab": {
          "base_uri": "https://localhost:8080/",
          "height": 52
        },
        "outputId": "c5a086bd-1fa3-48e5-90ca-580188636f08"
      },
      "source": [
        "y = y_data[5:]\n",
        "x = price_serise[:81]\n",
        "\n",
        "print(y[0])\n",
        "print(x[0])"
      ],
      "execution_count": 27,
      "outputs": [
        {
          "output_type": "stream",
          "text": [
            "0.004484304932734773\n",
            "[0.05829596412556004, 0.12107623318385576, 0.08520179372197312, 0.08520179372197312, 0.049327354260089606]\n"
          ],
          "name": "stdout"
        }
      ]
    },
    {
      "cell_type": "code",
      "metadata": {
        "id": "uZanh928V1n3",
        "colab_type": "code",
        "colab": {
          "base_uri": "https://localhost:8080/",
          "height": 52
        },
        "outputId": "bbad676a-fb33-4fb3-c8ba-cf637490e453"
      },
      "source": [
        "print(y[-1])\n",
        "print(x[-1])"
      ],
      "execution_count": 28,
      "outputs": [
        {
          "output_type": "stream",
          "text": [
            "0.5874439461883405\n",
            "[0.7668161434977572, 0.695067264573991, 0.6771300448430493, 0.551569506726457, 0.5695067264573987]\n"
          ],
          "name": "stdout"
        }
      ]
    },
    {
      "cell_type": "code",
      "metadata": {
        "id": "_JSgfqspM5IW",
        "colab_type": "code",
        "colab": {
          "base_uri": "https://localhost:8080/",
          "height": 34
        },
        "outputId": "5f85819b-9bcd-4844-94fa-90325c9de70b"
      },
      "source": [
        "x = np.array(x)\n",
        "len(x)"
      ],
      "execution_count": 30,
      "outputs": [
        {
          "output_type": "execute_result",
          "data": {
            "text/plain": [
              "81"
            ]
          },
          "metadata": {
            "tags": []
          },
          "execution_count": 30
        }
      ]
    },
    {
      "cell_type": "code",
      "metadata": {
        "id": "AsYkFLPUOEgW",
        "colab_type": "code",
        "colab": {}
      },
      "source": [
        "x = x.reshape(81,5,1)"
      ],
      "execution_count": 31,
      "outputs": []
    },
    {
      "cell_type": "code",
      "metadata": {
        "id": "r3B1_Q5eOPCx",
        "colab_type": "code",
        "colab": {}
      },
      "source": [
        "y = y.reshape(81,1)"
      ],
      "execution_count": 32,
      "outputs": []
    },
    {
      "cell_type": "code",
      "metadata": {
        "id": "QnrDnjqVWXKN",
        "colab_type": "code",
        "colab": {}
      },
      "source": [
        "y = np.array(y)"
      ],
      "execution_count": 33,
      "outputs": []
    },
    {
      "cell_type": "code",
      "metadata": {
        "id": "-bz-SHIWO6pC",
        "colab_type": "code",
        "colab": {}
      },
      "source": [
        "x_train = x[0:70]\n",
        "x_val = x[70:]"
      ],
      "execution_count": 34,
      "outputs": []
    },
    {
      "cell_type": "code",
      "metadata": {
        "id": "CgZ7Rl32l6xu",
        "colab_type": "code",
        "colab": {}
      },
      "source": [
        "y_train = y[0:70]\n",
        "y_val = y[70:]"
      ],
      "execution_count": 35,
      "outputs": []
    },
    {
      "cell_type": "code",
      "metadata": {
        "id": "Sw5Qs4QXvv-W",
        "colab_type": "code",
        "colab": {
          "base_uri": "https://localhost:8080/",
          "height": 70
        },
        "outputId": "8098374e-2dd9-4875-d7f9-5b588f49dd47"
      },
      "source": [
        "import tensorflow as tf\n",
        "tf.config.experimental_run_functions_eagerly(True)\n",
        "\n",
        "\n",
        "import tensorflow as tf\n",
        "\n",
        "import numpy as np\n",
        "\n",
        "from tensorflow import keras\n",
        "import keras.layers as layers\n",
        "from keras.layers import Dense, LSTM,Input\n",
        "from keras.models import Model\n",
        "from keras.optimizers import Adam\n",
        "import keras.backend as K "
      ],
      "execution_count": 36,
      "outputs": [
        {
          "output_type": "stream",
          "text": [
            "WARNING:tensorflow:From <ipython-input-36-27d48b737b1e>:2: experimental_run_functions_eagerly (from tensorflow.python.eager.def_function) is deprecated and will be removed in a future version.\n",
            "Instructions for updating:\n",
            "Use `tf.config.run_functions_eagerly` instead of the experimental version.\n"
          ],
          "name": "stdout"
        }
      ]
    },
    {
      "cell_type": "code",
      "metadata": {
        "id": "Udm0x98VwXg9",
        "colab_type": "code",
        "colab": {}
      },
      "source": [
        "def policy_model_lstm (lr):\n",
        "  inp_L = layers.Input(shape=(5,1))  # 타입스텝수 5개, 특성개수 1개\n",
        "  dense_1 = LSTM(5)(inp_L)\n",
        "  dense_2 = Dense(128)(dense_1) \n",
        "  dense_L = Dense(64)(dense_2) \n",
        "  output_s = layers.Dense(1)(dense_L)\n",
        "\n",
        "  model_train = Model(inputs=inp_L, outputs = output_s)\n",
        "  model_train.compile(loss='mse', optimizer=Adam(lr), metrics = ['mae'])\n",
        "  return model_train "
      ],
      "execution_count": 37,
      "outputs": []
    },
    {
      "cell_type": "code",
      "metadata": {
        "id": "0bV3JQCucSrx",
        "colab_type": "code",
        "colab": {}
      },
      "source": [
        "model_train_test = policy_model_lstm(0.01)"
      ],
      "execution_count": 38,
      "outputs": []
    },
    {
      "cell_type": "code",
      "metadata": {
        "id": "39qfjYGtO60H",
        "colab_type": "code",
        "colab": {
          "base_uri": "https://localhost:8080/",
          "height": 334
        },
        "outputId": "709c5c12-5598-45c4-e914-d11c2695cf83"
      },
      "source": [
        "model_train_test.summary()"
      ],
      "execution_count": 39,
      "outputs": [
        {
          "output_type": "stream",
          "text": [
            "Model: \"functional_1\"\n",
            "_________________________________________________________________\n",
            "Layer (type)                 Output Shape              Param #   \n",
            "=================================================================\n",
            "input_1 (InputLayer)         [(None, 5, 1)]            0         \n",
            "_________________________________________________________________\n",
            "lstm (LSTM)                  (None, 5)                 140       \n",
            "_________________________________________________________________\n",
            "dense (Dense)                (None, 128)               768       \n",
            "_________________________________________________________________\n",
            "dense_1 (Dense)              (None, 64)                8256      \n",
            "_________________________________________________________________\n",
            "dense_2 (Dense)              (None, 1)                 65        \n",
            "=================================================================\n",
            "Total params: 9,229\n",
            "Trainable params: 9,229\n",
            "Non-trainable params: 0\n",
            "_________________________________________________________________\n"
          ],
          "name": "stdout"
        }
      ]
    },
    {
      "cell_type": "code",
      "metadata": {
        "id": "EHCQKlvRZFDs",
        "colab_type": "code",
        "colab": {
          "base_uri": "https://localhost:8080/",
          "height": 72
        },
        "outputId": "bdf32e8e-0eb2-4709-9c73-4a33ff9d45ef"
      },
      "source": [
        "history_test = model_train_test.fit(x_train, y_train, validation_data = (x_val, y_val ),  epochs=100, verbose=0)"
      ],
      "execution_count": 40,
      "outputs": [
        {
          "output_type": "stream",
          "text": [
            "/usr/local/lib/python3.6/dist-packages/tensorflow/python/data/ops/dataset_ops.py:3350: UserWarning: Even though the tf.config.experimental_run_functions_eagerly option is set, this option does not apply to tf.data functions. tf.data functions are still traced and executed as graphs.\n",
            "  \"Even though the tf.config.experimental_run_functions_eagerly \"\n"
          ],
          "name": "stderr"
        }
      ]
    },
    {
      "cell_type": "code",
      "metadata": {
        "id": "47kFCJOcwc1e",
        "colab_type": "code",
        "colab": {
          "base_uri": "https://localhost:8080/",
          "height": 265
        },
        "outputId": "dfb3d856-2fd9-4269-b73e-a3f07c76b69a"
      },
      "source": [
        "plt.plot(history_test.history['loss'], 'b') \n",
        "plt.plot(history_test.history['val_loss'], 'r')\n",
        "plt.show()"
      ],
      "execution_count": 41,
      "outputs": [
        {
          "output_type": "display_data",
          "data": {
            "image/png": "[encoded data removed]",
            "text/plain": [
              "<Figure size 1008x288 with 1 Axes>"
            ]
          },
          "metadata": {
            "tags": [],
            "needs_background": "light"
          }
        }
      ]
    },
    {
      "cell_type": "code",
      "metadata": {
        "id": "wm_XGo-LO9RW",
        "colab_type": "code",
        "colab": {
          "base_uri": "https://localhost:8080/",
          "height": 72
        },
        "outputId": "a3ca358a-bd4f-4d89-deee-1e7fe29446ec"
      },
      "source": [
        "y_hat = model_train_test.predict(x_val)"
      ],
      "execution_count": 42,
      "outputs": [
        {
          "output_type": "stream",
          "text": [
            "/usr/local/lib/python3.6/dist-packages/tensorflow/python/data/ops/dataset_ops.py:3350: UserWarning: Even though the tf.config.experimental_run_functions_eagerly option is set, this option does not apply to tf.data functions. tf.data functions are still traced and executed as graphs.\n",
            "  \"Even though the tf.config.experimental_run_functions_eagerly \"\n"
          ],
          "name": "stderr"
        }
      ]
    },
    {
      "cell_type": "code",
      "metadata": {
        "id": "_J_9hgadfmEt",
        "colab_type": "code",
        "colab": {}
      },
      "source": [
        "y_hat"
      ],
      "execution_count": null,
      "outputs": []
    },
    {
      "cell_type": "code",
      "metadata": {
        "id": "_CIwWWAjcBTU",
        "colab_type": "code",
        "colab": {
          "base_uri": "https://localhost:8080/",
          "height": 265
        },
        "outputId": "1f0a05cb-e7ce-40b3-a727-c73c6c98411c"
      },
      "source": [
        "plt.plot(y_hat, 'r') \n",
        "plt.plot(y_val, 'b')\n",
        "plt.show()"
      ],
      "execution_count": 43,
      "outputs": [
        {
          "output_type": "display_data",
          "data": {
            "image/png": "[encoded data removed]",
            "text/plain": [
              "<Figure size 1008x288 with 1 Axes>"
            ]
          },
          "metadata": {
            "tags": [],
            "needs_background": "light"
          }
        }
      ]
    },
    {
      "cell_type": "markdown",
      "metadata": {
        "id": "KCMdANxJ19WI",
        "colab_type": "text"
      },
      "source": [
        "여기부터 정책신경망 이다"
      ]
    },
    {
      "cell_type": "code",
      "metadata": {
        "id": "pvK1QGGE1-wB",
        "colab_type": "code",
        "colab": {}
      },
      "source": [
        "class Agent(object):\n",
        "  def __init__(self, alpha, beta, gamma= 0.99, n_actions=2, layer1_size=10, layer2_size=64, layer3_size=64, input_dims=5, fname='reinforce.h5'):\n",
        "    self.gamma = gamma\n",
        "    self.alpha = alpha\n",
        "    self.beta = beta\n",
        "    self.input_dims = input_dims\n",
        "    self.fc1_dims = layer1_size\n",
        "    self.fc2_dims = layer2_size\n",
        "    self.fc3_dims = layer3_size\n",
        "    self.n_actions = n_actions\n",
        "    self.balance = [100, 0, 0]\n",
        "\n",
        "    self.actor, self.critic, self.policy = self.build_actor_critic_network()\n",
        "    self.action_space = [i for i in range(n_actions)]\n",
        "    self.model_file = fname\n",
        "     \n",
        "  def build_actor_critic_network(self):\n",
        "   # actor와 critic이 신경망 몸체를 공유하는 구조임\n",
        "\n",
        "    input=Input(shape=(5,1))\n",
        "    delta = Input(shape=[1])\n",
        "    dense1 = LSTM(self.fc1_dims)(input)\n",
        "    dense2 = Dense(self.fc2_dims)(dense1)\n",
        "    dense3 = Dense(self.fc3_dims)(dense2)\n",
        "    probs = Dense(self.n_actions, activation='softmax')(dense3)\n",
        "    values = Dense(1, activation='linear')(dense3)\n",
        "\n",
        "    def custom_loss(y_true, y_pred):\n",
        "      out = K.clip(y_pred, 1e-8, 1-1e-8)\n",
        "      log_lik = K.sum(y_true*K.log(out), axis=1)*delta\n",
        "      return - log_lik\n",
        "   \n",
        "    actor = Model(inputs=[input, delta], outputs = [probs]) # [] 필요여부 체크\n",
        "    actor.compile(optimizer = Adam(lr=self.alpha), loss=custom_loss)\n",
        "    \n",
        "    critic = Model(inputs = [input], outputs = [values])\n",
        "    critic.compile(optimizer = Adam(lr=self.beta), loss='mse')\n",
        "   \n",
        "    policy = Model(inputs = [input], outputs = [probs]) # compile이 필요없다\n",
        "\n",
        "    return actor, critic, policy\n",
        "\n",
        "  def choose_action(self, observation):\n",
        "    state = observation[np.newaxis, :] # [1.0, 1.0]을 [[1.0, 1.0]]와 같이 한축을 추가한다.\n",
        "    probabilities = self.policy.predict(state)[0]\n",
        "    action = np.random.choice(self.action_space, p=probabilities)\n",
        "    return action\n",
        "\n",
        "\n",
        "  #고처야 하는 부분 Price 인식이 다른다.\n",
        "\n",
        "  def validate_action(self, action, observation, price):\n",
        "#    price = observation[4]\n",
        "    if action == 0:  # 0은 매수, 1은 보류, 2는 매도\n",
        "      if self.balance[0] - price < 0:\n",
        "        action_validated = 1\n",
        "      else:\n",
        "        action_validated = 0        \n",
        "    if action == 1:\n",
        "      if self.balance[2] > 0 :\n",
        "        action_validated = 2\n",
        "      else:\n",
        "        action_validated = 1\n",
        "    before_act_balance = [self.balance[0], self.balance[1], self.balance[2]] \n",
        "\n",
        "    return action_validated, before_act_balance  \n",
        "\n",
        "  def balance_update(self, observation, action_validated, price):\n",
        "#    price = observation[4]\n",
        "    if action_validated == 0:\n",
        "      self.balance[0] = self.balance[0] - price\n",
        "      self.balance[1] = price\n",
        "      self.balance[2] = self.balance[2] + 1\n",
        "    if action_validated == 1:\n",
        "      self.balance[1] = price\n",
        "    if action_validated == 2:\n",
        "      self.balance[0] = self.balance[0] + price\n",
        "      self.balance[1] = price\n",
        "      self.balance[2] = self.balance[2] -1\n",
        "    balance_updated = [self.balance[0], self.balance[1], self.balance[2]]\n",
        "    present_value = self.balance[0] + self.balance[1] * self.balance[2]\n",
        "    return balance_updated, present_value\n",
        "\n",
        "  def pv_ratio(self, before_act_balance, balance_updated):\n",
        "    pv_ratio = (balance_updated[0] + balance_updated[1] * balance_updated[2])/(before_act_balance[0] + before_act_balance[1] * before_act_balance[2])\n",
        "    if pv_ratio > 1.0:\n",
        "      reward = 1\n",
        "    else:\n",
        "      reward = 0\n",
        "    return pv_ratio, reward\n",
        "\n",
        "  def hold_ratio(self, balance_updated, observation, present_value, price):  # 주식보유 비율\n",
        "#    price = observation[4] \n",
        "    hold_ratio = balance_updated[2] / (present_value / price)\n",
        "    return hold_ratio\n",
        "\n",
        "\n",
        "  def learn(self, state, action, reward, state_, done): \n",
        "\n",
        "    # action은 choose_action 함수로부터, state는 환경으로 부터, state_은 새롭게 받은 다음 step의 환경\n",
        "    # reward는 state_와 같이 환경으로부터 받는 다음 step의 reward \n",
        "    # done은 환경으로부터 받는 episode의 종료여부\n",
        "\n",
        "    state = state[np.newaxis, :]\n",
        "    state_ = state_[np.newaxis, :]  \n",
        "\n",
        "    critic_value_ = self.critic.predict(state_)\n",
        "    critic_value = self.critic.predict(state)\n",
        "\n",
        "    \n",
        "    # t시점의 신경망으로 현재 state의 value와 t+1 시점의 value를 계산 \n",
        "\n",
        "    target = reward + self.gamma*critic_value_*(1-int(done))  # int(False) == 0\n",
        "    delta = target - critic_value\n",
        "\n",
        "        \n",
        "    actions = np.zeros([1, self.n_actions])\n",
        "    actions[np.arange(1), action] = 1.0 # action memory 길이만큼 zero 리스트를 만들고, 각 리스트에 선택한 행동에 1을 넣어준다\n",
        "\n",
        "    self.actor.fit([state, delta], actions, verbose=0)\n",
        "    self.critic.fit(state, target, verbose=0)\n",
        "     \n",
        "\n",
        "\n",
        "  def reset_balance(self):\n",
        "    self.balance = [100,0,0]\n"
      ],
      "execution_count": null,
      "outputs": []
    },
    {
      "cell_type": "code",
      "metadata": {
        "id": "tXXyUZERO65f",
        "colab_type": "code",
        "colab": {}
      },
      "source": [
        ""
      ],
      "execution_count": null,
      "outputs": []
    },
    {
      "cell_type": "markdown",
      "metadata": {
        "id": "6dAWAFK241Jn",
        "colab_type": "text"
      },
      "source": [
        "여기부터는 학습의 영역이다."
      ]
    },
    {
      "cell_type": "code",
      "metadata": {
        "id": "DtXws-4p42nH",
        "colab_type": "code",
        "colab": {
          "base_uri": "https://localhost:8080/",
          "height": 178
        },
        "outputId": "a61857cf-5d42-4b1e-90ef-58de33b70249"
      },
      "source": [
        "# random action과 신경망의 선택 action을 조정해야 한다.\n",
        "\n",
        "\n",
        "num_episode = 0.0\n",
        "num_episodes = 100.0\n",
        "\n",
        "agent = Agent(alpha = 0.0001, beta = 0.0001)\n",
        "\n",
        "while num_episode < num_episodes:\n",
        "\n",
        "  action_history = []\n",
        "  wealth_history = []\n",
        "  agent.reset_balance()\n",
        "\n",
        "  for i in range(len(x)):\n",
        "\n",
        "    if i < (len(x)-1):\n",
        "      done = False    \n",
        "      observation = x[i]\n",
        "      observation_ = x[i+1]\n",
        "      price = y[i]\n",
        "      action = agent.choose_action(observation)\n",
        "      action_validated, before_act_balance = agent.validate_action(action, observation, price)\n",
        "      balance_updated, present_value=agent.balance_update(observation, action_validated, price)\n",
        "      pv_ratio, reward = agent.pv_ratio(before_act_balance, balance_updated)\n",
        "      hold_ratio = agent.hold_ratio(balance_updated, observation, present_value, price)\n",
        "   \n",
        "      action_history.append(action)\n",
        "      wealth_history.append(present_value)\n",
        "\n",
        "      if (reward == 1): \n",
        "        agent.learn(observation, action, reward, observation_, done)\n",
        "      continue\n",
        "\n",
        "  \n",
        "  if (num_episode+1) % 20 == 0:\n",
        "    print(wealth_history[-1])\n",
        "\n",
        "  num_episode += 1.0"
      ],
      "execution_count": null,
      "outputs": [
        {
          "output_type": "stream",
          "text": [
            "/usr/local/lib/python3.6/dist-packages/tensorflow/python/data/ops/dataset_ops.py:3350: UserWarning: Even though the tf.config.experimental_run_functions_eagerly option is set, this option does not apply to tf.data functions. tf.data functions are still traced and executed as graphs.\n",
            "  \"Even though the tf.config.experimental_run_functions_eagerly \"\n",
            "/usr/local/lib/python3.6/dist-packages/ipykernel_launcher.py:94: RuntimeWarning: divide by zero encountered in true_divide\n"
          ],
          "name": "stderr"
        },
        {
          "output_type": "stream",
          "text": [
            "[101.4529148]\n",
            "[101.81165919]\n",
            "[102.56502242]\n",
            "[102.56502242]\n",
            "[102.56502242]\n"
          ],
          "name": "stdout"
        }
      ]
    },
    {
      "cell_type": "code",
      "metadata": {
        "id": "Ux01hswF2AlH",
        "colab_type": "code",
        "colab": {}
      },
      "source": [
        ""
      ],
      "execution_count": null,
      "outputs": []
    },
    {
      "cell_type": "code",
      "metadata": {
        "id": "QhVW_ilB2Aou",
        "colab_type": "code",
        "colab": {}
      },
      "source": [
        ""
      ],
      "execution_count": null,
      "outputs": []
    },
    {
      "cell_type": "code",
      "metadata": {
        "id": "F7jSenaO2AxL",
        "colab_type": "code",
        "colab": {}
      },
      "source": [
        ""
      ],
      "execution_count": null,
      "outputs": []
    },
    {
      "cell_type": "code",
      "metadata": {
        "id": "dyutUtMK2A1A",
        "colab_type": "code",
        "colab": {}
      },
      "source": [
        ""
      ],
      "execution_count": null,
      "outputs": []
    },
    {
      "cell_type": "code",
      "metadata": {
        "id": "AydLQj6x2AvB",
        "colab_type": "code",
        "colab": {}
      },
      "source": [
        ""
      ],
      "execution_count": null,
      "outputs": []
    },
    {
      "cell_type": "code",
      "metadata": {
        "id": "i8NkYIBS2Ar8",
        "colab_type": "code",
        "colab": {}
      },
      "source": [
        ""
      ],
      "execution_count": null,
      "outputs": []
    },
    {
      "cell_type": "code",
      "metadata": {
        "id": "V9GZ3dOHPsER",
        "colab_type": "code",
        "colab": {}
      },
      "source": [
        ""
      ],
      "execution_count": null,
      "outputs": []
    },
    {
      "cell_type": "code",
      "metadata": {
        "id": "TZyymEDpNVUS",
        "colab_type": "code",
        "colab": {
          "base_uri": "https://localhost:8080/",
          "height": 175
        },
        "outputId": "551879d1-3a94-4349-9f47-717560c8fcdd"
      },
      "source": [
        "data.loc[0,:] # y_data의 validation 기준일은 20년 1월 21이고 종가는 61400원이고 전날 대비 1000원 하락했다."
      ],
      "execution_count": null,
      "outputs": [
        {
          "output_type": "execute_result",
          "data": {
            "text/plain": [
              "Unnamed: 0             85\n",
              "day            2020/05/04\n",
              "close               48500\n",
              "dif                 -1500\n",
              "volume        2.60837e+07\n",
              "start               48900\n",
              "high                49100\n",
              "low                 48500\n",
              "Name: 0, dtype: object"
            ]
          },
          "metadata": {
            "tags": []
          },
          "execution_count": 30
        }
      ]
    },
    {
      "cell_type": "code",
      "metadata": {
        "id": "F5q6hoaKEDMZ",
        "colab_type": "code",
        "colab": {}
      },
      "source": [
        "x_data = data.loc[0:85, ['close', 'volume', 'start', 'high', 'low']]"
      ],
      "execution_count": null,
      "outputs": []
    },
    {
      "cell_type": "code",
      "metadata": {
        "id": "m0ONx_75znez",
        "colab_type": "code",
        "colab": {
          "base_uri": "https://localhost:8080/",
          "height": 402
        },
        "outputId": "16e2ef8c-35d7-485d-fb87-559dd219dd68"
      },
      "source": [
        "x_data"
      ],
      "execution_count": null,
      "outputs": [
        {
          "output_type": "execute_result",
          "data": {
            "text/html": [
              "<div>\n",
              "<style scoped>\n",
              "    .dataframe tbody tr th:only-of-type {\n",
              "        vertical-align: middle;\n",
              "    }\n",
              "\n",
              "    .dataframe tbody tr th {\n",
              "        vertical-align: top;\n",
              "    }\n",
              "\n",
              "    .dataframe thead th {\n",
              "        text-align: right;\n",
              "    }\n",
              "</style>\n",
              "<table border=\"1\" class=\"dataframe\">\n",
              "  <thead>\n",
              "    <tr style=\"text-align: right;\">\n",
              "      <th></th>\n",
              "      <th>close</th>\n",
              "      <th>volume</th>\n",
              "      <th>start</th>\n",
              "      <th>high</th>\n",
              "      <th>low</th>\n",
              "    </tr>\n",
              "  </thead>\n",
              "  <tbody>\n",
              "    <tr>\n",
              "      <th>0</th>\n",
              "      <td>48500.0</td>\n",
              "      <td>26083749.0</td>\n",
              "      <td>48900.0</td>\n",
              "      <td>49100.0</td>\n",
              "      <td>48500.0</td>\n",
              "    </tr>\n",
              "    <tr>\n",
              "      <th>1</th>\n",
              "      <td>49200.0</td>\n",
              "      <td>18070225.0</td>\n",
              "      <td>49000.0</td>\n",
              "      <td>49200.0</td>\n",
              "      <td>48500.0</td>\n",
              "    </tr>\n",
              "    <tr>\n",
              "      <th>2</th>\n",
              "      <td>48800.0</td>\n",
              "      <td>13884411.0</td>\n",
              "      <td>49200.0</td>\n",
              "      <td>49300.0</td>\n",
              "      <td>48700.0</td>\n",
              "    </tr>\n",
              "    <tr>\n",
              "      <th>3</th>\n",
              "      <td>48800.0</td>\n",
              "      <td>15319700.0</td>\n",
              "      <td>49100.0</td>\n",
              "      <td>49350.0</td>\n",
              "      <td>48800.0</td>\n",
              "    </tr>\n",
              "    <tr>\n",
              "      <th>4</th>\n",
              "      <td>48400.0</td>\n",
              "      <td>16357743.0</td>\n",
              "      <td>48900.0</td>\n",
              "      <td>49250.0</td>\n",
              "      <td>48300.0</td>\n",
              "    </tr>\n",
              "    <tr>\n",
              "      <th>...</th>\n",
              "      <td>...</td>\n",
              "      <td>...</td>\n",
              "      <td>...</td>\n",
              "      <td>...</td>\n",
              "      <td>...</td>\n",
              "    </tr>\n",
              "    <tr>\n",
              "      <th>81</th>\n",
              "      <td>55600.0</td>\n",
              "      <td>16196568.0</td>\n",
              "      <td>56300.0</td>\n",
              "      <td>56300.0</td>\n",
              "      <td>55600.0</td>\n",
              "    </tr>\n",
              "    <tr>\n",
              "      <th>82</th>\n",
              "      <td>55400.0</td>\n",
              "      <td>14619888.0</td>\n",
              "      <td>56100.0</td>\n",
              "      <td>56300.0</td>\n",
              "      <td>55400.0</td>\n",
              "    </tr>\n",
              "    <tr>\n",
              "      <th>83</th>\n",
              "      <td>54000.0</td>\n",
              "      <td>32671367.0</td>\n",
              "      <td>56000.0</td>\n",
              "      <td>56100.0</td>\n",
              "      <td>54000.0</td>\n",
              "    </tr>\n",
              "    <tr>\n",
              "      <th>84</th>\n",
              "      <td>54200.0</td>\n",
              "      <td>19363117.0</td>\n",
              "      <td>54100.0</td>\n",
              "      <td>54800.0</td>\n",
              "      <td>54100.0</td>\n",
              "    </tr>\n",
              "    <tr>\n",
              "      <th>85</th>\n",
              "      <td>54400.0</td>\n",
              "      <td>16905723.0</td>\n",
              "      <td>54600.0</td>\n",
              "      <td>55100.0</td>\n",
              "      <td>54100.0</td>\n",
              "    </tr>\n",
              "  </tbody>\n",
              "</table>\n",
              "<p>86 rows × 5 columns</p>\n",
              "</div>"
            ],
            "text/plain": [
              "      close      volume    start     high      low\n",
              "0   48500.0  26083749.0  48900.0  49100.0  48500.0\n",
              "1   49200.0  18070225.0  49000.0  49200.0  48500.0\n",
              "2   48800.0  13884411.0  49200.0  49300.0  48700.0\n",
              "3   48800.0  15319700.0  49100.0  49350.0  48800.0\n",
              "4   48400.0  16357743.0  48900.0  49250.0  48300.0\n",
              "..      ...         ...      ...      ...      ...\n",
              "81  55600.0  16196568.0  56300.0  56300.0  55600.0\n",
              "82  55400.0  14619888.0  56100.0  56300.0  55400.0\n",
              "83  54000.0  32671367.0  56000.0  56100.0  54000.0\n",
              "84  54200.0  19363117.0  54100.0  54800.0  54100.0\n",
              "85  54400.0  16905723.0  54600.0  55100.0  54100.0\n",
              "\n",
              "[86 rows x 5 columns]"
            ]
          },
          "metadata": {
            "tags": []
          },
          "execution_count": 105
        }
      ]
    },
    {
      "cell_type": "code",
      "metadata": {
        "id": "bwmAeyrHG88i",
        "colab_type": "code",
        "colab": {}
      },
      "source": [
        "x_data  = np.asarray(x_data, dtype=float)"
      ],
      "execution_count": null,
      "outputs": []
    },
    {
      "cell_type": "code",
      "metadata": {
        "id": "OrmQFWNBHSzQ",
        "colab_type": "code",
        "colab": {}
      },
      "source": [
        "y_data  = np.asarray(y_data, dtype=float)"
      ],
      "execution_count": null,
      "outputs": []
    },
    {
      "cell_type": "code",
      "metadata": {
        "id": "WtZobQvhET3R",
        "colab_type": "code",
        "colab": {
          "base_uri": "https://localhost:8080/",
          "height": 34
        },
        "outputId": "dee43fae-929b-439e-91ac-a6b1c4f2c0b8"
      },
      "source": [
        "print(x_data.shape, y_data.shape)"
      ],
      "execution_count": null,
      "outputs": [
        {
          "output_type": "stream",
          "text": [
            "(86, 4) (86,)\n"
          ],
          "name": "stdout"
        }
      ]
    },
    {
      "cell_type": "code",
      "metadata": {
        "id": "fMrEGocVEutQ",
        "colab_type": "code",
        "colab": {
          "base_uri": "https://localhost:8080/",
          "height": 34
        },
        "outputId": "53a3a964-f137-4c98-a6e3-c8b10f6bb813"
      },
      "source": [
        "x_train = x_data[0:50]\n",
        "x_val = x_data[50:85]\n",
        "print(x_train.shape, x_val.shape)"
      ],
      "execution_count": null,
      "outputs": [
        {
          "output_type": "stream",
          "text": [
            "(50, 4) (35, 4)\n"
          ],
          "name": "stdout"
        }
      ]
    },
    {
      "cell_type": "code",
      "metadata": {
        "id": "k01MIhjFGUDA",
        "colab_type": "code",
        "colab": {}
      },
      "source": [
        "y_train = y_data[0:50]\n",
        "y_val = y_data[50:85]"
      ],
      "execution_count": null,
      "outputs": []
    },
    {
      "cell_type": "code",
      "metadata": {
        "id": "xmhzghykH3ba",
        "colab_type": "code",
        "colab": {}
      },
      "source": [
        "mean = np.mean(x_train, axis=0)\n",
        "std = np.std(x_train, axis=0)\n",
        "\n",
        "x_train = (x_train-mean)/std\n",
        "\n",
        "x_val = (x_val-mean)/std"
      ],
      "execution_count": null,
      "outputs": []
    },
    {
      "cell_type": "code",
      "metadata": {
        "id": "aNlIkAiYJQVp",
        "colab_type": "code",
        "colab": {
          "base_uri": "https://localhost:8080/",
          "height": 34
        },
        "outputId": "3ca7cdd3-0dda-4811-c839-406461b02755"
      },
      "source": [
        "x_train.shape"
      ],
      "execution_count": null,
      "outputs": [
        {
          "output_type": "execute_result",
          "data": {
            "text/plain": [
              "(50, 1, 4)"
            ]
          },
          "metadata": {
            "tags": []
          },
          "execution_count": 60
        }
      ]
    },
    {
      "cell_type": "code",
      "metadata": {
        "id": "92flMAWC9Rp3",
        "colab_type": "code",
        "colab": {}
      },
      "source": [
        "x_train = x_train.reshape(-1,1,4) \n",
        "x_val = x_val.reshape(-1,1,4) # LSTM으로 들어가기 위해서 자료의 형태를 맞추어 준다. (샘플수, 타입스텝 수, 각 타입스텝의 특성수 )"
      ],
      "execution_count": null,
      "outputs": []
    },
    {
      "cell_type": "code",
      "metadata": {
        "id": "P3mJufRoJcfR",
        "colab_type": "code",
        "colab": {
          "base_uri": "https://localhost:8080/",
          "height": 34
        },
        "outputId": "e14dfb44-b40c-4816-a921-8bf16b671884"
      },
      "source": [
        "x_train[0]"
      ],
      "execution_count": null,
      "outputs": [
        {
          "output_type": "execute_result",
          "data": {
            "text/plain": [
              "array([[ 0.71566152, -1.13639348, -1.2416974 , -1.14741206]])"
            ]
          },
          "metadata": {
            "tags": []
          },
          "execution_count": 58
        }
      ]
    },
    {
      "cell_type": "code",
      "metadata": {
        "id": "xRv-BVd2OBXm",
        "colab_type": "code",
        "colab": {
          "base_uri": "https://localhost:8080/",
          "height": 34
        },
        "outputId": "8534e264-1799-424b-c04f-0484199452ab"
      },
      "source": [
        "print(x_train.shape)"
      ],
      "execution_count": null,
      "outputs": [
        {
          "output_type": "stream",
          "text": [
            "(50, 1, 4)\n"
          ],
          "name": "stdout"
        }
      ]
    },
    {
      "cell_type": "code",
      "metadata": {
        "id": "MguGKMOv3ghK",
        "colab_type": "code",
        "colab": {}
      },
      "source": [
        "history = model.fit(x, y, validation_data = (x_val, y_val), epochs=200, verbose=0)"
      ],
      "execution_count": null,
      "outputs": []
    },
    {
      "cell_type": "code",
      "metadata": {
        "id": "Z67OwkNvuqXy",
        "colab_type": "code",
        "colab": {}
      },
      "source": [
        ""
      ],
      "execution_count": null,
      "outputs": []
    },
    {
      "cell_type": "code",
      "metadata": {
        "id": "INGNzBi_cBW1",
        "colab_type": "code",
        "colab": {
          "base_uri": "https://localhost:8080/",
          "height": 193
        },
        "outputId": "3aad32c8-6af5-4daf-ca3b-18dc84639f42"
      },
      "source": [
        "data.loc[400,:] #20년 1월20일 종가는 62400원이었다"
      ],
      "execution_count": null,
      "outputs": [
        {
          "output_type": "execute_result",
          "data": {
            "text/plain": [
              "Unnamed: 0                      400\n",
              "Unnamed: 0.1                    110\n",
              "day             2020-01-20 00:00:00\n",
              "close                         62400\n",
              "dif                            1100\n",
              "volume                  1.25289e+07\n",
              "start                         62000\n",
              "high                          62800\n",
              "low                           61700\n",
              "Name: 400, dtype: object"
            ]
          },
          "metadata": {
            "tags": []
          },
          "execution_count": 208
        }
      ]
    },
    {
      "cell_type": "code",
      "metadata": {
        "id": "5iQ3DpgacBZm",
        "colab_type": "code",
        "colab": {}
      },
      "source": [
        "price_hats = []\n",
        "price_start = 62400.0\n",
        "\n",
        "for i in range(0, len(y_hat)):\n",
        "  price_start = price_start + y_hat[i]\n",
        "  price_hats.append(price_start)\n"
      ],
      "execution_count": null,
      "outputs": []
    },
    {
      "cell_type": "code",
      "metadata": {
        "id": "seycvzOnRh3v",
        "colab_type": "code",
        "colab": {
          "base_uri": "https://localhost:8080/",
          "height": 265
        },
        "outputId": "8308a057-f8bf-4511-ff5e-44f298b276d0"
      },
      "source": [
        "plt.plot(price_hats, 'ro')\n",
        "plt.show()"
      ],
      "execution_count": null,
      "outputs": [
        {
          "output_type": "display_data",
          "data": {
            "image/png": "[encoded data removed]",
            "text/plain": [
              "<Figure size 1008x288 with 1 Axes>"
            ]
          },
          "metadata": {
            "tags": [],
            "needs_background": "light"
          }
        }
      ]
    },
    {
      "cell_type": "code",
      "metadata": {
        "id": "3HGM6UlgRxwV",
        "colab_type": "code",
        "colab": {
          "base_uri": "https://localhost:8080/",
          "height": 402
        },
        "outputId": "6c82dc87-e311-4a81-f121-8162b7323de7"
      },
      "source": [
        " data.loc[401:500,['day','close']] # 20년 1월21일 부터 시작하여 100일간 종가 필요"
      ],
      "execution_count": null,
      "outputs": [
        {
          "output_type": "execute_result",
          "data": {
            "text/html": [
              "<div>\n",
              "<style scoped>\n",
              "    .dataframe tbody tr th:only-of-type {\n",
              "        vertical-align: middle;\n",
              "    }\n",
              "\n",
              "    .dataframe tbody tr th {\n",
              "        vertical-align: top;\n",
              "    }\n",
              "\n",
              "    .dataframe thead th {\n",
              "        text-align: right;\n",
              "    }\n",
              "</style>\n",
              "<table border=\"1\" class=\"dataframe\">\n",
              "  <thead>\n",
              "    <tr style=\"text-align: right;\">\n",
              "      <th></th>\n",
              "      <th>day</th>\n",
              "      <th>close</th>\n",
              "    </tr>\n",
              "  </thead>\n",
              "  <tbody>\n",
              "    <tr>\n",
              "      <th>401</th>\n",
              "      <td>2020-01-21 00:00:00</td>\n",
              "      <td>61400.0</td>\n",
              "    </tr>\n",
              "    <tr>\n",
              "      <th>402</th>\n",
              "      <td>2020-01-22 00:00:00</td>\n",
              "      <td>62300.0</td>\n",
              "    </tr>\n",
              "    <tr>\n",
              "      <th>403</th>\n",
              "      <td>2020-01-23 00:00:00</td>\n",
              "      <td>60800.0</td>\n",
              "    </tr>\n",
              "    <tr>\n",
              "      <th>404</th>\n",
              "      <td>2020-01-28 00:00:00</td>\n",
              "      <td>58800.0</td>\n",
              "    </tr>\n",
              "    <tr>\n",
              "      <th>405</th>\n",
              "      <td>2020-01-29 00:00:00</td>\n",
              "      <td>59100.0</td>\n",
              "    </tr>\n",
              "    <tr>\n",
              "      <th>...</th>\n",
              "      <td>...</td>\n",
              "      <td>...</td>\n",
              "    </tr>\n",
              "    <tr>\n",
              "      <th>496</th>\n",
              "      <td>2020-06-10 00:00:00</td>\n",
              "      <td>55400.0</td>\n",
              "    </tr>\n",
              "    <tr>\n",
              "      <th>497</th>\n",
              "      <td>2020-06-11 00:00:00</td>\n",
              "      <td>54300.0</td>\n",
              "    </tr>\n",
              "    <tr>\n",
              "      <th>498</th>\n",
              "      <td>2020-06-12 00:00:00</td>\n",
              "      <td>52300.0</td>\n",
              "    </tr>\n",
              "    <tr>\n",
              "      <th>499</th>\n",
              "      <td>2020-06-15 00:00:00</td>\n",
              "      <td>49900.0</td>\n",
              "    </tr>\n",
              "    <tr>\n",
              "      <th>500</th>\n",
              "      <td>2020-06-16 00:00:00</td>\n",
              "      <td>52100.0</td>\n",
              "    </tr>\n",
              "  </tbody>\n",
              "</table>\n",
              "<p>100 rows × 2 columns</p>\n",
              "</div>"
            ],
            "text/plain": [
              "                     day    close\n",
              "401  2020-01-21 00:00:00  61400.0\n",
              "402  2020-01-22 00:00:00  62300.0\n",
              "403  2020-01-23 00:00:00  60800.0\n",
              "404  2020-01-28 00:00:00  58800.0\n",
              "405  2020-01-29 00:00:00  59100.0\n",
              "..                   ...      ...\n",
              "496  2020-06-10 00:00:00  55400.0\n",
              "497  2020-06-11 00:00:00  54300.0\n",
              "498  2020-06-12 00:00:00  52300.0\n",
              "499  2020-06-15 00:00:00  49900.0\n",
              "500  2020-06-16 00:00:00  52100.0\n",
              "\n",
              "[100 rows x 2 columns]"
            ]
          },
          "metadata": {
            "tags": []
          },
          "execution_count": 211
        }
      ]
    },
    {
      "cell_type": "code",
      "metadata": {
        "id": "5oLiYC5QVi4H",
        "colab_type": "code",
        "colab": {}
      },
      "source": [
        "price_real = data.loc[401:500, 'close']\n",
        "price_real = np.asarray(price_real, dtype=float)"
      ],
      "execution_count": null,
      "outputs": []
    },
    {
      "cell_type": "code",
      "metadata": {
        "id": "Q2gak5LKV0Hc",
        "colab_type": "code",
        "colab": {
          "base_uri": "https://localhost:8080/",
          "height": 265
        },
        "outputId": "bb7cc860-8708-42de-f0cf-c405a20bdd25"
      },
      "source": [
        "plt.plot(price_real, 'ro')\n",
        "plt.plot(price_hats, 'bo')\n",
        "plt.show()"
      ],
      "execution_count": null,
      "outputs": [
        {
          "output_type": "display_data",
          "data": {
            "image/png": "[encoded data removed]",
            "text/plain": [
              "<Figure size 1008x288 with 1 Axes>"
            ]
          },
          "metadata": {
            "tags": [],
            "needs_background": "light"
          }
        }
      ]
    },
    {
      "cell_type": "code",
      "metadata": {
        "id": "IPgOXCN1cwPT",
        "colab_type": "code",
        "colab": {}
      },
      "source": [
        ""
      ],
      "execution_count": null,
      "outputs": []
    },
    {
      "cell_type": "markdown",
      "metadata": {
        "id": "AkY3AN8gcwuL",
        "colab_type": "text"
      },
      "source": [
        "아래는 Colab 구글 드라이브에 Data를 저장하고 다운로드 하는 방법이다."
      ]
    },
    {
      "cell_type": "code",
      "metadata": {
        "id": "AYAZxixnZyD-",
        "colab_type": "code",
        "colab": {
          "base_uri": "https://localhost:8080/",
          "height": 125
        },
        "outputId": "9c97ac92-ce8c-45b6-ec55-95d7709dad6d"
      },
      "source": [
        "from google.colab import drive\n",
        "drive.mount('/gdrive') "
      ],
      "execution_count": null,
      "outputs": [
        {
          "output_type": "stream",
          "text": [
            "Go to this URL in a browser: https://accounts.google.com/o/oauth2/auth?client_id=947318989803-6bn6qk8qdgf4n4g3pfee6491hc0brc4i.apps.googleusercontent.com&redirect_uri=urn%3aietf%3awg%3aoauth%3a2.0%3aoob&response_type=code&scope=email%20https%3a%2f%2fwww.googleapis.com%2fauth%2fdocs.test%20https%3a%2f%2fwww.googleapis.com%2fauth%2fdrive%20https%3a%2f%2fwww.googleapis.com%2fauth%2fdrive.photos.readonly%20https%3a%2f%2fwww.googleapis.com%2fauth%2fpeopleapi.readonly\n",
            "\n",
            "Enter your authorization code:\n",
            "··········\n",
            "Mounted at /gdrive\n"
          ],
          "name": "stdout"
        }
      ]
    },
    {
      "cell_type": "code",
      "metadata": {
        "id": "7QffFPwr-ygp",
        "colab_type": "code",
        "colab": {
          "base_uri": "https://localhost:8080/",
          "height": 34
        },
        "outputId": "38d0b73a-d6ec-485a-dbde-964e73d40563"
      },
      "source": [
        "!ls"
      ],
      "execution_count": null,
      "outputs": [
        {
          "output_type": "stream",
          "text": [
            "sample_data\n"
          ],
          "name": "stdout"
        }
      ]
    },
    {
      "cell_type": "code",
      "metadata": {
        "id": "qYW2rSHAaoqN",
        "colab_type": "code",
        "colab": {
          "base_uri": "https://localhost:8080/",
          "height": 34
        },
        "outputId": "8be7dbe4-b578-458e-ebb2-03e7b1984a32"
      },
      "source": [
        "!ls /gdrive"
      ],
      "execution_count": null,
      "outputs": [
        {
          "output_type": "stream",
          "text": [
            "'My Drive'\n"
          ],
          "name": "stdout"
        }
      ]
    },
    {
      "cell_type": "code",
      "metadata": {
        "id": "7JcfXAVUa7gb",
        "colab_type": "code",
        "colab": {}
      },
      "source": [
        "data.to_csv('/gdrive/My Drive/data.txt') # 구글 드라이브에 저장한다."
      ],
      "execution_count": null,
      "outputs": []
    },
    {
      "cell_type": "code",
      "metadata": {
        "id": "H0Q0MMZmcV7e",
        "colab_type": "code",
        "colab": {
          "base_uri": "https://localhost:8080/",
          "height": 34
        },
        "outputId": "961becc0-c4fa-4dfd-8314-48022519eaa3"
      },
      "source": [
        "!ls /gdrive/My\\ Drive/data.txt"
      ],
      "execution_count": null,
      "outputs": [
        {
          "output_type": "stream",
          "text": [
            "'/gdrive/My Drive/data.txt'\n"
          ],
          "name": "stdout"
        }
      ]
    },
    {
      "cell_type": "code",
      "metadata": {
        "id": "-veZ873wbx4J",
        "colab_type": "code",
        "colab": {}
      },
      "source": [
        "import pandas as pd"
      ],
      "execution_count": null,
      "outputs": []
    },
    {
      "cell_type": "code",
      "metadata": {
        "id": "4WnDuC9ncjd-",
        "colab_type": "code",
        "colab": {}
      },
      "source": [
        "data = pd.read_csv('/gdrive/My Drive/data.txt')"
      ],
      "execution_count": null,
      "outputs": []
    },
    {
      "cell_type": "code",
      "metadata": {
        "id": "ylsPODHXctHc",
        "colab_type": "code",
        "colab": {
          "base_uri": "https://localhost:8080/",
          "height": 343
        },
        "outputId": "f3318b13-89b0-4e57-bd50-d325b99326ba"
      },
      "source": [
        "data.tail(10) # 2018년 6월1일부터 2020년 6월30일까지 삼성전자 주가 자료이다"
      ],
      "execution_count": null,
      "outputs": [
        {
          "output_type": "execute_result",
          "data": {
            "text/html": [
              "<div>\n",
              "<style scoped>\n",
              "    .dataframe tbody tr th:only-of-type {\n",
              "        vertical-align: middle;\n",
              "    }\n",
              "\n",
              "    .dataframe tbody tr th {\n",
              "        vertical-align: top;\n",
              "    }\n",
              "\n",
              "    .dataframe thead th {\n",
              "        text-align: right;\n",
              "    }\n",
              "</style>\n",
              "<table border=\"1\" class=\"dataframe\">\n",
              "  <thead>\n",
              "    <tr style=\"text-align: right;\">\n",
              "      <th></th>\n",
              "      <th>Unnamed: 0</th>\n",
              "      <th>Unnamed: 0.1</th>\n",
              "      <th>Unnamed: 0.1.1</th>\n",
              "      <th>day</th>\n",
              "      <th>close</th>\n",
              "      <th>dif</th>\n",
              "      <th>volume</th>\n",
              "      <th>start</th>\n",
              "      <th>high</th>\n",
              "      <th>low</th>\n",
              "    </tr>\n",
              "  </thead>\n",
              "  <tbody>\n",
              "    <tr>\n",
              "      <th>501</th>\n",
              "      <td>501</td>\n",
              "      <td>501</td>\n",
              "      <td>9</td>\n",
              "      <td>2020-06-17 00:00:00</td>\n",
              "      <td>52200.0</td>\n",
              "      <td>100.0</td>\n",
              "      <td>26672595.0</td>\n",
              "      <td>52100.0</td>\n",
              "      <td>52900.0</td>\n",
              "      <td>51300.0</td>\n",
              "    </tr>\n",
              "    <tr>\n",
              "      <th>502</th>\n",
              "      <td>502</td>\n",
              "      <td>502</td>\n",
              "      <td>8</td>\n",
              "      <td>2020-06-18 00:00:00</td>\n",
              "      <td>52300.0</td>\n",
              "      <td>100.0</td>\n",
              "      <td>15982926.0</td>\n",
              "      <td>52200.0</td>\n",
              "      <td>52300.0</td>\n",
              "      <td>51600.0</td>\n",
              "    </tr>\n",
              "    <tr>\n",
              "      <th>503</th>\n",
              "      <td>503</td>\n",
              "      <td>503</td>\n",
              "      <td>7</td>\n",
              "      <td>2020-06-19 00:00:00</td>\n",
              "      <td>52900.0</td>\n",
              "      <td>600.0</td>\n",
              "      <td>18157985.0</td>\n",
              "      <td>52600.0</td>\n",
              "      <td>52900.0</td>\n",
              "      <td>51600.0</td>\n",
              "    </tr>\n",
              "    <tr>\n",
              "      <th>504</th>\n",
              "      <td>504</td>\n",
              "      <td>504</td>\n",
              "      <td>6</td>\n",
              "      <td>2020-06-22 00:00:00</td>\n",
              "      <td>52000.0</td>\n",
              "      <td>-900.0</td>\n",
              "      <td>13801350.0</td>\n",
              "      <td>52000.0</td>\n",
              "      <td>52600.0</td>\n",
              "      <td>51800.0</td>\n",
              "    </tr>\n",
              "    <tr>\n",
              "      <th>505</th>\n",
              "      <td>505</td>\n",
              "      <td>505</td>\n",
              "      <td>5</td>\n",
              "      <td>2020-06-23 00:00:00</td>\n",
              "      <td>51400.0</td>\n",
              "      <td>-600.0</td>\n",
              "      <td>18086152.0</td>\n",
              "      <td>52500.0</td>\n",
              "      <td>52800.0</td>\n",
              "      <td>51100.0</td>\n",
              "    </tr>\n",
              "    <tr>\n",
              "      <th>506</th>\n",
              "      <td>506</td>\n",
              "      <td>506</td>\n",
              "      <td>4</td>\n",
              "      <td>2020-06-24 00:00:00</td>\n",
              "      <td>52900.0</td>\n",
              "      <td>1500.0</td>\n",
              "      <td>24519552.0</td>\n",
              "      <td>51900.0</td>\n",
              "      <td>53900.0</td>\n",
              "      <td>51600.0</td>\n",
              "    </tr>\n",
              "    <tr>\n",
              "      <th>507</th>\n",
              "      <td>507</td>\n",
              "      <td>507</td>\n",
              "      <td>3</td>\n",
              "      <td>2020-06-25 00:00:00</td>\n",
              "      <td>51900.0</td>\n",
              "      <td>-1000.0</td>\n",
              "      <td>18541624.0</td>\n",
              "      <td>52100.0</td>\n",
              "      <td>53000.0</td>\n",
              "      <td>51900.0</td>\n",
              "    </tr>\n",
              "    <tr>\n",
              "      <th>508</th>\n",
              "      <td>508</td>\n",
              "      <td>508</td>\n",
              "      <td>2</td>\n",
              "      <td>2020-06-26 00:00:00</td>\n",
              "      <td>53300.0</td>\n",
              "      <td>1400.0</td>\n",
              "      <td>21575360.0</td>\n",
              "      <td>52800.0</td>\n",
              "      <td>53900.0</td>\n",
              "      <td>52200.0</td>\n",
              "    </tr>\n",
              "    <tr>\n",
              "      <th>509</th>\n",
              "      <td>509</td>\n",
              "      <td>509</td>\n",
              "      <td>1</td>\n",
              "      <td>2020-06-29 00:00:00</td>\n",
              "      <td>52400.0</td>\n",
              "      <td>-900.0</td>\n",
              "      <td>17776925.0</td>\n",
              "      <td>52500.0</td>\n",
              "      <td>53200.0</td>\n",
              "      <td>52000.0</td>\n",
              "    </tr>\n",
              "    <tr>\n",
              "      <th>510</th>\n",
              "      <td>510</td>\n",
              "      <td>510</td>\n",
              "      <td>0</td>\n",
              "      <td>2020-06-30 00:00:00</td>\n",
              "      <td>52800.0</td>\n",
              "      <td>400.0</td>\n",
              "      <td>21157172.0</td>\n",
              "      <td>53900.0</td>\n",
              "      <td>53900.0</td>\n",
              "      <td>52800.0</td>\n",
              "    </tr>\n",
              "  </tbody>\n",
              "</table>\n",
              "</div>"
            ],
            "text/plain": [
              "     Unnamed: 0  Unnamed: 0.1  Unnamed: 0.1.1  ...    start     high      low\n",
              "501         501           501               9  ...  52100.0  52900.0  51300.0\n",
              "502         502           502               8  ...  52200.0  52300.0  51600.0\n",
              "503         503           503               7  ...  52600.0  52900.0  51600.0\n",
              "504         504           504               6  ...  52000.0  52600.0  51800.0\n",
              "505         505           505               5  ...  52500.0  52800.0  51100.0\n",
              "506         506           506               4  ...  51900.0  53900.0  51600.0\n",
              "507         507           507               3  ...  52100.0  53000.0  51900.0\n",
              "508         508           508               2  ...  52800.0  53900.0  52200.0\n",
              "509         509           509               1  ...  52500.0  53200.0  52000.0\n",
              "510         510           510               0  ...  53900.0  53900.0  52800.0\n",
              "\n",
              "[10 rows x 10 columns]"
            ]
          },
          "metadata": {
            "tags": []
          },
          "execution_count": 6
        }
      ]
    },
    {
      "cell_type": "code",
      "metadata": {
        "id": "1P6KDlWonpE3",
        "colab_type": "code",
        "colab": {}
      },
      "source": [
        ""
      ],
      "execution_count": null,
      "outputs": []
    },
    {
      "cell_type": "code",
      "metadata": {
        "id": "G_Waz2bGnpri",
        "colab_type": "code",
        "colab": {}
      },
      "source": [
        ""
      ],
      "execution_count": null,
      "outputs": []
    },
    {
      "cell_type": "markdown",
      "metadata": {
        "id": "X9zbRFkTnp2a",
        "colab_type": "text"
      },
      "source": [
        "다른 data 셀을 만들려고 한다."
      ]
    },
    {
      "cell_type": "code",
      "metadata": {
        "id": "1ppgEaVsntlp",
        "colab_type": "code",
        "colab": {}
      },
      "source": [
        "data_n = data.loc[:, [\"close\", \"volume\", \"start\", \"high\", \"low\"]]"
      ],
      "execution_count": null,
      "outputs": []
    },
    {
      "cell_type": "code",
      "metadata": {
        "id": "vZjEU_urn6B7",
        "colab_type": "code",
        "colab": {
          "base_uri": "https://localhost:8080/",
          "height": 402
        },
        "outputId": "ccfe66b2-b1de-49c7-97a1-1318ac444e98"
      },
      "source": [
        "data_n"
      ],
      "execution_count": null,
      "outputs": [
        {
          "output_type": "execute_result",
          "data": {
            "text/html": [
              "<div>\n",
              "<style scoped>\n",
              "    .dataframe tbody tr th:only-of-type {\n",
              "        vertical-align: middle;\n",
              "    }\n",
              "\n",
              "    .dataframe tbody tr th {\n",
              "        vertical-align: top;\n",
              "    }\n",
              "\n",
              "    .dataframe thead th {\n",
              "        text-align: right;\n",
              "    }\n",
              "</style>\n",
              "<table border=\"1\" class=\"dataframe\">\n",
              "  <thead>\n",
              "    <tr style=\"text-align: right;\">\n",
              "      <th></th>\n",
              "      <th>close</th>\n",
              "      <th>volume</th>\n",
              "      <th>start</th>\n",
              "      <th>high</th>\n",
              "      <th>low</th>\n",
              "    </tr>\n",
              "  </thead>\n",
              "  <tbody>\n",
              "    <tr>\n",
              "      <th>0</th>\n",
              "      <td>51300.0</td>\n",
              "      <td>13038499.0</td>\n",
              "      <td>50500.0</td>\n",
              "      <td>51700.0</td>\n",
              "      <td>49950.0</td>\n",
              "    </tr>\n",
              "    <tr>\n",
              "      <th>1</th>\n",
              "      <td>51100.0</td>\n",
              "      <td>9767171.0</td>\n",
              "      <td>50800.0</td>\n",
              "      <td>51200.0</td>\n",
              "      <td>50700.0</td>\n",
              "    </tr>\n",
              "    <tr>\n",
              "      <th>2</th>\n",
              "      <td>51300.0</td>\n",
              "      <td>9144100.0</td>\n",
              "      <td>51100.0</td>\n",
              "      <td>51400.0</td>\n",
              "      <td>50400.0</td>\n",
              "    </tr>\n",
              "    <tr>\n",
              "      <th>3</th>\n",
              "      <td>50600.0</td>\n",
              "      <td>13590016.0</td>\n",
              "      <td>51800.0</td>\n",
              "      <td>51800.0</td>\n",
              "      <td>50500.0</td>\n",
              "    </tr>\n",
              "    <tr>\n",
              "      <th>4</th>\n",
              "      <td>49650.0</td>\n",
              "      <td>16951706.0</td>\n",
              "      <td>50200.0</td>\n",
              "      <td>50400.0</td>\n",
              "      <td>49600.0</td>\n",
              "    </tr>\n",
              "    <tr>\n",
              "      <th>...</th>\n",
              "      <td>...</td>\n",
              "      <td>...</td>\n",
              "      <td>...</td>\n",
              "      <td>...</td>\n",
              "      <td>...</td>\n",
              "    </tr>\n",
              "    <tr>\n",
              "      <th>506</th>\n",
              "      <td>52900.0</td>\n",
              "      <td>24519552.0</td>\n",
              "      <td>51900.0</td>\n",
              "      <td>53900.0</td>\n",
              "      <td>51600.0</td>\n",
              "    </tr>\n",
              "    <tr>\n",
              "      <th>507</th>\n",
              "      <td>51900.0</td>\n",
              "      <td>18541624.0</td>\n",
              "      <td>52100.0</td>\n",
              "      <td>53000.0</td>\n",
              "      <td>51900.0</td>\n",
              "    </tr>\n",
              "    <tr>\n",
              "      <th>508</th>\n",
              "      <td>53300.0</td>\n",
              "      <td>21575360.0</td>\n",
              "      <td>52800.0</td>\n",
              "      <td>53900.0</td>\n",
              "      <td>52200.0</td>\n",
              "    </tr>\n",
              "    <tr>\n",
              "      <th>509</th>\n",
              "      <td>52400.0</td>\n",
              "      <td>17776925.0</td>\n",
              "      <td>52500.0</td>\n",
              "      <td>53200.0</td>\n",
              "      <td>52000.0</td>\n",
              "    </tr>\n",
              "    <tr>\n",
              "      <th>510</th>\n",
              "      <td>52800.0</td>\n",
              "      <td>21157172.0</td>\n",
              "      <td>53900.0</td>\n",
              "      <td>53900.0</td>\n",
              "      <td>52800.0</td>\n",
              "    </tr>\n",
              "  </tbody>\n",
              "</table>\n",
              "<p>511 rows × 5 columns</p>\n",
              "</div>"
            ],
            "text/plain": [
              "       close      volume    start     high      low\n",
              "0    51300.0  13038499.0  50500.0  51700.0  49950.0\n",
              "1    51100.0   9767171.0  50800.0  51200.0  50700.0\n",
              "2    51300.0   9144100.0  51100.0  51400.0  50400.0\n",
              "3    50600.0  13590016.0  51800.0  51800.0  50500.0\n",
              "4    49650.0  16951706.0  50200.0  50400.0  49600.0\n",
              "..       ...         ...      ...      ...      ...\n",
              "506  52900.0  24519552.0  51900.0  53900.0  51600.0\n",
              "507  51900.0  18541624.0  52100.0  53000.0  51900.0\n",
              "508  53300.0  21575360.0  52800.0  53900.0  52200.0\n",
              "509  52400.0  17776925.0  52500.0  53200.0  52000.0\n",
              "510  52800.0  21157172.0  53900.0  53900.0  52800.0\n",
              "\n",
              "[511 rows x 5 columns]"
            ]
          },
          "metadata": {
            "tags": []
          },
          "execution_count": 8
        }
      ]
    },
    {
      "cell_type": "code",
      "metadata": {
        "id": "mnNW7-Jwb_qG",
        "colab_type": "code",
        "colab": {}
      },
      "source": [
        "import numpy as np"
      ],
      "execution_count": null,
      "outputs": []
    },
    {
      "cell_type": "code",
      "metadata": {
        "id": "1S2lB0n6CfEA",
        "colab_type": "code",
        "colab": {}
      },
      "source": [
        "# TR 지표를 사용하여 변동성 데이터 만들기, TR은 방향 없이 변동성의 크기만 나타낸다. TR이 작을때 주가는 안정적이다. \n",
        "# TR는 주가만 사용하고, 주가의 방향보다는 변동성만 계산하는 지표이다.\n",
        "\n",
        "tr_list=[]\n",
        "\n",
        "for i in range(0, len(data_n)):\n",
        "  if i == 0:\n",
        "    tr = data_n.loc[i, 'high'] - data_n.loc[i, 'low']\n",
        "  else:\n",
        "    tr1 = data_n.loc[i, 'high'] - data_n.loc[i, 'low']\n",
        "    tr2 = data_n.loc[i, 'high'] - data_n.loc[i-1, 'close']\n",
        "    tr3 = data_n.loc[i, 'low'] - data_n.loc[i-1, 'close']\n",
        "    tr = max(tr1, abs(tr2), abs(tr3))\n",
        "  tr_list.append(tr)\n"
      ],
      "execution_count": null,
      "outputs": []
    },
    {
      "cell_type": "code",
      "metadata": {
        "id": "_ZeWEOH8I2bZ",
        "colab_type": "code",
        "colab": {
          "base_uri": "https://localhost:8080/",
          "height": 34
        },
        "outputId": "a2c97466-6f01-4475-a591-059179248d6f"
      },
      "source": [
        "tr_list[0]"
      ],
      "execution_count": null,
      "outputs": [
        {
          "output_type": "execute_result",
          "data": {
            "text/plain": [
              "1750.0"
            ]
          },
          "metadata": {
            "tags": []
          },
          "execution_count": 11
        }
      ]
    },
    {
      "cell_type": "code",
      "metadata": {
        "id": "Vd3fLaB9Ir3y",
        "colab_type": "code",
        "colab": {}
      },
      "source": [
        "for i in range(0, len(data_n)):\n",
        "  data_n.loc[i,'tr'] = tr_list[i]"
      ],
      "execution_count": null,
      "outputs": []
    },
    {
      "cell_type": "code",
      "metadata": {
        "id": "R4eoJ_EHJEYA",
        "colab_type": "code",
        "colab": {
          "base_uri": "https://localhost:8080/",
          "height": 195
        },
        "outputId": "e6200aa6-da2f-4c58-a090-3e288404164b"
      },
      "source": [
        "data_n.head()"
      ],
      "execution_count": null,
      "outputs": [
        {
          "output_type": "execute_result",
          "data": {
            "text/html": [
              "<div>\n",
              "<style scoped>\n",
              "    .dataframe tbody tr th:only-of-type {\n",
              "        vertical-align: middle;\n",
              "    }\n",
              "\n",
              "    .dataframe tbody tr th {\n",
              "        vertical-align: top;\n",
              "    }\n",
              "\n",
              "    .dataframe thead th {\n",
              "        text-align: right;\n",
              "    }\n",
              "</style>\n",
              "<table border=\"1\" class=\"dataframe\">\n",
              "  <thead>\n",
              "    <tr style=\"text-align: right;\">\n",
              "      <th></th>\n",
              "      <th>close</th>\n",
              "      <th>volume</th>\n",
              "      <th>start</th>\n",
              "      <th>high</th>\n",
              "      <th>low</th>\n",
              "      <th>tr</th>\n",
              "    </tr>\n",
              "  </thead>\n",
              "  <tbody>\n",
              "    <tr>\n",
              "      <th>0</th>\n",
              "      <td>51300.0</td>\n",
              "      <td>13038499.0</td>\n",
              "      <td>50500.0</td>\n",
              "      <td>51700.0</td>\n",
              "      <td>49950.0</td>\n",
              "      <td>1750.0</td>\n",
              "    </tr>\n",
              "    <tr>\n",
              "      <th>1</th>\n",
              "      <td>51100.0</td>\n",
              "      <td>9767171.0</td>\n",
              "      <td>50800.0</td>\n",
              "      <td>51200.0</td>\n",
              "      <td>50700.0</td>\n",
              "      <td>600.0</td>\n",
              "    </tr>\n",
              "    <tr>\n",
              "      <th>2</th>\n",
              "      <td>51300.0</td>\n",
              "      <td>9144100.0</td>\n",
              "      <td>51100.0</td>\n",
              "      <td>51400.0</td>\n",
              "      <td>50400.0</td>\n",
              "      <td>1000.0</td>\n",
              "    </tr>\n",
              "    <tr>\n",
              "      <th>3</th>\n",
              "      <td>50600.0</td>\n",
              "      <td>13590016.0</td>\n",
              "      <td>51800.0</td>\n",
              "      <td>51800.0</td>\n",
              "      <td>50500.0</td>\n",
              "      <td>1300.0</td>\n",
              "    </tr>\n",
              "    <tr>\n",
              "      <th>4</th>\n",
              "      <td>49650.0</td>\n",
              "      <td>16951706.0</td>\n",
              "      <td>50200.0</td>\n",
              "      <td>50400.0</td>\n",
              "      <td>49600.0</td>\n",
              "      <td>1000.0</td>\n",
              "    </tr>\n",
              "  </tbody>\n",
              "</table>\n",
              "</div>"
            ],
            "text/plain": [
              "     close      volume    start     high      low      tr\n",
              "0  51300.0  13038499.0  50500.0  51700.0  49950.0  1750.0\n",
              "1  51100.0   9767171.0  50800.0  51200.0  50700.0   600.0\n",
              "2  51300.0   9144100.0  51100.0  51400.0  50400.0  1000.0\n",
              "3  50600.0  13590016.0  51800.0  51800.0  50500.0  1300.0\n",
              "4  49650.0  16951706.0  50200.0  50400.0  49600.0  1000.0"
            ]
          },
          "metadata": {
            "tags": []
          },
          "execution_count": 13
        }
      ]
    },
    {
      "cell_type": "code",
      "metadata": {
        "id": "FSS4TcKWFf0u",
        "colab_type": "code",
        "colab": {
          "base_uri": "https://localhost:8080/",
          "height": 265
        },
        "outputId": "f7389bfa-bf75-4da1-b787-17bbe5f5fb09"
      },
      "source": [
        "import matplotlib.pyplot as plt\n",
        "\n",
        "plt.rcParams[\"figure.figsize\"] = (14,4)\n",
        "\n",
        "plt.plot(tr_list, 'r')\n",
        "plt.show()"
      ],
      "execution_count": null,
      "outputs": [
        {
          "output_type": "display_data",
          "data": {
            "image/png": "[encoded data removed]",
            "text/plain": [
              "<Figure size 1008x288 with 1 Axes>"
            ]
          },
          "metadata": {
            "tags": [],
            "needs_background": "light"
          }
        }
      ]
    },
    {
      "cell_type": "code",
      "metadata": {
        "id": "oMic43dMFhBc",
        "colab_type": "code",
        "colab": {
          "base_uri": "https://localhost:8080/",
          "height": 265
        },
        "outputId": "1b8071a6-20a0-4fe3-9bc2-e949bc89b8bb"
      },
      "source": [
        "plt.plot(data_n.loc[:,'close'], 'r')\n",
        "plt.show()"
      ],
      "execution_count": null,
      "outputs": [
        {
          "output_type": "display_data",
          "data": {
            "image/png": "[encoded data removed]",
            "text/plain": [
              "<Figure size 1008x288 with 1 Axes>"
            ]
          },
          "metadata": {
            "tags": [],
            "needs_background": "light"
          }
        }
      ]
    },
    {
      "cell_type": "code",
      "metadata": {
        "id": "knja8DpoEiVD",
        "colab_type": "code",
        "colab": {}
      },
      "source": [
        "# 거래량 지표인 obv를 계산한다. 전일 종가보다 금일 종가가 높다면 전일 obv에 금일 거래량을 더해주고, 전일 종가보다 금일 종가가 낮다면 거래량을 전일 obv에서 차감한다.\n",
        "# obv가 증가한다는 것은 매수 세력이 이겼다는 것(주가상승)을 의미하고 obv가 하락하면 매도세력(주가하락)이 이긴 것을 의미한다.\n",
        "# obv는 주가변화에 선행한다. 그러나 변화가 발생하는 경우가 있다.\n",
        "# 주가는 상승추세지만 obv가 횡보라면 공매도 신호로 이후 주가 하락 신호\n",
        "# 반대로 주가는 횡보이지만 obs가 상승세라면 이후 주가 상승 신호 \n",
        "\n",
        "obv=0\n",
        "\n",
        "obvs=[]\n",
        "\n",
        "for i in range(0, len(data_n)):\n",
        "  if i == 0 :\n",
        "    obv = 0\n",
        "  elif data_n.loc[i, 'close'] - data_n.loc[i-1, 'close'] > 0 :\n",
        "    obv = obv + data_n.loc[i, 'volume']\n",
        "  else:\n",
        "    obv = obv - data_n.loc[i, 'volume']\n",
        "  obvs.append(obv)"
      ],
      "execution_count": null,
      "outputs": []
    },
    {
      "cell_type": "code",
      "metadata": {
        "id": "wifN96ZIxaoz",
        "colab_type": "code",
        "colab": {
          "base_uri": "https://localhost:8080/",
          "height": 276
        },
        "outputId": "474c81da-a0bc-4fc9-a79f-2763d97b3e65"
      },
      "source": [
        "# 주가와 obv를 하나의 차트로 본다\n",
        "\n",
        "fig, ax1 = plt.subplots()\n",
        "ax2 = ax1.twinx()\n",
        "\n",
        "line1 = ax1.plot(np.arange(len(obvs)), data_n.loc[:,'close'], color='b')\n",
        "line2 = ax2.plot(np.arange(len(obvs)), obvs, color='r')\n",
        "\n",
        "ax1.set_ylim(30000, 60000)\n",
        "ax2.set_ylim( np.min(obvs), np.max(obvs))\n",
        "\n",
        "plt.show()"
      ],
      "execution_count": null,
      "outputs": [
        {
          "output_type": "display_data",
          "data": {
            "image/png": "[encoded data removed]",
            "text/plain": [
              "<Figure size 1008x288 with 2 Axes>"
            ]
          },
          "metadata": {
            "tags": [],
            "needs_background": "light"
          }
        }
      ]
    },
    {
      "cell_type": "code",
      "metadata": {
        "id": "LqkvJoud4IoH",
        "colab_type": "code",
        "colab": {}
      },
      "source": [
        "for i in range(0, len(data_n)):\n",
        "  data_n.loc[i,'obv'] = obvs[i]"
      ],
      "execution_count": null,
      "outputs": []
    },
    {
      "cell_type": "code",
      "metadata": {
        "id": "wkWaILuD4Q5k",
        "colab_type": "code",
        "colab": {
          "base_uri": "https://localhost:8080/",
          "height": 195
        },
        "outputId": "db3ad8c6-9dd2-4111-a609-f87451959157"
      },
      "source": [
        "data_n.head()"
      ],
      "execution_count": null,
      "outputs": [
        {
          "output_type": "execute_result",
          "data": {
            "text/html": [
              "<div>\n",
              "<style scoped>\n",
              "    .dataframe tbody tr th:only-of-type {\n",
              "        vertical-align: middle;\n",
              "    }\n",
              "\n",
              "    .dataframe tbody tr th {\n",
              "        vertical-align: top;\n",
              "    }\n",
              "\n",
              "    .dataframe thead th {\n",
              "        text-align: right;\n",
              "    }\n",
              "</style>\n",
              "<table border=\"1\" class=\"dataframe\">\n",
              "  <thead>\n",
              "    <tr style=\"text-align: right;\">\n",
              "      <th></th>\n",
              "      <th>close</th>\n",
              "      <th>volume</th>\n",
              "      <th>start</th>\n",
              "      <th>high</th>\n",
              "      <th>low</th>\n",
              "      <th>tr</th>\n",
              "      <th>obv</th>\n",
              "    </tr>\n",
              "  </thead>\n",
              "  <tbody>\n",
              "    <tr>\n",
              "      <th>0</th>\n",
              "      <td>51300.0</td>\n",
              "      <td>13038499.0</td>\n",
              "      <td>50500.0</td>\n",
              "      <td>51700.0</td>\n",
              "      <td>49950.0</td>\n",
              "      <td>1750.0</td>\n",
              "      <td>0.0</td>\n",
              "    </tr>\n",
              "    <tr>\n",
              "      <th>1</th>\n",
              "      <td>51100.0</td>\n",
              "      <td>9767171.0</td>\n",
              "      <td>50800.0</td>\n",
              "      <td>51200.0</td>\n",
              "      <td>50700.0</td>\n",
              "      <td>600.0</td>\n",
              "      <td>-9767171.0</td>\n",
              "    </tr>\n",
              "    <tr>\n",
              "      <th>2</th>\n",
              "      <td>51300.0</td>\n",
              "      <td>9144100.0</td>\n",
              "      <td>51100.0</td>\n",
              "      <td>51400.0</td>\n",
              "      <td>50400.0</td>\n",
              "      <td>1000.0</td>\n",
              "      <td>-623071.0</td>\n",
              "    </tr>\n",
              "    <tr>\n",
              "      <th>3</th>\n",
              "      <td>50600.0</td>\n",
              "      <td>13590016.0</td>\n",
              "      <td>51800.0</td>\n",
              "      <td>51800.0</td>\n",
              "      <td>50500.0</td>\n",
              "      <td>1300.0</td>\n",
              "      <td>-14213087.0</td>\n",
              "    </tr>\n",
              "    <tr>\n",
              "      <th>4</th>\n",
              "      <td>49650.0</td>\n",
              "      <td>16951706.0</td>\n",
              "      <td>50200.0</td>\n",
              "      <td>50400.0</td>\n",
              "      <td>49600.0</td>\n",
              "      <td>1000.0</td>\n",
              "      <td>-31164793.0</td>\n",
              "    </tr>\n",
              "  </tbody>\n",
              "</table>\n",
              "</div>"
            ],
            "text/plain": [
              "     close      volume    start     high      low      tr         obv\n",
              "0  51300.0  13038499.0  50500.0  51700.0  49950.0  1750.0         0.0\n",
              "1  51100.0   9767171.0  50800.0  51200.0  50700.0   600.0  -9767171.0\n",
              "2  51300.0   9144100.0  51100.0  51400.0  50400.0  1000.0   -623071.0\n",
              "3  50600.0  13590016.0  51800.0  51800.0  50500.0  1300.0 -14213087.0\n",
              "4  49650.0  16951706.0  50200.0  50400.0  49600.0  1000.0 -31164793.0"
            ]
          },
          "metadata": {
            "tags": []
          },
          "execution_count": 18
        }
      ]
    },
    {
      "cell_type": "code",
      "metadata": {
        "id": "Gy4dfCjhoDJW",
        "colab_type": "code",
        "colab": {}
      },
      "source": [
        "data_n = np.asarray(data_n, dtype=float)"
      ],
      "execution_count": null,
      "outputs": []
    },
    {
      "cell_type": "code",
      "metadata": {
        "id": "ocuKRXTdoL0w",
        "colab_type": "code",
        "colab": {
          "base_uri": "https://localhost:8080/",
          "height": 193
        },
        "outputId": "058bd560-736b-4184-f76d-0b66f298af83"
      },
      "source": [
        "data_n[0:5]"
      ],
      "execution_count": null,
      "outputs": [
        {
          "output_type": "execute_result",
          "data": {
            "text/plain": [
              "array([[ 5.1300000e+04,  1.3038499e+07,  5.0500000e+04,  5.1700000e+04,\n",
              "         4.9950000e+04,  1.7500000e+03,  0.0000000e+00],\n",
              "       [ 5.1100000e+04,  9.7671710e+06,  5.0800000e+04,  5.1200000e+04,\n",
              "         5.0700000e+04,  6.0000000e+02, -9.7671710e+06],\n",
              "       [ 5.1300000e+04,  9.1441000e+06,  5.1100000e+04,  5.1400000e+04,\n",
              "         5.0400000e+04,  1.0000000e+03, -6.2307100e+05],\n",
              "       [ 5.0600000e+04,  1.3590016e+07,  5.1800000e+04,  5.1800000e+04,\n",
              "         5.0500000e+04,  1.3000000e+03, -1.4213087e+07],\n",
              "       [ 4.9650000e+04,  1.6951706e+07,  5.0200000e+04,  5.0400000e+04,\n",
              "         4.9600000e+04,  1.0000000e+03, -3.1164793e+07]])"
            ]
          },
          "metadata": {
            "tags": []
          },
          "execution_count": 20
        }
      ]
    },
    {
      "cell_type": "code",
      "metadata": {
        "id": "oSXcsLagoric",
        "colab_type": "code",
        "colab": {
          "base_uri": "https://localhost:8080/",
          "height": 34
        },
        "outputId": "8e11c791-c33c-4ad8-dd7e-b63e11daa7bb"
      },
      "source": [
        "data_n.shape"
      ],
      "execution_count": null,
      "outputs": [
        {
          "output_type": "execute_result",
          "data": {
            "text/plain": [
              "(511, 7)"
            ]
          },
          "metadata": {
            "tags": []
          },
          "execution_count": 21
        }
      ]
    },
    {
      "cell_type": "markdown",
      "metadata": {
        "id": "NcHelKfASOyj",
        "colab_type": "text"
      },
      "source": [
        "5일치 주가를 타입스텝으로 가진 데이터를 만들려고 한다. 이경우 RNN과 같이 전체 데이터는 5개의 특징을 가진 샘플데이터가 한꺼번에 LSTM네트워크에 들어가고 타입스템 수 만큼 학습이 진행된다."
      ]
    },
    {
      "cell_type": "code",
      "metadata": {
        "id": "_B-52GydoYQq",
        "colab_type": "code",
        "colab": {}
      },
      "source": [
        "data_n_L = []\n",
        "\n",
        "for i in range(0, len(data_n)):\n",
        "  if i < len(data_n)-4:\n",
        "    ts = [data_n[i], data_n[i+1], data_n[i+2], data_n[i+3], data_n[i+4]]\n",
        "    data_n_L.append(ts)"
      ],
      "execution_count": null,
      "outputs": []
    },
    {
      "cell_type": "code",
      "metadata": {
        "id": "m-5JgOfkroVA",
        "colab_type": "code",
        "colab": {
          "base_uri": "https://localhost:8080/",
          "height": 193
        },
        "outputId": "9dfa5e56-5686-4e80-e052-0b23f873f32c"
      },
      "source": [
        "data_n_L[0]"
      ],
      "execution_count": null,
      "outputs": [
        {
          "output_type": "execute_result",
          "data": {
            "text/plain": [
              "[array([5.1300000e+04, 1.3038499e+07, 5.0500000e+04, 5.1700000e+04,\n",
              "        4.9950000e+04, 1.7500000e+03, 0.0000000e+00]),\n",
              " array([ 5.110000e+04,  9.767171e+06,  5.080000e+04,  5.120000e+04,\n",
              "         5.070000e+04,  6.000000e+02, -9.767171e+06]),\n",
              " array([ 5.13000e+04,  9.14410e+06,  5.11000e+04,  5.14000e+04,\n",
              "         5.04000e+04,  1.00000e+03, -6.23071e+05]),\n",
              " array([ 5.0600000e+04,  1.3590016e+07,  5.1800000e+04,  5.1800000e+04,\n",
              "         5.0500000e+04,  1.3000000e+03, -1.4213087e+07]),\n",
              " array([ 4.9650000e+04,  1.6951706e+07,  5.0200000e+04,  5.0400000e+04,\n",
              "         4.9600000e+04,  1.0000000e+03, -3.1164793e+07])]"
            ]
          },
          "metadata": {
            "tags": []
          },
          "execution_count": 23
        }
      ]
    },
    {
      "cell_type": "code",
      "metadata": {
        "id": "39FumUFfaekb",
        "colab_type": "code",
        "colab": {
          "base_uri": "https://localhost:8080/",
          "height": 34
        },
        "outputId": "28217c90-5b21-4759-af0c-920a5deb6ee7"
      },
      "source": [
        "np.asarray(data_n_L).shape"
      ],
      "execution_count": null,
      "outputs": [
        {
          "output_type": "execute_result",
          "data": {
            "text/plain": [
              "(507, 5, 7)"
            ]
          },
          "metadata": {
            "tags": []
          },
          "execution_count": 24
        }
      ]
    },
    {
      "cell_type": "code",
      "metadata": {
        "id": "MkgjKj9tSq0J",
        "colab_type": "code",
        "colab": {
          "base_uri": "https://localhost:8080/",
          "height": 34
        },
        "outputId": "95fe30a0-42e3-497e-a06a-50106aa467e1"
      },
      "source": [
        "len(data_n_L) # 이후 총 507개 데이터 중에서 0~399는 훈련, 400~499는 validation 500~은 test로 활용하려고 한다."
      ],
      "execution_count": null,
      "outputs": [
        {
          "output_type": "execute_result",
          "data": {
            "text/plain": [
              "507"
            ]
          },
          "metadata": {
            "tags": []
          },
          "execution_count": 25
        }
      ]
    },
    {
      "cell_type": "code",
      "metadata": {
        "id": "S7yg3uGysLYJ",
        "colab_type": "code",
        "colab": {}
      },
      "source": [
        "data_n_d = data.loc[:, [\"dif\"]]"
      ],
      "execution_count": null,
      "outputs": []
    },
    {
      "cell_type": "code",
      "metadata": {
        "id": "mDTdEf4m0gjJ",
        "colab_type": "code",
        "colab": {
          "base_uri": "https://localhost:8080/",
          "height": 34
        },
        "outputId": "9a2b6fac-0e17-41fb-e8ae-10345b665798"
      },
      "source": [
        "len(data_n_d)"
      ],
      "execution_count": null,
      "outputs": [
        {
          "output_type": "execute_result",
          "data": {
            "text/plain": [
              "511"
            ]
          },
          "metadata": {
            "tags": []
          },
          "execution_count": 27
        }
      ]
    },
    {
      "cell_type": "code",
      "metadata": {
        "id": "UJWhl02mYmp_",
        "colab_type": "code",
        "colab": {
          "base_uri": "https://localhost:8080/",
          "height": 265
        },
        "outputId": "beee0715-84bc-4205-9dd4-1959ef930505"
      },
      "source": [
        "import matplotlib.pyplot as plt\n",
        "\n",
        "plt.rcParams[\"figure.figsize\"] = (14,4)\n",
        "\n",
        "plt.plot(data_n_d, 'r')\n",
        "plt.show()"
      ],
      "execution_count": null,
      "outputs": [
        {
          "output_type": "display_data",
          "data": {
            "image/png": "[encoded data removed]",
            "text/plain": [
              "<Figure size 1008x288 with 1 Axes>"
            ]
          },
          "metadata": {
            "tags": [],
            "needs_background": "light"
          }
        }
      ]
    },
    {
      "cell_type": "code",
      "metadata": {
        "id": "a1cg5Qm8gbgM",
        "colab_type": "code",
        "colab": {
          "base_uri": "https://localhost:8080/",
          "height": 52
        },
        "outputId": "5cb803e5-de66-48f6-cfa1-914934d667bb"
      },
      "source": [
        "np.std(data_n_d[400:]) #400번이후의 표준편차가 더 크다"
      ],
      "execution_count": null,
      "outputs": [
        {
          "output_type": "execute_result",
          "data": {
            "text/plain": [
              "dif    1257.926576\n",
              "dtype: float64"
            ]
          },
          "metadata": {
            "tags": []
          },
          "execution_count": 28
        }
      ]
    },
    {
      "cell_type": "code",
      "metadata": {
        "id": "rus2Y3xb7RVW",
        "colab_type": "code",
        "colab": {
          "base_uri": "https://localhost:8080/",
          "height": 225
        },
        "outputId": "a687e9ea-2ec8-467e-ec7d-5387ee0ed3f0"
      },
      "source": [
        "data_n_d.head(6)"
      ],
      "execution_count": null,
      "outputs": [
        {
          "output_type": "execute_result",
          "data": {
            "text/html": [
              "<div>\n",
              "<style scoped>\n",
              "    .dataframe tbody tr th:only-of-type {\n",
              "        vertical-align: middle;\n",
              "    }\n",
              "\n",
              "    .dataframe tbody tr th {\n",
              "        vertical-align: top;\n",
              "    }\n",
              "\n",
              "    .dataframe thead th {\n",
              "        text-align: right;\n",
              "    }\n",
              "</style>\n",
              "<table border=\"1\" class=\"dataframe\">\n",
              "  <thead>\n",
              "    <tr style=\"text-align: right;\">\n",
              "      <th></th>\n",
              "      <th>dif</th>\n",
              "    </tr>\n",
              "  </thead>\n",
              "  <tbody>\n",
              "    <tr>\n",
              "      <th>0</th>\n",
              "      <td>600.0</td>\n",
              "    </tr>\n",
              "    <tr>\n",
              "      <th>1</th>\n",
              "      <td>-200.0</td>\n",
              "    </tr>\n",
              "    <tr>\n",
              "      <th>2</th>\n",
              "      <td>200.0</td>\n",
              "    </tr>\n",
              "    <tr>\n",
              "      <th>3</th>\n",
              "      <td>-700.0</td>\n",
              "    </tr>\n",
              "    <tr>\n",
              "      <th>4</th>\n",
              "      <td>-950.0</td>\n",
              "    </tr>\n",
              "    <tr>\n",
              "      <th>5</th>\n",
              "      <td>250.0</td>\n",
              "    </tr>\n",
              "  </tbody>\n",
              "</table>\n",
              "</div>"
            ],
            "text/plain": [
              "     dif\n",
              "0  600.0\n",
              "1 -200.0\n",
              "2  200.0\n",
              "3 -700.0\n",
              "4 -950.0\n",
              "5  250.0"
            ]
          },
          "metadata": {
            "tags": []
          },
          "execution_count": 29
        }
      ]
    },
    {
      "cell_type": "code",
      "metadata": {
        "id": "2dc0pcXhsPqy",
        "colab_type": "code",
        "colab": {}
      },
      "source": [
        "data_n_d_L = data_n_d[5:] # 5일 전 데이타가 x 이고 이를 가지고 익일 y를 추정하는 것이라 하루 지난 값이 y가 된다."
      ],
      "execution_count": null,
      "outputs": []
    },
    {
      "cell_type": "code",
      "metadata": {
        "id": "McRqL5z2J6ox",
        "colab_type": "code",
        "colab": {}
      },
      "source": [
        "data_n_d_L = np.asarray(data_n_d_L, dtype=float)"
      ],
      "execution_count": null,
      "outputs": []
    },
    {
      "cell_type": "code",
      "metadata": {
        "id": "J63XeQAYIysC",
        "colab_type": "code",
        "colab": {
          "base_uri": "https://localhost:8080/",
          "height": 210
        },
        "outputId": "862d0e83-29b7-44a4-8562-2cfa8d3a787a"
      },
      "source": [
        "[data_n_L[0], data_n_d_L[0]]"
      ],
      "execution_count": null,
      "outputs": [
        {
          "output_type": "execute_result",
          "data": {
            "text/plain": [
              "[[array([5.1300000e+04, 1.3038499e+07, 5.0500000e+04, 5.1700000e+04,\n",
              "         4.9950000e+04, 1.7500000e+03, 0.0000000e+00]),\n",
              "  array([ 5.110000e+04,  9.767171e+06,  5.080000e+04,  5.120000e+04,\n",
              "          5.070000e+04,  6.000000e+02, -9.767171e+06]),\n",
              "  array([ 5.13000e+04,  9.14410e+06,  5.11000e+04,  5.14000e+04,\n",
              "          5.04000e+04,  1.00000e+03, -6.23071e+05]),\n",
              "  array([ 5.0600000e+04,  1.3590016e+07,  5.1800000e+04,  5.1800000e+04,\n",
              "          5.0500000e+04,  1.3000000e+03, -1.4213087e+07]),\n",
              "  array([ 4.9650000e+04,  1.6951706e+07,  5.0200000e+04,  5.0400000e+04,\n",
              "          4.9600000e+04,  1.0000000e+03, -3.1164793e+07])],\n",
              " array([250.])]"
            ]
          },
          "metadata": {
            "tags": []
          },
          "execution_count": 32
        }
      ]
    },
    {
      "cell_type": "code",
      "metadata": {
        "id": "MigJBoEsslqh",
        "colab_type": "code",
        "colab": {
          "base_uri": "https://localhost:8080/",
          "height": 34
        },
        "outputId": "9351a58e-94d8-4db7-9f23-850b3fd8481e"
      },
      "source": [
        "len(data_n_d_L) # y가 익일 데이터이므로 전체 자료수는 x보다 한개 작다. 총 데이터가 511인데 511-5는 506개이다."
      ],
      "execution_count": null,
      "outputs": [
        {
          "output_type": "execute_result",
          "data": {
            "text/plain": [
              "506"
            ]
          },
          "metadata": {
            "tags": []
          },
          "execution_count": 33
        }
      ]
    },
    {
      "cell_type": "code",
      "metadata": {
        "id": "odAutkAIs4pB",
        "colab_type": "code",
        "colab": {}
      },
      "source": [
        "x_train_L5 = data_n_L[0:400]\n",
        "x_val_L5 = data_n_L[400:500]\n",
        "x_test_L5 = data_n_L[500:]\n",
        "y_train_L5= data_n_d_L[0:400]\n",
        "y_val_L5 = data_n_d_L[400:500]"
      ],
      "execution_count": null,
      "outputs": []
    },
    {
      "cell_type": "code",
      "metadata": {
        "id": "l5mCdbYj2vjP",
        "colab_type": "code",
        "colab": {
          "base_uri": "https://localhost:8080/",
          "height": 34
        },
        "outputId": "a8c7ccf5-c818-4676-b339-fa0d3f832066"
      },
      "source": [
        "print(len(x_train_L5), len(x_val_L5), len(x_test_L5))"
      ],
      "execution_count": null,
      "outputs": [
        {
          "output_type": "stream",
          "text": [
            "400 100 7\n"
          ],
          "name": "stdout"
        }
      ]
    },
    {
      "cell_type": "code",
      "metadata": {
        "id": "mmfWh0NRNvEs",
        "colab_type": "code",
        "colab": {
          "base_uri": "https://localhost:8080/",
          "height": 52
        },
        "outputId": "97383681-c8d0-49f5-b9d5-9be055b7cc84"
      },
      "source": [
        "print(y_val_L5[0], x_val_L5[0][4]) "
      ],
      "execution_count": null,
      "outputs": [
        {
          "output_type": "stream",
          "text": [
            "[300.] [5.8800000e+04 2.3664541e+07 5.9400000e+04 5.9400000e+04 5.8300000e+04\n",
            " 2.5000000e+03 9.5160040e+06]\n"
          ],
          "name": "stdout"
        }
      ]
    },
    {
      "cell_type": "code",
      "metadata": {
        "id": "gCnOHFAfM0Ha",
        "colab_type": "code",
        "colab": {
          "base_uri": "https://localhost:8080/",
          "height": 343
        },
        "outputId": "546c1a20-afb0-427a-c1da-de650366ef26"
      },
      "source": [
        "data[400:410] # y_val_L5는 20년 1월29일부터 시작하고, 전날의 종가는 58800원이다"
      ],
      "execution_count": null,
      "outputs": [
        {
          "output_type": "execute_result",
          "data": {
            "text/html": [
              "<div>\n",
              "<style scoped>\n",
              "    .dataframe tbody tr th:only-of-type {\n",
              "        vertical-align: middle;\n",
              "    }\n",
              "\n",
              "    .dataframe tbody tr th {\n",
              "        vertical-align: top;\n",
              "    }\n",
              "\n",
              "    .dataframe thead th {\n",
              "        text-align: right;\n",
              "    }\n",
              "</style>\n",
              "<table border=\"1\" class=\"dataframe\">\n",
              "  <thead>\n",
              "    <tr style=\"text-align: right;\">\n",
              "      <th></th>\n",
              "      <th>Unnamed: 0</th>\n",
              "      <th>Unnamed: 0.1</th>\n",
              "      <th>Unnamed: 0.1.1</th>\n",
              "      <th>day</th>\n",
              "      <th>close</th>\n",
              "      <th>dif</th>\n",
              "      <th>volume</th>\n",
              "      <th>start</th>\n",
              "      <th>high</th>\n",
              "      <th>low</th>\n",
              "    </tr>\n",
              "  </thead>\n",
              "  <tbody>\n",
              "    <tr>\n",
              "      <th>400</th>\n",
              "      <td>400</td>\n",
              "      <td>400</td>\n",
              "      <td>110</td>\n",
              "      <td>2020-01-20 00:00:00</td>\n",
              "      <td>62400.0</td>\n",
              "      <td>1100.0</td>\n",
              "      <td>12528855.0</td>\n",
              "      <td>62000.0</td>\n",
              "      <td>62800.0</td>\n",
              "      <td>61700.0</td>\n",
              "    </tr>\n",
              "    <tr>\n",
              "      <th>401</th>\n",
              "      <td>401</td>\n",
              "      <td>401</td>\n",
              "      <td>109</td>\n",
              "      <td>2020-01-21 00:00:00</td>\n",
              "      <td>61400.0</td>\n",
              "      <td>-1000.0</td>\n",
              "      <td>11142693.0</td>\n",
              "      <td>62000.0</td>\n",
              "      <td>62400.0</td>\n",
              "      <td>61200.0</td>\n",
              "    </tr>\n",
              "    <tr>\n",
              "      <th>402</th>\n",
              "      <td>402</td>\n",
              "      <td>402</td>\n",
              "      <td>108</td>\n",
              "      <td>2020-01-22 00:00:00</td>\n",
              "      <td>62300.0</td>\n",
              "      <td>900.0</td>\n",
              "      <td>15339565.0</td>\n",
              "      <td>60500.0</td>\n",
              "      <td>62600.0</td>\n",
              "      <td>60400.0</td>\n",
              "    </tr>\n",
              "    <tr>\n",
              "      <th>403</th>\n",
              "      <td>403</td>\n",
              "      <td>403</td>\n",
              "      <td>107</td>\n",
              "      <td>2020-01-23 00:00:00</td>\n",
              "      <td>60800.0</td>\n",
              "      <td>-1500.0</td>\n",
              "      <td>14916555.0</td>\n",
              "      <td>61800.0</td>\n",
              "      <td>61800.0</td>\n",
              "      <td>60700.0</td>\n",
              "    </tr>\n",
              "    <tr>\n",
              "      <th>404</th>\n",
              "      <td>404</td>\n",
              "      <td>404</td>\n",
              "      <td>106</td>\n",
              "      <td>2020-01-28 00:00:00</td>\n",
              "      <td>58800.0</td>\n",
              "      <td>-2000.0</td>\n",
              "      <td>23664541.0</td>\n",
              "      <td>59400.0</td>\n",
              "      <td>59400.0</td>\n",
              "      <td>58300.0</td>\n",
              "    </tr>\n",
              "    <tr>\n",
              "      <th>405</th>\n",
              "      <td>405</td>\n",
              "      <td>405</td>\n",
              "      <td>105</td>\n",
              "      <td>2020-01-29 00:00:00</td>\n",
              "      <td>59100.0</td>\n",
              "      <td>300.0</td>\n",
              "      <td>16446102.0</td>\n",
              "      <td>59100.0</td>\n",
              "      <td>59700.0</td>\n",
              "      <td>58800.0</td>\n",
              "    </tr>\n",
              "    <tr>\n",
              "      <th>406</th>\n",
              "      <td>406</td>\n",
              "      <td>406</td>\n",
              "      <td>104</td>\n",
              "      <td>2020-01-30 00:00:00</td>\n",
              "      <td>57200.0</td>\n",
              "      <td>-1900.0</td>\n",
              "      <td>20821939.0</td>\n",
              "      <td>58800.0</td>\n",
              "      <td>58800.0</td>\n",
              "      <td>56800.0</td>\n",
              "    </tr>\n",
              "    <tr>\n",
              "      <th>407</th>\n",
              "      <td>407</td>\n",
              "      <td>407</td>\n",
              "      <td>103</td>\n",
              "      <td>2020-01-31 00:00:00</td>\n",
              "      <td>56400.0</td>\n",
              "      <td>-800.0</td>\n",
              "      <td>19749457.0</td>\n",
              "      <td>57800.0</td>\n",
              "      <td>58400.0</td>\n",
              "      <td>56400.0</td>\n",
              "    </tr>\n",
              "    <tr>\n",
              "      <th>408</th>\n",
              "      <td>408</td>\n",
              "      <td>408</td>\n",
              "      <td>102</td>\n",
              "      <td>2020-02-03 00:00:00</td>\n",
              "      <td>57200.0</td>\n",
              "      <td>800.0</td>\n",
              "      <td>23995260.0</td>\n",
              "      <td>55500.0</td>\n",
              "      <td>57400.0</td>\n",
              "      <td>55200.0</td>\n",
              "    </tr>\n",
              "    <tr>\n",
              "      <th>409</th>\n",
              "      <td>409</td>\n",
              "      <td>409</td>\n",
              "      <td>101</td>\n",
              "      <td>2020-02-04 00:00:00</td>\n",
              "      <td>58900.0</td>\n",
              "      <td>1700.0</td>\n",
              "      <td>21800192.0</td>\n",
              "      <td>57100.0</td>\n",
              "      <td>59000.0</td>\n",
              "      <td>56800.0</td>\n",
              "    </tr>\n",
              "  </tbody>\n",
              "</table>\n",
              "</div>"
            ],
            "text/plain": [
              "     Unnamed: 0  Unnamed: 0.1  Unnamed: 0.1.1  ...    start     high      low\n",
              "400         400           400             110  ...  62000.0  62800.0  61700.0\n",
              "401         401           401             109  ...  62000.0  62400.0  61200.0\n",
              "402         402           402             108  ...  60500.0  62600.0  60400.0\n",
              "403         403           403             107  ...  61800.0  61800.0  60700.0\n",
              "404         404           404             106  ...  59400.0  59400.0  58300.0\n",
              "405         405           405             105  ...  59100.0  59700.0  58800.0\n",
              "406         406           406             104  ...  58800.0  58800.0  56800.0\n",
              "407         407           407             103  ...  57800.0  58400.0  56400.0\n",
              "408         408           408             102  ...  55500.0  57400.0  55200.0\n",
              "409         409           409             101  ...  57100.0  59000.0  56800.0\n",
              "\n",
              "[10 rows x 10 columns]"
            ]
          },
          "metadata": {
            "tags": []
          },
          "execution_count": 37
        }
      ]
    },
    {
      "cell_type": "markdown",
      "metadata": {
        "id": "HC1MLsiMVamk",
        "colab_type": "text"
      },
      "source": [
        "정규화를 한다."
      ]
    },
    {
      "cell_type": "code",
      "metadata": {
        "id": "jyBVIIBreVcz",
        "colab_type": "code",
        "colab": {}
      },
      "source": [
        "mean_L5 = np.mean(x_train_L5, axis=0)\n",
        "std_L5 = np.std(x_train_L5, axis=0)\n",
        "\n",
        "x_train_L5_r = (x_train_L5 - mean_L5)/std_L5\n",
        "x_val_L5_r = (x_val_L5 - mean_L5)/std_L5\n",
        "x_test_L5_r = (x_test_L5 - mean_L5)/std_L5"
      ],
      "execution_count": null,
      "outputs": []
    },
    {
      "cell_type": "code",
      "metadata": {
        "id": "0WH9HmKtcLyj",
        "colab_type": "code",
        "colab": {
          "base_uri": "https://localhost:8080/",
          "height": 34
        },
        "outputId": "0ee9bd76-cb8e-4d5e-91bf-577e550f8296"
      },
      "source": [
        "#import numpy as np\n",
        "\n",
        "import keras\n",
        "from keras.layers import LSTM, Dense, Input, Dropout, Conv2D, Conv1D, GlobalMaxPooling2D, MaxPooling2D,  MaxPooling1D, Flatten\n",
        "from keras import Model\n",
        "#from keras.models import Sequential\n",
        "#from keras import layers\n",
        "from keras import Input\n",
        "import tensorflow as tf\n",
        "from keras.callbacks import ModelCheckpoint, EarlyStopping"
      ],
      "execution_count": null,
      "outputs": [
        {
          "output_type": "stream",
          "text": [
            "Using TensorFlow backend.\n"
          ],
          "name": "stderr"
        }
      ]
    },
    {
      "cell_type": "code",
      "metadata": {
        "id": "r_4OqS5vLd77",
        "colab_type": "code",
        "colab": {
          "base_uri": "https://localhost:8080/",
          "height": 52
        },
        "outputId": "29b79dd6-b832-4eac-97f3-e81f8727a069"
      },
      "source": [
        "print(keras.__version__)\n",
        "print(tf.__version__)"
      ],
      "execution_count": null,
      "outputs": [
        {
          "output_type": "stream",
          "text": [
            "2.3.1\n",
            "2.2.0\n"
          ],
          "name": "stdout"
        }
      ]
    },
    {
      "cell_type": "code",
      "metadata": {
        "id": "EVupcQTMtejO",
        "colab_type": "code",
        "colab": {
          "base_uri": "https://localhost:8080/",
          "height": 404
        },
        "outputId": "565937bf-5f2e-4ce4-a823-9305d5f78990"
      },
      "source": [
        "# 아래의 LSTM은 5개의 time step이 입력되고 이에 대해서 한개의 dif가 대응되는 many-to-one이다. return_sequence=False이다.\n",
        "# 만약 many-to-many로 진행될 경우, dif가 여러개 dif가 대응된다. 이경우 return_sequence=True이다. \n",
        "\n",
        "input2 = Input(shape=(5,7))\n",
        "dense2 = LSTM(128, return_sequences=False)(input2)\n",
        "dense2 = Dense(128)(dense2)\n",
        "dense2 = Dense(64)(dense2)\n",
        "dense2 = Dropout(0.5)(dense2)\n",
        "dense2 = Dense(32)(dense2)\n",
        "output2 = Dense(1)(dense2)\n",
        "\n",
        "model = Model(inputs= input2, outputs=output2)\n",
        "model.summary() # LSTM은 (5*128 + 128*128 + 128)을 가진 4개 게이트를 가지므로 68608개 파라미터를 가진다."
      ],
      "execution_count": null,
      "outputs": [
        {
          "output_type": "stream",
          "text": [
            "Model: \"model_1\"\n",
            "_________________________________________________________________\n",
            "Layer (type)                 Output Shape              Param #   \n",
            "=================================================================\n",
            "input_1 (InputLayer)         (None, 5, 7)              0         \n",
            "_________________________________________________________________\n",
            "lstm_1 (LSTM)                (None, 128)               69632     \n",
            "_________________________________________________________________\n",
            "dense_1 (Dense)              (None, 128)               16512     \n",
            "_________________________________________________________________\n",
            "dense_2 (Dense)              (None, 64)                8256      \n",
            "_________________________________________________________________\n",
            "dropout_1 (Dropout)          (None, 64)                0         \n",
            "_________________________________________________________________\n",
            "dense_3 (Dense)              (None, 32)                2080      \n",
            "_________________________________________________________________\n",
            "dense_4 (Dense)              (None, 1)                 33        \n",
            "=================================================================\n",
            "Total params: 96,513\n",
            "Trainable params: 96,513\n",
            "Non-trainable params: 0\n",
            "_________________________________________________________________\n"
          ],
          "name": "stdout"
        }
      ]
    },
    {
      "cell_type": "code",
      "metadata": {
        "id": "bAMutg0LutrQ",
        "colab_type": "code",
        "colab": {}
      },
      "source": [
        "optimizer = tf.keras.optimizers.Adam(lr=0.001)\n"
      ],
      "execution_count": null,
      "outputs": []
    },
    {
      "cell_type": "code",
      "metadata": {
        "id": "NBDGzdZsmRwh",
        "colab_type": "code",
        "colab": {}
      },
      "source": [
        "model.compile(loss='mse', optimizer=optimizer, metrics=['mae'])"
      ],
      "execution_count": null,
      "outputs": []
    },
    {
      "cell_type": "markdown",
      "metadata": {
        "id": "6iNHYT0x09e-",
        "colab_type": "text"
      },
      "source": [
        "modelcheckpoint는 epoch 중에서 가장 좋은 웨이트를 저장하고, early stopping은 모니터 지표가 개선되지 않은면 epoch를 중단한다. "
      ]
    },
    {
      "cell_type": "code",
      "metadata": {
        "id": "S0dCg4VkglQS",
        "colab_type": "code",
        "colab": {}
      },
      "source": [
        "callback_list = ModelCheckpoint(filepath='my_model.h5', monitor='val_mae', save_best_only=True, save_weights_only=True, verbose=0)\n",
        "early_stopping = EarlyStopping(monitor='val_mae', patience=50)\n",
        "history = model.fit(x_train_L5_r, y_train_L5, validation_data = (x_val_L5_r, y_val_L5), epochs=200, verbose=0, callbacks=[callback_list, early_stopping])"
      ],
      "execution_count": null,
      "outputs": []
    },
    {
      "cell_type": "code",
      "metadata": {
        "id": "nw65foaWvGAU",
        "colab_type": "code",
        "colab": {
          "base_uri": "https://localhost:8080/",
          "height": 276
        },
        "outputId": "eb807850-c5a8-44f4-ad2e-bdb99ce3f866"
      },
      "source": [
        "import matplotlib.pyplot as plt\n",
        "\n",
        "plt.rcParams[\"figure.figsize\"] = (14,4)\n",
        "\n",
        "\n",
        "#plt.plot(history.history['loss'], 'b') \n",
        "plt.plot(history.history['val_loss'], 'r')\n",
        "plt.show()"
      ],
      "execution_count": null,
      "outputs": [
        {
          "output_type": "display_data",
          "data": {
            "image/png": "[encoded data removed]",
            "text/plain": [
              "<Figure size 1008x288 with 1 Axes>"
            ]
          },
          "metadata": {
            "tags": [],
            "needs_background": "light"
          }
        }
      ]
    },
    {
      "cell_type": "code",
      "metadata": {
        "id": "O3gB7i7jfXQy",
        "colab_type": "code",
        "colab": {
          "base_uri": "https://localhost:8080/",
          "height": 265
        },
        "outputId": "db76820a-792f-4b9c-85fb-44b6a3137865"
      },
      "source": [
        "#plt.plot(history.history['mae'], 'b') \n",
        "plt.plot(history.history['val_mae'], 'r')\n",
        "plt.show()"
      ],
      "execution_count": null,
      "outputs": [
        {
          "output_type": "display_data",
          "data": {
            "image/png": "[encoded data removed]",
            "text/plain": [
              "<Figure size 1008x288 with 1 Axes>"
            ]
          },
          "metadata": {
            "tags": [],
            "needs_background": "light"
          }
        }
      ]
    },
    {
      "cell_type": "code",
      "metadata": {
        "id": "6HDWndXLI9Jk",
        "colab_type": "code",
        "colab": {
          "base_uri": "https://localhost:8080/",
          "height": 34
        },
        "outputId": "75e1cffb-5433-4cc2-8da6-97f9c8413536"
      },
      "source": [
        "np.min(history.history['val_mae']) # validation set에서 최저 mae값"
      ],
      "execution_count": null,
      "outputs": [
        {
          "output_type": "execute_result",
          "data": {
            "text/plain": [
              "946.73388671875"
            ]
          },
          "metadata": {
            "tags": []
          },
          "execution_count": 49
        }
      ]
    },
    {
      "cell_type": "code",
      "metadata": {
        "id": "wqALwCHYezT7",
        "colab_type": "code",
        "colab": {
          "base_uri": "https://localhost:8080/",
          "height": 34
        },
        "outputId": "ca217dc8-a551-4446-a7fb-d6de3421af5b"
      },
      "source": [
        "history.history['val_mae'][-1]"
      ],
      "execution_count": null,
      "outputs": [
        {
          "output_type": "execute_result",
          "data": {
            "text/plain": [
              "1268.6666259765625"
            ]
          },
          "metadata": {
            "tags": []
          },
          "execution_count": 62
        }
      ]
    },
    {
      "cell_type": "code",
      "metadata": {
        "id": "Ll1wn3ITZALT",
        "colab_type": "code",
        "colab": {}
      },
      "source": [
        "model.save_weights(\"my_model.h5\") \n",
        "# 모델을 다시 저장하면 않될 수 도 있다. 최초에 한번 저장하고 난후, 그 다음부터는 callback과 fitting을 순차적으로 진행하면 자동으로 가충치는 LSTM에 저장된다. "
      ],
      "execution_count": null,
      "outputs": []
    },
    {
      "cell_type": "code",
      "metadata": {
        "id": "XKiMJcMKc1gM",
        "colab_type": "code",
        "colab": {}
      },
      "source": [
        "model.compile(loss='mse', optimizer=optimizer, metrics=['mae'])"
      ],
      "execution_count": null,
      "outputs": []
    },
    {
      "cell_type": "code",
      "metadata": {
        "id": "HW0_4E_UdEGD",
        "colab_type": "code",
        "colab": {}
      },
      "source": [
        "model.load_weights(\"my_model.h5\") # 저장된 weight를 기존 모델에 적용한다."
      ],
      "execution_count": null,
      "outputs": []
    },
    {
      "cell_type": "code",
      "metadata": {
        "id": "_Ln_OJ0pdW3L",
        "colab_type": "code",
        "colab": {
          "base_uri": "https://localhost:8080/",
          "height": 34
        },
        "outputId": "d3947a8f-1e47-4071-f57c-77a39aac774e"
      },
      "source": [
        "model.evaluate(x_val_L5_r, y_val_L5, verbose=0) # 이전에 가중치를 그대로 사용하려면 fit을 다시 하면 안되고 evaluate하여야 한다."
      ],
      "execution_count": null,
      "outputs": [
        {
          "output_type": "execute_result",
          "data": {
            "text/plain": [
              "[1735265.6575, 1015.9922485351562]"
            ]
          },
          "metadata": {
            "tags": []
          },
          "execution_count": 65
        }
      ]
    },
    {
      "cell_type": "code",
      "metadata": {
        "id": "hOx5mpyZ14qq",
        "colab_type": "code",
        "colab": {
          "base_uri": "https://localhost:8080/",
          "height": 52
        },
        "outputId": "bb78167d-4514-42ad-9a09-922a3953e201"
      },
      "source": [
        "import os\n",
        "print(os.getcwd())\n",
        "print(os.listdir())  # 현재 working인 content 아래에 my_model.h5가 저장되어 있다."
      ],
      "execution_count": null,
      "outputs": [
        {
          "output_type": "stream",
          "text": [
            "/content\n",
            "['.config', 'my_model.h5', 'sample_data']\n"
          ],
          "name": "stdout"
        }
      ]
    },
    {
      "cell_type": "code",
      "metadata": {
        "id": "tMsENMDGd87l",
        "colab_type": "code",
        "colab": {}
      },
      "source": [
        "predict_val = model.predict(x_val_L5_r)"
      ],
      "execution_count": null,
      "outputs": []
    },
    {
      "cell_type": "code",
      "metadata": {
        "id": "zBr_h5OAfEdx",
        "colab_type": "code",
        "colab": {
          "base_uri": "https://localhost:8080/",
          "height": 265
        },
        "outputId": "f222d416-ec29-44df-d796-53105d15ddc3"
      },
      "source": [
        "plt.plot(predict_val, 'r')\n",
        "plt.plot(y_val_L5, 'b')\n",
        "plt.show()"
      ],
      "execution_count": null,
      "outputs": [
        {
          "output_type": "display_data",
          "data": {
            "image/png": "[encoded data removed]",
            "text/plain": [
              "<Figure size 1008x288 with 1 Axes>"
            ]
          },
          "metadata": {
            "tags": [],
            "needs_background": "light"
          }
        }
      ]
    },
    {
      "cell_type": "code",
      "metadata": {
        "id": "2tJVlqhobF8R",
        "colab_type": "code",
        "colab": {
          "base_uri": "https://localhost:8080/",
          "height": 34
        },
        "outputId": "00271281-a077-4f94-8d58-10b2ace7eee5"
      },
      "source": [
        "len(predict_val)"
      ],
      "execution_count": null,
      "outputs": [
        {
          "output_type": "execute_result",
          "data": {
            "text/plain": [
              "100"
            ]
          },
          "metadata": {
            "tags": []
          },
          "execution_count": 73
        }
      ]
    },
    {
      "cell_type": "markdown",
      "metadata": {
        "id": "Zdb2zgJE50i5",
        "colab_type": "text"
      },
      "source": [
        "predict_price는 validation set에서 가격변동을 예측하고, validation set에서 시작하는 최초 가격에 계속 가격변동을 반영하는 방법이다. \n",
        "\n",
        "predict_price는 validation set에서 산출된 예상 가격변동을 매일 하루씩 발생하는 x 데이터에 반영하는 방법이다."
      ]
    },
    {
      "cell_type": "code",
      "metadata": {
        "id": "KHP1o0NffEn3",
        "colab_type": "code",
        "colab": {}
      },
      "source": [
        "p_val= 58800\n",
        "predict_price=[]\n",
        "\n",
        "for i in range(0, len(predict_val)):\n",
        "  p_val = p_val + predict_val[i]\n",
        "  predict_price.append(p_val)"
      ],
      "execution_count": null,
      "outputs": []
    },
    {
      "cell_type": "code",
      "metadata": {
        "id": "c_r_IP9o3q0v",
        "colab_type": "code",
        "colab": {}
      },
      "source": [
        "predict_price1=[]\n",
        "\n",
        "for i in range(0, len(predict_val)):\n",
        "  p_val = x_val_L5[i][0][0] + predict_val[i]\n",
        "  predict_price1.append(p_val)"
      ],
      "execution_count": null,
      "outputs": []
    },
    {
      "cell_type": "code",
      "metadata": {
        "id": "9JLaMMRSTEf8",
        "colab_type": "code",
        "colab": {}
      },
      "source": [
        "actual = np.asarray(data.loc[405:, 'close'], dtype=float)"
      ],
      "execution_count": null,
      "outputs": []
    },
    {
      "cell_type": "markdown",
      "metadata": {
        "id": "bOX75CmC6pPH",
        "colab_type": "text"
      },
      "source": [
        "사실, price_predict는 현실에서 의미가 없다. 왜냐하면 validation set을 가지고 가격폭을 산출한 것으로 이것은 미래 데이터를 가지고 가격변동을 예측한 것고 같기 때문이다. 이것은 넌센스이고 아무런 의미가 없다. \n",
        "price_predict1은 매일 다음날의 가격변동을 예측하는 방법이다.그리고 다음날 예상 가격변동 + 금일 종가를 계산해서 다음날 가격을 예측하는 것이다. 그림을 보면 예측치가 후행하는 것으로 나온다. 그러나 이렇게 후행하는 것으로 보이는 것도 착각이다. 가격이 뚜렸히 하락이나 상승 추세가 없이 보합세인 경우, 예측값과 실제 값은 규칙성없이 움직인다.  "
      ]
    },
    {
      "cell_type": "code",
      "metadata": {
        "id": "56doKGMtfE7Y",
        "colab_type": "code",
        "colab": {
          "base_uri": "https://localhost:8080/",
          "height": 265
        },
        "outputId": "9ca830da-3089-45e2-ba58-b58f459dc40b"
      },
      "source": [
        "plt.plot(predict_price, 'r')\n",
        "plt.plot(actual, 'b')\n",
        "plt.plot(predict_price1, 'g')\n",
        "plt.show()"
      ],
      "execution_count": null,
      "outputs": [
        {
          "output_type": "display_data",
          "data": {
            "image/png": "[encoded data removed]",
            "text/plain": [
              "<Figure size 1008x288 with 1 Axes>"
            ]
          },
          "metadata": {
            "tags": [],
            "needs_background": "light"
          }
        }
      ]
    },
    {
      "cell_type": "markdown",
      "metadata": {
        "id": "QS4gGbz_CrXj",
        "colab_type": "text"
      },
      "source": [
        "이제 test_set에 적용해 본다"
      ]
    },
    {
      "cell_type": "code",
      "metadata": {
        "id": "iPl0CRssC2om",
        "colab_type": "code",
        "colab": {
          "base_uri": "https://localhost:8080/",
          "height": 34
        },
        "outputId": "409512a6-0423-49b6-f190-dab8c640c9e4"
      },
      "source": [
        "len(x_test_L5_r)"
      ],
      "execution_count": null,
      "outputs": [
        {
          "output_type": "execute_result",
          "data": {
            "text/plain": [
              "7"
            ]
          },
          "metadata": {
            "tags": []
          },
          "execution_count": 129
        }
      ]
    },
    {
      "cell_type": "code",
      "metadata": {
        "id": "HfAvAvT1CqYu",
        "colab_type": "code",
        "colab": {}
      },
      "source": [
        "predict_test = model.predict(x_test_L5_r)"
      ],
      "execution_count": null,
      "outputs": []
    },
    {
      "cell_type": "code",
      "metadata": {
        "id": "YKUABj8VDK0s",
        "colab_type": "code",
        "colab": {
          "base_uri": "https://localhost:8080/",
          "height": 140
        },
        "outputId": "f5e39129-3238-4402-bd68-beb0b91b9dc2"
      },
      "source": [
        "print(predict_test, np.sum(predict_test))"
      ],
      "execution_count": null,
      "outputs": [
        {
          "output_type": "stream",
          "text": [
            "[[ 121.781136]\n",
            " [-186.83049 ]\n",
            " [ 871.3791  ]\n",
            " [-430.7954  ]\n",
            " [-631.23615 ]\n",
            " [-188.73732 ]\n",
            " [  -7.381324]] -451.82047\n"
          ],
          "name": "stdout"
        }
      ]
    },
    {
      "cell_type": "code",
      "metadata": {
        "id": "xIKNU97YD99L",
        "colab_type": "code",
        "colab": {
          "base_uri": "https://localhost:8080/",
          "height": 34
        },
        "outputId": "18202cd4-9a4f-43df-ef35-30c362a8f687"
      },
      "source": [
        "actual_test=np.asarray(data.loc[504:510, 'dif'])\n",
        "\n",
        "print(np.sum(actual_test))"
      ],
      "execution_count": null,
      "outputs": [
        {
          "output_type": "stream",
          "text": [
            "-100.0\n"
          ],
          "name": "stdout"
        }
      ]
    },
    {
      "cell_type": "code",
      "metadata": {
        "id": "m2nI-ie6GuDZ",
        "colab_type": "code",
        "colab": {
          "base_uri": "https://localhost:8080/",
          "height": 265
        },
        "outputId": "e05d2f8d-220b-41ae-e601-649487a765d2"
      },
      "source": [
        "plt.plot(predict_test, 'r')\n",
        "plt.plot(actual_test, 'b')\n",
        "plt.show()"
      ],
      "execution_count": null,
      "outputs": [
        {
          "output_type": "display_data",
          "data": {
            "image/png": "[encoded data removed]",
            "text/plain": [
              "<Figure size 1008x288 with 1 Axes>"
            ]
          },
          "metadata": {
            "tags": [],
            "needs_background": "light"
          }
        }
      ]
    },
    {
      "cell_type": "markdown",
      "metadata": {
        "id": "I06hIamzADn2",
        "colab_type": "text"
      },
      "source": [
        "주가예측 관련...\n",
        "\n",
        "모델 LSTM, callback val_mae을 사용한다.\n",
        "기본 거래데이터(종가, 시가, 고가, 저가, 거래량 등) 이외에 가격변동성(TR), 거래랑(OBV)지표를 사용한다.\n",
        "\n",
        "결과 : validation set에서 추세는 일치시킬 수 있다. 그러나 이것은 튜닝과정에서 얻어지는 결과이며 예측력이라고는 할 수 없다.\n",
        "\n",
        "그러면 validation set에서 최적모델이 test set에서는 예측력을 가질 수 있을까?\n",
        "아직 그럴꺼 갖지 않다. \n",
        "가장 근본적인 문제는 주가의 경우 매일 새로운 데이터가 생성되고 이를 기반으로 내일 발생할 가격변동을 예측한다고 하더라도 그 예측이 얼마나 정확한 것인지 부정확한 것인지 알 수 가 없다는 것이다. \n",
        "\n"
      ]
    },
    {
      "cell_type": "code",
      "metadata": {
        "id": "u1BcRMvrZ-tO",
        "colab_type": "code",
        "colab": {
          "base_uri": "https://localhost:8080/",
          "height": 52
        },
        "outputId": "6325ed7c-2bcb-4fcb-b9e9-3f4a8e71be45"
      },
      "source": [
        "import os\n",
        "print(os.getcwd())\n",
        "print(os.listdir())"
      ],
      "execution_count": null,
      "outputs": [
        {
          "output_type": "stream",
          "text": [
            "/content\n",
            "['.config', 'my_model.h5', 'sample_data']\n"
          ],
          "name": "stdout"
        }
      ]
    },
    {
      "cell_type": "code",
      "metadata": {
        "id": "6offezwxaOWo",
        "colab_type": "code",
        "colab": {
          "base_uri": "https://localhost:8080/",
          "height": 34
        },
        "outputId": "95156cdf-6d78-412c-c40e-376e3379ad15"
      },
      "source": [
        "!ls /content"
      ],
      "execution_count": null,
      "outputs": [
        {
          "output_type": "stream",
          "text": [
            "my_model.h5  sample_data\n"
          ],
          "name": "stdout"
        }
      ]
    },
    {
      "cell_type": "markdown",
      "metadata": {
        "id": "v8-ZqprYI_m8",
        "colab_type": "text"
      },
      "source": [
        "다음은 합성곱 신경망을 활용해서 Conv1D로 예측한 사례이다."
      ]
    },
    {
      "cell_type": "code",
      "metadata": {
        "id": "EJgXMYe0Gyw8",
        "colab_type": "code",
        "colab": {
          "base_uri": "https://localhost:8080/",
          "height": 439
        },
        "outputId": "adfb139c-e804-4e27-bb72-98078ae7ead7"
      },
      "source": [
        "input4 = Input(shape=(5,7))\n",
        "dense4 = Conv1D(32, 3, padding=\"same\", activation='relu')(input4)\n",
        "dense4 = MaxPooling1D(2)(dense4)\n",
        "dense4 = Conv1D(32, 3, padding='same', activation='relu')(dense4)\n",
        "dense4 = MaxPooling1D(2)(dense4)\n",
        "dense4 = Flatten()(dense4)\n",
        "dense4 = Dense(10, activation='relu')(dense4)\n",
        "output4 = Dense(1)(dense4)\n",
        "\n",
        "model4 = Model(inputs= input4, outputs=output4)\n",
        "\n",
        "model4.summary()"
      ],
      "execution_count": null,
      "outputs": [
        {
          "output_type": "stream",
          "text": [
            "Model: \"model_1\"\n",
            "_________________________________________________________________\n",
            "Layer (type)                 Output Shape              Param #   \n",
            "=================================================================\n",
            "input_2 (InputLayer)         (None, 5, 7)              0         \n",
            "_________________________________________________________________\n",
            "conv1d_2 (Conv1D)            (None, 5, 32)             704       \n",
            "_________________________________________________________________\n",
            "max_pooling1d_2 (MaxPooling1 (None, 2, 32)             0         \n",
            "_________________________________________________________________\n",
            "conv1d_3 (Conv1D)            (None, 2, 32)             3104      \n",
            "_________________________________________________________________\n",
            "max_pooling1d_3 (MaxPooling1 (None, 1, 32)             0         \n",
            "_________________________________________________________________\n",
            "flatten_1 (Flatten)          (None, 32)                0         \n",
            "_________________________________________________________________\n",
            "dense_1 (Dense)              (None, 10)                330       \n",
            "_________________________________________________________________\n",
            "dense_2 (Dense)              (None, 1)                 11        \n",
            "=================================================================\n",
            "Total params: 4,149\n",
            "Trainable params: 4,149\n",
            "Non-trainable params: 0\n",
            "_________________________________________________________________\n"
          ],
          "name": "stdout"
        }
      ]
    },
    {
      "cell_type": "code",
      "metadata": {
        "id": "wPseJxb3H07T",
        "colab_type": "code",
        "colab": {}
      },
      "source": [
        "optimizer = tf.keras.optimizers.Adam(lr=0.001)"
      ],
      "execution_count": null,
      "outputs": []
    },
    {
      "cell_type": "code",
      "metadata": {
        "id": "wi-Cfh7sH9is",
        "colab_type": "code",
        "colab": {}
      },
      "source": [
        "model4.compile(loss='mse', optimizer=optimizer, metrics=['mae'])"
      ],
      "execution_count": null,
      "outputs": []
    },
    {
      "cell_type": "code",
      "metadata": {
        "id": "Zn-W_Ce2IAg6",
        "colab_type": "code",
        "colab": {}
      },
      "source": [
        "callback_list = ModelCheckpoint(filepath='my_model.h5', monitor='val_mae', save_best_only=True, save_weights_only=True, verbose=0)\n",
        "early_stopping = EarlyStopping(monitor='val_mae', patience=50)\n",
        "history4 = model4.fit(x_train_L5_r, y_train_L5, validation_data = (x_val_L5_r, y_val_L5), epochs=200, verbose=0, callbacks=[callback_list, early_stopping])"
      ],
      "execution_count": null,
      "outputs": []
    },
    {
      "cell_type": "code",
      "metadata": {
        "id": "6AYmUPn8IcEp",
        "colab_type": "code",
        "colab": {
          "base_uri": "https://localhost:8080/",
          "height": 265
        },
        "outputId": "51ee2d84-0afa-4768-c9a8-04a5762cff41"
      },
      "source": [
        "plt.plot(history4.history['mae'], 'b')\n",
        "plt.plot(history4.history['val_mae'], 'r')\n",
        "plt.show()"
      ],
      "execution_count": null,
      "outputs": [
        {
          "output_type": "display_data",
          "data": {
            "image/png": "[encoded data removed]",
            "text/plain": [
              "<Figure size 1008x288 with 1 Axes>"
            ]
          },
          "metadata": {
            "tags": [],
            "needs_background": "light"
          }
        }
      ]
    },
    {
      "cell_type": "code",
      "metadata": {
        "id": "UtGzK8jvLjbV",
        "colab_type": "code",
        "colab": {}
      },
      "source": [
        "model4.load_weights(\"my_model.h5\")"
      ],
      "execution_count": null,
      "outputs": []
    },
    {
      "cell_type": "code",
      "metadata": {
        "id": "L5d51LsrKC-k",
        "colab_type": "code",
        "colab": {}
      },
      "source": [
        "predict_conv1 = model4.predict(x_val_L5_r)"
      ],
      "execution_count": null,
      "outputs": []
    },
    {
      "cell_type": "code",
      "metadata": {
        "id": "4QTMWjq9KMwC",
        "colab_type": "code",
        "colab": {
          "base_uri": "https://localhost:8080/",
          "height": 265
        },
        "outputId": "f0c6e2b1-765d-48d0-e4b8-d7eb10fc7ad6"
      },
      "source": [
        "plt.plot(predict_conv1, 'r')\n",
        "plt.plot(y_val_L5, 'b')\n",
        "plt.show()"
      ],
      "execution_count": null,
      "outputs": [
        {
          "output_type": "display_data",
          "data": {
            "image/png": "[encoded data removed]",
            "text/plain": [
              "<Figure size 1008x288 with 1 Axes>"
            ]
          },
          "metadata": {
            "tags": [],
            "needs_background": "light"
          }
        }
      ]
    },
    {
      "cell_type": "code",
      "metadata": {
        "id": "JXuzCUbq9rku",
        "colab_type": "code",
        "colab": {}
      },
      "source": [
        ""
      ],
      "execution_count": null,
      "outputs": []
    },
    {
      "cell_type": "markdown",
      "metadata": {
        "id": "OCm-xaDp9sHq",
        "colab_type": "text"
      },
      "source": [
        "LSTM CNN 앙상블 모델"
      ]
    },
    {
      "cell_type": "code",
      "metadata": {
        "id": "Wi6c52oF91gV",
        "colab_type": "code",
        "colab": {
          "base_uri": "https://localhost:8080/",
          "height": 774
        },
        "outputId": "8532bf7f-d2da-46a1-b50a-6f695166a440"
      },
      "source": [
        "# LSTM\n",
        "\n",
        "input2 = Input(shape=(5,7))\n",
        "dense2 = LSTM(128, return_sequences=False)(input2)\n",
        "dense2 = Dense(128)(dense2)\n",
        "dense2 = Dense(64)(dense2)\n",
        "dense2 = Dropout(0.5)(dense2)\n",
        "dense2 = Dense(32)(dense2)\n",
        "output2 = Dense(1)(dense2)\n",
        "\n",
        "\n",
        "# Convolution1D\n",
        "\n",
        "input4 = Input(shape=(5,7))\n",
        "dense4 = Conv1D(32, 3, padding=\"same\", activation='relu')(input4)\n",
        "dense4 = MaxPooling1D(2)(dense4)\n",
        "dense4 = Conv1D(32, 3, padding='same', activation='relu')(dense4)\n",
        "dense4 = MaxPooling1D(2)(dense4)\n",
        "dense4 = Flatten()(dense4)\n",
        "dense4 = Dense(10, activation='relu')(dense4)\n",
        "output4 = Dense(1)(dense4)\n",
        "\n",
        "from keras.layers.merge import concatenate\n",
        "\n",
        "merge = concatenate([output2, output4])\n",
        "output6 = Dense(1)(merge)\n",
        "\n",
        "model6 = Model(inputs =[input2, input4], outputs = output6)\n",
        "\n",
        "model6.summary()\n"
      ],
      "execution_count": null,
      "outputs": [
        {
          "output_type": "stream",
          "text": [
            "Model: \"model_2\"\n",
            "__________________________________________________________________________________________________\n",
            "Layer (type)                    Output Shape         Param #     Connected to                     \n",
            "==================================================================================================\n",
            "input_5 (InputLayer)            (None, 5, 7)         0                                            \n",
            "__________________________________________________________________________________________________\n",
            "input_4 (InputLayer)            (None, 5, 7)         0                                            \n",
            "__________________________________________________________________________________________________\n",
            "conv1d_3 (Conv1D)               (None, 5, 32)        704         input_5[0][0]                    \n",
            "__________________________________________________________________________________________________\n",
            "lstm_3 (LSTM)                   (None, 128)          69632       input_4[0][0]                    \n",
            "__________________________________________________________________________________________________\n",
            "max_pooling1d_3 (MaxPooling1D)  (None, 2, 32)        0           conv1d_3[0][0]                   \n",
            "__________________________________________________________________________________________________\n",
            "dense_11 (Dense)                (None, 128)          16512       lstm_3[0][0]                     \n",
            "__________________________________________________________________________________________________\n",
            "conv1d_4 (Conv1D)               (None, 2, 32)        3104        max_pooling1d_3[0][0]            \n",
            "__________________________________________________________________________________________________\n",
            "dense_12 (Dense)                (None, 64)           8256        dense_11[0][0]                   \n",
            "__________________________________________________________________________________________________\n",
            "max_pooling1d_4 (MaxPooling1D)  (None, 1, 32)        0           conv1d_4[0][0]                   \n",
            "__________________________________________________________________________________________________\n",
            "dropout_3 (Dropout)             (None, 64)           0           dense_12[0][0]                   \n",
            "__________________________________________________________________________________________________\n",
            "flatten_2 (Flatten)             (None, 32)           0           max_pooling1d_4[0][0]            \n",
            "__________________________________________________________________________________________________\n",
            "dense_13 (Dense)                (None, 32)           2080        dropout_3[0][0]                  \n",
            "__________________________________________________________________________________________________\n",
            "dense_15 (Dense)                (None, 10)           330         flatten_2[0][0]                  \n",
            "__________________________________________________________________________________________________\n",
            "dense_14 (Dense)                (None, 1)            33          dense_13[0][0]                   \n",
            "__________________________________________________________________________________________________\n",
            "dense_16 (Dense)                (None, 1)            11          dense_15[0][0]                   \n",
            "__________________________________________________________________________________________________\n",
            "concatenate_1 (Concatenate)     (None, 2)            0           dense_14[0][0]                   \n",
            "                                                                 dense_16[0][0]                   \n",
            "__________________________________________________________________________________________________\n",
            "dense_17 (Dense)                (None, 1)            3           concatenate_1[0][0]              \n",
            "==================================================================================================\n",
            "Total params: 100,665\n",
            "Trainable params: 100,665\n",
            "Non-trainable params: 0\n",
            "__________________________________________________________________________________________________\n"
          ],
          "name": "stdout"
        }
      ]
    },
    {
      "cell_type": "code",
      "metadata": {
        "id": "XzYdOGVUAKLC",
        "colab_type": "code",
        "colab": {}
      },
      "source": [
        "optimizer = tf.keras.optimizers.Adam(lr=0.001)"
      ],
      "execution_count": null,
      "outputs": []
    },
    {
      "cell_type": "code",
      "metadata": {
        "id": "ko2XBwZGARf3",
        "colab_type": "code",
        "colab": {}
      },
      "source": [
        "model6.compile(loss='mse', optimizer=optimizer, metrics=['mae'])"
      ],
      "execution_count": null,
      "outputs": []
    },
    {
      "cell_type": "code",
      "metadata": {
        "id": "kvXVWe4tAUDY",
        "colab_type": "code",
        "colab": {}
      },
      "source": [
        "callback_list = ModelCheckpoint(filepath='my_model.h5', monitor='val_mae', save_best_only=True, save_weights_only=True, verbose=0)\n",
        "early_stopping = EarlyStopping(monitor='val_mae', patience=50)\n",
        "history6 = model6.fit([x_train_L5_r, x_train_L5_r], y_train_L5, validation_data = ([x_val_L5_r,x_val_L5_r], y_val_L5), epochs=200, verbose=0, callbacks=[callback_list, early_stopping])"
      ],
      "execution_count": null,
      "outputs": []
    },
    {
      "cell_type": "code",
      "metadata": {
        "id": "ZdXc09tUBAM2",
        "colab_type": "code",
        "colab": {
          "base_uri": "https://localhost:8080/",
          "height": 265
        },
        "outputId": "341fb85d-26c8-4a0d-a042-10332131c2f0"
      },
      "source": [
        "#plt.plot(history6.history['mae'], 'b')\n",
        "plt.plot(history6.history['val_mae'], 'r')\n",
        "plt.show()"
      ],
      "execution_count": null,
      "outputs": [
        {
          "output_type": "display_data",
          "data": {
            "image/png": "[encoded data removed]",
            "text/plain": [
              "<Figure size 1008x288 with 1 Axes>"
            ]
          },
          "metadata": {
            "tags": [],
            "needs_background": "light"
          }
        }
      ]
    },
    {
      "cell_type": "code",
      "metadata": {
        "id": "kXTKxnrjBI5O",
        "colab_type": "code",
        "colab": {
          "base_uri": "https://localhost:8080/",
          "height": 34
        },
        "outputId": "a580ba92-06ae-478b-ecb9-32fa59f6b04b"
      },
      "source": [
        "np.min(history6.history['val_mae'])"
      ],
      "execution_count": null,
      "outputs": [
        {
          "output_type": "execute_result",
          "data": {
            "text/plain": [
              "947.0811767578125"
            ]
          },
          "metadata": {
            "tags": []
          },
          "execution_count": 50
        }
      ]
    },
    {
      "cell_type": "code",
      "metadata": {
        "id": "fIlz0FIpBpaq",
        "colab_type": "code",
        "colab": {}
      },
      "source": [
        "model6.load_weights(\"my_model.h5\")"
      ],
      "execution_count": null,
      "outputs": []
    },
    {
      "cell_type": "code",
      "metadata": {
        "id": "e24y4dwyBuJj",
        "colab_type": "code",
        "colab": {}
      },
      "source": [
        "predict_conv1_LSTM = model6.predict([x_val_L5_r,x_val_L5_r])"
      ],
      "execution_count": null,
      "outputs": []
    },
    {
      "cell_type": "code",
      "metadata": {
        "id": "FtOQ4J78B4nH",
        "colab_type": "code",
        "colab": {
          "base_uri": "https://localhost:8080/",
          "height": 269
        },
        "outputId": "d89f2a04-78b8-4123-c728-8e5a5d61e5c2"
      },
      "source": [
        "plt.plot(predict_conv1_LSTM, 'r')\n",
        "#plt.plot(y_val_L5, 'b')\n",
        "plt.show()"
      ],
      "execution_count": null,
      "outputs": [
        {
          "output_type": "display_data",
          "data": {
            "image/png": "[encoded data removed]",
            "text/plain": [
              "<Figure size 1008x288 with 1 Axes>"
            ]
          },
          "metadata": {
            "tags": [],
            "needs_background": "light"
          }
        }
      ]
    },
    {
      "cell_type": "code",
      "metadata": {
        "id": "sVDiuu9zCLww",
        "colab_type": "code",
        "colab": {
          "base_uri": "https://localhost:8080/",
          "height": 265
        },
        "outputId": "be36144b-c663-4267-db5d-5726fcd0b5f7"
      },
      "source": [
        "#plt.plot(predict_conv1_LSTM, 'r')\n",
        "plt.plot(y_val_L5, 'b')\n",
        "plt.show()"
      ],
      "execution_count": null,
      "outputs": [
        {
          "output_type": "display_data",
          "data": {
            "image/png": "[encoded data removed]",
            "text/plain": [
              "<Figure size 1008x288 with 1 Axes>"
            ]
          },
          "metadata": {
            "tags": [],
            "needs_background": "light"
          }
        }
      ]
    }
  ]
}