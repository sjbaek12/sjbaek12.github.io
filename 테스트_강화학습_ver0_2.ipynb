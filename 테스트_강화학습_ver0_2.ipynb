{
  "nbformat": 4,
  "nbformat_minor": 0,
  "metadata": {
    "colab": {
      "name": "테스트 강화학습_ver0.2",
      "provenance": [],
      "collapsed_sections": [],
      "authorship_tag": "ABX9TyP5yzAUX6uDQbjWcWTUY3o4",
      "include_colab_link": true
    },
    "kernelspec": {
      "name": "python3",
      "display_name": "Python 3"
    }
  },
  "cells": [
    {
      "cell_type": "markdown",
      "metadata": {
        "id": "view-in-github",
        "colab_type": "text"
      },
      "source": [
        "<a href=\"https://colab.research.google.com/github/sjbaek12/sjbaek12.github.io/blob/master/%ED%85%8C%EC%8A%A4%ED%8A%B8_%EA%B0%95%ED%99%94%ED%95%99%EC%8A%B5_ver0_2.ipynb\" target=\"_parent\"><img src=\"https://colab.research.google.com/assets/colab-badge.svg\" alt=\"Open In Colab\"/></a>"
      ]
    },
    {
      "cell_type": "markdown",
      "metadata": {
        "id": "PbNzyGr1xgti",
        "colab_type": "text"
      },
      "source": [
        "어떤 상태에서 특정한 액션을 취하면 리워드가 발생한다.\n",
        "정책신경망에서 어떤 상태일때 액선이 산출되고 그 산출로 인한 리워드가 최대가 되도록 정책신경망의 가중치를 조정한다. 그러면 리워드가 최대가 되는 액션을 산출하는 정책신경망이 될 것이다. \n",
        "\n",
        "loss함수는 리워드가 최대가 되는 액션을 산출했을 때, 마이너스 무한대가 되도록 조정하면 된다. "
      ]
    },
    {
      "cell_type": "code",
      "metadata": {
        "id": "uoNYrqyWxhgZ",
        "colab_type": "code",
        "colab": {}
      },
      "source": [
        "import numpy as np\n",
        "import matplotlib.pyplot as plt"
      ],
      "execution_count": 1,
      "outputs": []
    },
    {
      "cell_type": "code",
      "metadata": {
        "id": "rDPyv4nbyYRY",
        "colab_type": "code",
        "colab": {
          "base_uri": "https://localhost:8080/",
          "height": 265
        },
        "outputId": "bc6aa952-c863-47ca-b979-0d2e16ea7e3f"
      },
      "source": [
        "# 환경 모듈\n",
        "\n",
        "def env():\n",
        "  start_price = 3\n",
        "  pricej=[]\n",
        "  for i in range(100):\n",
        "    change = np.random.rand(1)*1.2\n",
        "    direction = np.random.choice(2, p=[0.5, 0.5])\n",
        "    if direction == 1:\n",
        "      if start_price - change[0] <= 0:\n",
        "         p = 1.0\n",
        "      else:\n",
        "         p = start_price - change[0]     \n",
        "    else: \n",
        "      p = start_price + change[0] \n",
        "    start_price = p\n",
        "    pricej.append(p)\n",
        "#  p_mean = np.mean(price)\n",
        "#  p_std = np.std(price)\n",
        "#  price = (price - p_mean)/p_std\n",
        "  \n",
        "  p_serise= []\n",
        "  for i in range(96):\n",
        "    serise = [pricej[i],pricej[i+1], pricej[i+2], pricej[i+3], pricej[i+4]]\n",
        "    serise = np.array(serise)\n",
        "    p_serise.append(serise)\n",
        "  p_serise= p_serise[0:100]\n",
        "  p_serise = np.array(p_serise)\n",
        "  p_serise_lstm = p_serise.reshape(96, 5, 1)  # p_serise의 길이는 46이다. LSTM을 사용할 때 데이터 input 형태\n",
        "  price_lstm = pricej[4:]\n",
        "  price_lstm = np.array(price_lstm)\n",
        "  return p_serise, p_serise_lstm, price_lstm \n",
        "\n",
        "p_serise, p_serise_lstm, price_lstm = env()\n",
        "plt.plot(price_lstm)\n",
        "plt.show()"
      ],
      "execution_count": 30,
      "outputs": [
        {
          "output_type": "display_data",
          "data": {
            "image/png": "[encoded data removed]",
            "text/plain": [
              "<Figure size 432x288 with 1 Axes>"
            ]
          },
          "metadata": {
            "tags": [],
            "needs_background": "light"
          }
        }
      ]
    },
    {
      "cell_type": "code",
      "metadata": {
        "id": "GxlziTCzn5mc",
        "colab_type": "code",
        "colab": {
          "base_uri": "https://localhost:8080/",
          "height": 34
        },
        "outputId": "7c1c6568-d64d-4082-fede-11a2322c9a1b"
      },
      "source": [
        "p_serise_lstm.shape"
      ],
      "execution_count": null,
      "outputs": [
        {
          "output_type": "execute_result",
          "data": {
            "text/plain": [
              "(46, 5, 1)"
            ]
          },
          "metadata": {
            "tags": []
          },
          "execution_count": 3
        }
      ]
    },
    {
      "cell_type": "code",
      "metadata": {
        "id": "1nwZBjdPg_zg",
        "colab_type": "code",
        "colab": {
          "base_uri": "https://localhost:8080/",
          "height": 34
        },
        "outputId": "f2bf3977-322a-4619-c5e5-0bc6ccc9e0c4"
      },
      "source": [
        "price_data = [p_serise_lstm[j] for j in range(5)] \n",
        "price_data = np.array(price_data)\n",
        "price_data.shape"
      ],
      "execution_count": null,
      "outputs": [
        {
          "output_type": "execute_result",
          "data": {
            "text/plain": [
              "(5, 5, 1)"
            ]
          },
          "metadata": {
            "tags": []
          },
          "execution_count": 4
        }
      ]
    },
    {
      "cell_type": "code",
      "metadata": {
        "id": "2WyzYpCB2j4F",
        "colab_type": "code",
        "colab": {
          "base_uri": "https://localhost:8080/",
          "height": 34
        },
        "outputId": "23fa2031-9c1f-4132-ffa7-21d412ca91e0"
      },
      "source": [
        "price_lstm[-1]"
      ],
      "execution_count": null,
      "outputs": [
        {
          "output_type": "execute_result",
          "data": {
            "text/plain": [
              "4.026364234027149"
            ]
          },
          "metadata": {
            "tags": []
          },
          "execution_count": 5
        }
      ]
    },
    {
      "cell_type": "markdown",
      "metadata": {
        "id": "FcJsmEuZ9v0M",
        "colab_type": "text"
      },
      "source": [
        "여기부터 정책신경망 이다."
      ]
    },
    {
      "cell_type": "code",
      "metadata": {
        "id": "BD4QALBQyNEe",
        "colab_type": "code",
        "colab": {}
      },
      "source": [
        "from tensorflow.keras.utils import to_categorical\n",
        "from tensorflow import keras\n",
        "import keras.layers as layers\n",
        "from keras.layers import LSTM, Dense, Dropout\n",
        "from keras.models import Model, Sequential\n",
        "from keras.optimizers import Adam, RMSprop\n",
        "from keras.initializers import glorot_uniform\n",
        "from keras.callbacks import ModelCheckpoint, EarlyStopping\n",
        "import keras.backend as K  # 케라스의 backend를 K. 형식으로 호출하는 것이고 여기서는 tensorflow이다.\n",
        "import tensorflow as tf"
      ],
      "execution_count": 6,
      "outputs": []
    },
    {
      "cell_type": "markdown",
      "metadata": {
        "id": "MsUS4UsPI4Hk",
        "colab_type": "text"
      },
      "source": [
        "y_true, y_pred는 매트릭스이다. 즉 [y1_true, y2_ture],  [y1_pred, y2_pred]가 한쌍의 샘플이 되고 이러한 샘플이 m개로 구성된 메트릭스로 이해하면된다.\n"
      ]
    },
    {
      "cell_type": "code",
      "metadata": {
        "id": "2PmlLEc0QoTa",
        "colab_type": "code",
        "colab": {}
      },
      "source": [
        "  # 이것은 예제의 오리지널 custom_loss 함수이다.\n",
        "\n",
        "  def custom_loss(y_true, y_pred):\n",
        "    log_lik = K.log(y_pred + 1e-10)*y_true\n",
        "    return K.mean(tf.tensordot(log_lik, adv, 0), keepdims=True)\n"
      ],
      "execution_count": 7,
      "outputs": []
    },
    {
      "cell_type": "code",
      "metadata": {
        "id": "BjNDs3rMEM_I",
        "colab_type": "code",
        "colab": {
          "base_uri": "https://localhost:8080/",
          "height": 70
        },
        "outputId": "ed793fed-5f0f-401c-aa66-d6716682dfb5"
      },
      "source": [
        " def custom_loss_test(y_true, y_pred):\n",
        "   log_lik = K.log(y_pred + 1e-10)*y_true\n",
        "   return log_lik \n",
        "\n",
        "y_pred = np.array([[0.5, 0.5],[0.1,0.1]])\n",
        "y_true = np.array([[1.0,0.0],[0.0, 1.0]])\n",
        "\n",
        "custom_loss_test(y_true, y_pred)"
      ],
      "execution_count": 8,
      "outputs": [
        {
          "output_type": "execute_result",
          "data": {
            "text/plain": [
              "<tf.Tensor: shape=(2, 2), dtype=float64, numpy=\n",
              "array([[-0.69314718, -0.        ],\n",
              "       [-0.        , -2.30258509]])>"
            ]
          },
          "metadata": {
            "tags": []
          },
          "execution_count": 8
        }
      ]
    },
    {
      "cell_type": "code",
      "metadata": {
        "id": "jfECDCOkEa6M",
        "colab_type": "code",
        "colab": {
          "base_uri": "https://localhost:8080/",
          "height": 34
        },
        "outputId": "0da74f3b-c9ed-48db-a414-476e0fa437c9"
      },
      "source": [
        " # 가장 적합한 손실함수의 하나이다\n",
        " \n",
        " def custom_loss_test1(y_true, y_pred):\n",
        "   log_lik = K.sum(K.log(y_pred + 1e-10)*y_true, axis=1)\n",
        "   return log_lik # 모든 샘플의 크로스엔트로피의 평균인데, n의 배수로 나누어준 값이 된다.\n",
        "\n",
        "\n",
        "y_pred = np.array([[0.5, 0.5],[0.1,0.1]])\n",
        "y_true = np.array([[1.0,0.0],[0.0, 1.0]])\n",
        "\n",
        "custom_loss_test1(y_true, y_pred)"
      ],
      "execution_count": 10,
      "outputs": [
        {
          "output_type": "execute_result",
          "data": {
            "text/plain": [
              "<tf.Tensor: shape=(2,), dtype=float64, numpy=array([-0.69314718, -2.30258509])>"
            ]
          },
          "metadata": {
            "tags": []
          },
          "execution_count": 10
        }
      ]
    },
    {
      "cell_type": "code",
      "metadata": {
        "id": "Bg1ahWsQQBue",
        "colab_type": "code",
        "colab": {
          "base_uri": "https://localhost:8080/",
          "height": 34
        },
        "outputId": "5b891d64-8d3e-487e-9afe-ff3e8df304a7"
      },
      "source": [
        "# 가장 적합한 형태는 custom_loss_test1 or 2인 것 같다. \n",
        "\n",
        "def custom_loss_test2(y_true, y_pred):\n",
        "  log_lik = K.log(y_pred + 1e-10)*y_true\n",
        "  return K.mean(K.sum(log_lik*m, axis=1)) # 모든 샘플의 크로스엔트로피의 평균인데, n의 배수로 나누어준 값이 된다.\n",
        "\n",
        "\n",
        "y_pred = np.array([[0.5, 0.5],[0.1,0.1]])\n",
        "y_true = np.array([[1.0,0.0],[0.0, 1.0]])\n",
        "m = np.array([-1.0]) \n",
        "\n",
        "custom_loss_test2(y_true, y_pred)"
      ],
      "execution_count": 11,
      "outputs": [
        {
          "output_type": "execute_result",
          "data": {
            "text/plain": [
              "<tf.Tensor: shape=(), dtype=float64, numpy=1.4978661361769956>"
            ]
          },
          "metadata": {
            "tags": []
          },
          "execution_count": 11
        }
      ]
    },
    {
      "cell_type": "markdown",
      "metadata": {
        "id": "UFGant1R5EBK",
        "colab_type": "text"
      },
      "source": [
        "custom loss함수는 위에서 끝나고 여기부터는 정책신경망에 대한 디자인이다."
      ]
    },
    {
      "cell_type": "code",
      "metadata": {
        "id": "sqfrHL4syNWQ",
        "colab_type": "code",
        "colab": {}
      },
      "source": [
        "# loss 함수가 test1, test2 모두 미분가능한 loss 함수로 적용가능하고 어떤 것이 좋은 것인지는 분석을 해야 한다.\n",
        "\n",
        "def get_policy_model(lr):\n",
        "  \n",
        "  adv = layers.Input(shape=[1])\n",
        "  inp_L = layers.Input(shape=(7,1))  # 타입스텝수 7개, 특성개수 1개\n",
        "  dense1 = LSTM(10)(inp_L)\n",
        "  dense1 = Dense(64)(dense1) \n",
        "  dense1 = Dropout(0.5)(dense1)\n",
        "  dense1 = Dense(64)(dense1)\n",
        "  output_s = layers.Dense(2, activation=\"sigmoid\",kernel_initializer=glorot_uniform(seed=42), use_bias=False, kernel_regularizer=keras.regularizers.l2(0.001), name=\"out\")(dense1)\n",
        "\n",
        "\n",
        "\n",
        "  model_train = Model(inputs=[inp_L, adv], outputs = output_s)\n",
        "  model_train.compile(loss=custom_loss_test1, optimizer=Adam(lr), metrics = ['mae'])\n",
        "  model_predict = Model(inputs=[inp_L], outputs=output_s)   # model_train.predict와 model_predict.predict의 결과는 완전히 일치한다. 다만 입력의 편의를 위해서 분리한다.\n",
        "  return model_train, model_predict "
      ],
      "execution_count": 12,
      "outputs": []
    },
    {
      "cell_type": "markdown",
      "metadata": {
        "id": "qpG6mlulP4I2",
        "colab_type": "text"
      },
      "source": [
        "여기까지가 custom_loss 함수에 대한 test를 진행한 부분이다."
      ]
    },
    {
      "cell_type": "code",
      "metadata": {
        "id": "sdiXiLhjyTSI",
        "colab_type": "code",
        "colab": {}
      },
      "source": [
        "model_train, model_predict = get_policy_model(0.01)"
      ],
      "execution_count": 13,
      "outputs": []
    },
    {
      "cell_type": "code",
      "metadata": {
        "id": "D_441GjMyNl1",
        "colab_type": "code",
        "colab": {
          "base_uri": "https://localhost:8080/",
          "height": 404
        },
        "outputId": "5be32ce7-9e9b-4eec-cdb2-32f1d876d579"
      },
      "source": [
        "model_train.summary()"
      ],
      "execution_count": 14,
      "outputs": [
        {
          "output_type": "stream",
          "text": [
            "Model: \"functional_1\"\n",
            "__________________________________________________________________________________________________\n",
            "Layer (type)                    Output Shape         Param #     Connected to                     \n",
            "==================================================================================================\n",
            "input_2 (InputLayer)            [(None, 7, 1)]       0                                            \n",
            "__________________________________________________________________________________________________\n",
            "lstm (LSTM)                     (None, 10)           480         input_2[0][0]                    \n",
            "__________________________________________________________________________________________________\n",
            "dense (Dense)                   (None, 64)           704         lstm[0][0]                       \n",
            "__________________________________________________________________________________________________\n",
            "dropout (Dropout)               (None, 64)           0           dense[0][0]                      \n",
            "__________________________________________________________________________________________________\n",
            "dense_1 (Dense)                 (None, 64)           4160        dropout[0][0]                    \n",
            "__________________________________________________________________________________________________\n",
            "input_1 (InputLayer)            [(None, 1)]          0                                            \n",
            "__________________________________________________________________________________________________\n",
            "out (Dense)                     (None, 2)            128         dense_1[0][0]                    \n",
            "==================================================================================================\n",
            "Total params: 5,472\n",
            "Trainable params: 5,472\n",
            "Non-trainable params: 0\n",
            "__________________________________________________________________________________________________\n"
          ],
          "name": "stdout"
        }
      ]
    },
    {
      "cell_type": "code",
      "metadata": {
        "id": "_y5jPMkeiOhu",
        "colab_type": "code",
        "colab": {
          "base_uri": "https://localhost:8080/",
          "height": 369
        },
        "outputId": "1061954a-de5a-4692-e60a-f05d8c030111"
      },
      "source": [
        "model_predict.summary()"
      ],
      "execution_count": 15,
      "outputs": [
        {
          "output_type": "stream",
          "text": [
            "Model: \"functional_3\"\n",
            "_________________________________________________________________\n",
            "Layer (type)                 Output Shape              Param #   \n",
            "=================================================================\n",
            "input_2 (InputLayer)         [(None, 7, 1)]            0         \n",
            "_________________________________________________________________\n",
            "lstm (LSTM)                  (None, 10)                480       \n",
            "_________________________________________________________________\n",
            "dense (Dense)                (None, 64)                704       \n",
            "_________________________________________________________________\n",
            "dropout (Dropout)            (None, 64)                0         \n",
            "_________________________________________________________________\n",
            "dense_1 (Dense)              (None, 64)                4160      \n",
            "_________________________________________________________________\n",
            "out (Dense)                  (None, 2)                 128       \n",
            "=================================================================\n",
            "Total params: 5,472\n",
            "Trainable params: 5,472\n",
            "Non-trainable params: 0\n",
            "_________________________________________________________________\n"
          ],
          "name": "stdout"
        }
      ]
    },
    {
      "cell_type": "code",
      "metadata": {
        "id": "4Dg0NdtSsQhu",
        "colab_type": "code",
        "colab": {}
      },
      "source": [
        "#정책망이 예측한 대로 action을 선택한다.\n",
        "\n",
        "def action_choice(p_serise_lstm):\n",
        "  act = model_predict.predict(p_serise_lstm)\n",
        "  #act = np.argmax(act)\n",
        "  return act"
      ],
      "execution_count": 16,
      "outputs": []
    },
    {
      "cell_type": "code",
      "metadata": {
        "id": "bnKwo9vgVKMI",
        "colab_type": "code",
        "colab": {}
      },
      "source": [
        "# action_choice가 선택한 행동을 balance에 대비해서 가능한 행동인지 점검하고 틀린 경우 가능한 액션을 제시한다.\n",
        "# 당초 0 매수, 1 매도를 --> 0 매수, 1 hold, 2 매도로 전환 \n",
        "# 그리고 현재의 밸러스는 before 밸런스로 기록을 남긴다.\n",
        "\n",
        "def action_validate(act, price, balance):\n",
        "  if act == 0:\n",
        "    if balance[0] - price < 0:\n",
        "      act_v = 1\n",
        "    else:\n",
        "      act_v = 0\n",
        "        \n",
        "  if act == 1:\n",
        "    if balance[2] > 0 :\n",
        "      act_v = 2\n",
        "    else:\n",
        "      act_v = 1\n",
        "\n",
        "  before_act_balance = [balance[0], balance[1], balance[2]] \n",
        "\n",
        "  return act_v, before_act_balance"
      ],
      "execution_count": 17,
      "outputs": []
    },
    {
      "cell_type": "code",
      "metadata": {
        "id": "Tk6ddnSXxN2r",
        "colab_type": "code",
        "colab": {}
      },
      "source": [
        "# 검증이 완료된 행동으로 현재 밸런스를 갱신하고, 현재 가치를 구한다.\n",
        "\n",
        "def balance_update(balance, price, act_v):\n",
        "  if act_v == 0:\n",
        "    balance[0] = balance[0] - price\n",
        "    balance[1] = price\n",
        "    balance[2] = balance[2] + 1\n",
        "  if act_v == 1:\n",
        "    balance[1] = price\n",
        "  if act_v == 2:\n",
        "    balance[0] = balance[0] + price\n",
        "    balance[1] = price\n",
        "    balance[2] = balance[2] -1\n",
        "  balance_updated = [balance[0], balance[1], balance[2]] \n",
        "  present_value = balance[0] + balance[1] * balance[2]\n",
        "  return balance_updated, present_value"
      ],
      "execution_count": 18,
      "outputs": []
    },
    {
      "cell_type": "code",
      "metadata": {
        "id": "9BqjV5MRGBy0",
        "colab_type": "code",
        "colab": {}
      },
      "source": [
        "# 이전의 밸런스와 현재 밸런스와의 비율을 구한다. 이것은 포트폴리오 가치비율이라고 한다\n",
        "\n",
        "def pv_ratio_cal(before_act_balance, balance_updated):\n",
        "  pv_ratio = (balance_updated[0] + balance_updated[1] * balance_updated[2])/(before_act_balance[0] + before_act_balance[1] * before_act_balance[2])\n",
        "  return pv_ratio"
      ],
      "execution_count": 19,
      "outputs": []
    },
    {
      "cell_type": "code",
      "metadata": {
        "id": "42wl3rwdwdco",
        "colab_type": "code",
        "colab": {}
      },
      "source": [
        "# 주식보유 비율을 구한다.\n",
        "\n",
        "def hold_ratio_cal(balance_updated, price):\n",
        "  hold_ratio = balance_updated[2] / (present_value / price)\n",
        "\n",
        "  return hold_ratio\n"
      ],
      "execution_count": 20,
      "outputs": []
    },
    {
      "cell_type": "code",
      "metadata": {
        "id": "ij5NYQ8QHfE7",
        "colab_type": "code",
        "colab": {}
      },
      "source": [
        "# delayed reward를 구하기 위해서 기준 포트폴리오와 현재 밸런스의 비율을 구하고, 타겟 비율을 넘는지 확인한다.\n",
        "# 만약 target을 넘으면 base_pv를 present_value를 변경한다.\n",
        "\n",
        "def base_to_cur (base_pv, present_value, target_ratio):\n",
        "  delay_ratio = (present_value - base_pv) / base_pv\n",
        "  if delay_ratio > target_ratio:\n",
        "    target = 1.0\n",
        "    base_pv = present_value\n",
        "\n",
        "  elif (-1 * delay_ratio) > target_ratio:\n",
        "    target = -1.0\n",
        "    base_pv = present_value\n",
        "    \n",
        "  else:\n",
        "    target = 0\n",
        "    base_pv = base_pv\n",
        "    \n",
        "  return delay_ratio, target, base_pv"
      ],
      "execution_count": 21,
      "outputs": []
    },
    {
      "cell_type": "code",
      "metadata": {
        "id": "ZG19QI3YAYcW",
        "colab_type": "code",
        "colab": {}
      },
      "source": [
        "# 거래와 관련된 모든 것을 기록한다.\n",
        "\n",
        "def record(i, price, act, act_v, balance_updated, present_value, pv_ratio, hold_ratio, delay_ratio, target, base_pv):\n",
        "\n",
        "  transaction_history.append([i, price, act, act_v, balance_updated, present_value, pv_ratio, hold_ratio, delay_ratio, target, base_pv])\n",
        "  return transaction_history"
      ],
      "execution_count": 22,
      "outputs": []
    },
    {
      "cell_type": "code",
      "metadata": {
        "id": "fSqTmJ2bGAL8",
        "colab_type": "code",
        "colab": {}
      },
      "source": [
        "# 학습을 위한 배치 데이터를 만든다.\n",
        "\n",
        "\n",
        "def discount_rewards(r, gamma=0.5):\n",
        "    \"\"\"Takes 1d float array of rewards and computes discounted reward\n",
        "    e.g. f([1, 1, 1], 0.99) -> [1, 1.99, 2.9701]\n",
        "    \"\"\"\n",
        "    prior = 0\n",
        "    out = []\n",
        "    r = r[::-1]\n",
        "    for val in r:\n",
        "        new_val = val + prior * gamma\n",
        "        out.append(new_val)\n",
        "        prior = new_val\n",
        "    return np.array(out)\n",
        "\n",
        "\n",
        "\n",
        "\n",
        "def get_batch(transaction_history, target):\n",
        "\n",
        "  for i in range(len(transaction_history)):\n",
        "\n",
        "    y = np.full((len(transaction_history), 2), 0.0) \n",
        "    for j in range(i+1):\n",
        "      k = transaction_history[j][2] # k는 당초 신경망이 추천한 값으로 0구매, 1는 매도 이다. \n",
        "      #y[j,k] = (target + 1.0) / 2 \n",
        "      y[j,k] = np.abs(target)\n",
        "      \n",
        "    price_data = [p_serise_lstm[j] for j in range(i+1)]\n",
        "    delay_ratios = [transaction_history[j][8] for j in range(i+1)]\n",
        "    hold_ratios = [transaction_history[j][7] for j in range(i+1)]\n",
        "      \n",
        "    train_input =[]\n",
        "    for pd, dr, hr in zip(price_data, delay_ratios, hold_ratios):\n",
        "      pd = np.append(pd, dr)\n",
        "      pd = np.append(pd, hr)\n",
        "      train_input.append(pd)\n",
        "    train_input = np.array(train_input)\n",
        "    train_input = train_input.reshape(-1,7,1)\n",
        "\n",
        "  adv = np.full((len(transaction_history), 1), 1.0*target) # 긍정학습, 부정학습을 구분하기 위한 것이다.\n",
        "  adv = discount_rewards(adv)\n",
        "\n",
        "  return y, train_input, adv\n"
      ],
      "execution_count": 23,
      "outputs": []
    },
    {
      "cell_type": "markdown",
      "metadata": {
        "id": "IZHalhPGCE4J",
        "colab_type": "text"
      },
      "source": [
        "여기부터는 학습의 영역이다."
      ]
    },
    {
      "cell_type": "code",
      "metadata": {
        "id": "8m2KF-e-wFu1",
        "colab_type": "code",
        "colab": {
          "base_uri": "https://localhost:8080/",
          "height": 87
        },
        "outputId": "cbf27898-21a3-417a-bcdb-139b02e51d9d"
      },
      "source": [
        "# random action과 신경망의 선택 action을 조정해야 한다.\n",
        "\n",
        "\n",
        "num_episode = 0.0\n",
        "num_episodes = 100.0\n",
        "\n",
        "target_ratio = 0.05\n",
        "max_batch_size = 46\n",
        "epsilon = 0.8\n",
        "\n",
        "\n",
        "while num_episode < num_episodes:\n",
        "\n",
        "  balance = [20, 0, 0]\n",
        "  base_pv = 20\n",
        "  \n",
        "  history_record = []\n",
        "  transaction_history=[]\n",
        "\n",
        "  for i in range(len(p_serise_lstm)):\n",
        "   \n",
        "    price = p_serise_lstm[i][4]\n",
        "\n",
        "    if np.random.rand() < epsilon :\n",
        "      act = np.random.choice(2, p=[0.5, 0.5])\n",
        "    else:\n",
        "      act =  np.argmax(action_choice(p_serise_lstm)[i])\n",
        "   \n",
        "    act_v, before_act_balance = action_validate(act, price, balance)\n",
        "    \n",
        "    balance_updated, present_value = balance_update(balance, price, act_v)\n",
        "    pv_ratio = pv_ratio_cal(before_act_balance, balance_updated)\n",
        "    hold_ratio = hold_ratio_cal(balance_updated, price)\n",
        "   \n",
        "    delay_ratio, target, base_pv = base_to_cur(base_pv, present_value, target_ratio)\n",
        "  \n",
        "    transaction_history = record(i, price, act, act_v, balance_updated, present_value, pv_ratio, hold_ratio, delay_ratio, target, base_pv)\n",
        "\n",
        "\n",
        "\n",
        "    if (target == 1 or target == -1):\n",
        "      y, train_input, adv = get_batch(transaction_history, target)\n",
        "#      print(train_input.shape)\n",
        "#      print(input(\"check?\"))\n",
        "\n",
        "      y = np.array(y)\n",
        "      loss = model_train.train_on_batch([train_input, adv], y)\n",
        "      \n",
        "\n",
        "      history_record.append(transaction_history)\n",
        "      transaction_history=[]\n",
        "      continue\n",
        "\n",
        "    if i == (len(p_serise_lstm)-1):\n",
        "\n",
        "      history_record.append(transaction_history)\n",
        "      transaction_history=[]      \n",
        "\n",
        "    \n",
        "  if present_value > 30.0:\n",
        "    break\n",
        "  if (num_episode+1) % 2 == 0:\n",
        "    print(\"num_episode: \",num_episode+1, \"loss: \", loss[0], \"mse :\", loss[1], \"wealth:\", present_value)\n",
        "\n",
        "  num_episode += 1.0\n",
        "  epsilon = epsilon * ( 1 - num_episode/num_episodes)\n",
        "\n",
        "\n",
        "\n",
        "\n",
        "\n",
        "\n",
        "\n",
        "\n",
        "    "
      ],
      "execution_count": 34,
      "outputs": [
        {
          "output_type": "stream",
          "text": [
            "num_episode:  2.0 loss:  -23.023822784423828 mse : 0.5 wealth: [28.07885994]\n",
            "num_episode:  4.0 loss:  -23.02387237548828 mse : 0.5 wealth: [27.24472728]\n",
            "num_episode:  6.0 loss:  -23.023963928222656 mse : 0.5 wealth: [19.46209686]\n",
            "num_episode:  8.0 loss:  -23.02399444580078 mse : 0.5 wealth: [24.46386775]\n"
          ],
          "name": "stdout"
        }
      ]
    },
    {
      "cell_type": "code",
      "metadata": {
        "id": "hY8tGzcHXU3-",
        "colab_type": "code",
        "colab": {
          "base_uri": "https://localhost:8080/",
          "height": 34
        },
        "outputId": "ebb7b210-bbe0-42b3-d097-07e0f7784b00"
      },
      "source": [
        "transaction_history"
      ],
      "execution_count": null,
      "outputs": [
        {
          "output_type": "execute_result",
          "data": {
            "text/plain": [
              "[]"
            ]
          },
          "metadata": {
            "tags": []
          },
          "execution_count": 31
        }
      ]
    },
    {
      "cell_type": "code",
      "metadata": {
        "id": "5J-rx_enEPrI",
        "colab_type": "code",
        "colab": {
          "base_uri": "https://localhost:8080/",
          "height": 1000
        },
        "outputId": "dc500ff4-7760-4057-85bf-d49da095fc5a"
      },
      "source": [
        "history_record[-1]"
      ],
      "execution_count": 25,
      "outputs": [
        {
          "output_type": "execute_result",
          "data": {
            "text/plain": [
              "[[0,\n",
              "  array([2.37547917]),\n",
              "  1,\n",
              "  1,\n",
              "  [20, array([2.37547917]), 0],\n",
              "  array([20.]),\n",
              "  array([1.]),\n",
              "  array([0.]),\n",
              "  array([0.]),\n",
              "  0,\n",
              "  20],\n",
              " [1,\n",
              "  array([3.26195471]),\n",
              "  1,\n",
              "  1,\n",
              "  [20, array([3.26195471]), 0],\n",
              "  array([20.]),\n",
              "  array([1.]),\n",
              "  array([0.]),\n",
              "  array([0.]),\n",
              "  0,\n",
              "  20],\n",
              " [2,\n",
              "  array([3.02487661]),\n",
              "  1,\n",
              "  1,\n",
              "  [20, array([3.02487661]), 0],\n",
              "  array([20.]),\n",
              "  array([1.]),\n",
              "  array([0.]),\n",
              "  array([0.]),\n",
              "  0,\n",
              "  20],\n",
              " [3,\n",
              "  array([3.23303705]),\n",
              "  1,\n",
              "  1,\n",
              "  [20, array([3.23303705]), 0],\n",
              "  array([20.]),\n",
              "  array([1.]),\n",
              "  array([0.]),\n",
              "  array([0.]),\n",
              "  0,\n",
              "  20],\n",
              " [4,\n",
              "  array([3.81481644]),\n",
              "  1,\n",
              "  1,\n",
              "  [20, array([3.81481644]), 0],\n",
              "  array([20.]),\n",
              "  array([1.]),\n",
              "  array([0.]),\n",
              "  array([0.]),\n",
              "  0,\n",
              "  20],\n",
              " [5,\n",
              "  array([4.74682762]),\n",
              "  1,\n",
              "  1,\n",
              "  [20, array([4.74682762]), 0],\n",
              "  array([20.]),\n",
              "  array([1.]),\n",
              "  array([0.]),\n",
              "  array([0.]),\n",
              "  0,\n",
              "  20],\n",
              " [6,\n",
              "  array([5.91310913]),\n",
              "  1,\n",
              "  1,\n",
              "  [20, array([5.91310913]), 0],\n",
              "  array([20.]),\n",
              "  array([1.]),\n",
              "  array([0.]),\n",
              "  array([0.]),\n",
              "  0,\n",
              "  20],\n",
              " [7,\n",
              "  array([5.67924541]),\n",
              "  1,\n",
              "  1,\n",
              "  [20, array([5.67924541]), 0],\n",
              "  array([20.]),\n",
              "  array([1.]),\n",
              "  array([0.]),\n",
              "  array([0.]),\n",
              "  0,\n",
              "  20],\n",
              " [8,\n",
              "  array([6.35951069]),\n",
              "  0,\n",
              "  0,\n",
              "  [array([13.64048931]), array([6.35951069]), 1],\n",
              "  array([20.]),\n",
              "  array([1.]),\n",
              "  array([0.31797553]),\n",
              "  array([0.]),\n",
              "  0,\n",
              "  20],\n",
              " [9,\n",
              "  array([5.69279133]),\n",
              "  0,\n",
              "  0,\n",
              "  [array([7.94769798]), array([5.69279133]), 2],\n",
              "  array([19.33328065]),\n",
              "  array([0.96666403]),\n",
              "  array([0.58891105]),\n",
              "  array([-0.03333597]),\n",
              "  0,\n",
              "  20],\n",
              " [10,\n",
              "  array([4.93859678]),\n",
              "  1,\n",
              "  2,\n",
              "  [array([12.88629475]), array([4.93859678]), 1],\n",
              "  array([17.82489153]),\n",
              "  array([0.92197966]),\n",
              "  array([0.27706181]),\n",
              "  array([-0.10875542]),\n",
              "  -1.0,\n",
              "  array([17.82489153])],\n",
              " [11,\n",
              "  array([4.79366475]),\n",
              "  1,\n",
              "  2,\n",
              "  [array([17.6799595]), array([4.79366475]), 0],\n",
              "  array([17.6799595]),\n",
              "  array([0.99186912]),\n",
              "  array([0.]),\n",
              "  array([-0.00813088]),\n",
              "  0,\n",
              "  array([17.82489153])],\n",
              " [12,\n",
              "  array([5.50610676]),\n",
              "  1,\n",
              "  1,\n",
              "  [array([17.6799595]), array([5.50610676]), 0],\n",
              "  array([17.6799595]),\n",
              "  array([1.]),\n",
              "  array([0.]),\n",
              "  array([-0.00813088]),\n",
              "  0,\n",
              "  array([17.82489153])],\n",
              " [13,\n",
              "  array([5.92200186]),\n",
              "  0,\n",
              "  0,\n",
              "  [array([11.75795764]), array([5.92200186]), 1],\n",
              "  array([17.6799595]),\n",
              "  array([1.]),\n",
              "  array([0.33495562]),\n",
              "  array([-0.00813088]),\n",
              "  0,\n",
              "  array([17.82489153])],\n",
              " [14,\n",
              "  array([6.07564274]),\n",
              "  0,\n",
              "  0,\n",
              "  [array([5.6823149]), array([6.07564274]), 2],\n",
              "  array([17.83360038]),\n",
              "  array([1.00869011]),\n",
              "  array([0.68137029]),\n",
              "  array([0.00048858]),\n",
              "  0,\n",
              "  array([17.82489153])],\n",
              " [15,\n",
              "  array([5.67068509]),\n",
              "  0,\n",
              "  0,\n",
              "  [array([0.01162982]), array([5.67068509]), 3],\n",
              "  array([17.02368508]),\n",
              "  array([0.95458487]),\n",
              "  array([0.99931684]),\n",
              "  array([-0.04494874]),\n",
              "  0,\n",
              "  array([17.82489153])],\n",
              " [16,\n",
              "  array([5.12975802]),\n",
              "  1,\n",
              "  2,\n",
              "  [array([5.14138783]), array([5.12975802]), 2],\n",
              "  array([15.40090387]),\n",
              "  array([0.90467509]),\n",
              "  array([0.66616324]),\n",
              "  array([-0.13598892]),\n",
              "  -1.0,\n",
              "  array([15.40090387])],\n",
              " [17,\n",
              "  array([4.68784136]),\n",
              "  1,\n",
              "  2,\n",
              "  [array([9.82922919]), array([4.68784136]), 1],\n",
              "  array([14.51707055]),\n",
              "  array([0.94261159]),\n",
              "  array([0.32291924]),\n",
              "  array([-0.05738841]),\n",
              "  -1.0,\n",
              "  array([14.51707055])],\n",
              " [18,\n",
              "  array([4.7969185]),\n",
              "  1,\n",
              "  2,\n",
              "  [array([14.62614769]), array([4.7969185]), 0],\n",
              "  array([14.62614769]),\n",
              "  array([1.00751372]),\n",
              "  array([0.]),\n",
              "  array([0.00751372]),\n",
              "  0,\n",
              "  array([14.51707055])],\n",
              " [19,\n",
              "  array([5.68459264]),\n",
              "  1,\n",
              "  1,\n",
              "  [array([14.62614769]), array([5.68459264]), 0],\n",
              "  array([14.62614769]),\n",
              "  array([1.]),\n",
              "  array([0.]),\n",
              "  array([0.00751372]),\n",
              "  0,\n",
              "  array([14.51707055])],\n",
              " [20,\n",
              "  array([4.58832694]),\n",
              "  1,\n",
              "  1,\n",
              "  [array([14.62614769]), array([4.58832694]), 0],\n",
              "  array([14.62614769]),\n",
              "  array([1.]),\n",
              "  array([0.]),\n",
              "  array([0.00751372]),\n",
              "  0,\n",
              "  array([14.51707055])],\n",
              " [21,\n",
              "  array([3.5956968]),\n",
              "  1,\n",
              "  1,\n",
              "  [array([14.62614769]), array([3.5956968]), 0],\n",
              "  array([14.62614769]),\n",
              "  array([1.]),\n",
              "  array([0.]),\n",
              "  array([0.00751372]),\n",
              "  0,\n",
              "  array([14.51707055])],\n",
              " [22,\n",
              "  array([3.11988972]),\n",
              "  1,\n",
              "  1,\n",
              "  [array([14.62614769]), array([3.11988972]), 0],\n",
              "  array([14.62614769]),\n",
              "  array([1.]),\n",
              "  array([0.]),\n",
              "  array([0.00751372]),\n",
              "  0,\n",
              "  array([14.51707055])],\n",
              " [23,\n",
              "  array([3.44012086]),\n",
              "  1,\n",
              "  1,\n",
              "  [array([14.62614769]), array([3.44012086]), 0],\n",
              "  array([14.62614769]),\n",
              "  array([1.]),\n",
              "  array([0.]),\n",
              "  array([0.00751372]),\n",
              "  0,\n",
              "  array([14.51707055])],\n",
              " [24,\n",
              "  array([3.90554232]),\n",
              "  1,\n",
              "  1,\n",
              "  [array([14.62614769]), array([3.90554232]), 0],\n",
              "  array([14.62614769]),\n",
              "  array([1.]),\n",
              "  array([0.]),\n",
              "  array([0.00751372]),\n",
              "  0,\n",
              "  array([14.51707055])],\n",
              " [25,\n",
              "  array([3.27132829]),\n",
              "  1,\n",
              "  1,\n",
              "  [array([14.62614769]), array([3.27132829]), 0],\n",
              "  array([14.62614769]),\n",
              "  array([1.]),\n",
              "  array([0.]),\n",
              "  array([0.00751372]),\n",
              "  0,\n",
              "  array([14.51707055])],\n",
              " [26,\n",
              "  array([3.01594443]),\n",
              "  1,\n",
              "  1,\n",
              "  [array([14.62614769]), array([3.01594443]), 0],\n",
              "  array([14.62614769]),\n",
              "  array([1.]),\n",
              "  array([0.]),\n",
              "  array([0.00751372]),\n",
              "  0,\n",
              "  array([14.51707055])],\n",
              " [27,\n",
              "  array([3.21478991]),\n",
              "  1,\n",
              "  1,\n",
              "  [array([14.62614769]), array([3.21478991]), 0],\n",
              "  array([14.62614769]),\n",
              "  array([1.]),\n",
              "  array([0.]),\n",
              "  array([0.00751372]),\n",
              "  0,\n",
              "  array([14.51707055])],\n",
              " [28,\n",
              "  array([4.17136125]),\n",
              "  1,\n",
              "  1,\n",
              "  [array([14.62614769]), array([4.17136125]), 0],\n",
              "  array([14.62614769]),\n",
              "  array([1.]),\n",
              "  array([0.]),\n",
              "  array([0.00751372]),\n",
              "  0,\n",
              "  array([14.51707055])],\n",
              " [29,\n",
              "  array([3.1417097]),\n",
              "  1,\n",
              "  1,\n",
              "  [array([14.62614769]), array([3.1417097]), 0],\n",
              "  array([14.62614769]),\n",
              "  array([1.]),\n",
              "  array([0.]),\n",
              "  array([0.00751372]),\n",
              "  0,\n",
              "  array([14.51707055])],\n",
              " [30,\n",
              "  array([2.13914577]),\n",
              "  1,\n",
              "  1,\n",
              "  [array([14.62614769]), array([2.13914577]), 0],\n",
              "  array([14.62614769]),\n",
              "  array([1.]),\n",
              "  array([0.]),\n",
              "  array([0.00751372]),\n",
              "  0,\n",
              "  array([14.51707055])],\n",
              " [31,\n",
              "  array([2.84738975]),\n",
              "  1,\n",
              "  1,\n",
              "  [array([14.62614769]), array([2.84738975]), 0],\n",
              "  array([14.62614769]),\n",
              "  array([1.]),\n",
              "  array([0.]),\n",
              "  array([0.00751372]),\n",
              "  0,\n",
              "  array([14.51707055])],\n",
              " [32,\n",
              "  array([2.13778254]),\n",
              "  1,\n",
              "  1,\n",
              "  [array([14.62614769]), array([2.13778254]), 0],\n",
              "  array([14.62614769]),\n",
              "  array([1.]),\n",
              "  array([0.]),\n",
              "  array([0.00751372]),\n",
              "  0,\n",
              "  array([14.51707055])],\n",
              " [33,\n",
              "  array([1.54384687]),\n",
              "  1,\n",
              "  1,\n",
              "  [array([14.62614769]), array([1.54384687]), 0],\n",
              "  array([14.62614769]),\n",
              "  array([1.]),\n",
              "  array([0.]),\n",
              "  array([0.00751372]),\n",
              "  0,\n",
              "  array([14.51707055])],\n",
              " [34,\n",
              "  array([2.73964659]),\n",
              "  1,\n",
              "  1,\n",
              "  [array([14.62614769]), array([2.73964659]), 0],\n",
              "  array([14.62614769]),\n",
              "  array([1.]),\n",
              "  array([0.]),\n",
              "  array([0.00751372]),\n",
              "  0,\n",
              "  array([14.51707055])],\n",
              " [35,\n",
              "  array([3.47504627]),\n",
              "  1,\n",
              "  1,\n",
              "  [array([14.62614769]), array([3.47504627]), 0],\n",
              "  array([14.62614769]),\n",
              "  array([1.]),\n",
              "  array([0.]),\n",
              "  array([0.00751372]),\n",
              "  0,\n",
              "  array([14.51707055])],\n",
              " [36,\n",
              "  array([2.80567501]),\n",
              "  1,\n",
              "  1,\n",
              "  [array([14.62614769]), array([2.80567501]), 0],\n",
              "  array([14.62614769]),\n",
              "  array([1.]),\n",
              "  array([0.]),\n",
              "  array([0.00751372]),\n",
              "  0,\n",
              "  array([14.51707055])],\n",
              " [37,\n",
              "  array([1.63657974]),\n",
              "  1,\n",
              "  1,\n",
              "  [array([14.62614769]), array([1.63657974]), 0],\n",
              "  array([14.62614769]),\n",
              "  array([1.]),\n",
              "  array([0.]),\n",
              "  array([0.00751372]),\n",
              "  0,\n",
              "  array([14.51707055])],\n",
              " [38,\n",
              "  array([0.63352893]),\n",
              "  1,\n",
              "  1,\n",
              "  [array([14.62614769]), array([0.63352893]), 0],\n",
              "  array([14.62614769]),\n",
              "  array([1.]),\n",
              "  array([0.]),\n",
              "  array([0.00751372]),\n",
              "  0,\n",
              "  array([14.51707055])],\n",
              " [39,\n",
              "  array([1.22301302]),\n",
              "  1,\n",
              "  1,\n",
              "  [array([14.62614769]), array([1.22301302]), 0],\n",
              "  array([14.62614769]),\n",
              "  array([1.]),\n",
              "  array([0.]),\n",
              "  array([0.00751372]),\n",
              "  0,\n",
              "  array([14.51707055])],\n",
              " [40,\n",
              "  array([1.40037812]),\n",
              "  1,\n",
              "  1,\n",
              "  [array([14.62614769]), array([1.40037812]), 0],\n",
              "  array([14.62614769]),\n",
              "  array([1.]),\n",
              "  array([0.]),\n",
              "  array([0.00751372]),\n",
              "  0,\n",
              "  array([14.51707055])],\n",
              " [41,\n",
              "  array([1.29526392]),\n",
              "  1,\n",
              "  1,\n",
              "  [array([14.62614769]), array([1.29526392]), 0],\n",
              "  array([14.62614769]),\n",
              "  array([1.]),\n",
              "  array([0.]),\n",
              "  array([0.00751372]),\n",
              "  0,\n",
              "  array([14.51707055])],\n",
              " [42,\n",
              "  array([2.20732326]),\n",
              "  1,\n",
              "  1,\n",
              "  [array([14.62614769]), array([2.20732326]), 0],\n",
              "  array([14.62614769]),\n",
              "  array([1.]),\n",
              "  array([0.]),\n",
              "  array([0.00751372]),\n",
              "  0,\n",
              "  array([14.51707055])],\n",
              " [43,\n",
              "  array([1.3957112]),\n",
              "  1,\n",
              "  1,\n",
              "  [array([14.62614769]), array([1.3957112]), 0],\n",
              "  array([14.62614769]),\n",
              "  array([1.]),\n",
              "  array([0.]),\n",
              "  array([0.00751372]),\n",
              "  0,\n",
              "  array([14.51707055])],\n",
              " [44,\n",
              "  array([2.43700702]),\n",
              "  1,\n",
              "  1,\n",
              "  [array([14.62614769]), array([2.43700702]), 0],\n",
              "  array([14.62614769]),\n",
              "  array([1.]),\n",
              "  array([0.]),\n",
              "  array([0.00751372]),\n",
              "  0,\n",
              "  array([14.51707055])],\n",
              " [45,\n",
              "  array([2.5325274]),\n",
              "  1,\n",
              "  1,\n",
              "  [array([14.62614769]), array([2.5325274]), 0],\n",
              "  array([14.62614769]),\n",
              "  array([1.]),\n",
              "  array([0.]),\n",
              "  array([0.00751372]),\n",
              "  0,\n",
              "  array([14.51707055])],\n",
              " [46,\n",
              "  array([3.66875344]),\n",
              "  1,\n",
              "  1,\n",
              "  [array([14.62614769]), array([3.66875344]), 0],\n",
              "  array([14.62614769]),\n",
              "  array([1.]),\n",
              "  array([0.]),\n",
              "  array([0.00751372]),\n",
              "  0,\n",
              "  array([14.51707055])],\n",
              " [47,\n",
              "  array([3.71985605]),\n",
              "  1,\n",
              "  1,\n",
              "  [array([14.62614769]), array([3.71985605]), 0],\n",
              "  array([14.62614769]),\n",
              "  array([1.]),\n",
              "  array([0.]),\n",
              "  array([0.00751372]),\n",
              "  0,\n",
              "  array([14.51707055])],\n",
              " [48,\n",
              "  array([3.77779247]),\n",
              "  1,\n",
              "  1,\n",
              "  [array([14.62614769]), array([3.77779247]), 0],\n",
              "  array([14.62614769]),\n",
              "  array([1.]),\n",
              "  array([0.]),\n",
              "  array([0.00751372]),\n",
              "  0,\n",
              "  array([14.51707055])],\n",
              " [49,\n",
              "  array([2.72319903]),\n",
              "  1,\n",
              "  1,\n",
              "  [array([14.62614769]), array([2.72319903]), 0],\n",
              "  array([14.62614769]),\n",
              "  array([1.]),\n",
              "  array([0.]),\n",
              "  array([0.00751372]),\n",
              "  0,\n",
              "  array([14.51707055])],\n",
              " [50,\n",
              "  array([3.19752319]),\n",
              "  1,\n",
              "  1,\n",
              "  [array([14.62614769]), array([3.19752319]), 0],\n",
              "  array([14.62614769]),\n",
              "  array([1.]),\n",
              "  array([0.]),\n",
              "  array([0.00751372]),\n",
              "  0,\n",
              "  array([14.51707055])],\n",
              " [51,\n",
              "  array([2.59164299]),\n",
              "  1,\n",
              "  1,\n",
              "  [array([14.62614769]), array([2.59164299]), 0],\n",
              "  array([14.62614769]),\n",
              "  array([1.]),\n",
              "  array([0.]),\n",
              "  array([0.00751372]),\n",
              "  0,\n",
              "  array([14.51707055])],\n",
              " [52,\n",
              "  array([1.54619554]),\n",
              "  1,\n",
              "  1,\n",
              "  [array([14.62614769]), array([1.54619554]), 0],\n",
              "  array([14.62614769]),\n",
              "  array([1.]),\n",
              "  array([0.]),\n",
              "  array([0.00751372]),\n",
              "  0,\n",
              "  array([14.51707055])],\n",
              " [53,\n",
              "  array([1.58022651]),\n",
              "  1,\n",
              "  1,\n",
              "  [array([14.62614769]), array([1.58022651]), 0],\n",
              "  array([14.62614769]),\n",
              "  array([1.]),\n",
              "  array([0.]),\n",
              "  array([0.00751372]),\n",
              "  0,\n",
              "  array([14.51707055])],\n",
              " [54,\n",
              "  array([1.71071103]),\n",
              "  1,\n",
              "  1,\n",
              "  [array([14.62614769]), array([1.71071103]), 0],\n",
              "  array([14.62614769]),\n",
              "  array([1.]),\n",
              "  array([0.]),\n",
              "  array([0.00751372]),\n",
              "  0,\n",
              "  array([14.51707055])],\n",
              " [55,\n",
              "  array([0.72542513]),\n",
              "  1,\n",
              "  1,\n",
              "  [array([14.62614769]), array([0.72542513]), 0],\n",
              "  array([14.62614769]),\n",
              "  array([1.]),\n",
              "  array([0.]),\n",
              "  array([0.00751372]),\n",
              "  0,\n",
              "  array([14.51707055])],\n",
              " [56,\n",
              "  array([1.81134778]),\n",
              "  1,\n",
              "  1,\n",
              "  [array([14.62614769]), array([1.81134778]), 0],\n",
              "  array([14.62614769]),\n",
              "  array([1.]),\n",
              "  array([0.]),\n",
              "  array([0.00751372]),\n",
              "  0,\n",
              "  array([14.51707055])],\n",
              " [57,\n",
              "  array([2.10783411]),\n",
              "  1,\n",
              "  1,\n",
              "  [array([14.62614769]), array([2.10783411]), 0],\n",
              "  array([14.62614769]),\n",
              "  array([1.]),\n",
              "  array([0.]),\n",
              "  array([0.00751372]),\n",
              "  0,\n",
              "  array([14.51707055])],\n",
              " [58,\n",
              "  array([2.24991205]),\n",
              "  1,\n",
              "  1,\n",
              "  [array([14.62614769]), array([2.24991205]), 0],\n",
              "  array([14.62614769]),\n",
              "  array([1.]),\n",
              "  array([0.]),\n",
              "  array([0.00751372]),\n",
              "  0,\n",
              "  array([14.51707055])],\n",
              " [59,\n",
              "  array([2.74888365]),\n",
              "  1,\n",
              "  1,\n",
              "  [array([14.62614769]), array([2.74888365]), 0],\n",
              "  array([14.62614769]),\n",
              "  array([1.]),\n",
              "  array([0.]),\n",
              "  array([0.00751372]),\n",
              "  0,\n",
              "  array([14.51707055])],\n",
              " [60,\n",
              "  array([2.62516895]),\n",
              "  1,\n",
              "  1,\n",
              "  [array([14.62614769]), array([2.62516895]), 0],\n",
              "  array([14.62614769]),\n",
              "  array([1.]),\n",
              "  array([0.]),\n",
              "  array([0.00751372]),\n",
              "  0,\n",
              "  array([14.51707055])],\n",
              " [61,\n",
              "  array([2.23716534]),\n",
              "  1,\n",
              "  1,\n",
              "  [array([14.62614769]), array([2.23716534]), 0],\n",
              "  array([14.62614769]),\n",
              "  array([1.]),\n",
              "  array([0.]),\n",
              "  array([0.00751372]),\n",
              "  0,\n",
              "  array([14.51707055])],\n",
              " [62,\n",
              "  array([2.01487748]),\n",
              "  1,\n",
              "  1,\n",
              "  [array([14.62614769]), array([2.01487748]), 0],\n",
              "  array([14.62614769]),\n",
              "  array([1.]),\n",
              "  array([0.]),\n",
              "  array([0.00751372]),\n",
              "  0,\n",
              "  array([14.51707055])],\n",
              " [63,\n",
              "  array([2.73172432]),\n",
              "  1,\n",
              "  1,\n",
              "  [array([14.62614769]), array([2.73172432]), 0],\n",
              "  array([14.62614769]),\n",
              "  array([1.]),\n",
              "  array([0.]),\n",
              "  array([0.00751372]),\n",
              "  0,\n",
              "  array([14.51707055])],\n",
              " [64,\n",
              "  array([2.54057433]),\n",
              "  1,\n",
              "  1,\n",
              "  [array([14.62614769]), array([2.54057433]), 0],\n",
              "  array([14.62614769]),\n",
              "  array([1.]),\n",
              "  array([0.]),\n",
              "  array([0.00751372]),\n",
              "  0,\n",
              "  array([14.51707055])],\n",
              " [65,\n",
              "  array([2.58285648]),\n",
              "  1,\n",
              "  1,\n",
              "  [array([14.62614769]), array([2.58285648]), 0],\n",
              "  array([14.62614769]),\n",
              "  array([1.]),\n",
              "  array([0.]),\n",
              "  array([0.00751372]),\n",
              "  0,\n",
              "  array([14.51707055])],\n",
              " [66,\n",
              "  array([1.77479562]),\n",
              "  1,\n",
              "  1,\n",
              "  [array([14.62614769]), array([1.77479562]), 0],\n",
              "  array([14.62614769]),\n",
              "  array([1.]),\n",
              "  array([0.]),\n",
              "  array([0.00751372]),\n",
              "  0,\n",
              "  array([14.51707055])],\n",
              " [67,\n",
              "  array([0.75174244]),\n",
              "  1,\n",
              "  1,\n",
              "  [array([14.62614769]), array([0.75174244]), 0],\n",
              "  array([14.62614769]),\n",
              "  array([1.]),\n",
              "  array([0.]),\n",
              "  array([0.00751372]),\n",
              "  0,\n",
              "  array([14.51707055])],\n",
              " [68,\n",
              "  array([0.50460295]),\n",
              "  1,\n",
              "  1,\n",
              "  [array([14.62614769]), array([0.50460295]), 0],\n",
              "  array([14.62614769]),\n",
              "  array([1.]),\n",
              "  array([0.]),\n",
              "  array([0.00751372]),\n",
              "  0,\n",
              "  array([14.51707055])],\n",
              " [69,\n",
              "  array([1.]),\n",
              "  1,\n",
              "  1,\n",
              "  [array([14.62614769]), array([1.]), 0],\n",
              "  array([14.62614769]),\n",
              "  array([1.]),\n",
              "  array([0.]),\n",
              "  array([0.00751372]),\n",
              "  0,\n",
              "  array([14.51707055])],\n",
              " [70,\n",
              "  array([0.03271042]),\n",
              "  1,\n",
              "  1,\n",
              "  [array([14.62614769]), array([0.03271042]), 0],\n",
              "  array([14.62614769]),\n",
              "  array([1.]),\n",
              "  array([0.]),\n",
              "  array([0.00751372]),\n",
              "  0,\n",
              "  array([14.51707055])],\n",
              " [71,\n",
              "  array([1.04275158]),\n",
              "  1,\n",
              "  1,\n",
              "  [array([14.62614769]), array([1.04275158]), 0],\n",
              "  array([14.62614769]),\n",
              "  array([1.]),\n",
              "  array([0.]),\n",
              "  array([0.00751372]),\n",
              "  0,\n",
              "  array([14.51707055])],\n",
              " [72,\n",
              "  array([1.23919957]),\n",
              "  1,\n",
              "  1,\n",
              "  [array([14.62614769]), array([1.23919957]), 0],\n",
              "  array([14.62614769]),\n",
              "  array([1.]),\n",
              "  array([0.]),\n",
              "  array([0.00751372]),\n",
              "  0,\n",
              "  array([14.51707055])],\n",
              " [73,\n",
              "  array([1.9318939]),\n",
              "  1,\n",
              "  1,\n",
              "  [array([14.62614769]), array([1.9318939]), 0],\n",
              "  array([14.62614769]),\n",
              "  array([1.]),\n",
              "  array([0.]),\n",
              "  array([0.00751372]),\n",
              "  0,\n",
              "  array([14.51707055])],\n",
              " [74,\n",
              "  array([0.76469812]),\n",
              "  1,\n",
              "  1,\n",
              "  [array([14.62614769]), array([0.76469812]), 0],\n",
              "  array([14.62614769]),\n",
              "  array([1.]),\n",
              "  array([0.]),\n",
              "  array([0.00751372]),\n",
              "  0,\n",
              "  array([14.51707055])],\n",
              " [75,\n",
              "  array([0.07591794]),\n",
              "  1,\n",
              "  1,\n",
              "  [array([14.62614769]), array([0.07591794]), 0],\n",
              "  array([14.62614769]),\n",
              "  array([1.]),\n",
              "  array([0.]),\n",
              "  array([0.00751372]),\n",
              "  0,\n",
              "  array([14.51707055])],\n",
              " [76,\n",
              "  array([1.]),\n",
              "  1,\n",
              "  1,\n",
              "  [array([14.62614769]), array([1.]), 0],\n",
              "  array([14.62614769]),\n",
              "  array([1.]),\n",
              "  array([0.]),\n",
              "  array([0.00751372]),\n",
              "  0,\n",
              "  array([14.51707055])],\n",
              " [77,\n",
              "  array([1.16999638]),\n",
              "  1,\n",
              "  1,\n",
              "  [array([14.62614769]), array([1.16999638]), 0],\n",
              "  array([14.62614769]),\n",
              "  array([1.]),\n",
              "  array([0.]),\n",
              "  array([0.00751372]),\n",
              "  0,\n",
              "  array([14.51707055])],\n",
              " [78,\n",
              "  array([1.15279342]),\n",
              "  1,\n",
              "  1,\n",
              "  [array([14.62614769]), array([1.15279342]), 0],\n",
              "  array([14.62614769]),\n",
              "  array([1.]),\n",
              "  array([0.]),\n",
              "  array([0.00751372]),\n",
              "  0,\n",
              "  array([14.51707055])],\n",
              " [79,\n",
              "  array([0.06678425]),\n",
              "  1,\n",
              "  1,\n",
              "  [array([14.62614769]), array([0.06678425]), 0],\n",
              "  array([14.62614769]),\n",
              "  array([1.]),\n",
              "  array([0.]),\n",
              "  array([0.00751372]),\n",
              "  0,\n",
              "  array([14.51707055])],\n",
              " [80,\n",
              "  array([1.]),\n",
              "  1,\n",
              "  1,\n",
              "  [array([14.62614769]), array([1.]), 0],\n",
              "  array([14.62614769]),\n",
              "  array([1.]),\n",
              "  array([0.]),\n",
              "  array([0.00751372]),\n",
              "  0,\n",
              "  array([14.51707055])],\n",
              " [81,\n",
              "  array([0.16887656]),\n",
              "  1,\n",
              "  1,\n",
              "  [array([14.62614769]), array([0.16887656]), 0],\n",
              "  array([14.62614769]),\n",
              "  array([1.]),\n",
              "  array([0.]),\n",
              "  array([0.00751372]),\n",
              "  0,\n",
              "  array([14.51707055])],\n",
              " [82,\n",
              "  array([0.92235198]),\n",
              "  1,\n",
              "  1,\n",
              "  [array([14.62614769]), array([0.92235198]), 0],\n",
              "  array([14.62614769]),\n",
              "  array([1.]),\n",
              "  array([0.]),\n",
              "  array([0.00751372]),\n",
              "  0,\n",
              "  array([14.51707055])],\n",
              " [83,\n",
              "  array([0.03744658]),\n",
              "  1,\n",
              "  1,\n",
              "  [array([14.62614769]), array([0.03744658]), 0],\n",
              "  array([14.62614769]),\n",
              "  array([1.]),\n",
              "  array([0.]),\n",
              "  array([0.00751372]),\n",
              "  0,\n",
              "  array([14.51707055])],\n",
              " [84,\n",
              "  array([1.01918054]),\n",
              "  1,\n",
              "  1,\n",
              "  [array([14.62614769]), array([1.01918054]), 0],\n",
              "  array([14.62614769]),\n",
              "  array([1.]),\n",
              "  array([0.]),\n",
              "  array([0.00751372]),\n",
              "  0,\n",
              "  array([14.51707055])],\n",
              " [85,\n",
              "  array([0.52320381]),\n",
              "  1,\n",
              "  1,\n",
              "  [array([14.62614769]), array([0.52320381]), 0],\n",
              "  array([14.62614769]),\n",
              "  array([1.]),\n",
              "  array([0.]),\n",
              "  array([0.00751372]),\n",
              "  0,\n",
              "  array([14.51707055])],\n",
              " [86,\n",
              "  array([0.10133435]),\n",
              "  1,\n",
              "  1,\n",
              "  [array([14.62614769]), array([0.10133435]), 0],\n",
              "  array([14.62614769]),\n",
              "  array([1.]),\n",
              "  array([0.]),\n",
              "  array([0.00751372]),\n",
              "  0,\n",
              "  array([14.51707055])],\n",
              " [87,\n",
              "  array([0.29030691]),\n",
              "  1,\n",
              "  1,\n",
              "  [array([14.62614769]), array([0.29030691]), 0],\n",
              "  array([14.62614769]),\n",
              "  array([1.]),\n",
              "  array([0.]),\n",
              "  array([0.00751372]),\n",
              "  0,\n",
              "  array([14.51707055])],\n",
              " [88,\n",
              "  array([0.66708581]),\n",
              "  1,\n",
              "  1,\n",
              "  [array([14.62614769]), array([0.66708581]), 0],\n",
              "  array([14.62614769]),\n",
              "  array([1.]),\n",
              "  array([0.]),\n",
              "  array([0.00751372]),\n",
              "  0,\n",
              "  array([14.51707055])],\n",
              " [89,\n",
              "  array([0.79732161]),\n",
              "  1,\n",
              "  1,\n",
              "  [array([14.62614769]), array([0.79732161]), 0],\n",
              "  array([14.62614769]),\n",
              "  array([1.]),\n",
              "  array([0.]),\n",
              "  array([0.00751372]),\n",
              "  0,\n",
              "  array([14.51707055])],\n",
              " [90,\n",
              "  array([1.27343919]),\n",
              "  1,\n",
              "  1,\n",
              "  [array([14.62614769]), array([1.27343919]), 0],\n",
              "  array([14.62614769]),\n",
              "  array([1.]),\n",
              "  array([0.]),\n",
              "  array([0.00751372]),\n",
              "  0,\n",
              "  array([14.51707055])],\n",
              " [91,\n",
              "  array([1.18234098]),\n",
              "  1,\n",
              "  1,\n",
              "  [array([14.62614769]), array([1.18234098]), 0],\n",
              "  array([14.62614769]),\n",
              "  array([1.]),\n",
              "  array([0.]),\n",
              "  array([0.00751372]),\n",
              "  0,\n",
              "  array([14.51707055])],\n",
              " [92,\n",
              "  array([0.76252033]),\n",
              "  1,\n",
              "  1,\n",
              "  [array([14.62614769]), array([0.76252033]), 0],\n",
              "  array([14.62614769]),\n",
              "  array([1.]),\n",
              "  array([0.]),\n",
              "  array([0.00751372]),\n",
              "  0,\n",
              "  array([14.51707055])],\n",
              " [93,\n",
              "  array([1.09858219]),\n",
              "  1,\n",
              "  1,\n",
              "  [array([14.62614769]), array([1.09858219]), 0],\n",
              "  array([14.62614769]),\n",
              "  array([1.]),\n",
              "  array([0.]),\n",
              "  array([0.00751372]),\n",
              "  0,\n",
              "  array([14.51707055])],\n",
              " [94,\n",
              "  array([1.55912482]),\n",
              "  1,\n",
              "  1,\n",
              "  [array([14.62614769]), array([1.55912482]), 0],\n",
              "  array([14.62614769]),\n",
              "  array([1.]),\n",
              "  array([0.]),\n",
              "  array([0.00751372]),\n",
              "  0,\n",
              "  array([14.51707055])],\n",
              " [95,\n",
              "  array([1.71561239]),\n",
              "  1,\n",
              "  1,\n",
              "  [array([14.62614769]), array([1.71561239]), 0],\n",
              "  array([14.62614769]),\n",
              "  array([1.]),\n",
              "  array([0.]),\n",
              "  array([0.00751372]),\n",
              "  0,\n",
              "  array([14.51707055])]]"
            ]
          },
          "metadata": {
            "tags": []
          },
          "execution_count": 25
        }
      ]
    },
    {
      "cell_type": "code",
      "metadata": {
        "id": "Tiw8inRifyZK",
        "colab_type": "code",
        "colab": {}
      },
      "source": [
        ""
      ],
      "execution_count": null,
      "outputs": []
    },
    {
      "cell_type": "code",
      "metadata": {
        "id": "I9xyQaVFvOHH",
        "colab_type": "code",
        "colab": {
          "base_uri": "https://localhost:8080/",
          "height": 761
        },
        "outputId": "76463af4-431d-49c6-ed09-8f9039ffd81c"
      },
      "source": [
        "fk = np.array(history_record)\n",
        "fkn = []\n",
        "for i in range(len(fk)):\n",
        "  for j in range(len(fk[i])):\n",
        "    fkn.append(fk[i][j]) \n",
        "\n",
        "wealth = []\n",
        "for i in range(len(fkn)):\n",
        "  wealth.append(fkn[i][5])\n",
        "\n",
        "stock = []\n",
        "for i in range(len(fkn)):\n",
        "  stock.append(fkn[i][4][2])\n",
        "\n",
        "plt.plot(wealth)\n",
        "plt.show()\n",
        "\n",
        "plt.plot(stock)\n",
        "plt.show()\n",
        "\n",
        "plt.plot(price_lstm)\n",
        "plt.show()"
      ],
      "execution_count": 35,
      "outputs": [
        {
          "output_type": "display_data",
          "data": {
            "image/png": "[encoded data removed]",
            "text/plain": [
              "<Figure size 432x288 with 1 Axes>"
            ]
          },
          "metadata": {
            "tags": [],
            "needs_background": "light"
          }
        },
        {
          "output_type": "display_data",
          "data": {
            "image/png": "[encoded data removed]",
            "text/plain": [
              "<Figure size 432x288 with 1 Axes>"
            ]
          },
          "metadata": {
            "tags": [],
            "needs_background": "light"
          }
        },
        {
          "output_type": "display_data",
          "data": {
            "image/png": "[encoded data removed]",
            "text/plain": [
              "<Figure size 432x288 with 1 Axes>"
            ]
          },
          "metadata": {
            "tags": [],
            "needs_background": "light"
          }
        }
      ]
    },
    {
      "cell_type": "code",
      "metadata": {
        "id": "1pgFjC-RxGGF",
        "colab_type": "code",
        "colab": {}
      },
      "source": [
        ""
      ],
      "execution_count": null,
      "outputs": []
    },
    {
      "cell_type": "markdown",
      "metadata": {
        "id": "ge_mWVAy229o",
        "colab_type": "text"
      },
      "source": [
        "결전 테스트 테스트 테스트"
      ]
    },
    {
      "cell_type": "code",
      "metadata": {
        "id": "L8GCRL3_F4F5",
        "colab_type": "code",
        "colab": {
          "base_uri": "https://localhost:8080/",
          "height": 105
        },
        "outputId": "1373db65-a2ae-4f36-f127-404a9ca83e7e"
      },
      "source": [
        "y = np.full((5, 2), 0.5)\n",
        "y"
      ],
      "execution_count": null,
      "outputs": [
        {
          "output_type": "execute_result",
          "data": {
            "text/plain": [
              "array([[0.5, 0.5],\n",
              "       [0.5, 0.5],\n",
              "       [0.5, 0.5],\n",
              "       [0.5, 0.5],\n",
              "       [0.5, 0.5]])"
            ]
          },
          "metadata": {
            "tags": []
          },
          "execution_count": 46
        }
      ]
    },
    {
      "cell_type": "code",
      "metadata": {
        "id": "GKGMXsYQV2x1",
        "colab_type": "code",
        "colab": {
          "base_uri": "https://localhost:8080/",
          "height": 105
        },
        "outputId": "f4a0eb78-e01e-4c31-ff36-4638be5d83e1"
      },
      "source": [
        "kk = [1,0,1,0,1]\n",
        "for i, k in enumerate(kk):\n",
        "  y[i,k] = 1.0\n",
        "\n",
        "y"
      ],
      "execution_count": null,
      "outputs": [
        {
          "output_type": "execute_result",
          "data": {
            "text/plain": [
              "array([[0.5, 1. ],\n",
              "       [1. , 0.5],\n",
              "       [0.5, 1. ],\n",
              "       [1. , 0.5],\n",
              "       [0.5, 1. ]])"
            ]
          },
          "metadata": {
            "tags": []
          },
          "execution_count": 48
        }
      ]
    },
    {
      "cell_type": "code",
      "metadata": {
        "id": "DFjvfVDfXxfo",
        "colab_type": "code",
        "colab": {
          "base_uri": "https://localhost:8080/",
          "height": 105
        },
        "outputId": "935866a1-d925-488c-d73e-ec095613baac"
      },
      "source": [
        "x = [np.array([5.0, 7.0]), np.array([6.0, 3.0]), np.array([2.0, 9.0]), np.array([5.0, 2.0]), np.array([3.0, 5.0])]\n",
        "x = np.array(x)\n",
        "x"
      ],
      "execution_count": null,
      "outputs": [
        {
          "output_type": "execute_result",
          "data": {
            "text/plain": [
              "array([[5., 7.],\n",
              "       [6., 3.],\n",
              "       [2., 9.],\n",
              "       [5., 2.],\n",
              "       [3., 5.]])"
            ]
          },
          "metadata": {
            "tags": []
          },
          "execution_count": 71
        }
      ]
    },
    {
      "cell_type": "code",
      "metadata": {
        "id": "k7dmfp4JZPwe",
        "colab_type": "code",
        "colab": {}
      },
      "source": [
        ""
      ],
      "execution_count": null,
      "outputs": []
    },
    {
      "cell_type": "code",
      "metadata": {
        "id": "iBDkiEfdWly6",
        "colab_type": "code",
        "colab": {}
      },
      "source": [
        "from tensorflow import keras\n",
        "import keras.layers as layers\n",
        "from keras.layers import LSTM, Dense, Dropout\n",
        "from keras.models import Model, Sequential\n",
        "from keras.optimizers import Adam, RMSprop"
      ],
      "execution_count": null,
      "outputs": []
    },
    {
      "cell_type": "code",
      "metadata": {
        "id": "IFpQnb7rWmGg",
        "colab_type": "code",
        "colab": {}
      },
      "source": [
        "def get_policy_model(lr):\n",
        "  \n",
        "  inp_L = layers.Input(shape=(5,1))  # 타입스텝수 7개, 특성개수 1개\n",
        "  dense1 = LSTM(10)(inp_L)\n",
        "  dense1 = Dense(64)(dense1) \n",
        "  dense1 = Dropout(0.5)(dense1)\n",
        "  dense1 = Dense(64)(dense1)\n",
        "  output_s = layers.Dense(1)(dense1)\n",
        "\n",
        "  model_train = Model(inputs=inp_L, outputs = output_s)\n",
        "  model_train.compile(loss='mse', optimizer=Adam(lr), metrics = ['mae'])\n",
        "  model_predict = Model(inputs=inp_L, outputs=output_s)\n",
        "  return model_train, model_predict"
      ],
      "execution_count": null,
      "outputs": []
    },
    {
      "cell_type": "code",
      "metadata": {
        "id": "y09ZuzLYSnvH",
        "colab_type": "code",
        "colab": {}
      },
      "source": [
        ""
      ],
      "execution_count": null,
      "outputs": []
    },
    {
      "cell_type": "code",
      "metadata": {
        "id": "YO3z5VbSn4Rs",
        "colab_type": "code",
        "colab": {}
      },
      "source": [
        "model_train, model_predict = get_policy_model(0.01)"
      ],
      "execution_count": null,
      "outputs": []
    },
    {
      "cell_type": "code",
      "metadata": {
        "id": "nDPgJZbPn4iH",
        "colab_type": "code",
        "colab": {
          "base_uri": "https://localhost:8080/",
          "height": 369
        },
        "outputId": "a5db15b0-bc24-4f04-8a0d-4260e17e4958"
      },
      "source": [
        "model_train.summary()"
      ],
      "execution_count": null,
      "outputs": [
        {
          "output_type": "stream",
          "text": [
            "Model: \"functional_13\"\n",
            "_________________________________________________________________\n",
            "Layer (type)                 Output Shape              Param #   \n",
            "=================================================================\n",
            "input_6 (InputLayer)         [(None, 5, 1)]            0         \n",
            "_________________________________________________________________\n",
            "lstm_5 (LSTM)                (None, 10)                480       \n",
            "_________________________________________________________________\n",
            "dense_9 (Dense)              (None, 64)                704       \n",
            "_________________________________________________________________\n",
            "dropout_4 (Dropout)          (None, 64)                0         \n",
            "_________________________________________________________________\n",
            "dense_10 (Dense)             (None, 64)                4160      \n",
            "_________________________________________________________________\n",
            "dense_11 (Dense)             (None, 1)                 65        \n",
            "=================================================================\n",
            "Total params: 5,409\n",
            "Trainable params: 5,409\n",
            "Non-trainable params: 0\n",
            "_________________________________________________________________\n"
          ],
          "name": "stdout"
        }
      ]
    },
    {
      "cell_type": "code",
      "metadata": {
        "id": "tPRQGQwzn4cJ",
        "colab_type": "code",
        "colab": {
          "base_uri": "https://localhost:8080/",
          "height": 369
        },
        "outputId": "2aa78f12-e352-47db-dac8-df55d49929c4"
      },
      "source": [
        "history = model_train.fit(p_serise_lstm, price_lstm, epochs=10)"
      ],
      "execution_count": null,
      "outputs": [
        {
          "output_type": "stream",
          "text": [
            "Epoch 1/10\n",
            "3/3 [==============================] - 0s 3ms/step - loss: 12.0193 - mae: 2.7826\n",
            "Epoch 2/10\n",
            "3/3 [==============================] - 0s 3ms/step - loss: 4.1420 - mae: 1.7935\n",
            "Epoch 3/10\n",
            "3/3 [==============================] - 0s 3ms/step - loss: 3.0824 - mae: 1.4788\n",
            "Epoch 4/10\n",
            "3/3 [==============================] - 0s 6ms/step - loss: 2.8924 - mae: 1.2820\n",
            "Epoch 5/10\n",
            "3/3 [==============================] - 0s 3ms/step - loss: 1.5044 - mae: 0.9103\n",
            "Epoch 6/10\n",
            "3/3 [==============================] - 0s 3ms/step - loss: 1.5784 - mae: 0.9893\n",
            "Epoch 7/10\n",
            "3/3 [==============================] - 0s 3ms/step - loss: 0.9732 - mae: 0.8175\n",
            "Epoch 8/10\n",
            "3/3 [==============================] - 0s 3ms/step - loss: 1.3706 - mae: 0.9635\n",
            "Epoch 9/10\n",
            "3/3 [==============================] - 0s 3ms/step - loss: 0.7576 - mae: 0.6973\n",
            "Epoch 10/10\n",
            "3/3 [==============================] - 0s 3ms/step - loss: 1.3460 - mae: 0.8538\n"
          ],
          "name": "stdout"
        }
      ]
    },
    {
      "cell_type": "code",
      "metadata": {
        "id": "Pnr6ybbzRcFm",
        "colab_type": "code",
        "colab": {}
      },
      "source": [
        "model_train.predict(p_serise_lstm) == model_predict.predict(p_serise_lstm)"
      ],
      "execution_count": null,
      "outputs": []
    },
    {
      "cell_type": "markdown",
      "metadata": {
        "id": "kxMksbeaKDJM",
        "colab_type": "text"
      },
      "source": [
        "여기가 끝이다."
      ]
    },
    {
      "cell_type": "code",
      "metadata": {
        "id": "SI8QKecFCOu1",
        "colab_type": "code",
        "colab": {}
      },
      "source": [
        ""
      ],
      "execution_count": null,
      "outputs": []
    },
    {
      "cell_type": "code",
      "metadata": {
        "id": "SBRPDtROrMhB",
        "colab_type": "code",
        "colab": {
          "base_uri": "https://localhost:8080/",
          "height": 52
        },
        "outputId": "02f2b544-480b-4a58-fb18-311c9f932f14"
      },
      "source": [
        "aj = np.array([[0.5, 0.5], [0.5,0.7]])\n",
        "\n",
        "aj[0,0] = 1.0\n",
        "\n",
        "aj"
      ],
      "execution_count": null,
      "outputs": [
        {
          "output_type": "execute_result",
          "data": {
            "text/plain": [
              "array([[1. , 0.5],\n",
              "       [0.5, 0.7]])"
            ]
          },
          "metadata": {
            "tags": []
          },
          "execution_count": 49
        }
      ]
    },
    {
      "cell_type": "code",
      "metadata": {
        "id": "BuAebEm_COof",
        "colab_type": "code",
        "colab": {}
      },
      "source": [
        "from tensorflow import keras\n",
        "from tensorflow.keras.utils import to_categorical\n",
        "y_encoded = keras.utils.to_categorical(action, 2) # 분류 갯수를 정하기 위한 인수(2)가 필요하다."
      ],
      "execution_count": null,
      "outputs": []
    },
    {
      "cell_type": "code",
      "metadata": {
        "id": "Ul2K9MCnCOlJ",
        "colab_type": "code",
        "colab": {}
      },
      "source": [
        "def balance_update(predict, p_serise):\n",
        "\n",
        "  acts = []\n",
        "  balance = [100, 0, 0]  #[자본금, 종가, 보유주식수] 이다.\n",
        "  blist = [[100.0, 0.0, 0.0]]\n",
        "  for i in range(len(predict)):\n",
        "    action = np.random.choice(3,p=predict[i]) # 대안 중에서 하나를 선택한다. \n",
        "    \n",
        "    if action == 0 and (balance[0] - p_serise[i][4]) < 0:\n",
        "      ps = predict[i][1] + predict[i][2]\n",
        "      pn = [predict[i][1],predict[i][2]]/ps\n",
        "      action = 1+ np.random.choice(2,p=pn) \n",
        "\n",
        "    if action == 2 and balance[2] <= 0:\n",
        "      ps = predict[i][0] + predict[i][1]\n",
        "      pn = [predict[i][0],predict[i][1]]/ps\n",
        "      action = np.random.choice(2,p=pn)  \n",
        "\n",
        "    if action == 1:  # hold\n",
        "      balance[1] = p_serise[i][4]\n",
        "\n",
        "    if action  == 0:  # buy\n",
        "      balance[0] = balance[0] - p_serise[i][4]\n",
        "      balance[1] = p_serise[i][4]\n",
        "      balance[2] = balance[2] + 1\n",
        "\n",
        "    if action  == 2:\n",
        "      balance[0] = balance[0] + p_serise[i][4]\n",
        "      balance[1] = p_serise[i][4]\n",
        "      balance[2] = balance[2] - 1 \n",
        "     \n",
        "    blist.append([balance[0], balance[1], balance[2]])\n",
        "    acts.append(action)\n",
        "  return blist, acts"
      ],
      "execution_count": null,
      "outputs": []
    },
    {
      "cell_type": "code",
      "metadata": {
        "id": "CW6izHkVNTWr",
        "colab_type": "code",
        "colab": {}
      },
      "source": [
        "def reward_portfolio (blist):   \n",
        "\n",
        "  reward_sum_list=[]\n",
        "  reward_list=[]\n",
        "   \n",
        "\n",
        "  for a in blist:\n",
        "    reward_sum = a[0] + a[1] * a[2]\n",
        "    reward_sum_list.append(reward_sum)\n",
        "\n",
        "  for i in range(len(reward_sum_list)-1):\n",
        "    reward = np.abs(reward_sum_list[i+1] - reward_sum_list[i]) # 가중치를 일괄적으로 양 수로 만들어서 손실함수 계산의 방향을 일관되게 만든다.\n",
        "    reward_list.append(reward)      \n",
        "  return reward_sum_list, reward_list\n",
        "\n"
      ],
      "execution_count": null,
      "outputs": []
    },
    {
      "cell_type": "code",
      "metadata": {
        "id": "E__9jrhId8jq",
        "colab_type": "code",
        "colab": {
          "base_uri": "https://localhost:8080/",
          "height": 34
        },
        "outputId": "7d36365c-0b2f-45c0-8026-aa9cec51ac4f"
      },
      "source": [
        "r = [1.0, 1.0, 1.0, 1.0]\n",
        "\n",
        "discount_rewards(r)"
      ],
      "execution_count": null,
      "outputs": [
        {
          "output_type": "execute_result",
          "data": {
            "text/plain": [
              "array([1.   , 1.5  , 1.75 , 1.875])"
            ]
          },
          "metadata": {
            "tags": []
          },
          "execution_count": 24
        }
      ]
    },
    {
      "cell_type": "code",
      "metadata": {
        "id": "52938aqWnN-c",
        "colab_type": "code",
        "colab": {
          "base_uri": "https://localhost:8080/",
          "height": 34
        },
        "outputId": "210ebf42-2bb5-4c93-9498-e944c3f3ecde"
      },
      "source": [
        "from tensorflow.keras.utils import to_categorical\n",
        "from tensorflow import keras\n",
        "import keras.layers as layers\n",
        "from keras.layers import LSTM, Dense\n",
        "from keras.models import Model, Sequential\n",
        "from keras.optimizers import Adam, RMSprop\n",
        "from keras.initializers import glorot_uniform\n",
        "from keras.callbacks import ModelCheckpoint, EarlyStopping\n",
        "import keras.backend as K  # 케라스의 backend를 K. 형식으로 호출하는 것이고 여기서는 tensorflow이다."
      ],
      "execution_count": null,
      "outputs": [
        {
          "output_type": "stream",
          "text": [
            "Using TensorFlow backend.\n"
          ],
          "name": "stderr"
        }
      ]
    },
    {
      "cell_type": "code",
      "metadata": {
        "id": "KCPbLji1nrUn",
        "colab_type": "code",
        "colab": {}
      },
      "source": [
        "def get_policy_model(lr):\n",
        "  inp_L = layers.Input(shape=(5,),name=\"input_L\")\n",
        "  multip = layers.Input(shape=[1], name=\"advantages\")\n",
        "  dense_L = Dense(64)(inp_L)\n",
        "  output_s = layers.Dense(3, activation=\"softmax\",kernel_initializer=glorot_uniform(seed=42), use_bias=False, kernel_regularizer=keras.regularizers.l2(0.001), name=\"out\")(dense_L)\n",
        "\n",
        "  model_train = Model(inputs=[inp_L, multip], outputs = output_s)\n",
        "\n",
        "  # loss 함수를 actual과 predict가 같을때 -무한대가 되도록 만든다. 완전히 틀리면 0 이므로 loss 함수의 값의 범위는 -무한대 ~ 0 이다.\n",
        "  def custom_loss(y_true, y_pred):\n",
        "    # actual: 0 predict: 0 -> log(0 * (0 - 0) + (1 - 0) * (0 + 0)) = -inf   log(0) = - inf\n",
        "    # actual: 1 predict: 1 -> log(1 * (1 - 1) + (1 - 1) * (1 + 1)) = -inf   \n",
        "    # actual: 1 predict: 0 -> log(1 * (1 - 0) + (1 - 1) * (1 + 0)) = 0      log(1) = 0\n",
        "    # actual: 0 predict: 1 -> log(0 * (0 - 1) + (1 - 0) * (0 + 1)) = 0\n",
        "    a = y_true * (y_true - y_pred) + (1 - y_true) * (y_true + y_pred)\n",
        "    log_lik = K.log(a)\n",
        "    return K.mean(log_lik * multip, keepdims=True)\n",
        "\n",
        "  model_train.compile(loss=custom_loss, optimizer=Adam(lr), metrics = ['mae'])\n",
        "  model_predict = Model(inputs=[inp_L], outputs = output_s)\n",
        "  return model_train, model_predict"
      ],
      "execution_count": null,
      "outputs": []
    },
    {
      "cell_type": "code",
      "metadata": {
        "id": "Tf2pQzw7oOcE",
        "colab_type": "code",
        "colab": {}
      },
      "source": [
        "model_train, model_predict = get_policy_model(0.00001)"
      ],
      "execution_count": null,
      "outputs": []
    },
    {
      "cell_type": "code",
      "metadata": {
        "id": "BdCAk3uqoOf4",
        "colab_type": "code",
        "colab": {
          "base_uri": "https://localhost:8080/",
          "height": 263
        },
        "outputId": "87b33d10-6db3-4a14-a684-09a81d87c9c2"
      },
      "source": [
        "model_train.summary()"
      ],
      "execution_count": null,
      "outputs": [
        {
          "output_type": "stream",
          "text": [
            "Model: \"model_1\"\n",
            "_________________________________________________________________\n",
            "Layer (type)                 Output Shape              Param #   \n",
            "=================================================================\n",
            "input_L (InputLayer)         (None, 5)                 0         \n",
            "_________________________________________________________________\n",
            "dense_1 (Dense)              (None, 64)                384       \n",
            "_________________________________________________________________\n",
            "out (Dense)                  (None, 3)                 192       \n",
            "=================================================================\n",
            "Total params: 576\n",
            "Trainable params: 576\n",
            "Non-trainable params: 0\n",
            "_________________________________________________________________\n"
          ],
          "name": "stdout"
        }
      ]
    },
    {
      "cell_type": "code",
      "metadata": {
        "id": "cnaVguhh0ykz",
        "colab_type": "code",
        "colab": {}
      },
      "source": [
        ""
      ],
      "execution_count": null,
      "outputs": []
    },
    {
      "cell_type": "code",
      "metadata": {
        "id": "ee-kc84l2EFX",
        "colab_type": "code",
        "colab": {}
      },
      "source": [
        ""
      ],
      "execution_count": null,
      "outputs": []
    },
    {
      "cell_type": "code",
      "metadata": {
        "id": "IazXuUZw56iI",
        "colab_type": "code",
        "colab": {}
      },
      "source": [
        ""
      ],
      "execution_count": null,
      "outputs": []
    }
  ]
}