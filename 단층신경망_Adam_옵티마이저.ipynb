{
  "nbformat": 4,
  "nbformat_minor": 0,
  "metadata": {
    "colab": {
      "name": "단층신경망 Adam 옵티마이저",
      "provenance": [],
      "collapsed_sections": [],
      "toc_visible": true,
      "include_colab_link": true
    },
    "kernelspec": {
      "display_name": "Python 3",
      "name": "python3"
    }
  },
  "cells": [
    {
      "cell_type": "markdown",
      "metadata": {
        "id": "view-in-github",
        "colab_type": "text"
      },
      "source": [
        "<a href=\"https://colab.research.google.com/github/sjbaek12/sjbaek12.github.io/blob/master/%EB%8B%A8%EC%B8%B5%EC%8B%A0%EA%B2%BD%EB%A7%9D_Adam_%EC%98%B5%ED%8B%B0%EB%A7%88%EC%9D%B4%EC%A0%80.ipynb\" target=\"_parent\"><img src=\"https://colab.research.google.com/assets/colab-badge.svg\" alt=\"Open In Colab\"/></a>"
      ]
    },
    {
      "cell_type": "markdown",
      "metadata": {
        "colab_type": "text",
        "id": "5fCEDCU_qrC0"
      },
      "source": [
        "단층신경망에 Adam 옵티마이저를 적용한다.\n",
        "텐서플로우 버전 1을 사용하기 위해서 버전 선언을 한다."
      ]
    },
    {
      "cell_type": "code",
      "metadata": {
        "id": "2vH5pyhIx93p",
        "colab_type": "code",
        "colab": {}
      },
      "source": [
        "import numpy as np\n",
        "import tensorflow as tf\n",
        "import matplotlib.pyplot as plt\n",
        "\n"
      ],
      "execution_count": null,
      "outputs": []
    },
    {
      "cell_type": "markdown",
      "metadata": {
        "id": "TBCK4f9k144C",
        "colab_type": "text"
      },
      "source": [
        "훈련데이터 x_train은 364개의 샘플과 30개의 feature를 가지고 있다.\n",
        "\n",
        "y placeholder와 데이터를 feeding하게 될 y_train의 shape을 동일하게 (364, 1)로 맞추어 준다."
      ]
    },
    {
      "cell_type": "code",
      "metadata": {
        "id": "__sIWniMyRrd",
        "colab_type": "code",
        "colab": {
          "base_uri": "https://localhost:8080/",
          "height": 52
        },
        "outputId": "3823004e-beb1-4d2f-c818-f3cf7565db6c"
      },
      "source": [
        "from sklearn.datasets import load_breast_cancer\n",
        "from sklearn.model_selection import train_test_split\n",
        "\n",
        "cancer = load_breast_cancer()\n",
        "x = cancer.data\n",
        "y = cancer.target\n",
        "x_train_all, x_test, y_train_all, y_test = train_test_split(x, y, stratify=y,test_size=0.2, random_state=42)\n",
        "x_train, x_val, y_train, y_val = train_test_split(x_train_all, y_train_all, stratify=y_train_all, test_size=0.2, random_state=42)\n",
        "\n",
        "print(x_train.shape, y_train.shape)\n",
        "y_train = y_train.reshape(364,1)\n",
        "x_train = tf.Variable(x_train, dtype=tf.float32)\n",
        "print(x_train.shape)"
      ],
      "execution_count": null,
      "outputs": [
        {
          "output_type": "stream",
          "text": [
            "(364, 30) (364,)\n",
            "(364, 30)\n"
          ],
          "name": "stdout"
        }
      ]
    },
    {
      "cell_type": "markdown",
      "metadata": {
        "id": "nkmrLiBg2ffZ",
        "colab_type": "text"
      },
      "source": [
        "가중치 W의 초기값은 작게 설정하여야 한다. 만약 1로 설정이 된다면 시그모이드 함수에서 거의 극한값에 도달하여 에러가 날 수 도 있다.\n",
        "\n",
        "Adam 옵티마이저는 Back Propagation 없이 Forward Propagation과 Loss 함수를 지정해 주면 자동 미분에 의해서 가중치를 Update 한다.\n",
        "\n",
        "Learning Rate를 크게 할 경우, loss 함수가 단조 감소가 아니라 상하로 흔들리는 경우가 발생한다. "
      ]
    },
    {
      "cell_type": "code",
      "metadata": {
        "id": "IsGJTSdmyueO",
        "colab_type": "code",
        "colab": {}
      },
      "source": [
        "class singleLayer():\n",
        "\n",
        "  def __init__(self):\n",
        "    self.W = tf.Variable(np.zeros((30,1)), dtype=tf.float32)\n",
        "    self.b = tf.Variable(-0.3, dtype=tf.float32)  # 초기치 설정을 다른 것으로 했을 때 error가 발생한 경우도 있었다.\n",
        "    self.Wf = tf.Variable(np.zeros((30,1)), dtype=tf.float32) # Wf, bf는 훈련이 끝난 최종 가중치이다.\n",
        "    self.bf = tf.Variable(-0.3, dtype=tf.float32)  \n",
        "    \n",
        "\n",
        "  def forword(self, x):\n",
        "    self.z = tf.matmul(x, self.W) + self.b\n",
        "    model = 1 / (1 + tf.exp(- self.z))    \n",
        "    return model\n",
        "\n",
        "  def fit(self, x, y, num_epochs=1000):\n",
        "    losses = [] \n",
        "    self.optimizer = tf.keras.optimizers.Adam(learning_rate=0.001) # Adam을 쓰지않고 다른 것을 사용했을때 계산이 않되는 경우도 있었다.\n",
        "    for step in range(num_epochs):          \n",
        "      with tf.GradientTape() as tape:\n",
        "        model = self.forword(x)\n",
        "        loss = tf.reduce_sum(-(y*tf.math.log(model) + (1-y)*tf.math.log(1-model))) + tf.reduce_sum(0.1 * tf.square(self.W))\n",
        "\n",
        "      grads = tape.gradient(loss, [self.W, self.b])\n",
        "      self.optimizer.apply_gradients(zip(grads, [self.W, self.b]))\n",
        "      losses.append(loss.numpy())\n",
        "      self.Wf = self.W\n",
        "      self.bf = self.b\n",
        "    return losses \n",
        "\n",
        "  \n",
        "  def predict(self, x, y):\n",
        "    y_hat = []\n",
        "    zf = tf.matmul(x, self.Wf) + self.bf\n",
        "    af = 1 / (1 + tf.exp(-zf)) \n",
        "    for i in range(0, len(y)-1):\n",
        "      if af[i] >= 0.5:\n",
        "          y_hat.append(1)\n",
        "      else:\n",
        "          y_hat.append(0)\n",
        "    return y_hat\n",
        "\n",
        "\n",
        "\n",
        "\n"
      ],
      "execution_count": null,
      "outputs": []
    },
    {
      "cell_type": "code",
      "metadata": {
        "id": "NcW6cbsuKXyo",
        "colab_type": "code",
        "colab": {}
      },
      "source": [
        "smodel = singleLayer()"
      ],
      "execution_count": null,
      "outputs": []
    },
    {
      "cell_type": "code",
      "metadata": {
        "id": "icBytBmOL0TY",
        "colab_type": "code",
        "colab": {}
      },
      "source": [
        "losses  = smodel.fit(x_train, y_train)"
      ],
      "execution_count": null,
      "outputs": []
    },
    {
      "cell_type": "code",
      "metadata": {
        "id": "9XWGDmTAqawj",
        "colab_type": "code",
        "colab": {
          "base_uri": "https://localhost:8080/",
          "height": 54
        },
        "outputId": "634eee23-b3a2-4bf4-9b10-78a4e13d9547"
      },
      "source": [
        "print(losses)"
      ],
      "execution_count": null,
      "outputs": [
        {
          "output_type": "stream",
          "text": [
            "[270.1853, 247.492, 229.70053, 215.87604, 204.82565, 193.48468, 185.26746, 176.58636, 169.8767, 162.72739, 157.12877, 151.36911, 146.57594, 142.06195, 137.75261, 134.15298, 130.5426, 127.39418, 124.55024, 121.737976, 119.325905, 117.047325, 114.86577, 112.97524, 111.14659, 109.420845, 107.900894, 106.423454, 105.03997, 103.802895, 102.59603, 101.46501, 100.44156, 99.44412, 98.50711, 97.6502, 96.81471, 96.02587, 95.29812, 94.5892, 93.91684, 93.29136, 92.68189, 92.10095, 91.55653, 91.02609, 90.51839, 90.03926, 89.57214, 89.12326, 88.69698, 88.28113, 87.88026, 87.49736, 87.12345, 86.76193, 86.414894, 86.075645, 85.74689, 85.42981, 85.11956, 84.818184, 84.5264, 84.24058, 83.96244, 83.692184, 83.427216, 83.16889, 82.91712, 82.670105, 82.42886, 82.19318, 81.9617, 81.73533, 81.51366, 81.29581, 81.08244, 80.87315, 80.66732, 80.46546, 80.26712, 80.07196, 79.880325, 79.691765, 79.50616, 79.323654, 79.143906, 78.96686, 78.792564, 78.62078, 78.451454, 78.28461, 78.120026, 77.957695, 77.79762, 77.639595, 77.483665, 77.32976, 77.177734, 77.02764, 76.87937, 76.732864, 76.58812, 76.44504, 76.303604, 76.16378, 76.02549, 75.888725, 75.75345, 75.61958, 75.48712, 75.35605, 75.22628, 75.09785, 74.97064, 74.8447, 74.71998, 74.596405, 74.47401, 74.352715, 74.232544, 74.11344, 73.995384, 73.878365, 73.76235, 73.6473, 73.53324, 73.4201, 73.307884, 73.19658, 73.08615, 72.97658, 72.867874, 72.75999, 72.65291, 72.54664, 72.441154, 72.33642, 72.23245, 72.12919, 72.02668, 71.924866, 71.82375, 71.72333, 71.62357, 71.52447, 71.42603, 71.32821, 71.23102, 71.13444, 71.038475, 70.943115, 70.84831, 70.75409, 70.66044, 70.56733, 70.47478, 70.38275, 70.291275, 70.200294, 70.10986, 70.019905, 69.93045, 69.8415, 69.75303, 69.66503, 69.57752, 69.49043, 69.40384, 69.31769, 69.231964, 69.146706, 69.06186, 68.97746, 68.89346, 68.8099, 68.72674, 68.64399, 68.561646, 68.479706, 68.39813, 68.31698, 68.23619, 68.15578, 68.07574, 67.99609, 67.9168, 67.83787, 67.75931, 67.68109, 67.603226, 67.52572, 67.44855, 67.37171, 67.295235, 67.219086, 67.14328, 67.06778, 66.99262, 66.91777, 66.84327, 66.76907, 66.6952, 66.621605, 66.54835, 66.47539, 66.40275, 66.33041, 66.25837, 66.18661, 66.11515, 66.04401, 65.973145, 65.90256, 65.832275, 65.76227, 65.69254, 65.62311, 65.553955, 65.48506, 65.41646, 65.34813, 65.28006, 65.21229, 65.144745, 65.07751, 65.01052, 64.94379, 64.87732, 64.81113, 64.745186, 64.67949, 64.61406, 64.548904, 64.48397, 64.419304, 64.3549, 64.29071, 64.2268, 64.16312, 64.099686, 64.0365, 63.973564, 63.910862, 63.848408, 63.786182, 63.724186, 63.662453, 63.600937, 63.539642, 63.478603, 63.417793, 63.357212, 63.296852, 63.236732, 63.17683, 63.117157, 63.05771, 62.99851, 62.939495, 62.880726, 62.82217, 62.76383, 62.705715, 62.64782, 62.590134, 62.53268, 62.475437, 62.418392, 62.36158, 62.304962, 62.248577, 62.192387, 62.136406, 62.080624, 62.025074, 61.969727, 61.914574, 61.85962, 61.80489, 61.750347, 61.696014, 61.641876, 61.587936, 61.534203, 61.480663, 61.427334, 61.374195, 61.321247, 61.26849, 61.21595, 61.16357, 61.111397, 61.059425, 61.007626, 60.956017, 60.904606, 60.853386, 60.802353, 60.751507, 60.700832, 60.650364, 60.60006, 60.549946, 60.500015, 60.450256, 60.4007, 60.3513, 60.302086, 60.253067, 60.2042, 60.155537, 60.107014, 60.05868, 60.01054, 59.96255, 59.914734, 59.86711, 59.819633, 59.77234, 59.7252, 59.678238, 59.631443, 59.584816, 59.538353, 59.49206, 59.44593, 59.39995, 59.354145, 59.308502, 59.263016, 59.2177, 59.17252, 59.127514, 59.082664, 59.037975, 58.99344, 58.94906, 58.904846, 58.860764, 58.816833, 58.773075, 58.729473, 58.686005, 58.642677, 58.599518, 58.556503, 58.513638, 58.470913, 58.42833, 58.385914, 58.343628, 58.30149, 58.25949, 58.21763, 58.175907, 58.134354, 58.09291, 58.051636, 58.01047, 57.96946, 57.928577, 57.88784, 57.84723, 57.806763, 57.766434, 57.726223, 57.686157, 57.646214, 57.606426, 57.566757, 57.52719, 57.4878, 57.44849, 57.409336, 57.370323, 57.331406, 57.292633, 57.253986, 57.21547, 57.17707, 57.138786, 57.100613, 57.06259, 57.02467, 56.9869, 56.949207, 56.91166, 56.874237, 56.83691, 56.799717, 56.76262, 56.725662, 56.688805, 56.65206, 56.615456, 56.578938, 56.54255, 56.506268, 56.470093, 56.434032, 56.398083, 56.362244, 56.326504, 56.290897, 56.25538, 56.219967, 56.184666, 56.149467, 56.11438, 56.079388, 56.044518, 56.009735, 55.97505, 55.940495, 55.906025, 55.87165, 55.8374, 55.80323, 55.769157, 55.73518, 55.70131, 55.667553, 55.633873, 55.600285, 55.56681, 55.53344, 55.50013, 55.46694, 55.433834, 55.400818, 55.367912, 55.33509, 55.30237, 55.269726, 55.237167, 55.20471, 55.17233, 55.140064, 55.107876, 55.07577, 55.043762, 55.011826, 54.979984, 54.948246, 54.91657, 54.884995, 54.853493, 54.822083, 54.79075, 54.759514, 54.72835, 54.697266, 54.66626, 54.63535, 54.60451, 54.57376, 54.54308, 54.51248, 54.481968, 54.45154, 54.421177, 54.39089, 54.36069, 54.330574, 54.300507, 54.27053, 54.24064, 54.210835, 54.181065, 54.151394, 54.121803, 54.092274, 54.06282, 54.033443, 54.00412, 53.974888, 53.945717, 53.916645, 53.887604, 53.858658, 53.829777, 53.800957, 53.772213, 53.743557, 53.714943, 53.686398, 53.65793, 53.629517, 53.601192, 53.57291, 53.544712, 53.516563, 53.48849, 53.460476, 53.432545, 53.40465, 53.37685, 53.349087, 53.321407, 53.29377, 53.266205, 53.2387, 53.211266, 53.183887, 53.15657, 53.129307, 53.10211, 53.074974, 53.047897, 53.02089, 52.993927, 52.96703, 52.940197, 52.91341, 52.88668, 52.860016, 52.8334, 52.806847, 52.780346, 52.753914, 52.72753, 52.7012, 52.67493, 52.648712, 52.62255, 52.59644, 52.57038, 52.544388, 52.518444, 52.492554, 52.466705, 52.440933, 52.415184, 52.389496, 52.363884, 52.338287, 52.31277, 52.287285, 52.261864, 52.236485, 52.21117, 52.185886, 52.160664, 52.13547, 52.110367, 52.08529, 52.060265, 52.03527, 52.010353, 51.985462, 51.960625, 51.93585, 51.9111, 51.886414, 51.86175, 51.837162, 51.81261, 51.788116, 51.76364, 51.73923, 51.714863, 51.690536, 51.666252, 51.642017, 51.61783, 51.59368, 51.569584, 51.545517, 51.5215, 51.49753, 51.473606, 51.44972, 51.42588, 51.402065, 51.37832, 51.354603, 51.33092, 51.307304, 51.283707, 51.260155, 51.23667, 51.213184, 51.189774, 51.166393, 51.143017, 51.119736, 51.096466, 51.073254, 51.050056, 51.02691, 51.00381, 50.980743, 50.957726, 50.934723, 50.91178, 50.88887, 50.86599, 50.843166, 50.82036, 50.7976, 50.774887, 50.752205, 50.72954, 50.70693, 50.68435, 50.66182, 50.63933, 50.61684, 50.594418, 50.57202, 50.54967, 50.52735, 50.505077, 50.48281, 50.460606, 50.438427, 50.416275, 50.39417, 50.372093, 50.35005, 50.328045, 50.306072, 50.28413, 50.262234, 50.24035, 50.218517, 50.196712, 50.174942, 50.153206, 50.1315, 50.109833, 50.08818, 50.066586, 50.045006, 50.023457, 50.001972, 49.98048, 49.95904, 49.93762, 49.91624, 49.894894, 49.873577, 49.852283, 49.831043, 49.809803, 49.78862, 49.767445, 49.74631, 49.725212, 49.70414, 49.6831, 49.66209, 49.641106, 49.620163, 49.59924, 49.578342, 49.557472, 49.536648, 49.515854, 49.49508, 49.474323, 49.453617, 49.43294, 49.41227, 49.391655, 49.37105, 49.350475, 49.32992, 49.309414, 49.288925, 49.26847, 49.248043, 49.227646, 49.20727, 49.18693, 49.166603, 49.14631, 49.126038, 49.1058, 49.085598, 49.06541, 49.045246, 49.02513, 49.005035, 48.984955, 48.96491, 48.94488, 48.92488, 48.90492, 48.88499, 48.865055, 48.84518, 48.825314, 48.805473, 48.785652, 48.765865, 48.746117, 48.726387, 48.70666, 48.68699, 48.66734, 48.64769, 48.628098, 48.608505, 48.588955, 48.569427, 48.54991, 48.530445, 48.510967, 48.49154, 48.472126, 48.452747, 48.43339, 48.414055, 48.394753, 48.37546, 48.356182, 48.336956, 48.31775, 48.298546, 48.27939, 48.260246, 48.241127, 48.222027, 48.20296, 48.183914, 48.164883, 48.14588, 48.126907, 48.107956, 48.08903, 48.070114, 48.051228, 48.032368, 48.013535, 47.9947, 47.975914, 47.957146, 47.938393, 47.919678, 47.900978, 47.882286, 47.863625, 47.844997, 47.826397, 47.807793, 47.78923, 47.770683, 47.75215, 47.73364, 47.715176, 47.696728, 47.678288, 47.65987, 47.641468, 47.6231, 47.604748, 47.586426, 47.56812, 47.54983, 47.531567, 47.51333, 47.49511, 47.476894, 47.458725, 47.44057, 47.422436, 47.404312, 47.38622, 47.36815, 47.3501, 47.33206, 47.314068, 47.29607, 47.2781, 47.26015, 47.242233, 47.22431, 47.20644, 47.188572, 47.170723, 47.1529, 47.135094, 47.117313, 47.099552, 47.081806, 47.06409, 47.046383, 47.028713, 47.01104, 46.9934, 46.97577, 46.95817, 46.940582, 46.92303, 46.90548, 46.887955, 46.87046, 46.85297, 46.835514, 46.818073, 46.80064, 46.78322, 46.765842, 46.74848, 46.731136, 46.713806, 46.696495, 46.679207, 46.661953, 46.644688, 46.62747, 46.61026, 46.593052, 46.575882, 46.558727, 46.541588, 46.524483, 46.50738, 46.490303, 46.47324, 46.456192, 46.439182, 46.422173, 46.40519, 46.388226, 46.371284, 46.354355, 46.337444, 46.32054, 46.30368, 46.286823, 46.269985, 46.25317, 46.23637, 46.219585, 46.202827, 46.186085, 46.169346, 46.15265, 46.13597, 46.1193, 46.10264, 46.086014, 46.069397, 46.05279, 46.036224, 46.019653, 46.003117, 45.986595, 45.970085, 45.953583, 45.93712, 45.920662, 45.90422, 45.887806, 45.871418, 45.855022, 45.83866, 45.822315, 45.80599, 45.789673, 45.773384, 45.757095, 45.74084, 45.7246, 45.708374, 45.692165, 45.67599, 45.65981, 45.643658, 45.627525, 45.611404, 45.595306, 45.579212, 45.563145, 45.547096, 45.53107, 45.51505, 45.499058, 45.483078, 45.467102, 45.451164, 45.435234, 45.419323, 45.403423, 45.387535, 45.371685, 45.35584, 45.34001, 45.324203, 45.3084, 45.292625, 45.276875, 45.26113, 45.245407, 45.22969, 45.214, 45.198322, 45.18267, 45.167034, 45.1514, 45.1358, 45.120197, 45.10462, 45.089066, 45.07353, 45.058, 45.042492, 45.026997, 45.011524, 44.99607, 44.98063, 44.965195, 44.949787, 44.93439, 44.919025, 44.903675, 44.888317, 44.872993, 44.85767, 44.84239, 44.827106, 44.81184, 44.79659, 44.781353, 44.766148, 44.750946, 44.735775, 44.7206, 44.705467, 44.690323, 44.675213, 44.660107, 44.645023, 44.62996, 44.61491, 44.599865, 44.584843, 44.569843, 44.55487, 44.53988, 44.524933, 44.509995, 44.49505, 44.480152, 44.46525, 44.450382, 44.43553, 44.420666, 44.405865, 44.39103, 44.37623, 44.361473, 44.346687, 44.331932, 44.317207, 44.302498, 44.287785, 44.273098, 44.258427, 44.24375, 44.22912, 44.214497, 44.199886, 44.1853, 44.170727, 44.15615, 44.141613, 44.127068, 44.112556, 44.09805, 44.083565, 44.069103, 44.054638, 44.0402, 44.02578, 44.01138, 43.996986, 43.98261, 43.968243, 43.953896, 43.939556, 43.925247, 43.910946, 43.896652, 43.882385, 43.868137, 43.85391, 43.83967, 43.825455, 43.811256, 43.797085, 43.782906, 43.768757, 43.75463, 43.740513, 43.726406, 43.71232]\n"
          ],
          "name": "stdout"
        }
      ]
    },
    {
      "cell_type": "markdown",
      "metadata": {
        "id": "F-AWFBi4pNC5",
        "colab_type": "text"
      },
      "source": [
        "훈련을 통해서 얻어진 최적 가중치를 활용해서 평가 데이터의 예측 정확도를 구한다"
      ]
    },
    {
      "cell_type": "code",
      "metadata": {
        "id": "fLDOU4SA1lW8",
        "colab_type": "code",
        "colab": {
          "base_uri": "https://localhost:8080/",
          "height": 279
        },
        "outputId": "6fa7b946-75af-4f49-ea36-c1d56f77d839"
      },
      "source": [
        "plt.plot(losses, label = \"train\")\n",
        "plt.ylabel('loss')\n",
        "plt.xlabel('epoch')\n",
        "plt.show()"
      ],
      "execution_count": null,
      "outputs": [
        {
          "output_type": "display_data",
          "data": {
            "image/png": "[encoded data removed]",
            "text/plain": [
              "<Figure size 432x288 with 1 Axes>"
            ]
          },
          "metadata": {
            "tags": [],
            "needs_background": "light"
          }
        }
      ]
    },
    {
      "cell_type": "code",
      "metadata": {
        "id": "Qj4NLMzv5W-p",
        "colab_type": "code",
        "colab": {
          "base_uri": "https://localhost:8080/",
          "height": 54
        },
        "outputId": "e725c1a0-d622-4934-834b-01cec2d998ef"
      },
      "source": [
        "y_hat = smodel.predict(x_train, y_train )\n",
        "print(y_hat)"
      ],
      "execution_count": null,
      "outputs": [
        {
          "output_type": "stream",
          "text": [
            "[1, 1, 0, 0, 1, 1, 1, 0, 1, 1, 0, 1, 1, 0, 1, 1, 1, 0, 1, 0, 0, 0, 1, 1, 1, 0, 1, 1, 0, 1, 1, 0, 1, 1, 0, 0, 0, 1, 0, 0, 1, 1, 1, 1, 1, 1, 0, 1, 0, 1, 1, 0, 0, 1, 1, 0, 1, 1, 1, 1, 0, 1, 1, 1, 1, 1, 0, 1, 1, 0, 0, 1, 0, 0, 0, 1, 0, 1, 1, 1, 0, 1, 0, 0, 0, 1, 0, 1, 1, 0, 1, 1, 0, 0, 1, 0, 1, 0, 0, 0, 1, 1, 0, 0, 0, 1, 1, 1, 1, 1, 0, 0, 0, 0, 1, 0, 1, 1, 1, 1, 1, 0, 0, 1, 1, 1, 1, 0, 1, 1, 1, 1, 0, 1, 1, 0, 1, 1, 0, 1, 1, 1, 1, 1, 0, 1, 0, 1, 1, 1, 0, 0, 1, 0, 1, 1, 1, 0, 0, 1, 1, 0, 1, 1, 0, 0, 1, 1, 1, 1, 1, 1, 0, 1, 1, 1, 0, 1, 0, 0, 0, 0, 1, 1, 0, 0, 1, 0, 1, 1, 1, 0, 1, 1, 1, 0, 1, 1, 0, 1, 1, 1, 0, 1, 1, 0, 0, 1, 1, 1, 1, 0, 0, 1, 1, 0, 0, 1, 1, 0, 1, 1, 1, 1, 1, 1, 0, 1, 1, 0, 0, 1, 1, 1, 1, 1, 1, 1, 0, 0, 1, 1, 1, 1, 0, 1, 0, 1, 0, 1, 1, 0, 1, 1, 0, 1, 0, 1, 1, 1, 0, 1, 1, 1, 0, 1, 1, 0, 1, 1, 0, 0, 1, 1, 0, 1, 1, 0, 1, 1, 1, 1, 1, 0, 1, 1, 1, 1, 1, 1, 1, 1, 0, 0, 1, 0, 0, 1, 0, 1, 0, 1, 0, 1, 1, 1, 0, 0, 1, 1, 0, 1, 0, 1, 0, 1, 0, 1, 1, 1, 0, 1, 1, 1, 0, 0, 1, 1, 1, 1, 1, 1, 1, 1, 1, 1, 1, 0, 1, 0, 1, 1, 1, 0, 0, 1, 1, 1, 1, 0, 0, 1, 1, 1, 1, 0, 1, 1, 0, 1, 1, 1, 0]\n"
          ],
          "name": "stdout"
        }
      ]
    },
    {
      "cell_type": "markdown",
      "metadata": {
        "id": "ae8mpsv0KNkR",
        "colab_type": "text"
      },
      "source": [
        "최종적으로 Score를 계산한다"
      ]
    },
    {
      "cell_type": "code",
      "metadata": {
        "id": "qjjkj5ZHJABU",
        "colab_type": "code",
        "colab": {
          "base_uri": "https://localhost:8080/",
          "height": 34
        },
        "outputId": "ca9bad60-92e9-4ca5-fe69-9427523ade0d"
      },
      "source": [
        "score = 0.0\n",
        "\n",
        "for i in range(0, len(y_train)-1):\n",
        "  if y_hat[i] == y_train[i]:\n",
        "    score = score + 1\n",
        "    \n",
        "score = score/len(y_train)\n",
        "\n",
        "print(\"score is \", score)"
      ],
      "execution_count": null,
      "outputs": [
        {
          "output_type": "stream",
          "text": [
            "score is  0.9478021978021978\n"
          ],
          "name": "stdout"
        }
      ]
    },
    {
      "cell_type": "code",
      "metadata": {
        "id": "ucoVL_B4J5BU",
        "colab_type": "code",
        "colab": {
          "base_uri": "https://localhost:8080/",
          "height": 70
        },
        "outputId": "741b31d3-3fdc-417f-a4f4-3dbd4fa33de3"
      },
      "source": [
        "len(y_train)\n",
        "print(y_train[0])\n",
        "print(y_hat[0])\n",
        "print(y_hat[0]==y_train[0])"
      ],
      "execution_count": null,
      "outputs": [
        {
          "output_type": "stream",
          "text": [
            "[1]\n",
            "1\n",
            "[ True]\n"
          ],
          "name": "stdout"
        }
      ]
    }
  ]
}