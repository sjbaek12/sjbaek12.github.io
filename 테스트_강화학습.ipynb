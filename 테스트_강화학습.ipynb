{
  "nbformat": 4,
  "nbformat_minor": 0,
  "metadata": {
    "colab": {
      "name": "테스트 강화학습",
      "provenance": [],
      "collapsed_sections": [],
      "authorship_tag": "ABX9TyPLJl5iAEglN3JChV+bgH7W",
      "include_colab_link": true
    },
    "kernelspec": {
      "name": "python3",
      "display_name": "Python 3"
    }
  },
  "cells": [
    {
      "cell_type": "markdown",
      "metadata": {
        "id": "view-in-github",
        "colab_type": "text"
      },
      "source": [
        "<a href=\"https://colab.research.google.com/github/sjbaek12/sjbaek12.github.io/blob/master/%ED%85%8C%EC%8A%A4%ED%8A%B8_%EA%B0%95%ED%99%94%ED%95%99%EC%8A%B5.ipynb\" target=\"_parent\"><img src=\"https://colab.research.google.com/assets/colab-badge.svg\" alt=\"Open In Colab\"/></a>"
      ]
    },
    {
      "cell_type": "code",
      "metadata": {
        "id": "ZFtvUcCMK_VI",
        "colab_type": "code",
        "colab": {}
      },
      "source": [
        "import numpy as np\n",
        "import matplotlib.pyplot as plt"
      ],
      "execution_count": 1,
      "outputs": []
    },
    {
      "cell_type": "code",
      "metadata": {
        "id": "rDPyv4nbyYRY",
        "colab_type": "code",
        "colab": {}
      },
      "source": [
        "def env():\n",
        "  price=[]\n",
        "  for i in range(10):\n",
        "    bias = np.random.rand(1)\n",
        "    p = -0.01*(i-50)**2 + bias*10\n",
        "    price.append(p[0])\n",
        "  p_mean = np.mean(price)\n",
        "  p_std = np.std(price)\n",
        "  price = (price - p_mean)/p_std\n",
        "  return price"
      ],
      "execution_count": 2,
      "outputs": []
    },
    {
      "cell_type": "code",
      "metadata": {
        "id": "4o1XQfwUqCj8",
        "colab_type": "code",
        "colab": {
          "base_uri": "https://localhost:8080/",
          "height": 265
        },
        "outputId": "7a380dd5-59ee-4572-eeb5-8bd202e98bcb"
      },
      "source": [
        "# 환경함수를 통해서 하나의 시장 환경을 만들었다.\n",
        "\n",
        "price = env()\n",
        "plt.plot(price)\n",
        "plt.show()"
      ],
      "execution_count": 3,
      "outputs": [
        {
          "output_type": "display_data",
          "data": {
            "image/png": "[encoded data removed]",
            "text/plain": [
              "<Figure size 432x288 with 1 Axes>"
            ]
          },
          "metadata": {
            "tags": [],
            "needs_background": "light"
          }
        }
      ]
    },
    {
      "cell_type": "code",
      "metadata": {
        "id": "f_m6Bzm5aW6F",
        "colab_type": "code",
        "colab": {}
      },
      "source": [
        "multip = np.array([2.0, 100.0, 5.0, 2.0, 2.0, 2.0, 2.0, 2.0, 2.0, 2.0])"
      ],
      "execution_count": 4,
      "outputs": []
    },
    {
      "cell_type": "code",
      "metadata": {
        "id": "nzDJYcmXu5I1",
        "colab_type": "code",
        "colab": {}
      },
      "source": [
        "# 랜덤하게 행동들을 만들어낸다. 사실 이건 필요하지 않다.\n",
        "\n",
        "def act():\n",
        "  actions = []\n",
        "  for i in range(10):\n",
        "    if np.random.rand() > 0.5:\n",
        "      act = 1\n",
        "    else:\n",
        "      act = 0\n",
        "    actions.append(act)\n",
        "  return actions"
      ],
      "execution_count": 5,
      "outputs": []
    },
    {
      "cell_type": "code",
      "metadata": {
        "id": "cdyaS8LQJg81",
        "colab_type": "code",
        "colab": {
          "base_uri": "https://localhost:8080/",
          "height": 34
        },
        "outputId": "3a72b5f8-f7c7-49b4-efa0-128b20bce233"
      },
      "source": [
        "y = act() # 1은 buy, 0는 sell로 표시한다.\n",
        "print(y)"
      ],
      "execution_count": 6,
      "outputs": [
        {
          "output_type": "stream",
          "text": [
            "[0, 0, 0, 0, 0, 1, 0, 1, 1, 0]\n"
          ],
          "name": "stdout"
        }
      ]
    },
    {
      "cell_type": "code",
      "metadata": {
        "id": "ClU1eJNLD8RY",
        "colab_type": "code",
        "colab": {}
      },
      "source": [
        "import tensorflow as tf\n",
        "y_encoded = tf.keras.utils.to_categorical(y) # softmax를 사용하려면 출력 unit이 여러개이기 때문에 그것에 맞추어 y값을 변경하여야 한다."
      ],
      "execution_count": 7,
      "outputs": []
    },
    {
      "cell_type": "code",
      "metadata": {
        "id": "OVhuW5FBEM8A",
        "colab_type": "code",
        "colab": {
          "base_uri": "https://localhost:8080/",
          "height": 193
        },
        "outputId": "7f1a8728-ff86-4ac8-9c1e-cd627d87d193"
      },
      "source": [
        "y_encoded"
      ],
      "execution_count": 8,
      "outputs": [
        {
          "output_type": "execute_result",
          "data": {
            "text/plain": [
              "array([[1., 0.],\n",
              "       [1., 0.],\n",
              "       [1., 0.],\n",
              "       [1., 0.],\n",
              "       [1., 0.],\n",
              "       [0., 1.],\n",
              "       [1., 0.],\n",
              "       [0., 1.],\n",
              "       [0., 1.],\n",
              "       [1., 0.]], dtype=float32)"
            ]
          },
          "metadata": {
            "tags": []
          },
          "execution_count": 8
        }
      ]
    },
    {
      "cell_type": "markdown",
      "metadata": {
        "id": "hZ94IMpkGo4Q",
        "colab_type": "text"
      },
      "source": [
        "custom loss 함수를 테스트 해본다."
      ]
    },
    {
      "cell_type": "code",
      "metadata": {
        "id": "oeNsD1JMGuKf",
        "colab_type": "code",
        "colab": {
          "base_uri": "https://localhost:8080/",
          "height": 34
        },
        "outputId": "37d528ac-bddb-4952-ec5a-7d7c36fb3b24"
      },
      "source": [
        "import keras.layers as layers\n",
        "from keras.layers import LSTM, Dense\n",
        "from keras.models import Model, Sequential\n",
        "from keras.optimizers import Adam\n",
        "import keras.backend as K  # 케라스의 backend를 K. 형식으로 호출하는 것이고 여기서는 tensorflow이다."
      ],
      "execution_count": 9,
      "outputs": [
        {
          "output_type": "stream",
          "text": [
            "Using TensorFlow backend.\n"
          ],
          "name": "stderr"
        }
      ]
    },
    {
      "cell_type": "code",
      "metadata": {
        "id": "Whc8OKjFG7q9",
        "colab_type": "code",
        "colab": {}
      },
      "source": [
        "def my_loss(y_true, y_pred):\n",
        "  y_true = y_true **2\n",
        "  y_pred = y_pred **2\n",
        "  loss = K.mean(K.abs(y_true - y_pred) + K.square(y_true - y_pred))\n",
        "  return loss * multip\n",
        "\n",
        "\n",
        "\n",
        "def my_metric(y_true, y_pred):\n",
        "  return K.mean(K.abs(y_true - y_pred)) * 1000"
      ],
      "execution_count": 10,
      "outputs": []
    },
    {
      "cell_type": "code",
      "metadata": {
        "id": "wGgNDmfXH4BN",
        "colab_type": "code",
        "colab": {}
      },
      "source": [
        "def get_policy_model():\n",
        "  inp = layers.Input(shape=(1,),name=\"input_x\")\n",
        "  multip = layers.Input(shape=[1], name=\"advantages\") # [1]의 대안 (1,) 이다\n",
        "  x = layers.Dense(4, activation=\"relu\", name=\"dense_1\")(inp)\n",
        "  output = layers.Dense(2, activation=\"softmax\", name=\"out\")(x)\n",
        "  model_train = Model(inputs=[inp, multip], outputs = output)\n",
        "\n",
        "  def custom_loss(y_true, y_pred):\n",
        "    # actual: 0 predict: 0 -> log(0 * (0 - 0) + (1 - 0) * (0 + 0)) = -inf\n",
        "    # actual: 1 predict: 1 -> log(1 * (1 - 1) + (1 - 1) * (1 + 1)) = -inf\n",
        "    # actual: 1 predict: 0 -> log(1 * (1 - 0) + (1 - 1) * (1 + 0)) = 0\n",
        "    # actual: 0 predict: 1 -> log(0 * (0 - 1) + (1 - 0) * (0 + 1)) = 0\n",
        "   log_lik = K.log(y_true * (y_true - y_pred) + (1 - y_true) * (y_true + y_pred))\n",
        "   return K.mean(log_lik * multip, keepdims=True)\n",
        "\n",
        "  model_train.compile(optimizer='adam', loss=custom_loss, metrics=[my_metric])\n",
        "  model_predict = Model(inputs=[inp], outputs = output)\n",
        "  return model_train, model_predict"
      ],
      "execution_count": 11,
      "outputs": []
    },
    {
      "cell_type": "code",
      "metadata": {
        "id": "ru7MwGfjMig3",
        "colab_type": "code",
        "colab": {}
      },
      "source": [
        "model_train, model_predict = get_policy_model()"
      ],
      "execution_count": 12,
      "outputs": []
    },
    {
      "cell_type": "code",
      "metadata": {
        "id": "yE7h6QbuMq45",
        "colab_type": "code",
        "colab": {
          "base_uri": "https://localhost:8080/",
          "height": 263
        },
        "outputId": "7015e0d5-8b5d-4ace-9d53-27a54d6a445a"
      },
      "source": [
        "model_train.summary()"
      ],
      "execution_count": 13,
      "outputs": [
        {
          "output_type": "stream",
          "text": [
            "Model: \"model_1\"\n",
            "_________________________________________________________________\n",
            "Layer (type)                 Output Shape              Param #   \n",
            "=================================================================\n",
            "input_x (InputLayer)         (None, 1)                 0         \n",
            "_________________________________________________________________\n",
            "dense_1 (Dense)              (None, 4)                 8         \n",
            "_________________________________________________________________\n",
            "out (Dense)                  (None, 2)                 10        \n",
            "=================================================================\n",
            "Total params: 18\n",
            "Trainable params: 18\n",
            "Non-trainable params: 0\n",
            "_________________________________________________________________\n"
          ],
          "name": "stdout"
        }
      ]
    },
    {
      "cell_type": "code",
      "metadata": {
        "id": "uJMWX28CZfwH",
        "colab_type": "code",
        "colab": {
          "base_uri": "https://localhost:8080/",
          "height": 386
        },
        "outputId": "82703fb6-ad6e-4449-ea67-28b1815808ae"
      },
      "source": [
        "model_train.fit([price, multip], y_encoded, epochs=10)"
      ],
      "execution_count": 15,
      "outputs": [
        {
          "output_type": "stream",
          "text": [
            "Epoch 1/10\n",
            "10/10 [==============================] - 0s 28ms/step - loss: -8.1935 - my_metric: 539.8262\n",
            "Epoch 2/10\n",
            "10/10 [==============================] - 0s 623us/step - loss: -8.2153 - my_metric: 539.1978\n",
            "Epoch 3/10\n",
            "10/10 [==============================] - 0s 473us/step - loss: -8.2372 - my_metric: 538.5688\n",
            "Epoch 4/10\n",
            "10/10 [==============================] - 0s 190us/step - loss: -8.2591 - my_metric: 537.9394\n",
            "Epoch 5/10\n",
            "10/10 [==============================] - 0s 230us/step - loss: -8.2797 - my_metric: 537.3480\n",
            "Epoch 6/10\n",
            "10/10 [==============================] - 0s 222us/step - loss: -8.3018 - my_metric: 536.7175\n",
            "Epoch 7/10\n",
            "10/10 [==============================] - 0s 449us/step - loss: -8.3239 - my_metric: 536.0864\n",
            "Epoch 8/10\n",
            "10/10 [==============================] - 0s 277us/step - loss: -8.3461 - my_metric: 535.4547\n",
            "Epoch 9/10\n",
            "10/10 [==============================] - 0s 171us/step - loss: -8.3683 - my_metric: 534.8223\n",
            "Epoch 10/10\n",
            "10/10 [==============================] - 0s 213us/step - loss: -8.3906 - my_metric: 534.1895\n"
          ],
          "name": "stdout"
        },
        {
          "output_type": "execute_result",
          "data": {
            "text/plain": [
              "<keras.callbacks.callbacks.History at 0x7f63d2d2ecf8>"
            ]
          },
          "metadata": {
            "tags": []
          },
          "execution_count": 15
        }
      ]
    },
    {
      "cell_type": "code",
      "metadata": {
        "id": "gqVyJik-M4c3",
        "colab_type": "code",
        "colab": {
          "base_uri": "https://localhost:8080/",
          "height": 193
        },
        "outputId": "1cf27342-8d08-450d-d08a-f3d99a8ff185"
      },
      "source": [
        "f = model_predict.predict(price)\n",
        "print(f)"
      ],
      "execution_count": 14,
      "outputs": [
        {
          "output_type": "stream",
          "text": [
            "[[0.5        0.5       ]\n",
            " [0.5        0.5       ]\n",
            " [0.5        0.5       ]\n",
            " [0.5        0.5       ]\n",
            " [0.3189345  0.6810655 ]\n",
            " [0.45622513 0.54377484]\n",
            " [0.43916774 0.56083226]\n",
            " [0.32051426 0.67948574]\n",
            " [0.5        0.5       ]\n",
            " [0.16419162 0.83580846]]\n"
          ],
          "name": "stdout"
        }
      ]
    },
    {
      "cell_type": "code",
      "metadata": {
        "id": "bHBAqZNpGJiT",
        "colab_type": "code",
        "colab": {}
      },
      "source": [
        "def discount_rewards(r, gamma=0.99):\n",
        "    \"\"\"Takes 1d float array of rewards and computes discounted reward\n",
        "    e.g. f([1, 1, 1], 0.99) -> [2.9701, 1.99, 1]\n",
        "    \"\"\"\n",
        "    prior = 0\n",
        "    out = []\n",
        "    r = r[::-1]\n",
        "    for val in r:\n",
        "        new_val = val + prior * gamma\n",
        "        out.append(new_val)\n",
        "        prior = new_val\n",
        "    return np.array(out[::-1])"
      ],
      "execution_count": 14,
      "outputs": []
    },
    {
      "cell_type": "code",
      "metadata": {
        "id": "FTj0nez-GJor",
        "colab_type": "code",
        "colab": {}
      },
      "source": [
        "def reward (price, action):\n",
        "  reward =[0]\n",
        "  for i in range(0, len(price)-1):\n",
        "    price_gap = price[i+1]- price[i]\n",
        "    if price_gap > 0 and action[i] == 1 :\n",
        "       reward.append(1)\n",
        "    if price_gap > 0 and action[i] == 0 :\n",
        "       reward.append(-1)\n",
        "    if price_gap < 0 and action[i] == 1 :\n",
        "       reward.append(-1)\n",
        "    if price_gap < 0 and action[i] == 0 :\n",
        "       reward.append(1)\n",
        "  return reward"
      ],
      "execution_count": 15,
      "outputs": []
    },
    {
      "cell_type": "code",
      "metadata": {
        "id": "9mnjJQyQLm9P",
        "colab_type": "code",
        "colab": {}
      },
      "source": [
        "# test_set에 적용하는 함수\n",
        "\n",
        "def score_model(model_predict, num_tests):\n",
        "    scores = []    \n",
        "    for num_test in range(num_tests):\n",
        "        observation = env()\n",
        "        forcasts = model_predict.predict(observation)\n",
        "        rw = reward(observation, np.argmax(forcasts, axis=1))\n",
        "        reward_sum = np.sum(rw)\n",
        "        scores.append(reward_sum)\n",
        "    return np.mean(scores)"
      ],
      "execution_count": 16,
      "outputs": []
    },
    {
      "cell_type": "code",
      "metadata": {
        "id": "eVy0YXe9LnXf",
        "colab_type": "code",
        "colab": {
          "base_uri": "https://localhost:8080/",
          "height": 34
        },
        "outputId": "f4ca1958-b69c-4bd5-d169-799add7dc021"
      },
      "source": [
        "hit = score_model(model_predict, 100)\n",
        "print(hit)"
      ],
      "execution_count": 18,
      "outputs": [
        {
          "output_type": "stream",
          "text": [
            "-3.56\n"
          ],
          "name": "stdout"
        }
      ]
    },
    {
      "cell_type": "code",
      "metadata": {
        "id": "nvqc_ZZ0lr2A",
        "colab_type": "code",
        "colab": {
          "base_uri": "https://localhost:8080/",
          "height": 688
        },
        "outputId": "a970f52f-6996-47dd-ccc2-47483b916925"
      },
      "source": [
        "## 여기부터 재작성\n",
        "\n",
        "reward_sum = 0\n",
        "num_actions = 2\n",
        "dimen = 10\n",
        "batch_size = 5\n",
        "\n",
        "# Placeholders for our observations, outputs and rewards\n",
        "states = np.empty(0).reshape(0,dimen)\n",
        "actions = np.empty(0).reshape(0,dimen)\n",
        "rewards = np.empty(0).reshape(0,dimen)\n",
        "discounted_rewards = np.empty(0).reshape(0,dimen)\n",
        "\n",
        "# Setting up our environment\n",
        "state = env() # 한개의 state를 발생시킨다.\n",
        "\n",
        "num_episode = 0\n",
        "num_episodes = 500\n",
        "\n",
        "losses = []\n",
        "\n",
        "while num_episode < num_episodes:\n",
        "    \n",
        "    predict = model_predict.predict(state)  # 한개의 state를 input해서 신경망을 통해 action을 만들어낸다.\n",
        "    \n",
        "    #print(predict)\n",
        "\n",
        "    acts = []\n",
        "    for i in range(0, len(predict)):\n",
        "      action = np.random.choice(range(num_actions),p=predict[i]) # 대안 중에서 하나를 선택한다. p=[0.4, 0.6] 대안이 선택될 확율이다. action은 0 또는 1 이된다.\n",
        "      acts.append(action)\n",
        "\n",
        "    #print(acts)\n",
        "\n",
        "    e_r = reward(state, acts)\n",
        "\n",
        "\n",
        "\n",
        "    # Append the observations and outputs for learning\n",
        "    states = np.vstack([states, state]) # 미리 만들어 놓은 placeholder인 states에 while문 밖에서 만들어낸 state를 append 시키다.\n",
        "    actions = np.vstack([actions, acts]) # 동일하게 state가 입력이 되어서 신경망이 산출한 행동을 확율적으로 선택한 행동을 actions에 append한다.\n",
        "\n",
        "    #print(actions)\n",
        "\n",
        "    rewards = np.vstack([rewards, e_r])\n",
        "\n",
        "    #print(rewards)\n",
        "\n",
        "    if np.sum(e_r) > 8 or len(states) >= 20:\n",
        "      # Determine standardized rewards\n",
        "      for i in range(0, len(rewards)-1):\n",
        "        discounted_rewards_episode = discount_rewards(rewards[i], gamma=0.99)\n",
        "        discounted_rewards = np.vstack([discounted_rewards, discounted_rewards_episode])\n",
        "\n",
        "      \n",
        "\n",
        "      for i in range(0, len(discounted_rewards)-1):  \n",
        "        discounted_rewards[i] -= discounted_rewards[i].mean()\n",
        "        discounted_rewards[i] /= discounted_rewards[i].std()\n",
        "        discounted_rewards = discounted_rewards.squeeze()\n",
        "\n",
        "            \n",
        "      actions = actions.squeeze().astype(int)  # squeeze 함수는 배열에서 차원이 1인 것을 찾아서 없애버린다. 예) (2,2,1) --> (2,2)\n",
        "   \n",
        "\n",
        "      y_target = []\n",
        "      for i in range(0, len(actions)-1):\n",
        "        actions_train = np.zeros([len(actions[i]), num_actions])\n",
        "        actions_train[np.arange(len(actions[i])), actions[i]] = 1\n",
        "        y_target.append(actions_train)\n",
        "\n",
        "\n",
        "\n",
        "      for i in range(0, len(states)-1):\n",
        "        loss = model_train.train_on_batch([states[i], discounted_rewards[i]], y_target[i])\n",
        "        losses.append(loss)\n",
        "        hit = score_model(model_predict, 100)\n",
        "\n",
        "      print(losses, \"score is:\", hit)\n",
        "\n",
        "      #hit = score_model(model_predict, 100)\n",
        "      #print(hit)\n",
        "\n",
        "            \n",
        "      states = np.empty(0).reshape(0,dimen)\n",
        "      actions = np.empty(0).reshape(0,dimen)\n",
        "      rewards = np.empty(0).reshape(0,dimen)\n",
        "      discounted_rewards = np.empty(0).reshape(0,dimen)\n",
        "\n",
        "    num_episode += 1\n"
      ],
      "execution_count": 17,
      "outputs": [
        {
          "output_type": "stream",
          "text": [
            "[[-0.17134354, 424.02673], [-0.17666495, 402.87653], [-0.17286736, 473.20026], [-0.20000513, 425.26587], [-0.4921371, 447.9498]] score is: 3.54\n",
            "[[-0.17134354, 424.02673], [-0.17666495, 402.87653], [-0.17286736, 473.20026], [-0.20000513, 425.26587], [-0.4921371, 447.9498], [-0.08437457, 480.33896], [-0.012353575, 484.61636], [0.006205964, 560.36475], [-0.19773993, 422.5599], [0.005452824, 413.22583], [-0.10748787, 452.38953], [-0.10706987, 464.27267], [-0.22374515, 433.20386], [-0.123715356, 413.9975], [-0.03620839, 423.74664], [-0.15655065, 474.16736], [-0.09205987, 481.48737], [-0.2051022, 389.10062], [-0.11515021, 530.37274], [-0.22005029, 420.79654], [-0.21384712, 409.01703], [-0.15261897, 465.4117], [-0.19413432, 406.67566], [-0.35986453, 434.7005]] score is: 3.82\n",
            "[[-0.17134354, 424.02673], [-0.17666495, 402.87653], [-0.17286736, 473.20026], [-0.20000513, 425.26587], [-0.4921371, 447.9498], [-0.08437457, 480.33896], [-0.012353575, 484.61636], [0.006205964, 560.36475], [-0.19773993, 422.5599], [0.005452824, 413.22583], [-0.10748787, 452.38953], [-0.10706987, 464.27267], [-0.22374515, 433.20386], [-0.123715356, 413.9975], [-0.03620839, 423.74664], [-0.15655065, 474.16736], [-0.09205987, 481.48737], [-0.2051022, 389.10062], [-0.11515021, 530.37274], [-0.22005029, 420.79654], [-0.21384712, 409.01703], [-0.15261897, 465.4117], [-0.19413432, 406.67566], [-0.35986453, 434.7005], [-0.2775639, 409.49612], [-0.26782522, 398.765], [0.022266686, 503.47525], [-0.19146079, 391.65918], [-0.19954382, 415.65466], [-0.25304982, 429.21017], [-0.23677674, 417.47076], [-0.2706761, 414.44183], [-0.22163495, 476.4154], [-0.105203986, 459.16], [-0.17023973, 395.858], [-0.21221836, 478.3134], [-0.25059658, 430.84097], [0.045693636, 447.5269], [-0.18785687, 379.95187], [-0.26848468, 397.43707], [-0.23716465, 426.8257], [-0.09566405, 486.3457], [2.272774, 445.34073]] score is: 3.68\n",
            "[[-0.17134354, 424.02673], [-0.17666495, 402.87653], [-0.17286736, 473.20026], [-0.20000513, 425.26587], [-0.4921371, 447.9498], [-0.08437457, 480.33896], [-0.012353575, 484.61636], [0.006205964, 560.36475], [-0.19773993, 422.5599], [0.005452824, 413.22583], [-0.10748787, 452.38953], [-0.10706987, 464.27267], [-0.22374515, 433.20386], [-0.123715356, 413.9975], [-0.03620839, 423.74664], [-0.15655065, 474.16736], [-0.09205987, 481.48737], [-0.2051022, 389.10062], [-0.11515021, 530.37274], [-0.22005029, 420.79654], [-0.21384712, 409.01703], [-0.15261897, 465.4117], [-0.19413432, 406.67566], [-0.35986453, 434.7005], [-0.2775639, 409.49612], [-0.26782522, 398.765], [0.022266686, 503.47525], [-0.19146079, 391.65918], [-0.19954382, 415.65466], [-0.25304982, 429.21017], [-0.23677674, 417.47076], [-0.2706761, 414.44183], [-0.22163495, 476.4154], [-0.105203986, 459.16], [-0.17023973, 395.858], [-0.21221836, 478.3134], [-0.25059658, 430.84097], [0.045693636, 447.5269], [-0.18785687, 379.95187], [-0.26848468, 397.43707], [-0.23716465, 426.8257], [-0.09566405, 486.3457], [2.272774, 445.34073], [-0.30530775, 410.79968], [-0.12847798, 440.0509], [0.020439614, 499.36777], [-0.11105341, 499.17285], [-0.3000098, 387.37006], [0.061595954, 466.91806], [-0.23719063, 414.51215], [-0.06616771, 452.67438], [-0.16841355, 470.72864], [-0.1601814, 462.03098], [-0.18913922, 390.0574], [-0.08433649, 394.05154], [-0.1675537, 462.21512], [-0.07943915, 467.7267], [-0.11154671, 477.79657], [0.036438275, 432.06396], [-0.20958324, 375.2994], [-0.325405, 395.78558], [-2.900809, 410.94595]] score is: 3.82\n",
            "[[-0.17134354, 424.02673], [-0.17666495, 402.87653], [-0.17286736, 473.20026], [-0.20000513, 425.26587], [-0.4921371, 447.9498], [-0.08437457, 480.33896], [-0.012353575, 484.61636], [0.006205964, 560.36475], [-0.19773993, 422.5599], [0.005452824, 413.22583], [-0.10748787, 452.38953], [-0.10706987, 464.27267], [-0.22374515, 433.20386], [-0.123715356, 413.9975], [-0.03620839, 423.74664], [-0.15655065, 474.16736], [-0.09205987, 481.48737], [-0.2051022, 389.10062], [-0.11515021, 530.37274], [-0.22005029, 420.79654], [-0.21384712, 409.01703], [-0.15261897, 465.4117], [-0.19413432, 406.67566], [-0.35986453, 434.7005], [-0.2775639, 409.49612], [-0.26782522, 398.765], [0.022266686, 503.47525], [-0.19146079, 391.65918], [-0.19954382, 415.65466], [-0.25304982, 429.21017], [-0.23677674, 417.47076], [-0.2706761, 414.44183], [-0.22163495, 476.4154], [-0.105203986, 459.16], [-0.17023973, 395.858], [-0.21221836, 478.3134], [-0.25059658, 430.84097], [0.045693636, 447.5269], [-0.18785687, 379.95187], [-0.26848468, 397.43707], [-0.23716465, 426.8257], [-0.09566405, 486.3457], [2.272774, 445.34073], [-0.30530775, 410.79968], [-0.12847798, 440.0509], [0.020439614, 499.36777], [-0.11105341, 499.17285], [-0.3000098, 387.37006], [0.061595954, 466.91806], [-0.23719063, 414.51215], [-0.06616771, 452.67438], [-0.16841355, 470.72864], [-0.1601814, 462.03098], [-0.18913922, 390.0574], [-0.08433649, 394.05154], [-0.1675537, 462.21512], [-0.07943915, 467.7267], [-0.11154671, 477.79657], [0.036438275, 432.06396], [-0.20958324, 375.2994], [-0.325405, 395.78558], [-2.900809, 410.94595], [-0.2908901, 426.87073], [-0.12763244, 434.58945], [-0.27153498, 423.97357], [-0.021596765, 383.26532], [-0.06877551, 463.65298], [-0.3461563, 390.002], [-0.12865025, 558.7576], [-0.34994698, 389.0116], [-0.32734996, 378.3855], [-0.25272018, 381.06183], [0.07778634, 460.17438], [-0.3042574, 413.4821], [-0.19543636, 482.21524], [-0.27633917, 402.23068], [-0.09121019, 396.0839], [0.04289166, 503.01016], [-0.2804152, 412.91028], [-0.29216844, 419.7483], [-2.727404, 416.68405]] score is: 3.6\n",
            "[[-0.17134354, 424.02673], [-0.17666495, 402.87653], [-0.17286736, 473.20026], [-0.20000513, 425.26587], [-0.4921371, 447.9498], [-0.08437457, 480.33896], [-0.012353575, 484.61636], [0.006205964, 560.36475], [-0.19773993, 422.5599], [0.005452824, 413.22583], [-0.10748787, 452.38953], [-0.10706987, 464.27267], [-0.22374515, 433.20386], [-0.123715356, 413.9975], [-0.03620839, 423.74664], [-0.15655065, 474.16736], [-0.09205987, 481.48737], [-0.2051022, 389.10062], [-0.11515021, 530.37274], [-0.22005029, 420.79654], [-0.21384712, 409.01703], [-0.15261897, 465.4117], [-0.19413432, 406.67566], [-0.35986453, 434.7005], [-0.2775639, 409.49612], [-0.26782522, 398.765], [0.022266686, 503.47525], [-0.19146079, 391.65918], [-0.19954382, 415.65466], [-0.25304982, 429.21017], [-0.23677674, 417.47076], [-0.2706761, 414.44183], [-0.22163495, 476.4154], [-0.105203986, 459.16], [-0.17023973, 395.858], [-0.21221836, 478.3134], [-0.25059658, 430.84097], [0.045693636, 447.5269], [-0.18785687, 379.95187], [-0.26848468, 397.43707], [-0.23716465, 426.8257], [-0.09566405, 486.3457], [2.272774, 445.34073], [-0.30530775, 410.79968], [-0.12847798, 440.0509], [0.020439614, 499.36777], [-0.11105341, 499.17285], [-0.3000098, 387.37006], [0.061595954, 466.91806], [-0.23719063, 414.51215], [-0.06616771, 452.67438], [-0.16841355, 470.72864], [-0.1601814, 462.03098], [-0.18913922, 390.0574], [-0.08433649, 394.05154], [-0.1675537, 462.21512], [-0.07943915, 467.7267], [-0.11154671, 477.79657], [0.036438275, 432.06396], [-0.20958324, 375.2994], [-0.325405, 395.78558], [-2.900809, 410.94595], [-0.2908901, 426.87073], [-0.12763244, 434.58945], [-0.27153498, 423.97357], [-0.021596765, 383.26532], [-0.06877551, 463.65298], [-0.3461563, 390.002], [-0.12865025, 558.7576], [-0.34994698, 389.0116], [-0.32734996, 378.3855], [-0.25272018, 381.06183], [0.07778634, 460.17438], [-0.3042574, 413.4821], [-0.19543636, 482.21524], [-0.27633917, 402.23068], [-0.09121019, 396.0839], [0.04289166, 503.01016], [-0.2804152, 412.91028], [-0.29216844, 419.7483], [-2.727404, 416.68405], [-0.2849423, 414.16104], [-0.36805025, 389.05646], [-0.1295777, 448.13785], [-0.09857764, 470.07355], [-0.16744271, 487.63235], [-0.2502622, 466.05826], [-0.22051218, 453.0561], [-0.3317804, 417.58746], [-0.14742121, 484.7773], [-0.04413135, 466.80756], [0.17074895, 447.35138], [-0.08361383, 476.94284], [-0.33550143, 406.1348], [-0.28766543, 385.45316], [-0.18890211, 442.77972], [-0.22205527, 464.91553], [-0.3346556, 368.14713], [-0.3580824, 362.37958], [0.4198977, 420.878]] score is: 3.36\n",
            "[[-0.17134354, 424.02673], [-0.17666495, 402.87653], [-0.17286736, 473.20026], [-0.20000513, 425.26587], [-0.4921371, 447.9498], [-0.08437457, 480.33896], [-0.012353575, 484.61636], [0.006205964, 560.36475], [-0.19773993, 422.5599], [0.005452824, 413.22583], [-0.10748787, 452.38953], [-0.10706987, 464.27267], [-0.22374515, 433.20386], [-0.123715356, 413.9975], [-0.03620839, 423.74664], [-0.15655065, 474.16736], [-0.09205987, 481.48737], [-0.2051022, 389.10062], [-0.11515021, 530.37274], [-0.22005029, 420.79654], [-0.21384712, 409.01703], [-0.15261897, 465.4117], [-0.19413432, 406.67566], [-0.35986453, 434.7005], [-0.2775639, 409.49612], [-0.26782522, 398.765], [0.022266686, 503.47525], [-0.19146079, 391.65918], [-0.19954382, 415.65466], [-0.25304982, 429.21017], [-0.23677674, 417.47076], [-0.2706761, 414.44183], [-0.22163495, 476.4154], [-0.105203986, 459.16], [-0.17023973, 395.858], [-0.21221836, 478.3134], [-0.25059658, 430.84097], [0.045693636, 447.5269], [-0.18785687, 379.95187], [-0.26848468, 397.43707], [-0.23716465, 426.8257], [-0.09566405, 486.3457], [2.272774, 445.34073], [-0.30530775, 410.79968], [-0.12847798, 440.0509], [0.020439614, 499.36777], [-0.11105341, 499.17285], [-0.3000098, 387.37006], [0.061595954, 466.91806], [-0.23719063, 414.51215], [-0.06616771, 452.67438], [-0.16841355, 470.72864], [-0.1601814, 462.03098], [-0.18913922, 390.0574], [-0.08433649, 394.05154], [-0.1675537, 462.21512], [-0.07943915, 467.7267], [-0.11154671, 477.79657], [0.036438275, 432.06396], [-0.20958324, 375.2994], [-0.325405, 395.78558], [-2.900809, 410.94595], [-0.2908901, 426.87073], [-0.12763244, 434.58945], [-0.27153498, 423.97357], [-0.021596765, 383.26532], [-0.06877551, 463.65298], [-0.3461563, 390.002], [-0.12865025, 558.7576], [-0.34994698, 389.0116], [-0.32734996, 378.3855], [-0.25272018, 381.06183], [0.07778634, 460.17438], [-0.3042574, 413.4821], [-0.19543636, 482.21524], [-0.27633917, 402.23068], [-0.09121019, 396.0839], [0.04289166, 503.01016], [-0.2804152, 412.91028], [-0.29216844, 419.7483], [-2.727404, 416.68405], [-0.2849423, 414.16104], [-0.36805025, 389.05646], [-0.1295777, 448.13785], [-0.09857764, 470.07355], [-0.16744271, 487.63235], [-0.2502622, 466.05826], [-0.22051218, 453.0561], [-0.3317804, 417.58746], [-0.14742121, 484.7773], [-0.04413135, 466.80756], [0.17074895, 447.35138], [-0.08361383, 476.94284], [-0.33550143, 406.1348], [-0.28766543, 385.45316], [-0.18890211, 442.77972], [-0.22205527, 464.91553], [-0.3346556, 368.14713], [-0.3580824, 362.37958], [0.4198977, 420.878], [0.042623937, 493.00735], [-0.40474254, 384.59735], [-0.3788819, 366.44525], [-0.33574805, 419.43073], [0.13332433, 453.35278], [-0.4236993, 375.61554], [-0.2794486, 358.62033], [-0.20638983, 484.11685], [-0.15301572, 561.6896], [-0.22032905, 408.50616], [-0.40277165, 368.01056], [-0.3085938, 366.65656], [-0.0336339, 459.69553], [-0.34598112, 379.08072], [-0.44968358, 375.9695], [-0.45170268, 375.5967], [-0.11581308, 431.65674], [-0.34633374, 383.78177], [-1.9322125, 371.01166]] score is: 3.4\n",
            "[[-0.17134354, 424.02673], [-0.17666495, 402.87653], [-0.17286736, 473.20026], [-0.20000513, 425.26587], [-0.4921371, 447.9498], [-0.08437457, 480.33896], [-0.012353575, 484.61636], [0.006205964, 560.36475], [-0.19773993, 422.5599], [0.005452824, 413.22583], [-0.10748787, 452.38953], [-0.10706987, 464.27267], [-0.22374515, 433.20386], [-0.123715356, 413.9975], [-0.03620839, 423.74664], [-0.15655065, 474.16736], [-0.09205987, 481.48737], [-0.2051022, 389.10062], [-0.11515021, 530.37274], [-0.22005029, 420.79654], [-0.21384712, 409.01703], [-0.15261897, 465.4117], [-0.19413432, 406.67566], [-0.35986453, 434.7005], [-0.2775639, 409.49612], [-0.26782522, 398.765], [0.022266686, 503.47525], [-0.19146079, 391.65918], [-0.19954382, 415.65466], [-0.25304982, 429.21017], [-0.23677674, 417.47076], [-0.2706761, 414.44183], [-0.22163495, 476.4154], [-0.105203986, 459.16], [-0.17023973, 395.858], [-0.21221836, 478.3134], [-0.25059658, 430.84097], [0.045693636, 447.5269], [-0.18785687, 379.95187], [-0.26848468, 397.43707], [-0.23716465, 426.8257], [-0.09566405, 486.3457], [2.272774, 445.34073], [-0.30530775, 410.79968], [-0.12847798, 440.0509], [0.020439614, 499.36777], [-0.11105341, 499.17285], [-0.3000098, 387.37006], [0.061595954, 466.91806], [-0.23719063, 414.51215], [-0.06616771, 452.67438], [-0.16841355, 470.72864], [-0.1601814, 462.03098], [-0.18913922, 390.0574], [-0.08433649, 394.05154], [-0.1675537, 462.21512], [-0.07943915, 467.7267], [-0.11154671, 477.79657], [0.036438275, 432.06396], [-0.20958324, 375.2994], [-0.325405, 395.78558], [-2.900809, 410.94595], [-0.2908901, 426.87073], [-0.12763244, 434.58945], [-0.27153498, 423.97357], [-0.021596765, 383.26532], [-0.06877551, 463.65298], [-0.3461563, 390.002], [-0.12865025, 558.7576], [-0.34994698, 389.0116], [-0.32734996, 378.3855], [-0.25272018, 381.06183], [0.07778634, 460.17438], [-0.3042574, 413.4821], [-0.19543636, 482.21524], [-0.27633917, 402.23068], [-0.09121019, 396.0839], [0.04289166, 503.01016], [-0.2804152, 412.91028], [-0.29216844, 419.7483], [-2.727404, 416.68405], [-0.2849423, 414.16104], [-0.36805025, 389.05646], [-0.1295777, 448.13785], [-0.09857764, 470.07355], [-0.16744271, 487.63235], [-0.2502622, 466.05826], [-0.22051218, 453.0561], [-0.3317804, 417.58746], [-0.14742121, 484.7773], [-0.04413135, 466.80756], [0.17074895, 447.35138], [-0.08361383, 476.94284], [-0.33550143, 406.1348], [-0.28766543, 385.45316], [-0.18890211, 442.77972], [-0.22205527, 464.91553], [-0.3346556, 368.14713], [-0.3580824, 362.37958], [0.4198977, 420.878], [0.042623937, 493.00735], [-0.40474254, 384.59735], [-0.3788819, 366.44525], [-0.33574805, 419.43073], [0.13332433, 453.35278], [-0.4236993, 375.61554], [-0.2794486, 358.62033], [-0.20638983, 484.11685], [-0.15301572, 561.6896], [-0.22032905, 408.50616], [-0.40277165, 368.01056], [-0.3085938, 366.65656], [-0.0336339, 459.69553], [-0.34598112, 379.08072], [-0.44968358, 375.9695], [-0.45170268, 375.5967], [-0.11581308, 431.65674], [-0.34633374, 383.78177], [-1.9322125, 371.01166], [-0.075940445, 504.80652], [-0.41278285, 360.35876], [-0.4608949, 377.53778], [-0.29802138, 410.50833], [-0.350527, 373.97058], [-0.44241682, 361.0886], [-0.4195435, 350.05658], [0.0894099, 426.6986], [-0.22518885, 483.2626], [-0.31195575, 375.5822], [-0.068348065, 448.32666], [-2.399778, 351.59845]] score is: 2.7\n",
            "[[-0.17134354, 424.02673], [-0.17666495, 402.87653], [-0.17286736, 473.20026], [-0.20000513, 425.26587], [-0.4921371, 447.9498], [-0.08437457, 480.33896], [-0.012353575, 484.61636], [0.006205964, 560.36475], [-0.19773993, 422.5599], [0.005452824, 413.22583], [-0.10748787, 452.38953], [-0.10706987, 464.27267], [-0.22374515, 433.20386], [-0.123715356, 413.9975], [-0.03620839, 423.74664], [-0.15655065, 474.16736], [-0.09205987, 481.48737], [-0.2051022, 389.10062], [-0.11515021, 530.37274], [-0.22005029, 420.79654], [-0.21384712, 409.01703], [-0.15261897, 465.4117], [-0.19413432, 406.67566], [-0.35986453, 434.7005], [-0.2775639, 409.49612], [-0.26782522, 398.765], [0.022266686, 503.47525], [-0.19146079, 391.65918], [-0.19954382, 415.65466], [-0.25304982, 429.21017], [-0.23677674, 417.47076], [-0.2706761, 414.44183], [-0.22163495, 476.4154], [-0.105203986, 459.16], [-0.17023973, 395.858], [-0.21221836, 478.3134], [-0.25059658, 430.84097], [0.045693636, 447.5269], [-0.18785687, 379.95187], [-0.26848468, 397.43707], [-0.23716465, 426.8257], [-0.09566405, 486.3457], [2.272774, 445.34073], [-0.30530775, 410.79968], [-0.12847798, 440.0509], [0.020439614, 499.36777], [-0.11105341, 499.17285], [-0.3000098, 387.37006], [0.061595954, 466.91806], [-0.23719063, 414.51215], [-0.06616771, 452.67438], [-0.16841355, 470.72864], [-0.1601814, 462.03098], [-0.18913922, 390.0574], [-0.08433649, 394.05154], [-0.1675537, 462.21512], [-0.07943915, 467.7267], [-0.11154671, 477.79657], [0.036438275, 432.06396], [-0.20958324, 375.2994], [-0.325405, 395.78558], [-2.900809, 410.94595], [-0.2908901, 426.87073], [-0.12763244, 434.58945], [-0.27153498, 423.97357], [-0.021596765, 383.26532], [-0.06877551, 463.65298], [-0.3461563, 390.002], [-0.12865025, 558.7576], [-0.34994698, 389.0116], [-0.32734996, 378.3855], [-0.25272018, 381.06183], [0.07778634, 460.17438], [-0.3042574, 413.4821], [-0.19543636, 482.21524], [-0.27633917, 402.23068], [-0.09121019, 396.0839], [0.04289166, 503.01016], [-0.2804152, 412.91028], [-0.29216844, 419.7483], [-2.727404, 416.68405], [-0.2849423, 414.16104], [-0.36805025, 389.05646], [-0.1295777, 448.13785], [-0.09857764, 470.07355], [-0.16744271, 487.63235], [-0.2502622, 466.05826], [-0.22051218, 453.0561], [-0.3317804, 417.58746], [-0.14742121, 484.7773], [-0.04413135, 466.80756], [0.17074895, 447.35138], [-0.08361383, 476.94284], [-0.33550143, 406.1348], [-0.28766543, 385.45316], [-0.18890211, 442.77972], [-0.22205527, 464.91553], [-0.3346556, 368.14713], [-0.3580824, 362.37958], [0.4198977, 420.878], [0.042623937, 493.00735], [-0.40474254, 384.59735], [-0.3788819, 366.44525], [-0.33574805, 419.43073], [0.13332433, 453.35278], [-0.4236993, 375.61554], [-0.2794486, 358.62033], [-0.20638983, 484.11685], [-0.15301572, 561.6896], [-0.22032905, 408.50616], [-0.40277165, 368.01056], [-0.3085938, 366.65656], [-0.0336339, 459.69553], [-0.34598112, 379.08072], [-0.44968358, 375.9695], [-0.45170268, 375.5967], [-0.11581308, 431.65674], [-0.34633374, 383.78177], [-1.9322125, 371.01166], [-0.075940445, 504.80652], [-0.41278285, 360.35876], [-0.4608949, 377.53778], [-0.29802138, 410.50833], [-0.350527, 373.97058], [-0.44241682, 361.0886], [-0.4195435, 350.05658], [0.0894099, 426.6986], [-0.22518885, 483.2626], [-0.31195575, 375.5822], [-0.068348065, 448.32666], [-2.399778, 351.59845], [-0.43631476, 357.0124], [-0.16152105, 486.1961], [-0.3840387, 384.03796], [-0.4889554, 384.73718], [0.1216407, 421.1238], [-0.48645264, 360.11862], [-0.4639842, 356.04218], [-0.45265475, 352.32196], [-0.3332952, 429.90485], [0.21787822, 416.43588], [-0.45354232, 346.68295], [-0.49006495, 356.46432], [-0.17168526, 468.69946], [-0.4860642, 353.72614], [-0.47880784, 359.23062], [-0.48893157, 372.29996], [-0.51819026, 364.11426], [-0.48826918, 351.2103], [2.7308965, 417.03613]] score is: 2.5\n",
            "[[-0.17134354, 424.02673], [-0.17666495, 402.87653], [-0.17286736, 473.20026], [-0.20000513, 425.26587], [-0.4921371, 447.9498], [-0.08437457, 480.33896], [-0.012353575, 484.61636], [0.006205964, 560.36475], [-0.19773993, 422.5599], [0.005452824, 413.22583], [-0.10748787, 452.38953], [-0.10706987, 464.27267], [-0.22374515, 433.20386], [-0.123715356, 413.9975], [-0.03620839, 423.74664], [-0.15655065, 474.16736], [-0.09205987, 481.48737], [-0.2051022, 389.10062], [-0.11515021, 530.37274], [-0.22005029, 420.79654], [-0.21384712, 409.01703], [-0.15261897, 465.4117], [-0.19413432, 406.67566], [-0.35986453, 434.7005], [-0.2775639, 409.49612], [-0.26782522, 398.765], [0.022266686, 503.47525], [-0.19146079, 391.65918], [-0.19954382, 415.65466], [-0.25304982, 429.21017], [-0.23677674, 417.47076], [-0.2706761, 414.44183], [-0.22163495, 476.4154], [-0.105203986, 459.16], [-0.17023973, 395.858], [-0.21221836, 478.3134], [-0.25059658, 430.84097], [0.045693636, 447.5269], [-0.18785687, 379.95187], [-0.26848468, 397.43707], [-0.23716465, 426.8257], [-0.09566405, 486.3457], [2.272774, 445.34073], [-0.30530775, 410.79968], [-0.12847798, 440.0509], [0.020439614, 499.36777], [-0.11105341, 499.17285], [-0.3000098, 387.37006], [0.061595954, 466.91806], [-0.23719063, 414.51215], [-0.06616771, 452.67438], [-0.16841355, 470.72864], [-0.1601814, 462.03098], [-0.18913922, 390.0574], [-0.08433649, 394.05154], [-0.1675537, 462.21512], [-0.07943915, 467.7267], [-0.11154671, 477.79657], [0.036438275, 432.06396], [-0.20958324, 375.2994], [-0.325405, 395.78558], [-2.900809, 410.94595], [-0.2908901, 426.87073], [-0.12763244, 434.58945], [-0.27153498, 423.97357], [-0.021596765, 383.26532], [-0.06877551, 463.65298], [-0.3461563, 390.002], [-0.12865025, 558.7576], [-0.34994698, 389.0116], [-0.32734996, 378.3855], [-0.25272018, 381.06183], [0.07778634, 460.17438], [-0.3042574, 413.4821], [-0.19543636, 482.21524], [-0.27633917, 402.23068], [-0.09121019, 396.0839], [0.04289166, 503.01016], [-0.2804152, 412.91028], [-0.29216844, 419.7483], [-2.727404, 416.68405], [-0.2849423, 414.16104], [-0.36805025, 389.05646], [-0.1295777, 448.13785], [-0.09857764, 470.07355], [-0.16744271, 487.63235], [-0.2502622, 466.05826], [-0.22051218, 453.0561], [-0.3317804, 417.58746], [-0.14742121, 484.7773], [-0.04413135, 466.80756], [0.17074895, 447.35138], [-0.08361383, 476.94284], [-0.33550143, 406.1348], [-0.28766543, 385.45316], [-0.18890211, 442.77972], [-0.22205527, 464.91553], [-0.3346556, 368.14713], [-0.3580824, 362.37958], [0.4198977, 420.878], [0.042623937, 493.00735], [-0.40474254, 384.59735], [-0.3788819, 366.44525], [-0.33574805, 419.43073], [0.13332433, 453.35278], [-0.4236993, 375.61554], [-0.2794486, 358.62033], [-0.20638983, 484.11685], [-0.15301572, 561.6896], [-0.22032905, 408.50616], [-0.40277165, 368.01056], [-0.3085938, 366.65656], [-0.0336339, 459.69553], [-0.34598112, 379.08072], [-0.44968358, 375.9695], [-0.45170268, 375.5967], [-0.11581308, 431.65674], [-0.34633374, 383.78177], [-1.9322125, 371.01166], [-0.075940445, 504.80652], [-0.41278285, 360.35876], [-0.4608949, 377.53778], [-0.29802138, 410.50833], [-0.350527, 373.97058], [-0.44241682, 361.0886], [-0.4195435, 350.05658], [0.0894099, 426.6986], [-0.22518885, 483.2626], [-0.31195575, 375.5822], [-0.068348065, 448.32666], [-2.399778, 351.59845], [-0.43631476, 357.0124], [-0.16152105, 486.1961], [-0.3840387, 384.03796], [-0.4889554, 384.73718], [0.1216407, 421.1238], [-0.48645264, 360.11862], [-0.4639842, 356.04218], [-0.45265475, 352.32196], [-0.3332952, 429.90485], [0.21787822, 416.43588], [-0.45354232, 346.68295], [-0.49006495, 356.46432], [-0.17168526, 468.69946], [-0.4860642, 353.72614], [-0.47880784, 359.23062], [-0.48893157, 372.29996], [-0.51819026, 364.11426], [-0.48826918, 351.2103], [2.7308965, 417.03613], [-0.2968101, 367.49768], [-0.51775444, 359.0938], [-0.40005437, 366.31378], [-0.44251052, 398.2318], [-0.37960932, 349.85672], [-0.5221508, 353.91122], [-0.29741883, 407.78088], [-0.45076448, 398.34604], [0.15671122, 441.11615], [-0.48523813, 341.95413], [-0.41544396, 382.80786], [-0.24520202, 467.2202], [-0.07725972, 450.9731], [-0.44662553, 392.65204], [-0.54859275, 361.8819], [-0.2900392, 415.86716], [-0.49935633, 339.47308], [-0.3628301, 414.35202], [0.37502506, 412.97397]] score is: 2.08\n",
            "[[-0.17134354, 424.02673], [-0.17666495, 402.87653], [-0.17286736, 473.20026], [-0.20000513, 425.26587], [-0.4921371, 447.9498], [-0.08437457, 480.33896], [-0.012353575, 484.61636], [0.006205964, 560.36475], [-0.19773993, 422.5599], [0.005452824, 413.22583], [-0.10748787, 452.38953], [-0.10706987, 464.27267], [-0.22374515, 433.20386], [-0.123715356, 413.9975], [-0.03620839, 423.74664], [-0.15655065, 474.16736], [-0.09205987, 481.48737], [-0.2051022, 389.10062], [-0.11515021, 530.37274], [-0.22005029, 420.79654], [-0.21384712, 409.01703], [-0.15261897, 465.4117], [-0.19413432, 406.67566], [-0.35986453, 434.7005], [-0.2775639, 409.49612], [-0.26782522, 398.765], [0.022266686, 503.47525], [-0.19146079, 391.65918], [-0.19954382, 415.65466], [-0.25304982, 429.21017], [-0.23677674, 417.47076], [-0.2706761, 414.44183], [-0.22163495, 476.4154], [-0.105203986, 459.16], [-0.17023973, 395.858], [-0.21221836, 478.3134], [-0.25059658, 430.84097], [0.045693636, 447.5269], [-0.18785687, 379.95187], [-0.26848468, 397.43707], [-0.23716465, 426.8257], [-0.09566405, 486.3457], [2.272774, 445.34073], [-0.30530775, 410.79968], [-0.12847798, 440.0509], [0.020439614, 499.36777], [-0.11105341, 499.17285], [-0.3000098, 387.37006], [0.061595954, 466.91806], [-0.23719063, 414.51215], [-0.06616771, 452.67438], [-0.16841355, 470.72864], [-0.1601814, 462.03098], [-0.18913922, 390.0574], [-0.08433649, 394.05154], [-0.1675537, 462.21512], [-0.07943915, 467.7267], [-0.11154671, 477.79657], [0.036438275, 432.06396], [-0.20958324, 375.2994], [-0.325405, 395.78558], [-2.900809, 410.94595], [-0.2908901, 426.87073], [-0.12763244, 434.58945], [-0.27153498, 423.97357], [-0.021596765, 383.26532], [-0.06877551, 463.65298], [-0.3461563, 390.002], [-0.12865025, 558.7576], [-0.34994698, 389.0116], [-0.32734996, 378.3855], [-0.25272018, 381.06183], [0.07778634, 460.17438], [-0.3042574, 413.4821], [-0.19543636, 482.21524], [-0.27633917, 402.23068], [-0.09121019, 396.0839], [0.04289166, 503.01016], [-0.2804152, 412.91028], [-0.29216844, 419.7483], [-2.727404, 416.68405], [-0.2849423, 414.16104], [-0.36805025, 389.05646], [-0.1295777, 448.13785], [-0.09857764, 470.07355], [-0.16744271, 487.63235], [-0.2502622, 466.05826], [-0.22051218, 453.0561], [-0.3317804, 417.58746], [-0.14742121, 484.7773], [-0.04413135, 466.80756], [0.17074895, 447.35138], [-0.08361383, 476.94284], [-0.33550143, 406.1348], [-0.28766543, 385.45316], [-0.18890211, 442.77972], [-0.22205527, 464.91553], [-0.3346556, 368.14713], [-0.3580824, 362.37958], [0.4198977, 420.878], [0.042623937, 493.00735], [-0.40474254, 384.59735], [-0.3788819, 366.44525], [-0.33574805, 419.43073], [0.13332433, 453.35278], [-0.4236993, 375.61554], [-0.2794486, 358.62033], [-0.20638983, 484.11685], [-0.15301572, 561.6896], [-0.22032905, 408.50616], [-0.40277165, 368.01056], [-0.3085938, 366.65656], [-0.0336339, 459.69553], [-0.34598112, 379.08072], [-0.44968358, 375.9695], [-0.45170268, 375.5967], [-0.11581308, 431.65674], [-0.34633374, 383.78177], [-1.9322125, 371.01166], [-0.075940445, 504.80652], [-0.41278285, 360.35876], [-0.4608949, 377.53778], [-0.29802138, 410.50833], [-0.350527, 373.97058], [-0.44241682, 361.0886], [-0.4195435, 350.05658], [0.0894099, 426.6986], [-0.22518885, 483.2626], [-0.31195575, 375.5822], [-0.068348065, 448.32666], [-2.399778, 351.59845], [-0.43631476, 357.0124], [-0.16152105, 486.1961], [-0.3840387, 384.03796], [-0.4889554, 384.73718], [0.1216407, 421.1238], [-0.48645264, 360.11862], [-0.4639842, 356.04218], [-0.45265475, 352.32196], [-0.3332952, 429.90485], [0.21787822, 416.43588], [-0.45354232, 346.68295], [-0.49006495, 356.46432], [-0.17168526, 468.69946], [-0.4860642, 353.72614], [-0.47880784, 359.23062], [-0.48893157, 372.29996], [-0.51819026, 364.11426], [-0.48826918, 351.2103], [2.7308965, 417.03613], [-0.2968101, 367.49768], [-0.51775444, 359.0938], [-0.40005437, 366.31378], [-0.44251052, 398.2318], [-0.37960932, 349.85672], [-0.5221508, 353.91122], [-0.29741883, 407.78088], [-0.45076448, 398.34604], [0.15671122, 441.11615], [-0.48523813, 341.95413], [-0.41544396, 382.80786], [-0.24520202, 467.2202], [-0.07725972, 450.9731], [-0.44662553, 392.65204], [-0.54859275, 361.8819], [-0.2900392, 415.86716], [-0.49935633, 339.47308], [-0.3628301, 414.35202], [0.37502506, 412.97397], [0.09646994, 438.1873], [-0.5717739, 357.0996], [-0.5735977, 356.8464], [-0.25755566, 472.0725], [-0.2880282, 428.60904], [-0.25292456, 416.5601], [-0.5780854, 359.51123], [-0.53515583, 329.6322], [-0.5130016, 423.17], [-0.36640254, 509.88614], [-0.5187025, 373.58267], [-0.4806293, 407.30167], [-0.5951672, 354.0997], [-0.42208213, 341.98776], [-0.42461124, 347.68265], [-0.4887147, 385.87323], [-0.52617896, 325.10403], [-0.61806697, 368.5337], [-1.3296101, 370.54163]] score is: 1.34\n",
            "[[-0.17134354, 424.02673], [-0.17666495, 402.87653], [-0.17286736, 473.20026], [-0.20000513, 425.26587], [-0.4921371, 447.9498], [-0.08437457, 480.33896], [-0.012353575, 484.61636], [0.006205964, 560.36475], [-0.19773993, 422.5599], [0.005452824, 413.22583], [-0.10748787, 452.38953], [-0.10706987, 464.27267], [-0.22374515, 433.20386], [-0.123715356, 413.9975], [-0.03620839, 423.74664], [-0.15655065, 474.16736], [-0.09205987, 481.48737], [-0.2051022, 389.10062], [-0.11515021, 530.37274], [-0.22005029, 420.79654], [-0.21384712, 409.01703], [-0.15261897, 465.4117], [-0.19413432, 406.67566], [-0.35986453, 434.7005], [-0.2775639, 409.49612], [-0.26782522, 398.765], [0.022266686, 503.47525], [-0.19146079, 391.65918], [-0.19954382, 415.65466], [-0.25304982, 429.21017], [-0.23677674, 417.47076], [-0.2706761, 414.44183], [-0.22163495, 476.4154], [-0.105203986, 459.16], [-0.17023973, 395.858], [-0.21221836, 478.3134], [-0.25059658, 430.84097], [0.045693636, 447.5269], [-0.18785687, 379.95187], [-0.26848468, 397.43707], [-0.23716465, 426.8257], [-0.09566405, 486.3457], [2.272774, 445.34073], [-0.30530775, 410.79968], [-0.12847798, 440.0509], [0.020439614, 499.36777], [-0.11105341, 499.17285], [-0.3000098, 387.37006], [0.061595954, 466.91806], [-0.23719063, 414.51215], [-0.06616771, 452.67438], [-0.16841355, 470.72864], [-0.1601814, 462.03098], [-0.18913922, 390.0574], [-0.08433649, 394.05154], [-0.1675537, 462.21512], [-0.07943915, 467.7267], [-0.11154671, 477.79657], [0.036438275, 432.06396], [-0.20958324, 375.2994], [-0.325405, 395.78558], [-2.900809, 410.94595], [-0.2908901, 426.87073], [-0.12763244, 434.58945], [-0.27153498, 423.97357], [-0.021596765, 383.26532], [-0.06877551, 463.65298], [-0.3461563, 390.002], [-0.12865025, 558.7576], [-0.34994698, 389.0116], [-0.32734996, 378.3855], [-0.25272018, 381.06183], [0.07778634, 460.17438], [-0.3042574, 413.4821], [-0.19543636, 482.21524], [-0.27633917, 402.23068], [-0.09121019, 396.0839], [0.04289166, 503.01016], [-0.2804152, 412.91028], [-0.29216844, 419.7483], [-2.727404, 416.68405], [-0.2849423, 414.16104], [-0.36805025, 389.05646], [-0.1295777, 448.13785], [-0.09857764, 470.07355], [-0.16744271, 487.63235], [-0.2502622, 466.05826], [-0.22051218, 453.0561], [-0.3317804, 417.58746], [-0.14742121, 484.7773], [-0.04413135, 466.80756], [0.17074895, 447.35138], [-0.08361383, 476.94284], [-0.33550143, 406.1348], [-0.28766543, 385.45316], [-0.18890211, 442.77972], [-0.22205527, 464.91553], [-0.3346556, 368.14713], [-0.3580824, 362.37958], [0.4198977, 420.878], [0.042623937, 493.00735], [-0.40474254, 384.59735], [-0.3788819, 366.44525], [-0.33574805, 419.43073], [0.13332433, 453.35278], [-0.4236993, 375.61554], [-0.2794486, 358.62033], [-0.20638983, 484.11685], [-0.15301572, 561.6896], [-0.22032905, 408.50616], [-0.40277165, 368.01056], [-0.3085938, 366.65656], [-0.0336339, 459.69553], [-0.34598112, 379.08072], [-0.44968358, 375.9695], [-0.45170268, 375.5967], [-0.11581308, 431.65674], [-0.34633374, 383.78177], [-1.9322125, 371.01166], [-0.075940445, 504.80652], [-0.41278285, 360.35876], [-0.4608949, 377.53778], [-0.29802138, 410.50833], [-0.350527, 373.97058], [-0.44241682, 361.0886], [-0.4195435, 350.05658], [0.0894099, 426.6986], [-0.22518885, 483.2626], [-0.31195575, 375.5822], [-0.068348065, 448.32666], [-2.399778, 351.59845], [-0.43631476, 357.0124], [-0.16152105, 486.1961], [-0.3840387, 384.03796], [-0.4889554, 384.73718], [0.1216407, 421.1238], [-0.48645264, 360.11862], [-0.4639842, 356.04218], [-0.45265475, 352.32196], [-0.3332952, 429.90485], [0.21787822, 416.43588], [-0.45354232, 346.68295], [-0.49006495, 356.46432], [-0.17168526, 468.69946], [-0.4860642, 353.72614], [-0.47880784, 359.23062], [-0.48893157, 372.29996], [-0.51819026, 364.11426], [-0.48826918, 351.2103], [2.7308965, 417.03613], [-0.2968101, 367.49768], [-0.51775444, 359.0938], [-0.40005437, 366.31378], [-0.44251052, 398.2318], [-0.37960932, 349.85672], [-0.5221508, 353.91122], [-0.29741883, 407.78088], [-0.45076448, 398.34604], [0.15671122, 441.11615], [-0.48523813, 341.95413], [-0.41544396, 382.80786], [-0.24520202, 467.2202], [-0.07725972, 450.9731], [-0.44662553, 392.65204], [-0.54859275, 361.8819], [-0.2900392, 415.86716], [-0.49935633, 339.47308], [-0.3628301, 414.35202], [0.37502506, 412.97397], [0.09646994, 438.1873], [-0.5717739, 357.0996], [-0.5735977, 356.8464], [-0.25755566, 472.0725], [-0.2880282, 428.60904], [-0.25292456, 416.5601], [-0.5780854, 359.51123], [-0.53515583, 329.6322], [-0.5130016, 423.17], [-0.36640254, 509.88614], [-0.5187025, 373.58267], [-0.4806293, 407.30167], [-0.5951672, 354.0997], [-0.42208213, 341.98776], [-0.42461124, 347.68265], [-0.4887147, 385.87323], [-0.52617896, 325.10403], [-0.61806697, 368.5337], [-1.3296101, 370.54163], [-0.5722678, 347.67352], [-0.57160723, 337.43225], [-0.44574004, 389.02124], [-0.64604014, 379.25403], [-0.5430934, 320.95117], [-0.4400932, 459.35608], [-0.40742177, 456.721], [-0.33353457, 408.5644], [-0.47641402, 379.64774], [-0.4834496, 399.69946], [0.07619884, 403.06454], [-0.5507414, 327.28296], [-0.17163555, 388.84387], [-0.56502646, 410.76846], [-0.599723, 313.55222], [-0.6211255, 337.2065], [-0.30691782, 434.49316], [-0.50909436, 387.76593], [-7.65907, 330.0062]] score is: 1.44\n",
            "[[-0.17134354, 424.02673], [-0.17666495, 402.87653], [-0.17286736, 473.20026], [-0.20000513, 425.26587], [-0.4921371, 447.9498], [-0.08437457, 480.33896], [-0.012353575, 484.61636], [0.006205964, 560.36475], [-0.19773993, 422.5599], [0.005452824, 413.22583], [-0.10748787, 452.38953], [-0.10706987, 464.27267], [-0.22374515, 433.20386], [-0.123715356, 413.9975], [-0.03620839, 423.74664], [-0.15655065, 474.16736], [-0.09205987, 481.48737], [-0.2051022, 389.10062], [-0.11515021, 530.37274], [-0.22005029, 420.79654], [-0.21384712, 409.01703], [-0.15261897, 465.4117], [-0.19413432, 406.67566], [-0.35986453, 434.7005], [-0.2775639, 409.49612], [-0.26782522, 398.765], [0.022266686, 503.47525], [-0.19146079, 391.65918], [-0.19954382, 415.65466], [-0.25304982, 429.21017], [-0.23677674, 417.47076], [-0.2706761, 414.44183], [-0.22163495, 476.4154], [-0.105203986, 459.16], [-0.17023973, 395.858], [-0.21221836, 478.3134], [-0.25059658, 430.84097], [0.045693636, 447.5269], [-0.18785687, 379.95187], [-0.26848468, 397.43707], [-0.23716465, 426.8257], [-0.09566405, 486.3457], [2.272774, 445.34073], [-0.30530775, 410.79968], [-0.12847798, 440.0509], [0.020439614, 499.36777], [-0.11105341, 499.17285], [-0.3000098, 387.37006], [0.061595954, 466.91806], [-0.23719063, 414.51215], [-0.06616771, 452.67438], [-0.16841355, 470.72864], [-0.1601814, 462.03098], [-0.18913922, 390.0574], [-0.08433649, 394.05154], [-0.1675537, 462.21512], [-0.07943915, 467.7267], [-0.11154671, 477.79657], [0.036438275, 432.06396], [-0.20958324, 375.2994], [-0.325405, 395.78558], [-2.900809, 410.94595], [-0.2908901, 426.87073], [-0.12763244, 434.58945], [-0.27153498, 423.97357], [-0.021596765, 383.26532], [-0.06877551, 463.65298], [-0.3461563, 390.002], [-0.12865025, 558.7576], [-0.34994698, 389.0116], [-0.32734996, 378.3855], [-0.25272018, 381.06183], [0.07778634, 460.17438], [-0.3042574, 413.4821], [-0.19543636, 482.21524], [-0.27633917, 402.23068], [-0.09121019, 396.0839], [0.04289166, 503.01016], [-0.2804152, 412.91028], [-0.29216844, 419.7483], [-2.727404, 416.68405], [-0.2849423, 414.16104], [-0.36805025, 389.05646], [-0.1295777, 448.13785], [-0.09857764, 470.07355], [-0.16744271, 487.63235], [-0.2502622, 466.05826], [-0.22051218, 453.0561], [-0.3317804, 417.58746], [-0.14742121, 484.7773], [-0.04413135, 466.80756], [0.17074895, 447.35138], [-0.08361383, 476.94284], [-0.33550143, 406.1348], [-0.28766543, 385.45316], [-0.18890211, 442.77972], [-0.22205527, 464.91553], [-0.3346556, 368.14713], [-0.3580824, 362.37958], [0.4198977, 420.878], [0.042623937, 493.00735], [-0.40474254, 384.59735], [-0.3788819, 366.44525], [-0.33574805, 419.43073], [0.13332433, 453.35278], [-0.4236993, 375.61554], [-0.2794486, 358.62033], [-0.20638983, 484.11685], [-0.15301572, 561.6896], [-0.22032905, 408.50616], [-0.40277165, 368.01056], [-0.3085938, 366.65656], [-0.0336339, 459.69553], [-0.34598112, 379.08072], [-0.44968358, 375.9695], [-0.45170268, 375.5967], [-0.11581308, 431.65674], [-0.34633374, 383.78177], [-1.9322125, 371.01166], [-0.075940445, 504.80652], [-0.41278285, 360.35876], [-0.4608949, 377.53778], [-0.29802138, 410.50833], [-0.350527, 373.97058], [-0.44241682, 361.0886], [-0.4195435, 350.05658], [0.0894099, 426.6986], [-0.22518885, 483.2626], [-0.31195575, 375.5822], [-0.068348065, 448.32666], [-2.399778, 351.59845], [-0.43631476, 357.0124], [-0.16152105, 486.1961], [-0.3840387, 384.03796], [-0.4889554, 384.73718], [0.1216407, 421.1238], [-0.48645264, 360.11862], [-0.4639842, 356.04218], [-0.45265475, 352.32196], [-0.3332952, 429.90485], [0.21787822, 416.43588], [-0.45354232, 346.68295], [-0.49006495, 356.46432], [-0.17168526, 468.69946], [-0.4860642, 353.72614], [-0.47880784, 359.23062], [-0.48893157, 372.29996], [-0.51819026, 364.11426], [-0.48826918, 351.2103], [2.7308965, 417.03613], [-0.2968101, 367.49768], [-0.51775444, 359.0938], [-0.40005437, 366.31378], [-0.44251052, 398.2318], [-0.37960932, 349.85672], [-0.5221508, 353.91122], [-0.29741883, 407.78088], [-0.45076448, 398.34604], [0.15671122, 441.11615], [-0.48523813, 341.95413], [-0.41544396, 382.80786], [-0.24520202, 467.2202], [-0.07725972, 450.9731], [-0.44662553, 392.65204], [-0.54859275, 361.8819], [-0.2900392, 415.86716], [-0.49935633, 339.47308], [-0.3628301, 414.35202], [0.37502506, 412.97397], [0.09646994, 438.1873], [-0.5717739, 357.0996], [-0.5735977, 356.8464], [-0.25755566, 472.0725], [-0.2880282, 428.60904], [-0.25292456, 416.5601], [-0.5780854, 359.51123], [-0.53515583, 329.6322], [-0.5130016, 423.17], [-0.36640254, 509.88614], [-0.5187025, 373.58267], [-0.4806293, 407.30167], [-0.5951672, 354.0997], [-0.42208213, 341.98776], [-0.42461124, 347.68265], [-0.4887147, 385.87323], [-0.52617896, 325.10403], [-0.61806697, 368.5337], [-1.3296101, 370.54163], [-0.5722678, 347.67352], [-0.57160723, 337.43225], [-0.44574004, 389.02124], [-0.64604014, 379.25403], [-0.5430934, 320.95117], [-0.4400932, 459.35608], [-0.40742177, 456.721], [-0.33353457, 408.5644], [-0.47641402, 379.64774], [-0.4834496, 399.69946], [0.07619884, 403.06454], [-0.5507414, 327.28296], [-0.17163555, 388.84387], [-0.56502646, 410.76846], [-0.599723, 313.55222], [-0.6211255, 337.2065], [-0.30691782, 434.49316], [-0.50909436, 387.76593], [-7.65907, 330.0062], [-0.50472164, 398.90115], [-0.51605606, 363.80072], [-0.5378858, 383.54343], [-0.05444386, 354.27246], [-0.5561453, 406.65198], [-0.44055825, 413.97232], [-0.66913855, 341.1051], [-0.6956935, 350.52872], [-0.66103375, 333.1926], [-0.7070591, 358.49304], [-0.5901493, 392.08627], [-0.46353197, 410.7213], [-0.63388395, 367.9706], [-0.061381985, 459.7558], [-0.6008558, 391.74142], [-0.6456616, 308.85928], [-0.002004254, 365.27435], [-0.55437696, 358.65158], [-0.48102203, 359.61215]] score is: 1.66\n",
            "[[-0.17134354, 424.02673], [-0.17666495, 402.87653], [-0.17286736, 473.20026], [-0.20000513, 425.26587], [-0.4921371, 447.9498], [-0.08437457, 480.33896], [-0.012353575, 484.61636], [0.006205964, 560.36475], [-0.19773993, 422.5599], [0.005452824, 413.22583], [-0.10748787, 452.38953], [-0.10706987, 464.27267], [-0.22374515, 433.20386], [-0.123715356, 413.9975], [-0.03620839, 423.74664], [-0.15655065, 474.16736], [-0.09205987, 481.48737], [-0.2051022, 389.10062], [-0.11515021, 530.37274], [-0.22005029, 420.79654], [-0.21384712, 409.01703], [-0.15261897, 465.4117], [-0.19413432, 406.67566], [-0.35986453, 434.7005], [-0.2775639, 409.49612], [-0.26782522, 398.765], [0.022266686, 503.47525], [-0.19146079, 391.65918], [-0.19954382, 415.65466], [-0.25304982, 429.21017], [-0.23677674, 417.47076], [-0.2706761, 414.44183], [-0.22163495, 476.4154], [-0.105203986, 459.16], [-0.17023973, 395.858], [-0.21221836, 478.3134], [-0.25059658, 430.84097], [0.045693636, 447.5269], [-0.18785687, 379.95187], [-0.26848468, 397.43707], [-0.23716465, 426.8257], [-0.09566405, 486.3457], [2.272774, 445.34073], [-0.30530775, 410.79968], [-0.12847798, 440.0509], [0.020439614, 499.36777], [-0.11105341, 499.17285], [-0.3000098, 387.37006], [0.061595954, 466.91806], [-0.23719063, 414.51215], [-0.06616771, 452.67438], [-0.16841355, 470.72864], [-0.1601814, 462.03098], [-0.18913922, 390.0574], [-0.08433649, 394.05154], [-0.1675537, 462.21512], [-0.07943915, 467.7267], [-0.11154671, 477.79657], [0.036438275, 432.06396], [-0.20958324, 375.2994], [-0.325405, 395.78558], [-2.900809, 410.94595], [-0.2908901, 426.87073], [-0.12763244, 434.58945], [-0.27153498, 423.97357], [-0.021596765, 383.26532], [-0.06877551, 463.65298], [-0.3461563, 390.002], [-0.12865025, 558.7576], [-0.34994698, 389.0116], [-0.32734996, 378.3855], [-0.25272018, 381.06183], [0.07778634, 460.17438], [-0.3042574, 413.4821], [-0.19543636, 482.21524], [-0.27633917, 402.23068], [-0.09121019, 396.0839], [0.04289166, 503.01016], [-0.2804152, 412.91028], [-0.29216844, 419.7483], [-2.727404, 416.68405], [-0.2849423, 414.16104], [-0.36805025, 389.05646], [-0.1295777, 448.13785], [-0.09857764, 470.07355], [-0.16744271, 487.63235], [-0.2502622, 466.05826], [-0.22051218, 453.0561], [-0.3317804, 417.58746], [-0.14742121, 484.7773], [-0.04413135, 466.80756], [0.17074895, 447.35138], [-0.08361383, 476.94284], [-0.33550143, 406.1348], [-0.28766543, 385.45316], [-0.18890211, 442.77972], [-0.22205527, 464.91553], [-0.3346556, 368.14713], [-0.3580824, 362.37958], [0.4198977, 420.878], [0.042623937, 493.00735], [-0.40474254, 384.59735], [-0.3788819, 366.44525], [-0.33574805, 419.43073], [0.13332433, 453.35278], [-0.4236993, 375.61554], [-0.2794486, 358.62033], [-0.20638983, 484.11685], [-0.15301572, 561.6896], [-0.22032905, 408.50616], [-0.40277165, 368.01056], [-0.3085938, 366.65656], [-0.0336339, 459.69553], [-0.34598112, 379.08072], [-0.44968358, 375.9695], [-0.45170268, 375.5967], [-0.11581308, 431.65674], [-0.34633374, 383.78177], [-1.9322125, 371.01166], [-0.075940445, 504.80652], [-0.41278285, 360.35876], [-0.4608949, 377.53778], [-0.29802138, 410.50833], [-0.350527, 373.97058], [-0.44241682, 361.0886], [-0.4195435, 350.05658], [0.0894099, 426.6986], [-0.22518885, 483.2626], [-0.31195575, 375.5822], [-0.068348065, 448.32666], [-2.399778, 351.59845], [-0.43631476, 357.0124], [-0.16152105, 486.1961], [-0.3840387, 384.03796], [-0.4889554, 384.73718], [0.1216407, 421.1238], [-0.48645264, 360.11862], [-0.4639842, 356.04218], [-0.45265475, 352.32196], [-0.3332952, 429.90485], [0.21787822, 416.43588], [-0.45354232, 346.68295], [-0.49006495, 356.46432], [-0.17168526, 468.69946], [-0.4860642, 353.72614], [-0.47880784, 359.23062], [-0.48893157, 372.29996], [-0.51819026, 364.11426], [-0.48826918, 351.2103], [2.7308965, 417.03613], [-0.2968101, 367.49768], [-0.51775444, 359.0938], [-0.40005437, 366.31378], [-0.44251052, 398.2318], [-0.37960932, 349.85672], [-0.5221508, 353.91122], [-0.29741883, 407.78088], [-0.45076448, 398.34604], [0.15671122, 441.11615], [-0.48523813, 341.95413], [-0.41544396, 382.80786], [-0.24520202, 467.2202], [-0.07725972, 450.9731], [-0.44662553, 392.65204], [-0.54859275, 361.8819], [-0.2900392, 415.86716], [-0.49935633, 339.47308], [-0.3628301, 414.35202], [0.37502506, 412.97397], [0.09646994, 438.1873], [-0.5717739, 357.0996], [-0.5735977, 356.8464], [-0.25755566, 472.0725], [-0.2880282, 428.60904], [-0.25292456, 416.5601], [-0.5780854, 359.51123], [-0.53515583, 329.6322], [-0.5130016, 423.17], [-0.36640254, 509.88614], [-0.5187025, 373.58267], [-0.4806293, 407.30167], [-0.5951672, 354.0997], [-0.42208213, 341.98776], [-0.42461124, 347.68265], [-0.4887147, 385.87323], [-0.52617896, 325.10403], [-0.61806697, 368.5337], [-1.3296101, 370.54163], [-0.5722678, 347.67352], [-0.57160723, 337.43225], [-0.44574004, 389.02124], [-0.64604014, 379.25403], [-0.5430934, 320.95117], [-0.4400932, 459.35608], [-0.40742177, 456.721], [-0.33353457, 408.5644], [-0.47641402, 379.64774], [-0.4834496, 399.69946], [0.07619884, 403.06454], [-0.5507414, 327.28296], [-0.17163555, 388.84387], [-0.56502646, 410.76846], [-0.599723, 313.55222], [-0.6211255, 337.2065], [-0.30691782, 434.49316], [-0.50909436, 387.76593], [-7.65907, 330.0062], [-0.50472164, 398.90115], [-0.51605606, 363.80072], [-0.5378858, 383.54343], [-0.05444386, 354.27246], [-0.5561453, 406.65198], [-0.44055825, 413.97232], [-0.66913855, 341.1051], [-0.6956935, 350.52872], [-0.66103375, 333.1926], [-0.7070591, 358.49304], [-0.5901493, 392.08627], [-0.46353197, 410.7213], [-0.63388395, 367.9706], [-0.061381985, 459.7558], [-0.6008558, 391.74142], [-0.6456616, 308.85928], [-0.002004254, 365.27435], [-0.55437696, 358.65158], [-0.48102203, 359.61215], [-0.28794873, 409.7931], [-0.6679616, 317.40994], [-0.58935696, 383.29346], [-0.54937273, 372.4737], [-3.2751534, 320.19788]] score is: 1.72\n",
            "[[-0.17134354, 424.02673], [-0.17666495, 402.87653], [-0.17286736, 473.20026], [-0.20000513, 425.26587], [-0.4921371, 447.9498], [-0.08437457, 480.33896], [-0.012353575, 484.61636], [0.006205964, 560.36475], [-0.19773993, 422.5599], [0.005452824, 413.22583], [-0.10748787, 452.38953], [-0.10706987, 464.27267], [-0.22374515, 433.20386], [-0.123715356, 413.9975], [-0.03620839, 423.74664], [-0.15655065, 474.16736], [-0.09205987, 481.48737], [-0.2051022, 389.10062], [-0.11515021, 530.37274], [-0.22005029, 420.79654], [-0.21384712, 409.01703], [-0.15261897, 465.4117], [-0.19413432, 406.67566], [-0.35986453, 434.7005], [-0.2775639, 409.49612], [-0.26782522, 398.765], [0.022266686, 503.47525], [-0.19146079, 391.65918], [-0.19954382, 415.65466], [-0.25304982, 429.21017], [-0.23677674, 417.47076], [-0.2706761, 414.44183], [-0.22163495, 476.4154], [-0.105203986, 459.16], [-0.17023973, 395.858], [-0.21221836, 478.3134], [-0.25059658, 430.84097], [0.045693636, 447.5269], [-0.18785687, 379.95187], [-0.26848468, 397.43707], [-0.23716465, 426.8257], [-0.09566405, 486.3457], [2.272774, 445.34073], [-0.30530775, 410.79968], [-0.12847798, 440.0509], [0.020439614, 499.36777], [-0.11105341, 499.17285], [-0.3000098, 387.37006], [0.061595954, 466.91806], [-0.23719063, 414.51215], [-0.06616771, 452.67438], [-0.16841355, 470.72864], [-0.1601814, 462.03098], [-0.18913922, 390.0574], [-0.08433649, 394.05154], [-0.1675537, 462.21512], [-0.07943915, 467.7267], [-0.11154671, 477.79657], [0.036438275, 432.06396], [-0.20958324, 375.2994], [-0.325405, 395.78558], [-2.900809, 410.94595], [-0.2908901, 426.87073], [-0.12763244, 434.58945], [-0.27153498, 423.97357], [-0.021596765, 383.26532], [-0.06877551, 463.65298], [-0.3461563, 390.002], [-0.12865025, 558.7576], [-0.34994698, 389.0116], [-0.32734996, 378.3855], [-0.25272018, 381.06183], [0.07778634, 460.17438], [-0.3042574, 413.4821], [-0.19543636, 482.21524], [-0.27633917, 402.23068], [-0.09121019, 396.0839], [0.04289166, 503.01016], [-0.2804152, 412.91028], [-0.29216844, 419.7483], [-2.727404, 416.68405], [-0.2849423, 414.16104], [-0.36805025, 389.05646], [-0.1295777, 448.13785], [-0.09857764, 470.07355], [-0.16744271, 487.63235], [-0.2502622, 466.05826], [-0.22051218, 453.0561], [-0.3317804, 417.58746], [-0.14742121, 484.7773], [-0.04413135, 466.80756], [0.17074895, 447.35138], [-0.08361383, 476.94284], [-0.33550143, 406.1348], [-0.28766543, 385.45316], [-0.18890211, 442.77972], [-0.22205527, 464.91553], [-0.3346556, 368.14713], [-0.3580824, 362.37958], [0.4198977, 420.878], [0.042623937, 493.00735], [-0.40474254, 384.59735], [-0.3788819, 366.44525], [-0.33574805, 419.43073], [0.13332433, 453.35278], [-0.4236993, 375.61554], [-0.2794486, 358.62033], [-0.20638983, 484.11685], [-0.15301572, 561.6896], [-0.22032905, 408.50616], [-0.40277165, 368.01056], [-0.3085938, 366.65656], [-0.0336339, 459.69553], [-0.34598112, 379.08072], [-0.44968358, 375.9695], [-0.45170268, 375.5967], [-0.11581308, 431.65674], [-0.34633374, 383.78177], [-1.9322125, 371.01166], [-0.075940445, 504.80652], [-0.41278285, 360.35876], [-0.4608949, 377.53778], [-0.29802138, 410.50833], [-0.350527, 373.97058], [-0.44241682, 361.0886], [-0.4195435, 350.05658], [0.0894099, 426.6986], [-0.22518885, 483.2626], [-0.31195575, 375.5822], [-0.068348065, 448.32666], [-2.399778, 351.59845], [-0.43631476, 357.0124], [-0.16152105, 486.1961], [-0.3840387, 384.03796], [-0.4889554, 384.73718], [0.1216407, 421.1238], [-0.48645264, 360.11862], [-0.4639842, 356.04218], [-0.45265475, 352.32196], [-0.3332952, 429.90485], [0.21787822, 416.43588], [-0.45354232, 346.68295], [-0.49006495, 356.46432], [-0.17168526, 468.69946], [-0.4860642, 353.72614], [-0.47880784, 359.23062], [-0.48893157, 372.29996], [-0.51819026, 364.11426], [-0.48826918, 351.2103], [2.7308965, 417.03613], [-0.2968101, 367.49768], [-0.51775444, 359.0938], [-0.40005437, 366.31378], [-0.44251052, 398.2318], [-0.37960932, 349.85672], [-0.5221508, 353.91122], [-0.29741883, 407.78088], [-0.45076448, 398.34604], [0.15671122, 441.11615], [-0.48523813, 341.95413], [-0.41544396, 382.80786], [-0.24520202, 467.2202], [-0.07725972, 450.9731], [-0.44662553, 392.65204], [-0.54859275, 361.8819], [-0.2900392, 415.86716], [-0.49935633, 339.47308], [-0.3628301, 414.35202], [0.37502506, 412.97397], [0.09646994, 438.1873], [-0.5717739, 357.0996], [-0.5735977, 356.8464], [-0.25755566, 472.0725], [-0.2880282, 428.60904], [-0.25292456, 416.5601], [-0.5780854, 359.51123], [-0.53515583, 329.6322], [-0.5130016, 423.17], [-0.36640254, 509.88614], [-0.5187025, 373.58267], [-0.4806293, 407.30167], [-0.5951672, 354.0997], [-0.42208213, 341.98776], [-0.42461124, 347.68265], [-0.4887147, 385.87323], [-0.52617896, 325.10403], [-0.61806697, 368.5337], [-1.3296101, 370.54163], [-0.5722678, 347.67352], [-0.57160723, 337.43225], [-0.44574004, 389.02124], [-0.64604014, 379.25403], [-0.5430934, 320.95117], [-0.4400932, 459.35608], [-0.40742177, 456.721], [-0.33353457, 408.5644], [-0.47641402, 379.64774], [-0.4834496, 399.69946], [0.07619884, 403.06454], [-0.5507414, 327.28296], [-0.17163555, 388.84387], [-0.56502646, 410.76846], [-0.599723, 313.55222], [-0.6211255, 337.2065], [-0.30691782, 434.49316], [-0.50909436, 387.76593], [-7.65907, 330.0062], [-0.50472164, 398.90115], [-0.51605606, 363.80072], [-0.5378858, 383.54343], [-0.05444386, 354.27246], [-0.5561453, 406.65198], [-0.44055825, 413.97232], [-0.66913855, 341.1051], [-0.6956935, 350.52872], [-0.66103375, 333.1926], [-0.7070591, 358.49304], [-0.5901493, 392.08627], [-0.46353197, 410.7213], [-0.63388395, 367.9706], [-0.061381985, 459.7558], [-0.6008558, 391.74142], [-0.6456616, 308.85928], [-0.002004254, 365.27435], [-0.55437696, 358.65158], [-0.48102203, 359.61215], [-0.28794873, 409.7931], [-0.6679616, 317.40994], [-0.58935696, 383.29346], [-0.54937273, 372.4737], [-3.2751534, 320.19788], [-0.6323508, 396.98206], [-0.7407018, 332.9672], [-0.6221221, 412.5053], [-0.53741777, 330.68985], [-0.5415708, 381.04135], [-0.5988832, 361.9606], [-0.36740312, 421.89484], [-0.54763186, 372.88], [-0.7325173, 329.64468], [-0.7316872, 309.89233], [-0.36161256, 417.51355], [-0.7129313, 294.73773], [-0.55392253, 386.58673], [-0.26935846, 332.52502], [-0.62663394, 378.57144], [-0.6926204, 317.68704], [-0.6513255, 284.1974], [-0.7720116, 332.409], [-6.3587255, 384.4238]] score is: 1.6\n",
            "[[-0.17134354, 424.02673], [-0.17666495, 402.87653], [-0.17286736, 473.20026], [-0.20000513, 425.26587], [-0.4921371, 447.9498], [-0.08437457, 480.33896], [-0.012353575, 484.61636], [0.006205964, 560.36475], [-0.19773993, 422.5599], [0.005452824, 413.22583], [-0.10748787, 452.38953], [-0.10706987, 464.27267], [-0.22374515, 433.20386], [-0.123715356, 413.9975], [-0.03620839, 423.74664], [-0.15655065, 474.16736], [-0.09205987, 481.48737], [-0.2051022, 389.10062], [-0.11515021, 530.37274], [-0.22005029, 420.79654], [-0.21384712, 409.01703], [-0.15261897, 465.4117], [-0.19413432, 406.67566], [-0.35986453, 434.7005], [-0.2775639, 409.49612], [-0.26782522, 398.765], [0.022266686, 503.47525], [-0.19146079, 391.65918], [-0.19954382, 415.65466], [-0.25304982, 429.21017], [-0.23677674, 417.47076], [-0.2706761, 414.44183], [-0.22163495, 476.4154], [-0.105203986, 459.16], [-0.17023973, 395.858], [-0.21221836, 478.3134], [-0.25059658, 430.84097], [0.045693636, 447.5269], [-0.18785687, 379.95187], [-0.26848468, 397.43707], [-0.23716465, 426.8257], [-0.09566405, 486.3457], [2.272774, 445.34073], [-0.30530775, 410.79968], [-0.12847798, 440.0509], [0.020439614, 499.36777], [-0.11105341, 499.17285], [-0.3000098, 387.37006], [0.061595954, 466.91806], [-0.23719063, 414.51215], [-0.06616771, 452.67438], [-0.16841355, 470.72864], [-0.1601814, 462.03098], [-0.18913922, 390.0574], [-0.08433649, 394.05154], [-0.1675537, 462.21512], [-0.07943915, 467.7267], [-0.11154671, 477.79657], [0.036438275, 432.06396], [-0.20958324, 375.2994], [-0.325405, 395.78558], [-2.900809, 410.94595], [-0.2908901, 426.87073], [-0.12763244, 434.58945], [-0.27153498, 423.97357], [-0.021596765, 383.26532], [-0.06877551, 463.65298], [-0.3461563, 390.002], [-0.12865025, 558.7576], [-0.34994698, 389.0116], [-0.32734996, 378.3855], [-0.25272018, 381.06183], [0.07778634, 460.17438], [-0.3042574, 413.4821], [-0.19543636, 482.21524], [-0.27633917, 402.23068], [-0.09121019, 396.0839], [0.04289166, 503.01016], [-0.2804152, 412.91028], [-0.29216844, 419.7483], [-2.727404, 416.68405], [-0.2849423, 414.16104], [-0.36805025, 389.05646], [-0.1295777, 448.13785], [-0.09857764, 470.07355], [-0.16744271, 487.63235], [-0.2502622, 466.05826], [-0.22051218, 453.0561], [-0.3317804, 417.58746], [-0.14742121, 484.7773], [-0.04413135, 466.80756], [0.17074895, 447.35138], [-0.08361383, 476.94284], [-0.33550143, 406.1348], [-0.28766543, 385.45316], [-0.18890211, 442.77972], [-0.22205527, 464.91553], [-0.3346556, 368.14713], [-0.3580824, 362.37958], [0.4198977, 420.878], [0.042623937, 493.00735], [-0.40474254, 384.59735], [-0.3788819, 366.44525], [-0.33574805, 419.43073], [0.13332433, 453.35278], [-0.4236993, 375.61554], [-0.2794486, 358.62033], [-0.20638983, 484.11685], [-0.15301572, 561.6896], [-0.22032905, 408.50616], [-0.40277165, 368.01056], [-0.3085938, 366.65656], [-0.0336339, 459.69553], [-0.34598112, 379.08072], [-0.44968358, 375.9695], [-0.45170268, 375.5967], [-0.11581308, 431.65674], [-0.34633374, 383.78177], [-1.9322125, 371.01166], [-0.075940445, 504.80652], [-0.41278285, 360.35876], [-0.4608949, 377.53778], [-0.29802138, 410.50833], [-0.350527, 373.97058], [-0.44241682, 361.0886], [-0.4195435, 350.05658], [0.0894099, 426.6986], [-0.22518885, 483.2626], [-0.31195575, 375.5822], [-0.068348065, 448.32666], [-2.399778, 351.59845], [-0.43631476, 357.0124], [-0.16152105, 486.1961], [-0.3840387, 384.03796], [-0.4889554, 384.73718], [0.1216407, 421.1238], [-0.48645264, 360.11862], [-0.4639842, 356.04218], [-0.45265475, 352.32196], [-0.3332952, 429.90485], [0.21787822, 416.43588], [-0.45354232, 346.68295], [-0.49006495, 356.46432], [-0.17168526, 468.69946], [-0.4860642, 353.72614], [-0.47880784, 359.23062], [-0.48893157, 372.29996], [-0.51819026, 364.11426], [-0.48826918, 351.2103], [2.7308965, 417.03613], [-0.2968101, 367.49768], [-0.51775444, 359.0938], [-0.40005437, 366.31378], [-0.44251052, 398.2318], [-0.37960932, 349.85672], [-0.5221508, 353.91122], [-0.29741883, 407.78088], [-0.45076448, 398.34604], [0.15671122, 441.11615], [-0.48523813, 341.95413], [-0.41544396, 382.80786], [-0.24520202, 467.2202], [-0.07725972, 450.9731], [-0.44662553, 392.65204], [-0.54859275, 361.8819], [-0.2900392, 415.86716], [-0.49935633, 339.47308], [-0.3628301, 414.35202], [0.37502506, 412.97397], [0.09646994, 438.1873], [-0.5717739, 357.0996], [-0.5735977, 356.8464], [-0.25755566, 472.0725], [-0.2880282, 428.60904], [-0.25292456, 416.5601], [-0.5780854, 359.51123], [-0.53515583, 329.6322], [-0.5130016, 423.17], [-0.36640254, 509.88614], [-0.5187025, 373.58267], [-0.4806293, 407.30167], [-0.5951672, 354.0997], [-0.42208213, 341.98776], [-0.42461124, 347.68265], [-0.4887147, 385.87323], [-0.52617896, 325.10403], [-0.61806697, 368.5337], [-1.3296101, 370.54163], [-0.5722678, 347.67352], [-0.57160723, 337.43225], [-0.44574004, 389.02124], [-0.64604014, 379.25403], [-0.5430934, 320.95117], [-0.4400932, 459.35608], [-0.40742177, 456.721], [-0.33353457, 408.5644], [-0.47641402, 379.64774], [-0.4834496, 399.69946], [0.07619884, 403.06454], [-0.5507414, 327.28296], [-0.17163555, 388.84387], [-0.56502646, 410.76846], [-0.599723, 313.55222], [-0.6211255, 337.2065], [-0.30691782, 434.49316], [-0.50909436, 387.76593], [-7.65907, 330.0062], [-0.50472164, 398.90115], [-0.51605606, 363.80072], [-0.5378858, 383.54343], [-0.05444386, 354.27246], [-0.5561453, 406.65198], [-0.44055825, 413.97232], [-0.66913855, 341.1051], [-0.6956935, 350.52872], [-0.66103375, 333.1926], [-0.7070591, 358.49304], [-0.5901493, 392.08627], [-0.46353197, 410.7213], [-0.63388395, 367.9706], [-0.061381985, 459.7558], [-0.6008558, 391.74142], [-0.6456616, 308.85928], [-0.002004254, 365.27435], [-0.55437696, 358.65158], [-0.48102203, 359.61215], [-0.28794873, 409.7931], [-0.6679616, 317.40994], [-0.58935696, 383.29346], [-0.54937273, 372.4737], [-3.2751534, 320.19788], [-0.6323508, 396.98206], [-0.7407018, 332.9672], [-0.6221221, 412.5053], [-0.53741777, 330.68985], [-0.5415708, 381.04135], [-0.5988832, 361.9606], [-0.36740312, 421.89484], [-0.54763186, 372.88], [-0.7325173, 329.64468], [-0.7316872, 309.89233], [-0.36161256, 417.51355], [-0.7129313, 294.73773], [-0.55392253, 386.58673], [-0.26935846, 332.52502], [-0.62663394, 378.57144], [-0.6926204, 317.68704], [-0.6513255, 284.1974], [-0.7720116, 332.409], [-6.3587255, 384.4238], [-0.56345445, 317.8855], [-0.6965659, 380.0646], [0.19750997, 414.6448], [-0.59995866, 301.5719], [-0.52434033, 391.4287], [-0.71964616, 314.70508], [-0.14747214, 399.3864], [-0.7820944, 317.3892], [-0.58297455, 315.3598], [-0.6451895, 368.18097], [0.40209752, 426.30893], [-0.76822954, 285.92682], [-0.60882133, 338.85104], [-0.73342425, 436.0799], [-0.73748934, 311.167], [-0.7884078, 312.40854], [0.41797954, 401.19162], [-0.854088, 336.83743], [4.647848, 352.28412]] score is: 1.56\n"
          ],
          "name": "stdout"
        },
        {
          "output_type": "error",
          "ename": "KeyboardInterrupt",
          "evalue": "ignored",
          "traceback": [
            "\u001b[0;31m---------------------------------------------------------------------------\u001b[0m",
            "\u001b[0;31mKeyboardInterrupt\u001b[0m                         Traceback (most recent call last)",
            "\u001b[0;32m<ipython-input-17-5ba0f138c5d9>\u001b[0m in \u001b[0;36m<module>\u001b[0;34m()\u001b[0m\n\u001b[1;32m     75\u001b[0m         \u001b[0mloss\u001b[0m \u001b[0;34m=\u001b[0m \u001b[0mmodel_train\u001b[0m\u001b[0;34m.\u001b[0m\u001b[0mtrain_on_batch\u001b[0m\u001b[0;34m(\u001b[0m\u001b[0;34m[\u001b[0m\u001b[0mstates\u001b[0m\u001b[0;34m[\u001b[0m\u001b[0mi\u001b[0m\u001b[0;34m]\u001b[0m\u001b[0;34m,\u001b[0m \u001b[0mdiscounted_rewards\u001b[0m\u001b[0;34m[\u001b[0m\u001b[0mi\u001b[0m\u001b[0;34m]\u001b[0m\u001b[0;34m]\u001b[0m\u001b[0;34m,\u001b[0m \u001b[0my_target\u001b[0m\u001b[0;34m[\u001b[0m\u001b[0mi\u001b[0m\u001b[0;34m]\u001b[0m\u001b[0;34m)\u001b[0m\u001b[0;34m\u001b[0m\u001b[0;34m\u001b[0m\u001b[0m\n\u001b[1;32m     76\u001b[0m         \u001b[0mlosses\u001b[0m\u001b[0;34m.\u001b[0m\u001b[0mappend\u001b[0m\u001b[0;34m(\u001b[0m\u001b[0mloss\u001b[0m\u001b[0;34m)\u001b[0m\u001b[0;34m\u001b[0m\u001b[0;34m\u001b[0m\u001b[0m\n\u001b[0;32m---> 77\u001b[0;31m         \u001b[0mhit\u001b[0m \u001b[0;34m=\u001b[0m \u001b[0mscore_model\u001b[0m\u001b[0;34m(\u001b[0m\u001b[0mmodel_predict\u001b[0m\u001b[0;34m,\u001b[0m \u001b[0;36m100\u001b[0m\u001b[0;34m)\u001b[0m\u001b[0;34m\u001b[0m\u001b[0;34m\u001b[0m\u001b[0m\n\u001b[0m\u001b[1;32m     78\u001b[0m \u001b[0;34m\u001b[0m\u001b[0m\n\u001b[1;32m     79\u001b[0m       \u001b[0mprint\u001b[0m\u001b[0;34m(\u001b[0m\u001b[0mlosses\u001b[0m\u001b[0;34m,\u001b[0m \u001b[0;34m\"score is:\"\u001b[0m\u001b[0;34m,\u001b[0m \u001b[0mhit\u001b[0m\u001b[0;34m)\u001b[0m\u001b[0;34m\u001b[0m\u001b[0;34m\u001b[0m\u001b[0m\n",
            "\u001b[0;32m<ipython-input-16-e4cc879f3461>\u001b[0m in \u001b[0;36mscore_model\u001b[0;34m(model_predict, num_tests)\u001b[0m\n\u001b[1;32m      5\u001b[0m     \u001b[0;32mfor\u001b[0m \u001b[0mnum_test\u001b[0m \u001b[0;32min\u001b[0m \u001b[0mrange\u001b[0m\u001b[0;34m(\u001b[0m\u001b[0mnum_tests\u001b[0m\u001b[0;34m)\u001b[0m\u001b[0;34m:\u001b[0m\u001b[0;34m\u001b[0m\u001b[0;34m\u001b[0m\u001b[0m\n\u001b[1;32m      6\u001b[0m         \u001b[0mobservation\u001b[0m \u001b[0;34m=\u001b[0m \u001b[0menv\u001b[0m\u001b[0;34m(\u001b[0m\u001b[0;34m)\u001b[0m\u001b[0;34m\u001b[0m\u001b[0;34m\u001b[0m\u001b[0m\n\u001b[0;32m----> 7\u001b[0;31m         \u001b[0mforcasts\u001b[0m \u001b[0;34m=\u001b[0m \u001b[0mmodel_predict\u001b[0m\u001b[0;34m.\u001b[0m\u001b[0mpredict\u001b[0m\u001b[0;34m(\u001b[0m\u001b[0mobservation\u001b[0m\u001b[0;34m)\u001b[0m\u001b[0;34m\u001b[0m\u001b[0;34m\u001b[0m\u001b[0m\n\u001b[0m\u001b[1;32m      8\u001b[0m         \u001b[0mrw\u001b[0m \u001b[0;34m=\u001b[0m \u001b[0mreward\u001b[0m\u001b[0;34m(\u001b[0m\u001b[0mobservation\u001b[0m\u001b[0;34m,\u001b[0m \u001b[0mnp\u001b[0m\u001b[0;34m.\u001b[0m\u001b[0margmax\u001b[0m\u001b[0;34m(\u001b[0m\u001b[0mforcasts\u001b[0m\u001b[0;34m,\u001b[0m \u001b[0maxis\u001b[0m\u001b[0;34m=\u001b[0m\u001b[0;36m1\u001b[0m\u001b[0;34m)\u001b[0m\u001b[0;34m)\u001b[0m\u001b[0;34m\u001b[0m\u001b[0;34m\u001b[0m\u001b[0m\n\u001b[1;32m      9\u001b[0m         \u001b[0mreward_sum\u001b[0m \u001b[0;34m=\u001b[0m \u001b[0mnp\u001b[0m\u001b[0;34m.\u001b[0m\u001b[0msum\u001b[0m\u001b[0;34m(\u001b[0m\u001b[0mrw\u001b[0m\u001b[0;34m)\u001b[0m\u001b[0;34m\u001b[0m\u001b[0;34m\u001b[0m\u001b[0m\n",
            "\u001b[0;32m/usr/local/lib/python3.6/dist-packages/keras/engine/training.py\u001b[0m in \u001b[0;36mpredict\u001b[0;34m(self, x, batch_size, verbose, steps, callbacks, max_queue_size, workers, use_multiprocessing)\u001b[0m\n\u001b[1;32m   1460\u001b[0m                                             \u001b[0mverbose\u001b[0m\u001b[0;34m=\u001b[0m\u001b[0mverbose\u001b[0m\u001b[0;34m,\u001b[0m\u001b[0;34m\u001b[0m\u001b[0;34m\u001b[0m\u001b[0m\n\u001b[1;32m   1461\u001b[0m                                             \u001b[0msteps\u001b[0m\u001b[0;34m=\u001b[0m\u001b[0msteps\u001b[0m\u001b[0;34m,\u001b[0m\u001b[0;34m\u001b[0m\u001b[0;34m\u001b[0m\u001b[0m\n\u001b[0;32m-> 1462\u001b[0;31m                                             callbacks=callbacks)\n\u001b[0m\u001b[1;32m   1463\u001b[0m \u001b[0;34m\u001b[0m\u001b[0m\n\u001b[1;32m   1464\u001b[0m     def train_on_batch(self, x, y,\n",
            "\u001b[0;32m/usr/local/lib/python3.6/dist-packages/keras/engine/training_arrays.py\u001b[0m in \u001b[0;36mpredict_loop\u001b[0;34m(model, f, ins, batch_size, verbose, steps, callbacks)\u001b[0m\n\u001b[1;32m    322\u001b[0m             \u001b[0mbatch_logs\u001b[0m \u001b[0;34m=\u001b[0m \u001b[0;34m{\u001b[0m\u001b[0;34m'batch'\u001b[0m\u001b[0;34m:\u001b[0m \u001b[0mbatch_index\u001b[0m\u001b[0;34m,\u001b[0m \u001b[0;34m'size'\u001b[0m\u001b[0;34m:\u001b[0m \u001b[0mlen\u001b[0m\u001b[0;34m(\u001b[0m\u001b[0mbatch_ids\u001b[0m\u001b[0;34m)\u001b[0m\u001b[0;34m}\u001b[0m\u001b[0;34m\u001b[0m\u001b[0;34m\u001b[0m\u001b[0m\n\u001b[1;32m    323\u001b[0m             \u001b[0mcallbacks\u001b[0m\u001b[0;34m.\u001b[0m\u001b[0m_call_batch_hook\u001b[0m\u001b[0;34m(\u001b[0m\u001b[0;34m'predict'\u001b[0m\u001b[0;34m,\u001b[0m \u001b[0;34m'begin'\u001b[0m\u001b[0;34m,\u001b[0m \u001b[0mbatch_index\u001b[0m\u001b[0;34m,\u001b[0m \u001b[0mbatch_logs\u001b[0m\u001b[0;34m)\u001b[0m\u001b[0;34m\u001b[0m\u001b[0;34m\u001b[0m\u001b[0m\n\u001b[0;32m--> 324\u001b[0;31m             \u001b[0mbatch_outs\u001b[0m \u001b[0;34m=\u001b[0m \u001b[0mf\u001b[0m\u001b[0;34m(\u001b[0m\u001b[0mins_batch\u001b[0m\u001b[0;34m)\u001b[0m\u001b[0;34m\u001b[0m\u001b[0;34m\u001b[0m\u001b[0m\n\u001b[0m\u001b[1;32m    325\u001b[0m             \u001b[0mbatch_outs\u001b[0m \u001b[0;34m=\u001b[0m \u001b[0mto_list\u001b[0m\u001b[0;34m(\u001b[0m\u001b[0mbatch_outs\u001b[0m\u001b[0;34m)\u001b[0m\u001b[0;34m\u001b[0m\u001b[0;34m\u001b[0m\u001b[0m\n\u001b[1;32m    326\u001b[0m             \u001b[0;32mif\u001b[0m \u001b[0mbatch_index\u001b[0m \u001b[0;34m==\u001b[0m \u001b[0;36m0\u001b[0m\u001b[0;34m:\u001b[0m\u001b[0;34m\u001b[0m\u001b[0;34m\u001b[0m\u001b[0m\n",
            "\u001b[0;32m/usr/local/lib/python3.6/dist-packages/tensorflow/python/keras/backend.py\u001b[0m in \u001b[0;36m__call__\u001b[0;34m(self, inputs)\u001b[0m\n\u001b[1;32m   3799\u001b[0m         \u001b[0mself\u001b[0m\u001b[0;34m.\u001b[0m\u001b[0m_outputs_structure\u001b[0m\u001b[0;34m,\u001b[0m\u001b[0;34m\u001b[0m\u001b[0;34m\u001b[0m\u001b[0m\n\u001b[1;32m   3800\u001b[0m         \u001b[0;34m[\u001b[0m\u001b[0mx\u001b[0m\u001b[0;34m.\u001b[0m\u001b[0m_numpy\u001b[0m\u001b[0;34m(\u001b[0m\u001b[0;34m)\u001b[0m \u001b[0;32mfor\u001b[0m \u001b[0mx\u001b[0m \u001b[0;32min\u001b[0m \u001b[0moutputs\u001b[0m\u001b[0;34m]\u001b[0m\u001b[0;34m,\u001b[0m  \u001b[0;31m# pylint: disable=protected-access\u001b[0m\u001b[0;34m\u001b[0m\u001b[0;34m\u001b[0m\u001b[0m\n\u001b[0;32m-> 3801\u001b[0;31m         expand_composites=True)\n\u001b[0m\u001b[1;32m   3802\u001b[0m \u001b[0;34m\u001b[0m\u001b[0m\n\u001b[1;32m   3803\u001b[0m \u001b[0;34m\u001b[0m\u001b[0m\n",
            "\u001b[0;32m/usr/local/lib/python3.6/dist-packages/tensorflow/python/util/nest.py\u001b[0m in \u001b[0;36mpack_sequence_as\u001b[0;34m(structure, flat_sequence, expand_composites)\u001b[0m\n\u001b[1;32m    550\u001b[0m     \u001b[0mTypeError\u001b[0m\u001b[0;34m:\u001b[0m\u001b[0;31m \u001b[0m\u001b[0;31m`\u001b[0m\u001b[0mstructure\u001b[0m\u001b[0;31m`\u001b[0m \u001b[0;32mis\u001b[0m \u001b[0;32mor\u001b[0m \u001b[0mcontains\u001b[0m \u001b[0ma\u001b[0m \u001b[0mdict\u001b[0m \u001b[0;32mwith\u001b[0m \u001b[0mnon\u001b[0m\u001b[0;34m-\u001b[0m\u001b[0msortable\u001b[0m \u001b[0mkeys\u001b[0m\u001b[0;34m.\u001b[0m\u001b[0;34m\u001b[0m\u001b[0;34m\u001b[0m\u001b[0m\n\u001b[1;32m    551\u001b[0m   \"\"\"\n\u001b[0;32m--> 552\u001b[0;31m   \u001b[0;32mreturn\u001b[0m \u001b[0m_pack_sequence_as\u001b[0m\u001b[0;34m(\u001b[0m\u001b[0mstructure\u001b[0m\u001b[0;34m,\u001b[0m \u001b[0mflat_sequence\u001b[0m\u001b[0;34m,\u001b[0m \u001b[0mexpand_composites\u001b[0m\u001b[0;34m)\u001b[0m\u001b[0;34m\u001b[0m\u001b[0;34m\u001b[0m\u001b[0m\n\u001b[0m\u001b[1;32m    553\u001b[0m \u001b[0;34m\u001b[0m\u001b[0m\n\u001b[1;32m    554\u001b[0m \u001b[0;34m\u001b[0m\u001b[0m\n",
            "\u001b[0;32m/usr/local/lib/python3.6/dist-packages/tensorflow/python/util/nest.py\u001b[0m in \u001b[0;36m_pack_sequence_as\u001b[0;34m(structure, flat_sequence, expand_composites, sequence_fn)\u001b[0m\n\u001b[1;32m    486\u001b[0m     \u001b[0;32mreturn\u001b[0m \u001b[0mvalue_str\u001b[0m\u001b[0;34m[\u001b[0m\u001b[0;34m:\u001b[0m\u001b[0mlength\u001b[0m\u001b[0;34m]\u001b[0m \u001b[0;34m+\u001b[0m \u001b[0;34m(\u001b[0m\u001b[0mvalue_str\u001b[0m\u001b[0;34m[\u001b[0m\u001b[0mlength\u001b[0m\u001b[0;34m:\u001b[0m\u001b[0;34m]\u001b[0m \u001b[0;32mand\u001b[0m \u001b[0;34m\"...\"\u001b[0m\u001b[0;34m)\u001b[0m\u001b[0;34m\u001b[0m\u001b[0;34m\u001b[0m\u001b[0m\n\u001b[1;32m    487\u001b[0m \u001b[0;34m\u001b[0m\u001b[0m\n\u001b[0;32m--> 488\u001b[0;31m   \u001b[0;32mif\u001b[0m \u001b[0;32mnot\u001b[0m \u001b[0mis_seq\u001b[0m\u001b[0;34m(\u001b[0m\u001b[0mflat_sequence\u001b[0m\u001b[0;34m)\u001b[0m\u001b[0;34m:\u001b[0m\u001b[0;34m\u001b[0m\u001b[0;34m\u001b[0m\u001b[0m\n\u001b[0m\u001b[1;32m    489\u001b[0m     raise TypeError(\n\u001b[1;32m    490\u001b[0m         \u001b[0;34m\"Attempted to pack value:\\n  {}\\ninto a sequence, but found \"\u001b[0m\u001b[0;34m\u001b[0m\u001b[0;34m\u001b[0m\u001b[0m\n",
            "\u001b[0;31mKeyboardInterrupt\u001b[0m: "
          ]
        }
      ]
    },
    {
      "cell_type": "code",
      "metadata": {
        "id": "z3HdUiqfGLGF",
        "colab_type": "code",
        "colab": {}
      },
      "source": [
        "\n",
        "\n",
        "        # Print periodically\n",
        "        if (num_episode + 1) % print_every == 0:\n",
        "            # Print status\n",
        "            score = score_model(model_predict,10)\n",
        "            print(\"Average reward for training episode {}: {:0.2f} Test Score: {:0.2f} Loss: {:0.6f} \".format(\n",
        "                (num_episode + 1), reward_sum/print_every, \n",
        "                score,\n",
        "                np.mean(losses[-print_every:])))\n",
        "            \n",
        "            if score >= goal:\n",
        "                print(\"Solved in {} episodes!\".format(num_episode))\n",
        "                break\n",
        "            reward_sum = 0\n",
        "                \n",
        "        num_episode += 1\n",
        "        observation = env.reset()"
      ],
      "execution_count": null,
      "outputs": []
    },
    {
      "cell_type": "code",
      "metadata": {
        "id": "8ubj9ACiEzav",
        "colab_type": "code",
        "colab": {}
      },
      "source": [
        ""
      ],
      "execution_count": null,
      "outputs": []
    },
    {
      "cell_type": "code",
      "metadata": {
        "id": "EzPI_btblsEl",
        "colab_type": "code",
        "colab": {
          "base_uri": "https://localhost:8080/",
          "height": 52
        },
        "outputId": "d287280c-c54c-4612-db43-31b4d2f254b8"
      },
      "source": [
        "states = np.empty(0).reshape(0,10)\n",
        "observation = env()\n",
        "state = observation\n",
        "states = np.vstack([states, state])\n",
        "print(states)"
      ],
      "execution_count": null,
      "outputs": [
        {
          "output_type": "stream",
          "text": [
            "[[-2.14444758 -0.44786527  0.27428755 -1.35549211  0.21041568  0.58894521\n",
            "   0.73969842  0.03003539  1.31171488  0.79270784]]\n"
          ],
          "name": "stdout"
        }
      ]
    },
    {
      "cell_type": "code",
      "metadata": {
        "id": "WpvAblU7B4G6",
        "colab_type": "code",
        "colab": {
          "base_uri": "https://localhost:8080/",
          "height": 52
        },
        "outputId": "b3413535-88f1-48e9-cc6e-19d4a2175ce6"
      },
      "source": [
        "states"
      ],
      "execution_count": null,
      "outputs": [
        {
          "output_type": "execute_result",
          "data": {
            "text/plain": [
              "array([[-2.14444758, -0.44786527,  0.27428755, -1.35549211,  0.21041568,\n",
              "         0.58894521,  0.73969842,  0.03003539,  1.31171488,  0.79270784]])"
            ]
          },
          "metadata": {
            "tags": []
          },
          "execution_count": 141
        }
      ]
    },
    {
      "cell_type": "code",
      "metadata": {
        "id": "9Pv5pxyb7JEA",
        "colab_type": "code",
        "colab": {}
      },
      "source": [
        "acts=[]\n",
        "for i in range(0, len(f)):\n",
        "  action = np.random.choice(range(2),p=f[i]) # 대안 중에서 하나를 선택한다. p=[0.4, 0.6] 대안이 선택될 확율이다. action은 0 또는 1 이된다.\n",
        "  acts.append(action) "
      ],
      "execution_count": null,
      "outputs": []
    },
    {
      "cell_type": "code",
      "metadata": {
        "id": "KHhMmumd840D",
        "colab_type": "code",
        "colab": {
          "base_uri": "https://localhost:8080/",
          "height": 34
        },
        "outputId": "df03e84a-8873-46cb-8698-015753bfd28b"
      },
      "source": [
        "acts"
      ],
      "execution_count": null,
      "outputs": [
        {
          "output_type": "execute_result",
          "data": {
            "text/plain": [
              "[0, 1, 0, 0, 1, 1, 1, 0, 1, 0]"
            ]
          },
          "metadata": {
            "tags": []
          },
          "execution_count": 166
        }
      ]
    },
    {
      "cell_type": "code",
      "metadata": {
        "id": "F0IgmaBM9L2C",
        "colab_type": "code",
        "colab": {}
      },
      "source": [
        "actions = np.empty(0).reshape(0,dimen)"
      ],
      "execution_count": null,
      "outputs": []
    },
    {
      "cell_type": "code",
      "metadata": {
        "id": "HBjIisngSiJJ",
        "colab_type": "code",
        "colab": {}
      },
      "source": [
        ""
      ],
      "execution_count": null,
      "outputs": []
    },
    {
      "cell_type": "code",
      "metadata": {
        "id": "cAvltA8C9QJ_",
        "colab_type": "code",
        "colab": {}
      },
      "source": [
        "actions = np.vstack([actions, acts])"
      ],
      "execution_count": null,
      "outputs": []
    },
    {
      "cell_type": "code",
      "metadata": {
        "id": "kV892v-y9lkv",
        "colab_type": "code",
        "colab": {
          "base_uri": "https://localhost:8080/",
          "height": 34
        },
        "outputId": "7808729b-6874-4223-c26b-f02ec0b8ea82"
      },
      "source": [
        "actions"
      ],
      "execution_count": null,
      "outputs": [
        {
          "output_type": "execute_result",
          "data": {
            "text/plain": [
              "array([[0., 1., 0., 0., 1., 1., 1., 0., 1., 0.]])"
            ]
          },
          "metadata": {
            "tags": []
          },
          "execution_count": 169
        }
      ]
    },
    {
      "cell_type": "code",
      "metadata": {
        "id": "1w_kqPMFUIES",
        "colab_type": "code",
        "colab": {}
      },
      "source": [
        "actions = actions.squeeze().astype(int)"
      ],
      "execution_count": null,
      "outputs": []
    },
    {
      "cell_type": "code",
      "metadata": {
        "id": "FJyhyQY7UcTL",
        "colab_type": "code",
        "colab": {
          "base_uri": "https://localhost:8080/",
          "height": 34
        },
        "outputId": "88f7b84a-35a9-494f-c62f-a005d47ff734"
      },
      "source": [
        "actions"
      ],
      "execution_count": null,
      "outputs": [
        {
          "output_type": "execute_result",
          "data": {
            "text/plain": [
              "array([0, 1, 0, 0, 1, 1, 1, 0, 1, 0])"
            ]
          },
          "metadata": {
            "tags": []
          },
          "execution_count": 171
        }
      ]
    },
    {
      "cell_type": "code",
      "metadata": {
        "id": "QD1fTJ9SSmfM",
        "colab_type": "code",
        "colab": {}
      },
      "source": [
        "actions_train = np.zeros([len(actions), 2])\n"
      ],
      "execution_count": null,
      "outputs": []
    },
    {
      "cell_type": "code",
      "metadata": {
        "id": "1Yvcy2hkSvN1",
        "colab_type": "code",
        "colab": {
          "base_uri": "https://localhost:8080/",
          "height": 193
        },
        "outputId": "e3dad6a0-d22e-49c9-cabb-0a2cb60046da"
      },
      "source": [
        "actions_train"
      ],
      "execution_count": null,
      "outputs": [
        {
          "output_type": "execute_result",
          "data": {
            "text/plain": [
              "array([[0., 0.],\n",
              "       [0., 0.],\n",
              "       [0., 0.],\n",
              "       [0., 0.],\n",
              "       [0., 0.],\n",
              "       [0., 0.],\n",
              "       [0., 0.],\n",
              "       [0., 0.],\n",
              "       [0., 0.],\n",
              "       [0., 0.]])"
            ]
          },
          "metadata": {
            "tags": []
          },
          "execution_count": 173
        }
      ]
    },
    {
      "cell_type": "code",
      "metadata": {
        "id": "zAqAXJrATFnt",
        "colab_type": "code",
        "colab": {}
      },
      "source": [
        "actions_train[np.arange(len(actions)), actions] = 1"
      ],
      "execution_count": null,
      "outputs": []
    },
    {
      "cell_type": "code",
      "metadata": {
        "id": "RHG0XgebU2YC",
        "colab_type": "code",
        "colab": {
          "base_uri": "https://localhost:8080/",
          "height": 193
        },
        "outputId": "6eab33a9-38cb-4d48-861f-621173b9ef02"
      },
      "source": [
        "actions_train"
      ],
      "execution_count": null,
      "outputs": [
        {
          "output_type": "execute_result",
          "data": {
            "text/plain": [
              "array([[1., 0.],\n",
              "       [0., 1.],\n",
              "       [1., 0.],\n",
              "       [1., 0.],\n",
              "       [0., 1.],\n",
              "       [0., 1.],\n",
              "       [0., 1.],\n",
              "       [1., 0.],\n",
              "       [0., 1.],\n",
              "       [1., 0.]])"
            ]
          },
          "metadata": {
            "tags": []
          },
          "execution_count": 176
        }
      ]
    },
    {
      "cell_type": "code",
      "metadata": {
        "id": "mxtbvuyu__Kn",
        "colab_type": "code",
        "colab": {
          "base_uri": "https://localhost:8080/",
          "height": 34
        },
        "outputId": "6221e8f2-4d58-4cc8-f1b1-e27b54b1c1d0"
      },
      "source": [
        "for i in range(len(states)):\n",
        "  print(reward(states[i], actions[i]))"
      ],
      "execution_count": null,
      "outputs": [
        {
          "output_type": "stream",
          "text": [
            "[-1, 1, -1, 1, 1, 1, 1, -1, -1]\n"
          ],
          "name": "stdout"
        }
      ]
    },
    {
      "cell_type": "code",
      "metadata": {
        "id": "OlLRibqX_uLw",
        "colab_type": "code",
        "colab": {
          "base_uri": "https://localhost:8080/",
          "height": 34
        },
        "outputId": "1b648fb1-0518-4bac-bcca-c26d28932de3"
      },
      "source": [
        "len(actions)"
      ],
      "execution_count": null,
      "outputs": [
        {
          "output_type": "execute_result",
          "data": {
            "text/plain": [
              "1"
            ]
          },
          "metadata": {
            "tags": []
          },
          "execution_count": 129
        }
      ]
    },
    {
      "cell_type": "code",
      "metadata": {
        "id": "Di8snwQYJop6",
        "colab_type": "code",
        "colab": {}
      },
      "source": [
        "action = np.argmax(forcasts, axis=1)"
      ],
      "execution_count": null,
      "outputs": []
    },
    {
      "cell_type": "code",
      "metadata": {
        "id": "A105WybkkA0b",
        "colab_type": "code",
        "colab": {
          "base_uri": "https://localhost:8080/",
          "height": 34
        },
        "outputId": "33242956-3989-4ef4-8566-5b3c3814579c"
      },
      "source": [
        "action"
      ],
      "execution_count": null,
      "outputs": [
        {
          "output_type": "execute_result",
          "data": {
            "text/plain": [
              "array([0, 0, 0, 0, 0, 0, 0, 0, 0, 0])"
            ]
          },
          "metadata": {
            "tags": []
          },
          "execution_count": 64
        }
      ]
    },
    {
      "cell_type": "code",
      "metadata": {
        "id": "bjnwxHJHHzcc",
        "colab_type": "code",
        "colab": {
          "base_uri": "https://localhost:8080/",
          "height": 52
        },
        "outputId": "310f60eb-2178-45f7-c282-b061e37d6825"
      },
      "source": [
        "price"
      ],
      "execution_count": null,
      "outputs": [
        {
          "output_type": "execute_result",
          "data": {
            "text/plain": [
              "array([-1.33860938, -0.87349678, -1.77357356, -0.08613236,  0.42536386,\n",
              "        0.59313445,  0.52425265, -0.10512848,  1.36200137,  1.27218823])"
            ]
          },
          "metadata": {
            "tags": []
          },
          "execution_count": 53
        }
      ]
    },
    {
      "cell_type": "code",
      "metadata": {
        "id": "hnnvLYw_H0BZ",
        "colab_type": "code",
        "colab": {
          "base_uri": "https://localhost:8080/",
          "height": 175
        },
        "outputId": "6a5e02a6-7675-4f9b-ba49-1f086d298fff"
      },
      "source": [
        "for i in range(0, len(price)-1):\n",
        "  print(price[i], action[i])"
      ],
      "execution_count": null,
      "outputs": [
        {
          "output_type": "stream",
          "text": [
            "-1.338609382765694 0\n",
            "-0.873496776229333 0\n",
            "-1.7735735604440708 0\n",
            "-0.0861323574778538 0\n",
            "0.4253638642884277 0\n",
            "0.5931344497708159 0\n",
            "0.5242526478853675 0\n",
            "-0.10512848167939567 0\n",
            "1.36200137023465 0\n"
          ],
          "name": "stdout"
        }
      ]
    },
    {
      "cell_type": "code",
      "metadata": {
        "id": "KDDqq2C4-oK6",
        "colab_type": "code",
        "colab": {}
      },
      "source": [
        ""
      ],
      "execution_count": null,
      "outputs": []
    },
    {
      "cell_type": "code",
      "metadata": {
        "id": "etkzKb1f_CLr",
        "colab_type": "code",
        "colab": {
          "base_uri": "https://localhost:8080/",
          "height": 34
        },
        "outputId": "549701f8-f046-4cfe-93df-bae2e355584c"
      },
      "source": [
        "multip.shape"
      ],
      "execution_count": null,
      "outputs": [
        {
          "output_type": "execute_result",
          "data": {
            "text/plain": [
              "(10,)"
            ]
          },
          "metadata": {
            "tags": []
          },
          "execution_count": 15
        }
      ]
    },
    {
      "cell_type": "code",
      "metadata": {
        "id": "PwafT48jJC7n",
        "colab_type": "code",
        "colab": {
          "base_uri": "https://localhost:8080/",
          "height": 316
        },
        "outputId": "88dca479-ebe4-4c75-9456-5a3adea74cbc"
      },
      "source": [
        "historyj = modelj.fit([price, multip], y_encoded, epochs=10)"
      ],
      "execution_count": null,
      "outputs": [
        {
          "output_type": "error",
          "ename": "NotImplementedError",
          "evalue": "ignored",
          "traceback": [
            "\u001b[0;31m---------------------------------------------------------------------------\u001b[0m",
            "\u001b[0;31mNotImplementedError\u001b[0m                       Traceback (most recent call last)",
            "\u001b[0;32m<ipython-input-13-9c4f1c8c3e3e>\u001b[0m in \u001b[0;36m<module>\u001b[0;34m()\u001b[0m\n\u001b[0;32m----> 1\u001b[0;31m \u001b[0mhistoryj\u001b[0m \u001b[0;34m=\u001b[0m \u001b[0mmodelj\u001b[0m\u001b[0;34m.\u001b[0m\u001b[0mfit\u001b[0m\u001b[0;34m(\u001b[0m\u001b[0;34m[\u001b[0m\u001b[0mprice\u001b[0m\u001b[0;34m,\u001b[0m \u001b[0mmultip\u001b[0m\u001b[0;34m]\u001b[0m\u001b[0;34m,\u001b[0m \u001b[0my_encoded\u001b[0m\u001b[0;34m,\u001b[0m \u001b[0mepochs\u001b[0m\u001b[0;34m=\u001b[0m\u001b[0;36m10\u001b[0m\u001b[0;34m)\u001b[0m\u001b[0;34m\u001b[0m\u001b[0;34m\u001b[0m\u001b[0m\n\u001b[0m",
            "\u001b[0;32m/usr/local/lib/python3.6/dist-packages/keras/engine/training.py\u001b[0m in \u001b[0;36mfit\u001b[0;34m(self, x, y, batch_size, epochs, verbose, callbacks, validation_split, validation_data, shuffle, class_weight, sample_weight, initial_epoch, steps_per_epoch, validation_steps, validation_freq, max_queue_size, workers, use_multiprocessing, **kwargs)\u001b[0m\n\u001b[1;32m   1152\u001b[0m             \u001b[0msample_weight\u001b[0m\u001b[0;34m=\u001b[0m\u001b[0msample_weight\u001b[0m\u001b[0;34m,\u001b[0m\u001b[0;34m\u001b[0m\u001b[0;34m\u001b[0m\u001b[0m\n\u001b[1;32m   1153\u001b[0m             \u001b[0mclass_weight\u001b[0m\u001b[0;34m=\u001b[0m\u001b[0mclass_weight\u001b[0m\u001b[0;34m,\u001b[0m\u001b[0;34m\u001b[0m\u001b[0;34m\u001b[0m\u001b[0m\n\u001b[0;32m-> 1154\u001b[0;31m             batch_size=batch_size)\n\u001b[0m\u001b[1;32m   1155\u001b[0m \u001b[0;34m\u001b[0m\u001b[0m\n\u001b[1;32m   1156\u001b[0m         \u001b[0;31m# Prepare validation data.\u001b[0m\u001b[0;34m\u001b[0m\u001b[0;34m\u001b[0m\u001b[0;34m\u001b[0m\u001b[0m\n",
            "\u001b[0;32m/usr/local/lib/python3.6/dist-packages/keras/engine/training.py\u001b[0m in \u001b[0;36m_standardize_user_data\u001b[0;34m(self, x, y, sample_weight, class_weight, check_array_lengths, batch_size)\u001b[0m\n\u001b[1;32m    577\u001b[0m             \u001b[0mfeed_input_shapes\u001b[0m\u001b[0;34m,\u001b[0m\u001b[0;34m\u001b[0m\u001b[0;34m\u001b[0m\u001b[0m\n\u001b[1;32m    578\u001b[0m             \u001b[0mcheck_batch_axis\u001b[0m\u001b[0;34m=\u001b[0m\u001b[0;32mFalse\u001b[0m\u001b[0;34m,\u001b[0m  \u001b[0;31m# Don't enforce the batch size.\u001b[0m\u001b[0;34m\u001b[0m\u001b[0;34m\u001b[0m\u001b[0m\n\u001b[0;32m--> 579\u001b[0;31m             exception_prefix='input')\n\u001b[0m\u001b[1;32m    580\u001b[0m \u001b[0;34m\u001b[0m\u001b[0m\n\u001b[1;32m    581\u001b[0m         \u001b[0;32mif\u001b[0m \u001b[0my\u001b[0m \u001b[0;32mis\u001b[0m \u001b[0;32mnot\u001b[0m \u001b[0;32mNone\u001b[0m\u001b[0;34m:\u001b[0m\u001b[0;34m\u001b[0m\u001b[0;34m\u001b[0m\u001b[0m\n",
            "\u001b[0;32m/usr/local/lib/python3.6/dist-packages/keras/engine/training_utils.py\u001b[0m in \u001b[0;36mstandardize_input_data\u001b[0;34m(data, names, shapes, check_batch_axis, exception_prefix)\u001b[0m\n\u001b[1;32m     86\u001b[0m     \u001b[0;32melif\u001b[0m \u001b[0misinstance\u001b[0m\u001b[0;34m(\u001b[0m\u001b[0mdata\u001b[0m\u001b[0;34m,\u001b[0m \u001b[0mlist\u001b[0m\u001b[0;34m)\u001b[0m\u001b[0;34m:\u001b[0m\u001b[0;34m\u001b[0m\u001b[0;34m\u001b[0m\u001b[0m\n\u001b[1;32m     87\u001b[0m         \u001b[0;32mif\u001b[0m \u001b[0misinstance\u001b[0m\u001b[0;34m(\u001b[0m\u001b[0mdata\u001b[0m\u001b[0;34m[\u001b[0m\u001b[0;36m0\u001b[0m\u001b[0;34m]\u001b[0m\u001b[0;34m,\u001b[0m \u001b[0mlist\u001b[0m\u001b[0;34m)\u001b[0m\u001b[0;34m:\u001b[0m\u001b[0;34m\u001b[0m\u001b[0;34m\u001b[0m\u001b[0m\n\u001b[0;32m---> 88\u001b[0;31m             \u001b[0mdata\u001b[0m \u001b[0;34m=\u001b[0m \u001b[0;34m[\u001b[0m\u001b[0mnp\u001b[0m\u001b[0;34m.\u001b[0m\u001b[0masarray\u001b[0m\u001b[0;34m(\u001b[0m\u001b[0md\u001b[0m\u001b[0;34m)\u001b[0m \u001b[0;32mfor\u001b[0m \u001b[0md\u001b[0m \u001b[0;32min\u001b[0m \u001b[0mdata\u001b[0m\u001b[0;34m]\u001b[0m\u001b[0;34m\u001b[0m\u001b[0;34m\u001b[0m\u001b[0m\n\u001b[0m\u001b[1;32m     89\u001b[0m         \u001b[0;32melif\u001b[0m \u001b[0mlen\u001b[0m\u001b[0;34m(\u001b[0m\u001b[0mnames\u001b[0m\u001b[0;34m)\u001b[0m \u001b[0;34m==\u001b[0m \u001b[0;36m1\u001b[0m \u001b[0;32mand\u001b[0m \u001b[0misinstance\u001b[0m\u001b[0;34m(\u001b[0m\u001b[0mdata\u001b[0m\u001b[0;34m[\u001b[0m\u001b[0;36m0\u001b[0m\u001b[0;34m]\u001b[0m\u001b[0;34m,\u001b[0m \u001b[0;34m(\u001b[0m\u001b[0mfloat\u001b[0m\u001b[0;34m,\u001b[0m \u001b[0mint\u001b[0m\u001b[0;34m)\u001b[0m\u001b[0;34m)\u001b[0m\u001b[0;34m:\u001b[0m\u001b[0;34m\u001b[0m\u001b[0;34m\u001b[0m\u001b[0m\n\u001b[1;32m     90\u001b[0m             \u001b[0mdata\u001b[0m \u001b[0;34m=\u001b[0m \u001b[0;34m[\u001b[0m\u001b[0mnp\u001b[0m\u001b[0;34m.\u001b[0m\u001b[0masarray\u001b[0m\u001b[0;34m(\u001b[0m\u001b[0mdata\u001b[0m\u001b[0;34m)\u001b[0m\u001b[0;34m]\u001b[0m\u001b[0;34m\u001b[0m\u001b[0;34m\u001b[0m\u001b[0m\n",
            "\u001b[0;32m/usr/local/lib/python3.6/dist-packages/keras/engine/training_utils.py\u001b[0m in \u001b[0;36m<listcomp>\u001b[0;34m(.0)\u001b[0m\n\u001b[1;32m     86\u001b[0m     \u001b[0;32melif\u001b[0m \u001b[0misinstance\u001b[0m\u001b[0;34m(\u001b[0m\u001b[0mdata\u001b[0m\u001b[0;34m,\u001b[0m \u001b[0mlist\u001b[0m\u001b[0;34m)\u001b[0m\u001b[0;34m:\u001b[0m\u001b[0;34m\u001b[0m\u001b[0;34m\u001b[0m\u001b[0m\n\u001b[1;32m     87\u001b[0m         \u001b[0;32mif\u001b[0m \u001b[0misinstance\u001b[0m\u001b[0;34m(\u001b[0m\u001b[0mdata\u001b[0m\u001b[0;34m[\u001b[0m\u001b[0;36m0\u001b[0m\u001b[0;34m]\u001b[0m\u001b[0;34m,\u001b[0m \u001b[0mlist\u001b[0m\u001b[0;34m)\u001b[0m\u001b[0;34m:\u001b[0m\u001b[0;34m\u001b[0m\u001b[0;34m\u001b[0m\u001b[0m\n\u001b[0;32m---> 88\u001b[0;31m             \u001b[0mdata\u001b[0m \u001b[0;34m=\u001b[0m \u001b[0;34m[\u001b[0m\u001b[0mnp\u001b[0m\u001b[0;34m.\u001b[0m\u001b[0masarray\u001b[0m\u001b[0;34m(\u001b[0m\u001b[0md\u001b[0m\u001b[0;34m)\u001b[0m \u001b[0;32mfor\u001b[0m \u001b[0md\u001b[0m \u001b[0;32min\u001b[0m \u001b[0mdata\u001b[0m\u001b[0;34m]\u001b[0m\u001b[0;34m\u001b[0m\u001b[0;34m\u001b[0m\u001b[0m\n\u001b[0m\u001b[1;32m     89\u001b[0m         \u001b[0;32melif\u001b[0m \u001b[0mlen\u001b[0m\u001b[0;34m(\u001b[0m\u001b[0mnames\u001b[0m\u001b[0;34m)\u001b[0m \u001b[0;34m==\u001b[0m \u001b[0;36m1\u001b[0m \u001b[0;32mand\u001b[0m \u001b[0misinstance\u001b[0m\u001b[0;34m(\u001b[0m\u001b[0mdata\u001b[0m\u001b[0;34m[\u001b[0m\u001b[0;36m0\u001b[0m\u001b[0;34m]\u001b[0m\u001b[0;34m,\u001b[0m \u001b[0;34m(\u001b[0m\u001b[0mfloat\u001b[0m\u001b[0;34m,\u001b[0m \u001b[0mint\u001b[0m\u001b[0;34m)\u001b[0m\u001b[0;34m)\u001b[0m\u001b[0;34m:\u001b[0m\u001b[0;34m\u001b[0m\u001b[0;34m\u001b[0m\u001b[0m\n\u001b[1;32m     90\u001b[0m             \u001b[0mdata\u001b[0m \u001b[0;34m=\u001b[0m \u001b[0;34m[\u001b[0m\u001b[0mnp\u001b[0m\u001b[0;34m.\u001b[0m\u001b[0masarray\u001b[0m\u001b[0;34m(\u001b[0m\u001b[0mdata\u001b[0m\u001b[0;34m)\u001b[0m\u001b[0;34m]\u001b[0m\u001b[0;34m\u001b[0m\u001b[0;34m\u001b[0m\u001b[0m\n",
            "\u001b[0;32m/usr/local/lib/python3.6/dist-packages/numpy/core/_asarray.py\u001b[0m in \u001b[0;36masarray\u001b[0;34m(a, dtype, order)\u001b[0m\n\u001b[1;32m     83\u001b[0m \u001b[0;34m\u001b[0m\u001b[0m\n\u001b[1;32m     84\u001b[0m     \"\"\"\n\u001b[0;32m---> 85\u001b[0;31m     \u001b[0;32mreturn\u001b[0m \u001b[0marray\u001b[0m\u001b[0;34m(\u001b[0m\u001b[0ma\u001b[0m\u001b[0;34m,\u001b[0m \u001b[0mdtype\u001b[0m\u001b[0;34m,\u001b[0m \u001b[0mcopy\u001b[0m\u001b[0;34m=\u001b[0m\u001b[0;32mFalse\u001b[0m\u001b[0;34m,\u001b[0m \u001b[0morder\u001b[0m\u001b[0;34m=\u001b[0m\u001b[0morder\u001b[0m\u001b[0;34m)\u001b[0m\u001b[0;34m\u001b[0m\u001b[0;34m\u001b[0m\u001b[0m\n\u001b[0m\u001b[1;32m     86\u001b[0m \u001b[0;34m\u001b[0m\u001b[0m\n\u001b[1;32m     87\u001b[0m \u001b[0;34m\u001b[0m\u001b[0m\n",
            "\u001b[0;32m/usr/local/lib/python3.6/dist-packages/tensorflow/python/framework/ops.py\u001b[0m in \u001b[0;36m__array__\u001b[0;34m(self)\u001b[0m\n\u001b[1;32m    747\u001b[0m   \u001b[0;32mdef\u001b[0m \u001b[0m__array__\u001b[0m\u001b[0;34m(\u001b[0m\u001b[0mself\u001b[0m\u001b[0;34m)\u001b[0m\u001b[0;34m:\u001b[0m\u001b[0;34m\u001b[0m\u001b[0;34m\u001b[0m\u001b[0m\n\u001b[1;32m    748\u001b[0m     raise NotImplementedError(\"Cannot convert a symbolic Tensor ({}) to a numpy\"\n\u001b[0;32m--> 749\u001b[0;31m                               \" array.\".format(self.name))\n\u001b[0m\u001b[1;32m    750\u001b[0m \u001b[0;34m\u001b[0m\u001b[0m\n\u001b[1;32m    751\u001b[0m   \u001b[0;32mdef\u001b[0m \u001b[0m__len__\u001b[0m\u001b[0;34m(\u001b[0m\u001b[0mself\u001b[0m\u001b[0;34m)\u001b[0m\u001b[0;34m:\u001b[0m\u001b[0;34m\u001b[0m\u001b[0;34m\u001b[0m\u001b[0m\n",
            "\u001b[0;31mNotImplementedError\u001b[0m: Cannot convert a symbolic Tensor (advantages:0) to a numpy array."
          ]
        }
      ]
    },
    {
      "cell_type": "code",
      "metadata": {
        "id": "vK0TV67UADwr",
        "colab_type": "code",
        "colab": {
          "base_uri": "https://localhost:8080/",
          "height": 369
        },
        "outputId": "1510ee88-6ee0-4399-ba80-b4ed40b172d2"
      },
      "source": [
        "historyk = modelk.fit(price, y_encoded, epochs=10)"
      ],
      "execution_count": null,
      "outputs": [
        {
          "output_type": "stream",
          "text": [
            "Epoch 1/10\n",
            "10/10 [==============================] - 0s 6ms/step - loss: 0.7348 - my_metric: 503.0102\n",
            "Epoch 2/10\n",
            "10/10 [==============================] - 0s 237us/step - loss: 0.7339 - my_metric: 502.9354\n",
            "Epoch 3/10\n",
            "10/10 [==============================] - 0s 132us/step - loss: 0.7327 - my_metric: 502.8342\n",
            "Epoch 4/10\n",
            "10/10 [==============================] - 0s 124us/step - loss: 0.7316 - my_metric: 502.7324\n",
            "Epoch 5/10\n",
            "10/10 [==============================] - 0s 133us/step - loss: 0.7304 - my_metric: 502.6299\n",
            "Epoch 6/10\n",
            "10/10 [==============================] - 0s 190us/step - loss: 0.7293 - my_metric: 502.5268\n",
            "Epoch 7/10\n",
            "10/10 [==============================] - 0s 185us/step - loss: 0.7282 - my_metric: 502.4229\n",
            "Epoch 8/10\n",
            "10/10 [==============================] - 0s 183us/step - loss: 0.7270 - my_metric: 502.3185\n",
            "Epoch 9/10\n",
            "10/10 [==============================] - 0s 142us/step - loss: 0.7260 - my_metric: 502.2136\n",
            "Epoch 10/10\n",
            "10/10 [==============================] - 0s 179us/step - loss: 0.7249 - my_metric: 502.1079\n"
          ],
          "name": "stdout"
        }
      ]
    },
    {
      "cell_type": "code",
      "metadata": {
        "id": "GRv7wscHBk2z",
        "colab_type": "code",
        "colab": {
          "base_uri": "https://localhost:8080/",
          "height": 369
        },
        "outputId": "8c9123e0-3c35-4676-ba0b-d80bb3023267"
      },
      "source": [
        "mj = modelj.predict([price, multip])\n",
        "mk = modelk.predict(price)\n",
        "print(mj)\n",
        "print(mk)"
      ],
      "execution_count": null,
      "outputs": [
        {
          "output_type": "stream",
          "text": [
            "[[0.59576    0.40424   ]\n",
            " [0.5168458  0.4831542 ]\n",
            " [0.62222415 0.3777759 ]\n",
            " [0.48912    0.51087993]\n",
            " [0.6282548  0.3717452 ]\n",
            " [0.48687485 0.5131252 ]\n",
            " [0.5672501  0.43274993]\n",
            " [0.4540762  0.54592377]\n",
            " [0.49901986 0.5009801 ]\n",
            " [0.3989683  0.6010317 ]]\n",
            "[[0.59576    0.40424   ]\n",
            " [0.5168458  0.4831542 ]\n",
            " [0.62222415 0.3777759 ]\n",
            " [0.48912    0.51087993]\n",
            " [0.6282548  0.3717452 ]\n",
            " [0.48687485 0.5131252 ]\n",
            " [0.5672501  0.43274993]\n",
            " [0.4540762  0.54592377]\n",
            " [0.49901986 0.5009801 ]\n",
            " [0.3989683  0.6010317 ]]\n"
          ],
          "name": "stdout"
        }
      ]
    },
    {
      "cell_type": "markdown",
      "metadata": {
        "id": "EJqj_0PcL3rz",
        "colab_type": "text"
      },
      "source": [
        "여기까지가 커스텀 손실함수 이다."
      ]
    },
    {
      "cell_type": "code",
      "metadata": {
        "id": "-Xp-88a1J5Vm",
        "colab_type": "code",
        "colab": {
          "base_uri": "https://localhost:8080/",
          "height": 34
        },
        "outputId": "6be1a468-a31c-4f69-c5f6-70e26a080499"
      },
      "source": [
        "np.argmax(mj[0])"
      ],
      "execution_count": null,
      "outputs": [
        {
          "output_type": "execute_result",
          "data": {
            "text/plain": [
              "1"
            ]
          },
          "metadata": {
            "tags": []
          },
          "execution_count": 65
        }
      ]
    },
    {
      "cell_type": "markdown",
      "metadata": {
        "id": "2MxKXPdxM8K_",
        "colab_type": "text"
      },
      "source": [
        "10일씩 발생한 상황을 기준으로 액션결과를 바탕으로 스코어링을 한다고 가정하자."
      ]
    },
    {
      "cell_type": "code",
      "metadata": {
        "id": "UJ-G6-89KpEQ",
        "colab_type": "code",
        "colab": {}
      },
      "source": [
        "def scoring (price, action):\n",
        "  rewards = 0\n",
        "  for i in range(0, len(price)-1):\n",
        "    price_gap = price[i+1]- price[i]\n",
        "    if price_gap > 0 and action[i] == 1 :\n",
        "       rewards += 1\n",
        "    if price_gap > 0 and action[i] == 0 :\n",
        "       rewards -= 1\n",
        "    if price_gap < 0 and action[i] == 1 :\n",
        "       rewards -= 1\n",
        "    if price_gap < 0 and action[i] == 0 :\n",
        "       rewards += 1\n",
        "  return rewards"
      ],
      "execution_count": null,
      "outputs": []
    },
    {
      "cell_type": "code",
      "metadata": {
        "id": "VJ0ejtIqNl8d",
        "colab_type": "code",
        "colab": {
          "base_uri": "https://localhost:8080/",
          "height": 90
        },
        "outputId": "3070517e-3028-4688-99a9-92f669c5b24f"
      },
      "source": [
        "state = env()\n",
        "act_state = act()\n",
        "print(state)\n",
        "print(act_state)\n",
        "rewards = scoring(state, act_state)\n",
        "print(rewards)"
      ],
      "execution_count": null,
      "outputs": [
        {
          "output_type": "stream",
          "text": [
            "[-21.84311287761386, -14.412774872381116, -17.410400312295035, -14.368058923264549, -17.86103555131368, -17.07566500461624, -9.698559863571047, -12.210267676435695, -15.043127497870213, -10.330384124298606]\n",
            "[0, 0, 0, 1, 0, 1, 1, 0, 1, 0]\n",
            "-1\n"
          ],
          "name": "stdout"
        }
      ]
    },
    {
      "cell_type": "code",
      "metadata": {
        "id": "a5NzHX7DP-fj",
        "colab_type": "code",
        "colab": {}
      },
      "source": [
        ""
      ],
      "execution_count": null,
      "outputs": []
    },
    {
      "cell_type": "code",
      "metadata": {
        "id": "VK-FFTXzP-jE",
        "colab_type": "code",
        "colab": {}
      },
      "source": [
        "def action_set(mj):\n",
        "  best_actions=[]\n",
        "  for i in range(10):\n",
        "    a = np.argmax(mj[i])\n",
        "    best_actions.append(a)\n",
        "  return best_actions"
      ],
      "execution_count": null,
      "outputs": []
    },
    {
      "cell_type": "code",
      "metadata": {
        "id": "0rBgHdwkP-mh",
        "colab_type": "code",
        "colab": {
          "base_uri": "https://localhost:8080/",
          "height": 210
        },
        "outputId": "accdaae7-ef04-4609-f81b-07174e25c827"
      },
      "source": [
        "print(mj)\n",
        "ba = action_set(mj)\n",
        "print(ba)"
      ],
      "execution_count": null,
      "outputs": [
        {
          "output_type": "stream",
          "text": [
            "[[9.9996758e-01 3.2396703e-05]\n",
            " [9.9991906e-01 8.0972277e-05]\n",
            " [9.9876201e-01 1.2379769e-03]\n",
            " [9.9982446e-01 1.7557808e-04]\n",
            " [9.9987304e-01 1.2690404e-04]\n",
            " [9.9860150e-01 1.3984698e-03]\n",
            " [9.9938595e-01 6.1399426e-04]\n",
            " [9.8086792e-01 1.9132035e-02]\n",
            " [9.9513286e-01 4.8671658e-03]\n",
            " [9.9661356e-01 3.3863955e-03]]\n",
            "[0, 0, 0, 0, 0, 0, 0, 0, 0, 0]\n"
          ],
          "name": "stdout"
        }
      ]
    },
    {
      "cell_type": "code",
      "metadata": {
        "id": "d4hsqXiwP-pt",
        "colab_type": "code",
        "colab": {
          "base_uri": "https://localhost:8080/",
          "height": 34
        },
        "outputId": "6eec6a0b-4531-43f2-bf82-1f7ca907bfc3"
      },
      "source": [
        "rewards = scoring(price, action_set(mj))\n",
        "print(rewards)"
      ],
      "execution_count": null,
      "outputs": [
        {
          "output_type": "stream",
          "text": [
            "-5\n"
          ],
          "name": "stdout"
        }
      ]
    },
    {
      "cell_type": "code",
      "metadata": {
        "id": "m_4AI6fjS10T",
        "colab_type": "code",
        "colab": {
          "base_uri": "https://localhost:8080/",
          "height": 52
        },
        "outputId": "87b92f25-aba6-44ee-bcce-c2c81248cf76"
      },
      "source": [
        "action_list = []\n",
        "reward_list = []\n",
        "for i in range(10):\n",
        "  price = env()\n",
        "  mj = modelj.predict([price, multip])\n",
        "  ba = action_set(mj)\n",
        "  action_list.append(ba)\n",
        "  rewards = scoring(price, ba)\n",
        "  reward_list.append(rewards)\n",
        "\n",
        "bs = np.argmax(reward_list) \n",
        "print(action_list[bs]) \n",
        "print(reward_list)"
      ],
      "execution_count": null,
      "outputs": [
        {
          "output_type": "stream",
          "text": [
            "[0, 0, 0, 0, 0, 0, 0, 0, 0, 0]\n",
            "[1, -1, -1, 1, -3, 1, -3, -1, 1, 1]\n"
          ],
          "name": "stdout"
        }
      ]
    },
    {
      "cell_type": "code",
      "metadata": {
        "id": "96WIvDgpS14h",
        "colab_type": "code",
        "colab": {
          "base_uri": "https://localhost:8080/",
          "height": 34
        },
        "outputId": "b855ef2c-b92f-43fa-d27c-49b581d11a94"
      },
      "source": [
        "action_list[6]"
      ],
      "execution_count": null,
      "outputs": [
        {
          "output_type": "execute_result",
          "data": {
            "text/plain": [
              "[0, 0, 0, 0, 0, 0, 0, 0, 0, 0]"
            ]
          },
          "metadata": {
            "tags": []
          },
          "execution_count": 30
        }
      ]
    },
    {
      "cell_type": "code",
      "metadata": {
        "id": "Zb1yTMimS19n",
        "colab_type": "code",
        "colab": {}
      },
      "source": [
        ""
      ],
      "execution_count": null,
      "outputs": []
    },
    {
      "cell_type": "code",
      "metadata": {
        "id": "BYtJD7dXumIN",
        "colab_type": "code",
        "colab": {}
      },
      "source": [
        "# 환경에 대응하는 행동들의 스코어링을 한다.\n",
        "\n",
        "def score (price, actions):\n",
        "  rewards = 0\n",
        "  for i in range(0, len(price)-1):\n",
        "    reward = price[i+1]- price[i]\n",
        "    if reward > 0 and actions[i] == 1 :\n",
        "      rewards += reward\n",
        "    if reward > 0 and actions[i] == 0 :\n",
        "      rewards -= reward\n",
        "    if reward < 0 and actions[i] == 1 :\n",
        "       rewards += reward\n",
        "    if reward < 0 and actions[i] == 0 :\n",
        "       rewards -= reward\n",
        "  return rewards"
      ],
      "execution_count": null,
      "outputs": []
    },
    {
      "cell_type": "code",
      "metadata": {
        "id": "QGXJd-AKunXt",
        "colab_type": "code",
        "colab": {}
      },
      "source": [
        "num_games = 10\n",
        "action_set=[]\n",
        "reward_set=[]\n",
        "\n",
        "def best_action_gen ():\n",
        "  price = env()\n",
        "  for i in range(num_games):\n",
        "    actions = act()\n",
        "    rewards = score(price, actions)\n",
        "    action_set.append(actions)\n",
        "    reward_set.append(rewards)\n",
        "\n",
        "  best_score = np.argmax(reward_set)\n",
        "  best_action = action_set[best_score]\n",
        "  return price, best_action\n"
      ],
      "execution_count": null,
      "outputs": []
    },
    {
      "cell_type": "code",
      "metadata": {
        "id": "JMh18DL7rgJM",
        "colab_type": "code",
        "colab": {}
      },
      "source": [
        "price, best_action = best_action_gen()"
      ],
      "execution_count": null,
      "outputs": []
    },
    {
      "cell_type": "code",
      "metadata": {
        "id": "n27PGuR71fo6",
        "colab_type": "code",
        "colab": {
          "base_uri": "https://localhost:8080/",
          "height": 34
        },
        "outputId": "a9f34072-3891-4204-813e-53b0e6addaee"
      },
      "source": [
        "score(price, best_action)"
      ],
      "execution_count": null,
      "outputs": [
        {
          "output_type": "execute_result",
          "data": {
            "text/plain": [
              "9.987453629368808"
            ]
          },
          "metadata": {
            "tags": []
          },
          "execution_count": 43
        }
      ]
    },
    {
      "cell_type": "code",
      "metadata": {
        "id": "ip00lGqMrF-8",
        "colab_type": "code",
        "colab": {
          "base_uri": "https://localhost:8080/",
          "height": 298
        },
        "outputId": "1cb7d56b-54a5-438d-b3e7-d8ad9f60faa1"
      },
      "source": [
        "import keras.layers as layers\n",
        "from keras.layers import LSTM\n",
        "from keras.models import Model\n",
        "from keras.optimizers import Adam\n",
        "import keras.backend as K  # 케라스의 backend를 K. 형식으로 호출하는 것이고 여기서는 tensorflow이다.\n",
        "\n",
        "input = layers.Input(shape=(1,1),name=\"input_x\")\n",
        "x = LSTM(8)(input)\n",
        "x = layers.Dense(4, activation=\"sigmoid\", name=\"dense_1\")(x)\n",
        "output = layers.Dense(1, activation=\"sigmoid\", name=\"out\")(x)\n",
        "\n",
        "train = Model(input, output)\n",
        "train.summary()"
      ],
      "execution_count": null,
      "outputs": [
        {
          "output_type": "stream",
          "text": [
            "Model: \"model_4\"\n",
            "_________________________________________________________________\n",
            "Layer (type)                 Output Shape              Param #   \n",
            "=================================================================\n",
            "input_x (InputLayer)         (None, 1, 1)              0         \n",
            "_________________________________________________________________\n",
            "lstm_5 (LSTM)                (None, 8)                 320       \n",
            "_________________________________________________________________\n",
            "dense_1 (Dense)              (None, 4)                 36        \n",
            "_________________________________________________________________\n",
            "out (Dense)                  (None, 1)                 5         \n",
            "=================================================================\n",
            "Total params: 361\n",
            "Trainable params: 361\n",
            "Non-trainable params: 0\n",
            "_________________________________________________________________\n"
          ],
          "name": "stdout"
        }
      ]
    },
    {
      "cell_type": "code",
      "metadata": {
        "id": "a4TWGxhTrJDk",
        "colab_type": "code",
        "colab": {}
      },
      "source": [
        "train.compile(loss='binary_crossentropy', optimizer=Adam(0.001), metrics=['accuracy'])"
      ],
      "execution_count": null,
      "outputs": []
    },
    {
      "cell_type": "markdown",
      "metadata": {
        "id": "Ep-UnjIwvA9F",
        "colab_type": "text"
      },
      "source": [
        "다음단계로 넘어가기 전에 train_on_batch 함수에 대해서 알아본다.\n",
        "train_on_batch는 epoch을 1번해서 신경망의 weight를 조정하고, loss와 metric을 return한다. for문으로 5번을 실행시킨 예이다."
      ]
    },
    {
      "cell_type": "code",
      "metadata": {
        "id": "iOmDZISHrT9d",
        "colab_type": "code",
        "colab": {
          "base_uri": "https://localhost:8080/",
          "height": 239
        },
        "outputId": "71e592de-e3a8-42b9-9879-ea6eb8706760"
      },
      "source": [
        "losses = []\n",
        "price1 = price[:50]\n",
        "price1 = price1.reshape(1,1)\n",
        "best_action1 = best_action[:50]\n",
        "for i in range(5):\n",
        "  loss = train.train_on_batch(price1, best_action1)\n",
        "  losses.append(loss)"
      ],
      "execution_count": null,
      "outputs": [
        {
          "output_type": "error",
          "ename": "AttributeError",
          "evalue": "ignored",
          "traceback": [
            "\u001b[0;31m---------------------------------------------------------------------------\u001b[0m",
            "\u001b[0;31mAttributeError\u001b[0m                            Traceback (most recent call last)",
            "\u001b[0;32m<ipython-input-49-c9a796c7e76e>\u001b[0m in \u001b[0;36m<module>\u001b[0;34m()\u001b[0m\n\u001b[1;32m      1\u001b[0m \u001b[0mlosses\u001b[0m \u001b[0;34m=\u001b[0m \u001b[0;34m[\u001b[0m\u001b[0;34m]\u001b[0m\u001b[0;34m\u001b[0m\u001b[0;34m\u001b[0m\u001b[0m\n\u001b[1;32m      2\u001b[0m \u001b[0mprice1\u001b[0m \u001b[0;34m=\u001b[0m \u001b[0mprice\u001b[0m\u001b[0;34m[\u001b[0m\u001b[0;34m:\u001b[0m\u001b[0;36m50\u001b[0m\u001b[0;34m]\u001b[0m\u001b[0;34m\u001b[0m\u001b[0;34m\u001b[0m\u001b[0m\n\u001b[0;32m----> 3\u001b[0;31m \u001b[0mprice1\u001b[0m \u001b[0;34m=\u001b[0m \u001b[0mprice1\u001b[0m\u001b[0;34m.\u001b[0m\u001b[0mreshape\u001b[0m\u001b[0;34m(\u001b[0m\u001b[0;36m1\u001b[0m\u001b[0;34m,\u001b[0m\u001b[0;36m1\u001b[0m\u001b[0;34m)\u001b[0m\u001b[0;34m\u001b[0m\u001b[0;34m\u001b[0m\u001b[0m\n\u001b[0m\u001b[1;32m      4\u001b[0m \u001b[0mbest_action1\u001b[0m \u001b[0;34m=\u001b[0m \u001b[0mbest_action\u001b[0m\u001b[0;34m[\u001b[0m\u001b[0;34m:\u001b[0m\u001b[0;36m50\u001b[0m\u001b[0;34m]\u001b[0m\u001b[0;34m\u001b[0m\u001b[0;34m\u001b[0m\u001b[0m\n\u001b[1;32m      5\u001b[0m \u001b[0;32mfor\u001b[0m \u001b[0mi\u001b[0m \u001b[0;32min\u001b[0m \u001b[0mrange\u001b[0m\u001b[0;34m(\u001b[0m\u001b[0;36m5\u001b[0m\u001b[0;34m)\u001b[0m\u001b[0;34m:\u001b[0m\u001b[0;34m\u001b[0m\u001b[0;34m\u001b[0m\u001b[0m\n",
            "\u001b[0;31mAttributeError\u001b[0m: 'list' object has no attribute 'reshape'"
          ]
        }
      ]
    },
    {
      "cell_type": "code",
      "metadata": {
        "id": "kenskGRSuBLc",
        "colab_type": "code",
        "colab": {
          "base_uri": "https://localhost:8080/",
          "height": 105
        },
        "outputId": "5376769a-bc8a-434f-997e-b81da8131993"
      },
      "source": [
        "losses"
      ],
      "execution_count": null,
      "outputs": [
        {
          "output_type": "execute_result",
          "data": {
            "text/plain": [
              "[[0.7842006, 0.6],\n",
              " [0.7833426, 0.6],\n",
              " [0.78248787, 0.6],\n",
              " [0.7816364, 0.6],\n",
              " [0.78078824, 0.6]]"
            ]
          },
          "metadata": {
            "tags": []
          },
          "execution_count": 19
        }
      ]
    },
    {
      "cell_type": "code",
      "metadata": {
        "id": "5tsXmJPw7bmK",
        "colab_type": "code",
        "colab": {}
      },
      "source": [
        "train.compile(loss='binary_crossentropy', optimizer=Adam(0.001), metrics=['accuracy'])"
      ],
      "execution_count": null,
      "outputs": []
    },
    {
      "cell_type": "code",
      "metadata": {
        "id": "ZyosveYS1-zM",
        "colab_type": "code",
        "colab": {}
      },
      "source": [
        "# 정책신경망에서 sigmoid로 산출된 액센들을 1, 0으로 변환\n",
        "\n",
        "def action_predict(act_hat):\n",
        "  act_predict = []\n",
        "  for i in range(100):\n",
        "    if act_hat[i][0] > 0.5:\n",
        "      act = 1\n",
        "    else:\n",
        "      act = 0\n",
        "    act_predict.append(act)\n",
        "  return act_predict"
      ],
      "execution_count": null,
      "outputs": []
    },
    {
      "cell_type": "code",
      "metadata": {
        "id": "ZItqvWeo8bwf",
        "colab_type": "code",
        "colab": {}
      },
      "source": [
        "\n",
        "for i in range(10000):\n",
        "  price, best_action = best_action_gen()\n",
        "  history = train.train_on_batch(price, best_action)\n",
        "  act_hat = train.predict(price)\n",
        "  action_bot = action_predict(act_hat)\n",
        "  rewards = score(price, action_bot)\n",
        "  action_set.append(action_bot)\n",
        "  reward_set.append(rewards)\n",
        "\n"
      ],
      "execution_count": null,
      "outputs": []
    },
    {
      "cell_type": "code",
      "metadata": {
        "id": "4j_d4mgS9b1v",
        "colab_type": "code",
        "colab": {
          "base_uri": "https://localhost:8080/",
          "height": 34
        },
        "outputId": "46f9a59c-fd5b-40ee-c082-cbf3b9d14702"
      },
      "source": [
        "len(action_set)"
      ],
      "execution_count": null,
      "outputs": [
        {
          "output_type": "execute_result",
          "data": {
            "text/plain": [
              "110010"
            ]
          },
          "metadata": {
            "tags": []
          },
          "execution_count": 14
        }
      ]
    },
    {
      "cell_type": "code",
      "metadata": {
        "id": "_5keicaGxHWK",
        "colab_type": "code",
        "colab": {}
      },
      "source": [
        "  best_score = np.argmax(reward_set)\n",
        "  best_action = action_set[best_score]"
      ],
      "execution_count": null,
      "outputs": []
    },
    {
      "cell_type": "code",
      "metadata": {
        "id": "XyKIYCdw6_u6",
        "colab_type": "code",
        "colab": {
          "base_uri": "https://localhost:8080/",
          "height": 34
        },
        "outputId": "8f00ff65-8e99-4154-9f7c-8981e01394e8"
      },
      "source": [
        "best_score"
      ],
      "execution_count": null,
      "outputs": [
        {
          "output_type": "execute_result",
          "data": {
            "text/plain": [
              "88083"
            ]
          },
          "metadata": {
            "tags": []
          },
          "execution_count": 16
        }
      ]
    },
    {
      "cell_type": "code",
      "metadata": {
        "id": "w0vrYRMOB2_j",
        "colab_type": "code",
        "colab": {
          "base_uri": "https://localhost:8080/",
          "height": 34
        },
        "outputId": "83373595-5b57-4f34-a2e3-07610d287748"
      },
      "source": [
        "best_action[0]"
      ],
      "execution_count": null,
      "outputs": [
        {
          "output_type": "execute_result",
          "data": {
            "text/plain": [
              "1"
            ]
          },
          "metadata": {
            "tags": []
          },
          "execution_count": 23
        }
      ]
    },
    {
      "cell_type": "code",
      "metadata": {
        "id": "zx6KPQcy9GV6",
        "colab_type": "code",
        "colab": {}
      },
      "source": [
        "buy_trend = []\n",
        "x = 0\n",
        "for i in range(100):\n",
        "  x += best_action[i]\n",
        "  buy_trend.append(x)"
      ],
      "execution_count": null,
      "outputs": []
    },
    {
      "cell_type": "code",
      "metadata": {
        "id": "pyzx2V8w7IIs",
        "colab_type": "code",
        "colab": {
          "base_uri": "https://localhost:8080/",
          "height": 265
        },
        "outputId": "a1f3cc63-3984-4e3b-e07e-dbbfe56f5365"
      },
      "source": [
        "plt.plot(buy_trend, 'bo')\n",
        "plt.show()"
      ],
      "execution_count": null,
      "outputs": [
        {
          "output_type": "display_data",
          "data": {
            "image/png": "[encoded data removed]",
            "text/plain": [
              "<Figure size 432x288 with 1 Axes>"
            ]
          },
          "metadata": {
            "tags": [],
            "needs_background": "light"
          }
        }
      ]
    },
    {
      "cell_type": "code",
      "metadata": {
        "id": "HtPlFP_N91Sn",
        "colab_type": "code",
        "colab": {}
      },
      "source": [
        ""
      ],
      "execution_count": null,
      "outputs": []
    },
    {
      "cell_type": "code",
      "metadata": {
        "id": "5jzHURCR91WX",
        "colab_type": "code",
        "colab": {}
      },
      "source": [
        ""
      ],
      "execution_count": null,
      "outputs": []
    },
    {
      "cell_type": "code",
      "metadata": {
        "id": "wpUNU3HG91aU",
        "colab_type": "code",
        "colab": {}
      },
      "source": [
        "test_score = []\n",
        "for i in range(100):\n",
        "  state = env()\n",
        "  test_score.append(score(state, best_action))"
      ],
      "execution_count": null,
      "outputs": []
    },
    {
      "cell_type": "code",
      "metadata": {
        "id": "9jU_Ua56_FyY",
        "colab_type": "code",
        "colab": {
          "base_uri": "https://localhost:8080/",
          "height": 34
        },
        "outputId": "68de956a-029b-4b0f-e547-98008d9da058"
      },
      "source": [
        "np.mean(test_score)"
      ],
      "execution_count": null,
      "outputs": [
        {
          "output_type": "execute_result",
          "data": {
            "text/plain": [
              "6.606158632153271"
            ]
          },
          "metadata": {
            "tags": []
          },
          "execution_count": 27
        }
      ]
    },
    {
      "cell_type": "code",
      "metadata": {
        "id": "72NpFzO5-hB9",
        "colab_type": "code",
        "colab": {
          "base_uri": "https://localhost:8080/",
          "height": 265
        },
        "outputId": "cc794910-002f-4eab-9670-2c5920f9ef15"
      },
      "source": [
        "plt.plot(test_score, 'bo')\n",
        "plt.show()"
      ],
      "execution_count": null,
      "outputs": [
        {
          "output_type": "display_data",
          "data": {
            "image/png": "[encoded data removed]",
            "text/plain": [
              "<Figure size 432x288 with 1 Axes>"
            ]
          },
          "metadata": {
            "tags": [],
            "needs_background": "light"
          }
        }
      ]
    }
  ]
}