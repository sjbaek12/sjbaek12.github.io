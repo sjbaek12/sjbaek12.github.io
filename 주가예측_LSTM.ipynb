{
  "nbformat": 4,
  "nbformat_minor": 0,
  "metadata": {
    "colab": {
      "name": "주가예측 LSTM",
      "provenance": [],
      "collapsed_sections": [],
      "authorship_tag": "ABX9TyNTe+YuqwCPB2xtg16T+8O4",
      "include_colab_link": true
    },
    "kernelspec": {
      "name": "python3",
      "display_name": "Python 3"
    }
  },
  "cells": [
    {
      "cell_type": "markdown",
      "metadata": {
        "id": "view-in-github",
        "colab_type": "text"
      },
      "source": [
        "<a href=\"https://colab.research.google.com/github/sjbaek12/sjbaek12.github.io/blob/master/%EC%A3%BC%EA%B0%80%EC%98%88%EC%B8%A1_LSTM.ipynb\" target=\"_parent\"><img src=\"https://colab.research.google.com/assets/colab-badge.svg\" alt=\"Open In Colab\"/></a>"
      ]
    },
    {
      "cell_type": "code",
      "metadata": {
        "id": "iXyYuuI4DkrX",
        "colab_type": "code",
        "colab": {}
      },
      "source": [
        "import pandas as pd"
      ],
      "execution_count": null,
      "outputs": []
    },
    {
      "cell_type": "code",
      "metadata": {
        "id": "o6fpOuPlXIHU",
        "colab_type": "code",
        "colab": {
          "resources": {
            "http://localhost:8080/nbextensions/google.colab/files.js": {
              "data": "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",
              "ok": true,
              "headers": [
                [
                  "content-type",
                  "application/javascript"
                ]
              ],
              "status": 200,
              "status_text": "OK"
            }
          },
          "base_uri": "https://localhost:8080/",
          "height": 76
        },
        "outputId": "48d700ff-193d-4453-d7cd-8d48144a75bc"
      },
      "source": [
        "from google.colab import files\n",
        "uploaded = files.upload()"
      ],
      "execution_count": null,
      "outputs": [
        {
          "output_type": "display_data",
          "data": {
            "text/html": [
              "\n",
              "     <input type=\"file\" id=\"files-4be51e10-bed4-4165-8402-7ef537a29e58\" name=\"files[]\" multiple disabled\n",
              "        style=\"border:none\" />\n",
              "     <output id=\"result-4be51e10-bed4-4165-8402-7ef537a29e58\">\n",
              "      Upload widget is only available when the cell has been executed in the\n",
              "      current browser session. Please rerun this cell to enable.\n",
              "      </output>\n",
              "      <script src=\"/nbextensions/google.colab/files.js\"></script> "
            ],
            "text/plain": [
              "<IPython.core.display.HTML object>"
            ]
          },
          "metadata": {
            "tags": []
          }
        },
        {
          "output_type": "stream",
          "text": [
            "Saving data.xls to data (1).xls\n"
          ],
          "name": "stdout"
        }
      ]
    },
    {
      "cell_type": "code",
      "metadata": {
        "id": "seNx9ZonVz-J",
        "colab_type": "code",
        "colab": {}
      },
      "source": [
        "xlsx = pd.read_excel(r'data.xls')"
      ],
      "execution_count": null,
      "outputs": []
    },
    {
      "cell_type": "code",
      "metadata": {
        "id": "O5ZOZ7LynDh4",
        "colab_type": "code",
        "colab": {
          "base_uri": "https://localhost:8080/",
          "height": 34
        },
        "outputId": "b9db5ca5-4c15-4a4e-c8c4-ebd4eb06c644"
      },
      "source": [
        "type(xlsx)\n",
        "print(len(xlsx))"
      ],
      "execution_count": null,
      "outputs": [
        {
          "output_type": "stream",
          "text": [
            "856\n"
          ],
          "name": "stdout"
        }
      ]
    },
    {
      "cell_type": "code",
      "metadata": {
        "id": "X6USRI_8tDBC",
        "colab_type": "code",
        "colab": {
          "base_uri": "https://localhost:8080/",
          "height": 195
        },
        "outputId": "1a2552c5-1545-4e96-f5d6-266f9b03588e"
      },
      "source": [
        "xlsx.tail()"
      ],
      "execution_count": null,
      "outputs": [
        {
          "output_type": "execute_result",
          "data": {
            "text/html": [
              "<div>\n",
              "<style scoped>\n",
              "    .dataframe tbody tr th:only-of-type {\n",
              "        vertical-align: middle;\n",
              "    }\n",
              "\n",
              "    .dataframe tbody tr th {\n",
              "        vertical-align: top;\n",
              "    }\n",
              "\n",
              "    .dataframe thead th {\n",
              "        text-align: right;\n",
              "    }\n",
              "</style>\n",
              "<table border=\"1\" class=\"dataframe\">\n",
              "  <thead>\n",
              "    <tr style=\"text-align: right;\">\n",
              "      <th></th>\n",
              "      <th>년/월/일</th>\n",
              "      <th>종가</th>\n",
              "      <th>대비</th>\n",
              "      <th>거래량(주)</th>\n",
              "      <th>거래대금(원)</th>\n",
              "      <th>시가</th>\n",
              "      <th>고가</th>\n",
              "      <th>저가</th>\n",
              "      <th>시가총액(백만)</th>\n",
              "      <th>상장주식수(주)</th>\n",
              "    </tr>\n",
              "  </thead>\n",
              "  <tbody>\n",
              "    <tr>\n",
              "      <th>851</th>\n",
              "      <td>2017/01/06</td>\n",
              "      <td>1,810,000</td>\n",
              "      <td>32,000</td>\n",
              "      <td>177,619</td>\n",
              "      <td>321,737,489,344</td>\n",
              "      <td>1,809,000</td>\n",
              "      <td>1,822,000</td>\n",
              "      <td>1,802,000</td>\n",
              "      <td>254,629,600</td>\n",
              "      <td>140,679,337</td>\n",
              "    </tr>\n",
              "    <tr>\n",
              "      <th>852</th>\n",
              "      <td>2017/01/05</td>\n",
              "      <td>1,778,000</td>\n",
              "      <td>-30,000</td>\n",
              "      <td>219,349</td>\n",
              "      <td>392,320,929,368</td>\n",
              "      <td>1,803,000</td>\n",
              "      <td>1,803,000</td>\n",
              "      <td>1,777,000</td>\n",
              "      <td>250,127,861</td>\n",
              "      <td>140,679,337</td>\n",
              "    </tr>\n",
              "    <tr>\n",
              "      <th>853</th>\n",
              "      <td>2017/01/04</td>\n",
              "      <td>1,808,000</td>\n",
              "      <td>-16,000</td>\n",
              "      <td>159,435</td>\n",
              "      <td>289,084,849,500</td>\n",
              "      <td>1,825,000</td>\n",
              "      <td>1,826,000</td>\n",
              "      <td>1,805,000</td>\n",
              "      <td>254,348,241</td>\n",
              "      <td>140,679,337</td>\n",
              "    </tr>\n",
              "    <tr>\n",
              "      <th>854</th>\n",
              "      <td>2017/01/03</td>\n",
              "      <td>1,824,000</td>\n",
              "      <td>19,000</td>\n",
              "      <td>147,153</td>\n",
              "      <td>267,688,372,000</td>\n",
              "      <td>1,814,000</td>\n",
              "      <td>1,831,000</td>\n",
              "      <td>1,801,000</td>\n",
              "      <td>256,599,111</td>\n",
              "      <td>140,679,337</td>\n",
              "    </tr>\n",
              "    <tr>\n",
              "      <th>855</th>\n",
              "      <td>2017/01/02</td>\n",
              "      <td>1,805,000</td>\n",
              "      <td>3,000</td>\n",
              "      <td>93,012</td>\n",
              "      <td>167,931,825,000</td>\n",
              "      <td>1,799,000</td>\n",
              "      <td>1,812,000</td>\n",
              "      <td>1,794,000</td>\n",
              "      <td>253,926,203</td>\n",
              "      <td>140,679,337</td>\n",
              "    </tr>\n",
              "  </tbody>\n",
              "</table>\n",
              "</div>"
            ],
            "text/plain": [
              "          년/월/일         종가       대비  ...         저가     시가총액(백만)     상장주식수(주)\n",
              "851  2017/01/06  1,810,000   32,000  ...  1,802,000  254,629,600  140,679,337\n",
              "852  2017/01/05  1,778,000  -30,000  ...  1,777,000  250,127,861  140,679,337\n",
              "853  2017/01/04  1,808,000  -16,000  ...  1,805,000  254,348,241  140,679,337\n",
              "854  2017/01/03  1,824,000   19,000  ...  1,801,000  256,599,111  140,679,337\n",
              "855  2017/01/02  1,805,000    3,000  ...  1,794,000  253,926,203  140,679,337\n",
              "\n",
              "[5 rows x 10 columns]"
            ]
          },
          "metadata": {
            "tags": []
          },
          "execution_count": 246
        }
      ]
    },
    {
      "cell_type": "code",
      "metadata": {
        "id": "ZTfPjjizYQcJ",
        "colab_type": "code",
        "colab": {
          "base_uri": "https://localhost:8080/",
          "height": 195
        },
        "outputId": "71518c96-7e6f-4e4a-a2a8-d60679ac25a4"
      },
      "source": [
        "xlsx.head()"
      ],
      "execution_count": null,
      "outputs": [
        {
          "output_type": "execute_result",
          "data": {
            "text/html": [
              "<div>\n",
              "<style scoped>\n",
              "    .dataframe tbody tr th:only-of-type {\n",
              "        vertical-align: middle;\n",
              "    }\n",
              "\n",
              "    .dataframe tbody tr th {\n",
              "        vertical-align: top;\n",
              "    }\n",
              "\n",
              "    .dataframe thead th {\n",
              "        text-align: right;\n",
              "    }\n",
              "</style>\n",
              "<table border=\"1\" class=\"dataframe\">\n",
              "  <thead>\n",
              "    <tr style=\"text-align: right;\">\n",
              "      <th></th>\n",
              "      <th>년/월/일</th>\n",
              "      <th>종가</th>\n",
              "      <th>대비</th>\n",
              "      <th>거래량(주)</th>\n",
              "      <th>거래대금(원)</th>\n",
              "      <th>시가</th>\n",
              "      <th>고가</th>\n",
              "      <th>저가</th>\n",
              "      <th>시가총액(백만)</th>\n",
              "      <th>상장주식수(주)</th>\n",
              "    </tr>\n",
              "  </thead>\n",
              "  <tbody>\n",
              "    <tr>\n",
              "      <th>0</th>\n",
              "      <td>2020/06/30</td>\n",
              "      <td>52,800</td>\n",
              "      <td>400</td>\n",
              "      <td>21,157,172</td>\n",
              "      <td>1,129,431,038,800</td>\n",
              "      <td>53,900</td>\n",
              "      <td>53,900</td>\n",
              "      <td>52,800</td>\n",
              "      <td>315,204,519</td>\n",
              "      <td>5,969,782,550</td>\n",
              "    </tr>\n",
              "    <tr>\n",
              "      <th>1</th>\n",
              "      <td>2020/06/29</td>\n",
              "      <td>52,400</td>\n",
              "      <td>-900</td>\n",
              "      <td>17,776,925</td>\n",
              "      <td>934,880,364,880</td>\n",
              "      <td>52,500</td>\n",
              "      <td>53,200</td>\n",
              "      <td>52,000</td>\n",
              "      <td>312,816,606</td>\n",
              "      <td>5,969,782,550</td>\n",
              "    </tr>\n",
              "    <tr>\n",
              "      <th>2</th>\n",
              "      <td>2020/06/26</td>\n",
              "      <td>53,300</td>\n",
              "      <td>1,400</td>\n",
              "      <td>21,575,360</td>\n",
              "      <td>1,146,335,751,523</td>\n",
              "      <td>52,800</td>\n",
              "      <td>53,900</td>\n",
              "      <td>52,200</td>\n",
              "      <td>318,189,410</td>\n",
              "      <td>5,969,782,550</td>\n",
              "    </tr>\n",
              "    <tr>\n",
              "      <th>3</th>\n",
              "      <td>2020/06/25</td>\n",
              "      <td>51,900</td>\n",
              "      <td>-1,000</td>\n",
              "      <td>18,541,624</td>\n",
              "      <td>970,494,909,540</td>\n",
              "      <td>52,100</td>\n",
              "      <td>53,000</td>\n",
              "      <td>51,900</td>\n",
              "      <td>309,831,714</td>\n",
              "      <td>5,969,782,550</td>\n",
              "    </tr>\n",
              "    <tr>\n",
              "      <th>4</th>\n",
              "      <td>2020/06/24</td>\n",
              "      <td>52,900</td>\n",
              "      <td>1,500</td>\n",
              "      <td>24,519,552</td>\n",
              "      <td>1,301,305,533,100</td>\n",
              "      <td>51,900</td>\n",
              "      <td>53,900</td>\n",
              "      <td>51,600</td>\n",
              "      <td>315,801,497</td>\n",
              "      <td>5,969,782,550</td>\n",
              "    </tr>\n",
              "  </tbody>\n",
              "</table>\n",
              "</div>"
            ],
            "text/plain": [
              "        년/월/일      종가      대비  ...      저가     시가총액(백만)       상장주식수(주)\n",
              "0  2020/06/30  52,800     400  ...  52,800  315,204,519  5,969,782,550\n",
              "1  2020/06/29  52,400    -900  ...  52,000  312,816,606  5,969,782,550\n",
              "2  2020/06/26  53,300   1,400  ...  52,200  318,189,410  5,969,782,550\n",
              "3  2020/06/25  51,900  -1,000  ...  51,900  309,831,714  5,969,782,550\n",
              "4  2020/06/24  52,900   1,500  ...  51,600  315,801,497  5,969,782,550\n",
              "\n",
              "[5 rows x 10 columns]"
            ]
          },
          "metadata": {
            "tags": []
          },
          "execution_count": 247
        }
      ]
    },
    {
      "cell_type": "code",
      "metadata": {
        "id": "QqY99epznbAU",
        "colab_type": "code",
        "colab": {}
      },
      "source": [
        "xlsx = xlsx.rename(columns={\"년/월/일\" : \"day\", \"종가\":\"close\", \"대비\":\"dif\", \"거래량(주)\":\"volume\", \"시가\":\"start\", \"고가\":\"high\", \"저가\":\"low\"})"
      ],
      "execution_count": null,
      "outputs": []
    },
    {
      "cell_type": "code",
      "metadata": {
        "id": "7Qyk0QV4oe8W",
        "colab_type": "code",
        "colab": {}
      },
      "source": [
        "del xlsx[\"거래대금(원)\"]\n",
        "del xlsx[\"시가총액(백만)\"]\n",
        "del xlsx[\"상장주식수(주)\"]"
      ],
      "execution_count": null,
      "outputs": []
    },
    {
      "cell_type": "code",
      "metadata": {
        "id": "NlJIwSI8ooL1",
        "colab_type": "code",
        "colab": {}
      },
      "source": [
        "from datetime import datetime"
      ],
      "execution_count": null,
      "outputs": []
    },
    {
      "cell_type": "code",
      "metadata": {
        "id": "UzikkwlDo0Q1",
        "colab_type": "code",
        "colab": {
          "base_uri": "https://localhost:8080/",
          "height": 35
        },
        "outputId": "cdd9aa7f-9aef-4dd1-f648-0490dd1dc33f"
      },
      "source": [
        "xlsx.loc[0, \"day\"]"
      ],
      "execution_count": null,
      "outputs": [
        {
          "output_type": "execute_result",
          "data": {
            "application/vnd.google.colaboratory.intrinsic": {
              "type": "string"
            },
            "text/plain": [
              "'2020/06/30'"
            ]
          },
          "metadata": {
            "tags": []
          },
          "execution_count": 56
        }
      ]
    },
    {
      "cell_type": "code",
      "metadata": {
        "id": "UDY_kQYArd1j",
        "colab_type": "code",
        "colab": {}
      },
      "source": [
        "strpDateTime = datetime.strptime(\"2020/06/30\", \"%Y/%m/%d\")\n"
      ],
      "execution_count": null,
      "outputs": []
    },
    {
      "cell_type": "code",
      "metadata": {
        "id": "ksrc3b08sMaS",
        "colab_type": "code",
        "colab": {
          "base_uri": "https://localhost:8080/",
          "height": 34
        },
        "outputId": "df8fb522-4974-4ae9-f1e1-b06ed7cc8465"
      },
      "source": [
        "type(strpDateTime)"
      ],
      "execution_count": null,
      "outputs": [
        {
          "output_type": "execute_result",
          "data": {
            "text/plain": [
              "datetime.datetime"
            ]
          },
          "metadata": {
            "tags": []
          },
          "execution_count": 42
        }
      ]
    },
    {
      "cell_type": "code",
      "metadata": {
        "id": "_5_lj3TWso-R",
        "colab_type": "code",
        "colab": {
          "base_uri": "https://localhost:8080/",
          "height": 34
        },
        "outputId": "25031271-1aff-406f-c6d6-e5e640e42a25"
      },
      "source": [
        "print(strpDateTime)"
      ],
      "execution_count": null,
      "outputs": [
        {
          "output_type": "stream",
          "text": [
            "2020-06-30 00:00:00\n"
          ],
          "name": "stdout"
        }
      ]
    },
    {
      "cell_type": "code",
      "metadata": {
        "id": "0hJ_dwKls6Ij",
        "colab_type": "code",
        "colab": {}
      },
      "source": [
        "for i in range(0, len(xlsx)):\n",
        "  xlsx.loc[i, 'day'] = datetime.strptime(xlsx.loc[i,'day'], \"%Y/%m/%d\")\n"
      ],
      "execution_count": null,
      "outputs": []
    },
    {
      "cell_type": "code",
      "metadata": {
        "id": "m7XhPasws6Lg",
        "colab_type": "code",
        "colab": {
          "base_uri": "https://localhost:8080/",
          "height": 402
        },
        "outputId": "0106542f-1a24-4619-ef98-996a4591c83e"
      },
      "source": [
        "xlsx"
      ],
      "execution_count": null,
      "outputs": [
        {
          "output_type": "execute_result",
          "data": {
            "text/html": [
              "<div>\n",
              "<style scoped>\n",
              "    .dataframe tbody tr th:only-of-type {\n",
              "        vertical-align: middle;\n",
              "    }\n",
              "\n",
              "    .dataframe tbody tr th {\n",
              "        vertical-align: top;\n",
              "    }\n",
              "\n",
              "    .dataframe thead th {\n",
              "        text-align: right;\n",
              "    }\n",
              "</style>\n",
              "<table border=\"1\" class=\"dataframe\">\n",
              "  <thead>\n",
              "    <tr style=\"text-align: right;\">\n",
              "      <th></th>\n",
              "      <th>day</th>\n",
              "      <th>close</th>\n",
              "      <th>dif</th>\n",
              "      <th>volume</th>\n",
              "      <th>start</th>\n",
              "      <th>high</th>\n",
              "      <th>low</th>\n",
              "    </tr>\n",
              "  </thead>\n",
              "  <tbody>\n",
              "    <tr>\n",
              "      <th>0</th>\n",
              "      <td>2020-06-30 00:00:00</td>\n",
              "      <td>52,800</td>\n",
              "      <td>400</td>\n",
              "      <td>21,157,172</td>\n",
              "      <td>53,900</td>\n",
              "      <td>53,900</td>\n",
              "      <td>52,800</td>\n",
              "    </tr>\n",
              "    <tr>\n",
              "      <th>1</th>\n",
              "      <td>2020-06-29 00:00:00</td>\n",
              "      <td>52,400</td>\n",
              "      <td>-900</td>\n",
              "      <td>17,776,925</td>\n",
              "      <td>52,500</td>\n",
              "      <td>53,200</td>\n",
              "      <td>52,000</td>\n",
              "    </tr>\n",
              "    <tr>\n",
              "      <th>2</th>\n",
              "      <td>2020-06-26 00:00:00</td>\n",
              "      <td>53,300</td>\n",
              "      <td>1,400</td>\n",
              "      <td>21,575,360</td>\n",
              "      <td>52,800</td>\n",
              "      <td>53,900</td>\n",
              "      <td>52,200</td>\n",
              "    </tr>\n",
              "    <tr>\n",
              "      <th>3</th>\n",
              "      <td>2020-06-25 00:00:00</td>\n",
              "      <td>51,900</td>\n",
              "      <td>-1,000</td>\n",
              "      <td>18,541,624</td>\n",
              "      <td>52,100</td>\n",
              "      <td>53,000</td>\n",
              "      <td>51,900</td>\n",
              "    </tr>\n",
              "    <tr>\n",
              "      <th>4</th>\n",
              "      <td>2020-06-24 00:00:00</td>\n",
              "      <td>52,900</td>\n",
              "      <td>1,500</td>\n",
              "      <td>24,519,552</td>\n",
              "      <td>51,900</td>\n",
              "      <td>53,900</td>\n",
              "      <td>51,600</td>\n",
              "    </tr>\n",
              "    <tr>\n",
              "      <th>...</th>\n",
              "      <td>...</td>\n",
              "      <td>...</td>\n",
              "      <td>...</td>\n",
              "      <td>...</td>\n",
              "      <td>...</td>\n",
              "      <td>...</td>\n",
              "      <td>...</td>\n",
              "    </tr>\n",
              "    <tr>\n",
              "      <th>851</th>\n",
              "      <td>2017-01-06 00:00:00</td>\n",
              "      <td>1,810,000</td>\n",
              "      <td>32,000</td>\n",
              "      <td>177,619</td>\n",
              "      <td>1,809,000</td>\n",
              "      <td>1,822,000</td>\n",
              "      <td>1,802,000</td>\n",
              "    </tr>\n",
              "    <tr>\n",
              "      <th>852</th>\n",
              "      <td>2017-01-05 00:00:00</td>\n",
              "      <td>1,778,000</td>\n",
              "      <td>-30,000</td>\n",
              "      <td>219,349</td>\n",
              "      <td>1,803,000</td>\n",
              "      <td>1,803,000</td>\n",
              "      <td>1,777,000</td>\n",
              "    </tr>\n",
              "    <tr>\n",
              "      <th>853</th>\n",
              "      <td>2017-01-04 00:00:00</td>\n",
              "      <td>1,808,000</td>\n",
              "      <td>-16,000</td>\n",
              "      <td>159,435</td>\n",
              "      <td>1,825,000</td>\n",
              "      <td>1,826,000</td>\n",
              "      <td>1,805,000</td>\n",
              "    </tr>\n",
              "    <tr>\n",
              "      <th>854</th>\n",
              "      <td>2017-01-03 00:00:00</td>\n",
              "      <td>1,824,000</td>\n",
              "      <td>19,000</td>\n",
              "      <td>147,153</td>\n",
              "      <td>1,814,000</td>\n",
              "      <td>1,831,000</td>\n",
              "      <td>1,801,000</td>\n",
              "    </tr>\n",
              "    <tr>\n",
              "      <th>855</th>\n",
              "      <td>2017-01-02 00:00:00</td>\n",
              "      <td>1,805,000</td>\n",
              "      <td>3,000</td>\n",
              "      <td>93,012</td>\n",
              "      <td>1,799,000</td>\n",
              "      <td>1,812,000</td>\n",
              "      <td>1,794,000</td>\n",
              "    </tr>\n",
              "  </tbody>\n",
              "</table>\n",
              "<p>856 rows × 7 columns</p>\n",
              "</div>"
            ],
            "text/plain": [
              "                     day      close      dif  ...      start       high        low\n",
              "0    2020-06-30 00:00:00     52,800      400  ...     53,900     53,900     52,800\n",
              "1    2020-06-29 00:00:00     52,400     -900  ...     52,500     53,200     52,000\n",
              "2    2020-06-26 00:00:00     53,300    1,400  ...     52,800     53,900     52,200\n",
              "3    2020-06-25 00:00:00     51,900   -1,000  ...     52,100     53,000     51,900\n",
              "4    2020-06-24 00:00:00     52,900    1,500  ...     51,900     53,900     51,600\n",
              "..                   ...        ...      ...  ...        ...        ...        ...\n",
              "851  2017-01-06 00:00:00  1,810,000   32,000  ...  1,809,000  1,822,000  1,802,000\n",
              "852  2017-01-05 00:00:00  1,778,000  -30,000  ...  1,803,000  1,803,000  1,777,000\n",
              "853  2017-01-04 00:00:00  1,808,000  -16,000  ...  1,825,000  1,826,000  1,805,000\n",
              "854  2017-01-03 00:00:00  1,824,000   19,000  ...  1,814,000  1,831,000  1,801,000\n",
              "855  2017-01-02 00:00:00  1,805,000    3,000  ...  1,799,000  1,812,000  1,794,000\n",
              "\n",
              "[856 rows x 7 columns]"
            ]
          },
          "metadata": {
            "tags": []
          },
          "execution_count": 253
        }
      ]
    },
    {
      "cell_type": "code",
      "metadata": {
        "id": "3LsvaAoJZX2-",
        "colab_type": "code",
        "colab": {}
      },
      "source": [
        "sprice = xlsx[:511] # 2018년 6월1일부터 시작된 데이터만 사용"
      ],
      "execution_count": null,
      "outputs": []
    },
    {
      "cell_type": "code",
      "metadata": {
        "id": "r0XRuC6mbIY2",
        "colab_type": "code",
        "colab": {}
      },
      "source": [
        "sprice_s = sprice[::-1] #데이터를 시간순서로 정렬"
      ],
      "execution_count": null,
      "outputs": []
    },
    {
      "cell_type": "code",
      "metadata": {
        "id": "LTV5ijC4bVuY",
        "colab_type": "code",
        "colab": {
          "base_uri": "https://localhost:8080/",
          "height": 195
        },
        "outputId": "a3785d41-9b85-4ec8-f179-182407ea3c92"
      },
      "source": [
        "sprice_s.head()"
      ],
      "execution_count": null,
      "outputs": [
        {
          "output_type": "execute_result",
          "data": {
            "text/html": [
              "<div>\n",
              "<style scoped>\n",
              "    .dataframe tbody tr th:only-of-type {\n",
              "        vertical-align: middle;\n",
              "    }\n",
              "\n",
              "    .dataframe tbody tr th {\n",
              "        vertical-align: top;\n",
              "    }\n",
              "\n",
              "    .dataframe thead th {\n",
              "        text-align: right;\n",
              "    }\n",
              "</style>\n",
              "<table border=\"1\" class=\"dataframe\">\n",
              "  <thead>\n",
              "    <tr style=\"text-align: right;\">\n",
              "      <th></th>\n",
              "      <th>day</th>\n",
              "      <th>close</th>\n",
              "      <th>dif</th>\n",
              "      <th>volume</th>\n",
              "      <th>start</th>\n",
              "      <th>high</th>\n",
              "      <th>low</th>\n",
              "    </tr>\n",
              "  </thead>\n",
              "  <tbody>\n",
              "    <tr>\n",
              "      <th>510</th>\n",
              "      <td>2018-06-01 00:00:00</td>\n",
              "      <td>51,300</td>\n",
              "      <td>600</td>\n",
              "      <td>13,038,499</td>\n",
              "      <td>50,500</td>\n",
              "      <td>51,700</td>\n",
              "      <td>49,950</td>\n",
              "    </tr>\n",
              "    <tr>\n",
              "      <th>509</th>\n",
              "      <td>2018-06-04 00:00:00</td>\n",
              "      <td>51,100</td>\n",
              "      <td>-200</td>\n",
              "      <td>9,767,171</td>\n",
              "      <td>50,800</td>\n",
              "      <td>51,200</td>\n",
              "      <td>50,700</td>\n",
              "    </tr>\n",
              "    <tr>\n",
              "      <th>508</th>\n",
              "      <td>2018-06-05 00:00:00</td>\n",
              "      <td>51,300</td>\n",
              "      <td>200</td>\n",
              "      <td>9,144,100</td>\n",
              "      <td>51,100</td>\n",
              "      <td>51,400</td>\n",
              "      <td>50,400</td>\n",
              "    </tr>\n",
              "    <tr>\n",
              "      <th>507</th>\n",
              "      <td>2018-06-07 00:00:00</td>\n",
              "      <td>50,600</td>\n",
              "      <td>-700</td>\n",
              "      <td>13,590,016</td>\n",
              "      <td>51,800</td>\n",
              "      <td>51,800</td>\n",
              "      <td>50,500</td>\n",
              "    </tr>\n",
              "    <tr>\n",
              "      <th>506</th>\n",
              "      <td>2018-06-08 00:00:00</td>\n",
              "      <td>49,650</td>\n",
              "      <td>-950</td>\n",
              "      <td>16,951,706</td>\n",
              "      <td>50,200</td>\n",
              "      <td>50,400</td>\n",
              "      <td>49,600</td>\n",
              "    </tr>\n",
              "  </tbody>\n",
              "</table>\n",
              "</div>"
            ],
            "text/plain": [
              "                     day   close   dif      volume   start    high     low\n",
              "510  2018-06-01 00:00:00  51,300   600  13,038,499  50,500  51,700  49,950\n",
              "509  2018-06-04 00:00:00  51,100  -200   9,767,171  50,800  51,200  50,700\n",
              "508  2018-06-05 00:00:00  51,300   200   9,144,100  51,100  51,400  50,400\n",
              "507  2018-06-07 00:00:00  50,600  -700  13,590,016  51,800  51,800  50,500\n",
              "506  2018-06-08 00:00:00  49,650  -950  16,951,706  50,200  50,400  49,600"
            ]
          },
          "metadata": {
            "tags": []
          },
          "execution_count": 256
        }
      ]
    },
    {
      "cell_type": "code",
      "metadata": {
        "id": "On6kWi9jmM_I",
        "colab_type": "code",
        "colab": {}
      },
      "source": [
        "import numpy as np"
      ],
      "execution_count": null,
      "outputs": []
    },
    {
      "cell_type": "code",
      "metadata": {
        "id": "SF2nPvYHwzXV",
        "colab_type": "code",
        "colab": {
          "base_uri": "https://localhost:8080/",
          "height": 34
        },
        "outputId": "1e9baf95-192c-4cbc-ba79-0ca9bb8f3530"
      },
      "source": [
        "float(sprice_s.loc[0, 'close'].replace(\",\", ''))"
      ],
      "execution_count": null,
      "outputs": [
        {
          "output_type": "execute_result",
          "data": {
            "text/plain": [
              "52800.0"
            ]
          },
          "metadata": {
            "tags": []
          },
          "execution_count": 105
        }
      ]
    },
    {
      "cell_type": "code",
      "metadata": {
        "id": "NAlMWg55mSfI",
        "colab_type": "code",
        "colab": {}
      },
      "source": [
        "for i in range(0, len(sprice_s)):\n",
        "  sprice_s.loc[i, 'close'] = float(sprice_s.loc[i, 'close'].replace(\",\", ''))\n",
        "  sprice_s.loc[i, 'dif'] = float(sprice_s.loc[i, 'dif'].replace(\",\", ''))\n",
        "  sprice_s.loc[i, 'volume'] = float(sprice_s.loc[i, 'volume'].replace(\",\", ''))\n",
        "  sprice_s.loc[i, 'start'] = float(sprice_s.loc[i, 'start'].replace(\",\", ''))\n",
        "  sprice_s.loc[i, 'high'] = float(sprice_s.loc[i, 'high'].replace(\",\", ''))\n",
        "  sprice_s.loc[i, 'low'] = float(sprice_s.loc[i, 'low'].replace(\",\", ''))\n",
        " "
      ],
      "execution_count": null,
      "outputs": []
    },
    {
      "cell_type": "code",
      "metadata": {
        "id": "BgjZWsSljO_s",
        "colab_type": "code",
        "colab": {
          "base_uri": "https://localhost:8080/",
          "height": 402
        },
        "outputId": "6adeddec-3638-4240-c0b2-3778f8f7be0e"
      },
      "source": [
        "sprice_s"
      ],
      "execution_count": null,
      "outputs": [
        {
          "output_type": "execute_result",
          "data": {
            "text/html": [
              "<div>\n",
              "<style scoped>\n",
              "    .dataframe tbody tr th:only-of-type {\n",
              "        vertical-align: middle;\n",
              "    }\n",
              "\n",
              "    .dataframe tbody tr th {\n",
              "        vertical-align: top;\n",
              "    }\n",
              "\n",
              "    .dataframe thead th {\n",
              "        text-align: right;\n",
              "    }\n",
              "</style>\n",
              "<table border=\"1\" class=\"dataframe\">\n",
              "  <thead>\n",
              "    <tr style=\"text-align: right;\">\n",
              "      <th></th>\n",
              "      <th>day</th>\n",
              "      <th>close</th>\n",
              "      <th>dif</th>\n",
              "      <th>volume</th>\n",
              "      <th>start</th>\n",
              "      <th>high</th>\n",
              "      <th>low</th>\n",
              "    </tr>\n",
              "  </thead>\n",
              "  <tbody>\n",
              "    <tr>\n",
              "      <th>510</th>\n",
              "      <td>2018-06-01 00:00:00</td>\n",
              "      <td>51300</td>\n",
              "      <td>600</td>\n",
              "      <td>1.30385e+07</td>\n",
              "      <td>50500</td>\n",
              "      <td>51700</td>\n",
              "      <td>49950</td>\n",
              "    </tr>\n",
              "    <tr>\n",
              "      <th>509</th>\n",
              "      <td>2018-06-04 00:00:00</td>\n",
              "      <td>51100</td>\n",
              "      <td>-200</td>\n",
              "      <td>9.76717e+06</td>\n",
              "      <td>50800</td>\n",
              "      <td>51200</td>\n",
              "      <td>50700</td>\n",
              "    </tr>\n",
              "    <tr>\n",
              "      <th>508</th>\n",
              "      <td>2018-06-05 00:00:00</td>\n",
              "      <td>51300</td>\n",
              "      <td>200</td>\n",
              "      <td>9.1441e+06</td>\n",
              "      <td>51100</td>\n",
              "      <td>51400</td>\n",
              "      <td>50400</td>\n",
              "    </tr>\n",
              "    <tr>\n",
              "      <th>507</th>\n",
              "      <td>2018-06-07 00:00:00</td>\n",
              "      <td>50600</td>\n",
              "      <td>-700</td>\n",
              "      <td>1.359e+07</td>\n",
              "      <td>51800</td>\n",
              "      <td>51800</td>\n",
              "      <td>50500</td>\n",
              "    </tr>\n",
              "    <tr>\n",
              "      <th>506</th>\n",
              "      <td>2018-06-08 00:00:00</td>\n",
              "      <td>49650</td>\n",
              "      <td>-950</td>\n",
              "      <td>1.69517e+07</td>\n",
              "      <td>50200</td>\n",
              "      <td>50400</td>\n",
              "      <td>49600</td>\n",
              "    </tr>\n",
              "    <tr>\n",
              "      <th>...</th>\n",
              "      <td>...</td>\n",
              "      <td>...</td>\n",
              "      <td>...</td>\n",
              "      <td>...</td>\n",
              "      <td>...</td>\n",
              "      <td>...</td>\n",
              "      <td>...</td>\n",
              "    </tr>\n",
              "    <tr>\n",
              "      <th>4</th>\n",
              "      <td>2020-06-24 00:00:00</td>\n",
              "      <td>52900</td>\n",
              "      <td>1500</td>\n",
              "      <td>2.45196e+07</td>\n",
              "      <td>51900</td>\n",
              "      <td>53900</td>\n",
              "      <td>51600</td>\n",
              "    </tr>\n",
              "    <tr>\n",
              "      <th>3</th>\n",
              "      <td>2020-06-25 00:00:00</td>\n",
              "      <td>51900</td>\n",
              "      <td>-1000</td>\n",
              "      <td>1.85416e+07</td>\n",
              "      <td>52100</td>\n",
              "      <td>53000</td>\n",
              "      <td>51900</td>\n",
              "    </tr>\n",
              "    <tr>\n",
              "      <th>2</th>\n",
              "      <td>2020-06-26 00:00:00</td>\n",
              "      <td>53300</td>\n",
              "      <td>1400</td>\n",
              "      <td>2.15754e+07</td>\n",
              "      <td>52800</td>\n",
              "      <td>53900</td>\n",
              "      <td>52200</td>\n",
              "    </tr>\n",
              "    <tr>\n",
              "      <th>1</th>\n",
              "      <td>2020-06-29 00:00:00</td>\n",
              "      <td>52400</td>\n",
              "      <td>-900</td>\n",
              "      <td>1.77769e+07</td>\n",
              "      <td>52500</td>\n",
              "      <td>53200</td>\n",
              "      <td>52000</td>\n",
              "    </tr>\n",
              "    <tr>\n",
              "      <th>0</th>\n",
              "      <td>2020-06-30 00:00:00</td>\n",
              "      <td>52800</td>\n",
              "      <td>400</td>\n",
              "      <td>2.11572e+07</td>\n",
              "      <td>53900</td>\n",
              "      <td>53900</td>\n",
              "      <td>52800</td>\n",
              "    </tr>\n",
              "  </tbody>\n",
              "</table>\n",
              "<p>511 rows × 7 columns</p>\n",
              "</div>"
            ],
            "text/plain": [
              "                     day  close   dif       volume  start   high    low\n",
              "510  2018-06-01 00:00:00  51300   600  1.30385e+07  50500  51700  49950\n",
              "509  2018-06-04 00:00:00  51100  -200  9.76717e+06  50800  51200  50700\n",
              "508  2018-06-05 00:00:00  51300   200   9.1441e+06  51100  51400  50400\n",
              "507  2018-06-07 00:00:00  50600  -700    1.359e+07  51800  51800  50500\n",
              "506  2018-06-08 00:00:00  49650  -950  1.69517e+07  50200  50400  49600\n",
              "..                   ...    ...   ...          ...    ...    ...    ...\n",
              "4    2020-06-24 00:00:00  52900  1500  2.45196e+07  51900  53900  51600\n",
              "3    2020-06-25 00:00:00  51900 -1000  1.85416e+07  52100  53000  51900\n",
              "2    2020-06-26 00:00:00  53300  1400  2.15754e+07  52800  53900  52200\n",
              "1    2020-06-29 00:00:00  52400  -900  1.77769e+07  52500  53200  52000\n",
              "0    2020-06-30 00:00:00  52800   400  2.11572e+07  53900  53900  52800\n",
              "\n",
              "[511 rows x 7 columns]"
            ]
          },
          "metadata": {
            "tags": []
          },
          "execution_count": 258
        }
      ]
    },
    {
      "cell_type": "markdown",
      "metadata": {
        "id": "-hNyino-klUq",
        "colab_type": "text"
      },
      "source": [
        "로컬 PC에 데이터를 저장하는 방법이다."
      ]
    },
    {
      "cell_type": "code",
      "metadata": {
        "id": "pBRb2Sak0Hkz",
        "colab_type": "code",
        "colab": {
          "base_uri": "https://localhost:8080/",
          "height": 17
        },
        "outputId": "984c9397-b6ee-4d84-d195-233fbd5a7014"
      },
      "source": [
        "sprice_s.to_csv('new_file.txt')\n",
        "files.download('new_file.txt')"
      ],
      "execution_count": null,
      "outputs": [
        {
          "output_type": "display_data",
          "data": {
            "application/javascript": [
              "\n",
              "    async function download(id, filename, size) {\n",
              "      if (!google.colab.kernel.accessAllowed) {\n",
              "        return;\n",
              "      }\n",
              "      const div = document.createElement('div');\n",
              "      const label = document.createElement('label');\n",
              "      label.textContent = `Downloading \"${filename}\": `;\n",
              "      div.appendChild(label);\n",
              "      const progress = document.createElement('progress');\n",
              "      progress.max = size;\n",
              "      div.appendChild(progress);\n",
              "      document.body.appendChild(div);\n",
              "\n",
              "      const buffers = [];\n",
              "      let downloaded = 0;\n",
              "\n",
              "      const channel = await google.colab.kernel.comms.open(id);\n",
              "      // Send a message to notify the kernel that we're ready.\n",
              "      channel.send({})\n",
              "\n",
              "      for await (const message of channel.messages) {\n",
              "        // Send a message to notify the kernel that we're ready.\n",
              "        channel.send({})\n",
              "        if (message.buffers) {\n",
              "          for (const buffer of message.buffers) {\n",
              "            buffers.push(buffer);\n",
              "            downloaded += buffer.byteLength;\n",
              "            progress.value = downloaded;\n",
              "          }\n",
              "        }\n",
              "      }\n",
              "      const blob = new Blob(buffers, {type: 'application/binary'});\n",
              "      const a = document.createElement('a');\n",
              "      a.href = window.URL.createObjectURL(blob);\n",
              "      a.download = filename;\n",
              "      div.appendChild(a);\n",
              "      a.click();\n",
              "      div.remove();\n",
              "    }\n",
              "  "
            ],
            "text/plain": [
              "<IPython.core.display.Javascript object>"
            ]
          },
          "metadata": {
            "tags": []
          }
        },
        {
          "output_type": "display_data",
          "data": {
            "application/javascript": [
              "download(\"download_9e438563-d2e6-4a84-9cf0-4f05e5d9e4c5\", \"new_file.txt\", 37307)"
            ],
            "text/plain": [
              "<IPython.core.display.Javascript object>"
            ]
          },
          "metadata": {
            "tags": []
          }
        }
      ]
    },
    {
      "cell_type": "code",
      "metadata": {
        "id": "Fb11UOhQ1SwD",
        "colab_type": "code",
        "colab": {
          "base_uri": "https://localhost:8080/",
          "height": 169
        },
        "outputId": "869c90ed-4ef3-4e4d-8601-a2024f79b448"
      },
      "source": [
        "uploaded = files.upload()"
      ],
      "execution_count": null,
      "outputs": [
        {
          "output_type": "error",
          "ename": "NameError",
          "evalue": "ignored",
          "traceback": [
            "\u001b[0;31m---------------------------------------------------------------------------\u001b[0m",
            "\u001b[0;31mNameError\u001b[0m                                 Traceback (most recent call last)",
            "\u001b[0;32m<ipython-input-1-ed2fd71b4a2f>\u001b[0m in \u001b[0;36m<module>\u001b[0;34m()\u001b[0m\n\u001b[0;32m----> 1\u001b[0;31m \u001b[0muploaded\u001b[0m \u001b[0;34m=\u001b[0m \u001b[0mfiles\u001b[0m\u001b[0;34m.\u001b[0m\u001b[0mupload\u001b[0m\u001b[0;34m(\u001b[0m\u001b[0;34m)\u001b[0m\u001b[0;34m\u001b[0m\u001b[0;34m\u001b[0m\u001b[0m\n\u001b[0m",
            "\u001b[0;31mNameError\u001b[0m: name 'files' is not defined"
          ]
        }
      ]
    },
    {
      "cell_type": "code",
      "metadata": {
        "id": "_Oa5iglkCfyZ",
        "colab_type": "code",
        "colab": {}
      },
      "source": [
        "data = pd.read_csv('new_file.txt')"
      ],
      "execution_count": null,
      "outputs": []
    },
    {
      "cell_type": "code",
      "metadata": {
        "id": "MsM3WaP6CnfH",
        "colab_type": "code",
        "colab": {
          "base_uri": "https://localhost:8080/",
          "height": 639
        },
        "outputId": "406fa6ee-4101-42d5-e03b-a16798934ae5"
      },
      "source": [
        "data[390:410]"
      ],
      "execution_count": null,
      "outputs": [
        {
          "output_type": "execute_result",
          "data": {
            "text/html": [
              "<div>\n",
              "<style scoped>\n",
              "    .dataframe tbody tr th:only-of-type {\n",
              "        vertical-align: middle;\n",
              "    }\n",
              "\n",
              "    .dataframe tbody tr th {\n",
              "        vertical-align: top;\n",
              "    }\n",
              "\n",
              "    .dataframe thead th {\n",
              "        text-align: right;\n",
              "    }\n",
              "</style>\n",
              "<table border=\"1\" class=\"dataframe\">\n",
              "  <thead>\n",
              "    <tr style=\"text-align: right;\">\n",
              "      <th></th>\n",
              "      <th>Unnamed: 0</th>\n",
              "      <th>Unnamed: 0.1</th>\n",
              "      <th>Unnamed: 0.1.1</th>\n",
              "      <th>day</th>\n",
              "      <th>close</th>\n",
              "      <th>dif</th>\n",
              "      <th>volume</th>\n",
              "      <th>start</th>\n",
              "      <th>high</th>\n",
              "      <th>low</th>\n",
              "    </tr>\n",
              "  </thead>\n",
              "  <tbody>\n",
              "    <tr>\n",
              "      <th>390</th>\n",
              "      <td>390</td>\n",
              "      <td>390</td>\n",
              "      <td>120</td>\n",
              "      <td>2020-01-06 00:00:00</td>\n",
              "      <td>55500.0</td>\n",
              "      <td>0.0</td>\n",
              "      <td>10278951.0</td>\n",
              "      <td>54900.0</td>\n",
              "      <td>55600.0</td>\n",
              "      <td>54600.0</td>\n",
              "    </tr>\n",
              "    <tr>\n",
              "      <th>391</th>\n",
              "      <td>391</td>\n",
              "      <td>391</td>\n",
              "      <td>119</td>\n",
              "      <td>2020-01-07 00:00:00</td>\n",
              "      <td>55800.0</td>\n",
              "      <td>300.0</td>\n",
              "      <td>10009778.0</td>\n",
              "      <td>55700.0</td>\n",
              "      <td>56400.0</td>\n",
              "      <td>55600.0</td>\n",
              "    </tr>\n",
              "    <tr>\n",
              "      <th>392</th>\n",
              "      <td>392</td>\n",
              "      <td>392</td>\n",
              "      <td>118</td>\n",
              "      <td>2020-01-08 00:00:00</td>\n",
              "      <td>56800.0</td>\n",
              "      <td>1000.0</td>\n",
              "      <td>23501171.0</td>\n",
              "      <td>56200.0</td>\n",
              "      <td>57400.0</td>\n",
              "      <td>55900.0</td>\n",
              "    </tr>\n",
              "    <tr>\n",
              "      <th>393</th>\n",
              "      <td>393</td>\n",
              "      <td>393</td>\n",
              "      <td>117</td>\n",
              "      <td>2020-01-09 00:00:00</td>\n",
              "      <td>58600.0</td>\n",
              "      <td>1800.0</td>\n",
              "      <td>24102579.0</td>\n",
              "      <td>58400.0</td>\n",
              "      <td>58600.0</td>\n",
              "      <td>57400.0</td>\n",
              "    </tr>\n",
              "    <tr>\n",
              "      <th>394</th>\n",
              "      <td>394</td>\n",
              "      <td>394</td>\n",
              "      <td>116</td>\n",
              "      <td>2020-01-10 00:00:00</td>\n",
              "      <td>59500.0</td>\n",
              "      <td>900.0</td>\n",
              "      <td>16000170.0</td>\n",
              "      <td>58800.0</td>\n",
              "      <td>59700.0</td>\n",
              "      <td>58300.0</td>\n",
              "    </tr>\n",
              "    <tr>\n",
              "      <th>395</th>\n",
              "      <td>395</td>\n",
              "      <td>395</td>\n",
              "      <td>115</td>\n",
              "      <td>2020-01-13 00:00:00</td>\n",
              "      <td>60000.0</td>\n",
              "      <td>500.0</td>\n",
              "      <td>11359139.0</td>\n",
              "      <td>59600.0</td>\n",
              "      <td>60000.0</td>\n",
              "      <td>59100.0</td>\n",
              "    </tr>\n",
              "    <tr>\n",
              "      <th>396</th>\n",
              "      <td>396</td>\n",
              "      <td>396</td>\n",
              "      <td>114</td>\n",
              "      <td>2020-01-14 00:00:00</td>\n",
              "      <td>60000.0</td>\n",
              "      <td>0.0</td>\n",
              "      <td>16906295.0</td>\n",
              "      <td>60400.0</td>\n",
              "      <td>61000.0</td>\n",
              "      <td>59900.0</td>\n",
              "    </tr>\n",
              "    <tr>\n",
              "      <th>397</th>\n",
              "      <td>397</td>\n",
              "      <td>397</td>\n",
              "      <td>113</td>\n",
              "      <td>2020-01-15 00:00:00</td>\n",
              "      <td>59000.0</td>\n",
              "      <td>-1000.0</td>\n",
              "      <td>14300928.0</td>\n",
              "      <td>59500.0</td>\n",
              "      <td>59600.0</td>\n",
              "      <td>58900.0</td>\n",
              "    </tr>\n",
              "    <tr>\n",
              "      <th>398</th>\n",
              "      <td>398</td>\n",
              "      <td>398</td>\n",
              "      <td>112</td>\n",
              "      <td>2020-01-16 00:00:00</td>\n",
              "      <td>60700.0</td>\n",
              "      <td>1700.0</td>\n",
              "      <td>14381774.0</td>\n",
              "      <td>59100.0</td>\n",
              "      <td>60700.0</td>\n",
              "      <td>59000.0</td>\n",
              "    </tr>\n",
              "    <tr>\n",
              "      <th>399</th>\n",
              "      <td>399</td>\n",
              "      <td>399</td>\n",
              "      <td>111</td>\n",
              "      <td>2020-01-17 00:00:00</td>\n",
              "      <td>61300.0</td>\n",
              "      <td>600.0</td>\n",
              "      <td>16025661.0</td>\n",
              "      <td>61900.0</td>\n",
              "      <td>62000.0</td>\n",
              "      <td>61000.0</td>\n",
              "    </tr>\n",
              "    <tr>\n",
              "      <th>400</th>\n",
              "      <td>400</td>\n",
              "      <td>400</td>\n",
              "      <td>110</td>\n",
              "      <td>2020-01-20 00:00:00</td>\n",
              "      <td>62400.0</td>\n",
              "      <td>1100.0</td>\n",
              "      <td>12528855.0</td>\n",
              "      <td>62000.0</td>\n",
              "      <td>62800.0</td>\n",
              "      <td>61700.0</td>\n",
              "    </tr>\n",
              "    <tr>\n",
              "      <th>401</th>\n",
              "      <td>401</td>\n",
              "      <td>401</td>\n",
              "      <td>109</td>\n",
              "      <td>2020-01-21 00:00:00</td>\n",
              "      <td>61400.0</td>\n",
              "      <td>-1000.0</td>\n",
              "      <td>11142693.0</td>\n",
              "      <td>62000.0</td>\n",
              "      <td>62400.0</td>\n",
              "      <td>61200.0</td>\n",
              "    </tr>\n",
              "    <tr>\n",
              "      <th>402</th>\n",
              "      <td>402</td>\n",
              "      <td>402</td>\n",
              "      <td>108</td>\n",
              "      <td>2020-01-22 00:00:00</td>\n",
              "      <td>62300.0</td>\n",
              "      <td>900.0</td>\n",
              "      <td>15339565.0</td>\n",
              "      <td>60500.0</td>\n",
              "      <td>62600.0</td>\n",
              "      <td>60400.0</td>\n",
              "    </tr>\n",
              "    <tr>\n",
              "      <th>403</th>\n",
              "      <td>403</td>\n",
              "      <td>403</td>\n",
              "      <td>107</td>\n",
              "      <td>2020-01-23 00:00:00</td>\n",
              "      <td>60800.0</td>\n",
              "      <td>-1500.0</td>\n",
              "      <td>14916555.0</td>\n",
              "      <td>61800.0</td>\n",
              "      <td>61800.0</td>\n",
              "      <td>60700.0</td>\n",
              "    </tr>\n",
              "    <tr>\n",
              "      <th>404</th>\n",
              "      <td>404</td>\n",
              "      <td>404</td>\n",
              "      <td>106</td>\n",
              "      <td>2020-01-28 00:00:00</td>\n",
              "      <td>58800.0</td>\n",
              "      <td>-2000.0</td>\n",
              "      <td>23664541.0</td>\n",
              "      <td>59400.0</td>\n",
              "      <td>59400.0</td>\n",
              "      <td>58300.0</td>\n",
              "    </tr>\n",
              "    <tr>\n",
              "      <th>405</th>\n",
              "      <td>405</td>\n",
              "      <td>405</td>\n",
              "      <td>105</td>\n",
              "      <td>2020-01-29 00:00:00</td>\n",
              "      <td>59100.0</td>\n",
              "      <td>300.0</td>\n",
              "      <td>16446102.0</td>\n",
              "      <td>59100.0</td>\n",
              "      <td>59700.0</td>\n",
              "      <td>58800.0</td>\n",
              "    </tr>\n",
              "    <tr>\n",
              "      <th>406</th>\n",
              "      <td>406</td>\n",
              "      <td>406</td>\n",
              "      <td>104</td>\n",
              "      <td>2020-01-30 00:00:00</td>\n",
              "      <td>57200.0</td>\n",
              "      <td>-1900.0</td>\n",
              "      <td>20821939.0</td>\n",
              "      <td>58800.0</td>\n",
              "      <td>58800.0</td>\n",
              "      <td>56800.0</td>\n",
              "    </tr>\n",
              "    <tr>\n",
              "      <th>407</th>\n",
              "      <td>407</td>\n",
              "      <td>407</td>\n",
              "      <td>103</td>\n",
              "      <td>2020-01-31 00:00:00</td>\n",
              "      <td>56400.0</td>\n",
              "      <td>-800.0</td>\n",
              "      <td>19749457.0</td>\n",
              "      <td>57800.0</td>\n",
              "      <td>58400.0</td>\n",
              "      <td>56400.0</td>\n",
              "    </tr>\n",
              "    <tr>\n",
              "      <th>408</th>\n",
              "      <td>408</td>\n",
              "      <td>408</td>\n",
              "      <td>102</td>\n",
              "      <td>2020-02-03 00:00:00</td>\n",
              "      <td>57200.0</td>\n",
              "      <td>800.0</td>\n",
              "      <td>23995260.0</td>\n",
              "      <td>55500.0</td>\n",
              "      <td>57400.0</td>\n",
              "      <td>55200.0</td>\n",
              "    </tr>\n",
              "    <tr>\n",
              "      <th>409</th>\n",
              "      <td>409</td>\n",
              "      <td>409</td>\n",
              "      <td>101</td>\n",
              "      <td>2020-02-04 00:00:00</td>\n",
              "      <td>58900.0</td>\n",
              "      <td>1700.0</td>\n",
              "      <td>21800192.0</td>\n",
              "      <td>57100.0</td>\n",
              "      <td>59000.0</td>\n",
              "      <td>56800.0</td>\n",
              "    </tr>\n",
              "  </tbody>\n",
              "</table>\n",
              "</div>"
            ],
            "text/plain": [
              "     Unnamed: 0  Unnamed: 0.1  Unnamed: 0.1.1  ...    start     high      low\n",
              "390         390           390             120  ...  54900.0  55600.0  54600.0\n",
              "391         391           391             119  ...  55700.0  56400.0  55600.0\n",
              "392         392           392             118  ...  56200.0  57400.0  55900.0\n",
              "393         393           393             117  ...  58400.0  58600.0  57400.0\n",
              "394         394           394             116  ...  58800.0  59700.0  58300.0\n",
              "395         395           395             115  ...  59600.0  60000.0  59100.0\n",
              "396         396           396             114  ...  60400.0  61000.0  59900.0\n",
              "397         397           397             113  ...  59500.0  59600.0  58900.0\n",
              "398         398           398             112  ...  59100.0  60700.0  59000.0\n",
              "399         399           399             111  ...  61900.0  62000.0  61000.0\n",
              "400         400           400             110  ...  62000.0  62800.0  61700.0\n",
              "401         401           401             109  ...  62000.0  62400.0  61200.0\n",
              "402         402           402             108  ...  60500.0  62600.0  60400.0\n",
              "403         403           403             107  ...  61800.0  61800.0  60700.0\n",
              "404         404           404             106  ...  59400.0  59400.0  58300.0\n",
              "405         405           405             105  ...  59100.0  59700.0  58800.0\n",
              "406         406           406             104  ...  58800.0  58800.0  56800.0\n",
              "407         407           407             103  ...  57800.0  58400.0  56400.0\n",
              "408         408           408             102  ...  55500.0  57400.0  55200.0\n",
              "409         409           409             101  ...  57100.0  59000.0  56800.0\n",
              "\n",
              "[20 rows x 10 columns]"
            ]
          },
          "metadata": {
            "tags": []
          },
          "execution_count": 158
        }
      ]
    },
    {
      "cell_type": "code",
      "metadata": {
        "id": "Xz4BBU40kzbr",
        "colab_type": "code",
        "colab": {}
      },
      "source": [
        ""
      ],
      "execution_count": null,
      "outputs": []
    },
    {
      "cell_type": "code",
      "metadata": {
        "id": "-iiTWB72X4Uf",
        "colab_type": "code",
        "colab": {
          "base_uri": "https://localhost:8080/",
          "height": 265
        },
        "outputId": "7de9d6b9-c65f-4101-a3e9-50d6d50779bd"
      },
      "source": [
        "import matplotlib.pyplot as plt\n",
        "\n",
        "plt.rcParams[\"figure.figsize\"] = (14,4)\n",
        "plt.plot(data['dif'])\n",
        "plt.show()"
      ],
      "execution_count": null,
      "outputs": [
        {
          "output_type": "display_data",
          "data": {
            "image/png": "[encoded data removed]",
            "text/plain": [
              "<Figure size 1008x288 with 1 Axes>"
            ]
          },
          "metadata": {
            "tags": [],
            "needs_background": "light"
          }
        }
      ]
    },
    {
      "cell_type": "code",
      "metadata": {
        "id": "m_rvdiexDB7g",
        "colab_type": "code",
        "colab": {}
      },
      "source": [
        "y_data = data.loc[1:501, 'dif']  # y는 종가의 차이로 전날에 영향을 받는다고 가정한다"
      ],
      "execution_count": null,
      "outputs": []
    },
    {
      "cell_type": "code",
      "metadata": {
        "id": "TZyymEDpNVUS",
        "colab_type": "code",
        "colab": {
          "base_uri": "https://localhost:8080/",
          "height": 210
        },
        "outputId": "8c22bc6e-03db-4b54-e2e5-ff1fd73db01d"
      },
      "source": [
        "data.loc[401,:] # y_data의 validation 기준일은 20년 1월 21이고 종가는 61400원이고 전날 대비 1000원 하락했다."
      ],
      "execution_count": null,
      "outputs": [
        {
          "output_type": "execute_result",
          "data": {
            "text/plain": [
              "Unnamed: 0                        401\n",
              "Unnamed: 0.1                      401\n",
              "Unnamed: 0.1.1                    109\n",
              "day               2020-01-21 00:00:00\n",
              "close                           61400\n",
              "dif                             -1000\n",
              "volume                    1.11427e+07\n",
              "start                           62000\n",
              "high                            62400\n",
              "low                             61200\n",
              "Name: 401, dtype: object"
            ]
          },
          "metadata": {
            "tags": []
          },
          "execution_count": 131
        }
      ]
    },
    {
      "cell_type": "code",
      "metadata": {
        "id": "F5q6hoaKEDMZ",
        "colab_type": "code",
        "colab": {}
      },
      "source": [
        "x_data = data.loc[0:500, ['close', 'volume', 'start', 'high', 'low']]"
      ],
      "execution_count": null,
      "outputs": []
    },
    {
      "cell_type": "code",
      "metadata": {
        "id": "bwmAeyrHG88i",
        "colab_type": "code",
        "colab": {}
      },
      "source": [
        "x_data  = np.asarray(x_data, dtype=float)"
      ],
      "execution_count": null,
      "outputs": []
    },
    {
      "cell_type": "code",
      "metadata": {
        "id": "OrmQFWNBHSzQ",
        "colab_type": "code",
        "colab": {}
      },
      "source": [
        "y_data  = np.asarray(y_data, dtype=float)"
      ],
      "execution_count": null,
      "outputs": []
    },
    {
      "cell_type": "code",
      "metadata": {
        "id": "WtZobQvhET3R",
        "colab_type": "code",
        "colab": {
          "base_uri": "https://localhost:8080/",
          "height": 34
        },
        "outputId": "1688ef3a-d475-4cd7-a7fe-d27e236a326d"
      },
      "source": [
        "print(x_data.shape, y_data.shape)"
      ],
      "execution_count": null,
      "outputs": [
        {
          "output_type": "stream",
          "text": [
            "(501, 5) (501,)\n"
          ],
          "name": "stdout"
        }
      ]
    },
    {
      "cell_type": "code",
      "metadata": {
        "id": "fMrEGocVEutQ",
        "colab_type": "code",
        "colab": {
          "base_uri": "https://localhost:8080/",
          "height": 34
        },
        "outputId": "f2017194-f14c-43c0-97d2-43b6e66a6377"
      },
      "source": [
        "x_train = x_data[0:400]\n",
        "x_val = x_data[400:500]\n",
        "print(x_train.shape, x_val.shape)"
      ],
      "execution_count": null,
      "outputs": [
        {
          "output_type": "stream",
          "text": [
            "(400, 5) (100, 5)\n"
          ],
          "name": "stdout"
        }
      ]
    },
    {
      "cell_type": "code",
      "metadata": {
        "id": "k01MIhjFGUDA",
        "colab_type": "code",
        "colab": {}
      },
      "source": [
        "y_train = y_data[0:400]\n",
        "y_val = y_data[400:500]"
      ],
      "execution_count": null,
      "outputs": []
    },
    {
      "cell_type": "code",
      "metadata": {
        "id": "QCAss94TOIen",
        "colab_type": "code",
        "colab": {
          "base_uri": "https://localhost:8080/",
          "height": 34
        },
        "outputId": "742ce96c-2a23-4b72-831f-c765a80fd500"
      },
      "source": [
        "y_val[0]"
      ],
      "execution_count": null,
      "outputs": [
        {
          "output_type": "execute_result",
          "data": {
            "text/plain": [
              "-1000.0"
            ]
          },
          "metadata": {
            "tags": []
          },
          "execution_count": 138
        }
      ]
    },
    {
      "cell_type": "code",
      "metadata": {
        "id": "xmhzghykH3ba",
        "colab_type": "code",
        "colab": {}
      },
      "source": [
        "mean = np.mean(x_train, axis=0)\n",
        "std = np.std(x_train, axis=0)\n",
        "\n",
        "x_train = (x_train-mean)/std\n",
        "\n",
        "x_val = (x_val-mean)/std"
      ],
      "execution_count": null,
      "outputs": []
    },
    {
      "cell_type": "code",
      "metadata": {
        "id": "aNlIkAiYJQVp",
        "colab_type": "code",
        "colab": {
          "base_uri": "https://localhost:8080/",
          "height": 105
        },
        "outputId": "fb653a17-3ae4-43a5-fb85-c07e771b9335"
      },
      "source": [
        "x_train[0:5]"
      ],
      "execution_count": null,
      "outputs": [
        {
          "output_type": "execute_result",
          "data": {
            "text/plain": [
              "array([[ 1.2268386 ,  0.49281082,  1.03245529,  1.21973112,  1.01758591],\n",
              "       [ 1.17788744, -0.31375125,  1.10571587,  1.09754112,  1.20267445],\n",
              "       [ 1.2268386 , -0.46737248,  1.17897645,  1.14641712,  1.12863903],\n",
              "       [ 1.05550952,  0.62879006,  1.34991781,  1.24416912,  1.1533175 ],\n",
              "       [ 0.82299148,  1.45763133,  0.95919471,  0.90203712,  0.93121126]])"
            ]
          },
          "metadata": {
            "tags": []
          },
          "execution_count": 140
        }
      ]
    },
    {
      "cell_type": "code",
      "metadata": {
        "id": "92flMAWC9Rp3",
        "colab_type": "code",
        "colab": {}
      },
      "source": [
        "x_train = x_train.reshape(-1,1,5) \n",
        "x_val = x_val.reshape(-1,1,5) # LSTM으로 들어가기 위해서 자료의 형태를 맞추어 준다. (샘플수, 타입스텝 수, 각 타입스텝의 특성수 )"
      ],
      "execution_count": null,
      "outputs": []
    },
    {
      "cell_type": "code",
      "metadata": {
        "id": "P3mJufRoJcfR",
        "colab_type": "code",
        "colab": {
          "base_uri": "https://localhost:8080/",
          "height": 263
        },
        "outputId": "9b7fe872-b623-4b02-fd05-13e542a8b62c"
      },
      "source": [
        "x_train[0:5]"
      ],
      "execution_count": null,
      "outputs": [
        {
          "output_type": "execute_result",
          "data": {
            "text/plain": [
              "array([[[ 1.2268386 ,  0.49281082,  1.03245529,  1.21973112,\n",
              "          1.01758591]],\n",
              "\n",
              "       [[ 1.17788744, -0.31375125,  1.10571587,  1.09754112,\n",
              "          1.20267445]],\n",
              "\n",
              "       [[ 1.2268386 , -0.46737248,  1.17897645,  1.14641712,\n",
              "          1.12863903]],\n",
              "\n",
              "       [[ 1.05550952,  0.62879006,  1.34991781,  1.24416912,\n",
              "          1.1533175 ]],\n",
              "\n",
              "       [[ 0.82299148,  1.45763133,  0.95919471,  0.90203712,\n",
              "          0.93121126]]])"
            ]
          },
          "metadata": {
            "tags": []
          },
          "execution_count": 142
        }
      ]
    },
    {
      "cell_type": "code",
      "metadata": {
        "id": "xRv-BVd2OBXm",
        "colab_type": "code",
        "colab": {
          "base_uri": "https://localhost:8080/",
          "height": 34
        },
        "outputId": "3217b027-70f3-4cd1-c519-ab65d4adbbd2"
      },
      "source": [
        "print(x_train.shape)"
      ],
      "execution_count": null,
      "outputs": [
        {
          "output_type": "stream",
          "text": [
            "(400, 1, 5)\n"
          ],
          "name": "stdout"
        }
      ]
    },
    {
      "cell_type": "code",
      "metadata": {
        "id": "Sw5Qs4QXvv-W",
        "colab_type": "code",
        "colab": {}
      },
      "source": [
        "from keras.layers import LSTM, Dense, Input\n",
        "from keras.models import Model\n",
        "from keras.models import Sequential\n",
        "from keras import layers\n",
        "from keras import Input"
      ],
      "execution_count": null,
      "outputs": []
    },
    {
      "cell_type": "code",
      "metadata": {
        "id": "Udm0x98VwXg9",
        "colab_type": "code",
        "colab": {
          "base_uri": "https://localhost:8080/",
          "height": 298
        },
        "outputId": "f9a04a31-0980-43b0-aef9-57a66ad6b478"
      },
      "source": [
        "input1 = Input(shape=(1,5))\n",
        "#dense1 = LSTM(120)(input1)\n",
        "dense1 = LSTM(30)(input1)\n",
        "dense1 = Dense(20)(dense1)\n",
        "#model.add(LSTM(60, input_shape=(1,5)))  # input_shape는 타임스텝수, 특성의 수\n",
        "#model.add(LSTM(20))\n",
        "output = Dense(1)(dense1)\n",
        "\n",
        "model = Model(inputs= input1, outputs=output)\n",
        "model.summary()"
      ],
      "execution_count": null,
      "outputs": [
        {
          "output_type": "stream",
          "text": [
            "Model: \"model_3\"\n",
            "_________________________________________________________________\n",
            "Layer (type)                 Output Shape              Param #   \n",
            "=================================================================\n",
            "input_3 (InputLayer)         (None, 1, 5)              0         \n",
            "_________________________________________________________________\n",
            "lstm_4 (LSTM)                (None, 30)                4320      \n",
            "_________________________________________________________________\n",
            "dense_9 (Dense)              (None, 20)                620       \n",
            "_________________________________________________________________\n",
            "dense_10 (Dense)             (None, 1)                 21        \n",
            "=================================================================\n",
            "Total params: 4,961\n",
            "Trainable params: 4,961\n",
            "Non-trainable params: 0\n",
            "_________________________________________________________________\n"
          ],
          "name": "stdout"
        }
      ]
    },
    {
      "cell_type": "code",
      "metadata": {
        "id": "0bV3JQCucSrx",
        "colab_type": "code",
        "colab": {}
      },
      "source": [
        "model.compile(loss='mse', optimizer='adam', metrics=['mae'])"
      ],
      "execution_count": null,
      "outputs": []
    },
    {
      "cell_type": "code",
      "metadata": {
        "id": "MguGKMOv3ghK",
        "colab_type": "code",
        "colab": {}
      },
      "source": [
        "callback_list = [tf.keras.callbacks.ModelCheckpoint(filepath='LSTM_stock_model.h5', monitor='val_mae', save_best_only=True),tf.keras.callbacks.EarlyStopping(patience=1)]\n",
        "history = model.fit(x_train, y_train, validation_data = (x_val, y_val), epochs=500, verbose=0)"
      ],
      "execution_count": null,
      "outputs": []
    },
    {
      "cell_type": "code",
      "metadata": {
        "id": "Z67OwkNvuqXy",
        "colab_type": "code",
        "colab": {}
      },
      "source": [
        ""
      ],
      "execution_count": null,
      "outputs": []
    },
    {
      "cell_type": "code",
      "metadata": {
        "id": "47kFCJOcwc1e",
        "colab_type": "code",
        "colab": {
          "base_uri": "https://localhost:8080/",
          "height": 276
        },
        "outputId": "7c863ad4-2be2-4b95-a87e-d34b1f71f3d7"
      },
      "source": [
        "#plt.plot(history.history['loss'], 'b') \n",
        "plt.plot(history.history['val_loss'], 'r')\n",
        "plt.show()"
      ],
      "execution_count": null,
      "outputs": [
        {
          "output_type": "display_data",
          "data": {
            "image/png": "[encoded data removed]",
            "text/plain": [
              "<Figure size 1008x288 with 1 Axes>"
            ]
          },
          "metadata": {
            "tags": [],
            "needs_background": "light"
          }
        }
      ]
    },
    {
      "cell_type": "code",
      "metadata": {
        "id": "RAkxiDiB-iwj",
        "colab_type": "code",
        "colab": {
          "base_uri": "https://localhost:8080/",
          "height": 265
        },
        "outputId": "8e62d490-c804-4bb3-8bd9-7919519680cc"
      },
      "source": [
        "#plt.plot(history.history['mae'], 'b') \n",
        "plt.plot(history.history['val_mae'], 'r')\n",
        "plt.show()"
      ],
      "execution_count": null,
      "outputs": [
        {
          "output_type": "display_data",
          "data": {
            "image/png": "[encoded data removed]",
            "text/plain": [
              "<Figure size 1008x288 with 1 Axes>"
            ]
          },
          "metadata": {
            "tags": [],
            "needs_background": "light"
          }
        }
      ]
    },
    {
      "cell_type": "code",
      "metadata": {
        "id": "wm_XGo-LO9RW",
        "colab_type": "code",
        "colab": {}
      },
      "source": [
        "y_hat = model.predict(x_val)"
      ],
      "execution_count": null,
      "outputs": []
    },
    {
      "cell_type": "code",
      "metadata": {
        "id": "_CIwWWAjcBTU",
        "colab_type": "code",
        "colab": {
          "base_uri": "https://localhost:8080/",
          "height": 265
        },
        "outputId": "2e413658-0cdb-45e1-ba39-3019c16da4d4"
      },
      "source": [
        "plt.plot(y_hat, 'b') \n",
        "plt.plot(y_val, 'r')\n",
        "plt.show()"
      ],
      "execution_count": null,
      "outputs": [
        {
          "output_type": "display_data",
          "data": {
            "image/png": "[encoded data removed]",
            "text/plain": [
              "<Figure size 1008x288 with 1 Axes>"
            ]
          },
          "metadata": {
            "tags": [],
            "needs_background": "light"
          }
        }
      ]
    },
    {
      "cell_type": "code",
      "metadata": {
        "id": "INGNzBi_cBW1",
        "colab_type": "code",
        "colab": {
          "base_uri": "https://localhost:8080/",
          "height": 193
        },
        "outputId": "3aad32c8-6af5-4daf-ca3b-18dc84639f42"
      },
      "source": [
        "data.loc[400,:] #20년 1월20일 종가는 62400원이었다"
      ],
      "execution_count": null,
      "outputs": [
        {
          "output_type": "execute_result",
          "data": {
            "text/plain": [
              "Unnamed: 0                      400\n",
              "Unnamed: 0.1                    110\n",
              "day             2020-01-20 00:00:00\n",
              "close                         62400\n",
              "dif                            1100\n",
              "volume                  1.25289e+07\n",
              "start                         62000\n",
              "high                          62800\n",
              "low                           61700\n",
              "Name: 400, dtype: object"
            ]
          },
          "metadata": {
            "tags": []
          },
          "execution_count": 208
        }
      ]
    },
    {
      "cell_type": "code",
      "metadata": {
        "id": "5iQ3DpgacBZm",
        "colab_type": "code",
        "colab": {}
      },
      "source": [
        "price_hats = []\n",
        "price_start = 62400.0\n",
        "\n",
        "for i in range(0, len(y_hat)):\n",
        "  price_start = price_start + y_hat[i]\n",
        "  price_hats.append(price_start)\n"
      ],
      "execution_count": null,
      "outputs": []
    },
    {
      "cell_type": "code",
      "metadata": {
        "id": "seycvzOnRh3v",
        "colab_type": "code",
        "colab": {
          "base_uri": "https://localhost:8080/",
          "height": 265
        },
        "outputId": "8308a057-f8bf-4511-ff5e-44f298b276d0"
      },
      "source": [
        "plt.plot(price_hats, 'ro')\n",
        "plt.show()"
      ],
      "execution_count": null,
      "outputs": [
        {
          "output_type": "display_data",
          "data": {
            "image/png": "[encoded data removed]",
            "text/plain": [
              "<Figure size 1008x288 with 1 Axes>"
            ]
          },
          "metadata": {
            "tags": [],
            "needs_background": "light"
          }
        }
      ]
    },
    {
      "cell_type": "code",
      "metadata": {
        "id": "3HGM6UlgRxwV",
        "colab_type": "code",
        "colab": {
          "base_uri": "https://localhost:8080/",
          "height": 402
        },
        "outputId": "6c82dc87-e311-4a81-f121-8162b7323de7"
      },
      "source": [
        " data.loc[401:500,['day','close']] # 20년 1월21일 부터 시작하여 100일간 종가 필요"
      ],
      "execution_count": null,
      "outputs": [
        {
          "output_type": "execute_result",
          "data": {
            "text/html": [
              "<div>\n",
              "<style scoped>\n",
              "    .dataframe tbody tr th:only-of-type {\n",
              "        vertical-align: middle;\n",
              "    }\n",
              "\n",
              "    .dataframe tbody tr th {\n",
              "        vertical-align: top;\n",
              "    }\n",
              "\n",
              "    .dataframe thead th {\n",
              "        text-align: right;\n",
              "    }\n",
              "</style>\n",
              "<table border=\"1\" class=\"dataframe\">\n",
              "  <thead>\n",
              "    <tr style=\"text-align: right;\">\n",
              "      <th></th>\n",
              "      <th>day</th>\n",
              "      <th>close</th>\n",
              "    </tr>\n",
              "  </thead>\n",
              "  <tbody>\n",
              "    <tr>\n",
              "      <th>401</th>\n",
              "      <td>2020-01-21 00:00:00</td>\n",
              "      <td>61400.0</td>\n",
              "    </tr>\n",
              "    <tr>\n",
              "      <th>402</th>\n",
              "      <td>2020-01-22 00:00:00</td>\n",
              "      <td>62300.0</td>\n",
              "    </tr>\n",
              "    <tr>\n",
              "      <th>403</th>\n",
              "      <td>2020-01-23 00:00:00</td>\n",
              "      <td>60800.0</td>\n",
              "    </tr>\n",
              "    <tr>\n",
              "      <th>404</th>\n",
              "      <td>2020-01-28 00:00:00</td>\n",
              "      <td>58800.0</td>\n",
              "    </tr>\n",
              "    <tr>\n",
              "      <th>405</th>\n",
              "      <td>2020-01-29 00:00:00</td>\n",
              "      <td>59100.0</td>\n",
              "    </tr>\n",
              "    <tr>\n",
              "      <th>...</th>\n",
              "      <td>...</td>\n",
              "      <td>...</td>\n",
              "    </tr>\n",
              "    <tr>\n",
              "      <th>496</th>\n",
              "      <td>2020-06-10 00:00:00</td>\n",
              "      <td>55400.0</td>\n",
              "    </tr>\n",
              "    <tr>\n",
              "      <th>497</th>\n",
              "      <td>2020-06-11 00:00:00</td>\n",
              "      <td>54300.0</td>\n",
              "    </tr>\n",
              "    <tr>\n",
              "      <th>498</th>\n",
              "      <td>2020-06-12 00:00:00</td>\n",
              "      <td>52300.0</td>\n",
              "    </tr>\n",
              "    <tr>\n",
              "      <th>499</th>\n",
              "      <td>2020-06-15 00:00:00</td>\n",
              "      <td>49900.0</td>\n",
              "    </tr>\n",
              "    <tr>\n",
              "      <th>500</th>\n",
              "      <td>2020-06-16 00:00:00</td>\n",
              "      <td>52100.0</td>\n",
              "    </tr>\n",
              "  </tbody>\n",
              "</table>\n",
              "<p>100 rows × 2 columns</p>\n",
              "</div>"
            ],
            "text/plain": [
              "                     day    close\n",
              "401  2020-01-21 00:00:00  61400.0\n",
              "402  2020-01-22 00:00:00  62300.0\n",
              "403  2020-01-23 00:00:00  60800.0\n",
              "404  2020-01-28 00:00:00  58800.0\n",
              "405  2020-01-29 00:00:00  59100.0\n",
              "..                   ...      ...\n",
              "496  2020-06-10 00:00:00  55400.0\n",
              "497  2020-06-11 00:00:00  54300.0\n",
              "498  2020-06-12 00:00:00  52300.0\n",
              "499  2020-06-15 00:00:00  49900.0\n",
              "500  2020-06-16 00:00:00  52100.0\n",
              "\n",
              "[100 rows x 2 columns]"
            ]
          },
          "metadata": {
            "tags": []
          },
          "execution_count": 211
        }
      ]
    },
    {
      "cell_type": "code",
      "metadata": {
        "id": "5oLiYC5QVi4H",
        "colab_type": "code",
        "colab": {}
      },
      "source": [
        "price_real = data.loc[401:500, 'close']\n",
        "price_real = np.asarray(price_real, dtype=float)"
      ],
      "execution_count": null,
      "outputs": []
    },
    {
      "cell_type": "code",
      "metadata": {
        "id": "Q2gak5LKV0Hc",
        "colab_type": "code",
        "colab": {
          "base_uri": "https://localhost:8080/",
          "height": 265
        },
        "outputId": "bb7cc860-8708-42de-f0cf-c405a20bdd25"
      },
      "source": [
        "plt.plot(price_real, 'ro')\n",
        "plt.plot(price_hats, 'bo')\n",
        "plt.show()"
      ],
      "execution_count": null,
      "outputs": [
        {
          "output_type": "display_data",
          "data": {
            "image/png": "[encoded data removed]",
            "text/plain": [
              "<Figure size 1008x288 with 1 Axes>"
            ]
          },
          "metadata": {
            "tags": [],
            "needs_background": "light"
          }
        }
      ]
    },
    {
      "cell_type": "code",
      "metadata": {
        "id": "IPgOXCN1cwPT",
        "colab_type": "code",
        "colab": {}
      },
      "source": [
        ""
      ],
      "execution_count": null,
      "outputs": []
    },
    {
      "cell_type": "markdown",
      "metadata": {
        "id": "AkY3AN8gcwuL",
        "colab_type": "text"
      },
      "source": [
        "아래는 Colab 구글 드라이브에 Data를 저장하고 다운로드 하는 방법이다."
      ]
    },
    {
      "cell_type": "code",
      "metadata": {
        "id": "AYAZxixnZyD-",
        "colab_type": "code",
        "colab": {
          "base_uri": "https://localhost:8080/",
          "height": 125
        },
        "outputId": "70e6ee3b-8435-4a7b-8e46-576e0c11ef48"
      },
      "source": [
        "from google.colab import drive\n",
        "drive.mount('/gdrive')"
      ],
      "execution_count": 1,
      "outputs": [
        {
          "output_type": "stream",
          "text": [
            "Go to this URL in a browser: https://accounts.google.com/o/oauth2/auth?client_id=947318989803-6bn6qk8qdgf4n4g3pfee6491hc0brc4i.apps.googleusercontent.com&redirect_uri=urn%3aietf%3awg%3aoauth%3a2.0%3aoob&response_type=code&scope=email%20https%3a%2f%2fwww.googleapis.com%2fauth%2fdocs.test%20https%3a%2f%2fwww.googleapis.com%2fauth%2fdrive%20https%3a%2f%2fwww.googleapis.com%2fauth%2fdrive.photos.readonly%20https%3a%2f%2fwww.googleapis.com%2fauth%2fpeopleapi.readonly\n",
            "\n",
            "Enter your authorization code:\n",
            "··········\n",
            "Mounted at /gdrive\n"
          ],
          "name": "stdout"
        }
      ]
    },
    {
      "cell_type": "code",
      "metadata": {
        "id": "qYW2rSHAaoqN",
        "colab_type": "code",
        "colab": {
          "base_uri": "https://localhost:8080/",
          "height": 34
        },
        "outputId": "d3e3d41e-e394-4314-ca5b-9511953374ba"
      },
      "source": [
        "!ls /gdrive"
      ],
      "execution_count": null,
      "outputs": [
        {
          "output_type": "stream",
          "text": [
            "'My Drive'\n"
          ],
          "name": "stdout"
        }
      ]
    },
    {
      "cell_type": "code",
      "metadata": {
        "id": "7JcfXAVUa7gb",
        "colab_type": "code",
        "colab": {}
      },
      "source": [
        "data.to_csv('/gdrive/My Drive/data.txt')"
      ],
      "execution_count": null,
      "outputs": []
    },
    {
      "cell_type": "code",
      "metadata": {
        "id": "H0Q0MMZmcV7e",
        "colab_type": "code",
        "colab": {
          "base_uri": "https://localhost:8080/",
          "height": 34
        },
        "outputId": "a2d194e9-1474-4bf6-f3b2-ca4945cb26aa"
      },
      "source": [
        "!ls /gdrive/My\\ Drive/data.txt"
      ],
      "execution_count": 2,
      "outputs": [
        {
          "output_type": "stream",
          "text": [
            "'/gdrive/My Drive/data.txt'\n"
          ],
          "name": "stdout"
        }
      ]
    },
    {
      "cell_type": "code",
      "metadata": {
        "id": "-veZ873wbx4J",
        "colab_type": "code",
        "colab": {}
      },
      "source": [
        "import pandas as pd"
      ],
      "execution_count": 3,
      "outputs": []
    },
    {
      "cell_type": "code",
      "metadata": {
        "id": "4WnDuC9ncjd-",
        "colab_type": "code",
        "colab": {}
      },
      "source": [
        "data = pd.read_csv('/gdrive/My Drive/data.txt')"
      ],
      "execution_count": 4,
      "outputs": []
    },
    {
      "cell_type": "code",
      "metadata": {
        "id": "ylsPODHXctHc",
        "colab_type": "code",
        "colab": {
          "base_uri": "https://localhost:8080/",
          "height": 343
        },
        "outputId": "f7d5212b-ffb7-4323-b9ae-bad00271e7e3"
      },
      "source": [
        "data.tail(10) # 2018년 6월1일부터 2020년 6월30일까지 삼성전자 주가 자료이다"
      ],
      "execution_count": 5,
      "outputs": [
        {
          "output_type": "execute_result",
          "data": {
            "text/html": [
              "<div>\n",
              "<style scoped>\n",
              "    .dataframe tbody tr th:only-of-type {\n",
              "        vertical-align: middle;\n",
              "    }\n",
              "\n",
              "    .dataframe tbody tr th {\n",
              "        vertical-align: top;\n",
              "    }\n",
              "\n",
              "    .dataframe thead th {\n",
              "        text-align: right;\n",
              "    }\n",
              "</style>\n",
              "<table border=\"1\" class=\"dataframe\">\n",
              "  <thead>\n",
              "    <tr style=\"text-align: right;\">\n",
              "      <th></th>\n",
              "      <th>Unnamed: 0</th>\n",
              "      <th>Unnamed: 0.1</th>\n",
              "      <th>Unnamed: 0.1.1</th>\n",
              "      <th>day</th>\n",
              "      <th>close</th>\n",
              "      <th>dif</th>\n",
              "      <th>volume</th>\n",
              "      <th>start</th>\n",
              "      <th>high</th>\n",
              "      <th>low</th>\n",
              "    </tr>\n",
              "  </thead>\n",
              "  <tbody>\n",
              "    <tr>\n",
              "      <th>501</th>\n",
              "      <td>501</td>\n",
              "      <td>501</td>\n",
              "      <td>9</td>\n",
              "      <td>2020-06-17 00:00:00</td>\n",
              "      <td>52200.0</td>\n",
              "      <td>100.0</td>\n",
              "      <td>26672595.0</td>\n",
              "      <td>52100.0</td>\n",
              "      <td>52900.0</td>\n",
              "      <td>51300.0</td>\n",
              "    </tr>\n",
              "    <tr>\n",
              "      <th>502</th>\n",
              "      <td>502</td>\n",
              "      <td>502</td>\n",
              "      <td>8</td>\n",
              "      <td>2020-06-18 00:00:00</td>\n",
              "      <td>52300.0</td>\n",
              "      <td>100.0</td>\n",
              "      <td>15982926.0</td>\n",
              "      <td>52200.0</td>\n",
              "      <td>52300.0</td>\n",
              "      <td>51600.0</td>\n",
              "    </tr>\n",
              "    <tr>\n",
              "      <th>503</th>\n",
              "      <td>503</td>\n",
              "      <td>503</td>\n",
              "      <td>7</td>\n",
              "      <td>2020-06-19 00:00:00</td>\n",
              "      <td>52900.0</td>\n",
              "      <td>600.0</td>\n",
              "      <td>18157985.0</td>\n",
              "      <td>52600.0</td>\n",
              "      <td>52900.0</td>\n",
              "      <td>51600.0</td>\n",
              "    </tr>\n",
              "    <tr>\n",
              "      <th>504</th>\n",
              "      <td>504</td>\n",
              "      <td>504</td>\n",
              "      <td>6</td>\n",
              "      <td>2020-06-22 00:00:00</td>\n",
              "      <td>52000.0</td>\n",
              "      <td>-900.0</td>\n",
              "      <td>13801350.0</td>\n",
              "      <td>52000.0</td>\n",
              "      <td>52600.0</td>\n",
              "      <td>51800.0</td>\n",
              "    </tr>\n",
              "    <tr>\n",
              "      <th>505</th>\n",
              "      <td>505</td>\n",
              "      <td>505</td>\n",
              "      <td>5</td>\n",
              "      <td>2020-06-23 00:00:00</td>\n",
              "      <td>51400.0</td>\n",
              "      <td>-600.0</td>\n",
              "      <td>18086152.0</td>\n",
              "      <td>52500.0</td>\n",
              "      <td>52800.0</td>\n",
              "      <td>51100.0</td>\n",
              "    </tr>\n",
              "    <tr>\n",
              "      <th>506</th>\n",
              "      <td>506</td>\n",
              "      <td>506</td>\n",
              "      <td>4</td>\n",
              "      <td>2020-06-24 00:00:00</td>\n",
              "      <td>52900.0</td>\n",
              "      <td>1500.0</td>\n",
              "      <td>24519552.0</td>\n",
              "      <td>51900.0</td>\n",
              "      <td>53900.0</td>\n",
              "      <td>51600.0</td>\n",
              "    </tr>\n",
              "    <tr>\n",
              "      <th>507</th>\n",
              "      <td>507</td>\n",
              "      <td>507</td>\n",
              "      <td>3</td>\n",
              "      <td>2020-06-25 00:00:00</td>\n",
              "      <td>51900.0</td>\n",
              "      <td>-1000.0</td>\n",
              "      <td>18541624.0</td>\n",
              "      <td>52100.0</td>\n",
              "      <td>53000.0</td>\n",
              "      <td>51900.0</td>\n",
              "    </tr>\n",
              "    <tr>\n",
              "      <th>508</th>\n",
              "      <td>508</td>\n",
              "      <td>508</td>\n",
              "      <td>2</td>\n",
              "      <td>2020-06-26 00:00:00</td>\n",
              "      <td>53300.0</td>\n",
              "      <td>1400.0</td>\n",
              "      <td>21575360.0</td>\n",
              "      <td>52800.0</td>\n",
              "      <td>53900.0</td>\n",
              "      <td>52200.0</td>\n",
              "    </tr>\n",
              "    <tr>\n",
              "      <th>509</th>\n",
              "      <td>509</td>\n",
              "      <td>509</td>\n",
              "      <td>1</td>\n",
              "      <td>2020-06-29 00:00:00</td>\n",
              "      <td>52400.0</td>\n",
              "      <td>-900.0</td>\n",
              "      <td>17776925.0</td>\n",
              "      <td>52500.0</td>\n",
              "      <td>53200.0</td>\n",
              "      <td>52000.0</td>\n",
              "    </tr>\n",
              "    <tr>\n",
              "      <th>510</th>\n",
              "      <td>510</td>\n",
              "      <td>510</td>\n",
              "      <td>0</td>\n",
              "      <td>2020-06-30 00:00:00</td>\n",
              "      <td>52800.0</td>\n",
              "      <td>400.0</td>\n",
              "      <td>21157172.0</td>\n",
              "      <td>53900.0</td>\n",
              "      <td>53900.0</td>\n",
              "      <td>52800.0</td>\n",
              "    </tr>\n",
              "  </tbody>\n",
              "</table>\n",
              "</div>"
            ],
            "text/plain": [
              "     Unnamed: 0  Unnamed: 0.1  Unnamed: 0.1.1  ...    start     high      low\n",
              "501         501           501               9  ...  52100.0  52900.0  51300.0\n",
              "502         502           502               8  ...  52200.0  52300.0  51600.0\n",
              "503         503           503               7  ...  52600.0  52900.0  51600.0\n",
              "504         504           504               6  ...  52000.0  52600.0  51800.0\n",
              "505         505           505               5  ...  52500.0  52800.0  51100.0\n",
              "506         506           506               4  ...  51900.0  53900.0  51600.0\n",
              "507         507           507               3  ...  52100.0  53000.0  51900.0\n",
              "508         508           508               2  ...  52800.0  53900.0  52200.0\n",
              "509         509           509               1  ...  52500.0  53200.0  52000.0\n",
              "510         510           510               0  ...  53900.0  53900.0  52800.0\n",
              "\n",
              "[10 rows x 10 columns]"
            ]
          },
          "metadata": {
            "tags": []
          },
          "execution_count": 5
        }
      ]
    },
    {
      "cell_type": "code",
      "metadata": {
        "id": "1P6KDlWonpE3",
        "colab_type": "code",
        "colab": {}
      },
      "source": [
        ""
      ],
      "execution_count": null,
      "outputs": []
    },
    {
      "cell_type": "code",
      "metadata": {
        "id": "G_Waz2bGnpri",
        "colab_type": "code",
        "colab": {}
      },
      "source": [
        ""
      ],
      "execution_count": null,
      "outputs": []
    },
    {
      "cell_type": "markdown",
      "metadata": {
        "id": "X9zbRFkTnp2a",
        "colab_type": "text"
      },
      "source": [
        "다른 data 셀을 만들려고 한다."
      ]
    },
    {
      "cell_type": "code",
      "metadata": {
        "id": "1ppgEaVsntlp",
        "colab_type": "code",
        "colab": {}
      },
      "source": [
        "data_n = data.loc[:, [\"close\", \"volume\", \"start\", \"high\", \"low\"]]"
      ],
      "execution_count": 6,
      "outputs": []
    },
    {
      "cell_type": "code",
      "metadata": {
        "id": "vZjEU_urn6B7",
        "colab_type": "code",
        "colab": {
          "base_uri": "https://localhost:8080/",
          "height": 402
        },
        "outputId": "92fd8bdc-846c-45f2-bf4b-884192349842"
      },
      "source": [
        "data_n"
      ],
      "execution_count": 7,
      "outputs": [
        {
          "output_type": "execute_result",
          "data": {
            "text/html": [
              "<div>\n",
              "<style scoped>\n",
              "    .dataframe tbody tr th:only-of-type {\n",
              "        vertical-align: middle;\n",
              "    }\n",
              "\n",
              "    .dataframe tbody tr th {\n",
              "        vertical-align: top;\n",
              "    }\n",
              "\n",
              "    .dataframe thead th {\n",
              "        text-align: right;\n",
              "    }\n",
              "</style>\n",
              "<table border=\"1\" class=\"dataframe\">\n",
              "  <thead>\n",
              "    <tr style=\"text-align: right;\">\n",
              "      <th></th>\n",
              "      <th>close</th>\n",
              "      <th>volume</th>\n",
              "      <th>start</th>\n",
              "      <th>high</th>\n",
              "      <th>low</th>\n",
              "    </tr>\n",
              "  </thead>\n",
              "  <tbody>\n",
              "    <tr>\n",
              "      <th>0</th>\n",
              "      <td>51300.0</td>\n",
              "      <td>13038499.0</td>\n",
              "      <td>50500.0</td>\n",
              "      <td>51700.0</td>\n",
              "      <td>49950.0</td>\n",
              "    </tr>\n",
              "    <tr>\n",
              "      <th>1</th>\n",
              "      <td>51100.0</td>\n",
              "      <td>9767171.0</td>\n",
              "      <td>50800.0</td>\n",
              "      <td>51200.0</td>\n",
              "      <td>50700.0</td>\n",
              "    </tr>\n",
              "    <tr>\n",
              "      <th>2</th>\n",
              "      <td>51300.0</td>\n",
              "      <td>9144100.0</td>\n",
              "      <td>51100.0</td>\n",
              "      <td>51400.0</td>\n",
              "      <td>50400.0</td>\n",
              "    </tr>\n",
              "    <tr>\n",
              "      <th>3</th>\n",
              "      <td>50600.0</td>\n",
              "      <td>13590016.0</td>\n",
              "      <td>51800.0</td>\n",
              "      <td>51800.0</td>\n",
              "      <td>50500.0</td>\n",
              "    </tr>\n",
              "    <tr>\n",
              "      <th>4</th>\n",
              "      <td>49650.0</td>\n",
              "      <td>16951706.0</td>\n",
              "      <td>50200.0</td>\n",
              "      <td>50400.0</td>\n",
              "      <td>49600.0</td>\n",
              "    </tr>\n",
              "    <tr>\n",
              "      <th>...</th>\n",
              "      <td>...</td>\n",
              "      <td>...</td>\n",
              "      <td>...</td>\n",
              "      <td>...</td>\n",
              "      <td>...</td>\n",
              "    </tr>\n",
              "    <tr>\n",
              "      <th>506</th>\n",
              "      <td>52900.0</td>\n",
              "      <td>24519552.0</td>\n",
              "      <td>51900.0</td>\n",
              "      <td>53900.0</td>\n",
              "      <td>51600.0</td>\n",
              "    </tr>\n",
              "    <tr>\n",
              "      <th>507</th>\n",
              "      <td>51900.0</td>\n",
              "      <td>18541624.0</td>\n",
              "      <td>52100.0</td>\n",
              "      <td>53000.0</td>\n",
              "      <td>51900.0</td>\n",
              "    </tr>\n",
              "    <tr>\n",
              "      <th>508</th>\n",
              "      <td>53300.0</td>\n",
              "      <td>21575360.0</td>\n",
              "      <td>52800.0</td>\n",
              "      <td>53900.0</td>\n",
              "      <td>52200.0</td>\n",
              "    </tr>\n",
              "    <tr>\n",
              "      <th>509</th>\n",
              "      <td>52400.0</td>\n",
              "      <td>17776925.0</td>\n",
              "      <td>52500.0</td>\n",
              "      <td>53200.0</td>\n",
              "      <td>52000.0</td>\n",
              "    </tr>\n",
              "    <tr>\n",
              "      <th>510</th>\n",
              "      <td>52800.0</td>\n",
              "      <td>21157172.0</td>\n",
              "      <td>53900.0</td>\n",
              "      <td>53900.0</td>\n",
              "      <td>52800.0</td>\n",
              "    </tr>\n",
              "  </tbody>\n",
              "</table>\n",
              "<p>511 rows × 5 columns</p>\n",
              "</div>"
            ],
            "text/plain": [
              "       close      volume    start     high      low\n",
              "0    51300.0  13038499.0  50500.0  51700.0  49950.0\n",
              "1    51100.0   9767171.0  50800.0  51200.0  50700.0\n",
              "2    51300.0   9144100.0  51100.0  51400.0  50400.0\n",
              "3    50600.0  13590016.0  51800.0  51800.0  50500.0\n",
              "4    49650.0  16951706.0  50200.0  50400.0  49600.0\n",
              "..       ...         ...      ...      ...      ...\n",
              "506  52900.0  24519552.0  51900.0  53900.0  51600.0\n",
              "507  51900.0  18541624.0  52100.0  53000.0  51900.0\n",
              "508  53300.0  21575360.0  52800.0  53900.0  52200.0\n",
              "509  52400.0  17776925.0  52500.0  53200.0  52000.0\n",
              "510  52800.0  21157172.0  53900.0  53900.0  52800.0\n",
              "\n",
              "[511 rows x 5 columns]"
            ]
          },
          "metadata": {
            "tags": []
          },
          "execution_count": 7
        }
      ]
    },
    {
      "cell_type": "code",
      "metadata": {
        "id": "mnNW7-Jwb_qG",
        "colab_type": "code",
        "colab": {}
      },
      "source": [
        "import numpy as np"
      ],
      "execution_count": 8,
      "outputs": []
    },
    {
      "cell_type": "code",
      "metadata": {
        "id": "1S2lB0n6CfEA",
        "colab_type": "code",
        "colab": {}
      },
      "source": [
        "# 변동성 데이터 만들기\n",
        "tr_list=[]\n",
        "\n",
        "for i in range(0, len(data_n)):\n",
        "  if i == 0:\n",
        "    tr = data_n.loc[i, 'high'] - data_n.loc[i, 'low']\n",
        "  else:\n",
        "    tr1 = data_n.loc[i, 'high'] - data_n.loc[i, 'low']\n",
        "    tr2 = data_n.loc[i, 'high'] - data_n.loc[i-1, 'close']\n",
        "    tr3 = data_n.loc[i, 'low'] - data_n.loc[i-1, 'close']\n",
        "    tr = max(tr1, abs(tr2), abs(tr3))\n",
        "  tr_list.append(tr)\n"
      ],
      "execution_count": 9,
      "outputs": []
    },
    {
      "cell_type": "code",
      "metadata": {
        "id": "_ZeWEOH8I2bZ",
        "colab_type": "code",
        "colab": {
          "base_uri": "https://localhost:8080/",
          "height": 34
        },
        "outputId": "fb343d65-683e-4dc2-ee5a-4d97ebcfa29c"
      },
      "source": [
        "tr_list[0]"
      ],
      "execution_count": 10,
      "outputs": [
        {
          "output_type": "execute_result",
          "data": {
            "text/plain": [
              "1750.0"
            ]
          },
          "metadata": {
            "tags": []
          },
          "execution_count": 10
        }
      ]
    },
    {
      "cell_type": "code",
      "metadata": {
        "id": "Vd3fLaB9Ir3y",
        "colab_type": "code",
        "colab": {}
      },
      "source": [
        "for i in range(0, len(data_n)):\n",
        "  data_n.loc[i,'tr'] = tr_list[i]"
      ],
      "execution_count": 11,
      "outputs": []
    },
    {
      "cell_type": "code",
      "metadata": {
        "id": "R4eoJ_EHJEYA",
        "colab_type": "code",
        "colab": {
          "base_uri": "https://localhost:8080/",
          "height": 195
        },
        "outputId": "155dda23-ceb9-40f3-abd0-787efb062b2d"
      },
      "source": [
        "data_n.head()"
      ],
      "execution_count": 12,
      "outputs": [
        {
          "output_type": "execute_result",
          "data": {
            "text/html": [
              "<div>\n",
              "<style scoped>\n",
              "    .dataframe tbody tr th:only-of-type {\n",
              "        vertical-align: middle;\n",
              "    }\n",
              "\n",
              "    .dataframe tbody tr th {\n",
              "        vertical-align: top;\n",
              "    }\n",
              "\n",
              "    .dataframe thead th {\n",
              "        text-align: right;\n",
              "    }\n",
              "</style>\n",
              "<table border=\"1\" class=\"dataframe\">\n",
              "  <thead>\n",
              "    <tr style=\"text-align: right;\">\n",
              "      <th></th>\n",
              "      <th>close</th>\n",
              "      <th>volume</th>\n",
              "      <th>start</th>\n",
              "      <th>high</th>\n",
              "      <th>low</th>\n",
              "      <th>tr</th>\n",
              "    </tr>\n",
              "  </thead>\n",
              "  <tbody>\n",
              "    <tr>\n",
              "      <th>0</th>\n",
              "      <td>51300.0</td>\n",
              "      <td>13038499.0</td>\n",
              "      <td>50500.0</td>\n",
              "      <td>51700.0</td>\n",
              "      <td>49950.0</td>\n",
              "      <td>1750.0</td>\n",
              "    </tr>\n",
              "    <tr>\n",
              "      <th>1</th>\n",
              "      <td>51100.0</td>\n",
              "      <td>9767171.0</td>\n",
              "      <td>50800.0</td>\n",
              "      <td>51200.0</td>\n",
              "      <td>50700.0</td>\n",
              "      <td>600.0</td>\n",
              "    </tr>\n",
              "    <tr>\n",
              "      <th>2</th>\n",
              "      <td>51300.0</td>\n",
              "      <td>9144100.0</td>\n",
              "      <td>51100.0</td>\n",
              "      <td>51400.0</td>\n",
              "      <td>50400.0</td>\n",
              "      <td>1000.0</td>\n",
              "    </tr>\n",
              "    <tr>\n",
              "      <th>3</th>\n",
              "      <td>50600.0</td>\n",
              "      <td>13590016.0</td>\n",
              "      <td>51800.0</td>\n",
              "      <td>51800.0</td>\n",
              "      <td>50500.0</td>\n",
              "      <td>1300.0</td>\n",
              "    </tr>\n",
              "    <tr>\n",
              "      <th>4</th>\n",
              "      <td>49650.0</td>\n",
              "      <td>16951706.0</td>\n",
              "      <td>50200.0</td>\n",
              "      <td>50400.0</td>\n",
              "      <td>49600.0</td>\n",
              "      <td>1000.0</td>\n",
              "    </tr>\n",
              "  </tbody>\n",
              "</table>\n",
              "</div>"
            ],
            "text/plain": [
              "     close      volume    start     high      low      tr\n",
              "0  51300.0  13038499.0  50500.0  51700.0  49950.0  1750.0\n",
              "1  51100.0   9767171.0  50800.0  51200.0  50700.0   600.0\n",
              "2  51300.0   9144100.0  51100.0  51400.0  50400.0  1000.0\n",
              "3  50600.0  13590016.0  51800.0  51800.0  50500.0  1300.0\n",
              "4  49650.0  16951706.0  50200.0  50400.0  49600.0  1000.0"
            ]
          },
          "metadata": {
            "tags": []
          },
          "execution_count": 12
        }
      ]
    },
    {
      "cell_type": "code",
      "metadata": {
        "id": "FSS4TcKWFf0u",
        "colab_type": "code",
        "colab": {
          "base_uri": "https://localhost:8080/",
          "height": 265
        },
        "outputId": "943bd703-5584-4bbd-e72e-8535472fc1c8"
      },
      "source": [
        "import matplotlib.pyplot as plt\n",
        "\n",
        "plt.rcParams[\"figure.figsize\"] = (14,4)\n",
        "\n",
        "plt.plot(tr_list, 'r')\n",
        "plt.show()"
      ],
      "execution_count": 13,
      "outputs": [
        {
          "output_type": "display_data",
          "data": {
            "image/png": "[encoded data removed]",
            "text/plain": [
              "<Figure size 1008x288 with 1 Axes>"
            ]
          },
          "metadata": {
            "tags": [],
            "needs_background": "light"
          }
        }
      ]
    },
    {
      "cell_type": "code",
      "metadata": {
        "id": "oMic43dMFhBc",
        "colab_type": "code",
        "colab": {
          "base_uri": "https://localhost:8080/",
          "height": 265
        },
        "outputId": "9e3de372-563f-45ed-e769-36b86efa8767"
      },
      "source": [
        "plt.plot(data_n.loc[:,'close'], 'r')\n",
        "plt.show()"
      ],
      "execution_count": 14,
      "outputs": [
        {
          "output_type": "display_data",
          "data": {
            "image/png": "[encoded data removed]",
            "text/plain": [
              "<Figure size 1008x288 with 1 Axes>"
            ]
          },
          "metadata": {
            "tags": [],
            "needs_background": "light"
          }
        }
      ]
    },
    {
      "cell_type": "code",
      "metadata": {
        "id": "knja8DpoEiVD",
        "colab_type": "code",
        "colab": {
          "base_uri": "https://localhost:8080/",
          "height": 34
        },
        "outputId": "157dc64e-97c6-47bf-d2e2-f1fcb18f5ec6"
      },
      "source": [
        "len(data_n)"
      ],
      "execution_count": 15,
      "outputs": [
        {
          "output_type": "execute_result",
          "data": {
            "text/plain": [
              "511"
            ]
          },
          "metadata": {
            "tags": []
          },
          "execution_count": 15
        }
      ]
    },
    {
      "cell_type": "code",
      "metadata": {
        "id": "Gy4dfCjhoDJW",
        "colab_type": "code",
        "colab": {}
      },
      "source": [
        "data_n = np.asarray(data_n, dtype=float)"
      ],
      "execution_count": 16,
      "outputs": []
    },
    {
      "cell_type": "code",
      "metadata": {
        "id": "ocuKRXTdoL0w",
        "colab_type": "code",
        "colab": {
          "base_uri": "https://localhost:8080/",
          "height": 193
        },
        "outputId": "351e87c4-4eb5-4e0e-9734-bec4aa29d1f3"
      },
      "source": [
        "data_n[0:5]"
      ],
      "execution_count": 17,
      "outputs": [
        {
          "output_type": "execute_result",
          "data": {
            "text/plain": [
              "array([[5.1300000e+04, 1.3038499e+07, 5.0500000e+04, 5.1700000e+04,\n",
              "        4.9950000e+04, 1.7500000e+03],\n",
              "       [5.1100000e+04, 9.7671710e+06, 5.0800000e+04, 5.1200000e+04,\n",
              "        5.0700000e+04, 6.0000000e+02],\n",
              "       [5.1300000e+04, 9.1441000e+06, 5.1100000e+04, 5.1400000e+04,\n",
              "        5.0400000e+04, 1.0000000e+03],\n",
              "       [5.0600000e+04, 1.3590016e+07, 5.1800000e+04, 5.1800000e+04,\n",
              "        5.0500000e+04, 1.3000000e+03],\n",
              "       [4.9650000e+04, 1.6951706e+07, 5.0200000e+04, 5.0400000e+04,\n",
              "        4.9600000e+04, 1.0000000e+03]])"
            ]
          },
          "metadata": {
            "tags": []
          },
          "execution_count": 17
        }
      ]
    },
    {
      "cell_type": "code",
      "metadata": {
        "id": "oSXcsLagoric",
        "colab_type": "code",
        "colab": {
          "base_uri": "https://localhost:8080/",
          "height": 34
        },
        "outputId": "b3c2b5ae-3d71-43f2-d30a-2b6c7d8b5bd9"
      },
      "source": [
        "data_n.shape"
      ],
      "execution_count": 18,
      "outputs": [
        {
          "output_type": "execute_result",
          "data": {
            "text/plain": [
              "(511, 6)"
            ]
          },
          "metadata": {
            "tags": []
          },
          "execution_count": 18
        }
      ]
    },
    {
      "cell_type": "markdown",
      "metadata": {
        "id": "NcHelKfASOyj",
        "colab_type": "text"
      },
      "source": [
        "5일치 주가를 타입스텝으로 가진 데이터를 만들려고 한다. 이경우 RNN과 같이 전체 데이터는 5개의 특징을 가진 샘플데이터가 한꺼번에 LSTM네트워크에 들어가고 타입스템 수 만큼 학습이 진행된다."
      ]
    },
    {
      "cell_type": "code",
      "metadata": {
        "id": "_B-52GydoYQq",
        "colab_type": "code",
        "colab": {}
      },
      "source": [
        "data_n_L = []\n",
        "\n",
        "for i in range(0, len(data_n)):\n",
        "  if i < len(data_n)-4:\n",
        "    ts = [data_n[i], data_n[i+1], data_n[i+2], data_n[i+3], data_n[i+4]]\n",
        "    data_n_L.append(ts)"
      ],
      "execution_count": 19,
      "outputs": []
    },
    {
      "cell_type": "code",
      "metadata": {
        "id": "m-5JgOfkroVA",
        "colab_type": "code",
        "colab": {
          "base_uri": "https://localhost:8080/",
          "height": 193
        },
        "outputId": "74f1a98d-3898-4115-b666-f60ce5b5cb03"
      },
      "source": [
        "data_n_L[0]"
      ],
      "execution_count": 20,
      "outputs": [
        {
          "output_type": "execute_result",
          "data": {
            "text/plain": [
              "[array([5.1300000e+04, 1.3038499e+07, 5.0500000e+04, 5.1700000e+04,\n",
              "        4.9950000e+04, 1.7500000e+03]),\n",
              " array([5.110000e+04, 9.767171e+06, 5.080000e+04, 5.120000e+04,\n",
              "        5.070000e+04, 6.000000e+02]),\n",
              " array([5.1300e+04, 9.1441e+06, 5.1100e+04, 5.1400e+04, 5.0400e+04,\n",
              "        1.0000e+03]),\n",
              " array([5.0600000e+04, 1.3590016e+07, 5.1800000e+04, 5.1800000e+04,\n",
              "        5.0500000e+04, 1.3000000e+03]),\n",
              " array([4.9650000e+04, 1.6951706e+07, 5.0200000e+04, 5.0400000e+04,\n",
              "        4.9600000e+04, 1.0000000e+03])]"
            ]
          },
          "metadata": {
            "tags": []
          },
          "execution_count": 20
        }
      ]
    },
    {
      "cell_type": "code",
      "metadata": {
        "id": "MkgjKj9tSq0J",
        "colab_type": "code",
        "colab": {
          "base_uri": "https://localhost:8080/",
          "height": 34
        },
        "outputId": "e6cb642e-98cd-46f8-b22d-178eb2420d78"
      },
      "source": [
        "len(data_n_L)"
      ],
      "execution_count": null,
      "outputs": [
        {
          "output_type": "execute_result",
          "data": {
            "text/plain": [
              "507"
            ]
          },
          "metadata": {
            "tags": []
          },
          "execution_count": 198
        }
      ]
    },
    {
      "cell_type": "code",
      "metadata": {
        "id": "S7yg3uGysLYJ",
        "colab_type": "code",
        "colab": {}
      },
      "source": [
        "data_n_d = data.loc[:, [\"dif\"]]"
      ],
      "execution_count": 21,
      "outputs": []
    },
    {
      "cell_type": "code",
      "metadata": {
        "id": "UJWhl02mYmp_",
        "colab_type": "code",
        "colab": {
          "base_uri": "https://localhost:8080/",
          "height": 265
        },
        "outputId": "236c00ba-97d9-426b-97e5-7a876af38024"
      },
      "source": [
        "import matplotlib.pyplot as plt\n",
        "\n",
        "plt.rcParams[\"figure.figsize\"] = (14,4)\n",
        "\n",
        "plt.plot(data_n_d, 'r')\n",
        "plt.show()"
      ],
      "execution_count": 22,
      "outputs": [
        {
          "output_type": "display_data",
          "data": {
            "image/png": "[encoded data removed]",
            "text/plain": [
              "<Figure size 1008x288 with 1 Axes>"
            ]
          },
          "metadata": {
            "tags": [],
            "needs_background": "light"
          }
        }
      ]
    },
    {
      "cell_type": "code",
      "metadata": {
        "id": "a1cg5Qm8gbgM",
        "colab_type": "code",
        "colab": {
          "base_uri": "https://localhost:8080/",
          "height": 52
        },
        "outputId": "5125fb8b-9942-4155-97c0-23a478677ac9"
      },
      "source": [
        "np.std(data_n_d[400:]) #400번이후의 표준편차가 더 크다"
      ],
      "execution_count": 23,
      "outputs": [
        {
          "output_type": "execute_result",
          "data": {
            "text/plain": [
              "dif    1257.926576\n",
              "dtype: float64"
            ]
          },
          "metadata": {
            "tags": []
          },
          "execution_count": 23
        }
      ]
    },
    {
      "cell_type": "code",
      "metadata": {
        "id": "rus2Y3xb7RVW",
        "colab_type": "code",
        "colab": {
          "base_uri": "https://localhost:8080/",
          "height": 225
        },
        "outputId": "5a1bdaaf-62dc-4f7a-d2b2-a50f4647c4db"
      },
      "source": [
        "data_n_d.head(6)"
      ],
      "execution_count": 24,
      "outputs": [
        {
          "output_type": "execute_result",
          "data": {
            "text/html": [
              "<div>\n",
              "<style scoped>\n",
              "    .dataframe tbody tr th:only-of-type {\n",
              "        vertical-align: middle;\n",
              "    }\n",
              "\n",
              "    .dataframe tbody tr th {\n",
              "        vertical-align: top;\n",
              "    }\n",
              "\n",
              "    .dataframe thead th {\n",
              "        text-align: right;\n",
              "    }\n",
              "</style>\n",
              "<table border=\"1\" class=\"dataframe\">\n",
              "  <thead>\n",
              "    <tr style=\"text-align: right;\">\n",
              "      <th></th>\n",
              "      <th>dif</th>\n",
              "    </tr>\n",
              "  </thead>\n",
              "  <tbody>\n",
              "    <tr>\n",
              "      <th>0</th>\n",
              "      <td>600.0</td>\n",
              "    </tr>\n",
              "    <tr>\n",
              "      <th>1</th>\n",
              "      <td>-200.0</td>\n",
              "    </tr>\n",
              "    <tr>\n",
              "      <th>2</th>\n",
              "      <td>200.0</td>\n",
              "    </tr>\n",
              "    <tr>\n",
              "      <th>3</th>\n",
              "      <td>-700.0</td>\n",
              "    </tr>\n",
              "    <tr>\n",
              "      <th>4</th>\n",
              "      <td>-950.0</td>\n",
              "    </tr>\n",
              "    <tr>\n",
              "      <th>5</th>\n",
              "      <td>250.0</td>\n",
              "    </tr>\n",
              "  </tbody>\n",
              "</table>\n",
              "</div>"
            ],
            "text/plain": [
              "     dif\n",
              "0  600.0\n",
              "1 -200.0\n",
              "2  200.0\n",
              "3 -700.0\n",
              "4 -950.0\n",
              "5  250.0"
            ]
          },
          "metadata": {
            "tags": []
          },
          "execution_count": 24
        }
      ]
    },
    {
      "cell_type": "code",
      "metadata": {
        "id": "2dc0pcXhsPqy",
        "colab_type": "code",
        "colab": {}
      },
      "source": [
        "data_n_d_L = data_n_d[5:] # 5일 전 데이타가 x 이고 이를 가지고 익일 y를 추정하는 것이라 하루 지난 값이 y가 된다."
      ],
      "execution_count": 25,
      "outputs": []
    },
    {
      "cell_type": "code",
      "metadata": {
        "id": "McRqL5z2J6ox",
        "colab_type": "code",
        "colab": {}
      },
      "source": [
        "data_n_d_L = np.asarray(data_n_d_L, dtype=float)"
      ],
      "execution_count": 26,
      "outputs": []
    },
    {
      "cell_type": "code",
      "metadata": {
        "id": "J63XeQAYIysC",
        "colab_type": "code",
        "colab": {
          "base_uri": "https://localhost:8080/",
          "height": 210
        },
        "outputId": "813bfb69-c723-4f57-b849-b814372dbc4f"
      },
      "source": [
        "[data_n_L[0], data_n_d_L[0]]"
      ],
      "execution_count": 27,
      "outputs": [
        {
          "output_type": "execute_result",
          "data": {
            "text/plain": [
              "[[array([5.1300000e+04, 1.3038499e+07, 5.0500000e+04, 5.1700000e+04,\n",
              "         4.9950000e+04, 1.7500000e+03]),\n",
              "  array([5.110000e+04, 9.767171e+06, 5.080000e+04, 5.120000e+04,\n",
              "         5.070000e+04, 6.000000e+02]),\n",
              "  array([5.1300e+04, 9.1441e+06, 5.1100e+04, 5.1400e+04, 5.0400e+04,\n",
              "         1.0000e+03]),\n",
              "  array([5.0600000e+04, 1.3590016e+07, 5.1800000e+04, 5.1800000e+04,\n",
              "         5.0500000e+04, 1.3000000e+03]),\n",
              "  array([4.9650000e+04, 1.6951706e+07, 5.0200000e+04, 5.0400000e+04,\n",
              "         4.9600000e+04, 1.0000000e+03])],\n",
              " array([250.])]"
            ]
          },
          "metadata": {
            "tags": []
          },
          "execution_count": 27
        }
      ]
    },
    {
      "cell_type": "code",
      "metadata": {
        "id": "MigJBoEsslqh",
        "colab_type": "code",
        "colab": {
          "base_uri": "https://localhost:8080/",
          "height": 34
        },
        "outputId": "2666e5f0-7aea-4d5b-c40c-5d3cdc281ef7"
      },
      "source": [
        "len(data_n_d_L) # y가 익일 데이터이므로 전체 자료수는 x보다 한개 작다"
      ],
      "execution_count": 28,
      "outputs": [
        {
          "output_type": "execute_result",
          "data": {
            "text/plain": [
              "506"
            ]
          },
          "metadata": {
            "tags": []
          },
          "execution_count": 28
        }
      ]
    },
    {
      "cell_type": "code",
      "metadata": {
        "id": "odAutkAIs4pB",
        "colab_type": "code",
        "colab": {}
      },
      "source": [
        "x_train_L5 = data_n_L[0:400]\n",
        "x_val_L5 = data_n_L[400:500]\n",
        "y_train_L5= data_n_d_L[0:400]\n",
        "y_val_L5 = data_n_d_L[400:500]"
      ],
      "execution_count": 29,
      "outputs": []
    },
    {
      "cell_type": "code",
      "metadata": {
        "id": "mmfWh0NRNvEs",
        "colab_type": "code",
        "colab": {
          "base_uri": "https://localhost:8080/",
          "height": 52
        },
        "outputId": "dbb07e33-bf8f-4e41-80f0-87f158130fc7"
      },
      "source": [
        "print(y_val_L5[0], x_val_L5[0][4]) "
      ],
      "execution_count": 30,
      "outputs": [
        {
          "output_type": "stream",
          "text": [
            "[300.] [5.8800000e+04 2.3664541e+07 5.9400000e+04 5.9400000e+04 5.8300000e+04\n",
            " 2.5000000e+03]\n"
          ],
          "name": "stdout"
        }
      ]
    },
    {
      "cell_type": "code",
      "metadata": {
        "id": "gCnOHFAfM0Ha",
        "colab_type": "code",
        "colab": {
          "base_uri": "https://localhost:8080/",
          "height": 343
        },
        "outputId": "7630a923-89b1-411d-f5d9-c4fdd5c71c58"
      },
      "source": [
        "data[400:410] # y_val_L5는 20년 1월29일부터 시작하고, 전날의 종가는 58800원이다"
      ],
      "execution_count": 31,
      "outputs": [
        {
          "output_type": "execute_result",
          "data": {
            "text/html": [
              "<div>\n",
              "<style scoped>\n",
              "    .dataframe tbody tr th:only-of-type {\n",
              "        vertical-align: middle;\n",
              "    }\n",
              "\n",
              "    .dataframe tbody tr th {\n",
              "        vertical-align: top;\n",
              "    }\n",
              "\n",
              "    .dataframe thead th {\n",
              "        text-align: right;\n",
              "    }\n",
              "</style>\n",
              "<table border=\"1\" class=\"dataframe\">\n",
              "  <thead>\n",
              "    <tr style=\"text-align: right;\">\n",
              "      <th></th>\n",
              "      <th>Unnamed: 0</th>\n",
              "      <th>Unnamed: 0.1</th>\n",
              "      <th>Unnamed: 0.1.1</th>\n",
              "      <th>day</th>\n",
              "      <th>close</th>\n",
              "      <th>dif</th>\n",
              "      <th>volume</th>\n",
              "      <th>start</th>\n",
              "      <th>high</th>\n",
              "      <th>low</th>\n",
              "    </tr>\n",
              "  </thead>\n",
              "  <tbody>\n",
              "    <tr>\n",
              "      <th>400</th>\n",
              "      <td>400</td>\n",
              "      <td>400</td>\n",
              "      <td>110</td>\n",
              "      <td>2020-01-20 00:00:00</td>\n",
              "      <td>62400.0</td>\n",
              "      <td>1100.0</td>\n",
              "      <td>12528855.0</td>\n",
              "      <td>62000.0</td>\n",
              "      <td>62800.0</td>\n",
              "      <td>61700.0</td>\n",
              "    </tr>\n",
              "    <tr>\n",
              "      <th>401</th>\n",
              "      <td>401</td>\n",
              "      <td>401</td>\n",
              "      <td>109</td>\n",
              "      <td>2020-01-21 00:00:00</td>\n",
              "      <td>61400.0</td>\n",
              "      <td>-1000.0</td>\n",
              "      <td>11142693.0</td>\n",
              "      <td>62000.0</td>\n",
              "      <td>62400.0</td>\n",
              "      <td>61200.0</td>\n",
              "    </tr>\n",
              "    <tr>\n",
              "      <th>402</th>\n",
              "      <td>402</td>\n",
              "      <td>402</td>\n",
              "      <td>108</td>\n",
              "      <td>2020-01-22 00:00:00</td>\n",
              "      <td>62300.0</td>\n",
              "      <td>900.0</td>\n",
              "      <td>15339565.0</td>\n",
              "      <td>60500.0</td>\n",
              "      <td>62600.0</td>\n",
              "      <td>60400.0</td>\n",
              "    </tr>\n",
              "    <tr>\n",
              "      <th>403</th>\n",
              "      <td>403</td>\n",
              "      <td>403</td>\n",
              "      <td>107</td>\n",
              "      <td>2020-01-23 00:00:00</td>\n",
              "      <td>60800.0</td>\n",
              "      <td>-1500.0</td>\n",
              "      <td>14916555.0</td>\n",
              "      <td>61800.0</td>\n",
              "      <td>61800.0</td>\n",
              "      <td>60700.0</td>\n",
              "    </tr>\n",
              "    <tr>\n",
              "      <th>404</th>\n",
              "      <td>404</td>\n",
              "      <td>404</td>\n",
              "      <td>106</td>\n",
              "      <td>2020-01-28 00:00:00</td>\n",
              "      <td>58800.0</td>\n",
              "      <td>-2000.0</td>\n",
              "      <td>23664541.0</td>\n",
              "      <td>59400.0</td>\n",
              "      <td>59400.0</td>\n",
              "      <td>58300.0</td>\n",
              "    </tr>\n",
              "    <tr>\n",
              "      <th>405</th>\n",
              "      <td>405</td>\n",
              "      <td>405</td>\n",
              "      <td>105</td>\n",
              "      <td>2020-01-29 00:00:00</td>\n",
              "      <td>59100.0</td>\n",
              "      <td>300.0</td>\n",
              "      <td>16446102.0</td>\n",
              "      <td>59100.0</td>\n",
              "      <td>59700.0</td>\n",
              "      <td>58800.0</td>\n",
              "    </tr>\n",
              "    <tr>\n",
              "      <th>406</th>\n",
              "      <td>406</td>\n",
              "      <td>406</td>\n",
              "      <td>104</td>\n",
              "      <td>2020-01-30 00:00:00</td>\n",
              "      <td>57200.0</td>\n",
              "      <td>-1900.0</td>\n",
              "      <td>20821939.0</td>\n",
              "      <td>58800.0</td>\n",
              "      <td>58800.0</td>\n",
              "      <td>56800.0</td>\n",
              "    </tr>\n",
              "    <tr>\n",
              "      <th>407</th>\n",
              "      <td>407</td>\n",
              "      <td>407</td>\n",
              "      <td>103</td>\n",
              "      <td>2020-01-31 00:00:00</td>\n",
              "      <td>56400.0</td>\n",
              "      <td>-800.0</td>\n",
              "      <td>19749457.0</td>\n",
              "      <td>57800.0</td>\n",
              "      <td>58400.0</td>\n",
              "      <td>56400.0</td>\n",
              "    </tr>\n",
              "    <tr>\n",
              "      <th>408</th>\n",
              "      <td>408</td>\n",
              "      <td>408</td>\n",
              "      <td>102</td>\n",
              "      <td>2020-02-03 00:00:00</td>\n",
              "      <td>57200.0</td>\n",
              "      <td>800.0</td>\n",
              "      <td>23995260.0</td>\n",
              "      <td>55500.0</td>\n",
              "      <td>57400.0</td>\n",
              "      <td>55200.0</td>\n",
              "    </tr>\n",
              "    <tr>\n",
              "      <th>409</th>\n",
              "      <td>409</td>\n",
              "      <td>409</td>\n",
              "      <td>101</td>\n",
              "      <td>2020-02-04 00:00:00</td>\n",
              "      <td>58900.0</td>\n",
              "      <td>1700.0</td>\n",
              "      <td>21800192.0</td>\n",
              "      <td>57100.0</td>\n",
              "      <td>59000.0</td>\n",
              "      <td>56800.0</td>\n",
              "    </tr>\n",
              "  </tbody>\n",
              "</table>\n",
              "</div>"
            ],
            "text/plain": [
              "     Unnamed: 0  Unnamed: 0.1  Unnamed: 0.1.1  ...    start     high      low\n",
              "400         400           400             110  ...  62000.0  62800.0  61700.0\n",
              "401         401           401             109  ...  62000.0  62400.0  61200.0\n",
              "402         402           402             108  ...  60500.0  62600.0  60400.0\n",
              "403         403           403             107  ...  61800.0  61800.0  60700.0\n",
              "404         404           404             106  ...  59400.0  59400.0  58300.0\n",
              "405         405           405             105  ...  59100.0  59700.0  58800.0\n",
              "406         406           406             104  ...  58800.0  58800.0  56800.0\n",
              "407         407           407             103  ...  57800.0  58400.0  56400.0\n",
              "408         408           408             102  ...  55500.0  57400.0  55200.0\n",
              "409         409           409             101  ...  57100.0  59000.0  56800.0\n",
              "\n",
              "[10 rows x 10 columns]"
            ]
          },
          "metadata": {
            "tags": []
          },
          "execution_count": 31
        }
      ]
    },
    {
      "cell_type": "markdown",
      "metadata": {
        "id": "HC1MLsiMVamk",
        "colab_type": "text"
      },
      "source": [
        "정규화를 한다."
      ]
    },
    {
      "cell_type": "code",
      "metadata": {
        "id": "jyBVIIBreVcz",
        "colab_type": "code",
        "colab": {}
      },
      "source": [
        "mean_L5 = np.mean(x_train_L5, axis=0)\n",
        "std_L5 = np.std(x_train_L5, axis=0)\n",
        "\n",
        "x_train_L5_r = (x_train_L5 - mean_L5)/std_L5\n",
        "x_val_L5_r = (x_val_L5 - mean_L5)/std_L5"
      ],
      "execution_count": 32,
      "outputs": []
    },
    {
      "cell_type": "code",
      "metadata": {
        "id": "0WH9HmKtcLyj",
        "colab_type": "code",
        "colab": {}
      },
      "source": [
        "#import numpy as np\n",
        "\n",
        "import keras\n",
        "from keras.layers import LSTM, Dense, Input, Dropout\n",
        "from keras import Model\n",
        "#from keras.models import Sequential\n",
        "#from keras import layers\n",
        "from keras import Input\n",
        "import tensorflow as tf\n",
        "from keras.callbacks import ModelCheckpoint, EarlyStopping"
      ],
      "execution_count": 123,
      "outputs": []
    },
    {
      "cell_type": "code",
      "metadata": {
        "id": "r_4OqS5vLd77",
        "colab_type": "code",
        "colab": {
          "base_uri": "https://localhost:8080/",
          "height": 52
        },
        "outputId": "3cd0e087-a89a-4ade-dd15-9a5cdef20e01"
      },
      "source": [
        "print(keras.__version__)\n",
        "print(tf.__version__)"
      ],
      "execution_count": 118,
      "outputs": [
        {
          "output_type": "stream",
          "text": [
            "2.3.1\n",
            "2.2.0\n"
          ],
          "name": "stdout"
        }
      ]
    },
    {
      "cell_type": "code",
      "metadata": {
        "id": "EVupcQTMtejO",
        "colab_type": "code",
        "colab": {
          "base_uri": "https://localhost:8080/",
          "height": 404
        },
        "outputId": "1a72fd8c-542a-4e5c-ebc5-1c58f92d47ad"
      },
      "source": [
        "# 아래의 LSTM은 5개의 time step이 입력되고 이에 대해서 한개의 dif가 대응되는 many-to-one이다. return_sequence=False이다.\n",
        "# 만약 many-to-many로 진행될 경우, dif가 여러개 dif가 대응된다. 이경우 return_sequence=True이다. \n",
        "\n",
        "input2 = Input(shape=(5,6))\n",
        "dense2 = LSTM(128, return_sequences=False)(input2)\n",
        "dense2 = Dense(128)(dense2)\n",
        "dense2 = Dense(64)(dense2)\n",
        "dense2 = Dropout(0.5)(dense2)\n",
        "dense2 = Dense(32)(dense2)\n",
        "output2 = Dense(1)(dense2)\n",
        "\n",
        "model = Model(inputs= input2, outputs=output2)\n",
        "model.summary() # LSTM은 (5*128 + 128*128 + 128)을 가진 4개 게이트를 가지므로 68608개 파라미터를 가진다."
      ],
      "execution_count": 119,
      "outputs": [
        {
          "output_type": "stream",
          "text": [
            "Model: \"model_3\"\n",
            "_________________________________________________________________\n",
            "Layer (type)                 Output Shape              Param #   \n",
            "=================================================================\n",
            "input_3 (InputLayer)         (None, 5, 6)              0         \n",
            "_________________________________________________________________\n",
            "lstm_3 (LSTM)                (None, 128)               69120     \n",
            "_________________________________________________________________\n",
            "dense_9 (Dense)              (None, 128)               16512     \n",
            "_________________________________________________________________\n",
            "dense_10 (Dense)             (None, 64)                8256      \n",
            "_________________________________________________________________\n",
            "dropout_3 (Dropout)          (None, 64)                0         \n",
            "_________________________________________________________________\n",
            "dense_11 (Dense)             (None, 32)                2080      \n",
            "_________________________________________________________________\n",
            "dense_12 (Dense)             (None, 1)                 33        \n",
            "=================================================================\n",
            "Total params: 96,001\n",
            "Trainable params: 96,001\n",
            "Non-trainable params: 0\n",
            "_________________________________________________________________\n"
          ],
          "name": "stdout"
        }
      ]
    },
    {
      "cell_type": "code",
      "metadata": {
        "id": "bAMutg0LutrQ",
        "colab_type": "code",
        "colab": {}
      },
      "source": [
        "optimizer = tf.keras.optimizers.Adam(lr=0.001)\n"
      ],
      "execution_count": 114,
      "outputs": []
    },
    {
      "cell_type": "code",
      "metadata": {
        "id": "NBDGzdZsmRwh",
        "colab_type": "code",
        "colab": {}
      },
      "source": [
        "model.compile(loss='mse', optimizer=optimizer, metrics=['mae'])"
      ],
      "execution_count": 121,
      "outputs": []
    },
    {
      "cell_type": "code",
      "metadata": {
        "id": "S0dCg4VkglQS",
        "colab_type": "code",
        "colab": {}
      },
      "source": [
        "#callback_list = tf.keras.callbacks.ModelCheckpoint(filepath='my_model.h5', monitor='val_mae', save_best_only=True, save_weights_only=True, verbose=0)\n",
        "callback_list = ModelCheckpoint(filepath='my_model.h5', monitor='val_mae', save_best_only=True, save_weights_only=True, verbose=0)\n",
        "early_stopping = EarlyStopping(monitor='val_mae', patience=50)\n",
        "history = model.fit(x_train_L5_r, y_train_L5, validation_data = (x_val_L5_r, y_val_L5), epochs=200, verbose=0, callbacks=[callback_list, early_stopping])"
      ],
      "execution_count": 135,
      "outputs": []
    },
    {
      "cell_type": "code",
      "metadata": {
        "id": "nw65foaWvGAU",
        "colab_type": "code",
        "colab": {
          "base_uri": "https://localhost:8080/",
          "height": 276
        },
        "outputId": "9d953431-5812-4a89-af48-df5fd50c79e5"
      },
      "source": [
        "import matplotlib.pyplot as plt\n",
        "\n",
        "plt.rcParams[\"figure.figsize\"] = (14,4)\n",
        "\n",
        "\n",
        "#plt.plot(history.history['loss'], 'b') \n",
        "plt.plot(history.history['val_loss'], 'r')\n",
        "plt.show()"
      ],
      "execution_count": 136,
      "outputs": [
        {
          "output_type": "display_data",
          "data": {
            "image/png": "[encoded data removed]",
            "text/plain": [
              "<Figure size 1008x288 with 1 Axes>"
            ]
          },
          "metadata": {
            "tags": [],
            "needs_background": "light"
          }
        }
      ]
    },
    {
      "cell_type": "code",
      "metadata": {
        "id": "O3gB7i7jfXQy",
        "colab_type": "code",
        "colab": {
          "base_uri": "https://localhost:8080/",
          "height": 268
        },
        "outputId": "dc511d30-18f3-4b82-d3a3-7c330e03318d"
      },
      "source": [
        "#plt.plot(history.history['mae'], 'b') \n",
        "plt.plot(history.history['val_mae'], 'r')\n",
        "plt.show()"
      ],
      "execution_count": 137,
      "outputs": [
        {
          "output_type": "display_data",
          "data": {
            "image/png": "[encoded data removed]",
            "text/plain": [
              "<Figure size 1008x288 with 1 Axes>"
            ]
          },
          "metadata": {
            "tags": [],
            "needs_background": "light"
          }
        }
      ]
    },
    {
      "cell_type": "code",
      "metadata": {
        "id": "6HDWndXLI9Jk",
        "colab_type": "code",
        "colab": {
          "base_uri": "https://localhost:8080/",
          "height": 34
        },
        "outputId": "8bb17ae3-e5ce-4577-f351-e04a1a4cfa11"
      },
      "source": [
        "np.min(history.history['val_mae']) # validation set에서 최저 mae값"
      ],
      "execution_count": 138,
      "outputs": [
        {
          "output_type": "execute_result",
          "data": {
            "text/plain": [
              "1100.45751953125"
            ]
          },
          "metadata": {
            "tags": []
          },
          "execution_count": 138
        }
      ]
    },
    {
      "cell_type": "code",
      "metadata": {
        "id": "wqALwCHYezT7",
        "colab_type": "code",
        "colab": {
          "base_uri": "https://localhost:8080/",
          "height": 34
        },
        "outputId": "68c73a85-41e8-4a44-97e4-999d195df97c"
      },
      "source": [
        "history.history['val_mae'][-1]"
      ],
      "execution_count": 139,
      "outputs": [
        {
          "output_type": "execute_result",
          "data": {
            "text/plain": [
              "1105.9638671875"
            ]
          },
          "metadata": {
            "tags": []
          },
          "execution_count": 139
        }
      ]
    },
    {
      "cell_type": "code",
      "metadata": {
        "id": "Ll1wn3ITZALT",
        "colab_type": "code",
        "colab": {}
      },
      "source": [
        "model.save_weights(\"my_model.h5\") \n",
        "# 모델을 다시 저장하면 않될 수 도 있다. 최초에 한번 저장하고 난후, 그 다음부터는 callback과 fitting을 순차적으로 진행하면 자동으로 가충치는 LSTM에 저장된다. "
      ],
      "execution_count": 128,
      "outputs": []
    },
    {
      "cell_type": "code",
      "metadata": {
        "id": "XKiMJcMKc1gM",
        "colab_type": "code",
        "colab": {}
      },
      "source": [
        "model.compile(loss='mse', optimizer=optimizer, metrics=['mae'])"
      ],
      "execution_count": 95,
      "outputs": []
    },
    {
      "cell_type": "code",
      "metadata": {
        "id": "HW0_4E_UdEGD",
        "colab_type": "code",
        "colab": {}
      },
      "source": [
        "model.load_weights(\"my_model.h5\") # 저장된 weight를 기존 모델에 적용한다."
      ],
      "execution_count": 140,
      "outputs": []
    },
    {
      "cell_type": "code",
      "metadata": {
        "id": "_Ln_OJ0pdW3L",
        "colab_type": "code",
        "colab": {
          "base_uri": "https://localhost:8080/",
          "height": 34
        },
        "outputId": "dfc105e9-65ac-43c9-9a66-8dbcae468679"
      },
      "source": [
        "model.evaluate(x_val_L5_r, y_val_L5, verbose=0) # 이전에 가중치를 그대로 사용하려면 fit을 다시 하면 안되고 evaluate하여야 한다."
      ],
      "execution_count": 141,
      "outputs": [
        {
          "output_type": "execute_result",
          "data": {
            "text/plain": [
              "[2100777.1125, 1100.45751953125]"
            ]
          },
          "metadata": {
            "tags": []
          },
          "execution_count": 141
        }
      ]
    },
    {
      "cell_type": "code",
      "metadata": {
        "id": "tMsENMDGd87l",
        "colab_type": "code",
        "colab": {}
      },
      "source": [
        "predict_val = model.predict(x_val_L5_r)"
      ],
      "execution_count": null,
      "outputs": []
    },
    {
      "cell_type": "code",
      "metadata": {
        "id": "zBr_h5OAfEdx",
        "colab_type": "code",
        "colab": {
          "base_uri": "https://localhost:8080/",
          "height": 265
        },
        "outputId": "86237f53-8b79-46e4-ed20-8851edb71fe8"
      },
      "source": [
        "plt.plot(predict_val, 'r')\n",
        "plt.plot(y_val_L5, 'b')\n",
        "plt.show()"
      ],
      "execution_count": null,
      "outputs": [
        {
          "output_type": "display_data",
          "data": {
            "image/png": "[encoded data removed]",
            "text/plain": [
              "<Figure size 1008x288 with 1 Axes>"
            ]
          },
          "metadata": {
            "tags": [],
            "needs_background": "light"
          }
        }
      ]
    },
    {
      "cell_type": "code",
      "metadata": {
        "id": "2tJVlqhobF8R",
        "colab_type": "code",
        "colab": {
          "base_uri": "https://localhost:8080/",
          "height": 34
        },
        "outputId": "edc9c693-e89e-4cac-de2b-66a589cdbb66"
      },
      "source": [
        "len(predict_val)"
      ],
      "execution_count": null,
      "outputs": [
        {
          "output_type": "execute_result",
          "data": {
            "text/plain": [
              "100"
            ]
          },
          "metadata": {
            "tags": []
          },
          "execution_count": 260
        }
      ]
    },
    {
      "cell_type": "code",
      "metadata": {
        "id": "KHP1o0NffEn3",
        "colab_type": "code",
        "colab": {}
      },
      "source": [
        "p_val= 58800\n",
        "predict_price=[]\n",
        "\n",
        "for i in range(0, len(predict_val)):\n",
        "  p_val = p_val + predict_val[i]\n",
        "  predict_price.append(p_val)"
      ],
      "execution_count": null,
      "outputs": []
    },
    {
      "cell_type": "code",
      "metadata": {
        "id": "9JLaMMRSTEf8",
        "colab_type": "code",
        "colab": {}
      },
      "source": [
        "actual = np.asarray(data.loc[405:, 'close'], dtype=float)"
      ],
      "execution_count": null,
      "outputs": []
    },
    {
      "cell_type": "code",
      "metadata": {
        "id": "56doKGMtfE7Y",
        "colab_type": "code",
        "colab": {
          "base_uri": "https://localhost:8080/",
          "height": 265
        },
        "outputId": "6964797b-2235-4dd1-f3c5-fba1b968f0ce"
      },
      "source": [
        "plt.plot(predict_price, 'r')\n",
        "plt.plot(actual, 'b')\n",
        "plt.show()"
      ],
      "execution_count": null,
      "outputs": [
        {
          "output_type": "display_data",
          "data": {
            "image/png": "[encoded data removed]",
            "text/plain": [
              "<Figure size 1008x288 with 1 Axes>"
            ]
          },
          "metadata": {
            "tags": [],
            "needs_background": "light"
          }
        }
      ]
    },
    {
      "cell_type": "code",
      "metadata": {
        "id": "3gd_mktIRQDP",
        "colab_type": "code",
        "colab": {}
      },
      "source": [
        ""
      ],
      "execution_count": null,
      "outputs": []
    },
    {
      "cell_type": "code",
      "metadata": {
        "id": "If23HMKhS_cZ",
        "colab_type": "code",
        "colab": {
          "base_uri": "https://localhost:8080/",
          "height": 263
        },
        "outputId": "7363c8ea-54d2-47c2-99f8-58286959cd00"
      },
      "source": [
        "actual"
      ],
      "execution_count": null,
      "outputs": [
        {
          "output_type": "execute_result",
          "data": {
            "text/plain": [
              "array([59100., 57200., 56400., 57200., 58900., 59500., 61100., 60400.,\n",
              "       59700., 59900., 60500., 60700., 61800., 61500., 59800., 60200.,\n",
              "       60000., 59200., 56800., 57900., 56500., 55900., 54200., 55000.,\n",
              "       55400., 57400., 57800., 56500., 54200., 54600., 52100., 50800.,\n",
              "       49950., 48900., 47300., 45600., 42950., 45400., 42500., 46950.,\n",
              "       48650., 47800., 48300., 47850., 47750., 45800., 46800., 47000.,\n",
              "       48700., 49600., 48600., 49100., 49250., 48300., 49000., 49000.,\n",
              "       51400., 50100., 49250., 49850., 49850., 49350., 49850., 50100.,\n",
              "       50000., 48500., 49200., 48800., 48800., 48400., 47900., 48550.,\n",
              "       48000., 47850., 48800., 50300., 50000., 49950., 48750., 48850.,\n",
              "       49250., 49900., 50400., 50700., 51200., 51400., 54500., 54600.,\n",
              "       55500., 54900., 55500., 55400., 54300., 52300., 49900., 52100.,\n",
              "       52200., 52300., 52900., 52000., 51400., 52900., 51900., 53300.,\n",
              "       52400., 52800.])"
            ]
          },
          "metadata": {
            "tags": []
          },
          "execution_count": 273
        }
      ]
    },
    {
      "cell_type": "code",
      "metadata": {
        "id": "u1BcRMvrZ-tO",
        "colab_type": "code",
        "colab": {
          "base_uri": "https://localhost:8080/",
          "height": 34
        },
        "outputId": "a3415a0f-863a-43bc-de41-c60adf932f33"
      },
      "source": [
        "import os\n",
        "print(os.getcwd())"
      ],
      "execution_count": null,
      "outputs": [
        {
          "output_type": "stream",
          "text": [
            "/content\n"
          ],
          "name": "stdout"
        }
      ]
    },
    {
      "cell_type": "code",
      "metadata": {
        "id": "6offezwxaOWo",
        "colab_type": "code",
        "colab": {}
      },
      "source": [
        ""
      ],
      "execution_count": null,
      "outputs": []
    },
    {
      "cell_type": "code",
      "metadata": {
        "id": "3thB1-zabcHx",
        "colab_type": "code",
        "colab": {}
      },
      "source": [
        ""
      ],
      "execution_count": null,
      "outputs": []
    },
    {
      "cell_type": "code",
      "metadata": {
        "id": "4BBOioqobcBA",
        "colab_type": "code",
        "colab": {}
      },
      "source": [
        ""
      ],
      "execution_count": null,
      "outputs": []
    }
  ]
}