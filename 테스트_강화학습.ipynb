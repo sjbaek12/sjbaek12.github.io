{
  "nbformat": 4,
  "nbformat_minor": 0,
  "metadata": {
    "colab": {
      "name": "테스트 강화학습",
      "provenance": [],
      "collapsed_sections": [],
      "authorship_tag": "ABX9TyPlzaVNbvXKMrz+2nllDNFy",
      "include_colab_link": true
    },
    "kernelspec": {
      "name": "python3",
      "display_name": "Python 3"
    }
  },
  "cells": [
    {
      "cell_type": "markdown",
      "metadata": {
        "id": "view-in-github",
        "colab_type": "text"
      },
      "source": [
        "<a href=\"https://colab.research.google.com/github/sjbaek12/sjbaek12.github.io/blob/master/%ED%85%8C%EC%8A%A4%ED%8A%B8_%EA%B0%95%ED%99%94%ED%95%99%EC%8A%B5.ipynb\" target=\"_parent\"><img src=\"https://colab.research.google.com/assets/colab-badge.svg\" alt=\"Open In Colab\"/></a>"
      ]
    },
    {
      "cell_type": "markdown",
      "metadata": {
        "id": "PbNzyGr1xgti",
        "colab_type": "text"
      },
      "source": [
        "어떤 상태에서 특정한 액션을 취하면 리워드가 발생한다.\n",
        "정책신경망에서 어떤 상태일때 액선이 산출되고 그 산출로 인한 리워드가 최대가 되도록 정책신경망의 가중치를 조정한다. 그러면 리워드가 최대가 되는 액션을 산출하는 정책신경망이 될 것이다. \n",
        "\n",
        "loss함수는 리워드가 최대가 되는 액션을 산출했을 때, 마이너스 무한대가 되도록 조정하면 된다. "
      ]
    },
    {
      "cell_type": "markdown",
      "metadata": {
        "id": "n5zyxmm_KOAe",
        "colab_type": "text"
      },
      "source": [
        "먼저 LSTM과 일반적 deep learning 모델을 비교해본 결과 fit 능력에서 차이는 없었다."
      ]
    },
    {
      "cell_type": "code",
      "metadata": {
        "id": "uoNYrqyWxhgZ",
        "colab_type": "code",
        "colab": {}
      },
      "source": [
        "import numpy as np\n",
        "import matplotlib.pyplot as plt"
      ],
      "execution_count": 1,
      "outputs": []
    },
    {
      "cell_type": "code",
      "metadata": {
        "id": "rDPyv4nbyYRY",
        "colab_type": "code",
        "colab": {
          "base_uri": "https://localhost:8080/",
          "height": 265
        },
        "outputId": "fe1f5d5a-c965-44bc-d1de-da7c40c359f6"
      },
      "source": [
        "# 환경 모듈\n",
        "\n",
        "def env():\n",
        "  start_price = 3\n",
        "  pricej=[]\n",
        "  for i in range(50):\n",
        "    change = np.random.rand(1)*1.2\n",
        "    direction = np.random.choice(2, p=[0.5, 0.5])\n",
        "    if direction == 1:\n",
        "      if start_price - change[0] <= 0:\n",
        "         p = 1.0\n",
        "      else:\n",
        "         p = start_price - change[0]     \n",
        "    else: \n",
        "      p = start_price + change[0] \n",
        "    start_price = p\n",
        "    pricej.append(p)\n",
        "#  p_mean = np.mean(price)\n",
        "#  p_std = np.std(price)\n",
        "#  price = (price - p_mean)/p_std\n",
        "  \n",
        "  p_serise= []\n",
        "  for i in range(46):\n",
        "    serise = [pricej[i],pricej[i+1], pricej[i+2], pricej[i+3], pricej[i+4]]\n",
        "    serise = np.array(serise)\n",
        "    p_serise.append(serise)\n",
        "  p_serise= p_serise[0:50]\n",
        "  p_serise = np.array(p_serise)\n",
        "  #p_serise = p_serise.reshape(25, 5, 1)  # LSTM을 사용할 때 데이터 input 형태\n",
        "  price_lstm = pricej[5:]\n",
        "  price_lstm = np.array(price_lstm)\n",
        "  return pricej, p_serise, price_lstm\n",
        "\n",
        "pricej, p_serise, price_lstm = env()\n",
        "plt.plot(price_lstm)\n",
        "plt.show()"
      ],
      "execution_count": 40,
      "outputs": [
        {
          "output_type": "display_data",
          "data": {
            "image/png": "[encoded data removed]",
            "text/plain": [
              "<Figure size 432x288 with 1 Axes>"
            ]
          },
          "metadata": {
            "tags": [],
            "needs_background": "light"
          }
        }
      ]
    },
    {
      "cell_type": "code",
      "metadata": {
        "id": "GxlziTCzn5mc",
        "colab_type": "code",
        "colab": {
          "base_uri": "https://localhost:8080/",
          "height": 826
        },
        "outputId": "bea26fed-0dcc-4141-87e0-d069610ceca6"
      },
      "source": [
        "p_serise"
      ],
      "execution_count": 41,
      "outputs": [
        {
          "output_type": "execute_result",
          "data": {
            "text/plain": [
              "array([[3.17799967, 4.17586097, 4.95066884, 6.06504958, 7.18750235],\n",
              "       [4.17586097, 4.95066884, 6.06504958, 7.18750235, 6.76935831],\n",
              "       [4.95066884, 6.06504958, 7.18750235, 6.76935831, 6.65609726],\n",
              "       [6.06504958, 7.18750235, 6.76935831, 6.65609726, 6.6297789 ],\n",
              "       [7.18750235, 6.76935831, 6.65609726, 6.6297789 , 6.29458769],\n",
              "       [6.76935831, 6.65609726, 6.6297789 , 6.29458769, 6.57181928],\n",
              "       [6.65609726, 6.6297789 , 6.29458769, 6.57181928, 5.50130652],\n",
              "       [6.6297789 , 6.29458769, 6.57181928, 5.50130652, 4.37288084],\n",
              "       [6.29458769, 6.57181928, 5.50130652, 4.37288084, 3.62050784],\n",
              "       [6.57181928, 5.50130652, 4.37288084, 3.62050784, 4.23224831],\n",
              "       [5.50130652, 4.37288084, 3.62050784, 4.23224831, 5.04524605],\n",
              "       [4.37288084, 3.62050784, 4.23224831, 5.04524605, 6.10567767],\n",
              "       [3.62050784, 4.23224831, 5.04524605, 6.10567767, 6.55318244],\n",
              "       [4.23224831, 5.04524605, 6.10567767, 6.55318244, 6.01798916],\n",
              "       [5.04524605, 6.10567767, 6.55318244, 6.01798916, 5.57184312],\n",
              "       [6.10567767, 6.55318244, 6.01798916, 5.57184312, 6.67530705],\n",
              "       [6.55318244, 6.01798916, 5.57184312, 6.67530705, 7.69154625],\n",
              "       [6.01798916, 5.57184312, 6.67530705, 7.69154625, 6.8478398 ],\n",
              "       [5.57184312, 6.67530705, 7.69154625, 6.8478398 , 6.33102071],\n",
              "       [6.67530705, 7.69154625, 6.8478398 , 6.33102071, 7.15229063],\n",
              "       [7.69154625, 6.8478398 , 6.33102071, 7.15229063, 6.68503616],\n",
              "       [6.8478398 , 6.33102071, 7.15229063, 6.68503616, 7.28028596],\n",
              "       [6.33102071, 7.15229063, 6.68503616, 7.28028596, 7.21192544],\n",
              "       [7.15229063, 6.68503616, 7.28028596, 7.21192544, 6.79968214],\n",
              "       [6.68503616, 7.28028596, 7.21192544, 6.79968214, 6.182377  ],\n",
              "       [7.28028596, 7.21192544, 6.79968214, 6.182377  , 6.06344008],\n",
              "       [7.21192544, 6.79968214, 6.182377  , 6.06344008, 4.89330288],\n",
              "       [6.79968214, 6.182377  , 6.06344008, 4.89330288, 5.83112174],\n",
              "       [6.182377  , 6.06344008, 4.89330288, 5.83112174, 6.45260747],\n",
              "       [6.06344008, 4.89330288, 5.83112174, 6.45260747, 6.96087153],\n",
              "       [4.89330288, 5.83112174, 6.45260747, 6.96087153, 7.82857698],\n",
              "       [5.83112174, 6.45260747, 6.96087153, 7.82857698, 6.87530143],\n",
              "       [6.45260747, 6.96087153, 7.82857698, 6.87530143, 7.74308947],\n",
              "       [6.96087153, 7.82857698, 6.87530143, 7.74308947, 7.32897416],\n",
              "       [7.82857698, 6.87530143, 7.74308947, 7.32897416, 6.47277542],\n",
              "       [6.87530143, 7.74308947, 7.32897416, 6.47277542, 6.47392755],\n",
              "       [7.74308947, 7.32897416, 6.47277542, 6.47392755, 6.44710192],\n",
              "       [7.32897416, 6.47277542, 6.47392755, 6.44710192, 6.08669663],\n",
              "       [6.47277542, 6.47392755, 6.44710192, 6.08669663, 7.01656632],\n",
              "       [6.47392755, 6.44710192, 6.08669663, 7.01656632, 7.17873077],\n",
              "       [6.44710192, 6.08669663, 7.01656632, 7.17873077, 7.45595578],\n",
              "       [6.08669663, 7.01656632, 7.17873077, 7.45595578, 7.76588665],\n",
              "       [7.01656632, 7.17873077, 7.45595578, 7.76588665, 6.92918978],\n",
              "       [7.17873077, 7.45595578, 7.76588665, 6.92918978, 7.88214383],\n",
              "       [7.45595578, 7.76588665, 6.92918978, 7.88214383, 8.54776466],\n",
              "       [7.76588665, 6.92918978, 7.88214383, 8.54776466, 8.74202285]])"
            ]
          },
          "metadata": {
            "tags": []
          },
          "execution_count": 41
        }
      ]
    },
    {
      "cell_type": "code",
      "metadata": {
        "id": "2WyzYpCB2j4F",
        "colab_type": "code",
        "colab": {
          "base_uri": "https://localhost:8080/",
          "height": 34
        },
        "outputId": "e49b9a96-effc-4d5a-a218-4b4814b40e70"
      },
      "source": [
        "len(p_serise)"
      ],
      "execution_count": null,
      "outputs": [
        {
          "output_type": "execute_result",
          "data": {
            "text/plain": [
              "46"
            ]
          },
          "metadata": {
            "tags": []
          },
          "execution_count": 61
        }
      ]
    },
    {
      "cell_type": "markdown",
      "metadata": {
        "id": "OF674qQ2GKZa",
        "colab_type": "text"
      },
      "source": [
        "여기서부터 정책경사"
      ]
    },
    {
      "cell_type": "markdown",
      "metadata": {
        "id": "87QBKemz9z2Q",
        "colab_type": "text"
      },
      "source": [
        "여기부터가 에이전트에 해당하는 부분이다."
      ]
    },
    {
      "cell_type": "code",
      "metadata": {
        "id": "4Dg0NdtSsQhu",
        "colab_type": "code",
        "colab": {}
      },
      "source": [
        "#정책망이 예측한 대로 action을 선택한다.\n",
        "\n",
        "def action_choice(p_serise):\n",
        "  act = model_predict.predict(p_serise)\n",
        "  #act = np.argmax(act)\n",
        "  return act"
      ],
      "execution_count": 4,
      "outputs": []
    },
    {
      "cell_type": "code",
      "metadata": {
        "id": "bnKwo9vgVKMI",
        "colab_type": "code",
        "colab": {}
      },
      "source": [
        "# action_choice가 선택한 행동을 balance에 대비해서 가능한 행동인지 점검하고 틀린 경우 가능한 액션을 제시한다.\n",
        "# 당초 0 매수, 1 매도를 --> 0 매수, 1 hold, 2 매도로 전환 \n",
        "# 그리고 현재의 밸러스는 before 밸런스로 기록을 남긴다.\n",
        "\n",
        "def action_validate(act, price, balance):\n",
        "  if act == 0:\n",
        "    if balance[0] - price < 0:\n",
        "      act_v = 1\n",
        "    else:\n",
        "      act_v = 0\n",
        "        \n",
        "  if act == 1:\n",
        "    if balance[2] > 0 :\n",
        "      act_v = 2\n",
        "    else:\n",
        "      act_v = 1\n",
        "\n",
        "  before_act_balance = [balance[0], balance[1], balance[2]] \n",
        "\n",
        "  return act_v, before_act_balance"
      ],
      "execution_count": 5,
      "outputs": []
    },
    {
      "cell_type": "code",
      "metadata": {
        "id": "Tk6ddnSXxN2r",
        "colab_type": "code",
        "colab": {}
      },
      "source": [
        "# 검증이 완료된 행동으로 현재 밸런스를 갱신하고, 현재 가치를 구한다.\n",
        "\n",
        "def balance_update(balance, price, act_v):\n",
        "  if act_v == 0:\n",
        "    balance[0] = balance[0] - price\n",
        "    balance[1] = price\n",
        "    balance[2] = balance[2] + 1\n",
        "  if act_v == 1:\n",
        "    balance[1] = price\n",
        "  if act_v == 2:\n",
        "    balance[0] = balance[0] + price\n",
        "    balance[1] = price\n",
        "    balance[2] = balance[2] -1\n",
        "  balance_updated = [balance[0], balance[1], balance[2]] \n",
        "  present_value = balance[0] + balance[1] * balance[2]\n",
        "  return balance_updated, present_value"
      ],
      "execution_count": 6,
      "outputs": []
    },
    {
      "cell_type": "code",
      "metadata": {
        "id": "9BqjV5MRGBy0",
        "colab_type": "code",
        "colab": {}
      },
      "source": [
        "# 이전의 밸런스와 현재 밸런스와의 비율을 구한다.\n",
        "\n",
        "def pv_ratio_cal(before_act_balance, balance_updated):\n",
        "  pv_ratio = (balance_updated[0] + balance_updated[1] * balance_updated[2])/(before_act_balance[0] + before_act_balance[1] * before_act_balance[2])\n",
        "  return pv_ratio"
      ],
      "execution_count": 7,
      "outputs": []
    },
    {
      "cell_type": "code",
      "metadata": {
        "id": "ij5NYQ8QHfE7",
        "colab_type": "code",
        "colab": {}
      },
      "source": [
        "# delayed reward를 구하기 위해서 기준 포트폴리오와 현재 밸런스의 비율을 구하고, 타겟 비율을 넘는지 확인한다.\n",
        "# 만약 target을 넘으면 base_pv를 present_value를 변경한다.\n",
        "\n",
        "def base_to_cur (base_pv, present_value, target_ratio):\n",
        "  delay_ratio = (present_value - base_pv) / base_pv\n",
        "  if delay_ratio > target_ratio:\n",
        "    target = 1\n",
        "    base_pv = present_value\n",
        "  elif (-1 * delay_ratio) > target_ratio:\n",
        "    target = -1\n",
        "    base_pv = present_value\n",
        "  else:\n",
        "    target = 0\n",
        "    base_pv = base_pv\n",
        "  return delay_ratio, target, base_pv"
      ],
      "execution_count": 8,
      "outputs": []
    },
    {
      "cell_type": "markdown",
      "metadata": {
        "id": "1T8GyzQga6Dd",
        "colab_type": "text"
      },
      "source": [
        ""
      ]
    },
    {
      "cell_type": "code",
      "metadata": {
        "id": "ZG19QI3YAYcW",
        "colab_type": "code",
        "colab": {}
      },
      "source": [
        "# 거래와 관련된 모든 것을 기록한다.\n",
        "\n",
        "def record(i, price, act_v, balance_updated, present_value, pv_ratio, delay_ratio, target, base_pv):\n",
        "\n",
        "  transaction_history.append([i, price, act_v, balance_updated, present_value, pv_ratio,delay_ratio, target, base_pv])\n",
        "  return transaction_history"
      ],
      "execution_count": 9,
      "outputs": []
    },
    {
      "cell_type": "code",
      "metadata": {
        "id": "fSqTmJ2bGAL8",
        "colab_type": "code",
        "colab": {}
      },
      "source": [
        "# 학습을 위한 배치 데이터를 만든다.\n",
        "\n",
        "def get_batch(transaction_history):\n",
        "\n",
        "  for i in range(len(transaction_history)):\n",
        "    if transaction_history[i][7] == 1:\n",
        "      y = []\n",
        "      for j in range(i+1):\n",
        "        if transaction_history[j][2] == 0:\n",
        "          y.append([1.0, 0.0])\n",
        "        if transaction_history[j][2] == 2:\n",
        "          y.append([0.0, 1.0])\n",
        "        if transaction_history[j][2] == 1:   # 궁색하다.\n",
        "          y.append([1.0, 0.0])\n",
        "      price_data = [p_serise[j] for j in range(i+1)] \n",
        "\n",
        "      # 학습의 방향을 정해야 하는데 여기 문제가 있다. 구매는 0, 홀드는 1, 매도는 1이다.\n",
        "      # 이를 다시 정책신경망의 y 값으로 제공하기 위해서는 매수, 매도 각각 y값으로 만들어야 함으로\n",
        "      # 0은 매수 y는 [1,0, 0.0] 1은 [1.0, 0.0] 또는 [0.0, 1.0], 2는 [0.0, 1.0]으로 재가공\n",
        "\n",
        "\n",
        "    elif transaction_history[i][7] == -1:\n",
        "      y = []\n",
        "      for j in range(i+1):\n",
        "        if transaction_history[j][2] == 0:\n",
        "          y.append([0.0, 1.0])\n",
        "        if transaction_history[j][2] == 2:\n",
        "          y.append([1.0, 0.0])\n",
        "        if transaction_history[j][2] == 1:   # 궁색하다.\n",
        "          y.append([1.0, 0.0])\n",
        "      price_data = [p_serise[j] for j in range(i+1)] \n",
        "\n",
        "    else:\n",
        "      a  = np.random.choice(2, p=[0.5, 0.5])\n",
        "      if a == 1:\n",
        "        rand_choice = [1.0, 0.0]\n",
        "      else:\n",
        "        rand_choice = [0.0, 1.0]\n",
        "      y = [rand_choice for j in range(i+1)]   \n",
        "      price_data = [p_serise[j] for j in range(i+1)]    \n",
        "\n",
        "  return y, price_data"
      ],
      "execution_count": 23,
      "outputs": []
    },
    {
      "cell_type": "code",
      "metadata": {
        "id": "8H2uo6DtiBFK",
        "colab_type": "code",
        "colab": {}
      },
      "source": [
        ""
      ],
      "execution_count": null,
      "outputs": []
    },
    {
      "cell_type": "markdown",
      "metadata": {
        "id": "FOo8LTuXyI5E",
        "colab_type": "text"
      },
      "source": [
        "여기부터는 정책신경망 이다."
      ]
    },
    {
      "cell_type": "code",
      "metadata": {
        "id": "BD4QALBQyNEe",
        "colab_type": "code",
        "colab": {
          "base_uri": "https://localhost:8080/",
          "height": 34
        },
        "outputId": "921d4be7-2e10-43f8-dd76-cd66d3af4b2c"
      },
      "source": [
        "from tensorflow.keras.utils import to_categorical\n",
        "from tensorflow import keras\n",
        "import keras.layers as layers\n",
        "from keras.layers import LSTM, Dense\n",
        "from keras.models import Model, Sequential\n",
        "from keras.optimizers import Adam, RMSprop\n",
        "from keras.initializers import glorot_uniform\n",
        "from keras.callbacks import ModelCheckpoint, EarlyStopping\n",
        "import keras.backend as K  # 케라스의 backend를 K. 형식으로 호출하는 것이고 여기서는 tensorflow이다."
      ],
      "execution_count": 13,
      "outputs": [
        {
          "output_type": "stream",
          "text": [
            "Using TensorFlow backend.\n"
          ],
          "name": "stderr"
        }
      ]
    },
    {
      "cell_type": "code",
      "metadata": {
        "id": "sqfrHL4syNWQ",
        "colab_type": "code",
        "colab": {}
      },
      "source": [
        "def get_policy_model(lr):\n",
        "  inp_L = layers.Input(shape=(5,),name=\"input_L\")\n",
        "  dense_L = Dense(64)(inp_L)\n",
        "  output_s = layers.Dense(2, activation=\"sigmoid\",kernel_initializer=glorot_uniform(seed=42), use_bias=False, kernel_regularizer=keras.regularizers.l2(0.001), name=\"out\")(dense_L)\n",
        "\n",
        "  model_train = Model(inputs=inp_L, outputs = output_s)\n",
        "\n",
        "  model_train.compile(loss='mse', optimizer=Adam(lr), metrics = ['mae'])\n",
        "  model_predict = Model(inputs=inp_L, outputs = output_s)\n",
        "  return model_train, model_predict"
      ],
      "execution_count": 14,
      "outputs": []
    },
    {
      "cell_type": "code",
      "metadata": {
        "id": "sdiXiLhjyTSI",
        "colab_type": "code",
        "colab": {}
      },
      "source": [
        "model_train, model_predict = get_policy_model(0.001)"
      ],
      "execution_count": 15,
      "outputs": []
    },
    {
      "cell_type": "code",
      "metadata": {
        "id": "D_441GjMyNl1",
        "colab_type": "code",
        "colab": {
          "base_uri": "https://localhost:8080/",
          "height": 263
        },
        "outputId": "57bac9fa-5f32-430e-b1b6-39d9e5250614"
      },
      "source": [
        "model_train.summary()"
      ],
      "execution_count": 16,
      "outputs": [
        {
          "output_type": "stream",
          "text": [
            "Model: \"model_1\"\n",
            "_________________________________________________________________\n",
            "Layer (type)                 Output Shape              Param #   \n",
            "=================================================================\n",
            "input_L (InputLayer)         (None, 5)                 0         \n",
            "_________________________________________________________________\n",
            "dense_1 (Dense)              (None, 64)                384       \n",
            "_________________________________________________________________\n",
            "out (Dense)                  (None, 2)                 128       \n",
            "=================================================================\n",
            "Total params: 512\n",
            "Trainable params: 512\n",
            "Non-trainable params: 0\n",
            "_________________________________________________________________\n"
          ],
          "name": "stdout"
        }
      ]
    },
    {
      "cell_type": "code",
      "metadata": {
        "id": "NUIxfHNQ6Z5v",
        "colab_type": "code",
        "colab": {}
      },
      "source": [
        ""
      ],
      "execution_count": null,
      "outputs": []
    },
    {
      "cell_type": "code",
      "metadata": {
        "id": "iPLlpOH56Zz4",
        "colab_type": "code",
        "colab": {}
      },
      "source": [
        ""
      ],
      "execution_count": null,
      "outputs": []
    },
    {
      "cell_type": "markdown",
      "metadata": {
        "id": "IZHalhPGCE4J",
        "colab_type": "text"
      },
      "source": [
        "여기부터는 학습의 영역이다."
      ]
    },
    {
      "cell_type": "code",
      "metadata": {
        "id": "8m2KF-e-wFu1",
        "colab_type": "code",
        "colab": {
          "base_uri": "https://localhost:8080/",
          "height": 193
        },
        "outputId": "ab0d2096-ccb6-461a-b950-18b735ad4ee8"
      },
      "source": [
        "# random action과 신경망의 선택 action을 조정해야 한다.\n",
        "\n",
        "\n",
        "num_episode = 0\n",
        "num_episodes = 500\n",
        "transaction_history=[]\n",
        "target_ratio = 0.03\n",
        "\n",
        "history_record = []\n",
        "\n",
        "epsilon = 0.8\n",
        "\n",
        "while num_episode < num_episodes:\n",
        "\n",
        "  balance = [20, 0, 0]\n",
        "  base_pv = 20\n",
        "  \n",
        "\n",
        "  transaction_history=[]\n",
        "\n",
        "  for i in range(len(p_serise)):\n",
        "   \n",
        "    price = p_serise[i][4]\n",
        "\n",
        "    if np.random.rand() < epsilon :\n",
        "      act = np.random.choice(2, p=[0.5, 0.5])\n",
        "    else:\n",
        "      act = model_predict.predict(p_serise)\n",
        "      act =  np.argmax(action_choice(p_serise)[i])\n",
        "   \n",
        "    act_v, before_act_balance = action_validate(act, price, balance)\n",
        "\n",
        "    balance_updated, present_value = balance_update(balance, price, act_v)\n",
        "    pv_ratio = pv_ratio_cal(before_act_balance, balance_updated)\n",
        "   \n",
        "    delay_ratio, target, base_pv = base_to_cur(base_pv, present_value, target_ratio)\n",
        "  \n",
        "    transaction_history = record(i, price, act_v, balance_updated, present_value, pv_ratio, delay_ratio, target, base_pv)\n",
        "\n",
        "    if (target == 1 or target == -1):\n",
        "      y, price_data = get_batch(transaction_history)\n",
        "\n",
        "      price_data = np.array(price_data)\n",
        "      y = np.array(y)\n",
        "      loss = model_train.train_on_batch(price_data, y)\n",
        "\n",
        "      history_record.append(transaction_history)\n",
        "      transaction_history=[]\n",
        "    \n",
        "    else:\n",
        "      continue\n",
        "\n",
        "#      break\n",
        " \n",
        "\n",
        "  \n",
        "# 학습을 위한 batch를 가져온다\n",
        "\n",
        "#  y, price_data = get_batch(transaction_history)\n",
        "\n",
        "#  price_data = np.array(price_data)\n",
        "#  y = np.array(y)\n",
        "\n",
        "#  loss = model_train.train_on_batch(price_data, y)\n",
        "  \n",
        "  if (num_episode+1) % 50 == 0:\n",
        "\n",
        "    print(\"num_episode: \",num_episode+1, \"loss: \", loss[0], \"mse :\", loss[1])\n",
        "\n",
        "  num_episode += 1\n",
        "  epsilon = epsilon / num_episode\n",
        "\n",
        "\n",
        "\n",
        "\n",
        "\n",
        "\n",
        "\n",
        "\n",
        "    "
      ],
      "execution_count": 42,
      "outputs": [
        {
          "output_type": "stream",
          "text": [
            "num_episode:  50 loss:  0.001153191 mse : 0.028089337\n",
            "num_episode:  100 loss:  0.0011858002 mse : 0.025571033\n",
            "num_episode:  150 loss:  0.0020384176 mse : 0.039735965\n",
            "num_episode:  200 loss:  0.0024007373 mse : 0.044389587\n",
            "num_episode:  250 loss:  0.00247093 mse : 0.045207754\n",
            "num_episode:  300 loss:  0.0024083832 mse : 0.04440389\n",
            "num_episode:  350 loss:  0.002410086 mse : 0.044414483\n",
            "num_episode:  400 loss:  0.0018386344 mse : 0.036987096\n",
            "num_episode:  450 loss:  0.00285214 mse : 0.049253523\n",
            "num_episode:  500 loss:  0.0024483353 mse : 0.04476837\n"
          ],
          "name": "stdout"
        }
      ]
    },
    {
      "cell_type": "code",
      "metadata": {
        "id": "5J-rx_enEPrI",
        "colab_type": "code",
        "colab": {
          "base_uri": "https://localhost:8080/",
          "height": 1000
        },
        "outputId": "841bbe9b-3a0a-4495-ecb2-051ea3470ac6"
      },
      "source": [
        "history_record"
      ],
      "execution_count": 29,
      "outputs": [
        {
          "output_type": "execute_result",
          "data": {
            "text/plain": [
              "[[[0, 4.018788051786164, 1, [20, 4.018788051786164, 0], 20.0, 1.0, 0.0, 0, 20],\n",
              "  [1, 3.530874690118589, 1, [20, 3.530874690118589, 0], 20.0, 1.0, 0.0, 0, 20],\n",
              "  [2, 3.088595536411238, 1, [20, 3.088595536411238, 0], 20.0, 1.0, 0.0, 0, 20],\n",
              "  [3,\n",
              "   2.7493083295798746,\n",
              "   0,\n",
              "   [17.250691670420125, 2.7493083295798746, 1],\n",
              "   20.0,\n",
              "   1.0,\n",
              "   0.0,\n",
              "   0,\n",
              "   20],\n",
              "  [4,\n",
              "   2.1826598888610356,\n",
              "   2,\n",
              "   [19.43335155928116, 2.1826598888610356, 0],\n",
              "   19.43335155928116,\n",
              "   0.971667577964058,\n",
              "   -0.028332422035941995,\n",
              "   0,\n",
              "   20],\n",
              "  [5,\n",
              "   2.787688292998591,\n",
              "   0,\n",
              "   [16.64566326628257, 2.787688292998591, 1],\n",
              "   19.43335155928116,\n",
              "   1.0,\n",
              "   -0.028332422035941995,\n",
              "   0,\n",
              "   20],\n",
              "  [6,\n",
              "   3.1146299205371717,\n",
              "   0,\n",
              "   [13.531033345745396, 3.1146299205371717, 2],\n",
              "   19.760293186819737,\n",
              "   1.0168237386403085,\n",
              "   -0.011985340659013133,\n",
              "   0,\n",
              "   20],\n",
              "  [7,\n",
              "   2.836282088577107,\n",
              "   0,\n",
              "   [10.694751257168289, 2.836282088577107, 3],\n",
              "   19.20359752289961,\n",
              "   0.9718275605196259,\n",
              "   -0.0398201238550195,\n",
              "   -1,\n",
              "   19.20359752289961]],\n",
              " [[8,\n",
              "   2.676108210459101,\n",
              "   0,\n",
              "   [8.018643046709187, 2.676108210459101, 4],\n",
              "   18.72307588854559,\n",
              "   0.9749775200307643,\n",
              "   -0.025022479969235685,\n",
              "   0,\n",
              "   19.20359752289961],\n",
              "  [9,\n",
              "   1.780403010624953,\n",
              "   0,\n",
              "   [6.238240036084234, 1.780403010624953, 5],\n",
              "   15.140255089208999,\n",
              "   0.8086414422147116,\n",
              "   -0.2115927720753999,\n",
              "   -1,\n",
              "   15.140255089208999]],\n",
              " [[10,\n",
              "   1.2666501046919185,\n",
              "   2,\n",
              "   [7.504890140776152, 1.2666501046919185, 4],\n",
              "   12.571490559543825,\n",
              "   0.8303354524392377,\n",
              "   -0.1696645475607623,\n",
              "   -1,\n",
              "   12.571490559543825]],\n",
              " [[11,\n",
              "   1.1678870100232712,\n",
              "   0,\n",
              "   [6.337003130752881, 1.1678870100232712, 5],\n",
              "   12.176438180869237,\n",
              "   0.968575533919112,\n",
              "   -0.031424466080887975,\n",
              "   -1,\n",
              "   12.176438180869237]],\n",
              " [[12,\n",
              "   0.12563334822974692,\n",
              "   0,\n",
              "   [6.211369782523134, 0.12563334822974692, 6],\n",
              "   6.965169871901615,\n",
              "   0.5720203041678313,\n",
              "   -0.4279796958321687,\n",
              "   -1,\n",
              "   6.965169871901615]],\n",
              " [[13,\n",
              "   1.0,\n",
              "   0,\n",
              "   [5.211369782523134, 1.0, 7],\n",
              "   12.211369782523134,\n",
              "   1.753204876134516,\n",
              "   0.7532048761345159,\n",
              "   1,\n",
              "   12.211369782523134]],\n",
              " [[14,\n",
              "   1.5442319234441644,\n",
              "   2,\n",
              "   [6.755601705967298, 1.5442319234441644, 6],\n",
              "   16.020993246632283,\n",
              "   1.3119734748808827,\n",
              "   0.31197347488088256,\n",
              "   1,\n",
              "   16.020993246632283]],\n",
              " [[15,\n",
              "   2.5868781305859048,\n",
              "   2,\n",
              "   [9.342479836553203, 2.5868781305859048, 5],\n",
              "   22.276870489482725,\n",
              "   1.390479987510479,\n",
              "   0.39047998751047897,\n",
              "   1,\n",
              "   22.276870489482725]],\n",
              " [[16,\n",
              "   3.0467611215636503,\n",
              "   0,\n",
              "   [6.295718714989553, 3.0467611215636503, 6],\n",
              "   24.576285444371457,\n",
              "   1.1032198376326838,\n",
              "   0.1032198376326838,\n",
              "   1,\n",
              "   24.576285444371457]],\n",
              " [[17,\n",
              "   2.6598312976485765,\n",
              "   0,\n",
              "   [3.6358874173409763, 2.6598312976485765, 7],\n",
              "   22.254706500881014,\n",
              "   0.9055358081372651,\n",
              "   -0.09446419186273487,\n",
              "   -1,\n",
              "   22.254706500881014]],\n",
              " [[18,\n",
              "   3.5623291921265987,\n",
              "   0,\n",
              "   [0.0735582252143776, 3.5623291921265987, 8],\n",
              "   28.572191762227167,\n",
              "   1.2838718749715283,\n",
              "   0.2838718749715283,\n",
              "   1,\n",
              "   28.572191762227167]],\n",
              " [[19,\n",
              "   4.687809659182111,\n",
              "   2,\n",
              "   [4.761367884396488, 4.687809659182111, 7],\n",
              "   37.576035498671274,\n",
              "   1.3151261132282932,\n",
              "   0.3151261132282933,\n",
              "   1,\n",
              "   37.576035498671274]],\n",
              " [[20,\n",
              "   5.216346069549436,\n",
              "   2,\n",
              "   [9.977713953945925, 5.216346069549436, 6],\n",
              "   41.27579037124254,\n",
              "   1.0984604901361161,\n",
              "   0.09846049013611603,\n",
              "   1,\n",
              "   41.27579037124254]],\n",
              " [[21,\n",
              "   4.429476898775749,\n",
              "   0,\n",
              "   [5.548237055170175, 4.429476898775749, 7],\n",
              "   36.554575346600416,\n",
              "   0.8856178165898558,\n",
              "   -0.11438218341014417,\n",
              "   -1,\n",
              "   36.554575346600416]],\n",
              " [[22,\n",
              "   5.251474769468797,\n",
              "   0,\n",
              "   [0.2967622857013783, 5.251474769468797, 8],\n",
              "   42.30856044145175,\n",
              "   1.1574080683551549,\n",
              "   0.1574080683551549,\n",
              "   1,\n",
              "   42.30856044145175]],\n",
              " [[23,\n",
              "   5.727622235103399,\n",
              "   1,\n",
              "   [0.2967622857013783, 5.727622235103399, 8],\n",
              "   46.11774016652857,\n",
              "   1.09003330969741,\n",
              "   0.09003330969741004,\n",
              "   1,\n",
              "   46.11774016652857]],\n",
              " [[24,\n",
              "   6.187070780817579,\n",
              "   2,\n",
              "   [6.483833066518957, 6.187070780817579, 7],\n",
              "   49.79332853224201,\n",
              "   1.0797000970221242,\n",
              "   0.07970009702212412,\n",
              "   1,\n",
              "   49.79332853224201]],\n",
              " [[25,\n",
              "   5.856526912938866,\n",
              "   2,\n",
              "   [12.340359979457823, 5.856526912938866, 6],\n",
              "   47.47952145709102,\n",
              "   0.9535317854147316,\n",
              "   -0.04646821458526842,\n",
              "   -1,\n",
              "   47.47952145709102]],\n",
              " [[26,\n",
              "   5.257280877784579,\n",
              "   2,\n",
              "   [17.597640857242403, 5.257280877784579, 5],\n",
              "   43.8840452461653,\n",
              "   0.9242731160596241,\n",
              "   -0.07572688394037587,\n",
              "   -1,\n",
              "   43.8840452461653]],\n",
              " [[27,\n",
              "   6.040750824711294,\n",
              "   0,\n",
              "   [11.55689003253111, 6.040750824711294, 6],\n",
              "   47.80139498079887,\n",
              "   1.0892659214222251,\n",
              "   0.08926592142222523,\n",
              "   1,\n",
              "   47.80139498079887]],\n",
              " [[28,\n",
              "   6.657636308416681,\n",
              "   2,\n",
              "   [18.214526340947792, 6.657636308416681, 5],\n",
              "   51.5027078830312,\n",
              "   1.0774310645896232,\n",
              "   0.07743106458962327,\n",
              "   1,\n",
              "   51.5027078830312]],\n",
              " [[29,\n",
              "   7.527468585354451,\n",
              "   2,\n",
              "   [25.741994926302244, 7.527468585354451, 4],\n",
              "   55.85186926772005,\n",
              "   1.084445295470023,\n",
              "   0.08444529547002293,\n",
              "   1,\n",
              "   55.85186926772005]],\n",
              " [[30,\n",
              "   7.039836824611563,\n",
              "   0,\n",
              "   [18.70215810169068, 7.039836824611563, 5],\n",
              "   53.901342224748504,\n",
              "   0.9650767813406227,\n",
              "   -0.03492321865937732,\n",
              "   -1,\n",
              "   53.901342224748504]],\n",
              " [[31,\n",
              "   6.883742395769848,\n",
              "   0,\n",
              "   [11.818415705920835, 6.883742395769848, 6],\n",
              "   53.12087008053992,\n",
              "   0.9855203578984304,\n",
              "   -0.01447964210156962,\n",
              "   0,\n",
              "   53.901342224748504],\n",
              "  [32,\n",
              "   8.07541828912064,\n",
              "   2,\n",
              "   [19.893833995041476, 8.07541828912064, 5],\n",
              "   60.270925440644675,\n",
              "   1.1345997411048445,\n",
              "   0.11817114292511276,\n",
              "   1,\n",
              "   60.270925440644675]],\n",
              " [[33,\n",
              "   8.524831682920452,\n",
              "   0,\n",
              "   [11.369002312121024, 8.524831682920452, 6],\n",
              "   62.51799240964374,\n",
              "   1.0372827686412747,\n",
              "   0.03728276864127456,\n",
              "   1,\n",
              "   62.51799240964374]],\n",
              " [[34,\n",
              "   9.351467211790881,\n",
              "   0,\n",
              "   [2.017535100330143, 9.351467211790881, 7],\n",
              "   67.47780558286632,\n",
              "   1.079334172164772,\n",
              "   0.079334172164772,\n",
              "   1,\n",
              "   67.47780558286632]],\n",
              " [[35,\n",
              "   8.67902483558729,\n",
              "   2,\n",
              "   [10.696559935917433, 8.67902483558729, 6],\n",
              "   62.77070894944117,\n",
              "   0.9302422982969625,\n",
              "   -0.06975770170303756,\n",
              "   -1,\n",
              "   62.77070894944117]],\n",
              " [[36,\n",
              "   9.014739088295284,\n",
              "   2,\n",
              "   [19.711299024212718, 9.014739088295284, 5],\n",
              "   64.78499446568914,\n",
              "   1.0320895772878778,\n",
              "   0.03208957728787766,\n",
              "   1,\n",
              "   64.78499446568914]],\n",
              " [[37,\n",
              "   9.601779788288878,\n",
              "   2,\n",
              "   [29.313078812501594, 9.601779788288878, 4],\n",
              "   67.7201979656571,\n",
              "   1.0453068418725031,\n",
              "   0.04530684187250314,\n",
              "   1,\n",
              "   67.7201979656571]],\n",
              " [[38,\n",
              "   10.764194258204242,\n",
              "   2,\n",
              "   [40.077273070705836, 10.764194258204242, 3],\n",
              "   72.36985584531857,\n",
              "   1.0686598388566353,\n",
              "   0.06865983885663535,\n",
              "   1,\n",
              "   72.36985584531857]],\n",
              " [[39,\n",
              "   11.209656751493132,\n",
              "   2,\n",
              "   [51.28692982219897, 11.209656751493132, 2],\n",
              "   73.70624332518523,\n",
              "   1.0184660790636784,\n",
              "   0.018466079063678364,\n",
              "   0,\n",
              "   72.36985584531857],\n",
              "  [40,\n",
              "   12.404257397587271,\n",
              "   0,\n",
              "   [38.8826724246117, 12.404257397587271, 3],\n",
              "   76.09544461737352,\n",
              "   1.0324151820036107,\n",
              "   0.051479842381031184,\n",
              "   1,\n",
              "   76.09544461737352]],\n",
              " [[41,\n",
              "   13.041405499738527,\n",
              "   0,\n",
              "   [25.84126692487317, 13.041405499738527, 4],\n",
              "   78.00688892382728,\n",
              "   1.025119037231006,\n",
              "   0.02511903723100599,\n",
              "   0,\n",
              "   76.09544461737352],\n",
              "  [42,\n",
              "   12.31859490284239,\n",
              "   0,\n",
              "   [13.52267202203078, 12.31859490284239, 5],\n",
              "   75.11564653624274,\n",
              "   0.9629360633724567,\n",
              "   -0.012875909800612179,\n",
              "   0,\n",
              "   76.09544461737352],\n",
              "  [43,\n",
              "   11.301753879388357,\n",
              "   2,\n",
              "   [24.82442590141914, 11.301753879388357, 4],\n",
              "   70.03144141897258,\n",
              "   0.932314965633464,\n",
              "   -0.0796894377697933,\n",
              "   -1,\n",
              "   70.03144141897258]],\n",
              " [[44,\n",
              "   10.497670926040422,\n",
              "   2,\n",
              "   [35.32209682745956, 10.497670926040422, 3],\n",
              "   66.81510960558083,\n",
              "   0.9540730313667313,\n",
              "   -0.045926968633268686,\n",
              "   -1,\n",
              "   66.81510960558083]],\n",
              " [[0, 4.018788051786164, 1, [20, 4.018788051786164, 0], 20.0, 1.0, 0.0, 0, 20],\n",
              "  [1, 3.530874690118589, 1, [20, 3.530874690118589, 0], 20.0, 1.0, 0.0, 0, 20],\n",
              "  [2, 3.088595536411238, 1, [20, 3.088595536411238, 0], 20.0, 1.0, 0.0, 0, 20],\n",
              "  [3,\n",
              "   2.7493083295798746,\n",
              "   0,\n",
              "   [17.250691670420125, 2.7493083295798746, 1],\n",
              "   20.0,\n",
              "   1.0,\n",
              "   0.0,\n",
              "   0,\n",
              "   20],\n",
              "  [4,\n",
              "   2.1826598888610356,\n",
              "   2,\n",
              "   [19.43335155928116, 2.1826598888610356, 0],\n",
              "   19.43335155928116,\n",
              "   0.971667577964058,\n",
              "   -0.028332422035941995,\n",
              "   0,\n",
              "   20],\n",
              "  [5,\n",
              "   2.787688292998591,\n",
              "   0,\n",
              "   [16.64566326628257, 2.787688292998591, 1],\n",
              "   19.43335155928116,\n",
              "   1.0,\n",
              "   -0.028332422035941995,\n",
              "   0,\n",
              "   20],\n",
              "  [6,\n",
              "   3.1146299205371717,\n",
              "   2,\n",
              "   [19.76029318681974, 3.1146299205371717, 0],\n",
              "   19.76029318681974,\n",
              "   1.0168237386403087,\n",
              "   -0.011985340659012956,\n",
              "   0,\n",
              "   20],\n",
              "  [7,\n",
              "   2.836282088577107,\n",
              "   1,\n",
              "   [19.76029318681974, 2.836282088577107, 0],\n",
              "   19.76029318681974,\n",
              "   1.0,\n",
              "   -0.011985340659012956,\n",
              "   0,\n",
              "   20],\n",
              "  [8,\n",
              "   2.676108210459101,\n",
              "   0,\n",
              "   [17.08418497636064, 2.676108210459101, 1],\n",
              "   19.76029318681974,\n",
              "   1.0,\n",
              "   -0.011985340659012956,\n",
              "   0,\n",
              "   20],\n",
              "  [9,\n",
              "   1.780403010624953,\n",
              "   2,\n",
              "   [18.86458798698559, 1.780403010624953, 0],\n",
              "   18.86458798698559,\n",
              "   0.954671462039258,\n",
              "   -0.05677060065072048,\n",
              "   -1,\n",
              "   18.86458798698559]],\n",
              " [[10,\n",
              "   1.2666501046919185,\n",
              "   0,\n",
              "   [17.59793788229367, 1.2666501046919185, 1],\n",
              "   18.86458798698559,\n",
              "   1.0,\n",
              "   0.0,\n",
              "   0,\n",
              "   18.86458798698559],\n",
              "  [11,\n",
              "   1.1678870100232712,\n",
              "   0,\n",
              "   [16.4300508722704, 1.1678870100232712, 2],\n",
              "   18.765824892316942,\n",
              "   0.9947646301770925,\n",
              "   -0.005235369822907514,\n",
              "   0,\n",
              "   18.86458798698559],\n",
              "  [12,\n",
              "   0.12563334822974692,\n",
              "   0,\n",
              "   [16.30441752404065, 0.12563334822974692, 3],\n",
              "   16.68131756872989,\n",
              "   0.8889200269346814,\n",
              "   -0.11573379814931053,\n",
              "   -1,\n",
              "   16.68131756872989]],\n",
              " [[13,\n",
              "   1.0,\n",
              "   2,\n",
              "   [17.30441752404065, 1.0, 2],\n",
              "   19.30441752404065,\n",
              "   1.1572477680197106,\n",
              "   0.15724776801971055,\n",
              "   1,\n",
              "   19.30441752404065]],\n",
              " [[14,\n",
              "   1.5442319234441644,\n",
              "   2,\n",
              "   [18.848649447484817, 1.5442319234441644, 1],\n",
              "   20.392881370928983,\n",
              "   1.0563841848909876,\n",
              "   0.05638418489098769,\n",
              "   1,\n",
              "   20.392881370928983]],\n",
              " [[15,\n",
              "   2.5868781305859048,\n",
              "   0,\n",
              "   [16.261771316898912, 2.5868781305859048, 2],\n",
              "   21.435527578070722,\n",
              "   1.0511279494141559,\n",
              "   0.051127949414155924,\n",
              "   1,\n",
              "   21.435527578070722]],\n",
              " [[16,\n",
              "   3.0467611215636503,\n",
              "   0,\n",
              "   [13.215010195335262, 3.0467611215636503, 3],\n",
              "   22.35529356002621,\n",
              "   1.0429084835260338,\n",
              "   0.04290848352603373,\n",
              "   1,\n",
              "   22.35529356002621]],\n",
              " [[17,\n",
              "   2.6598312976485765,\n",
              "   0,\n",
              "   [10.555178897686686, 2.6598312976485765, 4],\n",
              "   21.194504088280993,\n",
              "   0.9480754091361681,\n",
              "   -0.05192459086383195,\n",
              "   -1,\n",
              "   21.194504088280993]],\n",
              " [[18,\n",
              "   3.5623291921265987,\n",
              "   2,\n",
              "   [14.117508089813285, 3.5623291921265987, 3],\n",
              "   24.80449566619308,\n",
              "   1.1703267773039403,\n",
              "   0.17032677730394022,\n",
              "   1,\n",
              "   24.80449566619308]],\n",
              " [[19,\n",
              "   4.687809659182111,\n",
              "   0,\n",
              "   [9.429698430631174, 4.687809659182111, 4],\n",
              "   28.18093706735962,\n",
              "   1.136122154895026,\n",
              "   0.1361221548950261,\n",
              "   1,\n",
              "   28.18093706735962]],\n",
              " [[20,\n",
              "   5.216346069549436,\n",
              "   2,\n",
              "   [14.64604450018061, 5.216346069549436, 3],\n",
              "   30.295082708828918,\n",
              "   1.0750204166886272,\n",
              "   0.07502041668862724,\n",
              "   1,\n",
              "   30.295082708828918]],\n",
              " [[21,\n",
              "   4.429476898775749,\n",
              "   2,\n",
              "   [19.075521398956358, 4.429476898775749, 2],\n",
              "   27.934475196507854,\n",
              "   0.9220795158405984,\n",
              "   -0.07792048415940156,\n",
              "   -1,\n",
              "   27.934475196507854]],\n",
              " [[22,\n",
              "   5.251474769468797,\n",
              "   0,\n",
              "   [13.824046629487562, 5.251474769468797, 3],\n",
              "   29.578470937893954,\n",
              "   1.0588518570626886,\n",
              "   0.05885185706268857,\n",
              "   1,\n",
              "   29.578470937893954]],\n",
              " [[23,\n",
              "   5.727622235103399,\n",
              "   2,\n",
              "   [19.55166886459096, 5.727622235103399, 2],\n",
              "   31.00691333479776,\n",
              "   1.048293314414498,\n",
              "   0.04829331441449801,\n",
              "   1,\n",
              "   31.00691333479776]],\n",
              " [[24,\n",
              "   6.187070780817579,\n",
              "   0,\n",
              "   [13.364598083773384, 6.187070780817579, 3],\n",
              "   31.92581042622612,\n",
              "   1.029635232682033,\n",
              "   0.029635232682032987,\n",
              "   0,\n",
              "   31.00691333479776],\n",
              "  [25,\n",
              "   5.856526912938866,\n",
              "   0,\n",
              "   [7.508071170834517, 5.856526912938866, 4],\n",
              "   30.934178822589985,\n",
              "   0.9689395009743734,\n",
              "   -0.0023457514594381348,\n",
              "   0,\n",
              "   31.00691333479776],\n",
              "  [26,\n",
              "   5.257280877784579,\n",
              "   0,\n",
              "   [2.2507902930499384, 5.257280877784579, 5],\n",
              "   28.537194681972835,\n",
              "   0.9225134064697806,\n",
              "   -0.0796505806997971,\n",
              "   -1,\n",
              "   28.537194681972835]],\n",
              " [[27,\n",
              "   6.040750824711294,\n",
              "   1,\n",
              "   [2.2507902930499384, 6.040750824711294, 5],\n",
              "   32.45454441660641,\n",
              "   1.1372717177805916,\n",
              "   0.1372717177805916,\n",
              "   1,\n",
              "   32.45454441660641]],\n",
              " [[28,\n",
              "   6.657636308416681,\n",
              "   1,\n",
              "   [2.2507902930499384, 6.657636308416681, 5],\n",
              "   35.538971835133346,\n",
              "   1.0950383828820192,\n",
              "   0.09503838288201912,\n",
              "   1,\n",
              "   35.538971835133346]],\n",
              " [[29,\n",
              "   7.527468585354451,\n",
              "   2,\n",
              "   [9.77825887840439, 7.527468585354451, 4],\n",
              "   39.888133219822194,\n",
              "   1.1223772427875736,\n",
              "   0.12237724278757346,\n",
              "   1,\n",
              "   39.888133219822194]],\n",
              " [[30,\n",
              "   7.039836824611563,\n",
              "   2,\n",
              "   [16.818095703015953, 7.039836824611563, 3],\n",
              "   37.93760617685064,\n",
              "   0.9511000669742486,\n",
              "   -0.0488999330257513,\n",
              "   -1,\n",
              "   37.93760617685064]],\n",
              " [[31,\n",
              "   6.883742395769848,\n",
              "   0,\n",
              "   [9.934353307246106, 6.883742395769848, 4],\n",
              "   37.4693228903255,\n",
              "   0.9876564882786176,\n",
              "   -0.012343511721382334,\n",
              "   0,\n",
              "   37.93760617685064],\n",
              "  [32,\n",
              "   8.07541828912064,\n",
              "   0,\n",
              "   [1.8589350181254662, 8.07541828912064, 5],\n",
              "   42.23602646372866,\n",
              "   1.1272161652708679,\n",
              "   0.1133023593223153,\n",
              "   1,\n",
              "   42.23602646372866]],\n",
              " [[33,\n",
              "   8.524831682920452,\n",
              "   1,\n",
              "   [1.8589350181254662, 8.524831682920452, 5],\n",
              "   44.48309343272772,\n",
              "   1.0532026129619174,\n",
              "   0.05320261296191741,\n",
              "   1,\n",
              "   44.48309343272772]],\n",
              " [[34,\n",
              "   9.351467211790881,\n",
              "   2,\n",
              "   [11.210402229916347, 9.351467211790881, 4],\n",
              "   48.61627107707987,\n",
              "   1.0929156972997573,\n",
              "   0.09291569729975732,\n",
              "   1,\n",
              "   48.61627107707987]],\n",
              " [[35,\n",
              "   8.67902483558729,\n",
              "   0,\n",
              "   [2.5313773943290574, 8.67902483558729, 5],\n",
              "   45.92650157226551,\n",
              "   0.944673471551329,\n",
              "   -0.05532652844867108,\n",
              "   -1,\n",
              "   45.92650157226551]],\n",
              " [[36,\n",
              "   9.014739088295284,\n",
              "   2,\n",
              "   [11.546116482624342, 9.014739088295284, 4],\n",
              "   47.60507283580548,\n",
              "   1.036549077462361,\n",
              "   0.036549077462360906,\n",
              "   1,\n",
              "   47.60507283580548]],\n",
              " [[37,\n",
              "   9.601779788288878,\n",
              "   2,\n",
              "   [21.147896270913222, 9.601779788288878, 3],\n",
              "   49.953235635779855,\n",
              "   1.0493258944918207,\n",
              "   0.04932589449182058,\n",
              "   1,\n",
              "   49.953235635779855]],\n",
              " [[38,\n",
              "   10.764194258204242,\n",
              "   2,\n",
              "   [31.912090529117464, 10.764194258204242, 2],\n",
              "   53.44047904552595,\n",
              "   1.069810160750594,\n",
              "   0.069810160750594,\n",
              "   1,\n",
              "   53.44047904552595]],\n",
              " [[39,\n",
              "   11.209656751493132,\n",
              "   2,\n",
              "   [43.12174728061059, 11.209656751493132, 1],\n",
              "   54.33140403210372,\n",
              "   1.016671351052426,\n",
              "   0.016671351052425884,\n",
              "   0,\n",
              "   53.44047904552595],\n",
              "  [40,\n",
              "   12.404257397587271,\n",
              "   2,\n",
              "   [55.526004678197864, 12.404257397587271, 0],\n",
              "   55.526004678197864,\n",
              "   1.0219872956971308,\n",
              "   0.03902520467481696,\n",
              "   1,\n",
              "   55.526004678197864]],\n",
              " [[41,\n",
              "   13.041405499738527,\n",
              "   0,\n",
              "   [42.484599178459334, 13.041405499738527, 1],\n",
              "   55.526004678197864,\n",
              "   1.0,\n",
              "   0.0,\n",
              "   0,\n",
              "   55.526004678197864],\n",
              "  [42,\n",
              "   12.31859490284239,\n",
              "   0,\n",
              "   [30.16600427561694, 12.31859490284239, 2],\n",
              "   54.803194081301726,\n",
              "   0.9869824850340808,\n",
              "   -0.013017514965919172,\n",
              "   0,\n",
              "   55.526004678197864],\n",
              "  [43,\n",
              "   11.301753879388357,\n",
              "   2,\n",
              "   [41.4677581550053, 11.301753879388357, 1],\n",
              "   52.76951203439366,\n",
              "   0.962891176673187,\n",
              "   -0.049643273629707725,\n",
              "   -1,\n",
              "   52.76951203439366]],\n",
              " [[0, 4.018788051786164, 1, [20, 4.018788051786164, 0], 20.0, 1.0, 0.0, 0, 20],\n",
              "  [1, 3.530874690118589, 1, [20, 3.530874690118589, 0], 20.0, 1.0, 0.0, 0, 20],\n",
              "  [2, 3.088595536411238, 1, [20, 3.088595536411238, 0], 20.0, 1.0, 0.0, 0, 20],\n",
              "  [3,\n",
              "   2.7493083295798746,\n",
              "   1,\n",
              "   [20, 2.7493083295798746, 0],\n",
              "   20.0,\n",
              "   1.0,\n",
              "   0.0,\n",
              "   0,\n",
              "   20],\n",
              "  [4,\n",
              "   2.1826598888610356,\n",
              "   0,\n",
              "   [17.817340111138964, 2.1826598888610356, 1],\n",
              "   20.0,\n",
              "   1.0,\n",
              "   0.0,\n",
              "   0,\n",
              "   20],\n",
              "  [5,\n",
              "   2.787688292998591,\n",
              "   0,\n",
              "   [15.029651818140373, 2.787688292998591, 2],\n",
              "   20.605028404137556,\n",
              "   1.0302514202068778,\n",
              "   0.03025142020687781,\n",
              "   1,\n",
              "   20.605028404137556]],\n",
              " [[6,\n",
              "   3.1146299205371717,\n",
              "   2,\n",
              "   [18.144281738677545, 3.1146299205371717, 1],\n",
              "   21.258911659214718,\n",
              "   1.031734159364025,\n",
              "   0.03173415936402493,\n",
              "   1,\n",
              "   21.258911659214718]],\n",
              " [[7,\n",
              "   2.836282088577107,\n",
              "   2,\n",
              "   [20.980563827254652, 2.836282088577107, 0],\n",
              "   20.980563827254652,\n",
              "   0.9869067694328832,\n",
              "   -0.013093230567116778,\n",
              "   0,\n",
              "   21.258911659214718],\n",
              "  [8,\n",
              "   2.676108210459101,\n",
              "   1,\n",
              "   [20.980563827254652, 2.676108210459101, 0],\n",
              "   20.980563827254652,\n",
              "   1.0,\n",
              "   -0.013093230567116778,\n",
              "   0,\n",
              "   21.258911659214718],\n",
              "  [9,\n",
              "   1.780403010624953,\n",
              "   1,\n",
              "   [20.980563827254652, 1.780403010624953, 0],\n",
              "   20.980563827254652,\n",
              "   1.0,\n",
              "   -0.013093230567116778,\n",
              "   0,\n",
              "   21.258911659214718],\n",
              "  [10,\n",
              "   1.2666501046919185,\n",
              "   1,\n",
              "   [20.980563827254652, 1.2666501046919185, 0],\n",
              "   20.980563827254652,\n",
              "   1.0,\n",
              "   -0.013093230567116778,\n",
              "   0,\n",
              "   21.258911659214718],\n",
              "  [11,\n",
              "   1.1678870100232712,\n",
              "   1,\n",
              "   [20.980563827254652, 1.1678870100232712, 0],\n",
              "   20.980563827254652,\n",
              "   1.0,\n",
              "   -0.013093230567116778,\n",
              "   0,\n",
              "   21.258911659214718],\n",
              "  [12,\n",
              "   0.12563334822974692,\n",
              "   1,\n",
              "   [20.980563827254652, 0.12563334822974692, 0],\n",
              "   20.980563827254652,\n",
              "   1.0,\n",
              "   -0.013093230567116778,\n",
              "   0,\n",
              "   21.258911659214718],\n",
              "  [13,\n",
              "   1.0,\n",
              "   1,\n",
              "   [20.980563827254652, 1.0, 0],\n",
              "   20.980563827254652,\n",
              "   1.0,\n",
              "   -0.013093230567116778,\n",
              "   0,\n",
              "   21.258911659214718],\n",
              "  [14,\n",
              "   1.5442319234441644,\n",
              "   1,\n",
              "   [20.980563827254652, 1.5442319234441644, 0],\n",
              "   20.980563827254652,\n",
              "   1.0,\n",
              "   -0.013093230567116778,\n",
              "   0,\n",
              "   21.258911659214718],\n",
              "  [15,\n",
              "   2.5868781305859048,\n",
              "   1,\n",
              "   [20.980563827254652, 2.5868781305859048, 0],\n",
              "   20.980563827254652,\n",
              "   1.0,\n",
              "   -0.013093230567116778,\n",
              "   0,\n",
              "   21.258911659214718],\n",
              "  [16,\n",
              "   3.0467611215636503,\n",
              "   0,\n",
              "   [17.933802705691, 3.0467611215636503, 1],\n",
              "   20.980563827254652,\n",
              "   1.0,\n",
              "   -0.013093230567116778,\n",
              "   0,\n",
              "   21.258911659214718],\n",
              "  [17,\n",
              "   2.6598312976485765,\n",
              "   2,\n",
              "   [20.593634003339577, 2.6598312976485765, 0],\n",
              "   20.593634003339577,\n",
              "   0.9815577013515511,\n",
              "   -0.03129405994717395,\n",
              "   -1,\n",
              "   20.593634003339577]],\n",
              " [[18,\n",
              "   3.5623291921265987,\n",
              "   1,\n",
              "   [20.593634003339577, 3.5623291921265987, 0],\n",
              "   20.593634003339577,\n",
              "   1.0,\n",
              "   0.0,\n",
              "   0,\n",
              "   20.593634003339577],\n",
              "  [19,\n",
              "   4.687809659182111,\n",
              "   1,\n",
              "   [20.593634003339577, 4.687809659182111, 0],\n",
              "   20.593634003339577,\n",
              "   1.0,\n",
              "   0.0,\n",
              "   0,\n",
              "   20.593634003339577],\n",
              "  [20,\n",
              "   5.216346069549436,\n",
              "   1,\n",
              "   [20.593634003339577, 5.216346069549436, 0],\n",
              "   20.593634003339577,\n",
              "   1.0,\n",
              "   0.0,\n",
              "   0,\n",
              "   20.593634003339577],\n",
              "  [21,\n",
              "   4.429476898775749,\n",
              "   1,\n",
              "   [20.593634003339577, 4.429476898775749, 0],\n",
              "   20.593634003339577,\n",
              "   1.0,\n",
              "   0.0,\n",
              "   0,\n",
              "   20.593634003339577],\n",
              "  [22,\n",
              "   5.251474769468797,\n",
              "   1,\n",
              "   [20.593634003339577, 5.251474769468797, 0],\n",
              "   20.593634003339577,\n",
              "   1.0,\n",
              "   0.0,\n",
              "   0,\n",
              "   20.593634003339577],\n",
              "  [23,\n",
              "   5.727622235103399,\n",
              "   1,\n",
              "   [20.593634003339577, 5.727622235103399, 0],\n",
              "   20.593634003339577,\n",
              "   1.0,\n",
              "   0.0,\n",
              "   0,\n",
              "   20.593634003339577],\n",
              "  [24,\n",
              "   6.187070780817579,\n",
              "   1,\n",
              "   [20.593634003339577, 6.187070780817579, 0],\n",
              "   20.593634003339577,\n",
              "   1.0,\n",
              "   0.0,\n",
              "   0,\n",
              "   20.593634003339577],\n",
              "  [25,\n",
              "   5.856526912938866,\n",
              "   1,\n",
              "   [20.593634003339577, 5.856526912938866, 0],\n",
              "   20.593634003339577,\n",
              "   1.0,\n",
              "   0.0,\n",
              "   0,\n",
              "   20.593634003339577],\n",
              "  [26,\n",
              "   5.257280877784579,\n",
              "   1,\n",
              "   [20.593634003339577, 5.257280877784579, 0],\n",
              "   20.593634003339577,\n",
              "   1.0,\n",
              "   0.0,\n",
              "   0,\n",
              "   20.593634003339577],\n",
              "  [27,\n",
              "   6.040750824711294,\n",
              "   1,\n",
              "   [20.593634003339577, 6.040750824711294, 0],\n",
              "   20.593634003339577,\n",
              "   1.0,\n",
              "   0.0,\n",
              "   0,\n",
              "   20.593634003339577],\n",
              "  [28,\n",
              "   6.657636308416681,\n",
              "   1,\n",
              "   [20.593634003339577, 6.657636308416681, 0],\n",
              "   20.593634003339577,\n",
              "   1.0,\n",
              "   0.0,\n",
              "   0,\n",
              "   20.593634003339577],\n",
              "  [29,\n",
              "   7.527468585354451,\n",
              "   1,\n",
              "   [20.593634003339577, 7.527468585354451, 0],\n",
              "   20.593634003339577,\n",
              "   1.0,\n",
              "   0.0,\n",
              "   0,\n",
              "   20.593634003339577],\n",
              "  [30,\n",
              "   7.039836824611563,\n",
              "   1,\n",
              "   [20.593634003339577, 7.039836824611563, 0],\n",
              "   20.593634003339577,\n",
              "   1.0,\n",
              "   0.0,\n",
              "   0,\n",
              "   20.593634003339577],\n",
              "  [31,\n",
              "   6.883742395769848,\n",
              "   1,\n",
              "   [20.593634003339577, 6.883742395769848, 0],\n",
              "   20.593634003339577,\n",
              "   1.0,\n",
              "   0.0,\n",
              "   0,\n",
              "   20.593634003339577],\n",
              "  [32,\n",
              "   8.07541828912064,\n",
              "   1,\n",
              "   [20.593634003339577, 8.07541828912064, 0],\n",
              "   20.593634003339577,\n",
              "   1.0,\n",
              "   0.0,\n",
              "   0,\n",
              "   20.593634003339577],\n",
              "  [33,\n",
              "   8.524831682920452,\n",
              "   0,\n",
              "   [12.068802320419126, 8.524831682920452, 1],\n",
              "   20.593634003339577,\n",
              "   1.0,\n",
              "   0.0,\n",
              "   0,\n",
              "   20.593634003339577],\n",
              "  [34,\n",
              "   9.351467211790881,\n",
              "   2,\n",
              "   [21.420269532210007, 9.351467211790881, 0],\n",
              "   21.420269532210007,\n",
              "   1.0401403428232423,\n",
              "   0.04014034282324227,\n",
              "   1,\n",
              "   21.420269532210007]],\n",
              " [[35,\n",
              "   8.67902483558729,\n",
              "   1,\n",
              "   [21.420269532210007, 8.67902483558729, 0],\n",
              "   21.420269532210007,\n",
              "   1.0,\n",
              "   0.0,\n",
              "   0,\n",
              "   21.420269532210007],\n",
              "  [36,\n",
              "   9.014739088295284,\n",
              "   1,\n",
              "   [21.420269532210007, 9.014739088295284, 0],\n",
              "   21.420269532210007,\n",
              "   1.0,\n",
              "   0.0,\n",
              "   0,\n",
              "   21.420269532210007],\n",
              "  [37,\n",
              "   9.601779788288878,\n",
              "   1,\n",
              "   [21.420269532210007, 9.601779788288878, 0],\n",
              "   21.420269532210007,\n",
              "   1.0,\n",
              "   0.0,\n",
              "   0,\n",
              "   21.420269532210007],\n",
              "  [38,\n",
              "   10.764194258204242,\n",
              "   1,\n",
              "   [21.420269532210007, 10.764194258204242, 0],\n",
              "   21.420269532210007,\n",
              "   1.0,\n",
              "   0.0,\n",
              "   0,\n",
              "   21.420269532210007],\n",
              "  [39,\n",
              "   11.209656751493132,\n",
              "   0,\n",
              "   [10.210612780716875, 11.209656751493132, 1],\n",
              "   21.420269532210007,\n",
              "   1.0,\n",
              "   0.0,\n",
              "   0,\n",
              "   21.420269532210007],\n",
              "  [40,\n",
              "   12.404257397587271,\n",
              "   2,\n",
              "   [22.614870178304145, 12.404257397587271, 0],\n",
              "   22.614870178304145,\n",
              "   1.055769636525712,\n",
              "   0.05576963652571212,\n",
              "   1,\n",
              "   22.614870178304145]],\n",
              " [[41,\n",
              "   13.041405499738527,\n",
              "   0,\n",
              "   [9.573464678565617, 13.041405499738527, 1],\n",
              "   22.614870178304145,\n",
              "   1.0,\n",
              "   0.0,\n",
              "   0,\n",
              "   22.614870178304145],\n",
              "  [42,\n",
              "   12.31859490284239,\n",
              "   2,\n",
              "   [21.892059581408006, 12.31859490284239, 0],\n",
              "   21.892059581408006,\n",
              "   0.9680382601714169,\n",
              "   -0.03196173982858305,\n",
              "   -1,\n",
              "   21.892059581408006]]]"
            ]
          },
          "metadata": {
            "tags": []
          },
          "execution_count": 29
        }
      ]
    },
    {
      "cell_type": "code",
      "metadata": {
        "id": "Tiw8inRifyZK",
        "colab_type": "code",
        "colab": {
          "base_uri": "https://localhost:8080/",
          "height": 34
        },
        "outputId": "fa958cd0-ee78-4b82-d8e4-d1837b48aed4"
      },
      "source": [
        "transaction_history"
      ],
      "execution_count": null,
      "outputs": [
        {
          "output_type": "execute_result",
          "data": {
            "text/plain": [
              "[]"
            ]
          },
          "metadata": {
            "tags": []
          },
          "execution_count": 49
        }
      ]
    },
    {
      "cell_type": "code",
      "metadata": {
        "id": "I9xyQaVFvOHH",
        "colab_type": "code",
        "colab": {
          "base_uri": "https://localhost:8080/",
          "height": 34
        },
        "outputId": "e0a59649-9e9b-4f2c-ea19-3e55331c10ad"
      },
      "source": [
        "len(act_f)"
      ],
      "execution_count": null,
      "outputs": [
        {
          "output_type": "execute_result",
          "data": {
            "text/plain": [
              "46"
            ]
          },
          "metadata": {
            "tags": []
          },
          "execution_count": 60
        }
      ]
    },
    {
      "cell_type": "markdown",
      "metadata": {
        "id": "ge_mWVAy229o",
        "colab_type": "text"
      },
      "source": [
        "여기부터는 검증 셋"
      ]
    },
    {
      "cell_type": "code",
      "metadata": {
        "id": "cdK7dZFJA81b",
        "colab_type": "code",
        "colab": {}
      },
      "source": [
        "balance_t = [20, 0, 0]\n",
        "base_pv_t = 20\n",
        "pvt_list = []\n",
        "act_v_t_list =[]\n",
        "\n",
        "for i in range(len(p_serise)):\n",
        "  \n",
        "  price = p_serise[i][4]\n",
        "  act_f = model_predict.predict(p_serise)[i]\n",
        "  act_f = np.argmax(act_f)\n",
        "  act_v_t, before_act_balance_t = action_validate(act_f, price, balance_t)\n",
        "  act_v_t_list.append(act_v_t)\n",
        "\n",
        "  balance_updated_t, present_value_t = balance_update(balance, price, act_v_t)\n",
        "  pvt_list.append(present_value_t)\n",
        "\n",
        "balance_t = [20, 0, 0]\n",
        "base_pv_t = 20\n",
        "\n",
        "\n",
        "  "
      ],
      "execution_count": 58,
      "outputs": []
    },
    {
      "cell_type": "code",
      "metadata": {
        "id": "I6wNe9LjkBHp",
        "colab_type": "code",
        "colab": {
          "base_uri": "https://localhost:8080/",
          "height": 265
        },
        "outputId": "46869826-3c80-411f-c60a-9a792e0fd289"
      },
      "source": [
        "plt.plot(pvt_list)\n",
        "plt.show()"
      ],
      "execution_count": 59,
      "outputs": [
        {
          "output_type": "display_data",
          "data": {
            "image/png": "[encoded data removed]",
            "text/plain": [
              "<Figure size 432x288 with 1 Axes>"
            ]
          },
          "metadata": {
            "tags": [],
            "needs_background": "light"
          }
        }
      ]
    },
    {
      "cell_type": "code",
      "metadata": {
        "id": "c4_7UpWb4t5b",
        "colab_type": "code",
        "colab": {
          "base_uri": "https://localhost:8080/",
          "height": 826
        },
        "outputId": "cf89b712-29a1-425f-ac8b-c31f5ebbeff7"
      },
      "source": [
        "act_v_t_list"
      ],
      "execution_count": 48,
      "outputs": [
        {
          "output_type": "execute_result",
          "data": {
            "text/plain": [
              "[0,\n",
              " 0,\n",
              " 0,\n",
              " 0,\n",
              " 0,\n",
              " 0,\n",
              " 0,\n",
              " 1,\n",
              " 1,\n",
              " 0,\n",
              " 0,\n",
              " 0,\n",
              " 0,\n",
              " 0,\n",
              " 0,\n",
              " 0,\n",
              " 0,\n",
              " 0,\n",
              " 0,\n",
              " 0,\n",
              " 0,\n",
              " 0,\n",
              " 0,\n",
              " 0,\n",
              " 0,\n",
              " 0,\n",
              " 1,\n",
              " 0,\n",
              " 0,\n",
              " 0,\n",
              " 0,\n",
              " 0,\n",
              " 0,\n",
              " 0,\n",
              " 0,\n",
              " 0,\n",
              " 0,\n",
              " 0,\n",
              " 0,\n",
              " 0,\n",
              " 0,\n",
              " 0,\n",
              " 0,\n",
              " 0,\n",
              " 0,\n",
              " 0]"
            ]
          },
          "metadata": {
            "tags": []
          },
          "execution_count": 48
        }
      ]
    },
    {
      "cell_type": "code",
      "metadata": {
        "id": "QXZY4yzzCO0A",
        "colab_type": "code",
        "colab": {
          "base_uri": "https://localhost:8080/",
          "height": 826
        },
        "outputId": "bb256385-417a-472e-fe36-3c3e9f38c55c"
      },
      "source": [
        "model_predict.predict(p_serise)"
      ],
      "execution_count": 37,
      "outputs": [
        {
          "output_type": "execute_result",
          "data": {
            "text/plain": [
              "array([[0.43809104, 0.5532676 ],\n",
              "       [0.17132473, 0.8131696 ],\n",
              "       [0.10741076, 0.887551  ],\n",
              "       [0.19450396, 0.7952615 ],\n",
              "       [0.09078774, 0.90492797],\n",
              "       [0.14325789, 0.8529537 ],\n",
              "       [0.16682854, 0.8252994 ],\n",
              "       [0.20783877, 0.7839641 ],\n",
              "       [0.2929499 , 0.69760156],\n",
              "       [0.1751906 , 0.8175409 ],\n",
              "       [0.1453959 , 0.85240704],\n",
              "       [0.15538421, 0.8428644 ],\n",
              "       [0.13363343, 0.8656073 ],\n",
              "       [0.29395628, 0.7131426 ],\n",
              "       [0.3211311 , 0.6764327 ],\n",
              "       [0.4208239 , 0.57978475],\n",
              "       [0.60605145, 0.38466907],\n",
              "       [0.4626227 , 0.5263104 ],\n",
              "       [0.4469903 , 0.54378045],\n",
              "       [0.28005993, 0.7041136 ],\n",
              "       [0.24327117, 0.7393004 ],\n",
              "       [0.2850849 , 0.69241595],\n",
              "       [0.23564479, 0.7483871 ],\n",
              "       [0.1013608 , 0.8859261 ],\n",
              "       [0.08838475, 0.9013871 ],\n",
              "       [0.13522345, 0.8470934 ],\n",
              "       [0.08048123, 0.90925527],\n",
              "       [0.07003579, 0.9216449 ],\n",
              "       [0.0467568 , 0.94605875],\n",
              "       [0.07541275, 0.913558  ],\n",
              "       [0.0969215 , 0.88593185],\n",
              "       [0.07035273, 0.9184941 ],\n",
              "       [0.05416551, 0.93630373],\n",
              "       [0.02699694, 0.9670671 ],\n",
              "       [0.05324203, 0.9358625 ],\n",
              "       [0.04744804, 0.9405458 ],\n",
              "       [0.02926695, 0.9642925 ],\n",
              "       [0.01959792, 0.9752439 ],\n",
              "       [0.01417238, 0.98206866],\n",
              "       [0.02301735, 0.969923  ],\n",
              "       [0.02729404, 0.96430254],\n",
              "       [0.01816049, 0.975018  ],\n",
              "       [0.00782788, 0.9891112 ],\n",
              "       [0.00563514, 0.99227685],\n",
              "       [0.00202348, 0.99726164],\n",
              "       [0.00107189, 0.9985807 ]], dtype=float32)"
            ]
          },
          "metadata": {
            "tags": []
          },
          "execution_count": 37
        }
      ]
    },
    {
      "cell_type": "code",
      "metadata": {
        "id": "_QnJnNQ3COxW",
        "colab_type": "code",
        "colab": {
          "base_uri": "https://localhost:8080/",
          "height": 52
        },
        "outputId": "c97156a5-88a9-42d5-a2c6-97640cee2748"
      },
      "source": [
        "for i in range(11):\n",
        "  if i == 5:\n",
        "    print(i)\n",
        "    continue\n",
        "  if i ==10:\n",
        "    print(i)"
      ],
      "execution_count": null,
      "outputs": [
        {
          "output_type": "stream",
          "text": [
            "5\n",
            "10\n"
          ],
          "name": "stdout"
        }
      ]
    },
    {
      "cell_type": "code",
      "metadata": {
        "id": "YO3z5VbSn4Rs",
        "colab_type": "code",
        "colab": {}
      },
      "source": [
        ""
      ],
      "execution_count": null,
      "outputs": []
    },
    {
      "cell_type": "code",
      "metadata": {
        "id": "nDPgJZbPn4iH",
        "colab_type": "code",
        "colab": {}
      },
      "source": [
        ""
      ],
      "execution_count": null,
      "outputs": []
    },
    {
      "cell_type": "code",
      "metadata": {
        "id": "tPRQGQwzn4cJ",
        "colab_type": "code",
        "colab": {}
      },
      "source": [
        ""
      ],
      "execution_count": null,
      "outputs": []
    },
    {
      "cell_type": "markdown",
      "metadata": {
        "id": "kxMksbeaKDJM",
        "colab_type": "text"
      },
      "source": [
        "여기가 끝이다."
      ]
    },
    {
      "cell_type": "code",
      "metadata": {
        "id": "SI8QKecFCOu1",
        "colab_type": "code",
        "colab": {}
      },
      "source": [
        ""
      ],
      "execution_count": null,
      "outputs": []
    },
    {
      "cell_type": "code",
      "metadata": {
        "id": "BuAebEm_COof",
        "colab_type": "code",
        "colab": {}
      },
      "source": [
        "from tensorflow import keras\n",
        "from tensorflow.keras.utils import to_categorical\n",
        "y_encoded = keras.utils.to_categorical(action, 2) # 분류 갯수를 정하기 위한 인수(2)가 필요하다."
      ],
      "execution_count": null,
      "outputs": []
    },
    {
      "cell_type": "code",
      "metadata": {
        "id": "Ul2K9MCnCOlJ",
        "colab_type": "code",
        "colab": {}
      },
      "source": [
        "def balance_update(predict, p_serise):\n",
        "\n",
        "  acts = []\n",
        "  balance = [100, 0, 0]  #[자본금, 종가, 보유주식수] 이다.\n",
        "  blist = [[100.0, 0.0, 0.0]]\n",
        "  for i in range(len(predict)):\n",
        "    action = np.random.choice(3,p=predict[i]) # 대안 중에서 하나를 선택한다. \n",
        "    \n",
        "    if action == 0 and (balance[0] - p_serise[i][4]) < 0:\n",
        "      ps = predict[i][1] + predict[i][2]\n",
        "      pn = [predict[i][1],predict[i][2]]/ps\n",
        "      action = 1+ np.random.choice(2,p=pn) \n",
        "\n",
        "    if action == 2 and balance[2] <= 0:\n",
        "      ps = predict[i][0] + predict[i][1]\n",
        "      pn = [predict[i][0],predict[i][1]]/ps\n",
        "      action = np.random.choice(2,p=pn)  \n",
        "\n",
        "    if action == 1:  # hold\n",
        "      balance[1] = p_serise[i][4]\n",
        "\n",
        "    if action  == 0:  # buy\n",
        "      balance[0] = balance[0] - p_serise[i][4]\n",
        "      balance[1] = p_serise[i][4]\n",
        "      balance[2] = balance[2] + 1\n",
        "\n",
        "    if action  == 2:\n",
        "      balance[0] = balance[0] + p_serise[i][4]\n",
        "      balance[1] = p_serise[i][4]\n",
        "      balance[2] = balance[2] - 1 \n",
        "     \n",
        "    blist.append([balance[0], balance[1], balance[2]])\n",
        "    acts.append(action)\n",
        "  return blist, acts"
      ],
      "execution_count": null,
      "outputs": []
    },
    {
      "cell_type": "code",
      "metadata": {
        "id": "CW6izHkVNTWr",
        "colab_type": "code",
        "colab": {}
      },
      "source": [
        "def reward_portfolio (blist):   \n",
        "\n",
        "  reward_sum_list=[]\n",
        "  reward_list=[]\n",
        "   \n",
        "\n",
        "  for a in blist:\n",
        "    reward_sum = a[0] + a[1] * a[2]\n",
        "    reward_sum_list.append(reward_sum)\n",
        "\n",
        "  for i in range(len(reward_sum_list)-1):\n",
        "    reward = np.abs(reward_sum_list[i+1] - reward_sum_list[i]) # 가중치를 일괄적으로 양 수로 만들어서 손실함수 계산의 방향을 일관되게 만든다.\n",
        "    reward_list.append(reward)      \n",
        "  return reward_sum_list, reward_list\n",
        "\n"
      ],
      "execution_count": null,
      "outputs": []
    },
    {
      "cell_type": "code",
      "metadata": {
        "id": "1QJO6PsGdru9",
        "colab_type": "code",
        "colab": {}
      },
      "source": [
        "def discount_rewards(r, gamma=0.5):\n",
        "    \"\"\"Takes 1d float array of rewards and computes discounted reward\n",
        "    e.g. f([1, 1, 1], 0.99) -> [2.9701, 1.99, 1]\n",
        "    \"\"\"\n",
        "    prior = 0\n",
        "    out = []\n",
        "    r = r[::-1]\n",
        "    for val in r:\n",
        "        new_val = val + prior * gamma\n",
        "        out.append(new_val)\n",
        "        prior = new_val\n",
        "    return np.array(out[::-1])"
      ],
      "execution_count": null,
      "outputs": []
    },
    {
      "cell_type": "code",
      "metadata": {
        "id": "E__9jrhId8jq",
        "colab_type": "code",
        "colab": {}
      },
      "source": [
        ""
      ],
      "execution_count": null,
      "outputs": []
    },
    {
      "cell_type": "code",
      "metadata": {
        "id": "52938aqWnN-c",
        "colab_type": "code",
        "colab": {
          "base_uri": "https://localhost:8080/",
          "height": 34
        },
        "outputId": "210ebf42-2bb5-4c93-9498-e944c3f3ecde"
      },
      "source": [
        "from tensorflow.keras.utils import to_categorical\n",
        "from tensorflow import keras\n",
        "import keras.layers as layers\n",
        "from keras.layers import LSTM, Dense\n",
        "from keras.models import Model, Sequential\n",
        "from keras.optimizers import Adam, RMSprop\n",
        "from keras.initializers import glorot_uniform\n",
        "from keras.callbacks import ModelCheckpoint, EarlyStopping\n",
        "import keras.backend as K  # 케라스의 backend를 K. 형식으로 호출하는 것이고 여기서는 tensorflow이다."
      ],
      "execution_count": null,
      "outputs": [
        {
          "output_type": "stream",
          "text": [
            "Using TensorFlow backend.\n"
          ],
          "name": "stderr"
        }
      ]
    },
    {
      "cell_type": "code",
      "metadata": {
        "id": "KCPbLji1nrUn",
        "colab_type": "code",
        "colab": {}
      },
      "source": [
        "def get_policy_model(lr):\n",
        "  inp_L = layers.Input(shape=(5,),name=\"input_L\")\n",
        "  multip = layers.Input(shape=[1], name=\"advantages\")\n",
        "  dense_L = Dense(64)(inp_L)\n",
        "  output_s = layers.Dense(3, activation=\"softmax\",kernel_initializer=glorot_uniform(seed=42), use_bias=False, kernel_regularizer=keras.regularizers.l2(0.001), name=\"out\")(dense_L)\n",
        "\n",
        "  model_train = Model(inputs=[inp_L, multip], outputs = output_s)\n",
        "\n",
        "  # loss 함수를 actual과 predict가 같을때 -무한대가 되도록 만든다. 완전히 틀리면 0 이므로 loss 함수의 값의 범위는 -무한대 ~ 0 이다.\n",
        "  def custom_loss(y_true, y_pred):\n",
        "    # actual: 0 predict: 0 -> log(0 * (0 - 0) + (1 - 0) * (0 + 0)) = -inf   log(0) = - inf\n",
        "    # actual: 1 predict: 1 -> log(1 * (1 - 1) + (1 - 1) * (1 + 1)) = -inf   \n",
        "    # actual: 1 predict: 0 -> log(1 * (1 - 0) + (1 - 1) * (1 + 0)) = 0      log(1) = 0\n",
        "    # actual: 0 predict: 1 -> log(0 * (0 - 1) + (1 - 0) * (0 + 1)) = 0\n",
        "    a = y_true * (y_true - y_pred) + (1 - y_true) * (y_true + y_pred)\n",
        "    log_lik = K.log(a)\n",
        "    return K.mean(log_lik * multip, keepdims=True)\n",
        "\n",
        "  model_train.compile(loss=custom_loss, optimizer=Adam(lr), metrics = ['mae'])\n",
        "  model_predict = Model(inputs=[inp_L], outputs = output_s)\n",
        "  return model_train, model_predict"
      ],
      "execution_count": null,
      "outputs": []
    },
    {
      "cell_type": "code",
      "metadata": {
        "id": "Tf2pQzw7oOcE",
        "colab_type": "code",
        "colab": {}
      },
      "source": [
        "model_train, model_predict = get_policy_model(0.00001)"
      ],
      "execution_count": null,
      "outputs": []
    },
    {
      "cell_type": "code",
      "metadata": {
        "id": "BdCAk3uqoOf4",
        "colab_type": "code",
        "colab": {
          "base_uri": "https://localhost:8080/",
          "height": 263
        },
        "outputId": "87b33d10-6db3-4a14-a684-09a81d87c9c2"
      },
      "source": [
        "model_train.summary()"
      ],
      "execution_count": null,
      "outputs": [
        {
          "output_type": "stream",
          "text": [
            "Model: \"model_1\"\n",
            "_________________________________________________________________\n",
            "Layer (type)                 Output Shape              Param #   \n",
            "=================================================================\n",
            "input_L (InputLayer)         (None, 5)                 0         \n",
            "_________________________________________________________________\n",
            "dense_1 (Dense)              (None, 64)                384       \n",
            "_________________________________________________________________\n",
            "out (Dense)                  (None, 3)                 192       \n",
            "=================================================================\n",
            "Total params: 576\n",
            "Trainable params: 576\n",
            "Non-trainable params: 0\n",
            "_________________________________________________________________\n"
          ],
          "name": "stdout"
        }
      ]
    },
    {
      "cell_type": "code",
      "metadata": {
        "id": "cnaVguhh0ykz",
        "colab_type": "code",
        "colab": {}
      },
      "source": [
        ""
      ],
      "execution_count": null,
      "outputs": []
    },
    {
      "cell_type": "code",
      "metadata": {
        "id": "ee-kc84l2EFX",
        "colab_type": "code",
        "colab": {}
      },
      "source": [
        ""
      ],
      "execution_count": null,
      "outputs": []
    },
    {
      "cell_type": "code",
      "metadata": {
        "id": "l5VxtpM8oOjg",
        "colab_type": "code",
        "colab": {
          "base_uri": "https://localhost:8080/",
          "height": 1000
        },
        "outputId": "3f41dab9-4f97-48c7-dc91-448644782edc"
      },
      "source": [
        "# Setting up our environment\n",
        "\n",
        "num_actions = 3\n",
        "num_episode = 0\n",
        "num_episodes = 10000\n",
        "\n",
        "balance=[100.0, 0.0, 0.0]   \n",
        "\n",
        "action_list = []\n",
        "reward_list = []\n",
        "reward_sum_list = []\n",
        "\n",
        "price, p_serise, price_lstm = env()\n",
        "\n",
        "while num_episode < num_episodes:\n",
        "\n",
        "    losses = []\n",
        "     \n",
        "    p_serise = p_serise.astype(float) # nan 발생을 막기 위한 시도이다.\n",
        "\n",
        "    predict = model_predict.predict(p_serise)  # 한개의 state를 input해서 신경망을 통해 action을 만들어낸다.\n",
        "      \n",
        "    blist, acts = balance_update(predict, p_serise)\n",
        "\n",
        "    reward_sum_list, reward_list = reward_portfolio(blist)\n",
        "\n",
        "   \n",
        "    if reward_sum_list[-1] > 120.0:\n",
        "      break\n",
        "    else:\n",
        "      y_encoded = keras.utils.to_categorical(acts, 3)\n",
        "      dis_re = discount_rewards(reward_list)\n",
        "      loss = model_train.train_on_batch([p_serise, dis_re/100], y_encoded)\n",
        "\n",
        "    losses.append(loss)\n",
        "\n",
        "    if (num_episode+1) % 100 == 0:\n",
        "      print(\"num_episode: \",num_episode+1, \"loss: \", losses[-1][0], \"model_reward: \", reward_sum_list[-1])\n",
        "          \n",
        "    num_episode += 1\n",
        "    price, p_serise, price_lstm = env()\n"
      ],
      "execution_count": null,
      "outputs": [
        {
          "output_type": "stream",
          "text": [
            "num_episode:  100 loss:  -0.0015004296 model_reward:  98.43091745899021\n",
            "num_episode:  200 loss:  0.005515466 model_reward:  100.0\n",
            "num_episode:  300 loss:  0.00019470043 model_reward:  98.40993966995285\n",
            "num_episode:  400 loss:  0.0054811565 model_reward:  100.0\n",
            "num_episode:  500 loss:  0.0054636374 model_reward:  100.0\n",
            "num_episode:  600 loss:  0.0054448424 model_reward:  100.0\n",
            "num_episode:  700 loss:  0.005426042 model_reward:  100.0\n",
            "num_episode:  800 loss:  0.0024502221 model_reward:  99.17197107528669\n",
            "num_episode:  900 loss:  0.005381563 model_reward:  100.0\n",
            "num_episode:  1000 loss:  -0.0010551126 model_reward:  98.56116042059348\n",
            "num_episode:  1100 loss:  0.005335754 model_reward:  100.0\n",
            "num_episode:  1200 loss:  0.0053128023 model_reward:  100.0\n",
            "num_episode:  1300 loss:  0.0052875252 model_reward:  100.0\n",
            "num_episode:  1400 loss:  0.005262426 model_reward:  100.0\n",
            "num_episode:  1500 loss:  0.00523735 model_reward:  100.0\n",
            "num_episode:  1600 loss:  0.0052127033 model_reward:  100.0\n",
            "num_episode:  1700 loss:  0.005186327 model_reward:  100.0\n",
            "num_episode:  1800 loss:  0.005159652 model_reward:  100.0\n",
            "num_episode:  1900 loss:  0.0051343893 model_reward:  100.0\n",
            "num_episode:  2000 loss:  0.005107552 model_reward:  100.0\n",
            "num_episode:  2100 loss:  0.005079513 model_reward:  100.0\n",
            "num_episode:  2200 loss:  0.005052191 model_reward:  100.0\n",
            "num_episode:  2300 loss:  0.0050252248 model_reward:  100.0\n",
            "num_episode:  2400 loss:  0.004996138 model_reward:  100.0\n",
            "num_episode:  2500 loss:  0.0049682437 model_reward:  100.0\n",
            "num_episode:  2600 loss:  0.004939787 model_reward:  100.0\n",
            "num_episode:  2700 loss:  0.0049096253 model_reward:  100.0\n",
            "num_episode:  2800 loss:  0.004879964 model_reward:  100.0\n",
            "num_episode:  2900 loss:  0.0048501315 model_reward:  100.0\n",
            "num_episode:  3000 loss:  0.0048204977 model_reward:  100.0\n",
            "num_episode:  3100 loss:  0.004791667 model_reward:  100.0\n",
            "num_episode:  3200 loss:  0.0004956466 model_reward:  99.13302251361006\n",
            "num_episode:  3300 loss:  0.0047322037 model_reward:  100.0\n",
            "num_episode:  3400 loss:  0.004704902 model_reward:  100.0\n",
            "num_episode:  3500 loss:  0.0046762717 model_reward:  100.0\n",
            "num_episode:  3600 loss:  0.004646018 model_reward:  100.0\n",
            "num_episode:  3700 loss:  0.004615604 model_reward:  100.0\n",
            "num_episode:  3800 loss:  0.004584374 model_reward:  100.0\n",
            "num_episode:  3900 loss:  0.0045554684 model_reward:  100.0\n",
            "num_episode:  4000 loss:  0.004523432 model_reward:  100.0\n",
            "num_episode:  4100 loss:  0.0044917106 model_reward:  100.0\n",
            "num_episode:  4200 loss:  0.004459348 model_reward:  100.0\n",
            "num_episode:  4300 loss:  0.0044271033 model_reward:  100.0\n",
            "num_episode:  4400 loss:  0.0043949625 model_reward:  100.0\n",
            "num_episode:  4500 loss:  0.0043635955 model_reward:  100.0\n",
            "num_episode:  4600 loss:  0.004331963 model_reward:  100.0\n",
            "num_episode:  4700 loss:  0.0043012677 model_reward:  100.0\n",
            "num_episode:  4800 loss:  0.0042683217 model_reward:  100.0\n",
            "num_episode:  4900 loss:  0.0042358804 model_reward:  100.0\n",
            "num_episode:  5000 loss:  0.0042049102 model_reward:  100.0\n",
            "num_episode:  5100 loss:  0.004173663 model_reward:  100.0\n",
            "num_episode:  5200 loss:  0.0041421745 model_reward:  100.0\n",
            "num_episode:  5300 loss:  0.0041092634 model_reward:  100.0\n",
            "num_episode:  5400 loss:  0.004076972 model_reward:  100.0\n",
            "num_episode:  5500 loss:  0.004044666 model_reward:  100.0\n",
            "num_episode:  5600 loss:  0.0040126666 model_reward:  100.0\n",
            "num_episode:  5700 loss:  0.00398225 model_reward:  100.0\n",
            "num_episode:  5800 loss:  0.0039505544 model_reward:  100.0\n",
            "num_episode:  5900 loss:  0.0039183726 model_reward:  100.0\n",
            "num_episode:  6000 loss:  0.0038872757 model_reward:  100.0\n",
            "num_episode:  6100 loss:  0.0038557088 model_reward:  100.0\n",
            "num_episode:  6200 loss:  0.0038233157 model_reward:  100.0\n",
            "num_episode:  6300 loss:  0.003791911 model_reward:  100.0\n",
            "num_episode:  6400 loss:  0.0037601101 model_reward:  100.0\n",
            "num_episode:  6500 loss:  0.003728481 model_reward:  100.0\n",
            "num_episode:  6600 loss:  0.0036973585 model_reward:  100.0\n",
            "num_episode:  6700 loss:  0.0036655453 model_reward:  100.0\n",
            "num_episode:  6800 loss:  0.0036345802 model_reward:  100.0\n",
            "num_episode:  6900 loss:  0.0036039327 model_reward:  100.0\n",
            "num_episode:  7000 loss:  0.0035742228 model_reward:  100.0\n",
            "num_episode:  7100 loss:  0.0035451467 model_reward:  100.0\n",
            "num_episode:  7200 loss:  0.0035161164 model_reward:  100.0\n",
            "num_episode:  7300 loss:  0.0034875472 model_reward:  100.0\n",
            "num_episode:  7400 loss:  0.0034590708 model_reward:  100.0\n",
            "num_episode:  7500 loss:  0.003431081 model_reward:  100.0\n",
            "num_episode:  7600 loss:  0.0034021214 model_reward:  100.0\n",
            "num_episode:  7700 loss:  0.0033739756 model_reward:  100.0\n",
            "num_episode:  7800 loss:  0.0033459766 model_reward:  100.0\n",
            "num_episode:  7900 loss:  0.0033169857 model_reward:  100.0\n",
            "num_episode:  8000 loss:  0.0032883373 model_reward:  100.0\n",
            "num_episode:  8100 loss:  0.0032606097 model_reward:  100.0\n",
            "num_episode:  8200 loss:  0.003233885 model_reward:  100.0\n",
            "num_episode:  8300 loss:  0.0032061834 model_reward:  100.0\n",
            "num_episode:  8400 loss:  0.0031791173 model_reward:  100.0\n",
            "num_episode:  8500 loss:  0.003153976 model_reward:  100.0\n",
            "num_episode:  8600 loss:  0.003127616 model_reward:  100.0\n",
            "num_episode:  8700 loss:  0.003101291 model_reward:  100.0\n",
            "num_episode:  8800 loss:  0.0030740476 model_reward:  100.0\n",
            "num_episode:  8900 loss:  0.0030476109 model_reward:  100.0\n",
            "num_episode:  9000 loss:  0.003020967 model_reward:  100.0\n",
            "num_episode:  9100 loss:  0.0029943183 model_reward:  100.0\n",
            "num_episode:  9200 loss:  0.00296714 model_reward:  100.0\n",
            "num_episode:  9300 loss:  0.0029394755 model_reward:  100.0\n",
            "num_episode:  9400 loss:  0.00291161 model_reward:  100.0\n",
            "num_episode:  9500 loss:  0.002885084 model_reward:  100.0\n",
            "num_episode:  9600 loss:  0.0028581868 model_reward:  100.0\n",
            "num_episode:  9700 loss:  0.0028315305 model_reward:  100.0\n",
            "num_episode:  9800 loss:  0.0028050705 model_reward:  100.0\n",
            "num_episode:  9900 loss:  0.0027779161 model_reward:  100.0\n",
            "num_episode:  10000 loss:  0.0027523604 model_reward:  100.0\n"
          ],
          "name": "stdout"
        }
      ]
    },
    {
      "cell_type": "code",
      "metadata": {
        "id": "SFXJa7ULfIm1",
        "colab_type": "code",
        "colab": {}
      },
      "source": [
        ""
      ],
      "execution_count": null,
      "outputs": []
    },
    {
      "cell_type": "code",
      "metadata": {
        "id": "Fr2T_DCMdsFa",
        "colab_type": "code",
        "colab": {}
      },
      "source": [
        "predict = model_predict.predict(p_serise)"
      ],
      "execution_count": null,
      "outputs": []
    },
    {
      "cell_type": "code",
      "metadata": {
        "id": "gNb7YB9bbfUd",
        "colab_type": "code",
        "colab": {
          "base_uri": "https://localhost:8080/",
          "height": 457
        },
        "outputId": "718d039b-da85-4802-e84c-89591108a966"
      },
      "source": [
        "predict"
      ],
      "execution_count": null,
      "outputs": [
        {
          "output_type": "execute_result",
          "data": {
            "text/plain": [
              "array([[3.6138725e-03, 9.9543518e-01, 9.5101329e-04],\n",
              "       [2.5309306e-03, 9.9687552e-01, 5.9350801e-04],\n",
              "       [1.6649085e-03, 9.9793869e-01, 3.9637886e-04],\n",
              "       [1.1331739e-03, 9.9862301e-01, 2.4384700e-04],\n",
              "       [8.9347886e-04, 9.9892789e-01, 1.7856655e-04],\n",
              "       [6.7802204e-04, 9.9918562e-01, 1.3640364e-04],\n",
              "       [5.1899574e-04, 9.9938595e-01, 9.5118827e-05],\n",
              "       [4.0926790e-04, 9.9951863e-01, 7.2090930e-05],\n",
              "       [3.4076688e-04, 9.9960107e-01, 5.8188223e-05],\n",
              "       [2.9136828e-04, 9.9965870e-01, 4.9990009e-05],\n",
              "       [2.4987900e-04, 9.9970716e-01, 4.2903313e-05],\n",
              "       [2.4483568e-04, 9.9971491e-01, 4.0296556e-05],\n",
              "       [2.2691984e-04, 9.9973422e-01, 3.8798502e-05],\n",
              "       [2.2932976e-04, 9.9973351e-01, 3.7164038e-05],\n",
              "       [2.3295525e-04, 9.9972624e-01, 4.0761293e-05],\n",
              "       [2.3052981e-04, 9.9972850e-01, 4.1016719e-05],\n",
              "       [2.7433300e-04, 9.9967790e-01, 4.7780799e-05],\n",
              "       [2.9424176e-04, 9.9964762e-01, 5.8202586e-05],\n",
              "       [3.4178881e-04, 9.9959475e-01, 6.3547915e-05],\n",
              "       [4.1455880e-04, 9.9950135e-01, 8.4088300e-05],\n",
              "       [5.0070317e-04, 9.9938917e-01, 1.1013113e-04],\n",
              "       [6.5733481e-04, 9.9919075e-01, 1.5192527e-04],\n",
              "       [8.6150935e-04, 9.9891627e-01, 2.2219443e-04],\n",
              "       [1.2839217e-03, 9.9837518e-01, 3.4081523e-04],\n",
              "       [1.7692746e-03, 9.9769068e-01, 5.4007728e-04]], dtype=float32)"
            ]
          },
          "metadata": {
            "tags": []
          },
          "execution_count": 18
        }
      ]
    },
    {
      "cell_type": "code",
      "metadata": {
        "id": "z9pqtsUJ5kDz",
        "colab_type": "code",
        "colab": {}
      },
      "source": [
        "blist, acts = balance_update(predict, p_serise)\n",
        "\n",
        "    "
      ],
      "execution_count": null,
      "outputs": []
    },
    {
      "cell_type": "code",
      "metadata": {
        "id": "ypq5iFSD5kHH",
        "colab_type": "code",
        "colab": {
          "base_uri": "https://localhost:8080/",
          "height": 34
        },
        "outputId": "55ca1613-d2dc-4d1a-bfc4-4c01299a3e50"
      },
      "source": [
        "acts"
      ],
      "execution_count": null,
      "outputs": [
        {
          "output_type": "execute_result",
          "data": {
            "text/plain": [
              "[1, 1, 1, 1, 1, 1, 1, 1, 1, 1, 1, 1, 1, 1, 1, 1, 1, 1, 1, 1, 1, 1, 1, 1, 1]"
            ]
          },
          "metadata": {
            "tags": []
          },
          "execution_count": 20
        }
      ]
    },
    {
      "cell_type": "code",
      "metadata": {
        "id": "i85zgyZO5wRc",
        "colab_type": "code",
        "colab": {
          "base_uri": "https://localhost:8080/",
          "height": 474
        },
        "outputId": "1de4d0d3-96a6-4268-bc8a-11b3e62bebe9"
      },
      "source": [
        "blist"
      ],
      "execution_count": null,
      "outputs": [
        {
          "output_type": "execute_result",
          "data": {
            "text/plain": [
              "[[100.0, 0.0, 0.0],\n",
              " [100, 3.9877771384524716, 0],\n",
              " [100, 4.0765769672822, 0],\n",
              " [100, 4.210458646072498, 0],\n",
              " [100, 4.483095742634497, 0],\n",
              " [100, 4.565387372085023, 0],\n",
              " [100, 4.71244661397334, 0],\n",
              " [100, 4.885086273380034, 0],\n",
              " [100, 5.016812548642121, 0],\n",
              " [100, 5.048064792342275, 0],\n",
              " [100, 5.014176983045866, 0],\n",
              " [100, 5.112904769029705, 0],\n",
              " [100, 5.082847672344554, 0],\n",
              " [100, 5.16510696197368, 0],\n",
              " [100, 5.092284003497985, 0],\n",
              " [100, 4.948211285146682, 0],\n",
              " [100, 5.0063037357539795, 0],\n",
              " [100, 4.784278366930281, 0],\n",
              " [100, 4.760625085739134, 0],\n",
              " [100, 4.690961475596859, 0],\n",
              " [100, 4.460830067774835, 0],\n",
              " [100, 4.2789269692796275, 0],\n",
              " [100, 4.008987712574459, 0],\n",
              " [100, 3.874456053114483, 0],\n",
              " [100, 3.574380409350225, 0],\n",
              " [100, 3.3768865232630247, 0]]"
            ]
          },
          "metadata": {
            "tags": []
          },
          "execution_count": 21
        }
      ]
    },
    {
      "cell_type": "code",
      "metadata": {
        "id": "W_PI5G4_5wUk",
        "colab_type": "code",
        "colab": {
          "base_uri": "https://localhost:8080/",
          "height": 52
        },
        "outputId": "7c18d7dc-9352-4ba4-a76e-591f2f0a3037"
      },
      "source": [
        "dis_re"
      ],
      "execution_count": null,
      "outputs": [
        {
          "output_type": "execute_result",
          "data": {
            "text/plain": [
              "array([0., 0., 0., 0., 0., 0., 0., 0., 0., 0., 0., 0., 0., 0., 0., 0., 0.,\n",
              "       0., 0., 0., 0., 0., 0., 0., 0.])"
            ]
          },
          "metadata": {
            "tags": []
          },
          "execution_count": 24
        }
      ]
    },
    {
      "cell_type": "code",
      "metadata": {
        "id": "vcsTPURy5wYG",
        "colab_type": "code",
        "colab": {
          "base_uri": "https://localhost:8080/",
          "height": 457
        },
        "outputId": "a2b3c094-07df-44c3-f396-a25b4e992382"
      },
      "source": [
        "reward_list"
      ],
      "execution_count": null,
      "outputs": [
        {
          "output_type": "execute_result",
          "data": {
            "text/plain": [
              "[0,\n",
              " 0.0,\n",
              " 0.0,\n",
              " 0.0,\n",
              " 0.0,\n",
              " 0.10798032990297202,\n",
              " 0.0,\n",
              " 0.09972510880207608,\n",
              " 0.0,\n",
              " 0.05702562077745199,\n",
              " 0.0,\n",
              " 0.0,\n",
              " 0.0,\n",
              " 0.0,\n",
              " 0.008023248219004131,\n",
              " 0.0,\n",
              " 0.0,\n",
              " -0.21939723052554427,\n",
              " -0.2704698111146513,\n",
              " -0.21527481970460371,\n",
              " 0.0,\n",
              " -0.380158586348756,\n",
              " 0.0,\n",
              " 0.0,\n",
              " 0.0]"
            ]
          },
          "metadata": {
            "tags": []
          },
          "execution_count": 27
        }
      ]
    },
    {
      "cell_type": "code",
      "metadata": {
        "id": "3ORWnRdVkzht",
        "colab_type": "code",
        "colab": {
          "base_uri": "https://localhost:8080/",
          "height": 34
        },
        "outputId": "2b184e6c-1d8e-49d7-e747-4b2ceecfd41d"
      },
      "source": [
        "test = [0.1, 0.2, 0.7]\n",
        "print(test[0:2])"
      ],
      "execution_count": null,
      "outputs": [
        {
          "output_type": "stream",
          "text": [
            "[0.1, 0.2]\n"
          ],
          "name": "stdout"
        }
      ]
    },
    {
      "cell_type": "code",
      "metadata": {
        "id": "l0mUFfN8kzli",
        "colab_type": "code",
        "colab": {
          "base_uri": "https://localhost:8080/",
          "height": 222
        },
        "outputId": "35a69047-3286-48fb-e2af-d7bca0a8e12e"
      },
      "source": [
        "aa = np.random.choice(2,p=test[0:2])\n",
        "print(aa)"
      ],
      "execution_count": null,
      "outputs": [
        {
          "output_type": "error",
          "ename": "ValueError",
          "evalue": "ignored",
          "traceback": [
            "\u001b[0;31m---------------------------------------------------------------------------\u001b[0m",
            "\u001b[0;31mValueError\u001b[0m                                Traceback (most recent call last)",
            "\u001b[0;32m<ipython-input-32-ce2ffd32b02c>\u001b[0m in \u001b[0;36m<module>\u001b[0;34m()\u001b[0m\n\u001b[0;32m----> 1\u001b[0;31m \u001b[0maa\u001b[0m \u001b[0;34m=\u001b[0m \u001b[0mnp\u001b[0m\u001b[0;34m.\u001b[0m\u001b[0mrandom\u001b[0m\u001b[0;34m.\u001b[0m\u001b[0mchoice\u001b[0m\u001b[0;34m(\u001b[0m\u001b[0;36m2\u001b[0m\u001b[0;34m,\u001b[0m\u001b[0mp\u001b[0m\u001b[0;34m=\u001b[0m\u001b[0mtest\u001b[0m\u001b[0;34m[\u001b[0m\u001b[0;36m0\u001b[0m\u001b[0;34m:\u001b[0m\u001b[0;36m2\u001b[0m\u001b[0;34m]\u001b[0m\u001b[0;34m)\u001b[0m\u001b[0;34m\u001b[0m\u001b[0;34m\u001b[0m\u001b[0m\n\u001b[0m\u001b[1;32m      2\u001b[0m \u001b[0mprint\u001b[0m\u001b[0;34m(\u001b[0m\u001b[0maa\u001b[0m\u001b[0;34m)\u001b[0m\u001b[0;34m\u001b[0m\u001b[0;34m\u001b[0m\u001b[0m\n",
            "\u001b[0;32mmtrand.pyx\u001b[0m in \u001b[0;36mnumpy.random.mtrand.RandomState.choice\u001b[0;34m()\u001b[0m\n",
            "\u001b[0;31mValueError\u001b[0m: probabilities do not sum to 1"
          ]
        }
      ]
    },
    {
      "cell_type": "code",
      "metadata": {
        "id": "gfAE5835kzxB",
        "colab_type": "code",
        "colab": {}
      },
      "source": [
        ""
      ],
      "execution_count": null,
      "outputs": []
    },
    {
      "cell_type": "code",
      "metadata": {
        "id": "_DCWmX1jgNsL",
        "colab_type": "code",
        "colab": {}
      },
      "source": [
        "def reward_lstm (p_serise, action):\n",
        "  rewards =[0]\n",
        "  \n",
        "  for i in range(len(p_serise)-1):\n",
        "    price_gap = p_serise[i+1][4] - p_serise[i][0]\n",
        "    if price_gap >= 0 and action[i] == 1 :\n",
        "       reward = 1\n",
        "       rewards.append(reward)\n",
        "    if price_gap >= 0 and action[i] == 0 :\n",
        "       reward = 0\n",
        "       rewards.append(reward)\n",
        "    if price_gap >= 0 and action[i] == 2 :\n",
        "       reward = -1\n",
        "       rewards.append(reward)\n",
        "    if price_gap <= 0 and action[i] == 1 :\n",
        "       reward = -1\n",
        "       rewards.append(reward)\n",
        "    if price_gap <= 0 and action[i] == 0 :\n",
        "       reward = 0\n",
        "       rewards.append(reward)\n",
        "    if price_gap <= 0 and action[i] == 2 :\n",
        "       reward = 1\n",
        "       rewards.append(reward)\n",
        "\n",
        "  return rewards\n"
      ],
      "execution_count": null,
      "outputs": []
    },
    {
      "cell_type": "code",
      "metadata": {
        "id": "BQwD-t8Li5hJ",
        "colab_type": "code",
        "colab": {
          "base_uri": "https://localhost:8080/",
          "height": 34
        },
        "outputId": "ecf4d445-fc17-44ec-9cca-e67b4ff2321f"
      },
      "source": [
        "len(reward_lstm (p_serise, price_lstm_y))"
      ],
      "execution_count": null,
      "outputs": [
        {
          "output_type": "execute_result",
          "data": {
            "text/plain": [
              "25"
            ]
          },
          "metadata": {
            "tags": []
          },
          "execution_count": 149
        }
      ]
    },
    {
      "cell_type": "code",
      "metadata": {
        "id": "nRfbsAW_nN2t",
        "colab_type": "code",
        "colab": {}
      },
      "source": [
        " def act_selection(act):\n",
        "   acts = []\n",
        "   for i in range(0, len(act)):\n",
        "     action = np.random.choice(3,p=act[i])\n",
        "     acts.append(action)\n",
        "   return acts"
      ],
      "execution_count": null,
      "outputs": []
    },
    {
      "cell_type": "code",
      "metadata": {
        "id": "fMEoQVVt0eT3",
        "colab_type": "code",
        "colab": {
          "base_uri": "https://localhost:8080/",
          "height": 34
        },
        "outputId": "6a67b824-cfd0-4507-dad1-fe97377a6d05"
      },
      "source": [
        "multip = np.array([1,1,1,1,1,1,1,1,1,1,1,1,1,1,1,1,1,1,1,1,1,1,1,1,1])\n",
        "len(multip)"
      ],
      "execution_count": null,
      "outputs": [
        {
          "output_type": "execute_result",
          "data": {
            "text/plain": [
              "25"
            ]
          },
          "metadata": {
            "tags": []
          },
          "execution_count": 150
        }
      ]
    },
    {
      "cell_type": "code",
      "metadata": {
        "id": "GYqwu-HRoOmz",
        "colab_type": "code",
        "colab": {}
      },
      "source": [
        "predict = model_predict.predict(p_serise)"
      ],
      "execution_count": null,
      "outputs": []
    },
    {
      "cell_type": "code",
      "metadata": {
        "id": "OldzEZfWnrcs",
        "colab_type": "code",
        "colab": {}
      },
      "source": [
        "action_c=[]\n",
        "\n",
        "for i in range(len(predict)):\n",
        "  a = np.argmax(predict[i])\n",
        "  action_c.append(a)"
      ],
      "execution_count": null,
      "outputs": []
    },
    {
      "cell_type": "code",
      "metadata": {
        "id": "sIS-EhC9vSef",
        "colab_type": "code",
        "colab": {
          "base_uri": "https://localhost:8080/",
          "height": 34
        },
        "outputId": "1c2f78f5-51a8-49c6-c5ef-08c9c2e1057a"
      },
      "source": [
        "np.sum(reward_lstm(p_serise, action_c))"
      ],
      "execution_count": null,
      "outputs": [
        {
          "output_type": "execute_result",
          "data": {
            "text/plain": [
              "3"
            ]
          },
          "metadata": {
            "tags": []
          },
          "execution_count": 55
        }
      ]
    },
    {
      "cell_type": "code",
      "metadata": {
        "id": "8X4_950456td",
        "colab_type": "code",
        "colab": {
          "base_uri": "https://localhost:8080/",
          "height": 34
        },
        "outputId": "366a37e5-cafb-434e-92db-752cf0357516"
      },
      "source": [
        "action_c"
      ],
      "execution_count": null,
      "outputs": [
        {
          "output_type": "execute_result",
          "data": {
            "text/plain": [
              "[1, 1, 1, 1, 1, 0, 0, 0, 0, 0, 0, 0, 0, 0, 0, 0, 0, 0, 0, 0, 0, 0, 1, 1, 1]"
            ]
          },
          "metadata": {
            "tags": []
          },
          "execution_count": 56
        }
      ]
    },
    {
      "cell_type": "code",
      "metadata": {
        "id": "LeDZBnO656oR",
        "colab_type": "code",
        "colab": {}
      },
      "source": [
        ""
      ],
      "execution_count": null,
      "outputs": []
    },
    {
      "cell_type": "code",
      "metadata": {
        "id": "eBil12gR56mh",
        "colab_type": "code",
        "colab": {}
      },
      "source": [
        ""
      ],
      "execution_count": null,
      "outputs": []
    },
    {
      "cell_type": "code",
      "metadata": {
        "id": "0hx-wlyJ56kY",
        "colab_type": "code",
        "colab": {}
      },
      "source": [
        ""
      ],
      "execution_count": null,
      "outputs": []
    },
    {
      "cell_type": "code",
      "metadata": {
        "id": "IazXuUZw56iI",
        "colab_type": "code",
        "colab": {}
      },
      "source": [
        ""
      ],
      "execution_count": null,
      "outputs": []
    },
    {
      "cell_type": "code",
      "metadata": {
        "id": "NP0ycHrO56fn",
        "colab_type": "code",
        "colab": {}
      },
      "source": [
        ""
      ],
      "execution_count": null,
      "outputs": []
    },
    {
      "cell_type": "code",
      "metadata": {
        "id": "K5bMrbNO5SeR",
        "colab_type": "code",
        "colab": {
          "base_uri": "https://localhost:8080/",
          "height": 34
        },
        "outputId": "0a145254-b935-4f9c-9201-4e8e9942786d"
      },
      "source": [
        "from tensorflow.keras.utils import to_categorical\n",
        "from tensorflow import keras\n",
        "import tensorflow as tf\n",
        "import keras.layers as layers\n",
        "from keras.layers import LSTM, Dense\n",
        "from keras.models import Model, Sequential\n",
        "from keras.optimizers import Adam, RMSprop\n",
        "from keras.initializers import glorot_uniform\n",
        "from keras.callbacks import ModelCheckpoint, EarlyStopping\n",
        "import keras.backend as K  # 케라스의 backend를 K. 형식으로 호출하는 것이고 여기서는 tensorflow이다."
      ],
      "execution_count": null,
      "outputs": [
        {
          "output_type": "stream",
          "text": [
            "Using TensorFlow backend.\n"
          ],
          "name": "stderr"
        }
      ]
    },
    {
      "cell_type": "code",
      "metadata": {
        "id": "2gWNXKuA8QVH",
        "colab_type": "code",
        "colab": {}
      },
      "source": [
        "#inp_L = layers.Input(shape=(5,1),name=\"input_L\")  # LSTM 용\n",
        "#dense_L = LSTM(5, return_sequences=False)(inp_L)  # LSTM 용\n",
        "inp_L = layers.Input(shape=(5,),name=\"input_L\")\n",
        "#dense_L = Dense(64)(dense_L)\n",
        "dense_L = Dense(64)(inp_L)\n",
        "#output_L = Dense(1)(dense_L)\n",
        "output_s = layers.Dense(3, activation=\"softmax\",kernel_initializer=glorot_uniform(seed=42), use_bias=False, kernel_regularizer=keras.regularizers.l2(0.001), name=\"out\")(dense_L)\n",
        "\n",
        "model_lstm = Model(inputs=inp_L, outputs = output_s)"
      ],
      "execution_count": null,
      "outputs": []
    },
    {
      "cell_type": "code",
      "metadata": {
        "id": "nq9u7FVL8QMN",
        "colab_type": "code",
        "colab": {}
      },
      "source": [
        "optimizer = tf.keras.optimizers.Adam(lr=0.001)\n",
        "model_lstm.compile(loss='categorical_crossentropy', optimizer=optimizer, metrics=['mae'])"
      ],
      "execution_count": null,
      "outputs": []
    },
    {
      "cell_type": "code",
      "metadata": {
        "id": "HzEFHZQ--JZt",
        "colab_type": "code",
        "colab": {}
      },
      "source": [
        "history_lstm = model_lstm.fit(p_serise, y_encoded, epochs=150, verbose=0)"
      ],
      "execution_count": null,
      "outputs": []
    },
    {
      "cell_type": "code",
      "metadata": {
        "id": "HkHpoNBRDZ3u",
        "colab_type": "code",
        "colab": {
          "base_uri": "https://localhost:8080/",
          "height": 265
        },
        "outputId": "8d7151c3-47cc-43c7-c8dd-2e55846641ef"
      },
      "source": [
        "plt.plot(history_lstm.history['loss'])\n",
        "plt.show()"
      ],
      "execution_count": null,
      "outputs": [
        {
          "output_type": "display_data",
          "data": {
            "image/png": "[encoded data removed]",
            "text/plain": [
              "<Figure size 432x288 with 1 Axes>"
            ]
          },
          "metadata": {
            "tags": [],
            "needs_background": "light"
          }
        }
      ]
    },
    {
      "cell_type": "code",
      "metadata": {
        "id": "dUOFL8eADyES",
        "colab_type": "code",
        "colab": {
          "base_uri": "https://localhost:8080/",
          "height": 265
        },
        "outputId": "eda1d22e-cccb-4229-a3e2-cc8503dd7f79"
      },
      "source": [
        "plt.plot(action(model_lstm.predict(p_serise)), 'b')\n",
        "# plt.plot(price_lstm_y, 'r')\n",
        "plt.show()"
      ],
      "execution_count": null,
      "outputs": [
        {
          "output_type": "display_data",
          "data": {
            "image/png": "[encoded data removed]",
            "text/plain": [
              "<Figure size 432x288 with 1 Axes>"
            ]
          },
          "metadata": {
            "tags": [],
            "needs_background": "light"
          }
        }
      ]
    },
    {
      "cell_type": "code",
      "metadata": {
        "id": "rcnD7iot56Zc",
        "colab_type": "code",
        "colab": {}
      },
      "source": [
        ""
      ],
      "execution_count": null,
      "outputs": []
    },
    {
      "cell_type": "code",
      "metadata": {
        "id": "Ykgd940f56Ws",
        "colab_type": "code",
        "colab": {}
      },
      "source": [
        ""
      ],
      "execution_count": null,
      "outputs": []
    },
    {
      "cell_type": "code",
      "metadata": {
        "id": "vgKgY08H56S9",
        "colab_type": "code",
        "colab": {}
      },
      "source": [
        ""
      ],
      "execution_count": null,
      "outputs": []
    },
    {
      "cell_type": "code",
      "metadata": {
        "id": "oOk67j_P_1ui",
        "colab_type": "code",
        "colab": {
          "base_uri": "https://localhost:8080/",
          "height": 34
        },
        "outputId": "9b115394-bee0-4705-abeb-96322edb2ba6"
      },
      "source": [
        ""
      ],
      "execution_count": null,
      "outputs": [
        {
          "output_type": "stream",
          "text": [
            "[1, 1, 1, 1, 1, 1, 1, 1, 1, 1, 1, 0, 0, 0, 0, 0, 0, 0, 0, 0, 0, 0, 0, 0, 0]\n"
          ],
          "name": "stdout"
        }
      ]
    },
    {
      "cell_type": "markdown",
      "metadata": {
        "id": "ZqnDeQDebd7L",
        "colab_type": "text"
      },
      "source": [
        "만약 정책함수에서 softmax가 행동대안을 산출하면 각 행동대안이 갖는 확률을 기반으로 하여 새로운 행동을 산출한다. 만약 각 행동대안의 확율이 높아 질 수록 산출할 행동 대안의 모습은 수렴해 갈 것이다."
      ]
    },
    {
      "cell_type": "code",
      "metadata": {
        "id": "bUP7ErWSq7Q-",
        "colab_type": "code",
        "colab": {}
      },
      "source": [
        ""
      ],
      "execution_count": null,
      "outputs": []
    },
    {
      "cell_type": "markdown",
      "metadata": {
        "id": "hZ94IMpkGo4Q",
        "colab_type": "text"
      },
      "source": [
        "custom loss 함수를 테스트 해본다."
      ]
    },
    {
      "cell_type": "code",
      "metadata": {
        "id": "oeNsD1JMGuKf",
        "colab_type": "code",
        "colab": {
          "base_uri": "https://localhost:8080/",
          "height": 34
        },
        "outputId": "f5900976-abc9-41c8-bd69-e30e707a5430"
      },
      "source": [
        ""
      ],
      "execution_count": null,
      "outputs": [
        {
          "output_type": "stream",
          "text": [
            "Using TensorFlow backend.\n"
          ],
          "name": "stderr"
        }
      ]
    },
    {
      "cell_type": "code",
      "metadata": {
        "id": "Whc8OKjFG7q9",
        "colab_type": "code",
        "colab": {}
      },
      "source": [
        "def my_loss(y_true, y_pred):\n",
        "  y_true = y_true **2\n",
        "  y_pred = y_pred **2\n",
        "  loss = K.mean(K.abs(y_true - y_pred) + K.square(y_true - y_pred))\n",
        "  return loss * multip\n",
        "\n",
        "\n",
        "# metric는 중요하지 않다.\n",
        "\n",
        "def my_metric(y_true, y_pred):\n",
        "  return K.mean(K.abs(y_true - y_pred)) * 1000"
      ],
      "execution_count": null,
      "outputs": []
    },
    {
      "cell_type": "code",
      "metadata": {
        "id": "uA6-PGbtd48V",
        "colab_type": "code",
        "colab": {}
      },
      "source": [
        ""
      ],
      "execution_count": null,
      "outputs": []
    },
    {
      "cell_type": "code",
      "metadata": {
        "id": "bHBAqZNpGJiT",
        "colab_type": "code",
        "colab": {}
      },
      "source": [
        "# 하나의 에피소드 내에서 지연된 보상을 하기 위한 방법이다. \n",
        "\n",
        "def discount_rewards(r, gamma=0.99):\n",
        "    \"\"\"Takes 1d float array of rewards and computes discounted reward\n",
        "    e.g. f([1, 1, 1], 0.99) -> [2.9701, 1.99, 1]\n",
        "    \"\"\"\n",
        "    prior = 0\n",
        "    out = []\n",
        "    r = r[::-1]\n",
        "    for val in r:\n",
        "        new_val = val + prior * gamma\n",
        "        out.append(new_val)\n",
        "        prior = new_val\n",
        "    return np.array(out)"
      ],
      "execution_count": null,
      "outputs": []
    },
    {
      "cell_type": "code",
      "metadata": {
        "id": "9mnjJQyQLm9P",
        "colab_type": "code",
        "colab": {}
      },
      "source": [
        "# test_set에 적용하는 함수\n",
        "\n",
        "def score_model(model_predict, num_tests):\n",
        "    scores = []    \n",
        "    for num_test in range(num_tests):\n",
        "        observation = env()\n",
        "        forcasts = model_predict.predict(observation)\n",
        "        rw = reward(observation, np.argmax(forcasts, axis=1))\n",
        "        scores.append(rw)\n",
        "    return np.mean(scores)"
      ],
      "execution_count": null,
      "outputs": []
    },
    {
      "cell_type": "code",
      "metadata": {
        "id": "pekZ5hube7jg",
        "colab_type": "code",
        "colab": {}
      },
      "source": [
        ""
      ],
      "execution_count": null,
      "outputs": []
    },
    {
      "cell_type": "code",
      "metadata": {
        "id": "Zb1yTMimS19n",
        "colab_type": "code",
        "colab": {}
      },
      "source": [
        ""
      ],
      "execution_count": null,
      "outputs": []
    },
    {
      "cell_type": "code",
      "metadata": {
        "id": "HtPlFP_N91Sn",
        "colab_type": "code",
        "colab": {}
      },
      "source": [
        ""
      ],
      "execution_count": null,
      "outputs": []
    },
    {
      "cell_type": "code",
      "metadata": {
        "id": "5jzHURCR91WX",
        "colab_type": "code",
        "colab": {}
      },
      "source": [
        ""
      ],
      "execution_count": null,
      "outputs": []
    }
  ]
}