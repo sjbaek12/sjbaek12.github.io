{
  "nbformat": 4,
  "nbformat_minor": 0,
  "metadata": {
    "colab": {
      "name": "테스트 강화학습_ver0.2",
      "provenance": [],
      "collapsed_sections": [],
      "authorship_tag": "ABX9TyN0tP7j1J1AcQmU86QnNc3o",
      "include_colab_link": true
    },
    "kernelspec": {
      "name": "python3",
      "display_name": "Python 3"
    }
  },
  "cells": [
    {
      "cell_type": "markdown",
      "metadata": {
        "id": "view-in-github",
        "colab_type": "text"
      },
      "source": [
        "<a href=\"https://colab.research.google.com/github/sjbaek12/sjbaek12.github.io/blob/master/%ED%85%8C%EC%8A%A4%ED%8A%B8_%EA%B0%95%ED%99%94%ED%95%99%EC%8A%B5_ver0_2.ipynb\" target=\"_parent\"><img src=\"https://colab.research.google.com/assets/colab-badge.svg\" alt=\"Open In Colab\"/></a>"
      ]
    },
    {
      "cell_type": "markdown",
      "metadata": {
        "id": "PbNzyGr1xgti",
        "colab_type": "text"
      },
      "source": [
        "어떤 상태에서 특정한 액션을 취하면 리워드가 발생한다.\n",
        "정책신경망에서 어떤 상태일때 액선이 산출되고 그 산출로 인한 리워드가 최대가 되도록 정책신경망의 가중치를 조정한다. 그러면 리워드가 최대가 되는 액션을 산출하는 정책신경망이 될 것이다. \n",
        "\n",
        "loss함수는 리워드가 최대가 되는 액션을 산출했을 때, 마이너스 무한대가 되도록 조정하면 된다. "
      ]
    },
    {
      "cell_type": "code",
      "metadata": {
        "id": "uoNYrqyWxhgZ",
        "colab_type": "code",
        "colab": {}
      },
      "source": [
        "import numpy as np\n",
        "import matplotlib.pyplot as plt"
      ],
      "execution_count": 1,
      "outputs": []
    },
    {
      "cell_type": "code",
      "metadata": {
        "id": "rDPyv4nbyYRY",
        "colab_type": "code",
        "colab": {
          "base_uri": "https://localhost:8080/",
          "height": 265
        },
        "outputId": "4af2fb97-893b-4bcf-f5f0-0756b349a4cb"
      },
      "source": [
        "# 환경 모듈\n",
        "\n",
        "def env():\n",
        "  start_price = 3\n",
        "  pricej=[]\n",
        "  for i in range(100):\n",
        "    change = np.random.rand(1)*1.2\n",
        "    direction = np.random.choice(2, p=[0.5, 0.5])\n",
        "    if direction == 1:\n",
        "      if start_price - change[0] <= 0:\n",
        "         p = 1.0\n",
        "      else:\n",
        "         p = start_price - change[0]     \n",
        "    else: \n",
        "      p = start_price + change[0] \n",
        "    start_price = p\n",
        "    pricej.append(p)\n",
        "#  p_mean = np.mean(price)\n",
        "#  p_std = np.std(price)\n",
        "#  price = (price - p_mean)/p_std\n",
        "  \n",
        "  p_serise= []\n",
        "  for i in range(96):\n",
        "    serise = [pricej[i],pricej[i+1], pricej[i+2], pricej[i+3], pricej[i+4]]\n",
        "    serise = np.array(serise)\n",
        "    p_serise.append(serise)\n",
        "  p_serise= p_serise[0:100]\n",
        "  p_serise = np.array(p_serise)\n",
        "  p_serise_lstm = p_serise.reshape(96, 5, 1)  # p_serise의 길이는 46이다. LSTM을 사용할 때 데이터 input 형태\n",
        "  price_lstm = pricej[4:]\n",
        "  price_lstm = np.array(price_lstm)\n",
        "  return p_serise, p_serise_lstm, price_lstm \n",
        "\n",
        "p_serise, p_serise_lstm, price_lstm = env()\n",
        "plt.plot(price_lstm)\n",
        "plt.show()"
      ],
      "execution_count": 7,
      "outputs": [
        {
          "output_type": "display_data",
          "data": {
            "image/png": "[encoded data removed]",
            "text/plain": [
              "<Figure size 432x288 with 1 Axes>"
            ]
          },
          "metadata": {
            "tags": [],
            "needs_background": "light"
          }
        }
      ]
    },
    {
      "cell_type": "code",
      "metadata": {
        "id": "GxlziTCzn5mc",
        "colab_type": "code",
        "colab": {
          "base_uri": "https://localhost:8080/",
          "height": 34
        },
        "outputId": "7c1c6568-d64d-4082-fede-11a2322c9a1b"
      },
      "source": [
        "p_serise_lstm.shape"
      ],
      "execution_count": null,
      "outputs": [
        {
          "output_type": "execute_result",
          "data": {
            "text/plain": [
              "(46, 5, 1)"
            ]
          },
          "metadata": {
            "tags": []
          },
          "execution_count": 3
        }
      ]
    },
    {
      "cell_type": "code",
      "metadata": {
        "id": "1nwZBjdPg_zg",
        "colab_type": "code",
        "colab": {
          "base_uri": "https://localhost:8080/",
          "height": 34
        },
        "outputId": "f2bf3977-322a-4619-c5e5-0bc6ccc9e0c4"
      },
      "source": [
        "price_data = [p_serise_lstm[j] for j in range(5)] \n",
        "price_data = np.array(price_data)\n",
        "price_data.shape"
      ],
      "execution_count": null,
      "outputs": [
        {
          "output_type": "execute_result",
          "data": {
            "text/plain": [
              "(5, 5, 1)"
            ]
          },
          "metadata": {
            "tags": []
          },
          "execution_count": 4
        }
      ]
    },
    {
      "cell_type": "code",
      "metadata": {
        "id": "2WyzYpCB2j4F",
        "colab_type": "code",
        "colab": {
          "base_uri": "https://localhost:8080/",
          "height": 34
        },
        "outputId": "23fa2031-9c1f-4132-ffa7-21d412ca91e0"
      },
      "source": [
        "price_lstm[-1]"
      ],
      "execution_count": null,
      "outputs": [
        {
          "output_type": "execute_result",
          "data": {
            "text/plain": [
              "4.026364234027149"
            ]
          },
          "metadata": {
            "tags": []
          },
          "execution_count": 5
        }
      ]
    },
    {
      "cell_type": "markdown",
      "metadata": {
        "id": "FcJsmEuZ9v0M",
        "colab_type": "text"
      },
      "source": [
        "여기부터 정책신경망 이다."
      ]
    },
    {
      "cell_type": "code",
      "metadata": {
        "id": "BD4QALBQyNEe",
        "colab_type": "code",
        "colab": {}
      },
      "source": [
        "from tensorflow.keras.utils import to_categorical\n",
        "from tensorflow import keras\n",
        "import keras.layers as layers\n",
        "from keras.layers import LSTM, Dense, Dropout\n",
        "from keras.models import Model, Sequential\n",
        "from keras.optimizers import Adam, RMSprop\n",
        "from keras.initializers import glorot_uniform\n",
        "from keras.callbacks import ModelCheckpoint, EarlyStopping\n",
        "import keras.backend as K  # 케라스의 backend를 K. 형식으로 호출하는 것이고 여기서는 tensorflow이다.\n",
        "import tensorflow as tf"
      ],
      "execution_count": 3,
      "outputs": []
    },
    {
      "cell_type": "markdown",
      "metadata": {
        "id": "MsUS4UsPI4Hk",
        "colab_type": "text"
      },
      "source": [
        "y_true, y_pred는 매트릭스이다. 즉 [y1_true, y2_ture],  [y1_pred, y2_pred]가 한쌍의 샘플이 되고 이러한 샘플이 m개로 구성된 메트릭스로 이해하면된다.\n"
      ]
    },
    {
      "cell_type": "code",
      "metadata": {
        "id": "2PmlLEc0QoTa",
        "colab_type": "code",
        "colab": {}
      },
      "source": [
        "  # 이것은 예제의 오리지널 custom_loss 함수이다.\n",
        "\n",
        "  def custom_loss(y_true, y_pred):\n",
        "    log_lik = K.log(y_pred + 1e-10)*y_true\n",
        "    return K.mean(tf.tensordot(log_lik, adv, 0), keepdims=True)\n"
      ],
      "execution_count": null,
      "outputs": []
    },
    {
      "cell_type": "code",
      "metadata": {
        "id": "BjNDs3rMEM_I",
        "colab_type": "code",
        "colab": {
          "base_uri": "https://localhost:8080/",
          "height": 70
        },
        "outputId": "a58b1610-4dc6-4441-bb8a-1f9c4b0bfb60"
      },
      "source": [
        " def custom_loss_test(y_true, y_pred):\n",
        "   log_lik = K.log(y_pred + 1e-10)*y_true\n",
        "   return log_lik \n",
        "\n",
        "y_pred = np.array([[0.5, 0.5],[0.1,0.1]])\n",
        "y_true = np.array([[1.0,0.0],[0.0, 1.0]])\n",
        "\n",
        "custom_loss_test(y_true, y_pred)"
      ],
      "execution_count": 4,
      "outputs": [
        {
          "output_type": "execute_result",
          "data": {
            "text/plain": [
              "<tf.Tensor: shape=(2, 2), dtype=float64, numpy=\n",
              "array([[-0.69314718, -0.        ],\n",
              "       [-0.        , -2.30258509]])>"
            ]
          },
          "metadata": {
            "tags": []
          },
          "execution_count": 4
        }
      ]
    },
    {
      "cell_type": "code",
      "metadata": {
        "id": "jfECDCOkEa6M",
        "colab_type": "code",
        "colab": {
          "base_uri": "https://localhost:8080/",
          "height": 34
        },
        "outputId": "96366c9c-746a-47ca-c289-6aa201d3e4e0"
      },
      "source": [
        " # 가장 적합한 손실함수의 하나이다\n",
        " \n",
        " def custom_loss_test1(y_true, y_pred, adv):\n",
        "   log_lik = K.sum(K.log(y_pred + 1e-10)*y_true, axis=1)*adv\n",
        "   return log_lik # 모든 샘플의 크로스엔트로피의 평균인데, n의 배수로 나누어준 값이 된다.\n",
        "\n",
        "\n",
        "y_pred = np.array([[0.5, 0.5],[0.1,0.1]])\n",
        "y_true = np.array([[1.0,0.0],[0.0, 1.0]])\n",
        "adv = np.array([1.0]) \n",
        "\n",
        "custom_loss_test1(y_true, y_pred, adv)"
      ],
      "execution_count": 29,
      "outputs": [
        {
          "output_type": "execute_result",
          "data": {
            "text/plain": [
              "<tf.Tensor: shape=(2,), dtype=float64, numpy=array([-0.69314718, -2.30258509])>"
            ]
          },
          "metadata": {
            "tags": []
          },
          "execution_count": 29
        }
      ]
    },
    {
      "cell_type": "code",
      "metadata": {
        "id": "Bg1ahWsQQBue",
        "colab_type": "code",
        "colab": {
          "base_uri": "https://localhost:8080/",
          "height": 34
        },
        "outputId": "5b891d64-8d3e-487e-9afe-ff3e8df304a7"
      },
      "source": [
        "# 가장 적합한 형태는 custom_loss_test1 or 2인 것 같다. \n",
        "\n",
        "def custom_loss_test2(y_true, y_pred):\n",
        "  log_lik = K.log(y_pred + 1e-10)*y_true\n",
        "  return K.mean(K.sum(log_lik*m, axis=1)) # 모든 샘플의 크로스엔트로피의 평균인데, n의 배수로 나누어준 값이 된다.\n",
        "\n",
        "\n",
        "y_pred = np.array([[0.5, 0.5],[0.1,0.1]])\n",
        "y_true = np.array([[1.0,0.0],[0.0, 1.0]])\n",
        "m = np.array([-1.0]) \n",
        "\n",
        "custom_loss_test2(y_true, y_pred)"
      ],
      "execution_count": null,
      "outputs": [
        {
          "output_type": "execute_result",
          "data": {
            "text/plain": [
              "<tf.Tensor: shape=(), dtype=float64, numpy=1.4978661361769956>"
            ]
          },
          "metadata": {
            "tags": []
          },
          "execution_count": 11
        }
      ]
    },
    {
      "cell_type": "markdown",
      "metadata": {
        "id": "UFGant1R5EBK",
        "colab_type": "text"
      },
      "source": [
        "custom loss함수는 위에서 끝나고 여기부터는 정책신경망에 대한 디자인이다."
      ]
    },
    {
      "cell_type": "code",
      "metadata": {
        "id": "sqfrHL4syNWQ",
        "colab_type": "code",
        "colab": {}
      },
      "source": [
        "# loss 함수가 test1, test2 모두 미분가능한 loss 함수로 적용가능하고 어떤 것이 좋은 것인지는 분석을 해야 한다.\n",
        "\n",
        "def get_policy_model(lr):\n",
        "  \n",
        "  adv = layers.Input(shape=[1])\n",
        "  inp_L = layers.Input(shape=(7,1))  # 타입스텝수 7개, 특성개수 1개\n",
        "  dense1 = LSTM(10)(inp_L)\n",
        "  dense1 = Dense(64)(dense1) \n",
        "  dense1 = Dropout(0.5)(dense1)\n",
        "  dense1 = Dense(64)(dense1)\n",
        "  output_s = layers.Dense(2, activation=\"sigmoid\",kernel_initializer=glorot_uniform(seed=42), use_bias=False, kernel_regularizer=keras.regularizers.l2(0.001), name=\"out\")(dense1)\n",
        "\n",
        "\n",
        "\n",
        "  model_train = Model(inputs=[inp_L, adv], outputs = output_s)\n",
        "  model_train.compile(loss=custom_loss_test1, optimizer=Adam(lr), metrics = ['mae'])\n",
        "  model_predict = Model(inputs=[inp_L], outputs=output_s)   # model_train.predict와 model_predict.predict의 결과는 완전히 일치한다. 다만 입력의 편의를 위해서 분리한다.\n",
        "  return model_train, model_predict "
      ],
      "execution_count": 8,
      "outputs": []
    },
    {
      "cell_type": "markdown",
      "metadata": {
        "id": "qpG6mlulP4I2",
        "colab_type": "text"
      },
      "source": [
        "여기까지가 custom_loss 함수에 대한 test를 진행한 부분이다."
      ]
    },
    {
      "cell_type": "code",
      "metadata": {
        "id": "sdiXiLhjyTSI",
        "colab_type": "code",
        "colab": {}
      },
      "source": [
        "model_train, model_predict = get_policy_model(0.01)"
      ],
      "execution_count": 10,
      "outputs": []
    },
    {
      "cell_type": "code",
      "metadata": {
        "id": "D_441GjMyNl1",
        "colab_type": "code",
        "colab": {
          "base_uri": "https://localhost:8080/",
          "height": 404
        },
        "outputId": "e33a86c1-6c98-4f0b-a260-4747e204a287"
      },
      "source": [
        "model_train.summary()"
      ],
      "execution_count": 11,
      "outputs": [
        {
          "output_type": "stream",
          "text": [
            "Model: \"functional_1\"\n",
            "__________________________________________________________________________________________________\n",
            "Layer (type)                    Output Shape         Param #     Connected to                     \n",
            "==================================================================================================\n",
            "input_2 (InputLayer)            [(None, 7, 1)]       0                                            \n",
            "__________________________________________________________________________________________________\n",
            "lstm (LSTM)                     (None, 10)           480         input_2[0][0]                    \n",
            "__________________________________________________________________________________________________\n",
            "dense (Dense)                   (None, 64)           704         lstm[0][0]                       \n",
            "__________________________________________________________________________________________________\n",
            "dropout (Dropout)               (None, 64)           0           dense[0][0]                      \n",
            "__________________________________________________________________________________________________\n",
            "dense_1 (Dense)                 (None, 64)           4160        dropout[0][0]                    \n",
            "__________________________________________________________________________________________________\n",
            "input_1 (InputLayer)            [(None, 1)]          0                                            \n",
            "__________________________________________________________________________________________________\n",
            "out (Dense)                     (None, 2)            128         dense_1[0][0]                    \n",
            "==================================================================================================\n",
            "Total params: 5,472\n",
            "Trainable params: 5,472\n",
            "Non-trainable params: 0\n",
            "__________________________________________________________________________________________________\n"
          ],
          "name": "stdout"
        }
      ]
    },
    {
      "cell_type": "code",
      "metadata": {
        "id": "_y5jPMkeiOhu",
        "colab_type": "code",
        "colab": {
          "base_uri": "https://localhost:8080/",
          "height": 369
        },
        "outputId": "d2432960-fbfc-42e9-b60e-356a1923fb18"
      },
      "source": [
        "model_predict.summary()"
      ],
      "execution_count": 12,
      "outputs": [
        {
          "output_type": "stream",
          "text": [
            "Model: \"functional_3\"\n",
            "_________________________________________________________________\n",
            "Layer (type)                 Output Shape              Param #   \n",
            "=================================================================\n",
            "input_2 (InputLayer)         [(None, 7, 1)]            0         \n",
            "_________________________________________________________________\n",
            "lstm (LSTM)                  (None, 10)                480       \n",
            "_________________________________________________________________\n",
            "dense (Dense)                (None, 64)                704       \n",
            "_________________________________________________________________\n",
            "dropout (Dropout)            (None, 64)                0         \n",
            "_________________________________________________________________\n",
            "dense_1 (Dense)              (None, 64)                4160      \n",
            "_________________________________________________________________\n",
            "out (Dense)                  (None, 2)                 128       \n",
            "=================================================================\n",
            "Total params: 5,472\n",
            "Trainable params: 5,472\n",
            "Non-trainable params: 0\n",
            "_________________________________________________________________\n"
          ],
          "name": "stdout"
        }
      ]
    },
    {
      "cell_type": "code",
      "metadata": {
        "id": "4Dg0NdtSsQhu",
        "colab_type": "code",
        "colab": {}
      },
      "source": [
        "#정책망이 예측한 대로 action을 선택한다.\n",
        "\n",
        "def action_choice(p_serise_lstm):\n",
        "  act = model_predict.predict(p_serise_lstm)\n",
        "  #act = np.argmax(act)\n",
        "  return act"
      ],
      "execution_count": 13,
      "outputs": []
    },
    {
      "cell_type": "code",
      "metadata": {
        "id": "bnKwo9vgVKMI",
        "colab_type": "code",
        "colab": {}
      },
      "source": [
        "# action_choice가 선택한 행동을 balance에 대비해서 가능한 행동인지 점검하고 틀린 경우 가능한 액션을 제시한다.\n",
        "# 당초 0 매수, 1 매도를 --> 0 매수, 1 hold, 2 매도로 전환 \n",
        "# 그리고 현재의 밸러스는 before 밸런스로 기록을 남긴다.\n",
        "\n",
        "def action_validate(act, price, balance):\n",
        "  if act == 0:\n",
        "    if balance[0] - price < 0:\n",
        "      act_v = 1\n",
        "    else:\n",
        "      act_v = 0\n",
        "        \n",
        "  if act == 1:\n",
        "    if balance[2] > 0 :\n",
        "      act_v = 2\n",
        "    else:\n",
        "      act_v = 1\n",
        "\n",
        "  before_act_balance = [balance[0], balance[1], balance[2]] \n",
        "\n",
        "  return act_v, before_act_balance"
      ],
      "execution_count": 14,
      "outputs": []
    },
    {
      "cell_type": "code",
      "metadata": {
        "id": "Tk6ddnSXxN2r",
        "colab_type": "code",
        "colab": {}
      },
      "source": [
        "# 검증이 완료된 행동으로 현재 밸런스를 갱신하고, 현재 가치를 구한다.\n",
        "\n",
        "def balance_update(balance, price, act_v):\n",
        "  if act_v == 0:\n",
        "    balance[0] = balance[0] - price\n",
        "    balance[1] = price\n",
        "    balance[2] = balance[2] + 1\n",
        "  if act_v == 1:\n",
        "    balance[1] = price\n",
        "  if act_v == 2:\n",
        "    balance[0] = balance[0] + price\n",
        "    balance[1] = price\n",
        "    balance[2] = balance[2] -1\n",
        "  balance_updated = [balance[0], balance[1], balance[2]] \n",
        "  present_value = balance[0] + balance[1] * balance[2]\n",
        "  return balance_updated, present_value"
      ],
      "execution_count": 15,
      "outputs": []
    },
    {
      "cell_type": "code",
      "metadata": {
        "id": "9BqjV5MRGBy0",
        "colab_type": "code",
        "colab": {}
      },
      "source": [
        "# 이전의 밸런스와 현재 밸런스와의 비율을 구한다. 이것은 포트폴리오 가치비율이라고 한다\n",
        "\n",
        "def pv_ratio_cal(before_act_balance, balance_updated):\n",
        "  pv_ratio = (balance_updated[0] + balance_updated[1] * balance_updated[2])/(before_act_balance[0] + before_act_balance[1] * before_act_balance[2])\n",
        "  return pv_ratio"
      ],
      "execution_count": 16,
      "outputs": []
    },
    {
      "cell_type": "code",
      "metadata": {
        "id": "42wl3rwdwdco",
        "colab_type": "code",
        "colab": {}
      },
      "source": [
        "# 주식보유 비율을 구한다.\n",
        "\n",
        "def hold_ratio_cal(balance_updated, price):\n",
        "  hold_ratio = balance_updated[2] / (present_value / price)\n",
        "\n",
        "  return hold_ratio\n"
      ],
      "execution_count": 17,
      "outputs": []
    },
    {
      "cell_type": "code",
      "metadata": {
        "id": "ij5NYQ8QHfE7",
        "colab_type": "code",
        "colab": {}
      },
      "source": [
        "# delayed reward를 구하기 위해서 기준 포트폴리오와 현재 밸런스의 비율을 구하고, 타겟 비율을 넘는지 확인한다.\n",
        "# 만약 target을 넘으면 base_pv를 present_value를 변경한다.\n",
        "\n",
        "def base_to_cur (base_pv, present_value, target_ratio):\n",
        "  delay_ratio = (present_value - base_pv) / base_pv\n",
        "  if delay_ratio > target_ratio:\n",
        "    target = 1.0\n",
        "    base_pv = present_value\n",
        "\n",
        "  elif (-1 * delay_ratio) > target_ratio:\n",
        "    target = -1.0\n",
        "    base_pv = present_value\n",
        "    \n",
        "  else:\n",
        "    target = 0\n",
        "    base_pv = base_pv\n",
        "    \n",
        "  return delay_ratio, target, base_pv"
      ],
      "execution_count": 18,
      "outputs": []
    },
    {
      "cell_type": "code",
      "metadata": {
        "id": "ZG19QI3YAYcW",
        "colab_type": "code",
        "colab": {}
      },
      "source": [
        "# 거래와 관련된 모든 것을 기록한다.\n",
        "\n",
        "def record(i, price, act, act_v, balance_updated, present_value, pv_ratio, hold_ratio, delay_ratio, target, base_pv):\n",
        "\n",
        "  transaction_history.append([i, price, act, act_v, balance_updated, present_value, pv_ratio, hold_ratio, delay_ratio, target, base_pv])\n",
        "  return transaction_history"
      ],
      "execution_count": 19,
      "outputs": []
    },
    {
      "cell_type": "code",
      "metadata": {
        "id": "fSqTmJ2bGAL8",
        "colab_type": "code",
        "colab": {}
      },
      "source": [
        "# 학습을 위한 배치 데이터를 만든다.\n",
        "\n",
        "\n",
        "def discount_rewards(r, gamma=0.5):\n",
        "    \"\"\"Takes 1d float array of rewards and computes discounted reward\n",
        "    e.g. f([1, 1, 1], 0.99) -> [1, 1.99, 2.9701]\n",
        "    \"\"\"\n",
        "    prior = 0\n",
        "    out = []\n",
        "    r = r[::-1]\n",
        "    for val in r:\n",
        "        new_val = val + prior * gamma\n",
        "        out.append(new_val)\n",
        "        prior = new_val\n",
        "    return np.array(out)\n",
        "\n",
        "\n",
        "\n",
        "\n",
        "def get_batch(transaction_history, target):\n",
        "\n",
        "  for i in range(len(transaction_history)):\n",
        "\n",
        "    y = np.full((len(transaction_history), 2), 0.0) \n",
        "    for j in range(i+1):\n",
        "      k = transaction_history[j][2] # k는 당초 신경망이 추천한 값으로 0구매, 1는 매도 이다. \n",
        "      #y[j,k] = (target + 1.0) / 2 \n",
        "      y[j,k] = np.abs(target)\n",
        "      \n",
        "    price_data = [p_serise_lstm[j] for j in range(i+1)]\n",
        "    delay_ratios = [transaction_history[j][8] for j in range(i+1)]\n",
        "    hold_ratios = [transaction_history[j][7] for j in range(i+1)]\n",
        "      \n",
        "    train_input =[]\n",
        "    for pd, dr, hr in zip(price_data, delay_ratios, hold_ratios):\n",
        "      pd = np.append(pd, dr)\n",
        "      pd = np.append(pd, hr)\n",
        "      train_input.append(pd)\n",
        "    train_input = np.array(train_input)\n",
        "    train_input = train_input.reshape(-1,7,1)\n",
        "\n",
        "  adv = np.full((len(transaction_history), 1), 1.0*target) # 긍정학습, 부정학습을 구분하기 위한 것이다.\n",
        "  adv = discount_rewards(adv)\n",
        "\n",
        "  return y, train_input, adv\n"
      ],
      "execution_count": 20,
      "outputs": []
    },
    {
      "cell_type": "markdown",
      "metadata": {
        "id": "IZHalhPGCE4J",
        "colab_type": "text"
      },
      "source": [
        "여기부터는 학습의 영역이다."
      ]
    },
    {
      "cell_type": "code",
      "metadata": {
        "id": "8m2KF-e-wFu1",
        "colab_type": "code",
        "colab": {
          "base_uri": "https://localhost:8080/",
          "height": 34
        },
        "outputId": "c9a6f5b0-70d3-4c8f-bdcb-6eaa6f088276"
      },
      "source": [
        "# random action과 신경망의 선택 action을 조정해야 한다.\n",
        "\n",
        "\n",
        "num_episode = 0.0\n",
        "num_episodes = 100.0\n",
        "\n",
        "target_ratio = 0.05\n",
        "max_batch_size = 46\n",
        "epsilon = 0.8\n",
        "\n",
        "\n",
        "while num_episode < num_episodes:\n",
        "\n",
        "  balance = [20, 0, 0]\n",
        "  base_pv = 20\n",
        "  \n",
        "  history_record = []\n",
        "  transaction_history=[]\n",
        "\n",
        "  for i in range(len(p_serise_lstm)):\n",
        "   \n",
        "    price = p_serise_lstm[i][4]\n",
        "\n",
        "    if np.random.rand() < epsilon :\n",
        "      act = np.random.choice(2, p=[0.5, 0.5])\n",
        "    else:\n",
        "      act =  np.argmax(action_choice(p_serise_lstm)[i])\n",
        "   \n",
        "    act_v, before_act_balance = action_validate(act, price, balance)\n",
        "    \n",
        "    balance_updated, present_value = balance_update(balance, price, act_v)\n",
        "    pv_ratio = pv_ratio_cal(before_act_balance, balance_updated)\n",
        "    hold_ratio = hold_ratio_cal(balance_updated, price)\n",
        "   \n",
        "    delay_ratio, target, base_pv = base_to_cur(base_pv, present_value, target_ratio)\n",
        "  \n",
        "    transaction_history = record(i, price, act, act_v, balance_updated, present_value, pv_ratio, hold_ratio, delay_ratio, target, base_pv)\n",
        "\n",
        "\n",
        "\n",
        "    if (target == 1 or target == -1):\n",
        "      y, train_input, adv = get_batch(transaction_history, target)\n",
        "#      print(train_input.shape)\n",
        "#      print(input(\"check?\"))\n",
        "\n",
        "      y = np.array(y)\n",
        "      loss = model_train.train_on_batch([train_input, adv], y)\n",
        "      \n",
        "\n",
        "      history_record.append(transaction_history)\n",
        "      transaction_history=[]\n",
        "      continue\n",
        "\n",
        "    if i == (len(p_serise_lstm)-1):\n",
        "\n",
        "      history_record.append(transaction_history)\n",
        "      transaction_history=[]      \n",
        "\n",
        "    \n",
        "  if present_value > 50.0:\n",
        "    break\n",
        "  if (num_episode+1) % 2 == 0:\n",
        "    print(\"num_episode: \",num_episode+1, \"loss: \", loss[0], \"mse :\", loss[1], \"wealth:\", present_value)\n",
        "\n",
        "  num_episode += 1.0\n",
        "  epsilon = epsilon * ( 1 - num_episode/num_episodes)\n",
        "\n",
        "\n",
        "\n",
        "\n",
        "\n",
        "\n",
        "\n",
        "\n",
        "    "
      ],
      "execution_count": 30,
      "outputs": [
        {
          "output_type": "stream",
          "text": [
            "num_episode:  2.0 loss:  0.00010323210153728724 mse : 0.5000019073486328 wealth: [16.95983495]\n"
          ],
          "name": "stdout"
        }
      ]
    },
    {
      "cell_type": "code",
      "metadata": {
        "id": "hY8tGzcHXU3-",
        "colab_type": "code",
        "colab": {
          "base_uri": "https://localhost:8080/",
          "height": 34
        },
        "outputId": "ebb7b210-bbe0-42b3-d097-07e0f7784b00"
      },
      "source": [
        "transaction_history"
      ],
      "execution_count": null,
      "outputs": [
        {
          "output_type": "execute_result",
          "data": {
            "text/plain": [
              "[]"
            ]
          },
          "metadata": {
            "tags": []
          },
          "execution_count": 31
        }
      ]
    },
    {
      "cell_type": "code",
      "metadata": {
        "id": "5J-rx_enEPrI",
        "colab_type": "code",
        "colab": {
          "base_uri": "https://localhost:8080/",
          "height": 1000
        },
        "outputId": "c265bbeb-b43d-44ad-ccc2-c3b27f38bff8"
      },
      "source": [
        "history_record"
      ],
      "execution_count": 32,
      "outputs": [
        {
          "output_type": "execute_result",
          "data": {
            "text/plain": [
              "[[[0,\n",
              "   array([3.67605401]),\n",
              "   0,\n",
              "   0,\n",
              "   [array([16.32394599]), array([3.67605401]), 1],\n",
              "   array([20.]),\n",
              "   array([1.]),\n",
              "   array([0.1838027]),\n",
              "   array([0.]),\n",
              "   0,\n",
              "   20],\n",
              "  [1,\n",
              "   array([3.85126705]),\n",
              "   1,\n",
              "   2,\n",
              "   [array([20.17521305]), array([3.85126705]), 0],\n",
              "   array([20.17521305]),\n",
              "   array([1.00876065]),\n",
              "   array([0.]),\n",
              "   array([0.00876065]),\n",
              "   0,\n",
              "   20],\n",
              "  [2,\n",
              "   array([3.00708514]),\n",
              "   1,\n",
              "   1,\n",
              "   [array([20.17521305]), array([3.00708514]), 0],\n",
              "   array([20.17521305]),\n",
              "   array([1.]),\n",
              "   array([0.]),\n",
              "   array([0.00876065]),\n",
              "   0,\n",
              "   20],\n",
              "  [3,\n",
              "   array([2.50685955]),\n",
              "   1,\n",
              "   1,\n",
              "   [array([20.17521305]), array([2.50685955]), 0],\n",
              "   array([20.17521305]),\n",
              "   array([1.]),\n",
              "   array([0.]),\n",
              "   array([0.00876065]),\n",
              "   0,\n",
              "   20],\n",
              "  [4,\n",
              "   array([3.0537632]),\n",
              "   0,\n",
              "   0,\n",
              "   [array([17.12144985]), array([3.0537632]), 1],\n",
              "   array([20.17521305]),\n",
              "   array([1.]),\n",
              "   array([0.15136213]),\n",
              "   array([0.00876065]),\n",
              "   0,\n",
              "   20],\n",
              "  [5,\n",
              "   array([2.92631831]),\n",
              "   0,\n",
              "   0,\n",
              "   [array([14.19513154]), array([2.92631831]), 2],\n",
              "   array([20.04776816]),\n",
              "   array([0.9936831]),\n",
              "   array([0.29193457]),\n",
              "   array([0.00238841]),\n",
              "   0,\n",
              "   20],\n",
              "  [6,\n",
              "   array([2.75929944]),\n",
              "   1,\n",
              "   2,\n",
              "   [array([16.95443098]), array([2.75929944]), 1],\n",
              "   array([19.71373042]),\n",
              "   array([0.98333791]),\n",
              "   array([0.13996841]),\n",
              "   array([-0.01431348]),\n",
              "   0,\n",
              "   20],\n",
              "  [7,\n",
              "   array([1.8800066]),\n",
              "   1,\n",
              "   2,\n",
              "   [array([18.83443758]), array([1.8800066]), 0],\n",
              "   array([18.83443758]),\n",
              "   array([0.95539693]),\n",
              "   array([0.]),\n",
              "   array([-0.05827812]),\n",
              "   -1.0,\n",
              "   array([18.83443758])]],\n",
              " [[8,\n",
              "   array([1.89681582]),\n",
              "   1,\n",
              "   1,\n",
              "   [array([18.83443758]), array([1.89681582]), 0],\n",
              "   array([18.83443758]),\n",
              "   array([1.]),\n",
              "   array([0.]),\n",
              "   array([0.]),\n",
              "   0,\n",
              "   array([18.83443758])],\n",
              "  [9,\n",
              "   array([2.43005158]),\n",
              "   1,\n",
              "   1,\n",
              "   [array([18.83443758]), array([2.43005158]), 0],\n",
              "   array([18.83443758]),\n",
              "   array([1.]),\n",
              "   array([0.]),\n",
              "   array([0.]),\n",
              "   0,\n",
              "   array([18.83443758])],\n",
              "  [10,\n",
              "   array([2.29423548]),\n",
              "   0,\n",
              "   0,\n",
              "   [array([16.5402021]), array([2.29423548]), 1],\n",
              "   array([18.83443758]),\n",
              "   array([1.]),\n",
              "   array([0.12181067]),\n",
              "   array([0.]),\n",
              "   0,\n",
              "   array([18.83443758])],\n",
              "  [11,\n",
              "   array([1.21670232]),\n",
              "   0,\n",
              "   0,\n",
              "   [array([15.32349978]), array([1.21670232]), 2],\n",
              "   array([17.75690442]),\n",
              "   array([0.9427892]),\n",
              "   array([0.13703991]),\n",
              "   array([-0.0572108]),\n",
              "   -1.0,\n",
              "   array([17.75690442])]],\n",
              " [[12,\n",
              "   array([1.388623]),\n",
              "   1,\n",
              "   2,\n",
              "   [array([16.71212278]), array([1.388623]), 1],\n",
              "   array([18.10074579]),\n",
              "   array([1.01936381]),\n",
              "   array([0.07671634]),\n",
              "   array([0.01936381]),\n",
              "   0,\n",
              "   array([17.75690442])],\n",
              "  [13,\n",
              "   array([2.3673296]),\n",
              "   0,\n",
              "   0,\n",
              "   [array([14.34479319]), array([2.3673296]), 2],\n",
              "   array([19.07945238]),\n",
              "   array([1.05406996]),\n",
              "   array([0.24815488]),\n",
              "   array([0.07448077]),\n",
              "   1.0,\n",
              "   array([19.07945238])]],\n",
              " [[14,\n",
              "   array([1.25061002]),\n",
              "   1,\n",
              "   2,\n",
              "   [array([15.5954032]), array([1.25061002]), 1],\n",
              "   array([16.84601322]),\n",
              "   array([0.88294008]),\n",
              "   array([0.07423774]),\n",
              "   array([-0.11705992]),\n",
              "   -1.0,\n",
              "   array([16.84601322])]],\n",
              " [[15,\n",
              "   array([0.97369506]),\n",
              "   0,\n",
              "   0,\n",
              "   [array([14.62170815]), array([0.97369506]), 2],\n",
              "   array([16.56909826]),\n",
              "   array([0.98356199]),\n",
              "   array([0.11753145]),\n",
              "   array([-0.01643801]),\n",
              "   0,\n",
              "   array([16.84601322])],\n",
              "  [16,\n",
              "   array([0.75992022]),\n",
              "   0,\n",
              "   0,\n",
              "   [array([13.86178792]), array([0.75992022]), 3],\n",
              "   array([16.14154859]),\n",
              "   array([0.97419596]),\n",
              "   array([0.14123556]),\n",
              "   array([-0.04181788]),\n",
              "   0,\n",
              "   array([16.84601322])],\n",
              "  [17,\n",
              "   array([0.70494357]),\n",
              "   0,\n",
              "   0,\n",
              "   [array([13.15684435]), array([0.70494357]), 4],\n",
              "   array([15.97661864]),\n",
              "   array([0.98978227]),\n",
              "   array([0.17649381]),\n",
              "   array([-0.05160833]),\n",
              "   -1.0,\n",
              "   array([15.97661864])]],\n",
              " [[18,\n",
              "   array([1.]),\n",
              "   1,\n",
              "   2,\n",
              "   [array([14.15684435]), array([1.]), 3],\n",
              "   array([17.15684435]),\n",
              "   array([1.07387206]),\n",
              "   array([0.17485733]),\n",
              "   array([0.07387206]),\n",
              "   1.0,\n",
              "   array([17.15684435])]],\n",
              " [[19,\n",
              "   array([1.54587275]),\n",
              "   1,\n",
              "   2,\n",
              "   [array([15.7027171]), array([1.54587275]), 2],\n",
              "   array([18.79446259]),\n",
              "   array([1.09544985]),\n",
              "   array([0.164503]),\n",
              "   array([0.09544985]),\n",
              "   1.0,\n",
              "   array([18.79446259])]],\n",
              " [[20,\n",
              "   array([1.09676256]),\n",
              "   0,\n",
              "   0,\n",
              "   [array([14.60595454]), array([1.09676256]), 3],\n",
              "   array([17.89624221]),\n",
              "   array([0.95220824]),\n",
              "   array([0.18385355]),\n",
              "   array([-0.04779176]),\n",
              "   0,\n",
              "   array([18.79446259])],\n",
              "  [21,\n",
              "   array([1.03243083]),\n",
              "   0,\n",
              "   0,\n",
              "   [array([13.57352371]), array([1.03243083]), 4],\n",
              "   array([17.70324703]),\n",
              "   array([0.98921588]),\n",
              "   array([0.23327491]),\n",
              "   array([-0.05806048]),\n",
              "   -1.0,\n",
              "   array([17.70324703])]],\n",
              " [[22,\n",
              "   array([2.0524607]),\n",
              "   0,\n",
              "   0,\n",
              "   [array([11.52106301]), array([2.0524607]), 5],\n",
              "   array([21.78336653]),\n",
              "   array([1.23047295]),\n",
              "   array([0.47110732]),\n",
              "   array([0.23047295]),\n",
              "   1.0,\n",
              "   array([21.78336653])]],\n",
              " [[23,\n",
              "   array([1.85716217]),\n",
              "   0,\n",
              "   0,\n",
              "   [array([9.66390084]), array([1.85716217]), 6],\n",
              "   array([20.80687384]),\n",
              "   array([0.95517255]),\n",
              "   array([0.53554287]),\n",
              "   array([-0.04482745]),\n",
              "   0,\n",
              "   array([21.78336653])],\n",
              "  [24,\n",
              "   array([1.58995838]),\n",
              "   0,\n",
              "   0,\n",
              "   [array([8.07394246]), array([1.58995838]), 7],\n",
              "   array([19.20365111]),\n",
              "   array([0.92294745]),\n",
              "   array([0.57956211]),\n",
              "   array([-0.11842593]),\n",
              "   -1.0,\n",
              "   array([19.20365111])]],\n",
              " [[25,\n",
              "   array([1.25882775]),\n",
              "   0,\n",
              "   0,\n",
              "   [array([6.81511472]), array([1.25882775]), 8],\n",
              "   array([16.8857367]),\n",
              "   array([0.87929824]),\n",
              "   array([0.59639814]),\n",
              "   array([-0.12070176]),\n",
              "   -1.0,\n",
              "   array([16.8857367])]],\n",
              " [[26,\n",
              "   array([0.68326909]),\n",
              "   0,\n",
              "   0,\n",
              "   [array([6.13184562]), array([0.68326909]), 9],\n",
              "   array([12.28126747]),\n",
              "   array([0.72731606]),\n",
              "   array([0.50071557]),\n",
              "   array([-0.27268394]),\n",
              "   -1.0,\n",
              "   array([12.28126747])]],\n",
              " [[27,\n",
              "   array([1.36301408]),\n",
              "   1,\n",
              "   2,\n",
              "   [array([7.4948597]), array([1.36301408]), 8],\n",
              "   array([18.39897235]),\n",
              "   array([1.49813302]),\n",
              "   array([0.59264792]),\n",
              "   array([0.49813302]),\n",
              "   1.0,\n",
              "   array([18.39897235])]],\n",
              " [[28,\n",
              "   array([0.65348743]),\n",
              "   0,\n",
              "   0,\n",
              "   [array([6.84137227]), array([0.65348743]), 9],\n",
              "   array([12.72275914]),\n",
              "   array([0.69149292]),\n",
              "   array([0.46227291]),\n",
              "   array([-0.30850708]),\n",
              "   -1.0,\n",
              "   array([12.72275914])]],\n",
              " [[29,\n",
              "   array([1.10398329]),\n",
              "   0,\n",
              "   0,\n",
              "   [array([5.73738898]), array([1.10398329]), 10],\n",
              "   array([16.77722192]),\n",
              "   array([1.31867795]),\n",
              "   array([0.65802509]),\n",
              "   array([0.31867795]),\n",
              "   1.0,\n",
              "   array([16.77722192])]],\n",
              " [[30,\n",
              "   array([1.53408258]),\n",
              "   0,\n",
              "   0,\n",
              "   [array([4.2033064]), array([1.53408258]), 11],\n",
              "   array([21.07821481]),\n",
              "   array([1.25635906]),\n",
              "   array([0.80058528]),\n",
              "   array([0.25635906]),\n",
              "   1.0,\n",
              "   array([21.07821481])]],\n",
              " [[31,\n",
              "   array([0.99525863]),\n",
              "   1,\n",
              "   2,\n",
              "   [array([5.19856503]), array([0.99525863]), 10],\n",
              "   array([15.15115133]),\n",
              "   array([0.71880619]),\n",
              "   array([0.65688647]),\n",
              "   array([-0.28119381]),\n",
              "   -1.0,\n",
              "   array([15.15115133])]],\n",
              " [[32,\n",
              "   array([1.54345823]),\n",
              "   1,\n",
              "   2,\n",
              "   [array([6.74202326]), array([1.54345823]), 9],\n",
              "   array([20.63314737]),\n",
              "   array([1.36182043]),\n",
              "   array([0.6732431]),\n",
              "   array([0.36182043]),\n",
              "   1.0,\n",
              "   array([20.63314737])]],\n",
              " [[33,\n",
              "   array([1.43905041]),\n",
              "   1,\n",
              "   2,\n",
              "   [array([8.18107367]), array([1.43905041]), 8],\n",
              "   array([19.69347695]),\n",
              "   array([0.95445821]),\n",
              "   array([0.58457952]),\n",
              "   array([-0.04554179]),\n",
              "   0,\n",
              "   array([20.63314737])],\n",
              "  [34,\n",
              "   array([0.85673465]),\n",
              "   0,\n",
              "   0,\n",
              "   [array([7.32433902]), array([0.85673465]), 9],\n",
              "   array([15.03495087]),\n",
              "   array([0.76344827]),\n",
              "   array([0.51284583]),\n",
              "   array([-0.27132053]),\n",
              "   -1.0,\n",
              "   array([15.03495087])]],\n",
              " [[35,\n",
              "   array([0.1574772]),\n",
              "   0,\n",
              "   0,\n",
              "   [array([7.16686182]), array([0.1574772]), 10],\n",
              "   array([8.74163378]),\n",
              "   array([0.58142084]),\n",
              "   array([0.18014618]),\n",
              "   array([-0.41857916]),\n",
              "   -1.0,\n",
              "   array([8.74163378])]],\n",
              " [[36,\n",
              "   array([1.]),\n",
              "   0,\n",
              "   0,\n",
              "   [array([6.16686182]), array([1.]), 11],\n",
              "   array([17.16686182]),\n",
              "   array([1.96380474]),\n",
              "   array([0.64076941]),\n",
              "   array([0.96380474]),\n",
              "   1.0,\n",
              "   array([17.16686182])]],\n",
              " [[37,\n",
              "   array([1.57255504]),\n",
              "   0,\n",
              "   0,\n",
              "   [array([4.59430679]), array([1.57255504]), 12],\n",
              "   array([23.46496721]),\n",
              "   array([1.36687575]),\n",
              "   array([0.8042057]),\n",
              "   array([0.36687575]),\n",
              "   1.0,\n",
              "   array([23.46496721])]],\n",
              " [[38,\n",
              "   array([0.91698632]),\n",
              "   1,\n",
              "   2,\n",
              "   [array([5.51129311]), array([0.91698632]), 11],\n",
              "   array([15.59814262]),\n",
              "   array([0.66474172]),\n",
              "   array([0.64666991]),\n",
              "   array([-0.33525828]),\n",
              "   -1.0,\n",
              "   array([15.59814262])]],\n",
              " [[39,\n",
              "   array([0.81905389]),\n",
              "   0,\n",
              "   0,\n",
              "   [array([4.69223922]), array([0.81905389]), 12],\n",
              "   array([14.52088591]),\n",
              "   array([0.93093686]),\n",
              "   array([0.67686274]),\n",
              "   array([-0.06906314]),\n",
              "   -1.0,\n",
              "   array([14.52088591])]],\n",
              " [[40,\n",
              "   array([1.57968579]),\n",
              "   1,\n",
              "   2,\n",
              "   [array([6.27192501]), array([1.57968579]), 11],\n",
              "   array([23.64846868]),\n",
              "   array([1.62858305]),\n",
              "   array([0.73478515]),\n",
              "   array([0.62858305]),\n",
              "   1.0,\n",
              "   array([23.64846868])]],\n",
              " [[41,\n",
              "   array([0.49630391]),\n",
              "   0,\n",
              "   0,\n",
              "   [array([5.7756211]), array([0.49630391]), 12],\n",
              "   array([11.73126796]),\n",
              "   array([0.49606882]),\n",
              "   array([0.5076729]),\n",
              "   array([-0.50393118]),\n",
              "   -1.0,\n",
              "   array([11.73126796])]],\n",
              " [[42,\n",
              "   array([1.63739541]),\n",
              "   1,\n",
              "   2,\n",
              "   [array([7.41301651]), array([1.63739541]), 11],\n",
              "   array([25.42436606]),\n",
              "   array([2.16723087]),\n",
              "   array([0.70842866]),\n",
              "   array([1.16723087]),\n",
              "   1.0,\n",
              "   array([25.42436606])]],\n",
              " [[43,\n",
              "   array([1.23802346]),\n",
              "   1,\n",
              "   2,\n",
              "   [array([8.65103998]), array([1.23802346]), 10],\n",
              "   array([21.03127461]),\n",
              "   array([0.8272094]),\n",
              "   array([0.58865831]),\n",
              "   array([-0.1727906]),\n",
              "   -1.0,\n",
              "   array([21.03127461])]],\n",
              " [[44,\n",
              "   array([1.38829497]),\n",
              "   0,\n",
              "   0,\n",
              "   [array([7.26274501]), array([1.38829497]), 11],\n",
              "   array([22.53398965]),\n",
              "   array([1.07145145]),\n",
              "   array([0.67769822]),\n",
              "   array([0.07145145]),\n",
              "   1.0,\n",
              "   array([22.53398965])]],\n",
              " [[45,\n",
              "   array([1.3862416]),\n",
              "   0,\n",
              "   0,\n",
              "   [array([5.87650341]), array([1.3862416]), 12],\n",
              "   array([22.51140266]),\n",
              "   array([0.99899765]),\n",
              "   array([0.73895436]),\n",
              "   array([-0.00100235]),\n",
              "   0,\n",
              "   array([22.53398965])],\n",
              "  [46,\n",
              "   array([2.50678065]),\n",
              "   0,\n",
              "   0,\n",
              "   [array([3.36972276]), array([2.50678065]), 13],\n",
              "   array([35.95787115]),\n",
              "   array([1.59731811]),\n",
              "   array([0.90628692]),\n",
              "   array([0.59571704]),\n",
              "   1.0,\n",
              "   array([35.95787115])]],\n",
              " [[47,\n",
              "   array([2.04748909]),\n",
              "   0,\n",
              "   0,\n",
              "   [array([1.32223367]), array([2.04748909]), 14],\n",
              "   array([29.98708095]),\n",
              "   array([0.8339504]),\n",
              "   array([0.95590656]),\n",
              "   array([-0.1660496]),\n",
              "   -1.0,\n",
              "   array([29.98708095])]],\n",
              " [[48,\n",
              "   array([2.59718938]),\n",
              "   0,\n",
              "   1,\n",
              "   [array([1.32223367]), array([2.59718938]), 14],\n",
              "   array([37.68288505]),\n",
              "   array([1.25663732]),\n",
              "   array([0.96491156]),\n",
              "   array([0.25663732]),\n",
              "   1.0,\n",
              "   array([37.68288505])]],\n",
              " [[49,\n",
              "   array([2.00015538]),\n",
              "   0,\n",
              "   1,\n",
              "   [array([1.32223367]), array([2.00015538]), 14],\n",
              "   array([29.32440893]),\n",
              "   array([0.77818906]),\n",
              "   array([0.95491013]),\n",
              "   array([-0.22181094]),\n",
              "   -1.0,\n",
              "   array([29.32440893])]],\n",
              " [[50,\n",
              "   array([2.38045395]),\n",
              "   1,\n",
              "   2,\n",
              "   [array([3.70268762]), array([2.38045395]), 13],\n",
              "   array([34.64858898]),\n",
              "   array([1.18156138]),\n",
              "   array([0.89313598]),\n",
              "   array([0.18156138]),\n",
              "   1.0,\n",
              "   array([34.64858898])]],\n",
              " [[51,\n",
              "   array([2.98399177]),\n",
              "   0,\n",
              "   0,\n",
              "   [array([0.71869585]), array([2.98399177]), 14],\n",
              "   array([42.49458058]),\n",
              "   array([1.22644477]),\n",
              "   array([0.98308735]),\n",
              "   array([0.22644477]),\n",
              "   1.0,\n",
              "   array([42.49458058])]],\n",
              " [[52,\n",
              "   array([2.98021053]),\n",
              "   1,\n",
              "   2,\n",
              "   [array([3.69890639]), array([2.98021053]), 13],\n",
              "   array([42.44164331]),\n",
              "   array([0.99875426]),\n",
              "   array([0.91284724]),\n",
              "   array([-0.00124574]),\n",
              "   0,\n",
              "   array([42.49458058])],\n",
              "  [53,\n",
              "   array([2.69547675]),\n",
              "   0,\n",
              "   0,\n",
              "   [array([1.00342964]), array([2.69547675]), 14],\n",
              "   array([38.74010409]),\n",
              "   array([0.91278521]),\n",
              "   array([0.97409843]),\n",
              "   array([-0.08835189]),\n",
              "   -1.0,\n",
              "   array([38.74010409])]],\n",
              " [[54,\n",
              "   array([3.77790637]),\n",
              "   0,\n",
              "   1,\n",
              "   [array([1.00342964]), array([3.77790637]), 14],\n",
              "   array([53.89411881]),\n",
              "   array([1.39117124]),\n",
              "   array([0.98138146]),\n",
              "   array([0.39117124]),\n",
              "   1.0,\n",
              "   array([53.89411881])]],\n",
              " [[55,\n",
              "   array([4.04911034]),\n",
              "   0,\n",
              "   1,\n",
              "   [array([1.00342964]), array([4.04911034]), 14],\n",
              "   array([57.69097435]),\n",
              "   array([1.07045028]),\n",
              "   array([0.98260682]),\n",
              "   array([0.07045028]),\n",
              "   1.0,\n",
              "   array([57.69097435])]],\n",
              " [[56,\n",
              "   array([3.64617512]),\n",
              "   1,\n",
              "   2,\n",
              "   [array([4.64960475]), array([3.64617512]), 13],\n",
              "   array([52.04988126]),\n",
              "   array([0.90221879]),\n",
              "   array([0.91067021]),\n",
              "   array([-0.09778121]),\n",
              "   -1.0,\n",
              "   array([52.04988126])]],\n",
              " [[57,\n",
              "   array([4.42712879]),\n",
              "   1,\n",
              "   2,\n",
              "   [array([9.07673354]), array([4.42712879]), 12],\n",
              "   array([62.20227897]),\n",
              "   array([1.19505131]),\n",
              "   array([0.85407715]),\n",
              "   array([0.19505131]),\n",
              "   1.0,\n",
              "   array([62.20227897])]],\n",
              " [[58,\n",
              "   array([4.85651285]),\n",
              "   0,\n",
              "   0,\n",
              "   [array([4.22022069]), array([4.85651285]), 13],\n",
              "   array([67.35488777]),\n",
              "   array([1.08283633]),\n",
              "   array([0.93734351]),\n",
              "   array([0.08283633]),\n",
              "   1.0,\n",
              "   array([67.35488777])]],\n",
              " [[59,\n",
              "   array([3.72843603]),\n",
              "   1,\n",
              "   2,\n",
              "   [array([7.94865672]), array([3.72843603]), 12],\n",
              "   array([52.68988914]),\n",
              "   array([0.78227269]),\n",
              "   array([0.84914266]),\n",
              "   array([-0.21772731]),\n",
              "   -1.0,\n",
              "   array([52.68988914])]],\n",
              " [[60,\n",
              "   array([4.707393]),\n",
              "   0,\n",
              "   0,\n",
              "   [array([3.24126373]), array([4.707393]), 13],\n",
              "   array([64.43737267]),\n",
              "   array([1.22295518]),\n",
              "   array([0.94969901]),\n",
              "   array([0.22295518]),\n",
              "   1.0,\n",
              "   array([64.43737267])]],\n",
              " [[61,\n",
              "   array([4.56068467]),\n",
              "   0,\n",
              "   1,\n",
              "   [array([3.24126373]), array([4.56068467]), 13],\n",
              "   array([62.53016438]),\n",
              "   array([0.97040214]),\n",
              "   array([0.9481648]),\n",
              "   array([-0.02959786]),\n",
              "   0,\n",
              "   array([64.43737267])],\n",
              "  [62,\n",
              "   array([5.72413011]),\n",
              "   0,\n",
              "   1,\n",
              "   [array([3.24126373]), array([5.72413011]), 13],\n",
              "   array([77.65495521]),\n",
              "   array([1.24187991]),\n",
              "   array([0.9582607]),\n",
              "   array([0.20512293]),\n",
              "   1.0,\n",
              "   array([77.65495521])]],\n",
              " [[63,\n",
              "   array([6.58311382]),\n",
              "   0,\n",
              "   1,\n",
              "   [array([3.24126373]), array([6.58311382]), 13],\n",
              "   array([88.82174334]),\n",
              "   array([1.14380007]),\n",
              "   array([0.96350822]),\n",
              "   array([0.14380007]),\n",
              "   1.0,\n",
              "   array([88.82174334])]],\n",
              " [[64,\n",
              "   array([6.45952398]),\n",
              "   1,\n",
              "   2,\n",
              "   [array([9.7007877]), array([6.45952398]), 12],\n",
              "   array([87.21507542]),\n",
              "   array([0.98191132]),\n",
              "   array([0.88877166]),\n",
              "   array([-0.01808868]),\n",
              "   0,\n",
              "   array([88.82174334])],\n",
              "  [65,\n",
              "   array([5.44480158]),\n",
              "   0,\n",
              "   0,\n",
              "   [array([4.25598612]), array([5.44480158]), 13],\n",
              "   array([75.03840664]),\n",
              "   array([0.86038344]),\n",
              "   array([0.94328256]),\n",
              "   array([-0.15517976]),\n",
              "   -1.0,\n",
              "   array([75.03840664])]],\n",
              " [[66,\n",
              "   array([5.87508561]),\n",
              "   0,\n",
              "   1,\n",
              "   [array([4.25598612]), array([5.87508561]), 13],\n",
              "   array([80.63209904]),\n",
              "   array([1.07454439]),\n",
              "   array([0.94721722]),\n",
              "   array([0.07454439]),\n",
              "   1.0,\n",
              "   array([80.63209904])]],\n",
              " [[67,\n",
              "   array([5.44454623]),\n",
              "   1,\n",
              "   2,\n",
              "   [array([9.70053236]), array([5.44454623]), 12],\n",
              "   array([75.03508714]),\n",
              "   array([0.93058581]),\n",
              "   array([0.87072005]),\n",
              "   array([-0.06941419]),\n",
              "   -1.0,\n",
              "   array([75.03508714])]],\n",
              " [[68,\n",
              "   array([6.410686]),\n",
              "   0,\n",
              "   0,\n",
              "   [array([3.28984636]), array([6.410686]), 13],\n",
              "   array([86.62876431]),\n",
              "   array([1.15451008]),\n",
              "   array([0.96202363]),\n",
              "   array([0.15451008]),\n",
              "   1.0,\n",
              "   array([86.62876431])]],\n",
              " [[69,\n",
              "   array([5.44614529]),\n",
              "   0,\n",
              "   1,\n",
              "   [array([3.28984636]), array([5.44614529]), 13],\n",
              "   array([74.08973514]),\n",
              "   array([0.85525559]),\n",
              "   array([0.95559646]),\n",
              "   array([-0.14474441]),\n",
              "   -1.0,\n",
              "   array([74.08973514])]],\n",
              " [[70,\n",
              "   array([5.65648458]),\n",
              "   0,\n",
              "   1,\n",
              "   [array([3.28984636]), array([5.65648458]), 13],\n",
              "   array([76.8241459]),\n",
              "   array([1.03690674]),\n",
              "   array([0.95717692]),\n",
              "   array([0.03690674]),\n",
              "   0,\n",
              "   array([74.08973514])],\n",
              "  [71,\n",
              "   array([5.42321396]),\n",
              "   0,\n",
              "   1,\n",
              "   [array([3.28984636]), array([5.42321396]), 13],\n",
              "   array([73.79162783]),\n",
              "   array([0.9605265]),\n",
              "   array([0.95541708]),\n",
              "   array([-0.0040236]),\n",
              "   0,\n",
              "   array([74.08973514])],\n",
              "  [72,\n",
              "   array([5.36574346]),\n",
              "   0,\n",
              "   1,\n",
              "   [array([3.28984636]), array([5.36574346]), 13],\n",
              "   array([73.04451133]),\n",
              "   array([0.98987532]),\n",
              "   array([0.95496107]),\n",
              "   array([-0.01410754]),\n",
              "   0,\n",
              "   array([74.08973514])],\n",
              "  [73,\n",
              "   array([4.51683018]),\n",
              "   1,\n",
              "   2,\n",
              "   [array([7.80667654]), array([4.51683018]), 12],\n",
              "   array([62.00863872]),\n",
              "   array([0.84891579]),\n",
              "   array([0.8741034]),\n",
              "   array([-0.16306033]),\n",
              "   -1.0,\n",
              "   array([62.00863872])]],\n",
              " [[74,\n",
              "   array([3.73878849]),\n",
              "   0,\n",
              "   0,\n",
              "   [array([4.06788805]), array([3.73878849]), 13],\n",
              "   array([52.67213848]),\n",
              "   array([0.84943227]),\n",
              "   array([0.92276964]),\n",
              "   array([-0.15056773]),\n",
              "   -1.0,\n",
              "   array([52.67213848])]],\n",
              " [[75,\n",
              "   array([2.65999647]),\n",
              "   0,\n",
              "   0,\n",
              "   [array([1.40789158]), array([2.65999647]), 14],\n",
              "   array([38.64784218]),\n",
              "   array([0.73374356]),\n",
              "   array([0.96357128]),\n",
              "   array([-0.26625644]),\n",
              "   -1.0,\n",
              "   array([38.64784218])]],\n",
              " [[76,\n",
              "   array([3.12880394]),\n",
              "   0,\n",
              "   1,\n",
              "   [array([1.40789158]), array([3.12880394]), 14],\n",
              "   array([45.21114678]),\n",
              "   array([1.16982331]),\n",
              "   array([0.96885964]),\n",
              "   array([0.16982331]),\n",
              "   1.0,\n",
              "   array([45.21114678])]],\n",
              " [[77,\n",
              "   array([3.77706104]),\n",
              "   1,\n",
              "   2,\n",
              "   [array([5.18495261]), array([3.77706104]), 13],\n",
              "   array([54.28674607]),\n",
              "   array([1.20073809]),\n",
              "   array([0.90448953]),\n",
              "   array([0.20073809]),\n",
              "   1.0,\n",
              "   array([54.28674607])]],\n",
              " [[78,\n",
              "   array([4.12752257]),\n",
              "   1,\n",
              "   2,\n",
              "   [array([9.31247519]), array([4.12752257]), 12],\n",
              "   array([58.84274608]),\n",
              "   array([1.08392472]),\n",
              "   array([0.84173962]),\n",
              "   array([0.08392472]),\n",
              "   1.0,\n",
              "   array([58.84274608])]],\n",
              " [[79,\n",
              "   array([5.05709735]),\n",
              "   1,\n",
              "   2,\n",
              "   [array([14.36957253]), array([5.05709735]), 11],\n",
              "   array([69.99764337]),\n",
              "   array([1.18957132]),\n",
              "   array([0.79471348]),\n",
              "   array([0.18957132]),\n",
              "   1.0,\n",
              "   array([69.99764337])]],\n",
              " [[80,\n",
              "   array([4.6186509]),\n",
              "   1,\n",
              "   2,\n",
              "   [array([18.98822344]), array([4.6186509]), 10],\n",
              "   array([65.17473244]),\n",
              "   array([0.93109895]),\n",
              "   array([0.70865667]),\n",
              "   array([-0.06890105]),\n",
              "   -1.0,\n",
              "   array([65.17473244])]],\n",
              " [[81,\n",
              "   array([4.32856153]),\n",
              "   0,\n",
              "   0,\n",
              "   [array([14.6596619]), array([4.32856153]), 11],\n",
              "   array([62.27383875]),\n",
              "   array([0.95549052]),\n",
              "   array([0.76459357]),\n",
              "   array([-0.04450948]),\n",
              "   0,\n",
              "   array([65.17473244])],\n",
              "  [82,\n",
              "   array([4.63309717]),\n",
              "   0,\n",
              "   0,\n",
              "   [array([10.02656474]), array([4.63309717]), 12],\n",
              "   array([65.62373074]),\n",
              "   array([1.05379293]),\n",
              "   array([0.8472113]),\n",
              "   array([0.00688915]),\n",
              "   0,\n",
              "   array([65.17473244])],\n",
              "  [83,\n",
              "   array([5.72145071]),\n",
              "   0,\n",
              "   0,\n",
              "   [array([4.30511403]), array([5.72145071]), 13],\n",
              "   array([78.68397321]),\n",
              "   array([1.19901707]),\n",
              "   array([0.94528601]),\n",
              "   array([0.20727727]),\n",
              "   1.0,\n",
              "   array([78.68397321])]],\n",
              " [[84,\n",
              "   array([5.86789156]),\n",
              "   1,\n",
              "   2,\n",
              "   [array([10.17300559]), array([5.86789156]), 12],\n",
              "   array([80.58770435]),\n",
              "   array([1.02419465]),\n",
              "   array([0.87376479]),\n",
              "   array([0.02419465]),\n",
              "   0,\n",
              "   array([78.68397321])],\n",
              "  [85,\n",
              "   array([6.33920675]),\n",
              "   0,\n",
              "   0,\n",
              "   [array([3.83379884]), array([6.33920675]), 13],\n",
              "   array([86.2434866]),\n",
              "   array([1.0701817]),\n",
              "   array([0.9555468]),\n",
              "   array([0.09607437]),\n",
              "   1.0,\n",
              "   array([86.2434866])]],\n",
              " [[86,\n",
              "   array([7.30148911]),\n",
              "   0,\n",
              "   1,\n",
              "   [array([3.83379884]), array([7.30148911]), 13],\n",
              "   array([98.75315731]),\n",
              "   array([1.14505061]),\n",
              "   array([0.96117796]),\n",
              "   array([0.14505061]),\n",
              "   1.0,\n",
              "   array([98.75315731])]],\n",
              " [[87,\n",
              "   array([6.91189306]),\n",
              "   0,\n",
              "   1,\n",
              "   [array([3.83379884]), array([6.91189306]), 13],\n",
              "   array([93.68840867]),\n",
              "   array([0.94871305]),\n",
              "   array([0.95907926]),\n",
              "   array([-0.05128695]),\n",
              "   -1.0,\n",
              "   array([93.68840867])]],\n",
              " [[88,\n",
              "   array([5.91867082]),\n",
              "   0,\n",
              "   1,\n",
              "   [array([3.83379884]), array([5.91867082]), 13],\n",
              "   array([80.77651948]),\n",
              "   array([0.86218264]),\n",
              "   array([0.9525382]),\n",
              "   array([-0.13781736]),\n",
              "   -1.0,\n",
              "   array([80.77651948])]],\n",
              " [[89,\n",
              "   array([5.68630737]),\n",
              "   0,\n",
              "   1,\n",
              "   [array([3.83379884]), array([5.68630737]), 13],\n",
              "   array([77.75579461]),\n",
              "   array([0.96260392]),\n",
              "   array([0.95069436]),\n",
              "   array([-0.03739608]),\n",
              "   0,\n",
              "   array([80.77651948])],\n",
              "  [90,\n",
              "   array([5.69191541]),\n",
              "   0,\n",
              "   1,\n",
              "   [array([3.83379884]), array([5.69191541]), 13],\n",
              "   array([77.82869918]),\n",
              "   array([1.00093761]),\n",
              "   array([0.95074055]),\n",
              "   array([-0.03649353]),\n",
              "   0,\n",
              "   array([80.77651948])],\n",
              "  [91,\n",
              "   array([6.2769012]),\n",
              "   1,\n",
              "   2,\n",
              "   [array([10.11070005]), array([6.2769012]), 12],\n",
              "   array([85.43351447]),\n",
              "   array([1.09771222]),\n",
              "   array([0.88165417]),\n",
              "   array([0.05765283]),\n",
              "   1.0,\n",
              "   array([85.43351447])]],\n",
              " [[92,\n",
              "   array([5.53253732]),\n",
              "   0,\n",
              "   0,\n",
              "   [array([4.57816272]), array([5.53253732]), 13],\n",
              "   array([76.50114792]),\n",
              "   array([0.89544657]),\n",
              "   array([0.94015563]),\n",
              "   array([-0.10455343]),\n",
              "   -1.0,\n",
              "   array([76.50114792])]],\n",
              " [[93,\n",
              "   array([5.98417297]),\n",
              "   0,\n",
              "   1,\n",
              "   [array([4.57816272]), array([5.98417297]), 13],\n",
              "   array([82.3724113]),\n",
              "   array([1.07674739]),\n",
              "   array([0.94442116]),\n",
              "   array([0.07674739]),\n",
              "   1.0,\n",
              "   array([82.3724113])]],\n",
              " [[94,\n",
              "   array([5.35237281]),\n",
              "   0,\n",
              "   1,\n",
              "   [array([4.57816272]), array([5.35237281]), 13],\n",
              "   array([74.15900929]),\n",
              "   array([0.90028941]),\n",
              "   array([0.93826559]),\n",
              "   array([-0.09971059]),\n",
              "   -1.0,\n",
              "   array([74.15900929])]],\n",
              " [[95,\n",
              "   array([4.67826311]),\n",
              "   0,\n",
              "   1,\n",
              "   [array([4.57816272]), array([4.67826311]), 13],\n",
              "   array([65.39558312]),\n",
              "   array([0.88182924]),\n",
              "   array([0.92999278]),\n",
              "   array([-0.11817076]),\n",
              "   -1.0,\n",
              "   array([65.39558312])]]]"
            ]
          },
          "metadata": {
            "tags": []
          },
          "execution_count": 32
        }
      ]
    },
    {
      "cell_type": "code",
      "metadata": {
        "id": "Tiw8inRifyZK",
        "colab_type": "code",
        "colab": {}
      },
      "source": [
        ""
      ],
      "execution_count": null,
      "outputs": []
    },
    {
      "cell_type": "code",
      "metadata": {
        "id": "I9xyQaVFvOHH",
        "colab_type": "code",
        "colab": {
          "base_uri": "https://localhost:8080/",
          "height": 761
        },
        "outputId": "8c5b84a9-cb74-4997-df56-4c423dc89510"
      },
      "source": [
        "fk = np.array(history_record)\n",
        "fkn = []\n",
        "for i in range(len(fk)):\n",
        "  for j in range(len(fk[i])):\n",
        "    fkn.append(fk[i][j]) \n",
        "\n",
        "wealth = []\n",
        "for i in range(len(fkn)):\n",
        "  wealth.append(fkn[i][5])\n",
        "\n",
        "stock = []\n",
        "for i in range(len(fkn)):\n",
        "  stock.append(fkn[i][4][2])\n",
        "\n",
        "plt.plot(wealth)\n",
        "plt.show()\n",
        "\n",
        "plt.plot(stock)\n",
        "plt.show()\n",
        "\n",
        "plt.plot(price_lstm)\n",
        "plt.show()"
      ],
      "execution_count": 31,
      "outputs": [
        {
          "output_type": "display_data",
          "data": {
            "image/png": "[encoded data removed]",
            "text/plain": [
              "<Figure size 432x288 with 1 Axes>"
            ]
          },
          "metadata": {
            "tags": [],
            "needs_background": "light"
          }
        },
        {
          "output_type": "display_data",
          "data": {
            "image/png": "[encoded data removed]",
            "text/plain": [
              "<Figure size 432x288 with 1 Axes>"
            ]
          },
          "metadata": {
            "tags": [],
            "needs_background": "light"
          }
        },
        {
          "output_type": "display_data",
          "data": {
            "image/png": "[encoded data removed]",
            "text/plain": [
              "<Figure size 432x288 with 1 Axes>"
            ]
          },
          "metadata": {
            "tags": [],
            "needs_background": "light"
          }
        }
      ]
    },
    {
      "cell_type": "code",
      "metadata": {
        "id": "1pgFjC-RxGGF",
        "colab_type": "code",
        "colab": {}
      },
      "source": [
        ""
      ],
      "execution_count": null,
      "outputs": []
    },
    {
      "cell_type": "markdown",
      "metadata": {
        "id": "ge_mWVAy229o",
        "colab_type": "text"
      },
      "source": [
        "결전 테스트 테스트 테스트"
      ]
    },
    {
      "cell_type": "code",
      "metadata": {
        "id": "L8GCRL3_F4F5",
        "colab_type": "code",
        "colab": {
          "base_uri": "https://localhost:8080/",
          "height": 105
        },
        "outputId": "1373db65-a2ae-4f36-f127-404a9ca83e7e"
      },
      "source": [
        "y = np.full((5, 2), 0.5)\n",
        "y"
      ],
      "execution_count": null,
      "outputs": [
        {
          "output_type": "execute_result",
          "data": {
            "text/plain": [
              "array([[0.5, 0.5],\n",
              "       [0.5, 0.5],\n",
              "       [0.5, 0.5],\n",
              "       [0.5, 0.5],\n",
              "       [0.5, 0.5]])"
            ]
          },
          "metadata": {
            "tags": []
          },
          "execution_count": 46
        }
      ]
    },
    {
      "cell_type": "code",
      "metadata": {
        "id": "GKGMXsYQV2x1",
        "colab_type": "code",
        "colab": {
          "base_uri": "https://localhost:8080/",
          "height": 105
        },
        "outputId": "f4a0eb78-e01e-4c31-ff36-4638be5d83e1"
      },
      "source": [
        "kk = [1,0,1,0,1]\n",
        "for i, k in enumerate(kk):\n",
        "  y[i,k] = 1.0\n",
        "\n",
        "y"
      ],
      "execution_count": null,
      "outputs": [
        {
          "output_type": "execute_result",
          "data": {
            "text/plain": [
              "array([[0.5, 1. ],\n",
              "       [1. , 0.5],\n",
              "       [0.5, 1. ],\n",
              "       [1. , 0.5],\n",
              "       [0.5, 1. ]])"
            ]
          },
          "metadata": {
            "tags": []
          },
          "execution_count": 48
        }
      ]
    },
    {
      "cell_type": "code",
      "metadata": {
        "id": "DFjvfVDfXxfo",
        "colab_type": "code",
        "colab": {
          "base_uri": "https://localhost:8080/",
          "height": 105
        },
        "outputId": "935866a1-d925-488c-d73e-ec095613baac"
      },
      "source": [
        "x = [np.array([5.0, 7.0]), np.array([6.0, 3.0]), np.array([2.0, 9.0]), np.array([5.0, 2.0]), np.array([3.0, 5.0])]\n",
        "x = np.array(x)\n",
        "x"
      ],
      "execution_count": null,
      "outputs": [
        {
          "output_type": "execute_result",
          "data": {
            "text/plain": [
              "array([[5., 7.],\n",
              "       [6., 3.],\n",
              "       [2., 9.],\n",
              "       [5., 2.],\n",
              "       [3., 5.]])"
            ]
          },
          "metadata": {
            "tags": []
          },
          "execution_count": 71
        }
      ]
    },
    {
      "cell_type": "code",
      "metadata": {
        "id": "k7dmfp4JZPwe",
        "colab_type": "code",
        "colab": {}
      },
      "source": [
        ""
      ],
      "execution_count": null,
      "outputs": []
    },
    {
      "cell_type": "code",
      "metadata": {
        "id": "iBDkiEfdWly6",
        "colab_type": "code",
        "colab": {}
      },
      "source": [
        "from tensorflow import keras\n",
        "import keras.layers as layers\n",
        "from keras.layers import LSTM, Dense, Dropout\n",
        "from keras.models import Model, Sequential\n",
        "from keras.optimizers import Adam, RMSprop"
      ],
      "execution_count": null,
      "outputs": []
    },
    {
      "cell_type": "code",
      "metadata": {
        "id": "IFpQnb7rWmGg",
        "colab_type": "code",
        "colab": {}
      },
      "source": [
        "def get_policy_model(lr):\n",
        "  \n",
        "  inp_L = layers.Input(shape=(5,1))  # 타입스텝수 7개, 특성개수 1개\n",
        "  dense1 = LSTM(10)(inp_L)\n",
        "  dense1 = Dense(64)(dense1) \n",
        "  dense1 = Dropout(0.5)(dense1)\n",
        "  dense1 = Dense(64)(dense1)\n",
        "  output_s = layers.Dense(1)(dense1)\n",
        "\n",
        "  model_train = Model(inputs=inp_L, outputs = output_s)\n",
        "  model_train.compile(loss='mse', optimizer=Adam(lr), metrics = ['mae'])\n",
        "  model_predict = Model(inputs=inp_L, outputs=output_s)\n",
        "  return model_train, model_predict"
      ],
      "execution_count": null,
      "outputs": []
    },
    {
      "cell_type": "code",
      "metadata": {
        "id": "y09ZuzLYSnvH",
        "colab_type": "code",
        "colab": {}
      },
      "source": [
        ""
      ],
      "execution_count": null,
      "outputs": []
    },
    {
      "cell_type": "code",
      "metadata": {
        "id": "YO3z5VbSn4Rs",
        "colab_type": "code",
        "colab": {}
      },
      "source": [
        "model_train, model_predict = get_policy_model(0.01)"
      ],
      "execution_count": null,
      "outputs": []
    },
    {
      "cell_type": "code",
      "metadata": {
        "id": "nDPgJZbPn4iH",
        "colab_type": "code",
        "colab": {
          "base_uri": "https://localhost:8080/",
          "height": 369
        },
        "outputId": "a5db15b0-bc24-4f04-8a0d-4260e17e4958"
      },
      "source": [
        "model_train.summary()"
      ],
      "execution_count": null,
      "outputs": [
        {
          "output_type": "stream",
          "text": [
            "Model: \"functional_13\"\n",
            "_________________________________________________________________\n",
            "Layer (type)                 Output Shape              Param #   \n",
            "=================================================================\n",
            "input_6 (InputLayer)         [(None, 5, 1)]            0         \n",
            "_________________________________________________________________\n",
            "lstm_5 (LSTM)                (None, 10)                480       \n",
            "_________________________________________________________________\n",
            "dense_9 (Dense)              (None, 64)                704       \n",
            "_________________________________________________________________\n",
            "dropout_4 (Dropout)          (None, 64)                0         \n",
            "_________________________________________________________________\n",
            "dense_10 (Dense)             (None, 64)                4160      \n",
            "_________________________________________________________________\n",
            "dense_11 (Dense)             (None, 1)                 65        \n",
            "=================================================================\n",
            "Total params: 5,409\n",
            "Trainable params: 5,409\n",
            "Non-trainable params: 0\n",
            "_________________________________________________________________\n"
          ],
          "name": "stdout"
        }
      ]
    },
    {
      "cell_type": "code",
      "metadata": {
        "id": "tPRQGQwzn4cJ",
        "colab_type": "code",
        "colab": {
          "base_uri": "https://localhost:8080/",
          "height": 369
        },
        "outputId": "2aa78f12-e352-47db-dac8-df55d49929c4"
      },
      "source": [
        "history = model_train.fit(p_serise_lstm, price_lstm, epochs=10)"
      ],
      "execution_count": null,
      "outputs": [
        {
          "output_type": "stream",
          "text": [
            "Epoch 1/10\n",
            "3/3 [==============================] - 0s 3ms/step - loss: 12.0193 - mae: 2.7826\n",
            "Epoch 2/10\n",
            "3/3 [==============================] - 0s 3ms/step - loss: 4.1420 - mae: 1.7935\n",
            "Epoch 3/10\n",
            "3/3 [==============================] - 0s 3ms/step - loss: 3.0824 - mae: 1.4788\n",
            "Epoch 4/10\n",
            "3/3 [==============================] - 0s 6ms/step - loss: 2.8924 - mae: 1.2820\n",
            "Epoch 5/10\n",
            "3/3 [==============================] - 0s 3ms/step - loss: 1.5044 - mae: 0.9103\n",
            "Epoch 6/10\n",
            "3/3 [==============================] - 0s 3ms/step - loss: 1.5784 - mae: 0.9893\n",
            "Epoch 7/10\n",
            "3/3 [==============================] - 0s 3ms/step - loss: 0.9732 - mae: 0.8175\n",
            "Epoch 8/10\n",
            "3/3 [==============================] - 0s 3ms/step - loss: 1.3706 - mae: 0.9635\n",
            "Epoch 9/10\n",
            "3/3 [==============================] - 0s 3ms/step - loss: 0.7576 - mae: 0.6973\n",
            "Epoch 10/10\n",
            "3/3 [==============================] - 0s 3ms/step - loss: 1.3460 - mae: 0.8538\n"
          ],
          "name": "stdout"
        }
      ]
    },
    {
      "cell_type": "code",
      "metadata": {
        "id": "Pnr6ybbzRcFm",
        "colab_type": "code",
        "colab": {}
      },
      "source": [
        "model_train.predict(p_serise_lstm) == model_predict.predict(p_serise_lstm)"
      ],
      "execution_count": null,
      "outputs": []
    },
    {
      "cell_type": "markdown",
      "metadata": {
        "id": "kxMksbeaKDJM",
        "colab_type": "text"
      },
      "source": [
        "여기가 끝이다."
      ]
    },
    {
      "cell_type": "code",
      "metadata": {
        "id": "SI8QKecFCOu1",
        "colab_type": "code",
        "colab": {}
      },
      "source": [
        ""
      ],
      "execution_count": null,
      "outputs": []
    },
    {
      "cell_type": "code",
      "metadata": {
        "id": "SBRPDtROrMhB",
        "colab_type": "code",
        "colab": {
          "base_uri": "https://localhost:8080/",
          "height": 52
        },
        "outputId": "02f2b544-480b-4a58-fb18-311c9f932f14"
      },
      "source": [
        "aj = np.array([[0.5, 0.5], [0.5,0.7]])\n",
        "\n",
        "aj[0,0] = 1.0\n",
        "\n",
        "aj"
      ],
      "execution_count": null,
      "outputs": [
        {
          "output_type": "execute_result",
          "data": {
            "text/plain": [
              "array([[1. , 0.5],\n",
              "       [0.5, 0.7]])"
            ]
          },
          "metadata": {
            "tags": []
          },
          "execution_count": 49
        }
      ]
    },
    {
      "cell_type": "code",
      "metadata": {
        "id": "BuAebEm_COof",
        "colab_type": "code",
        "colab": {}
      },
      "source": [
        "from tensorflow import keras\n",
        "from tensorflow.keras.utils import to_categorical\n",
        "y_encoded = keras.utils.to_categorical(action, 2) # 분류 갯수를 정하기 위한 인수(2)가 필요하다."
      ],
      "execution_count": null,
      "outputs": []
    },
    {
      "cell_type": "code",
      "metadata": {
        "id": "Ul2K9MCnCOlJ",
        "colab_type": "code",
        "colab": {}
      },
      "source": [
        "def balance_update(predict, p_serise):\n",
        "\n",
        "  acts = []\n",
        "  balance = [100, 0, 0]  #[자본금, 종가, 보유주식수] 이다.\n",
        "  blist = [[100.0, 0.0, 0.0]]\n",
        "  for i in range(len(predict)):\n",
        "    action = np.random.choice(3,p=predict[i]) # 대안 중에서 하나를 선택한다. \n",
        "    \n",
        "    if action == 0 and (balance[0] - p_serise[i][4]) < 0:\n",
        "      ps = predict[i][1] + predict[i][2]\n",
        "      pn = [predict[i][1],predict[i][2]]/ps\n",
        "      action = 1+ np.random.choice(2,p=pn) \n",
        "\n",
        "    if action == 2 and balance[2] <= 0:\n",
        "      ps = predict[i][0] + predict[i][1]\n",
        "      pn = [predict[i][0],predict[i][1]]/ps\n",
        "      action = np.random.choice(2,p=pn)  \n",
        "\n",
        "    if action == 1:  # hold\n",
        "      balance[1] = p_serise[i][4]\n",
        "\n",
        "    if action  == 0:  # buy\n",
        "      balance[0] = balance[0] - p_serise[i][4]\n",
        "      balance[1] = p_serise[i][4]\n",
        "      balance[2] = balance[2] + 1\n",
        "\n",
        "    if action  == 2:\n",
        "      balance[0] = balance[0] + p_serise[i][4]\n",
        "      balance[1] = p_serise[i][4]\n",
        "      balance[2] = balance[2] - 1 \n",
        "     \n",
        "    blist.append([balance[0], balance[1], balance[2]])\n",
        "    acts.append(action)\n",
        "  return blist, acts"
      ],
      "execution_count": null,
      "outputs": []
    },
    {
      "cell_type": "code",
      "metadata": {
        "id": "CW6izHkVNTWr",
        "colab_type": "code",
        "colab": {}
      },
      "source": [
        "def reward_portfolio (blist):   \n",
        "\n",
        "  reward_sum_list=[]\n",
        "  reward_list=[]\n",
        "   \n",
        "\n",
        "  for a in blist:\n",
        "    reward_sum = a[0] + a[1] * a[2]\n",
        "    reward_sum_list.append(reward_sum)\n",
        "\n",
        "  for i in range(len(reward_sum_list)-1):\n",
        "    reward = np.abs(reward_sum_list[i+1] - reward_sum_list[i]) # 가중치를 일괄적으로 양 수로 만들어서 손실함수 계산의 방향을 일관되게 만든다.\n",
        "    reward_list.append(reward)      \n",
        "  return reward_sum_list, reward_list\n",
        "\n"
      ],
      "execution_count": null,
      "outputs": []
    },
    {
      "cell_type": "code",
      "metadata": {
        "id": "E__9jrhId8jq",
        "colab_type": "code",
        "colab": {
          "base_uri": "https://localhost:8080/",
          "height": 34
        },
        "outputId": "7d36365c-0b2f-45c0-8026-aa9cec51ac4f"
      },
      "source": [
        "r = [1.0, 1.0, 1.0, 1.0]\n",
        "\n",
        "discount_rewards(r)"
      ],
      "execution_count": null,
      "outputs": [
        {
          "output_type": "execute_result",
          "data": {
            "text/plain": [
              "array([1.   , 1.5  , 1.75 , 1.875])"
            ]
          },
          "metadata": {
            "tags": []
          },
          "execution_count": 24
        }
      ]
    },
    {
      "cell_type": "code",
      "metadata": {
        "id": "52938aqWnN-c",
        "colab_type": "code",
        "colab": {
          "base_uri": "https://localhost:8080/",
          "height": 34
        },
        "outputId": "210ebf42-2bb5-4c93-9498-e944c3f3ecde"
      },
      "source": [
        "from tensorflow.keras.utils import to_categorical\n",
        "from tensorflow import keras\n",
        "import keras.layers as layers\n",
        "from keras.layers import LSTM, Dense\n",
        "from keras.models import Model, Sequential\n",
        "from keras.optimizers import Adam, RMSprop\n",
        "from keras.initializers import glorot_uniform\n",
        "from keras.callbacks import ModelCheckpoint, EarlyStopping\n",
        "import keras.backend as K  # 케라스의 backend를 K. 형식으로 호출하는 것이고 여기서는 tensorflow이다."
      ],
      "execution_count": null,
      "outputs": [
        {
          "output_type": "stream",
          "text": [
            "Using TensorFlow backend.\n"
          ],
          "name": "stderr"
        }
      ]
    },
    {
      "cell_type": "code",
      "metadata": {
        "id": "KCPbLji1nrUn",
        "colab_type": "code",
        "colab": {}
      },
      "source": [
        "def get_policy_model(lr):\n",
        "  inp_L = layers.Input(shape=(5,),name=\"input_L\")\n",
        "  multip = layers.Input(shape=[1], name=\"advantages\")\n",
        "  dense_L = Dense(64)(inp_L)\n",
        "  output_s = layers.Dense(3, activation=\"softmax\",kernel_initializer=glorot_uniform(seed=42), use_bias=False, kernel_regularizer=keras.regularizers.l2(0.001), name=\"out\")(dense_L)\n",
        "\n",
        "  model_train = Model(inputs=[inp_L, multip], outputs = output_s)\n",
        "\n",
        "  # loss 함수를 actual과 predict가 같을때 -무한대가 되도록 만든다. 완전히 틀리면 0 이므로 loss 함수의 값의 범위는 -무한대 ~ 0 이다.\n",
        "  def custom_loss(y_true, y_pred):\n",
        "    # actual: 0 predict: 0 -> log(0 * (0 - 0) + (1 - 0) * (0 + 0)) = -inf   log(0) = - inf\n",
        "    # actual: 1 predict: 1 -> log(1 * (1 - 1) + (1 - 1) * (1 + 1)) = -inf   \n",
        "    # actual: 1 predict: 0 -> log(1 * (1 - 0) + (1 - 1) * (1 + 0)) = 0      log(1) = 0\n",
        "    # actual: 0 predict: 1 -> log(0 * (0 - 1) + (1 - 0) * (0 + 1)) = 0\n",
        "    a = y_true * (y_true - y_pred) + (1 - y_true) * (y_true + y_pred)\n",
        "    log_lik = K.log(a)\n",
        "    return K.mean(log_lik * multip, keepdims=True)\n",
        "\n",
        "  model_train.compile(loss=custom_loss, optimizer=Adam(lr), metrics = ['mae'])\n",
        "  model_predict = Model(inputs=[inp_L], outputs = output_s)\n",
        "  return model_train, model_predict"
      ],
      "execution_count": null,
      "outputs": []
    },
    {
      "cell_type": "code",
      "metadata": {
        "id": "Tf2pQzw7oOcE",
        "colab_type": "code",
        "colab": {}
      },
      "source": [
        "model_train, model_predict = get_policy_model(0.00001)"
      ],
      "execution_count": null,
      "outputs": []
    },
    {
      "cell_type": "code",
      "metadata": {
        "id": "BdCAk3uqoOf4",
        "colab_type": "code",
        "colab": {
          "base_uri": "https://localhost:8080/",
          "height": 263
        },
        "outputId": "87b33d10-6db3-4a14-a684-09a81d87c9c2"
      },
      "source": [
        "model_train.summary()"
      ],
      "execution_count": null,
      "outputs": [
        {
          "output_type": "stream",
          "text": [
            "Model: \"model_1\"\n",
            "_________________________________________________________________\n",
            "Layer (type)                 Output Shape              Param #   \n",
            "=================================================================\n",
            "input_L (InputLayer)         (None, 5)                 0         \n",
            "_________________________________________________________________\n",
            "dense_1 (Dense)              (None, 64)                384       \n",
            "_________________________________________________________________\n",
            "out (Dense)                  (None, 3)                 192       \n",
            "=================================================================\n",
            "Total params: 576\n",
            "Trainable params: 576\n",
            "Non-trainable params: 0\n",
            "_________________________________________________________________\n"
          ],
          "name": "stdout"
        }
      ]
    },
    {
      "cell_type": "code",
      "metadata": {
        "id": "cnaVguhh0ykz",
        "colab_type": "code",
        "colab": {}
      },
      "source": [
        ""
      ],
      "execution_count": null,
      "outputs": []
    },
    {
      "cell_type": "code",
      "metadata": {
        "id": "ee-kc84l2EFX",
        "colab_type": "code",
        "colab": {}
      },
      "source": [
        ""
      ],
      "execution_count": null,
      "outputs": []
    },
    {
      "cell_type": "code",
      "metadata": {
        "id": "IazXuUZw56iI",
        "colab_type": "code",
        "colab": {}
      },
      "source": [
        ""
      ],
      "execution_count": null,
      "outputs": []
    }
  ]
}