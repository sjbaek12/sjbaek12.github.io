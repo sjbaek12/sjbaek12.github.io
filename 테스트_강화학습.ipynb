{
  "nbformat": 4,
  "nbformat_minor": 0,
  "metadata": {
    "colab": {
      "name": "테스트 강화학습",
      "provenance": [],
      "collapsed_sections": [],
      "authorship_tag": "ABX9TyP7TnVATPAnCbvhvTTufO8v",
      "include_colab_link": true
    },
    "kernelspec": {
      "name": "python3",
      "display_name": "Python 3"
    }
  },
  "cells": [
    {
      "cell_type": "markdown",
      "metadata": {
        "id": "view-in-github",
        "colab_type": "text"
      },
      "source": [
        "<a href=\"https://colab.research.google.com/github/sjbaek12/sjbaek12.github.io/blob/master/%ED%85%8C%EC%8A%A4%ED%8A%B8_%EA%B0%95%ED%99%94%ED%95%99%EC%8A%B5.ipynb\" target=\"_parent\"><img src=\"https://colab.research.google.com/assets/colab-badge.svg\" alt=\"Open In Colab\"/></a>"
      ]
    },
    {
      "cell_type": "markdown",
      "metadata": {
        "id": "PbNzyGr1xgti",
        "colab_type": "text"
      },
      "source": [
        "어떤 상태에서 특정한 액션을 취하면 리워드가 발생한다.\n",
        "정책신경망에서 어떤 상태일때 액선이 산출되고 그 산출로 인한 리워드가 최대가 되도록 정책신경망의 가중치를 조정한다. 그러면 리워드가 최대가 되는 액션을 산출하는 정책신경망이 될 것이다. \n",
        "\n",
        "loss함수는 리워드가 최대가 되는 액션을 산출했을 때, 마이너스 무한대가 되도록 조정하면 된다. "
      ]
    },
    {
      "cell_type": "markdown",
      "metadata": {
        "id": "n5zyxmm_KOAe",
        "colab_type": "text"
      },
      "source": [
        "먼저 LSTM과 일반적 deep learning 모델을 비교해본 결과 fit 능력에서 차이는 없었다."
      ]
    },
    {
      "cell_type": "code",
      "metadata": {
        "id": "uoNYrqyWxhgZ",
        "colab_type": "code",
        "colab": {}
      },
      "source": [
        "import numpy as np\n",
        "import matplotlib.pyplot as plt"
      ],
      "execution_count": 26,
      "outputs": []
    },
    {
      "cell_type": "code",
      "metadata": {
        "id": "rDPyv4nbyYRY",
        "colab_type": "code",
        "colab": {
          "base_uri": "https://localhost:8080/",
          "height": 265
        },
        "outputId": "eef7510c-faf4-410d-b7e3-e962e5d2c05f"
      },
      "source": [
        "# 환경 모듈\n",
        "\n",
        "def env():\n",
        "  price=[]\n",
        "  for i in range(30):\n",
        "    bias = np.random.rand(1)\n",
        "    p = -0.01*(i-15)**2 + 5 + bias * 0.2\n",
        "    price.append(p[0])\n",
        "#  p_mean = np.mean(price)\n",
        "#  p_std = np.std(price)\n",
        "#  price = (price - p_mean)/p_std\n",
        "  \n",
        "  p_serise= []\n",
        "  for i in range(26):\n",
        "    serise = [np.array(price[i]),np.array(price[i+1]), np.array(price[i+2]), np.array(price[i+3]), np.array(price[i+4])]\n",
        "    serise = np.array(serise)\n",
        "    p_serise.append(serise)\n",
        "  p_serise= p_serise[0:25]\n",
        "  p_serise = np.array(p_serise)\n",
        "  #p_serise = p_serise.reshape(25, 5, 1)  # LSTM을 사용할 때 데이터 input 형태\n",
        "  price_lstm = price[5:]\n",
        "  price_lstm = np.array(price_lstm)\n",
        "  return price, p_serise, price_lstm\n",
        "\n",
        "price, p_serise, price_lstm = env()\n",
        "plt.plot(price)\n",
        "plt.show()"
      ],
      "execution_count": 27,
      "outputs": [
        {
          "output_type": "display_data",
          "data": {
            "image/png": "[encoded data removed]",
            "text/plain": [
              "<Figure size 432x288 with 1 Axes>"
            ]
          },
          "metadata": {
            "tags": [],
            "needs_background": "light"
          }
        }
      ]
    },
    {
      "cell_type": "code",
      "metadata": {
        "id": "H-bvF6joQidj",
        "colab_type": "code",
        "colab": {
          "base_uri": "https://localhost:8080/",
          "height": 457
        },
        "outputId": "66e89822-b05f-4685-8221-cb6950fab58e"
      },
      "source": [
        "p_serise"
      ],
      "execution_count": 28,
      "outputs": [
        {
          "output_type": "execute_result",
          "data": {
            "text/plain": [
              "array([[2.82204687, 3.1024361 , 3.50965552, 3.69998595, 3.8941259 ],\n",
              "       [3.1024361 , 3.50965552, 3.69998595, 3.8941259 , 4.03310039],\n",
              "       [3.50965552, 3.69998595, 3.8941259 , 4.03310039, 4.21105465],\n",
              "       [3.69998595, 3.8941259 , 4.03310039, 4.21105465, 4.4362334 ],\n",
              "       [3.8941259 , 4.03310039, 4.21105465, 4.4362334 , 4.68222233],\n",
              "       [4.03310039, 4.21105465, 4.4362334 , 4.68222233, 4.74851508],\n",
              "       [4.21105465, 4.4362334 , 4.68222233, 4.74851508, 4.89371426],\n",
              "       [4.4362334 , 4.68222233, 4.74851508, 4.89371426, 4.87364624],\n",
              "       [4.68222233, 4.74851508, 4.89371426, 4.87364624, 5.01840976],\n",
              "       [4.74851508, 4.89371426, 4.87364624, 5.01840976, 4.99038536],\n",
              "       [4.89371426, 4.87364624, 5.01840976, 4.99038536, 5.05103357],\n",
              "       [4.87364624, 5.01840976, 4.99038536, 5.05103357, 5.0216061 ],\n",
              "       [5.01840976, 4.99038536, 5.05103357, 5.0216061 , 5.17141261],\n",
              "       [4.99038536, 5.05103357, 5.0216061 , 5.17141261, 5.10452972],\n",
              "       [5.05103357, 5.0216061 , 5.17141261, 5.10452972, 4.96618952],\n",
              "       [5.0216061 , 5.17141261, 5.10452972, 4.96618952, 4.9558926 ],\n",
              "       [5.17141261, 5.10452972, 4.96618952, 4.9558926 , 4.86099844],\n",
              "       [5.10452972, 4.96618952, 4.9558926 , 4.86099844, 4.78483417],\n",
              "       [4.96618952, 4.9558926 , 4.86099844, 4.78483417, 4.6457891 ],\n",
              "       [4.9558926 , 4.86099844, 4.78483417, 4.6457891 , 4.55708787],\n",
              "       [4.86099844, 4.78483417, 4.6457891 , 4.55708787, 4.34916296],\n",
              "       [4.78483417, 4.6457891 , 4.55708787, 4.34916296, 4.0032492 ],\n",
              "       [4.6457891 , 4.55708787, 4.34916296, 4.0032492 , 3.85571912],\n",
              "       [4.55708787, 4.34916296, 4.0032492 , 3.85571912, 3.61755759],\n",
              "       [4.34916296, 4.0032492 , 3.85571912, 3.61755759, 3.5030805 ]])"
            ]
          },
          "metadata": {
            "tags": []
          },
          "execution_count": 28
        }
      ]
    },
    {
      "cell_type": "code",
      "metadata": {
        "id": "8-ks6BOE8XOi",
        "colab_type": "code",
        "colab": {}
      },
      "source": [
        "action = np.array([1.0, 1.0,  1.0,  1.0, 1.0, 0.0,  1.0,  0.0,  0.0,  0.0, 0.0 ,  0.0,  0.0,  0.0,  0.0, 0.0,  0.0,  0.0,  0.0, 0.0, 1.0, 0.0, 1.0, 0.0, 0.0])"
      ],
      "execution_count": 29,
      "outputs": []
    },
    {
      "cell_type": "code",
      "metadata": {
        "id": "EJHarUbV9V-M",
        "colab_type": "code",
        "colab": {
          "base_uri": "https://localhost:8080/",
          "height": 34
        },
        "outputId": "ecf20080-dcf4-4e76-d918-47b21b3764fe"
      },
      "source": [
        "len(action)"
      ],
      "execution_count": 30,
      "outputs": [
        {
          "output_type": "execute_result",
          "data": {
            "text/plain": [
              "25"
            ]
          },
          "metadata": {
            "tags": []
          },
          "execution_count": 30
        }
      ]
    },
    {
      "cell_type": "code",
      "metadata": {
        "id": "xfTZxroLXMAS",
        "colab_type": "code",
        "colab": {
          "base_uri": "https://localhost:8080/",
          "height": 105
        },
        "outputId": "58c63278-2c9b-434f-a3c1-4c9f8ef5bb47"
      },
      "source": [
        "price_lstm"
      ],
      "execution_count": 60,
      "outputs": [
        {
          "output_type": "execute_result",
          "data": {
            "text/plain": [
              "array([4.03310039, 4.21105465, 4.4362334 , 4.68222233, 4.74851508,\n",
              "       4.89371426, 4.87364624, 5.01840976, 4.99038536, 5.05103357,\n",
              "       5.0216061 , 5.17141261, 5.10452972, 4.96618952, 4.9558926 ,\n",
              "       4.86099844, 4.78483417, 4.6457891 , 4.55708787, 4.34916296,\n",
              "       4.0032492 , 3.85571912, 3.61755759, 3.5030805 , 3.09878774])"
            ]
          },
          "metadata": {
            "tags": []
          },
          "execution_count": 60
        }
      ]
    },
    {
      "cell_type": "code",
      "metadata": {
        "id": "FzQYKROB-X98",
        "colab_type": "code",
        "colab": {}
      },
      "source": [
        "from tensorflow import keras\n",
        "from tensorflow.keras.utils import to_categorical\n",
        "y_encoded = keras.utils.to_categorical(action, 2) # 분류 갯수를 정하기 위한 인수(2)가 필요하다."
      ],
      "execution_count": 31,
      "outputs": []
    },
    {
      "cell_type": "code",
      "metadata": {
        "id": "50XoWOT1-bKS",
        "colab_type": "code",
        "colab": {
          "base_uri": "https://localhost:8080/",
          "height": 457
        },
        "outputId": "88a8ca61-a459-424b-977d-ee981f7561f5"
      },
      "source": [
        "y_encoded"
      ],
      "execution_count": 32,
      "outputs": [
        {
          "output_type": "execute_result",
          "data": {
            "text/plain": [
              "array([[0., 1.],\n",
              "       [0., 1.],\n",
              "       [0., 1.],\n",
              "       [0., 1.],\n",
              "       [0., 1.],\n",
              "       [1., 0.],\n",
              "       [0., 1.],\n",
              "       [1., 0.],\n",
              "       [1., 0.],\n",
              "       [1., 0.],\n",
              "       [1., 0.],\n",
              "       [1., 0.],\n",
              "       [1., 0.],\n",
              "       [1., 0.],\n",
              "       [1., 0.],\n",
              "       [1., 0.],\n",
              "       [1., 0.],\n",
              "       [1., 0.],\n",
              "       [1., 0.],\n",
              "       [1., 0.],\n",
              "       [0., 1.],\n",
              "       [1., 0.],\n",
              "       [0., 1.],\n",
              "       [1., 0.],\n",
              "       [1., 0.]], dtype=float32)"
            ]
          },
          "metadata": {
            "tags": []
          },
          "execution_count": 32
        }
      ]
    },
    {
      "cell_type": "code",
      "metadata": {
        "id": "Lu9BcJlZAUjB",
        "colab_type": "code",
        "colab": {}
      },
      "source": [
        "def action_class(y_encoded):\n",
        "  acts=[]\n",
        "  for y in y_encoded:\n",
        "    act = np.argmax(y)\n",
        "    acts.append(act)\n",
        "  return acts"
      ],
      "execution_count": 33,
      "outputs": []
    },
    {
      "cell_type": "code",
      "metadata": {
        "id": "zBIfsanrYLlJ",
        "colab_type": "code",
        "colab": {
          "base_uri": "https://localhost:8080/",
          "height": 34
        },
        "outputId": "1101192f-eb85-42c2-a19a-3800c8104f51"
      },
      "source": [
        "action_class(y_encoded)"
      ],
      "execution_count": 34,
      "outputs": [
        {
          "output_type": "execute_result",
          "data": {
            "text/plain": [
              "[1, 1, 1, 1, 1, 0, 1, 0, 0, 0, 0, 0, 0, 0, 0, 0, 0, 0, 0, 0, 1, 0, 1, 0, 0]"
            ]
          },
          "metadata": {
            "tags": []
          },
          "execution_count": 34
        }
      ]
    },
    {
      "cell_type": "code",
      "metadata": {
        "id": "sQ98ofbvYMx8",
        "colab_type": "code",
        "colab": {}
      },
      "source": [
        ""
      ],
      "execution_count": null,
      "outputs": []
    },
    {
      "cell_type": "markdown",
      "metadata": {
        "id": "OF674qQ2GKZa",
        "colab_type": "text"
      },
      "source": [
        "여기서부터 정책경사"
      ]
    },
    {
      "cell_type": "code",
      "metadata": {
        "id": "Z_8JddPAQyMc",
        "colab_type": "code",
        "colab": {}
      },
      "source": [
        "#def balance_update(predict, p_serise):\n",
        "\n",
        "  acts = []\n",
        "  balance = [100, 0, 0]  #[자본금, 종가, 보유주식수] 이다.\n",
        "  blist = [[100.0, 0.0, 0.0]]\n",
        "  for i in range(len(predict)):\n",
        "    action = np.random.choice(3,p=predict[i]) # 대안 중에서 하나를 선택한다. \n",
        "    \n",
        "    if action == 0 and (balance[0] - p_serise[i][4]) < 0:\n",
        "      ps = predict[i][1] + predict[i][2]\n",
        "      pn = [predict[i][1],predict[i][2]]/ps\n",
        "      action = 1+ np.random.choice(2,p=pn) \n",
        "\n",
        "    if action == 2 and balance[2] <= 0:\n",
        "      ps = predict[i][0] + predict[i][1]\n",
        "      pn = [predict[i][0],predict[i][1]]/ps\n",
        "      action = np.random.choice(2,p=pn)  \n",
        "\n",
        "    if action == 1:  # hold\n",
        "      balance[1] = p_serise[i][4]\n",
        "\n",
        "    if action  == 0:  # buy\n",
        "      balance[0] = balance[0] - p_serise[i][4]\n",
        "      balance[1] = p_serise[i][4]\n",
        "      balance[2] = balance[2] + 1\n",
        "\n",
        "    if action  == 2:\n",
        "      balance[0] = balance[0] + p_serise[i][4]\n",
        "      balance[1] = p_serise[i][4]\n",
        "      balance[2] = balance[2] - 1 \n",
        "     \n",
        "    blist.append([balance[0], balance[1], balance[2]])\n",
        "    acts.append(action)\n",
        "  return blist, acts"
      ],
      "execution_count": null,
      "outputs": []
    },
    {
      "cell_type": "markdown",
      "metadata": {
        "id": "87QBKemz9z2Q",
        "colab_type": "text"
      },
      "source": [
        "여기부터가 새로운 시작"
      ]
    },
    {
      "cell_type": "code",
      "metadata": {
        "id": "q_XzFyyaT0Sm",
        "colab_type": "code",
        "colab": {}
      },
      "source": [
        "#정책망이 예측한 대로 action을 선택한다.\n",
        "\n",
        "def action_choice(predict):\n",
        "  act = np.random.choice(2, p=predict)\n",
        "  return act"
      ],
      "execution_count": 35,
      "outputs": []
    },
    {
      "cell_type": "code",
      "metadata": {
        "id": "bnKwo9vgVKMI",
        "colab_type": "code",
        "colab": {}
      },
      "source": [
        "# action_choice가 선택한 행동을 balance에 대비해서 가능한 행동인지 점검하고 틀린 경우 가능한 액션을 제시한다.\n",
        "# 당초 0 매수, 1 매도를 --> 0 매수, 1 hold, 2 매도로 전환 \n",
        "# 그리고 현재의 밸러스는 before 밸런스로 기록을 남긴다.\n",
        "\n",
        "def action_validate(act, price, balance):\n",
        "  if act == 0:\n",
        "    if balance[0] - price < 0:\n",
        "      act_v = 1\n",
        "    else:\n",
        "      act_v = 0\n",
        "        \n",
        "  if act == 1:\n",
        "    if balance[2] > 0 :\n",
        "      act_v = 2\n",
        "    else:\n",
        "      act_v = 1\n",
        "\n",
        "  before_act_balance = [balance[0], balance[1], balance[2]] \n",
        "\n",
        "  return act_v, before_act_balance"
      ],
      "execution_count": 36,
      "outputs": []
    },
    {
      "cell_type": "code",
      "metadata": {
        "id": "Tk6ddnSXxN2r",
        "colab_type": "code",
        "colab": {}
      },
      "source": [
        "# 검증이 완료된 행동으로 현재 밸런스를 갱신하고, 현재 가치를 구한다.\n",
        "\n",
        "def balance_update(balance, price, act_v):\n",
        "  if act_v == 0:\n",
        "    balance[0] = balance[0] - price\n",
        "    balance[1] = price\n",
        "    balance[2] = balance[2] + 1\n",
        "  if act_v == 1:\n",
        "    balance[1] = price\n",
        "  if act_v == 2:\n",
        "    balance[0] = balance[0] + price\n",
        "    balance[1] = price\n",
        "    balance[2] = balance[2] -1\n",
        "  balance_updated = [balance[0], balance[1], balance[2]] \n",
        "  present_value = balance[0] + balance[1] * balance[2]\n",
        "  return balance_updated, present_value"
      ],
      "execution_count": 37,
      "outputs": []
    },
    {
      "cell_type": "code",
      "metadata": {
        "id": "9BqjV5MRGBy0",
        "colab_type": "code",
        "colab": {}
      },
      "source": [
        "# 이전의 밸런스와 현재 밸런스와의 비율을 구한다.\n",
        "\n",
        "def pv_ratio_cal(before_act_balance, balance_updated):\n",
        "  pv_ratio = (balance_updated[0] + balance_updated[1] * balance_updated[2])/(before_act_balance[0] + before_act_balance[1] * before_act_balance[2])\n",
        "  return pv_ratio"
      ],
      "execution_count": 38,
      "outputs": []
    },
    {
      "cell_type": "code",
      "metadata": {
        "id": "ij5NYQ8QHfE7",
        "colab_type": "code",
        "colab": {}
      },
      "source": [
        "# delayed reward를 구하기 위해서 기준 포트폴리오와 현재 밸런스의 비율을 구하고, 타겟 비율을 넘는지 확인한다.\n",
        "# 만약 target을 넘으면 base_pv를 present_value를 변경한다.\n",
        "\n",
        "def base_to_cur (base_pv, present_value, target_ratio):\n",
        "  delay_ratio = (present_value - base_pv) / base_pv\n",
        "  if delay_ratio > target_ratio:\n",
        "    target = 1\n",
        "    base_pv = present_value\n",
        "  elif (-1 * delay_ratio) > target_ratio:\n",
        "    target = -1\n",
        "    base_pv = present_value\n",
        "  else:\n",
        "    target = 0\n",
        "    base_pv = base_pv\n",
        "  return delay_ratio, target, base_pv"
      ],
      "execution_count": 49,
      "outputs": []
    },
    {
      "cell_type": "code",
      "metadata": {
        "id": "ZG19QI3YAYcW",
        "colab_type": "code",
        "colab": {}
      },
      "source": [
        "# 거래와 관련된 모든 것을 기록한다.\n",
        "\n",
        "def record(i, price, act_v, balance_updated, present_value, pv_ratio, delay_ratio, target, base_pv):\n",
        "\n",
        "  transaction_history.append([i, price, act_v, balance_updated, present_value, pv_ratio,delay_ratio, target, base_pv])\n",
        "  return transaction_history"
      ],
      "execution_count": 51,
      "outputs": []
    },
    {
      "cell_type": "code",
      "metadata": {
        "id": "fSqTmJ2bGAL8",
        "colab_type": "code",
        "colab": {}
      },
      "source": [
        ""
      ],
      "execution_count": null,
      "outputs": []
    },
    {
      "cell_type": "code",
      "metadata": {
        "id": "8m2KF-e-wFu1",
        "colab_type": "code",
        "colab": {
          "base_uri": "https://localhost:8080/",
          "height": 34
        },
        "outputId": "69c708fc-0228-4969-b1b5-d3769c1a574d"
      },
      "source": [
        "balance = [20, 0, 0]\n",
        "base_pv = 20\n",
        "target_ratio = 0.03\n",
        "\n",
        "predict=[0.5, 0.5]\n",
        "\n",
        "transaction_history=[]\n",
        "num = 20\n",
        "\n",
        "\n",
        "\n",
        "for i in range(len(price_lstm)):\n",
        "  base_pv = base_pv\n",
        "  price = price_lstm[i]\n",
        "  act = action_choice(predict)\n",
        "  act_v, before_act_balance = action_validate(act, price, balance)\n",
        "  \n",
        "\n",
        "  balance_updated, present_value = balance_update(balance, price, act_v)\n",
        "  pv_ratio = pv_ratio_cal(before_act_balance, balance_updated)\n",
        "  delay_ratio, target, base_pv = base_to_cur(base_pv, present_value, target_ratio)\n",
        "  transaction_history = record(i, price, act_v, balance_updated, present_value, pv_ratio, delay_ratio, target, base_pv)\n",
        "\n",
        "  if (target == 1 or target == -1):\n",
        "    break\n",
        "\n",
        "print(len(transaction_history))\n",
        "\n",
        "\n",
        "    "
      ],
      "execution_count": 64,
      "outputs": [
        {
          "output_type": "stream",
          "text": [
            "6\n"
          ],
          "name": "stdout"
        }
      ]
    },
    {
      "cell_type": "code",
      "metadata": {
        "id": "1b9EhFYW1QA-",
        "colab_type": "code",
        "colab": {
          "base_uri": "https://localhost:8080/",
          "height": 967
        },
        "outputId": "36681e2f-3c61-40a5-f860-4ca4bd4f7e1a"
      },
      "source": [
        "transaction_history"
      ],
      "execution_count": 65,
      "outputs": [
        {
          "output_type": "execute_result",
          "data": {
            "text/plain": [
              "[[0,\n",
              "  4.033100387617798,\n",
              "  0,\n",
              "  [15.966899612382202, 4.033100387617798, 1],\n",
              "  20.0,\n",
              "  1.0,\n",
              "  0.0,\n",
              "  0,\n",
              "  20],\n",
              " [1,\n",
              "  4.211054649085449,\n",
              "  2,\n",
              "  [20.17795426146765, 4.211054649085449, 0],\n",
              "  20.17795426146765,\n",
              "  1.0088977130733825,\n",
              "  0.008897713073382541,\n",
              "  0,\n",
              "  20],\n",
              " [2,\n",
              "  4.436233398625426,\n",
              "  0,\n",
              "  [15.741720862842225, 4.436233398625426, 1],\n",
              "  20.17795426146765,\n",
              "  1.0,\n",
              "  0.008897713073382541,\n",
              "  0,\n",
              "  20],\n",
              " [3,\n",
              "  4.682222330247006,\n",
              "  0,\n",
              "  [11.059498532595219, 4.682222330247006, 2],\n",
              "  20.42394319308923,\n",
              "  1.012190974785354,\n",
              "  0.02119715965446147,\n",
              "  0,\n",
              "  20],\n",
              " [4,\n",
              "  4.748515079691713,\n",
              "  0,\n",
              "  [6.310983452903506, 4.748515079691713, 3],\n",
              "  20.556528691978645,\n",
              "  1.0064916699794915,\n",
              "  0.02782643459893226,\n",
              "  0,\n",
              "  20],\n",
              " [5,\n",
              "  4.893714263773615,\n",
              "  0,\n",
              "  [1.4172691891298914, 4.893714263773615, 4],\n",
              "  20.99212624422435,\n",
              "  1.02119022908842,\n",
              "  0.049606312211217585,\n",
              "  1,\n",
              "  20.99212624422435]]"
            ]
          },
          "metadata": {
            "tags": []
          },
          "execution_count": 65
        }
      ]
    },
    {
      "cell_type": "code",
      "metadata": {
        "id": "VY88KJjYR1zt",
        "colab_type": "code",
        "colab": {
          "base_uri": "https://localhost:8080/",
          "height": 369
        },
        "outputId": "9b8fd497-3155-455f-ac2f-f55c2c6fd8a1"
      },
      "source": [
        "reward_monitor(transaction_history)"
      ],
      "execution_count": null,
      "outputs": [
        {
          "output_type": "stream",
          "text": [
            "-1 -1\n",
            "1.0 0\n",
            "0.85 0\n",
            "1.0 0\n",
            "1.0 0\n",
            "0.9411764705882353 0\n",
            "1.0 0\n",
            "1.0 0\n",
            "1.0 0\n",
            "1.0 0\n",
            "1.0 0\n",
            "0.9375 0\n",
            "1.0 0\n",
            "1.0 0\n",
            "1.0 0\n",
            "0.9333333333333333 0\n",
            "1.0 0\n",
            "0.9285714285714286 0\n",
            "1.4615384615384615 1\n",
            "0.6842105263157895 0\n"
          ],
          "name": "stdout"
        }
      ]
    },
    {
      "cell_type": "code",
      "metadata": {
        "id": "VCGm_0PL3fRc",
        "colab_type": "code",
        "colab": {
          "base_uri": "https://localhost:8080/",
          "height": 34
        },
        "outputId": "61d22c2b-7cea-4cac-ff71-b873191d75c6"
      },
      "source": [
        "1/2"
      ],
      "execution_count": null,
      "outputs": [
        {
          "output_type": "execute_result",
          "data": {
            "text/plain": [
              "0.5"
            ]
          },
          "metadata": {
            "tags": []
          },
          "execution_count": 131
        }
      ]
    },
    {
      "cell_type": "code",
      "metadata": {
        "id": "sF_f-EtUQyiK",
        "colab_type": "code",
        "colab": {}
      },
      "source": [
        "blist, acts = balance_update(predict, p_serise)"
      ],
      "execution_count": null,
      "outputs": []
    },
    {
      "cell_type": "code",
      "metadata": {
        "id": "ItRQ75liThJ-",
        "colab_type": "code",
        "colab": {
          "base_uri": "https://localhost:8080/",
          "height": 34
        },
        "outputId": "230854f4-39ea-4bfd-81fd-94171879dc16"
      },
      "source": [
        "acts"
      ],
      "execution_count": null,
      "outputs": [
        {
          "output_type": "execute_result",
          "data": {
            "text/plain": [
              "[1, 1, 1, 1, 1, 1, 1, 1, 1, 1, 1, 1, 1, 1, 1, 1, 1, 1, 1, 1, 1, 1, 1, 1, 1]"
            ]
          },
          "metadata": {
            "tags": []
          },
          "execution_count": 28
        }
      ]
    },
    {
      "cell_type": "code",
      "metadata": {
        "id": "A3TONjQzTqSw",
        "colab_type": "code",
        "colab": {
          "base_uri": "https://localhost:8080/",
          "height": 34
        },
        "outputId": "1e8ef634-4da2-48a4-bc64-9535ad7fe8da"
      },
      "source": [
        "acts"
      ],
      "execution_count": null,
      "outputs": [
        {
          "output_type": "execute_result",
          "data": {
            "text/plain": [
              "[0, 1, 1, 1, 1, 1, 1, 1, 1, 1, 1, 1, 1, 1, 1, 1, 1, 1, 1, 1, 1, 1, 1, 1, 1]"
            ]
          },
          "metadata": {
            "tags": []
          },
          "execution_count": 33
        }
      ]
    },
    {
      "cell_type": "code",
      "metadata": {
        "id": "CW6izHkVNTWr",
        "colab_type": "code",
        "colab": {}
      },
      "source": [
        "def reward_portfolio (blist):   \n",
        "\n",
        "  reward_sum_list=[]\n",
        "  reward_list=[]\n",
        "   \n",
        "\n",
        "  for a in blist:\n",
        "    reward_sum = a[0] + a[1] * a[2]\n",
        "    reward_sum_list.append(reward_sum)\n",
        "\n",
        "  for i in range(len(reward_sum_list)-1):\n",
        "    reward = np.abs(reward_sum_list[i+1] - reward_sum_list[i]) # 가중치를 일괄적으로 양 수로 만들어서 손실함수 계산의 방향을 일관되게 만든다.\n",
        "    reward_list.append(reward)      \n",
        "  return reward_sum_list, reward_list\n",
        "\n"
      ],
      "execution_count": null,
      "outputs": []
    },
    {
      "cell_type": "code",
      "metadata": {
        "id": "1QJO6PsGdru9",
        "colab_type": "code",
        "colab": {}
      },
      "source": [
        "def discount_rewards(r, gamma=0.5):\n",
        "    \"\"\"Takes 1d float array of rewards and computes discounted reward\n",
        "    e.g. f([1, 1, 1], 0.99) -> [2.9701, 1.99, 1]\n",
        "    \"\"\"\n",
        "    prior = 0\n",
        "    out = []\n",
        "    r = r[::-1]\n",
        "    for val in r:\n",
        "        new_val = val + prior * gamma\n",
        "        out.append(new_val)\n",
        "        prior = new_val\n",
        "    return np.array(out[::-1])"
      ],
      "execution_count": null,
      "outputs": []
    },
    {
      "cell_type": "code",
      "metadata": {
        "id": "E__9jrhId8jq",
        "colab_type": "code",
        "colab": {}
      },
      "source": [
        ""
      ],
      "execution_count": null,
      "outputs": []
    },
    {
      "cell_type": "code",
      "metadata": {
        "id": "52938aqWnN-c",
        "colab_type": "code",
        "colab": {
          "base_uri": "https://localhost:8080/",
          "height": 34
        },
        "outputId": "210ebf42-2bb5-4c93-9498-e944c3f3ecde"
      },
      "source": [
        "from tensorflow.keras.utils import to_categorical\n",
        "from tensorflow import keras\n",
        "import keras.layers as layers\n",
        "from keras.layers import LSTM, Dense\n",
        "from keras.models import Model, Sequential\n",
        "from keras.optimizers import Adam, RMSprop\n",
        "from keras.initializers import glorot_uniform\n",
        "from keras.callbacks import ModelCheckpoint, EarlyStopping\n",
        "import keras.backend as K  # 케라스의 backend를 K. 형식으로 호출하는 것이고 여기서는 tensorflow이다."
      ],
      "execution_count": null,
      "outputs": [
        {
          "output_type": "stream",
          "text": [
            "Using TensorFlow backend.\n"
          ],
          "name": "stderr"
        }
      ]
    },
    {
      "cell_type": "code",
      "metadata": {
        "id": "KCPbLji1nrUn",
        "colab_type": "code",
        "colab": {}
      },
      "source": [
        "def get_policy_model(lr):\n",
        "  inp_L = layers.Input(shape=(5,),name=\"input_L\")\n",
        "  multip = layers.Input(shape=[1], name=\"advantages\")\n",
        "  dense_L = Dense(64)(inp_L)\n",
        "  output_s = layers.Dense(3, activation=\"softmax\",kernel_initializer=glorot_uniform(seed=42), use_bias=False, kernel_regularizer=keras.regularizers.l2(0.001), name=\"out\")(dense_L)\n",
        "\n",
        "  model_train = Model(inputs=[inp_L, multip], outputs = output_s)\n",
        "\n",
        "  # loss 함수를 actual과 predict가 같을때 -무한대가 되도록 만든다. 완전히 틀리면 0 이므로 loss 함수의 값의 범위는 -무한대 ~ 0 이다.\n",
        "  def custom_loss(y_true, y_pred):\n",
        "    # actual: 0 predict: 0 -> log(0 * (0 - 0) + (1 - 0) * (0 + 0)) = -inf   log(0) = - inf\n",
        "    # actual: 1 predict: 1 -> log(1 * (1 - 1) + (1 - 1) * (1 + 1)) = -inf   \n",
        "    # actual: 1 predict: 0 -> log(1 * (1 - 0) + (1 - 1) * (1 + 0)) = 0      log(1) = 0\n",
        "    # actual: 0 predict: 1 -> log(0 * (0 - 1) + (1 - 0) * (0 + 1)) = 0\n",
        "    a = y_true * (y_true - y_pred) + (1 - y_true) * (y_true + y_pred)\n",
        "    log_lik = K.log(a)\n",
        "    return K.mean(log_lik * multip, keepdims=True)\n",
        "\n",
        "  model_train.compile(loss=custom_loss, optimizer=Adam(lr), metrics = ['mae'])\n",
        "  model_predict = Model(inputs=[inp_L], outputs = output_s)\n",
        "  return model_train, model_predict"
      ],
      "execution_count": null,
      "outputs": []
    },
    {
      "cell_type": "code",
      "metadata": {
        "id": "Tf2pQzw7oOcE",
        "colab_type": "code",
        "colab": {}
      },
      "source": [
        "model_train, model_predict = get_policy_model(0.00001)"
      ],
      "execution_count": null,
      "outputs": []
    },
    {
      "cell_type": "code",
      "metadata": {
        "id": "BdCAk3uqoOf4",
        "colab_type": "code",
        "colab": {
          "base_uri": "https://localhost:8080/",
          "height": 263
        },
        "outputId": "87b33d10-6db3-4a14-a684-09a81d87c9c2"
      },
      "source": [
        "model_train.summary()"
      ],
      "execution_count": null,
      "outputs": [
        {
          "output_type": "stream",
          "text": [
            "Model: \"model_1\"\n",
            "_________________________________________________________________\n",
            "Layer (type)                 Output Shape              Param #   \n",
            "=================================================================\n",
            "input_L (InputLayer)         (None, 5)                 0         \n",
            "_________________________________________________________________\n",
            "dense_1 (Dense)              (None, 64)                384       \n",
            "_________________________________________________________________\n",
            "out (Dense)                  (None, 3)                 192       \n",
            "=================================================================\n",
            "Total params: 576\n",
            "Trainable params: 576\n",
            "Non-trainable params: 0\n",
            "_________________________________________________________________\n"
          ],
          "name": "stdout"
        }
      ]
    },
    {
      "cell_type": "code",
      "metadata": {
        "id": "cnaVguhh0ykz",
        "colab_type": "code",
        "colab": {}
      },
      "source": [
        ""
      ],
      "execution_count": null,
      "outputs": []
    },
    {
      "cell_type": "code",
      "metadata": {
        "id": "l5VxtpM8oOjg",
        "colab_type": "code",
        "colab": {
          "base_uri": "https://localhost:8080/",
          "height": 1000
        },
        "outputId": "3f41dab9-4f97-48c7-dc91-448644782edc"
      },
      "source": [
        "# Setting up our environment\n",
        "\n",
        "num_actions = 3\n",
        "num_episode = 0\n",
        "num_episodes = 10000\n",
        "\n",
        "balance=[100.0, 0.0, 0.0]   \n",
        "\n",
        "action_list = []\n",
        "reward_list = []\n",
        "reward_sum_list = []\n",
        "\n",
        "price, p_serise, price_lstm = env()\n",
        "\n",
        "while num_episode < num_episodes:\n",
        "\n",
        "    losses = []\n",
        "     \n",
        "    p_serise = p_serise.astype(float) # nan 발생을 막기 위한 시도이다.\n",
        "\n",
        "    predict = model_predict.predict(p_serise)  # 한개의 state를 input해서 신경망을 통해 action을 만들어낸다.\n",
        "      \n",
        "    blist, acts = balance_update(predict, p_serise)\n",
        "\n",
        "    reward_sum_list, reward_list = reward_portfolio(blist)\n",
        "\n",
        "   \n",
        "    if reward_sum_list[-1] > 120.0:\n",
        "      break\n",
        "    else:\n",
        "      y_encoded = keras.utils.to_categorical(acts, 3)\n",
        "      dis_re = discount_rewards(reward_list)\n",
        "      loss = model_train.train_on_batch([p_serise, dis_re/100], y_encoded)\n",
        "\n",
        "    losses.append(loss)\n",
        "\n",
        "    if (num_episode+1) % 100 == 0:\n",
        "      print(\"num_episode: \",num_episode+1, \"loss: \", losses[-1][0], \"model_reward: \", reward_sum_list[-1])\n",
        "          \n",
        "    num_episode += 1\n",
        "    price, p_serise, price_lstm = env()\n"
      ],
      "execution_count": null,
      "outputs": [
        {
          "output_type": "stream",
          "text": [
            "num_episode:  100 loss:  -0.0015004296 model_reward:  98.43091745899021\n",
            "num_episode:  200 loss:  0.005515466 model_reward:  100.0\n",
            "num_episode:  300 loss:  0.00019470043 model_reward:  98.40993966995285\n",
            "num_episode:  400 loss:  0.0054811565 model_reward:  100.0\n",
            "num_episode:  500 loss:  0.0054636374 model_reward:  100.0\n",
            "num_episode:  600 loss:  0.0054448424 model_reward:  100.0\n",
            "num_episode:  700 loss:  0.005426042 model_reward:  100.0\n",
            "num_episode:  800 loss:  0.0024502221 model_reward:  99.17197107528669\n",
            "num_episode:  900 loss:  0.005381563 model_reward:  100.0\n",
            "num_episode:  1000 loss:  -0.0010551126 model_reward:  98.56116042059348\n",
            "num_episode:  1100 loss:  0.005335754 model_reward:  100.0\n",
            "num_episode:  1200 loss:  0.0053128023 model_reward:  100.0\n",
            "num_episode:  1300 loss:  0.0052875252 model_reward:  100.0\n",
            "num_episode:  1400 loss:  0.005262426 model_reward:  100.0\n",
            "num_episode:  1500 loss:  0.00523735 model_reward:  100.0\n",
            "num_episode:  1600 loss:  0.0052127033 model_reward:  100.0\n",
            "num_episode:  1700 loss:  0.005186327 model_reward:  100.0\n",
            "num_episode:  1800 loss:  0.005159652 model_reward:  100.0\n",
            "num_episode:  1900 loss:  0.0051343893 model_reward:  100.0\n",
            "num_episode:  2000 loss:  0.005107552 model_reward:  100.0\n",
            "num_episode:  2100 loss:  0.005079513 model_reward:  100.0\n",
            "num_episode:  2200 loss:  0.005052191 model_reward:  100.0\n",
            "num_episode:  2300 loss:  0.0050252248 model_reward:  100.0\n",
            "num_episode:  2400 loss:  0.004996138 model_reward:  100.0\n",
            "num_episode:  2500 loss:  0.0049682437 model_reward:  100.0\n",
            "num_episode:  2600 loss:  0.004939787 model_reward:  100.0\n",
            "num_episode:  2700 loss:  0.0049096253 model_reward:  100.0\n",
            "num_episode:  2800 loss:  0.004879964 model_reward:  100.0\n",
            "num_episode:  2900 loss:  0.0048501315 model_reward:  100.0\n",
            "num_episode:  3000 loss:  0.0048204977 model_reward:  100.0\n",
            "num_episode:  3100 loss:  0.004791667 model_reward:  100.0\n",
            "num_episode:  3200 loss:  0.0004956466 model_reward:  99.13302251361006\n",
            "num_episode:  3300 loss:  0.0047322037 model_reward:  100.0\n",
            "num_episode:  3400 loss:  0.004704902 model_reward:  100.0\n",
            "num_episode:  3500 loss:  0.0046762717 model_reward:  100.0\n",
            "num_episode:  3600 loss:  0.004646018 model_reward:  100.0\n",
            "num_episode:  3700 loss:  0.004615604 model_reward:  100.0\n",
            "num_episode:  3800 loss:  0.004584374 model_reward:  100.0\n",
            "num_episode:  3900 loss:  0.0045554684 model_reward:  100.0\n",
            "num_episode:  4000 loss:  0.004523432 model_reward:  100.0\n",
            "num_episode:  4100 loss:  0.0044917106 model_reward:  100.0\n",
            "num_episode:  4200 loss:  0.004459348 model_reward:  100.0\n",
            "num_episode:  4300 loss:  0.0044271033 model_reward:  100.0\n",
            "num_episode:  4400 loss:  0.0043949625 model_reward:  100.0\n",
            "num_episode:  4500 loss:  0.0043635955 model_reward:  100.0\n",
            "num_episode:  4600 loss:  0.004331963 model_reward:  100.0\n",
            "num_episode:  4700 loss:  0.0043012677 model_reward:  100.0\n",
            "num_episode:  4800 loss:  0.0042683217 model_reward:  100.0\n",
            "num_episode:  4900 loss:  0.0042358804 model_reward:  100.0\n",
            "num_episode:  5000 loss:  0.0042049102 model_reward:  100.0\n",
            "num_episode:  5100 loss:  0.004173663 model_reward:  100.0\n",
            "num_episode:  5200 loss:  0.0041421745 model_reward:  100.0\n",
            "num_episode:  5300 loss:  0.0041092634 model_reward:  100.0\n",
            "num_episode:  5400 loss:  0.004076972 model_reward:  100.0\n",
            "num_episode:  5500 loss:  0.004044666 model_reward:  100.0\n",
            "num_episode:  5600 loss:  0.0040126666 model_reward:  100.0\n",
            "num_episode:  5700 loss:  0.00398225 model_reward:  100.0\n",
            "num_episode:  5800 loss:  0.0039505544 model_reward:  100.0\n",
            "num_episode:  5900 loss:  0.0039183726 model_reward:  100.0\n",
            "num_episode:  6000 loss:  0.0038872757 model_reward:  100.0\n",
            "num_episode:  6100 loss:  0.0038557088 model_reward:  100.0\n",
            "num_episode:  6200 loss:  0.0038233157 model_reward:  100.0\n",
            "num_episode:  6300 loss:  0.003791911 model_reward:  100.0\n",
            "num_episode:  6400 loss:  0.0037601101 model_reward:  100.0\n",
            "num_episode:  6500 loss:  0.003728481 model_reward:  100.0\n",
            "num_episode:  6600 loss:  0.0036973585 model_reward:  100.0\n",
            "num_episode:  6700 loss:  0.0036655453 model_reward:  100.0\n",
            "num_episode:  6800 loss:  0.0036345802 model_reward:  100.0\n",
            "num_episode:  6900 loss:  0.0036039327 model_reward:  100.0\n",
            "num_episode:  7000 loss:  0.0035742228 model_reward:  100.0\n",
            "num_episode:  7100 loss:  0.0035451467 model_reward:  100.0\n",
            "num_episode:  7200 loss:  0.0035161164 model_reward:  100.0\n",
            "num_episode:  7300 loss:  0.0034875472 model_reward:  100.0\n",
            "num_episode:  7400 loss:  0.0034590708 model_reward:  100.0\n",
            "num_episode:  7500 loss:  0.003431081 model_reward:  100.0\n",
            "num_episode:  7600 loss:  0.0034021214 model_reward:  100.0\n",
            "num_episode:  7700 loss:  0.0033739756 model_reward:  100.0\n",
            "num_episode:  7800 loss:  0.0033459766 model_reward:  100.0\n",
            "num_episode:  7900 loss:  0.0033169857 model_reward:  100.0\n",
            "num_episode:  8000 loss:  0.0032883373 model_reward:  100.0\n",
            "num_episode:  8100 loss:  0.0032606097 model_reward:  100.0\n",
            "num_episode:  8200 loss:  0.003233885 model_reward:  100.0\n",
            "num_episode:  8300 loss:  0.0032061834 model_reward:  100.0\n",
            "num_episode:  8400 loss:  0.0031791173 model_reward:  100.0\n",
            "num_episode:  8500 loss:  0.003153976 model_reward:  100.0\n",
            "num_episode:  8600 loss:  0.003127616 model_reward:  100.0\n",
            "num_episode:  8700 loss:  0.003101291 model_reward:  100.0\n",
            "num_episode:  8800 loss:  0.0030740476 model_reward:  100.0\n",
            "num_episode:  8900 loss:  0.0030476109 model_reward:  100.0\n",
            "num_episode:  9000 loss:  0.003020967 model_reward:  100.0\n",
            "num_episode:  9100 loss:  0.0029943183 model_reward:  100.0\n",
            "num_episode:  9200 loss:  0.00296714 model_reward:  100.0\n",
            "num_episode:  9300 loss:  0.0029394755 model_reward:  100.0\n",
            "num_episode:  9400 loss:  0.00291161 model_reward:  100.0\n",
            "num_episode:  9500 loss:  0.002885084 model_reward:  100.0\n",
            "num_episode:  9600 loss:  0.0028581868 model_reward:  100.0\n",
            "num_episode:  9700 loss:  0.0028315305 model_reward:  100.0\n",
            "num_episode:  9800 loss:  0.0028050705 model_reward:  100.0\n",
            "num_episode:  9900 loss:  0.0027779161 model_reward:  100.0\n",
            "num_episode:  10000 loss:  0.0027523604 model_reward:  100.0\n"
          ],
          "name": "stdout"
        }
      ]
    },
    {
      "cell_type": "code",
      "metadata": {
        "id": "SFXJa7ULfIm1",
        "colab_type": "code",
        "colab": {}
      },
      "source": [
        ""
      ],
      "execution_count": null,
      "outputs": []
    },
    {
      "cell_type": "code",
      "metadata": {
        "id": "Fr2T_DCMdsFa",
        "colab_type": "code",
        "colab": {}
      },
      "source": [
        "predict = model_predict.predict(p_serise)"
      ],
      "execution_count": null,
      "outputs": []
    },
    {
      "cell_type": "code",
      "metadata": {
        "id": "gNb7YB9bbfUd",
        "colab_type": "code",
        "colab": {
          "base_uri": "https://localhost:8080/",
          "height": 457
        },
        "outputId": "718d039b-da85-4802-e84c-89591108a966"
      },
      "source": [
        "predict"
      ],
      "execution_count": null,
      "outputs": [
        {
          "output_type": "execute_result",
          "data": {
            "text/plain": [
              "array([[3.6138725e-03, 9.9543518e-01, 9.5101329e-04],\n",
              "       [2.5309306e-03, 9.9687552e-01, 5.9350801e-04],\n",
              "       [1.6649085e-03, 9.9793869e-01, 3.9637886e-04],\n",
              "       [1.1331739e-03, 9.9862301e-01, 2.4384700e-04],\n",
              "       [8.9347886e-04, 9.9892789e-01, 1.7856655e-04],\n",
              "       [6.7802204e-04, 9.9918562e-01, 1.3640364e-04],\n",
              "       [5.1899574e-04, 9.9938595e-01, 9.5118827e-05],\n",
              "       [4.0926790e-04, 9.9951863e-01, 7.2090930e-05],\n",
              "       [3.4076688e-04, 9.9960107e-01, 5.8188223e-05],\n",
              "       [2.9136828e-04, 9.9965870e-01, 4.9990009e-05],\n",
              "       [2.4987900e-04, 9.9970716e-01, 4.2903313e-05],\n",
              "       [2.4483568e-04, 9.9971491e-01, 4.0296556e-05],\n",
              "       [2.2691984e-04, 9.9973422e-01, 3.8798502e-05],\n",
              "       [2.2932976e-04, 9.9973351e-01, 3.7164038e-05],\n",
              "       [2.3295525e-04, 9.9972624e-01, 4.0761293e-05],\n",
              "       [2.3052981e-04, 9.9972850e-01, 4.1016719e-05],\n",
              "       [2.7433300e-04, 9.9967790e-01, 4.7780799e-05],\n",
              "       [2.9424176e-04, 9.9964762e-01, 5.8202586e-05],\n",
              "       [3.4178881e-04, 9.9959475e-01, 6.3547915e-05],\n",
              "       [4.1455880e-04, 9.9950135e-01, 8.4088300e-05],\n",
              "       [5.0070317e-04, 9.9938917e-01, 1.1013113e-04],\n",
              "       [6.5733481e-04, 9.9919075e-01, 1.5192527e-04],\n",
              "       [8.6150935e-04, 9.9891627e-01, 2.2219443e-04],\n",
              "       [1.2839217e-03, 9.9837518e-01, 3.4081523e-04],\n",
              "       [1.7692746e-03, 9.9769068e-01, 5.4007728e-04]], dtype=float32)"
            ]
          },
          "metadata": {
            "tags": []
          },
          "execution_count": 18
        }
      ]
    },
    {
      "cell_type": "code",
      "metadata": {
        "id": "z9pqtsUJ5kDz",
        "colab_type": "code",
        "colab": {}
      },
      "source": [
        "blist, acts = balance_update(predict, p_serise)\n",
        "\n",
        "    "
      ],
      "execution_count": null,
      "outputs": []
    },
    {
      "cell_type": "code",
      "metadata": {
        "id": "ypq5iFSD5kHH",
        "colab_type": "code",
        "colab": {
          "base_uri": "https://localhost:8080/",
          "height": 34
        },
        "outputId": "55ca1613-d2dc-4d1a-bfc4-4c01299a3e50"
      },
      "source": [
        "acts"
      ],
      "execution_count": null,
      "outputs": [
        {
          "output_type": "execute_result",
          "data": {
            "text/plain": [
              "[1, 1, 1, 1, 1, 1, 1, 1, 1, 1, 1, 1, 1, 1, 1, 1, 1, 1, 1, 1, 1, 1, 1, 1, 1]"
            ]
          },
          "metadata": {
            "tags": []
          },
          "execution_count": 20
        }
      ]
    },
    {
      "cell_type": "code",
      "metadata": {
        "id": "i85zgyZO5wRc",
        "colab_type": "code",
        "colab": {
          "base_uri": "https://localhost:8080/",
          "height": 474
        },
        "outputId": "1de4d0d3-96a6-4268-bc8a-11b3e62bebe9"
      },
      "source": [
        "blist"
      ],
      "execution_count": null,
      "outputs": [
        {
          "output_type": "execute_result",
          "data": {
            "text/plain": [
              "[[100.0, 0.0, 0.0],\n",
              " [100, 3.9877771384524716, 0],\n",
              " [100, 4.0765769672822, 0],\n",
              " [100, 4.210458646072498, 0],\n",
              " [100, 4.483095742634497, 0],\n",
              " [100, 4.565387372085023, 0],\n",
              " [100, 4.71244661397334, 0],\n",
              " [100, 4.885086273380034, 0],\n",
              " [100, 5.016812548642121, 0],\n",
              " [100, 5.048064792342275, 0],\n",
              " [100, 5.014176983045866, 0],\n",
              " [100, 5.112904769029705, 0],\n",
              " [100, 5.082847672344554, 0],\n",
              " [100, 5.16510696197368, 0],\n",
              " [100, 5.092284003497985, 0],\n",
              " [100, 4.948211285146682, 0],\n",
              " [100, 5.0063037357539795, 0],\n",
              " [100, 4.784278366930281, 0],\n",
              " [100, 4.760625085739134, 0],\n",
              " [100, 4.690961475596859, 0],\n",
              " [100, 4.460830067774835, 0],\n",
              " [100, 4.2789269692796275, 0],\n",
              " [100, 4.008987712574459, 0],\n",
              " [100, 3.874456053114483, 0],\n",
              " [100, 3.574380409350225, 0],\n",
              " [100, 3.3768865232630247, 0]]"
            ]
          },
          "metadata": {
            "tags": []
          },
          "execution_count": 21
        }
      ]
    },
    {
      "cell_type": "code",
      "metadata": {
        "id": "W_PI5G4_5wUk",
        "colab_type": "code",
        "colab": {
          "base_uri": "https://localhost:8080/",
          "height": 52
        },
        "outputId": "7c18d7dc-9352-4ba4-a76e-591f2f0a3037"
      },
      "source": [
        "dis_re"
      ],
      "execution_count": null,
      "outputs": [
        {
          "output_type": "execute_result",
          "data": {
            "text/plain": [
              "array([0., 0., 0., 0., 0., 0., 0., 0., 0., 0., 0., 0., 0., 0., 0., 0., 0.,\n",
              "       0., 0., 0., 0., 0., 0., 0., 0.])"
            ]
          },
          "metadata": {
            "tags": []
          },
          "execution_count": 24
        }
      ]
    },
    {
      "cell_type": "code",
      "metadata": {
        "id": "vcsTPURy5wYG",
        "colab_type": "code",
        "colab": {
          "base_uri": "https://localhost:8080/",
          "height": 457
        },
        "outputId": "a2b3c094-07df-44c3-f396-a25b4e992382"
      },
      "source": [
        "reward_list"
      ],
      "execution_count": null,
      "outputs": [
        {
          "output_type": "execute_result",
          "data": {
            "text/plain": [
              "[0,\n",
              " 0.0,\n",
              " 0.0,\n",
              " 0.0,\n",
              " 0.0,\n",
              " 0.10798032990297202,\n",
              " 0.0,\n",
              " 0.09972510880207608,\n",
              " 0.0,\n",
              " 0.05702562077745199,\n",
              " 0.0,\n",
              " 0.0,\n",
              " 0.0,\n",
              " 0.0,\n",
              " 0.008023248219004131,\n",
              " 0.0,\n",
              " 0.0,\n",
              " -0.21939723052554427,\n",
              " -0.2704698111146513,\n",
              " -0.21527481970460371,\n",
              " 0.0,\n",
              " -0.380158586348756,\n",
              " 0.0,\n",
              " 0.0,\n",
              " 0.0]"
            ]
          },
          "metadata": {
            "tags": []
          },
          "execution_count": 27
        }
      ]
    },
    {
      "cell_type": "code",
      "metadata": {
        "id": "3ORWnRdVkzht",
        "colab_type": "code",
        "colab": {
          "base_uri": "https://localhost:8080/",
          "height": 34
        },
        "outputId": "2b184e6c-1d8e-49d7-e747-4b2ceecfd41d"
      },
      "source": [
        "test = [0.1, 0.2, 0.7]\n",
        "print(test[0:2])"
      ],
      "execution_count": null,
      "outputs": [
        {
          "output_type": "stream",
          "text": [
            "[0.1, 0.2]\n"
          ],
          "name": "stdout"
        }
      ]
    },
    {
      "cell_type": "code",
      "metadata": {
        "id": "l0mUFfN8kzli",
        "colab_type": "code",
        "colab": {
          "base_uri": "https://localhost:8080/",
          "height": 222
        },
        "outputId": "35a69047-3286-48fb-e2af-d7bca0a8e12e"
      },
      "source": [
        "aa = np.random.choice(2,p=test[0:2])\n",
        "print(aa)"
      ],
      "execution_count": null,
      "outputs": [
        {
          "output_type": "error",
          "ename": "ValueError",
          "evalue": "ignored",
          "traceback": [
            "\u001b[0;31m---------------------------------------------------------------------------\u001b[0m",
            "\u001b[0;31mValueError\u001b[0m                                Traceback (most recent call last)",
            "\u001b[0;32m<ipython-input-32-ce2ffd32b02c>\u001b[0m in \u001b[0;36m<module>\u001b[0;34m()\u001b[0m\n\u001b[0;32m----> 1\u001b[0;31m \u001b[0maa\u001b[0m \u001b[0;34m=\u001b[0m \u001b[0mnp\u001b[0m\u001b[0;34m.\u001b[0m\u001b[0mrandom\u001b[0m\u001b[0;34m.\u001b[0m\u001b[0mchoice\u001b[0m\u001b[0;34m(\u001b[0m\u001b[0;36m2\u001b[0m\u001b[0;34m,\u001b[0m\u001b[0mp\u001b[0m\u001b[0;34m=\u001b[0m\u001b[0mtest\u001b[0m\u001b[0;34m[\u001b[0m\u001b[0;36m0\u001b[0m\u001b[0;34m:\u001b[0m\u001b[0;36m2\u001b[0m\u001b[0;34m]\u001b[0m\u001b[0;34m)\u001b[0m\u001b[0;34m\u001b[0m\u001b[0;34m\u001b[0m\u001b[0m\n\u001b[0m\u001b[1;32m      2\u001b[0m \u001b[0mprint\u001b[0m\u001b[0;34m(\u001b[0m\u001b[0maa\u001b[0m\u001b[0;34m)\u001b[0m\u001b[0;34m\u001b[0m\u001b[0;34m\u001b[0m\u001b[0m\n",
            "\u001b[0;32mmtrand.pyx\u001b[0m in \u001b[0;36mnumpy.random.mtrand.RandomState.choice\u001b[0;34m()\u001b[0m\n",
            "\u001b[0;31mValueError\u001b[0m: probabilities do not sum to 1"
          ]
        }
      ]
    },
    {
      "cell_type": "code",
      "metadata": {
        "id": "gfAE5835kzxB",
        "colab_type": "code",
        "colab": {}
      },
      "source": [
        ""
      ],
      "execution_count": null,
      "outputs": []
    },
    {
      "cell_type": "code",
      "metadata": {
        "id": "_DCWmX1jgNsL",
        "colab_type": "code",
        "colab": {}
      },
      "source": [
        "def reward_lstm (p_serise, action):\n",
        "  rewards =[0]\n",
        "  \n",
        "  for i in range(len(p_serise)-1):\n",
        "    price_gap = p_serise[i+1][4] - p_serise[i][0]\n",
        "    if price_gap >= 0 and action[i] == 1 :\n",
        "       reward = 1\n",
        "       rewards.append(reward)\n",
        "    if price_gap >= 0 and action[i] == 0 :\n",
        "       reward = 0\n",
        "       rewards.append(reward)\n",
        "    if price_gap >= 0 and action[i] == 2 :\n",
        "       reward = -1\n",
        "       rewards.append(reward)\n",
        "    if price_gap <= 0 and action[i] == 1 :\n",
        "       reward = -1\n",
        "       rewards.append(reward)\n",
        "    if price_gap <= 0 and action[i] == 0 :\n",
        "       reward = 0\n",
        "       rewards.append(reward)\n",
        "    if price_gap <= 0 and action[i] == 2 :\n",
        "       reward = 1\n",
        "       rewards.append(reward)\n",
        "\n",
        "  return rewards\n"
      ],
      "execution_count": null,
      "outputs": []
    },
    {
      "cell_type": "code",
      "metadata": {
        "id": "BQwD-t8Li5hJ",
        "colab_type": "code",
        "colab": {
          "base_uri": "https://localhost:8080/",
          "height": 34
        },
        "outputId": "ecf4d445-fc17-44ec-9cca-e67b4ff2321f"
      },
      "source": [
        "len(reward_lstm (p_serise, price_lstm_y))"
      ],
      "execution_count": null,
      "outputs": [
        {
          "output_type": "execute_result",
          "data": {
            "text/plain": [
              "25"
            ]
          },
          "metadata": {
            "tags": []
          },
          "execution_count": 149
        }
      ]
    },
    {
      "cell_type": "code",
      "metadata": {
        "id": "nRfbsAW_nN2t",
        "colab_type": "code",
        "colab": {}
      },
      "source": [
        " def act_selection(act):\n",
        "   acts = []\n",
        "   for i in range(0, len(act)):\n",
        "     action = np.random.choice(3,p=act[i])\n",
        "     acts.append(action)\n",
        "   return acts"
      ],
      "execution_count": null,
      "outputs": []
    },
    {
      "cell_type": "code",
      "metadata": {
        "id": "fMEoQVVt0eT3",
        "colab_type": "code",
        "colab": {
          "base_uri": "https://localhost:8080/",
          "height": 34
        },
        "outputId": "6a67b824-cfd0-4507-dad1-fe97377a6d05"
      },
      "source": [
        "multip = np.array([1,1,1,1,1,1,1,1,1,1,1,1,1,1,1,1,1,1,1,1,1,1,1,1,1])\n",
        "len(multip)"
      ],
      "execution_count": null,
      "outputs": [
        {
          "output_type": "execute_result",
          "data": {
            "text/plain": [
              "25"
            ]
          },
          "metadata": {
            "tags": []
          },
          "execution_count": 150
        }
      ]
    },
    {
      "cell_type": "code",
      "metadata": {
        "id": "GYqwu-HRoOmz",
        "colab_type": "code",
        "colab": {}
      },
      "source": [
        "predict = model_predict.predict(p_serise)"
      ],
      "execution_count": null,
      "outputs": []
    },
    {
      "cell_type": "code",
      "metadata": {
        "id": "OldzEZfWnrcs",
        "colab_type": "code",
        "colab": {}
      },
      "source": [
        "action_c=[]\n",
        "\n",
        "for i in range(len(predict)):\n",
        "  a = np.argmax(predict[i])\n",
        "  action_c.append(a)"
      ],
      "execution_count": null,
      "outputs": []
    },
    {
      "cell_type": "code",
      "metadata": {
        "id": "sIS-EhC9vSef",
        "colab_type": "code",
        "colab": {
          "base_uri": "https://localhost:8080/",
          "height": 34
        },
        "outputId": "1c2f78f5-51a8-49c6-c5ef-08c9c2e1057a"
      },
      "source": [
        "np.sum(reward_lstm(p_serise, action_c))"
      ],
      "execution_count": null,
      "outputs": [
        {
          "output_type": "execute_result",
          "data": {
            "text/plain": [
              "3"
            ]
          },
          "metadata": {
            "tags": []
          },
          "execution_count": 55
        }
      ]
    },
    {
      "cell_type": "code",
      "metadata": {
        "id": "8X4_950456td",
        "colab_type": "code",
        "colab": {
          "base_uri": "https://localhost:8080/",
          "height": 34
        },
        "outputId": "366a37e5-cafb-434e-92db-752cf0357516"
      },
      "source": [
        "action_c"
      ],
      "execution_count": null,
      "outputs": [
        {
          "output_type": "execute_result",
          "data": {
            "text/plain": [
              "[1, 1, 1, 1, 1, 0, 0, 0, 0, 0, 0, 0, 0, 0, 0, 0, 0, 0, 0, 0, 0, 0, 1, 1, 1]"
            ]
          },
          "metadata": {
            "tags": []
          },
          "execution_count": 56
        }
      ]
    },
    {
      "cell_type": "code",
      "metadata": {
        "id": "LeDZBnO656oR",
        "colab_type": "code",
        "colab": {}
      },
      "source": [
        ""
      ],
      "execution_count": null,
      "outputs": []
    },
    {
      "cell_type": "code",
      "metadata": {
        "id": "eBil12gR56mh",
        "colab_type": "code",
        "colab": {}
      },
      "source": [
        ""
      ],
      "execution_count": null,
      "outputs": []
    },
    {
      "cell_type": "code",
      "metadata": {
        "id": "0hx-wlyJ56kY",
        "colab_type": "code",
        "colab": {}
      },
      "source": [
        ""
      ],
      "execution_count": null,
      "outputs": []
    },
    {
      "cell_type": "code",
      "metadata": {
        "id": "IazXuUZw56iI",
        "colab_type": "code",
        "colab": {}
      },
      "source": [
        ""
      ],
      "execution_count": null,
      "outputs": []
    },
    {
      "cell_type": "code",
      "metadata": {
        "id": "NP0ycHrO56fn",
        "colab_type": "code",
        "colab": {}
      },
      "source": [
        ""
      ],
      "execution_count": null,
      "outputs": []
    },
    {
      "cell_type": "code",
      "metadata": {
        "id": "K5bMrbNO5SeR",
        "colab_type": "code",
        "colab": {
          "base_uri": "https://localhost:8080/",
          "height": 34
        },
        "outputId": "0a145254-b935-4f9c-9201-4e8e9942786d"
      },
      "source": [
        "from tensorflow.keras.utils import to_categorical\n",
        "from tensorflow import keras\n",
        "import tensorflow as tf\n",
        "import keras.layers as layers\n",
        "from keras.layers import LSTM, Dense\n",
        "from keras.models import Model, Sequential\n",
        "from keras.optimizers import Adam, RMSprop\n",
        "from keras.initializers import glorot_uniform\n",
        "from keras.callbacks import ModelCheckpoint, EarlyStopping\n",
        "import keras.backend as K  # 케라스의 backend를 K. 형식으로 호출하는 것이고 여기서는 tensorflow이다."
      ],
      "execution_count": null,
      "outputs": [
        {
          "output_type": "stream",
          "text": [
            "Using TensorFlow backend.\n"
          ],
          "name": "stderr"
        }
      ]
    },
    {
      "cell_type": "code",
      "metadata": {
        "id": "2gWNXKuA8QVH",
        "colab_type": "code",
        "colab": {}
      },
      "source": [
        "#inp_L = layers.Input(shape=(5,1),name=\"input_L\")  # LSTM 용\n",
        "#dense_L = LSTM(5, return_sequences=False)(inp_L)  # LSTM 용\n",
        "inp_L = layers.Input(shape=(5,),name=\"input_L\")\n",
        "#dense_L = Dense(64)(dense_L)\n",
        "dense_L = Dense(64)(inp_L)\n",
        "#output_L = Dense(1)(dense_L)\n",
        "output_s = layers.Dense(3, activation=\"softmax\",kernel_initializer=glorot_uniform(seed=42), use_bias=False, kernel_regularizer=keras.regularizers.l2(0.001), name=\"out\")(dense_L)\n",
        "\n",
        "model_lstm = Model(inputs=inp_L, outputs = output_s)"
      ],
      "execution_count": null,
      "outputs": []
    },
    {
      "cell_type": "code",
      "metadata": {
        "id": "nq9u7FVL8QMN",
        "colab_type": "code",
        "colab": {}
      },
      "source": [
        "optimizer = tf.keras.optimizers.Adam(lr=0.001)\n",
        "model_lstm.compile(loss='categorical_crossentropy', optimizer=optimizer, metrics=['mae'])"
      ],
      "execution_count": null,
      "outputs": []
    },
    {
      "cell_type": "code",
      "metadata": {
        "id": "HzEFHZQ--JZt",
        "colab_type": "code",
        "colab": {}
      },
      "source": [
        "history_lstm = model_lstm.fit(p_serise, y_encoded, epochs=150, verbose=0)"
      ],
      "execution_count": null,
      "outputs": []
    },
    {
      "cell_type": "code",
      "metadata": {
        "id": "HkHpoNBRDZ3u",
        "colab_type": "code",
        "colab": {
          "base_uri": "https://localhost:8080/",
          "height": 265
        },
        "outputId": "8d7151c3-47cc-43c7-c8dd-2e55846641ef"
      },
      "source": [
        "plt.plot(history_lstm.history['loss'])\n",
        "plt.show()"
      ],
      "execution_count": null,
      "outputs": [
        {
          "output_type": "display_data",
          "data": {
            "image/png": "[encoded data removed]",
            "text/plain": [
              "<Figure size 432x288 with 1 Axes>"
            ]
          },
          "metadata": {
            "tags": [],
            "needs_background": "light"
          }
        }
      ]
    },
    {
      "cell_type": "code",
      "metadata": {
        "id": "dUOFL8eADyES",
        "colab_type": "code",
        "colab": {
          "base_uri": "https://localhost:8080/",
          "height": 265
        },
        "outputId": "eda1d22e-cccb-4229-a3e2-cc8503dd7f79"
      },
      "source": [
        "plt.plot(action(model_lstm.predict(p_serise)), 'b')\n",
        "# plt.plot(price_lstm_y, 'r')\n",
        "plt.show()"
      ],
      "execution_count": null,
      "outputs": [
        {
          "output_type": "display_data",
          "data": {
            "image/png": "[encoded data removed]",
            "text/plain": [
              "<Figure size 432x288 with 1 Axes>"
            ]
          },
          "metadata": {
            "tags": [],
            "needs_background": "light"
          }
        }
      ]
    },
    {
      "cell_type": "code",
      "metadata": {
        "id": "rcnD7iot56Zc",
        "colab_type": "code",
        "colab": {}
      },
      "source": [
        ""
      ],
      "execution_count": null,
      "outputs": []
    },
    {
      "cell_type": "code",
      "metadata": {
        "id": "Ykgd940f56Ws",
        "colab_type": "code",
        "colab": {}
      },
      "source": [
        ""
      ],
      "execution_count": null,
      "outputs": []
    },
    {
      "cell_type": "code",
      "metadata": {
        "id": "vgKgY08H56S9",
        "colab_type": "code",
        "colab": {}
      },
      "source": [
        ""
      ],
      "execution_count": null,
      "outputs": []
    },
    {
      "cell_type": "code",
      "metadata": {
        "id": "oOk67j_P_1ui",
        "colab_type": "code",
        "colab": {
          "base_uri": "https://localhost:8080/",
          "height": 34
        },
        "outputId": "9b115394-bee0-4705-abeb-96322edb2ba6"
      },
      "source": [
        ""
      ],
      "execution_count": null,
      "outputs": [
        {
          "output_type": "stream",
          "text": [
            "[1, 1, 1, 1, 1, 1, 1, 1, 1, 1, 1, 0, 0, 0, 0, 0, 0, 0, 0, 0, 0, 0, 0, 0, 0]\n"
          ],
          "name": "stdout"
        }
      ]
    },
    {
      "cell_type": "markdown",
      "metadata": {
        "id": "ZqnDeQDebd7L",
        "colab_type": "text"
      },
      "source": [
        "만약 정책함수에서 softmax가 행동대안을 산출하면 각 행동대안이 갖는 확률을 기반으로 하여 새로운 행동을 산출한다. 만약 각 행동대안의 확율이 높아 질 수록 산출할 행동 대안의 모습은 수렴해 갈 것이다."
      ]
    },
    {
      "cell_type": "code",
      "metadata": {
        "id": "bUP7ErWSq7Q-",
        "colab_type": "code",
        "colab": {}
      },
      "source": [
        ""
      ],
      "execution_count": null,
      "outputs": []
    },
    {
      "cell_type": "markdown",
      "metadata": {
        "id": "hZ94IMpkGo4Q",
        "colab_type": "text"
      },
      "source": [
        "custom loss 함수를 테스트 해본다."
      ]
    },
    {
      "cell_type": "code",
      "metadata": {
        "id": "oeNsD1JMGuKf",
        "colab_type": "code",
        "colab": {
          "base_uri": "https://localhost:8080/",
          "height": 34
        },
        "outputId": "f5900976-abc9-41c8-bd69-e30e707a5430"
      },
      "source": [
        ""
      ],
      "execution_count": null,
      "outputs": [
        {
          "output_type": "stream",
          "text": [
            "Using TensorFlow backend.\n"
          ],
          "name": "stderr"
        }
      ]
    },
    {
      "cell_type": "code",
      "metadata": {
        "id": "Whc8OKjFG7q9",
        "colab_type": "code",
        "colab": {}
      },
      "source": [
        "def my_loss(y_true, y_pred):\n",
        "  y_true = y_true **2\n",
        "  y_pred = y_pred **2\n",
        "  loss = K.mean(K.abs(y_true - y_pred) + K.square(y_true - y_pred))\n",
        "  return loss * multip\n",
        "\n",
        "\n",
        "# metric는 중요하지 않다.\n",
        "\n",
        "def my_metric(y_true, y_pred):\n",
        "  return K.mean(K.abs(y_true - y_pred)) * 1000"
      ],
      "execution_count": null,
      "outputs": []
    },
    {
      "cell_type": "code",
      "metadata": {
        "id": "uA6-PGbtd48V",
        "colab_type": "code",
        "colab": {}
      },
      "source": [
        ""
      ],
      "execution_count": null,
      "outputs": []
    },
    {
      "cell_type": "code",
      "metadata": {
        "id": "bHBAqZNpGJiT",
        "colab_type": "code",
        "colab": {}
      },
      "source": [
        "# 하나의 에피소드 내에서 지연된 보상을 하기 위한 방법이다. \n",
        "\n",
        "def discount_rewards(r, gamma=0.99):\n",
        "    \"\"\"Takes 1d float array of rewards and computes discounted reward\n",
        "    e.g. f([1, 1, 1], 0.99) -> [2.9701, 1.99, 1]\n",
        "    \"\"\"\n",
        "    prior = 0\n",
        "    out = []\n",
        "    r = r[::-1]\n",
        "    for val in r:\n",
        "        new_val = val + prior * gamma\n",
        "        out.append(new_val)\n",
        "        prior = new_val\n",
        "    return np.array(out)"
      ],
      "execution_count": null,
      "outputs": []
    },
    {
      "cell_type": "code",
      "metadata": {
        "id": "9mnjJQyQLm9P",
        "colab_type": "code",
        "colab": {}
      },
      "source": [
        "# test_set에 적용하는 함수\n",
        "\n",
        "def score_model(model_predict, num_tests):\n",
        "    scores = []    \n",
        "    for num_test in range(num_tests):\n",
        "        observation = env()\n",
        "        forcasts = model_predict.predict(observation)\n",
        "        rw = reward(observation, np.argmax(forcasts, axis=1))\n",
        "        scores.append(rw)\n",
        "    return np.mean(scores)"
      ],
      "execution_count": null,
      "outputs": []
    },
    {
      "cell_type": "code",
      "metadata": {
        "id": "pekZ5hube7jg",
        "colab_type": "code",
        "colab": {}
      },
      "source": [
        ""
      ],
      "execution_count": null,
      "outputs": []
    },
    {
      "cell_type": "code",
      "metadata": {
        "id": "Zb1yTMimS19n",
        "colab_type": "code",
        "colab": {}
      },
      "source": [
        ""
      ],
      "execution_count": null,
      "outputs": []
    },
    {
      "cell_type": "code",
      "metadata": {
        "id": "HtPlFP_N91Sn",
        "colab_type": "code",
        "colab": {}
      },
      "source": [
        ""
      ],
      "execution_count": null,
      "outputs": []
    },
    {
      "cell_type": "code",
      "metadata": {
        "id": "5jzHURCR91WX",
        "colab_type": "code",
        "colab": {}
      },
      "source": [
        ""
      ],
      "execution_count": null,
      "outputs": []
    }
  ]
}